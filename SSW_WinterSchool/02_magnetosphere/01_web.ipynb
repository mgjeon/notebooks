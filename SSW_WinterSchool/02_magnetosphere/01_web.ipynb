{
 "cells": [
  {
   "cell_type": "markdown",
   "metadata": {},
   "source": [
    "# May 2024 Solar Storms\n",
    "\n",
    "- CDAWeb: NASA data center\n",
    "    - https://cdaweb.gsfc.nasa.gov/\n",
    "\n",
    "- SSCWeb: 위성 궤도 플롯\n",
    "    - https://sscweb.gsfc.nasa.gov/\n"
   ]
  },
  {
   "cell_type": "markdown",
   "metadata": {},
   "source": [
    "## CDAWeb\n",
    "\n",
    "- OMNI (Combined 1AU IP Data; Magnetic and Solar Indices)\n",
    "    - OMNI_HRO2_5MIN\n",
    "    - OMNI2_H0_MRG1HR\n",
    "\n",
    "- 2024/05/10 00:00:00.000 - 2024/05/15 00:00:00.000 \n",
    "- Plot Data\n",
    "\n",
    "- OMNI_HRO2_5MIN\n",
    "    - https://omniweb.gsfc.nasa.gov/html/omni_min_data.html\n",
    "    - By (nT), GSM, determined from post-shift GSE components\n",
    "    - Bz (nT), GSM, determined from post-shift GSE components\n",
    "    - Flow Speed (km/s), GSE\n",
    "    - Proton density (n/cc) (last currently-available OMNI plasma data Dec 26, 2024)\n",
    "    - Flow pressure (nPa)\n",
    "    - Bow Shock Nose (Re) location, X, GSE | ~ magnetopause location\n",
    "    - AE - 5-minute AE-index, from WDC Kyoto (Final 1988/001-1988/182, Provisional 2024/131-2024/135)\n",
    "    - SYM/H - 5-minute SYM/H index,from WDC Kyoto (1981/001-2024/366) | ~ Dst\n",
    "\n",
    "- OMNI2_H0_MRG1HR\n",
    "    - https://omniweb.gsfc.nasa.gov/html/ow_data.html\n",
    "    - 1AU IP By (nT), GSM (half-hour midpoint)\n",
    "    - 1AU IP Bz (nT), GSM (half-hour midpoint)\n",
    "    - 1AU IP Ion number density (per cc) (half-hour midpoint)\n",
    "    - 1AU IP plasma flow speed (km/s) (half-hour midpoint)\n",
    "    - 1AU IP Flow pressure (nPa) (half-hour midpoint)\n",
    "    - Kp - 3-hour Kp*10 (Kp=1-,1,1+ corresponds to 7,10,13), fromNGDC (1963/001-2025/009) (half-hour midpoint)\n",
    "    - Dst - 1-hour Dst index (1963/001-2014/366), Provisional Dst (2021/001-2024/182), Quick-look Dst (2024/183-2025/009), from WDC Kyoto (half-hour midpoint)\n",
    "    - AE - 1-hour AE-index,from WDC Kyoto (1963/001-1988/182), Provisional (1990/001-2019/365), from WDC Kyoto (half-hour midpoint)"
   ]
  },
  {
   "cell_type": "markdown",
   "metadata": {},
   "source": [
    "- OMNI_HRO2_5MIN\n",
    "\n",
    "![](fig/OMNI_HRO2_5MIN_3717261_000.png)"
   ]
  },
  {
   "cell_type": "markdown",
   "metadata": {},
   "source": [
    "- OMNI2_H0_MRG1HR\n",
    "\n",
    "![](fig/OMNI2_H0_MRG1HR_3717261_001.png)"
   ]
  },
  {
   "cell_type": "markdown",
   "metadata": {},
   "source": [
    "List Data (ASCII/CSV)를 선택하면 데이터를 다운받을 수 있다."
   ]
  },
  {
   "cell_type": "markdown",
   "metadata": {},
   "source": [
    "## SSCWeb\n",
    "\n",
    "- Graphics\n",
    "- Locator Graphics\n",
    "- GOES-10 - GOES-19\n",
    "- 2024/05/10 00:00:00 - 2024/05/15 00:00:00\n",
    "- Plot\n",
    "\n",
    "```\n",
    "LOCATOR_GRAPHICS_GENERAL OUTPUT:\n",
    "ORBIT_GOES14\n",
    "ORBIT_GOES16\n",
    "ORBIT_GOES17\n",
    "ORBIT_GOES18\n",
    "```\n",
    "\n",
    "해당 기간에는 GOES-14, 16, 17, 18 위성 데이터만 사용가능하다는 뜻\n",
    "\n",
    "![](fig/ORBIT_3724783_001.gif)"
   ]
  },
  {
   "cell_type": "markdown",
   "metadata": {},
   "source": [
    "- Plot Options\n",
    "- Interface Style\n",
    "    - Advanced\n",
    "\n",
    "(Use OMNI Data)\n",
    "- Use Solar Wind Pressure equal to: 40 nP\n",
    "- Use IMF Bz equal to: -40 nT\n",
    "\n",
    "- Plot\n",
    "\n",
    "![](fig/ORBIT_3726209_001.gif)"
   ]
  },
  {
   "cell_type": "markdown",
   "metadata": {},
   "source": [
    "왼쪽부터 첫번째 곡선이 Bow shock, 두번째 곡선이 Magnetopause이다 (모델 추정 위치). 따라서, storm 기간동안 위성들이 magnetopause 밖으로 나갔을 것이라 추정 가능하다."
   ]
  },
  {
   "cell_type": "markdown",
   "metadata": {},
   "source": [
    "- Graphics\n",
    "- Locator Graphics\n",
    "- GOES-14, 16, 17, 18\n",
    "- 2024/05/10 15:00:00 - 2024/05/10 21:00:00\n",
    "- Use Solar Wind Pressure equal to: 40 nP\n",
    "- Use IMF Bz equal to: -40 nT\n",
    "- Plot\n",
    "\n",
    "![](fig/ORBIT_3741111_001.gif)"
   ]
  },
  {
   "cell_type": "markdown",
   "metadata": {},
   "source": [
    "- Listings\n",
    "- Locator Tabular\n",
    "- GOES-14, 16, 17, 18\n",
    "- 2024/05/10 15:00:00 - 2024/05/10 21:00:00\n",
    "- Output Options\n",
    "---\n",
    "- GSE - XYZ, LATLON, LOCALTIME\n",
    "- GSM - XYZ\n",
    "- SM - XYZ, LOCALTIME\n",
    "---\n",
    "- Submit query and wait for output"
   ]
  },
  {
   "cell_type": "markdown",
   "metadata": {},
   "source": [
    "## CDAWeb\n",
    "\n",
    "- GOES\n",
    "- DN_MAGN-L2-HIRES_G18\n",
    "    - Estimated ambient magnetometer data in Geocentric Solar Ecliptic coordinates (x, y, z)\n",
    "- DN_MAGN-L2-HIRES_G17\n",
    "    - Magnetic field in Geocentric Solar Ecliptic (GSE) coordinates (x, y, z)\n",
    "- DN_MAGN-L2-HIRES_G16\n",
    "    - Magnetic field in Geocentric Solar Ecliptic (GSE) coordinates (x, y, z)\n",
    "- DN_MAGN-L2-HIRES_G14\n",
    "    - Magnetic field in Geocentric Solar Ecliptic (GSE) coordinates (x, y, z)\n",
    "\n",
    "---\n",
    "- 2024/05/10 15:00:00.000 - 2024/05/10 21:00:00.000\n",
    "- Plot Data\n",
    "\n",
    "![](fig/GOES-16_MAGN-L2-HIRES_DN_62902_001.png)\n",
    "![](fig/GOES-18_MAGN-L2-HIRES_DN_62902_000.png)"
   ]
  },
  {
   "cell_type": "markdown",
   "metadata": {},
   "source": [
    "# THEMIS\n",
    "\n",
    "- SSCWeb\n",
    "- Graphics\n",
    "- Locator Graphics\n",
    "- THEMIS-A(P5), D(P3), E(P4)\n",
    "- 2024/05/10 13:00:00 - 2024/05/10 20:00:00\n",
    "\n",
    "- Plot Options\n",
    "- XY, XZ\n",
    "- Manual Scale\n",
    "    - X: -1, 13\n",
    "    - Y: -5, 5\n",
    "    - Z: -5, 1\n",
    "- Interface Style - Advanced\n",
    "    - Use Solar Wind Pressure equal to: 40 nP\n",
    "    - Use IMF Bz equal to: -40 nT\n",
    "\n",
    "![](fig/ORBIT_128704_001.gif)"
   ]
  },
  {
   "cell_type": "markdown",
   "metadata": {},
   "source": [
    "- CDAWeb\n",
    "- THEMIS\n",
    "- THA_L2_FGM\n",
    "    - `---- FGS (spin-resolution/~3 sec) magnetic field B in XYZ GSE Coordinates`\n",
    "- THA_L2_GMOM\n",
    "    - `(Good data only) ESA+SST Full+Full Mode, Ion Density`\n",
    "    - `-----(Good Data Only)Ion Thermal Velocity`\n",
    "    - `-----Ion Energy Flux spectrogram(Good Data Only)`\n",
    "    - `-----Elec Energy Flux spectrogram(Good Data Only)`\n",
    "- 2024/05/10 13:00:00 - 2024/05/10 20:00:00\n",
    "\n",
    "![](fig/THA_L2_FGM_131657_000.png)\n",
    "![](fig/THA_L2_GMOM_132421_000.png)"
   ]
  },
  {
   "cell_type": "markdown",
   "metadata": {},
   "source": [
    "- CDAWeb\n",
    "- THEMIS\n",
    "- THA_L2_FGM\n",
    "    - `---- FGS (spin-resolution/~3 sec) magnetic field B in XYZ GSE Coordinates`\n",
    "- THA_L2_GMOM\n",
    "    - `(Good data only) ESA+SST Full+Full Mode, Ion Density`\n",
    "    - `-----(Good Data Only)Ion Thermal Velocity`\n",
    "    - `-----Ion Energy Flux spectrogram(Good Data Only)`\n",
    "    - `-----Elec Energy Flux spectrogram(Good Data Only)`\n",
    "- 2024/05/10 13:00:00 - 2024/05/10 20:00:00\n",
    "\n",
    "![](fig/THA_L2_FGM_131657_000.png)\n",
    "![](fig/THA_L2_GMOM_132421_000.png)"
   ]
  },
  {
   "cell_type": "markdown",
   "metadata": {},
   "source": [
    "- CDAWeb\n",
    "- THEMIS\n",
    "- THE_L2_FGM\n",
    "    - `---- FGS (spin-resolution/~3 sec) magnetic field B in XYZ GSE Coordinates`\n",
    "- THE_L2_GMOM\n",
    "    - `(All qualities data) ESA Reduced (Low Angular Res., 3-s Time Res.) SST Full(High Angular Res, Variable Time Res) Mode, Ion Density`\n",
    "        - `-----Ion Energy Flux spectrogram`\n",
    "- 2015/03/17 03:00:00 - 2015/03/17 12:00:00\n",
    "\n",
    "![](fig/THE_L2_FGM_142827_000.png)\n",
    "![](fig/THE_L2_GMOM_143344_001.png)"
   ]
  },
  {
   "cell_type": "code",
   "execution_count": null,
   "metadata": {},
   "outputs": [],
   "source": []
  },
  {
   "cell_type": "markdown",
   "metadata": {},
   "source": []
  }
 ],
 "metadata": {
  "kernelspec": {
   "display_name": "python3",
   "language": "python",
   "name": "python3"
  }
 },
 "nbformat": 4,
 "nbformat_minor": 4
}

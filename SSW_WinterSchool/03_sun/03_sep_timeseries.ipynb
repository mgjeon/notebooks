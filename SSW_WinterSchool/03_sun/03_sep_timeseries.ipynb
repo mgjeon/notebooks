{
 "cells": [
  {
   "cell_type": "code",
   "execution_count": null,
   "metadata": {},
   "outputs": [],
   "source": [
    "import matplotlib.pyplot as plt\n",
    "\n",
    "import astropy.units as u\n",
    "from astropy.time import Time\n",
    "from astropy.visualization import quantity_support, time_support\n",
    "\n",
    "from sunpy.net import Fido\n",
    "from sunpy.net import attrs as a\n",
    "from sunpy.time import parse_time\n",
    "from sunpy.time import TimeRange\n",
    "from sunpy.timeseries import TimeSeries"
   ]
  },
  {
   "cell_type": "code",
   "execution_count": null,
   "metadata": {},
   "outputs": [],
   "source": [
    "from astropy.io import ascii\n",
    "from astropy.table import Table"
   ]
  },
  {
   "cell_type": "code",
   "execution_count": null,
   "metadata": {},
   "outputs": [
    {
     "data": {
      "text/html": [
       "<div><i>Table length=10079</i>\n",
       "<table id=\"table5574658512\" class=\"table-striped table-bordered table-condensed\">\n",
       "<thead><tr><th>col1</th><th>col2</th><th>col3</th></tr></thead>\n",
       "<thead><tr><th>str10</th><th>str12</th><th>float64</th></tr></thead>\n",
       "<tr><td>22-03-2024</td><td>00:00:09.000</td><td>0.0</td></tr>\n",
       "<tr><td>22-03-2024</td><td>00:01:09.000</td><td>0.0</td></tr>\n",
       "<tr><td>22-03-2024</td><td>00:02:09.000</td><td>0.0</td></tr>\n",
       "<tr><td>22-03-2024</td><td>00:03:09.000</td><td>0.0</td></tr>\n",
       "<tr><td>22-03-2024</td><td>00:04:09.000</td><td>0.0</td></tr>\n",
       "<tr><td>22-03-2024</td><td>00:05:09.000</td><td>0.0</td></tr>\n",
       "<tr><td>22-03-2024</td><td>00:06:09.000</td><td>0.000315373</td></tr>\n",
       "<tr><td>22-03-2024</td><td>00:07:09.000</td><td>0.0</td></tr>\n",
       "<tr><td>22-03-2024</td><td>00:08:09.000</td><td>0.000315373</td></tr>\n",
       "<tr><td>...</td><td>...</td><td>...</td></tr>\n",
       "<tr><td>28-03-2024</td><td>23:49:09.000</td><td>0.0034798</td></tr>\n",
       "<tr><td>28-03-2024</td><td>23:50:09.000</td><td>0.00378836</td></tr>\n",
       "<tr><td>28-03-2024</td><td>23:51:09.000</td><td>0.00410265</td></tr>\n",
       "<tr><td>28-03-2024</td><td>23:52:09.000</td><td>0.00504942</td></tr>\n",
       "<tr><td>28-03-2024</td><td>23:53:09.000</td><td>0.00378706</td></tr>\n",
       "<tr><td>28-03-2024</td><td>23:54:09.000</td><td>0.00505806</td></tr>\n",
       "<tr><td>28-03-2024</td><td>23:55:09.000</td><td>0.00441824</td></tr>\n",
       "<tr><td>28-03-2024</td><td>23:56:09.000</td><td>0.00410265</td></tr>\n",
       "<tr><td>28-03-2024</td><td>23:57:09.000</td><td>0.00536501</td></tr>\n",
       "<tr><td>28-03-2024</td><td>23:58:09.000</td><td>0.00441824</td></tr>\n",
       "</table></div>"
      ],
      "text/plain": [
       "<Table length=10079>\n",
       "   col1        col2         col3   \n",
       "  str10       str12       float64  \n",
       "---------- ------------ -----------\n",
       "22-03-2024 00:00:09.000         0.0\n",
       "22-03-2024 00:01:09.000         0.0\n",
       "22-03-2024 00:02:09.000         0.0\n",
       "22-03-2024 00:03:09.000         0.0\n",
       "22-03-2024 00:04:09.000         0.0\n",
       "22-03-2024 00:05:09.000         0.0\n",
       "22-03-2024 00:06:09.000 0.000315373\n",
       "22-03-2024 00:07:09.000         0.0\n",
       "22-03-2024 00:08:09.000 0.000315373\n",
       "       ...          ...         ...\n",
       "28-03-2024 23:49:09.000   0.0034798\n",
       "28-03-2024 23:50:09.000  0.00378836\n",
       "28-03-2024 23:51:09.000  0.00410265\n",
       "28-03-2024 23:52:09.000  0.00504942\n",
       "28-03-2024 23:53:09.000  0.00378706\n",
       "28-03-2024 23:54:09.000  0.00505806\n",
       "28-03-2024 23:55:09.000  0.00441824\n",
       "28-03-2024 23:56:09.000  0.00410265\n",
       "28-03-2024 23:57:09.000  0.00536501\n",
       "28-03-2024 23:58:09.000  0.00441824"
      ]
     },
     "execution_count": null,
     "metadata": {},
     "output_type": "execute_result"
    }
   ],
   "source": [
    "t = Table.read(\"STA_LB_IMPACT_861425.txt\", format=\"ascii\", data_start=2)\n",
    "t"
   ]
  },
  {
   "cell_type": "code",
   "execution_count": null,
   "metadata": {},
   "outputs": [
    {
     "ename": "UFuncTypeError",
     "evalue": "ufunc 'add' did not contain a loop with signature matching types (dtype('<U10'), dtype('<U1')) -> None",
     "output_type": "error",
     "traceback": [
      "\u001b[0;31m---------------------------------------------------------------------------\u001b[0m",
      "\u001b[0;31mUFuncTypeError\u001b[0m                            Traceback (most recent call last)",
      "Cell \u001b[0;32mIn[61], line 4\u001b[0m\n\u001b[1;32m      2\u001b[0m t[\u001b[38;5;124m'\u001b[39m\u001b[38;5;124mcol1\u001b[39m\u001b[38;5;124m'\u001b[39m] \u001b[38;5;241m=\u001b[39m t[\u001b[38;5;124m'\u001b[39m\u001b[38;5;124mcol1\u001b[39m\u001b[38;5;124m'\u001b[39m]\u001b[38;5;241m.\u001b[39mastype(\u001b[38;5;28mstr\u001b[39m)\n\u001b[1;32m      3\u001b[0m t[\u001b[38;5;124m'\u001b[39m\u001b[38;5;124mcol2\u001b[39m\u001b[38;5;124m'\u001b[39m] \u001b[38;5;241m=\u001b[39m t[\u001b[38;5;124m'\u001b[39m\u001b[38;5;124mcol2\u001b[39m\u001b[38;5;124m'\u001b[39m]\u001b[38;5;241m.\u001b[39mastype(\u001b[38;5;28mstr\u001b[39m)\n\u001b[0;32m----> 4\u001b[0m t[\u001b[38;5;124m'\u001b[39m\u001b[38;5;124mtime\u001b[39m\u001b[38;5;124m'\u001b[39m] \u001b[38;5;241m=\u001b[39m \u001b[43mt\u001b[49m\u001b[43m[\u001b[49m\u001b[38;5;124;43m'\u001b[39;49m\u001b[38;5;124;43mcol1\u001b[39;49m\u001b[38;5;124;43m'\u001b[39;49m\u001b[43m]\u001b[49m\u001b[43m \u001b[49m\u001b[38;5;241;43m+\u001b[39;49m\u001b[43m \u001b[49m\u001b[38;5;124;43m'\u001b[39;49m\u001b[38;5;124;43m \u001b[39;49m\u001b[38;5;124;43m'\u001b[39;49m \u001b[38;5;241m+\u001b[39m t[\u001b[38;5;124m'\u001b[39m\u001b[38;5;124mcol2\u001b[39m\u001b[38;5;124m'\u001b[39m]\n\u001b[1;32m      5\u001b[0m t[\u001b[38;5;124m'\u001b[39m\u001b[38;5;124mtime\u001b[39m\u001b[38;5;124m'\u001b[39m] \u001b[38;5;241m=\u001b[39m Time(t[\u001b[38;5;124m'\u001b[39m\u001b[38;5;124mtime\u001b[39m\u001b[38;5;124m'\u001b[39m], \u001b[38;5;28mformat\u001b[39m\u001b[38;5;241m=\u001b[39m\u001b[38;5;124m'\u001b[39m\u001b[38;5;124miso\u001b[39m\u001b[38;5;124m'\u001b[39m)\n\u001b[1;32m      6\u001b[0m t\n",
      "\u001b[0;31mUFuncTypeError\u001b[0m: ufunc 'add' did not contain a loop with signature matching types (dtype('<U10'), dtype('<U1')) -> None"
     ]
    }
   ],
   "source": [
    "# concate col1 and col2 to get the time\n",
    "t['col1'] = t['col1'].astype(str)\n",
    "t['col2'] = t['col2'].astype(str)\n",
    "t['time'] = "
   ]
  },
  {
   "cell_type": "code",
   "execution_count": null,
   "metadata": {},
   "outputs": [
    {
     "ename": "UFuncTypeError",
     "evalue": "ufunc 'add' did not contain a loop with signature matching types (dtype('<U10'), dtype('<U12')) -> None",
     "output_type": "error",
     "traceback": [
      "\u001b[0;31m---------------------------------------------------------------------------\u001b[0m",
      "\u001b[0;31mUFuncTypeError\u001b[0m                            Traceback (most recent call last)",
      "Cell \u001b[0;32mIn[53], line 2\u001b[0m\n\u001b[1;32m      1\u001b[0m t \u001b[38;5;241m=\u001b[39m ascii\u001b[38;5;241m.\u001b[39mread(\u001b[38;5;124m\"\u001b[39m\u001b[38;5;124mSTA_LB_IMPACT_861425.txt\u001b[39m\u001b[38;5;124m\"\u001b[39m, data_start\u001b[38;5;241m=\u001b[39m\u001b[38;5;241m2\u001b[39m)\n\u001b[0;32m----> 2\u001b[0m \u001b[43mt\u001b[49m\u001b[43m[\u001b[49m\u001b[38;5;124;43m'\u001b[39;49m\u001b[38;5;124;43mcol1\u001b[39;49m\u001b[38;5;124;43m'\u001b[39;49m\u001b[43m]\u001b[49m\u001b[38;5;241;43m+\u001b[39;49m\u001b[43mt\u001b[49m\u001b[43m[\u001b[49m\u001b[38;5;124;43m'\u001b[39;49m\u001b[38;5;124;43mcol2\u001b[39;49m\u001b[38;5;124;43m'\u001b[39;49m\u001b[43m]\u001b[49m\n",
      "\u001b[0;31mUFuncTypeError\u001b[0m: ufunc 'add' did not contain a loop with signature matching types (dtype('<U10'), dtype('<U12')) -> None"
     ]
    }
   ],
   "source": [
    "t = ascii.read(\"STA_LB_IMPACT_861425.txt\", data_start=2)"
   ]
  },
  {
   "cell_type": "code",
   "execution_count": null,
   "metadata": {},
   "outputs": [],
   "source": [
    "time_event_start = Time('2024-03-23 00:00:00')\n",
    "time_event_end   = Time('2024-03-23 04:00:00')"
   ]
  },
  {
   "cell_type": "code",
   "execution_count": null,
   "metadata": {},
   "outputs": [],
   "source": [
    "q_stereo = Fido.search(\n",
    "    a.Time(time_event_start, time_event_end+4*u.day),\n",
    "    a.cdaweb.Dataset('STA_LB_IMPACT')\n",
    ")"
   ]
  },
  {
   "cell_type": "code",
   "execution_count": null,
   "metadata": {},
   "outputs": [
    {
     "data": {
      "text/html": [
       "Results from 1 Provider:</br></br>5 Results from the CDAWEBClient:</br><div><i>QueryResponseTable length=5</i>\n",
       "<table id=\"table4365769040\" class=\"table-striped table-bordered table-condensed\">\n",
       "<thead><tr><th>Dataset</th><th>Start time</th><th>End time</th><th>URL</th></tr></thead>\n",
       "<thead><tr><th>str13</th><th>str23</th><th>str23</th><th>str97</th></tr></thead>\n",
       "<tr><td>STA_LB_IMPACT</td><td>2024-03-23 00:00:09.000</td><td>2024-03-23 23:59:09.000</td><td>https://cdaweb.gsfc.nasa.gov/sp_phys/data/stereo/ahead/beacon/2024/sta_lb_impact_20240323_v02.cdf</td></tr>\n",
       "<tr><td>STA_LB_IMPACT</td><td>2024-03-24 00:00:09.000</td><td>2024-03-24 23:59:09.000</td><td>https://cdaweb.gsfc.nasa.gov/sp_phys/data/stereo/ahead/beacon/2024/sta_lb_impact_20240324_v02.cdf</td></tr>\n",
       "<tr><td>STA_LB_IMPACT</td><td>2024-03-25 00:00:09.000</td><td>2024-03-25 23:59:09.000</td><td>https://cdaweb.gsfc.nasa.gov/sp_phys/data/stereo/ahead/beacon/2024/sta_lb_impact_20240325_v02.cdf</td></tr>\n",
       "<tr><td>STA_LB_IMPACT</td><td>2024-03-26 00:00:09.000</td><td>2024-03-26 23:59:09.000</td><td>https://cdaweb.gsfc.nasa.gov/sp_phys/data/stereo/ahead/beacon/2024/sta_lb_impact_20240326_v02.cdf</td></tr>\n",
       "<tr><td>STA_LB_IMPACT</td><td>2024-03-27 00:00:09.000</td><td>2024-03-27 23:59:09.000</td><td>https://cdaweb.gsfc.nasa.gov/sp_phys/data/stereo/ahead/beacon/2024/sta_lb_impact_20240327_v02.cdf</td></tr>\n",
       "</table></div></br>"
      ],
      "text/plain": [
       "<sunpy.net.fido_factory.UnifiedResponse object>\n",
       "Results from 1 Provider:\n",
       "\n",
       "5 Results from the CDAWEBClient:\n",
       "Source: https://cdaweb.gsfc.nasa.gov/index.html\n",
       "\n",
       "   Dataset           Start time               End time       \n",
       "------------- ----------------------- -----------------------\n",
       "STA_LB_IMPACT 2024-03-23 00:00:09.000 2024-03-23 23:59:09.000\n",
       "STA_LB_IMPACT 2024-03-24 00:00:09.000 2024-03-24 23:59:09.000\n",
       "STA_LB_IMPACT 2024-03-25 00:00:09.000 2024-03-25 23:59:09.000\n",
       "STA_LB_IMPACT 2024-03-26 00:00:09.000 2024-03-26 23:59:09.000\n",
       "STA_LB_IMPACT 2024-03-27 00:00:09.000 2024-03-27 23:59:09.000\n"
      ]
     },
     "execution_count": null,
     "metadata": {},
     "output_type": "execute_result"
    }
   ],
   "source": [
    "q_stereo"
   ]
  },
  {
   "cell_type": "code",
   "execution_count": null,
   "metadata": {},
   "outputs": [
    {
     "data": {
      "application/vnd.jupyter.widget-view+json": {
       "model_id": "8182c4ddff454a4a87805109d84a5103",
       "version_major": 2,
       "version_minor": 0
      },
      "text/plain": [
       "Files Downloaded:   0%|          | 0/5 [00:00<?, ?file/s]"
      ]
     },
     "metadata": {},
     "output_type": "display_data"
    }
   ],
   "source": [
    "files_stereo = Fido.fetch(q_stereo, path='data/in_situ/stereo', max_conn=1)"
   ]
  },
  {
   "cell_type": "code",
   "execution_count": null,
   "metadata": {},
   "outputs": [
    {
     "name": "stderr",
     "output_type": "stream",
     "text": [
      "WARNING: SunpyUserWarning: No units provided for variable \"ISCStatus\". Assigning dimensionless units. [sunpy.io._cdf]\n",
      "2025-01-15 08:11:18 - sunpy - WARNING: SunpyUserWarning: No units provided for variable \"ISCStatus\". Assigning dimensionless units.\n",
      "WARNING: SunpyUserWarning: No units provided for variable \"InterfaceActive\". Assigning dimensionless units. [sunpy.io._cdf]\n",
      "2025-01-15 08:11:18 - sunpy - WARNING: SunpyUserWarning: No units provided for variable \"InterfaceActive\". Assigning dimensionless units.\n",
      "WARNING: SunpyUserWarning: No units provided for variable \"MAGHKP\". Assigning dimensionless units. [sunpy.io._cdf]\n",
      "2025-01-15 08:11:18 - sunpy - WARNING: SunpyUserWarning: No units provided for variable \"MAGHKP\". Assigning dimensionless units.\n",
      "WARNING: SunpyUserWarning: astropy did not recognize units of \"cnts/cm^2/s\". Assigning dimensionless units. If you think this unit should not be dimensionless, please raise an issue at https://github.com/sunpy/sunpy/issues [sunpy.io._cdf]\n",
      "2025-01-15 08:11:18 - sunpy - WARNING: SunpyUserWarning: astropy did not recognize units of \"cnts/cm^2/s\". Assigning dimensionless units. If you think this unit should not be dimensionless, please raise an issue at https://github.com/sunpy/sunpy/issues\n",
      "WARNING: SunpyUserWarning: No units provided for variable \"STEModeID\". Assigning dimensionless units. [sunpy.io._cdf]\n",
      "2025-01-15 08:11:18 - sunpy - WARNING: SunpyUserWarning: No units provided for variable \"STEModeID\". Assigning dimensionless units.\n",
      "WARNING: SunpyUserWarning: No units provided for variable \"SWEAModeID\". Assigning dimensionless units. [sunpy.io._cdf]\n",
      "2025-01-15 08:11:18 - sunpy - WARNING: SunpyUserWarning: No units provided for variable \"SWEAModeID\". Assigning dimensionless units.\n",
      "WARNING: SunpyUserWarning: astropy did not recognize units of \"1/cm^2-s-ster-MeV/nuc\". Assigning dimensionless units. If you think this unit should not be dimensionless, please raise an issue at https://github.com/sunpy/sunpy/issues [sunpy.io._cdf]\n",
      "2025-01-15 08:11:18 - sunpy - WARNING: SunpyUserWarning: astropy did not recognize units of \"1/cm^2-s-ster-MeV/nuc\". Assigning dimensionless units. If you think this unit should not be dimensionless, please raise an issue at https://github.com/sunpy/sunpy/issues\n",
      "WARNING: SunpyUserWarning: astropy did not recognize units of \"1/cm^2-s-ster-MeV\". Assigning dimensionless units. If you think this unit should not be dimensionless, please raise an issue at https://github.com/sunpy/sunpy/issues [sunpy.io._cdf]\n",
      "2025-01-15 08:11:18 - sunpy - WARNING: SunpyUserWarning: astropy did not recognize units of \"1/cm^2-s-ster-MeV\". Assigning dimensionless units. If you think this unit should not be dimensionless, please raise an issue at https://github.com/sunpy/sunpy/issues\n",
      "WARNING: SunpyUserWarning: No units provided for variable \"HETMode\". Assigning dimensionless units. [sunpy.io._cdf]\n",
      "2025-01-15 08:11:18 - sunpy - WARNING: SunpyUserWarning: No units provided for variable \"HETMode\". Assigning dimensionless units.\n",
      "WARNING: SunpyUserWarning: No units provided for variable \"LETCodeOK\". Assigning dimensionless units. [sunpy.io._cdf]\n",
      "2025-01-15 08:11:19 - sunpy - WARNING: SunpyUserWarning: No units provided for variable \"LETCodeOK\". Assigning dimensionless units.\n",
      "WARNING: SunpyUserWarning: No units provided for variable \"LETDyThState\". Assigning dimensionless units. [sunpy.io._cdf]\n",
      "2025-01-15 08:11:19 - sunpy - WARNING: SunpyUserWarning: No units provided for variable \"LETDyThState\". Assigning dimensionless units.\n",
      "WARNING: SunpyUserWarning: No units provided for variable \"LETHeaterDutyCycle\". Assigning dimensionless units. [sunpy.io._cdf]\n",
      "2025-01-15 08:11:19 - sunpy - WARNING: SunpyUserWarning: No units provided for variable \"LETHeaterDutyCycle\". Assigning dimensionless units.\n",
      "WARNING: SunpyUserWarning: No units provided for variable \"LETLeakConv\". Assigning dimensionless units. [sunpy.io._cdf]\n",
      "2025-01-15 08:11:19 - sunpy - WARNING: SunpyUserWarning: No units provided for variable \"LETLeakConv\". Assigning dimensionless units.\n",
      "WARNING: SunpyUserWarning: No units provided for variable \"LETMinute\". Assigning dimensionless units. [sunpy.io._cdf]\n",
      "2025-01-15 08:11:19 - sunpy - WARNING: SunpyUserWarning: No units provided for variable \"LETMinute\". Assigning dimensionless units.\n",
      "WARNING: SunpyUserWarning: No units provided for variable \"SEPTStatus\". Assigning dimensionless units. [sunpy.io._cdf]\n",
      "2025-01-15 08:11:19 - sunpy - WARNING: SunpyUserWarning: No units provided for variable \"SEPTStatus\". Assigning dimensionless units.\n",
      "WARNING: UnitsWarning: 'eV/cm^2/s' contains multiple slashes, which is discouraged by the FITS standard [astropy.units.format.generic]\n",
      "2025-01-15 08:11:19 - astropy - WARNING: UnitsWarning: 'eV/cm^2/s' contains multiple slashes, which is discouraged by the FITS standard\n",
      "WARNING: SunpyUserWarning: astropy did not recognize units of \"cnts/s\". Assigning dimensionless units. If you think this unit should not be dimensionless, please raise an issue at https://github.com/sunpy/sunpy/issues [sunpy.io._cdf]\n",
      "2025-01-15 08:11:19 - sunpy - WARNING: SunpyUserWarning: astropy did not recognize units of \"cnts/s\". Assigning dimensionless units. If you think this unit should not be dimensionless, please raise an issue at https://github.com/sunpy/sunpy/issues\n",
      "WARNING: SunpyUserWarning: The variable \"SWEAPAD\" has been skipped because it has more than 2 dimensions, which is unsupported. [sunpy.io._cdf]\n",
      "2025-01-15 08:11:19 - sunpy - WARNING: SunpyUserWarning: The variable \"SWEAPAD\" has been skipped because it has more than 2 dimensions, which is unsupported.\n"
     ]
    }
   ],
   "source": [
    "ts_stereo = TimeSeries('data/in_situ/stereo/sta_lb*.cdf', concatenate=True)"
   ]
  },
  {
   "cell_type": "code",
   "execution_count": null,
   "metadata": {},
   "outputs": [
    {
     "data": {
      "text/plain": [
       "['ISCStatus',\n",
       " 'InterfaceActive',\n",
       " 'MAGHKP',\n",
       " 'STED_0',\n",
       " 'STED_1',\n",
       " 'STED_2',\n",
       " 'STED_3',\n",
       " 'STED_4',\n",
       " 'STEModeID',\n",
       " 'STEUns_0',\n",
       " 'STEUns_1',\n",
       " 'STEUns_2',\n",
       " 'STEUns_3',\n",
       " 'STEUns_4',\n",
       " 'STEUs_0',\n",
       " 'STEUs_1',\n",
       " 'STEUs_2',\n",
       " 'STEUs_3',\n",
       " 'STEUs_4',\n",
       " 'SWEAModeID',\n",
       " 'MAGBField_0',\n",
       " 'MAGBField_1',\n",
       " 'MAGBField_2',\n",
       " 'HETCNOCnts_0',\n",
       " 'HETCNOCnts_1',\n",
       " 'HETCNOFlux_0',\n",
       " 'HETCNOFlux_1',\n",
       " 'HETElectronCnts',\n",
       " 'HETElectronFlux',\n",
       " 'HETFeCnts',\n",
       " 'HETFeFlux',\n",
       " 'HETHeCnts_0',\n",
       " 'HETHeCnts_1',\n",
       " 'HETHeCnts_2',\n",
       " 'HETHeFlux_0',\n",
       " 'HETHeFlux_1',\n",
       " 'HETHeFlux_2',\n",
       " 'HETLiveTime',\n",
       " 'HETMode',\n",
       " 'HETProtonCnts_0',\n",
       " 'HETProtonCnts_1',\n",
       " 'HETProtonCnts_2',\n",
       " 'HETProtonFlux_0',\n",
       " 'HETProtonFlux_1',\n",
       " 'HETProtonFlux_2',\n",
       " 'LET3HeCnts_0',\n",
       " 'LET3HeCnts_1',\n",
       " 'LET3HeFlux_0',\n",
       " 'LET3HeFlux_1',\n",
       " 'LET4HeCnts_0',\n",
       " 'LET4HeCnts_1',\n",
       " 'LET4HeCnts_2',\n",
       " 'LET4HeCnts_3',\n",
       " 'LET4HeCnts_4',\n",
       " 'LET4HeFlux_0',\n",
       " 'LET4HeFlux_1',\n",
       " 'LET4HeFlux_2',\n",
       " 'LET4HeFlux_3',\n",
       " 'LET4HeFlux_4',\n",
       " 'LETAcceptRate',\n",
       " 'LETCNOCnts_0',\n",
       " 'LETCNOCnts_1',\n",
       " 'LETCNOCnts_2',\n",
       " 'LETCNOFlux_0',\n",
       " 'LETCNOFlux_1',\n",
       " 'LETCNOFlux_2',\n",
       " 'LETCodeOK',\n",
       " 'LETDyThState',\n",
       " 'LETFeCnts_0',\n",
       " 'LETFeCnts_1',\n",
       " 'LETFeCnts_2',\n",
       " 'LETFeCnts_3',\n",
       " 'LETFeFlux_0',\n",
       " 'LETFeFlux_1',\n",
       " 'LETFeFlux_2',\n",
       " 'LETFeFlux_3',\n",
       " 'LETHazRate',\n",
       " 'LETHeaterDutyCycle',\n",
       " 'LETLeakConv',\n",
       " 'LETLiveTime',\n",
       " 'LETMinute',\n",
       " 'LETProtonCnts_0',\n",
       " 'LETProtonCnts_1',\n",
       " 'LETProtonCnts_2',\n",
       " 'LETProtonCnts_3',\n",
       " 'LETProtonFlux_0',\n",
       " 'LETProtonFlux_1',\n",
       " 'LETProtonFlux_2',\n",
       " 'LETProtonFlux_3',\n",
       " 'LETTrigRate',\n",
       " 'SCHETElectrons',\n",
       " 'SCHETProtons',\n",
       " 'SCLETCNO',\n",
       " 'SCLETFe',\n",
       " 'SCLETHe',\n",
       " 'SCLETProtons',\n",
       " 'SCSEPTElectrons',\n",
       " 'SCSEPTIons1',\n",
       " 'SCSEPTIons2',\n",
       " 'SCSITCNO',\n",
       " 'SCSITFe',\n",
       " 'SCSITHe',\n",
       " 'SEPTElectronCnts_0',\n",
       " 'SEPTElectronCnts_1',\n",
       " 'SEPTElectronCnts_2',\n",
       " 'SEPTElectronCnts_3',\n",
       " 'SEPTElectronCnts_4',\n",
       " 'SEPTElectronCnts_5',\n",
       " 'SEPTElectronCnts_6',\n",
       " 'SEPTElectronCnts_7',\n",
       " 'SEPTElectronCnts_8',\n",
       " 'SEPTElectronCnts_9',\n",
       " 'SEPTElectronFlux_0',\n",
       " 'SEPTElectronFlux_1',\n",
       " 'SEPTElectronFlux_2',\n",
       " 'SEPTElectronFlux_3',\n",
       " 'SEPTElectronFlux_4',\n",
       " 'SEPTElectronFlux_5',\n",
       " 'SEPTElectronFlux_6',\n",
       " 'SEPTElectronFlux_7',\n",
       " 'SEPTElectronFlux_8',\n",
       " 'SEPTElectronFlux_9',\n",
       " 'SEPTIonCnts_0',\n",
       " 'SEPTIonCnts_1',\n",
       " 'SEPTIonCnts_2',\n",
       " 'SEPTIonCnts_3',\n",
       " 'SEPTIonCnts_4',\n",
       " 'SEPTIonCnts_5',\n",
       " 'SEPTIonCnts_6',\n",
       " 'SEPTIonCnts_7',\n",
       " 'SEPTIonCnts_8',\n",
       " 'SEPTIonCnts_9',\n",
       " 'SEPTIonFlux_0',\n",
       " 'SEPTIonFlux_1',\n",
       " 'SEPTIonFlux_2',\n",
       " 'SEPTIonFlux_3',\n",
       " 'SEPTIonFlux_4',\n",
       " 'SEPTIonFlux_5',\n",
       " 'SEPTIonFlux_6',\n",
       " 'SEPTIonFlux_7',\n",
       " 'SEPTIonFlux_8',\n",
       " 'SEPTIonFlux_9',\n",
       " 'SEPTStatus',\n",
       " 'SFHETElectrons',\n",
       " 'SFHETProtons',\n",
       " 'SFLETCNO',\n",
       " 'SFLETFe',\n",
       " 'SFLETHe',\n",
       " 'SFLETProtons',\n",
       " 'SFSEPTElectrons',\n",
       " 'SFSEPTIons1',\n",
       " 'SFSEPTIons2',\n",
       " 'SFSITCNO',\n",
       " 'SFSITFe',\n",
       " 'SFSITHe',\n",
       " 'SITCNOCnts_0',\n",
       " 'SITCNOCnts_1',\n",
       " 'SITCNOCnts_2',\n",
       " 'SITCNOCnts_3',\n",
       " 'SITCNOFlux_0',\n",
       " 'SITCNOFlux_1',\n",
       " 'SITCNOFlux_2',\n",
       " 'SITCNOFlux_3',\n",
       " 'SITFeCnts_0',\n",
       " 'SITFeCnts_1',\n",
       " 'SITFeCnts_2',\n",
       " 'SITFeCnts_3',\n",
       " 'SITFeFlux_0',\n",
       " 'SITFeFlux_1',\n",
       " 'SITFeFlux_2',\n",
       " 'SITFeFlux_3',\n",
       " 'SITHeCnts_0',\n",
       " 'SITHeCnts_1',\n",
       " 'SITHeCnts_2',\n",
       " 'SITHeCnts_3',\n",
       " 'SITHeFlux_0',\n",
       " 'SITHeFlux_1',\n",
       " 'SITHeFlux_2',\n",
       " 'SITHeFlux_3',\n",
       " 'He_0',\n",
       " 'He_1',\n",
       " 'He_2',\n",
       " 'MagAz',\n",
       " 'MagEl',\n",
       " 'Nelectrons',\n",
       " 'Pe_0',\n",
       " 'Pe_1',\n",
       " 'Pe_2',\n",
       " 'Pe_3',\n",
       " 'Pe_4',\n",
       " 'Pe_5',\n",
       " 'V0',\n",
       " 'Ve_0',\n",
       " 'Ve_1',\n",
       " 'Ve_2']"
      ]
     },
     "execution_count": null,
     "metadata": {},
     "output_type": "execute_result"
    }
   ],
   "source": [
    "ts_stereo.columns"
   ]
  },
  {
   "cell_type": "code",
   "execution_count": null,
   "metadata": {},
   "outputs": [
    {
     "data": {
      "text/plain": [
       "sunpy.timeseries.timeseriesbase.GenericTimeSeries"
      ]
     },
     "execution_count": null,
     "metadata": {},
     "output_type": "execute_result"
    }
   ],
   "source": [
    "type(ts_stereo)"
   ]
  },
  {
   "cell_type": "code",
   "execution_count": null,
   "metadata": {},
   "outputs": [],
   "source": []
  }
 ],
 "metadata": {
  "kernelspec": {
   "display_name": "python3",
   "language": "python",
   "name": "python3"
  }
 },
 "nbformat": 4,
 "nbformat_minor": 2
}

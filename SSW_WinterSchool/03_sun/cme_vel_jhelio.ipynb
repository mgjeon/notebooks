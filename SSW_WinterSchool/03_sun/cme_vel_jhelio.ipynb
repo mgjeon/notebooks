{
 "cells": [
  {
   "cell_type": "code",
   "execution_count": null,
   "metadata": {},
   "outputs": [],
   "source": [
    "import astropy.units as u\n",
    "from astropy.constants import c\n",
    "from astropy.time import Time"
   ]
  },
  {
   "cell_type": "code",
   "execution_count": null,
   "metadata": {},
   "outputs": [
    {
     "data": {
      "text/latex": [
       "$0.046204147 \\; \\mathrm{}$"
      ],
      "text/plain": [
       "<Quantity 0.04620415>"
      ]
     },
     "execution_count": null,
     "metadata": {},
     "output_type": "execute_result"
    }
   ],
   "source": [
    "(((1*u.AU)/(3*u.hour))/(c)).to(u.dimensionless_unscaled)"
   ]
  },
  {
   "cell_type": "code",
   "execution_count": null,
   "metadata": {},
   "outputs": [],
   "source": [
    "vs = [\n",
    "    942,\n",
    "    1470,\n",
    "    1613,\n",
    "    1780\n",
    "] * u.km/u.s"
   ]
  },
  {
   "cell_type": "code",
   "execution_count": null,
   "metadata": {},
   "outputs": [],
   "source": [
    "t0 = Time(\"2024-03-23T01:25\", scale=\"utc\")"
   ]
  },
  {
   "cell_type": "code",
   "execution_count": null,
   "metadata": {},
   "outputs": [
    {
     "data": {
      "text/plain": [
       "[<Time object: scale='utc' format='isot' value=2024-03-23T19:03:43.512>,\n",
       " <Time object: scale='utc' format='isot' value=2024-03-23T12:43:26.904>,\n",
       " <Time object: scale='utc' format='isot' value=2024-03-23T11:43:18.046>,\n",
       " <Time object: scale='utc' format='isot' value=2024-03-23T10:45:17.499>]"
      ]
     },
     "execution_count": null,
     "metadata": {},
     "output_type": "execute_result"
    }
   ],
   "source": [
    "[t0 + ((0.4*u.AU)/v).to(u.day) for v in vs]"
   ]
  },
  {
   "cell_type": "code",
   "execution_count": null,
   "metadata": {},
   "outputs": [],
   "source": [
    "times = [\n",
    "    Time(\"2024-03-23T01:25:53.339\", scale=\"utc\"),\n",
    "    Time(\"2024-03-23T01:36:30.132\", scale=\"utc\"),\n",
    "    Time(\"2024-03-23T01:48:07.523\", scale=\"utc\"),\n",
    "]\n",
    "\n",
    "radii = [\n",
    "    3.11,\n",
    "    4.35,\n",
    "    5.71,\n",
    "] * u.solRad"
   ]
  },
  {
   "cell_type": "code",
   "execution_count": null,
   "metadata": {},
   "outputs": [],
   "source": [
    "times_list = [t.mjd for t in times]\n",
    "radii_list = [r.value for r in radii]\n",
    "\n",
    "from astropy.modeling import models, fitting\n",
    "\n",
    "line = models.Linear1D()\n",
    "fitter = fitting.LinearLSQFitter()\n",
    "model = fitter(line, times_list, radii_list)"
   ]
  },
  {
   "cell_type": "code",
   "execution_count": null,
   "metadata": {},
   "outputs": [
    {
     "data": {
      "text/latex": [
       "$1354.7071 \\; \\mathrm{\\frac{km}{s}}$"
      ],
      "text/plain": [
       "<Quantity 1354.70710262 km / s>"
      ]
     },
     "execution_count": null,
     "metadata": {},
     "output_type": "execute_result"
    }
   ],
   "source": [
    "vel = (radii[1] - radii[0]) / (times[1] - times[0])\n",
    "vel.to(u.km/u.s)"
   ]
  },
  {
   "cell_type": "code",
   "execution_count": null,
   "metadata": {},
   "outputs": [
    {
     "data": {
      "text/latex": [
       "$1356.7023 \\; \\mathrm{\\frac{km}{s}}$"
      ],
      "text/plain": [
       "<Quantity 1356.70233771 km / s>"
      ]
     },
     "execution_count": null,
     "metadata": {},
     "output_type": "execute_result"
    }
   ],
   "source": [
    "vel = (radii[2] - radii[1]) / (times[2] - times[1])\n",
    "vel.to(u.km/u.s)"
   ]
  },
  {
   "cell_type": "code",
   "execution_count": null,
   "metadata": {},
   "outputs": [
    {
     "data": {
      "text/latex": [
       "$1.2762246 \\; \\mathrm{d}$"
      ],
      "text/plain": [
       "<Quantity 1.27622455 d>"
      ]
     },
     "execution_count": null,
     "metadata": {},
     "output_type": "execute_result"
    }
   ],
   "source": [
    "((1*u.au)/vel).to(u.day)"
   ]
  },
  {
   "cell_type": "code",
   "execution_count": null,
   "metadata": {},
   "outputs": [
    {
     "data": {
      "text/plain": [
       "<Time object: scale='utc' format='isot' value=2024-03-24T08:03:39.141>"
      ]
     },
     "execution_count": null,
     "metadata": {},
     "output_type": "execute_result"
    }
   ],
   "source": [
    "times[0] + ((1*u.au)/vel).to(u.day)"
   ]
  },
  {
   "cell_type": "code",
   "execution_count": null,
   "metadata": {},
   "outputs": [],
   "source": []
  }
 ],
 "metadata": {
  "kernelspec": {
   "display_name": "python3",
   "language": "python",
   "name": "python3"
  }
 },
 "nbformat": 4,
 "nbformat_minor": 2
}

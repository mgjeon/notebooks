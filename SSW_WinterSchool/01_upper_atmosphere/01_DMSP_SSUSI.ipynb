{
 "cells": [
  {
   "cell_type": "markdown",
   "metadata": {},
   "source": [
    "# SSUSI data products \n",
    "\n",
    "https://ssusi.jhuapl.edu/data_products"
   ]
  },
  {
   "cell_type": "markdown",
   "metadata": {},
   "source": [
    "## IDL PATH\n",
    "\n",
    "`read_ncdf.pro` -> IDL PATH"
   ]
  },
  {
   "cell_type": "markdown",
   "metadata": {},
   "source": [
    "## Data\n",
    "\n",
    "- 2024083: 2024-03-23\n",
    "- 2024084: 2024-03-24\n",
    "- 2024085: 2024-03-25\n",
    "\n",
    "- Auroral EDR (Data Type: EDR-AUR)\n",
    "    - F17_AUR\n",
    "    - F18_AUR"
   ]
  },
  {
   "cell_type": "markdown",
   "metadata": {},
   "source": [
    "- data/SSUSI/\n",
    "    - 2024083/\n",
    "        - F17/\n",
    "            - `PS.APL_V0105S027CE0008_SC.U_DI.A_GP.F17-SSUSI_PA.APL-EDR-AURORA_DD.20240323_SN.089700-00_DF.NC`\n",
    "            - ...\n",
    "            - `PS.APL_V0105S027CE0008_SC.U_DI.A_GP.F17-SSUSI_PA.APL-EDR-AURORA_DD.20240323_SN.089714-00_DF.NC`\n",
    "        - F18/\n",
    "            - `PS.APL_V0105S027CB0007_SC.U_DI.A_GP.F18-SSUSI_PA.APL-EDR-AURORA_DD.20240323_SN.074417-00_DF.NC`\n",
    "            - ...\n",
    "            - `PS.APL_V0105S027CB0007_SC.U_DI.A_GP.F18-SSUSI_PA.APL-EDR-AURORA_DD.20240323_SN.074431-00_DF.NC`\n",
    "\n",
    "    - 2024084/\n",
    "        - F17/\n",
    "            - `PS.APL_V0105S027CE0008_SC.U_DI.A_GP.F17-SSUSI_PA.APL-EDR-AURORA_DD.20240324_SN.089714-00_DF.NC`\n",
    "            - ...\n",
    "            - `PS.APL_V0105S027CE0008_SC.U_DI.A_GP.F17-SSUSI_PA.APL-EDR-AURORA_DD.20240324_SN.089728-00_DF.NC`\n",
    "        - F18/\n",
    "            - `PS.APL_V0105S027CB0007_SC.U_DI.A_GP.F18-SSUSI_PA.APL-EDR-AURORA_DD.20240324_SN.074431-00_DF.NC`\n",
    "            - ...\n",
    "            - `PS.APL_V0105S027CB0007_SC.U_DI.A_GP.F18-SSUSI_PA.APL-EDR-AURORA_DD.20240324_SN.074445-00_DF.NC`\n",
    "\n",
    "    - 2024085/\n",
    "        - F17/\n",
    "            - `PS.APL_V0105S027CE0008_SC.U_DI.A_GP.F17-SSUSI_PA.APL-EDR-AURORA_DD.20240324_SN.089714-00_DF.NC`\n",
    "            - ...\n",
    "            - `PS.APL_V0105S027CE0008_SC.U_DI.A_GP.F17-SSUSI_PA.APL-EDR-AURORA_DD.20240324_SN.089728-00_DF.NC`\n",
    "        - F18/\n",
    "            - `PS.APL_V0105S027CB0007_SC.U_DI.A_GP.F18-SSUSI_PA.APL-EDR-AURORA_DD.20240324_SN.074431-00_DF.NC`\n",
    "            - ...\n",
    "            - `PS.APL_V0105S027CB0007_SC.U_DI.A_GP.F18-SSUSI_PA.APL-EDR-AURORA_DD.20240324_SN.074445-00_DF.NC`"
   ]
  },
  {
   "cell_type": "markdown",
   "metadata": {},
   "source": [
    "`EdrAurPlot_winterSchool.pro`\n",
    "\n",
    "```\n",
    "eventdate = '2024084'\n",
    "path = './data/SSUSI/'+eventdate+'/F17/'\n",
    "\n",
    "IDL> .compile -v './code/DMSP_SSUSI/EdrAurPlot_winterSchool.pro'\n",
    "IDL> .go\n",
    "```\n",
    "\n",
    "\n",
    "```\n",
    "eventdate = '2024084'\n",
    "path = './data/SSUSI/'+eventdate+'/F18/'\n",
    "\n",
    "IDL> .compile -v './code/DMSP_SSUSI/EdrAurPlot_winterSchool.pro'\n",
    "IDL> .go\n",
    "```"
   ]
  },
  {
   "cell_type": "markdown",
   "metadata": {},
   "source": [
    "Install `ghostscript`"
   ]
  },
  {
   "cell_type": "code",
   "execution_count": null,
   "metadata": {},
   "outputs": [
    {
     "name": "stdout",
     "output_type": "stream",
     "text": [
      "Usage: ps2pdfwr [options...] (input.[e]ps|-) [output.pdf|-]\n"
     ]
    }
   ],
   "source": [
    "!ps2pdf --help"
   ]
  },
  {
   "cell_type": "code",
   "execution_count": null,
   "metadata": {},
   "outputs": [
    {
     "name": "stdout",
     "output_type": "stream",
     "text": [
      "15\n",
      "data/SSUSI/2024084/F17/SSUSIF17_2024084R089714_00_LBHS.ps data/SSUSI/2024084/F17/SSUSIF17_2024084R089714_00_LBHS.pdf\n",
      "data/SSUSI/2024084/F17/SSUSIF17_2024084R089715_00_LBHS.ps data/SSUSI/2024084/F17/SSUSIF17_2024084R089715_00_LBHS.pdf\n",
      "data/SSUSI/2024084/F17/SSUSIF17_2024084R089716_00_LBHS.ps data/SSUSI/2024084/F17/SSUSIF17_2024084R089716_00_LBHS.pdf\n",
      "data/SSUSI/2024084/F17/SSUSIF17_2024084R089717_00_LBHS.ps data/SSUSI/2024084/F17/SSUSIF17_2024084R089717_00_LBHS.pdf\n",
      "data/SSUSI/2024084/F17/SSUSIF17_2024084R089718_00_LBHS.ps data/SSUSI/2024084/F17/SSUSIF17_2024084R089718_00_LBHS.pdf\n",
      "data/SSUSI/2024084/F17/SSUSIF17_2024084R089719_00_LBHS.ps data/SSUSI/2024084/F17/SSUSIF17_2024084R089719_00_LBHS.pdf\n",
      "data/SSUSI/2024084/F17/SSUSIF17_2024084R089720_00_LBHS.ps data/SSUSI/2024084/F17/SSUSIF17_2024084R089720_00_LBHS.pdf\n",
      "data/SSUSI/2024084/F17/SSUSIF17_2024084R089721_00_LBHS.ps data/SSUSI/2024084/F17/SSUSIF17_2024084R089721_00_LBHS.pdf\n",
      "data/SSUSI/2024084/F17/SSUSIF17_2024084R089722_00_LBHS.ps data/SSUSI/2024084/F17/SSUSIF17_2024084R089722_00_LBHS.pdf\n",
      "data/SSUSI/2024084/F17/SSUSIF17_2024084R089723_00_LBHS.ps data/SSUSI/2024084/F17/SSUSIF17_2024084R089723_00_LBHS.pdf\n",
      "data/SSUSI/2024084/F17/SSUSIF17_2024084R089724_00_LBHS.ps data/SSUSI/2024084/F17/SSUSIF17_2024084R089724_00_LBHS.pdf\n",
      "data/SSUSI/2024084/F17/SSUSIF17_2024084R089725_00_LBHS.ps data/SSUSI/2024084/F17/SSUSIF17_2024084R089725_00_LBHS.pdf\n",
      "data/SSUSI/2024084/F17/SSUSIF17_2024084R089726_00_LBHS.ps data/SSUSI/2024084/F17/SSUSIF17_2024084R089726_00_LBHS.pdf\n",
      "data/SSUSI/2024084/F17/SSUSIF17_2024084R089727_00_LBHS.ps data/SSUSI/2024084/F17/SSUSIF17_2024084R089727_00_LBHS.pdf\n",
      "data/SSUSI/2024084/F17/SSUSIF17_2024084R089728_00_LBHS.ps data/SSUSI/2024084/F17/SSUSIF17_2024084R089728_00_LBHS.pdf\n"
     ]
    }
   ],
   "source": [
    "!python code/DMSP_SSUSI/ps_to_pdf.py --input_dir \"./data/SSUSI/2024084/F17\""
   ]
  },
  {
   "cell_type": "markdown",
   "metadata": {},
   "source": [
    "Install `pymupdf`\n",
    "```\n",
    "pip install --upgrade pymupdf\n",
    "```"
   ]
  },
  {
   "cell_type": "code",
   "execution_count": null,
   "metadata": {},
   "outputs": [
    {
     "name": "stdout",
     "output_type": "stream",
     "text": [
      "15\n",
      "Saved: data/SSUSI/2024084/F17/SSUSIF17_2024084R089714_00_LBHS.png\n",
      "Saved: data/SSUSI/2024084/F17/SSUSIF17_2024084R089715_00_LBHS.png\n",
      "Saved: data/SSUSI/2024084/F17/SSUSIF17_2024084R089716_00_LBHS.png\n",
      "Saved: data/SSUSI/2024084/F17/SSUSIF17_2024084R089717_00_LBHS.png\n",
      "Saved: data/SSUSI/2024084/F17/SSUSIF17_2024084R089718_00_LBHS.png\n",
      "Saved: data/SSUSI/2024084/F17/SSUSIF17_2024084R089719_00_LBHS.png\n",
      "Saved: data/SSUSI/2024084/F17/SSUSIF17_2024084R089720_00_LBHS.png\n",
      "Saved: data/SSUSI/2024084/F17/SSUSIF17_2024084R089721_00_LBHS.png\n",
      "Saved: data/SSUSI/2024084/F17/SSUSIF17_2024084R089722_00_LBHS.png\n",
      "Saved: data/SSUSI/2024084/F17/SSUSIF17_2024084R089723_00_LBHS.png\n",
      "Saved: data/SSUSI/2024084/F17/SSUSIF17_2024084R089724_00_LBHS.png\n",
      "Saved: data/SSUSI/2024084/F17/SSUSIF17_2024084R089725_00_LBHS.png\n",
      "Saved: data/SSUSI/2024084/F17/SSUSIF17_2024084R089726_00_LBHS.png\n",
      "Saved: data/SSUSI/2024084/F17/SSUSIF17_2024084R089727_00_LBHS.png\n",
      "Saved: data/SSUSI/2024084/F17/SSUSIF17_2024084R089728_00_LBHS.png\n"
     ]
    }
   ],
   "source": [
    "!python code/DMSP_SSUSI/pdf_to_png.py --input_dir \"./data/SSUSI/2024084/F17\""
   ]
  },
  {
   "cell_type": "markdown",
   "metadata": {},
   "source": [
    "## F17\n",
    "\n",
    "![](data/SSUSI/2024084/F17/SSUSIF17_2024084R089723_00_LBHS.png)\n",
    "\n",
    "![](data/SSUSI/2024084/F17/SSUSIF17_2024084R089724_00_LBHS.png)"
   ]
  },
  {
   "cell_type": "markdown",
   "metadata": {},
   "source": [
    "Install `OpenCV`\n",
    "\n",
    "```\n",
    "pip install opencv-python\n",
    "```"
   ]
  },
  {
   "cell_type": "code",
   "execution_count": null,
   "metadata": {},
   "outputs": [
    {
     "name": "stdout",
     "output_type": "stream",
     "text": [
      "15\n",
      "Video saved as data/SSUSI/2024084/F17/2024084_F17.mp4\n"
     ]
    }
   ],
   "source": [
    "!python code/DMSP_SSUSI/png_to_mp4.py --input_dir \"./data/SSUSI/2024084/F17\" --doy 2024084 --sat F17 --fps 5"
   ]
  },
  {
   "cell_type": "markdown",
   "metadata": {},
   "source": [
    "Install `MoviePy`\n",
    "\n",
    "```\n",
    "pip install moviepy\n",
    "```"
   ]
  },
  {
   "cell_type": "code",
   "execution_count": null,
   "metadata": {},
   "outputs": [
    {
     "name": "stdout",
     "output_type": "stream",
     "text": [
      "{'video_found': True, 'audio_found': False, 'metadata': {'major_brand': 'isom', 'minor_version': '512', 'compatible_brands': 'isomiso2mp41', 'encoder': 'Lavf59.27.100'}, 'inputs': [{'streams': [{'input_number': 0, 'stream_number': 0, 'stream_type': 'video', 'language': None, 'default': True, 'size': [594, 842], 'bitrate': 2778, 'fps': 5.0, 'codec_name': 'mpeg4', 'profile': '(Simple Profile)', 'metadata': {'Metadata': '', 'handler_name': 'VideoHandler', 'vendor_id': '[0][0][0][0]'}}], 'input_number': 0}], 'duration': 3.0, 'bitrate': 2781, 'start': 0.0, 'default_video_input_number': 0, 'default_video_stream_number': 0, 'video_codec_name': 'mpeg4', 'video_profile': '(Simple Profile)', 'video_size': [594, 842], 'video_bitrate': 2778, 'video_fps': 5.0, 'video_duration': 3.0, 'video_n_frames': 15}\n",
      "/home/mgj/miniconda3/envs/cal/lib/python3.11/site-packages/imageio_ffmpeg/binaries/ffmpeg-linux-x86_64-v7.0.2 -i data/SSUSI/2024084/F17/2024084_F17.mp4 -loglevel error -f image2pipe -vf scale=594:842 -sws_flags bicubic -pix_fmt rgb24 -vcodec rawvideo -\n",
      "MoviePy - Building file data/SSUSI/2024084/F17/2024084_F17.gif with imageio.\n",
      "                                                                                \r"
     ]
    }
   ],
   "source": [
    "!python code/DMSP_SSUSI/mp4_to_gif.py --input_dir \"./data/SSUSI/2024084/F17\""
   ]
  },
  {
   "cell_type": "markdown",
   "metadata": {},
   "source": [
    "<img src=\"data/SSUSI/2024084/F17/2024084_F17.gif\"></img>"
   ]
  },
  {
   "cell_type": "code",
   "execution_count": null,
   "metadata": {},
   "outputs": [],
   "source": []
  }
 ],
 "metadata": {
  "kernelspec": {
   "display_name": "python3",
   "language": "python",
   "name": "python3"
  }
 },
 "nbformat": 4,
 "nbformat_minor": 4
}

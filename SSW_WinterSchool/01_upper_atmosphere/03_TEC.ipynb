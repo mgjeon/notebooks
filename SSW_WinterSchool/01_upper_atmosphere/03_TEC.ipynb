{
 "cells": [
  {
   "cell_type": "markdown",
   "metadata": {},
   "source": [
    "# GNSS TEC - CEDAR Madrigal\n",
    "\n",
    "http://cedar.openmadrigal.org/"
   ]
  },
  {
   "cell_type": "markdown",
   "metadata": {},
   "source": [
    "- Access data\n",
    "    - Select single experiment\n",
    "\n",
    "- Instrument category: Distributed Ground Based Satellite Receivers\n",
    "- Instrument: World-wide GNSS Receiver Network\n",
    "\n",
    "- World-wide TEC from GPS/GLONASS: 2024-03-23 00:00:00-2024-03-24 00:00:00\n",
    "    - gps240323g.002.hdf5: TEC binned 1 degree by 1 degree by 5 min - final\n",
    "    - Download file -> As is -> Hdf5: `gps240323g.002.hdf5` / netCDF4: `gps240323g.002.nc`\n",
    "\n",
    "- World-wide TEC from GPS/GLONASS: 2024-03-24 00:00:00-2024-03-25 00:00:00\n",
    "    - gps240323g.002.hdf5: TEC binned 1 degree by 1 degree by 5 min - final\n",
    "    - Download file -> As is -> Hdf5: `gps240324g.002.hdf5` / netCDF4: `gps240324g.002.nc`\n",
    "\n",
    "- Plots/Docs\n",
    "    - [Papers describing processing algorithms used](http://cedar.openmadrigal.org/static/siteSpecific/GpsPaperList.html)\n",
    "    - [Data source list for TEC processing](http://cedar.openmadrigal.org/static/siteSpecific/tec_sources.html)\n",
    "    - [Python programming tips for reading line-of-site TEC files](http://cedar.openmadrigal.org/static/siteSpecific/programming_tips.pdf)\n",
    "\n",
    "- Plots/Docs\n",
    "    - [Click here for TEC maps for 2024-03-23](http://cedar.openmadrigal.org/static/experiments4/2024/gps/23mar24/images/index.html)\n",
    "    - [Click here for TEC maps for 2024-03-24](http://cedar.openmadrigal.org/static/experiments4/2024/gps/24mar24/images/index.html)\n",
    "    - [Click here for plots of raw LOS converted to vertical TEC for 2024-03-23](http://cedar.openmadrigal.org/static/experiments4/2024/gps/23mar24/plots/index.html)\n",
    "    - [Click here for plots of raw LOS converted to vertical TEC for 2024-03-24](http://cedar.openmadrigal.org/static/experiments4/2024/gps/24mar24/plots/index.html)"
   ]
  },
  {
   "cell_type": "markdown",
   "metadata": {},
   "source": [
    "## TEC map\n",
    "\n",
    "Individual images of world-wide TEC for 20 minute periods:\n",
    "\n",
    "![](fig/20240323_tec-18-00.png)\n",
    "![](fig/20240324_tec-18-00.png)"
   ]
  },
  {
   "cell_type": "markdown",
   "metadata": {},
   "source": [
    "## TEC plots\n",
    "\n",
    "Vertical TEC plots at 5 minute intervals using raw measurements from all gps receivers\n",
    "\n",
    "![](fig/20240323_vtec1080.png)\n",
    "![](fig/20240324_vtec1080.png)"
   ]
  },
  {
   "cell_type": "code",
   "execution_count": null,
   "metadata": {},
   "outputs": [],
   "source": [
    "import numpy as np\n",
    "import matplotlib.pyplot as plt\n",
    "import astropy.units as u\n",
    "from astropy.time import Time\n",
    "import cartopy.crs as ccrs"
   ]
  },
  {
   "cell_type": "markdown",
   "metadata": {},
   "source": [
    "## Hdf4"
   ]
  },
  {
   "cell_type": "code",
   "execution_count": null,
   "metadata": {},
   "outputs": [],
   "source": [
    "import h5py\n",
    "import datetime\n",
    "\n",
    "def getTimeGpsData(madrigalFile, timeArr, startUnix, endUnix):\n",
    "    \"\"\"getTimeGpsData returns a numpy recarray of all the data in\n",
    "madrigalFile from a given time range\n",
    "    Inputs:\n",
    "        madrigalFile - path to Madrigal LOS Hdf5 file\n",
    "        timeArr - a numpy array of the times (ut1_unix) in the entire\n",
    "file.\n",
    "        startUnix - the unix timestamp at start of range\n",
    "        endUnix - the unix timestamp at end of range\n",
    "    Returns a numpy recarray of the subset of data from the file from\n",
    "that time range\n",
    "    \"\"\"\n",
    "    with h5py.File(madrigalFile, 'r') as f:\n",
    "        # get a list of all the indices with the right time range\n",
    "        indices = np.logical_and(timeArr >= startUnix, timeArr <= endUnix)\n",
    "        timeData = f['Data']['Table Layout'][indices]\n",
    "        return(timeData)"
   ]
  },
  {
   "cell_type": "code",
   "execution_count": null,
   "metadata": {},
   "outputs": [],
   "source": [
    "start_dt = datetime.datetime(2024,3,23,18,0, tzinfo=datetime.timezone.utc)\n",
    "end_dt = datetime.datetime(2024,3,23,18,1, tzinfo=datetime.timezone.utc)\n",
    "\n",
    "losFilename = 'data/Madrigal_TEC/gps240323g.002.hdf5'\n",
    "# get data from the time range\n",
    "with h5py.File(losFilename, 'r') as f:\n",
    "    timeArr = f['Data']['Table Layout']['ut1_unix']\n",
    "timeData = getTimeGpsData(losFilename, timeArr, start_dt.timestamp(), end_dt.timestamp())\n",
    "\n",
    "fig, ax = plt.subplots(subplot_kw={'projection': ccrs.PlateCarree()}, figsize=(12, 6))\n",
    "ax.coastlines()\n",
    "sc = ax.scatter(timeData['glon'], timeData['gdlat'], c=timeData['tec'], vmin=0, vmax=100, cmap='coolwarm', s=1)\n",
    "ax.set_xlabel(\"Longitude (deg)\")\n",
    "ax.set_ylabel(\"Latitude (deg)\")\n",
    "ax.set_yticks([-90,-45,0,45,90])\n",
    "ax.set_xticks([-180,-90,0,90,180])\n",
    "ax.set_ylim([-90,90])\n",
    "ax.set_xlim([-180,180])    \n",
    "cbar = plt.colorbar(sc, ax=ax)\n",
    "cbar.set_label('VTEC [TECU]')\n",
    "ax.set_title(f\"{start_dt.strftime('%Y-%m-%d %H:%M')} UT\", fontsize=15)\n",
    "cbar.ax.tick_params()\n",
    "plt.show()"
   ]
  },
  {
   "cell_type": "code",
   "execution_count": null,
   "metadata": {},
   "outputs": [],
   "source": [
    "start_dt = datetime.datetime(2024,3,24,18,0, tzinfo=datetime.timezone.utc)\n",
    "end_dt = datetime.datetime(2024,3,24,18,1, tzinfo=datetime.timezone.utc)\n",
    "\n",
    "losFilename = 'data/Madrigal_TEC/gps240324g.002.hdf5'\n",
    "# get data from the time range\n",
    "with h5py.File(losFilename, 'r') as f:\n",
    "    timeArr = f['Data']['Table Layout']['ut1_unix']\n",
    "timeData = getTimeGpsData(losFilename, timeArr, start_dt.timestamp(), end_dt.timestamp())\n",
    "\n",
    "fig, ax = plt.subplots(subplot_kw={'projection': ccrs.PlateCarree()}, figsize=(12, 6))\n",
    "ax.coastlines()\n",
    "sc = ax.scatter(timeData['glon'], timeData['gdlat'], c=timeData['tec'], vmin=0, vmax=100, cmap='coolwarm', s=1)\n",
    "ax.set_xlabel(\"Longitude (deg)\")\n",
    "ax.set_ylabel(\"Latitude (deg)\")\n",
    "ax.set_yticks([-90,-45,0,45,90])\n",
    "ax.set_xticks([-180,-90,0,90,180])\n",
    "ax.set_ylim([-90,90])\n",
    "ax.set_xlim([-180,180])    \n",
    "cbar = plt.colorbar(sc, ax=ax)\n",
    "cbar.set_label('VTEC [TECU]')\n",
    "ax.set_title(f\"{start_dt.strftime('%Y-%m-%d %H:%M')} UT\", fontsize=15)\n",
    "cbar.ax.tick_params()\n",
    "plt.show()"
   ]
  },
  {
   "cell_type": "markdown",
   "metadata": {},
   "source": [
    "## netCDF4"
   ]
  },
  {
   "cell_type": "code",
   "execution_count": null,
   "metadata": {},
   "outputs": [],
   "source": [
    "import netCDF4"
   ]
  },
  {
   "cell_type": "code",
   "execution_count": null,
   "metadata": {},
   "outputs": [],
   "source": [
    "nc = netCDF4.Dataset('data/Madrigal_TEC/gps240323g.002.nc', 'r')\n",
    "print(nc.variables.keys())\n",
    "nc_tec = nc['tec']\n",
    "tec = nc_tec[:]\n",
    "print(tec.shape)  # (time, lat, lon)\n",
    "\n",
    "nc_lon = nc['glon']\n",
    "lon = nc_lon[:]\n",
    "nc_lat = nc['gdlat']\n",
    "lat = nc_lat[:]\n",
    "\n",
    "# Define the start time and time interval\n",
    "start_time = Time(\"2024-03-23 00:00:00\")\n",
    "num_intervals = 288\n",
    "time_interval = 5 * u.minute\n",
    "\n",
    "# Create the time array\n",
    "time_array = start_time + np.arange(num_intervals) * time_interval\n",
    "\n",
    "tidx = 216\n",
    "data_slice = tec[tidx, :, :]\n",
    "lon_grid, lat_grid = np.meshgrid(lon, lat)\n",
    "fig, ax = plt.subplots(subplot_kw={'projection': ccrs.PlateCarree()}, figsize=(12, 6))\n",
    "plot = ax.pcolormesh(lon_grid, lat_grid, data_slice, transform=ccrs.PlateCarree(), cmap='coolwarm', vmin=0, vmax=100)\n",
    "ax.coastlines()\n",
    "ax.set_yticks([-90,-45,0,45,90])\n",
    "ax.set_xticks([-180,-90,0,90,180])\n",
    "ax.set_ylim([-90,90])\n",
    "ax.set_xlim([-180,180])    \n",
    "# ax.add_feature(cfeature.BORDERS, linestyle=':')\n",
    "# Add colorbar\n",
    "cbar = plt.colorbar(plot, ax=ax)\n",
    "cbar.set_label('VTEC [TECU]', fontsize=15)\n",
    "cbar.ax.tick_params(labelsize=15)\n",
    "ax.set_title(f'{time_array[tidx].iso[:-7]} UT', fontsize=15)\n",
    "# fig.savefig(f'tec_{tidx}.png')\n",
    "plt.show()"
   ]
  },
  {
   "cell_type": "code",
   "execution_count": null,
   "metadata": {},
   "outputs": [],
   "source": [
    "nc = netCDF4.Dataset('data/Madrigal_TEC/gps240324g.002.nc', 'r')\n",
    "nc_tec = nc['tec']\n",
    "tec = nc_tec[:]\n",
    "nc_lon = nc['glon']\n",
    "lon = nc_lon[:]\n",
    "nc_lat = nc['gdlat']\n",
    "lat = nc_lat[:]\n",
    "\n",
    "start_time = Time(\"2024-03-24 00:00:00\")\n",
    "num_intervals = 288\n",
    "time_interval = 5 * u.minute\n",
    "time_array = start_time + np.arange(num_intervals) * time_interval\n",
    "\n",
    "tidx = 216\n",
    "data_slice = tec[tidx, :, :]\n",
    "lon_grid, lat_grid = np.meshgrid(lon, lat)\n",
    "fig, ax = plt.subplots(subplot_kw={'projection': ccrs.PlateCarree()}, figsize=(12, 6))\n",
    "plot = ax.pcolormesh(lon_grid, lat_grid, data_slice, transform=ccrs.PlateCarree(), cmap='coolwarm', vmin=0, vmax=100)\n",
    "ax.coastlines()\n",
    "ax.set_yticks([-90,-45,0,45,90])\n",
    "ax.set_xticks([-180,-90,0,90,180])\n",
    "ax.set_ylim([-90,90])\n",
    "ax.set_xlim([-180,180])    \n",
    "cbar = plt.colorbar(plot, ax=ax)\n",
    "cbar.set_label('VTEC [TECU]', fontsize=15)\n",
    "cbar.ax.tick_params(labelsize=15)\n",
    "ax.set_title(f'{time_array[tidx].iso[:-7]} UT', fontsize=15)\n",
    "plt.show()"
   ]
  },
  {
   "cell_type": "code",
   "execution_count": null,
   "metadata": {},
   "outputs": [],
   "source": [
    "import numpy as np\n",
    "import matplotlib.pyplot as plt\n",
    "import cartopy.crs as ccrs\n",
    "import netCDF4\n",
    "from pathlib import Path\n",
    "from tqdm import tqdm\n",
    "# import cartopy.feature as cfeature\n",
    "\n",
    "def draw_tec(fname):\n",
    "    fname = Path(fname)\n",
    "    nc = netCDF4.Dataset(fname, 'r')\n",
    "    nc_tec = nc['tec']\n",
    "    tec = nc_tec[:]\n",
    "    nc_lon = nc['glon']\n",
    "    lon = nc_lon[:]\n",
    "    nc_lat = nc['gdlat']\n",
    "    lat = nc_lat[:]\n",
    "\n",
    "    name = fname.name.split('.')[0]\n",
    "    output_dir = fname.parent / Path(f\"out/{name}\")\n",
    "    output_dir.mkdir(exist_ok=True, parents=True)\n",
    "\n",
    "    times = tec.shape[0]\n",
    "    for tidx in tqdm(range(times)):\n",
    "        data_slice = tec[tidx, :, :]\n",
    "        lon_grid, lat_grid = np.meshgrid(lon, lat)\n",
    "        fig, ax = plt.subplots(subplot_kw={'projection': ccrs.PlateCarree()}, figsize=(12, 6))\n",
    "        plot = ax.pcolormesh(lon_grid, lat_grid, data_slice, transform=ccrs.PlateCarree(), cmap='coolwarm', vmin=0, vmax=100)\n",
    "        ax.coastlines()\n",
    "        cbar = plt.colorbar(plot, ax=ax)\n",
    "        cbar.set_label('VTEC [TECU]', fontsize=15)\n",
    "        cbar.ax.tick_params(labelsize=15)\n",
    "        ax.set_title(f'UT {time_array[tidx].iso[:-4]}', fontsize=15)\n",
    "\n",
    "        fig.savefig(output_dir / f'tec_{name}_{tidx:04d}.png', bbox_inches='tight', pad_inches=0.1, dpi=300)\n",
    "        plt.close(fig)"
   ]
  },
  {
   "cell_type": "code",
   "execution_count": null,
   "metadata": {},
   "outputs": [],
   "source": [
    "draw_tec('data/Madrigal_TEC/gps240324g.002.nc')"
   ]
  },
  {
   "cell_type": "code",
   "execution_count": null,
   "metadata": {},
   "outputs": [],
   "source": [
    "!python code/DMSP_SSUSI/png_to_mp4.py --input_dir \"./data/Madrigal_TEC/out/gps240324g\" --fps 40"
   ]
  },
  {
   "cell_type": "code",
   "execution_count": null,
   "metadata": {},
   "outputs": [],
   "source": [
    "!python code/DMSP_SSUSI/mp4_to_gif.py --input_dir \"./data/Madrigal_TEC/out/gps240324g\" --width 400"
   ]
  },
  {
   "cell_type": "markdown",
   "metadata": {},
   "source": [
    "![](data/Madrigal_TEC/out/gps240324g/output.gif)"
   ]
  },
  {
   "cell_type": "markdown",
   "metadata": {},
   "source": []
  }
 ],
 "metadata": {
  "kernelspec": {
   "display_name": "python3",
   "language": "python",
   "name": "python3"
  }
 },
 "nbformat": 4,
 "nbformat_minor": 4
}

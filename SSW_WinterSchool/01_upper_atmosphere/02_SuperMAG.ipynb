{
 "cells": [
  {
   "cell_type": "markdown",
   "metadata": {},
   "source": [
    "# SuperMAG indices\n",
    "\n",
    "https://supermag.jhuapl.edu/indices/\n",
    "\n",
    "- Time\n",
    "- 24, March, 2024, 00:00:00\n",
    "- Plot Duration (d:hh:mm) -> 1:00:00\n",
    "\n",
    "- Axis: Min -3000, Max 2000"
   ]
  },
  {
   "cell_type": "markdown",
   "metadata": {},
   "source": [
    "![](fig/20240324-000000-supermag.png)"
   ]
  },
  {
   "cell_type": "markdown",
   "metadata": {},
   "source": []
  }
 ],
 "metadata": {
  "kernelspec": {
   "display_name": "python3",
   "language": "python",
   "name": "python3"
  }
 },
 "nbformat": 4,
 "nbformat_minor": 4
}

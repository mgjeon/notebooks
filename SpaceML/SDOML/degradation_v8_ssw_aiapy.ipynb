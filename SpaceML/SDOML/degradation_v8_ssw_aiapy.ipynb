{
 "cells": [
  {
   "cell_type": "code",
   "execution_count": null,
   "metadata": {},
   "outputs": [],
   "source": [
    "from urllib.request import urlretrieve"
   ]
  },
  {
   "cell_type": "code",
   "execution_count": null,
   "metadata": {},
   "outputs": [],
   "source": [
    "urlretrieve(\"https://raw.githubusercontent.com/oxai4science/sdoml-lite/refs/heads/main/degradation/v8/degrad_94.csv\", \"v8_degrad_94.csv\");"
   ]
  },
  {
   "cell_type": "code",
   "execution_count": null,
   "metadata": {},
   "outputs": [],
   "source": [
    "import pandas as pd"
   ]
  },
  {
   "cell_type": "code",
   "execution_count": null,
   "metadata": {},
   "outputs": [
    {
     "data": {
      "text/html": [
       "<div>\n",
       "<style scoped>\n",
       "    .dataframe tbody tr th:only-of-type {\n",
       "        vertical-align: middle;\n",
       "    }\n",
       "\n",
       "    .dataframe tbody tr th {\n",
       "        vertical-align: top;\n",
       "    }\n",
       "\n",
       "    .dataframe thead th {\n",
       "        text-align: right;\n",
       "    }\n",
       "</style>\n",
       "<table border=\"1\" class=\"dataframe\">\n",
       "  <thead>\n",
       "    <tr style=\"text-align: right;\">\n",
       "      <th></th>\n",
       "      <th>0</th>\n",
       "      <th>1</th>\n",
       "    </tr>\n",
       "  </thead>\n",
       "  <tbody>\n",
       "    <tr>\n",
       "      <th>0</th>\n",
       "      <td>2010-05-01T12:00:00.000</td>\n",
       "      <td>1.00000</td>\n",
       "    </tr>\n",
       "    <tr>\n",
       "      <th>1</th>\n",
       "      <td>2010-05-02T12:00:00.000</td>\n",
       "      <td>1.00000</td>\n",
       "    </tr>\n",
       "    <tr>\n",
       "      <th>2</th>\n",
       "      <td>2010-05-03T12:00:00.000</td>\n",
       "      <td>1.00000</td>\n",
       "    </tr>\n",
       "    <tr>\n",
       "      <th>3</th>\n",
       "      <td>2010-05-04T12:00:00.000</td>\n",
       "      <td>1.00000</td>\n",
       "    </tr>\n",
       "    <tr>\n",
       "      <th>4</th>\n",
       "      <td>2010-05-05T12:00:00.000</td>\n",
       "      <td>1.00000</td>\n",
       "    </tr>\n",
       "    <tr>\n",
       "      <th>...</th>\n",
       "      <td>...</td>\n",
       "      <td>...</td>\n",
       "    </tr>\n",
       "    <tr>\n",
       "      <th>5180</th>\n",
       "      <td>2024-07-06T11:59:57.000</td>\n",
       "      <td>0.74185</td>\n",
       "    </tr>\n",
       "    <tr>\n",
       "      <th>5181</th>\n",
       "      <td>2024-07-07T11:59:57.000</td>\n",
       "      <td>0.74185</td>\n",
       "    </tr>\n",
       "    <tr>\n",
       "      <th>5182</th>\n",
       "      <td>2024-07-08T11:59:57.000</td>\n",
       "      <td>0.74185</td>\n",
       "    </tr>\n",
       "    <tr>\n",
       "      <th>5183</th>\n",
       "      <td>2024-07-09T11:59:57.000</td>\n",
       "      <td>0.74185</td>\n",
       "    </tr>\n",
       "    <tr>\n",
       "      <th>5184</th>\n",
       "      <td>2024-07-10T11:59:57.000</td>\n",
       "      <td>0.74185</td>\n",
       "    </tr>\n",
       "  </tbody>\n",
       "</table>\n",
       "<p>5185 rows × 2 columns</p>\n",
       "</div>"
      ],
      "text/plain": [
       "                            0        1\n",
       "0     2010-05-01T12:00:00.000  1.00000\n",
       "1     2010-05-02T12:00:00.000  1.00000\n",
       "2     2010-05-03T12:00:00.000  1.00000\n",
       "3     2010-05-04T12:00:00.000  1.00000\n",
       "4     2010-05-05T12:00:00.000  1.00000\n",
       "...                       ...      ...\n",
       "5180  2024-07-06T11:59:57.000  0.74185\n",
       "5181  2024-07-07T11:59:57.000  0.74185\n",
       "5182  2024-07-08T11:59:57.000  0.74185\n",
       "5183  2024-07-09T11:59:57.000  0.74185\n",
       "5184  2024-07-10T11:59:57.000  0.74185\n",
       "\n",
       "[5185 rows x 2 columns]"
      ]
     },
     "execution_count": null,
     "metadata": {},
     "output_type": "execute_result"
    }
   ],
   "source": [
    "df = pd.read_csv('v8_degrad_94.csv', header=None)\n",
    "df"
   ]
  },
  {
   "cell_type": "code",
   "execution_count": null,
   "metadata": {},
   "outputs": [],
   "source": [
    "urlretrieve(\"https://hesperia.gsfc.nasa.gov/ssw/sdo/aia/response/aia_V8_20171210_050627_response_table.txt\", \"aia_V8_20171210_050627_response_table.txt\");"
   ]
  },
  {
   "cell_type": "code",
   "execution_count": null,
   "metadata": {},
   "outputs": [],
   "source": [
    "from aiapy.calibrate.util import get_correction_table"
   ]
  },
  {
   "cell_type": "code",
   "execution_count": null,
   "metadata": {},
   "outputs": [],
   "source": [
    "correction_table = get_correction_table(correction_table='aia_V8_20171210_050627_response_table.txt')"
   ]
  },
  {
   "cell_type": "code",
   "execution_count": null,
   "metadata": {},
   "outputs": [],
   "source": [
    "import numpy as np\n",
    "import astropy.units as u\n",
    "from astropy.time import Time\n",
    "from aiapy.calibrate import degradation"
   ]
  },
  {
   "cell_type": "code",
   "execution_count": null,
   "metadata": {},
   "outputs": [
    {
     "data": {
      "text/plain": [
       "5185"
      ]
     },
     "execution_count": null,
     "metadata": {},
     "output_type": "execute_result"
    }
   ],
   "source": [
    "start_time = Time(\"2010-05-01T12:00:00\", scale=\"utc\")\n",
    "end_time   = Time(\"2024-07-10T12:00:00\", scale=\"utc\")\n",
    "times = start_time + np.arange(0, (end_time - start_time).to(u.day).value, 1) * u.day\n",
    "len(times)"
   ]
  },
  {
   "cell_type": "code",
   "execution_count": null,
   "metadata": {},
   "outputs": [],
   "source": [
    "degrad_94 = degradation(94*u.angstrom, times, correction_table=correction_table, calibration_version=8)"
   ]
  },
  {
   "cell_type": "code",
   "execution_count": null,
   "metadata": {},
   "outputs": [
    {
     "data": {
      "text/latex": [
       "$[1,~1,~1,~\\dots,~0.74184989,~0.74184989,~0.74184989] \\; \\mathrm{}$"
      ],
      "text/plain": [
       "<Quantity [1.        , 1.        , 1.        , ..., 0.74184989, 0.74184989,\n",
       "           0.74184989]>"
      ]
     },
     "execution_count": null,
     "metadata": {},
     "output_type": "execute_result"
    }
   ],
   "source": [
    "degrad_94"
   ]
  },
  {
   "cell_type": "code",
   "execution_count": null,
   "metadata": {},
   "outputs": [
    {
     "data": {
      "text/plain": [
       "array([1.        , 1.        , 1.        , ..., 0.74184989, 0.74184989,\n",
       "       0.74184989], shape=(5185,))"
      ]
     },
     "execution_count": null,
     "metadata": {},
     "output_type": "execute_result"
    }
   ],
   "source": [
    "degrad_94.value"
   ]
  },
  {
   "cell_type": "code",
   "execution_count": null,
   "metadata": {},
   "outputs": [
    {
     "data": {
      "text/html": [
       "<div>\n",
       "<style scoped>\n",
       "    .dataframe tbody tr th:only-of-type {\n",
       "        vertical-align: middle;\n",
       "    }\n",
       "\n",
       "    .dataframe tbody tr th {\n",
       "        vertical-align: top;\n",
       "    }\n",
       "\n",
       "    .dataframe thead th {\n",
       "        text-align: right;\n",
       "    }\n",
       "</style>\n",
       "<table border=\"1\" class=\"dataframe\">\n",
       "  <thead>\n",
       "    <tr style=\"text-align: right;\">\n",
       "      <th></th>\n",
       "      <th>time</th>\n",
       "      <th>degrad</th>\n",
       "    </tr>\n",
       "  </thead>\n",
       "  <tbody>\n",
       "    <tr>\n",
       "      <th>0</th>\n",
       "      <td>2010-05-01T12:00:00.000</td>\n",
       "      <td>1.00000</td>\n",
       "    </tr>\n",
       "    <tr>\n",
       "      <th>1</th>\n",
       "      <td>2010-05-02T12:00:00.000</td>\n",
       "      <td>1.00000</td>\n",
       "    </tr>\n",
       "    <tr>\n",
       "      <th>2</th>\n",
       "      <td>2010-05-03T12:00:00.000</td>\n",
       "      <td>1.00000</td>\n",
       "    </tr>\n",
       "    <tr>\n",
       "      <th>3</th>\n",
       "      <td>2010-05-04T12:00:00.000</td>\n",
       "      <td>1.00000</td>\n",
       "    </tr>\n",
       "    <tr>\n",
       "      <th>4</th>\n",
       "      <td>2010-05-05T12:00:00.000</td>\n",
       "      <td>1.00000</td>\n",
       "    </tr>\n",
       "    <tr>\n",
       "      <th>...</th>\n",
       "      <td>...</td>\n",
       "      <td>...</td>\n",
       "    </tr>\n",
       "    <tr>\n",
       "      <th>5180</th>\n",
       "      <td>2024-07-06T11:59:57.000</td>\n",
       "      <td>0.74185</td>\n",
       "    </tr>\n",
       "    <tr>\n",
       "      <th>5181</th>\n",
       "      <td>2024-07-07T11:59:57.000</td>\n",
       "      <td>0.74185</td>\n",
       "    </tr>\n",
       "    <tr>\n",
       "      <th>5182</th>\n",
       "      <td>2024-07-08T11:59:57.000</td>\n",
       "      <td>0.74185</td>\n",
       "    </tr>\n",
       "    <tr>\n",
       "      <th>5183</th>\n",
       "      <td>2024-07-09T11:59:57.000</td>\n",
       "      <td>0.74185</td>\n",
       "    </tr>\n",
       "    <tr>\n",
       "      <th>5184</th>\n",
       "      <td>2024-07-10T11:59:57.000</td>\n",
       "      <td>0.74185</td>\n",
       "    </tr>\n",
       "  </tbody>\n",
       "</table>\n",
       "<p>5185 rows × 2 columns</p>\n",
       "</div>"
      ],
      "text/plain": [
       "                         time   degrad\n",
       "0     2010-05-01T12:00:00.000  1.00000\n",
       "1     2010-05-02T12:00:00.000  1.00000\n",
       "2     2010-05-03T12:00:00.000  1.00000\n",
       "3     2010-05-04T12:00:00.000  1.00000\n",
       "4     2010-05-05T12:00:00.000  1.00000\n",
       "...                       ...      ...\n",
       "5180  2024-07-06T11:59:57.000  0.74185\n",
       "5181  2024-07-07T11:59:57.000  0.74185\n",
       "5182  2024-07-08T11:59:57.000  0.74185\n",
       "5183  2024-07-09T11:59:57.000  0.74185\n",
       "5184  2024-07-10T11:59:57.000  0.74185\n",
       "\n",
       "[5185 rows x 2 columns]"
      ]
     },
     "execution_count": null,
     "metadata": {},
     "output_type": "execute_result"
    }
   ],
   "source": [
    "df_aiapy = pd.DataFrame({'time':times.value, 'degrad':degrad_94.value})\n",
    "df_aiapy"
   ]
  },
  {
   "cell_type": "code",
   "execution_count": null,
   "metadata": {},
   "outputs": [],
   "source": [
    "import matplotlib.pyplot as plt"
   ]
  },
  {
   "cell_type": "code",
   "execution_count": null,
   "metadata": {},
   "outputs": [
    {
     "data": {
      "image/png": "[encoded data removed]",
      "text/plain": [
       "<Figure size 640x480 with 1 Axes>"
      ]
     },
     "metadata": {},
     "output_type": "display_data"
    }
   ],
   "source": [
    "fig = plt.figure()\n",
    "ax = fig.add_subplot(111)\n",
    "ax.plot(pd.to_datetime(df[0]), df[1], label='SSW')\n",
    "ax.plot(pd.to_datetime(df_aiapy['time']), df_aiapy['degrad'], label='aiapy', linestyle='--')\n",
    "ax.set_title('$94 \\AA$')\n",
    "fig.legend()\n",
    "plt.show()"
   ]
  },
  {
   "cell_type": "code",
   "execution_count": null,
   "metadata": {},
   "outputs": [
    {
     "data": {
      "image/png": "[encoded data removed]",
      "text/plain": [
       "<Figure size 640x480 with 1 Axes>"
      ]
     },
     "metadata": {},
     "output_type": "display_data"
    }
   ],
   "source": [
    "fig = plt.figure()\n",
    "ax = fig.add_subplot(111)\n",
    "ax.plot(pd.to_datetime(df[0]), df[1]- df_aiapy['degrad'], label='SSW - aiapy')\n",
    "ax.set_title('$94 \\AA$')\n",
    "fig.legend()\n",
    "plt.show()"
   ]
  },
  {
   "cell_type": "code",
   "execution_count": null,
   "metadata": {},
   "outputs": [
    {
     "data": {
      "text/plain": [
       "True"
      ]
     },
     "execution_count": null,
     "metadata": {},
     "output_type": "execute_result"
    }
   ],
   "source": [
    "degrad_ssw = np.array(df[1])\n",
    "degrad_aiapy = np.array(df_aiapy['degrad'])\n",
    "\n",
    "np.allclose(degrad_ssw, degrad_aiapy)"
   ]
  },
  {
   "cell_type": "code",
   "execution_count": null,
   "metadata": {},
   "outputs": [],
   "source": []
  }
 ],
 "metadata": {
  "kernelspec": {
   "display_name": "python3",
   "language": "python",
   "name": "python3"
  }
 },
 "nbformat": 4,
 "nbformat_minor": 4
}

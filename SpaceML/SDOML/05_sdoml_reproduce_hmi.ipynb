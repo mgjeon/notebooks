{
 "cells": [
  {
   "cell_type": "code",
   "execution_count": null,
   "id": "e6be9a6d-3c23-4335-8afc-b79d014a064d",
   "metadata": {},
   "outputs": [],
   "source": [
    "import os\n",
    "import s3fs\n",
    "import zarr\n",
    "\n",
    "from typing import Union\n",
    "\n",
    "import numpy as np\n",
    "import dask.array as da\n",
    "import astropy.units as u\n",
    "from sunpy.net import Fido, attrs as a\n",
    "from sunpy.map import Map\n",
    "\n",
    "\n",
    "def s3_connection(path_to_zarr: os.path) -> s3fs.S3Map:\n",
    "    \"\"\"\n",
    "    Instantiate connection to aws for a given path `path_to_zarr`\n",
    "    \"\"\"\n",
    "    return s3fs.S3Map(\n",
    "        root=path_to_zarr,\n",
    "        s3=s3fs.S3FileSystem(anon=True),\n",
    "        # anonymous access requires no credentials\n",
    "        check=False,\n",
    "    )\n",
    "\n",
    "\n",
    "def load_single_aws_zarr(\n",
    "    path_to_zarr: os.path,\n",
    "    cache_max_single_size: int = None,\n",
    ") -> Union[zarr.Array, zarr.Group]:\n",
    "    \"\"\"\n",
    "    load zarr from s3 using LRU cache\n",
    "    \"\"\"\n",
    "    return zarr.open(\n",
    "        zarr.LRUStoreCache(\n",
    "            store=s3_connection(path_to_zarr),\n",
    "            max_size=cache_max_single_size,\n",
    "        ),\n",
    "        mode=\"r\",\n",
    "    )"
   ]
  },
  {
   "cell_type": "code",
   "execution_count": null,
   "id": "a5c228e9-dc5e-4032-8058-c55078370f1e",
   "metadata": {},
   "outputs": [
    {
     "ename": "NameError",
     "evalue": "name 'data' is not defined",
     "output_type": "error",
     "traceback": [
      "\u001b[1;31m---------------------------------------------------------------------------\u001b[0m",
      "\u001b[1;31mNameError\u001b[0m                                 Traceback (most recent call last)",
      "Cell \u001b[1;32mIn[2], line 7\u001b[0m\n\u001b[0;32m      5\u001b[0m sorted_indices \u001b[38;5;241m=\u001b[39m np\u001b[38;5;241m.\u001b[39margsort(data_bx\u001b[38;5;241m.\u001b[39mattrs[\u001b[38;5;124m\"\u001b[39m\u001b[38;5;124mT_OBS\u001b[39m\u001b[38;5;124m\"\u001b[39m])\n\u001b[0;32m      6\u001b[0m img_index \u001b[38;5;241m=\u001b[39m sorted_indices[\u001b[38;5;241m0\u001b[39m]\n\u001b[1;32m----> 7\u001b[0m selected_headr \u001b[38;5;241m=\u001b[39m {keys: values[img_index] \u001b[38;5;28;01mfor\u001b[39;00m keys, values \u001b[38;5;129;01min\u001b[39;00m \u001b[43mdata\u001b[49m\u001b[38;5;241m.\u001b[39mattrs\u001b[38;5;241m.\u001b[39mitems()}\n\u001b[0;32m      8\u001b[0m selected_image \u001b[38;5;241m=\u001b[39m da\u001b[38;5;241m.\u001b[39mfrom_array(data_bx)[img_index, :, :]\n\u001b[0;32m      9\u001b[0m smap_ml_bx \u001b[38;5;241m=\u001b[39m Map((np\u001b[38;5;241m.\u001b[39marray(selected_image), selected_headr))\n",
      "\u001b[1;31mNameError\u001b[0m: name 'data' is not defined"
     ]
    }
   ],
   "source": [
    "root = load_single_aws_zarr(\n",
    "    path_to_zarr=\"s3://gov-nasa-hdrl-data1/contrib/fdl-sdoml/fdl-sdoml-v2/sdomlv2_hmi.zarr\",\n",
    ")\n",
    "data_bx = root[\"2010\"][\"Bx\"]\n",
    "sorted_indices = np.argsort(data_bx.attrs[\"T_OBS\"])\n",
    "img_index = sorted_indices[0]\n",
    "selected_headr = {keys: values[img_index] for keys, values in data_bx.attrs.items()}\n",
    "selected_image = da.from_array(data_bx)[img_index, :, :]\n",
    "smap_ml_bx = Map((np.array(selected_image), selected_headr))\n",
    "\n",
    "data_by = root[\"2010\"][\"By\"]\n",
    "sorted_indices = np.argsort(data_by.attrs[\"T_OBS\"])\n",
    "img_index = sorted_indices[0]\n",
    "selected_headr = {keys: values[img_index] for keys, values in data_by.attrs.items()}\n",
    "selected_image = da.from_array(data_by)[img_index, :, :]\n",
    "smap_ml_by = Map((np.array(selected_image), selected_headr))\n",
    "\n",
    "data_bz = root[\"2010\"][\"Bz\"]\n",
    "sorted_indices = np.argsort(data_by.attrs[\"T_OBS\"])\n",
    "img_index = sorted_indices[0]\n",
    "selected_headr = {keys: values[img_index] for keys, values in data_bz.attrs.items()}\n",
    "selected_image = da.from_array(data_bz)[img_index, :, :]\n",
    "smap_ml_bz = Map((np.array(selected_image), selected_headr))"
   ]
  },
  {
   "cell_type": "code",
   "execution_count": null,
   "id": "afc5e1f8-d793-45bc-abf2-af2673ed93df",
   "metadata": {},
   "outputs": [],
   "source": [
    "tr = a.Time(\"2010-05-13T00:00:00\", \"2010-05-13T00:00:12\")\n",
    "aia_query = Fido.search(tr & a.Instrument.aia & a.Wavelength(94*u.angstrom))\n",
    "filelist_fd = Fido.fetch(aia_query, path=\"data/{instrument}\")\n",
    "smap_fd = Map(filelist_fd[0])"
   ]
  },
  {
   "cell_type": "code",
   "execution_count": null,
   "id": "158cc714-d6c5-4099-a397-5af09fb7c62d",
   "metadata": {},
   "outputs": [],
   "source": []
  }
 ],
 "metadata": {
  "kernelspec": {
   "display_name": "python3",
   "language": "python",
   "name": "python3"
  }
 },
 "nbformat": 4,
 "nbformat_minor": 5
}

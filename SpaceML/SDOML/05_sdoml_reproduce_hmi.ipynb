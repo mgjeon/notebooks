{
 "cells": [
  {
   "cell_type": "markdown",
   "id": "bbf6c20d-6c31-4683-b509-2cb00d18c009",
   "metadata": {},
   "source": [
    "SDO/HMI Vector Magnetic Field\n",
    "\n",
    "The vector magnetic field is derived from full-disk filtergrams collected in a 135-second sequence. (90 seconds after 13 April 2016). The observations are obtained in polarized light at several wavelengths across a spectral line. The filtergrams are calibrated and registered to account for solar rotation before being combined to provide Stokes polarization parameters. The parameters are used to determine the magnetic and other plasma parameters using VFISV, a Milne-Eddington inversion code. The final step is to disambiguate the data, that is to infer the azimuthal direction of the transverse field.\n",
    "\n",
    "- https://hpde.io/NASA/NumericalData/SDO/HMI/Vector_Magnetic_Field/PT720S.html"
   ]
  },
  {
   "cell_type": "code",
   "execution_count": null,
   "id": "e6be9a6d-3c23-4335-8afc-b79d014a064d",
   "metadata": {},
   "outputs": [],
   "source": [
    "import os\n",
    "import s3fs\n",
    "import zarr\n",
    "\n",
    "from typing import Union\n",
    "\n",
    "import numpy as np\n",
    "import dask.array as da\n",
    "import astropy.units as u\n",
    "from sunpy.net import Fido, attrs as a\n",
    "from sunpy.map import Map\n",
    "\n",
    "\n",
    "def s3_connection(path_to_zarr: os.path) -> s3fs.S3Map:\n",
    "    \"\"\"\n",
    "    Instantiate connection to aws for a given path `path_to_zarr`\n",
    "    \"\"\"\n",
    "    return s3fs.S3Map(\n",
    "        root=path_to_zarr,\n",
    "        s3=s3fs.S3FileSystem(anon=True),\n",
    "        # anonymous access requires no credentials\n",
    "        check=False,\n",
    "    )\n",
    "\n",
    "\n",
    "def load_single_aws_zarr(\n",
    "    path_to_zarr: os.path,\n",
    "    cache_max_single_size: int = None,\n",
    ") -> Union[zarr.Array, zarr.Group]:\n",
    "    \"\"\"\n",
    "    load zarr from s3 using LRU cache\n",
    "    \"\"\"\n",
    "    return zarr.open(\n",
    "        zarr.LRUStoreCache(\n",
    "            store=s3_connection(path_to_zarr),\n",
    "            max_size=cache_max_single_size,\n",
    "        ),\n",
    "        mode=\"r\",\n",
    "    )"
   ]
  },
  {
   "cell_type": "code",
   "execution_count": null,
   "id": "a5c228e9-dc5e-4032-8058-c55078370f1e",
   "metadata": {},
   "outputs": [],
   "source": [
    "root = load_single_aws_zarr(\n",
    "    path_to_zarr=\"s3://gov-nasa-hdrl-data1/contrib/fdl-sdoml/fdl-sdoml-v2/sdomlv2_hmi.zarr\",\n",
    ")\n",
    "data_bx = root[\"2012\"][\"Bx\"]\n",
    "sorted_indices_bx = np.argsort(data_bx.attrs[\"T_OBS\"])\n",
    "\n",
    "data_by = root[\"2012\"][\"By\"]\n",
    "sorted_indices_by = np.argsort(data_by.attrs[\"T_OBS\"])\n",
    "\n",
    "data_bz = root[\"2012\"][\"Bz\"]\n",
    "sorted_indices_bz = np.argsort(data_bz.attrs[\"T_OBS\"])"
   ]
  },
  {
   "cell_type": "code",
   "execution_count": null,
   "id": "a616f28f-a38c-4968-bb3d-7619d04c512a",
   "metadata": {},
   "outputs": [],
   "source": [
    "def get_map(data, sorted_indices, idx):\n",
    "    img_index = sorted_indices[idx]\n",
    "    selected_headr = {keys: values[img_index] for keys, values in data.attrs.items()}\n",
    "    selected_image = da.from_array(data_bx)[img_index, :, :]\n",
    "    smap_ml = Map((np.array(selected_image), selected_headr))\n",
    "    return smap_ml"
   ]
  },
  {
   "cell_type": "code",
   "execution_count": null,
   "id": "979a703e-4cde-441c-b4b7-0485053b2b20",
   "metadata": {},
   "outputs": [
    {
     "name": "stdout",
     "output_type": "stream",
     "text": [
      "2011.12.31_23:59:52_TAI\n",
      "2011.12.31_23:59:52_TAI\n",
      "2011.12.31_23:59:52_TAI\n"
     ]
    }
   ],
   "source": [
    "ix, iy, iz = 0, 0, 0\n",
    "smap_ml_bx = get_map(data_bx, sorted_indices_bx, ix)\n",
    "smap_ml_by = get_map(data_by, sorted_indices_by, iy)\n",
    "smap_ml_bz = get_map(data_bz, sorted_indices_bz, iz)\n",
    "print(smap_ml_bx.meta[\"T_OBS\"])\n",
    "print(smap_ml_by.meta[\"T_OBS\"])\n",
    "print(smap_ml_bz.meta[\"T_OBS\"])"
   ]
  },
  {
   "cell_type": "code",
   "execution_count": null,
   "id": "afc5e1f8-d793-45bc-abf2-af2673ed93df",
   "metadata": {},
   "outputs": [
    {
     "data": {
      "text/html": [
       "Results from 1 Provider:</br></br>2 Results from the VSOClient:</br><div><i>VSOQueryResponseTable length=2</i>\n",
       "<table id=\"table1314373593168\" class=\"table-striped table-bordered table-condensed\">\n",
       "<thead><tr><th>Start Time</th><th>Source</th><th>Instrument</th><th>Wavelength</th><th>Provider</th><th>Physobs</th><th>Wavetype</th><th>Extent Type</th><th>Size</th><th>Datatype</th></tr></thead>\n",
       "<thead><tr><th></th><th></th><th></th><th>Angstrom</th><th></th><th></th><th></th><th></th><th>Mibyte</th><th></th></tr></thead>\n",
       "<thead><tr><th>Time</th><th>str3</th><th>str3</th><th>float64[2]</th><th>str3</th><th>str21</th><th>str4</th><th>str8</th><th>float64</th><th>str5</th></tr></thead>\n",
       "<tr><td>2012-01-01 00:00:00.000</td><td>SDO</td><td>HMI</td><td>6173.0 .. 6173.0</td><td>NSO</td><td>VECTOR_MAGNETIC_FIELD</td><td>LINE</td><td>SYNOPTIC</td><td>2.1377</td><td>IMAGE</td></tr>\n",
       "<tr><td>2012-01-01 00:00:00.000</td><td>SDO</td><td>HMI</td><td>6173.0 .. 6173.0</td><td>NSO</td><td>VECTOR_MAGNETIC_FIELD</td><td>LINE</td><td>SYNOPTIC</td><td>2.14062</td><td>IMAGE</td></tr>\n",
       "</table></div></br>"
      ],
      "text/plain": [
       "<sunpy.net.fido_factory.UnifiedResponse object>\n",
       "Results from 1 Provider:\n",
       "\n",
       "2 Results from the VSOClient:\n",
       "Source: https://sdac.virtualsolar.org/cgi/search\n",
       "Total estimated size: 4.486 Mbyte\n",
       "\n",
       "       Start Time       Source Instrument    Wavelength    Provider        Physobs        Wavetype Extent Type   Size  Datatype\n",
       "                                              Angstrom                                                          Mibyte         \n",
       "----------------------- ------ ---------- ---------------- -------- --------------------- -------- ----------- ------- --------\n",
       "2012-01-01 00:00:00.000    SDO        HMI 6173.0 .. 6173.0      NSO VECTOR_MAGNETIC_FIELD     LINE    SYNOPTIC  2.1377    IMAGE\n",
       "2012-01-01 00:00:00.000    SDO        HMI 6173.0 .. 6173.0      NSO VECTOR_MAGNETIC_FIELD     LINE    SYNOPTIC 2.14062    IMAGE\n"
      ]
     },
     "execution_count": null,
     "metadata": {},
     "output_type": "execute_result"
    }
   ],
   "source": [
    "tr = a.Time(\"2012-01-01T00:00:00\", \"2012-01-01T00:01:00\")\n",
    "hmi_query = Fido.search(tr & a.Instrument.hmi & a.Physobs.vector_magnetic_field)\n",
    "hmi_query"
   ]
  },
  {
   "cell_type": "code",
   "execution_count": null,
   "id": "158cc714-d6c5-4099-a397-5af09fb7c62d",
   "metadata": {},
   "outputs": [
    {
     "data": {
      "application/vnd.jupyter.widget-view+json": {
       "model_id": "3fa1a403bd02497c99b3f9933709888b",
       "version_major": 2,
       "version_minor": 0
      },
      "text/plain": [
       "Files Downloaded:   0%|          | 0/2 [00:00<?, ?file/s]"
      ]
     },
     "metadata": {},
     "output_type": "display_data"
    },
    {
     "data": {
      "application/vnd.jupyter.widget-view+json": {
       "model_id": "864bf3a5c09146fe9e0f704c1ea55581",
       "version_major": 2,
       "version_minor": 0
      },
      "text/plain": [
       "x9x93120101t000000_map_err_qsd_ract_dim_180_source_SDO_HMI_type_b_720s_helio.fits.gz:   0%|          | 0.00/2.…"
      ]
     },
     "metadata": {},
     "output_type": "display_data"
    },
    {
     "data": {
      "application/vnd.jupyter.widget-view+json": {
       "model_id": "aff994755a14475cad6e9347448b15a1",
       "version_major": 2,
       "version_minor": 0
      },
      "text/plain": [
       "x9x93120101t000000_map_err_qsd_rand_dim_180_source_SDO_HMI_type_b_720s_helio.fits.gz:   0%|          | 0.00/2.…"
      ]
     },
     "metadata": {},
     "output_type": "display_data"
    }
   ],
   "source": [
    "filelist_fd = Fido.fetch(hmi_query, path=\"data/{instrument}\")"
   ]
  },
  {
   "cell_type": "code",
   "execution_count": null,
   "id": "4be4beba-1126-49b2-8f73-50f225ef086c",
   "metadata": {},
   "outputs": [],
   "source": []
  }
 ],
 "metadata": {
  "kernelspec": {
   "display_name": "python3",
   "language": "python",
   "name": "python3"
  }
 },
 "nbformat": 4,
 "nbformat_minor": 5
}

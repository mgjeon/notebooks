{
 "cells": [
  {
   "cell_type": "markdown",
   "id": "b7314489-f2b5-4f6c-8573-e03061109001",
   "metadata": {},
   "source": [
    "SDO/AIA Synoptic FITS Data\n",
    "\n",
    "The AIA Synoptic FITS data are reduced to 1024x1024 2.4 arc-sec pixels by summing with pixel value in DN per original 0.6 arc-sec pixel. The data cadence is 2 minutes. These images are produced approximately 7 days after T_OBS since they are derived from definitive level 1 data.\n",
    "\n",
    "- https://hpde.io/NASA/NumericalData/SDO/AIA/Synoptic/PT120S.html"
   ]
  },
  {
   "cell_type": "code",
   "execution_count": null,
   "id": "2f2fd961-2a24-4f80-9e54-3f8960e3822d",
   "metadata": {},
   "outputs": [],
   "source": [
    "import os\n",
    "import s3fs\n",
    "import zarr\n",
    "\n",
    "from typing import Union\n",
    "\n",
    "import numpy as np\n",
    "import dask.array as da\n",
    "import astropy.units as u\n",
    "from sunpy.net import Fido, attrs as a\n",
    "from sunpy.map import Map\n",
    "\n",
    "\n",
    "def s3_connection(path_to_zarr: os.path) -> s3fs.S3Map:\n",
    "    \"\"\"\n",
    "    Instantiate connection to aws for a given path `path_to_zarr`\n",
    "    \"\"\"\n",
    "    return s3fs.S3Map(\n",
    "        root=path_to_zarr,\n",
    "        s3=s3fs.S3FileSystem(anon=True),\n",
    "        # anonymous access requires no credentials\n",
    "        check=False,\n",
    "    )\n",
    "\n",
    "\n",
    "def load_single_aws_zarr(\n",
    "    path_to_zarr: os.path,\n",
    "    cache_max_single_size: int = None,\n",
    ") -> Union[zarr.Array, zarr.Group]:\n",
    "    \"\"\"\n",
    "    load zarr from s3 using LRU cache\n",
    "    \"\"\"\n",
    "    return zarr.open(\n",
    "        zarr.LRUStoreCache(\n",
    "            store=s3_connection(path_to_zarr),\n",
    "            max_size=cache_max_single_size,\n",
    "        ),\n",
    "        mode=\"r\",\n",
    "    )"
   ]
  },
  {
   "cell_type": "code",
   "execution_count": null,
   "id": "f4012290-ebc9-4e8b-9451-e30f269559c0",
   "metadata": {},
   "outputs": [
    {
     "data": {
      "application/vnd.jupyter.widget-view+json": {
       "model_id": "3d451593d3394793b4183d9f2a73285e",
       "version_major": 2,
       "version_minor": 0
      },
      "text/plain": [
       "Files Downloaded:   0%|          | 0/1 [00:00<?, ?file/s]"
      ]
     },
     "metadata": {},
     "output_type": "display_data"
    }
   ],
   "source": [
    "tr = a.Time(\"2010-05-13T00:00:00\", \"2010-05-13T00:00:12\")\n",
    "aia_query = Fido.search(tr & a.Instrument.aia & a.Wavelength(94*u.angstrom))\n",
    "filelist_fd = Fido.fetch(aia_query, path=\"data/{instrument}\")\n",
    "smap_fd = Map(filelist_fd[0])"
   ]
  },
  {
   "cell_type": "code",
   "execution_count": null,
   "id": "1c190755-ef8f-41a9-8008-b09b66449459",
   "metadata": {},
   "outputs": [],
   "source": [
    "root = load_single_aws_zarr(\n",
    "    path_to_zarr=\"s3://gov-nasa-hdrl-data1/contrib/fdl-sdoml/fdl-sdoml-v2/sdomlv2.zarr/\",\n",
    ")\n",
    "data = root[\"2010\"][\"94A\"]\n",
    "sorted_indices = np.argsort(data.attrs[\"T_OBS\"])\n",
    "img_index = sorted_indices[0]\n",
    "selected_headr = {keys: values[img_index] for keys, values in data.attrs.items()}\n",
    "selected_image = da.from_array(data)[img_index, :, :]\n",
    "smap_ml = Map((np.array(selected_image), selected_headr))"
   ]
  },
  {
   "cell_type": "code",
   "execution_count": null,
   "id": "a5fcd0b4-543f-4dea-90e9-c41277f762a9",
   "metadata": {},
   "outputs": [
    {
     "data": {
      "text/plain": [
       "'2010-05-13T00:00:03.57Z'"
      ]
     },
     "execution_count": null,
     "metadata": {},
     "output_type": "execute_result"
    }
   ],
   "source": [
    "smap_fd.meta[\"T_OBS\"]"
   ]
  },
  {
   "cell_type": "code",
   "execution_count": null,
   "id": "96f9ccd9-1e62-4402-95cb-0d1395c6dc6a",
   "metadata": {},
   "outputs": [
    {
     "data": {
      "text/plain": [
       "'2010-05-13T00:00:03.57Z'"
      ]
     },
     "execution_count": null,
     "metadata": {},
     "output_type": "execute_result"
    }
   ],
   "source": [
    "smap_ml.meta[\"T_OBS\"]"
   ]
  },
  {
   "cell_type": "code",
   "execution_count": null,
   "id": "acc88b84-e68f-4df5-a070-5d39759be9b6",
   "metadata": {},
   "outputs": [
    {
     "data": {
      "text/plain": [
       "1.03212"
      ]
     },
     "execution_count": null,
     "metadata": {},
     "output_type": "execute_result"
    }
   ],
   "source": [
    "smap_ml.meta['DEG_COR']"
   ]
  },
  {
   "cell_type": "code",
   "execution_count": null,
   "id": "ce6430de-be91-472d-9053-005360ff69d2",
   "metadata": {},
   "outputs": [],
   "source": [
    "from copy import deepcopy\n",
    "import skimage.transform\n",
    "import matplotlib.pyplot as plt"
   ]
  },
  {
   "cell_type": "code",
   "execution_count": null,
   "id": "305c1ab0-4335-4eb2-9db9-d4614891e550",
   "metadata": {},
   "outputs": [
    {
     "data": {
      "text/plain": [
       "(1024, 1024)"
      ]
     },
     "execution_count": null,
     "metadata": {},
     "output_type": "execute_result"
    }
   ],
   "source": [
    "Xd = deepcopy(smap_fd)\n",
    "X = Xd.data\n",
    "X = skimage.transform.downscale_local_mean(X,(4,4))\n",
    "# X = X*4*4\n",
    "X.shape"
   ]
  },
  {
   "cell_type": "code",
   "execution_count": null,
   "id": "65014c31-964a-43cb-8997-d33fb2229e28",
   "metadata": {},
   "outputs": [
    {
     "data": {
      "text/plain": [
       "(512, 512)"
      ]
     },
     "execution_count": null,
     "metadata": {},
     "output_type": "execute_result"
    }
   ],
   "source": [
    "trgtAS = 976.0\n",
    "divideFactor = 2\n",
    "correction = smap_ml.meta['DEG_COR']\n",
    "validMask = 1.0 * (X > 0)\n",
    "X[np.where(X<=0.0)] = 0.0\n",
    "expTime = max(Xd.meta['EXPTIME'],1e-2)\n",
    "rad = Xd.meta['RSUN_OBS']\n",
    "scale_factor = trgtAS/rad\n",
    "t = (X.shape[0]/2.0)-scale_factor*(X.shape[0]/2.0)\n",
    "XForm = skimage.transform.SimilarityTransform(scale=scale_factor,translation=(t,t))\n",
    "Xr = skimage.transform.warp(X,XForm.inverse,preserve_range=True,mode='edge',output_shape=(X.shape[0],X.shape[0]))\n",
    "Xm = skimage.transform.warp(validMask,XForm.inverse,preserve_range=True,mode='edge',output_shape=(X.shape[0],X.shape[0]))\n",
    "Xr = np.divide(Xr,(Xm+1e-8))\n",
    "Xr = Xr / (expTime*correction)\n",
    "Xr = skimage.transform.downscale_local_mean(Xr,(divideFactor,divideFactor))\n",
    "Xr = Xr.astype('float32')\n",
    "Xr.shape"
   ]
  },
  {
   "cell_type": "code",
   "execution_count": null,
   "id": "2ec9ce8c-6e5d-4455-b263-5f0938e8ba36",
   "metadata": {},
   "outputs": [
    {
     "data": {
      "text/plain": [
       "array([[0.03906132, 0.01309964, 0.02353184, ..., 0.05406639, 0.01564893,\n",
       "        0.0671241 ],\n",
       "       [0.10791421, 0.13253021, 0.0052161 , ..., 0.06780341, 0.02363364,\n",
       "        0.05055108],\n",
       "       [0.08057195, 0.04694501, 0.02086439, ..., 0.12368678, 0.05709608,\n",
       "        0.05651223],\n",
       "       ...,\n",
       "       [0.06259165, 0.03129581, 0.05216638, ..., 0.        , 0.04172836,\n",
       "        0.04172201],\n",
       "       [0.02607982, 0.04076466, 0.04753914, ..., 0.04173022, 0.02608014,\n",
       "        0.04892883],\n",
       "       [0.01564852, 0.00521559, 0.05216464, ..., 0.        , 0.06260745,\n",
       "        0.09884717]], shape=(512, 512), dtype=float32)"
      ]
     },
     "execution_count": null,
     "metadata": {},
     "output_type": "execute_result"
    }
   ],
   "source": [
    "Xr"
   ]
  },
  {
   "cell_type": "code",
   "execution_count": null,
   "id": "a55c11c6-1516-472a-82c1-318d1ff15b76",
   "metadata": {},
   "outputs": [
    {
     "data": {
      "text/plain": [
       "(512, 512)"
      ]
     },
     "execution_count": null,
     "metadata": {},
     "output_type": "execute_result"
    }
   ],
   "source": [
    "smap_ml.data.shape"
   ]
  },
  {
   "cell_type": "code",
   "execution_count": null,
   "id": "400fbf73-6144-42b2-89ec-69cc94395200",
   "metadata": {},
   "outputs": [
    {
     "data": {
      "text/plain": [
       "array([[0.08277875, 0.10278668, 0.07302539, ..., 0.0104322 , 0.02241063,\n",
       "        0.08001924],\n",
       "       [0.07155166, 0.04694489, 0.0104322 , ..., 0.05566333, 0.0104322 ,\n",
       "        0.07905251],\n",
       "       [0.03876692, 0.03983499, 0.06259319, ..., 0.09331886, 0.0391252 ,\n",
       "        0.03974015],\n",
       "       ...,\n",
       "       [0.0052161 , 0.02052629, 0.0104322 , ..., 0.0260805 , 0.0104322 ,\n",
       "        0.        ],\n",
       "       [0.0260805 , 0.01925064, 0.        , ..., 0.0260805 , 0.0104322 ,\n",
       "        0.25037277],\n",
       "       [0.0260805 , 0.        , 0.        , ..., 0.        , 0.10432199,\n",
       "        0.        ]], shape=(512, 512), dtype=float32)"
      ]
     },
     "execution_count": null,
     "metadata": {},
     "output_type": "execute_result"
    }
   ],
   "source": [
    "smap_ml.data"
   ]
  },
  {
   "cell_type": "code",
   "execution_count": null,
   "id": "5ec50090-b4e7-45dc-b236-a2987987c578",
   "metadata": {},
   "outputs": [
    {
     "data": {
      "image/png": "[encoded data removed]",
      "text/plain": [
       "<Figure size 640x480 with 1 Axes>"
      ]
     },
     "metadata": {},
     "output_type": "display_data"
    }
   ],
   "source": [
    "plt.scatter(Xr.flatten(), smap_ml.data.flatten())\n",
    "plt.gca().set_aspect('equal')\n",
    "plt.xlim(-1, 14)\n",
    "plt.ylim(-1, 14)\n",
    "plt.show()"
   ]
  },
  {
   "cell_type": "code",
   "execution_count": null,
   "id": "3a2cd85b-51c4-4e44-aed0-1c6b856db876",
   "metadata": {},
   "outputs": [],
   "source": []
  }
 ],
 "metadata": {
  "kernelspec": {
   "display_name": "python3",
   "language": "python",
   "name": "python3"
  }
 },
 "nbformat": 4,
 "nbformat_minor": 5
}

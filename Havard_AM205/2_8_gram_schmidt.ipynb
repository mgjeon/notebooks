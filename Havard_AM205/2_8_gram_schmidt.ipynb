{
 "cells": [
  {
   "cell_type": "code",
   "execution_count": null,
   "metadata": {},
   "outputs": [],
   "source": [
    "import numpy as np"
   ]
  },
  {
   "cell_type": "code",
   "execution_count": null,
   "metadata": {},
   "outputs": [
    {
     "data": {
      "text/plain": [
       "array([[0.97915075, 0.29454376, 0.20319694],\n",
       "       [0.16943012, 0.47999453, 0.97304161],\n",
       "       [0.0578595 , 0.15649885, 0.00770776],\n",
       "       [0.9294598 , 0.122083  , 0.09700409],\n",
       "       [0.42281218, 0.44108726, 0.36235189]])"
      ]
     },
     "execution_count": null,
     "metadata": {},
     "output_type": "execute_result"
    }
   ],
   "source": [
    "# a is 5 x 3 matrix\n",
    "a = np.random.random((5, 3))\n",
    "a"
   ]
  },
  {
   "cell_type": "code",
   "execution_count": null,
   "metadata": {},
   "outputs": [],
   "source": [
    "# reduced QR factorization\n",
    "(q, r) = np.linalg.qr(a)"
   ]
  },
  {
   "cell_type": "code",
   "execution_count": null,
   "metadata": {},
   "outputs": [
    {
     "data": {
      "text/plain": [
       "array([[-0.68664483,  0.0566785 , -0.09255171],\n",
       "       [-0.11881553, -0.74328582,  0.63481197],\n",
       "       [-0.04057488, -0.24080918, -0.50885539],\n",
       "       [-0.65179827,  0.33029257,  0.24878636],\n",
       "       [-0.29650368, -0.52652777, -0.51731951]])"
      ]
     },
     "execution_count": null,
     "metadata": {},
     "output_type": "execute_result"
    }
   ],
   "source": [
    "q"
   ]
  },
  {
   "cell_type": "code",
   "execution_count": null,
   "metadata": {},
   "outputs": [
    {
     "data": {
      "text/plain": [
       "array([[-1.42599304, -0.47598517, -0.42611509],\n",
       "       [ 0.        , -0.56968678, -0.87233584],\n",
       "       [ 0.        ,  0.        ,  0.4316517 ]])"
      ]
     },
     "execution_count": null,
     "metadata": {},
     "output_type": "execute_result"
    }
   ],
   "source": [
    "r"
   ]
  },
  {
   "cell_type": "code",
   "execution_count": null,
   "metadata": {},
   "outputs": [
    {
     "data": {
      "text/plain": [
       "array([[1.00000000e+00, 0.00000000e+00, 0.00000000e+00],\n",
       "       [0.00000000e+00, 1.00000000e+00, 5.55111512e-17],\n",
       "       [0.00000000e+00, 5.55111512e-17, 1.00000000e+00]])"
      ]
     },
     "execution_count": null,
     "metadata": {},
     "output_type": "execute_result"
    }
   ],
   "source": [
    "# for m x n matrix a, q is m x m and r is m x n\n",
    "# if m > n, q^T @ q is identity matrix\n",
    "q.T @ q"
   ]
  },
  {
   "cell_type": "code",
   "execution_count": null,
   "metadata": {},
   "outputs": [
    {
     "data": {
      "text/plain": [
       "array([[ 0.4832594 , -0.01929719,  0.06130727,  0.4432488 ,  0.22162872],\n",
       "       [-0.01929719,  0.96957718, -0.13921652, -0.01012547,  0.09818925],\n",
       "       [ 0.06130727, -0.13921652,  0.31856919, -0.17968713,  0.40206415],\n",
       "       [ 0.4432488 , -0.01012547, -0.17968713,  0.59582883, -0.10934966],\n",
       "       [ 0.22162872,  0.09818925,  0.40206415, -0.10934966,  0.6327654 ]])"
      ]
     },
     "execution_count": null,
     "metadata": {},
     "output_type": "execute_result"
    }
   ],
   "source": [
    "# but q @ q^T is not identity matrix\n",
    "q @ q.T"
   ]
  },
  {
   "cell_type": "code",
   "execution_count": null,
   "metadata": {},
   "outputs": [],
   "source": [
    "# full QR factorization\n",
    "(q, r) = np.linalg.qr(a, mode='complete')"
   ]
  },
  {
   "cell_type": "code",
   "execution_count": null,
   "metadata": {},
   "outputs": [
    {
     "data": {
      "text/plain": [
       "array([[-0.68664483,  0.0566785 , -0.09255171, -0.66375158, -0.27599719],\n",
       "       [-0.11881553, -0.74328582,  0.63481197,  0.04138305, -0.16944104],\n",
       "       [-0.04057488, -0.24080918, -0.50885539,  0.39399452, -0.72539584],\n",
       "       [-0.65179827,  0.33029257,  0.24878636,  0.62878495,  0.09381181],\n",
       "       [-0.29650368, -0.52652777, -0.51731951,  0.08437471,  0.60009625]])"
      ]
     },
     "execution_count": null,
     "metadata": {},
     "output_type": "execute_result"
    }
   ],
   "source": [
    "q"
   ]
  },
  {
   "cell_type": "code",
   "execution_count": null,
   "metadata": {},
   "outputs": [
    {
     "data": {
      "text/plain": [
       "array([[-1.42599304, -0.47598517, -0.42611509],\n",
       "       [ 0.        , -0.56968678, -0.87233584],\n",
       "       [ 0.        ,  0.        ,  0.4316517 ],\n",
       "       [ 0.        ,  0.        ,  0.        ],\n",
       "       [ 0.        ,  0.        ,  0.        ]])"
      ]
     },
     "execution_count": null,
     "metadata": {},
     "output_type": "execute_result"
    }
   ],
   "source": [
    "r"
   ]
  },
  {
   "cell_type": "code",
   "execution_count": null,
   "metadata": {},
   "outputs": [
    {
     "name": "stdout",
     "output_type": "stream",
     "text": [
      "[[ 1.00000000e+00  0.00000000e+00  0.00000000e+00 -1.42247325e-16\n",
      "  -2.77555756e-17]\n",
      " [ 0.00000000e+00  1.00000000e+00  5.55111512e-17 -1.38777878e-17\n",
      "   0.00000000e+00]\n",
      " [ 0.00000000e+00  5.55111512e-17  1.00000000e+00 -3.46944695e-17\n",
      "  -5.55111512e-17]\n",
      " [-1.42247325e-16 -1.38777878e-17 -3.46944695e-17  1.00000000e+00\n",
      "  -4.85722573e-17]\n",
      " [-2.77555756e-17  0.00000000e+00 -5.55111512e-17 -4.85722573e-17\n",
      "   1.00000000e+00]]\n",
      "\n",
      "[[ 1.00000000e+00 -6.93889390e-18  5.55111512e-17 -5.20417043e-17\n",
      "   2.77555756e-17]\n",
      " [-6.93889390e-18  1.00000000e+00 -6.93889390e-17  2.77555756e-17\n",
      "  -4.16333634e-17]\n",
      " [ 5.55111512e-17 -6.93889390e-17  1.00000000e+00 -4.16333634e-17\n",
      "   5.55111512e-17]\n",
      " [-5.20417043e-17  2.77555756e-17 -4.16333634e-17  1.00000000e+00\n",
      "  -6.24500451e-17]\n",
      " [ 2.77555756e-17 -4.16333634e-17  5.55111512e-17 -6.24500451e-17\n",
      "   1.00000000e+00]]\n"
     ]
    }
   ],
   "source": [
    "# q^T @ q and q @ q^T are both identity matrix\n",
    "print(q.T @ q)\n",
    "print()\n",
    "print(q @ q.T)"
   ]
  },
  {
   "cell_type": "code",
   "execution_count": null,
   "metadata": {},
   "outputs": [],
   "source": []
  }
 ],
 "metadata": {
  "kernelspec": {
   "display_name": "python3",
   "language": "python",
   "name": "python3"
  }
 },
 "nbformat": 4,
 "nbformat_minor": 2
}

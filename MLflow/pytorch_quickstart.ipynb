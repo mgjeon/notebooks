{
 "cells": [
  {
   "cell_type": "code",
   "execution_count": null,
   "metadata": {},
   "outputs": [],
   "source": [
    "# %pip install -q mlflow torchmetrics torchinfo"
   ]
  },
  {
   "cell_type": "code",
   "execution_count": null,
   "metadata": {},
   "outputs": [],
   "source": [
    "import torch\n",
    "from torch import nn\n",
    "from torch.utils.data import DataLoader\n",
    "from torchinfo import summary\n",
    "from torchmetrics import Accuracy\n",
    "from torchvision import datasets\n",
    "from torchvision.transforms import ToTensor\n",
    "\n",
    "import mlflow"
   ]
  },
  {
   "cell_type": "code",
   "execution_count": null,
   "metadata": {},
   "outputs": [],
   "source": [
    "training_data = datasets.FashionMNIST(\n",
    "    root=\"data\",\n",
    "    train=True,\n",
    "    download=True,\n",
    "    transform=ToTensor(),\n",
    ")\n",
    "\n",
    "test_data = datasets.FashionMNIST(\n",
    "    root=\"data\",\n",
    "    train=False,\n",
    "    download=True,\n",
    "    transform=ToTensor(),\n",
    ")"
   ]
  },
  {
   "cell_type": "code",
   "execution_count": null,
   "metadata": {},
   "outputs": [
    {
     "name": "stdout",
     "output_type": "stream",
     "text": [
      "Image size: torch.Size([1, 28, 28])\n",
      "Size of training dataset: 60000\n",
      "Size of test dataset: 10000\n"
     ]
    }
   ],
   "source": [
    "print(f\"Image size: {training_data[0][0].shape}\")\n",
    "print(f\"Size of training dataset: {len(training_data)}\")\n",
    "print(f\"Size of test dataset: {len(test_data)}\")"
   ]
  },
  {
   "cell_type": "code",
   "execution_count": null,
   "metadata": {},
   "outputs": [],
   "source": [
    "train_dataloader = DataLoader(training_data, batch_size=64)\n",
    "test_dataloader = DataLoader(test_data, batch_size=64)"
   ]
  },
  {
   "cell_type": "code",
   "execution_count": null,
   "metadata": {},
   "outputs": [],
   "source": [
    "class ImageClassifier(nn.Module):\n",
    "    def __init__(self):\n",
    "        super().__init__()\n",
    "        self.model = nn.Sequential(\n",
    "            nn.Conv2d(1, 8, kernel_size=3),\n",
    "            nn.ReLU(),\n",
    "            nn.Conv2d(8, 16, kernel_size=3),\n",
    "            nn.ReLU(),\n",
    "            nn.Flatten(),\n",
    "            nn.LazyLinear(10),  # 10 classes in total.\n",
    "        )\n",
    "\n",
    "    def forward(self, x):\n",
    "        return self.model(x)"
   ]
  },
  {
   "cell_type": "code",
   "execution_count": null,
   "metadata": {},
   "outputs": [],
   "source": [
    "mlflow.set_tracking_uri(\"http://localhost:5000\")"
   ]
  },
  {
   "cell_type": "code",
   "execution_count": null,
   "metadata": {},
   "outputs": [
    {
     "name": "stderr",
     "output_type": "stream",
     "text": [
      "2025/02/25 21:31:15 INFO mlflow.tracking.fluent: Experiment with name '/mlflow-pytorch-quickstart' does not exist. Creating a new experiment.\n"
     ]
    },
    {
     "data": {
      "text/plain": [
       "<Experiment: artifact_location='mlflow-artifacts:/501040217236460296', creation_time=1740486675281, experiment_id='501040217236460296', last_update_time=1740486675281, lifecycle_stage='active', name='/mlflow-pytorch-quickstart', tags={}>"
      ]
     },
     "execution_count": null,
     "metadata": {},
     "output_type": "execute_result"
    }
   ],
   "source": [
    "mlflow.set_experiment(\"/mlflow-pytorch-quickstart\")"
   ]
  },
  {
   "cell_type": "code",
   "execution_count": null,
   "metadata": {},
   "outputs": [],
   "source": [
    "# Get cpu or gpu for training.\n",
    "device = \"cuda\" if torch.cuda.is_available() else \"cpu\""
   ]
  },
  {
   "cell_type": "code",
   "execution_count": null,
   "metadata": {},
   "outputs": [],
   "source": [
    "def train(dataloader, model, loss_fn, metrics_fn, optimizer, epoch):\n",
    "    \"\"\"Train the model on a single pass of the dataloader.\n",
    "\n",
    "    Args:\n",
    "        dataloader: an instance of `torch.utils.data.DataLoader`, containing the training data.\n",
    "        model: an instance of `torch.nn.Module`, the model to be trained.\n",
    "        loss_fn: a callable, the loss function.\n",
    "        metrics_fn: a callable, the metrics function.\n",
    "        optimizer: an instance of `torch.optim.Optimizer`, the optimizer used for training.\n",
    "        epoch: an integer, the current epoch number.\n",
    "    \"\"\"\n",
    "    model.train()\n",
    "    for batch, (X, y) in enumerate(dataloader):\n",
    "        X, y = X.to(device), y.to(device)\n",
    "\n",
    "        pred = model(X)\n",
    "        loss = loss_fn(pred, y)\n",
    "        accuracy = metrics_fn(pred, y)\n",
    "\n",
    "        # Backpropagation.\n",
    "        loss.backward()\n",
    "        optimizer.step()\n",
    "        optimizer.zero_grad()\n",
    "\n",
    "        if batch % 100 == 0:\n",
    "            loss, current = loss.item(), batch\n",
    "            step = batch // 100 * (epoch + 1)\n",
    "            mlflow.log_metric(\"loss\", f\"{loss:2f}\", step=step)\n",
    "            mlflow.log_metric(\"accuracy\", f\"{accuracy:2f}\", step=step)\n",
    "            print(f\"loss: {loss:2f} accuracy: {accuracy:2f} [{current} / {len(dataloader)}]\")"
   ]
  },
  {
   "cell_type": "code",
   "execution_count": null,
   "metadata": {},
   "outputs": [],
   "source": [
    "def evaluate(dataloader, model, loss_fn, metrics_fn, epoch):\n",
    "    \"\"\"Evaluate the model on a single pass of the dataloader.\n",
    "\n",
    "    Args:\n",
    "        dataloader: an instance of `torch.utils.data.DataLoader`, containing the eval data.\n",
    "        model: an instance of `torch.nn.Module`, the model to be trained.\n",
    "        loss_fn: a callable, the loss function.\n",
    "        metrics_fn: a callable, the metrics function.\n",
    "        epoch: an integer, the current epoch number.\n",
    "    \"\"\"\n",
    "    num_batches = len(dataloader)\n",
    "    model.eval()\n",
    "    eval_loss, eval_accuracy = 0, 0\n",
    "    with torch.no_grad():\n",
    "        for X, y in dataloader:\n",
    "            X, y = X.to(device), y.to(device)\n",
    "            pred = model(X)\n",
    "            eval_loss += loss_fn(pred, y).item()\n",
    "            eval_accuracy += metrics_fn(pred, y)\n",
    "\n",
    "    eval_loss /= num_batches\n",
    "    eval_accuracy /= num_batches\n",
    "    mlflow.log_metric(\"eval_loss\", f\"{eval_loss:2f}\", step=epoch)\n",
    "    mlflow.log_metric(\"eval_accuracy\", f\"{eval_accuracy:2f}\", step=epoch)\n",
    "\n",
    "    print(f\"Eval metrics: \\nAccuracy: {eval_accuracy:.2f}, Avg loss: {eval_loss:2f} \\n\")"
   ]
  },
  {
   "cell_type": "code",
   "execution_count": null,
   "metadata": {},
   "outputs": [],
   "source": [
    "epochs = 3\n",
    "loss_fn = nn.CrossEntropyLoss()\n",
    "metric_fn = Accuracy(task=\"multiclass\", num_classes=10).to(device)\n",
    "model = ImageClassifier().to(device)\n",
    "optimizer = torch.optim.SGD(model.parameters(), lr=1e-3)"
   ]
  },
  {
   "cell_type": "code",
   "execution_count": null,
   "metadata": {},
   "outputs": [
    {
     "name": "stdout",
     "output_type": "stream",
     "text": [
      "Epoch 1\n",
      "-------------------------------\n",
      "loss: 2.306931 accuracy: 0.078125 [0 / 938]\n",
      "loss: 2.273428 accuracy: 0.281250 [100 / 938]\n",
      "loss: 2.192749 accuracy: 0.546875 [200 / 938]\n",
      "loss: 2.109706 accuracy: 0.515625 [300 / 938]\n",
      "loss: 1.844982 accuracy: 0.625000 [400 / 938]\n",
      "loss: 1.452427 accuracy: 0.687500 [500 / 938]\n",
      "loss: 1.172778 accuracy: 0.703125 [600 / 938]\n",
      "loss: 0.922216 accuracy: 0.765625 [700 / 938]\n",
      "loss: 0.908924 accuracy: 0.734375 [800 / 938]\n",
      "loss: 0.865114 accuracy: 0.781250 [900 / 938]\n",
      "Eval metrics: \n",
      "Accuracy: 0.73, Avg loss: 0.788870 \n",
      "\n",
      "Epoch 2\n",
      "-------------------------------\n",
      "loss: 0.759794 accuracy: 0.781250 [0 / 938]\n",
      "loss: 0.838669 accuracy: 0.734375 [100 / 938]\n",
      "loss: 0.534164 accuracy: 0.812500 [200 / 938]\n",
      "loss: 0.821866 accuracy: 0.703125 [300 / 938]\n",
      "loss: 0.702150 accuracy: 0.703125 [400 / 938]\n",
      "loss: 0.689902 accuracy: 0.765625 [500 / 938]\n",
      "loss: 0.734743 accuracy: 0.703125 [600 / 938]\n",
      "loss: 0.646700 accuracy: 0.765625 [700 / 938]\n",
      "loss: 0.692729 accuracy: 0.718750 [800 / 938]\n",
      "loss: 0.700289 accuracy: 0.750000 [900 / 938]\n",
      "Eval metrics: \n",
      "Accuracy: 0.77, Avg loss: 0.644341 \n",
      "\n",
      "Epoch 3\n",
      "-------------------------------\n",
      "loss: 0.547905 accuracy: 0.828125 [0 / 938]\n",
      "loss: 0.676141 accuracy: 0.718750 [100 / 938]\n",
      "loss: 0.427808 accuracy: 0.828125 [200 / 938]\n",
      "loss: 0.712967 accuracy: 0.734375 [300 / 938]\n",
      "loss: 0.636412 accuracy: 0.671875 [400 / 938]\n",
      "loss: 0.621436 accuracy: 0.765625 [500 / 938]\n",
      "loss: 0.661201 accuracy: 0.718750 [600 / 938]\n",
      "loss: 0.627712 accuracy: 0.781250 [700 / 938]\n",
      "loss: 0.676345 accuracy: 0.718750 [800 / 938]\n",
      "loss: 0.610075 accuracy: 0.718750 [900 / 938]\n",
      "Eval metrics: \n",
      "Accuracy: 0.77, Avg loss: 0.608409 \n",
      "\n"
     ]
    },
    {
     "name": "stderr",
     "output_type": "stream",
     "text": [
      "\u001b[31m2025/02/25 21:33:53 WARNING mlflow.models.model: Model logged without a signature and input example. Please set `input_example` parameter when logging the model to auto infer the model signature.\u001b[0m\n"
     ]
    },
    {
     "name": "stdout",
     "output_type": "stream",
     "text": [
      "🏃 View run stately-hog-877 at: http://localhost:5000/#/experiments/501040217236460296/runs/3cec7ccd89ef45daa14a82836a503709\n",
      "🧪 View experiment at: http://localhost:5000/#/experiments/501040217236460296\n"
     ]
    }
   ],
   "source": [
    "with mlflow.start_run() as run:\n",
    "    params = {\n",
    "        \"epochs\": epochs,\n",
    "        \"learning_rate\": 1e-3,\n",
    "        \"batch_size\": 64,\n",
    "        \"loss_function\": loss_fn.__class__.__name__,\n",
    "        \"metric_function\": metric_fn.__class__.__name__,\n",
    "        \"optimizer\": \"SGD\",\n",
    "    }\n",
    "    # Log training parameters.\n",
    "    mlflow.log_params(params)\n",
    "\n",
    "    # Log model summary.\n",
    "    with open(\"model_summary.txt\", \"w\") as f:\n",
    "        f.write(str(summary(model)))\n",
    "    mlflow.log_artifact(\"model_summary.txt\")\n",
    "\n",
    "    for t in range(epochs):\n",
    "        print(f\"Epoch {t+1}\\n-------------------------------\")\n",
    "        train(train_dataloader, model, loss_fn, metric_fn, optimizer, epoch=t)\n",
    "        evaluate(test_dataloader, model, loss_fn, metric_fn, epoch=0)\n",
    "\n",
    "    # Save the trained model to MLflow.\n",
    "    mlflow.pytorch.log_model(model, \"model\")"
   ]
  },
  {
   "cell_type": "code",
   "execution_count": null,
   "metadata": {},
   "outputs": [
    {
     "data": {
      "text/plain": [
       "'runs:/3cec7ccd89ef45daa14a82836a503709/model'"
      ]
     },
     "execution_count": null,
     "metadata": {},
     "output_type": "execute_result"
    }
   ],
   "source": [
    "logged_model = f\"runs:/{run.info.run_id}/model\"\n",
    "logged_model"
   ]
  },
  {
   "cell_type": "code",
   "execution_count": null,
   "metadata": {},
   "outputs": [
    {
     "data": {
      "application/vnd.jupyter.widget-view+json": {
       "model_id": "f5f710a66e1548298813191fa407fbd2",
       "version_major": 2,
       "version_minor": 0
      },
      "text/plain": [
       "Downloading artifacts:   0%|          | 0/6 [00:00<?, ?it/s]"
      ]
     },
     "metadata": {},
     "output_type": "display_data"
    },
    {
     "data": {
      "text/plain": [
       "mlflow.pyfunc.loaded_model:\n",
       "  artifact_path: model\n",
       "  flavor: mlflow.pytorch\n",
       "  run_id: 3cec7ccd89ef45daa14a82836a503709"
      ]
     },
     "execution_count": null,
     "metadata": {},
     "output_type": "execute_result"
    }
   ],
   "source": [
    "loaded_model = mlflow.pyfunc.load_model(logged_model)\n",
    "loaded_model"
   ]
  },
  {
   "cell_type": "code",
   "execution_count": null,
   "metadata": {},
   "outputs": [],
   "source": [
    "outputs = loaded_model.predict(training_data[0][0][None, :].numpy())"
   ]
  },
  {
   "cell_type": "code",
   "execution_count": null,
   "metadata": {},
   "outputs": [
    {
     "data": {
      "text/plain": [
       "(1, 10)"
      ]
     },
     "execution_count": null,
     "metadata": {},
     "output_type": "execute_result"
    }
   ],
   "source": [
    "outputs.shape"
   ]
  },
  {
   "cell_type": "code",
   "execution_count": null,
   "metadata": {},
   "outputs": [
    {
     "name": "stdout",
     "output_type": "stream",
     "text": [
      "Predicted: 9\n",
      "Truth: 9\n"
     ]
    },
    {
     "data": {
      "image/png": "[encoded data removed]",
      "text/plain": [
       "<Figure size 640x480 with 1 Axes>"
      ]
     },
     "metadata": {},
     "output_type": "display_data"
    }
   ],
   "source": [
    "import matplotlib.pyplot as plt\n",
    "pred = outputs.argmax()\n",
    "print(f\"Predicted: {pred}\")\n",
    "print(f\"Truth: {training_data[0][1]}\")\n",
    "plt.imshow(training_data[0][0][None, :].numpy().squeeze(), cmap=\"gray\")\n",
    "plt.show()"
   ]
  },
  {
   "cell_type": "code",
   "execution_count": null,
   "metadata": {},
   "outputs": [],
   "source": []
  }
 ],
 "metadata": {
  "kernelspec": {
   "display_name": "python3",
   "language": "python",
   "name": "python3"
  }
 },
 "nbformat": 4,
 "nbformat_minor": 2
}

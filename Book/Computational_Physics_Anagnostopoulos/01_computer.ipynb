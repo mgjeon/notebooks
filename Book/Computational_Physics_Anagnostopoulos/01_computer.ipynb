{
 "cells": [
  {
   "cell_type": "markdown",
   "metadata": {},
   "source": [
    "# Chapter 1. The Computer"
   ]
  },
  {
   "cell_type": "markdown",
   "metadata": {},
   "source": [
    "- GNU/Linux\n",
    "- Fortran \n",
    "- tcsh"
   ]
  },
  {
   "cell_type": "markdown",
   "metadata": {},
   "source": [
    "## 1.1 The Operating System\n",
    "\n",
    "- In the Unix operating system everything is a file, and files are organized in a unique and unified filesystem."
   ]
  },
  {
   "cell_type": "markdown",
   "metadata": {},
   "source": [
    "### 1.1.1 Filesystem"
   ]
  },
  {
   "cell_type": "markdown",
   "metadata": {},
   "source": [
    "- There is at least one path in the filesystem associated with each file. \n",
    "- There are two types of paths, relative paths and absolute paths.\n",
    "- An absolute path always begins with the / character, whereas a relative path does not.\n",
    "- When we say that \"we are in a directory\", we refer to a position in the filesystem called the current directory, or working directory.\n",
    "- Every process in the operating system has a unique current directory associated with it."
   ]
  },
  {
   "cell_type": "markdown",
   "metadata": {},
   "source": [
    "- The filesystem is built on its root and looks like a tree positioned upside down. \n",
    "- The symbol of the root is the character /.\n",
    "- The root is a directory. \n",
    "- Every directory is a file that contains a list of files, and it is connected to a unique directory, its parent directory . \n",
    "- Its list of files contains other directories, called its subdirectories, which all have it as their parent directory.\n",
    "- All these files are the contents of the directory."
   ]
  },
  {
   "cell_type": "markdown",
   "metadata": {},
   "source": [
    "- A path consists of a string of characters, with the characters / separating its components, and refers to a unique location in the filesystem.\n",
    "- Every component refers to a file. All, but the last one, must be directories in a hierarchy, from parent directory to subdirectory.\n",
    "- The only exception is a possible / in the beginning, which refers to the root directory.\n",
    "- A single dot \".\" refers to the current directory and a double dot \"..\" to the parent directory. Similarly, a tilde \"~\" refers to the home directory of the user.\n",
    "- If we are the user george, ~ and ~george refer to the home directory of the user george (ourselves), whereas ~mary refer to the home directory of another user, mary.\n",
    "- In a Unix filesystem there is complete freedom in the choice of the location of the files.\n",
    "    - Universally accepted conventions: One expects to find home directories in the directory /home, configuration files in the directory /etc, application executables in directories with names such as /bin, /usr/bin, /usr/local/bin, software libraries in directories with names such as /lib, /usr/lib etc."
   ]
  },
  {
   "cell_type": "markdown",
   "metadata": {},
   "source": [
    "- The command cd (=change directory) changes the current directory\n",
    "    - The argument of the command cd is an absolute or a relative path. \n",
    "    - If the path is correct and we have the necessary permissions, the command changes the current directory to this path. \n",
    "    - If no path is given, then the current directory changes to the home directory of the user. \n",
    "    - If the character - is given instead of a path, then the command changes the current directory to the previous current directory.\n",
    "- The command pwd (=print working directory) prints the current directory\n",
    "- The command mkdir creates new directories\n",
    "    - The command mkdir cannot create directories more than one level down the filesystem, whereas the command mkdir -p can.\n",
    "- The command rmdir removes empty directories.\n",
    "- The command ls (=list) lists the contents of a directory.\n",
    "    - The command ls -l lists the contents of a directory in long format.\n",
    "        - The first column lists the permissions of the files.\n",
    "        - The second one lists the number of links of the files.\n",
    "            - For a directory it means the number of its subdirectories plus 2 (the parent directory and itself). \n",
    "            - For a regular file, it shows how many paths in the filesystem point to this file.\n",
    "        - The third one lists the user who is the owner of each file.\n",
    "        - The fourth one lists the group that is assigned to the files.\n",
    "        - The fifth one lists the size of the file in bytes (=8 bits).\n",
    "        - The next three ones list the modification time of the file.\n",
    "        - The last one lists the paths of the files."
   ]
  },
  {
   "cell_type": "markdown",
   "metadata": {},
   "source": [
    "- File permissions are separated in three classes: owner permissions, group permissions and other permissions.\n",
    "- Each class is given three specific permissions, r=read, w=write and x=execute.\n",
    "    - For regular files, read permission effectively means access to the file for reading/copying, write permission means permission to modify the contents of the file and execute permission means permission to execute the file as a command.\n",
    "    - For directories, read permission means that one is able to read the names of the files in the directory (but not make it as current directory with the cd command), write permission means to be able to modify its contents (i.e. create, delete, and rename files) and execute permission grants permission to access/modify the contents of the files (but not list the names of the files, this is granted by the read permission).\n",
    "- The command ls -l lists permissions in three groups.\n",
    "    - The owner (positions 2-4), the group (positions 5-7) and the rest of the world (others - positions 8-10).\n",
    "    - The first character d indicates a special file, which in this case is a directory. \n",
    "    - All special files have this position set to a character, while regular files have it set to -.\n",
    "- File permissions can be modified by using the command chmod:\n",
    "    - `chmod u+x file`: The owner (u≡ user) obtains (+) permission to execute (x) the file named file.\n",
    "    - `chmod og-w file1 file2`: The rest of the world (o≡ others) and the group (g≡ group) loose (-) the write (w) permission to the files named file1 and file2.\n",
    "    - `chmod a+r file`: Everyone (a≡ all) obtain read (r) permission on the file named file."
   ]
  },
  {
   "cell_type": "markdown",
   "metadata": {},
   "source": [
    "- The command cp (copy) copies the contents of files into other files.\n",
    "    - `cp file1.f90 file2.f90`: The contents of the file file1.f90 are copied into the file file2.f90.\n",
    "    - `cp file.f90 file2.f90 dir`: The contents of the files file1.f90 and file2.f90 are copied into the directory dir. \n",
    "- The command mv \"moves\", or renames, files\n",
    "    - `mv file1.f90 file2.f90`: The file file1.f90 is renamed to file2.f90.\n",
    "    - `mv file1.f90 file2.f90 dir`: The files file1.f90 and file2.f90 are moved to the directory dir.\n",
    "- The command rm (remove) deletes files.\n",
    "    - Actually it removes \"links\" from files. A file may have more than one links in the same partition of a filesystem. A file is deleted when its last link is removed.\n",
    "    - `rm -i` asks for confirmation before removing a file.\n",
    "- In order to delete directories together with their contents (including subdirectories and their contents) use the command rm -r."
   ]
  },
  {
   "cell_type": "markdown",
   "metadata": {},
   "source": [
    "### 1.1.2 Commands"
   ]
  },
  {
   "cell_type": "markdown",
   "metadata": {},
   "source": [
    "- Commands in a Unix operating system are files with execute permission."
   ]
  },
  {
   "cell_type": "markdown",
   "metadata": {},
   "source": [
    "- The shell is a program that creates a interface between a user and the operating system.\n",
    "- When we write a sentence on the command line, the shell reads its and interprets it. \n",
    "    - The first word of the sentence is interpreted as a command.\n",
    "    - The rest of the words are the arguments of the command.\n",
    "    - There is a special convention for arguments that begin with a -.\n",
    "    - There are called options or swithces."
   ]
  },
  {
   "cell_type": "markdown",
   "metadata": {},
   "source": [
    "- The shell variables and environment variables have a name, which is a string of permissible characters, and their values are obtained by preceding their name with the $ character. \n",
    "    - For example the variable PATH has value $PATH.\n",
    "    - `setenv MYVAR test-env` sets the environment variable MYVAR to the value test-env.\n",
    "    - `set myvar = test-shell` sets the shell variable myvar to the value test-shell.\n",
    "    - `echo $MYVAR $myvar` prints the values of the environment variable MYVAR and the shell variable myvar.\n",
    "- For a command `ls`, the shell searches each component of the path (shell variable) or PATH (environment variable) until it finds a file `ls` in their contents. If it succeeds and the file has execute permissions, then the program in this file is executed. If it fails, then it prints an error message.\n",
    "- For each command there are three special files associated with it. The first one is the standard input (stdin), the second one is the standard output (stdout) and the third one the standard error (stderr).\n",
    "    - Using the character > at the end of a command redirects the stdout to the file whose name is written after >.\n",
    "        - If the file does not exist, the file is created. If it already exists, it is truncated and its contents replaced by the data written to the stdout of the command.\n",
    "    - If we want to append data without erasing the existing contents, then we should use the string of characters >>.\n",
    "    - The redirection of the stdin is accomplished by the use of the character < while that of the stderr by the use of the string of characters >&."
   ]
  },
  {
   "cell_type": "markdown",
   "metadata": {},
   "source": [
    "- It is possible to redirect the stdout of a command to be the stdin of another command. This is very useful for creating filters.\n",
    "- A filter is a command that creates a flow of data between two or more programs. This process is called piping. Pipes are creating by using the character `|`.\n",
    "```\n",
    "> cmd1 | cmd2 | cmd3 | ... | cmdN\n",
    "```\n",
    "- Using the syntax shown above, the stdout of the command cmd1 is redirected to the stdin of the command cmd2, the stdout of the command cmd2 is redirected to the stdin of the command cmd3 etc."
   ]
  },
  {
   "cell_type": "markdown",
   "metadata": {},
   "source": [
    "### 1.1.3 Looking for Help"
   ]
  },
  {
   "cell_type": "markdown",
   "metadata": {},
   "source": [
    "- basic usage of the command `cmd`:\n",
    "```\n",
    "> cmd --help \n",
    "> cmd -h \n",
    "> cmd -help \n",
    "> cmd -\\?\n",
    "```\n",
    "\n",
    "- more detailed information about the command `cmd`:\n",
    "```\n",
    "> man cmd\n",
    "```\n",
    "\n",
    "- location of the command `cmd`:\n",
    "```\n",
    "> which cmd\n",
    "> where cmd\n",
    "```"
   ]
  },
  {
   "cell_type": "markdown",
   "metadata": {},
   "source": [
    "## 1.2 Text Processing Tools – Filters"
   ]
  },
  {
   "cell_type": "markdown",
   "metadata": {},
   "source": [
    "- For doing data analysis, we will need powerful tools for manipulating data in text files. These are files that consist solely of printable characters."
   ]
  },
  {
   "cell_type": "markdown",
   "metadata": {},
   "source": [
    "- cat\n",
    "- less\n",
    "- head\n",
    "- tail\n",
    "- grep\n",
    "- sort\n",
    "- awk"
   ]
  },
  {
   "cell_type": "markdown",
   "metadata": {},
   "source": [
    "## 1.3 Programming with Emacs"
   ]
  },
  {
   "cell_type": "markdown",
   "metadata": {},
   "source": [
    "- An editor edits the contents of a text file, that consists solely of\n",
    "printable characters. \n",
    "- Such editors, available in most Linux environments,\n",
    "are the programs gedit, vim, pico, nano, zile... "
   ]
  },
  {
   "cell_type": "markdown",
   "metadata": {},
   "source": [
    "## 1.4 The Fortran Programming Language"
   ]
  },
  {
   "cell_type": "markdown",
   "metadata": {},
   "source": [
    "- Typical names for Fortran compilers are gfortran, f90, ifort, g95, ..."
   ]
  },
  {
   "cell_type": "markdown",
   "metadata": {},
   "source": [
    "## 1.5 Gnuplot"
   ]
  },
  {
   "cell_type": "markdown",
   "metadata": {},
   "source": [
    "http://www.gnuplot.info/"
   ]
  },
  {
   "cell_type": "markdown",
   "metadata": {},
   "source": []
  }
 ],
 "metadata": {
  "kernelspec": {
   "display_name": "python3",
   "language": "python",
   "name": "python3"
  }
 },
 "nbformat": 4,
 "nbformat_minor": 2
}

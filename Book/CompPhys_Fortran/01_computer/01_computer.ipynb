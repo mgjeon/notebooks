{
 "cells": [
  {
   "cell_type": "markdown",
   "metadata": {},
   "source": [
    "# Chapter 1. The Computer"
   ]
  },
  {
   "cell_type": "markdown",
   "metadata": {},
   "source": [
    "- GNU/Linux\n",
    "- Fortran \n",
    "- tcsh"
   ]
  },
  {
   "cell_type": "markdown",
   "metadata": {},
   "source": [
    "## 1.1 The Operating System\n",
    "\n",
    "- In the Unix operating system everything is a file, and files are organized in a unique and unified filesystem."
   ]
  },
  {
   "cell_type": "markdown",
   "metadata": {},
   "source": [
    "### 1.1.1 Filesystem"
   ]
  },
  {
   "cell_type": "markdown",
   "metadata": {},
   "source": [
    "- There is at least one path in the filesystem associated with each file. \n",
    "- There are two types of paths, relative paths and absolute paths.\n",
    "- An absolute path always begins with the / character, whereas a relative path does not.\n",
    "- When we say that \"we are in a directory\", we refer to a position in the filesystem called the current directory, or working directory.\n",
    "- Every process in the operating system has a unique current directory associated with it."
   ]
  },
  {
   "cell_type": "markdown",
   "metadata": {},
   "source": [
    "- The filesystem is built on its root and looks like a tree positioned upside down. \n",
    "- The symbol of the root is the character /.\n",
    "- The root is a directory. \n",
    "- Every directory is a file that contains a list of files, and it is connected to a unique directory, its parent directory . \n",
    "- Its list of files contains other directories, called its subdirectories, which all have it as their parent directory.\n",
    "- All these files are the contents of the directory."
   ]
  },
  {
   "cell_type": "markdown",
   "metadata": {},
   "source": [
    "- A path consists of a string of characters, with the characters / separating its components, and refers to a unique location in the filesystem.\n",
    "- Every component refers to a file. All, but the last one, must be directories in a hierarchy, from parent directory to subdirectory.\n",
    "- The only exception is a possible / in the beginning, which refers to the root directory.\n",
    "- A single dot \".\" refers to the current directory and a double dot \"..\" to the parent directory. Similarly, a tilde \"~\" refers to the home directory of the user.\n",
    "- If we are the user george, ~ and ~george refer to the home directory of the user george (ourselves), whereas ~mary refer to the home directory of another user, mary.\n",
    "- In a Unix filesystem there is complete freedom in the choice of the location of the files.\n",
    "    - Universally accepted conventions: One expects to find home directories in the directory /home, configuration files in the directory /etc, application executables in directories with names such as /bin, /usr/bin, /usr/local/bin, software libraries in directories with names such as /lib, /usr/lib etc."
   ]
  },
  {
   "cell_type": "markdown",
   "metadata": {},
   "source": [
    "- The command cd (=change directory) changes the current directory\n",
    "    - The argument of the command cd is an absolute or a relative path. \n",
    "    - If the path is correct and we have the necessary permissions, the command changes the current directory to this path. \n",
    "    - If no path is given, then the current directory changes to the home directory of the user. \n",
    "    - If the character - is given instead of a path, then the command changes the current directory to the previous current directory.\n",
    "- The command pwd (=print working directory) prints the current directory\n",
    "- The command mkdir creates new directories\n",
    "    - The command mkdir cannot create directories more than one level down the filesystem, whereas the command mkdir -p can.\n",
    "- The command rmdir removes empty directories.\n",
    "- The command ls (=list) lists the contents of a directory.\n",
    "    - The command ls -l lists the contents of a directory in long format.\n",
    "        - The first column lists the permissions of the files.\n",
    "        - The second one lists the number of links of the files.\n",
    "            - For a directory it means the number of its subdirectories plus 2 (the parent directory and itself). \n",
    "            - For a regular file, it shows how many paths in the filesystem point to this file.\n",
    "        - The third one lists the user who is the owner of each file.\n",
    "        - The fourth one lists the group that is assigned to the files.\n",
    "        - The fifth one lists the size of the file in bytes (=8 bits).\n",
    "        - The next three ones list the modification time of the file.\n",
    "        - The last one lists the paths of the files."
   ]
  },
  {
   "cell_type": "markdown",
   "metadata": {},
   "source": [
    "- File permissions are separated in three classes: owner permissions, group permissions and other permissions.\n",
    "- Each class is given three specific permissions, r=read, w=write and x=execute.\n",
    "    - For regular files, read permission effectively means access to the file for reading/copying, write permission means permission to modify the contents of the file and execute permission means permission to execute the file as a command.\n",
    "    - For directories, read permission means that one is able to read the names of the files in the directory (but not make it as current directory with the cd command), write permission means to be able to modify its contents (i.e. create, delete, and rename files) and execute permission grants permission to access/modify the contents of the files (but not list the names of the files, this is granted by the read permission).\n",
    "- The command ls -l lists permissions in three groups.\n",
    "    - The owner (positions 2-4), the group (positions 5-7) and the rest of the world (others - positions 8-10).\n",
    "    - The first character d indicates a special file, which in this case is a directory. \n",
    "    - All special files have this position set to a character, while regular files have it set to -.\n",
    "- File permissions can be modified by using the command chmod:\n",
    "    - `chmod u+x file`: The owner (u≡ user) obtains (+) permission to execute (x) the file named file.\n",
    "    - `chmod og-w file1 file2`: The rest of the world (o≡ others) and the group (g≡ group) loose (-) the write (w) permission to the files named file1 and file2.\n",
    "    - `chmod a+r file`: Everyone (a≡ all) obtain read (r) permission on the file named file."
   ]
  },
  {
   "cell_type": "markdown",
   "metadata": {},
   "source": [
    "- The command cp (copy) copies the contents of files into other files.\n",
    "    - `cp file1.f90 file2.f90`: The contents of the file file1.f90 are copied into the file file2.f90.\n",
    "    - `cp file.f90 file2.f90 dir`: The contents of the files file1.f90 and file2.f90 are copied into the directory dir. \n",
    "- The command mv \"moves\", or renames, files\n",
    "    - `mv file1.f90 file2.f90`: The file file1.f90 is renamed to file2.f90.\n",
    "    - `mv file1.f90 file2.f90 dir`: The files file1.f90 and file2.f90 are moved to the directory dir.\n",
    "- The command rm (remove) deletes files.\n",
    "    - Actually it removes \"links\" from files. A file may have more than one links in the same partition of a filesystem. A file is deleted when its last link is removed.\n",
    "    - `rm -i` asks for confirmation before removing a file.\n",
    "- In order to delete directories together with their contents (including subdirectories and their contents) use the command rm -r."
   ]
  },
  {
   "cell_type": "markdown",
   "metadata": {},
   "source": [
    "### 1.1.2 Commands"
   ]
  },
  {
   "cell_type": "markdown",
   "metadata": {},
   "source": [
    "- Commands in a Unix operating system are files with execute permission."
   ]
  },
  {
   "cell_type": "markdown",
   "metadata": {},
   "source": [
    "- The shell is a program that creates a interface between a user and the operating system.\n",
    "- When we write a sentence on the command line, the shell reads its and interprets it. \n",
    "    - The first word of the sentence is interpreted as a command.\n",
    "    - The rest of the words are the arguments of the command.\n",
    "    - There is a special convention for arguments that begin with a -.\n",
    "    - There are called options or swithces."
   ]
  },
  {
   "cell_type": "markdown",
   "metadata": {},
   "source": [
    "- The shell variables and environment variables have a name, which is a string of permissible characters, and their values are obtained by preceding their name with the $ character. \n",
    "    - For example the variable PATH has value $PATH.\n",
    "    - `setenv MYVAR test-env` sets the environment variable MYVAR to the value test-env.\n",
    "    - `set myvar = test-shell` sets the shell variable myvar to the value test-shell.\n",
    "    - `echo $MYVAR $myvar` prints the values of the environment variable MYVAR and the shell variable myvar.\n",
    "- For a command `ls`, the shell searches each component of the path (shell variable) or PATH (environment variable) until it finds a file `ls` in their contents. If it succeeds and the file has execute permissions, then the program in this file is executed. If it fails, then it prints an error message.\n",
    "- For each command there are three special files associated with it. The first one is the standard input (stdin), the second one is the standard output (stdout) and the third one the standard error (stderr).\n",
    "    - Using the character > at the end of a command redirects the stdout to the file whose name is written after >.\n",
    "        - If the file does not exist, the file is created. If it already exists, it is truncated and its contents replaced by the data written to the stdout of the command.\n",
    "    - If we want to append data without erasing the existing contents, then we should use the string of characters >>.\n",
    "    - The redirection of the stdin is accomplished by the use of the character < while that of the stderr by the use of the string of characters >&."
   ]
  },
  {
   "cell_type": "markdown",
   "metadata": {},
   "source": [
    "- It is possible to redirect the stdout of a command to be the stdin of another command. This is very useful for creating filters.\n",
    "- A filter is a command that creates a flow of data between two or more programs. This process is called piping. Pipes are creating by using the character `|`.\n",
    "```\n",
    "> cmd1 | cmd2 | cmd3 | ... | cmdN\n",
    "```\n",
    "- Using the syntax shown above, the stdout of the command cmd1 is redirected to the stdin of the command cmd2, the stdout of the command cmd2 is redirected to the stdin of the command cmd3 etc."
   ]
  },
  {
   "cell_type": "markdown",
   "metadata": {},
   "source": [
    "### 1.1.3 Looking for Help"
   ]
  },
  {
   "cell_type": "markdown",
   "metadata": {},
   "source": [
    "- basic usage of the command `cmd`:\n",
    "```\n",
    "> cmd --help \n",
    "> cmd -h \n",
    "> cmd -help \n",
    "> cmd -\\?\n",
    "```\n",
    "\n",
    "- more detailed information about the command `cmd`:\n",
    "```\n",
    "> man cmd\n",
    "```\n",
    "\n",
    "- location of the command `cmd`:\n",
    "```\n",
    "> which cmd\n",
    "> where cmd\n",
    "```"
   ]
  },
  {
   "cell_type": "markdown",
   "metadata": {},
   "source": [
    "## 1.2 Text Processing Tools – Filters"
   ]
  },
  {
   "cell_type": "markdown",
   "metadata": {},
   "source": [
    "- For doing data analysis, we will need powerful tools for manipulating data in text files. These are files that consist solely of printable characters."
   ]
  },
  {
   "cell_type": "markdown",
   "metadata": {},
   "source": [
    "- cat\n",
    "- less\n",
    "- head\n",
    "- tail\n",
    "- grep\n",
    "- sort\n",
    "- awk"
   ]
  },
  {
   "cell_type": "markdown",
   "metadata": {},
   "source": [
    "## 1.3 Programming with Emacs"
   ]
  },
  {
   "cell_type": "markdown",
   "metadata": {},
   "source": [
    "- An editor edits the contents of a text file, that consists solely of\n",
    "printable characters. \n",
    "- Such editors, available in most Linux environments,\n",
    "are the programs gedit, vim, pico, nano, zile... "
   ]
  },
  {
   "cell_type": "markdown",
   "metadata": {},
   "source": [
    "## 1.4 The Fortran Programming Language"
   ]
  },
  {
   "cell_type": "markdown",
   "metadata": {},
   "source": [
    "- Typical names for Fortran compilers are gfortran, f90, ifort, g95, ..."
   ]
  },
  {
   "cell_type": "markdown",
   "metadata": {},
   "source": [
    "## 1.5 Gnuplot"
   ]
  },
  {
   "cell_type": "markdown",
   "metadata": {},
   "source": [
    "http://www.gnuplot.info/"
   ]
  },
  {
   "cell_type": "markdown",
   "metadata": {},
   "source": [
    "# Command"
   ]
  },
  {
   "cell_type": "code",
   "execution_count": null,
   "metadata": {},
   "outputs": [
    {
     "name": "stdout",
     "output_type": "stream",
     "text": [
      " Circle with radius R=    4.00000000    \n",
      " Perimeter=    25.1327419    \n",
      " Area=         50.2654839    \n"
     ]
    }
   ],
   "source": [
    "!gfortran area_01.f90 -o area\n",
    "!./area"
   ]
  },
  {
   "cell_type": "code",
   "execution_count": null,
   "metadata": {},
   "outputs": [
    {
     "name": "stdout",
     "output_type": "stream",
     "text": [
      "           1 ) R=    2.27999997      perimeter=    14.3256626    \n",
      "           1 ) R=    2.27999997      area     =    16.3312550    \n",
      "           2 ) R=    3.27999997      perimeter=    20.6088486    \n",
      "           2 ) R=    3.27999997      area     =    33.7985115    \n",
      "           3 ) R=    4.27999973      perimeter=    26.8920326    \n",
      "           3 ) R=    4.27999973      area     =    57.5489464    \n",
      "           4 ) R=    5.27999973      perimeter=    33.1752167    \n",
      "           4 ) R=    5.27999973      area     =    87.5825729    \n",
      "           5 ) R=    6.27999973      perimeter=    39.4584045    \n",
      "           5 ) R=    6.27999973      area     =    123.899384    \n",
      "           6 ) R=    7.27999973      perimeter=    45.7415886    \n",
      "           6 ) R=    7.27999973      area     =    166.499374    \n",
      "           7 ) R=    8.27999973      perimeter=    52.0247726    \n",
      "           7 ) R=    8.27999973      area     =    215.382553    \n",
      "           8 ) R=    9.27999973      perimeter=    58.3079605    \n",
      "           8 ) R=    9.27999973      area     =    270.548920    \n",
      "           9 ) R=    10.2799997      perimeter=    64.5911484    \n",
      "           9 ) R=    10.2799997      area     =    331.998474    \n",
      "          10 ) R=    11.2799997      perimeter=    70.8743286    \n",
      "          10 ) R=    11.2799997      area     =    399.731232    \n"
     ]
    }
   ],
   "source": [
    "!gfortran area_02.f90 -o area\n",
    "!./area"
   ]
  },
  {
   "cell_type": "code",
   "execution_count": null,
   "metadata": {},
   "outputs": [],
   "source": [
    "!gfortran area_03.f90 -o area"
   ]
  },
  {
   "cell_type": "code",
   "execution_count": null,
   "metadata": {},
   "outputs": [],
   "source": [
    "!echo \"1\\n2\\n3\\n4\\n5\\n6\\n7\\n8\\n9\\n10\" > input.txt"
   ]
  },
  {
   "cell_type": "code",
   "execution_count": null,
   "metadata": {},
   "outputs": [
    {
     "name": "stdout",
     "output_type": "stream",
     "text": [
      " Enter radius of circle: \n",
      " i=            1  R(i)=    1.00000000    \n",
      " Enter radius of circle: \n",
      " i=            2  R(i)=    2.00000000    \n",
      " Enter radius of circle: \n",
      " i=            3  R(i)=    3.00000000    \n",
      " Enter radius of circle: \n",
      " i=            4  R(i)=    4.00000000    \n",
      " Enter radius of circle: \n",
      " i=            5  R(i)=    5.00000000    \n",
      " Enter radius of circle: \n",
      " i=            6  R(i)=    6.00000000    \n",
      " Enter radius of circle: \n",
      " i=            7  R(i)=    7.00000000    \n",
      " Enter radius of circle: \n",
      " i=            8  R(i)=    8.00000000    \n",
      " Enter radius of circle: \n",
      " i=            9  R(i)=    9.00000000    \n",
      " Enter radius of circle: \n",
      " i=           10  R(i)=    10.0000000    \n"
     ]
    }
   ],
   "source": [
    "!./area < input.txt"
   ]
  },
  {
   "cell_type": "code",
   "execution_count": null,
   "metadata": {},
   "outputs": [
    {
     "name": "stdout",
     "output_type": "stream",
     "text": [
      "           1 ) R=    1.00000000      area=    3.14159298      perimeter=    6.28318596    \n",
      "           2 ) R=    2.00000000      area=    12.5663719      perimeter=    12.5663719    \n",
      "           3 ) R=    3.00000000      area=    28.2743378      perimeter=    18.8495579    \n",
      "           4 ) R=    4.00000000      area=    50.2654877      perimeter=    25.1327438    \n",
      "           5 ) R=    5.00000000      area=    78.5398254      perimeter=    31.4159298    \n",
      "           6 ) R=    6.00000000      area=    113.097351      perimeter=    37.6991158    \n",
      "           7 ) R=    7.00000000      area=    153.938049      perimeter=    43.9822998    \n",
      "           8 ) R=    8.00000000      area=    201.061951      perimeter=    50.2654877    \n",
      "           9 ) R=    9.00000000      area=    254.469025      perimeter=    56.5486755    \n",
      "          10 ) R=    10.0000000      area=    314.159302      perimeter=    62.8318596    \n"
     ]
    }
   ],
   "source": [
    "!cat AREA.DAT"
   ]
  },
  {
   "cell_type": "code",
   "execution_count": null,
   "metadata": {},
   "outputs": [],
   "source": [
    "!echo \"10\\n20\\n30\\n40\\n50\\n60\\n70\\n80\\n90\\n100\" > input2.txt"
   ]
  },
  {
   "cell_type": "code",
   "execution_count": null,
   "metadata": {},
   "outputs": [
    {
     "name": "stdout",
     "output_type": "stream",
     "text": [
      " Enter radius of circle: \n",
      " i=            1  R(i)=    10.0000000    \n",
      " Enter radius of circle: \n",
      " i=            2  R(i)=    20.0000000    \n",
      " Enter radius of circle: \n",
      " i=            3  R(i)=    30.0000000    \n",
      " Enter radius of circle: \n",
      " i=            4  R(i)=    40.0000000    \n",
      " Enter radius of circle: \n",
      " i=            5  R(i)=    50.0000000    \n",
      " Enter radius of circle: \n",
      " i=            6  R(i)=    60.0000000    \n",
      " Enter radius of circle: \n",
      " i=            7  R(i)=    70.0000000    \n",
      " Enter radius of circle: \n",
      " i=            8  R(i)=    80.0000000    \n",
      " Enter radius of circle: \n",
      " i=            9  R(i)=    90.0000000    \n",
      " Enter radius of circle: \n",
      " i=           10  R(i)=    100.000000    \n",
      "           1 ) R=    10.0000000      area=    314.159302      perimeter=    62.8318596    \n",
      "           2 ) R=    20.0000000      area=    1256.63721      perimeter=    125.663719    \n",
      "           3 ) R=    30.0000000      area=    2827.43359      perimeter=    188.495575    \n",
      "           4 ) R=    40.0000000      area=    5026.54883      perimeter=    251.327438    \n",
      "           5 ) R=    50.0000000      area=    7853.98242      perimeter=    314.159302    \n",
      "           6 ) R=    60.0000000      area=    11309.7344      perimeter=    376.991150    \n",
      "           7 ) R=    70.0000000      area=    15393.8057      perimeter=    439.823029    \n",
      "           8 ) R=    80.0000000      area=    20106.1953      perimeter=    502.654877    \n",
      "           9 ) R=    90.0000000      area=    25446.9043      perimeter=    565.486755    \n",
      "          10 ) R=    100.000000      area=    31415.9297      perimeter=    628.318604    \n"
     ]
    }
   ],
   "source": [
    "!gfortran area_04.f90 -o area\n",
    "!./area < input2.txt\n",
    "!cat AREA.DAT"
   ]
  },
  {
   "cell_type": "code",
   "execution_count": null,
   "metadata": {},
   "outputs": [
    {
     "name": "stdout",
     "output_type": "stream",
     "text": [
      "/bin/zsh\n"
     ]
    }
   ],
   "source": [
    "!echo $SHELL"
   ]
  },
  {
   "cell_type": "markdown",
   "metadata": {},
   "source": [
    "```\n",
    "tcsh\n",
    "./script04.sh Hello this is a tcsh script\n",
    "```\n",
    "\n",
    "- Enter radii of circles: 1 2 3 4 5\n",
    "\n",
    "```\n",
    "I am user  working on the computer Jeons-Mac.local\n",
    "Today the date is      :  Mon Jan 27 21:37:12 KST 2025\n",
    "My home directory is   :  /Users/mgjeon\n",
    "My current directory is:  /Users/mgjeon/workspace/notebooks/Book/CompPhys_Fortran/01_computer\n",
    "My computer runs       :  Darwin Jeons-Mac.local 23.3.0 Darwin Kernel Version 23.3.0: Wed Dec 20 21:30:27 PST 2023; root:xnu-10002.81.5~7/RELEASE_ARM64_T8103 arm64\n",
    "My process id is       :  48482   \n",
    "The command line has 6 arguments\n",
    "The name of the command I am running is: ./script04.sh\n",
    "All arguments                          : Hello this is a tcsh script\n",
    "All arguments                          : Hello, this, is, a, tcsh, script\n",
    "Arguments 3rd to last of the command   : is a tcsh script\n",
    "The last argument is                   : script\n",
    "Enter radii of circles: 1 2 3 4 5 \n",
    "Need more than 10 radii. Exiting....\n",
    "```\n",
    "\n",
    "- Enter radii of circles: 1 2 3 4 5 6 7 8 9 10 11\n",
    "```\n",
    "I am user  working on the computer Jeons-Mac.local\n",
    "Today the date is      :  Mon Jan 27 21:37:50 KST 2025\n",
    "My home directory is   :  /Users/mgjeon\n",
    "My current directory is:  /Users/mgjeon/workspace/notebooks/Book/CompPhys_Fortran/01_computer\n",
    "My computer runs       :  Darwin Jeons-Mac.local 23.3.0 Darwin Kernel Version 23.3.0: Wed Dec 20 21:30:27 PST 2023; root:xnu-10002.81.5~7/RELEASE_ARM64_T8103 arm64\n",
    "My process id is       :  48503   \n",
    "The command line has 6 arguments\n",
    "The name of the command I am running is: ./script04.sh\n",
    "All arguments                          : Hello this is a tcsh script\n",
    "All arguments                          : Hello, this, is, a, tcsh, script\n",
    "Arguments 3rd to last of the command   : is a tcsh script\n",
    "The last argument is                   : script\n",
    "Enter radii of circles: 1 2 3 4 5 6 7 8 9 10 11\n",
    "You entered 11 radii, the first is 1 and the last 11\n",
    "Rs= 1 2 3 4 5 6 7 8 9 10 11\n",
    "Circle with R= 1 has perimeter 6.28319\n",
    "Circle with R= 2 has perimeter 12.5664\n",
    "Circle with R= 3 has perimeter 18.8496\n",
    "Circle with R= 4 has perimeter 25.1327\n",
    "Circle with R= 5 has perimeter 31.4159\n",
    "Circle with R= 6 has perimeter 37.6991\n",
    "Circle with R= 7 has perimeter 43.9823\n",
    "Circle with R= 8 has perimeter 50.2655\n",
    "Circle with R= 9 has perimeter 56.5487\n",
    "Circle with R= 10 has perimeter 62.8319\n",
    "Circle with R= 11 has perimeter 69.115\n",
    "Using acalc to compute       2+3= 5\n",
    "Using acalc to compute cos(2*pi)= 1\n",
    "--------------------------------------------\n",
    "files: area1.dat area10.dat area11.dat area2.dat area3.dat area4.dat area5.dat area6.dat area7.dat area8.dat area9.dat\n",
    "-rw-r--r--  1 mgjeon  staff  45 Jan 27 21:37 area1.dat\n",
    "-rw-r--r--  1 mgjeon  staff  46 Jan 27 21:37 area10.dat\n",
    "-rw-r--r--  1 mgjeon  staff  46 Jan 27 21:37 area11.dat\n",
    "-rw-r--r--  1 mgjeon  staff  45 Jan 27 21:37 area2.dat\n",
    "-rw-r--r--  1 mgjeon  staff  45 Jan 27 21:37 area3.dat\n",
    "-rw-r--r--  1 mgjeon  staff  44 Jan 27 21:37 area4.dat\n",
    "-rw-r--r--  1 mgjeon  staff  45 Jan 27 21:37 area5.dat\n",
    "-rw-r--r--  1 mgjeon  staff  45 Jan 27 21:37 area6.dat\n",
    "-rw-r--r--  1 mgjeon  staff  45 Jan 27 21:37 area7.dat\n",
    "-rw-r--r--  1 mgjeon  staff  45 Jan 27 21:37 area8.dat\n",
    "-rw-r--r--  1 mgjeon  staff  45 Jan 27 21:37 area9.dat\n",
    "--------------------------------------------\n",
    "And the results for the area are:\n",
    "file area1.dat: Circle with R= 1 has area 3.1415926535897931\n",
    "file area10.dat: Circle with R= 10 has area 314.15926535897933\n",
    "file area11.dat: Circle with R= 11 has area 380.13271108436493\n",
    "file area2.dat: Circle with R= 2 has area 12.566370614359172\n",
    "file area3.dat: Circle with R= 3 has area 28.274333882308138\n",
    "file area4.dat: Circle with R= 4 has area 50.26548245743669\n",
    "file area5.dat: Circle with R= 5 has area 78.539816339744831\n",
    "file area6.dat: Circle with R= 6 has area 113.09733552923255\n",
    "file area7.dat: Circle with R= 7 has area 153.93804002589985\n",
    "file area8.dat: Circle with R= 8 has area 201.06192982974676\n",
    "file area9.dat: Circle with R= 9 has area 254.46900494077323\n",
    "--------------------------------------------\n",
    "area11.dat exists\n",
    "area11.dat is readable by me\n",
    "area11.dat is writable by me\n",
    "/bin/ls is NOT writable by me\n",
    "area11.dat is NOT an executable\n",
    "/bin/ls is executable by me\n",
    "area11.dat is NOT a directory\n",
    "/bin is a directory\n",
    "--------------------------------------------\n",
    "file      is: /Users/mgjeon/workspace/notebooks/Book/CompPhys_Fortran/01_computer/area1.dat\n",
    "filename  is: area1\n",
    "extension is: dat\n",
    "directory is: /Users/mgjeon/workspace/notebooks/Book/CompPhys_Fortran/01_computer\n",
    "basename  is: area1.dat\n",
    "jpeg name is: area1.jpg\n",
    "area1.jpg is a picture\n",
    "--------------------------------------------\n",
    "# This file contains the areas of circle of given radii\n",
    "# Computation done by mgjeon on Jeons-Mac.local. Today is Mon Jan 27 21:37:55 KST 2025\n",
    "Circle with R= 1 has area 3.1415926535897931\n",
    "Circle with R= 10 has area 314.15926535897933\n",
    "Circle with R= 11 has area 380.13271108436493\n",
    "Circle with R= 2 has area 12.566370614359172\n",
    "Circle with R= 3 has area 28.274333882308138\n",
    "Circle with R= 4 has area 50.26548245743669\n",
    "Circle with R= 5 has area 78.539816339744831\n",
    "Circle with R= 6 has area 113.09733552923255\n",
    "Circle with R= 7 has area 153.93804002589985\n",
    "Circle with R= 8 has area 201.06192982974676\n",
    "Circle with R= 9 has area 254.46900494077323\n",
    "```"
   ]
  },
  {
   "cell_type": "markdown",
   "metadata": {},
   "source": [
    "```\n",
    "./script04.sh Hello this is a bash script\n",
    "```\n",
    "\n",
    "- Enter radii of circles: 1 2 3 4 5 6 7 8 9 10 11\n",
    "```\n",
    "I am user  working on the computer Jeons-Mac.local\n",
    "Today the date is      :  Mon Jan 27 21:39:38 KST 2025\n",
    "My home directory is   :  /Users/mgjeon\n",
    "My current directory is:  /Users/mgjeon/workspace/notebooks/Book/CompPhys_Fortran/01_computer\n",
    "My computer runs       :  Darwin Jeons-Mac.local 23.3.0 Darwin Kernel Version 23.3.0: Wed Dec 20 21:30:27 PST 2023; root:xnu-10002.81.5~7/RELEASE_ARM64_T8103 arm64\n",
    "My process id is       :  48694   \n",
    "The command line has 6 arguments\n",
    "The name of the command I am running is: ./script04.sh\n",
    "All arguments                          : Hello this is a bash script\n",
    "All arguments                          : Hello, this, is, a, bash, script\n",
    "Arguments 3rd to last of the command   : is a bash script\n",
    "The last argument is                   : script\n",
    "Enter radii of circles: 1 2 3 4 5 6 7 8 9 10 11\n",
    "You entered 11 radii, the first is 1 and the last 11\n",
    "Rs= 1 2 3 4 5 6 7 8 9 10 11\n",
    "Circle with R= 1 has perimeter 6.28319\n",
    "Circle with R= 2 has perimeter 12.5664\n",
    "Circle with R= 3 has perimeter 18.8496\n",
    "Circle with R= 4 has perimeter 25.1327\n",
    "Circle with R= 5 has perimeter 31.4159\n",
    "Circle with R= 6 has perimeter 37.6991\n",
    "Circle with R= 7 has perimeter 43.9823\n",
    "Circle with R= 8 has perimeter 50.2655\n",
    "Circle with R= 9 has perimeter 56.5487\n",
    "Circle with R= 10 has perimeter 62.8319\n",
    "Circle with R= 11 has perimeter 69.115\n",
    "Using acalc to compute       2+3= 5\n",
    "Using acalc to compute cos(2*pi)= 1\n",
    "--------------------------------------------\n",
    "files: area1.dat area10.dat area11.dat area2.dat area3.dat area4.dat area5.dat area6.dat area7.dat area8.dat area9.dat areas.dat\n",
    "-rw-r--r--  1 mgjeon  staff   45 Jan 27 21:39 area1.dat\n",
    "-rw-r--r--  1 mgjeon  staff   46 Jan 27 21:39 area10.dat\n",
    "-rw-r--r--  1 mgjeon  staff   46 Jan 27 21:39 area11.dat\n",
    "-rw-r--r--  1 mgjeon  staff   45 Jan 27 21:39 area2.dat\n",
    "-rw-r--r--  1 mgjeon  staff   45 Jan 27 21:39 area3.dat\n",
    "-rw-r--r--  1 mgjeon  staff   44 Jan 27 21:39 area4.dat\n",
    "-rw-r--r--  1 mgjeon  staff   45 Jan 27 21:39 area5.dat\n",
    "-rw-r--r--  1 mgjeon  staff   45 Jan 27 21:39 area6.dat\n",
    "-rw-r--r--  1 mgjeon  staff   45 Jan 27 21:39 area7.dat\n",
    "-rw-r--r--  1 mgjeon  staff   45 Jan 27 21:39 area8.dat\n",
    "-rw-r--r--  1 mgjeon  staff   45 Jan 27 21:39 area9.dat\n",
    "-rw-r--r--  1 mgjeon  staff  639 Jan 27 21:37 areas.dat\n",
    "--------------------------------------------\n",
    "And the results for the area are:\n",
    "file area1.dat: Circle with R= 1 has area 3.1415926535897931\n",
    "file area10.dat: Circle with R= 10 has area 314.15926535897933\n",
    "file area11.dat: Circle with R= 11 has area 380.13271108436493\n",
    "file area2.dat: Circle with R= 2 has area 12.566370614359172\n",
    "file area3.dat: Circle with R= 3 has area 28.274333882308138\n",
    "file area4.dat: Circle with R= 4 has area 50.26548245743669\n",
    "file area5.dat: Circle with R= 5 has area 78.539816339744831\n",
    "file area6.dat: Circle with R= 6 has area 113.09733552923255\n",
    "file area7.dat: Circle with R= 7 has area 153.93804002589985\n",
    "file area8.dat: Circle with R= 8 has area 201.06192982974676\n",
    "file area9.dat: Circle with R= 9 has area 254.46900494077323\n",
    "file areas.dat: # This file contains the areas of circle of given radii\n",
    "# Computation done by mgjeon on Jeons-Mac.local. Today is Mon Jan 27 21:37:55 KST 2025\n",
    "Circle with R= 1 has area 3.1415926535897931\n",
    "Circle with R= 10 has area 314.15926535897933\n",
    "Circle with R= 11 has area 380.13271108436493\n",
    "Circle with R= 2 has area 12.566370614359172\n",
    "Circle with R= 3 has area 28.274333882308138\n",
    "Circle with R= 4 has area 50.26548245743669\n",
    "Circle with R= 5 has area 78.539816339744831\n",
    "Circle with R= 6 has area 113.09733552923255\n",
    "Circle with R= 7 has area 153.93804002589985\n",
    "Circle with R= 8 has area 201.06192982974676\n",
    "Circle with R= 9 has area 254.46900494077323\n",
    "--------------------------------------------\n",
    "area11.dat exists\n",
    "area11.dat is readable by me\n",
    "area11.dat is writable by me\n",
    "/bin/ls is NOT writable by me\n",
    "area11.dat is NOT an executable\n",
    "/bin/ls is executable by me\n",
    "area11.dat is NOT a directory\n",
    "/bin is a directory\n",
    "--------------------------------------------\n",
    "file      is: /Users/mgjeon/workspace/notebooks/Book/CompPhys_Fortran/01_computer/area1.dat\n",
    "filename  is: area1\n",
    "extension is: dat\n",
    "directory is: /Users/mgjeon/workspace/notebooks/Book/CompPhys_Fortran/01_computer\n",
    "basename  is: area1.dat\n",
    "jpeg name is: area1.jpg\n",
    "area1.jpg is a picture\n",
    "--------------------------------------------\n",
    "# This file contains the areas of circle of given radii\n",
    "# Computation done by mgjeon on Jeons-Mac.local. Today is Mon Jan 27 21:37:55 KST 2025\n",
    "Circle with R= 1 has area 3.1415926535897931\n",
    "Circle with R= 10 has area 314.15926535897933\n",
    "Circle with R= 11 has area 380.13271108436493\n",
    "Circle with R= 2 has area 12.566370614359172\n",
    "Circle with R= 3 has area 28.274333882308138\n",
    "Circle with R= 4 has area 50.26548245743669\n",
    "Circle with R= 5 has area 78.539816339744831\n",
    "Circle with R= 6 has area 113.09733552923255\n",
    "Circle with R= 7 has area 153.93804002589985\n",
    "Circle with R= 8 has area 201.06192982974676\n",
    "Circle with R= 9 has area 254.46900494077323\n",
    "# This file contains the areas of circle of given radii\n",
    "# Computation done by mgjeon on Jeons-Mac.local. Today is Mon Jan 27 21:39:44 KST 2025\n",
    "Circle with R= 1 has area 3.1415926535897931\n",
    "Circle with R= 10 has area 314.15926535897933\n",
    "Circle with R= 11 has area 380.13271108436493\n",
    "Circle with R= 2 has area 12.566370614359172\n",
    "Circle with R= 3 has area 28.274333882308138\n",
    "Circle with R= 4 has area 50.26548245743669\n",
    "Circle with R= 5 has area 78.539816339744831\n",
    "Circle with R= 6 has area 113.09733552923255\n",
    "Circle with R= 7 has area 153.93804002589985\n",
    "Circle with R= 8 has area 201.06192982974676\n",
    "Circle with R= 9 has area 254.46900494077323\n",
    "# This file contains the areas of circle of given radii\n",
    "# Computation done by mgjeon on Jeons-Mac.local. Today is Mon Jan 27 21:37:55 KST 2025\n",
    "Circle with R= 1 has area 3.1415926535897931\n",
    "Circle with R= 10 has area 314.15926535897933\n",
    "Circle with R= 11 has area 380.13271108436493\n",
    "Circle with R= 2 has area 12.566370614359172\n",
    "Circle with R= 3 has area 28.274333882308138\n",
    "Circle with R= 4 has area 50.26548245743669\n",
    "Circle with R= 5 has area 78.539816339744831\n",
    "Circle with R= 6 has area 113.09733552923255\n",
    "Circle with R= 7 has area 153.93804002589985\n",
    "Circle with R= 8 has area 201.06192982974676\n",
    "Circle with R= 9 has area 254.46900494077323\n",
    "```"
   ]
  },
  {
   "cell_type": "markdown",
   "metadata": {},
   "source": [
    "![](area.png)"
   ]
  },
  {
   "cell_type": "code",
   "execution_count": null,
   "metadata": {},
   "outputs": [],
   "source": [
    "# !./clean.sh"
   ]
  },
  {
   "cell_type": "markdown",
   "metadata": {},
   "source": []
  }
 ],
 "metadata": {
  "kernelspec": {
   "display_name": "python3",
   "language": "python",
   "name": "python3"
  }
 },
 "nbformat": 4,
 "nbformat_minor": 2
}

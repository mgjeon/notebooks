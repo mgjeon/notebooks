{
 "cells": [
  {
   "cell_type": "code",
   "execution_count": null,
   "metadata": {},
   "outputs": [],
   "source": [
    "import torchvision\n",
    "import torch.nn as nn\n",
    "import torch\n",
    "import torch.nn.functional as F\n",
    "from torchvision import transforms,models,datasets\n",
    "import matplotlib.pyplot as plt\n",
    "from PIL import Image\n",
    "import numpy as np\n",
    "from torch import optim\n",
    "device = 'cuda' if torch.cuda.is_available() else 'cpu'\n",
    "import cv2, glob, numpy as np, pandas as pd\n",
    "import matplotlib.pyplot as plt\n",
    "from glob import glob"
   ]
  },
  {
   "cell_type": "markdown",
   "metadata": {},
   "source": [
    "https://www.kaggle.com/datasets/tongpython/cat-and-dog"
   ]
  },
  {
   "cell_type": "code",
   "execution_count": null,
   "metadata": {},
   "outputs": [],
   "source": [
    "import kagglehub\n",
    "path = kagglehub.dataset_download(\"tongpython/cat-and-dog\")"
   ]
  },
  {
   "cell_type": "code",
   "execution_count": null,
   "metadata": {},
   "outputs": [],
   "source": [
    "from pathlib import Path\n",
    "path = Path(path)"
   ]
  },
  {
   "cell_type": "code",
   "execution_count": null,
   "metadata": {},
   "outputs": [],
   "source": [
    "from torch.utils.data import Dataset, DataLoader\n",
    "from random import shuffle\n",
    "\n",
    "class cats_dogs(Dataset):\n",
    "  def __init__(self, folder, transform=None, n=9999):\n",
    "    cats = (folder / \"cats\").glob(\"*.jpg\")\n",
    "    dogs = (folder / \"dogs\").glob(\"*.jpg\")\n",
    "    self.fpaths = list(cats)[:n] + list(dogs)[:n]\n",
    "    shuffle(self.fpaths)\n",
    "    self.targets = [int(f.stem.startswith(\"dog\")) for f in self.fpaths] # dog=1 & cat=0\n",
    "    self.transform = transform\n",
    "\n",
    "  def __len__(self):\n",
    "    return len(self.fpaths)\n",
    "\n",
    "  def __getitem__(self, ix):\n",
    "    target = self.targets[ix]\n",
    "    target = np.array(target).astype(np.float32)\n",
    "    image = cv2.imread(self.fpaths[ix])\n",
    "    image = cv2.cvtColor(image, cv2.COLOR_BGR2RGB)\n",
    "    if self.transform:\n",
    "      image = self.transform(image)\n",
    "    return image, target"
   ]
  },
  {
   "cell_type": "code",
   "execution_count": null,
   "metadata": {},
   "outputs": [],
   "source": [
    "from torchvision.transforms import v2"
   ]
  },
  {
   "cell_type": "code",
   "execution_count": null,
   "metadata": {},
   "outputs": [],
   "source": [
    "transform = v2.Compose([\n",
    "    v2.ToImage(),\n",
    "    v2.Resize((224, 224)),\n",
    "    v2.ToDtype(torch.float32, scale=True),  # 0-255 to 0-1\n",
    "])"
   ]
  },
  {
   "cell_type": "code",
   "execution_count": null,
   "metadata": {},
   "outputs": [],
   "source": [
    "train_data_dir = path / \"training_set\" / \"training_set\"\n",
    "test_data_dir = path / \"test_set\" / \"test_set\""
   ]
  },
  {
   "cell_type": "code",
   "execution_count": null,
   "metadata": {},
   "outputs": [
    {
     "data": {
      "text/plain": [
       "8005"
      ]
     },
     "execution_count": null,
     "metadata": {},
     "output_type": "execute_result"
    }
   ],
   "source": [
    "data = cats_dogs(train_data_dir, transform=transform)\n",
    "len(data)"
   ]
  },
  {
   "cell_type": "code",
   "execution_count": null,
   "metadata": {},
   "outputs": [],
   "source": [
    "def conv_layer(ni,no,kernel_size,stride=1):\n",
    "    return nn.Sequential(\n",
    "    nn.Conv2d(ni, no, kernel_size, stride),\n",
    "    nn.ReLU(),\n",
    "    nn.BatchNorm2d(no),\n",
    "    nn.MaxPool2d(2)\n",
    "    )\n",
    "\n",
    "def get_model():\n",
    "    model = nn.Sequential(\n",
    "    conv_layer(3, 64, 3),\n",
    "    conv_layer(64, 512, 3),\n",
    "    conv_layer(512, 512, 3),\n",
    "    conv_layer(512, 512, 3),\n",
    "    conv_layer(512, 512, 3),\n",
    "    conv_layer(512, 512, 3),\n",
    "    nn.Flatten(),\n",
    "    nn.Linear(512, 1),\n",
    "    nn.Sigmoid(),\n",
    "    ).to(device)\n",
    "    loss_fn = nn.BCELoss()\n",
    "    optimizer = torch.optim.Adam(model.parameters(), lr= 1e-3)\n",
    "    return model, loss_fn, optimizer"
   ]
  },
  {
   "cell_type": "code",
   "execution_count": null,
   "metadata": {},
   "outputs": [
    {
     "name": "stdout",
     "output_type": "stream",
     "text": [
      "Requirement already satisfied: torchinfo in /usr/local/lib/python3.11/dist-packages (1.8.0)\n"
     ]
    }
   ],
   "source": [
    "!pip install torchinfo"
   ]
  },
  {
   "cell_type": "code",
   "execution_count": null,
   "metadata": {},
   "outputs": [
    {
     "data": {
      "text/plain": [
       "==========================================================================================\n",
       "Layer (type:depth-idx)                   Output Shape              Param #\n",
       "==========================================================================================\n",
       "Sequential                               [1, 1]                    --\n",
       "├─Sequential: 1-1                        [1, 64, 111, 111]         --\n",
       "│    └─Conv2d: 2-1                       [1, 64, 222, 222]         1,792\n",
       "│    └─ReLU: 2-2                         [1, 64, 222, 222]         --\n",
       "│    └─BatchNorm2d: 2-3                  [1, 64, 222, 222]         128\n",
       "│    └─MaxPool2d: 2-4                    [1, 64, 111, 111]         --\n",
       "├─Sequential: 1-2                        [1, 512, 54, 54]          --\n",
       "│    └─Conv2d: 2-5                       [1, 512, 109, 109]        295,424\n",
       "│    └─ReLU: 2-6                         [1, 512, 109, 109]        --\n",
       "│    └─BatchNorm2d: 2-7                  [1, 512, 109, 109]        1,024\n",
       "│    └─MaxPool2d: 2-8                    [1, 512, 54, 54]          --\n",
       "├─Sequential: 1-3                        [1, 512, 26, 26]          --\n",
       "│    └─Conv2d: 2-9                       [1, 512, 52, 52]          2,359,808\n",
       "│    └─ReLU: 2-10                        [1, 512, 52, 52]          --\n",
       "│    └─BatchNorm2d: 2-11                 [1, 512, 52, 52]          1,024\n",
       "│    └─MaxPool2d: 2-12                   [1, 512, 26, 26]          --\n",
       "├─Sequential: 1-4                        [1, 512, 12, 12]          --\n",
       "│    └─Conv2d: 2-13                      [1, 512, 24, 24]          2,359,808\n",
       "│    └─ReLU: 2-14                        [1, 512, 24, 24]          --\n",
       "│    └─BatchNorm2d: 2-15                 [1, 512, 24, 24]          1,024\n",
       "│    └─MaxPool2d: 2-16                   [1, 512, 12, 12]          --\n",
       "├─Sequential: 1-5                        [1, 512, 5, 5]            --\n",
       "│    └─Conv2d: 2-17                      [1, 512, 10, 10]          2,359,808\n",
       "│    └─ReLU: 2-18                        [1, 512, 10, 10]          --\n",
       "│    └─BatchNorm2d: 2-19                 [1, 512, 10, 10]          1,024\n",
       "│    └─MaxPool2d: 2-20                   [1, 512, 5, 5]            --\n",
       "├─Sequential: 1-6                        [1, 512, 1, 1]            --\n",
       "│    └─Conv2d: 2-21                      [1, 512, 3, 3]            2,359,808\n",
       "│    └─ReLU: 2-22                        [1, 512, 3, 3]            --\n",
       "│    └─BatchNorm2d: 2-23                 [1, 512, 3, 3]            1,024\n",
       "│    └─MaxPool2d: 2-24                   [1, 512, 1, 1]            --\n",
       "├─Flatten: 1-7                           [1, 512]                  --\n",
       "├─Linear: 1-8                            [1, 1]                    513\n",
       "├─Sigmoid: 1-9                           [1, 1]                    --\n",
       "==========================================================================================\n",
       "Total params: 9,742,209\n",
       "Trainable params: 9,742,209\n",
       "Non-trainable params: 0\n",
       "Total mult-adds (Units.GIGABYTES): 11.60\n",
       "==========================================================================================\n",
       "Input size (MB): 0.60\n",
       "Forward/backward pass size (MB): 175.56\n",
       "Params size (MB): 38.97\n",
       "Estimated Total Size (MB): 215.13\n",
       "=========================================================================================="
      ]
     },
     "execution_count": null,
     "metadata": {},
     "output_type": "execute_result"
    }
   ],
   "source": [
    "from torchinfo import summary\n",
    "model, loss_fn, optimizer = get_model()\n",
    "summary(model, input_size=(1, 3, 224, 224))"
   ]
  },
  {
   "cell_type": "code",
   "execution_count": null,
   "metadata": {},
   "outputs": [],
   "source": [
    "def train_batch(x, y, model, optimizer, loss_fn):\n",
    "    prediction = model(x).squeeze()\n",
    "    batch_loss = loss_fn(prediction, y)\n",
    "    batch_loss.backward()\n",
    "    optimizer.step()\n",
    "    optimizer.zero_grad()\n",
    "    return batch_loss.item()\n",
    "\n",
    "@torch.no_grad()\n",
    "def accuracy(x, y, model):\n",
    "    prediction = model(x).squeeze()\n",
    "    is_correct = (prediction > 0.5) == y\n",
    "    return is_correct.cpu().numpy().tolist()"
   ]
  },
  {
   "cell_type": "code",
   "execution_count": null,
   "metadata": {},
   "outputs": [],
   "source": [
    "def get_data(n):\n",
    "    train = cats_dogs(train_data_dir, transform=transform, n=n)\n",
    "    trn_dl = DataLoader(train, batch_size=32, shuffle=True, drop_last = True)\n",
    "    val = cats_dogs(test_data_dir, transform=transform, n=9999)\n",
    "    val_dl = DataLoader(val, batch_size=32, shuffle=True, drop_last = True)\n",
    "    return trn_dl, val_dl"
   ]
  },
  {
   "cell_type": "code",
   "execution_count": null,
   "metadata": {},
   "outputs": [],
   "source": [
    "@torch.no_grad()\n",
    "def val_loss(x, y, model):\n",
    "    prediction = model(x).squeeze()\n",
    "    val_loss = loss_fn(prediction, y)\n",
    "    return val_loss.item()"
   ]
  },
  {
   "cell_type": "code",
   "execution_count": null,
   "metadata": {},
   "outputs": [],
   "source": [
    "from tqdm import tqdm"
   ]
  },
  {
   "cell_type": "code",
   "execution_count": null,
   "metadata": {},
   "outputs": [],
   "source": [
    "def train(n):\n",
    "  trn_dl, val_dl = get_data(n=n)\n",
    "  model, loss_fn, optimizer = get_model()\n",
    "\n",
    "  train_losses, train_accuracies = [], []\n",
    "  val_losses, val_accuracies = [], []\n",
    "  for epoch in range(5):\n",
    "\n",
    "      print(epoch)\n",
    "      train_epoch_losses, train_epoch_accuracies = [], []\n",
    "      val_epoch_losses, val_epoch_accuracies = [], []\n",
    "      for ix, batch in tqdm(enumerate(iter(trn_dl)), total=len(trn_dl)):\n",
    "          x, y = batch\n",
    "          x, y = x.to(device), y.to(device)\n",
    "          batch_loss = train_batch(x, y, model, optimizer, loss_fn)\n",
    "          train_epoch_losses.append(batch_loss)\n",
    "      train_epoch_loss = np.array(train_epoch_losses).mean()\n",
    "\n",
    "      for ix, batch in enumerate(iter(trn_dl)):\n",
    "          x, y = batch\n",
    "          x, y = x.to(device), y.to(device)\n",
    "          is_correct = accuracy(x, y, model)\n",
    "          train_epoch_accuracies.extend(is_correct)\n",
    "      train_epoch_accuracy = np.mean(train_epoch_accuracies)\n",
    "\n",
    "      for ix, batch in enumerate(iter(val_dl)):\n",
    "          x, y = batch\n",
    "          x, y = x.to(device), y.to(device)\n",
    "          loss_val = val_loss(x, y, model)\n",
    "          val_epoch_losses.append(loss_val)\n",
    "          val_is_correct = accuracy(x, y, model)\n",
    "          val_epoch_accuracies.extend(val_is_correct)\n",
    "      validation_loss = np.array(val_epoch_losses).mean()\n",
    "      val_epoch_accuracy = np.mean(val_epoch_accuracies)\n",
    "\n",
    "      print(train_epoch_loss)\n",
    "      print(train_epoch_accuracy)\n",
    "      print(validation_loss)\n",
    "      print(val_epoch_accuracy)\n",
    "      train_losses.append(train_epoch_loss)\n",
    "      train_accuracies.append(train_epoch_accuracy)\n",
    "      val_losses.append(validation_loss)\n",
    "      val_accuracies.append(val_epoch_accuracy)\n",
    "\n",
    "  return model, (train_losses, train_accuracies, val_losses, val_accuracies)"
   ]
  },
  {
   "cell_type": "code",
   "execution_count": null,
   "metadata": {},
   "outputs": [],
   "source": [
    "res = {}"
   ]
  },
  {
   "cell_type": "code",
   "execution_count": null,
   "metadata": {},
   "outputs": [
    {
     "name": "stdout",
     "output_type": "stream",
     "text": [
      "0\n"
     ]
    },
    {
     "name": "stderr",
     "output_type": "stream",
     "text": [
      "100%|██████████| 31/31 [00:20<00:00,  1.53it/s]\n"
     ]
    },
    {
     "name": "stdout",
     "output_type": "stream",
     "text": [
      "1.0219591336865579\n",
      "0.6391129032258065\n",
      "0.6902488176784818\n",
      "0.5808531746031746\n",
      "1\n"
     ]
    },
    {
     "name": "stderr",
     "output_type": "stream",
     "text": [
      "100%|██████████| 31/31 [00:17<00:00,  1.81it/s]\n"
     ]
    },
    {
     "name": "stdout",
     "output_type": "stream",
     "text": [
      "0.6390168762976124\n",
      "0.6945564516129032\n",
      "0.6787973273368109\n",
      "0.5798611111111112\n",
      "2\n"
     ]
    },
    {
     "name": "stderr",
     "output_type": "stream",
     "text": [
      "100%|██████████| 31/31 [00:17<00:00,  1.77it/s]\n"
     ]
    },
    {
     "name": "stdout",
     "output_type": "stream",
     "text": [
      "0.5998272953494903\n",
      "0.6935483870967742\n",
      "0.6952097784905207\n",
      "0.59375\n",
      "3\n"
     ]
    },
    {
     "name": "stderr",
     "output_type": "stream",
     "text": [
      "100%|██████████| 31/31 [00:17<00:00,  1.80it/s]\n"
     ]
    },
    {
     "name": "stdout",
     "output_type": "stream",
     "text": [
      "0.5560585500732544\n",
      "0.7409274193548387\n",
      "0.6610389607293266\n",
      "0.6205357142857143\n",
      "4\n"
     ]
    },
    {
     "name": "stderr",
     "output_type": "stream",
     "text": [
      "100%|██████████| 31/31 [00:17<00:00,  1.80it/s]\n"
     ]
    },
    {
     "name": "stdout",
     "output_type": "stream",
     "text": [
      "0.5106720289876384\n",
      "0.8004032258064516\n",
      "0.6292943680097186\n",
      "0.6597222222222222\n"
     ]
    }
   ],
   "source": [
    "res[500] = train(500)"
   ]
  },
  {
   "cell_type": "code",
   "execution_count": null,
   "metadata": {},
   "outputs": [
    {
     "name": "stdout",
     "output_type": "stream",
     "text": [
      "0\n"
     ]
    },
    {
     "name": "stderr",
     "output_type": "stream",
     "text": [
      "100%|██████████| 62/62 [00:37<00:00,  1.65it/s]\n"
     ]
    },
    {
     "name": "stdout",
     "output_type": "stream",
     "text": [
      "0.8819309809515553\n",
      "0.65625\n",
      "0.6649580569494338\n",
      "0.5967261904761905\n",
      "1\n"
     ]
    },
    {
     "name": "stderr",
     "output_type": "stream",
     "text": [
      "100%|██████████| 62/62 [00:34<00:00,  1.79it/s]\n"
     ]
    },
    {
     "name": "stdout",
     "output_type": "stream",
     "text": [
      "0.6118511985386571\n",
      "0.7227822580645161\n",
      "0.6257651580704583\n",
      "0.6721230158730159\n",
      "2\n"
     ]
    },
    {
     "name": "stderr",
     "output_type": "stream",
     "text": [
      "100%|██████████| 62/62 [00:34<00:00,  1.80it/s]\n"
     ]
    },
    {
     "name": "stdout",
     "output_type": "stream",
     "text": [
      "0.573962454834292\n",
      "0.7051411290322581\n",
      "0.643835116946508\n",
      "0.6393849206349206\n",
      "3\n"
     ]
    },
    {
     "name": "stderr",
     "output_type": "stream",
     "text": [
      "100%|██████████| 62/62 [00:34<00:00,  1.80it/s]\n"
     ]
    },
    {
     "name": "stdout",
     "output_type": "stream",
     "text": [
      "0.5455813917421526\n",
      "0.7293346774193549\n",
      "0.616879663770161\n",
      "0.6711309523809523\n",
      "4\n"
     ]
    },
    {
     "name": "stderr",
     "output_type": "stream",
     "text": [
      "100%|██████████| 62/62 [00:34<00:00,  1.80it/s]\n"
     ]
    },
    {
     "name": "stdout",
     "output_type": "stream",
     "text": [
      "0.508930534605057\n",
      "0.764616935483871\n",
      "0.624010854297214\n",
      "0.6845238095238095\n"
     ]
    }
   ],
   "source": [
    "res[1000] = train(1000)"
   ]
  },
  {
   "cell_type": "code",
   "execution_count": null,
   "metadata": {},
   "outputs": [
    {
     "name": "stdout",
     "output_type": "stream",
     "text": [
      "0\n"
     ]
    },
    {
     "name": "stderr",
     "output_type": "stream",
     "text": [
      "100%|██████████| 125/125 [01:09<00:00,  1.80it/s]\n"
     ]
    },
    {
     "name": "stdout",
     "output_type": "stream",
     "text": [
      "0.7488908729553223\n",
      "0.6395\n",
      "0.6595224019080873\n",
      "0.6259920634920635\n",
      "1\n"
     ]
    },
    {
     "name": "stderr",
     "output_type": "stream",
     "text": [
      "100%|██████████| 125/125 [01:09<00:00,  1.79it/s]\n"
     ]
    },
    {
     "name": "stdout",
     "output_type": "stream",
     "text": [
      "0.6189497015476226\n",
      "0.69325\n",
      "0.6050565006240965\n",
      "0.689484126984127\n",
      "2\n"
     ]
    },
    {
     "name": "stderr",
     "output_type": "stream",
     "text": [
      "100%|██████████| 125/125 [01:09<00:00,  1.80it/s]\n"
     ]
    },
    {
     "name": "stdout",
     "output_type": "stream",
     "text": [
      "0.579535415649414\n",
      "0.714\n",
      "0.5867850014141628\n",
      "0.6974206349206349\n",
      "3\n"
     ]
    },
    {
     "name": "stderr",
     "output_type": "stream",
     "text": [
      "100%|██████████| 125/125 [01:09<00:00,  1.80it/s]\n"
     ]
    },
    {
     "name": "stdout",
     "output_type": "stream",
     "text": [
      "0.5255607273578644\n",
      "0.73625\n",
      "0.5600431722307962\n",
      "0.7162698412698413\n",
      "4\n"
     ]
    },
    {
     "name": "stderr",
     "output_type": "stream",
     "text": [
      "100%|██████████| 125/125 [01:09<00:00,  1.80it/s]\n"
     ]
    },
    {
     "name": "stdout",
     "output_type": "stream",
     "text": [
      "0.4978745222091675\n",
      "0.8025\n",
      "0.48920362951263546\n",
      "0.7688492063492064\n"
     ]
    }
   ],
   "source": [
    "res[2000] = train(2000)"
   ]
  },
  {
   "cell_type": "code",
   "execution_count": null,
   "metadata": {},
   "outputs": [
    {
     "name": "stdout",
     "output_type": "stream",
     "text": [
      "0\n"
     ]
    },
    {
     "name": "stderr",
     "output_type": "stream",
     "text": [
      "100%|██████████| 250/250 [02:19<00:00,  1.79it/s]\n"
     ]
    },
    {
     "name": "stdout",
     "output_type": "stream",
     "text": [
      "0.6499873151779175\n",
      "0.719375\n",
      "0.57042662823011\n",
      "0.7018849206349206\n",
      "1\n"
     ]
    },
    {
     "name": "stderr",
     "output_type": "stream",
     "text": [
      "100%|██████████| 250/250 [02:19<00:00,  1.79it/s]\n"
     ]
    },
    {
     "name": "stdout",
     "output_type": "stream",
     "text": [
      "0.5107948042154312\n",
      "0.803375\n",
      "0.4464760072647579\n",
      "0.7931547619047619\n",
      "2\n"
     ]
    },
    {
     "name": "stderr",
     "output_type": "stream",
     "text": [
      "100%|██████████| 250/250 [02:19<00:00,  1.79it/s]\n"
     ]
    },
    {
     "name": "stdout",
     "output_type": "stream",
     "text": [
      "0.4079022349715233\n",
      "0.862375\n",
      "0.36477674212720657\n",
      "0.8382936507936508\n",
      "3\n"
     ]
    },
    {
     "name": "stderr",
     "output_type": "stream",
     "text": [
      "100%|██████████| 250/250 [02:19<00:00,  1.79it/s]\n"
     ]
    },
    {
     "name": "stdout",
     "output_type": "stream",
     "text": [
      "0.32261824277043344\n",
      "0.8915\n",
      "0.30246365318695706\n",
      "0.8695436507936508\n",
      "4\n"
     ]
    },
    {
     "name": "stderr",
     "output_type": "stream",
     "text": [
      "100%|██████████| 250/250 [02:19<00:00,  1.80it/s]\n"
     ]
    },
    {
     "name": "stdout",
     "output_type": "stream",
     "text": [
      "0.24635909739136697\n",
      "0.90875\n",
      "0.3060560823669509\n",
      "0.8665674603174603\n"
     ]
    }
   ],
   "source": [
    "res[4000] = train(4000)"
   ]
  },
  {
   "cell_type": "code",
   "execution_count": null,
   "metadata": {},
   "outputs": [
    {
     "data": {
      "image/png": "[encoded data removed]",
      "text/plain": [
       "<Figure size 640x480 with 1 Axes>"
      ]
     },
     "metadata": {},
     "output_type": "display_data"
    }
   ],
   "source": [
    "plt.plot(res[500][1][3], label='1K data points')\n",
    "plt.plot(res[1000][1][3], label='2K data points')\n",
    "plt.plot(res[2000][1][3], label='4K data points')\n",
    "plt.plot(res[4000][1][3], label='8K data points')\n",
    "plt.legend()\n",
    "plt.title(\"validation accuracy\")\n",
    "plt.show()"
   ]
  },
  {
   "cell_type": "code",
   "execution_count": null,
   "metadata": {},
   "outputs": [],
   "source": []
  }
 ],
 "metadata": {
  "kernelspec": {
   "display_name": "python3",
   "language": "python",
   "name": "python3"
  }
 },
 "nbformat": 4,
 "nbformat_minor": 0
}

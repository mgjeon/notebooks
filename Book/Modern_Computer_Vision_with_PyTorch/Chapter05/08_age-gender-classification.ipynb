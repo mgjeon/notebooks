{
 "cells": [
  {
   "cell_type": "markdown",
   "id": "02c23327",
   "metadata": {},
   "source": [
    "# UTKFace\n",
    "- https://susanqq.github.io/UTKFace/\n",
    "\n",
    "The labels of each face image is embedded in the file name, formated like `[age]_[gender]_[race]_[date&time].jpg`\n",
    "\n",
    "- `[age]` is an integer from 0 to 116, indicating the age\n",
    "- `[gender]` is either 0 (male) or 1 (female)\n",
    "- `[race]` is an integer from 0 to 4, denoting White, Black, Asian, Indian, and Others (like Hispanic, Latino, Middle Eastern).\n",
    "- `[date&time]` is in the format of yyyymmddHHMMSSFFF, showing the date and time an image was collected to UTKFace"
   ]
  },
  {
   "cell_type": "code",
   "execution_count": null,
   "id": "f22a43d8",
   "metadata": {},
   "outputs": [],
   "source": [
    "id2gender = {\n",
    "    0: 'male',\n",
    "    1: 'female'\n",
    "}"
   ]
  },
  {
   "cell_type": "code",
   "execution_count": null,
   "id": "c682a243",
   "metadata": {},
   "outputs": [],
   "source": [
    "import kagglehub\n",
    "dataroot = kagglehub.dataset_download('jangedoo/utkface-new')"
   ]
  },
  {
   "cell_type": "code",
   "execution_count": null,
   "id": "194a9b1a",
   "metadata": {},
   "outputs": [],
   "source": [
    "from pathlib import Path"
   ]
  },
  {
   "cell_type": "code",
   "execution_count": null,
   "id": "97637768",
   "metadata": {},
   "outputs": [],
   "source": [
    "dataroot = Path(dataroot)"
   ]
  },
  {
   "cell_type": "code",
   "execution_count": null,
   "id": "fb012158",
   "metadata": {},
   "outputs": [
    {
     "data": {
      "text/plain": [
       "23708"
      ]
     },
     "execution_count": null,
     "metadata": {},
     "output_type": "execute_result"
    }
   ],
   "source": [
    "files = sorted((dataroot / 'UTKFace').glob(\"*.jpg\"))\n",
    "len(files)"
   ]
  },
  {
   "cell_type": "code",
   "execution_count": null,
   "id": "0f31da25",
   "metadata": {},
   "outputs": [
    {
     "data": {
      "text/plain": [
       "9780"
      ]
     },
     "execution_count": null,
     "metadata": {},
     "output_type": "execute_result"
    }
   ],
   "source": [
    "files_part = sorted((dataroot / 'crop_part1').glob(\"*.jpg\"))\n",
    "len(files_part)"
   ]
  },
  {
   "cell_type": "code",
   "execution_count": null,
   "id": "c3507ead",
   "metadata": {},
   "outputs": [
    {
     "data": {
      "text/plain": [
       "9779"
      ]
     },
     "execution_count": null,
     "metadata": {},
     "output_type": "execute_result"
    }
   ],
   "source": [
    "duplicates = set([f.name for f in files]) & set([f.name for f in files_part])\n",
    "len(duplicates)"
   ]
  },
  {
   "cell_type": "code",
   "execution_count": null,
   "id": "07cee559",
   "metadata": {},
   "outputs": [
    {
     "data": {
      "text/plain": [
       "{'61_3_20170109150557335.jpg.chip.jpg'}"
      ]
     },
     "execution_count": null,
     "metadata": {},
     "output_type": "execute_result"
    }
   ],
   "source": [
    "set([f.name for f in files_part]) - set(duplicates)"
   ]
  },
  {
   "cell_type": "code",
   "execution_count": null,
   "id": "b3303833",
   "metadata": {},
   "outputs": [
    {
     "data": {
      "text/plain": [
       "'100_0_0_20170112213500903.jpg.chip.jpg'"
      ]
     },
     "execution_count": null,
     "metadata": {},
     "output_type": "execute_result"
    }
   ],
   "source": [
    "f = files[0]\n",
    "f.name"
   ]
  },
  {
   "cell_type": "code",
   "execution_count": null,
   "id": "0b968ab2",
   "metadata": {},
   "outputs": [
    {
     "data": {
      "text/plain": [
       "str"
      ]
     },
     "execution_count": null,
     "metadata": {},
     "output_type": "execute_result"
    }
   ],
   "source": [
    "type(f.name)"
   ]
  },
  {
   "cell_type": "code",
   "execution_count": null,
   "id": "bf1fad26",
   "metadata": {},
   "outputs": [
    {
     "data": {
      "text/plain": [
       "['100', '0', '0', '20170112213500903']"
      ]
     },
     "execution_count": null,
     "metadata": {},
     "output_type": "execute_result"
    }
   ],
   "source": [
    "parts = f.name.split('.')[0].split('_')\n",
    "parts"
   ]
  },
  {
   "cell_type": "code",
   "execution_count": null,
   "id": "bdbc103e",
   "metadata": {},
   "outputs": [
    {
     "data": {
      "text/plain": [
       "'/home/usr/.cache/kagglehub/datasets/jangedoo/utkface-new/versions/1/UTKFace/100_0_0_20170112213500903.jpg.chip.jpg'"
      ]
     },
     "execution_count": null,
     "metadata": {},
     "output_type": "execute_result"
    }
   ],
   "source": [
    "str(f.resolve())"
   ]
  },
  {
   "cell_type": "code",
   "execution_count": null,
   "id": "fb1830e8",
   "metadata": {},
   "outputs": [],
   "source": [
    "def parse_filename(f):\n",
    "    parts = f.name.split('.')[0].split('_')\n",
    "    age = int(parts[0])\n",
    "    gender = int(parts[1])\n",
    "    return str(f.resolve()), age, gender"
   ]
  },
  {
   "cell_type": "code",
   "execution_count": null,
   "id": "6ecb2b64",
   "metadata": {},
   "outputs": [],
   "source": [
    "data = [parse_filename(f) for f in files_part]"
   ]
  },
  {
   "cell_type": "code",
   "execution_count": null,
   "id": "238beb7f",
   "metadata": {},
   "outputs": [
    {
     "data": {
      "text/plain": [
       "[('/home/usr/.cache/kagglehub/datasets/jangedoo/utkface-new/versions/1/crop_part1/100_1_0_20170110183726390.jpg.chip.jpg',\n",
       "  100,\n",
       "  1),\n",
       " ('/home/usr/.cache/kagglehub/datasets/jangedoo/utkface-new/versions/1/crop_part1/100_1_2_20170105174847679.jpg.chip.jpg',\n",
       "  100,\n",
       "  1),\n",
       " ('/home/usr/.cache/kagglehub/datasets/jangedoo/utkface-new/versions/1/crop_part1/101_1_2_20170105174739309.jpg.chip.jpg',\n",
       "  101,\n",
       "  1),\n",
       " ('/home/usr/.cache/kagglehub/datasets/jangedoo/utkface-new/versions/1/crop_part1/10_0_0_20161220222308131.jpg.chip.jpg',\n",
       "  10,\n",
       "  0),\n",
       " ('/home/usr/.cache/kagglehub/datasets/jangedoo/utkface-new/versions/1/crop_part1/10_0_0_20170103200329407.jpg.chip.jpg',\n",
       "  10,\n",
       "  0),\n",
       " ('/home/usr/.cache/kagglehub/datasets/jangedoo/utkface-new/versions/1/crop_part1/10_0_0_20170103200522151.jpg.chip.jpg',\n",
       "  10,\n",
       "  0),\n",
       " ('/home/usr/.cache/kagglehub/datasets/jangedoo/utkface-new/versions/1/crop_part1/10_0_0_20170103233459275.jpg.chip.jpg',\n",
       "  10,\n",
       "  0),\n",
       " ('/home/usr/.cache/kagglehub/datasets/jangedoo/utkface-new/versions/1/crop_part1/10_0_0_20170104013211746.jpg.chip.jpg',\n",
       "  10,\n",
       "  0),\n",
       " ('/home/usr/.cache/kagglehub/datasets/jangedoo/utkface-new/versions/1/crop_part1/10_0_0_20170110215927291.jpg.chip.jpg',\n",
       "  10,\n",
       "  0),\n",
       " ('/home/usr/.cache/kagglehub/datasets/jangedoo/utkface-new/versions/1/crop_part1/10_0_0_20170110220033115.jpg.chip.jpg',\n",
       "  10,\n",
       "  0)]"
      ]
     },
     "execution_count": null,
     "metadata": {},
     "output_type": "execute_result"
    }
   ],
   "source": [
    "data[:10]"
   ]
  },
  {
   "cell_type": "code",
   "execution_count": null,
   "id": "02a01837",
   "metadata": {},
   "outputs": [],
   "source": [
    "import pandas as pd"
   ]
  },
  {
   "cell_type": "code",
   "execution_count": null,
   "id": "ce8d79d8",
   "metadata": {},
   "outputs": [
    {
     "data": {
      "text/html": [
       "<div>\n",
       "<style scoped>\n",
       "    .dataframe tbody tr th:only-of-type {\n",
       "        vertical-align: middle;\n",
       "    }\n",
       "\n",
       "    .dataframe tbody tr th {\n",
       "        vertical-align: top;\n",
       "    }\n",
       "\n",
       "    .dataframe thead th {\n",
       "        text-align: right;\n",
       "    }\n",
       "</style>\n",
       "<table border=\"1\" class=\"dataframe\">\n",
       "  <thead>\n",
       "    <tr style=\"text-align: right;\">\n",
       "      <th></th>\n",
       "      <th>file</th>\n",
       "      <th>age</th>\n",
       "      <th>gender</th>\n",
       "    </tr>\n",
       "  </thead>\n",
       "  <tbody>\n",
       "    <tr>\n",
       "      <th>0</th>\n",
       "      <td>/home/usr/.cache/kagglehub/datasets/jangedoo/u...</td>\n",
       "      <td>100</td>\n",
       "      <td>1</td>\n",
       "    </tr>\n",
       "    <tr>\n",
       "      <th>1</th>\n",
       "      <td>/home/usr/.cache/kagglehub/datasets/jangedoo/u...</td>\n",
       "      <td>100</td>\n",
       "      <td>1</td>\n",
       "    </tr>\n",
       "    <tr>\n",
       "      <th>2</th>\n",
       "      <td>/home/usr/.cache/kagglehub/datasets/jangedoo/u...</td>\n",
       "      <td>101</td>\n",
       "      <td>1</td>\n",
       "    </tr>\n",
       "    <tr>\n",
       "      <th>3</th>\n",
       "      <td>/home/usr/.cache/kagglehub/datasets/jangedoo/u...</td>\n",
       "      <td>10</td>\n",
       "      <td>0</td>\n",
       "    </tr>\n",
       "    <tr>\n",
       "      <th>4</th>\n",
       "      <td>/home/usr/.cache/kagglehub/datasets/jangedoo/u...</td>\n",
       "      <td>10</td>\n",
       "      <td>0</td>\n",
       "    </tr>\n",
       "    <tr>\n",
       "      <th>...</th>\n",
       "      <td>...</td>\n",
       "      <td>...</td>\n",
       "      <td>...</td>\n",
       "    </tr>\n",
       "    <tr>\n",
       "      <th>9775</th>\n",
       "      <td>/home/usr/.cache/kagglehub/datasets/jangedoo/u...</td>\n",
       "      <td>9</td>\n",
       "      <td>1</td>\n",
       "    </tr>\n",
       "    <tr>\n",
       "      <th>9776</th>\n",
       "      <td>/home/usr/.cache/kagglehub/datasets/jangedoo/u...</td>\n",
       "      <td>9</td>\n",
       "      <td>1</td>\n",
       "    </tr>\n",
       "    <tr>\n",
       "      <th>9777</th>\n",
       "      <td>/home/usr/.cache/kagglehub/datasets/jangedoo/u...</td>\n",
       "      <td>9</td>\n",
       "      <td>1</td>\n",
       "    </tr>\n",
       "    <tr>\n",
       "      <th>9778</th>\n",
       "      <td>/home/usr/.cache/kagglehub/datasets/jangedoo/u...</td>\n",
       "      <td>9</td>\n",
       "      <td>1</td>\n",
       "    </tr>\n",
       "    <tr>\n",
       "      <th>9779</th>\n",
       "      <td>/home/usr/.cache/kagglehub/datasets/jangedoo/u...</td>\n",
       "      <td>9</td>\n",
       "      <td>1</td>\n",
       "    </tr>\n",
       "  </tbody>\n",
       "</table>\n",
       "<p>9780 rows × 3 columns</p>\n",
       "</div>"
      ],
      "text/plain": [
       "                                                   file  age  gender\n",
       "0     /home/usr/.cache/kagglehub/datasets/jangedoo/u...  100       1\n",
       "1     /home/usr/.cache/kagglehub/datasets/jangedoo/u...  100       1\n",
       "2     /home/usr/.cache/kagglehub/datasets/jangedoo/u...  101       1\n",
       "3     /home/usr/.cache/kagglehub/datasets/jangedoo/u...   10       0\n",
       "4     /home/usr/.cache/kagglehub/datasets/jangedoo/u...   10       0\n",
       "...                                                 ...  ...     ...\n",
       "9775  /home/usr/.cache/kagglehub/datasets/jangedoo/u...    9       1\n",
       "9776  /home/usr/.cache/kagglehub/datasets/jangedoo/u...    9       1\n",
       "9777  /home/usr/.cache/kagglehub/datasets/jangedoo/u...    9       1\n",
       "9778  /home/usr/.cache/kagglehub/datasets/jangedoo/u...    9       1\n",
       "9779  /home/usr/.cache/kagglehub/datasets/jangedoo/u...    9       1\n",
       "\n",
       "[9780 rows x 3 columns]"
      ]
     },
     "execution_count": null,
     "metadata": {},
     "output_type": "execute_result"
    }
   ],
   "source": [
    "df = pd.DataFrame(data, columns=['file', 'age', 'gender'])\n",
    "df"
   ]
  },
  {
   "cell_type": "code",
   "execution_count": null,
   "id": "45d0e9c9",
   "metadata": {},
   "outputs": [
    {
     "data": {
      "image/png": "[encoded data removed]",
      "text/plain": [
       "<Figure size 640x480 with 1 Axes>"
      ]
     },
     "metadata": {},
     "output_type": "display_data"
    }
   ],
   "source": [
    "df['age'].hist();"
   ]
  },
  {
   "cell_type": "code",
   "execution_count": null,
   "id": "b034892c",
   "metadata": {},
   "outputs": [
    {
     "data": {
      "image/png": "[encoded data removed]",
      "text/plain": [
       "<Figure size 640x480 with 1 Axes>"
      ]
     },
     "metadata": {},
     "output_type": "display_data"
    }
   ],
   "source": [
    "df['gender'].hist();"
   ]
  },
  {
   "cell_type": "code",
   "execution_count": null,
   "id": "387357de",
   "metadata": {},
   "outputs": [
    {
     "data": {
      "text/plain": [
       "9780"
      ]
     },
     "execution_count": null,
     "metadata": {},
     "output_type": "execute_result"
    }
   ],
   "source": [
    "len(df)"
   ]
  },
  {
   "cell_type": "code",
   "execution_count": null,
   "id": "124b9065",
   "metadata": {},
   "outputs": [
    {
     "data": {
      "text/plain": [
       "file      /home/usr/.cache/kagglehub/datasets/jangedoo/u...\n",
       "age                                                     100\n",
       "gender                                                    1\n",
       "Name: 0, dtype: object"
      ]
     },
     "execution_count": null,
     "metadata": {},
     "output_type": "execute_result"
    }
   ],
   "source": [
    "idx = 0\n",
    "sample = df.iloc[idx]\n",
    "sample"
   ]
  },
  {
   "cell_type": "code",
   "execution_count": null,
   "id": "e1d9cd14",
   "metadata": {},
   "outputs": [
    {
     "name": "stdout",
     "output_type": "stream",
     "text": [
      "/home/usr/.cache/kagglehub/datasets/jangedoo/utkface-new/versions/1/crop_part1/100_1_0_20170110183726390.jpg.chip.jpg 100 1\n"
     ]
    }
   ],
   "source": [
    "file = sample['file']\n",
    "age = sample['age']\n",
    "gender = sample['gender']\n",
    "print(file, age, gender)"
   ]
  },
  {
   "cell_type": "code",
   "execution_count": null,
   "id": "5be51ccb",
   "metadata": {},
   "outputs": [],
   "source": [
    "import torch"
   ]
  },
  {
   "cell_type": "code",
   "execution_count": null,
   "id": "18dd3e75",
   "metadata": {},
   "outputs": [],
   "source": [
    "from torch.utils.data import Dataset, DataLoader\n",
    "from PIL import Image\n",
    "\n",
    "class GenderAgeClass(Dataset):\n",
    "  def __init__(self, df, transform=None):\n",
    "    self.df = df\n",
    "    self.transform = transform\n",
    "\n",
    "  def __len__(self):\n",
    "    return len(self.df)\n",
    "\n",
    "  def __getitem__(self, idx):\n",
    "    sample = self.df.iloc[idx]\n",
    "    age = torch.Tensor([float(sample['age']/100)])\n",
    "    gender = torch.Tensor([int(sample['gender'])])\n",
    "    image = Image.open(sample['file'])\n",
    "    if self.transform:\n",
    "      image = self.transform(image)\n",
    "    return image, age, gender"
   ]
  },
  {
   "cell_type": "code",
   "execution_count": null,
   "id": "9684adb8",
   "metadata": {},
   "outputs": [],
   "source": [
    "from sklearn.model_selection import train_test_split"
   ]
  },
  {
   "cell_type": "code",
   "execution_count": null,
   "id": "a8bd7d88",
   "metadata": {},
   "outputs": [],
   "source": [
    "train_df, temp_df = train_test_split(df, test_size=0.3, random_state=42)\n",
    "val_df, test_df = train_test_split(temp_df, test_size=0.5, random_state=42)\n",
    "\n",
    "train_df = train_df.reset_index(drop=True)\n",
    "val_df = val_df.reset_index(drop=True)\n",
    "test_df = test_df.reset_index(drop=True)"
   ]
  },
  {
   "cell_type": "code",
   "execution_count": null,
   "id": "bc70b7b0",
   "metadata": {},
   "outputs": [],
   "source": [
    "import torch"
   ]
  },
  {
   "cell_type": "code",
   "execution_count": null,
   "id": "7e0662f1",
   "metadata": {},
   "outputs": [],
   "source": [
    "device = torch.device(\"cuda\" if torch.cuda.is_available() else \"cpu\")"
   ]
  },
  {
   "cell_type": "code",
   "execution_count": null,
   "id": "fbf2ba70",
   "metadata": {},
   "outputs": [],
   "source": [
    "import timm"
   ]
  },
  {
   "cell_type": "code",
   "execution_count": null,
   "id": "796df519",
   "metadata": {},
   "outputs": [],
   "source": [
    "model = timm.create_model(\"vgg16\", pretrained=True).to(device)\n",
    "data_cfg = timm.data.resolve_data_config(model.pretrained_cfg)\n",
    "transform = timm.data.create_transform(**data_cfg)"
   ]
  },
  {
   "cell_type": "code",
   "execution_count": null,
   "id": "467f1d72",
   "metadata": {},
   "outputs": [],
   "source": [
    "train_dataset = GenderAgeClass(train_df, transform=transform)\n",
    "val_dataset = GenderAgeClass(val_df, transform=transform)"
   ]
  },
  {
   "cell_type": "code",
   "execution_count": null,
   "id": "de6dbdae",
   "metadata": {},
   "outputs": [
    {
     "data": {
      "text/plain": [
       "(torch.Size([3, 224, 224]), tensor([0.0800]), tensor([1.]))"
      ]
     },
     "execution_count": null,
     "metadata": {},
     "output_type": "execute_result"
    }
   ],
   "source": [
    "spl = train_dataset[0]\n",
    "spl[0].shape, spl[1], spl[2]"
   ]
  },
  {
   "cell_type": "code",
   "execution_count": null,
   "id": "5a4fc0e2",
   "metadata": {},
   "outputs": [],
   "source": [
    "train_loader = DataLoader(train_dataset, batch_size=2, shuffle=True, drop_last=True)\n",
    "val_loader = DataLoader(val_dataset, batch_size=2, shuffle=False, drop_last=False)"
   ]
  },
  {
   "cell_type": "code",
   "execution_count": null,
   "id": "a862d0f3",
   "metadata": {},
   "outputs": [
    {
     "data": {
      "text/plain": [
       "(torch.Size([2, 3, 224, 224]), torch.Size([2, 1]), torch.Size([2, 1]))"
      ]
     },
     "execution_count": null,
     "metadata": {},
     "output_type": "execute_result"
    }
   ],
   "source": [
    "batch = next(iter(train_loader))\n",
    "img, age, gender = batch\n",
    "img, age, gender = img.to(device), age.to(device), gender.to(device)\n",
    "img.shape, age.shape, gender.shape"
   ]
  },
  {
   "cell_type": "code",
   "execution_count": null,
   "id": "b3afd37b",
   "metadata": {},
   "outputs": [
    {
     "data": {
      "text/plain": [
       "(torch.float32, torch.float32, torch.float32)"
      ]
     },
     "execution_count": null,
     "metadata": {},
     "output_type": "execute_result"
    }
   ],
   "source": [
    "img.dtype, age.dtype, gender.dtype"
   ]
  },
  {
   "cell_type": "code",
   "execution_count": null,
   "id": "19d40b53",
   "metadata": {},
   "outputs": [
    {
     "data": {
      "text/plain": [
       "torch.Size([2, 1000])"
      ]
     },
     "execution_count": null,
     "metadata": {},
     "output_type": "execute_result"
    }
   ],
   "source": [
    "model(img).shape"
   ]
  },
  {
   "cell_type": "code",
   "execution_count": null,
   "id": "ac24409f",
   "metadata": {},
   "outputs": [
    {
     "data": {
      "text/plain": [
       "torch.Size([2, 512, 7, 7])"
      ]
     },
     "execution_count": null,
     "metadata": {},
     "output_type": "execute_result"
    }
   ],
   "source": [
    "model.forward_features(img).shape"
   ]
  },
  {
   "cell_type": "code",
   "execution_count": null,
   "id": "726c7250",
   "metadata": {},
   "outputs": [
    {
     "data": {
      "text/plain": [
       "torch.Size([2, 512, 7, 7])"
      ]
     },
     "execution_count": null,
     "metadata": {},
     "output_type": "execute_result"
    }
   ],
   "source": [
    "model.features(img).shape"
   ]
  },
  {
   "cell_type": "code",
   "execution_count": null,
   "id": "1c57332a",
   "metadata": {},
   "outputs": [
    {
     "data": {
      "text/plain": [
       "VGG(\n",
       "  (features): Sequential(\n",
       "    (0): Conv2d(3, 64, kernel_size=(3, 3), stride=(1, 1), padding=(1, 1))\n",
       "    (1): ReLU(inplace=True)\n",
       "    (2): Conv2d(64, 64, kernel_size=(3, 3), stride=(1, 1), padding=(1, 1))\n",
       "    (3): ReLU(inplace=True)\n",
       "    (4): MaxPool2d(kernel_size=2, stride=2, padding=0, dilation=1, ceil_mode=False)\n",
       "    (5): Conv2d(64, 128, kernel_size=(3, 3), stride=(1, 1), padding=(1, 1))\n",
       "    (6): ReLU(inplace=True)\n",
       "    (7): Conv2d(128, 128, kernel_size=(3, 3), stride=(1, 1), padding=(1, 1))\n",
       "    (8): ReLU(inplace=True)\n",
       "    (9): MaxPool2d(kernel_size=2, stride=2, padding=0, dilation=1, ceil_mode=False)\n",
       "    (10): Conv2d(128, 256, kernel_size=(3, 3), stride=(1, 1), padding=(1, 1))\n",
       "    (11): ReLU(inplace=True)\n",
       "    (12): Conv2d(256, 256, kernel_size=(3, 3), stride=(1, 1), padding=(1, 1))\n",
       "    (13): ReLU(inplace=True)\n",
       "    (14): Conv2d(256, 256, kernel_size=(3, 3), stride=(1, 1), padding=(1, 1))\n",
       "    (15): ReLU(inplace=True)\n",
       "    (16): MaxPool2d(kernel_size=2, stride=2, padding=0, dilation=1, ceil_mode=False)\n",
       "    (17): Conv2d(256, 512, kernel_size=(3, 3), stride=(1, 1), padding=(1, 1))\n",
       "    (18): ReLU(inplace=True)\n",
       "    (19): Conv2d(512, 512, kernel_size=(3, 3), stride=(1, 1), padding=(1, 1))\n",
       "    (20): ReLU(inplace=True)\n",
       "    (21): Conv2d(512, 512, kernel_size=(3, 3), stride=(1, 1), padding=(1, 1))\n",
       "    (22): ReLU(inplace=True)\n",
       "    (23): MaxPool2d(kernel_size=2, stride=2, padding=0, dilation=1, ceil_mode=False)\n",
       "    (24): Conv2d(512, 512, kernel_size=(3, 3), stride=(1, 1), padding=(1, 1))\n",
       "    (25): ReLU(inplace=True)\n",
       "    (26): Conv2d(512, 512, kernel_size=(3, 3), stride=(1, 1), padding=(1, 1))\n",
       "    (27): ReLU(inplace=True)\n",
       "    (28): Conv2d(512, 512, kernel_size=(3, 3), stride=(1, 1), padding=(1, 1))\n",
       "    (29): ReLU(inplace=True)\n",
       "    (30): MaxPool2d(kernel_size=2, stride=2, padding=0, dilation=1, ceil_mode=False)\n",
       "  )\n",
       "  (pre_logits): ConvMlp(\n",
       "    (fc1): Conv2d(512, 4096, kernel_size=(7, 7), stride=(1, 1))\n",
       "    (act1): ReLU(inplace=True)\n",
       "    (drop): Dropout(p=0.0, inplace=False)\n",
       "    (fc2): Conv2d(4096, 4096, kernel_size=(1, 1), stride=(1, 1))\n",
       "    (act2): ReLU(inplace=True)\n",
       "  )\n",
       "  (head): ClassifierHead(\n",
       "    (global_pool): SelectAdaptivePool2d(pool_type=avg, flatten=Flatten(start_dim=1, end_dim=-1))\n",
       "    (drop): Dropout(p=0.0, inplace=False)\n",
       "    (fc): Linear(in_features=4096, out_features=1000, bias=True)\n",
       "    (flatten): Identity()\n",
       "  )\n",
       ")"
      ]
     },
     "execution_count": null,
     "metadata": {},
     "output_type": "execute_result"
    }
   ],
   "source": [
    "model"
   ]
  },
  {
   "cell_type": "code",
   "execution_count": null,
   "id": "5f78a5a4",
   "metadata": {},
   "outputs": [],
   "source": [
    "from torch import nn"
   ]
  },
  {
   "cell_type": "code",
   "execution_count": null,
   "id": "610550f8",
   "metadata": {},
   "outputs": [],
   "source": [
    "class ageGenderClassifier(nn.Module):\n",
    "    def __init__(self):\n",
    "        super().__init__()\n",
    "        self.intermediate = nn.Sequential(\n",
    "            nn.Linear(4096,512),\n",
    "            nn.ReLU(),\n",
    "            nn.Dropout(0.4),\n",
    "            nn.Linear(512,128),\n",
    "            nn.ReLU(),\n",
    "            nn.Dropout(0.4),\n",
    "            nn.Linear(128,64),\n",
    "            nn.ReLU(),\n",
    "        )\n",
    "        self.age_classifier = nn.Sequential(\n",
    "            nn.Linear(64, 1),\n",
    "            nn.Sigmoid()\n",
    "        )\n",
    "        self.gender_classifier = nn.Sequential(\n",
    "            nn.Linear(64, 1),\n",
    "        )\n",
    "    def forward(self, x):\n",
    "        x = self.intermediate(x)\n",
    "        age = self.age_classifier(x)\n",
    "        gender = self.gender_classifier(x)\n",
    "        return age, gender"
   ]
  },
  {
   "cell_type": "code",
   "execution_count": null,
   "id": "cbde8fad",
   "metadata": {},
   "outputs": [],
   "source": [
    "model.head.fc = ageGenderClassifier()"
   ]
  },
  {
   "cell_type": "code",
   "execution_count": null,
   "id": "a5ea9fad",
   "metadata": {},
   "outputs": [
    {
     "data": {
      "text/plain": [
       "VGG(\n",
       "  (features): Sequential(\n",
       "    (0): Conv2d(3, 64, kernel_size=(3, 3), stride=(1, 1), padding=(1, 1))\n",
       "    (1): ReLU(inplace=True)\n",
       "    (2): Conv2d(64, 64, kernel_size=(3, 3), stride=(1, 1), padding=(1, 1))\n",
       "    (3): ReLU(inplace=True)\n",
       "    (4): MaxPool2d(kernel_size=2, stride=2, padding=0, dilation=1, ceil_mode=False)\n",
       "    (5): Conv2d(64, 128, kernel_size=(3, 3), stride=(1, 1), padding=(1, 1))\n",
       "    (6): ReLU(inplace=True)\n",
       "    (7): Conv2d(128, 128, kernel_size=(3, 3), stride=(1, 1), padding=(1, 1))\n",
       "    (8): ReLU(inplace=True)\n",
       "    (9): MaxPool2d(kernel_size=2, stride=2, padding=0, dilation=1, ceil_mode=False)\n",
       "    (10): Conv2d(128, 256, kernel_size=(3, 3), stride=(1, 1), padding=(1, 1))\n",
       "    (11): ReLU(inplace=True)\n",
       "    (12): Conv2d(256, 256, kernel_size=(3, 3), stride=(1, 1), padding=(1, 1))\n",
       "    (13): ReLU(inplace=True)\n",
       "    (14): Conv2d(256, 256, kernel_size=(3, 3), stride=(1, 1), padding=(1, 1))\n",
       "    (15): ReLU(inplace=True)\n",
       "    (16): MaxPool2d(kernel_size=2, stride=2, padding=0, dilation=1, ceil_mode=False)\n",
       "    (17): Conv2d(256, 512, kernel_size=(3, 3), stride=(1, 1), padding=(1, 1))\n",
       "    (18): ReLU(inplace=True)\n",
       "    (19): Conv2d(512, 512, kernel_size=(3, 3), stride=(1, 1), padding=(1, 1))\n",
       "    (20): ReLU(inplace=True)\n",
       "    (21): Conv2d(512, 512, kernel_size=(3, 3), stride=(1, 1), padding=(1, 1))\n",
       "    (22): ReLU(inplace=True)\n",
       "    (23): MaxPool2d(kernel_size=2, stride=2, padding=0, dilation=1, ceil_mode=False)\n",
       "    (24): Conv2d(512, 512, kernel_size=(3, 3), stride=(1, 1), padding=(1, 1))\n",
       "    (25): ReLU(inplace=True)\n",
       "    (26): Conv2d(512, 512, kernel_size=(3, 3), stride=(1, 1), padding=(1, 1))\n",
       "    (27): ReLU(inplace=True)\n",
       "    (28): Conv2d(512, 512, kernel_size=(3, 3), stride=(1, 1), padding=(1, 1))\n",
       "    (29): ReLU(inplace=True)\n",
       "    (30): MaxPool2d(kernel_size=2, stride=2, padding=0, dilation=1, ceil_mode=False)\n",
       "  )\n",
       "  (pre_logits): ConvMlp(\n",
       "    (fc1): Conv2d(512, 4096, kernel_size=(7, 7), stride=(1, 1))\n",
       "    (act1): ReLU(inplace=True)\n",
       "    (drop): Dropout(p=0.0, inplace=False)\n",
       "    (fc2): Conv2d(4096, 4096, kernel_size=(1, 1), stride=(1, 1))\n",
       "    (act2): ReLU(inplace=True)\n",
       "  )\n",
       "  (head): ClassifierHead(\n",
       "    (global_pool): SelectAdaptivePool2d(pool_type=avg, flatten=Flatten(start_dim=1, end_dim=-1))\n",
       "    (drop): Dropout(p=0.0, inplace=False)\n",
       "    (fc): ageGenderClassifier(\n",
       "      (intermediate): Sequential(\n",
       "        (0): Linear(in_features=4096, out_features=512, bias=True)\n",
       "        (1): ReLU()\n",
       "        (2): Dropout(p=0.4, inplace=False)\n",
       "        (3): Linear(in_features=512, out_features=128, bias=True)\n",
       "        (4): ReLU()\n",
       "        (5): Dropout(p=0.4, inplace=False)\n",
       "        (6): Linear(in_features=128, out_features=64, bias=True)\n",
       "        (7): ReLU()\n",
       "      )\n",
       "      (age_classifier): Sequential(\n",
       "        (0): Linear(in_features=64, out_features=1, bias=True)\n",
       "        (1): Sigmoid()\n",
       "      )\n",
       "      (gender_classifier): Sequential(\n",
       "        (0): Linear(in_features=64, out_features=1, bias=True)\n",
       "      )\n",
       "    )\n",
       "    (flatten): Identity()\n",
       "  )\n",
       ")"
      ]
     },
     "execution_count": null,
     "metadata": {},
     "output_type": "execute_result"
    }
   ],
   "source": [
    "model"
   ]
  },
  {
   "cell_type": "code",
   "execution_count": null,
   "id": "ed772267",
   "metadata": {},
   "outputs": [],
   "source": [
    "model = model.to(device)"
   ]
  },
  {
   "cell_type": "code",
   "execution_count": null,
   "id": "72fdebb6",
   "metadata": {},
   "outputs": [
    {
     "data": {
      "text/plain": [
       "(torch.Size([2, 1]), torch.Size([2, 1]))"
      ]
     },
     "execution_count": null,
     "metadata": {},
     "output_type": "execute_result"
    }
   ],
   "source": [
    "age_pred, gender_pred = model(img)\n",
    "age_pred.shape, gender_pred.shape"
   ]
  },
  {
   "cell_type": "code",
   "execution_count": null,
   "id": "e68a4c90",
   "metadata": {},
   "outputs": [],
   "source": [
    "import numpy as np"
   ]
  },
  {
   "cell_type": "code",
   "execution_count": null,
   "id": "872b9c9e",
   "metadata": {},
   "outputs": [
    {
     "data": {
      "text/plain": [
       "tensor([[0.4900],\n",
       "        [0.4000]], device='cuda:0')"
      ]
     },
     "execution_count": null,
     "metadata": {},
     "output_type": "execute_result"
    }
   ],
   "source": [
    "age"
   ]
  },
  {
   "cell_type": "code",
   "execution_count": null,
   "id": "7a4944a8",
   "metadata": {},
   "outputs": [
    {
     "data": {
      "text/plain": [
       "tensor([[0.4991],\n",
       "        [0.4955]], device='cuda:0', grad_fn=<SigmoidBackward0>)"
      ]
     },
     "execution_count": null,
     "metadata": {},
     "output_type": "execute_result"
    }
   ],
   "source": [
    "age_pred"
   ]
  },
  {
   "cell_type": "code",
   "execution_count": null,
   "id": "13f8d034",
   "metadata": {},
   "outputs": [
    {
     "data": {
      "text/plain": [
       "tensor([[49],\n",
       "        [40]], device='cuda:0', dtype=torch.int32)"
      ]
     },
     "execution_count": null,
     "metadata": {},
     "output_type": "execute_result"
    }
   ],
   "source": [
    "(age*100).type(torch.int)"
   ]
  },
  {
   "cell_type": "code",
   "execution_count": null,
   "id": "fe2fb83f",
   "metadata": {},
   "outputs": [
    {
     "data": {
      "text/plain": [
       "tensor([[49],\n",
       "        [49]], device='cuda:0', dtype=torch.int32)"
      ]
     },
     "execution_count": null,
     "metadata": {},
     "output_type": "execute_result"
    }
   ],
   "source": [
    "(age_pred*100).type(torch.int)"
   ]
  },
  {
   "cell_type": "code",
   "execution_count": null,
   "id": "1e211741",
   "metadata": {},
   "outputs": [
    {
     "data": {
      "text/plain": [
       "tensor(4.5000, device='cuda:0')"
      ]
     },
     "execution_count": null,
     "metadata": {},
     "output_type": "execute_result"
    }
   ],
   "source": [
    "torch.abs((age*100).type(torch.int) - (age_pred*100).type(torch.int)).float().mean()"
   ]
  },
  {
   "cell_type": "code",
   "execution_count": null,
   "id": "03614abe",
   "metadata": {},
   "outputs": [
    {
     "data": {
      "text/plain": [
       "tensor([[1.],\n",
       "        [0.]], device='cuda:0')"
      ]
     },
     "execution_count": null,
     "metadata": {},
     "output_type": "execute_result"
    }
   ],
   "source": [
    "gender"
   ]
  },
  {
   "cell_type": "code",
   "execution_count": null,
   "id": "030395b7",
   "metadata": {},
   "outputs": [
    {
     "data": {
      "text/plain": [
       "tensor([[0.0631],\n",
       "        [0.0454]], device='cuda:0', grad_fn=<AddmmBackward0>)"
      ]
     },
     "execution_count": null,
     "metadata": {},
     "output_type": "execute_result"
    }
   ],
   "source": [
    "gender_pred"
   ]
  },
  {
   "cell_type": "code",
   "execution_count": null,
   "id": "40a5d24e",
   "metadata": {},
   "outputs": [],
   "source": [
    "from torch.nn.functional import sigmoid"
   ]
  },
  {
   "cell_type": "code",
   "execution_count": null,
   "id": "4607e7c3",
   "metadata": {},
   "outputs": [
    {
     "data": {
      "text/plain": [
       "tensor([[0.5158],\n",
       "        [0.5114]], device='cuda:0', grad_fn=<SigmoidBackward0>)"
      ]
     },
     "execution_count": null,
     "metadata": {},
     "output_type": "execute_result"
    }
   ],
   "source": [
    "sigmoid(gender_pred)"
   ]
  },
  {
   "cell_type": "code",
   "execution_count": null,
   "id": "9d7933f3",
   "metadata": {},
   "outputs": [
    {
     "data": {
      "text/plain": [
       "tensor([[1.],\n",
       "        [1.]], device='cuda:0')"
      ]
     },
     "execution_count": null,
     "metadata": {},
     "output_type": "execute_result"
    }
   ],
   "source": [
    "(sigmoid(gender_pred)>0.5).type(torch.float)"
   ]
  },
  {
   "cell_type": "code",
   "execution_count": null,
   "id": "647da458",
   "metadata": {},
   "outputs": [
    {
     "data": {
      "text/plain": [
       "tensor(0.5000, device='cuda:0')"
      ]
     },
     "execution_count": null,
     "metadata": {},
     "output_type": "execute_result"
    }
   ],
   "source": [
    "(gender == (sigmoid(gender_pred)>0.5).type(torch.float)).float().mean()"
   ]
  },
  {
   "cell_type": "code",
   "execution_count": null,
   "id": "71f25be7",
   "metadata": {},
   "outputs": [],
   "source": [
    "age_criterion = nn.L1Loss()\n",
    "gender_criterion = nn.BCEWithLogitsLoss()"
   ]
  },
  {
   "cell_type": "code",
   "execution_count": null,
   "id": "b96364e5",
   "metadata": {},
   "outputs": [
    {
     "data": {
      "text/plain": [
       "tensor(0.0523, device='cuda:0', grad_fn=<MeanBackward0>)"
      ]
     },
     "execution_count": null,
     "metadata": {},
     "output_type": "execute_result"
    }
   ],
   "source": [
    "age_criterion(age_pred, age)"
   ]
  },
  {
   "cell_type": "code",
   "execution_count": null,
   "id": "47aa9f8e",
   "metadata": {},
   "outputs": [
    {
     "data": {
      "text/plain": [
       "tensor(0.6891, device='cuda:0',\n",
       "       grad_fn=<BinaryCrossEntropyWithLogitsBackward0>)"
      ]
     },
     "execution_count": null,
     "metadata": {},
     "output_type": "execute_result"
    }
   ],
   "source": [
    "gender_criterion(gender_pred, gender)"
   ]
  },
  {
   "cell_type": "code",
   "execution_count": null,
   "id": "d7707ead",
   "metadata": {},
   "outputs": [],
   "source": [
    "from tqdm import tqdm\n",
    "import pickle\n",
    "from torch.optim import Adam"
   ]
  },
  {
   "cell_type": "code",
   "execution_count": null,
   "id": "895e91b9",
   "metadata": {},
   "outputs": [],
   "source": [
    "device = torch.device(\"cuda\" if torch.cuda.is_available() else \"cpu\")\n",
    "\n",
    "model = timm.create_model(\"vgg16\", pretrained=True)\n",
    "data_cfg = timm.data.resolve_data_config(model.pretrained_cfg)\n",
    "transform = timm.data.create_transform(**data_cfg)\n",
    "for param in model.parameters(): \n",
    "    param.requires_grad = False\n",
    "model.head.fc = ageGenderClassifier()\n",
    "model = model.to(device)"
   ]
  },
  {
   "cell_type": "code",
   "execution_count": null,
   "id": "cc612053",
   "metadata": {},
   "outputs": [],
   "source": [
    "from torchinfo import summary"
   ]
  },
  {
   "cell_type": "code",
   "execution_count": null,
   "id": "39442660",
   "metadata": {},
   "outputs": [
    {
     "data": {
      "text/plain": [
       "==========================================================================================\n",
       "Layer (type:depth-idx)                   Output Shape              Param #\n",
       "==========================================================================================\n",
       "VGG                                      [2, 1]                    --\n",
       "├─Sequential: 1-1                        [2, 512, 7, 7]            --\n",
       "│    └─Conv2d: 2-1                       [2, 64, 224, 224]         (1,792)\n",
       "│    └─ReLU: 2-2                         [2, 64, 224, 224]         --\n",
       "│    └─Conv2d: 2-3                       [2, 64, 224, 224]         (36,928)\n",
       "│    └─ReLU: 2-4                         [2, 64, 224, 224]         --\n",
       "│    └─MaxPool2d: 2-5                    [2, 64, 112, 112]         --\n",
       "│    └─Conv2d: 2-6                       [2, 128, 112, 112]        (73,856)\n",
       "│    └─ReLU: 2-7                         [2, 128, 112, 112]        --\n",
       "│    └─Conv2d: 2-8                       [2, 128, 112, 112]        (147,584)\n",
       "│    └─ReLU: 2-9                         [2, 128, 112, 112]        --\n",
       "│    └─MaxPool2d: 2-10                   [2, 128, 56, 56]          --\n",
       "│    └─Conv2d: 2-11                      [2, 256, 56, 56]          (295,168)\n",
       "│    └─ReLU: 2-12                        [2, 256, 56, 56]          --\n",
       "│    └─Conv2d: 2-13                      [2, 256, 56, 56]          (590,080)\n",
       "│    └─ReLU: 2-14                        [2, 256, 56, 56]          --\n",
       "│    └─Conv2d: 2-15                      [2, 256, 56, 56]          (590,080)\n",
       "│    └─ReLU: 2-16                        [2, 256, 56, 56]          --\n",
       "│    └─MaxPool2d: 2-17                   [2, 256, 28, 28]          --\n",
       "│    └─Conv2d: 2-18                      [2, 512, 28, 28]          (1,180,160)\n",
       "│    └─ReLU: 2-19                        [2, 512, 28, 28]          --\n",
       "│    └─Conv2d: 2-20                      [2, 512, 28, 28]          (2,359,808)\n",
       "│    └─ReLU: 2-21                        [2, 512, 28, 28]          --\n",
       "│    └─Conv2d: 2-22                      [2, 512, 28, 28]          (2,359,808)\n",
       "│    └─ReLU: 2-23                        [2, 512, 28, 28]          --\n",
       "│    └─MaxPool2d: 2-24                   [2, 512, 14, 14]          --\n",
       "│    └─Conv2d: 2-25                      [2, 512, 14, 14]          (2,359,808)\n",
       "│    └─ReLU: 2-26                        [2, 512, 14, 14]          --\n",
       "│    └─Conv2d: 2-27                      [2, 512, 14, 14]          (2,359,808)\n",
       "│    └─ReLU: 2-28                        [2, 512, 14, 14]          --\n",
       "│    └─Conv2d: 2-29                      [2, 512, 14, 14]          (2,359,808)\n",
       "│    └─ReLU: 2-30                        [2, 512, 14, 14]          --\n",
       "│    └─MaxPool2d: 2-31                   [2, 512, 7, 7]            --\n",
       "├─ConvMlp: 1-2                           [2, 4096, 1, 1]           --\n",
       "│    └─Conv2d: 2-32                      [2, 4096, 1, 1]           (102,764,544)\n",
       "│    └─ReLU: 2-33                        [2, 4096, 1, 1]           --\n",
       "│    └─Dropout: 2-34                     [2, 4096, 1, 1]           --\n",
       "│    └─Conv2d: 2-35                      [2, 4096, 1, 1]           (16,781,312)\n",
       "│    └─ReLU: 2-36                        [2, 4096, 1, 1]           --\n",
       "├─ClassifierHead: 1-3                    [2, 1]                    --\n",
       "│    └─SelectAdaptivePool2d: 2-37        [2, 4096]                 --\n",
       "│    │    └─AdaptiveAvgPool2d: 3-1       [2, 4096, 1, 1]           --\n",
       "│    │    └─Flatten: 3-2                 [2, 4096]                 --\n",
       "│    └─Dropout: 2-38                     [2, 4096]                 --\n",
       "│    └─ageGenderClassifier: 2-39         [2, 1]                    --\n",
       "│    │    └─Sequential: 3-3              [2, 64]                   2,171,584\n",
       "│    │    └─Sequential: 3-4              [2, 1]                    65\n",
       "│    │    └─Sequential: 3-5              [2, 1]                    65\n",
       "│    └─Identity: 2-40                    [2, 1]                    --\n",
       "==========================================================================================\n",
       "Total params: 136,432,258\n",
       "Trainable params: 2,171,714\n",
       "Non-trainable params: 134,260,544\n",
       "Total mult-adds (G): 30.96\n",
       "==========================================================================================\n",
       "Input size (MB): 1.20\n",
       "Forward/backward pass size (MB): 216.90\n",
       "Params size (MB): 545.73\n",
       "Estimated Total Size (MB): 763.84\n",
       "=========================================================================================="
      ]
     },
     "execution_count": null,
     "metadata": {},
     "output_type": "execute_result"
    }
   ],
   "source": [
    "summary(model, input_data=img)"
   ]
  },
  {
   "cell_type": "code",
   "execution_count": null,
   "id": "527e0f9c",
   "metadata": {},
   "outputs": [],
   "source": [
    "optimizer = Adam(model.parameters(), lr=1e-4)"
   ]
  },
  {
   "cell_type": "code",
   "execution_count": null,
   "id": "8f2bf40d",
   "metadata": {},
   "outputs": [],
   "source": [
    "train_dataset = GenderAgeClass(train_df, transform=transform)\n",
    "val_dataset = GenderAgeClass(val_df, transform=transform)\n",
    "train_loader = DataLoader(train_dataset, batch_size=16, shuffle=True, drop_last=True)\n",
    "val_loader = DataLoader(val_dataset, batch_size=16, shuffle=False, drop_last=False)\n",
    "\n",
    "age_criterion = nn.L1Loss()\n",
    "gender_criterion = nn.BCEWithLogitsLoss()"
   ]
  },
  {
   "cell_type": "code",
   "execution_count": null,
   "id": "6029fd10",
   "metadata": {},
   "outputs": [
    {
     "name": "stdout",
     "output_type": "stream",
     "text": [
      "Epoch 0\n"
     ]
    },
    {
     "name": "stderr",
     "output_type": "stream",
     "text": [
      "100%|██████████| 427/427 [00:38<00:00, 11.22it/s]\n",
      "100%|██████████| 92/92 [00:08<00:00, 10.66it/s]\n"
     ]
    },
    {
     "name": "stdout",
     "output_type": "stream",
     "text": [
      "1000.0 -> 0.5823006014461103\n",
      "Epoch 1\n"
     ]
    },
    {
     "name": "stderr",
     "output_type": "stream",
     "text": [
      "100%|██████████| 427/427 [00:38<00:00, 11.23it/s]\n",
      "100%|██████████| 92/92 [00:08<00:00, 11.11it/s]\n"
     ]
    },
    {
     "name": "stdout",
     "output_type": "stream",
     "text": [
      "0.5823006014461103 -> 0.5493229627609253\n",
      "Epoch 2\n"
     ]
    },
    {
     "name": "stderr",
     "output_type": "stream",
     "text": [
      "100%|██████████| 427/427 [00:37<00:00, 11.33it/s]\n",
      "100%|██████████| 92/92 [00:08<00:00, 10.58it/s]\n"
     ]
    },
    {
     "name": "stdout",
     "output_type": "stream",
     "text": [
      "Epoch 3\n"
     ]
    },
    {
     "name": "stderr",
     "output_type": "stream",
     "text": [
      "100%|██████████| 427/427 [00:38<00:00, 11.09it/s]\n",
      "100%|██████████| 92/92 [00:08<00:00, 10.75it/s]\n"
     ]
    },
    {
     "name": "stdout",
     "output_type": "stream",
     "text": [
      "0.5493229627609253 -> 0.530601939915315\n",
      "Epoch 4\n"
     ]
    },
    {
     "name": "stderr",
     "output_type": "stream",
     "text": [
      "100%|██████████| 427/427 [00:39<00:00, 10.73it/s]\n",
      "100%|██████████| 92/92 [00:08<00:00, 10.24it/s]\n"
     ]
    },
    {
     "name": "stdout",
     "output_type": "stream",
     "text": [
      "0.530601939915315 -> 0.5181273100492747\n"
     ]
    }
   ],
   "source": [
    "train_losses = []\n",
    "val_losses = []\n",
    "val_age_maes = []\n",
    "val_gender_accuracies = []\n",
    "\n",
    "loss_val_best = 1e3\n",
    "\n",
    "n_epochs = 5\n",
    "for epoch in range(n_epochs):\n",
    "    print(\"Epoch\", epoch)\n",
    "    model.train()\n",
    "    loss_train = 0\n",
    "    for batch in tqdm(train_loader):\n",
    "        optimizer.zero_grad()\n",
    "        img, age, gender = batch\n",
    "        img, age, gender = img.to(device), age.to(device), gender.to(device)\n",
    "        age_pred, gender_pred = model(img)\n",
    "        age_loss = age_criterion(age_pred, age)\n",
    "        gender_loss = gender_criterion(gender_pred, gender)\n",
    "        total_loss = gender_loss + age_loss\n",
    "        total_loss.backward()\n",
    "        optimizer.step()\n",
    "        \n",
    "        loss_train += total_loss.item()\n",
    "    loss_train /= len(train_loader)\n",
    "    train_losses.append(loss_train)\n",
    "\n",
    "    model.eval()\n",
    "    loss_val = 0\n",
    "    age_mae_val = 0\n",
    "    gender_accuracy_val = 0\n",
    "    for batch in tqdm(val_loader):\n",
    "        img, age, gender = batch\n",
    "        img, age, gender = img.to(device), age.to(device), gender.to(device)\n",
    "        with torch.inference_mode():\n",
    "            age_pred, gender_pred = model(img)\n",
    "        age_loss = age_criterion(age_pred, age)\n",
    "        gender_loss = gender_criterion(gender_pred, gender)\n",
    "        total_loss = gender_loss + age_loss\n",
    "        loss_val += total_loss.item()\n",
    "        \n",
    "        true_age = (age*100).type(torch.int)\n",
    "        pred_age = (age_pred*100).type(torch.int)\n",
    "        age_mae_val += torch.abs(true_age-pred_age).float().mean().item()\n",
    "\n",
    "        pred_gender = (sigmoid(gender_pred)>0.5).type(torch.float)\n",
    "        gender_accuracy_val += (gender == pred_gender).float().mean().item()\n",
    "    loss_val /= len(val_loader)    \n",
    "    age_mae_val /= len(val_loader)\n",
    "    gender_accuracy_val /= len(val_loader)\n",
    "    val_losses.append(loss_val)\n",
    "    val_age_maes.append(age_mae_val)\n",
    "    val_gender_accuracies.append(gender_accuracy_val)\n",
    "\n",
    "    if loss_val < loss_val_best:\n",
    "        print(f'{loss_val_best} -> {loss_val}')\n",
    "        loss_val_best = loss_val\n",
    "        torch.save(model.state_dict(), 'best_model.pt')\n",
    "\n",
    "    results = {\n",
    "        'train_losses':train_losses,\n",
    "        'val_losses':val_losses,\n",
    "        'val_age_maes':val_age_maes,\n",
    "        'val_gender_accuracies':val_gender_accuracies,\n",
    "    }\n",
    "    with open('results.pkl', 'wb') as f:\n",
    "        pickle.dump(results, f)"
   ]
  },
  {
   "cell_type": "code",
   "execution_count": null,
   "id": "fc1ef72b",
   "metadata": {},
   "outputs": [],
   "source": [
    "with open('results.pkl', 'rb') as f:\n",
    "    res = pickle.load(f)"
   ]
  },
  {
   "cell_type": "code",
   "execution_count": null,
   "id": "4ddc9c7b",
   "metadata": {},
   "outputs": [],
   "source": [
    "import matplotlib.pyplot as plt"
   ]
  },
  {
   "cell_type": "code",
   "execution_count": null,
   "id": "ded18f60",
   "metadata": {},
   "outputs": [
    {
     "data": {
      "image/png": "[encoded data removed]",
      "text/plain": [
       "<Figure size 640x480 with 1 Axes>"
      ]
     },
     "metadata": {},
     "output_type": "display_data"
    }
   ],
   "source": [
    "plt.plot(res['train_losses'], label='train')\n",
    "plt.plot(res['val_losses'], label='val')\n",
    "plt.ylabel('loss')\n",
    "plt.legend();"
   ]
  },
  {
   "cell_type": "code",
   "execution_count": null,
   "id": "791033cf",
   "metadata": {},
   "outputs": [
    {
     "data": {
      "image/png": "[encoded data removed]",
      "text/plain": [
       "<Figure size 640x480 with 1 Axes>"
      ]
     },
     "metadata": {},
     "output_type": "display_data"
    }
   ],
   "source": [
    "plt.plot(res['val_age_maes'])\n",
    "plt.ylabel('MAE (age)');"
   ]
  },
  {
   "cell_type": "code",
   "execution_count": null,
   "id": "e7d9dbc5",
   "metadata": {},
   "outputs": [
    {
     "data": {
      "image/png": "[encoded data removed]",
      "text/plain": [
       "<Figure size 640x480 with 1 Axes>"
      ]
     },
     "metadata": {},
     "output_type": "display_data"
    }
   ],
   "source": [
    "plt.plot(res['val_gender_accuracies'])\n",
    "plt.ylabel('Gender accuracy');"
   ]
  },
  {
   "cell_type": "code",
   "execution_count": null,
   "id": "7778a806",
   "metadata": {},
   "outputs": [
    {
     "data": {
      "text/plain": [
       "<All keys matched successfully>"
      ]
     },
     "execution_count": null,
     "metadata": {},
     "output_type": "execute_result"
    }
   ],
   "source": [
    "model.load_state_dict(torch.load('best_model.pt', map_location=device, weights_only=True))"
   ]
  },
  {
   "cell_type": "code",
   "execution_count": null,
   "id": "9ee227fe",
   "metadata": {},
   "outputs": [
    {
     "name": "stderr",
     "output_type": "stream",
     "text": [
      "100%|██████████| 92/92 [00:09<00:00,  9.86it/s]"
     ]
    },
    {
     "name": "stdout",
     "output_type": "stream",
     "text": [
      "test loss 0.5046443884139475\n",
      "MAE (age) 9.088253461796304\n",
      "Gender accuracy 0.8047183797411297\n"
     ]
    },
    {
     "name": "stderr",
     "output_type": "stream",
     "text": [
      "\n"
     ]
    }
   ],
   "source": [
    "test_dataset = GenderAgeClass(test_df, transform=transform)\n",
    "test_loader = DataLoader(test_dataset, batch_size=16, shuffle=False, drop_last=False)\n",
    "\n",
    "model.eval()\n",
    "loss_test = 0\n",
    "age_mae_test = 0\n",
    "gender_accuracy_test = 0\n",
    "for batch in tqdm(test_loader):\n",
    "    img, age, gender = batch\n",
    "    img, age, gender = img.to(device), age.to(device), gender.to(device)\n",
    "    with torch.inference_mode():\n",
    "        age_pred, gender_pred = model(img)\n",
    "    age_loss = age_criterion(age_pred, age)\n",
    "    gender_loss = gender_criterion(gender_pred, gender)\n",
    "    total_loss = gender_loss + age_loss\n",
    "    loss_test += total_loss.item()\n",
    "    \n",
    "    true_age = (age*100).type(torch.int)\n",
    "    pred_age = (age_pred*100).type(torch.int)\n",
    "    age_mae_test += torch.abs(true_age-pred_age).float().mean().item()\n",
    "\n",
    "    pred_gender = (sigmoid(gender_pred)>0.5).type(torch.float)\n",
    "    gender_accuracy_test += (gender == pred_gender).float().mean().item()\n",
    "loss_test /= len(test_loader)    \n",
    "age_mae_test /= len(test_loader)\n",
    "gender_accuracy_test /= len(test_loader)\n",
    "\n",
    "print(\"test loss\", loss_test)\n",
    "print(\"MAE (age)\", age_mae_test)\n",
    "print(\"Gender accuracy\", gender_accuracy_test)"
   ]
  },
  {
   "cell_type": "code",
   "execution_count": null,
   "id": "5fc00162",
   "metadata": {},
   "outputs": [],
   "source": [
    "test_dataset = GenderAgeClass(test_df)"
   ]
  },
  {
   "cell_type": "code",
   "execution_count": null,
   "id": "1cc835f7",
   "metadata": {},
   "outputs": [
    {
     "data": {
      "text/plain": [
       "1467"
      ]
     },
     "execution_count": null,
     "metadata": {},
     "output_type": "execute_result"
    }
   ],
   "source": [
    "len(test_df)"
   ]
  },
  {
   "cell_type": "code",
   "execution_count": null,
   "id": "3044b6ed",
   "metadata": {},
   "outputs": [
    {
     "name": "stdout",
     "output_type": "stream",
     "text": [
      "Age\n",
      "True: 25\n",
      "Pred: 26\n",
      "\n",
      "Gender\n",
      "True: female\n",
      "Pred: female\n"
     ]
    },
    {
     "data": {
      "image/jpeg": "[encoded data removed]",
      "image/png": "[encoded data removed]",
      "text/plain": [
       "<PIL.JpegImagePlugin.JpegImageFile image mode=RGB size=200x200>"
      ]
     },
     "execution_count": null,
     "metadata": {},
     "output_type": "execute_result"
    }
   ],
   "source": [
    "idx = np.random.choice(len(test_df))\n",
    "sample = test_dataset[idx]\n",
    "img, age, gender = sample\n",
    "\n",
    "age_pred, gender_pred = model(transform(img).to(device).unsqueeze(0))\n",
    "true_age = (age*100).type(torch.int).item()\n",
    "pred_age = (age_pred*100).type(torch.int).item()\n",
    "\n",
    "true_gender = id2gender[gender.item()]\n",
    "pred_gender = id2gender[(sigmoid(gender_pred)>0.5).type(torch.float).item()]\n",
    "print(\"Age\")\n",
    "print(f\"True: {true_age}\")\n",
    "print(f\"Pred: {pred_age}\")\n",
    "print()\n",
    "print(\"Gender\")\n",
    "print(f\"True: {true_gender}\")\n",
    "print(f\"Pred: {pred_gender}\")\n",
    "img"
   ]
  },
  {
   "cell_type": "code",
   "execution_count": null,
   "id": "367e0940",
   "metadata": {},
   "outputs": [],
   "source": []
  },
  {
   "cell_type": "code",
   "execution_count": null,
   "id": "d4181d48",
   "metadata": {},
   "outputs": [],
   "source": []
  }
 ],
 "metadata": {
  "kernelspec": {
   "display_name": "python3",
   "language": "python",
   "name": "python3"
  },
  "widgets": {
   "application/vnd.jupyter.widget-state+json": {
    "state": {
     "20c7a8feafca4807b63b0d3cf1dae1e1": {
      "model_module": "@jupyter-widgets/controls",
      "model_module_version": "2.0.0",
      "model_name": "HTMLStyleModel",
      "state": {
       "_model_module": "@jupyter-widgets/controls",
       "_model_module_version": "2.0.0",
       "_model_name": "HTMLStyleModel",
       "_view_count": null,
       "_view_module": "@jupyter-widgets/base",
       "_view_module_version": "2.0.0",
       "_view_name": "StyleView",
       "background": null,
       "description_width": "",
       "font_size": null,
       "text_color": null
      }
     },
     "219562ea4cae4b37a176f16278c5d97b": {
      "model_module": "@jupyter-widgets/controls",
      "model_module_version": "2.0.0",
      "model_name": "HTMLModel",
      "state": {
       "_dom_classes": [],
       "_model_module": "@jupyter-widgets/controls",
       "_model_module_version": "2.0.0",
       "_model_name": "HTMLModel",
       "_view_count": null,
       "_view_module": "@jupyter-widgets/controls",
       "_view_module_version": "2.0.0",
       "_view_name": "HTMLView",
       "description": "",
       "description_allow_html": false,
       "layout": "IPY_MODEL_7357196500d9447b8a5b91af723cacce",
       "placeholder": "​",
       "style": "IPY_MODEL_20c7a8feafca4807b63b0d3cf1dae1e1",
       "tabbable": null,
       "tooltip": null,
       "value": "model.safetensors: 100%"
      }
     },
     "3718dbe0bc734041b07ded2275c68173": {
      "model_module": "@jupyter-widgets/base",
      "model_module_version": "2.0.0",
      "model_name": "LayoutModel",
      "state": {
       "_model_module": "@jupyter-widgets/base",
       "_model_module_version": "2.0.0",
       "_model_name": "LayoutModel",
       "_view_count": null,
       "_view_module": "@jupyter-widgets/base",
       "_view_module_version": "2.0.0",
       "_view_name": "LayoutView",
       "align_content": null,
       "align_items": null,
       "align_self": null,
       "border_bottom": null,
       "border_left": null,
       "border_right": null,
       "border_top": null,
       "bottom": null,
       "display": null,
       "flex": null,
       "flex_flow": null,
       "grid_area": null,
       "grid_auto_columns": null,
       "grid_auto_flow": null,
       "grid_auto_rows": null,
       "grid_column": null,
       "grid_gap": null,
       "grid_row": null,
       "grid_template_areas": null,
       "grid_template_columns": null,
       "grid_template_rows": null,
       "height": null,
       "justify_content": null,
       "justify_items": null,
       "left": null,
       "margin": null,
       "max_height": null,
       "max_width": null,
       "min_height": null,
       "min_width": null,
       "object_fit": null,
       "object_position": null,
       "order": null,
       "overflow": null,
       "padding": null,
       "right": null,
       "top": null,
       "visibility": null,
       "width": null
      }
     },
     "451081f9ae2842adaf1bf936b4cf5c0f": {
      "model_module": "@jupyter-widgets/controls",
      "model_module_version": "2.0.0",
      "model_name": "ProgressStyleModel",
      "state": {
       "_model_module": "@jupyter-widgets/controls",
       "_model_module_version": "2.0.0",
       "_model_name": "ProgressStyleModel",
       "_view_count": null,
       "_view_module": "@jupyter-widgets/base",
       "_view_module_version": "2.0.0",
       "_view_name": "StyleView",
       "bar_color": null,
       "description_width": ""
      }
     },
     "6d5c43629cc14accbb97ce2cb3ae019e": {
      "model_module": "@jupyter-widgets/controls",
      "model_module_version": "2.0.0",
      "model_name": "FloatProgressModel",
      "state": {
       "_dom_classes": [],
       "_model_module": "@jupyter-widgets/controls",
       "_model_module_version": "2.0.0",
       "_model_name": "FloatProgressModel",
       "_view_count": null,
       "_view_module": "@jupyter-widgets/controls",
       "_view_module_version": "2.0.0",
       "_view_name": "ProgressView",
       "bar_style": "success",
       "description": "",
       "description_allow_html": false,
       "layout": "IPY_MODEL_3718dbe0bc734041b07ded2275c68173",
       "max": 553432986,
       "min": 0,
       "orientation": "horizontal",
       "style": "IPY_MODEL_451081f9ae2842adaf1bf936b4cf5c0f",
       "tabbable": null,
       "tooltip": null,
       "value": 553432986
      }
     },
     "7357196500d9447b8a5b91af723cacce": {
      "model_module": "@jupyter-widgets/base",
      "model_module_version": "2.0.0",
      "model_name": "LayoutModel",
      "state": {
       "_model_module": "@jupyter-widgets/base",
       "_model_module_version": "2.0.0",
       "_model_name": "LayoutModel",
       "_view_count": null,
       "_view_module": "@jupyter-widgets/base",
       "_view_module_version": "2.0.0",
       "_view_name": "LayoutView",
       "align_content": null,
       "align_items": null,
       "align_self": null,
       "border_bottom": null,
       "border_left": null,
       "border_right": null,
       "border_top": null,
       "bottom": null,
       "display": null,
       "flex": null,
       "flex_flow": null,
       "grid_area": null,
       "grid_auto_columns": null,
       "grid_auto_flow": null,
       "grid_auto_rows": null,
       "grid_column": null,
       "grid_gap": null,
       "grid_row": null,
       "grid_template_areas": null,
       "grid_template_columns": null,
       "grid_template_rows": null,
       "height": null,
       "justify_content": null,
       "justify_items": null,
       "left": null,
       "margin": null,
       "max_height": null,
       "max_width": null,
       "min_height": null,
       "min_width": null,
       "object_fit": null,
       "object_position": null,
       "order": null,
       "overflow": null,
       "padding": null,
       "right": null,
       "top": null,
       "visibility": null,
       "width": null
      }
     },
     "9267ce9d5a1a49d19c2a0e7169231ac9": {
      "model_module": "@jupyter-widgets/controls",
      "model_module_version": "2.0.0",
      "model_name": "HTMLModel",
      "state": {
       "_dom_classes": [],
       "_model_module": "@jupyter-widgets/controls",
       "_model_module_version": "2.0.0",
       "_model_name": "HTMLModel",
       "_view_count": null,
       "_view_module": "@jupyter-widgets/controls",
       "_view_module_version": "2.0.0",
       "_view_name": "HTMLView",
       "description": "",
       "description_allow_html": false,
       "layout": "IPY_MODEL_a88b01377db849e2bcfc3677912cd3ea",
       "placeholder": "​",
       "style": "IPY_MODEL_ee69ae4dfafd47a49228fb7c48b117aa",
       "tabbable": null,
       "tooltip": null,
       "value": " 553M/553M [00:02&lt;00:00, 245MB/s]"
      }
     },
     "9ec93af9926345ea9a0a0dfde4be01e2": {
      "model_module": "@jupyter-widgets/controls",
      "model_module_version": "2.0.0",
      "model_name": "HBoxModel",
      "state": {
       "_dom_classes": [],
       "_model_module": "@jupyter-widgets/controls",
       "_model_module_version": "2.0.0",
       "_model_name": "HBoxModel",
       "_view_count": null,
       "_view_module": "@jupyter-widgets/controls",
       "_view_module_version": "2.0.0",
       "_view_name": "HBoxView",
       "box_style": "",
       "children": [
        "IPY_MODEL_219562ea4cae4b37a176f16278c5d97b",
        "IPY_MODEL_6d5c43629cc14accbb97ce2cb3ae019e",
        "IPY_MODEL_9267ce9d5a1a49d19c2a0e7169231ac9"
       ],
       "layout": "IPY_MODEL_bf09ac49cb1a46a398c9cbae6c00864b",
       "tabbable": null,
       "tooltip": null
      }
     },
     "a88b01377db849e2bcfc3677912cd3ea": {
      "model_module": "@jupyter-widgets/base",
      "model_module_version": "2.0.0",
      "model_name": "LayoutModel",
      "state": {
       "_model_module": "@jupyter-widgets/base",
       "_model_module_version": "2.0.0",
       "_model_name": "LayoutModel",
       "_view_count": null,
       "_view_module": "@jupyter-widgets/base",
       "_view_module_version": "2.0.0",
       "_view_name": "LayoutView",
       "align_content": null,
       "align_items": null,
       "align_self": null,
       "border_bottom": null,
       "border_left": null,
       "border_right": null,
       "border_top": null,
       "bottom": null,
       "display": null,
       "flex": null,
       "flex_flow": null,
       "grid_area": null,
       "grid_auto_columns": null,
       "grid_auto_flow": null,
       "grid_auto_rows": null,
       "grid_column": null,
       "grid_gap": null,
       "grid_row": null,
       "grid_template_areas": null,
       "grid_template_columns": null,
       "grid_template_rows": null,
       "height": null,
       "justify_content": null,
       "justify_items": null,
       "left": null,
       "margin": null,
       "max_height": null,
       "max_width": null,
       "min_height": null,
       "min_width": null,
       "object_fit": null,
       "object_position": null,
       "order": null,
       "overflow": null,
       "padding": null,
       "right": null,
       "top": null,
       "visibility": null,
       "width": null
      }
     },
     "bf09ac49cb1a46a398c9cbae6c00864b": {
      "model_module": "@jupyter-widgets/base",
      "model_module_version": "2.0.0",
      "model_name": "LayoutModel",
      "state": {
       "_model_module": "@jupyter-widgets/base",
       "_model_module_version": "2.0.0",
       "_model_name": "LayoutModel",
       "_view_count": null,
       "_view_module": "@jupyter-widgets/base",
       "_view_module_version": "2.0.0",
       "_view_name": "LayoutView",
       "align_content": null,
       "align_items": null,
       "align_self": null,
       "border_bottom": null,
       "border_left": null,
       "border_right": null,
       "border_top": null,
       "bottom": null,
       "display": null,
       "flex": null,
       "flex_flow": null,
       "grid_area": null,
       "grid_auto_columns": null,
       "grid_auto_flow": null,
       "grid_auto_rows": null,
       "grid_column": null,
       "grid_gap": null,
       "grid_row": null,
       "grid_template_areas": null,
       "grid_template_columns": null,
       "grid_template_rows": null,
       "height": null,
       "justify_content": null,
       "justify_items": null,
       "left": null,
       "margin": null,
       "max_height": null,
       "max_width": null,
       "min_height": null,
       "min_width": null,
       "object_fit": null,
       "object_position": null,
       "order": null,
       "overflow": null,
       "padding": null,
       "right": null,
       "top": null,
       "visibility": null,
       "width": null
      }
     },
     "ee69ae4dfafd47a49228fb7c48b117aa": {
      "model_module": "@jupyter-widgets/controls",
      "model_module_version": "2.0.0",
      "model_name": "HTMLStyleModel",
      "state": {
       "_model_module": "@jupyter-widgets/controls",
       "_model_module_version": "2.0.0",
       "_model_name": "HTMLStyleModel",
       "_view_count": null,
       "_view_module": "@jupyter-widgets/base",
       "_view_module_version": "2.0.0",
       "_view_name": "StyleView",
       "background": null,
       "description_width": "",
       "font_size": null,
       "text_color": null
      }
     }
    },
    "version_major": 2,
    "version_minor": 0
   }
  }
 },
 "nbformat": 4,
 "nbformat_minor": 5
}

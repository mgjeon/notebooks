{
 "cells": [
  {
   "cell_type": "markdown",
   "id": "63e9802c-e455-442f-b4c6-1c7070019fe7",
   "metadata": {},
   "source": [
    "# Chapter 1 Getting started\n",
    "\n",
    "https://otexts.com/fpp3/intro.html"
   ]
  },
  {
   "cell_type": "markdown",
   "id": "1a05600a-7a38-41b4-9cd0-b4d3f4bb65a2",
   "metadata": {},
   "source": [
    "## 1.1 What can be forecast?"
   ]
  },
  {
   "cell_type": "markdown",
   "id": "89eca3fa-9040-4819-a8da-e813dbb366b7",
   "metadata": {},
   "source": [
    "The predictability of an event or a quantity depends on several factors including:\n",
    "1. how well we understand the factors that contribute to it;\n",
    "1. how much data is available;\n",
    "1. how similar the future is to the past;\n",
    "1. whether the forecasts can affect the thing we are trying to forecast."
   ]
  },
  {
   "cell_type": "markdown",
   "id": "6e7e4813-5a36-4430-ba8f-b513bde06218",
   "metadata": {},
   "source": [
    "Forecasters need to be aware of their own limitations, and not claim more than is possible.\n",
    "\n",
    "Often in forecasting, a key step is knowing when something can be forecast accurately, and when forecasts will be no better than tossing a coin.  \n",
    "\n",
    "Good forecasts capture the genuine patterns and relationships which exist in the historical data, but do not replicate past events that will not occur again. "
   ]
  },
  {
   "cell_type": "markdown",
   "id": "e728f117-fe74-47ff-9bda-bd5361cb306d",
   "metadata": {},
   "source": [
    "Many people wrongly assume that forecasts are not possible in a changing environment. Every environment is changing, and a good forecasting model captures the way in which things are changing. Forecasts rarely assume that the environment is unchanging. What is normally assumed is that **the way in which the environment is changing** will continue into the future."
   ]
  },
  {
   "cell_type": "markdown",
   "id": "b4aeea48-bb09-4b99-845e-a7d409cf37bd",
   "metadata": {},
   "source": [
    "## 1.2 Forecasting, goals and planning"
   ]
  },
  {
   "cell_type": "markdown",
   "id": "6c86fab5-2aa7-48f0-aadb-d9caef39689e",
   "metadata": {},
   "source": [
    "- **Forecasting**\n",
    "    - is about predicting the future as accurately as possible, given all of the information available, including historical data and knwledge of any future events that might impact the forecasts.\n",
    " \n",
    "- **Goals**\n",
    "    - are what you would like to have happen. Goals should be linked to forecasts and plans, but this does not always occur. Too often, goals are set without any plan for how to achieve them, and no forecasts for whether they are realistic.\n",
    " \n",
    "- **Planning**\n",
    "    - is a response to forecasts and goals. Planning involves determining the appropriate actions that are required to make your forecasts match your goals."
   ]
  },
  {
   "cell_type": "markdown",
   "id": "849aef76-c1f3-4f17-9210-ec0c54344c22",
   "metadata": {},
   "source": [
    "## 1.3 Determining what to forecast"
   ]
  },
  {
   "cell_type": "markdown",
   "id": "28deb579-c922-42b7-96c9-c97e9806db51",
   "metadata": {},
   "source": [
    "In the early stages of a forecasting project, decisions need to be made about what should be forecast.\n",
    "\n",
    "It is also necessary to consider the forecasting horizon.\n",
    "\n",
    "How frequently are forecasts required? Forecasts that need to be produced frequently are better done using an automated system than with methods that require careful manual work.\n",
    "\n",
    "A large part of a forecaster’s time can be spent in locating and collating the available data prior to developing suitable forecasting methods."
   ]
  },
  {
   "cell_type": "markdown",
   "id": "8311943d-892e-4fb2-a32d-8f9f4d9a3565",
   "metadata": {},
   "source": [
    "## 1.4 Forecasting data and methods"
   ]
  },
  {
   "cell_type": "markdown",
   "id": "4bbf3ef1-ef7d-4602-99c3-e6f694d16b14",
   "metadata": {},
   "source": [
    "If there are no data available, or if the data available are not relevant to the forecasts, then **qualitative forecasting** methods must be used. These methods are not purely guesswork—there are well-developed structured approaches to obtaining good forecasts without using historical data.\n",
    "\n",
    "**Quantitative forecasting** can be applied when two conditions are satisfied:\n",
    "1. numerical information about the past is available;\n",
    "2. it is reasonable to assume that some aspects of the past patterns will continue into the future.\n",
    "\n",
    "Most quantitative prediction problems use either time series data (collected at regular intervals over time) or cross-sectional data (collected at a single point in time). "
   ]
  },
  {
   "cell_type": "markdown",
   "id": "088d36b1-7fa1-4007-9ea0-efb3823be566",
   "metadata": {},
   "source": [
    "Anything that is observed sequentially over time is a time series. \n",
    "\n",
    "When forecasting time series data, the aim is to estimate how the sequence of observations will continue into the future. "
   ]
  },
  {
   "attachments": {},
   "cell_type": "markdown",
   "id": "dc6fdd30-9adc-4970-9871-57b628c89ed2",
   "metadata": {},
   "source": [
    "![](https://otexts.com/fpp3/fpp_files/figure-html/beer-1.png)\n",
    "> Figure 1.1: Australian quarterly beer production: 2000Q1–2010Q2, with two years of forecasts."
   ]
  },
  {
   "cell_type": "markdown",
   "id": "f4976b58-19eb-41a0-a34e-2d8744e9fe56",
   "metadata": {},
   "source": [
    "- The blue lines show forecasts for the next two years.\n",
    "- The dark shaded region shows 80% prediction intervals. That is, each future value is expected to lie in the dark shaded region with a probability of 80%.\n",
    "- The light shaded region shows 95% prediction intervals.\n",
    "\n",
    "These prediction intervals are a useful way of displaying the uncertainty in forecasts. In this case the forecasts are expected to be accurate, and hence the prediction intervals are quite narrow."
   ]
  },
  {
   "cell_type": "markdown",
   "id": "e984003f-e42d-4437-bd62-36b20be9235a",
   "metadata": {},
   "source": [
    "The simplest time series forecasting methods use only information on the variable to be forecast, and make no attempt to discover the factors that affect its behaviour. Therefore they will extrapolate trend and seasonal patterns, but they ignore all other information."
   ]
  },
  {
   "cell_type": "markdown",
   "id": "739c8fcf-ad57-4aea-9cd8-e35e3e3f5247",
   "metadata": {},
   "source": [
    "### Predictor variables and time series forecasting"
   ]
  },
  {
   "cell_type": "markdown",
   "id": "47d10992-5675-458c-828c-942b2b2787da",
   "metadata": {},
   "source": [
    "Predictor variables are often useful in time series forecasting."
   ]
  },
  {
   "cell_type": "markdown",
   "id": "a14b9d65-af5d-4987-9a37-4182958f1787",
   "metadata": {},
   "source": [
    "For example, suppose we wish to forecast the hourly electricity demand (ED) of a hot region during the summer period. \n",
    "\n",
    "**Model 1**\n",
    "\n",
    "A model with predictor variables might be of the form\n",
    "$$\n",
    "\\text{ED} = f(\\text{current temperature}, \\text{strength of economy}, \\text{population}, \\text{time of day}, \\text{day of week}, \\text{error})\n",
    "$$\n",
    "The relationship is not exact — there will always be changes in electricity demand that cannot be accounted for by the predictor variables. The “error” term on the right allows for random variation and the effects of relevant variables that are not included in the model.\n",
    "\n",
    "We call this an **explanatory model** because it helps explain what causes the variation in electricity demand.\n",
    "\n",
    "---\n",
    "\n",
    "**Model 2**\n",
    "\n",
    "Because the electricity demand data form a time series, we could also use a **time series model** for forecasting. In this case, a suitable time series forecasting equation is of the form\n",
    "$$\n",
    "\\text{ED}_{t+1} = f(\\text{ED}_{t}, \\text{ED}_{t-1}, \\text{ED}_{t-2}, \\text{ED}_{t-3}, ..., \\text{error})\n",
    "$$\n",
    "\n",
    "where $t$ is the present hour, $t+1$ is the next hour, $t-1$ is the previous hour, $t-2$ is two hours ago, and so on. Here, prediction of the future is based on past values of a variable, but not on external variables that may affect the system. Again, the “error” term on the right allows for random variation and the effects of relevant variables that are not included in the model.\n",
    "\n",
    "---\n",
    "\n",
    "**Model 3**\n",
    "\n",
    "There is also a third type of model which combines the features of the above two models. For example, it might be given by\n",
    "\n",
    "$$\n",
    "\\text{ED}_{t+1} = f(\\text{ED}_{t}, \\text{current temperature}, \\text{time of day}, \\text{day of week}, \\text{error})\n",
    "$$\n",
    "\n",
    "These types of **mixed models** have been given various names in different disciplines. They are known as dynamic regression models, panel data models, longitudinal models, transfer function models, and linear system models (assuming that $f$ is linear)."
   ]
  },
  {
   "cell_type": "markdown",
   "id": "8746774d-f95b-4a20-8072-4ef01867f7da",
   "metadata": {},
   "source": [
    "An explanatory model is useful because it incorporates information about other variables, rather than only historical values of the variable to be forecast. However, there are several reasons a forecaster might select a time series model rather than an explanatory or mixed model.\n",
    "\n",
    "-  First, the system may not be understood, and even if it was understood it may be extremely difficult to measure the relationships that are assumed to govern its behaviour.\n",
    "- Second, it is necessary to know or forecast the future values of the various predictors in order to be able to forecast the variable of interest, and this may be too difficult.\n",
    "- Third, the main concern may be only to predict what will happen, not to know why it happens.\n",
    "- Finally, the time series model may give more accurate forecasts than an explanatory or mixed model."
   ]
  },
  {
   "cell_type": "markdown",
   "id": "e7c233eb-658f-45fa-aaa7-d179e90ff50f",
   "metadata": {},
   "source": [
    "## 1.6 The basic steps in a forecasting task"
   ]
  },
  {
   "cell_type": "markdown",
   "id": "e8a2d67b-e63b-485b-90f0-0b8431259686",
   "metadata": {},
   "source": [
    "- Step 1: Problem definition.\n",
    "- Step 2: Gathering information.\n",
    "- Step 3: Preliminary (exploratory) analysis.\n",
    "- Step 4: Choosing and fitting models.\n",
    "- Step 5: Using and evaluating a forecasting model."
   ]
  },
  {
   "cell_type": "markdown",
   "id": "f37b67f7-8de9-4f17-845c-4e9a7ab76a85",
   "metadata": {},
   "source": [
    "## 1.7 The statistical forecasting perspective"
   ]
  },
  {
   "cell_type": "markdown",
   "id": "4ddefc1c-2d75-4ee2-9b25-be71da58c003",
   "metadata": {},
   "source": [
    "The thing we are trying to forecast is unknown (or we would not be forecasting it), and so we can think of it as a **random variable**. \n",
    "\n",
    "In most forecasting situations, the variation associated with the thing we are forecasting will shrink as the event approaches. In other words, the further ahead we forecast, the more uncertain we are."
   ]
  },
  {
   "cell_type": "markdown",
   "id": "f30b4bf6-d077-40fa-8729-fb86005028f8",
   "metadata": {},
   "source": [
    "![](https://otexts.com/fpp3/fpp_files/figure-html/austa1-1.png)\n",
    "> Figure 1.2: Total international visitors to Australia (1980-2015) along with ten possible futures."
   ]
  },
  {
   "cell_type": "markdown",
   "id": "6079b34b-f4f8-42b2-aa6f-8205d070993d",
   "metadata": {},
   "source": [
    "When we obtain a forecast, we are estimating the middle of the range of possible values the random variable could take. Often, a forecast is accompanied by a **prediction interval** giving a range of values the random variable could take with relatively high probability. For example, a 95% prediction interval contains a range of values which should include the actual future value with probability 95%.\n",
    "\n",
    "Rather than plotting individual possible futures as shown in Figure 1.2, we usually show these prediction intervals instead. Figure 1.3 shows 80% and 95% intervals for the future Australian international visitors. The blue line is the average of the possible future values, which we call the **point forecasts**."
   ]
  },
  {
   "cell_type": "markdown",
   "id": "35e986a5-aefe-4494-8c46-f291f5fa7f7a",
   "metadata": {},
   "source": [
    "![](https://otexts.com/fpp3/fpp_files/figure-html/austa2-1.png)\n",
    "> Figure 1.3: Total international visitors to Australia (1980–2015) along with 10-year forecasts and 80% and 95% prediction intervals."
   ]
  },
  {
   "cell_type": "markdown",
   "id": "49f331c7-e446-4b3f-8705-81189bb68dd3",
   "metadata": {},
   "source": [
    "- $y_t$: the observation at time $t$\n",
    "\n",
    "We want to forecast $y_t$ given all the information we have observed $\\mathcal{I}$.\n",
    "\n",
    "$y_t | \\mathcal{I}$: the random variable $y_t$ given what we know in $\\mathcal{I}$\n",
    "\n",
    "The set of values that this random variable could take, along with their relative probabilities, is known as the \"probability distribution\" of $y_t | \\mathcal{I}$. In forecasting, we call this the **forecast distribution**.\n",
    "\n",
    "When we talk about the \"forecast\", we usually mean the average value of the forecast distribution, and we put a \"hat\" over $y$ to show this.\n",
    "\n",
    "We write the forecast of $y_t$ as $\\hat{y}_t$ meaning the average of the possible values that $y_t$ could take given everything we know.\n",
    "\n",
    "- $\\hat{y}_{t|t-1}$: forecast of $y_t$ taking account of all previous observations $(y_1, ..., y_{t-1})$\n",
    "- $\\hat{y}_{T+h|T}$: forecast of $y_{T+h}$ taking account of $y_1, ..., y_T$ (i.e., an $h$-step forecast taking account of all observations up to time $T$)."
   ]
  },
  {
   "cell_type": "code",
   "execution_count": null,
   "id": "78fda965-ed72-4659-a383-b18f3ff5418e",
   "metadata": {},
   "outputs": [],
   "source": []
  }
 ],
 "metadata": {
  "kernelspec": {
   "display_name": "ir",
   "language": "R",
   "name": "ir"
  }
 },
 "nbformat": 4,
 "nbformat_minor": 5
}

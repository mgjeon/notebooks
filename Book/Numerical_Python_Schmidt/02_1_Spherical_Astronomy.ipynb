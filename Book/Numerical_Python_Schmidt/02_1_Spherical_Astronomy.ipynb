{
 "cells": [
  {
   "cell_type": "markdown",
   "metadata": {},
   "source": [
    "## Declination of the Sun"
   ]
  },
  {
   "cell_type": "markdown",
   "metadata": {},
   "source": [
    "- obliquity of the ecliptic\n",
    "$$\n",
    "\\epsilon_0 = 23.44 ^\\circ\n",
    "$$\n",
    "\n",
    "- annual variation of the declination of the Sun\n",
    "$$\n",
    "\\delta_{\\odot} = -\\arcsin \\left[ \\sin \\epsilon_0 \\cos \\left( \\frac{360 ^\\circ}{365.24}(N + 10) \\right) \\right]\n",
    "$$\n",
    "\n",
    "- difference in days starting from 1st January $(0 \\le N \\le 364)$"
   ]
  },
  {
   "cell_type": "code",
   "execution_count": 1,
   "metadata": {},
   "outputs": [
    {
     "name": "stdout",
     "output_type": "stream",
     "text": [
      "declination = 23.43 deg\n"
     ]
    }
   ],
   "source": [
    "import math\n",
    "\n",
    "N = 171  # day of 1st solstice\n",
    "omega = 2 * math.pi / 365.24  # angular velocity in rad/day\n",
    "ecl = math.radians(23.44)  # obliquity of the ecliptic\n",
    "\n",
    "# approximate expression for declination of the Sun\n",
    "delta = -math.asin(math.sin(ecl)*math.cos(omega*(N+10)))\n",
    "print(\"declination = {:.2f} deg\".format(math.degrees(delta)))"
   ]
  },
  {
   "cell_type": "code",
   "execution_count": 2,
   "metadata": {},
   "outputs": [],
   "source": [
    "import numpy as np\n",
    "\n",
    "# equinoxes and solstices in 2020\n",
    "N = np.array([79, 171, 265, 355])"
   ]
  },
  {
   "cell_type": "code",
   "execution_count": 3,
   "metadata": {},
   "outputs": [
    {
     "name": "stdout",
     "output_type": "stream",
     "text": [
      "[ 79 171 265 355]\n",
      "4\n",
      "int64\n"
     ]
    }
   ],
   "source": [
    "print(N)\n",
    "print(N.size)\n",
    "print(N.dtype)"
   ]
  },
  {
   "cell_type": "code",
   "execution_count": 4,
   "metadata": {},
   "outputs": [
    {
     "name": "stdout",
     "output_type": "stream",
     "text": [
      "171\n",
      "171\n"
     ]
    }
   ],
   "source": [
    "print(N[1])\n",
    "print(N[-3])"
   ]
  },
  {
   "cell_type": "code",
   "execution_count": 5,
   "metadata": {},
   "outputs": [
    {
     "name": "stdout",
     "output_type": "stream",
     "text": [
      "[ -0.9055077   23.43035419  -0.41950731 -23.43978827]\n"
     ]
    }
   ],
   "source": [
    "delta = -np.arcsin(math.sin(ecl)*np.cos(omega*(N+10)))\n",
    "print(np.degrees(delta))"
   ]
  },
  {
   "cell_type": "code",
   "execution_count": 6,
   "metadata": {},
   "outputs": [
    {
     "name": "stdout",
     "output_type": "stream",
     "text": [
      "[ 89 181 275 365]\n",
      "int64\n",
      "[1.53105764 3.11372396 4.73079608 6.27905661]\n",
      "float64\n",
      "[ 0.01580343 -0.39763404  0.00732172  0.39778512]\n",
      "float64\n",
      "[ -0.9055077   23.43035419  -0.41950731 -23.43978827]\n"
     ]
    }
   ],
   "source": [
    "tmp = N+10\n",
    "print(tmp)\n",
    "print(tmp.dtype)\n",
    "\n",
    "tmp = omega*tmp\n",
    "print(tmp)\n",
    "print(tmp.dtype)\n",
    "\n",
    "tmp = math.sin(ecl)*np.cos(tmp)\n",
    "print(tmp)\n",
    "print(tmp.dtype)\n",
    "\n",
    "delta = -np.arcsin(tmp)\n",
    "print(np.degrees(delta))"
   ]
  },
  {
   "cell_type": "code",
   "execution_count": 7,
   "metadata": {},
   "outputs": [
    {
     "name": "stdout",
     "output_type": "stream",
     "text": [
      "declination = 23.43 deg\n"
     ]
    }
   ],
   "source": [
    "print(\"declination = {:.2f} deg\".\n",
    "      format(math.degrees(delta[1])))"
   ]
  },
  {
   "cell_type": "code",
   "execution_count": 8,
   "metadata": {},
   "outputs": [
    {
     "name": "stdout",
     "output_type": "stream",
     "text": [
      "declination =  -0.91 deg\n",
      "declination =  23.43 deg\n",
      "declination =  -0.42 deg\n",
      "declination = -23.44 deg\n"
     ]
    }
   ],
   "source": [
    "for val in delta: \n",
    "    print(\"declination = {:6.2f} deg\".\n",
    "          format(math.degrees(val)))"
   ]
  },
  {
   "cell_type": "code",
   "execution_count": 9,
   "metadata": {},
   "outputs": [
    {
     "name": "stdout",
     "output_type": "stream",
     "text": [
      "i day delta [deg]\n",
      "0  79    -0.91\n",
      "1 171    23.43\n",
      "2 265    -0.42\n",
      "3 355   -23.44\n"
     ]
    }
   ],
   "source": [
    "print(\"i day delta [deg]\")\n",
    "for i, val in enumerate(delta):\n",
    "    print(\"{1:d} {2:3d} {0:8.2f}\".\\\n",
    "          format(math.degrees(val), i, N[i]))"
   ]
  },
  {
   "cell_type": "code",
   "execution_count": 10,
   "metadata": {},
   "outputs": [
    {
     "name": "stdout",
     "output_type": "stream",
     "text": [
      "day delta [deg]\n",
      " 79    -0.91\n",
      "171    23.43\n",
      "265    -0.42\n",
      "355   -23.44\n"
     ]
    }
   ],
   "source": [
    "print(\"day delta [deg]\")\n",
    "for row in zip(N, delta):\n",
    "    print(\"{0:3d} {1:8.2f}\".\n",
    "          format(row[0], math.degrees(row[1])))"
   ]
  },
  {
   "cell_type": "markdown",
   "metadata": {},
   "source": [
    "## Diurnal Arc"
   ]
  },
  {
   "cell_type": "markdown",
   "metadata": {},
   "source": [
    "- hour angle corresponding to the setting time\n",
    "\n",
    "$$\n",
    "\\cos h_{\\text{set}} = - \\tan \\delta \\tan \\phi\n",
    "$$\n",
    "\n",
    "where:\n",
    "- $\\delta$: declination of the object\n",
    "- $\\phi$: latitude of the observer's position on Earth\n",
    "\n",
    "$T = 2 h_\\text{set}$: length of the diurnal arc"
   ]
  },
  {
   "cell_type": "code",
   "execution_count": 11,
   "metadata": {},
   "outputs": [
    {
     "name": "stdout",
     "output_type": "stream",
     "text": [
      "<SkyCoord (ICRS): (ra, dec) in deg\n",
      "    (88.79293899, 7.40706399)>\n"
     ]
    }
   ],
   "source": [
    "from astropy.coordinates import SkyCoord, EarthLocation\n",
    "\n",
    "betelgeuse = SkyCoord.from_name('Betelgeuse')\n",
    "print(betelgeuse)"
   ]
  },
  {
   "cell_type": "code",
   "execution_count": 12,
   "metadata": {},
   "outputs": [
    {
     "name": "stdout",
     "output_type": "stream",
     "text": [
      "7d24m25.430382s\n"
     ]
    }
   ],
   "source": [
    "delta = betelgeuse.dec\n",
    "print(delta)"
   ]
  },
  {
   "cell_type": "code",
   "execution_count": 13,
   "metadata": {},
   "outputs": [],
   "source": [
    "import astropy.units as u\n",
    "\n",
    "obs = EarthLocation(lat=53*u.deg+28*u.arcmin+49*u.arcsec,\n",
    "                    lon=10*u.deg+14*u.arcmin+23*u.arcsec)\n",
    "\n",
    "phi = obs.lat"
   ]
  },
  {
   "cell_type": "code",
   "execution_count": 14,
   "metadata": {},
   "outputs": [],
   "source": [
    "import math\n",
    "\n",
    "h = math.acos(-math.tan(delta.radian) * math.tan(phi.radian))"
   ]
  },
  {
   "cell_type": "code",
   "execution_count": 15,
   "metadata": {},
   "outputs": [
    {
     "name": "stdout",
     "output_type": "stream",
     "text": [
      "T = 13.31 h\n"
     ]
    }
   ],
   "source": [
    "T = (math.degrees(2*h)/360)*u.sday\n",
    "print(\"T = {:.2f}\".format(T.to(u.h)))"
   ]
  },
  {
   "cell_type": "code",
   "execution_count": 16,
   "metadata": {},
   "outputs": [],
   "source": [
    "import numpy as np\n",
    "\n",
    "N = np.arange(365)\n",
    "omega = 2*math.pi/365.24\n",
    "ecl = math.radians(23.44)\n",
    "\n",
    "delta = -np.arcsin(math.sin(ecl) * np.cos(omega*(N+10)))"
   ]
  },
  {
   "cell_type": "markdown",
   "metadata": {},
   "source": [
    "`u.sday.to(u.h)`:  length of a sideral day in solar hours"
   ]
  },
  {
   "cell_type": "code",
   "execution_count": 17,
   "metadata": {},
   "outputs": [],
   "source": [
    "h = np.arccos(-np.tan(delta) * math.tan(phi.radian))\n",
    "T = (np.degrees(2*h)/360) * u.sday.to(u.h)"
   ]
  },
  {
   "cell_type": "code",
   "execution_count": 18,
   "metadata": {},
   "outputs": [
    {
     "data": {
      "image/png": "[encoded data removed]",
      "text/plain": [
       "<Figure size 640x480 with 1 Axes>"
      ]
     },
     "metadata": {},
     "output_type": "display_data"
    }
   ],
   "source": [
    "import matplotlib.pyplot as plt\n",
    "\n",
    "plt.plot(N, T)\n",
    "plt.xlabel(\"Day\")\n",
    "plt.ylabel(\"Day length [hr]\")\n",
    "plt.savefig(\"day_length.pdf\")"
   ]
  },
  {
   "cell_type": "code",
   "execution_count": 19,
   "metadata": {},
   "outputs": [
    {
     "name": "stdout",
     "output_type": "stream",
     "text": [
      "Minimum day length =  7.20 h\n",
      "Maximum day length = 16.73 h\n"
     ]
    }
   ],
   "source": [
    "print(\"Minimum day length = {:5.2f} h\".format(T.min()))\n",
    "print(\"Maximum day length = {:5.2f} h\".format(T.max()))"
   ]
  },
  {
   "cell_type": "markdown",
   "metadata": {},
   "source": [
    "Beyond the polar circles $(\\phi=\\pm 66^\\circ 33^\\prime)$, the day length varies between 0 and 24 h."
   ]
  },
  {
   "cell_type": "code",
   "execution_count": 20,
   "metadata": {},
   "outputs": [
    {
     "name": "stderr",
     "output_type": "stream",
     "text": [
      "/var/folders/d4/xhfvv5n927b6pg81whlh7qxr0000gn/T/ipykernel_14794/1939755857.py:3: RuntimeWarning: invalid value encountered in arccos\n",
      "  h = np.arccos(-np.tan(delta)*math.tan(phi))\n"
     ]
    }
   ],
   "source": [
    "phi = math.radians(78+13/60)\n",
    "\n",
    "h = np.arccos(-np.tan(delta)*math.tan(phi))\n",
    "T = (np.degrees(2*h)/360) * u.sday.to(u.h)"
   ]
  },
  {
   "cell_type": "code",
   "execution_count": 21,
   "metadata": {},
   "outputs": [
    {
     "data": {
      "text/plain": [
       "array([       nan, 2.22359552,        nan,        nan])"
      ]
     },
     "execution_count": 21,
     "metadata": {},
     "output_type": "execute_result"
    }
   ],
   "source": [
    "h[::100]"
   ]
  },
  {
   "cell_type": "markdown",
   "metadata": {},
   "source": [
    "- polar night or polar day during which the Sun never rises or sets"
   ]
  },
  {
   "cell_type": "code",
   "execution_count": 22,
   "metadata": {},
   "outputs": [],
   "source": [
    "tmp = np.clip(-np.tan(delta)*math.tan(phi), -1.0, 1.0)\n",
    "h = np.arccos(tmp)\n",
    "T = (np.degrees(2*h)/360) * u.sday.to(u.h)"
   ]
  },
  {
   "cell_type": "code",
   "execution_count": 23,
   "metadata": {},
   "outputs": [
    {
     "data": {
      "text/plain": [
       "array([0.        , 2.22359552, 3.14159265, 0.        ])"
      ]
     },
     "execution_count": 23,
     "metadata": {},
     "output_type": "execute_result"
    }
   ],
   "source": [
    "h[::100]"
   ]
  },
  {
   "cell_type": "code",
   "execution_count": 24,
   "metadata": {},
   "outputs": [
    {
     "data": {
      "image/png": "[encoded data removed]",
      "text/plain": [
       "<Figure size 640x480 with 1 Axes>"
      ]
     },
     "metadata": {},
     "output_type": "display_data"
    }
   ],
   "source": [
    "plt.plot(N, T);"
   ]
  },
  {
   "cell_type": "code",
   "execution_count": 25,
   "metadata": {},
   "outputs": [],
   "source": [
    "phi = {\n",
    "    'Hamburg'      : obs.lat.radian,\n",
    "    'Longyearbyen' : math.radians(78 + 13/60),\n",
    "}"
   ]
  },
  {
   "cell_type": "code",
   "execution_count": 26,
   "metadata": {},
   "outputs": [
    {
     "name": "stdout",
     "output_type": "stream",
     "text": [
      "0.9334069321033784\n"
     ]
    }
   ],
   "source": [
    "print(phi['Hamburg'])"
   ]
  },
  {
   "cell_type": "code",
   "execution_count": 27,
   "metadata": {},
   "outputs": [],
   "source": [
    "phi['New York'] = math.radians(40 + 43/60)\n",
    "phi['Bangkok'] = math.radians(13 + 45/60)"
   ]
  },
  {
   "cell_type": "code",
   "execution_count": 28,
   "metadata": {},
   "outputs": [
    {
     "data": {
      "text/plain": [
       "4"
      ]
     },
     "execution_count": 28,
     "metadata": {},
     "output_type": "execute_result"
    }
   ],
   "source": [
    "len(phi)"
   ]
  },
  {
   "cell_type": "code",
   "execution_count": 29,
   "metadata": {},
   "outputs": [
    {
     "name": "stdout",
     "output_type": "stream",
     "text": [
      "Hamburg: 53.48 deg\n",
      "Longyearbyen: 78.22 deg\n",
      "New York: 40.72 deg\n",
      "Bangkok: 13.75 deg\n"
     ]
    },
    {
     "data": {
      "image/png": "[encoded data removed]",
      "text/plain": [
       "<Figure size 640x480 with 1 Axes>"
      ]
     },
     "metadata": {},
     "output_type": "display_data"
    }
   ],
   "source": [
    "for key in phi:\n",
    "    print(key + \": {:.2f} deg\".format(math.degrees(phi[key])))\n",
    "\n",
    "    h = np.arccos(np.clip(-np.tan(delta)*math.tan(phi[key]),\n",
    "                          -1.0, 1.0))\n",
    "    T = (np.degrees(2*h)/360) * u.sday.to(u.h)\n",
    "\n",
    "    plt.plot(N, T, label=key)\n",
    "\n",
    "plt.xlabel(\"Day\")\n",
    "plt.xlim(0, 364)\n",
    "plt.ylabel(\"Day length [hr]\")\n",
    "plt.ylim(0, 24)\n",
    "plt.legend(loc='upper right')\n",
    "plt.savefig(\"daylength.pdf\")"
   ]
  },
  {
   "cell_type": "markdown",
   "metadata": {},
   "source": [
    "## Observation of Celestial Objects"
   ]
  },
  {
   "cell_type": "code",
   "execution_count": 30,
   "metadata": {},
   "outputs": [],
   "source": [
    "import astropy.units as u\n",
    "from astropy.coordinates import \\\n",
    "    SkyCoord, EarthLocation, AltAz, get_sun\n",
    "\n",
    "obs = EarthLocation(lat=53*u.deg+28*u.arcmin+49*u.arcsec,\n",
    "                    lon=10*u.deg+14*u.arcmin+23*u.arcsec)\n",
    "\n",
    "phi = obs.lat"
   ]
  },
  {
   "cell_type": "code",
   "execution_count": 34,
   "metadata": {},
   "outputs": [
    {
     "data": {
      "text/plain": [
       "<Time object: scale='utc' format='iso' value=2020-07-31 10:00:00.000>"
      ]
     },
     "execution_count": 34,
     "metadata": {},
     "output_type": "execute_result"
    }
   ],
   "source": [
    "from astropy.time import Time\n",
    "\n",
    "utc_shift = 2*u.hour  # CEST time zone (+2h)\n",
    "\n",
    "noon_cest = Time(\"2020-07-31 12:00:00\") - utc_shift\n",
    "noon_cest  # UTC time corresponding to 12am CEST."
   ]
  },
  {
   "cell_type": "code",
   "execution_count": 37,
   "metadata": {},
   "outputs": [],
   "source": [
    "import numpy as np\n",
    "\n",
    "# time array covering next 24 hours in steps of 5 min\n",
    "elapsed = np.arange(0, 24*60, 5) * u.min\n",
    "time = noon_cest + elapsed\n",
    "\n",
    "# sequence of horizontal frames\n",
    "frame_local_24h = AltAz(obstime=time, location=obs)"
   ]
  },
  {
   "cell_type": "code",
   "execution_count": 41,
   "metadata": {},
   "outputs": [
    {
     "data": {
      "text/plain": [
       "numpy.ndarray"
      ]
     },
     "execution_count": 41,
     "metadata": {},
     "output_type": "execute_result"
    }
   ],
   "source": [
    "type(np.arange(0, 24*60, 5))"
   ]
  },
  {
   "cell_type": "code",
   "execution_count": 42,
   "metadata": {},
   "outputs": [
    {
     "data": {
      "text/plain": [
       "astropy.units.quantity.Quantity"
      ]
     },
     "execution_count": 42,
     "metadata": {},
     "output_type": "execute_result"
    }
   ],
   "source": [
    "type(elapsed)"
   ]
  },
  {
   "cell_type": "code",
   "execution_count": 43,
   "metadata": {},
   "outputs": [
    {
     "data": {
      "text/latex": [
       "$[0,~5,~10,~\\dots,~1425,~1430,~1435] \\; \\mathrm{min}$"
      ],
      "text/plain": [
       "<Quantity [   0.,    5.,   10.,   15.,   20.,   25.,   30.,   35.,   40.,\n",
       "             45.,   50.,   55.,   60.,   65.,   70.,   75.,   80.,   85.,\n",
       "             90.,   95.,  100.,  105.,  110.,  115.,  120.,  125.,  130.,\n",
       "            135.,  140.,  145.,  150.,  155.,  160.,  165.,  170.,  175.,\n",
       "            180.,  185.,  190.,  195.,  200.,  205.,  210.,  215.,  220.,\n",
       "            225.,  230.,  235.,  240.,  245.,  250.,  255.,  260.,  265.,\n",
       "            270.,  275.,  280.,  285.,  290.,  295.,  300.,  305.,  310.,\n",
       "            315.,  320.,  325.,  330.,  335.,  340.,  345.,  350.,  355.,\n",
       "            360.,  365.,  370.,  375.,  380.,  385.,  390.,  395.,  400.,\n",
       "            405.,  410.,  415.,  420.,  425.,  430.,  435.,  440.,  445.,\n",
       "            450.,  455.,  460.,  465.,  470.,  475.,  480.,  485.,  490.,\n",
       "            495.,  500.,  505.,  510.,  515.,  520.,  525.,  530.,  535.,\n",
       "            540.,  545.,  550.,  555.,  560.,  565.,  570.,  575.,  580.,\n",
       "            585.,  590.,  595.,  600.,  605.,  610.,  615.,  620.,  625.,\n",
       "            630.,  635.,  640.,  645.,  650.,  655.,  660.,  665.,  670.,\n",
       "            675.,  680.,  685.,  690.,  695.,  700.,  705.,  710.,  715.,\n",
       "            720.,  725.,  730.,  735.,  740.,  745.,  750.,  755.,  760.,\n",
       "            765.,  770.,  775.,  780.,  785.,  790.,  795.,  800.,  805.,\n",
       "            810.,  815.,  820.,  825.,  830.,  835.,  840.,  845.,  850.,\n",
       "            855.,  860.,  865.,  870.,  875.,  880.,  885.,  890.,  895.,\n",
       "            900.,  905.,  910.,  915.,  920.,  925.,  930.,  935.,  940.,\n",
       "            945.,  950.,  955.,  960.,  965.,  970.,  975.,  980.,  985.,\n",
       "            990.,  995., 1000., 1005., 1010., 1015., 1020., 1025., 1030.,\n",
       "           1035., 1040., 1045., 1050., 1055., 1060., 1065., 1070., 1075.,\n",
       "           1080., 1085., 1090., 1095., 1100., 1105., 1110., 1115., 1120.,\n",
       "           1125., 1130., 1135., 1140., 1145., 1150., 1155., 1160., 1165.,\n",
       "           1170., 1175., 1180., 1185., 1190., 1195., 1200., 1205., 1210.,\n",
       "           1215., 1220., 1225., 1230., 1235., 1240., 1245., 1250., 1255.,\n",
       "           1260., 1265., 1270., 1275., 1280., 1285., 1290., 1295., 1300.,\n",
       "           1305., 1310., 1315., 1320., 1325., 1330., 1335., 1340., 1345.,\n",
       "           1350., 1355., 1360., 1365., 1370., 1375., 1380., 1385., 1390.,\n",
       "           1395., 1400., 1405., 1410., 1415., 1420., 1425., 1430., 1435.] min>"
      ]
     },
     "execution_count": 43,
     "metadata": {},
     "output_type": "execute_result"
    }
   ],
   "source": [
    "elapsed"
   ]
  },
  {
   "cell_type": "code",
   "execution_count": 40,
   "metadata": {},
   "outputs": [
    {
     "data": {
      "text/plain": [
       "True"
      ]
     },
     "execution_count": 40,
     "metadata": {},
     "output_type": "execute_result"
    }
   ],
   "source": [
    "isinstance(elapsed, u.quantity.Quantity)"
   ]
  },
  {
   "cell_type": "code",
   "execution_count": 39,
   "metadata": {},
   "outputs": [
    {
     "data": {
      "text/plain": [
       "True"
      ]
     },
     "execution_count": 39,
     "metadata": {},
     "output_type": "execute_result"
    }
   ],
   "source": [
    "isinstance(elapsed, np.ndarray)"
   ]
  },
  {
   "cell_type": "code",
   "execution_count": 45,
   "metadata": {},
   "outputs": [
    {
     "data": {
      "text/plain": [
       "False"
      ]
     },
     "execution_count": 45,
     "metadata": {},
     "output_type": "execute_result"
    }
   ],
   "source": [
    "isinstance(time, np.ndarray)"
   ]
  },
  {
   "cell_type": "code",
   "execution_count": 46,
   "metadata": {},
   "outputs": [
    {
     "data": {
      "text/plain": [
       "astropy.time.core.Time"
      ]
     },
     "execution_count": 46,
     "metadata": {},
     "output_type": "execute_result"
    }
   ],
   "source": [
    "type(time)"
   ]
  },
  {
   "cell_type": "code",
   "execution_count": 48,
   "metadata": {},
   "outputs": [],
   "source": [
    "# star we want to observe\n",
    "betelgeuse = SkyCoord.from_name('Betelgeuse')\n",
    "\n",
    "betelgeuse_local = betelgeuse.transform_to(frame_local_24h)"
   ]
  },
  {
   "cell_type": "code",
   "execution_count": 51,
   "metadata": {},
   "outputs": [],
   "source": [
    "# time-dependent coordinates of the Sun in equatorial system\n",
    "sun = get_sun(time)\n",
    "\n",
    "sun_local = sun.transform_to(frame_local_24h)"
   ]
  },
  {
   "cell_type": "code",
   "execution_count": 64,
   "metadata": {},
   "outputs": [
    {
     "data": {
      "image/png": "[encoded data removed]",
      "text/plain": [
       "<Figure size 640x480 with 1 Axes>"
      ]
     },
     "metadata": {},
     "output_type": "display_data"
    }
   ],
   "source": [
    "import matplotlib.pyplot as plt \n",
    "\n",
    "elapsed_night = elapsed[np.where(sun_local.alt < 0)]\n",
    "betelgeuse_night = \\\n",
    "    betelgeuse_local[np.where(sun_local.alt < 0)]\n",
    "\n",
    "plt.plot(elapsed.to(u.h), sun_local.alt,\n",
    "         color='orange', label='Sun')\n",
    "plt.plot(elapsed.to(u.h), betelgeuse_local.alt,\n",
    "         color='red', linestyle=':',\n",
    "         label='Betelgeuse (daylight)')\n",
    "plt.plot(elapsed_night.to(u.h), betelgeuse_night.alt,\n",
    "         color='red', label='Betelgeuse (night)')\n",
    "\n",
    "plt.xlabel('Time from noon [h]')\n",
    "plt.xlim(0, 24)\n",
    "plt.xticks(np.arange(13)*2)\n",
    "plt.ylabel('Altitude [deg]')\n",
    "plt.ylim(0, 60)\n",
    "plt.legend(loc='upper center')\n",
    "plt.savefig(\"Betelgeuse_obs_window.pdf\")"
   ]
  },
  {
   "cell_type": "code",
   "execution_count": null,
   "metadata": {},
   "outputs": [],
   "source": []
  }
 ],
 "metadata": {
  "kernelspec": {
   "display_name": "cal",
   "language": "python",
   "name": "python3"
  },
  "language_info": {
   "codemirror_mode": {
    "name": "ipython",
    "version": 3
   },
   "file_extension": ".py",
   "mimetype": "text/x-python",
   "name": "python",
   "nbconvert_exporter": "python",
   "pygments_lexer": "ipython3",
   "version": "3.11.9"
  }
 },
 "nbformat": 4,
 "nbformat_minor": 2
}

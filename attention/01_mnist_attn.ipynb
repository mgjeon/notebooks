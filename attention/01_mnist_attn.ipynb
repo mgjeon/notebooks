{
 "cells": [
  {
   "cell_type": "markdown",
   "metadata": {},
   "source": [
    "# 어텐션 쉽게 이해하기Attention is easy to understand.\n",
    "\n",
    "- https://metamath1.github.io/2021/05/15/mnistattn.html\n",
    "- https://colab.research.google.com/github/metamath1/ml-simple-works/blob/master/mnistattn/mnist_attn.ipynb"
   ]
  },
  {
   "cell_type": "code",
   "execution_count": null,
   "metadata": {},
   "outputs": [],
   "source": [
    "import numpy as np\n",
    "import pandas as pd\n",
    "import matplotlib.pyplot as plt\n",
    "import albumentations as A\n",
    "\n",
    "import torch\n",
    "import torch.nn as nn\n",
    "from torch.utils.data import Dataset, DataLoader\n",
    "\n",
    "import cv2\n",
    "from tqdm import tqdm"
   ]
  },
  {
   "cell_type": "markdown",
   "metadata": {},
   "source": [
    "## 개요\n",
    "\n",
    "mnist를 MLP를 이용하여 분류할 때 가장 기본적으로 적용하는 방법은 가로 세로 28x28인 이미지를 요소가 784개인 벡터로 펼친 다음 이를 신경망에 입력하여 출력 10개를 뽑아내는 방법입니다. 여기서는 어텐션을 적용하기 위해 mnist 이미지를 작은 패치 16개로 잘라서 각각을 신경망에 입력하도록 하겠습니다.\n",
    "\n",
    "각 패치는 7x7=49(=784/16)개의 픽셀을 가지고 있습니다.\n",
    "\n",
    "이렇게 잘린 작은 이미지 조각 16개를 각각 `Linear()`층에 입력하고 그 결과를 연결시켜 긴 벡터로 만들고 이를 다시 `Linear()`층으로 입력시켜 클래스에 속할 확률 10개를 뽑아내도록 할 것입니다. 아래는 이런 기본적인 MLP 모델의 모식도 입니다. \n",
    "\n",
    "```\n",
    "Patch1--->Linear1(49,16)------┌---┐\n",
    "Patch2--->Linear2(49,16)------| c |\n",
    "Patch3--->Linear3(49,16)------| o |\n",
    "Patch4--->Linear4(49,16)------| n |                   \n",
    "...                     ------| c |-----Linear(16*16,10)----softmax() \n",
    "...                     ------| a |\n",
    "...                     ------| t |\n",
    "Patch16--->Linear16(49,16)----└---┘\n",
    "```\n",
    "\n",
    "mnist 이미지 분류를 위해 보통 사용하는 구조를 쓰지 않고 이렇게 이미지를 패치로 잘라서 입력하는 이유는 분할된 각 패치에 어텐션을 주기 위해서입니다."
   ]
  },
  {
   "cell_type": "markdown",
   "metadata": {},
   "source": [
    "## 이미지 분할\n",
    "\n",
    "행렬을 `패치개수x패치개수`개의 부분 행렬로 만드는 함수를 준비합니다. 이 함수는 코드 주석에 표시된 `stackoverflow`에서 인용한 것이며 미니배치에 대해서 동작하도록 약간 수정하였습니다."
   ]
  },
  {
   "cell_type": "code",
   "execution_count": null,
   "metadata": {},
   "outputs": [],
   "source": [
    "def blockshaped(arr, nrows, ncols):\n",
    "    \"\"\"\n",
    "    arr: (N, H, W)\n",
    "\n",
    "    Return an array of shape (n, h//nrows, w//ncols, nrows, ncols) where\n",
    "    n * h//nrows * w//ncols * nrows * ncols = arr.size\n",
    "\n",
    "    If arr is a 2D array, the returned array should look like n subblocks with\n",
    "    each subblock preserving the \"physical\" layout of arr.\n",
    "    \"\"\"\n",
    "    n, h, w = arr.shape\n",
    "    assert h % nrows == 0, \"{} rows is not evenly divisble by {}\".format(h, nrows)\n",
    "    assert w % ncols == 0, \"{} cols is not evenly divisble by {}\".format(w, ncols)\n",
    "\n",
    "    return ( arr.reshape(n, h//nrows, nrows, -1, ncols).transpose(0, 1, 3, 2, 4)\n",
    "                .reshape(-1, h//nrows, w//ncols, nrows, ncols) )"
   ]
  },
  {
   "cell_type": "markdown",
   "metadata": {},
   "source": [
    "만들어진 함수가 제대로 동작하는지 (28, 28)인 행렬 세개가 있는 (3, 28, 28)인 텐서를 16개 패치로 자르는 테스트를 해보겠습니다. (3, 28, 28)을 (7,7)인 패치로 잘라서 전체 텐서가 (3, 4, 4, 7, 7)로 만들어져야 합니다. 여기서 3은 샘플의 인덱스, (4, 4)는 패치의 인덱스, (7, 7)은 패치 하나에서 픽셀의 인덱스가 됩니다."
   ]
  },
  {
   "cell_type": "code",
   "execution_count": null,
   "metadata": {},
   "outputs": [
    {
     "data": {
      "text/plain": [
       "(3, 4, 4, 7, 7)"
      ]
     },
     "execution_count": null,
     "metadata": {},
     "output_type": "execute_result"
    }
   ],
   "source": [
    "images = np.arange(784*3).reshape(3, 28, 28)\n",
    "images = blockshaped(images, 7, 7)\n",
    "images.shape"
   ]
  },
  {
   "cell_type": "markdown",
   "metadata": {},
   "source": [
    "텐서의 모양은 제대로 출력이 되었습니다. 이제 첫번째 이미지에서 1행에 있는 패치 네개를 출력해서 숫자들이 행별로 연속되는지 확인해보면"
   ]
  },
  {
   "cell_type": "code",
   "execution_count": null,
   "metadata": {},
   "outputs": [
    {
     "data": {
      "text/plain": [
       "(array([[  0,   1,   2,   3,   4,   5,   6],\n",
       "        [ 28,  29,  30,  31,  32,  33,  34],\n",
       "        [ 56,  57,  58,  59,  60,  61,  62],\n",
       "        [ 84,  85,  86,  87,  88,  89,  90],\n",
       "        [112, 113, 114, 115, 116, 117, 118],\n",
       "        [140, 141, 142, 143, 144, 145, 146],\n",
       "        [168, 169, 170, 171, 172, 173, 174]]),\n",
       " array([[  7,   8,   9,  10,  11,  12,  13],\n",
       "        [ 35,  36,  37,  38,  39,  40,  41],\n",
       "        [ 63,  64,  65,  66,  67,  68,  69],\n",
       "        [ 91,  92,  93,  94,  95,  96,  97],\n",
       "        [119, 120, 121, 122, 123, 124, 125],\n",
       "        [147, 148, 149, 150, 151, 152, 153],\n",
       "        [175, 176, 177, 178, 179, 180, 181]]),\n",
       " array([[ 14,  15,  16,  17,  18,  19,  20],\n",
       "        [ 42,  43,  44,  45,  46,  47,  48],\n",
       "        [ 70,  71,  72,  73,  74,  75,  76],\n",
       "        [ 98,  99, 100, 101, 102, 103, 104],\n",
       "        [126, 127, 128, 129, 130, 131, 132],\n",
       "        [154, 155, 156, 157, 158, 159, 160],\n",
       "        [182, 183, 184, 185, 186, 187, 188]]),\n",
       " array([[ 21,  22,  23,  24,  25,  26,  27],\n",
       "        [ 49,  50,  51,  52,  53,  54,  55],\n",
       "        [ 77,  78,  79,  80,  81,  82,  83],\n",
       "        [105, 106, 107, 108, 109, 110, 111],\n",
       "        [133, 134, 135, 136, 137, 138, 139],\n",
       "        [161, 162, 163, 164, 165, 166, 167],\n",
       "        [189, 190, 191, 192, 193, 194, 195]]))"
      ]
     },
     "execution_count": null,
     "metadata": {},
     "output_type": "execute_result"
    }
   ],
   "source": [
    "images[0,0,0], images[0,0,1], images[0,0,2], images[0,0,3]"
   ]
  },
  {
   "cell_type": "markdown",
   "metadata": {},
   "source": [
    "출력된 패치 네개의 각 행별 숫자가 연속되는 것을 확인할 수 있습니다. 즉 위 출력된 7x7패치 네개는 가로 방향으로 연결되어 있는 이미지입니다.\n",
    "\n",
    "이미지를 자르는 함수가 준비되었으니 실제 데이터에 적용하고 이미지를 약간 수정하는 방법도 알아봅시다."
   ]
  },
  {
   "cell_type": "markdown",
   "metadata": {},
   "source": [
    "## 이미지 분할과 증강augmentation 테스트"
   ]
  },
  {
   "cell_type": "markdown",
   "metadata": {},
   "source": [
    "아래처럼 csv 파일로 저장된 mnist 데이터를 읽어옵니다. 이 csv파일에는 한 행에 이미지 하나를 저장하고 있으며 첫 열은 타겟값으로 0에서 9까지 숫자이며 두번째 열부터는 이미지 밝기값으로 0에서 255까지 범위를 가집니다."
   ]
  },
  {
   "cell_type": "code",
   "execution_count": null,
   "metadata": {},
   "outputs": [
    {
     "name": "stdout",
     "output_type": "stream",
     "text": [
      "--2024-11-30 09:08:00--  https://storage.googleapis.com/mledu-datasets/mnist_train_small.csv\n",
      "Resolving storage.googleapis.com (storage.googleapis.com)... 172.217.25.187, 142.250.76.155, 172.217.161.251, ...\n",
      "Connecting to storage.googleapis.com (storage.googleapis.com)|172.217.25.187|:443... connected.\n",
      "HTTP request sent, awaiting response... 200 OK\n",
      "Length: 36523880 (35M) [application/octet-stream]\n",
      "Saving to: ‘mnist_train_small.csv’\n",
      "\n",
      "mnist_train_small.c 100%[===================>]  34.83M  18.3MB/s    in 1.9s    \n",
      "\n",
      "2024-11-30 09:08:02 (18.3 MB/s) - ‘mnist_train_small.csv’ saved [36523880/36523880]\n",
      "\n"
     ]
    }
   ],
   "source": [
    "!wget https://storage.googleapis.com/mledu-datasets/mnist_train_small.csv -O mnist_train_small.csv"
   ]
  },
  {
   "cell_type": "code",
   "execution_count": null,
   "metadata": {},
   "outputs": [],
   "source": [
    "# csv파일을 pandas 데이터 프레임으로 읽어온다.\n",
    "D_train = pd.read_csv(\"mnist_train_small.csv\")"
   ]
  },
  {
   "cell_type": "code",
   "execution_count": null,
   "metadata": {},
   "outputs": [
    {
     "data": {
      "text/html": [
       "<div>\n",
       "<style scoped>\n",
       "    .dataframe tbody tr th:only-of-type {\n",
       "        vertical-align: middle;\n",
       "    }\n",
       "\n",
       "    .dataframe tbody tr th {\n",
       "        vertical-align: top;\n",
       "    }\n",
       "\n",
       "    .dataframe thead th {\n",
       "        text-align: right;\n",
       "    }\n",
       "</style>\n",
       "<table border=\"1\" class=\"dataframe\">\n",
       "  <thead>\n",
       "    <tr style=\"text-align: right;\">\n",
       "      <th></th>\n",
       "      <th>6</th>\n",
       "      <th>0</th>\n",
       "      <th>0.1</th>\n",
       "      <th>0.2</th>\n",
       "      <th>0.3</th>\n",
       "      <th>0.4</th>\n",
       "      <th>0.5</th>\n",
       "      <th>0.6</th>\n",
       "      <th>0.7</th>\n",
       "      <th>0.8</th>\n",
       "      <th>...</th>\n",
       "      <th>0.581</th>\n",
       "      <th>0.582</th>\n",
       "      <th>0.583</th>\n",
       "      <th>0.584</th>\n",
       "      <th>0.585</th>\n",
       "      <th>0.586</th>\n",
       "      <th>0.587</th>\n",
       "      <th>0.588</th>\n",
       "      <th>0.589</th>\n",
       "      <th>0.590</th>\n",
       "    </tr>\n",
       "  </thead>\n",
       "  <tbody>\n",
       "    <tr>\n",
       "      <th>0</th>\n",
       "      <td>5</td>\n",
       "      <td>0</td>\n",
       "      <td>0</td>\n",
       "      <td>0</td>\n",
       "      <td>0</td>\n",
       "      <td>0</td>\n",
       "      <td>0</td>\n",
       "      <td>0</td>\n",
       "      <td>0</td>\n",
       "      <td>0</td>\n",
       "      <td>...</td>\n",
       "      <td>0</td>\n",
       "      <td>0</td>\n",
       "      <td>0</td>\n",
       "      <td>0</td>\n",
       "      <td>0</td>\n",
       "      <td>0</td>\n",
       "      <td>0</td>\n",
       "      <td>0</td>\n",
       "      <td>0</td>\n",
       "      <td>0</td>\n",
       "    </tr>\n",
       "    <tr>\n",
       "      <th>1</th>\n",
       "      <td>7</td>\n",
       "      <td>0</td>\n",
       "      <td>0</td>\n",
       "      <td>0</td>\n",
       "      <td>0</td>\n",
       "      <td>0</td>\n",
       "      <td>0</td>\n",
       "      <td>0</td>\n",
       "      <td>0</td>\n",
       "      <td>0</td>\n",
       "      <td>...</td>\n",
       "      <td>0</td>\n",
       "      <td>0</td>\n",
       "      <td>0</td>\n",
       "      <td>0</td>\n",
       "      <td>0</td>\n",
       "      <td>0</td>\n",
       "      <td>0</td>\n",
       "      <td>0</td>\n",
       "      <td>0</td>\n",
       "      <td>0</td>\n",
       "    </tr>\n",
       "    <tr>\n",
       "      <th>2</th>\n",
       "      <td>9</td>\n",
       "      <td>0</td>\n",
       "      <td>0</td>\n",
       "      <td>0</td>\n",
       "      <td>0</td>\n",
       "      <td>0</td>\n",
       "      <td>0</td>\n",
       "      <td>0</td>\n",
       "      <td>0</td>\n",
       "      <td>0</td>\n",
       "      <td>...</td>\n",
       "      <td>0</td>\n",
       "      <td>0</td>\n",
       "      <td>0</td>\n",
       "      <td>0</td>\n",
       "      <td>0</td>\n",
       "      <td>0</td>\n",
       "      <td>0</td>\n",
       "      <td>0</td>\n",
       "      <td>0</td>\n",
       "      <td>0</td>\n",
       "    </tr>\n",
       "    <tr>\n",
       "      <th>3</th>\n",
       "      <td>5</td>\n",
       "      <td>0</td>\n",
       "      <td>0</td>\n",
       "      <td>0</td>\n",
       "      <td>0</td>\n",
       "      <td>0</td>\n",
       "      <td>0</td>\n",
       "      <td>0</td>\n",
       "      <td>0</td>\n",
       "      <td>0</td>\n",
       "      <td>...</td>\n",
       "      <td>0</td>\n",
       "      <td>0</td>\n",
       "      <td>0</td>\n",
       "      <td>0</td>\n",
       "      <td>0</td>\n",
       "      <td>0</td>\n",
       "      <td>0</td>\n",
       "      <td>0</td>\n",
       "      <td>0</td>\n",
       "      <td>0</td>\n",
       "    </tr>\n",
       "    <tr>\n",
       "      <th>4</th>\n",
       "      <td>2</td>\n",
       "      <td>0</td>\n",
       "      <td>0</td>\n",
       "      <td>0</td>\n",
       "      <td>0</td>\n",
       "      <td>0</td>\n",
       "      <td>0</td>\n",
       "      <td>0</td>\n",
       "      <td>0</td>\n",
       "      <td>0</td>\n",
       "      <td>...</td>\n",
       "      <td>0</td>\n",
       "      <td>0</td>\n",
       "      <td>0</td>\n",
       "      <td>0</td>\n",
       "      <td>0</td>\n",
       "      <td>0</td>\n",
       "      <td>0</td>\n",
       "      <td>0</td>\n",
       "      <td>0</td>\n",
       "      <td>0</td>\n",
       "    </tr>\n",
       "  </tbody>\n",
       "</table>\n",
       "<p>5 rows × 785 columns</p>\n",
       "</div>"
      ],
      "text/plain": [
       "   6  0  0.1  0.2  0.3  0.4  0.5  0.6  0.7  0.8  ...  0.581  0.582  0.583  \\\n",
       "0  5  0    0    0    0    0    0    0    0    0  ...      0      0      0   \n",
       "1  7  0    0    0    0    0    0    0    0    0  ...      0      0      0   \n",
       "2  9  0    0    0    0    0    0    0    0    0  ...      0      0      0   \n",
       "3  5  0    0    0    0    0    0    0    0    0  ...      0      0      0   \n",
       "4  2  0    0    0    0    0    0    0    0    0  ...      0      0      0   \n",
       "\n",
       "   0.584  0.585  0.586  0.587  0.588  0.589  0.590  \n",
       "0      0      0      0      0      0      0      0  \n",
       "1      0      0      0      0      0      0      0  \n",
       "2      0      0      0      0      0      0      0  \n",
       "3      0      0      0      0      0      0      0  \n",
       "4      0      0      0      0      0      0      0  \n",
       "\n",
       "[5 rows x 785 columns]"
      ]
     },
     "execution_count": null,
     "metadata": {},
     "output_type": "execute_result"
    }
   ],
   "source": [
    "D_train.head()"
   ]
  },
  {
   "cell_type": "code",
   "execution_count": null,
   "metadata": {},
   "outputs": [
    {
     "data": {
      "text/plain": [
       "((19999, 784), (19999,))"
      ]
     },
     "execution_count": null,
     "metadata": {},
     "output_type": "execute_result"
    }
   ],
   "source": [
    "# 데이터 프레임으로부터 1열부터는 이미지 X로 0열은 타겟 y로 저장\n",
    "X_train = D_train.iloc[:,1:]\n",
    "y_train = D_train.iloc[:,0]\n",
    "\n",
    "X_train = X_train.to_numpy()\n",
    "y_train = y_train.to_numpy()\n",
    "\n",
    "X_train.shape, y_train.shape"
   ]
  },
  {
   "cell_type": "markdown",
   "metadata": {},
   "source": [
    "학습 세트에는 약 2만개 이미지가 저장되어있음을 알 수 있습니다. mnist 데이터 셋은 오만개 이미지가 학습 세트인데 구글에서 제공하는 데이터 셋은 약간 양이 작습니다. 제대로 로드되었는지 샘플을 몇개 그려보면 다음과 같습니다."
   ]
  },
  {
   "cell_type": "code",
   "execution_count": null,
   "metadata": {},
   "outputs": [
    {
     "data": {
      "image/png": "[encoded data removed]",
      "text/plain": [
       "<Figure size 1000x500 with 3 Axes>"
      ]
     },
     "metadata": {},
     "output_type": "display_data"
    }
   ],
   "source": [
    "sample_idx = 32\n",
    "X_samples = X_train[sample_idx:sample_idx+3]\n",
    "y_samples = y_train[sample_idx:sample_idx+3]\n",
    "\n",
    "fig, ax = plt.subplots(nrows=1, ncols=3, figsize=(10,5))\n",
    "ax[0].imshow(X_samples[0].reshape(28,28))\n",
    "ax[1].imshow(X_samples[1].reshape(28,28))\n",
    "ax[2].imshow(X_samples[2].reshape(28,28))\n",
    "plt.show()"
   ]
  },
  {
   "cell_type": "markdown",
   "metadata": {},
   "source": [
    "어텐션의 목적은 숫자를 예측하기 위해 이미지의 어느 부분에 집중해야하는지 결정하는 것입니다. mnist 데이터 셋은 숫자가 이미지 정중앙에 가지런히 놓여있는 매우 잘 정리된 데이터 셋이므로 이 상태로 어텐션을 적용하는 것은 큰 의미가 없을 수 있습니다. 실제로 `relu()` 활성함수를 사용한 가장 기본적인 MLP도 mnist 데이터 셋에서 정확도 98%를 달성합니다. 우리 목적은 높은 정확도를 달성하는 것이 아니라 mnist 분류 문제에서 어텐션의 효과를 확인하는 것입니다. 그래서 무작위로 숫자의 크기를 줄이고 위치를 구석구석 의도적으로 옮겨서 분류 작업의 난이도를 높일 필요가 있습니다. 이 작업을 위해 `albumentaions` 라이브러리를 사용합니다."
   ]
  },
  {
   "cell_type": "code",
   "execution_count": null,
   "metadata": {},
   "outputs": [],
   "source": [
    "import matplotlib.gridspec as gridspec"
   ]
  },
  {
   "cell_type": "code",
   "execution_count": null,
   "metadata": {},
   "outputs": [
    {
     "name": "stdout",
     "output_type": "stream",
     "text": [
      "(3, 28, 28)\n",
      "(3, 4, 4, 7, 7)\n"
     ]
    },
    {
     "data": {
      "image/png": "[encoded data removed]",
      "text/plain": [
       "<Figure size 1000x300 with 48 Axes>"
      ]
     },
     "metadata": {},
     "output_type": "display_data"
    }
   ],
   "source": [
    "# https://github.com/albumentations-team/albumentations#a-simple-example\n",
    "# (0, 1.0)사이로 그 정도를 지정할 수 있는 shift, scale, ratate를 설정한다.\n",
    "# scale_limit에서 음수는 축소를 의미, 따라서 확대는 하지 않고 축소만 한다.\n",
    "transform = A.Compose([\n",
    "    A.ShiftScaleRotate(shift_limit=0.3, scale_limit=(-0.4, 0), \n",
    "                       rotate_limit=0, p=0.8, border_mode=cv2.BORDER_CONSTANT)\n",
    "])\n",
    "\n",
    "# Augment an image\n",
    "transformed_image = np.array(\n",
    "        [transform(image=X_sample.reshape(28,28).astype(np.float32))[\"image\"] \n",
    "        for X_sample in X_samples])\n",
    "print(transformed_image.shape)\n",
    "\n",
    "X_blocked = blockshaped(transformed_image, 7, 7)\n",
    "print(X_blocked.shape)\n",
    "\n",
    "# https://stackoverflow.com/questions/34933905/matplotlib-adding-subplots-to-a-subplot\n",
    "fig = plt.figure(figsize=(10, 3))\n",
    "outer = gridspec.GridSpec(1, 3, wspace=0.2, hspace=0.2)\n",
    "\n",
    "for i in range(3):\n",
    "    inner = gridspec.GridSpecFromSubplotSpec(4, 4, subplot_spec=outer[i],\n",
    "                                             wspace=0., hspace=0.)\n",
    "    \n",
    "    for j in range(4):\n",
    "        for k in range(4):\n",
    "            ax = plt.Subplot(fig, inner[j,k])\n",
    "            ax.set_xticks([])\n",
    "            ax.set_yticks([])\n",
    "            ax.imshow(X_blocked[i,j,k])\n",
    "            fig.add_subplot(ax)\n",
    "\n",
    "plt.show()"
   ]
  },
  {
   "cell_type": "markdown",
   "metadata": {},
   "source": [
    "의도한것처럼 숫자가 약간 작아지고 위치가 무작위로 이동된 것을 확인할 수 있습니다. 또 각 개별 이미지가 7x7 사이즈로 분할되어 전체 패치가 4x4인 것도 확인할 수 있습니다.\n",
    "\n",
    "이제 이렇게 잘린 각 패치 열여섯개를 각디 다른 `Linear(49, 16)`에 입력합니다. 그 다음 출력으로 나온 길이 16짜리 벡터 16개를 이어 붙여 전체 길이 256(=16*16)짜리 벡터로 만듭니다. 이 벡터를 `Linear(256, 10)`에 입력하여 길이 10인 최종 출력 벡터를 만들도록 하겠습니다.\n",
    "\n",
    "이제 준비가 끝났으니 모두 모아서 실제로 학습을 해보도록 합시다."
   ]
  },
  {
   "cell_type": "markdown",
   "metadata": {},
   "source": [
    "### Dataset 정의\n",
    "\n",
    "`pytorch`를 사용하므로 앞서 테스트한 코드를 Dataset 클래스에 모두 구현합니다. 구현은 간단합니다. 초기화 작업을하고 `__getitem()__`에 이미지 증간 코드를 구현하면 끝납니다."
   ]
  },
  {
   "cell_type": "code",
   "execution_count": null,
   "metadata": {},
   "outputs": [],
   "source": [
    "class MnistDataset(Dataset):\n",
    "    def __init__(self, csv_file, transform=None):\n",
    "        self.transform = transform\n",
    "        # csv파일을 읽어서 이미지와 타겟을 준비한다.\n",
    "        D = pd.read_csv(csv_file)\n",
    "        self.X = D.iloc[:, 1:].to_numpy().reshape(D.shape[0], 28, 28) /255. # (N,28,28)\n",
    "        self.y = D.iloc[:, 0]  # (N,)\n",
    "\n",
    "    def __len__(self):\n",
    "        return self.X.shape[0]\n",
    "\n",
    "    def __getitem__(self, idx):\n",
    "        X_train = self.X[idx]\n",
    "        y_train = self.y[idx]\n",
    "\n",
    "        # transform이 초기화 되어있다면 이미지를 반환하기 전에\n",
    "        # 이미지 증강 작업을 한다.\n",
    "        if self.transform:\n",
    "            transformed = transform(image=X_train)\n",
    "            X_train = transformed[\"image\"]\n",
    "\n",
    "        return { \"image\": torch.tensor(X_train, dtype=torch.float),\n",
    "                \"target\": torch.tensor(y_train, dtype=torch.long) }"
   ]
  },
  {
   "cell_type": "markdown",
   "metadata": {},
   "source": [
    "### Dataset 테스트\n",
    "\n",
    "간단하게 정의된 Dataset이 잘 동작하는지 실험해봅시다."
   ]
  },
  {
   "cell_type": "code",
   "execution_count": null,
   "metadata": {},
   "outputs": [],
   "source": [
    "transform = A.Compose([\n",
    "A.ShiftScaleRotate(shift_limit=0.3, scale_limit=(-0.4, 0), \n",
    "                       rotate_limit=0, p=0.8, border_mode=cv2.BORDER_CONSTANT)\n",
    "])\n",
    "\n",
    "train_dataset = MnistDataset(\"mnist_train_small.csv\", \n",
    "                             transform=transform)"
   ]
  },
  {
   "cell_type": "markdown",
   "metadata": {},
   "source": [
    "Dataset 객체를 생성하고 특정 인덱스로 데이터가 뽑혀나오는지 또 augmentation이 되는지 확인하면 됩니다."
   ]
  },
  {
   "cell_type": "code",
   "execution_count": null,
   "metadata": {},
   "outputs": [
    {
     "name": "stdout",
     "output_type": "stream",
     "text": [
      "tensor(7)\n"
     ]
    },
    {
     "data": {
      "image/png": "[encoded data removed]",
      "text/plain": [
       "<Figure size 640x480 with 1 Axes>"
      ]
     },
     "metadata": {},
     "output_type": "display_data"
    }
   ],
   "source": [
    "X = train_dataset[11]\n",
    "plt.imshow(X['image'])\n",
    "print(X['target'])"
   ]
  },
  {
   "cell_type": "markdown",
   "metadata": {},
   "source": [
    "나쁘지 않게 되는것 같네요. 그럼 이제 DataLoader를 만들고 미니배치가 제대로 생성되는지 확인합시다."
   ]
  },
  {
   "cell_type": "markdown",
   "metadata": {},
   "source": [
    "## DataLoader를 이용한 미니배치 테스트\n",
    "\n",
    "아래 코드는 배치사이즈 10으로 DataLoader를 만들고 배치 4개를 뽑아보는 코드입니다. 한 배치의 텐서 크기는 (10, 28, 28)이 되어야합니다."
   ]
  },
  {
   "cell_type": "code",
   "execution_count": null,
   "metadata": {},
   "outputs": [
    {
     "name": "stdout",
     "output_type": "stream",
     "text": [
      "torch.Size([10, 28, 28])\n",
      "torch.Size([10, 28, 28])\n",
      "torch.Size([10, 28, 28])\n",
      "torch.Size([10, 28, 28])\n"
     ]
    },
    {
     "data": {
      "image/png": "[encoded data removed]",
      "text/plain": [
       "<Figure size 1000x1000 with 10 Axes>"
      ]
     },
     "metadata": {},
     "output_type": "display_data"
    },
    {
     "data": {
      "image/png": "[encoded data removed]",
      "text/plain": [
       "<Figure size 1000x1000 with 10 Axes>"
      ]
     },
     "metadata": {},
     "output_type": "display_data"
    },
    {
     "data": {
      "image/png": "[encoded data removed]",
      "text/plain": [
       "<Figure size 1000x1000 with 10 Axes>"
      ]
     },
     "metadata": {},
     "output_type": "display_data"
    },
    {
     "data": {
      "image/png": "[encoded data removed]",
      "text/plain": [
       "<Figure size 1000x1000 with 10 Axes>"
      ]
     },
     "metadata": {},
     "output_type": "display_data"
    }
   ],
   "source": [
    "train_loader = DataLoader(train_dataset, batch_size=10, shuffle=True)\n",
    "\n",
    "for i_batch, mini_batch in enumerate(train_loader):\n",
    "    print(mini_batch['image'].shape)\n",
    "\n",
    "    fig, ax = plt.subplots(nrows=1, ncols=10, figsize=(10, 10))\n",
    "    fig.subplots_adjust(hspace=0, wspace=0)\n",
    "\n",
    "    for j in range(10):\n",
    "        ax[j].xaxis.set_major_locator(plt.NullLocator())\n",
    "        ax[j].yaxis.set_major_locator(plt.NullLocator())\n",
    "        ax[j].imshow(mini_batch['image'][j])\n",
    "\n",
    "    if i_batch == 3:\n",
    "        break"
   ]
  },
  {
   "cell_type": "markdown",
   "metadata": {},
   "source": [
    "이미지 열개로 구성된 미니배치 4개에서 숫자를 보면 크기도 적당히 변하고 위치도 구석 구석으로 잘 배치되는 것을 확인할 수 있습니다. 이렇게 데이터 로딩 부분을 완성했으니 모델을 정의하고 학습하는 일만 남았습니다."
   ]
  },
  {
   "cell_type": "markdown",
   "metadata": {},
   "source": [
    "## 모델 만들기\n",
    "\n",
    "모델은 어텐션이 없는 기본 모델과 있는 것 두개를 만들겠습니다. `Mnist`와 `MnistAttn`입니다. 각 모델은 열여섯개 패치에 적용되는 `Lienar()` 열여섯개를 `nn.ModuleList` 에 담아 가지고 있습니다. `Mnist`모델은 앞서 제시한 모식도를 그대로 코드로 옮긴것입니다. 모델에 대한 상세한 설명은 코드의 주석을 참고하시면 됩니다."
   ]
  },
  {
   "cell_type": "code",
   "execution_count": null,
   "metadata": {},
   "outputs": [],
   "source": [
    "class Mnist(nn.Module):\n",
    "    def __init__(self, image_size, patch_size, hidden_patch, n_class):\n",
    "        \"\"\"\n",
    "        이미지와 패치는 정사각형\n",
    "        image_size:   입력되는 쪼개지기 전의 원래 이미지 크기, 28\n",
    "        patch_size:   이미지를 패치로 쪼갤때 패치 하나의 크기, 7\n",
    "        hidden_patch: 각 패치에 적용되는 Linear층의 출력 개수, 16\n",
    "        n_class:      클래스 수, 10\n",
    "        \"\"\"\n",
    "        super(Mnist, self).__init__()\n",
    "\n",
    "        self.patch_size = patch_size\n",
    "        \n",
    "        assert image_size % patch_size == 0, \\\n",
    "            \"{} is not evenly divisble by {}\".format(image_size, patch_size)\n",
    "\n",
    "        self.n_patch = image_size // patch_size # 4\n",
    "        self.blocked_linears = torch.nn.ModuleList([ \n",
    "                                    nn.Linear(patch_size**2, hidden_patch) \n",
    "                                    for i in range(self.n_patch**2) ])\n",
    "\n",
    "        self.hidden = nn.Linear(self.n_patch**2 * hidden_patch, n_class)\n",
    "        self.logsoftmax = nn.LogSoftmax(dim=1)\n",
    "\n",
    "    def forward(self, x):\n",
    "        \"\"\"\n",
    "        x : (N, n_patch_rows, n_patch_cols, patch_rows, patch_cols)\n",
    "        \"\"\"\n",
    "        # 주석은 미니배치 10, 이미지사이즈가 (28,28), 패치사이즈가 (7,7)\n",
    "        # 패치가 Linear()를 통과한후 나오는 출력이 16인 경우를 가정한다.\n",
    "        # 주석에서\n",
    "        # N: 배치 사이즈\n",
    "        N, _, _, Pr, Pc = x.shape\n",
    "\n",
    "        # forward는 분할된 이미지를 입력받는다. 이 경우 입력은 (10, 4, 4, 7, 7)\n",
    "        # 4x4개 패치를 16개 한 차원으로 몰아넣는다.\n",
    "        x = x.reshape(N, -1, Pr, Pc) # (N, 16, 7, 7) \n",
    "\n",
    "        # (7,7)인 개볖 패치를 한줄로 편다 \n",
    "        x = x.reshape(N, self.n_patch**2, self.patch_size**2) # (N, 16, 49), \n",
    "        \n",
    "        # ModuleList에 저장된 Linear() 열여섯개를 순차적으로 포워드시킨다.\n",
    "        # 그 열여섯개 결과를 1번축으로 이어붙인다.\n",
    "        blocks = torch.cat( [ linear_i(x[:, i]) \n",
    "                for i, linear_i in enumerate(self.blocked_linears) ], dim=1) # (N, 16*16)\n",
    "\n",
    "        x = nn.functional.relu(blocks) # (N, 256)->(N, 256)  \n",
    "        x = self.hidden(x) # (N, 256)->(N,10)\n",
    "        x = self.logsoftmax(x) # (N,10)->(N,10)\n",
    "        \n",
    "        return x"
   ]
  },
  {
   "cell_type": "markdown",
   "metadata": {},
   "source": [
    "16개로 잘린 패치를 각각 두개의 `Lienar()`층으로 입력합니다. 하나는 길이 16짜리 히든 벡터를 만들고, 하나는 어텐션 가중치를 계산하기 위해 숫자 하나를 만듭니다. `Linear(49, 1)`에 의해 만들어진 숫자 열여섯개를 소프트맥스로 입력하여 가중치로 만들어 줍니다. 이후 `Lieaner(49, 16)`에 의해 만들어진 길이 16짜리 벡터에 해당 가중치를 곱하고 이를 이어붙입니다. 이렇게 만들어진 최종 벡터를 다시 `Linear(256, 10)`에 통과시켜 최종 클래스 확률이 될 로짓벡터를 만들어내게 됩니다. "
   ]
  },
  {
   "cell_type": "code",
   "execution_count": null,
   "metadata": {},
   "outputs": [],
   "source": [
    "class MnistAttn(nn.Module):\n",
    "    def __init__(self, image_size, patch_size, hidden_patch, n_class):\n",
    "        \"\"\"\n",
    "        이미지와 패치는 정사각형\n",
    "        image_size:   입력되는 쪼개지기 전의 원래 이미지 크기, 28\n",
    "        patch_size:   이미지를 패치로 쪼갤때 패치 하나의 크기, 7\n",
    "        hidden_patch: 각 패치에 적용되는 Linear층의 출력 개수, 16\n",
    "        n_class:      클래스 수, 10\n",
    "        \"\"\"\n",
    "        super(MnistAttn, self).__init__()\n",
    "\n",
    "        self.patch_size = patch_size\n",
    "        self.hidden_patch = hidden_patch\n",
    "        self.alpha = None # attention weights\n",
    "        \n",
    "        assert image_size % patch_size == 0, \\\n",
    "            \"{} is not evenly divisble by {}\".format(image_size, patch_size)\n",
    "\n",
    "        self.n_patch = image_size // patch_size # 4\n",
    "        # 16 (49, 16)\n",
    "        self.blocked_linears = torch.nn.ModuleList([ \n",
    "                                    nn.Linear(patch_size**2, hidden_patch) \n",
    "                                    for i in range(self.n_patch**2) ])\n",
    "        # 16 (49, 1)\n",
    "        self.attns = torch.nn.ModuleList([\n",
    "                                    nn.Linear(patch_size**2, 1)\n",
    "                                    for i in range(self.n_patch**2) ])\n",
    "        # (256, 10)\n",
    "        self.hidden = nn.Linear(self.n_patch**2 * hidden_patch, n_class)\n",
    "        self.logsoftmax = nn.LogSoftmax(dim=1)\n",
    "\n",
    "    def forward(self, x):\n",
    "        \"\"\"\n",
    "        x : (N, n_patch_rows, n_patch_cols, patch_rows, patch_cols)\n",
    "        \"\"\"\n",
    "        # 주석은 미니배치 10, 이미지사이즈가 (28,28), 패치사이즈가 (7,7)\n",
    "        # 패치가 Linear()를 통과한후 나오는 출력이 16인 경우를 가정한다.\n",
    "        # 주석에서\n",
    "        # N: 배치 사이즈\n",
    "        # o: 패치를 입력받는 Linear의 출력 사이즈\n",
    "        # l: 패치 개수\n",
    "        N, _, _, Pr, Pc = x.shape\n",
    "\n",
    "        x = x.reshape(N, -1, Pr, Pc) # (N, 16, 7, 7)\n",
    "        x = x.reshape(N, self.n_patch**2, self.patch_size**2) # (N, 16, 49)\n",
    "        \n",
    "        blocks = ( torch.cat([ nn.functional.relu(linear_i(x[:, i])) # (N, o) * l, (N, 16) * 16\n",
    "                    for i, linear_i in enumerate(self.blocked_linears) ], dim=0)\n",
    "                    .reshape(-1, N, self.hidden_patch).transpose(1,0) ) # (N, l, o), (N, 16, 16) \n",
    "        \n",
    "        attn_weights = torch.cat( [ torch.tanh(attn_i(x[:, i])) \n",
    "                for i, attn_i in enumerate(self.attns) ], dim=1)\n",
    "        attn_weights = nn.functional.softmax(attn_weights, dim=1) # (N, l), (N, 16)\n",
    "        self.alpha = attn_weights\n",
    "        attn_weights = torch.unsqueeze(attn_weights, 2) # (N, l, 1), (N, 16, 1)\n",
    "\n",
    "        x = blocks * attn_weights # (N,l,o)*(N,l,1)=(N, 16, 16)*(N, 16, 1)=(N, 16, 16)\n",
    "        \n",
    "        # reshape (N, 16, 16) -> (N, 16*16)\n",
    "        x = x.reshape(N,-1)\n",
    "        \n",
    "        x = self.hidden(x) # (N,10)\n",
    "        x = self.logsoftmax(x)\n",
    "        \n",
    "        return x\n"
   ]
  },
  {
   "cell_type": "markdown",
   "metadata": {},
   "source": [
    "이 모델같은 경우 `forward`함수에서 `reshape`하는 부분이 조금 복잡합니다. 먼저 각 패치를 포워드 시키는 부분입니다. \n",
    "\n",
    "주석에서 패치 개수는 `l`은 값으로 16을 가지고, 패치를 입려받는 `Linear()`의 출력은 `o`도 16입니다.\n",
    "\n",
    "```python\n",
    "blocks = ( torch.cat([ nn.functional.relu(linear_i(x[:, i])) # (N, o) * l, (N, 16) * 16\n",
    "                    for i, linear_i in enumerate(self.blocked_linears) ], dim=0)\n",
    "                    .reshape(-1, N, self.hidden_patch).transpose(1,0) ) # (N, l, o), (N, 16, 16) \n",
    "```\n",
    "\n",
    "위 코드는 패치를 입력으로 받는 16개 `Linear()`를 순환하면서 패치 16개를 순차적으로 입력시키는 코드입니다. 위 코드에서 가장 안쪽부분에 해당합니다.\n",
    "\n",
    "\n",
    "```python\n",
    "[ nn.functional.relu(linear_i(x[:, i])) # (N, o) * l, (N, 16) * 16\n",
    "                    for i, linear_i in enumerate(self.blocked_linears) ]\n",
    "```\n",
    "\n",
    "현재 `x`는 N=10개 샘플이 모두 들어 있으므로 (10, 16, 49)입니다. \n",
    "\n",
    "리스트 컴프리헨션으로 열여섯번 반복하면서 `x[:,i]`를 `i`번째 `Linear()`로 입력하고 있습니다. `x[:,i]`는 (10, 49)입니다.\n",
    "\n",
    "`x[:, 0]`은 미니배치안에 있는 10개 샘플의 첫번째 패치입니다. 이렇게 10개 샘플에 대한 패치 16개를 지정할 수 있습니다. 이것을 순차적으로 포워드시키는 리스트 컴프리헨션을 수행하고 나면 (10, 16)인 텐서를 열여섯개 가지고 있는 리스트가 만들어 집니다. 이제 이 리스트를 `dim=0`번 방향으로 `cat` 시킵니다.\n",
    "\n",
    "이 과정들을 거치게 되면 `blocks`에는 0번 차원으로 샘플들이 놓이고, 1번 차원으로는 패치들이 2번 차원으로는 `Linear()`에 의해 계산된 출력값들이 놓이게 됩니다.\n",
    "\n",
    "다음은 패치로 부터 어텐션 가중치를 구해야 합니다. 우선 다음 코드로 패치로부터 값 하나를 뽑아냅니다. 여기서는 `Linear()`를 통과한후 활성함수로 `tanh()`를 사용하였습니다.\n",
    "\n",
    "```python\n",
    "attn_weights = torch.cat( [ torch.tanh(attn_i(x[:, i])) \n",
    "                for i, attn_i in enumerate(self.attns) ], dim=1)\n",
    "\n",
    "attn_weights = nn.functional.softmax(attn_weights, dim=1) # (N, l), (N, 16)\n",
    "attn_weights = torch.unsqueeze(attn_weights, 2) # (N, l, 1), (N, 16, 1)\n",
    "```\n",
    "\n",
    "코드를 보면 어텐션 가중치를 구할때도 이전과 같은 방식을 사용합니다. 각 패치를 입력받는 `Linear()`의 출력 크기가 1이라는 것만 제외하면 일단 동일하게 진행하고 `torch.cat()`시킬 때 축방향만 1로 지정합니다.\n",
    "\n",
    "`torch.cat()`후 `dim=1`로 소프트맥스를 적용하여 계산된 값을 가중치화 합니다. 그리고 마지막에 차원을 하나추가하여 계산된 값들이 놓이게 합니다. 이제 계산된 가중치를 앞서 계산해둔 `blocks`에 곱하기만 하면 됩니다.\n",
    "\n",
    "이미 브로드캐스팅이 되게 차원을 맞춰놓았으므로 그냥 곱하기만 하면됩니다.\n",
    "\n",
    "```python\n",
    "x = blocks * attn_weights # (N,l,o)*(N,l,1)=(N, 16, 16)*(N, 16, 1)=(N, 16, 16)\n",
    "```\n",
    "\n",
    "샘플 하나에서 잘린 16개 블록으로 부터 계산된 값들에 동일한 어텐션 가중치들이 브로드캐스팅을 통해 한번에 곱해지게 됩니다. 즉 하나의 패치에 모두 같은 가중치를 곱해주는 것입니다. \n",
    "\n",
    "미니배치가 추가되면서 텐서를 다루는 과정이 약간 복잡해졌지만 이 과정만 지나면 나머지는 보통 MLP를 포워드시키는 과정과 동일합니다."
   ]
  },
  {
   "cell_type": "markdown",
   "metadata": {},
   "source": [
    "### 포워드 테스트\n",
    "\n",
    "모델 설계가 끝났으므로 이 모델이 데이터를 제대로 포워드 시키는지 실험해봅시다. DataLoader로 부터 미니배치 하나를 얻어와서 모델에 입력하고 포워드시킵니다. 결과로는 두 모델 모두 (10, 10)인 텐서가 나와야 합니다."
   ]
  },
  {
   "cell_type": "code",
   "execution_count": null,
   "metadata": {},
   "outputs": [
    {
     "name": "stdout",
     "output_type": "stream",
     "text": [
      "torch.Size([10, 28, 28])\n",
      "torch.Size([10, 4, 4, 7, 7])\n",
      "torch.Size([10, 10])\n",
      "torch.Size([10, 10])\n"
     ]
    }
   ],
   "source": [
    "# 데이터 로더로 부터 미니배치 하나 얻어오기\n",
    "train_loader_iter = iter(train_loader)\n",
    "batch = next(train_loader_iter)\n",
    "print(batch['image'].shape)\n",
    "\n",
    "# 미니배치를 7x7 패치로 자르기\n",
    "blocked_batch = torch.tensor(blockshaped(batch['image'].numpy(), 7, 7))\n",
    "print(blocked_batch.shape)\n",
    "\n",
    "# 포워드 시키기\n",
    "model = Mnist(28, 7, 17, 10)\n",
    "model.cuda()\n",
    "\n",
    "model_attn = MnistAttn(28, 7, 16, 10)\n",
    "model_attn.cuda()\n",
    "\n",
    "blocked_batch = blocked_batch.cuda()\n",
    "\n",
    "out = model(blocked_batch)\n",
    "print(out.shape)\n",
    "\n",
    "out = model_attn(blocked_batch)\n",
    "print(out.shape)"
   ]
  },
  {
   "cell_type": "markdown",
   "metadata": {},
   "source": [
    "두 모델 모두 (10,10)인 텐서를 출력하고 있습니다. 하나 언급하고 넘어갸야 할 것은 두 모델을 생성할 때 패치를 입력받는 `Linear()`의 출력 개수가 다르다는 것입니다. 어텐션을 주는 경우 학습할 수 있는 파라미터가 늘어나므로 파리미터 수에 대한 학습효과를 무사히기위해 두 모델의 파라미터 수를 최대한 동일하게 맞추는 것이 좋습니다. 기본 모델은 출력 개수를 17로 하나 더 크게 하였습니다. 실제 두 모델의 파라미터 수를 비교 해보면"
   ]
  },
  {
   "cell_type": "code",
   "execution_count": null,
   "metadata": {},
   "outputs": [
    {
     "name": "stdout",
     "output_type": "stream",
     "text": [
      "no. of model params without attention : 16330\n",
      "no. of model params with attention    : 16170\n",
      "no_model_attn_params - no_model_params: -160\n"
     ]
    }
   ],
   "source": [
    "no_model_params = sum(p.numel() for p in model.parameters() if p.requires_grad)\n",
    "no_model_attn_params = sum(p.numel() for p in model_attn.parameters() if p.requires_grad)\n",
    "\n",
    "print(f\"no. of model params without attention : {no_model_params}\")\n",
    "print(f\"no. of model params with attention    : {no_model_attn_params}\")\n",
    "print(f\"no_model_attn_params - no_model_params: {no_model_attn_params - no_model_params}\")"
   ]
  },
  {
   "cell_type": "markdown",
   "metadata": {},
   "source": [
    "위 처럼 기본 모델이 어텐션이 있는 모델보다 파라미터 수가 160개 더 많습니다. 어텐션 모델의 결과가 더 좋다면 적어도 어텐션 모델이 파라미터가 더 많아서 생긴 결과는 아니라고 할 수 있습니다."
   ]
  },
  {
   "cell_type": "markdown",
   "metadata": {},
   "source": [
    "### 학습\n",
    "\n",
    "위에서 적용한 이미지 증강 기법을 똑같이 적용하여 학습과 테스트 데이터로더를 만듭니다."
   ]
  },
  {
   "cell_type": "code",
   "execution_count": null,
   "metadata": {},
   "outputs": [
    {
     "name": "stdout",
     "output_type": "stream",
     "text": [
      "--2024-11-30 09:15:26--  https://storage.googleapis.com/mledu-datasets/mnist_test.csv\n",
      "Resolving storage.googleapis.com (storage.googleapis.com)... 142.250.206.219, 172.217.161.251, 142.250.76.155, ...\n",
      "Connecting to storage.googleapis.com (storage.googleapis.com)|142.250.206.219|:443... connected.\n",
      "HTTP request sent, awaiting response... 200 OK\n",
      "Length: 18289443 (17M) [application/octet-stream]\n",
      "Saving to: ‘mnist_test.csv’\n",
      "\n",
      "mnist_test.csv      100%[===================>]  17.44M  10.8MB/s    in 1.6s    \n",
      "\n",
      "2024-11-30 09:15:28 (10.8 MB/s) - ‘mnist_test.csv’ saved [18289443/18289443]\n",
      "\n"
     ]
    }
   ],
   "source": [
    "!wget https://storage.googleapis.com/mledu-datasets/mnist_test.csv -O mnist_test.csv"
   ]
  },
  {
   "cell_type": "code",
   "execution_count": null,
   "metadata": {},
   "outputs": [
    {
     "name": "stdout",
     "output_type": "stream",
     "text": [
      "19999\n",
      "9999\n"
     ]
    }
   ],
   "source": [
    "batch_size = 10\n",
    "\n",
    "# transform = A.Compose([\n",
    "#     A.ShiftScaleRotate(shift_limit=0.3, scale_limit=(0, 0), \n",
    "#                        rotate_limit=0, p=0.8)\n",
    "# ])\n",
    "\n",
    "transform = A.Compose([\n",
    "    A.ShiftScaleRotate(shift_limit=0.3, scale_limit=(-0.4, 0), \n",
    "                       rotate_limit=0, p=0.8, border_mode=cv2.BORDER_CONSTANT)\n",
    "])\n",
    "\n",
    "train_dataset = MnistDataset(\"mnist_train_small.csv\", \n",
    "                             transform=transform)\n",
    "print(len(train_dataset))\n",
    "train_loader = DataLoader(train_dataset, batch_size=batch_size, \n",
    "                          num_workers=4, shuffle=True, pin_memory=True)\n",
    "\n",
    "test_dataset = MnistDataset(\"mnist_test.csv\",\n",
    "                            transform=transform)\n",
    "print(len(test_dataset))\n",
    "test_loader = DataLoader(test_dataset, batch_size=batch_size, \n",
    "                         num_workers=4, shuffle=True, pin_memory=True)"
   ]
  },
  {
   "cell_type": "markdown",
   "metadata": {},
   "source": [
    "손실함수, 에폭과 학습률을 정의합니다. 모델이 최종적으로 소프트맥스에 로그를 적용한 값을 반환하므로 손실함수는 `NLLLoss()`를 사용합니다. 에폭을 꽤 크게 잡은 것은 기본 모델은 에폭이 진행되어도 결과가 개선되지 않지만 어텐션이 있는 모델은 지속적으로 결과가 개선되는 것을 확인하기 위해서 입니다."
   ]
  },
  {
   "cell_type": "code",
   "execution_count": null,
   "metadata": {},
   "outputs": [],
   "source": [
    "criterion = nn.NLLLoss()\n",
    "epoches = 250\n",
    "lr = 0.3\n",
    "\n",
    "model = Mnist(28, 7, 17, 10).cuda()\n",
    "model_attn = MnistAttn(28, 7, 16, 10).cuda()"
   ]
  },
  {
   "cell_type": "markdown",
   "metadata": {},
   "source": [
    "학습 함수를 적당히 만들고..."
   ]
  },
  {
   "cell_type": "code",
   "execution_count": null,
   "metadata": {},
   "outputs": [],
   "source": [
    "def train(model, acc):\n",
    "    \n",
    "    for epoch in range(epoches):\n",
    "        cur_loss = 0\n",
    "        correct = 0\n",
    "        for i, data in tqdm(enumerate(train_loader), total=len(train_loader)):\n",
    "            X = data['image']\n",
    "            y = data['target']\n",
    "\n",
    "            # 미니배치를 7x7 패치로 자르기\n",
    "            X = torch.tensor(blockshaped(X.numpy(), 7, 7))\n",
    "            \n",
    "            X = X.cuda()\n",
    "            y = y.cuda()\n",
    "            \n",
    "            # optimizer를 쓰지 않으면 model에 params가 있으므로 model에서 \n",
    "            # 그래디언트 초기화\n",
    "            model.zero_grad()\n",
    "            out = model(X)\n",
    "            \n",
    "            loss = criterion(out, y)\n",
    "            loss.backward()\n",
    "\n",
    "            # 옵티마이저를 쓰지 않으므로 직접 params 업데이트\n",
    "            for p in model.parameters():\n",
    "                p.data.add_(p.grad.data, alpha = -lr)\n",
    "            \n",
    "            correct += (torch.exp(out).argmax(axis=1) == y).float().sum()\n",
    "            cur_loss += loss\n",
    "\n",
    "        acc_train = 100. * correct / len(train_dataset)\n",
    "\n",
    "        # test acc.\n",
    "        with torch.no_grad():\n",
    "            correct = 0\n",
    "            for i, data in enumerate(test_loader):\n",
    "                X = data['image']\n",
    "                y = data['target']\n",
    "\n",
    "                X = torch.tensor(blockshaped(X.numpy(), 7, 7), device=\"cuda:0\")\n",
    "                # X = X.cuda()\n",
    "                y = y.cuda()\n",
    "\n",
    "                out = model(X)\n",
    "                correct += (torch.exp(out).argmax(axis=1) == y).float().sum()\n",
    "        acc_test = 100. * correct / len(test_dataset)\n",
    "\n",
    "        print(f\"EPOCH: {(epoch+1):02d}, LOSS: {cur_loss.item()/i:e}, TRAIN ACC.: {acc_train:e}, TEST ACC.: {acc_test:e}\")\n",
    "        \n",
    "        acc['train'].append(acc_train.item())\n",
    "        acc['test'].append(acc_test.item())\n"
   ]
  },
  {
   "cell_type": "markdown",
   "metadata": {},
   "source": [
    "두 모델을 학습합니다."
   ]
  },
  {
   "cell_type": "code",
   "execution_count": null,
   "metadata": {},
   "outputs": [
    {
     "name": "stderr",
     "output_type": "stream",
     "text": [
      "100%|██████████| 2000/2000 [00:06<00:00, 287.89it/s]\n"
     ]
    },
    {
     "name": "stdout",
     "output_type": "stream",
     "text": [
      "EPOCH: 01, LOSS: 3.730502e+00, TRAIN ACC.: 3.458173e+01, TEST ACC.: 4.394439e+01\n"
     ]
    },
    {
     "name": "stderr",
     "output_type": "stream",
     "text": [
      "100%|██████████| 2000/2000 [00:06<00:00, 301.69it/s]\n"
     ]
    },
    {
     "name": "stdout",
     "output_type": "stream",
     "text": [
      "EPOCH: 02, LOSS: 3.012203e+00, TRAIN ACC.: 4.776739e+01, TEST ACC.: 5.099510e+01\n"
     ]
    },
    {
     "name": "stderr",
     "output_type": "stream",
     "text": [
      "100%|██████████| 2000/2000 [00:06<00:00, 290.88it/s]\n"
     ]
    },
    {
     "name": "stdout",
     "output_type": "stream",
     "text": [
      "EPOCH: 03, LOSS: 2.709255e+00, TRAIN ACC.: 5.415771e+01, TEST ACC.: 5.646565e+01\n"
     ]
    },
    {
     "name": "stderr",
     "output_type": "stream",
     "text": [
      "100%|██████████| 2000/2000 [00:06<00:00, 295.25it/s]\n"
     ]
    },
    {
     "name": "stdout",
     "output_type": "stream",
     "text": [
      "EPOCH: 04, LOSS: 2.573535e+00, TRAIN ACC.: 5.701285e+01, TEST ACC.: 6.099610e+01\n"
     ]
    },
    {
     "name": "stderr",
     "output_type": "stream",
     "text": [
      "100%|██████████| 2000/2000 [00:06<00:00, 293.59it/s]\n"
     ]
    },
    {
     "name": "stdout",
     "output_type": "stream",
     "text": [
      "EPOCH: 05, LOSS: 2.473036e+00, TRAIN ACC.: 5.870794e+01, TEST ACC.: 5.968597e+01\n"
     ]
    },
    {
     "name": "stderr",
     "output_type": "stream",
     "text": [
      "100%|██████████| 2000/2000 [00:08<00:00, 246.15it/s]\n"
     ]
    },
    {
     "name": "stdout",
     "output_type": "stream",
     "text": [
      "EPOCH: 06, LOSS: 2.396708e+00, TRAIN ACC.: 6.006300e+01, TEST ACC.: 6.110611e+01\n"
     ]
    },
    {
     "name": "stderr",
     "output_type": "stream",
     "text": [
      "100%|██████████| 2000/2000 [00:04<00:00, 451.13it/s]\n"
     ]
    },
    {
     "name": "stdout",
     "output_type": "stream",
     "text": [
      "EPOCH: 07, LOSS: 2.338789e+00, TRAIN ACC.: 6.129807e+01, TEST ACC.: 5.976598e+01\n"
     ]
    },
    {
     "name": "stderr",
     "output_type": "stream",
     "text": [
      "100%|██████████| 2000/2000 [00:06<00:00, 291.50it/s]\n"
     ]
    },
    {
     "name": "stdout",
     "output_type": "stream",
     "text": [
      "EPOCH: 08, LOSS: 2.296813e+00, TRAIN ACC.: 6.214311e+01, TEST ACC.: 6.262626e+01\n"
     ]
    },
    {
     "name": "stderr",
     "output_type": "stream",
     "text": [
      "100%|██████████| 2000/2000 [00:07<00:00, 278.13it/s]\n"
     ]
    },
    {
     "name": "stdout",
     "output_type": "stream",
     "text": [
      "EPOCH: 09, LOSS: 2.289291e+00, TRAIN ACC.: 6.215311e+01, TEST ACC.: 6.223623e+01\n"
     ]
    },
    {
     "name": "stderr",
     "output_type": "stream",
     "text": [
      "100%|██████████| 2000/2000 [00:04<00:00, 464.93it/s] \n"
     ]
    },
    {
     "name": "stdout",
     "output_type": "stream",
     "text": [
      "EPOCH: 10, LOSS: 2.238587e+00, TRAIN ACC.: 6.336817e+01, TEST ACC.: 6.404640e+01\n"
     ]
    },
    {
     "name": "stderr",
     "output_type": "stream",
     "text": [
      "100%|██████████| 2000/2000 [00:06<00:00, 299.31it/s]\n"
     ]
    },
    {
     "name": "stdout",
     "output_type": "stream",
     "text": [
      "EPOCH: 11, LOSS: 2.223022e+00, TRAIN ACC.: 6.399320e+01, TEST ACC.: 6.473647e+01\n"
     ]
    },
    {
     "name": "stderr",
     "output_type": "stream",
     "text": [
      "100%|██████████| 2000/2000 [00:07<00:00, 281.18it/s]\n"
     ]
    },
    {
     "name": "stdout",
     "output_type": "stream",
     "text": [
      "EPOCH: 12, LOSS: 2.240633e+00, TRAIN ACC.: 6.308816e+01, TEST ACC.: 6.410641e+01\n"
     ]
    },
    {
     "name": "stderr",
     "output_type": "stream",
     "text": [
      "100%|██████████| 2000/2000 [00:06<00:00, 287.84it/s]\n"
     ]
    },
    {
     "name": "stdout",
     "output_type": "stream",
     "text": [
      "EPOCH: 13, LOSS: 2.166112e+00, TRAIN ACC.: 6.466324e+01, TEST ACC.: 6.322632e+01\n"
     ]
    },
    {
     "name": "stderr",
     "output_type": "stream",
     "text": [
      "100%|██████████| 2000/2000 [00:06<00:00, 289.50it/s]\n"
     ]
    },
    {
     "name": "stdout",
     "output_type": "stream",
     "text": [
      "EPOCH: 14, LOSS: 2.179866e+00, TRAIN ACC.: 6.437322e+01, TEST ACC.: 6.493649e+01\n"
     ]
    },
    {
     "name": "stderr",
     "output_type": "stream",
     "text": [
      "100%|██████████| 2000/2000 [00:08<00:00, 237.59it/s]\n"
     ]
    },
    {
     "name": "stdout",
     "output_type": "stream",
     "text": [
      "EPOCH: 15, LOSS: 2.135257e+00, TRAIN ACC.: 6.522327e+01, TEST ACC.: 6.586658e+01\n"
     ]
    },
    {
     "name": "stderr",
     "output_type": "stream",
     "text": [
      "100%|██████████| 2000/2000 [00:07<00:00, 283.62it/s]\n"
     ]
    },
    {
     "name": "stdout",
     "output_type": "stream",
     "text": [
      "EPOCH: 16, LOSS: 2.162694e+00, TRAIN ACC.: 6.474824e+01, TEST ACC.: 6.570657e+01\n"
     ]
    },
    {
     "name": "stderr",
     "output_type": "stream",
     "text": [
      "100%|██████████| 2000/2000 [00:04<00:00, 474.50it/s]\n"
     ]
    },
    {
     "name": "stdout",
     "output_type": "stream",
     "text": [
      "EPOCH: 17, LOSS: 2.124695e+00, TRAIN ACC.: 6.570829e+01, TEST ACC.: 6.690669e+01\n"
     ]
    },
    {
     "name": "stderr",
     "output_type": "stream",
     "text": [
      "100%|██████████| 2000/2000 [00:07<00:00, 285.63it/s]\n"
     ]
    },
    {
     "name": "stdout",
     "output_type": "stream",
     "text": [
      "EPOCH: 18, LOSS: 2.121140e+00, TRAIN ACC.: 6.591330e+01, TEST ACC.: 6.680668e+01\n"
     ]
    },
    {
     "name": "stderr",
     "output_type": "stream",
     "text": [
      "100%|██████████| 2000/2000 [00:06<00:00, 290.49it/s]\n"
     ]
    },
    {
     "name": "stdout",
     "output_type": "stream",
     "text": [
      "EPOCH: 19, LOSS: 2.123770e+00, TRAIN ACC.: 6.549328e+01, TEST ACC.: 6.560656e+01\n"
     ]
    },
    {
     "name": "stderr",
     "output_type": "stream",
     "text": [
      "100%|██████████| 2000/2000 [00:04<00:00, 447.10it/s]\n"
     ]
    },
    {
     "name": "stdout",
     "output_type": "stream",
     "text": [
      "EPOCH: 20, LOSS: 2.081003e+00, TRAIN ACC.: 6.618831e+01, TEST ACC.: 6.719672e+01\n"
     ]
    },
    {
     "name": "stderr",
     "output_type": "stream",
     "text": [
      "100%|██████████| 2000/2000 [00:06<00:00, 294.65it/s]\n"
     ]
    },
    {
     "name": "stdout",
     "output_type": "stream",
     "text": [
      "EPOCH: 21, LOSS: 2.069621e+00, TRAIN ACC.: 6.598830e+01, TEST ACC.: 6.814681e+01\n"
     ]
    },
    {
     "name": "stderr",
     "output_type": "stream",
     "text": [
      "100%|██████████| 2000/2000 [00:06<00:00, 294.29it/s]\n"
     ]
    },
    {
     "name": "stdout",
     "output_type": "stream",
     "text": [
      "EPOCH: 22, LOSS: 2.093637e+00, TRAIN ACC.: 6.636832e+01, TEST ACC.: 6.538654e+01\n"
     ]
    },
    {
     "name": "stderr",
     "output_type": "stream",
     "text": [
      "100%|██████████| 2000/2000 [00:06<00:00, 289.95it/s]\n"
     ]
    },
    {
     "name": "stdout",
     "output_type": "stream",
     "text": [
      "EPOCH: 23, LOSS: 2.084944e+00, TRAIN ACC.: 6.638332e+01, TEST ACC.: 6.505650e+01\n"
     ]
    },
    {
     "name": "stderr",
     "output_type": "stream",
     "text": [
      "100%|██████████| 2000/2000 [00:06<00:00, 288.98it/s]\n"
     ]
    },
    {
     "name": "stdout",
     "output_type": "stream",
     "text": [
      "EPOCH: 24, LOSS: 2.067304e+00, TRAIN ACC.: 6.658333e+01, TEST ACC.: 6.696670e+01\n"
     ]
    },
    {
     "name": "stderr",
     "output_type": "stream",
     "text": [
      "100%|██████████| 2000/2000 [00:06<00:00, 291.50it/s]\n"
     ]
    },
    {
     "name": "stdout",
     "output_type": "stream",
     "text": [
      "EPOCH: 25, LOSS: 2.045131e+00, TRAIN ACC.: 6.727837e+01, TEST ACC.: 6.539654e+01\n"
     ]
    },
    {
     "name": "stderr",
     "output_type": "stream",
     "text": [
      "100%|██████████| 2000/2000 [00:06<00:00, 290.09it/s]\n"
     ]
    },
    {
     "name": "stdout",
     "output_type": "stream",
     "text": [
      "EPOCH: 26, LOSS: 2.034819e+00, TRAIN ACC.: 6.727837e+01, TEST ACC.: 6.732674e+01\n"
     ]
    },
    {
     "name": "stderr",
     "output_type": "stream",
     "text": [
      "100%|██████████| 2000/2000 [00:04<00:00, 474.10it/s] \n"
     ]
    },
    {
     "name": "stdout",
     "output_type": "stream",
     "text": [
      "EPOCH: 27, LOSS: 2.050032e+00, TRAIN ACC.: 6.699835e+01, TEST ACC.: 6.764677e+01\n"
     ]
    },
    {
     "name": "stderr",
     "output_type": "stream",
     "text": [
      "100%|██████████| 2000/2000 [00:06<00:00, 285.87it/s]\n"
     ]
    },
    {
     "name": "stdout",
     "output_type": "stream",
     "text": [
      "EPOCH: 28, LOSS: 2.049304e+00, TRAIN ACC.: 6.664833e+01, TEST ACC.: 6.703671e+01\n"
     ]
    },
    {
     "name": "stderr",
     "output_type": "stream",
     "text": [
      "100%|██████████| 2000/2000 [00:06<00:00, 296.07it/s]\n"
     ]
    },
    {
     "name": "stdout",
     "output_type": "stream",
     "text": [
      "EPOCH: 29, LOSS: 1.995494e+00, TRAIN ACC.: 6.774839e+01, TEST ACC.: 6.675668e+01\n"
     ]
    },
    {
     "name": "stderr",
     "output_type": "stream",
     "text": [
      "100%|██████████| 2000/2000 [00:06<00:00, 291.87it/s]\n"
     ]
    },
    {
     "name": "stdout",
     "output_type": "stream",
     "text": [
      "EPOCH: 30, LOSS: 2.021613e+00, TRAIN ACC.: 6.705335e+01, TEST ACC.: 6.782678e+01\n"
     ]
    },
    {
     "name": "stderr",
     "output_type": "stream",
     "text": [
      "100%|██████████| 2000/2000 [00:06<00:00, 296.05it/s]\n"
     ]
    },
    {
     "name": "stdout",
     "output_type": "stream",
     "text": [
      "EPOCH: 31, LOSS: 2.018721e+00, TRAIN ACC.: 6.696335e+01, TEST ACC.: 6.793680e+01\n"
     ]
    },
    {
     "name": "stderr",
     "output_type": "stream",
     "text": [
      "100%|██████████| 2000/2000 [00:06<00:00, 299.57it/s]\n"
     ]
    },
    {
     "name": "stdout",
     "output_type": "stream",
     "text": [
      "EPOCH: 32, LOSS: 1.994868e+00, TRAIN ACC.: 6.782839e+01, TEST ACC.: 6.695670e+01\n"
     ]
    },
    {
     "name": "stderr",
     "output_type": "stream",
     "text": [
      "100%|██████████| 2000/2000 [00:06<00:00, 295.81it/s]\n"
     ]
    },
    {
     "name": "stdout",
     "output_type": "stream",
     "text": [
      "EPOCH: 33, LOSS: 2.021053e+00, TRAIN ACC.: 6.717836e+01, TEST ACC.: 6.917692e+01\n"
     ]
    },
    {
     "name": "stderr",
     "output_type": "stream",
     "text": [
      "100%|██████████| 2000/2000 [00:04<00:00, 472.75it/s]\n"
     ]
    },
    {
     "name": "stdout",
     "output_type": "stream",
     "text": [
      "EPOCH: 34, LOSS: 1.999326e+00, TRAIN ACC.: 6.775339e+01, TEST ACC.: 6.825683e+01\n"
     ]
    },
    {
     "name": "stderr",
     "output_type": "stream",
     "text": [
      "100%|██████████| 2000/2000 [00:06<00:00, 288.47it/s]\n"
     ]
    },
    {
     "name": "stdout",
     "output_type": "stream",
     "text": [
      "EPOCH: 35, LOSS: 1.992712e+00, TRAIN ACC.: 6.790340e+01, TEST ACC.: 6.775677e+01\n"
     ]
    },
    {
     "name": "stderr",
     "output_type": "stream",
     "text": [
      "100%|██████████| 2000/2000 [00:07<00:00, 283.94it/s]\n"
     ]
    },
    {
     "name": "stdout",
     "output_type": "stream",
     "text": [
      "EPOCH: 36, LOSS: 2.010442e+00, TRAIN ACC.: 6.732337e+01, TEST ACC.: 6.685669e+01\n"
     ]
    },
    {
     "name": "stderr",
     "output_type": "stream",
     "text": [
      "100%|██████████| 2000/2000 [00:06<00:00, 288.87it/s]\n"
     ]
    },
    {
     "name": "stdout",
     "output_type": "stream",
     "text": [
      "EPOCH: 37, LOSS: 1.977300e+00, TRAIN ACC.: 6.845843e+01, TEST ACC.: 6.868687e+01\n"
     ]
    },
    {
     "name": "stderr",
     "output_type": "stream",
     "text": [
      "100%|██████████| 2000/2000 [00:06<00:00, 306.23it/s]\n"
     ]
    },
    {
     "name": "stdout",
     "output_type": "stream",
     "text": [
      "EPOCH: 38, LOSS: 2.009480e+00, TRAIN ACC.: 6.743838e+01, TEST ACC.: 6.768677e+01\n"
     ]
    },
    {
     "name": "stderr",
     "output_type": "stream",
     "text": [
      "100%|██████████| 2000/2000 [00:06<00:00, 295.76it/s]\n"
     ]
    },
    {
     "name": "stdout",
     "output_type": "stream",
     "text": [
      "EPOCH: 39, LOSS: 1.968720e+00, TRAIN ACC.: 6.821841e+01, TEST ACC.: 6.932693e+01\n"
     ]
    },
    {
     "name": "stderr",
     "output_type": "stream",
     "text": [
      "100%|██████████| 2000/2000 [00:06<00:00, 293.16it/s]\n"
     ]
    },
    {
     "name": "stdout",
     "output_type": "stream",
     "text": [
      "EPOCH: 40, LOSS: 1.992560e+00, TRAIN ACC.: 6.817341e+01, TEST ACC.: 6.867686e+01\n"
     ]
    },
    {
     "name": "stderr",
     "output_type": "stream",
     "text": [
      "100%|██████████| 2000/2000 [00:04<00:00, 450.13it/s]\n"
     ]
    },
    {
     "name": "stdout",
     "output_type": "stream",
     "text": [
      "EPOCH: 41, LOSS: 1.967515e+00, TRAIN ACC.: 6.817841e+01, TEST ACC.: 6.896690e+01\n"
     ]
    },
    {
     "name": "stderr",
     "output_type": "stream",
     "text": [
      "100%|██████████| 2000/2000 [00:06<00:00, 299.93it/s]\n"
     ]
    },
    {
     "name": "stdout",
     "output_type": "stream",
     "text": [
      "EPOCH: 42, LOSS: 1.975600e+00, TRAIN ACC.: 6.806341e+01, TEST ACC.: 6.764677e+01\n"
     ]
    },
    {
     "name": "stderr",
     "output_type": "stream",
     "text": [
      "100%|██████████| 2000/2000 [00:06<00:00, 300.45it/s]\n"
     ]
    },
    {
     "name": "stdout",
     "output_type": "stream",
     "text": [
      "EPOCH: 43, LOSS: 1.987033e+00, TRAIN ACC.: 6.765839e+01, TEST ACC.: 6.795679e+01\n"
     ]
    },
    {
     "name": "stderr",
     "output_type": "stream",
     "text": [
      "100%|██████████| 2000/2000 [00:06<00:00, 295.21it/s]\n"
     ]
    },
    {
     "name": "stdout",
     "output_type": "stream",
     "text": [
      "EPOCH: 44, LOSS: 1.985087e+00, TRAIN ACC.: 6.786839e+01, TEST ACC.: 6.854685e+01\n"
     ]
    },
    {
     "name": "stderr",
     "output_type": "stream",
     "text": [
      "100%|██████████| 2000/2000 [00:04<00:00, 456.78it/s]\n"
     ]
    },
    {
     "name": "stdout",
     "output_type": "stream",
     "text": [
      "EPOCH: 45, LOSS: 1.992003e+00, TRAIN ACC.: 6.793340e+01, TEST ACC.: 6.786679e+01\n"
     ]
    },
    {
     "name": "stderr",
     "output_type": "stream",
     "text": [
      "100%|██████████| 2000/2000 [00:06<00:00, 291.50it/s]\n"
     ]
    },
    {
     "name": "stdout",
     "output_type": "stream",
     "text": [
      "EPOCH: 46, LOSS: 1.972747e+00, TRAIN ACC.: 6.832342e+01, TEST ACC.: 6.880688e+01\n"
     ]
    },
    {
     "name": "stderr",
     "output_type": "stream",
     "text": [
      "100%|██████████| 2000/2000 [00:06<00:00, 297.39it/s]\n"
     ]
    },
    {
     "name": "stdout",
     "output_type": "stream",
     "text": [
      "EPOCH: 47, LOSS: 1.966462e+00, TRAIN ACC.: 6.833842e+01, TEST ACC.: 6.908691e+01\n"
     ]
    },
    {
     "name": "stderr",
     "output_type": "stream",
     "text": [
      "100%|██████████| 2000/2000 [00:04<00:00, 469.89it/s]\n"
     ]
    },
    {
     "name": "stdout",
     "output_type": "stream",
     "text": [
      "EPOCH: 48, LOSS: 1.946988e+00, TRAIN ACC.: 6.863844e+01, TEST ACC.: 6.925693e+01\n"
     ]
    },
    {
     "name": "stderr",
     "output_type": "stream",
     "text": [
      "100%|██████████| 2000/2000 [00:06<00:00, 287.27it/s]\n"
     ]
    },
    {
     "name": "stdout",
     "output_type": "stream",
     "text": [
      "EPOCH: 49, LOSS: 1.957196e+00, TRAIN ACC.: 6.859843e+01, TEST ACC.: 6.957696e+01\n"
     ]
    },
    {
     "name": "stderr",
     "output_type": "stream",
     "text": [
      "100%|██████████| 2000/2000 [00:07<00:00, 279.42it/s]\n"
     ]
    },
    {
     "name": "stdout",
     "output_type": "stream",
     "text": [
      "EPOCH: 50, LOSS: 1.951618e+00, TRAIN ACC.: 6.902345e+01, TEST ACC.: 6.887689e+01\n"
     ]
    },
    {
     "name": "stderr",
     "output_type": "stream",
     "text": [
      "100%|██████████| 2000/2000 [00:06<00:00, 289.00it/s]\n"
     ]
    },
    {
     "name": "stdout",
     "output_type": "stream",
     "text": [
      "EPOCH: 51, LOSS: 1.969029e+00, TRAIN ACC.: 6.878844e+01, TEST ACC.: 6.896690e+01\n"
     ]
    },
    {
     "name": "stderr",
     "output_type": "stream",
     "text": [
      "100%|██████████| 2000/2000 [00:06<00:00, 296.20it/s]\n"
     ]
    },
    {
     "name": "stdout",
     "output_type": "stream",
     "text": [
      "EPOCH: 52, LOSS: 1.947947e+00, TRAIN ACC.: 6.890345e+01, TEST ACC.: 6.883688e+01\n"
     ]
    },
    {
     "name": "stderr",
     "output_type": "stream",
     "text": [
      "100%|██████████| 2000/2000 [00:07<00:00, 283.39it/s]\n"
     ]
    },
    {
     "name": "stdout",
     "output_type": "stream",
     "text": [
      "EPOCH: 53, LOSS: 1.946429e+00, TRAIN ACC.: 6.883344e+01, TEST ACC.: 6.870687e+01\n"
     ]
    },
    {
     "name": "stderr",
     "output_type": "stream",
     "text": [
      "100%|██████████| 2000/2000 [00:06<00:00, 286.19it/s]\n"
     ]
    },
    {
     "name": "stdout",
     "output_type": "stream",
     "text": [
      "EPOCH: 54, LOSS: 1.975517e+00, TRAIN ACC.: 6.806341e+01, TEST ACC.: 6.720672e+01\n"
     ]
    },
    {
     "name": "stderr",
     "output_type": "stream",
     "text": [
      "100%|██████████| 2000/2000 [00:04<00:00, 433.41it/s] \n"
     ]
    },
    {
     "name": "stdout",
     "output_type": "stream",
     "text": [
      "EPOCH: 55, LOSS: 1.975668e+00, TRAIN ACC.: 6.823841e+01, TEST ACC.: 6.870687e+01\n"
     ]
    },
    {
     "name": "stderr",
     "output_type": "stream",
     "text": [
      "100%|██████████| 2000/2000 [00:07<00:00, 280.06it/s]\n"
     ]
    },
    {
     "name": "stdout",
     "output_type": "stream",
     "text": [
      "EPOCH: 56, LOSS: 1.948859e+00, TRAIN ACC.: 6.863844e+01, TEST ACC.: 6.970697e+01\n"
     ]
    },
    {
     "name": "stderr",
     "output_type": "stream",
     "text": [
      "100%|██████████| 2000/2000 [00:07<00:00, 278.44it/s]\n"
     ]
    },
    {
     "name": "stdout",
     "output_type": "stream",
     "text": [
      "EPOCH: 57, LOSS: 1.937436e+00, TRAIN ACC.: 6.897345e+01, TEST ACC.: 6.977698e+01\n"
     ]
    },
    {
     "name": "stderr",
     "output_type": "stream",
     "text": [
      "100%|██████████| 2000/2000 [00:04<00:00, 454.11it/s]\n"
     ]
    },
    {
     "name": "stdout",
     "output_type": "stream",
     "text": [
      "EPOCH: 58, LOSS: 1.955612e+00, TRAIN ACC.: 6.824841e+01, TEST ACC.: 6.872688e+01\n"
     ]
    },
    {
     "name": "stderr",
     "output_type": "stream",
     "text": [
      "100%|██████████| 2000/2000 [00:06<00:00, 291.11it/s]\n"
     ]
    },
    {
     "name": "stdout",
     "output_type": "stream",
     "text": [
      "EPOCH: 59, LOSS: 1.961122e+00, TRAIN ACC.: 6.887344e+01, TEST ACC.: 6.990699e+01\n"
     ]
    },
    {
     "name": "stderr",
     "output_type": "stream",
     "text": [
      "100%|██████████| 2000/2000 [00:06<00:00, 290.29it/s]\n"
     ]
    },
    {
     "name": "stdout",
     "output_type": "stream",
     "text": [
      "EPOCH: 60, LOSS: 1.935714e+00, TRAIN ACC.: 6.893845e+01, TEST ACC.: 6.931693e+01\n"
     ]
    },
    {
     "name": "stderr",
     "output_type": "stream",
     "text": [
      "100%|██████████| 2000/2000 [00:07<00:00, 283.32it/s]\n"
     ]
    },
    {
     "name": "stdout",
     "output_type": "stream",
     "text": [
      "EPOCH: 61, LOSS: 1.942969e+00, TRAIN ACC.: 6.870844e+01, TEST ACC.: 6.840685e+01\n"
     ]
    },
    {
     "name": "stderr",
     "output_type": "stream",
     "text": [
      "100%|██████████| 2000/2000 [00:04<00:00, 463.61it/s]\n"
     ]
    },
    {
     "name": "stdout",
     "output_type": "stream",
     "text": [
      "EPOCH: 62, LOSS: 1.955987e+00, TRAIN ACC.: 6.836842e+01, TEST ACC.: 6.838684e+01\n"
     ]
    },
    {
     "name": "stderr",
     "output_type": "stream",
     "text": [
      "100%|██████████| 2000/2000 [00:06<00:00, 286.62it/s]\n"
     ]
    },
    {
     "name": "stdout",
     "output_type": "stream",
     "text": [
      "EPOCH: 63, LOSS: 1.928559e+00, TRAIN ACC.: 6.893845e+01, TEST ACC.: 6.781678e+01\n"
     ]
    },
    {
     "name": "stderr",
     "output_type": "stream",
     "text": [
      "100%|██████████| 2000/2000 [00:07<00:00, 282.71it/s]\n"
     ]
    },
    {
     "name": "stdout",
     "output_type": "stream",
     "text": [
      "EPOCH: 64, LOSS: 1.944072e+00, TRAIN ACC.: 6.918846e+01, TEST ACC.: 6.960696e+01\n"
     ]
    },
    {
     "name": "stderr",
     "output_type": "stream",
     "text": [
      "100%|██████████| 2000/2000 [00:04<00:00, 459.66it/s]\n"
     ]
    },
    {
     "name": "stdout",
     "output_type": "stream",
     "text": [
      "EPOCH: 65, LOSS: 1.932038e+00, TRAIN ACC.: 6.920346e+01, TEST ACC.: 6.917692e+01\n"
     ]
    },
    {
     "name": "stderr",
     "output_type": "stream",
     "text": [
      "100%|██████████| 2000/2000 [00:06<00:00, 295.45it/s]\n"
     ]
    },
    {
     "name": "stdout",
     "output_type": "stream",
     "text": [
      "EPOCH: 66, LOSS: 1.910634e+00, TRAIN ACC.: 6.940347e+01, TEST ACC.: 6.821682e+01\n"
     ]
    },
    {
     "name": "stderr",
     "output_type": "stream",
     "text": [
      "100%|██████████| 2000/2000 [00:06<00:00, 296.62it/s]\n"
     ]
    },
    {
     "name": "stdout",
     "output_type": "stream",
     "text": [
      "EPOCH: 67, LOSS: 1.943229e+00, TRAIN ACC.: 6.887344e+01, TEST ACC.: 6.879688e+01\n"
     ]
    },
    {
     "name": "stderr",
     "output_type": "stream",
     "text": [
      "100%|██████████| 2000/2000 [00:06<00:00, 289.57it/s]\n"
     ]
    },
    {
     "name": "stdout",
     "output_type": "stream",
     "text": [
      "EPOCH: 68, LOSS: 1.969534e+00, TRAIN ACC.: 6.858344e+01, TEST ACC.: 6.913692e+01\n"
     ]
    },
    {
     "name": "stderr",
     "output_type": "stream",
     "text": [
      "100%|██████████| 2000/2000 [00:04<00:00, 435.73it/s]\n"
     ]
    },
    {
     "name": "stdout",
     "output_type": "stream",
     "text": [
      "EPOCH: 69, LOSS: 1.930322e+00, TRAIN ACC.: 6.906345e+01, TEST ACC.: 6.908691e+01\n"
     ]
    },
    {
     "name": "stderr",
     "output_type": "stream",
     "text": [
      "100%|██████████| 2000/2000 [00:06<00:00, 289.48it/s]\n"
     ]
    },
    {
     "name": "stdout",
     "output_type": "stream",
     "text": [
      "EPOCH: 70, LOSS: 1.918973e+00, TRAIN ACC.: 6.935347e+01, TEST ACC.: 6.925693e+01\n"
     ]
    },
    {
     "name": "stderr",
     "output_type": "stream",
     "text": [
      "100%|██████████| 2000/2000 [00:06<00:00, 287.37it/s]\n"
     ]
    },
    {
     "name": "stdout",
     "output_type": "stream",
     "text": [
      "EPOCH: 71, LOSS: 1.921918e+00, TRAIN ACC.: 6.903845e+01, TEST ACC.: 6.813682e+01\n"
     ]
    },
    {
     "name": "stderr",
     "output_type": "stream",
     "text": [
      "100%|██████████| 2000/2000 [00:04<00:00, 447.26it/s] \n"
     ]
    },
    {
     "name": "stdout",
     "output_type": "stream",
     "text": [
      "EPOCH: 72, LOSS: 1.910925e+00, TRAIN ACC.: 6.901345e+01, TEST ACC.: 6.905691e+01\n"
     ]
    },
    {
     "name": "stderr",
     "output_type": "stream",
     "text": [
      "100%|██████████| 2000/2000 [00:06<00:00, 294.71it/s]\n"
     ]
    },
    {
     "name": "stdout",
     "output_type": "stream",
     "text": [
      "EPOCH: 73, LOSS: 1.906155e+00, TRAIN ACC.: 6.907845e+01, TEST ACC.: 6.874687e+01\n"
     ]
    },
    {
     "name": "stderr",
     "output_type": "stream",
     "text": [
      "100%|██████████| 2000/2000 [00:06<00:00, 293.28it/s]\n"
     ]
    },
    {
     "name": "stdout",
     "output_type": "stream",
     "text": [
      "EPOCH: 74, LOSS: 1.889372e+00, TRAIN ACC.: 6.992350e+01, TEST ACC.: 6.851685e+01\n"
     ]
    },
    {
     "name": "stderr",
     "output_type": "stream",
     "text": [
      "100%|██████████| 2000/2000 [00:06<00:00, 300.62it/s]\n"
     ]
    },
    {
     "name": "stdout",
     "output_type": "stream",
     "text": [
      "EPOCH: 75, LOSS: 1.932937e+00, TRAIN ACC.: 6.910345e+01, TEST ACC.: 7.052705e+01\n"
     ]
    },
    {
     "name": "stderr",
     "output_type": "stream",
     "text": [
      "100%|██████████| 2000/2000 [00:04<00:00, 479.53it/s]\n"
     ]
    },
    {
     "name": "stdout",
     "output_type": "stream",
     "text": [
      "EPOCH: 76, LOSS: 1.957912e+00, TRAIN ACC.: 6.892345e+01, TEST ACC.: 6.900690e+01\n"
     ]
    },
    {
     "name": "stderr",
     "output_type": "stream",
     "text": [
      "100%|██████████| 2000/2000 [00:06<00:00, 292.43it/s]\n"
     ]
    },
    {
     "name": "stdout",
     "output_type": "stream",
     "text": [
      "EPOCH: 77, LOSS: 1.908850e+00, TRAIN ACC.: 6.977849e+01, TEST ACC.: 6.955695e+01\n"
     ]
    },
    {
     "name": "stderr",
     "output_type": "stream",
     "text": [
      "100%|██████████| 2000/2000 [00:06<00:00, 303.63it/s]\n"
     ]
    },
    {
     "name": "stdout",
     "output_type": "stream",
     "text": [
      "EPOCH: 78, LOSS: 1.916107e+00, TRAIN ACC.: 6.868844e+01, TEST ACC.: 6.987699e+01\n"
     ]
    },
    {
     "name": "stderr",
     "output_type": "stream",
     "text": [
      "100%|██████████| 2000/2000 [00:04<00:00, 491.48it/s]\n"
     ]
    },
    {
     "name": "stdout",
     "output_type": "stream",
     "text": [
      "EPOCH: 79, LOSS: 1.934924e+00, TRAIN ACC.: 6.879344e+01, TEST ACC.: 7.005701e+01\n"
     ]
    },
    {
     "name": "stderr",
     "output_type": "stream",
     "text": [
      "100%|██████████| 2000/2000 [00:06<00:00, 299.30it/s]\n"
     ]
    },
    {
     "name": "stdout",
     "output_type": "stream",
     "text": [
      "EPOCH: 80, LOSS: 1.887115e+00, TRAIN ACC.: 6.988850e+01, TEST ACC.: 7.083708e+01\n"
     ]
    },
    {
     "name": "stderr",
     "output_type": "stream",
     "text": [
      "100%|██████████| 2000/2000 [00:06<00:00, 311.34it/s]\n"
     ]
    },
    {
     "name": "stdout",
     "output_type": "stream",
     "text": [
      "EPOCH: 81, LOSS: 1.952427e+00, TRAIN ACC.: 6.884844e+01, TEST ACC.: 6.907691e+01\n"
     ]
    },
    {
     "name": "stderr",
     "output_type": "stream",
     "text": [
      "100%|██████████| 2000/2000 [00:06<00:00, 302.56it/s]\n"
     ]
    },
    {
     "name": "stdout",
     "output_type": "stream",
     "text": [
      "EPOCH: 82, LOSS: 1.923727e+00, TRAIN ACC.: 6.863844e+01, TEST ACC.: 7.028703e+01\n"
     ]
    },
    {
     "name": "stderr",
     "output_type": "stream",
     "text": [
      "100%|██████████| 2000/2000 [00:04<00:00, 491.79it/s] \n"
     ]
    },
    {
     "name": "stdout",
     "output_type": "stream",
     "text": [
      "EPOCH: 83, LOSS: 1.908174e+00, TRAIN ACC.: 6.978849e+01, TEST ACC.: 6.910691e+01\n"
     ]
    },
    {
     "name": "stderr",
     "output_type": "stream",
     "text": [
      "100%|██████████| 2000/2000 [00:06<00:00, 301.82it/s]\n"
     ]
    },
    {
     "name": "stdout",
     "output_type": "stream",
     "text": [
      "EPOCH: 84, LOSS: 1.942789e+00, TRAIN ACC.: 6.933847e+01, TEST ACC.: 7.158716e+01\n"
     ]
    },
    {
     "name": "stderr",
     "output_type": "stream",
     "text": [
      "100%|██████████| 2000/2000 [00:06<00:00, 292.78it/s]\n"
     ]
    },
    {
     "name": "stdout",
     "output_type": "stream",
     "text": [
      "EPOCH: 85, LOSS: 1.887432e+00, TRAIN ACC.: 6.969349e+01, TEST ACC.: 7.018702e+01\n"
     ]
    },
    {
     "name": "stderr",
     "output_type": "stream",
     "text": [
      "100%|██████████| 2000/2000 [00:06<00:00, 291.14it/s]\n"
     ]
    },
    {
     "name": "stdout",
     "output_type": "stream",
     "text": [
      "EPOCH: 86, LOSS: 1.916951e+00, TRAIN ACC.: 6.935847e+01, TEST ACC.: 6.823682e+01\n"
     ]
    },
    {
     "name": "stderr",
     "output_type": "stream",
     "text": [
      "100%|██████████| 2000/2000 [00:03<00:00, 513.82it/s]\n"
     ]
    },
    {
     "name": "stdout",
     "output_type": "stream",
     "text": [
      "EPOCH: 87, LOSS: 1.920022e+00, TRAIN ACC.: 6.895845e+01, TEST ACC.: 6.939694e+01\n"
     ]
    },
    {
     "name": "stderr",
     "output_type": "stream",
     "text": [
      "100%|██████████| 2000/2000 [00:06<00:00, 302.93it/s]\n"
     ]
    },
    {
     "name": "stdout",
     "output_type": "stream",
     "text": [
      "EPOCH: 88, LOSS: 1.936827e+00, TRAIN ACC.: 6.902345e+01, TEST ACC.: 6.946695e+01\n"
     ]
    },
    {
     "name": "stderr",
     "output_type": "stream",
     "text": [
      "100%|██████████| 2000/2000 [00:06<00:00, 307.32it/s]\n"
     ]
    },
    {
     "name": "stdout",
     "output_type": "stream",
     "text": [
      "EPOCH: 89, LOSS: 1.908921e+00, TRAIN ACC.: 6.934847e+01, TEST ACC.: 7.038704e+01\n"
     ]
    },
    {
     "name": "stderr",
     "output_type": "stream",
     "text": [
      "100%|██████████| 2000/2000 [00:04<00:00, 474.22it/s]\n"
     ]
    },
    {
     "name": "stdout",
     "output_type": "stream",
     "text": [
      "EPOCH: 90, LOSS: 1.893709e+00, TRAIN ACC.: 6.960349e+01, TEST ACC.: 6.986699e+01\n"
     ]
    },
    {
     "name": "stderr",
     "output_type": "stream",
     "text": [
      "100%|██████████| 2000/2000 [00:06<00:00, 302.64it/s]\n"
     ]
    },
    {
     "name": "stdout",
     "output_type": "stream",
     "text": [
      "EPOCH: 91, LOSS: 1.894374e+00, TRAIN ACC.: 6.997350e+01, TEST ACC.: 6.854685e+01\n"
     ]
    },
    {
     "name": "stderr",
     "output_type": "stream",
     "text": [
      "100%|██████████| 2000/2000 [00:06<00:00, 302.83it/s]\n"
     ]
    },
    {
     "name": "stdout",
     "output_type": "stream",
     "text": [
      "EPOCH: 92, LOSS: 1.897947e+00, TRAIN ACC.: 6.964349e+01, TEST ACC.: 7.047705e+01\n"
     ]
    },
    {
     "name": "stderr",
     "output_type": "stream",
     "text": [
      "100%|██████████| 2000/2000 [00:06<00:00, 305.58it/s]\n"
     ]
    },
    {
     "name": "stdout",
     "output_type": "stream",
     "text": [
      "EPOCH: 93, LOSS: 1.891326e+00, TRAIN ACC.: 6.981349e+01, TEST ACC.: 6.964697e+01\n"
     ]
    },
    {
     "name": "stderr",
     "output_type": "stream",
     "text": [
      "100%|██████████| 2000/2000 [00:03<00:00, 503.37it/s]\n"
     ]
    },
    {
     "name": "stdout",
     "output_type": "stream",
     "text": [
      "EPOCH: 94, LOSS: 1.872332e+00, TRAIN ACC.: 7.011851e+01, TEST ACC.: 7.004700e+01\n"
     ]
    },
    {
     "name": "stderr",
     "output_type": "stream",
     "text": [
      "100%|██████████| 2000/2000 [00:06<00:00, 315.60it/s]\n"
     ]
    },
    {
     "name": "stdout",
     "output_type": "stream",
     "text": [
      "EPOCH: 95, LOSS: 1.896299e+00, TRAIN ACC.: 6.986849e+01, TEST ACC.: 6.911691e+01\n"
     ]
    },
    {
     "name": "stderr",
     "output_type": "stream",
     "text": [
      "100%|██████████| 2000/2000 [00:06<00:00, 314.13it/s]\n"
     ]
    },
    {
     "name": "stdout",
     "output_type": "stream",
     "text": [
      "EPOCH: 96, LOSS: 1.915653e+00, TRAIN ACC.: 6.991850e+01, TEST ACC.: 6.979698e+01\n"
     ]
    },
    {
     "name": "stderr",
     "output_type": "stream",
     "text": [
      "100%|██████████| 2000/2000 [00:06<00:00, 309.09it/s]\n"
     ]
    },
    {
     "name": "stdout",
     "output_type": "stream",
     "text": [
      "EPOCH: 97, LOSS: 1.922571e+00, TRAIN ACC.: 6.964848e+01, TEST ACC.: 7.031703e+01\n"
     ]
    },
    {
     "name": "stderr",
     "output_type": "stream",
     "text": [
      "100%|██████████| 2000/2000 [00:03<00:00, 502.87it/s] \n"
     ]
    },
    {
     "name": "stdout",
     "output_type": "stream",
     "text": [
      "EPOCH: 98, LOSS: 1.889170e+00, TRAIN ACC.: 6.986349e+01, TEST ACC.: 7.043704e+01\n"
     ]
    },
    {
     "name": "stderr",
     "output_type": "stream",
     "text": [
      "100%|██████████| 2000/2000 [00:06<00:00, 314.13it/s]\n"
     ]
    },
    {
     "name": "stdout",
     "output_type": "stream",
     "text": [
      "EPOCH: 99, LOSS: 1.880429e+00, TRAIN ACC.: 6.975349e+01, TEST ACC.: 7.099710e+01\n"
     ]
    },
    {
     "name": "stderr",
     "output_type": "stream",
     "text": [
      "100%|██████████| 2000/2000 [00:06<00:00, 307.14it/s]\n"
     ]
    },
    {
     "name": "stdout",
     "output_type": "stream",
     "text": [
      "EPOCH: 100, LOSS: 1.909557e+00, TRAIN ACC.: 6.969849e+01, TEST ACC.: 7.007701e+01\n"
     ]
    },
    {
     "name": "stderr",
     "output_type": "stream",
     "text": [
      "100%|██████████| 2000/2000 [00:06<00:00, 303.95it/s]\n"
     ]
    },
    {
     "name": "stdout",
     "output_type": "stream",
     "text": [
      "EPOCH: 101, LOSS: 1.902065e+00, TRAIN ACC.: 6.923347e+01, TEST ACC.: 6.821682e+01\n"
     ]
    },
    {
     "name": "stderr",
     "output_type": "stream",
     "text": [
      "100%|██████████| 2000/2000 [00:03<00:00, 514.60it/s]\n"
     ]
    },
    {
     "name": "stdout",
     "output_type": "stream",
     "text": [
      "EPOCH: 102, LOSS: 1.927369e+00, TRAIN ACC.: 6.929346e+01, TEST ACC.: 7.076707e+01\n"
     ]
    },
    {
     "name": "stderr",
     "output_type": "stream",
     "text": [
      "100%|██████████| 2000/2000 [00:06<00:00, 310.17it/s]\n"
     ]
    },
    {
     "name": "stdout",
     "output_type": "stream",
     "text": [
      "EPOCH: 103, LOSS: 1.894454e+00, TRAIN ACC.: 6.986849e+01, TEST ACC.: 7.093710e+01\n"
     ]
    },
    {
     "name": "stderr",
     "output_type": "stream",
     "text": [
      "100%|██████████| 2000/2000 [00:06<00:00, 311.56it/s]\n"
     ]
    },
    {
     "name": "stdout",
     "output_type": "stream",
     "text": [
      "EPOCH: 104, LOSS: 1.872497e+00, TRAIN ACC.: 6.993350e+01, TEST ACC.: 7.101711e+01\n"
     ]
    },
    {
     "name": "stderr",
     "output_type": "stream",
     "text": [
      "100%|██████████| 2000/2000 [00:06<00:00, 305.26it/s]\n"
     ]
    },
    {
     "name": "stdout",
     "output_type": "stream",
     "text": [
      "EPOCH: 105, LOSS: 1.902919e+00, TRAIN ACC.: 6.965349e+01, TEST ACC.: 6.862686e+01\n"
     ]
    },
    {
     "name": "stderr",
     "output_type": "stream",
     "text": [
      "100%|██████████| 2000/2000 [00:06<00:00, 307.91it/s]\n"
     ]
    },
    {
     "name": "stdout",
     "output_type": "stream",
     "text": [
      "EPOCH: 106, LOSS: 1.899557e+00, TRAIN ACC.: 6.954848e+01, TEST ACC.: 6.917692e+01\n"
     ]
    },
    {
     "name": "stderr",
     "output_type": "stream",
     "text": [
      "100%|██████████| 2000/2000 [00:06<00:00, 306.51it/s]\n"
     ]
    },
    {
     "name": "stdout",
     "output_type": "stream",
     "text": [
      "EPOCH: 107, LOSS: 1.872091e+00, TRAIN ACC.: 7.028352e+01, TEST ACC.: 6.899690e+01\n"
     ]
    },
    {
     "name": "stderr",
     "output_type": "stream",
     "text": [
      "100%|██████████| 2000/2000 [00:06<00:00, 309.03it/s]\n"
     ]
    },
    {
     "name": "stdout",
     "output_type": "stream",
     "text": [
      "EPOCH: 108, LOSS: 1.850234e+00, TRAIN ACC.: 7.000850e+01, TEST ACC.: 6.961696e+01\n"
     ]
    },
    {
     "name": "stderr",
     "output_type": "stream",
     "text": [
      "100%|██████████| 2000/2000 [00:03<00:00, 507.26it/s]\n"
     ]
    },
    {
     "name": "stdout",
     "output_type": "stream",
     "text": [
      "EPOCH: 109, LOSS: 1.911176e+00, TRAIN ACC.: 6.940347e+01, TEST ACC.: 7.057706e+01\n"
     ]
    },
    {
     "name": "stderr",
     "output_type": "stream",
     "text": [
      "100%|██████████| 2000/2000 [00:06<00:00, 313.88it/s]\n"
     ]
    },
    {
     "name": "stdout",
     "output_type": "stream",
     "text": [
      "EPOCH: 110, LOSS: 1.890130e+00, TRAIN ACC.: 6.992350e+01, TEST ACC.: 7.070707e+01\n"
     ]
    },
    {
     "name": "stderr",
     "output_type": "stream",
     "text": [
      "100%|██████████| 2000/2000 [00:06<00:00, 313.33it/s]\n"
     ]
    },
    {
     "name": "stdout",
     "output_type": "stream",
     "text": [
      "EPOCH: 111, LOSS: 1.881470e+00, TRAIN ACC.: 6.959348e+01, TEST ACC.: 7.104710e+01\n"
     ]
    },
    {
     "name": "stderr",
     "output_type": "stream",
     "text": [
      "100%|██████████| 2000/2000 [00:06<00:00, 308.95it/s]\n"
     ]
    },
    {
     "name": "stdout",
     "output_type": "stream",
     "text": [
      "EPOCH: 112, LOSS: 1.896454e+00, TRAIN ACC.: 6.985349e+01, TEST ACC.: 6.934694e+01\n"
     ]
    },
    {
     "name": "stderr",
     "output_type": "stream",
     "text": [
      "100%|██████████| 2000/2000 [00:04<00:00, 486.53it/s] \n"
     ]
    },
    {
     "name": "stdout",
     "output_type": "stream",
     "text": [
      "EPOCH: 113, LOSS: 1.886047e+00, TRAIN ACC.: 6.988850e+01, TEST ACC.: 7.102710e+01\n"
     ]
    },
    {
     "name": "stderr",
     "output_type": "stream",
     "text": [
      "100%|██████████| 2000/2000 [00:06<00:00, 313.60it/s]\n"
     ]
    },
    {
     "name": "stdout",
     "output_type": "stream",
     "text": [
      "EPOCH: 114, LOSS: 1.876668e+00, TRAIN ACC.: 7.011351e+01, TEST ACC.: 7.039704e+01\n"
     ]
    },
    {
     "name": "stderr",
     "output_type": "stream",
     "text": [
      "100%|██████████| 2000/2000 [00:06<00:00, 300.00it/s]\n"
     ]
    },
    {
     "name": "stdout",
     "output_type": "stream",
     "text": [
      "EPOCH: 115, LOSS: 1.890454e+00, TRAIN ACC.: 6.981349e+01, TEST ACC.: 6.970697e+01\n"
     ]
    },
    {
     "name": "stderr",
     "output_type": "stream",
     "text": [
      "100%|██████████| 2000/2000 [00:06<00:00, 313.37it/s]\n"
     ]
    },
    {
     "name": "stdout",
     "output_type": "stream",
     "text": [
      "EPOCH: 116, LOSS: 1.884783e+00, TRAIN ACC.: 6.993350e+01, TEST ACC.: 7.006701e+01\n"
     ]
    },
    {
     "name": "stderr",
     "output_type": "stream",
     "text": [
      "100%|██████████| 2000/2000 [00:03<00:00, 512.64it/s] \n"
     ]
    },
    {
     "name": "stdout",
     "output_type": "stream",
     "text": [
      "EPOCH: 117, LOSS: 1.886579e+00, TRAIN ACC.: 7.004851e+01, TEST ACC.: 6.834683e+01\n"
     ]
    },
    {
     "name": "stderr",
     "output_type": "stream",
     "text": [
      "100%|██████████| 2000/2000 [00:06<00:00, 306.67it/s]\n"
     ]
    },
    {
     "name": "stdout",
     "output_type": "stream",
     "text": [
      "EPOCH: 118, LOSS: 1.857592e+00, TRAIN ACC.: 7.016851e+01, TEST ACC.: 7.139714e+01\n"
     ]
    },
    {
     "name": "stderr",
     "output_type": "stream",
     "text": [
      "100%|██████████| 2000/2000 [00:06<00:00, 314.09it/s]\n"
     ]
    },
    {
     "name": "stdout",
     "output_type": "stream",
     "text": [
      "EPOCH: 119, LOSS: 1.872056e+00, TRAIN ACC.: 7.030852e+01, TEST ACC.: 6.942694e+01\n"
     ]
    },
    {
     "name": "stderr",
     "output_type": "stream",
     "text": [
      "100%|██████████| 2000/2000 [00:06<00:00, 314.88it/s]\n"
     ]
    },
    {
     "name": "stdout",
     "output_type": "stream",
     "text": [
      "EPOCH: 120, LOSS: 1.860749e+00, TRAIN ACC.: 7.027852e+01, TEST ACC.: 7.037704e+01\n"
     ]
    },
    {
     "name": "stderr",
     "output_type": "stream",
     "text": [
      "100%|██████████| 2000/2000 [00:06<00:00, 312.30it/s]\n"
     ]
    },
    {
     "name": "stdout",
     "output_type": "stream",
     "text": [
      "EPOCH: 121, LOSS: 1.905653e+00, TRAIN ACC.: 6.967348e+01, TEST ACC.: 6.997700e+01\n"
     ]
    },
    {
     "name": "stderr",
     "output_type": "stream",
     "text": [
      "100%|██████████| 2000/2000 [00:06<00:00, 294.31it/s]\n"
     ]
    },
    {
     "name": "stdout",
     "output_type": "stream",
     "text": [
      "EPOCH: 122, LOSS: 1.860251e+00, TRAIN ACC.: 6.990350e+01, TEST ACC.: 7.007701e+01\n"
     ]
    },
    {
     "name": "stderr",
     "output_type": "stream",
     "text": [
      "100%|██████████| 2000/2000 [00:07<00:00, 269.34it/s]\n"
     ]
    },
    {
     "name": "stdout",
     "output_type": "stream",
     "text": [
      "EPOCH: 123, LOSS: 1.917401e+00, TRAIN ACC.: 6.960848e+01, TEST ACC.: 7.080708e+01\n"
     ]
    },
    {
     "name": "stderr",
     "output_type": "stream",
     "text": [
      "100%|██████████| 2000/2000 [00:03<00:00, 512.95it/s]\n"
     ]
    },
    {
     "name": "stdout",
     "output_type": "stream",
     "text": [
      "EPOCH: 124, LOSS: 1.838190e+00, TRAIN ACC.: 7.052853e+01, TEST ACC.: 6.999700e+01\n"
     ]
    },
    {
     "name": "stderr",
     "output_type": "stream",
     "text": [
      "100%|██████████| 2000/2000 [00:06<00:00, 312.66it/s]\n"
     ]
    },
    {
     "name": "stdout",
     "output_type": "stream",
     "text": [
      "EPOCH: 125, LOSS: 1.886389e+00, TRAIN ACC.: 7.006850e+01, TEST ACC.: 7.084708e+01\n"
     ]
    },
    {
     "name": "stderr",
     "output_type": "stream",
     "text": [
      "100%|██████████| 2000/2000 [00:06<00:00, 308.54it/s]\n"
     ]
    },
    {
     "name": "stdout",
     "output_type": "stream",
     "text": [
      "EPOCH: 126, LOSS: 1.866911e+00, TRAIN ACC.: 7.018851e+01, TEST ACC.: 7.113712e+01\n"
     ]
    },
    {
     "name": "stderr",
     "output_type": "stream",
     "text": [
      "100%|██████████| 2000/2000 [00:06<00:00, 306.82it/s]\n"
     ]
    },
    {
     "name": "stdout",
     "output_type": "stream",
     "text": [
      "EPOCH: 127, LOSS: 1.880023e+00, TRAIN ACC.: 7.005850e+01, TEST ACC.: 6.953696e+01\n"
     ]
    },
    {
     "name": "stderr",
     "output_type": "stream",
     "text": [
      "100%|██████████| 2000/2000 [00:03<00:00, 507.77it/s] \n"
     ]
    },
    {
     "name": "stdout",
     "output_type": "stream",
     "text": [
      "EPOCH: 128, LOSS: 1.878792e+00, TRAIN ACC.: 6.986349e+01, TEST ACC.: 6.897690e+01\n"
     ]
    },
    {
     "name": "stderr",
     "output_type": "stream",
     "text": [
      "100%|██████████| 2000/2000 [00:06<00:00, 315.25it/s]\n"
     ]
    },
    {
     "name": "stdout",
     "output_type": "stream",
     "text": [
      "EPOCH: 129, LOSS: 1.895813e+00, TRAIN ACC.: 6.975349e+01, TEST ACC.: 6.985699e+01\n"
     ]
    },
    {
     "name": "stderr",
     "output_type": "stream",
     "text": [
      "100%|██████████| 2000/2000 [00:06<00:00, 313.62it/s]\n"
     ]
    },
    {
     "name": "stdout",
     "output_type": "stream",
     "text": [
      "EPOCH: 130, LOSS: 1.894955e+00, TRAIN ACC.: 6.987350e+01, TEST ACC.: 7.033704e+01\n"
     ]
    },
    {
     "name": "stderr",
     "output_type": "stream",
     "text": [
      "100%|██████████| 2000/2000 [00:06<00:00, 308.56it/s]\n"
     ]
    },
    {
     "name": "stdout",
     "output_type": "stream",
     "text": [
      "EPOCH: 131, LOSS: 1.882817e+00, TRAIN ACC.: 7.001850e+01, TEST ACC.: 7.018702e+01\n"
     ]
    },
    {
     "name": "stderr",
     "output_type": "stream",
     "text": [
      "100%|██████████| 2000/2000 [00:04<00:00, 487.01it/s]\n"
     ]
    },
    {
     "name": "stdout",
     "output_type": "stream",
     "text": [
      "EPOCH: 132, LOSS: 1.869264e+00, TRAIN ACC.: 7.022351e+01, TEST ACC.: 7.012701e+01\n"
     ]
    },
    {
     "name": "stderr",
     "output_type": "stream",
     "text": [
      "100%|██████████| 2000/2000 [00:06<00:00, 309.56it/s]\n"
     ]
    },
    {
     "name": "stdout",
     "output_type": "stream",
     "text": [
      "EPOCH: 133, LOSS: 1.905335e+00, TRAIN ACC.: 6.975349e+01, TEST ACC.: 6.904691e+01\n"
     ]
    },
    {
     "name": "stderr",
     "output_type": "stream",
     "text": [
      "100%|██████████| 2000/2000 [00:06<00:00, 312.95it/s]\n"
     ]
    },
    {
     "name": "stdout",
     "output_type": "stream",
     "text": [
      "EPOCH: 134, LOSS: 1.861104e+00, TRAIN ACC.: 7.031852e+01, TEST ACC.: 7.017702e+01\n"
     ]
    },
    {
     "name": "stderr",
     "output_type": "stream",
     "text": [
      "100%|██████████| 2000/2000 [00:06<00:00, 314.62it/s]\n"
     ]
    },
    {
     "name": "stdout",
     "output_type": "stream",
     "text": [
      "EPOCH: 135, LOSS: 1.875295e+00, TRAIN ACC.: 7.056353e+01, TEST ACC.: 7.005701e+01\n"
     ]
    },
    {
     "name": "stderr",
     "output_type": "stream",
     "text": [
      "100%|██████████| 2000/2000 [00:06<00:00, 314.00it/s]\n"
     ]
    },
    {
     "name": "stdout",
     "output_type": "stream",
     "text": [
      "EPOCH: 136, LOSS: 1.882247e+00, TRAIN ACC.: 7.014851e+01, TEST ACC.: 7.008701e+01\n"
     ]
    },
    {
     "name": "stderr",
     "output_type": "stream",
     "text": [
      "100%|██████████| 2000/2000 [00:06<00:00, 314.50it/s]\n"
     ]
    },
    {
     "name": "stdout",
     "output_type": "stream",
     "text": [
      "EPOCH: 137, LOSS: 1.878231e+00, TRAIN ACC.: 7.045352e+01, TEST ACC.: 7.143714e+01\n"
     ]
    },
    {
     "name": "stderr",
     "output_type": "stream",
     "text": [
      "100%|██████████| 2000/2000 [00:06<00:00, 312.15it/s]\n"
     ]
    },
    {
     "name": "stdout",
     "output_type": "stream",
     "text": [
      "EPOCH: 138, LOSS: 1.874962e+00, TRAIN ACC.: 6.985850e+01, TEST ACC.: 7.054706e+01\n"
     ]
    },
    {
     "name": "stderr",
     "output_type": "stream",
     "text": [
      "100%|██████████| 2000/2000 [00:04<00:00, 407.86it/s]\n"
     ]
    },
    {
     "name": "stdout",
     "output_type": "stream",
     "text": [
      "EPOCH: 139, LOSS: 1.856330e+00, TRAIN ACC.: 7.040352e+01, TEST ACC.: 7.061707e+01\n"
     ]
    },
    {
     "name": "stderr",
     "output_type": "stream",
     "text": [
      "100%|██████████| 2000/2000 [00:06<00:00, 310.61it/s]\n"
     ]
    },
    {
     "name": "stdout",
     "output_type": "stream",
     "text": [
      "EPOCH: 140, LOSS: 1.850529e+00, TRAIN ACC.: 7.003851e+01, TEST ACC.: 7.096709e+01\n"
     ]
    },
    {
     "name": "stderr",
     "output_type": "stream",
     "text": [
      "100%|██████████| 2000/2000 [00:06<00:00, 311.91it/s]\n"
     ]
    },
    {
     "name": "stdout",
     "output_type": "stream",
     "text": [
      "EPOCH: 141, LOSS: 1.852651e+00, TRAIN ACC.: 7.029852e+01, TEST ACC.: 7.064706e+01\n"
     ]
    },
    {
     "name": "stderr",
     "output_type": "stream",
     "text": [
      "100%|██████████| 2000/2000 [00:06<00:00, 311.25it/s]\n"
     ]
    },
    {
     "name": "stdout",
     "output_type": "stream",
     "text": [
      "EPOCH: 142, LOSS: 1.893092e+00, TRAIN ACC.: 6.996350e+01, TEST ACC.: 7.078708e+01\n"
     ]
    },
    {
     "name": "stderr",
     "output_type": "stream",
     "text": [
      "100%|██████████| 2000/2000 [00:03<00:00, 526.93it/s] \n"
     ]
    },
    {
     "name": "stdout",
     "output_type": "stream",
     "text": [
      "EPOCH: 143, LOSS: 1.863766e+00, TRAIN ACC.: 7.023351e+01, TEST ACC.: 7.026703e+01\n"
     ]
    },
    {
     "name": "stderr",
     "output_type": "stream",
     "text": [
      "100%|██████████| 2000/2000 [00:06<00:00, 309.29it/s]\n"
     ]
    },
    {
     "name": "stdout",
     "output_type": "stream",
     "text": [
      "EPOCH: 144, LOSS: 1.893207e+00, TRAIN ACC.: 6.963348e+01, TEST ACC.: 7.077708e+01\n"
     ]
    },
    {
     "name": "stderr",
     "output_type": "stream",
     "text": [
      "100%|██████████| 2000/2000 [00:06<00:00, 309.92it/s]\n"
     ]
    },
    {
     "name": "stdout",
     "output_type": "stream",
     "text": [
      "EPOCH: 145, LOSS: 1.861371e+00, TRAIN ACC.: 6.995350e+01, TEST ACC.: 6.992699e+01\n"
     ]
    },
    {
     "name": "stderr",
     "output_type": "stream",
     "text": [
      "100%|██████████| 2000/2000 [00:06<00:00, 315.37it/s]\n"
     ]
    },
    {
     "name": "stdout",
     "output_type": "stream",
     "text": [
      "EPOCH: 146, LOSS: 1.896344e+00, TRAIN ACC.: 6.971349e+01, TEST ACC.: 6.988699e+01\n"
     ]
    },
    {
     "name": "stderr",
     "output_type": "stream",
     "text": [
      "100%|██████████| 2000/2000 [00:03<00:00, 530.57it/s]\n"
     ]
    },
    {
     "name": "stdout",
     "output_type": "stream",
     "text": [
      "EPOCH: 147, LOSS: 1.876553e+00, TRAIN ACC.: 6.998850e+01, TEST ACC.: 7.112711e+01\n"
     ]
    },
    {
     "name": "stderr",
     "output_type": "stream",
     "text": [
      "100%|██████████| 2000/2000 [00:06<00:00, 315.59it/s]\n"
     ]
    },
    {
     "name": "stdout",
     "output_type": "stream",
     "text": [
      "EPOCH: 148, LOSS: 1.895494e+00, TRAIN ACC.: 6.971349e+01, TEST ACC.: 6.875687e+01\n"
     ]
    },
    {
     "name": "stderr",
     "output_type": "stream",
     "text": [
      "100%|██████████| 2000/2000 [00:06<00:00, 306.15it/s]\n"
     ]
    },
    {
     "name": "stdout",
     "output_type": "stream",
     "text": [
      "EPOCH: 149, LOSS: 1.844329e+00, TRAIN ACC.: 7.079855e+01, TEST ACC.: 6.981699e+01\n"
     ]
    },
    {
     "name": "stderr",
     "output_type": "stream",
     "text": [
      "100%|██████████| 2000/2000 [00:06<00:00, 307.08it/s]\n"
     ]
    },
    {
     "name": "stdout",
     "output_type": "stream",
     "text": [
      "EPOCH: 150, LOSS: 1.883652e+00, TRAIN ACC.: 7.002850e+01, TEST ACC.: 6.989699e+01\n"
     ]
    },
    {
     "name": "stderr",
     "output_type": "stream",
     "text": [
      "100%|██████████| 2000/2000 [00:06<00:00, 315.24it/s]\n"
     ]
    },
    {
     "name": "stdout",
     "output_type": "stream",
     "text": [
      "EPOCH: 151, LOSS: 1.862275e+00, TRAIN ACC.: 7.011851e+01, TEST ACC.: 7.132713e+01\n"
     ]
    },
    {
     "name": "stderr",
     "output_type": "stream",
     "text": [
      "100%|██████████| 2000/2000 [00:06<00:00, 303.80it/s]\n"
     ]
    },
    {
     "name": "stdout",
     "output_type": "stream",
     "text": [
      "EPOCH: 152, LOSS: 1.896407e+00, TRAIN ACC.: 7.027351e+01, TEST ACC.: 7.070707e+01\n"
     ]
    },
    {
     "name": "stderr",
     "output_type": "stream",
     "text": [
      "100%|██████████| 2000/2000 [00:06<00:00, 306.58it/s]\n"
     ]
    },
    {
     "name": "stdout",
     "output_type": "stream",
     "text": [
      "EPOCH: 153, LOSS: 1.862929e+00, TRAIN ACC.: 7.032352e+01, TEST ACC.: 7.013702e+01\n"
     ]
    },
    {
     "name": "stderr",
     "output_type": "stream",
     "text": [
      "100%|██████████| 2000/2000 [00:03<00:00, 500.02it/s]\n"
     ]
    },
    {
     "name": "stdout",
     "output_type": "stream",
     "text": [
      "EPOCH: 154, LOSS: 1.835313e+00, TRAIN ACC.: 7.095355e+01, TEST ACC.: 6.967697e+01\n"
     ]
    },
    {
     "name": "stderr",
     "output_type": "stream",
     "text": [
      "100%|██████████| 2000/2000 [00:06<00:00, 297.49it/s]\n"
     ]
    },
    {
     "name": "stdout",
     "output_type": "stream",
     "text": [
      "EPOCH: 155, LOSS: 1.858329e+00, TRAIN ACC.: 7.064353e+01, TEST ACC.: 6.986699e+01\n"
     ]
    },
    {
     "name": "stderr",
     "output_type": "stream",
     "text": [
      "100%|██████████| 2000/2000 [00:06<00:00, 304.49it/s]\n"
     ]
    },
    {
     "name": "stdout",
     "output_type": "stream",
     "text": [
      "EPOCH: 156, LOSS: 1.902741e+00, TRAIN ACC.: 6.992850e+01, TEST ACC.: 7.137714e+01\n"
     ]
    },
    {
     "name": "stderr",
     "output_type": "stream",
     "text": [
      "100%|██████████| 2000/2000 [00:06<00:00, 310.45it/s]\n"
     ]
    },
    {
     "name": "stdout",
     "output_type": "stream",
     "text": [
      "EPOCH: 157, LOSS: 1.834418e+00, TRAIN ACC.: 7.051353e+01, TEST ACC.: 7.047705e+01\n"
     ]
    },
    {
     "name": "stderr",
     "output_type": "stream",
     "text": [
      "100%|██████████| 2000/2000 [00:03<00:00, 512.91it/s] \n"
     ]
    },
    {
     "name": "stdout",
     "output_type": "stream",
     "text": [
      "EPOCH: 158, LOSS: 1.857257e+00, TRAIN ACC.: 7.042352e+01, TEST ACC.: 7.077708e+01\n"
     ]
    },
    {
     "name": "stderr",
     "output_type": "stream",
     "text": [
      "100%|██████████| 2000/2000 [00:06<00:00, 296.87it/s]\n"
     ]
    },
    {
     "name": "stdout",
     "output_type": "stream",
     "text": [
      "EPOCH: 159, LOSS: 1.841957e+00, TRAIN ACC.: 7.057853e+01, TEST ACC.: 7.100710e+01\n"
     ]
    },
    {
     "name": "stderr",
     "output_type": "stream",
     "text": [
      "100%|██████████| 2000/2000 [00:06<00:00, 312.46it/s]\n"
     ]
    },
    {
     "name": "stdout",
     "output_type": "stream",
     "text": [
      "EPOCH: 160, LOSS: 1.880205e+00, TRAIN ACC.: 7.040852e+01, TEST ACC.: 7.050705e+01\n"
     ]
    },
    {
     "name": "stderr",
     "output_type": "stream",
     "text": [
      "100%|██████████| 2000/2000 [00:06<00:00, 313.03it/s]\n"
     ]
    },
    {
     "name": "stdout",
     "output_type": "stream",
     "text": [
      "EPOCH: 161, LOSS: 1.887461e+00, TRAIN ACC.: 6.963848e+01, TEST ACC.: 7.125713e+01\n"
     ]
    },
    {
     "name": "stderr",
     "output_type": "stream",
     "text": [
      "100%|██████████| 2000/2000 [00:03<00:00, 512.99it/s]\n"
     ]
    },
    {
     "name": "stdout",
     "output_type": "stream",
     "text": [
      "EPOCH: 162, LOSS: 1.898974e+00, TRAIN ACC.: 6.961348e+01, TEST ACC.: 7.091709e+01\n"
     ]
    },
    {
     "name": "stderr",
     "output_type": "stream",
     "text": [
      "100%|██████████| 2000/2000 [00:06<00:00, 307.75it/s]\n"
     ]
    },
    {
     "name": "stdout",
     "output_type": "stream",
     "text": [
      "EPOCH: 163, LOSS: 1.868571e+00, TRAIN ACC.: 7.016351e+01, TEST ACC.: 7.064706e+01\n"
     ]
    },
    {
     "name": "stderr",
     "output_type": "stream",
     "text": [
      "100%|██████████| 2000/2000 [00:06<00:00, 308.14it/s]\n"
     ]
    },
    {
     "name": "stdout",
     "output_type": "stream",
     "text": [
      "EPOCH: 164, LOSS: 1.876607e+00, TRAIN ACC.: 7.033352e+01, TEST ACC.: 7.029703e+01\n"
     ]
    },
    {
     "name": "stderr",
     "output_type": "stream",
     "text": [
      "100%|██████████| 2000/2000 [00:06<00:00, 311.84it/s]\n"
     ]
    },
    {
     "name": "stdout",
     "output_type": "stream",
     "text": [
      "EPOCH: 165, LOSS: 1.856353e+00, TRAIN ACC.: 7.024851e+01, TEST ACC.: 7.085709e+01\n"
     ]
    },
    {
     "name": "stderr",
     "output_type": "stream",
     "text": [
      "100%|██████████| 2000/2000 [00:06<00:00, 307.60it/s]\n"
     ]
    },
    {
     "name": "stdout",
     "output_type": "stream",
     "text": [
      "EPOCH: 166, LOSS: 1.853280e+00, TRAIN ACC.: 7.025352e+01, TEST ACC.: 7.097710e+01\n"
     ]
    },
    {
     "name": "stderr",
     "output_type": "stream",
     "text": [
      "100%|██████████| 2000/2000 [00:06<00:00, 312.66it/s]\n"
     ]
    },
    {
     "name": "stdout",
     "output_type": "stream",
     "text": [
      "EPOCH: 167, LOSS: 1.840852e+00, TRAIN ACC.: 7.041853e+01, TEST ACC.: 6.996700e+01\n"
     ]
    },
    {
     "name": "stderr",
     "output_type": "stream",
     "text": [
      "100%|██████████| 2000/2000 [00:06<00:00, 312.00it/s]\n"
     ]
    },
    {
     "name": "stdout",
     "output_type": "stream",
     "text": [
      "EPOCH: 168, LOSS: 1.869333e+00, TRAIN ACC.: 7.001350e+01, TEST ACC.: 7.008701e+01\n"
     ]
    },
    {
     "name": "stderr",
     "output_type": "stream",
     "text": [
      "100%|██████████| 2000/2000 [00:03<00:00, 512.11it/s]\n"
     ]
    },
    {
     "name": "stdout",
     "output_type": "stream",
     "text": [
      "EPOCH: 169, LOSS: 1.871291e+00, TRAIN ACC.: 6.989850e+01, TEST ACC.: 7.153716e+01\n"
     ]
    },
    {
     "name": "stderr",
     "output_type": "stream",
     "text": [
      "100%|██████████| 2000/2000 [00:06<00:00, 315.67it/s]\n"
     ]
    },
    {
     "name": "stdout",
     "output_type": "stream",
     "text": [
      "EPOCH: 170, LOSS: 1.867766e+00, TRAIN ACC.: 7.027351e+01, TEST ACC.: 7.167717e+01\n"
     ]
    },
    {
     "name": "stderr",
     "output_type": "stream",
     "text": [
      "100%|██████████| 2000/2000 [00:06<00:00, 315.47it/s]\n"
     ]
    },
    {
     "name": "stdout",
     "output_type": "stream",
     "text": [
      "EPOCH: 171, LOSS: 1.861734e+00, TRAIN ACC.: 7.042852e+01, TEST ACC.: 7.104710e+01\n"
     ]
    },
    {
     "name": "stderr",
     "output_type": "stream",
     "text": [
      "100%|██████████| 2000/2000 [00:06<00:00, 295.78it/s]\n"
     ]
    },
    {
     "name": "stdout",
     "output_type": "stream",
     "text": [
      "EPOCH: 172, LOSS: 1.833650e+00, TRAIN ACC.: 7.078854e+01, TEST ACC.: 7.031703e+01\n"
     ]
    },
    {
     "name": "stderr",
     "output_type": "stream",
     "text": [
      "100%|██████████| 2000/2000 [00:03<00:00, 502.72it/s] \n"
     ]
    },
    {
     "name": "stdout",
     "output_type": "stream",
     "text": [
      "EPOCH: 173, LOSS: 1.860253e+00, TRAIN ACC.: 7.049853e+01, TEST ACC.: 7.038704e+01\n"
     ]
    },
    {
     "name": "stderr",
     "output_type": "stream",
     "text": [
      "100%|██████████| 2000/2000 [00:06<00:00, 307.69it/s]\n"
     ]
    },
    {
     "name": "stdout",
     "output_type": "stream",
     "text": [
      "EPOCH: 174, LOSS: 1.831209e+00, TRAIN ACC.: 7.076354e+01, TEST ACC.: 7.046705e+01\n"
     ]
    },
    {
     "name": "stderr",
     "output_type": "stream",
     "text": [
      "100%|██████████| 2000/2000 [00:06<00:00, 313.72it/s]\n"
     ]
    },
    {
     "name": "stdout",
     "output_type": "stream",
     "text": [
      "EPOCH: 175, LOSS: 1.862046e+00, TRAIN ACC.: 7.072354e+01, TEST ACC.: 6.986699e+01\n"
     ]
    },
    {
     "name": "stderr",
     "output_type": "stream",
     "text": [
      "100%|██████████| 2000/2000 [00:06<00:00, 317.55it/s]\n"
     ]
    },
    {
     "name": "stdout",
     "output_type": "stream",
     "text": [
      "EPOCH: 176, LOSS: 1.842951e+00, TRAIN ACC.: 7.094355e+01, TEST ACC.: 7.044704e+01\n"
     ]
    },
    {
     "name": "stderr",
     "output_type": "stream",
     "text": [
      "100%|██████████| 2000/2000 [00:03<00:00, 526.55it/s] \n"
     ]
    },
    {
     "name": "stdout",
     "output_type": "stream",
     "text": [
      "EPOCH: 177, LOSS: 1.822396e+00, TRAIN ACC.: 7.103355e+01, TEST ACC.: 7.167717e+01\n"
     ]
    },
    {
     "name": "stderr",
     "output_type": "stream",
     "text": [
      "100%|██████████| 2000/2000 [00:06<00:00, 309.65it/s]\n"
     ]
    },
    {
     "name": "stdout",
     "output_type": "stream",
     "text": [
      "EPOCH: 178, LOSS: 1.859713e+00, TRAIN ACC.: 7.032352e+01, TEST ACC.: 7.074708e+01\n"
     ]
    },
    {
     "name": "stderr",
     "output_type": "stream",
     "text": [
      "100%|██████████| 2000/2000 [00:06<00:00, 315.47it/s]\n"
     ]
    },
    {
     "name": "stdout",
     "output_type": "stream",
     "text": [
      "EPOCH: 179, LOSS: 1.842820e+00, TRAIN ACC.: 7.064353e+01, TEST ACC.: 7.159716e+01\n"
     ]
    },
    {
     "name": "stderr",
     "output_type": "stream",
     "text": [
      "100%|██████████| 2000/2000 [00:06<00:00, 314.77it/s]\n"
     ]
    },
    {
     "name": "stdout",
     "output_type": "stream",
     "text": [
      "EPOCH: 180, LOSS: 1.861716e+00, TRAIN ACC.: 7.057853e+01, TEST ACC.: 7.062706e+01\n"
     ]
    },
    {
     "name": "stderr",
     "output_type": "stream",
     "text": [
      "100%|██████████| 2000/2000 [00:03<00:00, 528.49it/s]\n"
     ]
    },
    {
     "name": "stdout",
     "output_type": "stream",
     "text": [
      "EPOCH: 181, LOSS: 1.851583e+00, TRAIN ACC.: 7.028851e+01, TEST ACC.: 7.100710e+01\n"
     ]
    },
    {
     "name": "stderr",
     "output_type": "stream",
     "text": [
      "100%|██████████| 2000/2000 [00:06<00:00, 311.84it/s]\n"
     ]
    },
    {
     "name": "stdout",
     "output_type": "stream",
     "text": [
      "EPOCH: 182, LOSS: 1.858036e+00, TRAIN ACC.: 6.993350e+01, TEST ACC.: 7.080708e+01\n"
     ]
    },
    {
     "name": "stderr",
     "output_type": "stream",
     "text": [
      "100%|██████████| 2000/2000 [00:06<00:00, 307.29it/s]\n"
     ]
    },
    {
     "name": "stdout",
     "output_type": "stream",
     "text": [
      "EPOCH: 183, LOSS: 1.878807e+00, TRAIN ACC.: 7.028352e+01, TEST ACC.: 7.055705e+01\n"
     ]
    },
    {
     "name": "stderr",
     "output_type": "stream",
     "text": [
      "100%|██████████| 2000/2000 [00:06<00:00, 314.65it/s]\n"
     ]
    },
    {
     "name": "stdout",
     "output_type": "stream",
     "text": [
      "EPOCH: 184, LOSS: 1.844725e+00, TRAIN ACC.: 7.095355e+01, TEST ACC.: 7.051705e+01\n"
     ]
    },
    {
     "name": "stderr",
     "output_type": "stream",
     "text": [
      "100%|██████████| 2000/2000 [00:06<00:00, 308.24it/s]\n"
     ]
    },
    {
     "name": "stdout",
     "output_type": "stream",
     "text": [
      "EPOCH: 185, LOSS: 1.850199e+00, TRAIN ACC.: 7.028352e+01, TEST ACC.: 7.112711e+01\n"
     ]
    },
    {
     "name": "stderr",
     "output_type": "stream",
     "text": [
      "100%|██████████| 2000/2000 [00:06<00:00, 306.14it/s]\n"
     ]
    },
    {
     "name": "stdout",
     "output_type": "stream",
     "text": [
      "EPOCH: 186, LOSS: 1.860961e+00, TRAIN ACC.: 7.011351e+01, TEST ACC.: 6.885689e+01\n"
     ]
    },
    {
     "name": "stderr",
     "output_type": "stream",
     "text": [
      "100%|██████████| 2000/2000 [00:06<00:00, 310.17it/s]\n"
     ]
    },
    {
     "name": "stdout",
     "output_type": "stream",
     "text": [
      "EPOCH: 187, LOSS: 1.861206e+00, TRAIN ACC.: 7.078854e+01, TEST ACC.: 7.019702e+01\n"
     ]
    },
    {
     "name": "stderr",
     "output_type": "stream",
     "text": [
      "100%|██████████| 2000/2000 [00:04<00:00, 472.25it/s]\n"
     ]
    },
    {
     "name": "stdout",
     "output_type": "stream",
     "text": [
      "EPOCH: 188, LOSS: 1.862645e+00, TRAIN ACC.: 7.035852e+01, TEST ACC.: 7.004700e+01\n"
     ]
    },
    {
     "name": "stderr",
     "output_type": "stream",
     "text": [
      "100%|██████████| 2000/2000 [00:06<00:00, 312.32it/s]\n"
     ]
    },
    {
     "name": "stdout",
     "output_type": "stream",
     "text": [
      "EPOCH: 189, LOSS: 1.849222e+00, TRAIN ACC.: 7.013351e+01, TEST ACC.: 7.043704e+01\n"
     ]
    },
    {
     "name": "stderr",
     "output_type": "stream",
     "text": [
      "100%|██████████| 2000/2000 [00:06<00:00, 308.41it/s]\n"
     ]
    },
    {
     "name": "stdout",
     "output_type": "stream",
     "text": [
      "EPOCH: 190, LOSS: 1.863942e+00, TRAIN ACC.: 7.015851e+01, TEST ACC.: 7.160716e+01\n"
     ]
    },
    {
     "name": "stderr",
     "output_type": "stream",
     "text": [
      "100%|██████████| 2000/2000 [00:06<00:00, 304.46it/s]\n"
     ]
    },
    {
     "name": "stdout",
     "output_type": "stream",
     "text": [
      "EPOCH: 191, LOSS: 1.842999e+00, TRAIN ACC.: 7.068854e+01, TEST ACC.: 7.171717e+01\n"
     ]
    },
    {
     "name": "stderr",
     "output_type": "stream",
     "text": [
      "100%|██████████| 2000/2000 [00:03<00:00, 518.18it/s] \n"
     ]
    },
    {
     "name": "stdout",
     "output_type": "stream",
     "text": [
      "EPOCH: 192, LOSS: 1.857981e+00, TRAIN ACC.: 7.057853e+01, TEST ACC.: 7.024702e+01\n"
     ]
    },
    {
     "name": "stderr",
     "output_type": "stream",
     "text": [
      "100%|██████████| 2000/2000 [00:06<00:00, 308.52it/s]\n"
     ]
    },
    {
     "name": "stdout",
     "output_type": "stream",
     "text": [
      "EPOCH: 193, LOSS: 1.858424e+00, TRAIN ACC.: 7.061353e+01, TEST ACC.: 7.137714e+01\n"
     ]
    },
    {
     "name": "stderr",
     "output_type": "stream",
     "text": [
      "100%|██████████| 2000/2000 [00:06<00:00, 308.31it/s]\n"
     ]
    },
    {
     "name": "stdout",
     "output_type": "stream",
     "text": [
      "EPOCH: 194, LOSS: 1.854737e+00, TRAIN ACC.: 7.042352e+01, TEST ACC.: 7.107711e+01\n"
     ]
    },
    {
     "name": "stderr",
     "output_type": "stream",
     "text": [
      "100%|██████████| 2000/2000 [00:06<00:00, 305.88it/s]\n"
     ]
    },
    {
     "name": "stdout",
     "output_type": "stream",
     "text": [
      "EPOCH: 195, LOSS: 1.841409e+00, TRAIN ACC.: 7.062354e+01, TEST ACC.: 7.097710e+01\n"
     ]
    },
    {
     "name": "stderr",
     "output_type": "stream",
     "text": [
      "100%|██████████| 2000/2000 [00:04<00:00, 478.97it/s] \n"
     ]
    },
    {
     "name": "stdout",
     "output_type": "stream",
     "text": [
      "EPOCH: 196, LOSS: 1.809257e+00, TRAIN ACC.: 7.117856e+01, TEST ACC.: 6.968697e+01\n"
     ]
    },
    {
     "name": "stderr",
     "output_type": "stream",
     "text": [
      "100%|██████████| 2000/2000 [00:06<00:00, 317.97it/s]\n"
     ]
    },
    {
     "name": "stdout",
     "output_type": "stream",
     "text": [
      "EPOCH: 197, LOSS: 1.854424e+00, TRAIN ACC.: 7.053853e+01, TEST ACC.: 7.132713e+01\n"
     ]
    },
    {
     "name": "stderr",
     "output_type": "stream",
     "text": [
      "100%|██████████| 2000/2000 [00:06<00:00, 314.81it/s]\n"
     ]
    },
    {
     "name": "stdout",
     "output_type": "stream",
     "text": [
      "EPOCH: 198, LOSS: 1.844054e+00, TRAIN ACC.: 7.075854e+01, TEST ACC.: 7.075708e+01\n"
     ]
    },
    {
     "name": "stderr",
     "output_type": "stream",
     "text": [
      "100%|██████████| 2000/2000 [00:06<00:00, 315.98it/s]\n"
     ]
    },
    {
     "name": "stdout",
     "output_type": "stream",
     "text": [
      "EPOCH: 199, LOSS: 1.860659e+00, TRAIN ACC.: 7.014851e+01, TEST ACC.: 7.166717e+01\n"
     ]
    },
    {
     "name": "stderr",
     "output_type": "stream",
     "text": [
      "100%|██████████| 2000/2000 [00:06<00:00, 313.79it/s]\n"
     ]
    },
    {
     "name": "stdout",
     "output_type": "stream",
     "text": [
      "EPOCH: 200, LOSS: 1.834132e+00, TRAIN ACC.: 7.073854e+01, TEST ACC.: 7.145715e+01\n"
     ]
    },
    {
     "name": "stderr",
     "output_type": "stream",
     "text": [
      "100%|██████████| 2000/2000 [00:06<00:00, 309.21it/s]\n"
     ]
    },
    {
     "name": "stdout",
     "output_type": "stream",
     "text": [
      "EPOCH: 201, LOSS: 1.841795e+00, TRAIN ACC.: 7.073854e+01, TEST ACC.: 7.159716e+01\n"
     ]
    },
    {
     "name": "stderr",
     "output_type": "stream",
     "text": [
      "100%|██████████| 2000/2000 [00:06<00:00, 317.02it/s]\n"
     ]
    },
    {
     "name": "stdout",
     "output_type": "stream",
     "text": [
      "EPOCH: 202, LOSS: 1.863013e+00, TRAIN ACC.: 7.062853e+01, TEST ACC.: 7.055705e+01\n"
     ]
    },
    {
     "name": "stderr",
     "output_type": "stream",
     "text": [
      "100%|██████████| 2000/2000 [00:04<00:00, 493.83it/s]\n"
     ]
    },
    {
     "name": "stdout",
     "output_type": "stream",
     "text": [
      "EPOCH: 203, LOSS: 1.856650e+00, TRAIN ACC.: 7.031351e+01, TEST ACC.: 7.084708e+01\n"
     ]
    },
    {
     "name": "stderr",
     "output_type": "stream",
     "text": [
      "100%|██████████| 2000/2000 [00:06<00:00, 307.65it/s]\n"
     ]
    },
    {
     "name": "stdout",
     "output_type": "stream",
     "text": [
      "EPOCH: 204, LOSS: 1.848997e+00, TRAIN ACC.: 7.111356e+01, TEST ACC.: 7.114712e+01\n"
     ]
    },
    {
     "name": "stderr",
     "output_type": "stream",
     "text": [
      "100%|██████████| 2000/2000 [00:06<00:00, 305.63it/s]\n"
     ]
    },
    {
     "name": "stdout",
     "output_type": "stream",
     "text": [
      "EPOCH: 205, LOSS: 1.840877e+00, TRAIN ACC.: 7.018351e+01, TEST ACC.: 7.145715e+01\n"
     ]
    },
    {
     "name": "stderr",
     "output_type": "stream",
     "text": [
      "100%|██████████| 2000/2000 [00:06<00:00, 309.04it/s]\n"
     ]
    },
    {
     "name": "stdout",
     "output_type": "stream",
     "text": [
      "EPOCH: 206, LOSS: 1.879153e+00, TRAIN ACC.: 7.005850e+01, TEST ACC.: 7.191719e+01\n"
     ]
    },
    {
     "name": "stderr",
     "output_type": "stream",
     "text": [
      "100%|██████████| 2000/2000 [00:03<00:00, 522.97it/s]\n"
     ]
    },
    {
     "name": "stdout",
     "output_type": "stream",
     "text": [
      "EPOCH: 207, LOSS: 1.853981e+00, TRAIN ACC.: 7.013351e+01, TEST ACC.: 6.975697e+01\n"
     ]
    },
    {
     "name": "stderr",
     "output_type": "stream",
     "text": [
      "100%|██████████| 2000/2000 [00:06<00:00, 316.35it/s]\n"
     ]
    },
    {
     "name": "stdout",
     "output_type": "stream",
     "text": [
      "EPOCH: 208, LOSS: 1.839435e+00, TRAIN ACC.: 7.078854e+01, TEST ACC.: 6.994700e+01\n"
     ]
    },
    {
     "name": "stderr",
     "output_type": "stream",
     "text": [
      "100%|██████████| 2000/2000 [00:06<00:00, 313.13it/s]\n"
     ]
    },
    {
     "name": "stdout",
     "output_type": "stream",
     "text": [
      "EPOCH: 209, LOSS: 1.824785e+00, TRAIN ACC.: 7.079855e+01, TEST ACC.: 7.122713e+01\n"
     ]
    },
    {
     "name": "stderr",
     "output_type": "stream",
     "text": [
      "100%|██████████| 2000/2000 [00:06<00:00, 300.26it/s]\n"
     ]
    },
    {
     "name": "stdout",
     "output_type": "stream",
     "text": [
      "EPOCH: 210, LOSS: 1.841404e+00, TRAIN ACC.: 7.053353e+01, TEST ACC.: 7.075708e+01\n"
     ]
    },
    {
     "name": "stderr",
     "output_type": "stream",
     "text": [
      "100%|██████████| 2000/2000 [00:03<00:00, 519.94it/s] \n"
     ]
    },
    {
     "name": "stdout",
     "output_type": "stream",
     "text": [
      "EPOCH: 211, LOSS: 1.865780e+00, TRAIN ACC.: 7.028352e+01, TEST ACC.: 7.076707e+01\n"
     ]
    },
    {
     "name": "stderr",
     "output_type": "stream",
     "text": [
      "100%|██████████| 2000/2000 [00:06<00:00, 315.79it/s]\n"
     ]
    },
    {
     "name": "stdout",
     "output_type": "stream",
     "text": [
      "EPOCH: 212, LOSS: 1.850003e+00, TRAIN ACC.: 7.087354e+01, TEST ACC.: 7.054706e+01\n"
     ]
    },
    {
     "name": "stderr",
     "output_type": "stream",
     "text": [
      "100%|██████████| 2000/2000 [00:06<00:00, 307.70it/s]\n"
     ]
    },
    {
     "name": "stdout",
     "output_type": "stream",
     "text": [
      "EPOCH: 213, LOSS: 1.831067e+00, TRAIN ACC.: 7.082854e+01, TEST ACC.: 7.041705e+01\n"
     ]
    },
    {
     "name": "stderr",
     "output_type": "stream",
     "text": [
      "100%|██████████| 2000/2000 [00:06<00:00, 303.25it/s]\n"
     ]
    },
    {
     "name": "stdout",
     "output_type": "stream",
     "text": [
      "EPOCH: 214, LOSS: 1.856867e+00, TRAIN ACC.: 7.011851e+01, TEST ACC.: 7.081709e+01\n"
     ]
    },
    {
     "name": "stderr",
     "output_type": "stream",
     "text": [
      "100%|██████████| 2000/2000 [00:04<00:00, 486.87it/s]\n"
     ]
    },
    {
     "name": "stdout",
     "output_type": "stream",
     "text": [
      "EPOCH: 215, LOSS: 1.817141e+00, TRAIN ACC.: 7.120356e+01, TEST ACC.: 7.097710e+01\n"
     ]
    },
    {
     "name": "stderr",
     "output_type": "stream",
     "text": [
      "100%|██████████| 2000/2000 [00:06<00:00, 306.06it/s]\n"
     ]
    },
    {
     "name": "stdout",
     "output_type": "stream",
     "text": [
      "EPOCH: 216, LOSS: 1.869528e+00, TRAIN ACC.: 7.034852e+01, TEST ACC.: 7.152715e+01\n"
     ]
    },
    {
     "name": "stderr",
     "output_type": "stream",
     "text": [
      "100%|██████████| 2000/2000 [00:06<00:00, 305.16it/s]\n"
     ]
    },
    {
     "name": "stdout",
     "output_type": "stream",
     "text": [
      "EPOCH: 217, LOSS: 1.843302e+00, TRAIN ACC.: 7.078354e+01, TEST ACC.: 7.023702e+01\n"
     ]
    },
    {
     "name": "stderr",
     "output_type": "stream",
     "text": [
      "100%|██████████| 2000/2000 [00:06<00:00, 314.70it/s]\n"
     ]
    },
    {
     "name": "stdout",
     "output_type": "stream",
     "text": [
      "EPOCH: 218, LOSS: 1.835536e+00, TRAIN ACC.: 7.048353e+01, TEST ACC.: 7.204720e+01\n"
     ]
    },
    {
     "name": "stderr",
     "output_type": "stream",
     "text": [
      "100%|██████████| 2000/2000 [00:06<00:00, 301.01it/s]\n"
     ]
    },
    {
     "name": "stdout",
     "output_type": "stream",
     "text": [
      "EPOCH: 219, LOSS: 1.859255e+00, TRAIN ACC.: 7.058353e+01, TEST ACC.: 7.110711e+01\n"
     ]
    },
    {
     "name": "stderr",
     "output_type": "stream",
     "text": [
      "100%|██████████| 2000/2000 [00:06<00:00, 300.82it/s]\n"
     ]
    },
    {
     "name": "stdout",
     "output_type": "stream",
     "text": [
      "EPOCH: 220, LOSS: 1.823225e+00, TRAIN ACC.: 7.110355e+01, TEST ACC.: 7.042704e+01\n"
     ]
    },
    {
     "name": "stderr",
     "output_type": "stream",
     "text": [
      "100%|██████████| 2000/2000 [00:06<00:00, 309.25it/s]\n"
     ]
    },
    {
     "name": "stdout",
     "output_type": "stream",
     "text": [
      "EPOCH: 221, LOSS: 1.830712e+00, TRAIN ACC.: 7.065854e+01, TEST ACC.: 7.139714e+01\n"
     ]
    },
    {
     "name": "stderr",
     "output_type": "stream",
     "text": [
      "100%|██████████| 2000/2000 [00:03<00:00, 514.96it/s]\n"
     ]
    },
    {
     "name": "stdout",
     "output_type": "stream",
     "text": [
      "EPOCH: 222, LOSS: 1.857793e+00, TRAIN ACC.: 7.054853e+01, TEST ACC.: 7.076707e+01\n"
     ]
    },
    {
     "name": "stderr",
     "output_type": "stream",
     "text": [
      "100%|██████████| 2000/2000 [00:06<00:00, 302.26it/s]\n"
     ]
    },
    {
     "name": "stdout",
     "output_type": "stream",
     "text": [
      "EPOCH: 223, LOSS: 1.846626e+00, TRAIN ACC.: 7.070853e+01, TEST ACC.: 7.018702e+01\n"
     ]
    },
    {
     "name": "stderr",
     "output_type": "stream",
     "text": [
      "100%|██████████| 2000/2000 [00:06<00:00, 305.52it/s]\n"
     ]
    },
    {
     "name": "stdout",
     "output_type": "stream",
     "text": [
      "EPOCH: 224, LOSS: 1.872317e+00, TRAIN ACC.: 7.057353e+01, TEST ACC.: 7.157716e+01\n"
     ]
    },
    {
     "name": "stderr",
     "output_type": "stream",
     "text": [
      "100%|██████████| 2000/2000 [00:06<00:00, 313.93it/s]\n"
     ]
    },
    {
     "name": "stdout",
     "output_type": "stream",
     "text": [
      "EPOCH: 225, LOSS: 1.843427e+00, TRAIN ACC.: 7.036852e+01, TEST ACC.: 7.139714e+01\n"
     ]
    },
    {
     "name": "stderr",
     "output_type": "stream",
     "text": [
      "100%|██████████| 2000/2000 [00:04<00:00, 483.32it/s] \n"
     ]
    },
    {
     "name": "stdout",
     "output_type": "stream",
     "text": [
      "EPOCH: 226, LOSS: 1.839893e+00, TRAIN ACC.: 7.108855e+01, TEST ACC.: 7.206721e+01\n"
     ]
    },
    {
     "name": "stderr",
     "output_type": "stream",
     "text": [
      "100%|██████████| 2000/2000 [00:06<00:00, 309.59it/s]\n"
     ]
    },
    {
     "name": "stdout",
     "output_type": "stream",
     "text": [
      "EPOCH: 227, LOSS: 1.836893e+00, TRAIN ACC.: 7.081355e+01, TEST ACC.: 7.079708e+01\n"
     ]
    },
    {
     "name": "stderr",
     "output_type": "stream",
     "text": [
      "100%|██████████| 2000/2000 [00:06<00:00, 309.30it/s]\n"
     ]
    },
    {
     "name": "stdout",
     "output_type": "stream",
     "text": [
      "EPOCH: 228, LOSS: 1.803556e+00, TRAIN ACC.: 7.164858e+01, TEST ACC.: 7.093710e+01\n"
     ]
    },
    {
     "name": "stderr",
     "output_type": "stream",
     "text": [
      "100%|██████████| 2000/2000 [00:06<00:00, 311.14it/s]\n"
     ]
    },
    {
     "name": "stdout",
     "output_type": "stream",
     "text": [
      "EPOCH: 229, LOSS: 1.812280e+00, TRAIN ACC.: 7.090855e+01, TEST ACC.: 7.137714e+01\n"
     ]
    },
    {
     "name": "stderr",
     "output_type": "stream",
     "text": [
      "100%|██████████| 2000/2000 [00:03<00:00, 517.47it/s]\n"
     ]
    },
    {
     "name": "stdout",
     "output_type": "stream",
     "text": [
      "EPOCH: 230, LOSS: 1.837706e+00, TRAIN ACC.: 7.103855e+01, TEST ACC.: 7.095710e+01\n"
     ]
    },
    {
     "name": "stderr",
     "output_type": "stream",
     "text": [
      "100%|██████████| 2000/2000 [00:06<00:00, 310.77it/s]\n"
     ]
    },
    {
     "name": "stdout",
     "output_type": "stream",
     "text": [
      "EPOCH: 231, LOSS: 1.849366e+00, TRAIN ACC.: 7.093355e+01, TEST ACC.: 7.003700e+01\n"
     ]
    },
    {
     "name": "stderr",
     "output_type": "stream",
     "text": [
      "100%|██████████| 2000/2000 [00:06<00:00, 302.76it/s]\n"
     ]
    },
    {
     "name": "stdout",
     "output_type": "stream",
     "text": [
      "EPOCH: 232, LOSS: 1.868482e+00, TRAIN ACC.: 7.055853e+01, TEST ACC.: 6.916692e+01\n"
     ]
    },
    {
     "name": "stderr",
     "output_type": "stream",
     "text": [
      "100%|██████████| 2000/2000 [00:06<00:00, 306.70it/s]\n"
     ]
    },
    {
     "name": "stdout",
     "output_type": "stream",
     "text": [
      "EPOCH: 233, LOSS: 1.862787e+00, TRAIN ACC.: 7.040852e+01, TEST ACC.: 7.140714e+01\n"
     ]
    },
    {
     "name": "stderr",
     "output_type": "stream",
     "text": [
      "100%|██████████| 2000/2000 [00:06<00:00, 302.25it/s]\n"
     ]
    },
    {
     "name": "stdout",
     "output_type": "stream",
     "text": [
      "EPOCH: 234, LOSS: 1.854532e+00, TRAIN ACC.: 7.028352e+01, TEST ACC.: 7.102710e+01\n"
     ]
    },
    {
     "name": "stderr",
     "output_type": "stream",
     "text": [
      "100%|██████████| 2000/2000 [00:06<00:00, 308.61it/s]\n"
     ]
    },
    {
     "name": "stdout",
     "output_type": "stream",
     "text": [
      "EPOCH: 235, LOSS: 1.840184e+00, TRAIN ACC.: 7.073354e+01, TEST ACC.: 7.135714e+01\n"
     ]
    },
    {
     "name": "stderr",
     "output_type": "stream",
     "text": [
      "100%|██████████| 2000/2000 [00:06<00:00, 309.75it/s]\n"
     ]
    },
    {
     "name": "stdout",
     "output_type": "stream",
     "text": [
      "EPOCH: 236, LOSS: 1.830401e+00, TRAIN ACC.: 7.078354e+01, TEST ACC.: 7.185719e+01\n"
     ]
    },
    {
     "name": "stderr",
     "output_type": "stream",
     "text": [
      "100%|██████████| 2000/2000 [00:03<00:00, 514.08it/s]\n"
     ]
    },
    {
     "name": "stdout",
     "output_type": "stream",
     "text": [
      "EPOCH: 237, LOSS: 1.834762e+00, TRAIN ACC.: 7.074854e+01, TEST ACC.: 7.128713e+01\n"
     ]
    },
    {
     "name": "stderr",
     "output_type": "stream",
     "text": [
      "100%|██████████| 2000/2000 [00:06<00:00, 313.91it/s]\n"
     ]
    },
    {
     "name": "stdout",
     "output_type": "stream",
     "text": [
      "EPOCH: 238, LOSS: 1.842183e+00, TRAIN ACC.: 7.032352e+01, TEST ACC.: 7.063706e+01\n"
     ]
    },
    {
     "name": "stderr",
     "output_type": "stream",
     "text": [
      "100%|██████████| 2000/2000 [00:06<00:00, 308.76it/s]\n"
     ]
    },
    {
     "name": "stdout",
     "output_type": "stream",
     "text": [
      "EPOCH: 239, LOSS: 1.813719e+00, TRAIN ACC.: 7.075854e+01, TEST ACC.: 7.022702e+01\n"
     ]
    },
    {
     "name": "stderr",
     "output_type": "stream",
     "text": [
      "100%|██████████| 2000/2000 [00:06<00:00, 318.44it/s]\n"
     ]
    },
    {
     "name": "stdout",
     "output_type": "stream",
     "text": [
      "EPOCH: 240, LOSS: 1.806910e+00, TRAIN ACC.: 7.147858e+01, TEST ACC.: 7.098710e+01\n"
     ]
    },
    {
     "name": "stderr",
     "output_type": "stream",
     "text": [
      "100%|██████████| 2000/2000 [00:04<00:00, 477.60it/s] \n"
     ]
    },
    {
     "name": "stdout",
     "output_type": "stream",
     "text": [
      "EPOCH: 241, LOSS: 1.819281e+00, TRAIN ACC.: 7.113856e+01, TEST ACC.: 7.118712e+01\n"
     ]
    },
    {
     "name": "stderr",
     "output_type": "stream",
     "text": [
      "100%|██████████| 2000/2000 [00:06<00:00, 307.55it/s]\n"
     ]
    },
    {
     "name": "stdout",
     "output_type": "stream",
     "text": [
      "EPOCH: 242, LOSS: 1.863983e+00, TRAIN ACC.: 7.061853e+01, TEST ACC.: 7.149715e+01\n"
     ]
    },
    {
     "name": "stderr",
     "output_type": "stream",
     "text": [
      "100%|██████████| 2000/2000 [00:06<00:00, 309.94it/s]\n"
     ]
    },
    {
     "name": "stdout",
     "output_type": "stream",
     "text": [
      "EPOCH: 243, LOSS: 1.863661e+00, TRAIN ACC.: 7.068353e+01, TEST ACC.: 7.144714e+01\n"
     ]
    },
    {
     "name": "stderr",
     "output_type": "stream",
     "text": [
      "100%|██████████| 2000/2000 [00:06<00:00, 315.17it/s]\n"
     ]
    },
    {
     "name": "stdout",
     "output_type": "stream",
     "text": [
      "EPOCH: 244, LOSS: 1.852004e+00, TRAIN ACC.: 7.050352e+01, TEST ACC.: 7.164716e+01\n"
     ]
    },
    {
     "name": "stderr",
     "output_type": "stream",
     "text": [
      "100%|██████████| 2000/2000 [00:03<00:00, 525.39it/s] \n"
     ]
    },
    {
     "name": "stdout",
     "output_type": "stream",
     "text": [
      "EPOCH: 245, LOSS: 1.833395e+00, TRAIN ACC.: 7.080354e+01, TEST ACC.: 6.960696e+01\n"
     ]
    },
    {
     "name": "stderr",
     "output_type": "stream",
     "text": [
      "100%|██████████| 2000/2000 [00:06<00:00, 313.75it/s]\n"
     ]
    },
    {
     "name": "stdout",
     "output_type": "stream",
     "text": [
      "EPOCH: 246, LOSS: 1.842682e+00, TRAIN ACC.: 7.096855e+01, TEST ACC.: 7.203720e+01\n"
     ]
    },
    {
     "name": "stderr",
     "output_type": "stream",
     "text": [
      "100%|██████████| 2000/2000 [00:06<00:00, 312.49it/s]\n"
     ]
    },
    {
     "name": "stdout",
     "output_type": "stream",
     "text": [
      "EPOCH: 247, LOSS: 1.855171e+00, TRAIN ACC.: 7.050853e+01, TEST ACC.: 6.929693e+01\n"
     ]
    },
    {
     "name": "stderr",
     "output_type": "stream",
     "text": [
      "100%|██████████| 2000/2000 [00:06<00:00, 297.78it/s]\n"
     ]
    },
    {
     "name": "stdout",
     "output_type": "stream",
     "text": [
      "EPOCH: 248, LOSS: 1.824175e+00, TRAIN ACC.: 7.061853e+01, TEST ACC.: 7.178718e+01\n"
     ]
    },
    {
     "name": "stderr",
     "output_type": "stream",
     "text": [
      "100%|██████████| 2000/2000 [00:06<00:00, 319.53it/s]\n"
     ]
    },
    {
     "name": "stdout",
     "output_type": "stream",
     "text": [
      "EPOCH: 249, LOSS: 1.842876e+00, TRAIN ACC.: 7.053853e+01, TEST ACC.: 7.029703e+01\n"
     ]
    },
    {
     "name": "stderr",
     "output_type": "stream",
     "text": [
      "100%|██████████| 2000/2000 [00:06<00:00, 316.89it/s]\n"
     ]
    },
    {
     "name": "stdout",
     "output_type": "stream",
     "text": [
      "EPOCH: 250, LOSS: 1.833599e+00, TRAIN ACC.: 7.082354e+01, TEST ACC.: 7.127713e+01\n"
     ]
    }
   ],
   "source": [
    "model_acc = {'train':[], 'test':[]}\n",
    "\n",
    "train(model, model_acc)"
   ]
  },
  {
   "cell_type": "code",
   "execution_count": null,
   "metadata": {},
   "outputs": [
    {
     "name": "stderr",
     "output_type": "stream",
     "text": [
      "100%|██████████| 2000/2000 [00:11<00:00, 178.89it/s]\n"
     ]
    },
    {
     "name": "stdout",
     "output_type": "stream",
     "text": [
      "EPOCH: 01, LOSS: 4.522988e+00, TRAIN ACC.: 1.576579e+01, TEST ACC.: 2.358236e+01\n"
     ]
    },
    {
     "name": "stderr",
     "output_type": "stream",
     "text": [
      "100%|██████████| 2000/2000 [00:08<00:00, 228.87it/s]\n"
     ]
    },
    {
     "name": "stdout",
     "output_type": "stream",
     "text": [
      "EPOCH: 02, LOSS: 4.209942e+00, TRAIN ACC.: 2.573129e+01, TEST ACC.: 2.850285e+01\n"
     ]
    },
    {
     "name": "stderr",
     "output_type": "stream",
     "text": [
      "100%|██████████| 2000/2000 [00:11<00:00, 179.58it/s]\n"
     ]
    },
    {
     "name": "stdout",
     "output_type": "stream",
     "text": [
      "EPOCH: 03, LOSS: 3.973920e+00, TRAIN ACC.: 3.050153e+01, TEST ACC.: 3.242324e+01\n"
     ]
    },
    {
     "name": "stderr",
     "output_type": "stream",
     "text": [
      "100%|██████████| 2000/2000 [00:08<00:00, 225.70it/s] \n"
     ]
    },
    {
     "name": "stdout",
     "output_type": "stream",
     "text": [
      "EPOCH: 04, LOSS: 3.845630e+00, TRAIN ACC.: 3.272664e+01, TEST ACC.: 3.317332e+01\n"
     ]
    },
    {
     "name": "stderr",
     "output_type": "stream",
     "text": [
      "100%|██████████| 2000/2000 [00:11<00:00, 171.89it/s]\n"
     ]
    },
    {
     "name": "stdout",
     "output_type": "stream",
     "text": [
      "EPOCH: 05, LOSS: 3.722891e+00, TRAIN ACC.: 3.486674e+01, TEST ACC.: 3.682368e+01\n"
     ]
    },
    {
     "name": "stderr",
     "output_type": "stream",
     "text": [
      "100%|██████████| 2000/2000 [00:08<00:00, 224.16it/s] \n"
     ]
    },
    {
     "name": "stdout",
     "output_type": "stream",
     "text": [
      "EPOCH: 06, LOSS: 3.560576e+00, TRAIN ACC.: 3.775689e+01, TEST ACC.: 3.896390e+01\n"
     ]
    },
    {
     "name": "stderr",
     "output_type": "stream",
     "text": [
      "100%|██████████| 2000/2000 [00:11<00:00, 181.29it/s]\n"
     ]
    },
    {
     "name": "stdout",
     "output_type": "stream",
     "text": [
      "EPOCH: 07, LOSS: 3.475350e+00, TRAIN ACC.: 3.937697e+01, TEST ACC.: 3.988399e+01\n"
     ]
    },
    {
     "name": "stderr",
     "output_type": "stream",
     "text": [
      "100%|██████████| 2000/2000 [00:09<00:00, 221.04it/s]\n"
     ]
    },
    {
     "name": "stdout",
     "output_type": "stream",
     "text": [
      "EPOCH: 08, LOSS: 3.369312e+00, TRAIN ACC.: 4.114706e+01, TEST ACC.: 4.229423e+01\n"
     ]
    },
    {
     "name": "stderr",
     "output_type": "stream",
     "text": [
      "100%|██████████| 2000/2000 [00:11<00:00, 173.06it/s]\n"
     ]
    },
    {
     "name": "stdout",
     "output_type": "stream",
     "text": [
      "EPOCH: 09, LOSS: 3.278647e+00, TRAIN ACC.: 4.327716e+01, TEST ACC.: 4.427443e+01\n"
     ]
    },
    {
     "name": "stderr",
     "output_type": "stream",
     "text": [
      "100%|██████████| 2000/2000 [00:11<00:00, 176.41it/s]\n"
     ]
    },
    {
     "name": "stdout",
     "output_type": "stream",
     "text": [
      "EPOCH: 10, LOSS: 3.244750e+00, TRAIN ACC.: 4.415721e+01, TEST ACC.: 4.531453e+01\n"
     ]
    },
    {
     "name": "stderr",
     "output_type": "stream",
     "text": [
      "100%|██████████| 2000/2000 [00:11<00:00, 178.00it/s]\n"
     ]
    },
    {
     "name": "stdout",
     "output_type": "stream",
     "text": [
      "EPOCH: 11, LOSS: 3.160972e+00, TRAIN ACC.: 4.514226e+01, TEST ACC.: 4.695470e+01\n"
     ]
    },
    {
     "name": "stderr",
     "output_type": "stream",
     "text": [
      "100%|██████████| 2000/2000 [00:11<00:00, 176.17it/s]\n"
     ]
    },
    {
     "name": "stdout",
     "output_type": "stream",
     "text": [
      "EPOCH: 12, LOSS: 3.101606e+00, TRAIN ACC.: 4.641732e+01, TEST ACC.: 4.780478e+01\n"
     ]
    },
    {
     "name": "stderr",
     "output_type": "stream",
     "text": [
      "100%|██████████| 2000/2000 [00:09<00:00, 220.97it/s]\n"
     ]
    },
    {
     "name": "stdout",
     "output_type": "stream",
     "text": [
      "EPOCH: 13, LOSS: 3.007068e+00, TRAIN ACC.: 4.771239e+01, TEST ACC.: 4.932493e+01\n"
     ]
    },
    {
     "name": "stderr",
     "output_type": "stream",
     "text": [
      "100%|██████████| 2000/2000 [00:11<00:00, 175.02it/s]\n"
     ]
    },
    {
     "name": "stdout",
     "output_type": "stream",
     "text": [
      "EPOCH: 14, LOSS: 2.951034e+00, TRAIN ACC.: 4.904745e+01, TEST ACC.: 5.135514e+01\n"
     ]
    },
    {
     "name": "stderr",
     "output_type": "stream",
     "text": [
      "100%|██████████| 2000/2000 [00:08<00:00, 234.15it/s] \n"
     ]
    },
    {
     "name": "stdout",
     "output_type": "stream",
     "text": [
      "EPOCH: 15, LOSS: 2.920550e+00, TRAIN ACC.: 5.044252e+01, TEST ACC.: 5.174517e+01\n"
     ]
    },
    {
     "name": "stderr",
     "output_type": "stream",
     "text": [
      "100%|██████████| 2000/2000 [00:11<00:00, 179.27it/s]\n"
     ]
    },
    {
     "name": "stdout",
     "output_type": "stream",
     "text": [
      "EPOCH: 16, LOSS: 2.822014e+00, TRAIN ACC.: 5.177759e+01, TEST ACC.: 5.224522e+01\n"
     ]
    },
    {
     "name": "stderr",
     "output_type": "stream",
     "text": [
      "100%|██████████| 2000/2000 [00:08<00:00, 225.63it/s]\n"
     ]
    },
    {
     "name": "stdout",
     "output_type": "stream",
     "text": [
      "EPOCH: 17, LOSS: 2.799133e+00, TRAIN ACC.: 5.210261e+01, TEST ACC.: 5.352535e+01\n"
     ]
    },
    {
     "name": "stderr",
     "output_type": "stream",
     "text": [
      "100%|██████████| 2000/2000 [00:11<00:00, 176.71it/s]\n"
     ]
    },
    {
     "name": "stdout",
     "output_type": "stream",
     "text": [
      "EPOCH: 18, LOSS: 2.742906e+00, TRAIN ACC.: 5.336767e+01, TEST ACC.: 5.414542e+01\n"
     ]
    },
    {
     "name": "stderr",
     "output_type": "stream",
     "text": [
      "100%|██████████| 2000/2000 [00:11<00:00, 177.12it/s]\n"
     ]
    },
    {
     "name": "stdout",
     "output_type": "stream",
     "text": [
      "EPOCH: 19, LOSS: 2.687822e+00, TRAIN ACC.: 5.438272e+01, TEST ACC.: 5.462546e+01\n"
     ]
    },
    {
     "name": "stderr",
     "output_type": "stream",
     "text": [
      "100%|██████████| 2000/2000 [00:11<00:00, 176.30it/s]\n"
     ]
    },
    {
     "name": "stdout",
     "output_type": "stream",
     "text": [
      "EPOCH: 20, LOSS: 2.645071e+00, TRAIN ACC.: 5.502775e+01, TEST ACC.: 5.641564e+01\n"
     ]
    },
    {
     "name": "stderr",
     "output_type": "stream",
     "text": [
      "100%|██████████| 2000/2000 [00:11<00:00, 178.77it/s]\n"
     ]
    },
    {
     "name": "stdout",
     "output_type": "stream",
     "text": [
      "EPOCH: 21, LOSS: 2.584996e+00, TRAIN ACC.: 5.682284e+01, TEST ACC.: 5.665567e+01\n"
     ]
    },
    {
     "name": "stderr",
     "output_type": "stream",
     "text": [
      "100%|██████████| 2000/2000 [00:09<00:00, 212.82it/s]\n"
     ]
    },
    {
     "name": "stdout",
     "output_type": "stream",
     "text": [
      "EPOCH: 22, LOSS: 2.585465e+00, TRAIN ACC.: 5.623281e+01, TEST ACC.: 5.787579e+01\n"
     ]
    },
    {
     "name": "stderr",
     "output_type": "stream",
     "text": [
      "100%|██████████| 2000/2000 [00:11<00:00, 178.52it/s]\n"
     ]
    },
    {
     "name": "stdout",
     "output_type": "stream",
     "text": [
      "EPOCH: 23, LOSS: 2.519046e+00, TRAIN ACC.: 5.767789e+01, TEST ACC.: 5.813581e+01\n"
     ]
    },
    {
     "name": "stderr",
     "output_type": "stream",
     "text": [
      "100%|██████████| 2000/2000 [00:08<00:00, 223.39it/s] \n"
     ]
    },
    {
     "name": "stdout",
     "output_type": "stream",
     "text": [
      "EPOCH: 24, LOSS: 2.527126e+00, TRAIN ACC.: 5.746288e+01, TEST ACC.: 5.852585e+01\n"
     ]
    },
    {
     "name": "stderr",
     "output_type": "stream",
     "text": [
      "100%|██████████| 2000/2000 [00:11<00:00, 180.24it/s]\n"
     ]
    },
    {
     "name": "stdout",
     "output_type": "stream",
     "text": [
      "EPOCH: 25, LOSS: 2.455210e+00, TRAIN ACC.: 5.894795e+01, TEST ACC.: 5.952595e+01\n"
     ]
    },
    {
     "name": "stderr",
     "output_type": "stream",
     "text": [
      "100%|██████████| 2000/2000 [00:08<00:00, 231.72it/s]\n"
     ]
    },
    {
     "name": "stdout",
     "output_type": "stream",
     "text": [
      "EPOCH: 26, LOSS: 2.451629e+00, TRAIN ACC.: 5.895295e+01, TEST ACC.: 5.967597e+01\n"
     ]
    },
    {
     "name": "stderr",
     "output_type": "stream",
     "text": [
      "100%|██████████| 2000/2000 [00:11<00:00, 175.08it/s]\n"
     ]
    },
    {
     "name": "stdout",
     "output_type": "stream",
     "text": [
      "EPOCH: 27, LOSS: 2.413816e+00, TRAIN ACC.: 6.010301e+01, TEST ACC.: 6.072607e+01\n"
     ]
    },
    {
     "name": "stderr",
     "output_type": "stream",
     "text": [
      "100%|██████████| 2000/2000 [00:11<00:00, 176.30it/s]\n"
     ]
    },
    {
     "name": "stdout",
     "output_type": "stream",
     "text": [
      "EPOCH: 28, LOSS: 2.397936e+00, TRAIN ACC.: 6.004300e+01, TEST ACC.: 6.040604e+01\n"
     ]
    },
    {
     "name": "stderr",
     "output_type": "stream",
     "text": [
      "100%|██████████| 2000/2000 [00:11<00:00, 179.75it/s]\n"
     ]
    },
    {
     "name": "stdout",
     "output_type": "stream",
     "text": [
      "EPOCH: 29, LOSS: 2.378364e+00, TRAIN ACC.: 6.025301e+01, TEST ACC.: 6.074607e+01\n"
     ]
    },
    {
     "name": "stderr",
     "output_type": "stream",
     "text": [
      "100%|██████████| 2000/2000 [00:11<00:00, 174.92it/s]\n"
     ]
    },
    {
     "name": "stdout",
     "output_type": "stream",
     "text": [
      "EPOCH: 30, LOSS: 2.376611e+00, TRAIN ACC.: 6.024302e+01, TEST ACC.: 6.025603e+01\n"
     ]
    },
    {
     "name": "stderr",
     "output_type": "stream",
     "text": [
      "100%|██████████| 2000/2000 [00:08<00:00, 228.14it/s]\n"
     ]
    },
    {
     "name": "stdout",
     "output_type": "stream",
     "text": [
      "EPOCH: 31, LOSS: 2.362775e+00, TRAIN ACC.: 6.064304e+01, TEST ACC.: 6.157616e+01\n"
     ]
    },
    {
     "name": "stderr",
     "output_type": "stream",
     "text": [
      "100%|██████████| 2000/2000 [00:11<00:00, 175.80it/s]\n"
     ]
    },
    {
     "name": "stdout",
     "output_type": "stream",
     "text": [
      "EPOCH: 32, LOSS: 2.340173e+00, TRAIN ACC.: 6.137807e+01, TEST ACC.: 6.179618e+01\n"
     ]
    },
    {
     "name": "stderr",
     "output_type": "stream",
     "text": [
      "100%|██████████| 2000/2000 [00:08<00:00, 233.44it/s] \n"
     ]
    },
    {
     "name": "stdout",
     "output_type": "stream",
     "text": [
      "EPOCH: 33, LOSS: 2.308989e+00, TRAIN ACC.: 6.122306e+01, TEST ACC.: 6.231623e+01\n"
     ]
    },
    {
     "name": "stderr",
     "output_type": "stream",
     "text": [
      "100%|██████████| 2000/2000 [00:10<00:00, 182.69it/s]\n"
     ]
    },
    {
     "name": "stdout",
     "output_type": "stream",
     "text": [
      "EPOCH: 34, LOSS: 2.277991e+00, TRAIN ACC.: 6.212311e+01, TEST ACC.: 6.318632e+01\n"
     ]
    },
    {
     "name": "stderr",
     "output_type": "stream",
     "text": [
      "100%|██████████| 2000/2000 [00:08<00:00, 235.73it/s]\n"
     ]
    },
    {
     "name": "stdout",
     "output_type": "stream",
     "text": [
      "EPOCH: 35, LOSS: 2.279259e+00, TRAIN ACC.: 6.197810e+01, TEST ACC.: 6.220622e+01\n"
     ]
    },
    {
     "name": "stderr",
     "output_type": "stream",
     "text": [
      "100%|██████████| 2000/2000 [00:11<00:00, 178.89it/s]\n"
     ]
    },
    {
     "name": "stdout",
     "output_type": "stream",
     "text": [
      "EPOCH: 36, LOSS: 2.283513e+00, TRAIN ACC.: 6.257313e+01, TEST ACC.: 6.300630e+01\n"
     ]
    },
    {
     "name": "stderr",
     "output_type": "stream",
     "text": [
      "100%|██████████| 2000/2000 [00:11<00:00, 179.97it/s]\n"
     ]
    },
    {
     "name": "stdout",
     "output_type": "stream",
     "text": [
      "EPOCH: 37, LOSS: 2.248541e+00, TRAIN ACC.: 6.274814e+01, TEST ACC.: 6.275628e+01\n"
     ]
    },
    {
     "name": "stderr",
     "output_type": "stream",
     "text": [
      "100%|██████████| 2000/2000 [00:11<00:00, 173.17it/s]\n"
     ]
    },
    {
     "name": "stdout",
     "output_type": "stream",
     "text": [
      "EPOCH: 38, LOSS: 2.239397e+00, TRAIN ACC.: 6.311316e+01, TEST ACC.: 6.449645e+01\n"
     ]
    },
    {
     "name": "stderr",
     "output_type": "stream",
     "text": [
      "100%|██████████| 2000/2000 [00:11<00:00, 175.82it/s]\n"
     ]
    },
    {
     "name": "stdout",
     "output_type": "stream",
     "text": [
      "EPOCH: 39, LOSS: 2.222809e+00, TRAIN ACC.: 6.350818e+01, TEST ACC.: 6.206621e+01\n"
     ]
    },
    {
     "name": "stderr",
     "output_type": "stream",
     "text": [
      "100%|██████████| 2000/2000 [00:08<00:00, 222.24it/s]\n"
     ]
    },
    {
     "name": "stdout",
     "output_type": "stream",
     "text": [
      "EPOCH: 40, LOSS: 2.218523e+00, TRAIN ACC.: 6.388320e+01, TEST ACC.: 6.419642e+01\n"
     ]
    },
    {
     "name": "stderr",
     "output_type": "stream",
     "text": [
      "100%|██████████| 2000/2000 [00:11<00:00, 177.74it/s]\n"
     ]
    },
    {
     "name": "stdout",
     "output_type": "stream",
     "text": [
      "EPOCH: 41, LOSS: 2.187835e+00, TRAIN ACC.: 6.407320e+01, TEST ACC.: 6.436644e+01\n"
     ]
    },
    {
     "name": "stderr",
     "output_type": "stream",
     "text": [
      "100%|██████████| 2000/2000 [00:08<00:00, 233.77it/s] \n"
     ]
    },
    {
     "name": "stdout",
     "output_type": "stream",
     "text": [
      "EPOCH: 42, LOSS: 2.181816e+00, TRAIN ACC.: 6.426822e+01, TEST ACC.: 6.326633e+01\n"
     ]
    },
    {
     "name": "stderr",
     "output_type": "stream",
     "text": [
      "100%|██████████| 2000/2000 [00:10<00:00, 182.66it/s]\n"
     ]
    },
    {
     "name": "stdout",
     "output_type": "stream",
     "text": [
      "EPOCH: 43, LOSS: 2.168119e+00, TRAIN ACC.: 6.382319e+01, TEST ACC.: 6.534653e+01\n"
     ]
    },
    {
     "name": "stderr",
     "output_type": "stream",
     "text": [
      "100%|██████████| 2000/2000 [00:08<00:00, 231.47it/s]\n"
     ]
    },
    {
     "name": "stdout",
     "output_type": "stream",
     "text": [
      "EPOCH: 44, LOSS: 2.153307e+00, TRAIN ACC.: 6.444322e+01, TEST ACC.: 6.489649e+01\n"
     ]
    },
    {
     "name": "stderr",
     "output_type": "stream",
     "text": [
      "100%|██████████| 2000/2000 [00:11<00:00, 175.57it/s]\n"
     ]
    },
    {
     "name": "stdout",
     "output_type": "stream",
     "text": [
      "EPOCH: 45, LOSS: 2.145863e+00, TRAIN ACC.: 6.461324e+01, TEST ACC.: 6.523653e+01\n"
     ]
    },
    {
     "name": "stderr",
     "output_type": "stream",
     "text": [
      "100%|██████████| 2000/2000 [00:11<00:00, 175.67it/s]\n"
     ]
    },
    {
     "name": "stdout",
     "output_type": "stream",
     "text": [
      "EPOCH: 46, LOSS: 2.182581e+00, TRAIN ACC.: 6.422821e+01, TEST ACC.: 6.498650e+01\n"
     ]
    },
    {
     "name": "stderr",
     "output_type": "stream",
     "text": [
      "100%|██████████| 2000/2000 [00:11<00:00, 176.10it/s]\n"
     ]
    },
    {
     "name": "stdout",
     "output_type": "stream",
     "text": [
      "EPOCH: 47, LOSS: 2.122406e+00, TRAIN ACC.: 6.519827e+01, TEST ACC.: 6.618662e+01\n"
     ]
    },
    {
     "name": "stderr",
     "output_type": "stream",
     "text": [
      "100%|██████████| 2000/2000 [00:11<00:00, 179.34it/s]\n"
     ]
    },
    {
     "name": "stdout",
     "output_type": "stream",
     "text": [
      "EPOCH: 48, LOSS: 2.111636e+00, TRAIN ACC.: 6.558828e+01, TEST ACC.: 6.529653e+01\n"
     ]
    },
    {
     "name": "stderr",
     "output_type": "stream",
     "text": [
      "100%|██████████| 2000/2000 [00:08<00:00, 223.47it/s]\n"
     ]
    },
    {
     "name": "stdout",
     "output_type": "stream",
     "text": [
      "EPOCH: 49, LOSS: 2.122975e+00, TRAIN ACC.: 6.542828e+01, TEST ACC.: 6.549655e+01\n"
     ]
    },
    {
     "name": "stderr",
     "output_type": "stream",
     "text": [
      "100%|██████████| 2000/2000 [00:10<00:00, 182.26it/s]\n"
     ]
    },
    {
     "name": "stdout",
     "output_type": "stream",
     "text": [
      "EPOCH: 50, LOSS: 2.124772e+00, TRAIN ACC.: 6.544328e+01, TEST ACC.: 6.637664e+01\n"
     ]
    },
    {
     "name": "stderr",
     "output_type": "stream",
     "text": [
      "100%|██████████| 2000/2000 [00:08<00:00, 241.24it/s] \n"
     ]
    },
    {
     "name": "stdout",
     "output_type": "stream",
     "text": [
      "EPOCH: 51, LOSS: 2.093886e+00, TRAIN ACC.: 6.591830e+01, TEST ACC.: 6.714671e+01\n"
     ]
    },
    {
     "name": "stderr",
     "output_type": "stream",
     "text": [
      "100%|██████████| 2000/2000 [00:11<00:00, 174.41it/s]\n"
     ]
    },
    {
     "name": "stdout",
     "output_type": "stream",
     "text": [
      "EPOCH: 52, LOSS: 2.083266e+00, TRAIN ACC.: 6.542327e+01, TEST ACC.: 6.751675e+01\n"
     ]
    },
    {
     "name": "stderr",
     "output_type": "stream",
     "text": [
      "100%|██████████| 2000/2000 [00:08<00:00, 233.43it/s]\n"
     ]
    },
    {
     "name": "stdout",
     "output_type": "stream",
     "text": [
      "EPOCH: 53, LOSS: 2.072943e+00, TRAIN ACC.: 6.658333e+01, TEST ACC.: 6.565656e+01\n"
     ]
    },
    {
     "name": "stderr",
     "output_type": "stream",
     "text": [
      "100%|██████████| 2000/2000 [00:11<00:00, 176.70it/s]\n"
     ]
    },
    {
     "name": "stdout",
     "output_type": "stream",
     "text": [
      "EPOCH: 54, LOSS: 2.094496e+00, TRAIN ACC.: 6.574329e+01, TEST ACC.: 6.665667e+01\n"
     ]
    },
    {
     "name": "stderr",
     "output_type": "stream",
     "text": [
      "100%|██████████| 2000/2000 [00:10<00:00, 185.18it/s]\n"
     ]
    },
    {
     "name": "stdout",
     "output_type": "stream",
     "text": [
      "EPOCH: 55, LOSS: 2.055550e+00, TRAIN ACC.: 6.629332e+01, TEST ACC.: 6.748675e+01\n"
     ]
    },
    {
     "name": "stderr",
     "output_type": "stream",
     "text": [
      "100%|██████████| 2000/2000 [00:11<00:00, 178.02it/s]\n"
     ]
    },
    {
     "name": "stdout",
     "output_type": "stream",
     "text": [
      "EPOCH: 56, LOSS: 2.049081e+00, TRAIN ACC.: 6.681334e+01, TEST ACC.: 6.757676e+01\n"
     ]
    },
    {
     "name": "stderr",
     "output_type": "stream",
     "text": [
      "100%|██████████| 2000/2000 [00:11<00:00, 179.51it/s]\n"
     ]
    },
    {
     "name": "stdout",
     "output_type": "stream",
     "text": [
      "EPOCH: 57, LOSS: 2.026821e+00, TRAIN ACC.: 6.682835e+01, TEST ACC.: 6.739674e+01\n"
     ]
    },
    {
     "name": "stderr",
     "output_type": "stream",
     "text": [
      "100%|██████████| 2000/2000 [00:08<00:00, 226.28it/s]\n"
     ]
    },
    {
     "name": "stdout",
     "output_type": "stream",
     "text": [
      "EPOCH: 58, LOSS: 2.010470e+00, TRAIN ACC.: 6.716836e+01, TEST ACC.: 6.633663e+01\n"
     ]
    },
    {
     "name": "stderr",
     "output_type": "stream",
     "text": [
      "100%|██████████| 2000/2000 [00:11<00:00, 178.22it/s]\n"
     ]
    },
    {
     "name": "stdout",
     "output_type": "stream",
     "text": [
      "EPOCH: 59, LOSS: 1.995339e+00, TRAIN ACC.: 6.760339e+01, TEST ACC.: 6.747675e+01\n"
     ]
    },
    {
     "name": "stderr",
     "output_type": "stream",
     "text": [
      "100%|██████████| 2000/2000 [00:08<00:00, 239.57it/s] \n"
     ]
    },
    {
     "name": "stdout",
     "output_type": "stream",
     "text": [
      "EPOCH: 60, LOSS: 2.038808e+00, TRAIN ACC.: 6.675834e+01, TEST ACC.: 6.845685e+01\n"
     ]
    },
    {
     "name": "stderr",
     "output_type": "stream",
     "text": [
      "100%|██████████| 2000/2000 [00:11<00:00, 176.54it/s]\n"
     ]
    },
    {
     "name": "stdout",
     "output_type": "stream",
     "text": [
      "EPOCH: 61, LOSS: 1.986914e+00, TRAIN ACC.: 6.771339e+01, TEST ACC.: 6.741674e+01\n"
     ]
    },
    {
     "name": "stderr",
     "output_type": "stream",
     "text": [
      "100%|██████████| 2000/2000 [00:08<00:00, 226.78it/s]\n"
     ]
    },
    {
     "name": "stdout",
     "output_type": "stream",
     "text": [
      "EPOCH: 62, LOSS: 2.009069e+00, TRAIN ACC.: 6.721336e+01, TEST ACC.: 6.911691e+01\n"
     ]
    },
    {
     "name": "stderr",
     "output_type": "stream",
     "text": [
      "100%|██████████| 2000/2000 [00:11<00:00, 174.69it/s]\n"
     ]
    },
    {
     "name": "stdout",
     "output_type": "stream",
     "text": [
      "EPOCH: 63, LOSS: 1.977614e+00, TRAIN ACC.: 6.805341e+01, TEST ACC.: 6.782678e+01\n"
     ]
    },
    {
     "name": "stderr",
     "output_type": "stream",
     "text": [
      "100%|██████████| 2000/2000 [00:11<00:00, 180.91it/s]\n"
     ]
    },
    {
     "name": "stdout",
     "output_type": "stream",
     "text": [
      "EPOCH: 64, LOSS: 1.982753e+00, TRAIN ACC.: 6.807340e+01, TEST ACC.: 6.719672e+01\n"
     ]
    },
    {
     "name": "stderr",
     "output_type": "stream",
     "text": [
      "100%|██████████| 2000/2000 [00:10<00:00, 182.08it/s]\n"
     ]
    },
    {
     "name": "stdout",
     "output_type": "stream",
     "text": [
      "EPOCH: 65, LOSS: 1.999478e+00, TRAIN ACC.: 6.770338e+01, TEST ACC.: 6.859686e+01\n"
     ]
    },
    {
     "name": "stderr",
     "output_type": "stream",
     "text": [
      "100%|██████████| 2000/2000 [00:11<00:00, 177.43it/s]\n"
     ]
    },
    {
     "name": "stdout",
     "output_type": "stream",
     "text": [
      "EPOCH: 66, LOSS: 1.989044e+00, TRAIN ACC.: 6.804340e+01, TEST ACC.: 6.856686e+01\n"
     ]
    },
    {
     "name": "stderr",
     "output_type": "stream",
     "text": [
      "100%|██████████| 2000/2000 [00:08<00:00, 225.83it/s] \n"
     ]
    },
    {
     "name": "stdout",
     "output_type": "stream",
     "text": [
      "EPOCH: 67, LOSS: 1.956540e+00, TRAIN ACC.: 6.851842e+01, TEST ACC.: 6.895689e+01\n"
     ]
    },
    {
     "name": "stderr",
     "output_type": "stream",
     "text": [
      "100%|██████████| 2000/2000 [00:11<00:00, 179.53it/s]\n"
     ]
    },
    {
     "name": "stdout",
     "output_type": "stream",
     "text": [
      "EPOCH: 68, LOSS: 1.981690e+00, TRAIN ACC.: 6.789840e+01, TEST ACC.: 7.003700e+01\n"
     ]
    },
    {
     "name": "stderr",
     "output_type": "stream",
     "text": [
      "100%|██████████| 2000/2000 [00:08<00:00, 234.27it/s] \n"
     ]
    },
    {
     "name": "stdout",
     "output_type": "stream",
     "text": [
      "EPOCH: 69, LOSS: 1.950577e+00, TRAIN ACC.: 6.840842e+01, TEST ACC.: 6.974698e+01\n"
     ]
    },
    {
     "name": "stderr",
     "output_type": "stream",
     "text": [
      "100%|██████████| 2000/2000 [00:11<00:00, 178.69it/s]\n"
     ]
    },
    {
     "name": "stdout",
     "output_type": "stream",
     "text": [
      "EPOCH: 70, LOSS: 1.936399e+00, TRAIN ACC.: 6.872344e+01, TEST ACC.: 6.894689e+01\n"
     ]
    },
    {
     "name": "stderr",
     "output_type": "stream",
     "text": [
      "100%|██████████| 2000/2000 [00:08<00:00, 227.62it/s]\n"
     ]
    },
    {
     "name": "stdout",
     "output_type": "stream",
     "text": [
      "EPOCH: 71, LOSS: 1.933925e+00, TRAIN ACC.: 6.881844e+01, TEST ACC.: 6.954696e+01\n"
     ]
    },
    {
     "name": "stderr",
     "output_type": "stream",
     "text": [
      "100%|██████████| 2000/2000 [00:11<00:00, 174.67it/s]\n"
     ]
    },
    {
     "name": "stdout",
     "output_type": "stream",
     "text": [
      "EPOCH: 72, LOSS: 1.946205e+00, TRAIN ACC.: 6.886345e+01, TEST ACC.: 6.968697e+01\n"
     ]
    },
    {
     "name": "stderr",
     "output_type": "stream",
     "text": [
      "100%|██████████| 2000/2000 [00:11<00:00, 181.02it/s]\n"
     ]
    },
    {
     "name": "stdout",
     "output_type": "stream",
     "text": [
      "EPOCH: 73, LOSS: 1.912187e+00, TRAIN ACC.: 6.958848e+01, TEST ACC.: 6.922692e+01\n"
     ]
    },
    {
     "name": "stderr",
     "output_type": "stream",
     "text": [
      "100%|██████████| 2000/2000 [00:08<00:00, 225.58it/s]\n"
     ]
    },
    {
     "name": "stdout",
     "output_type": "stream",
     "text": [
      "EPOCH: 74, LOSS: 1.917840e+00, TRAIN ACC.: 6.935347e+01, TEST ACC.: 6.937694e+01\n"
     ]
    },
    {
     "name": "stderr",
     "output_type": "stream",
     "text": [
      "100%|██████████| 2000/2000 [00:11<00:00, 180.35it/s]\n"
     ]
    },
    {
     "name": "stdout",
     "output_type": "stream",
     "text": [
      "EPOCH: 75, LOSS: 1.908825e+00, TRAIN ACC.: 6.962849e+01, TEST ACC.: 6.905691e+01\n"
     ]
    },
    {
     "name": "stderr",
     "output_type": "stream",
     "text": [
      "100%|██████████| 2000/2000 [00:08<00:00, 230.05it/s] \n"
     ]
    },
    {
     "name": "stdout",
     "output_type": "stream",
     "text": [
      "EPOCH: 76, LOSS: 1.913589e+00, TRAIN ACC.: 6.936847e+01, TEST ACC.: 7.005701e+01\n"
     ]
    },
    {
     "name": "stderr",
     "output_type": "stream",
     "text": [
      "100%|██████████| 2000/2000 [00:11<00:00, 171.98it/s]\n"
     ]
    },
    {
     "name": "stdout",
     "output_type": "stream",
     "text": [
      "EPOCH: 77, LOSS: 1.934376e+00, TRAIN ACC.: 6.897345e+01, TEST ACC.: 7.031703e+01\n"
     ]
    },
    {
     "name": "stderr",
     "output_type": "stream",
     "text": [
      "100%|██████████| 2000/2000 [00:08<00:00, 232.86it/s] \n"
     ]
    },
    {
     "name": "stdout",
     "output_type": "stream",
     "text": [
      "EPOCH: 78, LOSS: 1.929745e+00, TRAIN ACC.: 6.883344e+01, TEST ACC.: 7.043704e+01\n"
     ]
    },
    {
     "name": "stderr",
     "output_type": "stream",
     "text": [
      "100%|██████████| 2000/2000 [00:11<00:00, 176.01it/s]\n"
     ]
    },
    {
     "name": "stdout",
     "output_type": "stream",
     "text": [
      "EPOCH: 79, LOSS: 1.885352e+00, TRAIN ACC.: 6.984850e+01, TEST ACC.: 7.017702e+01\n"
     ]
    },
    {
     "name": "stderr",
     "output_type": "stream",
     "text": [
      "100%|██████████| 2000/2000 [00:11<00:00, 178.29it/s]\n"
     ]
    },
    {
     "name": "stdout",
     "output_type": "stream",
     "text": [
      "EPOCH: 80, LOSS: 1.912097e+00, TRAIN ACC.: 6.936347e+01, TEST ACC.: 7.098710e+01\n"
     ]
    },
    {
     "name": "stderr",
     "output_type": "stream",
     "text": [
      "100%|██████████| 2000/2000 [00:11<00:00, 175.67it/s]\n"
     ]
    },
    {
     "name": "stdout",
     "output_type": "stream",
     "text": [
      "EPOCH: 81, LOSS: 1.850660e+00, TRAIN ACC.: 7.006351e+01, TEST ACC.: 6.999700e+01\n"
     ]
    },
    {
     "name": "stderr",
     "output_type": "stream",
     "text": [
      "100%|██████████| 2000/2000 [00:10<00:00, 185.19it/s]\n"
     ]
    },
    {
     "name": "stdout",
     "output_type": "stream",
     "text": [
      "EPOCH: 82, LOSS: 1.864907e+00, TRAIN ACC.: 7.011351e+01, TEST ACC.: 7.047705e+01\n"
     ]
    },
    {
     "name": "stderr",
     "output_type": "stream",
     "text": [
      "100%|██████████| 2000/2000 [00:08<00:00, 228.11it/s]\n"
     ]
    },
    {
     "name": "stdout",
     "output_type": "stream",
     "text": [
      "EPOCH: 83, LOSS: 1.888380e+00, TRAIN ACC.: 6.969849e+01, TEST ACC.: 7.086709e+01\n"
     ]
    },
    {
     "name": "stderr",
     "output_type": "stream",
     "text": [
      "100%|██████████| 2000/2000 [00:11<00:00, 176.86it/s]\n"
     ]
    },
    {
     "name": "stdout",
     "output_type": "stream",
     "text": [
      "EPOCH: 84, LOSS: 1.856922e+00, TRAIN ACC.: 7.044852e+01, TEST ACC.: 7.044704e+01\n"
     ]
    },
    {
     "name": "stderr",
     "output_type": "stream",
     "text": [
      "100%|██████████| 2000/2000 [00:08<00:00, 243.16it/s] \n"
     ]
    },
    {
     "name": "stdout",
     "output_type": "stream",
     "text": [
      "EPOCH: 85, LOSS: 1.835476e+00, TRAIN ACC.: 7.086855e+01, TEST ACC.: 7.037704e+01\n"
     ]
    },
    {
     "name": "stderr",
     "output_type": "stream",
     "text": [
      "100%|██████████| 2000/2000 [00:11<00:00, 175.89it/s]\n"
     ]
    },
    {
     "name": "stdout",
     "output_type": "stream",
     "text": [
      "EPOCH: 86, LOSS: 1.842418e+00, TRAIN ACC.: 7.073354e+01, TEST ACC.: 7.081709e+01\n"
     ]
    },
    {
     "name": "stderr",
     "output_type": "stream",
     "text": [
      "100%|██████████| 2000/2000 [00:08<00:00, 222.68it/s] \n"
     ]
    },
    {
     "name": "stdout",
     "output_type": "stream",
     "text": [
      "EPOCH: 87, LOSS: 1.882153e+00, TRAIN ACC.: 6.971849e+01, TEST ACC.: 7.074708e+01\n"
     ]
    },
    {
     "name": "stderr",
     "output_type": "stream",
     "text": [
      "100%|██████████| 2000/2000 [00:11<00:00, 176.39it/s]\n"
     ]
    },
    {
     "name": "stdout",
     "output_type": "stream",
     "text": [
      "EPOCH: 88, LOSS: 1.823903e+00, TRAIN ACC.: 7.090855e+01, TEST ACC.: 7.122713e+01\n"
     ]
    },
    {
     "name": "stderr",
     "output_type": "stream",
     "text": [
      "100%|██████████| 2000/2000 [00:11<00:00, 180.53it/s]\n"
     ]
    },
    {
     "name": "stdout",
     "output_type": "stream",
     "text": [
      "EPOCH: 89, LOSS: 1.844725e+00, TRAIN ACC.: 7.066354e+01, TEST ACC.: 6.960696e+01\n"
     ]
    },
    {
     "name": "stderr",
     "output_type": "stream",
     "text": [
      "100%|██████████| 2000/2000 [00:11<00:00, 175.31it/s]\n"
     ]
    },
    {
     "name": "stdout",
     "output_type": "stream",
     "text": [
      "EPOCH: 90, LOSS: 1.842466e+00, TRAIN ACC.: 7.054353e+01, TEST ACC.: 7.126713e+01\n"
     ]
    },
    {
     "name": "stderr",
     "output_type": "stream",
     "text": [
      "100%|██████████| 2000/2000 [00:11<00:00, 175.08it/s]\n"
     ]
    },
    {
     "name": "stdout",
     "output_type": "stream",
     "text": [
      "EPOCH: 91, LOSS: 1.828115e+00, TRAIN ACC.: 7.079855e+01, TEST ACC.: 7.139714e+01\n"
     ]
    },
    {
     "name": "stderr",
     "output_type": "stream",
     "text": [
      "100%|██████████| 2000/2000 [00:08<00:00, 231.36it/s]\n"
     ]
    },
    {
     "name": "stdout",
     "output_type": "stream",
     "text": [
      "EPOCH: 92, LOSS: 1.808788e+00, TRAIN ACC.: 7.104356e+01, TEST ACC.: 7.134714e+01\n"
     ]
    },
    {
     "name": "stderr",
     "output_type": "stream",
     "text": [
      "100%|██████████| 2000/2000 [00:11<00:00, 175.83it/s]\n"
     ]
    },
    {
     "name": "stdout",
     "output_type": "stream",
     "text": [
      "EPOCH: 93, LOSS: 1.829649e+00, TRAIN ACC.: 7.084854e+01, TEST ACC.: 7.117712e+01\n"
     ]
    },
    {
     "name": "stderr",
     "output_type": "stream",
     "text": [
      "100%|██████████| 2000/2000 [00:08<00:00, 228.61it/s] \n"
     ]
    },
    {
     "name": "stdout",
     "output_type": "stream",
     "text": [
      "EPOCH: 94, LOSS: 1.793873e+00, TRAIN ACC.: 7.116856e+01, TEST ACC.: 7.194720e+01\n"
     ]
    },
    {
     "name": "stderr",
     "output_type": "stream",
     "text": [
      "100%|██████████| 2000/2000 [00:11<00:00, 175.14it/s]\n"
     ]
    },
    {
     "name": "stdout",
     "output_type": "stream",
     "text": [
      "EPOCH: 95, LOSS: 1.816178e+00, TRAIN ACC.: 7.147858e+01, TEST ACC.: 7.064706e+01\n"
     ]
    },
    {
     "name": "stderr",
     "output_type": "stream",
     "text": [
      "100%|██████████| 2000/2000 [00:08<00:00, 224.09it/s] \n"
     ]
    },
    {
     "name": "stdout",
     "output_type": "stream",
     "text": [
      "EPOCH: 96, LOSS: 1.813930e+00, TRAIN ACC.: 7.138857e+01, TEST ACC.: 7.128713e+01\n"
     ]
    },
    {
     "name": "stderr",
     "output_type": "stream",
     "text": [
      "100%|██████████| 2000/2000 [00:11<00:00, 172.91it/s]\n"
     ]
    },
    {
     "name": "stdout",
     "output_type": "stream",
     "text": [
      "EPOCH: 97, LOSS: 1.806605e+00, TRAIN ACC.: 7.117856e+01, TEST ACC.: 7.121712e+01\n"
     ]
    },
    {
     "name": "stderr",
     "output_type": "stream",
     "text": [
      "100%|██████████| 2000/2000 [00:09<00:00, 219.19it/s]\n"
     ]
    },
    {
     "name": "stdout",
     "output_type": "stream",
     "text": [
      "EPOCH: 98, LOSS: 1.798878e+00, TRAIN ACC.: 7.117856e+01, TEST ACC.: 7.210721e+01\n"
     ]
    },
    {
     "name": "stderr",
     "output_type": "stream",
     "text": [
      "100%|██████████| 2000/2000 [00:11<00:00, 179.69it/s]\n"
     ]
    },
    {
     "name": "stdout",
     "output_type": "stream",
     "text": [
      "EPOCH: 99, LOSS: 1.823915e+00, TRAIN ACC.: 7.110856e+01, TEST ACC.: 7.152715e+01\n"
     ]
    },
    {
     "name": "stderr",
     "output_type": "stream",
     "text": [
      "100%|██████████| 2000/2000 [00:11<00:00, 175.70it/s]\n"
     ]
    },
    {
     "name": "stdout",
     "output_type": "stream",
     "text": [
      "EPOCH: 100, LOSS: 1.794981e+00, TRAIN ACC.: 7.117356e+01, TEST ACC.: 7.119712e+01\n"
     ]
    },
    {
     "name": "stderr",
     "output_type": "stream",
     "text": [
      "100%|██████████| 2000/2000 [00:11<00:00, 176.71it/s]\n"
     ]
    },
    {
     "name": "stdout",
     "output_type": "stream",
     "text": [
      "EPOCH: 101, LOSS: 1.792590e+00, TRAIN ACC.: 7.147858e+01, TEST ACC.: 7.256726e+01\n"
     ]
    },
    {
     "name": "stderr",
     "output_type": "stream",
     "text": [
      "100%|██████████| 2000/2000 [00:11<00:00, 180.19it/s]\n"
     ]
    },
    {
     "name": "stdout",
     "output_type": "stream",
     "text": [
      "EPOCH: 102, LOSS: 1.784458e+00, TRAIN ACC.: 7.174859e+01, TEST ACC.: 7.198720e+01\n"
     ]
    },
    {
     "name": "stderr",
     "output_type": "stream",
     "text": [
      "100%|██████████| 2000/2000 [00:08<00:00, 227.88it/s]\n"
     ]
    },
    {
     "name": "stdout",
     "output_type": "stream",
     "text": [
      "EPOCH: 103, LOSS: 1.799596e+00, TRAIN ACC.: 7.117356e+01, TEST ACC.: 7.204720e+01\n"
     ]
    },
    {
     "name": "stderr",
     "output_type": "stream",
     "text": [
      "100%|██████████| 2000/2000 [00:11<00:00, 176.99it/s]\n"
     ]
    },
    {
     "name": "stdout",
     "output_type": "stream",
     "text": [
      "EPOCH: 104, LOSS: 1.773345e+00, TRAIN ACC.: 7.183360e+01, TEST ACC.: 7.215722e+01\n"
     ]
    },
    {
     "name": "stderr",
     "output_type": "stream",
     "text": [
      "100%|██████████| 2000/2000 [00:08<00:00, 223.35it/s] \n"
     ]
    },
    {
     "name": "stdout",
     "output_type": "stream",
     "text": [
      "EPOCH: 105, LOSS: 1.785833e+00, TRAIN ACC.: 7.196360e+01, TEST ACC.: 7.312731e+01\n"
     ]
    },
    {
     "name": "stderr",
     "output_type": "stream",
     "text": [
      "100%|██████████| 2000/2000 [00:10<00:00, 186.12it/s]\n"
     ]
    },
    {
     "name": "stdout",
     "output_type": "stream",
     "text": [
      "EPOCH: 106, LOSS: 1.796231e+00, TRAIN ACC.: 7.190860e+01, TEST ACC.: 7.267727e+01\n"
     ]
    },
    {
     "name": "stderr",
     "output_type": "stream",
     "text": [
      "100%|██████████| 2000/2000 [00:08<00:00, 230.81it/s]\n"
     ]
    },
    {
     "name": "stdout",
     "output_type": "stream",
     "text": [
      "EPOCH: 107, LOSS: 1.767357e+00, TRAIN ACC.: 7.185860e+01, TEST ACC.: 7.276728e+01\n"
     ]
    },
    {
     "name": "stderr",
     "output_type": "stream",
     "text": [
      "100%|██████████| 2000/2000 [00:11<00:00, 179.29it/s]\n"
     ]
    },
    {
     "name": "stdout",
     "output_type": "stream",
     "text": [
      "EPOCH: 108, LOSS: 1.769179e+00, TRAIN ACC.: 7.175859e+01, TEST ACC.: 7.217722e+01\n"
     ]
    },
    {
     "name": "stderr",
     "output_type": "stream",
     "text": [
      "100%|██████████| 2000/2000 [00:11<00:00, 176.43it/s]\n"
     ]
    },
    {
     "name": "stdout",
     "output_type": "stream",
     "text": [
      "EPOCH: 109, LOSS: 1.775699e+00, TRAIN ACC.: 7.201360e+01, TEST ACC.: 7.213721e+01\n"
     ]
    },
    {
     "name": "stderr",
     "output_type": "stream",
     "text": [
      "100%|██████████| 2000/2000 [00:08<00:00, 227.65it/s]\n"
     ]
    },
    {
     "name": "stdout",
     "output_type": "stream",
     "text": [
      "EPOCH: 110, LOSS: 1.765641e+00, TRAIN ACC.: 7.224861e+01, TEST ACC.: 7.186719e+01\n"
     ]
    },
    {
     "name": "stderr",
     "output_type": "stream",
     "text": [
      "100%|██████████| 2000/2000 [00:10<00:00, 182.91it/s]\n"
     ]
    },
    {
     "name": "stdout",
     "output_type": "stream",
     "text": [
      "EPOCH: 111, LOSS: 1.750857e+00, TRAIN ACC.: 7.248862e+01, TEST ACC.: 7.243724e+01\n"
     ]
    },
    {
     "name": "stderr",
     "output_type": "stream",
     "text": [
      "100%|██████████| 2000/2000 [00:08<00:00, 237.89it/s] \n"
     ]
    },
    {
     "name": "stdout",
     "output_type": "stream",
     "text": [
      "EPOCH: 112, LOSS: 1.768867e+00, TRAIN ACC.: 7.212361e+01, TEST ACC.: 7.221722e+01\n"
     ]
    },
    {
     "name": "stderr",
     "output_type": "stream",
     "text": [
      "100%|██████████| 2000/2000 [00:11<00:00, 173.96it/s]\n"
     ]
    },
    {
     "name": "stdout",
     "output_type": "stream",
     "text": [
      "EPOCH: 113, LOSS: 1.779468e+00, TRAIN ACC.: 7.166859e+01, TEST ACC.: 7.229723e+01\n"
     ]
    },
    {
     "name": "stderr",
     "output_type": "stream",
     "text": [
      "100%|██████████| 2000/2000 [00:08<00:00, 240.27it/s] \n"
     ]
    },
    {
     "name": "stdout",
     "output_type": "stream",
     "text": [
      "EPOCH: 114, LOSS: 1.745837e+00, TRAIN ACC.: 7.219861e+01, TEST ACC.: 7.209721e+01\n"
     ]
    },
    {
     "name": "stderr",
     "output_type": "stream",
     "text": [
      "100%|██████████| 2000/2000 [00:10<00:00, 184.59it/s]\n"
     ]
    },
    {
     "name": "stdout",
     "output_type": "stream",
     "text": [
      "EPOCH: 115, LOSS: 1.752783e+00, TRAIN ACC.: 7.256863e+01, TEST ACC.: 7.208721e+01\n"
     ]
    },
    {
     "name": "stderr",
     "output_type": "stream",
     "text": [
      "100%|██████████| 2000/2000 [00:11<00:00, 176.65it/s]\n"
     ]
    },
    {
     "name": "stdout",
     "output_type": "stream",
     "text": [
      "EPOCH: 116, LOSS: 1.766015e+00, TRAIN ACC.: 7.166859e+01, TEST ACC.: 7.292729e+01\n"
     ]
    },
    {
     "name": "stderr",
     "output_type": "stream",
     "text": [
      "100%|██████████| 2000/2000 [00:11<00:00, 181.55it/s]\n"
     ]
    },
    {
     "name": "stdout",
     "output_type": "stream",
     "text": [
      "EPOCH: 117, LOSS: 1.732797e+00, TRAIN ACC.: 7.243862e+01, TEST ACC.: 7.404741e+01\n"
     ]
    },
    {
     "name": "stderr",
     "output_type": "stream",
     "text": [
      "100%|██████████| 2000/2000 [00:11<00:00, 177.15it/s]\n"
     ]
    },
    {
     "name": "stdout",
     "output_type": "stream",
     "text": [
      "EPOCH: 118, LOSS: 1.765782e+00, TRAIN ACC.: 7.227862e+01, TEST ACC.: 7.274728e+01\n"
     ]
    },
    {
     "name": "stderr",
     "output_type": "stream",
     "text": [
      "100%|██████████| 2000/2000 [00:08<00:00, 232.13it/s]\n"
     ]
    },
    {
     "name": "stdout",
     "output_type": "stream",
     "text": [
      "EPOCH: 119, LOSS: 1.721837e+00, TRAIN ACC.: 7.259863e+01, TEST ACC.: 7.312731e+01\n"
     ]
    },
    {
     "name": "stderr",
     "output_type": "stream",
     "text": [
      "100%|██████████| 2000/2000 [00:11<00:00, 173.05it/s]\n"
     ]
    },
    {
     "name": "stdout",
     "output_type": "stream",
     "text": [
      "EPOCH: 120, LOSS: 1.714888e+00, TRAIN ACC.: 7.269864e+01, TEST ACC.: 7.397740e+01\n"
     ]
    },
    {
     "name": "stderr",
     "output_type": "stream",
     "text": [
      "100%|██████████| 2000/2000 [00:08<00:00, 241.78it/s] \n"
     ]
    },
    {
     "name": "stdout",
     "output_type": "stream",
     "text": [
      "EPOCH: 121, LOSS: 1.747053e+00, TRAIN ACC.: 7.244862e+01, TEST ACC.: 7.265726e+01\n"
     ]
    },
    {
     "name": "stderr",
     "output_type": "stream",
     "text": [
      "100%|██████████| 2000/2000 [00:11<00:00, 175.12it/s]\n"
     ]
    },
    {
     "name": "stdout",
     "output_type": "stream",
     "text": [
      "EPOCH: 122, LOSS: 1.746040e+00, TRAIN ACC.: 7.203361e+01, TEST ACC.: 7.285728e+01\n"
     ]
    },
    {
     "name": "stderr",
     "output_type": "stream",
     "text": [
      "100%|██████████| 2000/2000 [00:08<00:00, 228.88it/s] \n"
     ]
    },
    {
     "name": "stdout",
     "output_type": "stream",
     "text": [
      "EPOCH: 123, LOSS: 1.742518e+00, TRAIN ACC.: 7.233862e+01, TEST ACC.: 7.288729e+01\n"
     ]
    },
    {
     "name": "stderr",
     "output_type": "stream",
     "text": [
      "100%|██████████| 2000/2000 [00:11<00:00, 173.18it/s]\n"
     ]
    },
    {
     "name": "stdout",
     "output_type": "stream",
     "text": [
      "EPOCH: 124, LOSS: 1.721084e+00, TRAIN ACC.: 7.246362e+01, TEST ACC.: 7.250725e+01\n"
     ]
    },
    {
     "name": "stderr",
     "output_type": "stream",
     "text": [
      "100%|██████████| 2000/2000 [00:11<00:00, 179.48it/s]\n"
     ]
    },
    {
     "name": "stdout",
     "output_type": "stream",
     "text": [
      "EPOCH: 125, LOSS: 1.732332e+00, TRAIN ACC.: 7.231362e+01, TEST ACC.: 7.288729e+01\n"
     ]
    },
    {
     "name": "stderr",
     "output_type": "stream",
     "text": [
      "100%|██████████| 2000/2000 [00:11<00:00, 174.18it/s]\n"
     ]
    },
    {
     "name": "stdout",
     "output_type": "stream",
     "text": [
      "EPOCH: 126, LOSS: 1.724625e+00, TRAIN ACC.: 7.284865e+01, TEST ACC.: 7.239724e+01\n"
     ]
    },
    {
     "name": "stderr",
     "output_type": "stream",
     "text": [
      "100%|██████████| 2000/2000 [00:11<00:00, 172.38it/s]\n"
     ]
    },
    {
     "name": "stdout",
     "output_type": "stream",
     "text": [
      "EPOCH: 127, LOSS: 1.721133e+00, TRAIN ACC.: 7.257363e+01, TEST ACC.: 7.279728e+01\n"
     ]
    },
    {
     "name": "stderr",
     "output_type": "stream",
     "text": [
      "100%|██████████| 2000/2000 [00:08<00:00, 233.79it/s]\n"
     ]
    },
    {
     "name": "stdout",
     "output_type": "stream",
     "text": [
      "EPOCH: 128, LOSS: 1.734514e+00, TRAIN ACC.: 7.267364e+01, TEST ACC.: 7.252725e+01\n"
     ]
    },
    {
     "name": "stderr",
     "output_type": "stream",
     "text": [
      "100%|██████████| 2000/2000 [00:11<00:00, 180.04it/s]\n"
     ]
    },
    {
     "name": "stdout",
     "output_type": "stream",
     "text": [
      "EPOCH: 129, LOSS: 1.720927e+00, TRAIN ACC.: 7.251363e+01, TEST ACC.: 7.324732e+01\n"
     ]
    },
    {
     "name": "stderr",
     "output_type": "stream",
     "text": [
      "100%|██████████| 2000/2000 [00:08<00:00, 226.43it/s] \n"
     ]
    },
    {
     "name": "stdout",
     "output_type": "stream",
     "text": [
      "EPOCH: 130, LOSS: 1.711097e+00, TRAIN ACC.: 7.305366e+01, TEST ACC.: 7.417742e+01\n"
     ]
    },
    {
     "name": "stderr",
     "output_type": "stream",
     "text": [
      "100%|██████████| 2000/2000 [00:11<00:00, 176.36it/s]\n"
     ]
    },
    {
     "name": "stdout",
     "output_type": "stream",
     "text": [
      "EPOCH: 131, LOSS: 1.722553e+00, TRAIN ACC.: 7.284364e+01, TEST ACC.: 7.336734e+01\n"
     ]
    },
    {
     "name": "stderr",
     "output_type": "stream",
     "text": [
      "100%|██████████| 2000/2000 [00:08<00:00, 231.69it/s] \n"
     ]
    },
    {
     "name": "stdout",
     "output_type": "stream",
     "text": [
      "EPOCH: 132, LOSS: 1.697111e+00, TRAIN ACC.: 7.350867e+01, TEST ACC.: 7.294730e+01\n"
     ]
    },
    {
     "name": "stderr",
     "output_type": "stream",
     "text": [
      "100%|██████████| 2000/2000 [00:11<00:00, 175.01it/s]\n"
     ]
    },
    {
     "name": "stdout",
     "output_type": "stream",
     "text": [
      "EPOCH: 133, LOSS: 1.695859e+00, TRAIN ACC.: 7.317366e+01, TEST ACC.: 7.354736e+01\n"
     ]
    },
    {
     "name": "stderr",
     "output_type": "stream",
     "text": [
      "100%|██████████| 2000/2000 [00:10<00:00, 182.64it/s]\n"
     ]
    },
    {
     "name": "stdout",
     "output_type": "stream",
     "text": [
      "EPOCH: 134, LOSS: 1.695982e+00, TRAIN ACC.: 7.310866e+01, TEST ACC.: 7.402740e+01\n"
     ]
    },
    {
     "name": "stderr",
     "output_type": "stream",
     "text": [
      "100%|██████████| 2000/2000 [00:11<00:00, 179.62it/s]\n"
     ]
    },
    {
     "name": "stdout",
     "output_type": "stream",
     "text": [
      "EPOCH: 135, LOSS: 1.735950e+00, TRAIN ACC.: 7.276364e+01, TEST ACC.: 7.430743e+01\n"
     ]
    },
    {
     "name": "stderr",
     "output_type": "stream",
     "text": [
      "100%|██████████| 2000/2000 [00:11<00:00, 174.56it/s]\n"
     ]
    },
    {
     "name": "stdout",
     "output_type": "stream",
     "text": [
      "EPOCH: 136, LOSS: 1.681333e+00, TRAIN ACC.: 7.329367e+01, TEST ACC.: 7.348735e+01\n"
     ]
    },
    {
     "name": "stderr",
     "output_type": "stream",
     "text": [
      "100%|██████████| 2000/2000 [00:08<00:00, 236.90it/s]\n"
     ]
    },
    {
     "name": "stdout",
     "output_type": "stream",
     "text": [
      "EPOCH: 137, LOSS: 1.691193e+00, TRAIN ACC.: 7.337867e+01, TEST ACC.: 7.339734e+01\n"
     ]
    },
    {
     "name": "stderr",
     "output_type": "stream",
     "text": [
      "100%|██████████| 2000/2000 [00:11<00:00, 181.26it/s]\n"
     ]
    },
    {
     "name": "stdout",
     "output_type": "stream",
     "text": [
      "EPOCH: 138, LOSS: 1.689656e+00, TRAIN ACC.: 7.342368e+01, TEST ACC.: 7.432743e+01\n"
     ]
    },
    {
     "name": "stderr",
     "output_type": "stream",
     "text": [
      "100%|██████████| 2000/2000 [00:08<00:00, 235.38it/s] \n"
     ]
    },
    {
     "name": "stdout",
     "output_type": "stream",
     "text": [
      "EPOCH: 139, LOSS: 1.724987e+00, TRAIN ACC.: 7.329867e+01, TEST ACC.: 7.340734e+01\n"
     ]
    },
    {
     "name": "stderr",
     "output_type": "stream",
     "text": [
      "100%|██████████| 2000/2000 [00:11<00:00, 176.27it/s]\n"
     ]
    },
    {
     "name": "stdout",
     "output_type": "stream",
     "text": [
      "EPOCH: 140, LOSS: 1.698573e+00, TRAIN ACC.: 7.320366e+01, TEST ACC.: 7.406741e+01\n"
     ]
    },
    {
     "name": "stderr",
     "output_type": "stream",
     "text": [
      "100%|██████████| 2000/2000 [00:08<00:00, 236.68it/s]\n"
     ]
    },
    {
     "name": "stdout",
     "output_type": "stream",
     "text": [
      "EPOCH: 141, LOSS: 1.702325e+00, TRAIN ACC.: 7.322366e+01, TEST ACC.: 7.392739e+01\n"
     ]
    },
    {
     "name": "stderr",
     "output_type": "stream",
     "text": [
      "100%|██████████| 2000/2000 [00:11<00:00, 175.57it/s]\n"
     ]
    },
    {
     "name": "stdout",
     "output_type": "stream",
     "text": [
      "EPOCH: 142, LOSS: 1.711691e+00, TRAIN ACC.: 7.300865e+01, TEST ACC.: 7.444745e+01\n"
     ]
    },
    {
     "name": "stderr",
     "output_type": "stream",
     "text": [
      "100%|██████████| 2000/2000 [00:11<00:00, 175.30it/s]\n"
     ]
    },
    {
     "name": "stdout",
     "output_type": "stream",
     "text": [
      "EPOCH: 143, LOSS: 1.676017e+00, TRAIN ACC.: 7.360868e+01, TEST ACC.: 7.414742e+01\n"
     ]
    },
    {
     "name": "stderr",
     "output_type": "stream",
     "text": [
      "100%|██████████| 2000/2000 [00:11<00:00, 180.52it/s]\n"
     ]
    },
    {
     "name": "stdout",
     "output_type": "stream",
     "text": [
      "EPOCH: 144, LOSS: 1.687867e+00, TRAIN ACC.: 7.329867e+01, TEST ACC.: 7.423743e+01\n"
     ]
    },
    {
     "name": "stderr",
     "output_type": "stream",
     "text": [
      "100%|██████████| 2000/2000 [00:11<00:00, 172.26it/s]\n"
     ]
    },
    {
     "name": "stdout",
     "output_type": "stream",
     "text": [
      "EPOCH: 145, LOSS: 1.695716e+00, TRAIN ACC.: 7.349868e+01, TEST ACC.: 7.396740e+01\n"
     ]
    },
    {
     "name": "stderr",
     "output_type": "stream",
     "text": [
      "100%|██████████| 2000/2000 [00:08<00:00, 223.72it/s]\n"
     ]
    },
    {
     "name": "stdout",
     "output_type": "stream",
     "text": [
      "EPOCH: 146, LOSS: 1.690475e+00, TRAIN ACC.: 7.335867e+01, TEST ACC.: 7.264726e+01\n"
     ]
    },
    {
     "name": "stderr",
     "output_type": "stream",
     "text": [
      "100%|██████████| 2000/2000 [00:10<00:00, 184.49it/s]\n"
     ]
    },
    {
     "name": "stdout",
     "output_type": "stream",
     "text": [
      "EPOCH: 147, LOSS: 1.695943e+00, TRAIN ACC.: 7.332867e+01, TEST ACC.: 7.435744e+01\n"
     ]
    },
    {
     "name": "stderr",
     "output_type": "stream",
     "text": [
      "100%|██████████| 2000/2000 [00:08<00:00, 226.82it/s] \n"
     ]
    },
    {
     "name": "stdout",
     "output_type": "stream",
     "text": [
      "EPOCH: 148, LOSS: 1.674405e+00, TRAIN ACC.: 7.381369e+01, TEST ACC.: 7.438744e+01\n"
     ]
    },
    {
     "name": "stderr",
     "output_type": "stream",
     "text": [
      "100%|██████████| 2000/2000 [00:11<00:00, 178.44it/s]\n"
     ]
    },
    {
     "name": "stdout",
     "output_type": "stream",
     "text": [
      "EPOCH: 149, LOSS: 1.683805e+00, TRAIN ACC.: 7.382369e+01, TEST ACC.: 7.374738e+01\n"
     ]
    },
    {
     "name": "stderr",
     "output_type": "stream",
     "text": [
      "100%|██████████| 2000/2000 [00:08<00:00, 230.53it/s]\n"
     ]
    },
    {
     "name": "stdout",
     "output_type": "stream",
     "text": [
      "EPOCH: 150, LOSS: 1.673897e+00, TRAIN ACC.: 7.376369e+01, TEST ACC.: 7.384739e+01\n"
     ]
    },
    {
     "name": "stderr",
     "output_type": "stream",
     "text": [
      "100%|██████████| 2000/2000 [00:11<00:00, 180.64it/s]\n"
     ]
    },
    {
     "name": "stdout",
     "output_type": "stream",
     "text": [
      "EPOCH: 151, LOSS: 1.668931e+00, TRAIN ACC.: 7.367869e+01, TEST ACC.: 7.463747e+01\n"
     ]
    },
    {
     "name": "stderr",
     "output_type": "stream",
     "text": [
      "100%|██████████| 2000/2000 [00:11<00:00, 178.30it/s]\n"
     ]
    },
    {
     "name": "stdout",
     "output_type": "stream",
     "text": [
      "EPOCH: 152, LOSS: 1.670655e+00, TRAIN ACC.: 7.372869e+01, TEST ACC.: 7.358736e+01\n"
     ]
    },
    {
     "name": "stderr",
     "output_type": "stream",
     "text": [
      "100%|██████████| 2000/2000 [00:11<00:00, 179.62it/s]\n"
     ]
    },
    {
     "name": "stdout",
     "output_type": "stream",
     "text": [
      "EPOCH: 153, LOSS: 1.665543e+00, TRAIN ACC.: 7.377869e+01, TEST ACC.: 7.399740e+01\n"
     ]
    },
    {
     "name": "stderr",
     "output_type": "stream",
     "text": [
      "100%|██████████| 2000/2000 [00:11<00:00, 177.22it/s]\n"
     ]
    },
    {
     "name": "stdout",
     "output_type": "stream",
     "text": [
      "EPOCH: 154, LOSS: 1.698995e+00, TRAIN ACC.: 7.364368e+01, TEST ACC.: 7.416742e+01\n"
     ]
    },
    {
     "name": "stderr",
     "output_type": "stream",
     "text": [
      "100%|██████████| 2000/2000 [00:08<00:00, 235.68it/s]\n"
     ]
    },
    {
     "name": "stdout",
     "output_type": "stream",
     "text": [
      "EPOCH: 155, LOSS: 1.646354e+00, TRAIN ACC.: 7.410371e+01, TEST ACC.: 7.411741e+01\n"
     ]
    },
    {
     "name": "stderr",
     "output_type": "stream",
     "text": [
      "100%|██████████| 2000/2000 [00:11<00:00, 177.74it/s]\n"
     ]
    },
    {
     "name": "stdout",
     "output_type": "stream",
     "text": [
      "EPOCH: 156, LOSS: 1.675679e+00, TRAIN ACC.: 7.336867e+01, TEST ACC.: 7.463747e+01\n"
     ]
    },
    {
     "name": "stderr",
     "output_type": "stream",
     "text": [
      "100%|██████████| 2000/2000 [00:08<00:00, 232.39it/s] \n"
     ]
    },
    {
     "name": "stdout",
     "output_type": "stream",
     "text": [
      "EPOCH: 157, LOSS: 1.662136e+00, TRAIN ACC.: 7.423872e+01, TEST ACC.: 7.360736e+01\n"
     ]
    },
    {
     "name": "stderr",
     "output_type": "stream",
     "text": [
      "100%|██████████| 2000/2000 [00:11<00:00, 173.71it/s]\n"
     ]
    },
    {
     "name": "stdout",
     "output_type": "stream",
     "text": [
      "EPOCH: 158, LOSS: 1.641584e+00, TRAIN ACC.: 7.413871e+01, TEST ACC.: 7.406741e+01\n"
     ]
    },
    {
     "name": "stderr",
     "output_type": "stream",
     "text": [
      "100%|██████████| 2000/2000 [00:08<00:00, 228.01it/s]\n"
     ]
    },
    {
     "name": "stdout",
     "output_type": "stream",
     "text": [
      "EPOCH: 159, LOSS: 1.662002e+00, TRAIN ACC.: 7.394370e+01, TEST ACC.: 7.369737e+01\n"
     ]
    },
    {
     "name": "stderr",
     "output_type": "stream",
     "text": [
      "100%|██████████| 2000/2000 [00:11<00:00, 174.12it/s]\n"
     ]
    },
    {
     "name": "stdout",
     "output_type": "stream",
     "text": [
      "EPOCH: 160, LOSS: 1.619375e+00, TRAIN ACC.: 7.462873e+01, TEST ACC.: 7.306731e+01\n"
     ]
    },
    {
     "name": "stderr",
     "output_type": "stream",
     "text": [
      "100%|██████████| 2000/2000 [00:10<00:00, 183.65it/s]\n"
     ]
    },
    {
     "name": "stdout",
     "output_type": "stream",
     "text": [
      "EPOCH: 161, LOSS: 1.634822e+00, TRAIN ACC.: 7.466874e+01, TEST ACC.: 7.336734e+01\n"
     ]
    },
    {
     "name": "stderr",
     "output_type": "stream",
     "text": [
      "100%|██████████| 2000/2000 [00:10<00:00, 185.39it/s]\n"
     ]
    },
    {
     "name": "stdout",
     "output_type": "stream",
     "text": [
      "EPOCH: 162, LOSS: 1.646193e+00, TRAIN ACC.: 7.421371e+01, TEST ACC.: 7.477748e+01\n"
     ]
    },
    {
     "name": "stderr",
     "output_type": "stream",
     "text": [
      "100%|██████████| 2000/2000 [00:11<00:00, 175.33it/s]\n"
     ]
    },
    {
     "name": "stdout",
     "output_type": "stream",
     "text": [
      "EPOCH: 163, LOSS: 1.650738e+00, TRAIN ACC.: 7.362368e+01, TEST ACC.: 7.437744e+01\n"
     ]
    },
    {
     "name": "stderr",
     "output_type": "stream",
     "text": [
      "100%|██████████| 2000/2000 [00:08<00:00, 223.66it/s] \n"
     ]
    },
    {
     "name": "stdout",
     "output_type": "stream",
     "text": [
      "EPOCH: 164, LOSS: 1.644120e+00, TRAIN ACC.: 7.409871e+01, TEST ACC.: 7.502750e+01\n"
     ]
    },
    {
     "name": "stderr",
     "output_type": "stream",
     "text": [
      "100%|██████████| 2000/2000 [00:11<00:00, 176.34it/s]\n"
     ]
    },
    {
     "name": "stdout",
     "output_type": "stream",
     "text": [
      "EPOCH: 165, LOSS: 1.650958e+00, TRAIN ACC.: 7.384370e+01, TEST ACC.: 7.429743e+01\n"
     ]
    },
    {
     "name": "stderr",
     "output_type": "stream",
     "text": [
      "100%|██████████| 2000/2000 [00:08<00:00, 235.62it/s] \n"
     ]
    },
    {
     "name": "stdout",
     "output_type": "stream",
     "text": [
      "EPOCH: 166, LOSS: 1.644259e+00, TRAIN ACC.: 7.390369e+01, TEST ACC.: 7.477748e+01\n"
     ]
    },
    {
     "name": "stderr",
     "output_type": "stream",
     "text": [
      "100%|██████████| 2000/2000 [00:11<00:00, 173.33it/s]\n"
     ]
    },
    {
     "name": "stdout",
     "output_type": "stream",
     "text": [
      "EPOCH: 167, LOSS: 1.635463e+00, TRAIN ACC.: 7.428872e+01, TEST ACC.: 7.452745e+01\n"
     ]
    },
    {
     "name": "stderr",
     "output_type": "stream",
     "text": [
      "100%|██████████| 2000/2000 [00:08<00:00, 224.69it/s]\n"
     ]
    },
    {
     "name": "stdout",
     "output_type": "stream",
     "text": [
      "EPOCH: 168, LOSS: 1.629423e+00, TRAIN ACC.: 7.429372e+01, TEST ACC.: 7.457746e+01\n"
     ]
    },
    {
     "name": "stderr",
     "output_type": "stream",
     "text": [
      "100%|██████████| 2000/2000 [00:11<00:00, 177.81it/s]\n"
     ]
    },
    {
     "name": "stdout",
     "output_type": "stream",
     "text": [
      "EPOCH: 169, LOSS: 1.637997e+00, TRAIN ACC.: 7.401370e+01, TEST ACC.: 7.505750e+01\n"
     ]
    },
    {
     "name": "stderr",
     "output_type": "stream",
     "text": [
      "100%|██████████| 2000/2000 [00:11<00:00, 175.27it/s]\n"
     ]
    },
    {
     "name": "stdout",
     "output_type": "stream",
     "text": [
      "EPOCH: 170, LOSS: 1.656260e+00, TRAIN ACC.: 7.416871e+01, TEST ACC.: 7.528753e+01\n"
     ]
    },
    {
     "name": "stderr",
     "output_type": "stream",
     "text": [
      "100%|██████████| 2000/2000 [00:11<00:00, 177.22it/s]\n"
     ]
    },
    {
     "name": "stdout",
     "output_type": "stream",
     "text": [
      "EPOCH: 171, LOSS: 1.619002e+00, TRAIN ACC.: 7.452373e+01, TEST ACC.: 7.426743e+01\n"
     ]
    },
    {
     "name": "stderr",
     "output_type": "stream",
     "text": [
      "100%|██████████| 2000/2000 [00:11<00:00, 176.32it/s]\n"
     ]
    },
    {
     "name": "stdout",
     "output_type": "stream",
     "text": [
      "EPOCH: 172, LOSS: 1.629109e+00, TRAIN ACC.: 7.441372e+01, TEST ACC.: 7.570757e+01\n"
     ]
    },
    {
     "name": "stderr",
     "output_type": "stream",
     "text": [
      "100%|██████████| 2000/2000 [00:08<00:00, 237.81it/s]\n"
     ]
    },
    {
     "name": "stdout",
     "output_type": "stream",
     "text": [
      "EPOCH: 173, LOSS: 1.608842e+00, TRAIN ACC.: 7.437872e+01, TEST ACC.: 7.506750e+01\n"
     ]
    },
    {
     "name": "stderr",
     "output_type": "stream",
     "text": [
      "100%|██████████| 2000/2000 [00:11<00:00, 180.36it/s]\n"
     ]
    },
    {
     "name": "stdout",
     "output_type": "stream",
     "text": [
      "EPOCH: 174, LOSS: 1.631489e+00, TRAIN ACC.: 7.444373e+01, TEST ACC.: 7.376738e+01\n"
     ]
    },
    {
     "name": "stderr",
     "output_type": "stream",
     "text": [
      "100%|██████████| 2000/2000 [00:08<00:00, 237.62it/s] \n"
     ]
    },
    {
     "name": "stdout",
     "output_type": "stream",
     "text": [
      "EPOCH: 175, LOSS: 1.623002e+00, TRAIN ACC.: 7.437372e+01, TEST ACC.: 7.495750e+01\n"
     ]
    },
    {
     "name": "stderr",
     "output_type": "stream",
     "text": [
      "100%|██████████| 2000/2000 [00:10<00:00, 184.16it/s]\n"
     ]
    },
    {
     "name": "stdout",
     "output_type": "stream",
     "text": [
      "EPOCH: 176, LOSS: 1.643959e+00, TRAIN ACC.: 7.423872e+01, TEST ACC.: 7.470747e+01\n"
     ]
    },
    {
     "name": "stderr",
     "output_type": "stream",
     "text": [
      "100%|██████████| 2000/2000 [00:09<00:00, 221.67it/s]\n"
     ]
    },
    {
     "name": "stdout",
     "output_type": "stream",
     "text": [
      "EPOCH: 177, LOSS: 1.620695e+00, TRAIN ACC.: 7.479374e+01, TEST ACC.: 7.576758e+01\n"
     ]
    },
    {
     "name": "stderr",
     "output_type": "stream",
     "text": [
      "100%|██████████| 2000/2000 [00:10<00:00, 182.09it/s]\n"
     ]
    },
    {
     "name": "stdout",
     "output_type": "stream",
     "text": [
      "EPOCH: 178, LOSS: 1.602813e+00, TRAIN ACC.: 7.487875e+01, TEST ACC.: 7.441744e+01\n"
     ]
    },
    {
     "name": "stderr",
     "output_type": "stream",
     "text": [
      "100%|██████████| 2000/2000 [00:11<00:00, 175.18it/s]\n"
     ]
    },
    {
     "name": "stdout",
     "output_type": "stream",
     "text": [
      "EPOCH: 179, LOSS: 1.610251e+00, TRAIN ACC.: 7.466874e+01, TEST ACC.: 7.410741e+01\n"
     ]
    },
    {
     "name": "stderr",
     "output_type": "stream",
     "text": [
      "100%|██████████| 2000/2000 [00:08<00:00, 235.21it/s]\n"
     ]
    },
    {
     "name": "stdout",
     "output_type": "stream",
     "text": [
      "EPOCH: 180, LOSS: 1.590762e+00, TRAIN ACC.: 7.481874e+01, TEST ACC.: 7.341734e+01\n"
     ]
    },
    {
     "name": "stderr",
     "output_type": "stream",
     "text": [
      "100%|██████████| 2000/2000 [00:11<00:00, 170.83it/s]\n"
     ]
    },
    {
     "name": "stdout",
     "output_type": "stream",
     "text": [
      "EPOCH: 181, LOSS: 1.606494e+00, TRAIN ACC.: 7.472874e+01, TEST ACC.: 7.573757e+01\n"
     ]
    },
    {
     "name": "stderr",
     "output_type": "stream",
     "text": [
      "100%|██████████| 2000/2000 [00:08<00:00, 230.95it/s] \n"
     ]
    },
    {
     "name": "stdout",
     "output_type": "stream",
     "text": [
      "EPOCH: 182, LOSS: 1.605926e+00, TRAIN ACC.: 7.501875e+01, TEST ACC.: 7.598760e+01\n"
     ]
    },
    {
     "name": "stderr",
     "output_type": "stream",
     "text": [
      "100%|██████████| 2000/2000 [00:11<00:00, 173.46it/s]\n"
     ]
    },
    {
     "name": "stdout",
     "output_type": "stream",
     "text": [
      "EPOCH: 183, LOSS: 1.613846e+00, TRAIN ACC.: 7.483374e+01, TEST ACC.: 7.502750e+01\n"
     ]
    },
    {
     "name": "stderr",
     "output_type": "stream",
     "text": [
      "100%|██████████| 2000/2000 [00:08<00:00, 246.38it/s] \n"
     ]
    },
    {
     "name": "stdout",
     "output_type": "stream",
     "text": [
      "EPOCH: 184, LOSS: 1.601676e+00, TRAIN ACC.: 7.514876e+01, TEST ACC.: 7.561756e+01\n"
     ]
    },
    {
     "name": "stderr",
     "output_type": "stream",
     "text": [
      "100%|██████████| 2000/2000 [00:11<00:00, 177.41it/s]\n"
     ]
    },
    {
     "name": "stdout",
     "output_type": "stream",
     "text": [
      "EPOCH: 185, LOSS: 1.619181e+00, TRAIN ACC.: 7.491375e+01, TEST ACC.: 7.471748e+01\n"
     ]
    },
    {
     "name": "stderr",
     "output_type": "stream",
     "text": [
      "100%|██████████| 2000/2000 [00:11<00:00, 179.46it/s]\n"
     ]
    },
    {
     "name": "stdout",
     "output_type": "stream",
     "text": [
      "EPOCH: 186, LOSS: 1.649417e+00, TRAIN ACC.: 7.444872e+01, TEST ACC.: 7.612762e+01\n"
     ]
    },
    {
     "name": "stderr",
     "output_type": "stream",
     "text": [
      "100%|██████████| 2000/2000 [00:11<00:00, 178.04it/s]\n"
     ]
    },
    {
     "name": "stdout",
     "output_type": "stream",
     "text": [
      "EPOCH: 187, LOSS: 1.608286e+00, TRAIN ACC.: 7.532877e+01, TEST ACC.: 7.559756e+01\n"
     ]
    },
    {
     "name": "stderr",
     "output_type": "stream",
     "text": [
      "100%|██████████| 2000/2000 [00:11<00:00, 174.40it/s]\n"
     ]
    },
    {
     "name": "stdout",
     "output_type": "stream",
     "text": [
      "EPOCH: 188, LOSS: 1.626409e+00, TRAIN ACC.: 7.393370e+01, TEST ACC.: 7.526752e+01\n"
     ]
    },
    {
     "name": "stderr",
     "output_type": "stream",
     "text": [
      "100%|██████████| 2000/2000 [00:08<00:00, 234.40it/s]\n"
     ]
    },
    {
     "name": "stdout",
     "output_type": "stream",
     "text": [
      "EPOCH: 189, LOSS: 1.576264e+00, TRAIN ACC.: 7.528876e+01, TEST ACC.: 7.569757e+01\n"
     ]
    },
    {
     "name": "stderr",
     "output_type": "stream",
     "text": [
      "100%|██████████| 2000/2000 [00:11<00:00, 178.91it/s]\n"
     ]
    },
    {
     "name": "stdout",
     "output_type": "stream",
     "text": [
      "EPOCH: 190, LOSS: 1.610292e+00, TRAIN ACC.: 7.529377e+01, TEST ACC.: 7.480748e+01\n"
     ]
    },
    {
     "name": "stderr",
     "output_type": "stream",
     "text": [
      "100%|██████████| 2000/2000 [00:08<00:00, 232.95it/s] \n"
     ]
    },
    {
     "name": "stdout",
     "output_type": "stream",
     "text": [
      "EPOCH: 191, LOSS: 1.576605e+00, TRAIN ACC.: 7.531377e+01, TEST ACC.: 7.506750e+01\n"
     ]
    },
    {
     "name": "stderr",
     "output_type": "stream",
     "text": [
      "100%|██████████| 2000/2000 [00:11<00:00, 175.05it/s]\n"
     ]
    },
    {
     "name": "stdout",
     "output_type": "stream",
     "text": [
      "EPOCH: 192, LOSS: 1.609705e+00, TRAIN ACC.: 7.504375e+01, TEST ACC.: 7.532753e+01\n"
     ]
    },
    {
     "name": "stderr",
     "output_type": "stream",
     "text": [
      "100%|██████████| 2000/2000 [00:08<00:00, 236.38it/s] \n"
     ]
    },
    {
     "name": "stdout",
     "output_type": "stream",
     "text": [
      "EPOCH: 193, LOSS: 1.591651e+00, TRAIN ACC.: 7.515876e+01, TEST ACC.: 7.535754e+01\n"
     ]
    },
    {
     "name": "stderr",
     "output_type": "stream",
     "text": [
      "100%|██████████| 2000/2000 [00:11<00:00, 178.83it/s]\n"
     ]
    },
    {
     "name": "stdout",
     "output_type": "stream",
     "text": [
      "EPOCH: 194, LOSS: 1.613652e+00, TRAIN ACC.: 7.480875e+01, TEST ACC.: 7.597760e+01\n"
     ]
    },
    {
     "name": "stderr",
     "output_type": "stream",
     "text": [
      "100%|██████████| 2000/2000 [00:11<00:00, 178.12it/s]\n"
     ]
    },
    {
     "name": "stdout",
     "output_type": "stream",
     "text": [
      "EPOCH: 195, LOSS: 1.592236e+00, TRAIN ACC.: 7.486375e+01, TEST ACC.: 7.544755e+01\n"
     ]
    },
    {
     "name": "stderr",
     "output_type": "stream",
     "text": [
      "100%|██████████| 2000/2000 [00:11<00:00, 181.12it/s]\n"
     ]
    },
    {
     "name": "stdout",
     "output_type": "stream",
     "text": [
      "EPOCH: 196, LOSS: 1.592792e+00, TRAIN ACC.: 7.481874e+01, TEST ACC.: 7.499750e+01\n"
     ]
    },
    {
     "name": "stderr",
     "output_type": "stream",
     "text": [
      "100%|██████████| 2000/2000 [00:11<00:00, 181.76it/s]\n"
     ]
    },
    {
     "name": "stdout",
     "output_type": "stream",
     "text": [
      "EPOCH: 197, LOSS: 1.559051e+00, TRAIN ACC.: 7.570879e+01, TEST ACC.: 7.486749e+01\n"
     ]
    },
    {
     "name": "stderr",
     "output_type": "stream",
     "text": [
      "100%|██████████| 2000/2000 [00:08<00:00, 226.91it/s]\n"
     ]
    },
    {
     "name": "stdout",
     "output_type": "stream",
     "text": [
      "EPOCH: 198, LOSS: 1.593978e+00, TRAIN ACC.: 7.500375e+01, TEST ACC.: 7.554755e+01\n"
     ]
    },
    {
     "name": "stderr",
     "output_type": "stream",
     "text": [
      "100%|██████████| 2000/2000 [00:11<00:00, 180.09it/s]\n"
     ]
    },
    {
     "name": "stdout",
     "output_type": "stream",
     "text": [
      "EPOCH: 199, LOSS: 1.605770e+00, TRAIN ACC.: 7.497875e+01, TEST ACC.: 7.530753e+01\n"
     ]
    },
    {
     "name": "stderr",
     "output_type": "stream",
     "text": [
      "100%|██████████| 2000/2000 [00:08<00:00, 224.60it/s] \n"
     ]
    },
    {
     "name": "stdout",
     "output_type": "stream",
     "text": [
      "EPOCH: 200, LOSS: 1.596477e+00, TRAIN ACC.: 7.467374e+01, TEST ACC.: 7.459746e+01\n"
     ]
    },
    {
     "name": "stderr",
     "output_type": "stream",
     "text": [
      "100%|██████████| 2000/2000 [00:11<00:00, 177.57it/s]\n"
     ]
    },
    {
     "name": "stdout",
     "output_type": "stream",
     "text": [
      "EPOCH: 201, LOSS: 1.565961e+00, TRAIN ACC.: 7.554378e+01, TEST ACC.: 7.531754e+01\n"
     ]
    },
    {
     "name": "stderr",
     "output_type": "stream",
     "text": [
      "100%|██████████| 2000/2000 [00:08<00:00, 224.78it/s] \n"
     ]
    },
    {
     "name": "stdout",
     "output_type": "stream",
     "text": [
      "EPOCH: 202, LOSS: 1.591280e+00, TRAIN ACC.: 7.502375e+01, TEST ACC.: 7.608761e+01\n"
     ]
    },
    {
     "name": "stderr",
     "output_type": "stream",
     "text": [
      "100%|██████████| 2000/2000 [00:11<00:00, 179.32it/s]\n"
     ]
    },
    {
     "name": "stdout",
     "output_type": "stream",
     "text": [
      "EPOCH: 203, LOSS: 1.577646e+00, TRAIN ACC.: 7.534377e+01, TEST ACC.: 7.523753e+01\n"
     ]
    },
    {
     "name": "stderr",
     "output_type": "stream",
     "text": [
      "100%|██████████| 2000/2000 [00:11<00:00, 177.26it/s]\n"
     ]
    },
    {
     "name": "stdout",
     "output_type": "stream",
     "text": [
      "EPOCH: 204, LOSS: 1.603399e+00, TRAIN ACC.: 7.477874e+01, TEST ACC.: 7.615762e+01\n"
     ]
    },
    {
     "name": "stderr",
     "output_type": "stream",
     "text": [
      "100%|██████████| 2000/2000 [00:10<00:00, 186.38it/s]\n"
     ]
    },
    {
     "name": "stdout",
     "output_type": "stream",
     "text": [
      "EPOCH: 205, LOSS: 1.576297e+00, TRAIN ACC.: 7.507876e+01, TEST ACC.: 7.522752e+01\n"
     ]
    },
    {
     "name": "stderr",
     "output_type": "stream",
     "text": [
      "100%|██████████| 2000/2000 [00:11<00:00, 176.45it/s]\n"
     ]
    },
    {
     "name": "stdout",
     "output_type": "stream",
     "text": [
      "EPOCH: 206, LOSS: 1.583792e+00, TRAIN ACC.: 7.516376e+01, TEST ACC.: 7.485748e+01\n"
     ]
    },
    {
     "name": "stderr",
     "output_type": "stream",
     "text": [
      "100%|██████████| 2000/2000 [00:08<00:00, 224.58it/s]\n"
     ]
    },
    {
     "name": "stdout",
     "output_type": "stream",
     "text": [
      "EPOCH: 207, LOSS: 1.580736e+00, TRAIN ACC.: 7.497875e+01, TEST ACC.: 7.560756e+01\n"
     ]
    },
    {
     "name": "stderr",
     "output_type": "stream",
     "text": [
      "100%|██████████| 2000/2000 [00:11<00:00, 178.42it/s]\n"
     ]
    },
    {
     "name": "stdout",
     "output_type": "stream",
     "text": [
      "EPOCH: 208, LOSS: 1.587199e+00, TRAIN ACC.: 7.551378e+01, TEST ACC.: 7.591759e+01\n"
     ]
    },
    {
     "name": "stderr",
     "output_type": "stream",
     "text": [
      "100%|██████████| 2000/2000 [00:08<00:00, 240.68it/s] \n"
     ]
    },
    {
     "name": "stdout",
     "output_type": "stream",
     "text": [
      "EPOCH: 209, LOSS: 1.591827e+00, TRAIN ACC.: 7.526877e+01, TEST ACC.: 7.599760e+01\n"
     ]
    },
    {
     "name": "stderr",
     "output_type": "stream",
     "text": [
      "100%|██████████| 2000/2000 [00:11<00:00, 180.61it/s]\n"
     ]
    },
    {
     "name": "stdout",
     "output_type": "stream",
     "text": [
      "EPOCH: 210, LOSS: 1.573554e+00, TRAIN ACC.: 7.557878e+01, TEST ACC.: 7.591759e+01\n"
     ]
    },
    {
     "name": "stderr",
     "output_type": "stream",
     "text": [
      "100%|██████████| 2000/2000 [00:08<00:00, 225.29it/s] \n"
     ]
    },
    {
     "name": "stdout",
     "output_type": "stream",
     "text": [
      "EPOCH: 211, LOSS: 1.561767e+00, TRAIN ACC.: 7.577879e+01, TEST ACC.: 7.562756e+01\n"
     ]
    },
    {
     "name": "stderr",
     "output_type": "stream",
     "text": [
      "100%|██████████| 2000/2000 [00:11<00:00, 181.26it/s]\n"
     ]
    },
    {
     "name": "stdout",
     "output_type": "stream",
     "text": [
      "EPOCH: 212, LOSS: 1.581608e+00, TRAIN ACC.: 7.503876e+01, TEST ACC.: 7.553755e+01\n"
     ]
    },
    {
     "name": "stderr",
     "output_type": "stream",
     "text": [
      "100%|██████████| 2000/2000 [00:11<00:00, 172.80it/s]\n"
     ]
    },
    {
     "name": "stdout",
     "output_type": "stream",
     "text": [
      "EPOCH: 213, LOSS: 1.561737e+00, TRAIN ACC.: 7.578880e+01, TEST ACC.: 7.630763e+01\n"
     ]
    },
    {
     "name": "stderr",
     "output_type": "stream",
     "text": [
      "100%|██████████| 2000/2000 [00:11<00:00, 180.50it/s]\n"
     ]
    },
    {
     "name": "stdout",
     "output_type": "stream",
     "text": [
      "EPOCH: 214, LOSS: 1.559171e+00, TRAIN ACC.: 7.537377e+01, TEST ACC.: 7.585759e+01\n"
     ]
    },
    {
     "name": "stderr",
     "output_type": "stream",
     "text": [
      "100%|██████████| 2000/2000 [00:11<00:00, 180.21it/s]\n"
     ]
    },
    {
     "name": "stdout",
     "output_type": "stream",
     "text": [
      "EPOCH: 215, LOSS: 1.584376e+00, TRAIN ACC.: 7.549377e+01, TEST ACC.: 7.598760e+01\n"
     ]
    },
    {
     "name": "stderr",
     "output_type": "stream",
     "text": [
      "100%|██████████| 2000/2000 [00:08<00:00, 228.64it/s]\n"
     ]
    },
    {
     "name": "stdout",
     "output_type": "stream",
     "text": [
      "EPOCH: 216, LOSS: 1.561801e+00, TRAIN ACC.: 7.551378e+01, TEST ACC.: 7.590759e+01\n"
     ]
    },
    {
     "name": "stderr",
     "output_type": "stream",
     "text": [
      "100%|██████████| 2000/2000 [00:11<00:00, 177.38it/s]\n"
     ]
    },
    {
     "name": "stdout",
     "output_type": "stream",
     "text": [
      "EPOCH: 217, LOSS: 1.566639e+00, TRAIN ACC.: 7.584380e+01, TEST ACC.: 7.379738e+01\n"
     ]
    },
    {
     "name": "stderr",
     "output_type": "stream",
     "text": [
      "100%|██████████| 2000/2000 [00:08<00:00, 224.68it/s] \n"
     ]
    },
    {
     "name": "stdout",
     "output_type": "stream",
     "text": [
      "EPOCH: 218, LOSS: 1.569838e+00, TRAIN ACC.: 7.582379e+01, TEST ACC.: 7.567757e+01\n"
     ]
    },
    {
     "name": "stderr",
     "output_type": "stream",
     "text": [
      "100%|██████████| 2000/2000 [00:10<00:00, 185.53it/s]\n"
     ]
    },
    {
     "name": "stdout",
     "output_type": "stream",
     "text": [
      "EPOCH: 219, LOSS: 1.550835e+00, TRAIN ACC.: 7.535377e+01, TEST ACC.: 7.604761e+01\n"
     ]
    },
    {
     "name": "stderr",
     "output_type": "stream",
     "text": [
      "100%|██████████| 2000/2000 [00:09<00:00, 219.86it/s]\n"
     ]
    },
    {
     "name": "stdout",
     "output_type": "stream",
     "text": [
      "EPOCH: 220, LOSS: 1.564071e+00, TRAIN ACC.: 7.535877e+01, TEST ACC.: 7.561756e+01\n"
     ]
    },
    {
     "name": "stderr",
     "output_type": "stream",
     "text": [
      "100%|██████████| 2000/2000 [00:10<00:00, 182.93it/s]\n"
     ]
    },
    {
     "name": "stdout",
     "output_type": "stream",
     "text": [
      "EPOCH: 221, LOSS: 1.567818e+00, TRAIN ACC.: 7.542877e+01, TEST ACC.: 7.634763e+01\n"
     ]
    },
    {
     "name": "stderr",
     "output_type": "stream",
     "text": [
      "100%|██████████| 2000/2000 [00:11<00:00, 178.22it/s]\n"
     ]
    },
    {
     "name": "stdout",
     "output_type": "stream",
     "text": [
      "EPOCH: 222, LOSS: 1.559731e+00, TRAIN ACC.: 7.579879e+01, TEST ACC.: 7.609761e+01\n"
     ]
    },
    {
     "name": "stderr",
     "output_type": "stream",
     "text": [
      "100%|██████████| 2000/2000 [00:11<00:00, 174.98it/s]\n"
     ]
    },
    {
     "name": "stdout",
     "output_type": "stream",
     "text": [
      "EPOCH: 223, LOSS: 1.583490e+00, TRAIN ACC.: 7.545377e+01, TEST ACC.: 7.536754e+01\n"
     ]
    },
    {
     "name": "stderr",
     "output_type": "stream",
     "text": [
      "100%|██████████| 2000/2000 [00:11<00:00, 178.85it/s]\n"
     ]
    },
    {
     "name": "stdout",
     "output_type": "stream",
     "text": [
      "EPOCH: 224, LOSS: 1.539281e+00, TRAIN ACC.: 7.583379e+01, TEST ACC.: 7.676768e+01\n"
     ]
    },
    {
     "name": "stderr",
     "output_type": "stream",
     "text": [
      "100%|██████████| 2000/2000 [00:08<00:00, 232.38it/s]\n"
     ]
    },
    {
     "name": "stdout",
     "output_type": "stream",
     "text": [
      "EPOCH: 225, LOSS: 1.533754e+00, TRAIN ACC.: 7.629882e+01, TEST ACC.: 7.560756e+01\n"
     ]
    },
    {
     "name": "stderr",
     "output_type": "stream",
     "text": [
      "100%|██████████| 2000/2000 [00:11<00:00, 172.44it/s]\n"
     ]
    },
    {
     "name": "stdout",
     "output_type": "stream",
     "text": [
      "EPOCH: 226, LOSS: 1.520881e+00, TRAIN ACC.: 7.605881e+01, TEST ACC.: 7.585759e+01\n"
     ]
    },
    {
     "name": "stderr",
     "output_type": "stream",
     "text": [
      "100%|██████████| 2000/2000 [00:08<00:00, 232.78it/s] \n"
     ]
    },
    {
     "name": "stdout",
     "output_type": "stream",
     "text": [
      "EPOCH: 227, LOSS: 1.565581e+00, TRAIN ACC.: 7.589880e+01, TEST ACC.: 7.590759e+01\n"
     ]
    },
    {
     "name": "stderr",
     "output_type": "stream",
     "text": [
      "100%|██████████| 2000/2000 [00:11<00:00, 178.36it/s]\n"
     ]
    },
    {
     "name": "stdout",
     "output_type": "stream",
     "text": [
      "EPOCH: 228, LOSS: 1.569184e+00, TRAIN ACC.: 7.562379e+01, TEST ACC.: 7.617762e+01\n"
     ]
    },
    {
     "name": "stderr",
     "output_type": "stream",
     "text": [
      "100%|██████████| 2000/2000 [00:08<00:00, 233.58it/s]\n"
     ]
    },
    {
     "name": "stdout",
     "output_type": "stream",
     "text": [
      "EPOCH: 229, LOSS: 1.549727e+00, TRAIN ACC.: 7.610881e+01, TEST ACC.: 7.603761e+01\n"
     ]
    },
    {
     "name": "stderr",
     "output_type": "stream",
     "text": [
      "100%|██████████| 2000/2000 [00:11<00:00, 176.44it/s]\n"
     ]
    },
    {
     "name": "stdout",
     "output_type": "stream",
     "text": [
      "EPOCH: 230, LOSS: 1.543243e+00, TRAIN ACC.: 7.573379e+01, TEST ACC.: 7.592760e+01\n"
     ]
    },
    {
     "name": "stderr",
     "output_type": "stream",
     "text": [
      "100%|██████████| 2000/2000 [00:11<00:00, 169.71it/s]\n"
     ]
    },
    {
     "name": "stdout",
     "output_type": "stream",
     "text": [
      "EPOCH: 231, LOSS: 1.528127e+00, TRAIN ACC.: 7.609881e+01, TEST ACC.: 7.569757e+01\n"
     ]
    },
    {
     "name": "stderr",
     "output_type": "stream",
     "text": [
      "100%|██████████| 2000/2000 [00:11<00:00, 179.08it/s]\n"
     ]
    },
    {
     "name": "stdout",
     "output_type": "stream",
     "text": [
      "EPOCH: 232, LOSS: 1.548870e+00, TRAIN ACC.: 7.632882e+01, TEST ACC.: 7.647765e+01\n"
     ]
    },
    {
     "name": "stderr",
     "output_type": "stream",
     "text": [
      "100%|██████████| 2000/2000 [00:11<00:00, 176.58it/s]\n"
     ]
    },
    {
     "name": "stdout",
     "output_type": "stream",
     "text": [
      "EPOCH: 233, LOSS: 1.553677e+00, TRAIN ACC.: 7.586880e+01, TEST ACC.: 7.598760e+01\n"
     ]
    },
    {
     "name": "stderr",
     "output_type": "stream",
     "text": [
      "100%|██████████| 2000/2000 [00:08<00:00, 226.17it/s]\n"
     ]
    },
    {
     "name": "stdout",
     "output_type": "stream",
     "text": [
      "EPOCH: 234, LOSS: 1.551186e+00, TRAIN ACC.: 7.618881e+01, TEST ACC.: 7.607761e+01\n"
     ]
    },
    {
     "name": "stderr",
     "output_type": "stream",
     "text": [
      "100%|██████████| 2000/2000 [00:10<00:00, 184.27it/s]\n"
     ]
    },
    {
     "name": "stdout",
     "output_type": "stream",
     "text": [
      "EPOCH: 235, LOSS: 1.544237e+00, TRAIN ACC.: 7.605380e+01, TEST ACC.: 7.579758e+01\n"
     ]
    },
    {
     "name": "stderr",
     "output_type": "stream",
     "text": [
      "100%|██████████| 2000/2000 [00:09<00:00, 221.28it/s] \n"
     ]
    },
    {
     "name": "stdout",
     "output_type": "stream",
     "text": [
      "EPOCH: 236, LOSS: 1.533745e+00, TRAIN ACC.: 7.619881e+01, TEST ACC.: 7.623763e+01\n"
     ]
    },
    {
     "name": "stderr",
     "output_type": "stream",
     "text": [
      "100%|██████████| 2000/2000 [00:11<00:00, 178.14it/s]\n"
     ]
    },
    {
     "name": "stdout",
     "output_type": "stream",
     "text": [
      "EPOCH: 237, LOSS: 1.555531e+00, TRAIN ACC.: 7.556378e+01, TEST ACC.: 7.713772e+01\n"
     ]
    },
    {
     "name": "stderr",
     "output_type": "stream",
     "text": [
      "100%|██████████| 2000/2000 [00:08<00:00, 239.60it/s]\n"
     ]
    },
    {
     "name": "stdout",
     "output_type": "stream",
     "text": [
      "EPOCH: 238, LOSS: 1.543083e+00, TRAIN ACC.: 7.590880e+01, TEST ACC.: 7.681768e+01\n"
     ]
    },
    {
     "name": "stderr",
     "output_type": "stream",
     "text": [
      "100%|██████████| 2000/2000 [00:10<00:00, 185.00it/s]\n"
     ]
    },
    {
     "name": "stdout",
     "output_type": "stream",
     "text": [
      "EPOCH: 239, LOSS: 1.536052e+00, TRAIN ACC.: 7.616381e+01, TEST ACC.: 7.593759e+01\n"
     ]
    },
    {
     "name": "stderr",
     "output_type": "stream",
     "text": [
      "100%|██████████| 2000/2000 [00:11<00:00, 181.19it/s]\n"
     ]
    },
    {
     "name": "stdout",
     "output_type": "stream",
     "text": [
      "EPOCH: 240, LOSS: 1.541636e+00, TRAIN ACC.: 7.568879e+01, TEST ACC.: 7.575758e+01\n"
     ]
    },
    {
     "name": "stderr",
     "output_type": "stream",
     "text": [
      "100%|██████████| 2000/2000 [00:11<00:00, 177.94it/s]\n"
     ]
    },
    {
     "name": "stdout",
     "output_type": "stream",
     "text": [
      "EPOCH: 241, LOSS: 1.542018e+00, TRAIN ACC.: 7.585880e+01, TEST ACC.: 7.659766e+01\n"
     ]
    },
    {
     "name": "stderr",
     "output_type": "stream",
     "text": [
      "100%|██████████| 2000/2000 [00:11<00:00, 178.77it/s]\n"
     ]
    },
    {
     "name": "stdout",
     "output_type": "stream",
     "text": [
      "EPOCH: 242, LOSS: 1.535222e+00, TRAIN ACC.: 7.624882e+01, TEST ACC.: 7.628763e+01\n"
     ]
    },
    {
     "name": "stderr",
     "output_type": "stream",
     "text": [
      "100%|██████████| 2000/2000 [00:08<00:00, 242.20it/s]\n"
     ]
    },
    {
     "name": "stdout",
     "output_type": "stream",
     "text": [
      "EPOCH: 243, LOSS: 1.542577e+00, TRAIN ACC.: 7.579879e+01, TEST ACC.: 7.563757e+01\n"
     ]
    },
    {
     "name": "stderr",
     "output_type": "stream",
     "text": [
      "100%|██████████| 2000/2000 [00:10<00:00, 185.14it/s]\n"
     ]
    },
    {
     "name": "stdout",
     "output_type": "stream",
     "text": [
      "EPOCH: 244, LOSS: 1.525794e+00, TRAIN ACC.: 7.626382e+01, TEST ACC.: 7.598760e+01\n"
     ]
    },
    {
     "name": "stderr",
     "output_type": "stream",
     "text": [
      "100%|██████████| 2000/2000 [00:08<00:00, 231.53it/s] \n"
     ]
    },
    {
     "name": "stdout",
     "output_type": "stream",
     "text": [
      "EPOCH: 245, LOSS: 1.524147e+00, TRAIN ACC.: 7.602380e+01, TEST ACC.: 7.673767e+01\n"
     ]
    },
    {
     "name": "stderr",
     "output_type": "stream",
     "text": [
      "100%|██████████| 2000/2000 [00:11<00:00, 177.28it/s]\n"
     ]
    },
    {
     "name": "stdout",
     "output_type": "stream",
     "text": [
      "EPOCH: 246, LOSS: 1.525314e+00, TRAIN ACC.: 7.597380e+01, TEST ACC.: 7.659766e+01\n"
     ]
    },
    {
     "name": "stderr",
     "output_type": "stream",
     "text": [
      "100%|██████████| 2000/2000 [00:08<00:00, 232.39it/s]\n"
     ]
    },
    {
     "name": "stdout",
     "output_type": "stream",
     "text": [
      "EPOCH: 247, LOSS: 1.555987e+00, TRAIN ACC.: 7.605380e+01, TEST ACC.: 7.580758e+01\n"
     ]
    },
    {
     "name": "stderr",
     "output_type": "stream",
     "text": [
      "100%|██████████| 2000/2000 [00:11<00:00, 181.80it/s]\n"
     ]
    },
    {
     "name": "stdout",
     "output_type": "stream",
     "text": [
      "EPOCH: 248, LOSS: 1.504997e+00, TRAIN ACC.: 7.645383e+01, TEST ACC.: 7.652766e+01\n"
     ]
    },
    {
     "name": "stderr",
     "output_type": "stream",
     "text": [
      "100%|██████████| 2000/2000 [00:11<00:00, 173.20it/s]\n"
     ]
    },
    {
     "name": "stdout",
     "output_type": "stream",
     "text": [
      "EPOCH: 249, LOSS: 1.513882e+00, TRAIN ACC.: 7.694385e+01, TEST ACC.: 7.713772e+01\n"
     ]
    },
    {
     "name": "stderr",
     "output_type": "stream",
     "text": [
      "100%|██████████| 2000/2000 [00:11<00:00, 180.23it/s]\n"
     ]
    },
    {
     "name": "stdout",
     "output_type": "stream",
     "text": [
      "EPOCH: 250, LOSS: 1.515580e+00, TRAIN ACC.: 7.653883e+01, TEST ACC.: 7.604761e+01\n"
     ]
    }
   ],
   "source": [
    "model_attn_acc = {'train':[], 'test':[]}\n",
    "\n",
    "train(model_attn, model_attn_acc)"
   ]
  },
  {
   "cell_type": "markdown",
   "metadata": {},
   "source": [
    "학습이 끝났고 에폭별로 모아둔 정확도를 그려봅시다."
   ]
  },
  {
   "cell_type": "code",
   "execution_count": null,
   "metadata": {},
   "outputs": [
    {
     "data": {
      "image/png": "[encoded data removed]",
      "text/plain": [
       "<Figure size 1000x700 with 1 Axes>"
      ]
     },
     "metadata": {},
     "output_type": "display_data"
    }
   ],
   "source": [
    "fig = plt.figure(figsize=(10,7))\n",
    "plt.plot(range(epoches), model_acc['train'], '--', color='k', label='train acc.')\n",
    "plt.plot(range(epoches), model_acc['test'], '--', color='r', label='test acc.')\n",
    "plt.plot(range(epoches), model_attn_acc['train'], color='g', label='attn train acc.')\n",
    "plt.plot(range(epoches), model_attn_acc['test'], color='b', label='attn test acc.')\n",
    "         \n",
    "plt.legend()\n",
    "plt.show()"
   ]
  },
  {
   "cell_type": "markdown",
   "metadata": {},
   "source": [
    "최고 정확도는 다음과 같습니다. 어텐션 모델이 학습은 느리지만 지속적으로 성능이 향상되어 70 에폭쯤에서 추월하는 모습을 볼 수 있습니다."
   ]
  },
  {
   "cell_type": "code",
   "execution_count": null,
   "metadata": {},
   "outputs": [
    {
     "name": "stdout",
     "output_type": "stream",
     "text": [
      "72.06720733642578\n",
      "77.1377182006836\n"
     ]
    }
   ],
   "source": [
    "print(np.max(model_acc['test']))\n",
    "print(np.max(model_attn_acc['test']))"
   ]
  },
  {
   "cell_type": "markdown",
   "metadata": {},
   "source": [
    "## 모델 테스트\n",
    "\n",
    "이제 학습된 두 신경망을 간단히 테스트하고 어텐션 가중치가 어떻게 생성되는지 확인해보도록 합시다."
   ]
  },
  {
   "cell_type": "code",
   "execution_count": null,
   "metadata": {},
   "outputs": [
    {
     "data": {
      "text/plain": [
       "Mnist(\n",
       "  (blocked_linears): ModuleList(\n",
       "    (0-15): 16 x Linear(in_features=49, out_features=17, bias=True)\n",
       "  )\n",
       "  (hidden): Linear(in_features=272, out_features=10, bias=True)\n",
       "  (logsoftmax): LogSoftmax(dim=1)\n",
       ")"
      ]
     },
     "execution_count": null,
     "metadata": {},
     "output_type": "execute_result"
    }
   ],
   "source": [
    "model.eval()"
   ]
  },
  {
   "cell_type": "code",
   "execution_count": null,
   "metadata": {},
   "outputs": [
    {
     "data": {
      "text/plain": [
       "MnistAttn(\n",
       "  (blocked_linears): ModuleList(\n",
       "    (0-15): 16 x Linear(in_features=49, out_features=16, bias=True)\n",
       "  )\n",
       "  (attns): ModuleList(\n",
       "    (0-15): 16 x Linear(in_features=49, out_features=1, bias=True)\n",
       "  )\n",
       "  (hidden): Linear(in_features=256, out_features=10, bias=True)\n",
       "  (logsoftmax): LogSoftmax(dim=1)\n",
       ")"
      ]
     },
     "execution_count": null,
     "metadata": {},
     "output_type": "execute_result"
    }
   ],
   "source": [
    "model_attn.eval()"
   ]
  },
  {
   "cell_type": "code",
   "execution_count": null,
   "metadata": {},
   "outputs": [
    {
     "name": "stdout",
     "output_type": "stream",
     "text": [
      "target          :  tensor([0, 4, 8, 8, 9, 2, 6, 4, 7, 2])\n",
      "model pred.     :  tensor([0, 1, 8, 8, 9, 2, 6, 4, 7, 5], device='cuda:0')\n",
      "model attn pred.:  tensor([0, 4, 8, 8, 7, 2, 6, 6, 7, 7], device='cuda:0')\n"
     ]
    }
   ],
   "source": [
    "# 데이터 로더로 부터 미니배치 하나 얻어오기\n",
    "test_loader_iter = iter(test_loader)\n",
    "batch = next(test_loader_iter)\n",
    "\n",
    "# 미니배치를 7x7 패치로 자르기\n",
    "blocked_batch = torch.tensor(blockshaped(batch['image'].numpy(), 7, 7))\n",
    "\n",
    "# 포워드 시키기\n",
    "blocked_batch = blocked_batch.cuda()\n",
    "\n",
    "out_model = model(blocked_batch)\n",
    "out_model = torch.exp(out_model).argmax(axis=1)\n",
    "\n",
    "out_model_attn = model_attn(blocked_batch)\n",
    "out_model_attn = torch.exp(out_model_attn).argmax(axis=1)\n",
    "\n",
    "print('target          : ', batch['target'])\n",
    "print('model pred.     : ', out_model)\n",
    "print('model attn pred.: ', out_model_attn)"
   ]
  },
  {
   "cell_type": "markdown",
   "metadata": {},
   "source": [
    "이제 `MnistAttn`이 어떻게 어텐션을 했는지 확인해보겠습니다."
   ]
  },
  {
   "cell_type": "code",
   "execution_count": null,
   "metadata": {},
   "outputs": [
    {
     "name": "stdout",
     "output_type": "stream",
     "text": [
      "1\n"
     ]
    },
    {
     "data": {
      "text/plain": [
       "<matplotlib.image.AxesImage>"
      ]
     },
     "execution_count": null,
     "metadata": {},
     "output_type": "execute_result"
    },
    {
     "data": {
      "image/png": "[encoded data removed]",
      "text/plain": [
       "<Figure size 640x480 with 1 Axes>"
      ]
     },
     "metadata": {},
     "output_type": "display_data"
    }
   ],
   "source": [
    "sample_idx = np.random.randint(batch_size)\n",
    "print(sample_idx)\n",
    "\n",
    "plt.imshow(batch['image'][sample_idx], cmap='gray')\n",
    "plt.text(0, 1, batch['target'][sample_idx].item(), color='w')\n",
    "plt.text(26, 1, out_model_attn[sample_idx].item(), color='w')\n",
    "\n",
    "alpha = model_attn.alpha[sample_idx].reshape(4,4).detach().cpu()\n",
    "alpha = torch.repeat_interleave(\n",
    "    torch.repeat_interleave(alpha, torch.tensor([7, 7, 7, 7]), dim=0),\n",
    "    torch.tensor([7, 7, 7, 7]), dim=1\n",
    "    )\n",
    "\n",
    "plt.imshow(alpha, alpha=0.3)"
   ]
  },
  {
   "cell_type": "markdown",
   "metadata": {},
   "source": [
    "그림에서 노란색으로 표시될 수록 강하게 어텐션하는 블록을 입니다. 그리고 상단에 작은 숫자는 왼쪽이 정답, 오른쪽이 예측 결과입니다."
   ]
  },
  {
   "cell_type": "code",
   "execution_count": null,
   "metadata": {},
   "outputs": [
    {
     "data": {
      "image/png": "[encoded data removed]",
      "text/plain": [
       "<Figure size 1500x500 with 10 Axes>"
      ]
     },
     "metadata": {},
     "output_type": "display_data"
    }
   ],
   "source": [
    "fig, ax = plt.subplots(figsize=(15,5), nrows=2, ncols=5)\n",
    "\n",
    "for sample_idx in range(batch_size):\n",
    "    ax[sample_idx//5, sample_idx%5].imshow(batch['image'][sample_idx], cmap='gray')\n",
    "    ax[sample_idx//5, sample_idx%5].text(0, 1, batch['target'][sample_idx].item(), color='w')\n",
    "    ax[sample_idx//5, sample_idx%5].text(26, 1, out_model_attn[sample_idx].item(), color='w')\n",
    "\n",
    "    alpha = model_attn.alpha[sample_idx].reshape(4,4).detach().cpu()\n",
    "    alpha = torch.repeat_interleave(\n",
    "    torch.repeat_interleave(alpha, torch.tensor([7, 7, 7, 7]), dim=0),\n",
    "    torch.tensor([7, 7, 7, 7]), dim=1\n",
    "    )\n",
    "    ax[sample_idx//5, sample_idx%5].imshow(alpha, alpha=0.3)    "
   ]
  },
  {
   "cell_type": "markdown",
   "metadata": {},
   "source": [
    " 열개 이미지에 대해서 적절하게 어텐션이 되고 있음을 확인할 수 있습니다. 특히 이미지 증강 기법으로 숫자가 구석으로 이동된 경우도 어텐션이 숫자를 따라 가는 것이 인상적입니다."
   ]
  },
  {
   "cell_type": "markdown",
   "metadata": {},
   "source": [
    "## 마무리\n",
    "\n",
    "이렇게 mnist 데이터 세트를 이용해서 간단하게 어텐션에 대해서 알아봤습니다. 물론 어텐션을 제대로 적용하기 위해서는 Key, Query, Value라는 개념이 등장해야 합니다. 이 개념을 제대로 적용하려면 인코더-디코더 모델에 적용하는 크로스 어텐션을 이야기해야하는데 너무 복잡하고 또 그렇게 설명하는 대부분의 문서와 다르게 설명하기 위해 이글을 시작했었죠? Key, Query, Value에 대해 이야기하지 않았지만 그리 어려운 개념은 아니며 이 글에서 어텐션의 기본 개념을 잘 이해했다면 쉽게 이해도 가능합니다. 실제 seq2seq나 트랜스포머같은 인코더-디코더 모델에 적용된 어텐션을 공부할 때 그 내용을 이해하기 훨씬 쉬워졌을 것이라 확신합니다."
   ]
  },
  {
   "cell_type": "code",
   "execution_count": null,
   "metadata": {},
   "outputs": [],
   "source": []
  }
 ],
 "metadata": {
  "kernelspec": {
   "display_name": "python3",
   "language": "python",
   "name": "python3"
  }
 },
 "nbformat": 4,
 "nbformat_minor": 2
}

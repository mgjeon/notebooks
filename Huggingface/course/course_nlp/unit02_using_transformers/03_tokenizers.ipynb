{
 "cells": [
  {
   "cell_type": "markdown",
   "id": "11af22d2-9e78-4ba7-9118-3de5504cd737",
   "metadata": {},
   "source": [
    "# Tokenizers\n",
    "\n",
    "- https://huggingface.co/learn/nlp-course/chapter2/4?fw=pt"
   ]
  },
  {
   "cell_type": "code",
   "execution_count": null,
   "id": "098253ad-c990-4dd2-8122-012b0b57c5f9",
   "metadata": {},
   "outputs": [],
   "source": [
    "from transformers import BertTokenizer\n",
    "\n",
    "tokenizer = BertTokenizer.from_pretrained(\"bert-base-cased\")"
   ]
  },
  {
   "cell_type": "code",
   "execution_count": null,
   "id": "886d9016-8bd5-4830-ba7e-c17057919105",
   "metadata": {},
   "outputs": [
    {
     "data": {
      "text/plain": [
       "('dir_tokenizer/tokenizer_config.json',\n",
       " 'dir_tokenizer/special_tokens_map.json',\n",
       " 'dir_tokenizer/vocab.txt',\n",
       " 'dir_tokenizer/added_tokens.json')"
      ]
     },
     "execution_count": null,
     "metadata": {},
     "output_type": "execute_result"
    }
   ],
   "source": [
    "tokenizer.save_pretrained(\"dir_tokenizer\")"
   ]
  },
  {
   "cell_type": "code",
   "execution_count": null,
   "id": "4a8dd8c7-1c86-4c85-bbe2-15d0f0900f74",
   "metadata": {},
   "outputs": [
    {
     "name": "stdout",
     "output_type": "stream",
     "text": [
      "special_tokens_map.json  tokenizer_config.json\tvocab.txt\n"
     ]
    }
   ],
   "source": [
    "!ls dir_tokenizer"
   ]
  },
  {
   "cell_type": "code",
   "execution_count": null,
   "id": "f8a1bf0f-5809-4dd5-ba4e-789ea06877ca",
   "metadata": {},
   "outputs": [
    {
     "data": {
      "text/plain": [
       "{'input_ids': [101, 7993, 170, 13809, 23763, 2443, 1110, 3014, 102], 'token_type_ids': [0, 0, 0, 0, 0, 0, 0, 0, 0], 'attention_mask': [1, 1, 1, 1, 1, 1, 1, 1, 1]}"
      ]
     },
     "execution_count": null,
     "metadata": {},
     "output_type": "execute_result"
    }
   ],
   "source": [
    "sequence = \"Using a Transformer network is simple\"\n",
    "tokenizer(sequence)"
   ]
  },
  {
   "cell_type": "markdown",
   "id": "3d1d65f5-c3de-4503-acc0-fffc41c34c2c",
   "metadata": {},
   "source": [
    "### Encoding = Tokenization + From tokens to input IDs"
   ]
  },
  {
   "cell_type": "code",
   "execution_count": null,
   "id": "fdc2fe09-cbca-4e7e-9676-c912498de7ef",
   "metadata": {},
   "outputs": [
    {
     "data": {
      "text/plain": [
       "['Using', 'a', 'Trans', '##former', 'network', 'is', 'simple']"
      ]
     },
     "execution_count": null,
     "metadata": {},
     "output_type": "execute_result"
    }
   ],
   "source": [
    "tokens = tokenizer.tokenize(sequence)\n",
    "tokens"
   ]
  },
  {
   "cell_type": "code",
   "execution_count": null,
   "id": "e6961f4a-de37-42f0-b2a4-93e142a946ec",
   "metadata": {},
   "outputs": [
    {
     "data": {
      "text/plain": [
       "[7993, 170, 13809, 23763, 2443, 1110, 3014]"
      ]
     },
     "execution_count": null,
     "metadata": {},
     "output_type": "execute_result"
    }
   ],
   "source": [
    "ids = tokenizer.convert_tokens_to_ids(tokens)\n",
    "ids"
   ]
  },
  {
   "cell_type": "markdown",
   "id": "48f23e53-8571-4fae-a0d8-f6bb4e096de6",
   "metadata": {},
   "source": [
    "### Decoding"
   ]
  },
  {
   "cell_type": "code",
   "execution_count": null,
   "id": "353e0be1-64c1-411b-8e1d-201c27d637c6",
   "metadata": {},
   "outputs": [
    {
     "data": {
      "text/plain": [
       "'Using a transformer network is simple'"
      ]
     },
     "execution_count": null,
     "metadata": {},
     "output_type": "execute_result"
    }
   ],
   "source": [
    "decoded_string = tokenizer.decode([7993, 170, 11303, 1200, 2443, 1110, 3014])\n",
    "decoded_string"
   ]
  },
  {
   "cell_type": "code",
   "execution_count": null,
   "id": "54eae76d-b9c5-498e-95b2-3dbff2d98158",
   "metadata": {},
   "outputs": [
    {
     "data": {
      "text/plain": [
       "'[CLS] [SEP]'"
      ]
     },
     "execution_count": null,
     "metadata": {},
     "output_type": "execute_result"
    }
   ],
   "source": [
    "tokenizer.decode([101, 102])"
   ]
  },
  {
   "cell_type": "code",
   "execution_count": null,
   "id": "2a537b4f-1f22-4c49-801c-ecb92c6855d0",
   "metadata": {},
   "outputs": [],
   "source": []
  }
 ],
 "metadata": {
  "kernelspec": {
   "display_name": "python3",
   "language": "python",
   "name": "python3"
  }
 },
 "nbformat": 4,
 "nbformat_minor": 5
}

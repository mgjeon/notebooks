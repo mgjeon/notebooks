{
 "cells": [
  {
   "cell_type": "markdown",
   "metadata": {},
   "source": [
    "# Using pretrained models\n",
    "\n",
    "https://huggingface.co/learn/nlp-course/chapter4/2?fw=pt"
   ]
  },
  {
   "cell_type": "code",
   "execution_count": null,
   "metadata": {},
   "outputs": [],
   "source": [
    "from transformers import pipeline"
   ]
  },
  {
   "cell_type": "code",
   "execution_count": null,
   "metadata": {},
   "outputs": [
    {
     "name": "stderr",
     "output_type": "stream",
     "text": [
      "Some weights of the model checkpoint at kykim/bert-kor-base were not used when initializing BertForMaskedLM: ['bert.pooler.dense.bias', 'bert.pooler.dense.weight', 'cls.seq_relationship.bias', 'cls.seq_relationship.weight']\n",
      "- This IS expected if you are initializing BertForMaskedLM from the checkpoint of a model trained on another task or with another architecture (e.g. initializing a BertForSequenceClassification model from a BertForPreTraining model).\n",
      "- This IS NOT expected if you are initializing BertForMaskedLM from the checkpoint of a model that you expect to be exactly identical (initializing a BertForSequenceClassification model from a BertForSequenceClassification model).\n",
      "Device set to use cuda:0\n"
     ]
    }
   ],
   "source": [
    "bert_fill_mask = pipeline(\"fill-mask\", model=\"kykim/bert-kor-base\")"
   ]
  },
  {
   "cell_type": "code",
   "execution_count": null,
   "metadata": {},
   "outputs": [],
   "source": [
    "results = bert_fill_mask(\"이순신은 [MASK] 중기의 무신이다.\")"
   ]
  },
  {
   "cell_type": "code",
   "execution_count": null,
   "metadata": {},
   "outputs": [
    {
     "data": {
      "text/plain": [
       "[{'score': 0.8582707047462463,\n",
       "  'token': 15816,\n",
       "  'token_str': '조선',\n",
       "  'sequence': '이순신은 조선 중기의 무신이다.'},\n",
       " {'score': 0.10912425816059113,\n",
       "  'token': 15389,\n",
       "  'token_str': '고려',\n",
       "  'sequence': '이순신은 고려 중기의 무신이다.'},\n",
       " {'score': 0.004730599001049995,\n",
       "  'token': 25783,\n",
       "  'token_str': '신라',\n",
       "  'sequence': '이순신은 신라 중기의 무신이다.'},\n",
       " {'score': 0.0014747160021215677,\n",
       "  'token': 31020,\n",
       "  'token_str': '중기',\n",
       "  'sequence': '이순신은 중기 중기의 무신이다.'},\n",
       " {'score': 0.0011976613895967603,\n",
       "  'token': 17800,\n",
       "  'token_str': '시대',\n",
       "  'sequence': '이순신은 시대 중기의 무신이다.'}]"
      ]
     },
     "execution_count": null,
     "metadata": {},
     "output_type": "execute_result"
    }
   ],
   "source": [
    "results"
   ]
  },
  {
   "cell_type": "code",
   "execution_count": null,
   "metadata": {},
   "outputs": [],
   "source": []
  }
 ],
 "metadata": {
  "kernelspec": {
   "display_name": "python3",
   "language": "python",
   "name": "python3"
  }
 },
 "nbformat": 4,
 "nbformat_minor": 2
}

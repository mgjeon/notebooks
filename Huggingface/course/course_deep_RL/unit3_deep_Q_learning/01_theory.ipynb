{
 "cells": [
  {
   "cell_type": "markdown",
   "id": "5bb38568-2a1b-4e33-bad3-084be8a1bb1c",
   "metadata": {},
   "source": [
    "# Deep Q-Learning\n",
    "\n",
    "- https://huggingface.co/learn/deep-rl-course/unit3/introduction"
   ]
  },
  {
   "cell_type": "markdown",
   "id": "0cd888c0-58f1-4add-8e2d-ab271664ddb4",
   "metadata": {},
   "source": [
    "In the last unit, we learned our first reinforcement learning algorithm: **Q-Learning**, implemented it from scratch, and trained it in two environments, FrozenLake-v1 ☃️ and Taxi-v3 🚕.\n",
    "\n",
    "We got excellent results with this simple algorithm, but these environments were relatively simple because the state space was discrete and small (16 different states for FrozenLake-v1 and 500 for Taxi-v3). For comparison, the state space in Atari games can contain $10^9$ to $10^{11}$ states.\n",
    "\n",
    "But as we’ll see, producing and updating a Q-table can become ineffective in large state space environments.\n",
    "\n",
    "So in this unit, we’ll study our first Deep Reinforcement Learning agent: **Deep Q-Learning**. Instead of using a Q-table, Deep Q-Learning uses a Neural Network that takes a state and approximates Q-values for each action based on that state.\n",
    "\n",
    "And we’ll train it to play Space Invaders and other Atari environments using [RL-Zoo](https://github.com/DLR-RM/rl-baselines3-zoo), a training framework for RL using Stable-Baselines that provides scripts for training, evaluating agents, tuning hyperparameters, plotting results, and recording videos."
   ]
  },
  {
   "cell_type": "markdown",
   "id": "dd30e518-4fd2-4eec-8f44-74e51cc8f752",
   "metadata": {},
   "source": [
    "# From Q-Learning to Deep Q-Learning"
   ]
  },
  {
   "cell_type": "markdown",
   "id": "6d7be5ea-f892-4a8f-8d64-b4fcd523b05a",
   "metadata": {},
   "source": [
    "We learned that Q-Learning is an algorithm we use to train our Q-Function, an action-value function that determines the value of being at a particular state and taking a specific action at that state."
   ]
  },
  {
   "cell_type": "markdown",
   "id": "355b99b3-1062-4e92-89ee-57950752fc46",
   "metadata": {},
   "source": [
    "The problem is that Q-Learning is a tabular method. This becomes a problem if the states and actions spaces are not small enough to be represented efficiently by arrays and tables. In other words: it is not scalable. Q-Learning worked well with small state space environments like:\n",
    "\n",
    "- FrozenLake, we had 16 states.\n",
    "- Taxi-v3, we had 500 states."
   ]
  },
  {
   "cell_type": "markdown",
   "id": "035c4610-e047-441c-9c24-21286ec1a29f",
   "metadata": {},
   "source": [
    "But think of what we’re going to do today: we will train an agent to learn to play Space Invaders, a more complex game, using the frames as input.\n",
    "\n",
    "**Atari environments** have an observation space with a shape of (210, 160, 3), containing values ranging from 0 to 255 so that gives us $256^{210\\times160\\times3}=256^{100800}$ possible observations (for comparison, we have approximately $10^{80}$ atoms in the observable universe).\n",
    "\n",
    "- A single frame in Atari is composed of an image of 210x160 pixels. Given that the images are in color (RGB), there are 3 channels. This is why the shape is (210, 160, 3). For each pixel, the value can go from 0 to 255.\n",
    "\n",
    "<img src=\"https://huggingface.co/datasets/huggingface-deep-rl-course/course-images/resolve/main/en/unit4/atari.jpg\" width=500>"
   ]
  },
  {
   "cell_type": "markdown",
   "id": "f125ca9e-be68-4fe7-9386-5d8b46eb5462",
   "metadata": {},
   "source": [
    "Therefore, the state space is gigantic; due to this, creating and updating a Q-table for that environment would not be efficient. In this case, the best idea is to approximate the Q-values using a parametrized Q-function $Q_{\\theta}(s, a)$.\n",
    "\n",
    "This neural network will approximate, given a state, the different Q-values for each possible action at that state. And that’s exactly what Deep Q-Learning does.\n",
    "\n",
    "<img src=\"https://huggingface.co/datasets/huggingface-deep-rl-course/course-images/resolve/main/en/unit1/deep.jpg\" width=500>"
   ]
  },
  {
   "cell_type": "markdown",
   "id": "ec025452-52b3-4f4f-a1fb-bcacefba7084",
   "metadata": {},
   "source": [
    "# The Deep Q-Network (DQN)\n",
    "\n",
    "This is the architecture of our Deep Q-Learning network:\n",
    "\n",
    "<img src=\"https://huggingface.co/datasets/huggingface-deep-rl-course/course-images/resolve/main/en/unit4/deep-q-network.jpg\" width=500>"
   ]
  },
  {
   "cell_type": "markdown",
   "id": "2eb2788f-7220-4872-aa34-2c38ac3609a4",
   "metadata": {},
   "source": [
    "As input, we take a stack of 4 frames passed through the network as a state and output a vector of Q-values for each possible action at that state. Then, like with Q-Learning, we just need to use our epsilon-greedy policy to select which action to take."
   ]
  },
  {
   "cell_type": "markdown",
   "id": "7b7c47f1-83a4-49fa-bcd6-1e519e5b1004",
   "metadata": {},
   "source": [
    "## Preprocessing the input and temporal limitation\n",
    "\n",
    "We need to preprocess the input. It’s an essential step since we want to reduce the complexity of our state to reduce the computation time needed for training.\n",
    "\n",
    "To achieve this, we reduce the state space to 84x84 and grayscale it. We can do this since the colors in Atari environments don’t add important information. This is a big improvement since we reduce our three color channels (RGB) to 1.\n",
    "\n",
    "We can also crop a part of the screen in some games if it does not contain important information. Then we stack four frames together.\n",
    "\n",
    "<img src=\"https://huggingface.co/datasets/huggingface-deep-rl-course/course-images/resolve/main/en/unit4/preprocessing.jpg\" width=500>\n",
    "\n",
    "Why do we stack four frames together? We stack frames together because it helps us handle the problem of temporal limitation.\n",
    "\n",
    "The stacked frames are processed by three convolutional layers. These layers allow us to capture and exploit spatial relationships in images. But also, because the frames are stacked together, we can exploit some temporal properties across those frames."
   ]
  },
  {
   "cell_type": "markdown",
   "id": "4639184a-0fd5-4c5f-b281-ff9eb343a4c8",
   "metadata": {},
   "source": [
    "Finally, we have a couple of fully connected layers that output a Q-value for each possible action at that state."
   ]
  },
  {
   "cell_type": "markdown",
   "id": "826a5636-88a0-4bde-9da8-8c0c3e8a20f9",
   "metadata": {},
   "source": [
    "# The Deep Q-Learning Algorithm"
   ]
  },
  {
   "cell_type": "markdown",
   "id": "c0d5376b-f169-4bfa-ba19-a7eb28b0bc0a",
   "metadata": {},
   "source": [
    "We learned that Deep Q-Learning uses a deep neural network to approximate the different Q-values for each possible action at a state (value-function estimation)."
   ]
  },
  {
   "cell_type": "markdown",
   "id": "36fdf6cd-1add-4c0a-a821-bdb3aec226bf",
   "metadata": {},
   "source": [
    "The difference is that, during the training phase, instead of updating the Q-value of a state-action pair directly as we have done with Q-Learning:\n",
    "\n",
    "<img src=\"https://huggingface.co/datasets/huggingface-deep-rl-course/course-images/resolve/main/en/unit3/q-ex-5.jpg\" width=500>"
   ]
  },
  {
   "cell_type": "markdown",
   "id": "3ab72831-95c1-42d5-ab6e-611f59dcd91f",
   "metadata": {},
   "source": [
    "In Deep Q-Learning, we create a loss function that compares our Q-value prediction and the Q-target and uses gradient descent to update the weights of our Deep Q-Network to approximate our Q-values better.\n",
    "\n",
    "<img src=\"https://huggingface.co/datasets/huggingface-deep-rl-course/course-images/resolve/main/en/unit4/Q-target.jpg\" width=500>"
   ]
  },
  {
   "cell_type": "markdown",
   "id": "b966bb69-2a27-4d42-b61a-d858edd6166a",
   "metadata": {},
   "source": [
    "The Deep Q-Learning training algorithm has two phases:\n",
    "\n",
    "- Sampling: we perform actions and store the observed experience tuples in a replay memory.\n",
    "- Training: Select a small batch of tuples randomly and learn from this batch using a gradient descent update step.\n",
    "\n",
    "<img src=\"https://huggingface.co/datasets/huggingface-deep-rl-course/course-images/resolve/main/en/unit4/sampling-training.jpg\" width=500>"
   ]
  },
  {
   "cell_type": "markdown",
   "id": "2b74f36e-c8cb-4f1d-9ffe-1be0663df8e7",
   "metadata": {},
   "source": [
    "This is not the only difference compared with Q-Learning. Deep Q-Learning training might suffer from instability, mainly because of combining a non-linear Q-value function (Neural Network) and bootstrapping (when we update targets with existing estimates and not an actual complete return)."
   ]
  },
  {
   "cell_type": "markdown",
   "id": "1fdd38a2-f334-48c8-a147-da452ebf54e2",
   "metadata": {},
   "source": [
    "To help us stabilize the training, we implement three different solutions:\n",
    "\n",
    "- **Experience Replay** to make more efficient use of experiences.\n",
    "- **Fixed Q-Target** to stabilize the training.\n",
    "- **Double Deep Q-Learning**, to handle the problem of the overestimation of Q-values."
   ]
  },
  {
   "cell_type": "markdown",
   "id": "f05755ef-4588-494a-a328-e2f6c43c6866",
   "metadata": {},
   "source": [
    "## Experience Replay to make more efficient use of experiences"
   ]
  },
  {
   "cell_type": "markdown",
   "id": "f9130713-6814-40ef-98cc-469ea3fff2a3",
   "metadata": {},
   "source": [
    "Experience Replay in Deep Q-Learning has two functions:\n",
    "\n",
    "<img src=\"https://huggingface.co/datasets/huggingface-deep-rl-course/course-images/resolve/main/en/unit4/experience-replay.jpg\" width=500>\n",
    "\n",
    "1. Make more efficient use of the experiences during the training. Usually, in online reinforcement learning, the agent interacts with the environment, gets experiences (state, action, reward, and next state), learns from them (updates the neural network), and discards them. This is not efficient.\n",
    "\n",
    "Experience replay helps by using the experiences of the training more efficiently. We use a replay buffer that saves experience samples that we can reuse during the training.\n",
    "\n",
    "\n",
    "⇒ This allows the agent to learn from the same experiences multiple times."
   ]
  },
  {
   "cell_type": "markdown",
   "id": "6ee8c282-499f-43bc-bd3a-eb5c25747d2d",
   "metadata": {},
   "source": [
    "2. Avoid forgetting previous experiences (aka catastrophic interference, or catastrophic forgetting) and reduce the correlation between experiences.\n",
    "- [catastrophic forgetting](https://en.wikipedia.org/wiki/Catastrophic_interference): The problem we get if we give sequential samples of experiences to our neural network is that it tends to forget the previous experiences as it gets new experiences. For instance, if the agent is in the first level and then in the second, which is different, it can forget how to behave and play in the first level.\n",
    "\n",
    "The solution is to create a Replay Buffer that stores experience tuples while interacting with the environment and then sample a small batch of tuples. This prevents the network from only learning about what it has done immediately before.\n",
    "\n",
    "Experience replay also has other benefits. By randomly sampling the experiences, we remove correlation in the observation sequences and avoid action values from oscillating or diverging catastrophically.\n",
    "\n",
    "In the Deep Q-Learning pseudocode, we initialize a replay memory buffer D with capacity N (N is a hyperparameter that you can define). We then store experiences in the memory and sample a batch of experiences to feed the Deep Q-Network during the training phase."
   ]
  },
  {
   "cell_type": "markdown",
   "id": "2b856e7c-285b-49cf-a9b1-50a85f651971",
   "metadata": {},
   "source": [
    "## Fixed Q-Target to stabilize the training"
   ]
  },
  {
   "cell_type": "markdown",
   "id": "d3b34c6e-45b9-4840-9e26-fe9373da254a",
   "metadata": {},
   "source": [
    "When we want to calculate the TD error (aka the loss), we calculate the difference between the TD target (Q-Target) and the current Q-value (estimation of Q).\n",
    "\n",
    "But we don’t have any idea of the real TD target. We need to estimate it. Using the Bellman equation, we saw that the TD target is just the reward of taking that action at that state plus the discounted highest Q value for the next state.\n",
    "\n",
    "<img src=\"https://huggingface.co/datasets/huggingface-deep-rl-course/course-images/resolve/main/en/unit4/Q-target.jpg\" width=500>"
   ]
  },
  {
   "cell_type": "markdown",
   "id": "132daf11-2545-4b19-8b04-82cdcc541561",
   "metadata": {},
   "source": [
    "However, the problem is that we are using the same parameters (weights) for estimating the TD target and the Q-value. Consequently, there is a significant correlation between the TD target and the parameters we are changing.\n",
    "\n",
    "Therefore, at every step of training, both our Q-values and the target values shift. We’re getting closer to our target, but the target is also moving. It’s like chasing a moving target! This can lead to significant oscillation in training.\n",
    "\n",
    "Instead, what we see in the pseudo-code is that we:\n",
    "- Use a separate network with fixed parameters for estimating the TD Target\n",
    "- Copy the parameters from our Deep Q-Network every C steps to update the target network.\n",
    "\n",
    "<img src=\"https://huggingface.co/datasets/huggingface-deep-rl-course/course-images/resolve/main/en/unit4/fixed-q-target-pseudocode.jpg\" width=500>"
   ]
  },
  {
   "cell_type": "markdown",
   "id": "5a74e406-049d-4649-98d0-3139d7a97450",
   "metadata": {},
   "source": [
    "## Double DQN\n",
    "Double DQNs, or Double Deep Q-Learning neural networks, were introduced [by Hado van Hasselt](https://papers.nips.cc/paper_files/paper/2010/hash/091d584fced301b442654dd8c23b3fc9-Abstract.html). This method handles the problem of the overestimation of Q-values."
   ]
  },
  {
   "cell_type": "markdown",
   "id": "9088671d-d128-466f-a8c8-8ea07d77d1d2",
   "metadata": {},
   "source": [
    "To understand this problem, remember how we calculate the TD Target:\n",
    "\n",
    "<img src=\"https://huggingface.co/datasets/huggingface-deep-rl-course/course-images/resolve/main/en/unit3/TD-1.jpg\" width=500>"
   ]
  },
  {
   "cell_type": "markdown",
   "id": "9b3fe7f8-c452-4bb7-bd1e-d8869295cbc8",
   "metadata": {},
   "source": [
    "We face a simple problem by calculating the TD target: how are we sure that the best action for the next state is the action with the highest Q-value?\n",
    "\n",
    "We know that the accuracy of Q-values depends on what action we tried and what neighboring states we explored.\n",
    "\n",
    "Consequently, we don’t have enough information about the best action to take at the beginning of the training. Therefore, taking the maximum Q-value (which is noisy) as the best action to take can lead to false positives. If non-optimal actions are regularly given a higher Q value than the optimal best action, the learning will be complicated."
   ]
  },
  {
   "cell_type": "markdown",
   "id": "ef04a139-e8b2-4493-9427-ea14488c12ab",
   "metadata": {},
   "source": [
    "The solution is: when we compute the Q target, we use two networks to decouple the action selection from the target Q-value generation. We:\n",
    "\n",
    "- Use our **DQN network** to select the best action to take for the next state (the action with the highest Q-value).\n",
    "- Use our **Target network** to calculate the target Q-value of taking that action at the next state.\n",
    "\n",
    "Therefore, Double DQN helps us reduce the overestimation of Q-values and, as a consequence, helps us train faster and with more stable learning."
   ]
  },
  {
   "cell_type": "code",
   "execution_count": null,
   "id": "ef273e15-480e-41ba-be10-759b38cd7b06",
   "metadata": {},
   "outputs": [],
   "source": []
  }
 ],
 "metadata": {
  "kernelspec": {
   "display_name": "python3",
   "language": "python",
   "name": "python3"
  }
 },
 "nbformat": 4,
 "nbformat_minor": 5
}

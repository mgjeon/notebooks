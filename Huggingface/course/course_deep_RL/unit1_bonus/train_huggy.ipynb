{
 "cells": [
  {
   "cell_type": "markdown",
   "id": "81f11763-75be-46fd-bb00-f4e8ea128ea0",
   "metadata": {},
   "source": [
    "# Bonus Unit 1: Let's train Huggy the Dog 🐶 to fetch a stick\n",
    "\n",
    "- https://huggingface.co/learn/deep-rl-course/unitbonus1/train\n",
    "- https://colab.research.google.com/github/huggingface/deep-rl-class/blob/master/notebooks/bonus-unit1/bonus-unit1.ipynb"
   ]
  },
  {
   "cell_type": "markdown",
   "id": "99c26177-b4f0-4608-9774-6f6cca892a86",
   "metadata": {},
   "source": [
    "### The environment 🎮\n",
    "\n",
    "- Huggy the Dog, an environment created by [Thomas Simonini](https://twitter.com/ThomasSimonini) based on Puppo The Corgi\n",
    "    - [Unity Blog (dead link)](https://blog.unity.com/technology/puppo-the-corgi-cuteness-overload-with-the-unity-ml-agents-toolkit)\n",
    "    - [CleverAI](https://cleverai.itch.io/puppo-the-corgi)\n",
    "\n",
    "### The library used 📚\n",
    "\n",
    "- [MLAgents](https://github.com/Unity-Technologies/ml-agents)"
   ]
  },
  {
   "cell_type": "markdown",
   "id": "08d2a939-b0ae-4b3e-90b4-63760fe7df96",
   "metadata": {},
   "source": [
    "## Install ML-Agents\n",
    "\n",
    "- https://unity-technologies.github.io/ml-agents/Installation/\n",
    "\n",
    "```\n",
    "conda create -n mlagents python=3.10.12\n",
    "conda activate mlagents\n",
    "git clone --depth 1 https://github.com/Unity-Technologies/ml-agents.git\n",
    "cd ml-agents\n",
    "!pip3 install -e ./ml-agents-envs\n",
    "!pip3 install -e ./ml-agents\n",
    "```"
   ]
  },
  {
   "cell_type": "code",
   "execution_count": null,
   "id": "dca4ac12-0c3e-46b8-92be-e54892d2f668",
   "metadata": {},
   "outputs": [
    {
     "name": "stdout",
     "output_type": "stream",
     "text": [
      "usage: mlagents-learn [-h] [--env ENV_PATH] [--resume] [--deterministic]\n",
      "                      [--force] [--run-id RUN_ID] [--initialize-from RUN_ID]\n",
      "                      [--seed SEED] [--inference] [--base-port BASE_PORT]\n",
      "                      [--num-envs NUM_ENVS] [--num-areas NUM_AREAS] [--debug]\n",
      "                      [--env-args ...]\n",
      "                      [--max-lifetime-restarts MAX_LIFETIME_RESTARTS]\n",
      "                      [--restarts-rate-limit-n RESTARTS_RATE_LIMIT_N]\n",
      "                      [--restarts-rate-limit-period-s RESTARTS_RATE_LIMIT_PERIOD_S]\n",
      "                      [--torch] [--tensorflow] [--results-dir RESULTS_DIR]\n",
      "                      [--timeout-wait TIMEOUT_WAIT] [--width WIDTH]\n",
      "                      [--height HEIGHT] [--quality-level QUALITY_LEVEL]\n",
      "                      [--time-scale TIME_SCALE]\n",
      "                      [--target-frame-rate TARGET_FRAME_RATE]\n",
      "                      [--capture-frame-rate CAPTURE_FRAME_RATE]\n",
      "                      [--no-graphics] [--no-graphics-monitor]\n",
      "                      [--torch-device DEVICE]\n",
      "                      [trainer_config_path]\n",
      "\n",
      "positional arguments:\n",
      "  trainer_config_path\n",
      "\n",
      "options:\n",
      "  -h, --help            show this help message and exit\n",
      "  --env ENV_PATH        Path to the Unity executable to train (default: None)\n",
      "  --resume              Whether to resume training from a checkpoint. Specify\n",
      "                        a --run-id to use this option. If set, the training\n",
      "                        code loads an already trained model to initialize the\n",
      "                        neural network before resuming training. This option\n",
      "                        is only valid when the models exist, and have the same\n",
      "                        behavior names as the current agents in your scene.\n",
      "                        (default: False)\n",
      "  --deterministic       Whether to select actions deterministically in policy.\n",
      "                        `dist.mean` for continuous action space, and\n",
      "                        `dist.argmax` for deterministic action space (default:\n",
      "                        False)\n",
      "  --force               Whether to force-overwrite this run-id's existing\n",
      "                        summary and model data. (Without this flag, attempting\n",
      "                        to train a model with a run-id that has been used\n",
      "                        before will throw an error. (default: False)\n",
      "  --run-id RUN_ID       The identifier for the training run. This identifier\n",
      "                        is used to name the subdirectories in which the\n",
      "                        trained model and summary statistics are saved as well\n",
      "                        as the saved model itself. If you use TensorBoard to\n",
      "                        view the training statistics, always set a unique run-\n",
      "                        id for each training run. (The statistics for all runs\n",
      "                        with the same id are combined as if they were produced\n",
      "                        by a the same session.) (default: ppo)\n",
      "  --initialize-from RUN_ID\n",
      "                        Specify a previously saved run ID from which to\n",
      "                        initialize the model from. This can be used, for\n",
      "                        instance, to fine-tune an existing model on a new\n",
      "                        environment. Note that the previously saved models\n",
      "                        must have the same behavior parameters as your current\n",
      "                        environment. (default: None)\n",
      "  --seed SEED           A number to use as a seed for the random number\n",
      "                        generator used by the training code (default: -1)\n",
      "  --inference           Whether to run in Python inference mode (i.e. no\n",
      "                        training). Use with --resume to load a model trained\n",
      "                        with an existing run ID. (default: False)\n",
      "  --base-port BASE_PORT\n",
      "                        The starting port for environment communication. Each\n",
      "                        concurrent Unity environment instance will get\n",
      "                        assigned a port sequentially, starting from the base-\n",
      "                        port. Each instance will use the port (base_port +\n",
      "                        worker_id), where the worker_id is sequential IDs\n",
      "                        given to each instance from 0 to (num_envs - 1). Note\n",
      "                        that when training using the Editor rather than an\n",
      "                        executable, the base port will be ignored. (default:\n",
      "                        5005)\n",
      "  --num-envs NUM_ENVS   The number of concurrent Unity environment instances\n",
      "                        to collect experiences from when training (default: 1)\n",
      "  --num-areas NUM_AREAS\n",
      "                        The number of parallel training areas in each Unity\n",
      "                        environment instance. (default: 1)\n",
      "  --debug               Whether to enable debug-level logging for some parts\n",
      "                        of the code (default: False)\n",
      "  --env-args ...        Arguments passed to the Unity executable. Be aware\n",
      "                        that the standalone build will also process these as\n",
      "                        Unity Command Line Arguments. You should choose\n",
      "                        different argument names if you want to create\n",
      "                        environment-specific arguments. All arguments after\n",
      "                        this flag will be passed to the executable. (default:\n",
      "                        None)\n",
      "  --max-lifetime-restarts MAX_LIFETIME_RESTARTS\n",
      "                        The max number of times a single Unity executable can\n",
      "                        crash over its lifetime before ml-agents exits. Can be\n",
      "                        set to -1 if no limit is desired. (default: 10)\n",
      "  --restarts-rate-limit-n RESTARTS_RATE_LIMIT_N\n",
      "                        The maximum number of times a single Unity executable\n",
      "                        can crash over a period of time (period set in\n",
      "                        restarts-rate-limit-period-s). Can be set to -1 to not\n",
      "                        use rate limiting with restarts. (default: 1)\n",
      "  --restarts-rate-limit-period-s RESTARTS_RATE_LIMIT_PERIOD_S\n",
      "                        The period of time --restarts-rate-limit-n applies to.\n",
      "                        (default: 60)\n",
      "  --torch               (Removed) Use the PyTorch framework. (default: False)\n",
      "  --tensorflow          (Removed) Use the TensorFlow framework. (default:\n",
      "                        False)\n",
      "  --results-dir RESULTS_DIR\n",
      "                        Results base directory (default: results)\n",
      "  --timeout-wait TIMEOUT_WAIT\n",
      "                        The period of time to wait on a Unity environment to\n",
      "                        startup for training. (default: 60)\n",
      "\n",
      "Engine Configuration:\n",
      "  --width WIDTH         The width of the executable window of the\n",
      "                        environment(s) in pixels (ignored for editor\n",
      "                        training). (default: 84)\n",
      "  --height HEIGHT       The height of the executable window of the\n",
      "                        environment(s) in pixels (ignored for editor training)\n",
      "                        (default: 84)\n",
      "  --quality-level QUALITY_LEVEL\n",
      "                        The quality level of the environment(s). Equivalent to\n",
      "                        calling QualitySettings.SetQualityLevel in Unity.\n",
      "                        (default: 5)\n",
      "  --time-scale TIME_SCALE\n",
      "                        The time scale of the Unity environment(s). Equivalent\n",
      "                        to setting Time.timeScale in Unity. (default: 20)\n",
      "  --target-frame-rate TARGET_FRAME_RATE\n",
      "                        The target frame rate of the Unity environment(s).\n",
      "                        Equivalent to setting Application.targetFrameRate in\n",
      "                        Unity. (default: -1)\n",
      "  --capture-frame-rate CAPTURE_FRAME_RATE\n",
      "                        The capture frame rate of the Unity environment(s).\n",
      "                        Equivalent to setting Time.captureFramerate in Unity.\n",
      "                        (default: 60)\n",
      "  --no-graphics         Whether to run the Unity executable in no-graphics\n",
      "                        mode (i.e. without initializing the graphics driver.\n",
      "                        Use this only if your agents don't use visual\n",
      "                        observations. (default: False)\n",
      "  --no-graphics-monitor\n",
      "                        Whether to run the main Unity worker in graphics mode\n",
      "                        with the remaining workers in no graphics mode(i.e.\n",
      "                        without initializing the graphics driver. Use this\n",
      "                        only if your agents don't use visual observations.\n",
      "                        (default: False)\n",
      "\n",
      "Torch Configuration:\n",
      "  --torch-device DEVICE\n",
      "                        Settings for the default torch.device used in\n",
      "                        training, for example, \"cpu\", \"cuda\", or \"cuda:0\"\n",
      "                        (default: None)\n"
     ]
    }
   ],
   "source": [
    "!mlagents-learn --help"
   ]
  },
  {
   "cell_type": "markdown",
   "id": "70dc4f3e-b324-4767-99d1-65942e825b66",
   "metadata": {},
   "source": [
    "## Download and move the environment zip file in `./trained-envs-executables/linux/`\n",
    "\n",
    "- Our environment executable is in a zip file.\n",
    "- We need to download it and place it to `./trained-envs-executables/linux/`"
   ]
  },
  {
   "cell_type": "code",
   "execution_count": null,
   "id": "89433a7d-da3c-4ae1-864a-4ab931a9a601",
   "metadata": {},
   "outputs": [],
   "source": [
    "!mkdir ./trained-envs-executables\n",
    "!mkdir ./trained-envs-executables/linux"
   ]
  },
  {
   "cell_type": "markdown",
   "id": "85b3e66b-24c0-4113-b48e-53afb40eb535",
   "metadata": {},
   "source": [
    "We downloaded the file Huggy.zip from https://github.com/huggingface/Huggy using `wget`"
   ]
  },
  {
   "cell_type": "code",
   "execution_count": null,
   "id": "17a25263-a6bc-405f-8cb3-06bdec11b065",
   "metadata": {},
   "outputs": [
    {
     "name": "stdout",
     "output_type": "stream",
     "text": [
      "--2025-01-25 08:50:25--  https://github.com/huggingface/Huggy/raw/main/Huggy.zip\n",
      "Resolving github.com (github.com)... 20.200.245.247\n",
      "Connecting to github.com (github.com)|20.200.245.247|:443... connected.\n",
      "302 Foundest sent, awaiting response... \n",
      "Location: https://media.githubusercontent.com/media/huggingface/Huggy/main/Huggy.zip [following]\n",
      "--2025-01-25 08:50:26--  https://media.githubusercontent.com/media/huggingface/Huggy/main/Huggy.zip\n",
      "Resolving media.githubusercontent.com (media.githubusercontent.com)... 185.199.108.133, 185.199.111.133, 185.199.109.133, ...\n",
      "Connecting to media.githubusercontent.com (media.githubusercontent.com)|185.199.108.133|:443... connected.\n",
      "200 OKequest sent, awaiting response... \n",
      "Length: 39214997 (37M) [application/zip]\n",
      "Saving to: ‘./trained-envs-executables/linux/Huggy.zip’\n",
      "\n",
      "./trained-envs-exec 100%[===================>]  37.40M  55.2MB/s    in 0.7s    \n",
      "\n",
      "2025-01-25 08:50:30 (55.2 MB/s) - ‘./trained-envs-executables/linux/Huggy.zip’ saved [39214997/39214997]\n",
      "\n"
     ]
    }
   ],
   "source": [
    "!wget \"https://github.com/huggingface/Huggy/raw/main/Huggy.zip\" -O ./trained-envs-executables/linux/Huggy.zip"
   ]
  },
  {
   "cell_type": "code",
   "execution_count": null,
   "id": "75c85e51-f68e-41bb-b3d2-5a85df3f2d08",
   "metadata": {},
   "outputs": [],
   "source": [
    "%%capture\n",
    "!unzip -d ./trained-envs-executables/linux/ ./trained-envs-executables/linux/Huggy.zip"
   ]
  },
  {
   "cell_type": "markdown",
   "id": "be08ff7a-ec1e-4d06-aee7-7a639afd09bd",
   "metadata": {},
   "source": [
    "Make sure your file is accessible"
   ]
  },
  {
   "cell_type": "code",
   "execution_count": null,
   "id": "83379903-577b-40ca-be01-11b18178c1b9",
   "metadata": {},
   "outputs": [],
   "source": [
    "!chmod -R 755 ./trained-envs-executables/linux/Huggy"
   ]
  },
  {
   "cell_type": "markdown",
   "id": "ffc2d85e-1af3-4c68-8349-4db714e25acb",
   "metadata": {},
   "source": [
    "## Let's recap how this environment works\n",
    "\n",
    "### The State Space: what Huggy \"perceives.\"\n",
    "\n",
    "Huggy doesn't \"see\" his environment. Instead, we provide him information about the environment:\n",
    "\n",
    "- The target (stick) position\n",
    "- The relative position between himself and the target\n",
    "- The orientation of his legs.\n",
    "\n",
    "Given all this information, Huggy **can decide which action to take next to fulfill his goal**.\n",
    "\n",
    "<img src=\"https://huggingface.co/datasets/huggingface-deep-rl-course/course-images/resolve/main/en/notebooks/unit-bonus1/huggy.jpg\" alt=\"Huggy\" width=\"100%\">\n",
    "\n",
    "\n",
    "### The Action Space: what moves Huggy can do\n",
    "<img src=\"https://huggingface.co/datasets/huggingface-deep-rl-course/course-images/resolve/main/en/notebooks/unit-bonus1/huggy-action.jpg\" alt=\"Huggy action\" width=\"100%\">\n",
    "\n",
    "**Joint motors drive huggy legs**. It means that to get the target, Huggy needs to **learn to rotate the joint motors of each of his legs correctly so he can move**.\n",
    "\n",
    "### The Reward Function\n",
    "\n",
    "The reward function is designed so that **Huggy will fulfill his goal** : fetch the stick.\n",
    "\n",
    "Remember that one of the foundations of Reinforcement Learning is the *reward hypothesis*: a goal can be described as the **maximization of the expected cumulative reward**.\n",
    "\n",
    "Here, our goal is that Huggy **goes towards the stick but without spinning too much**. Hence, our reward function must translate this goal.\n",
    "\n",
    "Our reward function:\n",
    "\n",
    "<img src=\"https://huggingface.co/datasets/huggingface-deep-rl-course/course-images/resolve/main/en/notebooks/unit-bonus1/reward.jpg\" alt=\"Huggy reward function\" width=\"100%\">\n",
    "\n",
    "- *Orientation bonus*: we **reward him for getting close to the target**.\n",
    "- *Time penalty*: a fixed-time penalty given at every action to **force him to get to the stick as fast as possible**.\n",
    "- *Rotation penalty*: we penalize Huggy if **he spins too much and turns too quickly**.\n",
    "- *Getting to the target reward*: we reward Huggy for **reaching the target**."
   ]
  },
  {
   "cell_type": "markdown",
   "id": "fcfb240c-0ece-451a-ba88-706a011265b0",
   "metadata": {},
   "source": [
    "## Create the Huggy config file\n",
    "\n",
    "- In ML-Agents, you define the **training hyperparameters into config.yaml files.**\n",
    "\n",
    "- For the scope of this notebook, we're not going to modify the hyperparameters, but if you want to try as an experiment, you should also try to modify some other hyperparameters, Unity provides very [good documentation explaining each of them here](https://github.com/Unity-Technologies/ml-agents/blob/main/docs/Training-Configuration-File.md)."
   ]
  },
  {
   "cell_type": "markdown",
   "id": "449f23cf-b6fc-4612-955d-34b2b6233774",
   "metadata": {},
   "source": [
    "- But we need to create a config file for Huggy.\n",
    "  - Go to `/path/to/ml-agents/config/ppo`\n",
    "  - Create a new file called `Huggy.yaml`"
   ]
  },
  {
   "cell_type": "markdown",
   "id": "05901ef3-3261-4cf3-a327-641fc95e6fc7",
   "metadata": {},
   "source": [
    "```\n",
    "behaviors:\n",
    "  Huggy:\n",
    "    trainer_type: ppo\n",
    "    hyperparameters:\n",
    "      batch_size: 2048\n",
    "      buffer_size: 20480\n",
    "      learning_rate: 0.0003\n",
    "      beta: 0.005\n",
    "      epsilon: 0.2\n",
    "      lambd: 0.95\n",
    "      num_epoch: 3\n",
    "      learning_rate_schedule: linear\n",
    "    network_settings:\n",
    "      normalize: true\n",
    "      hidden_units: 512\n",
    "      num_layers: 3\n",
    "      vis_encode_type: simple\n",
    "    reward_signals:\n",
    "      extrinsic:\n",
    "        gamma: 0.995\n",
    "        strength: 1.0\n",
    "    checkpoint_interval: 200000\n",
    "    keep_checkpoints: 15\n",
    "    max_steps: 2e6\n",
    "    time_horizon: 1000\n",
    "    summary_freq: 50000\n",
    "```"
   ]
  },
  {
   "cell_type": "markdown",
   "id": "5977360d-e787-4f40-9b2b-2cec4a7be884",
   "metadata": {},
   "source": [
    "- For instance **if you want to save more models during the training** (for now, we save every 200,000 training timesteps). You need to modify:\n",
    "  - `checkpoint_interval`: The number of training timesteps collected between each checkpoint.\n",
    "  - `keep_checkpoints`: The maximum number of model checkpoints to keep.\n",
    "\n",
    "=> Just keep in mind that **decreasing the `checkpoint_interval` means more models to upload to the Hub and so a longer uploading time**\n",
    "We're now ready to train our agent 🔥."
   ]
  },
  {
   "cell_type": "markdown",
   "id": "f6f84b5b-9712-4765-b088-556a60df9587",
   "metadata": {},
   "source": [
    "## Train our agent\n",
    "\n",
    "To train our agent, we just need to **launch mlagents-learn and select the executable containing the environment.**\n",
    "\n",
    "<img src=\"https://huggingface.co/datasets/huggingface-deep-rl-course/course-images/resolve/main/en/notebooks/unit-bonus1/mllearn.png\" alt=\"ml learn function\" width=\"100%\">\n",
    "\n",
    "With ML Agents, we run a training script. We define four parameters:\n",
    "\n",
    "1. `mlagents-learn <config>`: the path where the hyperparameter config file is.\n",
    "2. `--env`: where the environment executable is.\n",
    "3. `--run-id`: the name you want to give to your training run id.\n",
    "4. `--no-graphics`: to not launch the visualization during the training.\n",
    "\n",
    "Train the model and use the `--resume` flag to continue training in case of interruption.\n",
    "\n",
    "> It will fail first time when you use `--resume`, try running the block again to bypass the error."
   ]
  },
  {
   "cell_type": "markdown",
   "id": "01acffc0-d02a-4e3a-b4ad-facb91dc12c0",
   "metadata": {},
   "source": [
    "The training will take 30 to 45min depending on your machine, go take a ☕️you deserve it 🤗."
   ]
  },
  {
   "cell_type": "markdown",
   "id": "a3f45941-62dd-422e-acef-2a60494cf0aa",
   "metadata": {},
   "source": [
    "```\n",
    "mlagents-learn ./ml-agents/config/ppo/Huggy.yaml --env=./trained-envs-executables/linux/Huggy/Huggy --run-id=\"Huggy2\" --no-graphics\n",
    "```"
   ]
  },
  {
   "cell_type": "markdown",
   "id": "d2a4e18f-8e63-4bdd-9f14-ac4b074255a6",
   "metadata": {},
   "source": [
    "## Push the agent to the 🤗 Hub\n",
    "\n",
    "- Now that we trained our agent, we’re **ready to push it to the Hub to be able to play with Huggy on your browser🔥.**\n",
    "\n",
    "- To be able to share your model with the community there are three more steps to follow:\n",
    "\n",
    "1️⃣ (If it's not already done) create an account to HF ➡ https://huggingface.co/join\n",
    "\n",
    "2️⃣ Sign in and then, you need to store your authentication token from the Hugging Face website.\n",
    "- Create a new token (https://huggingface.co/settings/tokens) **with write role**\n",
    "\n",
    "<img src=\"https://huggingface.co/datasets/huggingface-deep-rl-course/course-images/resolve/main/en/notebooks/create-token.jpg\" alt=\"Create HF Token\">\n",
    "\n",
    "- Copy the token\n",
    "- Run the command below and paste the token\n",
    "\n",
    "```\n",
    "huggingface-cli login\n",
    "```"
   ]
  },
  {
   "cell_type": "markdown",
   "id": "c65f51e2-534d-4d70-bedc-05cf42935a7b",
   "metadata": {},
   "source": [
    "Then, we simply need to run `mlagents-push-to-hf`.\n",
    "\n",
    "<img src=\"https://huggingface.co/datasets/huggingface-deep-rl-course/course-images/resolve/main/en/notebooks/unit-bonus1/mlpush.png\" alt=\"ml learn function\" width=\"100%\">"
   ]
  },
  {
   "cell_type": "markdown",
   "id": "199e35c9-a777-4a24-91a1-c65e39f210b6",
   "metadata": {},
   "source": [
    "And we define 4 parameters:\n",
    "\n",
    "1. `--run-id`: the name of the training run id.\n",
    "2. `--local-dir`: where the agent was saved, it’s results/<run_id name>, so in my case results/First Training.\n",
    "3. `--repo-id`: the name of the Hugging Face repo you want to create or update. It’s always <your huggingface username>/<the repo name>\n",
    "If the repo does not exist **it will be created automatically**\n",
    "4. `--commit-message`: since HF repos are git repository you need to define a commit message."
   ]
  },
  {
   "cell_type": "markdown",
   "id": "8f3b3d09-b3fe-4a4f-8fae-4b94537aa12f",
   "metadata": {},
   "source": [
    "```\n",
    "mlagents-push-to-hf --run-id=\"HuggyTraining\" --local-dir=\"./results/Huggy2\" --repo-id=\"mingyujeon/ppo-Huggy\" --commit-message=\"Huggy\"\n",
    "```"
   ]
  },
  {
   "cell_type": "markdown",
   "id": "8ca9e4bf-3179-4e26-ae6d-2bb3f27405d1",
   "metadata": {},
   "source": [
    "Else, if everything worked you should have this at the end of the process(but with a different url 😆) :\n",
    "\n",
    "```\n",
    "Your model is pushed to the hub. You can view your model here: https://huggingface.co/mingyujeon/ppo-Huggy\n",
    "```\n",
    "\n",
    "It’s the link to your model repository. The repository contains a model card that explains how to use the model, your Tensorboard logs and your config file. **What’s awesome is that it’s a git repository, which means you can have different commits, update your repository with a new push, open Pull Requests, etc.**\n",
    "\n",
    "<img src=\"https://huggingface.co/datasets/huggingface-deep-rl-course/course-images/resolve/main/en/notebooks/unit-bonus1/modelcard.png\" alt=\"ml learn function\" width=\"100%\">"
   ]
  },
  {
   "cell_type": "markdown",
   "id": "571d9183-c3d9-42de-b764-80dbec67f2a0",
   "metadata": {},
   "source": [
    "## Play with your Huggy 🐕\n",
    "\n",
    "This step is the simplest:\n",
    "\n",
    "- Open the game Huggy in your browser: https://huggingface.co/spaces/ThomasSimonini/Huggy\n",
    "\n",
    "- Click on Play with my Huggy model\n",
    "\n",
    "<img src=\"https://huggingface.co/datasets/huggingface-deep-rl-course/course-images/resolve/main/en/notebooks/unit-bonus1/load-huggy.jpg\" alt=\"load-huggy\" width=\"100%\">"
   ]
  },
  {
   "cell_type": "markdown",
   "id": "6318b460-a85f-44cd-94ad-da1a3ac3d9fd",
   "metadata": {},
   "source": [
    "1. In step 1, type your username (your username is case sensitive: for instance, my username is ThomasSimonini not thomassimonini or ThOmasImoNInI) and click on the search button.\n",
    "2. In step 2, select your model repository.\n",
    "3. In step 3, **choose which model you want to replay**:  - I have multiple ones, since we saved a model every 500000 timesteps.\n",
    "  - But since I want the more recent, I choose `Huggy.onnx`\n",
    "\n",
    "👉 What’s nice **is to try with different models steps to see the improvement of the agent.**"
   ]
  },
  {
   "cell_type": "code",
   "execution_count": null,
   "id": "4a3ac04e-f3b7-4e0d-b488-5733c006dcd3",
   "metadata": {},
   "outputs": [],
   "source": []
  }
 ],
 "metadata": {
  "kernelspec": {
   "display_name": "python3",
   "language": "python",
   "name": "python3"
  }
 },
 "nbformat": 4,
 "nbformat_minor": 5
}

{
 "cells": [
  {
   "cell_type": "markdown",
   "metadata": {},
   "source": [
    "# Ollama Tutorial\n"
   ]
  },
  {
   "cell_type": "markdown",
   "metadata": {},
   "source": [
    "- https://www.youtube.com/watch?v=UtSSMs6ObqY\n",
    "- https://github.com/techwithtim/OllamaTutorial\n",
    "- https://github.com/ollama/ollama\n",
    "- https://github.com/ollama/ollama-python\n"
   ]
  },
  {
   "cell_type": "markdown",
   "metadata": {},
   "source": [
    "`ollama serve`\n",
    "\n",
    "...\n",
    "\n",
    "`OLLAMA_HOST:http://127.0.0.1:11434`"
   ]
  },
  {
   "cell_type": "markdown",
   "metadata": {},
   "source": [
    "## requests\n",
    "\n",
    "`POST /api/chat`: Generate the next message in a chat with a provided model. This is a streaming endpoint, so there will be a series of responses. \n",
    "\n",
    "**Parameters**\n",
    "- `model`: (required) the model name\n",
    "- `messages`: the messages of the chat, this can be used to keep a chat memory\n",
    "\n",
    "The `message` object has the following fields:\n",
    "- `role`: the role of the message, either `system`, `user`, `assistant`, or `tool`\n",
    "- `content`: the content of the message"
   ]
  },
  {
   "cell_type": "code",
   "execution_count": null,
   "metadata": {},
   "outputs": [],
   "source": [
    "import requests\n",
    "import json"
   ]
  },
  {
   "cell_type": "code",
   "execution_count": null,
   "metadata": {},
   "outputs": [],
   "source": [
    "url = \"http://localhost:11434/api/chat\""
   ]
  },
  {
   "cell_type": "code",
   "execution_count": null,
   "metadata": {},
   "outputs": [],
   "source": [
    "payload = {\n",
    "    \"model\": \"llama3.2:3b\",\n",
    "    \"messages\": [\n",
    "        {\n",
    "            \"role\": \"user\",\n",
    "            \"content\": \"In 3 sentences, describe what Python is.\"\n",
    "        }\n",
    "    ]\n",
    "}"
   ]
  },
  {
   "cell_type": "code",
   "execution_count": null,
   "metadata": {},
   "outputs": [],
   "source": [
    "response = requests.request('POST', url=url, json=payload, stream=True)"
   ]
  },
  {
   "cell_type": "code",
   "execution_count": null,
   "metadata": {},
   "outputs": [
    {
     "name": "stdout",
     "output_type": "stream",
     "text": [
      "Python is a high-level, interpreted programming language that is widely used for various purposes such as web development, scientific computing, data analysis, artificial intelligence, and more. It is known for its simplicity, readability, and ease of use, making it an ideal choice for beginners and experts alike. Python's syntax is designed to be concise and intuitive, allowing developers to focus on writing code rather than wrestling with complex syntax and semantics."
     ]
    }
   ],
   "source": [
    "if response.status_code == 200:\n",
    "    lines = []\n",
    "    for line in response.iter_lines(decode_unicode=True):\n",
    "        lines.append(line)\n",
    "        json_data = json.loads(line)\n",
    "        print(json_data[\"message\"][\"content\"], end=\"\")"
   ]
  },
  {
   "cell_type": "code",
   "execution_count": null,
   "metadata": {},
   "outputs": [
    {
     "data": {
      "text/plain": [
       "[b'{\"model\":\"llama3.2:3b\",\"created_at\":\"2025-01-30T06:32:24.9548399Z\",\"message\":{\"role\":\"assistant\",\"content\":\"Python\"},\"done\":false}',\n",
       " b'{\"model\":\"llama3.2:3b\",\"created_at\":\"2025-01-30T06:32:24.9717162Z\",\"message\":{\"role\":\"assistant\",\"content\":\" is\"},\"done\":false}',\n",
       " b'{\"model\":\"llama3.2:3b\",\"created_at\":\"2025-01-30T06:32:24.9809672Z\",\"message\":{\"role\":\"assistant\",\"content\":\" a\"},\"done\":false}',\n",
       " b'{\"model\":\"llama3.2:3b\",\"created_at\":\"2025-01-30T06:32:24.9902514Z\",\"message\":{\"role\":\"assistant\",\"content\":\" high\"},\"done\":false}',\n",
       " b'{\"model\":\"llama3.2:3b\",\"created_at\":\"2025-01-30T06:32:24.9994973Z\",\"message\":{\"role\":\"assistant\",\"content\":\"-level\"},\"done\":false}',\n",
       " b'{\"model\":\"llama3.2:3b\",\"created_at\":\"2025-01-30T06:32:25.0083255Z\",\"message\":{\"role\":\"assistant\",\"content\":\",\"},\"done\":false}',\n",
       " b'{\"model\":\"llama3.2:3b\",\"created_at\":\"2025-01-30T06:32:25.0171579Z\",\"message\":{\"role\":\"assistant\",\"content\":\" interpreted\"},\"done\":false}',\n",
       " b'{\"model\":\"llama3.2:3b\",\"created_at\":\"2025-01-30T06:32:25.0259532Z\",\"message\":{\"role\":\"assistant\",\"content\":\" programming\"},\"done\":false}',\n",
       " b'{\"model\":\"llama3.2:3b\",\"created_at\":\"2025-01-30T06:32:25.0342827Z\",\"message\":{\"role\":\"assistant\",\"content\":\" language\"},\"done\":false}',\n",
       " b'{\"model\":\"llama3.2:3b\",\"created_at\":\"2025-01-30T06:32:25.0430924Z\",\"message\":{\"role\":\"assistant\",\"content\":\" that\"},\"done\":false}',\n",
       " b'{\"model\":\"llama3.2:3b\",\"created_at\":\"2025-01-30T06:32:25.0519321Z\",\"message\":{\"role\":\"assistant\",\"content\":\" is\"},\"done\":false}',\n",
       " b'{\"model\":\"llama3.2:3b\",\"created_at\":\"2025-01-30T06:32:25.0602115Z\",\"message\":{\"role\":\"assistant\",\"content\":\" widely\"},\"done\":false}',\n",
       " b'{\"model\":\"llama3.2:3b\",\"created_at\":\"2025-01-30T06:32:25.0690973Z\",\"message\":{\"role\":\"assistant\",\"content\":\" used\"},\"done\":false}',\n",
       " b'{\"model\":\"llama3.2:3b\",\"created_at\":\"2025-01-30T06:32:25.0782047Z\",\"message\":{\"role\":\"assistant\",\"content\":\" for\"},\"done\":false}',\n",
       " b'{\"model\":\"llama3.2:3b\",\"created_at\":\"2025-01-30T06:32:25.0865652Z\",\"message\":{\"role\":\"assistant\",\"content\":\" various\"},\"done\":false}',\n",
       " b'{\"model\":\"llama3.2:3b\",\"created_at\":\"2025-01-30T06:32:25.0954476Z\",\"message\":{\"role\":\"assistant\",\"content\":\" purposes\"},\"done\":false}',\n",
       " b'{\"model\":\"llama3.2:3b\",\"created_at\":\"2025-01-30T06:32:25.1041356Z\",\"message\":{\"role\":\"assistant\",\"content\":\" such\"},\"done\":false}',\n",
       " b'{\"model\":\"llama3.2:3b\",\"created_at\":\"2025-01-30T06:32:25.1125211Z\",\"message\":{\"role\":\"assistant\",\"content\":\" as\"},\"done\":false}',\n",
       " b'{\"model\":\"llama3.2:3b\",\"created_at\":\"2025-01-30T06:32:25.1213866Z\",\"message\":{\"role\":\"assistant\",\"content\":\" web\"},\"done\":false}',\n",
       " b'{\"model\":\"llama3.2:3b\",\"created_at\":\"2025-01-30T06:32:25.130175Z\",\"message\":{\"role\":\"assistant\",\"content\":\" development\"},\"done\":false}',\n",
       " b'{\"model\":\"llama3.2:3b\",\"created_at\":\"2025-01-30T06:32:25.1384019Z\",\"message\":{\"role\":\"assistant\",\"content\":\",\"},\"done\":false}',\n",
       " b'{\"model\":\"llama3.2:3b\",\"created_at\":\"2025-01-30T06:32:25.147152Z\",\"message\":{\"role\":\"assistant\",\"content\":\" scientific\"},\"done\":false}',\n",
       " b'{\"model\":\"llama3.2:3b\",\"created_at\":\"2025-01-30T06:32:25.1559219Z\",\"message\":{\"role\":\"assistant\",\"content\":\" computing\"},\"done\":false}',\n",
       " b'{\"model\":\"llama3.2:3b\",\"created_at\":\"2025-01-30T06:32:25.1642199Z\",\"message\":{\"role\":\"assistant\",\"content\":\",\"},\"done\":false}',\n",
       " b'{\"model\":\"llama3.2:3b\",\"created_at\":\"2025-01-30T06:32:25.1727186Z\",\"message\":{\"role\":\"assistant\",\"content\":\" data\"},\"done\":false}',\n",
       " b'{\"model\":\"llama3.2:3b\",\"created_at\":\"2025-01-30T06:32:25.1818454Z\",\"message\":{\"role\":\"assistant\",\"content\":\" analysis\"},\"done\":false}',\n",
       " b'{\"model\":\"llama3.2:3b\",\"created_at\":\"2025-01-30T06:32:25.1909123Z\",\"message\":{\"role\":\"assistant\",\"content\":\",\"},\"done\":false}',\n",
       " b'{\"model\":\"llama3.2:3b\",\"created_at\":\"2025-01-30T06:32:25.2008146Z\",\"message\":{\"role\":\"assistant\",\"content\":\" artificial\"},\"done\":false}',\n",
       " b'{\"model\":\"llama3.2:3b\",\"created_at\":\"2025-01-30T06:32:25.2111278Z\",\"message\":{\"role\":\"assistant\",\"content\":\" intelligence\"},\"done\":false}',\n",
       " b'{\"model\":\"llama3.2:3b\",\"created_at\":\"2025-01-30T06:32:25.2204872Z\",\"message\":{\"role\":\"assistant\",\"content\":\",\"},\"done\":false}',\n",
       " b'{\"model\":\"llama3.2:3b\",\"created_at\":\"2025-01-30T06:32:25.2319025Z\",\"message\":{\"role\":\"assistant\",\"content\":\" and\"},\"done\":false}',\n",
       " b'{\"model\":\"llama3.2:3b\",\"created_at\":\"2025-01-30T06:32:25.241251Z\",\"message\":{\"role\":\"assistant\",\"content\":\" more\"},\"done\":false}',\n",
       " b'{\"model\":\"llama3.2:3b\",\"created_at\":\"2025-01-30T06:32:25.2511666Z\",\"message\":{\"role\":\"assistant\",\"content\":\".\"},\"done\":false}',\n",
       " b'{\"model\":\"llama3.2:3b\",\"created_at\":\"2025-01-30T06:32:25.2608542Z\",\"message\":{\"role\":\"assistant\",\"content\":\" It\"},\"done\":false}',\n",
       " b'{\"model\":\"llama3.2:3b\",\"created_at\":\"2025-01-30T06:32:25.2703908Z\",\"message\":{\"role\":\"assistant\",\"content\":\" is\"},\"done\":false}',\n",
       " b'{\"model\":\"llama3.2:3b\",\"created_at\":\"2025-01-30T06:32:25.2791195Z\",\"message\":{\"role\":\"assistant\",\"content\":\" known\"},\"done\":false}',\n",
       " b'{\"model\":\"llama3.2:3b\",\"created_at\":\"2025-01-30T06:32:25.2878939Z\",\"message\":{\"role\":\"assistant\",\"content\":\" for\"},\"done\":false}',\n",
       " b'{\"model\":\"llama3.2:3b\",\"created_at\":\"2025-01-30T06:32:25.2969157Z\",\"message\":{\"role\":\"assistant\",\"content\":\" its\"},\"done\":false}',\n",
       " b'{\"model\":\"llama3.2:3b\",\"created_at\":\"2025-01-30T06:32:25.3057234Z\",\"message\":{\"role\":\"assistant\",\"content\":\" simplicity\"},\"done\":false}',\n",
       " b'{\"model\":\"llama3.2:3b\",\"created_at\":\"2025-01-30T06:32:25.3146359Z\",\"message\":{\"role\":\"assistant\",\"content\":\",\"},\"done\":false}',\n",
       " b'{\"model\":\"llama3.2:3b\",\"created_at\":\"2025-01-30T06:32:25.3233565Z\",\"message\":{\"role\":\"assistant\",\"content\":\" readability\"},\"done\":false}',\n",
       " b'{\"model\":\"llama3.2:3b\",\"created_at\":\"2025-01-30T06:32:25.3322122Z\",\"message\":{\"role\":\"assistant\",\"content\":\",\"},\"done\":false}',\n",
       " b'{\"model\":\"llama3.2:3b\",\"created_at\":\"2025-01-30T06:32:25.3410111Z\",\"message\":{\"role\":\"assistant\",\"content\":\" and\"},\"done\":false}',\n",
       " b'{\"model\":\"llama3.2:3b\",\"created_at\":\"2025-01-30T06:32:25.3497793Z\",\"message\":{\"role\":\"assistant\",\"content\":\" ease\"},\"done\":false}',\n",
       " b'{\"model\":\"llama3.2:3b\",\"created_at\":\"2025-01-30T06:32:25.3580702Z\",\"message\":{\"role\":\"assistant\",\"content\":\" of\"},\"done\":false}',\n",
       " b'{\"model\":\"llama3.2:3b\",\"created_at\":\"2025-01-30T06:32:25.3669216Z\",\"message\":{\"role\":\"assistant\",\"content\":\" use\"},\"done\":false}',\n",
       " b'{\"model\":\"llama3.2:3b\",\"created_at\":\"2025-01-30T06:32:25.3759061Z\",\"message\":{\"role\":\"assistant\",\"content\":\",\"},\"done\":false}',\n",
       " b'{\"model\":\"llama3.2:3b\",\"created_at\":\"2025-01-30T06:32:25.384731Z\",\"message\":{\"role\":\"assistant\",\"content\":\" making\"},\"done\":false}',\n",
       " b'{\"model\":\"llama3.2:3b\",\"created_at\":\"2025-01-30T06:32:25.3930667Z\",\"message\":{\"role\":\"assistant\",\"content\":\" it\"},\"done\":false}',\n",
       " b'{\"model\":\"llama3.2:3b\",\"created_at\":\"2025-01-30T06:32:25.4023856Z\",\"message\":{\"role\":\"assistant\",\"content\":\" an\"},\"done\":false}',\n",
       " b'{\"model\":\"llama3.2:3b\",\"created_at\":\"2025-01-30T06:32:25.4111468Z\",\"message\":{\"role\":\"assistant\",\"content\":\" ideal\"},\"done\":false}',\n",
       " b'{\"model\":\"llama3.2:3b\",\"created_at\":\"2025-01-30T06:32:25.4199163Z\",\"message\":{\"role\":\"assistant\",\"content\":\" choice\"},\"done\":false}',\n",
       " b'{\"model\":\"llama3.2:3b\",\"created_at\":\"2025-01-30T06:32:25.4289117Z\",\"message\":{\"role\":\"assistant\",\"content\":\" for\"},\"done\":false}',\n",
       " b'{\"model\":\"llama3.2:3b\",\"created_at\":\"2025-01-30T06:32:25.4378085Z\",\"message\":{\"role\":\"assistant\",\"content\":\" beginners\"},\"done\":false}',\n",
       " b'{\"model\":\"llama3.2:3b\",\"created_at\":\"2025-01-30T06:32:25.4466395Z\",\"message\":{\"role\":\"assistant\",\"content\":\" and\"},\"done\":false}',\n",
       " b'{\"model\":\"llama3.2:3b\",\"created_at\":\"2025-01-30T06:32:25.4557553Z\",\"message\":{\"role\":\"assistant\",\"content\":\" experts\"},\"done\":false}',\n",
       " b'{\"model\":\"llama3.2:3b\",\"created_at\":\"2025-01-30T06:32:25.4645698Z\",\"message\":{\"role\":\"assistant\",\"content\":\" alike\"},\"done\":false}',\n",
       " b'{\"model\":\"llama3.2:3b\",\"created_at\":\"2025-01-30T06:32:25.4734244Z\",\"message\":{\"role\":\"assistant\",\"content\":\".\"},\"done\":false}',\n",
       " b'{\"model\":\"llama3.2:3b\",\"created_at\":\"2025-01-30T06:32:25.4823252Z\",\"message\":{\"role\":\"assistant\",\"content\":\" Python\"},\"done\":false}',\n",
       " b'{\"model\":\"llama3.2:3b\",\"created_at\":\"2025-01-30T06:32:25.49063Z\",\"message\":{\"role\":\"assistant\",\"content\":\"\\'s\"},\"done\":false}',\n",
       " b'{\"model\":\"llama3.2:3b\",\"created_at\":\"2025-01-30T06:32:25.4998982Z\",\"message\":{\"role\":\"assistant\",\"content\":\" syntax\"},\"done\":false}',\n",
       " b'{\"model\":\"llama3.2:3b\",\"created_at\":\"2025-01-30T06:32:25.5082997Z\",\"message\":{\"role\":\"assistant\",\"content\":\" is\"},\"done\":false}',\n",
       " b'{\"model\":\"llama3.2:3b\",\"created_at\":\"2025-01-30T06:32:25.5192361Z\",\"message\":{\"role\":\"assistant\",\"content\":\" designed\"},\"done\":false}',\n",
       " b'{\"model\":\"llama3.2:3b\",\"created_at\":\"2025-01-30T06:32:25.5277089Z\",\"message\":{\"role\":\"assistant\",\"content\":\" to\"},\"done\":false}',\n",
       " b'{\"model\":\"llama3.2:3b\",\"created_at\":\"2025-01-30T06:32:25.5366703Z\",\"message\":{\"role\":\"assistant\",\"content\":\" be\"},\"done\":false}',\n",
       " b'{\"model\":\"llama3.2:3b\",\"created_at\":\"2025-01-30T06:32:25.5457803Z\",\"message\":{\"role\":\"assistant\",\"content\":\" concise\"},\"done\":false}',\n",
       " b'{\"model\":\"llama3.2:3b\",\"created_at\":\"2025-01-30T06:32:25.554601Z\",\"message\":{\"role\":\"assistant\",\"content\":\" and\"},\"done\":false}',\n",
       " b'{\"model\":\"llama3.2:3b\",\"created_at\":\"2025-01-30T06:32:25.5634655Z\",\"message\":{\"role\":\"assistant\",\"content\":\" intuitive\"},\"done\":false}',\n",
       " b'{\"model\":\"llama3.2:3b\",\"created_at\":\"2025-01-30T06:32:25.5724687Z\",\"message\":{\"role\":\"assistant\",\"content\":\",\"},\"done\":false}',\n",
       " b'{\"model\":\"llama3.2:3b\",\"created_at\":\"2025-01-30T06:32:25.5807965Z\",\"message\":{\"role\":\"assistant\",\"content\":\" allowing\"},\"done\":false}',\n",
       " b'{\"model\":\"llama3.2:3b\",\"created_at\":\"2025-01-30T06:32:25.5896219Z\",\"message\":{\"role\":\"assistant\",\"content\":\" developers\"},\"done\":false}',\n",
       " b'{\"model\":\"llama3.2:3b\",\"created_at\":\"2025-01-30T06:32:25.598389Z\",\"message\":{\"role\":\"assistant\",\"content\":\" to\"},\"done\":false}',\n",
       " b'{\"model\":\"llama3.2:3b\",\"created_at\":\"2025-01-30T06:32:25.6067326Z\",\"message\":{\"role\":\"assistant\",\"content\":\" focus\"},\"done\":false}',\n",
       " b'{\"model\":\"llama3.2:3b\",\"created_at\":\"2025-01-30T06:32:25.6161019Z\",\"message\":{\"role\":\"assistant\",\"content\":\" on\"},\"done\":false}',\n",
       " b'{\"model\":\"llama3.2:3b\",\"created_at\":\"2025-01-30T06:32:25.6251511Z\",\"message\":{\"role\":\"assistant\",\"content\":\" writing\"},\"done\":false}',\n",
       " b'{\"model\":\"llama3.2:3b\",\"created_at\":\"2025-01-30T06:32:25.6340001Z\",\"message\":{\"role\":\"assistant\",\"content\":\" code\"},\"done\":false}',\n",
       " b'{\"model\":\"llama3.2:3b\",\"created_at\":\"2025-01-30T06:32:25.6428596Z\",\"message\":{\"role\":\"assistant\",\"content\":\" rather\"},\"done\":false}',\n",
       " b'{\"model\":\"llama3.2:3b\",\"created_at\":\"2025-01-30T06:32:25.6514646Z\",\"message\":{\"role\":\"assistant\",\"content\":\" than\"},\"done\":false}',\n",
       " b'{\"model\":\"llama3.2:3b\",\"created_at\":\"2025-01-30T06:32:25.6597643Z\",\"message\":{\"role\":\"assistant\",\"content\":\" wrestling\"},\"done\":false}',\n",
       " b'{\"model\":\"llama3.2:3b\",\"created_at\":\"2025-01-30T06:32:25.6691492Z\",\"message\":{\"role\":\"assistant\",\"content\":\" with\"},\"done\":false}',\n",
       " b'{\"model\":\"llama3.2:3b\",\"created_at\":\"2025-01-30T06:32:25.6778906Z\",\"message\":{\"role\":\"assistant\",\"content\":\" complex\"},\"done\":false}',\n",
       " b'{\"model\":\"llama3.2:3b\",\"created_at\":\"2025-01-30T06:32:25.6867948Z\",\"message\":{\"role\":\"assistant\",\"content\":\" syntax\"},\"done\":false}',\n",
       " b'{\"model\":\"llama3.2:3b\",\"created_at\":\"2025-01-30T06:32:25.6956345Z\",\"message\":{\"role\":\"assistant\",\"content\":\" and\"},\"done\":false}',\n",
       " b'{\"model\":\"llama3.2:3b\",\"created_at\":\"2025-01-30T06:32:25.704404Z\",\"message\":{\"role\":\"assistant\",\"content\":\" semantics\"},\"done\":false}',\n",
       " b'{\"model\":\"llama3.2:3b\",\"created_at\":\"2025-01-30T06:32:25.713146Z\",\"message\":{\"role\":\"assistant\",\"content\":\".\"},\"done\":false}',\n",
       " b'{\"model\":\"llama3.2:3b\",\"created_at\":\"2025-01-30T06:32:25.7225028Z\",\"message\":{\"role\":\"assistant\",\"content\":\"\"},\"done_reason\":\"stop\",\"done\":true,\"total_duration\":4995749100,\"load_duration\":4041207900,\"prompt_eval_count\":35,\"prompt_eval_duration\":183000000,\"eval_count\":86,\"eval_duration\":770000000}']"
      ]
     },
     "execution_count": null,
     "metadata": {},
     "output_type": "execute_result"
    }
   ],
   "source": [
    "lines"
   ]
  },
  {
   "cell_type": "markdown",
   "metadata": {},
   "source": [
    "## ollama"
   ]
  },
  {
   "cell_type": "markdown",
   "metadata": {},
   "source": [
    "`pip install ollama`"
   ]
  },
  {
   "cell_type": "code",
   "execution_count": null,
   "metadata": {},
   "outputs": [],
   "source": [
    "import ollama"
   ]
  },
  {
   "cell_type": "code",
   "execution_count": null,
   "metadata": {},
   "outputs": [],
   "source": [
    "client = ollama.Client()"
   ]
  },
  {
   "cell_type": "code",
   "execution_count": null,
   "metadata": {},
   "outputs": [],
   "source": [
    "model = \"llama3.2:3b\"\n",
    "messages = [\n",
    "    {\n",
    "        \"role\": \"user\",\n",
    "        \"content\": \"In 3 sentences, describe what Python is.\"\n",
    "    }\n",
    "]"
   ]
  },
  {
   "cell_type": "code",
   "execution_count": null,
   "metadata": {},
   "outputs": [],
   "source": [
    "response = client.chat(model=model, messages=messages, stream=True)"
   ]
  },
  {
   "cell_type": "code",
   "execution_count": null,
   "metadata": {},
   "outputs": [
    {
     "name": "stdout",
     "output_type": "stream",
     "text": [
      "Python is a"
     ]
    },
    {
     "name": "stdout",
     "output_type": "stream",
     "text": [
      " high-level, interpreted programming language that allows developers to write clear, concise code for various applications, including web development, scientific computing, data analysis, and more. It is known for its simplicity, readability, and ease of use, making it an ideal choice for beginners and experienced programmers alike. With a vast number of libraries and frameworks available, Python has become one of the most popular programming languages used in industry and academia."
     ]
    }
   ],
   "source": [
    "chunks = []\n",
    "for chunk in response:\n",
    "  chunks.append(chunk)\n",
    "  print(chunk['message']['content'], end='', flush=True)"
   ]
  },
  {
   "cell_type": "code",
   "execution_count": null,
   "metadata": {},
   "outputs": [
    {
     "data": {
      "text/plain": [
       "[ChatResponse(model='llama3.2:3b', created_at='2025-01-30T06:32:26.6986017Z', done=False, done_reason=None, total_duration=None, load_duration=None, prompt_eval_count=None, prompt_eval_duration=None, eval_count=None, eval_duration=None, message=Message(role='assistant', content='Python', images=None, tool_calls=None)),\n",
       " ChatResponse(model='llama3.2:3b', created_at='2025-01-30T06:32:26.7083839Z', done=False, done_reason=None, total_duration=None, load_duration=None, prompt_eval_count=None, prompt_eval_duration=None, eval_count=None, eval_duration=None, message=Message(role='assistant', content=' is', images=None, tool_calls=None)),\n",
       " ChatResponse(model='llama3.2:3b', created_at='2025-01-30T06:32:26.7179839Z', done=False, done_reason=None, total_duration=None, load_duration=None, prompt_eval_count=None, prompt_eval_duration=None, eval_count=None, eval_duration=None, message=Message(role='assistant', content=' a', images=None, tool_calls=None)),\n",
       " ChatResponse(model='llama3.2:3b', created_at='2025-01-30T06:32:26.7274262Z', done=False, done_reason=None, total_duration=None, load_duration=None, prompt_eval_count=None, prompt_eval_duration=None, eval_count=None, eval_duration=None, message=Message(role='assistant', content=' high', images=None, tool_calls=None)),\n",
       " ChatResponse(model='llama3.2:3b', created_at='2025-01-30T06:32:26.7373138Z', done=False, done_reason=None, total_duration=None, load_duration=None, prompt_eval_count=None, prompt_eval_duration=None, eval_count=None, eval_duration=None, message=Message(role='assistant', content='-level', images=None, tool_calls=None)),\n",
       " ChatResponse(model='llama3.2:3b', created_at='2025-01-30T06:32:26.7469173Z', done=False, done_reason=None, total_duration=None, load_duration=None, prompt_eval_count=None, prompt_eval_duration=None, eval_count=None, eval_duration=None, message=Message(role='assistant', content=',', images=None, tool_calls=None)),\n",
       " ChatResponse(model='llama3.2:3b', created_at='2025-01-30T06:32:26.7568401Z', done=False, done_reason=None, total_duration=None, load_duration=None, prompt_eval_count=None, prompt_eval_duration=None, eval_count=None, eval_duration=None, message=Message(role='assistant', content=' interpreted', images=None, tool_calls=None)),\n",
       " ChatResponse(model='llama3.2:3b', created_at='2025-01-30T06:32:26.7656327Z', done=False, done_reason=None, total_duration=None, load_duration=None, prompt_eval_count=None, prompt_eval_duration=None, eval_count=None, eval_duration=None, message=Message(role='assistant', content=' programming', images=None, tool_calls=None)),\n",
       " ChatResponse(model='llama3.2:3b', created_at='2025-01-30T06:32:26.7747995Z', done=False, done_reason=None, total_duration=None, load_duration=None, prompt_eval_count=None, prompt_eval_duration=None, eval_count=None, eval_duration=None, message=Message(role='assistant', content=' language', images=None, tool_calls=None)),\n",
       " ChatResponse(model='llama3.2:3b', created_at='2025-01-30T06:32:26.783614Z', done=False, done_reason=None, total_duration=None, load_duration=None, prompt_eval_count=None, prompt_eval_duration=None, eval_count=None, eval_duration=None, message=Message(role='assistant', content=' that', images=None, tool_calls=None)),\n",
       " ChatResponse(model='llama3.2:3b', created_at='2025-01-30T06:32:26.7923865Z', done=False, done_reason=None, total_duration=None, load_duration=None, prompt_eval_count=None, prompt_eval_duration=None, eval_count=None, eval_duration=None, message=Message(role='assistant', content=' allows', images=None, tool_calls=None)),\n",
       " ChatResponse(model='llama3.2:3b', created_at='2025-01-30T06:32:26.8012384Z', done=False, done_reason=None, total_duration=None, load_duration=None, prompt_eval_count=None, prompt_eval_duration=None, eval_count=None, eval_duration=None, message=Message(role='assistant', content=' developers', images=None, tool_calls=None)),\n",
       " ChatResponse(model='llama3.2:3b', created_at='2025-01-30T06:32:26.8099594Z', done=False, done_reason=None, total_duration=None, load_duration=None, prompt_eval_count=None, prompt_eval_duration=None, eval_count=None, eval_duration=None, message=Message(role='assistant', content=' to', images=None, tool_calls=None)),\n",
       " ChatResponse(model='llama3.2:3b', created_at='2025-01-30T06:32:26.8192259Z', done=False, done_reason=None, total_duration=None, load_duration=None, prompt_eval_count=None, prompt_eval_duration=None, eval_count=None, eval_duration=None, message=Message(role='assistant', content=' write', images=None, tool_calls=None)),\n",
       " ChatResponse(model='llama3.2:3b', created_at='2025-01-30T06:32:26.8283888Z', done=False, done_reason=None, total_duration=None, load_duration=None, prompt_eval_count=None, prompt_eval_duration=None, eval_count=None, eval_duration=None, message=Message(role='assistant', content=' clear', images=None, tool_calls=None)),\n",
       " ChatResponse(model='llama3.2:3b', created_at='2025-01-30T06:32:26.8381263Z', done=False, done_reason=None, total_duration=None, load_duration=None, prompt_eval_count=None, prompt_eval_duration=None, eval_count=None, eval_duration=None, message=Message(role='assistant', content=',', images=None, tool_calls=None)),\n",
       " ChatResponse(model='llama3.2:3b', created_at='2025-01-30T06:32:26.8469154Z', done=False, done_reason=None, total_duration=None, load_duration=None, prompt_eval_count=None, prompt_eval_duration=None, eval_count=None, eval_duration=None, message=Message(role='assistant', content=' concise', images=None, tool_calls=None)),\n",
       " ChatResponse(model='llama3.2:3b', created_at='2025-01-30T06:32:26.8561979Z', done=False, done_reason=None, total_duration=None, load_duration=None, prompt_eval_count=None, prompt_eval_duration=None, eval_count=None, eval_duration=None, message=Message(role='assistant', content=' code', images=None, tool_calls=None)),\n",
       " ChatResponse(model='llama3.2:3b', created_at='2025-01-30T06:32:26.8649716Z', done=False, done_reason=None, total_duration=None, load_duration=None, prompt_eval_count=None, prompt_eval_duration=None, eval_count=None, eval_duration=None, message=Message(role='assistant', content=' for', images=None, tool_calls=None)),\n",
       " ChatResponse(model='llama3.2:3b', created_at='2025-01-30T06:32:26.8737092Z', done=False, done_reason=None, total_duration=None, load_duration=None, prompt_eval_count=None, prompt_eval_duration=None, eval_count=None, eval_duration=None, message=Message(role='assistant', content=' various', images=None, tool_calls=None)),\n",
       " ChatResponse(model='llama3.2:3b', created_at='2025-01-30T06:32:26.8829849Z', done=False, done_reason=None, total_duration=None, load_duration=None, prompt_eval_count=None, prompt_eval_duration=None, eval_count=None, eval_duration=None, message=Message(role='assistant', content=' applications', images=None, tool_calls=None)),\n",
       " ChatResponse(model='llama3.2:3b', created_at='2025-01-30T06:32:26.8917385Z', done=False, done_reason=None, total_duration=None, load_duration=None, prompt_eval_count=None, prompt_eval_duration=None, eval_count=None, eval_duration=None, message=Message(role='assistant', content=',', images=None, tool_calls=None)),\n",
       " ChatResponse(model='llama3.2:3b', created_at='2025-01-30T06:32:26.9004874Z', done=False, done_reason=None, total_duration=None, load_duration=None, prompt_eval_count=None, prompt_eval_duration=None, eval_count=None, eval_duration=None, message=Message(role='assistant', content=' including', images=None, tool_calls=None)),\n",
       " ChatResponse(model='llama3.2:3b', created_at='2025-01-30T06:32:26.909622Z', done=False, done_reason=None, total_duration=None, load_duration=None, prompt_eval_count=None, prompt_eval_duration=None, eval_count=None, eval_duration=None, message=Message(role='assistant', content=' web', images=None, tool_calls=None)),\n",
       " ChatResponse(model='llama3.2:3b', created_at='2025-01-30T06:32:26.9184445Z', done=False, done_reason=None, total_duration=None, load_duration=None, prompt_eval_count=None, prompt_eval_duration=None, eval_count=None, eval_duration=None, message=Message(role='assistant', content=' development', images=None, tool_calls=None)),\n",
       " ChatResponse(model='llama3.2:3b', created_at='2025-01-30T06:32:26.9276616Z', done=False, done_reason=None, total_duration=None, load_duration=None, prompt_eval_count=None, prompt_eval_duration=None, eval_count=None, eval_duration=None, message=Message(role='assistant', content=',', images=None, tool_calls=None)),\n",
       " ChatResponse(model='llama3.2:3b', created_at='2025-01-30T06:32:26.9370064Z', done=False, done_reason=None, total_duration=None, load_duration=None, prompt_eval_count=None, prompt_eval_duration=None, eval_count=None, eval_duration=None, message=Message(role='assistant', content=' scientific', images=None, tool_calls=None)),\n",
       " ChatResponse(model='llama3.2:3b', created_at='2025-01-30T06:32:26.9463018Z', done=False, done_reason=None, total_duration=None, load_duration=None, prompt_eval_count=None, prompt_eval_duration=None, eval_count=None, eval_duration=None, message=Message(role='assistant', content=' computing', images=None, tool_calls=None)),\n",
       " ChatResponse(model='llama3.2:3b', created_at='2025-01-30T06:32:26.9565561Z', done=False, done_reason=None, total_duration=None, load_duration=None, prompt_eval_count=None, prompt_eval_duration=None, eval_count=None, eval_duration=None, message=Message(role='assistant', content=',', images=None, tool_calls=None)),\n",
       " ChatResponse(model='llama3.2:3b', created_at='2025-01-30T06:32:26.9658743Z', done=False, done_reason=None, total_duration=None, load_duration=None, prompt_eval_count=None, prompt_eval_duration=None, eval_count=None, eval_duration=None, message=Message(role='assistant', content=' data', images=None, tool_calls=None)),\n",
       " ChatResponse(model='llama3.2:3b', created_at='2025-01-30T06:32:26.9761866Z', done=False, done_reason=None, total_duration=None, load_duration=None, prompt_eval_count=None, prompt_eval_duration=None, eval_count=None, eval_duration=None, message=Message(role='assistant', content=' analysis', images=None, tool_calls=None)),\n",
       " ChatResponse(model='llama3.2:3b', created_at='2025-01-30T06:32:26.9855277Z', done=False, done_reason=None, total_duration=None, load_duration=None, prompt_eval_count=None, prompt_eval_duration=None, eval_count=None, eval_duration=None, message=Message(role='assistant', content=',', images=None, tool_calls=None)),\n",
       " ChatResponse(model='llama3.2:3b', created_at='2025-01-30T06:32:26.9942548Z', done=False, done_reason=None, total_duration=None, load_duration=None, prompt_eval_count=None, prompt_eval_duration=None, eval_count=None, eval_duration=None, message=Message(role='assistant', content=' and', images=None, tool_calls=None)),\n",
       " ChatResponse(model='llama3.2:3b', created_at='2025-01-30T06:32:27.0035851Z', done=False, done_reason=None, total_duration=None, load_duration=None, prompt_eval_count=None, prompt_eval_duration=None, eval_count=None, eval_duration=None, message=Message(role='assistant', content=' more', images=None, tool_calls=None)),\n",
       " ChatResponse(model='llama3.2:3b', created_at='2025-01-30T06:32:27.0126424Z', done=False, done_reason=None, total_duration=None, load_duration=None, prompt_eval_count=None, prompt_eval_duration=None, eval_count=None, eval_duration=None, message=Message(role='assistant', content='.', images=None, tool_calls=None)),\n",
       " ChatResponse(model='llama3.2:3b', created_at='2025-01-30T06:32:27.0219307Z', done=False, done_reason=None, total_duration=None, load_duration=None, prompt_eval_count=None, prompt_eval_duration=None, eval_count=None, eval_duration=None, message=Message(role='assistant', content=' It', images=None, tool_calls=None)),\n",
       " ChatResponse(model='llama3.2:3b', created_at='2025-01-30T06:32:27.0307052Z', done=False, done_reason=None, total_duration=None, load_duration=None, prompt_eval_count=None, prompt_eval_duration=None, eval_count=None, eval_duration=None, message=Message(role='assistant', content=' is', images=None, tool_calls=None)),\n",
       " ChatResponse(model='llama3.2:3b', created_at='2025-01-30T06:32:27.0396604Z', done=False, done_reason=None, total_duration=None, load_duration=None, prompt_eval_count=None, prompt_eval_duration=None, eval_count=None, eval_duration=None, message=Message(role='assistant', content=' known', images=None, tool_calls=None)),\n",
       " ChatResponse(model='llama3.2:3b', created_at='2025-01-30T06:32:27.0483903Z', done=False, done_reason=None, total_duration=None, load_duration=None, prompt_eval_count=None, prompt_eval_duration=None, eval_count=None, eval_duration=None, message=Message(role='assistant', content=' for', images=None, tool_calls=None)),\n",
       " ChatResponse(model='llama3.2:3b', created_at='2025-01-30T06:32:27.057415Z', done=False, done_reason=None, total_duration=None, load_duration=None, prompt_eval_count=None, prompt_eval_duration=None, eval_count=None, eval_duration=None, message=Message(role='assistant', content=' its', images=None, tool_calls=None)),\n",
       " ChatResponse(model='llama3.2:3b', created_at='2025-01-30T06:32:27.0661272Z', done=False, done_reason=None, total_duration=None, load_duration=None, prompt_eval_count=None, prompt_eval_duration=None, eval_count=None, eval_duration=None, message=Message(role='assistant', content=' simplicity', images=None, tool_calls=None)),\n",
       " ChatResponse(model='llama3.2:3b', created_at='2025-01-30T06:32:27.0749131Z', done=False, done_reason=None, total_duration=None, load_duration=None, prompt_eval_count=None, prompt_eval_duration=None, eval_count=None, eval_duration=None, message=Message(role='assistant', content=',', images=None, tool_calls=None)),\n",
       " ChatResponse(model='llama3.2:3b', created_at='2025-01-30T06:32:27.0840137Z', done=False, done_reason=None, total_duration=None, load_duration=None, prompt_eval_count=None, prompt_eval_duration=None, eval_count=None, eval_duration=None, message=Message(role='assistant', content=' readability', images=None, tool_calls=None)),\n",
       " ChatResponse(model='llama3.2:3b', created_at='2025-01-30T06:32:27.0927662Z', done=False, done_reason=None, total_duration=None, load_duration=None, prompt_eval_count=None, prompt_eval_duration=None, eval_count=None, eval_duration=None, message=Message(role='assistant', content=',', images=None, tool_calls=None)),\n",
       " ChatResponse(model='llama3.2:3b', created_at='2025-01-30T06:32:27.1015393Z', done=False, done_reason=None, total_duration=None, load_duration=None, prompt_eval_count=None, prompt_eval_duration=None, eval_count=None, eval_duration=None, message=Message(role='assistant', content=' and', images=None, tool_calls=None)),\n",
       " ChatResponse(model='llama3.2:3b', created_at='2025-01-30T06:32:27.1104487Z', done=False, done_reason=None, total_duration=None, load_duration=None, prompt_eval_count=None, prompt_eval_duration=None, eval_count=None, eval_duration=None, message=Message(role='assistant', content=' ease', images=None, tool_calls=None)),\n",
       " ChatResponse(model='llama3.2:3b', created_at='2025-01-30T06:32:27.1192066Z', done=False, done_reason=None, total_duration=None, load_duration=None, prompt_eval_count=None, prompt_eval_duration=None, eval_count=None, eval_duration=None, message=Message(role='assistant', content=' of', images=None, tool_calls=None)),\n",
       " ChatResponse(model='llama3.2:3b', created_at='2025-01-30T06:32:27.1279336Z', done=False, done_reason=None, total_duration=None, load_duration=None, prompt_eval_count=None, prompt_eval_duration=None, eval_count=None, eval_duration=None, message=Message(role='assistant', content=' use', images=None, tool_calls=None)),\n",
       " ChatResponse(model='llama3.2:3b', created_at='2025-01-30T06:32:27.1370717Z', done=False, done_reason=None, total_duration=None, load_duration=None, prompt_eval_count=None, prompt_eval_duration=None, eval_count=None, eval_duration=None, message=Message(role='assistant', content=',', images=None, tool_calls=None)),\n",
       " ChatResponse(model='llama3.2:3b', created_at='2025-01-30T06:32:27.1458213Z', done=False, done_reason=None, total_duration=None, load_duration=None, prompt_eval_count=None, prompt_eval_duration=None, eval_count=None, eval_duration=None, message=Message(role='assistant', content=' making', images=None, tool_calls=None)),\n",
       " ChatResponse(model='llama3.2:3b', created_at='2025-01-30T06:32:27.1549009Z', done=False, done_reason=None, total_duration=None, load_duration=None, prompt_eval_count=None, prompt_eval_duration=None, eval_count=None, eval_duration=None, message=Message(role='assistant', content=' it', images=None, tool_calls=None)),\n",
       " ChatResponse(model='llama3.2:3b', created_at='2025-01-30T06:32:27.1641778Z', done=False, done_reason=None, total_duration=None, load_duration=None, prompt_eval_count=None, prompt_eval_duration=None, eval_count=None, eval_duration=None, message=Message(role='assistant', content=' an', images=None, tool_calls=None)),\n",
       " ChatResponse(model='llama3.2:3b', created_at='2025-01-30T06:32:27.173058Z', done=False, done_reason=None, total_duration=None, load_duration=None, prompt_eval_count=None, prompt_eval_duration=None, eval_count=None, eval_duration=None, message=Message(role='assistant', content=' ideal', images=None, tool_calls=None)),\n",
       " ChatResponse(model='llama3.2:3b', created_at='2025-01-30T06:32:27.1823333Z', done=False, done_reason=None, total_duration=None, load_duration=None, prompt_eval_count=None, prompt_eval_duration=None, eval_count=None, eval_duration=None, message=Message(role='assistant', content=' choice', images=None, tool_calls=None)),\n",
       " ChatResponse(model='llama3.2:3b', created_at='2025-01-30T06:32:27.1911164Z', done=False, done_reason=None, total_duration=None, load_duration=None, prompt_eval_count=None, prompt_eval_duration=None, eval_count=None, eval_duration=None, message=Message(role='assistant', content=' for', images=None, tool_calls=None)),\n",
       " ChatResponse(model='llama3.2:3b', created_at='2025-01-30T06:32:27.2000275Z', done=False, done_reason=None, total_duration=None, load_duration=None, prompt_eval_count=None, prompt_eval_duration=None, eval_count=None, eval_duration=None, message=Message(role='assistant', content=' beginners', images=None, tool_calls=None)),\n",
       " ChatResponse(model='llama3.2:3b', created_at='2025-01-30T06:32:27.2087779Z', done=False, done_reason=None, total_duration=None, load_duration=None, prompt_eval_count=None, prompt_eval_duration=None, eval_count=None, eval_duration=None, message=Message(role='assistant', content=' and', images=None, tool_calls=None)),\n",
       " ChatResponse(model='llama3.2:3b', created_at='2025-01-30T06:32:27.2177656Z', done=False, done_reason=None, total_duration=None, load_duration=None, prompt_eval_count=None, prompt_eval_duration=None, eval_count=None, eval_duration=None, message=Message(role='assistant', content=' experienced', images=None, tool_calls=None)),\n",
       " ChatResponse(model='llama3.2:3b', created_at='2025-01-30T06:32:27.2264977Z', done=False, done_reason=None, total_duration=None, load_duration=None, prompt_eval_count=None, prompt_eval_duration=None, eval_count=None, eval_duration=None, message=Message(role='assistant', content=' programmers', images=None, tool_calls=None)),\n",
       " ChatResponse(model='llama3.2:3b', created_at='2025-01-30T06:32:27.2352598Z', done=False, done_reason=None, total_duration=None, load_duration=None, prompt_eval_count=None, prompt_eval_duration=None, eval_count=None, eval_duration=None, message=Message(role='assistant', content=' alike', images=None, tool_calls=None)),\n",
       " ChatResponse(model='llama3.2:3b', created_at='2025-01-30T06:32:27.2445358Z', done=False, done_reason=None, total_duration=None, load_duration=None, prompt_eval_count=None, prompt_eval_duration=None, eval_count=None, eval_duration=None, message=Message(role='assistant', content='.', images=None, tool_calls=None)),\n",
       " ChatResponse(model='llama3.2:3b', created_at='2025-01-30T06:32:27.2538651Z', done=False, done_reason=None, total_duration=None, load_duration=None, prompt_eval_count=None, prompt_eval_duration=None, eval_count=None, eval_duration=None, message=Message(role='assistant', content=' With', images=None, tool_calls=None)),\n",
       " ChatResponse(model='llama3.2:3b', created_at='2025-01-30T06:32:27.2658185Z', done=False, done_reason=None, total_duration=None, load_duration=None, prompt_eval_count=None, prompt_eval_duration=None, eval_count=None, eval_duration=None, message=Message(role='assistant', content=' a', images=None, tool_calls=None)),\n",
       " ChatResponse(model='llama3.2:3b', created_at='2025-01-30T06:32:27.2765738Z', done=False, done_reason=None, total_duration=None, load_duration=None, prompt_eval_count=None, prompt_eval_duration=None, eval_count=None, eval_duration=None, message=Message(role='assistant', content=' vast', images=None, tool_calls=None)),\n",
       " ChatResponse(model='llama3.2:3b', created_at='2025-01-30T06:32:27.2864407Z', done=False, done_reason=None, total_duration=None, load_duration=None, prompt_eval_count=None, prompt_eval_duration=None, eval_count=None, eval_duration=None, message=Message(role='assistant', content=' number', images=None, tool_calls=None)),\n",
       " ChatResponse(model='llama3.2:3b', created_at='2025-01-30T06:32:27.2957547Z', done=False, done_reason=None, total_duration=None, load_duration=None, prompt_eval_count=None, prompt_eval_duration=None, eval_count=None, eval_duration=None, message=Message(role='assistant', content=' of', images=None, tool_calls=None)),\n",
       " ChatResponse(model='llama3.2:3b', created_at='2025-01-30T06:32:27.305714Z', done=False, done_reason=None, total_duration=None, load_duration=None, prompt_eval_count=None, prompt_eval_duration=None, eval_count=None, eval_duration=None, message=Message(role='assistant', content=' libraries', images=None, tool_calls=None)),\n",
       " ChatResponse(model='llama3.2:3b', created_at='2025-01-30T06:32:27.3155603Z', done=False, done_reason=None, total_duration=None, load_duration=None, prompt_eval_count=None, prompt_eval_duration=None, eval_count=None, eval_duration=None, message=Message(role='assistant', content=' and', images=None, tool_calls=None)),\n",
       " ChatResponse(model='llama3.2:3b', created_at='2025-01-30T06:32:27.3249143Z', done=False, done_reason=None, total_duration=None, load_duration=None, prompt_eval_count=None, prompt_eval_duration=None, eval_count=None, eval_duration=None, message=Message(role='assistant', content=' frameworks', images=None, tool_calls=None)),\n",
       " ChatResponse(model='llama3.2:3b', created_at='2025-01-30T06:32:27.3343123Z', done=False, done_reason=None, total_duration=None, load_duration=None, prompt_eval_count=None, prompt_eval_duration=None, eval_count=None, eval_duration=None, message=Message(role='assistant', content=' available', images=None, tool_calls=None)),\n",
       " ChatResponse(model='llama3.2:3b', created_at='2025-01-30T06:32:27.3435155Z', done=False, done_reason=None, total_duration=None, load_duration=None, prompt_eval_count=None, prompt_eval_duration=None, eval_count=None, eval_duration=None, message=Message(role='assistant', content=',', images=None, tool_calls=None)),\n",
       " ChatResponse(model='llama3.2:3b', created_at='2025-01-30T06:32:27.3533482Z', done=False, done_reason=None, total_duration=None, load_duration=None, prompt_eval_count=None, prompt_eval_duration=None, eval_count=None, eval_duration=None, message=Message(role='assistant', content=' Python', images=None, tool_calls=None)),\n",
       " ChatResponse(model='llama3.2:3b', created_at='2025-01-30T06:32:27.3621081Z', done=False, done_reason=None, total_duration=None, load_duration=None, prompt_eval_count=None, prompt_eval_duration=None, eval_count=None, eval_duration=None, message=Message(role='assistant', content=' has', images=None, tool_calls=None)),\n",
       " ChatResponse(model='llama3.2:3b', created_at='2025-01-30T06:32:27.3713111Z', done=False, done_reason=None, total_duration=None, load_duration=None, prompt_eval_count=None, prompt_eval_duration=None, eval_count=None, eval_duration=None, message=Message(role='assistant', content=' become', images=None, tool_calls=None)),\n",
       " ChatResponse(model='llama3.2:3b', created_at='2025-01-30T06:32:27.3800786Z', done=False, done_reason=None, total_duration=None, load_duration=None, prompt_eval_count=None, prompt_eval_duration=None, eval_count=None, eval_duration=None, message=Message(role='assistant', content=' one', images=None, tool_calls=None)),\n",
       " ChatResponse(model='llama3.2:3b', created_at='2025-01-30T06:32:27.3893677Z', done=False, done_reason=None, total_duration=None, load_duration=None, prompt_eval_count=None, prompt_eval_duration=None, eval_count=None, eval_duration=None, message=Message(role='assistant', content=' of', images=None, tool_calls=None)),\n",
       " ChatResponse(model='llama3.2:3b', created_at='2025-01-30T06:32:27.3983938Z', done=False, done_reason=None, total_duration=None, load_duration=None, prompt_eval_count=None, prompt_eval_duration=None, eval_count=None, eval_duration=None, message=Message(role='assistant', content=' the', images=None, tool_calls=None)),\n",
       " ChatResponse(model='llama3.2:3b', created_at='2025-01-30T06:32:27.4071173Z', done=False, done_reason=None, total_duration=None, load_duration=None, prompt_eval_count=None, prompt_eval_duration=None, eval_count=None, eval_duration=None, message=Message(role='assistant', content=' most', images=None, tool_calls=None)),\n",
       " ChatResponse(model='llama3.2:3b', created_at='2025-01-30T06:32:27.4159256Z', done=False, done_reason=None, total_duration=None, load_duration=None, prompt_eval_count=None, prompt_eval_duration=None, eval_count=None, eval_duration=None, message=Message(role='assistant', content=' popular', images=None, tool_calls=None)),\n",
       " ChatResponse(model='llama3.2:3b', created_at='2025-01-30T06:32:27.4248347Z', done=False, done_reason=None, total_duration=None, load_duration=None, prompt_eval_count=None, prompt_eval_duration=None, eval_count=None, eval_duration=None, message=Message(role='assistant', content=' programming', images=None, tool_calls=None)),\n",
       " ChatResponse(model='llama3.2:3b', created_at='2025-01-30T06:32:27.4335866Z', done=False, done_reason=None, total_duration=None, load_duration=None, prompt_eval_count=None, prompt_eval_duration=None, eval_count=None, eval_duration=None, message=Message(role='assistant', content=' languages', images=None, tool_calls=None)),\n",
       " ChatResponse(model='llama3.2:3b', created_at='2025-01-30T06:32:27.442339Z', done=False, done_reason=None, total_duration=None, load_duration=None, prompt_eval_count=None, prompt_eval_duration=None, eval_count=None, eval_duration=None, message=Message(role='assistant', content=' used', images=None, tool_calls=None)),\n",
       " ChatResponse(model='llama3.2:3b', created_at='2025-01-30T06:32:27.4515668Z', done=False, done_reason=None, total_duration=None, load_duration=None, prompt_eval_count=None, prompt_eval_duration=None, eval_count=None, eval_duration=None, message=Message(role='assistant', content=' in', images=None, tool_calls=None)),\n",
       " ChatResponse(model='llama3.2:3b', created_at='2025-01-30T06:32:27.4603265Z', done=False, done_reason=None, total_duration=None, load_duration=None, prompt_eval_count=None, prompt_eval_duration=None, eval_count=None, eval_duration=None, message=Message(role='assistant', content=' industry', images=None, tool_calls=None)),\n",
       " ChatResponse(model='llama3.2:3b', created_at='2025-01-30T06:32:27.4690425Z', done=False, done_reason=None, total_duration=None, load_duration=None, prompt_eval_count=None, prompt_eval_duration=None, eval_count=None, eval_duration=None, message=Message(role='assistant', content=' and', images=None, tool_calls=None)),\n",
       " ChatResponse(model='llama3.2:3b', created_at='2025-01-30T06:32:27.4781463Z', done=False, done_reason=None, total_duration=None, load_duration=None, prompt_eval_count=None, prompt_eval_duration=None, eval_count=None, eval_duration=None, message=Message(role='assistant', content=' academia', images=None, tool_calls=None)),\n",
       " ChatResponse(model='llama3.2:3b', created_at='2025-01-30T06:32:27.4868646Z', done=False, done_reason=None, total_duration=None, load_duration=None, prompt_eval_count=None, prompt_eval_duration=None, eval_count=None, eval_duration=None, message=Message(role='assistant', content='.', images=None, tool_calls=None)),\n",
       " ChatResponse(model='llama3.2:3b', created_at='2025-01-30T06:32:27.495813Z', done=True, done_reason='stop', total_duration=826473500, load_duration=17256300, prompt_eval_count=35, prompt_eval_duration=2000000, eval_count=88, eval_duration=805000000, message=Message(role='assistant', content='', images=None, tool_calls=None))]"
      ]
     },
     "execution_count": null,
     "metadata": {},
     "output_type": "execute_result"
    }
   ],
   "source": [
    "chunks"
   ]
  },
  {
   "cell_type": "code",
   "execution_count": null,
   "metadata": {},
   "outputs": [],
   "source": []
  }
 ],
 "metadata": {
  "kernelspec": {
   "display_name": "python3",
   "language": "python",
   "name": "python3"
  }
 },
 "nbformat": 4,
 "nbformat_minor": 2
}

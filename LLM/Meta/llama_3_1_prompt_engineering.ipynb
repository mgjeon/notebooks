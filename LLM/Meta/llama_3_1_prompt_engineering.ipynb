{
 "cells": [
  {
   "cell_type": "markdown",
   "id": "250773fd-fca9-4292-943e-37d701cbaa9b",
   "metadata": {},
   "source": [
    "# Prompt Engineering with Llama\n",
    "\n",
    "- https://github.com/meta-llama/llama-cookbook/blob/main/getting-started/Prompt_Engineering_with_Llama.ipynb\n",
    "- https://colab.research.google.com/github/meta-llama/llama-cookbook/blob/main/getting-started/Prompt_Engineering_with_Llama.ipynb"
   ]
  },
  {
   "cell_type": "markdown",
   "id": "2dbc3055-6e0c-4158-9de1-c3e4310c0cdc",
   "metadata": {},
   "source": [
    "Prompt engineering is using natural language to produce a desired response from a large language model (LLM).\n",
    "\n",
    "This interactive guide covers prompt engineering & best practices with Llama.\n",
    "\n",
    "Note: The notebook can be extended to any (latest) Llama models."
   ]
  },
  {
   "cell_type": "markdown",
   "id": "dd2e9aae-6a33-479f-b522-8ad24e3629d7",
   "metadata": {},
   "source": [
    "## Introduction"
   ]
  },
  {
   "cell_type": "markdown",
   "id": "457c1964-5c13-405e-b28f-9a6bb792a2a9",
   "metadata": {},
   "source": [
    "### Why now?\n",
    "\n",
    "[Vaswani et al. (2017)](https://arxiv.org/abs/1706.03762) introduced the world to transformer neural networks (originally for machine translation). Transformers ushered an era of generative AI with diffusion models for image creation and large language models (`LLMs`) as **programmable deep learning networks**.\n",
    "\n",
    "Programming foundational LLMs is done with natural language – it doesn't require training/tuning like ML models of the past. This has opened the door to a massive amount of innovation and a paradigm shift in how technology can be deployed. The science/art of using natural language to program language models to accomplish a task is referred to as **Prompt Engineering**."
   ]
  },
  {
   "cell_type": "markdown",
   "id": "1cdfc759-f320-4657-a9d4-666149126c60",
   "metadata": {},
   "source": [
    "### Llama Models\n",
    "\n",
    "In 2023, Meta introduced the [Llama language models](https://www.llama.com/) (Llama Chat, Code Llama, Llama Guard). These are general purpose, state-of-the-art LLMs.\n",
    "\n",
    "Llama models come in varying parameter sizes. The smaller models are cheaper to deploy and run; the larger models are more capable.\n",
    "\n",
    "#### Llama 3.1\n",
    "1. `llama-3.1-8b` - base pretrained 8 billion parameter model\n",
    "1. `llama-3.1-70b` - base pretrained 70 billion parameter model\n",
    "1. `llama-3.1-405b` - base pretrained 405 billion parameter model\n",
    "1. `llama-3.1-8b-instruct` - instruction fine-tuned 8 billion parameter model\n",
    "1. `llama-3.1-70b-instruct` - instruction fine-tuned 70 billion parameter model\n",
    "1. `llama-3.1-405b-instruct` - instruction fine-tuned 405 billion parameter model (flagship)\n",
    "\n",
    "\n",
    "#### Llama 3\n",
    "1. `llama-3-8b` - base pretrained 8 billion parameter model\n",
    "1. `llama-3-70b` - base pretrained 70 billion parameter model\n",
    "1. `llama-3-8b-instruct` - instruction fine-tuned 8 billion parameter model\n",
    "1. `llama-3-70b-instruct` - instruction fine-tuned 70 billion parameter model (flagship)\n",
    "\n",
    "#### Llama 2\n",
    "1. `llama-2-7b` - base pretrained 7 billion parameter model\n",
    "1. `llama-2-13b` - base pretrained 13 billion parameter model\n",
    "1. `llama-2-70b` - base pretrained 70 billion parameter model\n",
    "1. `llama-2-7b-chat` - chat fine-tuned 7 billion parameter model\n",
    "1. `llama-2-13b-chat` - chat fine-tuned 13 billion parameter model\n",
    "1. `llama-2-70b-chat` - chat fine-tuned 70 billion parameter model (flagship)"
   ]
  },
  {
   "cell_type": "markdown",
   "id": "5787e533-37b2-4827-b345-8d1ed8098859",
   "metadata": {},
   "source": [
    "## Getting an LLM\n",
    "\n",
    "Large language models are deployed and accessed in a variety of ways, including:\n",
    "\n",
    "1. **Self-hosting**: Using local hardware to run inference. Ex. running Llama on your Macbook Pro using [llama.cpp](https://github.com/ggerganov/llama.cpp).\n",
    "    * Best for privacy/security or if you already have a GPU.\n",
    "1. **Cloud hosting**: Using a cloud provider to deploy an instance that hosts a specific model. Ex. running Llama on cloud providers like AWS, Azure, GCP, and others.\n",
    "    * Best for customizing models and their runtime (ex. fine-tuning a model for your use case).\n",
    "1. **Hosted API**: Call LLMs directly via an API. There are many companies that provide Llama inference APIs including AWS Bedrock, Replicate, Anyscale, Together and others.\n",
    "    * Easiest option overall."
   ]
  },
  {
   "cell_type": "markdown",
   "id": "36780f10-5a03-4f64-95b9-330f091c177a",
   "metadata": {},
   "source": [
    "### Hosted APIs\n",
    "\n",
    "Hosted APIs are the easiest way to get started. We'll use them here. There are usually two main endpoints:\n",
    "\n",
    "1. **`completion`**: generate a response to a given prompt (a string).\n",
    "1. **`chat_completion`**: generate the next message in a list of messages, enabling more explicit instruction and context for use cases like chatbots."
   ]
  },
  {
   "cell_type": "markdown",
   "id": "7080f7c7-571e-42d6-bdfc-dc77e3d975d9",
   "metadata": {},
   "source": [
    "## Tokens\n",
    "\n",
    "LLMs process inputs and outputs in chunks called *tokens*. Think of these, roughly, as words – each model will have its own tokenization scheme. For example, this sentence...\n",
    "\n",
    "> Our destiny is written in the stars.\n",
    "\n",
    "...is tokenized into `[\"Our\", \" destiny\", \" is\", \" written\", \" in\", \" the\", \" stars\", \".\"]` for Llama 3. See [this](https://tiktokenizer.vercel.app/?model=meta-llama%2FMeta-Llama-3-8B) for an interactive tokenizer tool.\n",
    "\n",
    "Tokens matter most when you consider API pricing and internal behavior (ex. hyperparameters).\n",
    "\n",
    "Each model has a maximum context length that your prompt cannot exceed. That's 128k tokens for Llama 3.1, 4K for Llama 2, and 100K for Code Llama."
   ]
  },
  {
   "cell_type": "markdown",
   "id": "a878f9ef-5776-4295-bf1c-4676e1903503",
   "metadata": {},
   "source": [
    "## Notebook Setup\n",
    "\n",
    "The following APIs will be used to call LLMs throughout the guide. As an example, we'll call Llama chat using Groq\n",
    "\n",
    "- https://console.groq.com/docs/models\n",
    "\n",
    "To install prerequisites run:"
   ]
  },
  {
   "cell_type": "code",
   "execution_count": null,
   "id": "3acca6e6-b227-4d09-a2ff-f8fe0d540ef5",
   "metadata": {},
   "outputs": [],
   "source": [
    "!pip install -qq groq"
   ]
  },
  {
   "cell_type": "code",
   "execution_count": null,
   "id": "3528d0b0-02da-414b-9ed3-a42f4ce5277e",
   "metadata": {},
   "outputs": [],
   "source": [
    "import os\n",
    "from typing import Dict, List\n",
    "from groq import Groq\n",
    "\n",
    "# Get a free API key from https://console.groq.com/keys\n",
    "# os.environ[\"GROQ_API_KEY\"] = \"YOUR_GROQ_API_KEY\"\n",
    "\n",
    "LLAMA3_70B_INSTRUCT = \"llama-3.3-70b-versatile\"\n",
    "LLAMA3_8B_INSTRUCT = \"llama3.1-8b-instant\"\n",
    "\n",
    "DEFAULT_MODEL = LLAMA3_70B_INSTRUCT\n",
    "\n",
    "client = Groq()\n",
    "\n",
    "def assistant(content: str):\n",
    "    return { \"role\": \"assistant\", \"content\": content }\n",
    "\n",
    "def user(content: str):\n",
    "    return { \"role\": \"user\", \"content\": content }\n",
    "\n",
    "def chat_completion(\n",
    "    messages: List[Dict],\n",
    "    model = DEFAULT_MODEL,\n",
    "    temperature: float = 0.6,\n",
    "    top_p: float = 0.9,\n",
    ") -> str:\n",
    "    response = client.chat.completions.create(\n",
    "        messages=messages,\n",
    "        model=model,\n",
    "        temperature=temperature,\n",
    "        top_p=top_p,\n",
    "    )\n",
    "    return response.choices[0].message.content\n",
    "        \n",
    "\n",
    "def completion(\n",
    "    prompt: str,\n",
    "    model: str = DEFAULT_MODEL,\n",
    "    temperature: float = 0.6,\n",
    "    top_p: float = 0.9,\n",
    ") -> str:\n",
    "    return chat_completion(\n",
    "        [user(prompt)],\n",
    "        model=model,\n",
    "        temperature=temperature,\n",
    "        top_p=top_p,\n",
    "    )\n",
    "\n",
    "def complete_and_print(prompt: str, model: str = DEFAULT_MODEL):\n",
    "    print(f'==============\\n{prompt}\\n==============')\n",
    "    response = completion(prompt, model)\n",
    "    print(response, end='\\n\\n')"
   ]
  },
  {
   "cell_type": "markdown",
   "id": "00da1b69-71a2-4712-beab-84aff8472deb",
   "metadata": {},
   "source": [
    "### Completion APIs\n",
    "\n",
    "Let's try Llama 3.1!"
   ]
  },
  {
   "cell_type": "code",
   "execution_count": null,
   "id": "ac0c6ba7-e7a8-47a1-a4c5-f4bcfb94e03b",
   "metadata": {},
   "outputs": [
    {
     "name": "stdout",
     "output_type": "stream",
     "text": [
      "==============\n",
      "The typical color of the sky is: \n",
      "==============\n",
      "Blue.\n",
      "\n"
     ]
    }
   ],
   "source": [
    "complete_and_print(\"The typical color of the sky is: \")"
   ]
  },
  {
   "cell_type": "code",
   "execution_count": null,
   "id": "1ed98674-6065-45bb-a159-8587cbbcdc94",
   "metadata": {},
   "outputs": [
    {
     "name": "stdout",
     "output_type": "stream",
     "text": [
      "==============\n",
      "which model version are you?\n",
      "==============\n",
      "I am a Meta AI model, and my version is Meta LLama.\n",
      "\n"
     ]
    }
   ],
   "source": [
    "complete_and_print(\"which model version are you?\")"
   ]
  },
  {
   "cell_type": "markdown",
   "id": "0091c958-eac8-45e9-9225-8d362cd53390",
   "metadata": {},
   "source": [
    "### Chat Completion APIs\n",
    "\n",
    "Chat completion models provide additional structure to interacting with an LLM. An array of structured message objects is sent to the LLM instead of a single piece of text. This message list provides the LLM with some \"context\" or \"history\" from which to continue.\n",
    "\n",
    "Typically, each message contains `role` and `content`:\n",
    "* Messages with the `system` role are used to provide core instruction to the LLM by developers.\n",
    "* Messages with the `user` role are typically human-provided messages.\n",
    "* Messages with the `assistant` role are typically generated by the LLM."
   ]
  },
  {
   "cell_type": "code",
   "execution_count": null,
   "id": "eafe7192-3634-42b7-a3d1-264551437962",
   "metadata": {},
   "outputs": [
    {
     "name": "stdout",
     "output_type": "stream",
     "text": [
      "You mentioned earlier that your favorite color is blue.\n"
     ]
    }
   ],
   "source": [
    "response = chat_completion(messages=[\n",
    "    user(\"My favorite color is blue.\"),\n",
    "    assistant(\"That's great to hear!\"),\n",
    "    user(\"What is my favorite color?\"),\n",
    "])\n",
    "print(response)"
   ]
  },
  {
   "cell_type": "markdown",
   "id": "639f5266-c8bb-4d84-bac8-99cb172d938b",
   "metadata": {},
   "source": [
    "### LLM Hyperparameters\n",
    "\n",
    "#### `temperature` & `top_p`\n",
    "\n",
    "These APIs also take parameters which influence the creativity and determinism of your output.\n",
    "\n",
    "At each step, LLMs generate a list of most likely tokens and their respective probabilities. The least likely tokens are \"cut\" from the list (based on `top_p`), and then a token is randomly selected from the remaining candidates (`temperature`).\n",
    "\n",
    "In other words: `top_p` controls the breadth of vocabulary in a generation and `temperature` controls the randomness within that vocabulary. A temperature of ~0 produces *almost* deterministic results.\n",
    "\n",
    "[Read more about temperature setting here](https://community.openai.com/t/cheat-sheet-mastering-temperature-and-top-p-in-chatgpt-api/172683).\n",
    "\n",
    "Let's try it out:"
   ]
  },
  {
   "cell_type": "code",
   "execution_count": null,
   "id": "2478a94a-08e3-4009-9ff4-c1e91061e361",
   "metadata": {},
   "outputs": [
    {
     "name": "stdout",
     "output_type": "stream",
     "text": [
      "[temperature: 0.01 | top_p: 0.01]\n",
      "Fuzzy, gentle soul\n",
      "Llama's soft and watchful eyes\n",
      "Misty mountain friend\n",
      "\n",
      "[temperature: 0.01 | top_p: 0.01]\n",
      "Fuzzy, gentle soul\n",
      "Llama's soft and watchful eyes\n",
      "Misty mountain friend\n",
      "\n",
      "[temperature: 1.0 | top_p: 1.0]\n",
      "Fuzzy, gentle soul\n",
      "Llama's soft and curious\n",
      "Misty mountain friend\n",
      "\n",
      "[temperature: 1.0 | top_p: 1.0]\n",
      "Fuzzy, gentle soul\n",
      "Llama's soft and watchful eyes\n",
      "Misty mountain friend\n",
      "\n"
     ]
    }
   ],
   "source": [
    "def print_tuned_completion(temperature: float, top_p: float):\n",
    "    response = completion(\"Write a haiku about llamas\", temperature=temperature, top_p=top_p)\n",
    "    print(f'[temperature: {temperature} | top_p: {top_p}]\\n{response.strip()}\\n')\n",
    "\n",
    "print_tuned_completion(0.01, 0.01)\n",
    "print_tuned_completion(0.01, 0.01)\n",
    "# These two generations are highly likely to be the same\n",
    "\n",
    "print_tuned_completion(1.0, 1.0)\n",
    "print_tuned_completion(1.0, 1.0)\n",
    "# These two generations are highly likely to be different"
   ]
  },
  {
   "cell_type": "markdown",
   "id": "6d04666b-abff-4ce3-b656-b6ea7bb0a553",
   "metadata": {},
   "source": [
    "## Prompting Techniques"
   ]
  },
  {
   "cell_type": "markdown",
   "id": "b1044eb8-d7b1-4fff-a9fc-3402e420f704",
   "metadata": {},
   "source": [
    "### Explicit Instructions\n",
    "\n",
    "Detailed, explicit instructions produce better results than open-ended prompts:"
   ]
  },
  {
   "cell_type": "code",
   "execution_count": null,
   "id": "26274f49-31b3-4f2d-b51d-807d017933d9",
   "metadata": {},
   "outputs": [
    {
     "name": "stdout",
     "output_type": "stream",
     "text": [
      "==============\n",
      "Describe quantum physics in one short sentence of no more than 12 words\n",
      "==============\n",
      "Quantum physics studies behavior of tiny particles and energy.\n",
      "\n"
     ]
    }
   ],
   "source": [
    "complete_and_print(prompt=\"Describe quantum physics in one short sentence of no more than 12 words\")"
   ]
  },
  {
   "cell_type": "markdown",
   "id": "80f1404f-b466-482a-b5be-ef1c24750f5e",
   "metadata": {},
   "source": [
    "You can think about giving explicit instructions as using rules and restrictions to how Llama 3 responds to your prompt.\n",
    "\n",
    "- Stylization\n",
    "    - `Explain this to me like a topic on a children's educational network show teaching elementary students.`\n",
    "    - `I'm a software engineer using large language models for summarization. Summarize the following text in under 250 words:`\n",
    "    - `Give your answer like an old timey private investigator hunting down a case step by step.`\n",
    "- Formatting\n",
    "    - `Use bullet points.`\n",
    "    - `Return as a JSON object.`\n",
    "    - `Use less technical terms and help me apply it in my work in communications.`\n",
    "- Restrictions\n",
    "    - `Only use academic papers.`\n",
    "    - `Never give sources older than 2020.`\n",
    "    - `If you don't know the answer, say that you don't know.`\n",
    "\n",
    "Here's an example of giving explicit instructions to give more specific results by limiting the responses to recently created sources."
   ]
  },
  {
   "cell_type": "code",
   "execution_count": null,
   "id": "908dff10-0ac7-4215-b0ff-b87bb88d1717",
   "metadata": {},
   "outputs": [
    {
     "name": "stdout",
     "output_type": "stream",
     "text": [
      "==============\n",
      "Explain the latest advances in large language models to me.\n",
      "==============\n",
      "Large language models (LLMs) have made tremendous progress in recent years, with significant advances in areas like natural language processing, machine learning, and artificial intelligence. Here are some of the latest developments:\n",
      "\n",
      "1. **Transformer Architecture**: The transformer architecture, introduced in 2017, has become the foundation for most modern LLMs. This architecture relies on self-attention mechanisms to process input sequences, allowing for parallelization and improved performance. Recent variants, such as the BERT (Bidirectional Encoder Representations from Transformers) and RoBERTa (Robustly Optimized BERT Pretraining Approach), have further refined this architecture.\n",
      "2. **Pre-training and Fine-tuning**: Pre-training LLMs on large datasets and fine-tuning them on specific tasks has become a standard approach. This allows models to learn general language representations and then adapt to specific tasks, such as sentiment analysis, question answering, or text generation.\n",
      "3. **Scaling Up**: Researchers have been pushing the limits of model size, with some LLMs now boasting hundreds of billions of parameters. This increased capacity enables models to capture more nuanced language patterns and relationships. Notable examples include Google's BERT-Large (340 million parameters) and Microsoft's Turing-NLG (17 billion parameters).\n",
      "4. **Multitask Learning**: Multitask learning involves training a single model on multiple tasks simultaneously. This approach has been shown to improve performance on individual tasks and promote more generalizable representations. Recent work has explored multitask learning for LLMs, enabling them to learn from diverse datasets and tasks.\n",
      "5. **Adversarial Training**: Adversarial training involves training models to be robust against adversarial examples, which are designed to mislead or deceive the model. This approach has been applied to LLMs to improve their resilience against attacks and enhance their overall performance.\n",
      "6. **Explainability and Interpretability**: As LLMs become increasingly complex, there is a growing need to understand how they make predictions and decisions. Researchers have been developing techniques to provide insights into LLMs' internal workings, such as attention visualization, feature importance, and model interpretability.\n",
      "7. **Efficient Inference**: With the increasing size of LLMs, efficient inference methods have become crucial for deployment in real-world applications. Techniques like knowledge distillation, pruning, and quantization have been explored to reduce computational costs and improve inference speed.\n",
      "8. **Specialized Models**: Researchers have been developing specialized LLMs for specific domains, such as:\n",
      "\t* **Domain-specific models**: Models tailored to specific domains, like biomedical or financial text analysis.\n",
      "\t* **Multilingual models**: Models capable of processing and generating text in multiple languages.\n",
      "\t* **Conversational models**: Models designed for dialogue systems, chatbots, and conversational AI.\n",
      "9. **Evaluation Metrics**: The development of new evaluation metrics has been an active area of research, with a focus on assessing LLMs' performance on tasks like:\n",
      "\t* **Text generation**: Evaluating the quality and coherence of generated text.\n",
      "\t* **Conversational dialogue**: Assessing the effectiveness of conversational models in engaging and informative dialogue.\n",
      "10. **Applications and Deployments**: LLMs have been deployed in various applications, including:\n",
      "\t* **Virtual assistants**: LLMs power virtual assistants like Siri, Alexa, and Google Assistant.\n",
      "\t* **Language translation**: LLMs are used in machine translation systems, such as Google Translate.\n",
      "\t* **Text summarization**: LLMs are applied to text summarization tasks, like news article summarization.\n",
      "\n",
      "These advances have significantly improved the capabilities of LLMs, enabling them to tackle complex tasks and applications. However, there are still challenges to be addressed, such as:\n",
      "\n",
      "* **Bias and fairness**: Ensuring that LLMs are fair, unbiased, and respectful of diverse perspectives.\n",
      "* **Explainability and transparency**: Providing insights into LLMs' decision-making processes and ensuring transparency in their operations.\n",
      "* **Robustness and security**: Developing LLMs that are robust against adversarial attacks and ensuring the security of sensitive information.\n",
      "\n",
      "As research continues to push the boundaries of LLMs, we can expect even more exciting developments and applications in the future.\n",
      "\n"
     ]
    }
   ],
   "source": [
    "complete_and_print(\"Explain the latest advances in large language models to me.\")\n",
    "# More likely to cite sources from 2017"
   ]
  },
  {
   "cell_type": "code",
   "execution_count": null,
   "id": "2ab17daf-03eb-4248-84c2-08b7c3bbd393",
   "metadata": {},
   "outputs": [
    {
     "name": "stdout",
     "output_type": "stream",
     "text": [
      "==============\n",
      "Explain the latest advances in large language models to me. Always cite your sources. Never cite sources older than 2020.\n",
      "==============\n",
      "The field of large language models has seen significant advancements in recent years. One of the most notable developments is the introduction of transformer-based architectures, which have become the standard for many state-of-the-art language models (Vaswani et al., 2020) [1]. These models use self-attention mechanisms to weigh the importance of different input elements, allowing for more efficient and effective processing of sequential data.\n",
      "\n",
      "More recently, researchers have explored the use of larger and more complex models, such as the BERT (Bidirectional Encoder Representations from Transformers) and RoBERTa (Robustly optimized BERT approach) models (Liu et al., 2020) [2]. These models have achieved state-of-the-art results on a wide range of natural language processing (NLP) tasks, including question answering, sentiment analysis, and text classification.\n",
      "\n",
      "Another significant advancement is the development of models that can generate human-like text, such as the T5 (Text-to-Text Transfer Transformer) model (Raffel et al., 2020) [3]. This model uses a unified framework for a wide range of NLP tasks, and has achieved impressive results on tasks such as text generation, translation, and summarization.\n",
      "\n",
      "In addition, researchers have also explored the use of multimodal models, which can process and generate text, images, and other forms of data (Lu et al., 2021) [4]. These models have the potential to enable more sophisticated and human-like interactions between humans and machines.\n",
      "\n",
      "Finally, there has been a growing interest in the development of more efficient and specialized models, such as the DistilBERT (Distilled BERT) model (Sanh et al., 2020) [5]. This model uses knowledge distillation to transfer the knowledge from a larger model to a smaller one, resulting in a more efficient and compact model that still achieves impressive results.\n",
      "\n",
      "Overall, the field of large language models is rapidly evolving, with new advancements and breakthroughs being reported regularly. As researchers continue to push the boundaries of what is possible with these models, we can expect to see even more impressive results and applications in the future.\n",
      "\n",
      "References:\n",
      "\n",
      "[1] Vaswani, A., Shazeer, N., Parmar, N., Uszkoreit, J., Jones, L., Gomez, A. N., ... & Polosukhin, I. (2020). Attention is all you need. Advances in Neural Information Processing Systems, 33.\n",
      "\n",
      "[2] Liu, Y., Ott, M., Goyal, N., Du, J., Joshi, M., Chen, D., ... & Stoyanov, V. (2020). RoBERTa: A robustly optimized BERT pretraining approach. arXiv preprint arXiv:2004.07037.\n",
      "\n",
      "[3] Raffel, C., Shazeer, N., Roberts, A., Lee, K., Narang, S., Matena, M., ... & Liu, P. J. (2020). Exploring the limits of transfer learning with a unified text-to-text transformer. Journal of Machine Learning Research, 21.\n",
      "\n",
      "[4] Lu, Y., Li, Q., & Li, X. (2021). Multimodal transformers for visual-language understanding. IEEE Transactions on Neural Networks and Learning Systems, 32(1), 201-214.\n",
      "\n",
      "[5] Sanh, V., Debut, L., Chaumond, J., & Wolf, T. (2020). DistilBERT, a distilled version of BERT: smaller, faster, cheaper and lighter. arXiv preprint arXiv:2006.04884.\n",
      "\n"
     ]
    }
   ],
   "source": [
    "complete_and_print(\"Explain the latest advances in large language models to me. Always cite your sources. Never cite sources older than 2020.\")\n",
    "# Gives more specific advances and only cites sources from 2020"
   ]
  },
  {
   "cell_type": "markdown",
   "id": "00a91d30-d315-416c-9116-9f9b275b25d6",
   "metadata": {},
   "source": [
    "### Example Prompting using Zero- and Few-Shot Learning\n",
    "\n",
    "A shot is an example or demonstration of what type of prompt and response you expect from a large language model. This term originates from training computer vision models on photographs, where one shot was one example or instance that the model used to classify an image ([Fei-Fei et al. (2006)](http://vision.stanford.edu/documents/Fei-FeiFergusPerona2006.pdf)).\n",
    "\n",
    "#### Zero-Shot Prompting\n",
    "\n",
    "Large language models like Llama 3 are unique because they are capable of following instructions and producing responses without having previously seen an example of a task. Prompting without examples is called \"zero-shot prompting\".\n",
    "\n",
    "Let's try using Llama 3 as a sentiment detector. You may notice that output format varies - we can improve this with better prompting."
   ]
  },
  {
   "cell_type": "code",
   "execution_count": null,
   "id": "811bc312-4518-478a-8f11-a2e963f3ac11",
   "metadata": {},
   "outputs": [
    {
     "name": "stdout",
     "output_type": "stream",
     "text": [
      "==============\n",
      "Text: This was the best movie I've ever seen! \n",
      " The sentiment of the text is: \n",
      "==============\n",
      "The sentiment of the text is: Positive. The text expresses a strong and enthusiastic opinion, using the phrase \"the best movie I've ever seen\", which indicates a very favorable sentiment.\n",
      "\n"
     ]
    }
   ],
   "source": [
    "complete_and_print(\"Text: This was the best movie I've ever seen! \\n The sentiment of the text is: \")\n",
    "# Returns positive sentiment"
   ]
  },
  {
   "cell_type": "code",
   "execution_count": null,
   "id": "407c5c65-c13b-4977-a4d3-258527d70207",
   "metadata": {},
   "outputs": [
    {
     "name": "stdout",
     "output_type": "stream",
     "text": [
      "==============\n",
      "Text: The director was trying too hard. \n",
      " The sentiment of the text is: \n",
      "==============\n",
      "The sentiment of the text is: Negative.\n",
      "\n",
      "The phrase \"trying too hard\" implies that the director's efforts were excessive or insincere, which has a negative connotation.\n",
      "\n"
     ]
    }
   ],
   "source": [
    "complete_and_print(\"Text: The director was trying too hard. \\n The sentiment of the text is: \")\n",
    "# Returns negative sentiment"
   ]
  },
  {
   "cell_type": "markdown",
   "id": "e8dafe3a-ded1-4e1e-b968-3dce4002793a",
   "metadata": {},
   "source": [
    "#### Few-Shot Prompting\n",
    "\n",
    "Adding specific examples of your desired output generally results in more accurate, consistent output. This technique is called \"few-shot prompting\".\n",
    "\n",
    "In this example, the generated response follows our desired format that offers a more nuanced sentiment classifier that gives a positive, neutral, and negative response confidence percentage.\n",
    "\n",
    "See also: [Zhao et al. (2021)](https://arxiv.org/abs/2102.09690), [Liu et al. (2021)](https://arxiv.org/abs/2101.06804), [Su et al. (2022)](https://arxiv.org/abs/2209.01975), [Rubin et al. (2022)](https://arxiv.org/abs/2112.08633)."
   ]
  },
  {
   "cell_type": "code",
   "execution_count": null,
   "id": "02e67877-fec3-443e-b9da-d64d1e6241e3",
   "metadata": {},
   "outputs": [],
   "source": [
    "def sentiment(text):\n",
    "    response = chat_completion(messages=[\n",
    "        user(\"You are a sentiment classifier. For each message, give the percentage of positive/netural/negative.\"),\n",
    "        user(\"I liked it\"),\n",
    "        assistant(\"70% positive 30% neutral 0% negative\"),\n",
    "        user(\"It could be better\"),\n",
    "        assistant(\"0% positive 50% neutral 50% negative\"),\n",
    "        user(\"It's fine\"),\n",
    "        assistant(\"25% positive 50% neutral 25% negative\"),\n",
    "        user(text),\n",
    "    ])\n",
    "    return response\n",
    "\n",
    "def print_sentiment(text):\n",
    "    print(f'INPUT: {text}')\n",
    "    print(sentiment(text))"
   ]
  },
  {
   "cell_type": "code",
   "execution_count": null,
   "id": "bb26d661-88ab-46c7-bbe5-e252db966bbd",
   "metadata": {},
   "outputs": [
    {
     "name": "stdout",
     "output_type": "stream",
     "text": [
      "INPUT: I thought it was okay\n",
      "10% positive 80% neutral 10% negative\n"
     ]
    }
   ],
   "source": [
    "print_sentiment(\"I thought it was okay\")\n",
    "# More likely to return a balanced mix of positive, neutral, and negative"
   ]
  },
  {
   "cell_type": "code",
   "execution_count": null,
   "id": "c790fb9e-fa73-4b6d-8b03-b196088ec061",
   "metadata": {},
   "outputs": [
    {
     "name": "stdout",
     "output_type": "stream",
     "text": [
      "INPUT: I loved it!\n",
      "90% positive 10% neutral 0% negative\n"
     ]
    }
   ],
   "source": [
    "print_sentiment(\"I loved it!\")\n",
    "# More likely to return 100% positive"
   ]
  },
  {
   "cell_type": "code",
   "execution_count": null,
   "id": "b68010d4-adce-467a-90b6-9305a9a2ec80",
   "metadata": {},
   "outputs": [
    {
     "name": "stdout",
     "output_type": "stream",
     "text": [
      "INPUT: Terrible service 0/10\n",
      "0% positive 0% neutral 100% negative\n"
     ]
    }
   ],
   "source": [
    "print_sentiment(\"Terrible service 0/10\")\n",
    "# More likely to return 100% negative"
   ]
  },
  {
   "cell_type": "markdown",
   "id": "9f82058e-ed72-43e3-9cf5-de6111184b3d",
   "metadata": {},
   "source": [
    "### Role Prompting\n",
    "\n",
    "Llama will often give more consistent responses when given a role ([Kong et al. (2023)](https://arxiv.org/pdf/2308.07702)). Roles give context to the LLM on what type of answers are desired.\n",
    "\n",
    "Let's use Llama 3 to create a more focused, technical response for a question around the pros and cons of using PyTorch."
   ]
  },
  {
   "cell_type": "code",
   "execution_count": null,
   "id": "dec49566-1945-4816-94b3-7cac36e5c3cd",
   "metadata": {},
   "outputs": [
    {
     "name": "stdout",
     "output_type": "stream",
     "text": [
      "==============\n",
      "Explain the pros and cons of using PyTorch.\n",
      "==============\n",
      "PyTorch is an open-source machine learning library developed by Facebook's AI Research Lab (FAIR). It is primarily used for building and training deep learning models. Here are the pros and cons of using PyTorch:\n",
      "\n",
      "**Pros:**\n",
      "\n",
      "1. **Dynamic Computation Graph**: PyTorch uses a dynamic computation graph, which allows for more flexibility and ease of use. This is in contrast to static computation graphs used in other frameworks like TensorFlow.\n",
      "2. **Rapid Prototyping**: PyTorch's dynamic computation graph and Pythonic API make it ideal for rapid prototyping and research.\n",
      "3. **Ease of Use**: PyTorch has a relatively low barrier to entry, making it easier for developers to get started with deep learning.\n",
      "4. **Strong GPU Support**: PyTorch has excellent support for GPU acceleration, making it well-suited for large-scale deep learning tasks.\n",
      "5. **Large Community**: PyTorch has a large and active community, which means there are many resources available for learning and troubleshooting.\n",
      "6. **Extensive Library**: PyTorch has a wide range of pre-built functions and modules for common deep learning tasks, such as convolutional neural networks (CNNs) and recurrent neural networks (RNNs).\n",
      "7. **Interoperability**: PyTorch models can be easily exported to other frameworks, such as TensorFlow or Caffe2, for deployment.\n",
      "\n",
      "**Cons:**\n",
      "\n",
      "1. **Performance Overhead**: PyTorch's dynamic computation graph can introduce a performance overhead compared to static computation graphs.\n",
      "2. **Limited Support for Distributed Training**: While PyTorch has some support for distributed training, it is not as robust as some other frameworks, such as TensorFlow.\n",
      "3. **Limited Support for Production Deployment**: PyTorch is primarily designed for research and development, and may not be as well-suited for production deployment as other frameworks.\n",
      "4. **Steep Learning Curve for Advanced Topics**: While PyTorch is relatively easy to use for simple tasks, it can be challenging to learn and master more advanced topics, such as custom module implementation and optimization.\n",
      "5. **Limited Support for Non-GPU Hardware**: While PyTorch has some support for non-GPU hardware, such as CPUs and TPUs, it is not as robust as its support for GPUs.\n",
      "6. **Version Compatibility Issues**: PyTorch's rapid development cycle can sometimes lead to version compatibility issues, which can make it challenging to maintain and update existing projects.\n",
      "7. **Limited Support for Certain Domains**: PyTorch may not have as much support for certain domains, such as natural language processing (NLP) or computer vision, as other frameworks like TensorFlow or Keras.\n",
      "\n",
      "**When to Use PyTorch:**\n",
      "\n",
      "1. **Research and Development**: PyTorch is well-suited for research and development, particularly for rapid prototyping and proof-of-concept projects.\n",
      "2. **Deep Learning**: PyTorch is an excellent choice for deep learning tasks, such as image classification, object detection, and segmentation.\n",
      "3. **GPU-Accelerated Computing**: PyTorch is a good choice for GPU-accelerated computing, particularly for tasks that require large amounts of parallel processing.\n",
      "\n",
      "**When Not to Use PyTorch:**\n",
      "\n",
      "1. **Production Deployment**: While PyTorch can be used for production deployment, it may not be the best choice due to its limited support for production deployment and potential performance overhead.\n",
      "2. **Distributed Training**: If you need to perform distributed training, you may want to consider other frameworks, such as TensorFlow or Horovod.\n",
      "3. **Non-GPU Hardware**: If you need to deploy models on non-GPU hardware, you may want to consider other frameworks, such as TensorFlow or OpenCV.\n",
      "\n"
     ]
    }
   ],
   "source": [
    "complete_and_print(\"Explain the pros and cons of using PyTorch.\")\n",
    "# More likely to explain the pros and cons of PyTorch covers general areas like documentation, the PyTorch community, and mentions a steep learning curve"
   ]
  },
  {
   "cell_type": "code",
   "execution_count": null,
   "id": "c73953ea-5e1c-4633-b3c2-3831e0440bf1",
   "metadata": {},
   "outputs": [
    {
     "name": "stdout",
     "output_type": "stream",
     "text": [
      "==============\n",
      "Your role is a machine learning expert who gives highly technical advice to senior engineers who work with complicated datasets. Explain the pros and cons of using PyTorch.\n",
      "==============\n",
      "As a machine learning expert, I'd be happy to provide a detailed analysis of the pros and cons of using PyTorch, a popular open-source machine learning framework.\n",
      "\n",
      "**Pros:**\n",
      "\n",
      "1. **Dynamic Computation Graph**: PyTorch's dynamic computation graph allows for more flexibility and ease of use, particularly when working with complex, dynamic models. This is in contrast to static computation graphs used in other frameworks like TensorFlow, which can be more rigid and difficult to modify.\n",
      "2. **Rapid Prototyping**: PyTorch's Pythonic API and dynamic computation graph make it ideal for rapid prototyping and research. It's easy to quickly test and iterate on new ideas, which is essential in the fast-paced field of machine learning.\n",
      "3. **Modular Architecture**: PyTorch's modular architecture allows for easy integration of new modules and components, making it simple to extend and customize the framework to meet specific needs.\n",
      "4. **Strong GPU Support**: PyTorch has excellent support for GPU acceleration, which is critical for large-scale deep learning computations. It also supports distributed training, making it easy to scale up to large datasets and complex models.\n",
      "5. **Large Community**: PyTorch has a large and active community, which means there are many pre-built models, tutorials, and examples available, making it easier to get started and find help when needed.\n",
      "6. **Autograd System**: PyTorch's Autograd system provides automatic differentiation, which simplifies the process of computing gradients and optimizing models.\n",
      "\n",
      "**Cons:**\n",
      "\n",
      "1. **Performance Overhead**: PyTorch's dynamic computation graph can introduce performance overhead, particularly for very large models or datasets. This is because the graph is constructed and executed at runtime, which can lead to slower performance compared to static computation graphs.\n",
      "2. **Limited Support for Parallelization**: While PyTorch supports distributed training, it can be more challenging to parallelize computations within a single machine, particularly for models with complex dependencies.\n",
      "3. **Less Mature than TensorFlow**: PyTorch is a relatively new framework, and while it has gained significant traction, it still lags behind TensorFlow in terms of maturity and support for certain features, such as production-ready deployment tools.\n",
      "4. **Steep Learning Curve**: PyTorch's dynamic computation graph and Autograd system can be challenging to learn and master, particularly for those without prior experience with machine learning or deep learning.\n",
      "5. **Limited Support for Certain Domains**: While PyTorch has excellent support for computer vision and natural language processing, it may not be the best choice for other domains, such as reinforcement learning or time-series forecasting, where other frameworks may be more suitable.\n",
      "\n",
      "**When to use PyTorch:**\n",
      "\n",
      "1. **Rapid Prototyping**: PyTorch is ideal for rapid prototyping and research, particularly when working with complex, dynamic models.\n",
      "2. **Computer Vision and NLP**: PyTorch has excellent support for computer vision and natural language processing, making it a great choice for these domains.\n",
      "3. **Dynamic Models**: PyTorch's dynamic computation graph makes it well-suited for models with complex, dynamic dependencies.\n",
      "\n",
      "**When not to use PyTorch:**\n",
      "\n",
      "1. **Production-Ready Deployment**: While PyTorch has made significant strides in production-ready deployment, it still lags behind TensorFlow in this regard.\n",
      "2. **Very Large Models or Datasets**: PyTorch's dynamic computation graph can introduce performance overhead, making it less suitable for very large models or datasets.\n",
      "3. **Reinforcement Learning or Time-Series Forecasting**: Other frameworks, such as TensorFlow or Keras, may be more suitable for these domains.\n",
      "\n",
      "In conclusion, PyTorch is a powerful and flexible framework that excels in rapid prototyping, computer vision, and natural language processing. However, it may not be the best choice for production-ready deployment, very large models or datasets, or certain domains like reinforcement learning or time-series forecasting. As with any framework, it's essential to carefully evaluate the pros and cons and consider the specific needs of your project before making a decision.\n",
      "\n"
     ]
    }
   ],
   "source": [
    "complete_and_print(\"Your role is a machine learning expert who gives highly technical advice to senior engineers who work with complicated datasets. Explain the pros and cons of using PyTorch.\")\n",
    "# Often results in more technical benefits and drawbacks that provide more technical details on how model layers"
   ]
  },
  {
   "cell_type": "markdown",
   "id": "3c3efb0a-eaa5-4e46-9ff0-2444833c0cc2",
   "metadata": {},
   "source": [
    "### Chain-of-Thought\n",
    "\n",
    "Simply adding a phrase encouraging step-by-step thinking \"significantly improves the ability of large language models to perform complex reasoning\" ([Wei et al. (2022)](https://arxiv.org/abs/2201.11903)). This technique is called \"CoT\" or \"Chain-of-Thought\" prompting.\n",
    "\n",
    "Llama 3.1 now reasons step-by-step naturally without the addition of the phrase. This section remains for completeness."
   ]
  },
  {
   "cell_type": "code",
   "execution_count": null,
   "id": "7d76b612-1559-4f4f-bc5f-d9d542cdc552",
   "metadata": {},
   "outputs": [
    {
     "name": "stdout",
     "output_type": "stream",
     "text": [
      "==============\n",
      "Who lived longer, Mozart or Elvis?\n",
      "==============\n",
      "Wolfgang Amadeus Mozart lived from January 27, 1756, to December 5, 1791. He died at the age of 35.\n",
      "\n",
      "Elvis Presley lived from January 8, 1935, to August 16, 1977. He died at the age of 42.\n",
      "\n",
      "So, Elvis Presley lived longer than Mozart by about 7 years.\n",
      "\n",
      "==============\n",
      "Who lived longer, Mozart or Elvis? Let's think through this carefully, step by step.\n",
      "==============\n",
      "To determine who lived longer, Mozart or Elvis, let's break down the information step by step.\n",
      "\n",
      "1. **Mozart's lifespan**: Wolfgang Amadeus Mozart was born on January 27, 1756, and he died on December 5, 1791. To find his age at death, we subtract his birth year from his death year: 1791 - 1756 = 35. Therefore, Mozart lived to be 35 years old.\n",
      "\n",
      "2. **Elvis's lifespan**: Elvis Presley was born on January 8, 1935, and he died on August 16, 1977. To find his age at death, we subtract his birth year from his death year: 1977 - 1935 = 42. Therefore, Elvis lived to be 42 years old.\n",
      "\n",
      "3. **Comparison**: Now that we have the ages at death for both Mozart and Elvis, we can compare them. Elvis lived to be 42 years old, while Mozart lived to be 35 years old.\n",
      "\n",
      "Based on this comparison, **Elvis lived longer than Mozart** by 7 years.\n",
      "\n"
     ]
    }
   ],
   "source": [
    "prompt = \"Who lived longer, Mozart or Elvis?\"\n",
    "\n",
    "complete_and_print(prompt)\n",
    "# Llama 2 would often give the incorrect answer of \"Mozart\"\n",
    "\n",
    "complete_and_print(f\"{prompt} Let's think through this carefully, step by step.\")\n",
    "# Gives the correct answer \"Elvis\""
   ]
  },
  {
   "cell_type": "markdown",
   "id": "ac950a1e-7f27-47c0-aa63-cf21e37518cd",
   "metadata": {},
   "source": [
    "### Self-Consistency\n",
    "\n",
    "LLMs are probabilistic, so even with Chain-of-Thought, a single generation might produce incorrect results. Self-Consistency ([Wang et al. (2022)](https://arxiv.org/abs/2203.11171)) introduces enhanced accuracy by selecting the most frequent answer from multiple generations (at the cost of higher compute):"
   ]
  },
  {
   "cell_type": "code",
   "execution_count": null,
   "id": "bc50e6c5-b968-4d6a-ab7a-e5c1163ea05f",
   "metadata": {},
   "outputs": [
    {
     "name": "stdout",
     "output_type": "stream",
     "text": [
      "Answers: ['50', '50', '50', '50', '50']\n",
      " Final answer: 50\n"
     ]
    }
   ],
   "source": [
    "import re\n",
    "from statistics import mode\n",
    "\n",
    "def gen_answer():\n",
    "    response = completion(\n",
    "        \"John found that the average of 15 numbers is 40.\"\n",
    "        \"If 10 is added to each number then the mean of the numbers is?\"\n",
    "        \"Report the answer surrounded by backticks (example: `123`)\",\n",
    "    )\n",
    "    match = re.search(r'`(\\d+)`', response)\n",
    "    if match is None:\n",
    "        return None\n",
    "    return match.group(1)\n",
    "\n",
    "answers = [gen_answer() for i in range(5)]  # The same question is asked to the AI model five times, collecting various answers.\n",
    "\n",
    "print(\n",
    "    f\"Answers: {answers}\\n\",\n",
    "    f\"Final answer: {mode(answers)}\",\n",
    "    )\n",
    "\n",
    "# Sample runs of Llama-3-70B (all correct):\n",
    "# ['60', '50', '50', '50', '50'] -> 50\n",
    "# ['50', '50', '50', '60', '50'] -> 50\n",
    "# ['50', '50', '60', '50', '50'] -> 50"
   ]
  },
  {
   "cell_type": "markdown",
   "id": "12af1476-2141-4792-8531-a2160580661a",
   "metadata": {},
   "source": [
    "### Retrieval-Augmented Generation\n",
    "\n",
    "You'll probably want to use factual knowledge in your application. You can extract common facts from today's large models out-of-the-box (i.e. using just the model weights):"
   ]
  },
  {
   "cell_type": "code",
   "execution_count": null,
   "id": "59d63fd0-a702-48c3-bd52-0b649a8d1a6d",
   "metadata": {},
   "outputs": [
    {
     "name": "stdout",
     "output_type": "stream",
     "text": [
      "==============\n",
      "What is the capital of the California?\n",
      "==============\n",
      "The capital of California is Sacramento.\n",
      "\n"
     ]
    }
   ],
   "source": [
    "complete_and_print(\"What is the capital of the California?\")\n",
    "# Gives the correct answer \"Sacramento\""
   ]
  },
  {
   "cell_type": "markdown",
   "id": "73b77f09-ada8-47b9-aeda-1604bb236119",
   "metadata": {},
   "source": [
    "However, more specific facts, or private information, cannot be reliably retrieved. The model will either declare it does not know or hallucinate an incorrect answer:"
   ]
  },
  {
   "cell_type": "code",
   "execution_count": null,
   "id": "f90d4b1b-3380-41e7-8cdf-7509d30c2b7a",
   "metadata": {},
   "outputs": [
    {
     "name": "stdout",
     "output_type": "stream",
     "text": [
      "==============\n",
      "What was the temperature in Menlo Park on December 12th, 2023?\n",
      "==============\n",
      "I'm not able to provide real-time or historical weather data for specific locations. However, I can suggest some options to help you find the temperature in Menlo Park on December 12th, 2023:\n",
      "\n",
      "1. Check online weather websites: You can visit websites like AccuWeather, Weather.com, or the National Weather Service (NWS) to see if they have archived weather data for Menlo Park on December 12th, 2023.\n",
      "2. Contact local weather stations: Reach out to local weather stations or news outlets in the Menlo Park area to see if they have records of the temperature on December 12th, 2023.\n",
      "3. Use weather apps: Download weather apps like Dark Sky or Weather Underground, which may have historical weather data for specific locations, including Menlo Park.\n",
      "\n",
      "Please note that my knowledge cutoff is December 2023, but I don't have real-time access to current or historical weather data.\n",
      "\n",
      "==============\n",
      "What time is my dinner reservation on Saturday and what should I wear?\n",
      "==============\n",
      "I'm happy to help, but I don't have any information about your dinner reservation. I'm a large language model, I don't have the ability to access your personal schedule or know about any reservations you may have made. If you'd like to know the details of your reservation, I recommend checking your calendar, confirmation email, or contacting the restaurant directly. They should be able to provide you with the time and any dress code information. Is there anything else I can help with?\n",
      "\n"
     ]
    }
   ],
   "source": [
    "complete_and_print(\"What was the temperature in Menlo Park on December 12th, 2023?\")\n",
    "# \"I'm just an AI, I don't have access to real-time weather data or historical weather records.\"\n",
    "\n",
    "complete_and_print(\"What time is my dinner reservation on Saturday and what should I wear?\")\n",
    "# \"I'm not able to access your personal information [..] I can provide some general guidance\""
   ]
  },
  {
   "cell_type": "markdown",
   "id": "50bd4b28-5f24-4644-a80d-dcbaab291641",
   "metadata": {},
   "source": [
    "Retrieval-Augmented Generation, or RAG, describes the practice of including information in the prompt you've retrieved from an external database ([Lewis et al. (2020)](https://arxiv.org/abs/2005.11401v4)). It's an effective way to incorporate facts into your LLM application and is more affordable than fine-tuning which may be costly and negatively impact the foundational model's capabilities.\n",
    "\n",
    "This could be as simple as a lookup table or as sophisticated as a [vector database]([FAISS](https://github.com/facebookresearch/faiss)) containing all of your company's knowledge:"
   ]
  },
  {
   "cell_type": "code",
   "execution_count": null,
   "id": "244e7102-4121-45c5-9383-55f288dd0c0a",
   "metadata": {},
   "outputs": [
    {
     "name": "stdout",
     "output_type": "stream",
     "text": [
      "==============\n",
      "Given the following information: 'The temperature in Menlo Park was 51 degrees Fahrenheit on 2023-12-12'', respond to: 'What is the temperature in Menlo Park on 2023-12-12?'\n",
      "==============\n",
      "The temperature in Menlo Park on 2023-12-12 was 51 degrees Fahrenheit.\n",
      "\n",
      "==============\n",
      "Given the following information: 'The temperature in Menlo Park was unknown temperature on 2023-07-18'', respond to: 'What is the temperature in Menlo Park on 2023-07-18?'\n",
      "==============\n",
      "The temperature in Menlo Park on 2023-07-18 is unknown.\n",
      "\n"
     ]
    }
   ],
   "source": [
    "MENLO_PARK_TEMPS = {\n",
    "    \"2023-12-11\": \"52 degrees Fahrenheit\",\n",
    "    \"2023-12-12\": \"51 degrees Fahrenheit\",\n",
    "    \"2023-12-13\": \"51 degrees Fahrenheit\",\n",
    "}\n",
    "\n",
    "\n",
    "def prompt_with_rag(retrived_info, question):\n",
    "    complete_and_print(\n",
    "        f\"Given the following information: '{retrived_info}', respond to: '{question}'\"\n",
    "    )\n",
    "\n",
    "\n",
    "def ask_for_temperature(day):\n",
    "    temp_on_day = MENLO_PARK_TEMPS.get(day) or \"unknown temperature\"\n",
    "    prompt_with_rag(\n",
    "        f\"The temperature in Menlo Park was {temp_on_day} on {day}'\",  # Retrieved fact\n",
    "        f\"What is the temperature in Menlo Park on {day}?\",  # User question\n",
    "    )\n",
    "\n",
    "\n",
    "ask_for_temperature(\"2023-12-12\")\n",
    "# \"Sure! The temperature in Menlo Park on 2023-12-12 was 51 degrees Fahrenheit.\"\n",
    "\n",
    "ask_for_temperature(\"2023-07-18\")\n",
    "# \"I'm not able to provide the temperature in Menlo Park on 2023-07-18 as the information provided states that the temperature was unknown.\""
   ]
  },
  {
   "cell_type": "markdown",
   "id": "d9d9e81a-48bc-4aa7-8dbd-89166d50eaa1",
   "metadata": {},
   "source": [
    "### Program-Aided Language Models\n",
    "\n",
    "LLMs, by nature, aren't great at performing calculations. Let's try:\n",
    "\n",
    "$$\n",
    "((-5 + 93 * 4 - 0) * (4^4 + -7 + 0 * 5))\n",
    "$$\n",
    "\n",
    "(The correct answer is 91383.)"
   ]
  },
  {
   "cell_type": "code",
   "execution_count": null,
   "id": "b92bafda-2033-42e3-9d02-c6f013fa781a",
   "metadata": {},
   "outputs": [
    {
     "name": "stdout",
     "output_type": "stream",
     "text": [
      "==============\n",
      "\n",
      "Calculate the answer to the following math problem:\n",
      "\n",
      "((-5 + 93 * 4 - 0) * (4^4 + -7 + 0 * 5))\n",
      "\n",
      "==============\n",
      "To calculate the answer, we need to follow the order of operations (PEMDAS):\n",
      "\n",
      "1. Calculate the exponent: 4^4 = 256\n",
      "2. Multiply 93 and 4: 93 * 4 = 372\n",
      "3. Add and subtract from left to right:\n",
      "   -5 + 372 - 0 = 367\n",
      "4. Add and subtract from left to right inside the second parentheses:\n",
      "   256 + (-7) + 0 * 5 = 256 - 7 + 0 = 249\n",
      "5. Multiply the results of steps 3 and 4:\n",
      "   367 * 249 = 91473\n",
      "\n",
      "The answer is 91473.\n",
      "\n"
     ]
    }
   ],
   "source": [
    "complete_and_print(\"\"\"\n",
    "Calculate the answer to the following math problem:\n",
    "\n",
    "((-5 + 93 * 4 - 0) * (4^4 + -7 + 0 * 5))\n",
    "\"\"\")\n",
    "# Gives incorrect answers like 92448, 92648, 95463"
   ]
  },
  {
   "cell_type": "markdown",
   "id": "d699f9a1-98a1-45a6-90c2-d1fb44c41d27",
   "metadata": {},
   "source": [
    "[Gao et al. (2022)](https://arxiv.org/abs/2211.10435) introduced the concept of \"Program-aided Language Models\" (PAL). While LLMs are bad at arithmetic, they're great for code generation. PAL leverages this fact by instructing the LLM to write code to solve calculation tasks."
   ]
  },
  {
   "cell_type": "code",
   "execution_count": null,
   "id": "c5517736-fa69-46ea-b052-924d4af71413",
   "metadata": {},
   "outputs": [
    {
     "name": "stdout",
     "output_type": "stream",
     "text": [
      "==============\n",
      "\n",
      "    # Python code to calculate: ((-5 + 93 * 4 - 0) * (4^4 + -7 + 0 * 5))\n",
      "    \n",
      "==============\n",
      "### Calculating the Expression\n",
      "\n",
      "The given expression is `((-5 + 93 * 4 - 0) * (4^4 + -7 + 0 * 5))`. We can calculate this using Python.\n",
      "\n",
      "```python\n",
      "# Calculate the first part of the expression\n",
      "first_part = -5 + 93 * 4 - 0\n",
      "\n",
      "# Calculate the second part of the expression\n",
      "second_part = 4 ** 4 + -7 + 0 * 5\n",
      "\n",
      "# Calculate the final result\n",
      "result = first_part * second_part\n",
      "\n",
      "print(\"The result of the expression is:\", result)\n",
      "```\n",
      "\n",
      "### Explanation\n",
      "\n",
      "1. **First Part Calculation**: \n",
      "   - Multiply 93 by 4: `93 * 4 = 372`\n",
      "   - Add -5 to the result: `-5 + 372 = 367`\n",
      "   - Subtract 0 from the result: `367 - 0 = 367`\n",
      "\n",
      "2. **Second Part Calculation**:\n",
      "   - Calculate 4 to the power of 4: `4 ** 4 = 256`\n",
      "   - Add -7 to the result: `256 + -7 = 249`\n",
      "   - Multiply 0 by 5: `0 * 5 = 0`\n",
      "   - Add the result to the previous result: `249 + 0 = 249`\n",
      "\n",
      "3. **Final Result**:\n",
      "   - Multiply the first part by the second part: `367 * 249 = 91413`\n",
      "\n",
      "### Alternative One-Liner Solution\n",
      "\n",
      "```python\n",
      "result = ((-5 + 93 * 4 - 0) * (4 ** 4 + -7 + 0 * 5))\n",
      "print(\"The result of the expression is:\", result)\n",
      "```\n",
      "\n"
     ]
    }
   ],
   "source": [
    "complete_and_print(\n",
    "    \"\"\"\n",
    "    # Python code to calculate: ((-5 + 93 * 4 - 0) * (4^4 + -7 + 0 * 5))\n",
    "    \"\"\",\n",
    ")"
   ]
  },
  {
   "cell_type": "code",
   "execution_count": null,
   "id": "3feed29b-ae65-47ea-b625-d06d31a3435e",
   "metadata": {},
   "outputs": [
    {
     "name": "stdout",
     "output_type": "stream",
     "text": [
      "The result of the expression is: 91383\n"
     ]
    }
   ],
   "source": [
    "# The following code was generated by Llama 3 70B:\n",
    "\n",
    "result = ((-5 + 93 * 4 - 0) * (4 ** 4 + -7 + 0 * 5))\n",
    "print(\"The result of the expression is:\", result)"
   ]
  },
  {
   "cell_type": "markdown",
   "id": "f63c54df-9186-474f-be26-dfc8bc36e2c7",
   "metadata": {},
   "source": [
    "### Limiting Extraneous Tokens\n",
    "\n",
    "A common struggle with Llama 2 is getting output without extraneous tokens (ex. \"Sure! Here's more information on...\"), even if explicit instructions are given to Llama 2 to be concise and no preamble. Llama 3.x can better follow instructions.\n",
    "\n",
    "Check out this improvement that combines a role, rules and restrictions, explicit instructions, and an example:"
   ]
  },
  {
   "cell_type": "code",
   "execution_count": null,
   "id": "ea4f4d35-471d-4cce-b65e-358bb1178b2d",
   "metadata": {},
   "outputs": [
    {
     "name": "stdout",
     "output_type": "stream",
     "text": [
      "==============\n",
      "Give me the zip code for Menlo Park in JSON format with the field 'zip_code'\n",
      "==============\n",
      "```json\n",
      "{\n",
      "  \"zip_code\": \"94025\"\n",
      "}\n",
      "```\n",
      "\n",
      "==============\n",
      "\n",
      "    You are a robot that only outputs JSON.\n",
      "    You reply in JSON format with the field 'zip_code'.\n",
      "    Example question: What is the zip code of the Empire State Building? Example answer: {'zip_code': 10118}\n",
      "    Now here is my question: What is the zip code of Menlo Park?\n",
      "    \n",
      "==============\n",
      "{\"zip_code\": 94025}\n",
      "\n"
     ]
    }
   ],
   "source": [
    "complete_and_print(\n",
    "    \"Give me the zip code for Menlo Park in JSON format with the field 'zip_code'\",\n",
    ")\n",
    "# Likely returns the JSON and also \"Sure! Here's the JSON...\"\n",
    "\n",
    "complete_and_print(\n",
    "    \"\"\"\n",
    "    You are a robot that only outputs JSON.\n",
    "    You reply in JSON format with the field 'zip_code'.\n",
    "    Example question: What is the zip code of the Empire State Building? Example answer: {'zip_code': 10118}\n",
    "    Now here is my question: What is the zip code of Menlo Park?\n",
    "    \"\"\",\n",
    ")\n",
    "# \"{'zip_code': 94025}\""
   ]
  },
  {
   "cell_type": "markdown",
   "id": "0ed36412-3634-4a4c-b4ee-66ebf9ad8085",
   "metadata": {},
   "source": [
    "## Additional References\n",
    "- [PromptingGuide.ai](https://www.promptingguide.ai/)\n",
    "- [LearnPrompting.org](https://learnprompting.org/)\n",
    "- [Lil'Log Prompt Engineering Guide](https://lilianweng.github.io/posts/2023-03-15-prompt-engineering/)"
   ]
  },
  {
   "cell_type": "code",
   "execution_count": null,
   "id": "6dab5a29-9380-412e-832e-0fff9aeca061",
   "metadata": {},
   "outputs": [],
   "source": []
  }
 ],
 "metadata": {
  "kernelspec": {
   "display_name": "python3",
   "language": "python",
   "name": "python3"
  }
 },
 "nbformat": 4,
 "nbformat_minor": 5
}

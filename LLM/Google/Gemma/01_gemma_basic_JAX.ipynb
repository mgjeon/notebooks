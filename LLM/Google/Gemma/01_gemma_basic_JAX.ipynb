{
 "cells": [
  {
   "cell_type": "markdown",
   "metadata": {},
   "source": [
    "# Get started with Gemma models - JAX\n",
    "\n",
    "- https://ai.google.dev/gemma/docs/jax_inference\n",
    "\n",
    "The Gemma family of open models includes a range of model sizes, capabilities, and task-specialized variations to help you build custom generative solutions.\n",
    "\n",
    "[Gemma setup](https://ai.google.dev/gemma/docs/setup)"
   ]
  },
  {
   "cell_type": "markdown",
   "metadata": {},
   "source": [
    "Although Flax is not used directly in this notebook, Flax was used to create Gemma."
   ]
  },
  {
   "cell_type": "markdown",
   "metadata": {},
   "source": [
    "## Install the Google DeepMind `gemma` library"
   ]
  },
  {
   "cell_type": "code",
   "execution_count": null,
   "metadata": {},
   "outputs": [],
   "source": [
    "!pip install -q git+https://github.com/google-deepmind/gemma.git"
   ]
  },
  {
   "cell_type": "markdown",
   "metadata": {},
   "source": [
    "## Load and prepare the Gemma model"
   ]
  },
  {
   "cell_type": "code",
   "execution_count": null,
   "metadata": {},
   "outputs": [],
   "source": [
    "GEMMA_VARIANT = 'gemma2-2b-it'"
   ]
  },
  {
   "cell_type": "code",
   "execution_count": null,
   "metadata": {},
   "outputs": [],
   "source": [
    "import kagglehub\n",
    "\n",
    "GEMMA_PATH = kagglehub.model_download(f'google/gemma-2/flax/{GEMMA_VARIANT}')"
   ]
  },
  {
   "cell_type": "code",
   "execution_count": null,
   "metadata": {},
   "outputs": [],
   "source": [
    "import os"
   ]
  },
  {
   "cell_type": "code",
   "execution_count": null,
   "metadata": {},
   "outputs": [
    {
     "name": "stdout",
     "output_type": "stream",
     "text": [
      "GEMMA_PATH: /home/mgj/.cache/kagglehub/models/google/gemma-2/flax/gemma2-2b-it/1\n"
     ]
    }
   ],
   "source": [
    "print('GEMMA_PATH:', GEMMA_PATH)"
   ]
  },
  {
   "cell_type": "code",
   "execution_count": null,
   "metadata": {},
   "outputs": [
    {
     "name": "stdout",
     "output_type": "stream",
     "text": [
      "CKPT_PATH: /home/mgj/.cache/kagglehub/models/google/gemma-2/flax/gemma2-2b-it/1/gemma2-2b-it\n",
      "TOKENIZER_PATH: /home/mgj/.cache/kagglehub/models/google/gemma-2/flax/gemma2-2b-it/1/tokenizer.model\n"
     ]
    }
   ],
   "source": [
    "CKPT_PATH = os.path.join(GEMMA_PATH, GEMMA_VARIANT)\n",
    "TOKENIZER_PATH = os.path.join(GEMMA_PATH, 'tokenizer.model')\n",
    "print('CKPT_PATH:', CKPT_PATH)\n",
    "print('TOKENIZER_PATH:', TOKENIZER_PATH)"
   ]
  },
  {
   "cell_type": "markdown",
   "metadata": {},
   "source": [
    "## Perform sampling/inference"
   ]
  },
  {
   "cell_type": "code",
   "execution_count": null,
   "metadata": {},
   "outputs": [],
   "source": [
    "from gemma import params as params_lib\n",
    "\n",
    "params = params_lib.load_and_format_params(CKPT_PATH)"
   ]
  },
  {
   "cell_type": "code",
   "execution_count": null,
   "metadata": {},
   "outputs": [
    {
     "data": {
      "text/plain": [
       "True"
      ]
     },
     "execution_count": null,
     "metadata": {},
     "output_type": "execute_result"
    }
   ],
   "source": [
    "import sentencepiece as spm\n",
    "\n",
    "vocab = spm.SentencePieceProcessor()\n",
    "vocab.Load(TOKENIZER_PATH)"
   ]
  },
  {
   "cell_type": "code",
   "execution_count": null,
   "metadata": {},
   "outputs": [],
   "source": [
    "from gemma import transformer as transformer_lib\n",
    "\n",
    "transformer_config = transformer_lib.TransformerConfig.from_params(\n",
    "    params=params,\n",
    "    cache_size=1024\n",
    ")\n",
    "\n",
    "transformer = transformer_lib.Transformer(transformer_config)"
   ]
  },
  {
   "cell_type": "code",
   "execution_count": null,
   "metadata": {},
   "outputs": [],
   "source": [
    "from gemma import sampler as sampler_lib\n",
    "\n",
    "sampler = sampler_lib.Sampler(\n",
    "    transformer=transformer,\n",
    "    vocab=vocab,\n",
    "    params=params['transformer'],\n",
    "    cache_length=1024,\n",
    ")"
   ]
  },
  {
   "cell_type": "code",
   "execution_count": null,
   "metadata": {},
   "outputs": [
    {
     "name": "stdout",
     "output_type": "stream",
     "text": [
      "Prompt:\n",
      "what is JAX in 3 bullet points?\n",
      "Output:\n",
      "\n",
      "\n",
      "* **High-performance numerical computation:** JAX leverages the power of GPUs and TPUs to accelerate complex mathematical operations, making it ideal for scientific computing, machine learning, and data analysis.\n",
      "* **Automatic differentiation:** JAX provides automatic differentiation capabilities, allowing you to compute gradients and optimize models efficiently. This simplifies the process of training deep learning models.\n",
      "* **Functional programming:** JAX embraces functional programming principles, promoting code readability and maintainability. It offers features like vectorized operations and lazy evaluation, enhancing code efficiency. \n",
      "\n",
      "\n",
      "<end_of_turn>\n"
     ]
    }
   ],
   "source": [
    "prompt = [\n",
    "    \"what is JAX in 3 bullet points?\",\n",
    "]\n",
    "\n",
    "reply = sampler(input_strings=prompt,\n",
    "                total_generation_steps=128,\n",
    "                )\n",
    "\n",
    "for input_string, out_string in zip(prompt, reply.text):\n",
    "    print(f\"Prompt:\\n{input_string}\\nOutput:\\n{out_string}\")"
   ]
  }
 ],
 "metadata": {
  "kernelspec": {
   "display_name": "python3",
   "language": "python",
   "name": "python3"
  }
 },
 "nbformat": 4,
 "nbformat_minor": 2
}

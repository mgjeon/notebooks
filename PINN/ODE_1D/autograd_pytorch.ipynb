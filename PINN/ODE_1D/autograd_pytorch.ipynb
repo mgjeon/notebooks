{
 "cells": [
  {
   "cell_type": "markdown",
   "metadata": {},
   "source": [
    "# Automatic differentiation in PyTorch"
   ]
  },
  {
   "cell_type": "code",
   "execution_count": null,
   "metadata": {},
   "outputs": [],
   "source": [
    "import numpy as np\n",
    "import torch\n",
    "device = torch.device('cuda' if torch.cuda.is_available() else 'cpu')"
   ]
  },
  {
   "cell_type": "markdown",
   "metadata": {},
   "source": [
    "$$\n",
    "f(x) = x^3\n",
    "$$\n",
    "\n",
    "$f'(x) = 3x^2$ -> $f'([1, 2]) = [3, 12]$\n",
    "\n",
    "$f''(x) = 6x$ -> $f''([1, 2]) = [6, 12]$"
   ]
  },
  {
   "cell_type": "code",
   "execution_count": null,
   "metadata": {},
   "outputs": [
    {
     "name": "stdout",
     "output_type": "stream",
     "text": [
      "f_x\n",
      "tensor([[ 3.],\n",
      "        [12.]], device='cuda:0', grad_fn=<MulBackward0>)\n",
      "f_xx\n",
      "tensor([[ 6.],\n",
      "        [12.]], device='cuda:0', grad_fn=<MulBackward0>)\n"
     ]
    }
   ],
   "source": [
    "x = np.array([1, 2]).reshape(-1, 1)\n",
    "\n",
    "x = torch.tensor(x, dtype=torch.float, requires_grad=True).to(device)\n",
    "\n",
    "f = x**3\n",
    "\n",
    "# torch.ones_like(f) \n",
    "# Since grad can be implicitly created only for scalar outputs,\n",
    "# we have to specify grad_outputs to get a vector return.\n",
    "\n",
    "# create_graph\n",
    "# If True, graph of the derivative will be constructed, \n",
    "# allowing to compute higher order derivative products.\n",
    "\n",
    "# [0]\n",
    "# Return Type: Tuple[Tensor, …]\n",
    "f_x = torch.autograd.grad(outputs=f, inputs=x, grad_outputs=torch.ones_like(f), create_graph=True)[0]\n",
    "\n",
    "f_xx = torch.autograd.grad(f_x, x, torch.ones_like(f), create_graph=True)[0]\n",
    "\n",
    "# print(type(f_x))\n",
    "print('f_x')\n",
    "print(f_x)\n",
    "\n",
    "# print(type(f_xx))\n",
    "print('f_xx')\n",
    "print(f_xx)"
   ]
  },
  {
   "cell_type": "markdown",
   "metadata": {},
   "source": [
    "$$\n",
    "f(x, t) = x^3 + xt + t^2\n",
    "$$\n",
    "\n",
    "$(x=[1,2], t=[3,4]) = ((x,t)=(1,3), (2,4))$\n",
    "\n",
    "$f_x = 3x^2 + t$ -> $f_x = [6, 16]$\n",
    "\n",
    "$f_t = x + 2t$ -> $f_t = [7, 10]$\n",
    " \n",
    "$f_{xt} = 1$ -> $f_{xt} = [1, 1]$\n",
    "\n",
    "$f_{tx} = 1$ -> $f_{tx} = [1, 1]$\n",
    "\n",
    "$f_{xx} = 6x$ -> $f_{xx} = [6, 12]$\n",
    "\n",
    "$f_{tt} = 2$ -> $f_{tt} = [2, 2]$"
   ]
  },
  {
   "cell_type": "code",
   "execution_count": null,
   "metadata": {},
   "outputs": [
    {
     "name": "stdout",
     "output_type": "stream",
     "text": [
      "(x, t)\n",
      "tensor([[1., 3.],\n",
      "        [2., 4.]], device='cuda:0', grad_fn=<CatBackward0>)\n",
      "f_x\n",
      "tensor([[ 6.],\n",
      "        [16.]], device='cuda:0', grad_fn=<AddBackward0>)\n",
      "f_t\n",
      "tensor([[ 7.],\n",
      "        [10.]], device='cuda:0', grad_fn=<AddBackward0>)\n",
      "f_xt\n",
      "tensor([[1.],\n",
      "        [1.]], device='cuda:0')\n",
      "f_tx\n",
      "tensor([[1.],\n",
      "        [1.]], device='cuda:0')\n",
      "f_xx\n",
      "tensor([[ 6.],\n",
      "        [12.]], device='cuda:0', grad_fn=<MulBackward0>)\n",
      "f_tt\n",
      "tensor([[2.],\n",
      "        [2.]], device='cuda:0', grad_fn=<MulBackward0>)\n"
     ]
    }
   ],
   "source": [
    "x = np.array([1, 2]).reshape(-1, 1)\n",
    "t = np.array([3, 4]).reshape(-1, 1)\n",
    "\n",
    "x = torch.tensor(x, dtype=torch.float, requires_grad=True).to(device)\n",
    "t = torch.tensor(t, dtype=torch.float, requires_grad=True).to(device)\n",
    "\n",
    "f = x**3 + x*t + t**2\n",
    "\n",
    "f_x = torch.autograd.grad(f, x, torch.ones_like(f), create_graph=True)[0]\n",
    "f_t = torch.autograd.grad(f, t, torch.ones_like(f), create_graph=True)[0]\n",
    "\n",
    "f_xt = torch.autograd.grad(f_x, t, torch.ones_like(f), create_graph=True)[0]\n",
    "f_tx = torch.autograd.grad(f_t, x, torch.ones_like(f), create_graph=True)[0]\n",
    "\n",
    "f_xx = torch.autograd.grad(f_x, x, torch.ones_like(f), create_graph=True)[0]\n",
    "f_tt = torch.autograd.grad(f_t, t, torch.ones_like(f), create_graph=True)[0]\n",
    "\n",
    "print('(x, t)')\n",
    "print(torch.hstack([x, t]))\n",
    "\n",
    "# print(type(f_x))\n",
    "print('f_x')\n",
    "print(f_x)\n",
    "\n",
    "# print(type(f_t))\n",
    "print('f_t')\n",
    "print(f_t)\n",
    "\n",
    "# print(type(f_xt))\n",
    "print('f_xt')\n",
    "print(f_xt)\n",
    "\n",
    "# print(type(f_tx))\n",
    "print('f_tx')\n",
    "print(f_tx)\n",
    "\n",
    "# print(type(f_xx))\n",
    "print('f_xx')\n",
    "print(f_xx)\n",
    "\n",
    "# print(type(f_tt))\n",
    "print('f_tt')\n",
    "print(f_tt)"
   ]
  },
  {
   "cell_type": "code",
   "execution_count": null,
   "metadata": {},
   "outputs": [],
   "source": []
  }
 ],
 "metadata": {
  "kernelspec": {
   "display_name": "python3",
   "language": "python",
   "name": "python3"
  }
 },
 "nbformat": 4,
 "nbformat_minor": 2
}

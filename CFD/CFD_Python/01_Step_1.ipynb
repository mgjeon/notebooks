{
 "cells": [
  {
   "cell_type": "markdown",
   "id": "744e8b4a-6a01-4823-98db-0623805cf5bb",
   "metadata": {},
   "source": [
    "# 12 steps to Navier–Stokes"
   ]
  },
  {
   "cell_type": "markdown",
   "id": "299a606f-e560-4f73-930c-f4af7acf7e48",
   "metadata": {},
   "source": [
    "## Step 1: 1-D Linear Convection"
   ]
  },
  {
   "cell_type": "markdown",
   "id": "60054df5-ee99-4ece-ac1f-080983608b10",
   "metadata": {},
   "source": [
    "The 1-D Linear Convection equation is the simplest, most basic model that can be used to learn something about CFD.\n",
    "\n",
    "$$\\frac{\\partial u}{\\partial t} + c \\frac{\\partial u}{\\partial x} = 0$$\n",
    "\n",
    "With given initial conditions (understood as a *wave*), the equation represents the propagation of that initial *wave* with speed $c$, without change of shape. \n",
    "\n",
    "Let the initial condition be $u(x,0)=u_0(x)$. Then the exact solution of the equation is $u(x,t)=u_0(x-ct)$."
   ]
  },
  {
   "cell_type": "markdown",
   "id": "c8d3ec14-7ecc-4f51-8d98-719fb2bf33cb",
   "metadata": {},
   "source": [
    "We discretize this equation in both space and time.\n",
    "\n",
    "- $x$ discrete space coordinate: $x_i = x_0 + i \\Delta x$\n",
    "- $t$ discrete time coordinate: $t_n = t_0 + n \\Delta t$\n",
    "\n",
    "$$u_{i}^{n} = u(x_i, t_n)$$\n",
    "\n",
    "\n",
    "Forward Difference scheme for the time derivative:\n",
    "\n",
    "$$\n",
    "\\left.\\frac{\\partial u}{\\partial t}\\right|_{(x_i, t_n)} \\approx \\frac{u(x_i, t_n+\\Delta t)-u(x_i, t_n)}{\\Delta t} = \\frac{u_{i}^{n+1}-u_{i}^{n}}{\\Delta t}\n",
    "$$\n",
    "\n",
    "Backward Difference scheme for the space derivative:\n",
    "\n",
    "$$\n",
    "\\left.\\frac{\\partial u}{\\partial x}\\right|_{(x_i, t_n)} \\approx \\frac{u(x_i, t_n)-u(x_i-\\Delta x, t_n)}{\\Delta x} = \\frac{u_{i}^{n}-u_{i-1}^{n}}{\\Delta x}\n",
    "$$\n",
    "\n",
    "Then, our discrete equation is:\n",
    "\n",
    "$$\\frac{u_i^{n+1}-u_i^n}{\\Delta t} + c \\frac{u_i^n - u_{i-1}^n}{\\Delta x} = 0 $$\n",
    "\n",
    "Where $n$ and $n+1$ are two consecutive steps in time, while $i-1$ and $i$ are two neighboring points of the discretized $x$ coordinate. If there are given initial conditions, then the only unknown in this discretization is $u_i^{n+1}$.  We can solve for our unknown to get an equation that allows us to advance in time, as follows:\n",
    "\n",
    "$$u_i^{n+1} = u_i^n - c \\frac{\\Delta t}{\\Delta x}(u_i^n-u_{i-1}^n)$$"
   ]
  },
  {
   "cell_type": "markdown",
   "id": "223904d9-c0d2-4011-b61e-12f1f753f539",
   "metadata": {},
   "source": [
    "Let's try implementing this in Python.  "
   ]
  },
  {
   "cell_type": "code",
   "execution_count": null,
   "id": "e1837252-694c-4c8b-a828-f881b534d7c8",
   "metadata": {},
   "outputs": [],
   "source": [
    "import numpy as np\n",
    "import matplotlib.pyplot as plt\n",
    "import time, sys"
   ]
  },
  {
   "cell_type": "markdown",
   "id": "3bc66a56-e3e8-4fac-b48c-4a484c5cf94e",
   "metadata": {},
   "source": [
    "Let's define a few variables; we want to define an evenly spaced grid of points within a spatial domain that is 2 units of length wide, i.e., $x_i\\in(0,2)$.  We'll define a variable `nx`, which will be the number of grid points we want and `dx` will be the distance between any pair of adjacent grid points.  "
   ]
  },
  {
   "cell_type": "code",
   "execution_count": null,
   "id": "4a168731-4e90-4851-be34-44e9ccb8f87b",
   "metadata": {},
   "outputs": [
    {
     "name": "stdout",
     "output_type": "stream",
     "text": [
      "0.025\n"
     ]
    }
   ],
   "source": [
    "x_end = 2\n",
    "nx = 81  \n",
    "dx = x_end / (nx-1)\n",
    "x = np.linspace(0, x_end, nx)\n",
    "\n",
    "t_end = 0.625\n",
    "nt = 25    \n",
    "dt = t_end / nt\n",
    "t = np.linspace(0, t_end, nt)\n",
    "\n",
    "c = 1      #assume wavespeed of c = 1\n",
    "\n",
    "print(dt)"
   ]
  },
  {
   "cell_type": "markdown",
   "id": "eb5076cb-6e64-4338-a3e7-4a6afc779864",
   "metadata": {},
   "source": [
    "We also need to set up our initial conditions. The initial velocity $u_0$ is given as \n",
    "$u = 2$ in the interval $0.5 \\leq x \\leq 1$  and $u = 1$ everywhere else in $(0,2)$ (i.e., a hat function)."
   ]
  },
  {
   "cell_type": "code",
   "execution_count": null,
   "id": "a6b7b559-0c5a-47f8-8aca-cc8f5417a5d6",
   "metadata": {},
   "outputs": [
    {
     "name": "stdout",
     "output_type": "stream",
     "text": [
      "[1. 1. 1. 1. 1. 1. 1. 1. 1. 1. 1. 1. 1. 1. 1. 1. 1. 1. 1. 1. 2. 2. 2. 2.\n",
      " 2. 2. 2. 2. 2. 2. 2. 2. 2. 2. 2. 2. 2. 2. 2. 2. 2. 1. 1. 1. 1. 1. 1. 1.\n",
      " 1. 1. 1. 1. 1. 1. 1. 1. 1. 1. 1. 1. 1. 1. 1. 1. 1. 1. 1. 1. 1. 1. 1. 1.\n",
      " 1. 1. 1. 1. 1. 1. 1. 1. 1.]\n"
     ]
    }
   ],
   "source": [
    "u0 = np.ones(nx)\n",
    "u0[(0.5 <= x) & (x <= 1)] = 2\n",
    "print(u0)"
   ]
  },
  {
   "cell_type": "markdown",
   "id": "f6a8fabd-834f-44d5-99d0-f21313f09f29",
   "metadata": {},
   "source": [
    "Let's take a look at those initial conditions."
   ]
  },
  {
   "cell_type": "code",
   "execution_count": null,
   "id": "0e85f01f-d42e-4131-9613-f6ae04e93d24",
   "metadata": {},
   "outputs": [
    {
     "data": {
      "image/png": "[encoded data removed]",
      "text/plain": [
       "<Figure size 640x480 with 1 Axes>"
      ]
     },
     "metadata": {},
     "output_type": "display_data"
    }
   ],
   "source": [
    "plt.plot(x, u0);"
   ]
  },
  {
   "cell_type": "markdown",
   "id": "c7a76c25-ecc7-4fd7-ba8e-c6bac2492844",
   "metadata": {},
   "source": [
    "Now it's time to implement the discretization of the convection equation using a finite-difference scheme.  \n",
    "\n",
    "For every element of our array `u`, we need to perform the operation $$u_i^{n+1} = u_i^n - c \\frac{\\Delta t}{\\Delta x}(u_i^n-u_{i-1}^n)$$\n",
    "\n",
    "We first initialize our placeholder array `un` to hold the values of 1.\n",
    "\n",
    "Then, we may think we have two iterative operations: one in space and one in time, so we'll start by nesting one loop inside the other. We will iterate through the `u` array, but we'll be skipping the first element."
   ]
  },
  {
   "cell_type": "code",
   "execution_count": null,
   "id": "cb007550-58f0-41b3-a4c3-dad63eda7519",
   "metadata": {},
   "outputs": [],
   "source": [
    "un1 = u0.copy()\n",
    "\n",
    "for n in range(nt):\n",
    "    un = un1.copy()\n",
    "    for i in range(1, nx):\n",
    "        un1[i] = un[i] - c * dt / dx * (un[i] - un[i-1])\n",
    "\n",
    "u = un1"
   ]
  },
  {
   "cell_type": "code",
   "execution_count": null,
   "id": "0910b16e-2eb3-4f50-9a81-3290e30a219d",
   "metadata": {},
   "outputs": [
    {
     "data": {
      "image/png": "[encoded data removed]",
      "text/plain": [
       "<Figure size 640x480 with 1 Axes>"
      ]
     },
     "metadata": {},
     "output_type": "display_data"
    }
   ],
   "source": [
    "plt.plot(x, u);"
   ]
  },
  {
   "cell_type": "code",
   "execution_count": null,
   "id": "dbdcadb7-0a56-41db-8f0d-756ab178cf42",
   "metadata": {},
   "outputs": [],
   "source": []
  }
 ],
 "metadata": {
  "kernelspec": {
   "display_name": "python3",
   "language": "python",
   "name": "python3"
  }
 },
 "nbformat": 4,
 "nbformat_minor": 5
}

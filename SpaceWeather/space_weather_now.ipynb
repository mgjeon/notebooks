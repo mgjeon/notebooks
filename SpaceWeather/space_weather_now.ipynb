{
 "cells": [
  {
   "cell_type": "code",
   "execution_count": null,
   "id": "43163d41-9783-4e3c-8b00-32ba1d1d2ebb",
   "metadata": {},
   "outputs": [
    {
     "name": "stdout",
     "output_type": "stream",
     "text": [
      "UTC 2025-01-19T23:30:00\n"
     ]
    }
   ],
   "source": [
    "import datetime\n",
    "now = datetime.datetime.now(tz=datetime.timezone.utc)\n",
    "now = now.strftime(\"%Y-%m-%dT%H:%M:%S\")\n",
    "print(f\"UTC {now}\")"
   ]
  },
  {
   "cell_type": "markdown",
   "id": "c4f6dc46-5475-4d0c-b973-642442c01b12",
   "metadata": {},
   "source": [
    "# Space Weather Conditions on NOAA Scales\n",
    "\n",
    "The National Oceanic and Atmospheric Administration (NOAA) Space Weather Scales were introduced as a way to communicate to the general public the current and future space weather conditions and their possible effects on people and systems.\n",
    "\n",
    "- 5: Extreme\n",
    "- 4: Severe\n",
    "- 3: Strong\n",
    "- 2: Moderate\n",
    "- 1: Minor\n",
    "\n",
    "---\n",
    "---\n",
    "\n",
    "- R: Radio Blackouts\n",
    "    - GOES X-ray peak brightness by class and by flux, measured in the 0.1-0.8 nm range, in $\\text{W}\\cdot\\text{m}^{-2}$\n",
    "    - R5: X20 $(2\\times10^{-3})$\n",
    "    - R4: X10 $(10^{-3})$\n",
    "    - R3: X1  $(10^{-4})$\n",
    "    - R2: M5  $(5\\times10^{-5})$\n",
    "    - R1: M1  $(10^{-5})$\n",
    "\n",
    "---\n",
    "\n",
    "- S: Solar Radiation Storms\n",
    "    - Flux level of $\\ge$ 10 MeV particles (ions). Flux levels are 5 minute averages. Flux in $\\text{particles}\\cdot\\text{s}^{-1}\\cdot\\text{ster}^{-1}\\cdot\\text{cm}^{-2}$\n",
    "    - S5: $10^5$\n",
    "    - S4: $10^4$\n",
    "    - S3: $10^3$\n",
    "    - S2: $10^2$\n",
    "    - S1: $10^1$\n",
    "\n",
    "---\n",
    "\n",
    "- G: Geomagnetic Storms\n",
    "    - Kp values determined every 3 hours\n",
    "    - G5: Kp=9\n",
    "    - G4: Kp=8\n",
    "    - G3: Kp=7\n",
    "    - G2: Kp=6\n",
    "    - G1: Kp=5"
   ]
  },
  {
   "cell_type": "code",
   "execution_count": null,
   "id": "7c5d96c4-9a1d-46ca-aa58-a3377788b036",
   "metadata": {},
   "outputs": [],
   "source": [
    "import requests\n",
    "from bs4 import BeautifulSoup"
   ]
  },
  {
   "cell_type": "code",
   "execution_count": null,
   "id": "f7db3f60-f7ae-4c75-98b0-891a0f1eadf4",
   "metadata": {},
   "outputs": [],
   "source": [
    "from selenium import webdriver\n",
    "from selenium.webdriver.common.by import By\n",
    "from bs4 import BeautifulSoup\n",
    "import time\n",
    "\n",
    "# WebDriver 설정\n",
    "options = webdriver.ChromeOptions()\n",
    "options.add_argument(\"--headless=new\")\n",
    "driver = webdriver.Chrome(options=options)  # 크롬 드라이버 경로 필요\n",
    "url = 'https://www.swpc.noaa.gov'\n",
    "driver.get(url)\n",
    "# driver.quit()\n",
    "# 페이지가 로드될 때까지 대기\n",
    "# time.sleep(3)  # 필요에 따라 대기 시간 조정\n",
    "\n",
    "# 페이지 소스 가져오기\n",
    "html = driver.page_source\n",
    "soup = BeautifulSoup(html, 'html.parser')"
   ]
  },
  {
   "cell_type": "code",
   "execution_count": null,
   "id": "b6d6e6a1-d326-4e53-8ef3-cef822fad9dc",
   "metadata": {},
   "outputs": [
    {
     "data": {
      "text/plain": [
       "<div class=\"noaa_scale_block day_0 scale_R noaa_scale_bg_0\">\n",
       "<div class=\"noaa_scale_value day_0 scale_R noaa_scale_fg_0\">R</div>\n",
       "<div class=\"noaa_scale_description day_0 scale_R\">none</div>\n",
       "</div>"
      ]
     },
     "execution_count": null,
     "metadata": {},
     "output_type": "execute_result"
    }
   ],
   "source": [
    "# 최상위 div 찾기\n",
    "parent_div = soup.find('div', class_='noaa_scale_block day_0 scale_R noaa_scale_bg_0')\n",
    "parent_div"
   ]
  },
  {
   "cell_type": "code",
   "execution_count": null,
   "id": "a923eb40-8333-4550-ae2d-b1579482cfed",
   "metadata": {},
   "outputs": [
    {
     "data": {
      "text/plain": [
       "[<div class=\"noaa_scale_block day_-1 scale_R noaa_scale_bg_1\">\n",
       " <div class=\"noaa_scale_value day_-1 scale_R noaa_scale_fg_1\">R1</div>\n",
       " <div class=\"noaa_scale_description day_-1 scale_R\">minor</div>\n",
       " </div>,\n",
       " <div class=\"noaa_scale_block day_-1 scale_S noaa_scale_bg_0\">\n",
       " <div class=\"noaa_scale_value day_-1 scale_S noaa_scale_fg_0\">S</div>\n",
       " <div class=\"noaa_scale_description day_-1 scale_S\">none</div>\n",
       " </div>,\n",
       " <div class=\"noaa_scale_block day_-1 scale_G noaa_scale_bg_0\">\n",
       " <div class=\"noaa_scale_value day_-1 scale_G noaa_scale_fg_0\">G</div>\n",
       " <div class=\"noaa_scale_description day_-1 scale_G\">none</div>\n",
       " </div>,\n",
       " <div class=\"noaa_scale_block day_0 scale_R noaa_scale_bg_0\">\n",
       " <div class=\"noaa_scale_value day_0 scale_R noaa_scale_fg_0\">R</div>\n",
       " <div class=\"noaa_scale_description day_0 scale_R\">none</div>\n",
       " </div>,\n",
       " <div class=\"noaa_scale_block day_0 scale_S noaa_scale_bg_0\">\n",
       " <div class=\"noaa_scale_value day_0 scale_S noaa_scale_fg_0\">S</div>\n",
       " <div class=\"noaa_scale_description day_0 scale_S\">none</div>\n",
       " </div>,\n",
       " <div class=\"noaa_scale_block day_0 scale_G noaa_scale_bg_0\">\n",
       " <div class=\"noaa_scale_value day_0 scale_G noaa_scale_fg_0\">G</div>\n",
       " <div class=\"noaa_scale_description day_0 scale_G\">none</div>\n",
       " </div>,\n",
       " <div class=\"noaa_scale_block day_1 scale_G noaa_scale_bg_0\">\n",
       " <div class=\"noaa_scale_value day_1 scale_G noaa_scale_fg_0\">G</div>\n",
       " <div class=\"noaa_scale_description day_1 scale_G\">none</div>\n",
       " </div>,\n",
       " <div class=\"noaa_scale_block day_2 scale_G noaa_scale_bg_0\">\n",
       " <div class=\"noaa_scale_value day_2 scale_G noaa_scale_fg_0\">G</div>\n",
       " <div class=\"noaa_scale_description day_2 scale_G\">none</div>\n",
       " </div>,\n",
       " <div class=\"noaa_scale_block day_3 scale_G noaa_scale_bg_0\">\n",
       " <div class=\"noaa_scale_value day_3 scale_G noaa_scale_fg_0\">G</div>\n",
       " <div class=\"noaa_scale_description day_3 scale_G\">none</div>\n",
       " </div>,\n",
       " <div class=\"noaa_scale_block day_0 scale_R noaa_scale_bg_0\">\n",
       " <div class=\"noaa_scale_value day_0 scale_R noaa_scale_fg_0\">R</div>\n",
       " <div class=\"noaa_scale_description day_0 scale_R\">none</div>\n",
       " </div>,\n",
       " <div class=\"noaa_scale_block day_0 scale_S noaa_scale_bg_0\">\n",
       " <div class=\"noaa_scale_value day_0 scale_S noaa_scale_fg_0\">S</div>\n",
       " <div class=\"noaa_scale_description day_0 scale_S\">none</div>\n",
       " </div>,\n",
       " <div class=\"noaa_scale_block day_0 scale_G noaa_scale_bg_0\">\n",
       " <div class=\"noaa_scale_value day_0 scale_G noaa_scale_fg_0\">G</div>\n",
       " <div class=\"noaa_scale_description day_0 scale_G\">none</div>\n",
       " </div>]"
      ]
     },
     "execution_count": null,
     "metadata": {},
     "output_type": "execute_result"
    }
   ],
   "source": [
    "soup.find_all('div', class_='noaa_scale_block')"
   ]
  },
  {
   "cell_type": "code",
   "execution_count": null,
   "id": "b1902064-4336-4b8c-9412-6f892f2f5a17",
   "metadata": {},
   "outputs": [],
   "source": [
    "r_value = parent_div.find('div', class_='noaa_scale_value').text.strip()"
   ]
  },
  {
   "cell_type": "code",
   "execution_count": null,
   "id": "047be3d4-7801-4975-b05f-08f173da4471",
   "metadata": {},
   "outputs": [
    {
     "data": {
      "text/plain": [
       "'R'"
      ]
     },
     "execution_count": null,
     "metadata": {},
     "output_type": "execute_result"
    }
   ],
   "source": [
    "r_value"
   ]
  },
  {
   "cell_type": "code",
   "execution_count": null,
   "id": "11b86e9f-1197-47a1-bc3c-da5a955df13f",
   "metadata": {},
   "outputs": [
    {
     "data": {
      "text/plain": [
       "bs4.element.Tag"
      ]
     },
     "execution_count": null,
     "metadata": {},
     "output_type": "execute_result"
    }
   ],
   "source": [
    "type(parent_div)"
   ]
  },
  {
   "cell_type": "code",
   "execution_count": null,
   "id": "84bcdad3-ed9c-442a-9daf-d9ac5423d975",
   "metadata": {},
   "outputs": [],
   "source": []
  },
  {
   "cell_type": "code",
   "execution_count": null,
   "id": "21c0966a-ea36-4c9b-bf16-7d04b82f8787",
   "metadata": {},
   "outputs": [],
   "source": [
    "\n",
    "# 하위 div 찾기\n",
    "if parent_div:\n",
    "    child_divs = parent_div.find_all('div')\n",
    "    for idx, child in enumerate(child_divs):\n",
    "        print(f\"Child Div {idx + 1}:\")\n",
    "        print(child.prettify())\n",
    "else:\n",
    "    print(\"Parent Div Not Found\")\n",
    "\n",
    "# WebDriver 닫기\n",
    "driver.quit()\n"
   ]
  },
  {
   "cell_type": "code",
   "execution_count": null,
   "id": "8c83cc04-df14-4a51-a39f-673a4a28df47",
   "metadata": {},
   "outputs": [
    {
     "data": {
      "text/plain": [
       "<div class=\"noaa_scale_block_title day_-1\">24-Hour Observed Maximums</div>"
      ]
     },
     "execution_count": null,
     "metadata": {},
     "output_type": "execute_result"
    }
   ],
   "source": [
    "parent_div"
   ]
  },
  {
   "cell_type": "code",
   "execution_count": null,
   "id": "4470d032-9b19-4088-880d-6ce490669b95",
   "metadata": {},
   "outputs": [],
   "source": [
    "url = 'https://www.swpc.noaa.gov/'\n",
    "\n",
    "response = requests.get(url)\n",
    "response.raise_for_status()\n",
    "\n",
    "soup = BeautifulSoup(response.text, 'html.parser')"
   ]
  },
  {
   "cell_type": "code",
   "execution_count": null,
   "id": "bbee9016-4281-4b61-9902-c3b0a44b8071",
   "metadata": {},
   "outputs": [],
   "source": [
    "soup.find('div', class_='noaa_scale_value day_0 scale_R noaa_scale_fg_0')"
   ]
  },
  {
   "cell_type": "code",
   "execution_count": null,
   "id": "91f9707a-f764-4489-b7e5-e50fa09c4dda",
   "metadata": {},
   "outputs": [],
   "source": [
    "target_div = soup.find_all('div')"
   ]
  },
  {
   "cell_type": "code",
   "execution_count": null,
   "id": "30f49721-48cc-428b-8ab4-5a59b886dcdf",
   "metadata": {},
   "outputs": [],
   "source": [
    "noaa_scale_block day_-1 scale_R noaa_scale_bg_1"
   ]
  },
  {
   "cell_type": "code",
   "execution_count": null,
   "id": "2d0ac8fe-6286-4b64-8345-313ec21203c4",
   "metadata": {},
   "outputs": [
    {
     "name": "stdout",
     "output_type": "stream",
     "text": [
      "<div class=\"noaa_scale_block_title day_-1\">\n",
      " 24-Hour Observed Maximums\n",
      "</div>\n",
      "\n"
     ]
    }
   ],
   "source": [
    "print(target_div.prettify())"
   ]
  },
  {
   "cell_type": "code",
   "execution_count": null,
   "id": "74e4d0ab-ede3-42a7-9aa4-d3f10e1cab7c",
   "metadata": {},
   "outputs": [
    {
     "name": "stdout",
     "output_type": "stream",
     "text": [
      "24-Hour Observed Maximums\n"
     ]
    }
   ],
   "source": [
    "for child in target_div.descendants:\n",
    "    print(child)"
   ]
  },
  {
   "cell_type": "code",
   "execution_count": null,
   "id": "dd436c37-426c-44e8-8985-e46f9934a847",
   "metadata": {},
   "outputs": [],
   "source": []
  }
 ],
 "metadata": {
  "kernelspec": {
   "display_name": "python3",
   "language": "python",
   "name": "python3"
  }
 },
 "nbformat": 4,
 "nbformat_minor": 5
}

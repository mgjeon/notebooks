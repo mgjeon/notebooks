{
 "cells": [
  {
   "cell_type": "markdown",
   "id": "3ed30a06-2778-4304-988e-33ffc618eeaf",
   "metadata": {},
   "source": [
    "# Get SDO data with SSW/IDL\n",
    "\n",
    "- https://sdo.oma.be/\n",
    "- https://sdo.oma.be/vso_idl.html"
   ]
  },
  {
   "cell_type": "markdown",
   "id": "e298e025",
   "metadata": {},
   "source": [
    "## Search & download AIA data\n",
    "\n",
    "```\n",
    "; Search AIA 171 Angstrom data for the 6th december 2010 with a cadence of 3600 seconds (1 hour)\n",
    "IDL> results = VSO_SEARCH('6-dec-2010', '7-dec-2010', inst='aia', wave='171', sample=3600)\n",
    "Records Returned : JSOC : 25/25\n",
    "\n",
    "; Sort the results by date and print the date\n",
    "IDL> results = results(SORT(cat.time.start))\n",
    "% Expression must be a structure in this context: CAT.\n",
    "% Execution halted at: $MAIN$          \n",
    "IDL> print, results.time.start\n",
    "2010-12-06T11:00:00 2010-12-06T13:00:00 2010-12-06T12:00:00 2010-12-06T20:00:00 2010-12-06T08:00:00 2010-12-06T03:00:33 2010-12-07T00:00:00 2010-12-06T14:00:00 2010-12-06T10:00:00 2010-12-06T05:00:00 2010-12-06T22:00:00\n",
    "2010-12-06T21:00:36 2010-12-06T06:00:00 2010-12-06T09:00:00 2010-12-06T23:00:00 2010-12-06T02:00:00 2010-12-06T19:00:00 2010-12-06T04:00:00 2010-12-06T18:00:00 2010-12-06T17:00:00 2010-12-06T16:00:00 2010-12-06T01:00:00\n",
    "2010-12-06T15:00:00 2010-12-06T07:00:00 2010-12-06T00:00:00\n",
    "\n",
    "; Download the first three files\n",
    "IDL> status = VSO_GET(results[0:2], pixels=4096, filenames=files, /rice,  /use_network)\n",
    "% VSO_GET: This will download 3 file(s)\n",
    "1 : http://netdrms01.nispdc.nso.edu/cgi-bin/netdrms/drms_export.cgi?series=aia__lev1;compress=rice;record=171_1070708435-1070708435\n",
    "% SOCK_GET_MAIN: 12337920 bytes of aia.lev1.171A_2010-12-06T11_00_00.34Z.image_lev1.fits copied in 4.04 seconds.\n",
    "2 : http://netdrms01.nispdc.nso.edu/cgi-bin/netdrms/drms_export.cgi?series=aia__lev1;compress=rice;record=171_1070712035-1070712035\n",
    "% SOCK_GET_MAIN: 12335040 bytes of aia.lev1.171A_2010-12-06T12_00_00.35Z.image_lev1.fits copied in 4.01 seconds.\n",
    "3 : http://netdrms01.nispdc.nso.edu/cgi-bin/netdrms/drms_export.cgi?series=aia__lev1;compress=rice;record=171_1070715635-1070715635\n",
    "% SOCK_GET_MAIN: 12335040 bytes of aia.lev1.171A_2010-12-06T13_00_00.34Z.image_lev1.fits copied in 4.20 seconds.\n",
    "% VSO_GET: Downloading completed\n",
    "\n",
    "; The local filenames will be in the files variable\n",
    "print, files\n",
    "D:\\home\\notebooks\\Solarsoft\\aia.lev1.171A_2010-12-06T11_00_00.34Z.image_lev1.fits D:\\home\\notebooks\\Solarsoft\\aia.lev1.171A_2010-12-06T12_00_00.35Z.image_lev1.fits\n",
    "D:\\home\\notebooks\\Solarsoft\\aia.lev1.171A_2010-12-06T13_00_00.34Z.image_lev1.fits\n",
    "```"
   ]
  },
  {
   "cell_type": "markdown",
   "id": "9124956f-065b-46f0-98f1-8956e1ce0569",
   "metadata": {},
   "source": [
    "## Read AIA image & plot it\n",
    "\n",
    "```\n",
    "; Read the image and header of the AIA fits file located at files[0] (see above)\n",
    "; Because SDO files are rice compressed you need to use the specialised read_sdo procedure for this\n",
    "IDL> READ_SDO, files[0], header, image\n",
    " ----------------------------------------------------\n",
    "| Uncompressing to> C:\\Users\\usr\\AppData\\Local\\Temp\\ |\n",
    " ----------------------------------------------------\n",
    " ---------------------------------------------------------------------------------------------------------------------------------------------------\n",
    "| D:\\home\\notebooks\\Solarsoft\\aia.lev1.171A_2010-12-06T11_00_00.34Z.image_lev1.fits -> C:\\Users\\usr\\AppData\\Local\\Temp\\AIA20101206_110000_0171.fits |\n",
    " ---------------------------------------------------------------------------------------------------------------------------------------------------\n",
    "\n",
    "; Improve the contrast with aia_intscale and plot the resulting image\n",
    "image = AIA_INTSCALE(image, exptime=header.EXPTIME, wavelnth=header.WAVELNTH, bytescale=1)\n",
    "plot_image, image\n",
    "\n",
    "; Load AIA standard colour table and plot the image using it\n",
    "AIA_LCT, rr, gg, bb, wavelnth=header.WAVELNTH, /load\n",
    "plot_image, image\n",
    "\n",
    "; Save the image to PNG\n",
    "png_file = header.T_OBS + \".png\"\n",
    "WRITE_PNG, png_file, image\n",
    "```"
   ]
  },
  {
   "cell_type": "markdown",
   "id": "dcc50486-a66b-4bfd-93d3-7020b207b8ff",
   "metadata": {},
   "source": [
    "![](test.png)\n",
    "\n",
    "![](test2.png)"
   ]
  },
  {
   "cell_type": "markdown",
   "id": "10d27752-4da1-4bac-b11e-6faf73116567",
   "metadata": {},
   "source": [
    "## Run AIA prep\n",
    "\n",
    "> Perform image registration (rotation, translation, scaling) of Level 1 AIA images, and update the header information.\n",
    "\n",
    "```\n",
    "; Prep the AIA fits file located at files[0] (see above) and save it to directory outdir\n",
    "AIA_PREP, files[0], [0], /do_write_fits, outdir='.', /verbose\n",
    "\n",
    "; Prep the AIA fits file located at files[0] (see above) and save the resulting image to prepped_image\n",
    "AIA_PREP, files[0], [0], prepped_header, prepped_image\n",
    "```"
   ]
  },
  {
   "attachments": {},
   "cell_type": "markdown",
   "id": "b26c1fff-928d-4dfd-9ac8-da621a50388e",
   "metadata": {},
   "source": [
    "![](test_prep.png)\n",
    "\n",
    "![](test2_prep.png)"
   ]
  },
  {
   "cell_type": "markdown",
   "id": "2f763840-8a2b-429d-939b-4218d6b5420f",
   "metadata": {},
   "source": [
    "## Search & download HMI data\n",
    "\n",
    "```\n",
    "; Search HMI magnetogram data for the 6th december 2010 with a cadence of 3600 seconds (1 hour)\n",
    "IDL> results = VSO_SEARCH('6-dec-2010', '7-dec-2010', inst='hmi', physobs='los_magnetic_field', sample=3600)\n",
    "Records Returned : JSOC : 24/24\n",
    "Records Returned : NSO : 3/3\n",
    "\n",
    "; Download the first three files\n",
    "IDL> status = VSO_GET(results[0:2], pixels=4096, filenames=files, /rice,  /use_network)\n",
    "% VSO_GET: This will download 3 file(s)\n",
    "1 : http://netdrms01.nispdc.nso.edu/cgi-bin/netdrms/drms_export.cgi?series=hmi__M_45s;compress=rice;record=12573122-12573122\n",
    "% SOCK_GET_MAIN: 15747840 bytes of hmi.m_45s.2010.12.06_12_01_30_TAI.magnetogram.fits copied in 15.61 seconds.\n",
    "2 : http://netdrms01.nispdc.nso.edu/cgi-bin/netdrms/drms_export.cgi?series=hmi__M_45s;compress=rice;record=12573602-12573602\n",
    "% SOCK_GET_MAIN: 15822720 bytes of hmi.m_45s.2010.12.06_18_01_30_TAI.magnetogram.fits copied in 8.21 seconds.\n",
    "3 : http://netdrms01.nispdc.nso.edu/cgi-bin/netdrms/drms_export.cgi?series=hmi__M_45s;compress=rice;record=12573682-12573682\n",
    "% SOCK_GET_MAIN: 15667200 bytes of hmi.m_45s.2010.12.06_19_01_30_TAI.magnetogram.fits copied in 6.00 seconds.\n",
    "% VSO_GET: Downloading completed\n",
    "\n",
    "; Search HMI continuum data for the 6th december 2010 with a cadence of 3600 seconds (1 hour)\n",
    "IDL> results = VSO_SEARCH('6-dec-2010', '7-dec-2010', inst='hmi', physobs='intensity', sample=3600)\n",
    "Records Returned : JSOC : 24/24\n",
    "```"
   ]
  },
  {
   "cell_type": "code",
   "execution_count": null,
   "id": "11c63812-2005-4d27-a628-6ec28e81dba2",
   "metadata": {},
   "outputs": [],
   "source": []
  }
 ],
 "metadata": {
  "kernelspec": {
   "display_name": "python3",
   "language": "python",
   "name": "python3"
  }
 },
 "nbformat": 4,
 "nbformat_minor": 5
}

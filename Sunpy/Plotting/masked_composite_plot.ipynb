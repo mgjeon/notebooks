{
 "cells": [
  {
   "cell_type": "markdown",
   "id": "fbf5c489-f403-4787-9237-94106f1d140a",
   "metadata": {},
   "source": [
    "# Combining off-limb and disk maps\n",
    "\n",
    "- https://docs.sunpy.org/en/stable/generated/gallery/plotting/masked_composite_plot.html"
   ]
  },
  {
   "cell_type": "markdown",
   "id": "0fcf8ce8-559f-44ff-9283-031f45b71f7b",
   "metadata": {},
   "source": [
    "This example combines creating a composite plot with masking out the\n",
    "solar disk. The purpose is to introduce users to the plotting process\n",
    "required to overlay multiple maps that have been modified with other\n",
    "``sunpy`` functions. The resulting plot in this tutorial shows information\n",
    "on the upper photosphere, quiet corona, and magnetogram contours."
   ]
  },
  {
   "cell_type": "code",
   "execution_count": null,
   "id": "808ad076-d604-44e2-a35a-c3400c43c0d8",
   "metadata": {},
   "outputs": [],
   "source": [
    "import matplotlib.pyplot as plt\n",
    "\n",
    "import astropy.units as u\n",
    "\n",
    "import sunpy.data.sample\n",
    "from sunpy.map import Map\n",
    "from sunpy.map.maputils import all_coordinates_from_map, coordinate_is_on_solar_disk"
   ]
  },
  {
   "cell_type": "markdown",
   "id": "605a0b7d-c4b4-42d3-b5dc-fdcdd62b9f88",
   "metadata": {},
   "source": [
    "Let's import sample data representing the three types of data we want to\n",
    "overlay: AIA 1600 (upper photosphere), AIA 171 (quiet corona), and HMI\n",
    "data (magnetic fields in the photosphere)."
   ]
  },
  {
   "cell_type": "code",
   "execution_count": null,
   "id": "0bf75358-97dc-492c-8eaa-8a99e78568b0",
   "metadata": {},
   "outputs": [],
   "source": [
    "aia_1600 = Map(sunpy.data.sample.AIA_1600_IMAGE)\n",
    "aia_171 = Map(sunpy.data.sample.AIA_171_IMAGE)\n",
    "hmi = Map(sunpy.data.sample.HMI_LOS_IMAGE)"
   ]
  },
  {
   "cell_type": "markdown",
   "id": "73ac42cc-cada-4484-ba39-dadc8b8142e1",
   "metadata": {},
   "source": [
    "Next, let's mask out the solar disk of the AIA 171 image since we will be\n",
    "overlaying the AIA 1600 photosphere."
   ]
  },
  {
   "cell_type": "code",
   "execution_count": null,
   "id": "c5e7b005-d9b6-4946-becc-cdde6f79e791",
   "metadata": {},
   "outputs": [],
   "source": [
    "hpc_coords = all_coordinates_from_map(aia_171)\n",
    "mask = coordinate_is_on_solar_disk(hpc_coords)\n",
    "colormap = aia_171.cmap.copy()\n",
    "colormap.set_bad('black')\n",
    "\n",
    "scaled_map = Map(aia_171.data, aia_171.meta, mask=mask)"
   ]
  },
  {
   "cell_type": "markdown",
   "id": "342b9204-4c34-41d9-9b0d-ebfa4aa3e9dc",
   "metadata": {},
   "source": [
    "Before we plot the composite image, let's define the contour levels that will\n",
    "be applied to the HMI image. Also, grab the AIA 171 colormap to use with\n",
    "the AIA 1600 image to better match the images."
   ]
  },
  {
   "cell_type": "code",
   "execution_count": null,
   "id": "c705283f-fa36-4c2c-8926-ba4772d2fe0a",
   "metadata": {},
   "outputs": [],
   "source": []
  }
 ],
 "metadata": {
  "kernelspec": {
   "display_name": "python3",
   "language": "python",
   "name": "python3"
  }
 },
 "nbformat": 4,
 "nbformat_minor": 5
}

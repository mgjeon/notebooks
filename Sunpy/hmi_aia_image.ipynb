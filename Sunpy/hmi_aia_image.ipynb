{
 "cells": [
  {
   "cell_type": "code",
   "execution_count": null,
   "metadata": {},
   "outputs": [],
   "source": [
    "from sunpy.map import Map\n",
    "from sunpy.net import Fido, attrs as a\n",
    "from astropy.time import Time\n",
    "import astropy.units as u"
   ]
  },
  {
   "cell_type": "code",
   "execution_count": null,
   "metadata": {},
   "outputs": [
    {
     "data": {
      "text/plain": [
       "<sunpy.net.attrs.Time(2023-10-20 00:00:00.000, 2023-10-20 00:01:00.000)>"
      ]
     },
     "execution_count": null,
     "metadata": {},
     "output_type": "execute_result"
    }
   ],
   "source": [
    "tr = a.Time('2023-10-20T00:00:00', '2023-10-20T00:01:00')\n",
    "tr"
   ]
  },
  {
   "cell_type": "code",
   "execution_count": null,
   "metadata": {},
   "outputs": [
    {
     "data": {
      "text/plain": [
       "<sunpy.net.jsoc.attrs.Series(hmi.m_720s: magnetograms with a cadence of 720 seconds.) object at\n",
       "0x7f1bd2bb3640>"
      ]
     },
     "execution_count": null,
     "metadata": {},
     "output_type": "execute_result"
    }
   ],
   "source": [
    "a.jsoc.Series('hmi.m_720s')"
   ]
  },
  {
   "cell_type": "code",
   "execution_count": null,
   "metadata": {},
   "outputs": [
    {
     "data": {
      "text/html": [
       "Results from 1 Provider:</br></br>1 Results from the JSOCClient:</br><div><i>JSOCResponse length=1</i>\n",
       "<table id=\"table139757475249360\" class=\"table-striped table-bordered table-condensed\">\n",
       "<thead><tr><th>T_REC</th><th>TELESCOP</th><th>INSTRUME</th><th>WAVELNTH</th><th>CAR_ROT</th></tr></thead>\n",
       "<thead><tr><th>str23</th><th>str7</th><th>str12</th><th>float64</th><th>int64</th></tr></thead>\n",
       "<tr><td>2023.10.20_00:00:00_TAI</td><td>SDO/HMI</td><td>HMI_COMBINED</td><td>6173.0</td><td>2276</td></tr>\n",
       "</table></div></br>"
      ],
      "text/plain": [
       "<sunpy.net.fido_factory.UnifiedResponse object>\n",
       "Results from 1 Provider:\n",
       "\n",
       "1 Results from the JSOCClient:\n",
       "Source: http://jsoc.stanford.edu\n",
       "\n",
       "         T_REC          TELESCOP   INSTRUME   WAVELNTH CAR_ROT\n",
       "----------------------- -------- ------------ -------- -------\n",
       "2023.10.20_00:00:00_TAI  SDO/HMI HMI_COMBINED   6173.0    2276\n"
      ]
     },
     "execution_count": null,
     "metadata": {},
     "output_type": "execute_result"
    }
   ],
   "source": [
    "result = Fido.search(tr, a.jsoc.Series('hmi.m_720s'), a.jsoc.Notify('mgjeon@khu.ac.kr'))\n",
    "result"
   ]
  },
  {
   "cell_type": "code",
   "execution_count": null,
   "metadata": {},
   "outputs": [
    {
     "name": "stderr",
     "output_type": "stream",
     "text": [
      "2025-03-09 12:59:09 - drms - INFO: Export request pending. [id=JSOC_20250309_000291, status=2]\n",
      "2025-03-09 12:59:09 - drms - INFO: Waiting for 0 seconds...\n",
      "2025-03-09 12:59:10 - sunpy - INFO: 1 URLs found for download. Full request totaling 14MB\n"
     ]
    },
    {
     "name": "stdout",
     "output_type": "stream",
     "text": [
      "INFO: 1 URLs found for download. Full request totaling 14MB [sunpy.net.jsoc.jsoc]\n"
     ]
    },
    {
     "data": {
      "application/vnd.jupyter.widget-view+json": {
       "model_id": "caefe2d0efa24e498dfe24986d8ff789",
       "version_major": 2,
       "version_minor": 0
      },
      "text/plain": [
       "Files Downloaded:   0%|          | 0/1 [00:00<?, ?file/s]"
      ]
     },
     "metadata": {},
     "output_type": "display_data"
    },
    {
     "data": {
      "text/plain": [
       "<parfive.results.Results object>\n",
       "['/home/usr/sunpy/data/hmi.m_720s.20231020_000000_TAI.3.magnetogram.fits']"
      ]
     },
     "execution_count": null,
     "metadata": {},
     "output_type": "execute_result"
    }
   ],
   "source": [
    "files = Fido.fetch(result)\n",
    "files"
   ]
  },
  {
   "cell_type": "code",
   "execution_count": null,
   "metadata": {},
   "outputs": [],
   "source": [
    "smap = Map(files[0])"
   ]
  },
  {
   "cell_type": "code",
   "execution_count": null,
   "metadata": {},
   "outputs": [
    {
     "data": {
      "text/latex": [
       "$963.53876\\mathrm{{}^{\\prime\\prime}}$"
      ],
      "text/plain": [
       "<Quantity 963.53875732 arcsec>"
      ]
     },
     "execution_count": null,
     "metadata": {},
     "output_type": "execute_result"
    }
   ],
   "source": [
    "smap.rsun_obs"
   ]
  },
  {
   "cell_type": "code",
   "execution_count": null,
   "metadata": {},
   "outputs": [
    {
     "data": {
      "text/latex": [
       "$0.50403702 \\; \\mathrm{\\frac{{}^{\\prime\\prime}}{pix}}$"
      ],
      "text/plain": [
       "<Quantity 0.50403702 arcsec / pix>"
      ]
     },
     "execution_count": null,
     "metadata": {},
     "output_type": "execute_result"
    }
   ],
   "source": [
    "smap.scale[0]"
   ]
  },
  {
   "cell_type": "code",
   "execution_count": null,
   "metadata": {},
   "outputs": [
    {
     "data": {
      "text/latex": [
       "$1911.6428 \\; \\mathrm{pix}$"
      ],
      "text/plain": [
       "<Quantity 1911.64282256 pix>"
      ]
     },
     "execution_count": null,
     "metadata": {},
     "output_type": "execute_result"
    }
   ],
   "source": [
    "r_obs_pix = smap.rsun_obs / smap.scale[0]\n",
    "r_obs_pix"
   ]
  },
  {
   "cell_type": "code",
   "execution_count": null,
   "metadata": {},
   "outputs": [],
   "source": [
    "import numpy as np"
   ]
  },
  {
   "cell_type": "code",
   "execution_count": null,
   "metadata": {},
   "outputs": [],
   "source": [
    "def get_mask(smap, radius=None):\n",
    "  Y, X = np.ogrid[:smap.data.shape[0], :smap.data.shape[1]]\n",
    "  xc, yc = smap.wcs.world_to_pixel(smap.center)\n",
    "  dist = np.sqrt((X-xc)**2 + (Y-yc)**2)\n",
    "  r_obs_pix = smap.rsun_obs / smap.scale[0]\n",
    "  radius = r_obs_pix.value if radius is None else radius\n",
    "  mask = dist <= r_obs_pix.value\n",
    "  return mask"
   ]
  },
  {
   "cell_type": "code",
   "execution_count": null,
   "metadata": {},
   "outputs": [],
   "source": [
    "import matplotlib.pyplot as plt\n",
    "from astropy.visualization import simple_norm"
   ]
  },
  {
   "cell_type": "code",
   "execution_count": null,
   "metadata": {},
   "outputs": [],
   "source": [
    "from astropy.coordinates import SkyCoord"
   ]
  },
  {
   "cell_type": "code",
   "execution_count": null,
   "metadata": {},
   "outputs": [
    {
     "name": "stdout",
     "output_type": "stream",
     "text": [
      "Solar radius : 1911.64 pix => 400.00 pix = 1 solar radii\n",
      "Resolution/2 : 2048.00 pix => 512.00 pix = 1.28 solar radii\n"
     ]
    }
   ],
   "source": [
    "resolution = 1024\n",
    "padding_factor = 0.28\n",
    "\n",
    "s_map = smap\n",
    "\n",
    "r_obs_pix = s_map.rsun_obs / s_map.scale[0]\n",
    "print(f\"Solar radius : {r_obs_pix.value:.2f} pix => {(resolution / 2) / (1 + padding_factor):.2f} pix = 1 solar radii\")\n",
    "print(f\"Resolution/2 : {s_map.data.shape[0]/2:.2f} pix => {resolution/2:.2f} pix = {1+padding_factor:.2f} solar radii\")\n",
    "\n",
    "r_obs_pix = (1 + padding_factor) * r_obs_pix\n",
    "scale_factor = resolution / (2 * r_obs_pix.value)\n",
    "s_map = Map(np.nan_to_num(s_map.data).astype(np.float32), s_map.meta)\n",
    "s_map = s_map.rotate(recenter=True, scale=scale_factor, missing=0, order=4)\n",
    "s_map.meta['r_sun'] = s_map.rsun_obs.value / s_map.meta['cdelt1']\n",
    "\n",
    "mask = get_mask(s_map)\n",
    "data = s_map.data * mask.astype(int)\n",
    "data[data == 0] = np.nan\n",
    "s_map = Map(data, s_map.meta)\n",
    "s_map\n",
    "\n",
    "arcs_frame = (resolution / 2) * s_map.scale[0].value  # half width in arcseconds\n",
    "# print(f\"Resolution/2 : {arcs_frame:.2f} arcsec\")\n",
    "s_map = s_map.submap(\n",
    "    bottom_left=SkyCoord(-arcs_frame*u.arcsec, -arcs_frame*u.arcsec, frame=s_map.coordinate_frame),\n",
    "    top_right=SkyCoord(arcs_frame*u.arcsec, arcs_frame*u.arcsec, frame=s_map.coordinate_frame)\n",
    ")\n",
    "pad_x = s_map.data.shape[0] - resolution\n",
    "pad_y = s_map.data.shape[1] - resolution\n",
    "s_map = s_map.submap(\n",
    "    bottom_left=[pad_x // 2, pad_y // 2] * u.pix,\n",
    "    top_right=[pad_x // 2 + resolution - 1, pad_y // 2 + resolution - 1] * u.pix\n",
    ")\n",
    "if s_map.data.shape[0] < resolution or s_map.data.shape[1] < resolution:\n",
    "    data = s_map.data\n",
    "    new_data = np.zeros((resolution, resolution))\n",
    "    padding_x = (resolution - data.shape[0]) // 2\n",
    "    padding_y = (resolution - data.shape[1]) // 2\n",
    "    new_data[padding_x:padding_x + data.shape[0], padding_y:padding_y + data.shape[1]] = data\n",
    "    s_map = Map(new_data, s_map.meta)\n",
    "data = s_map.data\n",
    "data[data == 0] = np.nan\n",
    "s_map = Map(data, s_map.meta)"
   ]
  },
  {
   "cell_type": "code",
   "execution_count": null,
   "metadata": {},
   "outputs": [
    {
     "data": {
      "image/png": "[encoded data removed]",
      "text/html": [
       "<div style=\"vertical-align: middle;\"><strong>hmimag</strong> </div><div class=\"cmap\"><img alt=\"hmimag colormap\" title=\"hmimag\" style=\"border: 1px solid #555;\" src=\"data:image/png;base64,iVBORw0KGgoAAAANSUhEUgAAAgAAAABACAYAAABsv8+/AAAAFXRFWHRUaXRsZQBobWltYWcgY29sb3JtYXDoC1PtAAAAG3RFWHREZXNjcmlwdGlvbgBobWltYWcgY29sb3JtYXChnEsJAAAAMXRFWHRBdXRob3IATWF0cGxvdGxpYiB2My4xMC4xLCBodHRwczovL21hdHBsb3RsaWIub3JnFhxeCAAAADN0RVh0U29mdHdhcmUATWF0cGxvdGxpYiB2My4xMC4xLCBodHRwczovL21hdHBsb3RsaWIub3JnszhN/AAAAnRJREFUeJzt1sFq1EAcx/H/Zldc7z6Cj+KTeRN8CRF8Dw9C+yDFk15UPHQ38ZDMlgyEWmoR/H0+l2Emk0kibf3u3tbLqapqvztXVdWwq3kc5vFZLfP9PO53U1VVHYY2H1fXD8v+/TIfalrNDzV215f1dv4wrdaH/bh+j/bcoZ23Pn8Yzuv369+/PW9o+8f1ebv1+cPyPnfftf7+cbhs7B60f6J595zL9a31++7buN4///IP36//4fWN99v979/17vU8HuehXvzb8er6TVVVffv6qqqqbm7mH/jPXz5VVdX7Xx/njc+Xn/jj8pt3vG/+NPuurj9UVdV5nJaxVuPYzTfXpwfu79entj497L5+fXrg/o3vaO/x+O955HfMf27rtBx4Gvv19X2Xebv+l/fXeLt+8ambX66fuhs39rUH1bJ/PHf337YHd/eN6/v6c7bmU/ecy3w597Txvu07p3b9Rzd+7+Y/q+ru/1kAIIgAAIBAAgAAAgkAAAgkAAAgkAAAgEACAAACCQAACCQAACCQAACAQAIAAAIJAAAIJAAAIJAAAIBAAgAAAgkAAAgkAAAgkAAAgEACAAACCQAACCQAACCQAACAQAIAAAIJAAAIJAAAIJAAAIBAAgAAAgkAAAgkAAAgkAAAgEACAAACCQAACCQAACCQAACAQAIAAAIJAAAIJAAAIJAAAIBAAgAAAgkAAAgkAAAgkAAAgEACAAACCQAACCQAACCQAACAQAIAAAIJAAAIJAAAIJAAAIBAAgAAAgkAAAgkAAAgkAAAgEACAAACCQAACCQAACCQAACAQAIAAAIJAAAIJAAAIJAAAIBAAgAAAv0GbBfryAfTW64AAAAASUVORK5CYII=\"></div><div style=\"vertical-align: middle; max-width: 514px; display: flex; justify-content: space-between;\"><div style=\"float: left;\"><div title=\"#890014ff\" style=\"display: inline-block; width: 1em; height: 1em; margin: 0; vertical-align: middle; border: 1px solid #555; background-color: #890014ff;\"></div> under</div><div style=\"margin: 0 auto; display: inline-block;\">bad <div title=\"#000000ff\" style=\"display: inline-block; width: 1em; height: 1em; margin: 0; vertical-align: middle; border: 1px solid #555; background-color: #000000ff;\"></div></div><div style=\"float: right;\">over <div title=\"#000049ff\" style=\"display: inline-block; width: 1em; height: 1em; margin: 0; vertical-align: middle; border: 1px solid #555; background-color: #000049ff;\"></div></div></div>"
      ],
      "text/plain": [
       "<matplotlib.colors.LinearSegmentedColormap>"
      ]
     },
     "execution_count": null,
     "metadata": {},
     "output_type": "execute_result"
    }
   ],
   "source": [
    "cmap = plt.get_cmap('hmimag')\n",
    "cmap.set_bad('black')\n",
    "cmap"
   ]
  },
  {
   "cell_type": "code",
   "execution_count": null,
   "metadata": {},
   "outputs": [
    {
     "data": {
      "image/png": "[encoded data removed]",
      "text/plain": [
       "<Figure size 512x512 with 1 Axes>"
      ]
     },
     "metadata": {},
     "output_type": "display_data"
    }
   ],
   "source": [
    "fig = plt.figure(figsize=(5.12, 5.12), frameon=False)\n",
    "ax = plt.axes([0, 0, 1, 1], projection=s_map)\n",
    "s_map.plot(axes=ax, cmap=cmap, norm=simple_norm(s_map.data, vmin=-1000, vmax=1000))\n",
    "ax.set_axis_off()\n",
    "ax.set_title('')\n",
    "fig.savefig('hmi.png', dpi=200)\n",
    "# plt.close()"
   ]
  },
  {
   "cell_type": "code",
   "execution_count": null,
   "metadata": {},
   "outputs": [
    {
     "data": {
      "text/plain": [
       "<Time object: scale='utc' format='datetime' value=2025-03-09 03:59:12.774630>"
      ]
     },
     "execution_count": null,
     "metadata": {},
     "output_type": "execute_result"
    }
   ],
   "source": [
    "now = Time.now()\n",
    "now"
   ]
  },
  {
   "cell_type": "code",
   "execution_count": null,
   "metadata": {},
   "outputs": [
    {
     "data": {
      "text/plain": [
       "<sunpy.net.attrs.Time(2025-03-09 02:59:12.775, 2025-03-09 03:59:12.775)>"
      ]
     },
     "execution_count": null,
     "metadata": {},
     "output_type": "execute_result"
    }
   ],
   "source": [
    "tr = a.Time(now-1*u.hour, now)\n",
    "tr"
   ]
  },
  {
   "cell_type": "code",
   "execution_count": null,
   "metadata": {},
   "outputs": [
    {
     "data": {
      "text/html": [
       "Results from 1 Provider:</br></br>15 Results from the VSOClient:</br><div><i>VSOQueryResponseTable length=15</i>\n",
       "<table id=\"table139757436213936\" class=\"table-striped table-bordered table-condensed\">\n",
       "<thead><tr><th>Start Time</th><th>End Time</th><th>Source</th><th>Instrument</th><th>Wavelength</th><th>Provider</th><th>Physobs</th><th>Wavetype</th><th>Extent Type</th><th>Size</th></tr></thead>\n",
       "<thead><tr><th></th><th></th><th></th><th></th><th>Angstrom</th><th></th><th></th><th></th><th></th><th>Mibyte</th></tr></thead>\n",
       "<thead><tr><th>Time</th><th>Time</th><th>str3</th><th>str3</th><th>float64[2]</th><th>str8</th><th>str9</th><th>str6</th><th>str8</th><th>float64</th></tr></thead>\n",
       "<tr><td>2025-03-09 03:00:00.000</td><td>2025-03-09 03:00:00.000</td><td>SDO</td><td>AIA</td><td>171.0 .. 171.0</td><td>SDAC_AIA</td><td>intensity</td><td>NARROW</td><td>FULLDISK</td><td>4.01562</td></tr>\n",
       "<tr><td>2025-03-09 03:03:00.000</td><td>2025-03-09 03:03:00.000</td><td>SDO</td><td>AIA</td><td>171.0 .. 171.0</td><td>SDAC_AIA</td><td>intensity</td><td>NARROW</td><td>FULLDISK</td><td>4.01562</td></tr>\n",
       "<tr><td>2025-03-09 03:06:00.000</td><td>2025-03-09 03:06:00.000</td><td>SDO</td><td>AIA</td><td>171.0 .. 171.0</td><td>SDAC_AIA</td><td>intensity</td><td>NARROW</td><td>FULLDISK</td><td>4.01562</td></tr>\n",
       "<tr><td>2025-03-09 03:09:00.000</td><td>2025-03-09 03:09:00.000</td><td>SDO</td><td>AIA</td><td>171.0 .. 171.0</td><td>SDAC_AIA</td><td>intensity</td><td>NARROW</td><td>FULLDISK</td><td>4.01562</td></tr>\n",
       "<tr><td>2025-03-09 03:12:00.000</td><td>2025-03-09 03:12:00.000</td><td>SDO</td><td>AIA</td><td>171.0 .. 171.0</td><td>SDAC_AIA</td><td>intensity</td><td>NARROW</td><td>FULLDISK</td><td>4.01562</td></tr>\n",
       "<tr><td>2025-03-09 03:15:00.000</td><td>2025-03-09 03:15:00.000</td><td>SDO</td><td>AIA</td><td>171.0 .. 171.0</td><td>SDAC_AIA</td><td>intensity</td><td>NARROW</td><td>FULLDISK</td><td>4.01562</td></tr>\n",
       "<tr><td>2025-03-09 03:18:00.000</td><td>2025-03-09 03:18:00.000</td><td>SDO</td><td>AIA</td><td>171.0 .. 171.0</td><td>SDAC_AIA</td><td>intensity</td><td>NARROW</td><td>FULLDISK</td><td>4.01562</td></tr>\n",
       "<tr><td>2025-03-09 03:21:00.000</td><td>2025-03-09 03:21:00.000</td><td>SDO</td><td>AIA</td><td>171.0 .. 171.0</td><td>SDAC_AIA</td><td>intensity</td><td>NARROW</td><td>FULLDISK</td><td>4.01562</td></tr>\n",
       "<tr><td>2025-03-09 03:24:00.000</td><td>2025-03-09 03:24:00.000</td><td>SDO</td><td>AIA</td><td>171.0 .. 171.0</td><td>SDAC_AIA</td><td>intensity</td><td>NARROW</td><td>FULLDISK</td><td>4.01562</td></tr>\n",
       "<tr><td>2025-03-09 03:27:00.000</td><td>2025-03-09 03:27:00.000</td><td>SDO</td><td>AIA</td><td>171.0 .. 171.0</td><td>SDAC_AIA</td><td>intensity</td><td>NARROW</td><td>FULLDISK</td><td>4.01562</td></tr>\n",
       "<tr><td>2025-03-09 03:30:00.000</td><td>2025-03-09 03:30:00.000</td><td>SDO</td><td>AIA</td><td>171.0 .. 171.0</td><td>SDAC_AIA</td><td>intensity</td><td>NARROW</td><td>FULLDISK</td><td>4.01562</td></tr>\n",
       "<tr><td>2025-03-09 03:33:00.000</td><td>2025-03-09 03:33:00.000</td><td>SDO</td><td>AIA</td><td>171.0 .. 171.0</td><td>SDAC_AIA</td><td>intensity</td><td>NARROW</td><td>FULLDISK</td><td>4.01562</td></tr>\n",
       "<tr><td>2025-03-09 03:36:00.000</td><td>2025-03-09 03:36:00.000</td><td>SDO</td><td>AIA</td><td>171.0 .. 171.0</td><td>SDAC_AIA</td><td>intensity</td><td>NARROW</td><td>FULLDISK</td><td>4.01562</td></tr>\n",
       "<tr><td>2025-03-09 03:39:00.000</td><td>2025-03-09 03:39:00.000</td><td>SDO</td><td>AIA</td><td>171.0 .. 171.0</td><td>SDAC_AIA</td><td>intensity</td><td>NARROW</td><td>FULLDISK</td><td>4.01562</td></tr>\n",
       "<tr><td>2025-03-09 03:42:00.000</td><td>2025-03-09 03:42:00.000</td><td>SDO</td><td>AIA</td><td>171.0 .. 171.0</td><td>SDAC_AIA</td><td>intensity</td><td>NARROW</td><td>FULLDISK</td><td>4.01562</td></tr>\n",
       "</table></div></br>"
      ],
      "text/plain": [
       "<sunpy.net.fido_factory.UnifiedResponse object>\n",
       "Results from 1 Provider:\n",
       "\n",
       "15 Results from the VSOClient:\n",
       "Source: https://sdac.virtualsolar.org/cgi/search\n",
       "Data retrieval status: https://docs.virtualsolar.org/wiki/VSOHealthReport\n",
       "Total estimated size: 63.16 Mbyte\n",
       "\n",
       "       Start Time               End Time        Source ... Extent Type   Size \n",
       "                                                       ...              Mibyte\n",
       "----------------------- ----------------------- ------ ... ----------- -------\n",
       "2025-03-09 03:00:00.000 2025-03-09 03:00:00.000    SDO ...    FULLDISK 4.01562\n",
       "2025-03-09 03:03:00.000 2025-03-09 03:03:00.000    SDO ...    FULLDISK 4.01562\n",
       "2025-03-09 03:06:00.000 2025-03-09 03:06:00.000    SDO ...    FULLDISK 4.01562\n",
       "2025-03-09 03:09:00.000 2025-03-09 03:09:00.000    SDO ...    FULLDISK 4.01562\n",
       "2025-03-09 03:12:00.000 2025-03-09 03:12:00.000    SDO ...    FULLDISK 4.01562\n",
       "2025-03-09 03:15:00.000 2025-03-09 03:15:00.000    SDO ...    FULLDISK 4.01562\n",
       "2025-03-09 03:18:00.000 2025-03-09 03:18:00.000    SDO ...    FULLDISK 4.01562\n",
       "2025-03-09 03:21:00.000 2025-03-09 03:21:00.000    SDO ...    FULLDISK 4.01562\n",
       "2025-03-09 03:24:00.000 2025-03-09 03:24:00.000    SDO ...    FULLDISK 4.01562\n",
       "2025-03-09 03:27:00.000 2025-03-09 03:27:00.000    SDO ...    FULLDISK 4.01562\n",
       "2025-03-09 03:30:00.000 2025-03-09 03:30:00.000    SDO ...    FULLDISK 4.01562\n",
       "2025-03-09 03:33:00.000 2025-03-09 03:33:00.000    SDO ...    FULLDISK 4.01562\n",
       "2025-03-09 03:36:00.000 2025-03-09 03:36:00.000    SDO ...    FULLDISK 4.01562\n",
       "2025-03-09 03:39:00.000 2025-03-09 03:39:00.000    SDO ...    FULLDISK 4.01562\n",
       "2025-03-09 03:42:00.000 2025-03-09 03:42:00.000    SDO ...    FULLDISK 4.01562\n"
      ]
     },
     "execution_count": null,
     "metadata": {},
     "output_type": "execute_result"
    }
   ],
   "source": [
    "result = Fido.search(tr, a.Instrument.aia, a.Wavelength(171*u.AA))\n",
    "result"
   ]
  },
  {
   "cell_type": "code",
   "execution_count": null,
   "metadata": {},
   "outputs": [
    {
     "data": {
      "application/vnd.jupyter.widget-view+json": {
       "model_id": "2d96350d719d4d119c84e0670a300339",
       "version_major": 2,
       "version_minor": 0
      },
      "text/plain": [
       "Files Downloaded:   0%|          | 0/1 [00:00<?, ?file/s]"
      ]
     },
     "metadata": {},
     "output_type": "display_data"
    },
    {
     "data": {
      "application/vnd.jupyter.widget-view+json": {
       "model_id": "5f6db7fdf7ab4aaab5d2f942650f47f2",
       "version_major": 2,
       "version_minor": 0
      },
      "text/plain": [
       "AIA20250309_034200_0171.fits:   0%|          | 0.00/1.24M [00:00<?, ?B/s]"
      ]
     },
     "metadata": {},
     "output_type": "display_data"
    },
    {
     "data": {
      "text/plain": [
       "<parfive.results.Results object>\n",
       "['/home/usr/sunpy/data/AIA20250309_034200_0171.fits']"
      ]
     },
     "execution_count": null,
     "metadata": {},
     "output_type": "execute_result"
    }
   ],
   "source": [
    "files = Fido.fetch(result[0][-1])\n",
    "files"
   ]
  },
  {
   "cell_type": "code",
   "execution_count": null,
   "metadata": {},
   "outputs": [],
   "source": [
    "smap = Map(files[0])"
   ]
  },
  {
   "cell_type": "code",
   "execution_count": null,
   "metadata": {},
   "outputs": [
    {
     "name": "stdout",
     "output_type": "stream",
     "text": [
      "Solar radius : 402.67 pix => 400.00 pix = 1 solar radii\n",
      "Resolution/2 : 512.00 pix => 512.00 pix = 1.28 solar radii\n"
     ]
    }
   ],
   "source": [
    "resolution = 1024\n",
    "padding_factor = 0.28\n",
    "\n",
    "s_map = smap\n",
    "\n",
    "r_obs_pix = s_map.rsun_obs / s_map.scale[0]\n",
    "print(f\"Solar radius : {r_obs_pix.value:.2f} pix => {(resolution / 2) / (1 + padding_factor):.2f} pix = 1 solar radii\")\n",
    "print(f\"Resolution/2 : {s_map.data.shape[0]/2:.2f} pix => {resolution/2:.2f} pix = {1+padding_factor:.2f} solar radii\")\n",
    "r_obs_pix = (1 + padding_factor) * r_obs_pix\n",
    "scale_factor = resolution / (2 * r_obs_pix.value)\n",
    "s_map = Map(np.nan_to_num(s_map.data).astype(np.float32), s_map.meta)\n",
    "s_map = s_map.rotate(recenter=True, scale=scale_factor, missing=0, order=4)\n",
    "\n",
    "arcs_frame = (resolution / 2) * s_map.scale[0].value  # half width in arcseconds\n",
    "# print(f\"Resolution/2 : {arcs_frame:.2f} arcsec\")\n",
    "s_map = s_map.submap(\n",
    "    bottom_left=SkyCoord(-arcs_frame*u.arcsec, -arcs_frame*u.arcsec, frame=s_map.coordinate_frame),\n",
    "    top_right=SkyCoord(arcs_frame*u.arcsec, arcs_frame*u.arcsec, frame=s_map.coordinate_frame)\n",
    ")\n",
    "pad_x = s_map.data.shape[0] - resolution\n",
    "pad_y = s_map.data.shape[1] - resolution\n",
    "s_map = s_map.submap(\n",
    "    bottom_left=[pad_x // 2, pad_y // 2] * u.pix,\n",
    "    top_right=[pad_x // 2 + resolution - 1, pad_y // 2 + resolution - 1] * u.pix\n",
    ")\n",
    "if s_map.data.shape[0] < resolution or s_map.data.shape[1] < resolution:\n",
    "    data = s_map.data\n",
    "    new_data = np.zeros((resolution, resolution))\n",
    "    padding_x = (resolution - data.shape[0]) // 2\n",
    "    padding_y = (resolution - data.shape[1]) // 2\n",
    "    new_data[padding_x:padding_x + data.shape[0], padding_y:padding_y + data.shape[1]] = data\n",
    "    s_map = Map(new_data, s_map.meta)"
   ]
  },
  {
   "cell_type": "code",
   "execution_count": null,
   "metadata": {},
   "outputs": [],
   "source": [
    "fig = plt.figure(figsize=(5.12, 5.12), frameon=False)\n",
    "ax = plt.axes([0, 0, 1, 1], projection=smap)\n",
    "smap.plot(axes=ax, clip_interval=(1, 99.9)*u.percent)\n",
    "ax.set_axis_off()\n",
    "ax.set_title('')\n",
    "fig.savefig('171.png', dpi=200)\n",
    "plt.close()"
   ]
  },
  {
   "cell_type": "code",
   "execution_count": null,
   "metadata": {},
   "outputs": [],
   "source": []
  }
 ],
 "metadata": {
  "kernelspec": {
   "display_name": "python3",
   "language": "python",
   "name": "python3"
  },
  "widgets": {
   "application/vnd.jupyter.widget-state+json": {
    "016cc0fec978406082d149ecc3f4dd6b": {
     "model_module": "@jupyter-widgets/controls",
     "model_module_version": "1.5.0",
     "model_name": "DescriptionStyleModel",
     "state": {
      "_model_module": "@jupyter-widgets/controls",
      "_model_module_version": "1.5.0",
      "_model_name": "DescriptionStyleModel",
      "_view_count": null,
      "_view_module": "@jupyter-widgets/base",
      "_view_module_version": "1.2.0",
      "_view_name": "StyleView",
      "description_width": ""
     }
    },
    "16e4e49b22b74941be9d1999d906ddfd": {
     "model_module": "@jupyter-widgets/controls",
     "model_module_version": "1.5.0",
     "model_name": "HTMLModel",
     "state": {
      "_dom_classes": [],
      "_model_module": "@jupyter-widgets/controls",
      "_model_module_version": "1.5.0",
      "_model_name": "HTMLModel",
      "_view_count": null,
      "_view_module": "@jupyter-widgets/controls",
      "_view_module_version": "1.5.0",
      "_view_name": "HTMLView",
      "description": "",
      "description_tooltip": null,
      "layout": "IPY_MODEL_7d8bf741eb424977a9eb751583e03be5",
      "placeholder": "​",
      "style": "IPY_MODEL_ffe502d306d34e5baa8ea301140963e0",
      "value": " 12.5M/15.7M [00:01&lt;00:00, 20.4MB/s]"
     }
    },
    "185b0e8d408c4c51bc31345f33ffee8e": {
     "model_module": "@jupyter-widgets/base",
     "model_module_version": "1.2.0",
     "model_name": "LayoutModel",
     "state": {
      "_model_module": "@jupyter-widgets/base",
      "_model_module_version": "1.2.0",
      "_model_name": "LayoutModel",
      "_view_count": null,
      "_view_module": "@jupyter-widgets/base",
      "_view_module_version": "1.2.0",
      "_view_name": "LayoutView",
      "align_content": null,
      "align_items": null,
      "align_self": null,
      "border": null,
      "bottom": null,
      "display": null,
      "flex": null,
      "flex_flow": null,
      "grid_area": null,
      "grid_auto_columns": null,
      "grid_auto_flow": null,
      "grid_auto_rows": null,
      "grid_column": null,
      "grid_gap": null,
      "grid_row": null,
      "grid_template_areas": null,
      "grid_template_columns": null,
      "grid_template_rows": null,
      "height": null,
      "justify_content": null,
      "justify_items": null,
      "left": null,
      "margin": null,
      "max_height": null,
      "max_width": null,
      "min_height": null,
      "min_width": null,
      "object_fit": null,
      "object_position": null,
      "order": null,
      "overflow": null,
      "overflow_x": null,
      "overflow_y": null,
      "padding": null,
      "right": null,
      "top": null,
      "visibility": null,
      "width": null
     }
    },
    "1dbb37f0709c4fdeb4d48061cca7337e": {
     "model_module": "@jupyter-widgets/controls",
     "model_module_version": "1.5.0",
     "model_name": "HBoxModel",
     "state": {
      "_dom_classes": [],
      "_model_module": "@jupyter-widgets/controls",
      "_model_module_version": "1.5.0",
      "_model_name": "HBoxModel",
      "_view_count": null,
      "_view_module": "@jupyter-widgets/controls",
      "_view_module_version": "1.5.0",
      "_view_name": "HBoxView",
      "box_style": "",
      "children": [
       "IPY_MODEL_efa0610ea0cd4601a5e6de3f663cac9f",
       "IPY_MODEL_8af0ea2837724254b8e2b638043814b2",
       "IPY_MODEL_3b89c5f860a2490793fd88f9a87caaa0"
      ],
      "layout": "IPY_MODEL_280555fe8f764cba91066a2587cf2fa5"
     }
    },
    "1eda531bb9fa481f944c228e69232790": {
     "model_module": "@jupyter-widgets/base",
     "model_module_version": "1.2.0",
     "model_name": "LayoutModel",
     "state": {
      "_model_module": "@jupyter-widgets/base",
      "_model_module_version": "1.2.0",
      "_model_name": "LayoutModel",
      "_view_count": null,
      "_view_module": "@jupyter-widgets/base",
      "_view_module_version": "1.2.0",
      "_view_name": "LayoutView",
      "align_content": null,
      "align_items": null,
      "align_self": null,
      "border": null,
      "bottom": null,
      "display": null,
      "flex": null,
      "flex_flow": null,
      "grid_area": null,
      "grid_auto_columns": null,
      "grid_auto_flow": null,
      "grid_auto_rows": null,
      "grid_column": null,
      "grid_gap": null,
      "grid_row": null,
      "grid_template_areas": null,
      "grid_template_columns": null,
      "grid_template_rows": null,
      "height": null,
      "justify_content": null,
      "justify_items": null,
      "left": null,
      "margin": null,
      "max_height": null,
      "max_width": null,
      "min_height": null,
      "min_width": null,
      "object_fit": null,
      "object_position": null,
      "order": null,
      "overflow": null,
      "overflow_x": null,
      "overflow_y": null,
      "padding": null,
      "right": null,
      "top": null,
      "visibility": null,
      "width": null
     }
    },
    "2723d073e4be49d99e86729a583cd68b": {
     "model_module": "@jupyter-widgets/controls",
     "model_module_version": "1.5.0",
     "model_name": "HBoxModel",
     "state": {
      "_dom_classes": [],
      "_model_module": "@jupyter-widgets/controls",
      "_model_module_version": "1.5.0",
      "_model_name": "HBoxModel",
      "_view_count": null,
      "_view_module": "@jupyter-widgets/controls",
      "_view_module_version": "1.5.0",
      "_view_name": "HBoxView",
      "box_style": "",
      "children": [
       "IPY_MODEL_90fa4345f6d34109bf169f2a049c20ad",
       "IPY_MODEL_3cc694b46b58486ba50c5a03467e848a",
       "IPY_MODEL_16e4e49b22b74941be9d1999d906ddfd"
      ],
      "layout": "IPY_MODEL_bf693512cf8a4566892f00606ed65fc1"
     }
    },
    "280555fe8f764cba91066a2587cf2fa5": {
     "model_module": "@jupyter-widgets/base",
     "model_module_version": "1.2.0",
     "model_name": "LayoutModel",
     "state": {
      "_model_module": "@jupyter-widgets/base",
      "_model_module_version": "1.2.0",
      "_model_name": "LayoutModel",
      "_view_count": null,
      "_view_module": "@jupyter-widgets/base",
      "_view_module_version": "1.2.0",
      "_view_name": "LayoutView",
      "align_content": null,
      "align_items": null,
      "align_self": null,
      "border": null,
      "bottom": null,
      "display": null,
      "flex": null,
      "flex_flow": null,
      "grid_area": null,
      "grid_auto_columns": null,
      "grid_auto_flow": null,
      "grid_auto_rows": null,
      "grid_column": null,
      "grid_gap": null,
      "grid_row": null,
      "grid_template_areas": null,
      "grid_template_columns": null,
      "grid_template_rows": null,
      "height": null,
      "justify_content": null,
      "justify_items": null,
      "left": null,
      "margin": null,
      "max_height": null,
      "max_width": null,
      "min_height": null,
      "min_width": null,
      "object_fit": null,
      "object_position": null,
      "order": null,
      "overflow": null,
      "overflow_x": null,
      "overflow_y": null,
      "padding": null,
      "right": null,
      "top": null,
      "visibility": "hidden",
      "width": null
     }
    },
    "28345210eaf544c7bf129e6c2fb32f38": {
     "model_module": "@jupyter-widgets/controls",
     "model_module_version": "1.5.0",
     "model_name": "HTMLModel",
     "state": {
      "_dom_classes": [],
      "_model_module": "@jupyter-widgets/controls",
      "_model_module_version": "1.5.0",
      "_model_name": "HTMLModel",
      "_view_count": null,
      "_view_module": "@jupyter-widgets/controls",
      "_view_module_version": "1.5.0",
      "_view_name": "HTMLView",
      "description": "",
      "description_tooltip": null,
      "layout": "IPY_MODEL_7ed93421164949f1890f2c482b0972a0",
      "placeholder": "​",
      "style": "IPY_MODEL_f447b82381bc4b3094b17f5ce9f45c11",
      "value": " 1/1 [00:00&lt;00:00,  2.96file/s]"
     }
    },
    "2b001b32bba641a190e2b2e3bda98bd2": {
     "model_module": "@jupyter-widgets/controls",
     "model_module_version": "1.5.0",
     "model_name": "DescriptionStyleModel",
     "state": {
      "_model_module": "@jupyter-widgets/controls",
      "_model_module_version": "1.5.0",
      "_model_name": "DescriptionStyleModel",
      "_view_count": null,
      "_view_module": "@jupyter-widgets/base",
      "_view_module_version": "1.2.0",
      "_view_name": "StyleView",
      "description_width": ""
     }
    },
    "30f440c85b1f48da807371a3640e54e7": {
     "model_module": "@jupyter-widgets/controls",
     "model_module_version": "1.5.0",
     "model_name": "ProgressStyleModel",
     "state": {
      "_model_module": "@jupyter-widgets/controls",
      "_model_module_version": "1.5.0",
      "_model_name": "ProgressStyleModel",
      "_view_count": null,
      "_view_module": "@jupyter-widgets/base",
      "_view_module_version": "1.2.0",
      "_view_name": "StyleView",
      "bar_color": null,
      "description_width": ""
     }
    },
    "3588b3c01fe842fdb6962559cbbe4c78": {
     "model_module": "@jupyter-widgets/base",
     "model_module_version": "1.2.0",
     "model_name": "LayoutModel",
     "state": {
      "_model_module": "@jupyter-widgets/base",
      "_model_module_version": "1.2.0",
      "_model_name": "LayoutModel",
      "_view_count": null,
      "_view_module": "@jupyter-widgets/base",
      "_view_module_version": "1.2.0",
      "_view_name": "LayoutView",
      "align_content": null,
      "align_items": null,
      "align_self": null,
      "border": null,
      "bottom": null,
      "display": null,
      "flex": null,
      "flex_flow": null,
      "grid_area": null,
      "grid_auto_columns": null,
      "grid_auto_flow": null,
      "grid_auto_rows": null,
      "grid_column": null,
      "grid_gap": null,
      "grid_row": null,
      "grid_template_areas": null,
      "grid_template_columns": null,
      "grid_template_rows": null,
      "height": null,
      "justify_content": null,
      "justify_items": null,
      "left": null,
      "margin": null,
      "max_height": null,
      "max_width": null,
      "min_height": null,
      "min_width": null,
      "object_fit": null,
      "object_position": null,
      "order": null,
      "overflow": null,
      "overflow_x": null,
      "overflow_y": null,
      "padding": null,
      "right": null,
      "top": null,
      "visibility": null,
      "width": null
     }
    },
    "39637567c41f4fa188ef0a7cd84d9912": {
     "model_module": "@jupyter-widgets/controls",
     "model_module_version": "1.5.0",
     "model_name": "ProgressStyleModel",
     "state": {
      "_model_module": "@jupyter-widgets/controls",
      "_model_module_version": "1.5.0",
      "_model_name": "ProgressStyleModel",
      "_view_count": null,
      "_view_module": "@jupyter-widgets/base",
      "_view_module_version": "1.2.0",
      "_view_name": "StyleView",
      "bar_color": null,
      "description_width": ""
     }
    },
    "3b89c5f860a2490793fd88f9a87caaa0": {
     "model_module": "@jupyter-widgets/controls",
     "model_module_version": "1.5.0",
     "model_name": "HTMLModel",
     "state": {
      "_dom_classes": [],
      "_model_module": "@jupyter-widgets/controls",
      "_model_module_version": "1.5.0",
      "_model_name": "HTMLModel",
      "_view_count": null,
      "_view_module": "@jupyter-widgets/controls",
      "_view_module_version": "1.5.0",
      "_view_name": "HTMLView",
      "description": "",
      "description_tooltip": null,
      "layout": "IPY_MODEL_a8d18a83cbe04e03926dbff949d81011",
      "placeholder": "​",
      "style": "IPY_MODEL_59667e11174349b18a98eeae8c1694dc",
      "value": " 104k/1.24M [00:00&lt;00:01, 1.04MB/s]"
     }
    },
    "3cc694b46b58486ba50c5a03467e848a": {
     "model_module": "@jupyter-widgets/controls",
     "model_module_version": "1.5.0",
     "model_name": "FloatProgressModel",
     "state": {
      "_dom_classes": [],
      "_model_module": "@jupyter-widgets/controls",
      "_model_module_version": "1.5.0",
      "_model_name": "FloatProgressModel",
      "_view_count": null,
      "_view_module": "@jupyter-widgets/controls",
      "_view_module_version": "1.5.0",
      "_view_name": "ProgressView",
      "bar_style": "",
      "description": "",
      "description_tooltip": null,
      "layout": "IPY_MODEL_3588b3c01fe842fdb6962559cbbe4c78",
      "max": 15724800,
      "min": 0,
      "orientation": "horizontal",
      "style": "IPY_MODEL_fd36f2af175f4a028c298d70b2288354",
      "value": 15724800
     }
    },
    "451b0271defd472491a97105b5b6e38b": {
     "model_module": "@jupyter-widgets/controls",
     "model_module_version": "1.5.0",
     "model_name": "HBoxModel",
     "state": {
      "_dom_classes": [],
      "_model_module": "@jupyter-widgets/controls",
      "_model_module_version": "1.5.0",
      "_model_name": "HBoxModel",
      "_view_count": null,
      "_view_module": "@jupyter-widgets/controls",
      "_view_module_version": "1.5.0",
      "_view_name": "HBoxView",
      "box_style": "",
      "children": [
       "IPY_MODEL_befbb24732874bf6b4fda7b97a74ec1d",
       "IPY_MODEL_a3e73e1ffe4248abbcd4df5a0497a98f",
       "IPY_MODEL_9a0d8f623f1649718d2eabfa562fb650"
      ],
      "layout": "IPY_MODEL_7b63de34cbb6433ebff594321c89d6a4"
     }
    },
    "4579e6b0411d4297a6dfbe1471bd8371": {
     "model_module": "@jupyter-widgets/base",
     "model_module_version": "1.2.0",
     "model_name": "LayoutModel",
     "state": {
      "_model_module": "@jupyter-widgets/base",
      "_model_module_version": "1.2.0",
      "_model_name": "LayoutModel",
      "_view_count": null,
      "_view_module": "@jupyter-widgets/base",
      "_view_module_version": "1.2.0",
      "_view_name": "LayoutView",
      "align_content": null,
      "align_items": null,
      "align_self": null,
      "border": null,
      "bottom": null,
      "display": null,
      "flex": null,
      "flex_flow": null,
      "grid_area": null,
      "grid_auto_columns": null,
      "grid_auto_flow": null,
      "grid_auto_rows": null,
      "grid_column": null,
      "grid_gap": null,
      "grid_row": null,
      "grid_template_areas": null,
      "grid_template_columns": null,
      "grid_template_rows": null,
      "height": null,
      "justify_content": null,
      "justify_items": null,
      "left": null,
      "margin": null,
      "max_height": null,
      "max_width": null,
      "min_height": null,
      "min_width": null,
      "object_fit": null,
      "object_position": null,
      "order": null,
      "overflow": null,
      "overflow_x": null,
      "overflow_y": null,
      "padding": null,
      "right": null,
      "top": null,
      "visibility": null,
      "width": null
     }
    },
    "47c265f9850d4b8bb60bec2e53df5661": {
     "model_module": "@jupyter-widgets/controls",
     "model_module_version": "1.5.0",
     "model_name": "ProgressStyleModel",
     "state": {
      "_model_module": "@jupyter-widgets/controls",
      "_model_module_version": "1.5.0",
      "_model_name": "ProgressStyleModel",
      "_view_count": null,
      "_view_module": "@jupyter-widgets/base",
      "_view_module_version": "1.2.0",
      "_view_name": "StyleView",
      "bar_color": null,
      "description_width": ""
     }
    },
    "4ebeac396eb24d9fa404002bc558e51a": {
     "model_module": "@jupyter-widgets/base",
     "model_module_version": "1.2.0",
     "model_name": "LayoutModel",
     "state": {
      "_model_module": "@jupyter-widgets/base",
      "_model_module_version": "1.2.0",
      "_model_name": "LayoutModel",
      "_view_count": null,
      "_view_module": "@jupyter-widgets/base",
      "_view_module_version": "1.2.0",
      "_view_name": "LayoutView",
      "align_content": null,
      "align_items": null,
      "align_self": null,
      "border": null,
      "bottom": null,
      "display": null,
      "flex": null,
      "flex_flow": null,
      "grid_area": null,
      "grid_auto_columns": null,
      "grid_auto_flow": null,
      "grid_auto_rows": null,
      "grid_column": null,
      "grid_gap": null,
      "grid_row": null,
      "grid_template_areas": null,
      "grid_template_columns": null,
      "grid_template_rows": null,
      "height": null,
      "justify_content": null,
      "justify_items": null,
      "left": null,
      "margin": null,
      "max_height": null,
      "max_width": null,
      "min_height": null,
      "min_width": null,
      "object_fit": null,
      "object_position": null,
      "order": null,
      "overflow": null,
      "overflow_x": null,
      "overflow_y": null,
      "padding": null,
      "right": null,
      "top": null,
      "visibility": null,
      "width": null
     }
    },
    "531f9a971bd74a30b94d01ea54ed7956": {
     "model_module": "@jupyter-widgets/base",
     "model_module_version": "1.2.0",
     "model_name": "LayoutModel",
     "state": {
      "_model_module": "@jupyter-widgets/base",
      "_model_module_version": "1.2.0",
      "_model_name": "LayoutModel",
      "_view_count": null,
      "_view_module": "@jupyter-widgets/base",
      "_view_module_version": "1.2.0",
      "_view_name": "LayoutView",
      "align_content": null,
      "align_items": null,
      "align_self": null,
      "border": null,
      "bottom": null,
      "display": null,
      "flex": null,
      "flex_flow": null,
      "grid_area": null,
      "grid_auto_columns": null,
      "grid_auto_flow": null,
      "grid_auto_rows": null,
      "grid_column": null,
      "grid_gap": null,
      "grid_row": null,
      "grid_template_areas": null,
      "grid_template_columns": null,
      "grid_template_rows": null,
      "height": null,
      "justify_content": null,
      "justify_items": null,
      "left": null,
      "margin": null,
      "max_height": null,
      "max_width": null,
      "min_height": null,
      "min_width": null,
      "object_fit": null,
      "object_position": null,
      "order": null,
      "overflow": null,
      "overflow_x": null,
      "overflow_y": null,
      "padding": null,
      "right": null,
      "top": null,
      "visibility": null,
      "width": null
     }
    },
    "55195501d8be4c5b9f4ce42b3f2331ae": {
     "model_module": "@jupyter-widgets/controls",
     "model_module_version": "1.5.0",
     "model_name": "FloatProgressModel",
     "state": {
      "_dom_classes": [],
      "_model_module": "@jupyter-widgets/controls",
      "_model_module_version": "1.5.0",
      "_model_name": "FloatProgressModel",
      "_view_count": null,
      "_view_module": "@jupyter-widgets/controls",
      "_view_module_version": "1.5.0",
      "_view_name": "ProgressView",
      "bar_style": "success",
      "description": "",
      "description_tooltip": null,
      "layout": "IPY_MODEL_4579e6b0411d4297a6dfbe1471bd8371",
      "max": 3,
      "min": 0,
      "orientation": "horizontal",
      "style": "IPY_MODEL_47c265f9850d4b8bb60bec2e53df5661",
      "value": 3
     }
    },
    "59667e11174349b18a98eeae8c1694dc": {
     "model_module": "@jupyter-widgets/controls",
     "model_module_version": "1.5.0",
     "model_name": "DescriptionStyleModel",
     "state": {
      "_model_module": "@jupyter-widgets/controls",
      "_model_module_version": "1.5.0",
      "_model_name": "DescriptionStyleModel",
      "_view_count": null,
      "_view_module": "@jupyter-widgets/base",
      "_view_module_version": "1.2.0",
      "_view_name": "StyleView",
      "description_width": ""
     }
    },
    "67b9e2d0713146b282f63083a3b6203c": {
     "model_module": "@jupyter-widgets/base",
     "model_module_version": "1.2.0",
     "model_name": "LayoutModel",
     "state": {
      "_model_module": "@jupyter-widgets/base",
      "_model_module_version": "1.2.0",
      "_model_name": "LayoutModel",
      "_view_count": null,
      "_view_module": "@jupyter-widgets/base",
      "_view_module_version": "1.2.0",
      "_view_name": "LayoutView",
      "align_content": null,
      "align_items": null,
      "align_self": null,
      "border": null,
      "bottom": null,
      "display": null,
      "flex": null,
      "flex_flow": null,
      "grid_area": null,
      "grid_auto_columns": null,
      "grid_auto_flow": null,
      "grid_auto_rows": null,
      "grid_column": null,
      "grid_gap": null,
      "grid_row": null,
      "grid_template_areas": null,
      "grid_template_columns": null,
      "grid_template_rows": null,
      "height": null,
      "justify_content": null,
      "justify_items": null,
      "left": null,
      "margin": null,
      "max_height": null,
      "max_width": null,
      "min_height": null,
      "min_width": null,
      "object_fit": null,
      "object_position": null,
      "order": null,
      "overflow": null,
      "overflow_x": null,
      "overflow_y": null,
      "padding": null,
      "right": null,
      "top": null,
      "visibility": null,
      "width": null
     }
    },
    "691f41097396480bb90baff6bc7e7e51": {
     "model_module": "@jupyter-widgets/controls",
     "model_module_version": "1.5.0",
     "model_name": "HBoxModel",
     "state": {
      "_dom_classes": [],
      "_model_module": "@jupyter-widgets/controls",
      "_model_module_version": "1.5.0",
      "_model_name": "HBoxModel",
      "_view_count": null,
      "_view_module": "@jupyter-widgets/controls",
      "_view_module_version": "1.5.0",
      "_view_name": "HBoxView",
      "box_style": "",
      "children": [
       "IPY_MODEL_bef0ffcc6b974337aa1e295ecacda0b0",
       "IPY_MODEL_ec394f4024c94236ab9644dbb9e40487",
       "IPY_MODEL_9d7994b7ff8b4c7eaeb5f35a71dc6f3f"
      ],
      "layout": "IPY_MODEL_d4f569e0019a48fcade20fac63b41636"
     }
    },
    "6ea951676a694be9aac7daae219a9515": {
     "model_module": "@jupyter-widgets/controls",
     "model_module_version": "1.5.0",
     "model_name": "DescriptionStyleModel",
     "state": {
      "_model_module": "@jupyter-widgets/controls",
      "_model_module_version": "1.5.0",
      "_model_name": "DescriptionStyleModel",
      "_view_count": null,
      "_view_module": "@jupyter-widgets/base",
      "_view_module_version": "1.2.0",
      "_view_name": "StyleView",
      "description_width": ""
     }
    },
    "724ff83a58c443af9757a6739f15fadb": {
     "model_module": "@jupyter-widgets/controls",
     "model_module_version": "1.5.0",
     "model_name": "DescriptionStyleModel",
     "state": {
      "_model_module": "@jupyter-widgets/controls",
      "_model_module_version": "1.5.0",
      "_model_name": "DescriptionStyleModel",
      "_view_count": null,
      "_view_module": "@jupyter-widgets/base",
      "_view_module_version": "1.2.0",
      "_view_name": "StyleView",
      "description_width": ""
     }
    },
    "7b63de34cbb6433ebff594321c89d6a4": {
     "model_module": "@jupyter-widgets/base",
     "model_module_version": "1.2.0",
     "model_name": "LayoutModel",
     "state": {
      "_model_module": "@jupyter-widgets/base",
      "_model_module_version": "1.2.0",
      "_model_name": "LayoutModel",
      "_view_count": null,
      "_view_module": "@jupyter-widgets/base",
      "_view_module_version": "1.2.0",
      "_view_name": "LayoutView",
      "align_content": null,
      "align_items": null,
      "align_self": null,
      "border": null,
      "bottom": null,
      "display": null,
      "flex": null,
      "flex_flow": null,
      "grid_area": null,
      "grid_auto_columns": null,
      "grid_auto_flow": null,
      "grid_auto_rows": null,
      "grid_column": null,
      "grid_gap": null,
      "grid_row": null,
      "grid_template_areas": null,
      "grid_template_columns": null,
      "grid_template_rows": null,
      "height": null,
      "justify_content": null,
      "justify_items": null,
      "left": null,
      "margin": null,
      "max_height": null,
      "max_width": null,
      "min_height": null,
      "min_width": null,
      "object_fit": null,
      "object_position": null,
      "order": null,
      "overflow": null,
      "overflow_x": null,
      "overflow_y": null,
      "padding": null,
      "right": null,
      "top": null,
      "visibility": "hidden",
      "width": null
     }
    },
    "7d8bf741eb424977a9eb751583e03be5": {
     "model_module": "@jupyter-widgets/base",
     "model_module_version": "1.2.0",
     "model_name": "LayoutModel",
     "state": {
      "_model_module": "@jupyter-widgets/base",
      "_model_module_version": "1.2.0",
      "_model_name": "LayoutModel",
      "_view_count": null,
      "_view_module": "@jupyter-widgets/base",
      "_view_module_version": "1.2.0",
      "_view_name": "LayoutView",
      "align_content": null,
      "align_items": null,
      "align_self": null,
      "border": null,
      "bottom": null,
      "display": null,
      "flex": null,
      "flex_flow": null,
      "grid_area": null,
      "grid_auto_columns": null,
      "grid_auto_flow": null,
      "grid_auto_rows": null,
      "grid_column": null,
      "grid_gap": null,
      "grid_row": null,
      "grid_template_areas": null,
      "grid_template_columns": null,
      "grid_template_rows": null,
      "height": null,
      "justify_content": null,
      "justify_items": null,
      "left": null,
      "margin": null,
      "max_height": null,
      "max_width": null,
      "min_height": null,
      "min_width": null,
      "object_fit": null,
      "object_position": null,
      "order": null,
      "overflow": null,
      "overflow_x": null,
      "overflow_y": null,
      "padding": null,
      "right": null,
      "top": null,
      "visibility": null,
      "width": null
     }
    },
    "7d91faffdaee498bbbcc1544a56c60b5": {
     "model_module": "@jupyter-widgets/base",
     "model_module_version": "1.2.0",
     "model_name": "LayoutModel",
     "state": {
      "_model_module": "@jupyter-widgets/base",
      "_model_module_version": "1.2.0",
      "_model_name": "LayoutModel",
      "_view_count": null,
      "_view_module": "@jupyter-widgets/base",
      "_view_module_version": "1.2.0",
      "_view_name": "LayoutView",
      "align_content": null,
      "align_items": null,
      "align_self": null,
      "border": null,
      "bottom": null,
      "display": null,
      "flex": null,
      "flex_flow": null,
      "grid_area": null,
      "grid_auto_columns": null,
      "grid_auto_flow": null,
      "grid_auto_rows": null,
      "grid_column": null,
      "grid_gap": null,
      "grid_row": null,
      "grid_template_areas": null,
      "grid_template_columns": null,
      "grid_template_rows": null,
      "height": null,
      "justify_content": null,
      "justify_items": null,
      "left": null,
      "margin": null,
      "max_height": null,
      "max_width": null,
      "min_height": null,
      "min_width": null,
      "object_fit": null,
      "object_position": null,
      "order": null,
      "overflow": null,
      "overflow_x": null,
      "overflow_y": null,
      "padding": null,
      "right": null,
      "top": null,
      "visibility": null,
      "width": null
     }
    },
    "7df9718c0f964af79c118ffdc2d8c94a": {
     "model_module": "@jupyter-widgets/controls",
     "model_module_version": "1.5.0",
     "model_name": "HBoxModel",
     "state": {
      "_dom_classes": [],
      "_model_module": "@jupyter-widgets/controls",
      "_model_module_version": "1.5.0",
      "_model_name": "HBoxModel",
      "_view_count": null,
      "_view_module": "@jupyter-widgets/controls",
      "_view_module_version": "1.5.0",
      "_view_name": "HBoxView",
      "box_style": "",
      "children": [
       "IPY_MODEL_afc031abd6094b40b26149234a1398c7",
       "IPY_MODEL_55195501d8be4c5b9f4ce42b3f2331ae",
       "IPY_MODEL_87281afe8b5748d999219dd3ed5f45ee"
      ],
      "layout": "IPY_MODEL_a7955690c77f4f1b919321236e5637d6"
     }
    },
    "7ed93421164949f1890f2c482b0972a0": {
     "model_module": "@jupyter-widgets/base",
     "model_module_version": "1.2.0",
     "model_name": "LayoutModel",
     "state": {
      "_model_module": "@jupyter-widgets/base",
      "_model_module_version": "1.2.0",
      "_model_name": "LayoutModel",
      "_view_count": null,
      "_view_module": "@jupyter-widgets/base",
      "_view_module_version": "1.2.0",
      "_view_name": "LayoutView",
      "align_content": null,
      "align_items": null,
      "align_self": null,
      "border": null,
      "bottom": null,
      "display": null,
      "flex": null,
      "flex_flow": null,
      "grid_area": null,
      "grid_auto_columns": null,
      "grid_auto_flow": null,
      "grid_auto_rows": null,
      "grid_column": null,
      "grid_gap": null,
      "grid_row": null,
      "grid_template_areas": null,
      "grid_template_columns": null,
      "grid_template_rows": null,
      "height": null,
      "justify_content": null,
      "justify_items": null,
      "left": null,
      "margin": null,
      "max_height": null,
      "max_width": null,
      "min_height": null,
      "min_width": null,
      "object_fit": null,
      "object_position": null,
      "order": null,
      "overflow": null,
      "overflow_x": null,
      "overflow_y": null,
      "padding": null,
      "right": null,
      "top": null,
      "visibility": null,
      "width": null
     }
    },
    "86a61d475b444f0da81999dd57fcd1a1": {
     "model_module": "@jupyter-widgets/base",
     "model_module_version": "1.2.0",
     "model_name": "LayoutModel",
     "state": {
      "_model_module": "@jupyter-widgets/base",
      "_model_module_version": "1.2.0",
      "_model_name": "LayoutModel",
      "_view_count": null,
      "_view_module": "@jupyter-widgets/base",
      "_view_module_version": "1.2.0",
      "_view_name": "LayoutView",
      "align_content": null,
      "align_items": null,
      "align_self": null,
      "border": null,
      "bottom": null,
      "display": null,
      "flex": null,
      "flex_flow": null,
      "grid_area": null,
      "grid_auto_columns": null,
      "grid_auto_flow": null,
      "grid_auto_rows": null,
      "grid_column": null,
      "grid_gap": null,
      "grid_row": null,
      "grid_template_areas": null,
      "grid_template_columns": null,
      "grid_template_rows": null,
      "height": null,
      "justify_content": null,
      "justify_items": null,
      "left": null,
      "margin": null,
      "max_height": null,
      "max_width": null,
      "min_height": null,
      "min_width": null,
      "object_fit": null,
      "object_position": null,
      "order": null,
      "overflow": null,
      "overflow_x": null,
      "overflow_y": null,
      "padding": null,
      "right": null,
      "top": null,
      "visibility": null,
      "width": null
     }
    },
    "86d8ecc4d2dc4bac89d07566d0ba24f5": {
     "model_module": "@jupyter-widgets/base",
     "model_module_version": "1.2.0",
     "model_name": "LayoutModel",
     "state": {
      "_model_module": "@jupyter-widgets/base",
      "_model_module_version": "1.2.0",
      "_model_name": "LayoutModel",
      "_view_count": null,
      "_view_module": "@jupyter-widgets/base",
      "_view_module_version": "1.2.0",
      "_view_name": "LayoutView",
      "align_content": null,
      "align_items": null,
      "align_self": null,
      "border": null,
      "bottom": null,
      "display": null,
      "flex": null,
      "flex_flow": null,
      "grid_area": null,
      "grid_auto_columns": null,
      "grid_auto_flow": null,
      "grid_auto_rows": null,
      "grid_column": null,
      "grid_gap": null,
      "grid_row": null,
      "grid_template_areas": null,
      "grid_template_columns": null,
      "grid_template_rows": null,
      "height": null,
      "justify_content": null,
      "justify_items": null,
      "left": null,
      "margin": null,
      "max_height": null,
      "max_width": null,
      "min_height": null,
      "min_width": null,
      "object_fit": null,
      "object_position": null,
      "order": null,
      "overflow": null,
      "overflow_x": null,
      "overflow_y": null,
      "padding": null,
      "right": null,
      "top": null,
      "visibility": null,
      "width": null
     }
    },
    "87281afe8b5748d999219dd3ed5f45ee": {
     "model_module": "@jupyter-widgets/controls",
     "model_module_version": "1.5.0",
     "model_name": "HTMLModel",
     "state": {
      "_dom_classes": [],
      "_model_module": "@jupyter-widgets/controls",
      "_model_module_version": "1.5.0",
      "_model_name": "HTMLModel",
      "_view_count": null,
      "_view_module": "@jupyter-widgets/controls",
      "_view_module_version": "1.5.0",
      "_view_name": "HTMLView",
      "description": "",
      "description_tooltip": null,
      "layout": "IPY_MODEL_bd62c2e2dd6141ae84a04963f1cdf9e6",
      "placeholder": "​",
      "style": "IPY_MODEL_f4646fad849144bd9b300ff71a8d3ff9",
      "value": " 3/3 [00:09&lt;00:00,  2.12s/file]"
     }
    },
    "8af0ea2837724254b8e2b638043814b2": {
     "model_module": "@jupyter-widgets/controls",
     "model_module_version": "1.5.0",
     "model_name": "FloatProgressModel",
     "state": {
      "_dom_classes": [],
      "_model_module": "@jupyter-widgets/controls",
      "_model_module_version": "1.5.0",
      "_model_name": "FloatProgressModel",
      "_view_count": null,
      "_view_module": "@jupyter-widgets/controls",
      "_view_module_version": "1.5.0",
      "_view_name": "ProgressView",
      "bar_style": "",
      "description": "",
      "description_tooltip": null,
      "layout": "IPY_MODEL_aefedb2c7a284ec6b04a3f7ee18212a5",
      "max": 1244160,
      "min": 0,
      "orientation": "horizontal",
      "style": "IPY_MODEL_ddd651a4f0464992965d8dd1f31c75ca",
      "value": 1244160
     }
    },
    "90bb5ff1fcc54a53ac789af2f26e8483": {
     "model_module": "@jupyter-widgets/base",
     "model_module_version": "1.2.0",
     "model_name": "LayoutModel",
     "state": {
      "_model_module": "@jupyter-widgets/base",
      "_model_module_version": "1.2.0",
      "_model_name": "LayoutModel",
      "_view_count": null,
      "_view_module": "@jupyter-widgets/base",
      "_view_module_version": "1.2.0",
      "_view_name": "LayoutView",
      "align_content": null,
      "align_items": null,
      "align_self": null,
      "border": null,
      "bottom": null,
      "display": null,
      "flex": null,
      "flex_flow": null,
      "grid_area": null,
      "grid_auto_columns": null,
      "grid_auto_flow": null,
      "grid_auto_rows": null,
      "grid_column": null,
      "grid_gap": null,
      "grid_row": null,
      "grid_template_areas": null,
      "grid_template_columns": null,
      "grid_template_rows": null,
      "height": null,
      "justify_content": null,
      "justify_items": null,
      "left": null,
      "margin": null,
      "max_height": null,
      "max_width": null,
      "min_height": null,
      "min_width": null,
      "object_fit": null,
      "object_position": null,
      "order": null,
      "overflow": null,
      "overflow_x": null,
      "overflow_y": null,
      "padding": null,
      "right": null,
      "top": null,
      "visibility": null,
      "width": null
     }
    },
    "90fa4345f6d34109bf169f2a049c20ad": {
     "model_module": "@jupyter-widgets/controls",
     "model_module_version": "1.5.0",
     "model_name": "HTMLModel",
     "state": {
      "_dom_classes": [],
      "_model_module": "@jupyter-widgets/controls",
      "_model_module_version": "1.5.0",
      "_model_name": "HTMLModel",
      "_view_count": null,
      "_view_module": "@jupyter-widgets/controls",
      "_view_module_version": "1.5.0",
      "_view_name": "HTMLView",
      "description": "",
      "description_tooltip": null,
      "layout": "IPY_MODEL_86a61d475b444f0da81999dd57fcd1a1",
      "placeholder": "​",
      "style": "IPY_MODEL_cceaf9d1accf45ac962f1f48bdc751ae",
      "value": "hmi.ic_45s.2023.10.20_00_01_30_TAI.continuum.fits:  80%"
     }
    },
    "91ba3a8b7e764ade9ce3597066a3d475": {
     "model_module": "@jupyter-widgets/controls",
     "model_module_version": "1.5.0",
     "model_name": "HTMLModel",
     "state": {
      "_dom_classes": [],
      "_model_module": "@jupyter-widgets/controls",
      "_model_module_version": "1.5.0",
      "_model_name": "HTMLModel",
      "_view_count": null,
      "_view_module": "@jupyter-widgets/controls",
      "_view_module_version": "1.5.0",
      "_view_name": "HTMLView",
      "description": "",
      "description_tooltip": null,
      "layout": "IPY_MODEL_67b9e2d0713146b282f63083a3b6203c",
      "placeholder": "​",
      "style": "IPY_MODEL_016cc0fec978406082d149ecc3f4dd6b",
      "value": "Files Downloaded: 100%"
     }
    },
    "9a0d8f623f1649718d2eabfa562fb650": {
     "model_module": "@jupyter-widgets/controls",
     "model_module_version": "1.5.0",
     "model_name": "HTMLModel",
     "state": {
      "_dom_classes": [],
      "_model_module": "@jupyter-widgets/controls",
      "_model_module_version": "1.5.0",
      "_model_name": "HTMLModel",
      "_view_count": null,
      "_view_module": "@jupyter-widgets/controls",
      "_view_module_version": "1.5.0",
      "_view_name": "HTMLView",
      "description": "",
      "description_tooltip": null,
      "layout": "IPY_MODEL_7d91faffdaee498bbbcc1544a56c60b5",
      "placeholder": "​",
      "style": "IPY_MODEL_2b001b32bba641a190e2b2e3bda98bd2",
      "value": " 16.7M/18.3M [00:01&lt;00:00, 28.6MB/s]"
     }
    },
    "9d7994b7ff8b4c7eaeb5f35a71dc6f3f": {
     "model_module": "@jupyter-widgets/controls",
     "model_module_version": "1.5.0",
     "model_name": "HTMLModel",
     "state": {
      "_dom_classes": [],
      "_model_module": "@jupyter-widgets/controls",
      "_model_module_version": "1.5.0",
      "_model_name": "HTMLModel",
      "_view_count": null,
      "_view_module": "@jupyter-widgets/controls",
      "_view_module_version": "1.5.0",
      "_view_name": "HTMLView",
      "description": "",
      "description_tooltip": null,
      "layout": "IPY_MODEL_185b0e8d408c4c51bc31345f33ffee8e",
      "placeholder": "​",
      "style": "IPY_MODEL_c456c18a31ec44b0a4067e5343397b76",
      "value": " 16.4M/16.6M [00:02&lt;00:00, 25.2MB/s]"
     }
    },
    "a06ae601ed974a5e893ae831af680269": {
     "model_module": "@jupyter-widgets/controls",
     "model_module_version": "1.5.0",
     "model_name": "HBoxModel",
     "state": {
      "_dom_classes": [],
      "_model_module": "@jupyter-widgets/controls",
      "_model_module_version": "1.5.0",
      "_model_name": "HBoxModel",
      "_view_count": null,
      "_view_module": "@jupyter-widgets/controls",
      "_view_module_version": "1.5.0",
      "_view_name": "HBoxView",
      "box_style": "",
      "children": [
       "IPY_MODEL_91ba3a8b7e764ade9ce3597066a3d475",
       "IPY_MODEL_b02a042924074e2385f9d2cef97ce059",
       "IPY_MODEL_28345210eaf544c7bf129e6c2fb32f38"
      ],
      "layout": "IPY_MODEL_1eda531bb9fa481f944c228e69232790"
     }
    },
    "a3e73e1ffe4248abbcd4df5a0497a98f": {
     "model_module": "@jupyter-widgets/controls",
     "model_module_version": "1.5.0",
     "model_name": "FloatProgressModel",
     "state": {
      "_dom_classes": [],
      "_model_module": "@jupyter-widgets/controls",
      "_model_module_version": "1.5.0",
      "_model_name": "FloatProgressModel",
      "_view_count": null,
      "_view_module": "@jupyter-widgets/controls",
      "_view_module_version": "1.5.0",
      "_view_name": "ProgressView",
      "bar_style": "",
      "description": "",
      "description_tooltip": null,
      "layout": "IPY_MODEL_4ebeac396eb24d9fa404002bc558e51a",
      "max": 18322560,
      "min": 0,
      "orientation": "horizontal",
      "style": "IPY_MODEL_b837ed54df8947a1aa5d4ad19e66d722",
      "value": 18322560
     }
    },
    "a7955690c77f4f1b919321236e5637d6": {
     "model_module": "@jupyter-widgets/base",
     "model_module_version": "1.2.0",
     "model_name": "LayoutModel",
     "state": {
      "_model_module": "@jupyter-widgets/base",
      "_model_module_version": "1.2.0",
      "_model_name": "LayoutModel",
      "_view_count": null,
      "_view_module": "@jupyter-widgets/base",
      "_view_module_version": "1.2.0",
      "_view_name": "LayoutView",
      "align_content": null,
      "align_items": null,
      "align_self": null,
      "border": null,
      "bottom": null,
      "display": null,
      "flex": null,
      "flex_flow": null,
      "grid_area": null,
      "grid_auto_columns": null,
      "grid_auto_flow": null,
      "grid_auto_rows": null,
      "grid_column": null,
      "grid_gap": null,
      "grid_row": null,
      "grid_template_areas": null,
      "grid_template_columns": null,
      "grid_template_rows": null,
      "height": null,
      "justify_content": null,
      "justify_items": null,
      "left": null,
      "margin": null,
      "max_height": null,
      "max_width": null,
      "min_height": null,
      "min_width": null,
      "object_fit": null,
      "object_position": null,
      "order": null,
      "overflow": null,
      "overflow_x": null,
      "overflow_y": null,
      "padding": null,
      "right": null,
      "top": null,
      "visibility": null,
      "width": null
     }
    },
    "a8d18a83cbe04e03926dbff949d81011": {
     "model_module": "@jupyter-widgets/base",
     "model_module_version": "1.2.0",
     "model_name": "LayoutModel",
     "state": {
      "_model_module": "@jupyter-widgets/base",
      "_model_module_version": "1.2.0",
      "_model_name": "LayoutModel",
      "_view_count": null,
      "_view_module": "@jupyter-widgets/base",
      "_view_module_version": "1.2.0",
      "_view_name": "LayoutView",
      "align_content": null,
      "align_items": null,
      "align_self": null,
      "border": null,
      "bottom": null,
      "display": null,
      "flex": null,
      "flex_flow": null,
      "grid_area": null,
      "grid_auto_columns": null,
      "grid_auto_flow": null,
      "grid_auto_rows": null,
      "grid_column": null,
      "grid_gap": null,
      "grid_row": null,
      "grid_template_areas": null,
      "grid_template_columns": null,
      "grid_template_rows": null,
      "height": null,
      "justify_content": null,
      "justify_items": null,
      "left": null,
      "margin": null,
      "max_height": null,
      "max_width": null,
      "min_height": null,
      "min_width": null,
      "object_fit": null,
      "object_position": null,
      "order": null,
      "overflow": null,
      "overflow_x": null,
      "overflow_y": null,
      "padding": null,
      "right": null,
      "top": null,
      "visibility": null,
      "width": null
     }
    },
    "a939874588464d2f9328451886bf4ce7": {
     "model_module": "@jupyter-widgets/base",
     "model_module_version": "1.2.0",
     "model_name": "LayoutModel",
     "state": {
      "_model_module": "@jupyter-widgets/base",
      "_model_module_version": "1.2.0",
      "_model_name": "LayoutModel",
      "_view_count": null,
      "_view_module": "@jupyter-widgets/base",
      "_view_module_version": "1.2.0",
      "_view_name": "LayoutView",
      "align_content": null,
      "align_items": null,
      "align_self": null,
      "border": null,
      "bottom": null,
      "display": null,
      "flex": null,
      "flex_flow": null,
      "grid_area": null,
      "grid_auto_columns": null,
      "grid_auto_flow": null,
      "grid_auto_rows": null,
      "grid_column": null,
      "grid_gap": null,
      "grid_row": null,
      "grid_template_areas": null,
      "grid_template_columns": null,
      "grid_template_rows": null,
      "height": null,
      "justify_content": null,
      "justify_items": null,
      "left": null,
      "margin": null,
      "max_height": null,
      "max_width": null,
      "min_height": null,
      "min_width": null,
      "object_fit": null,
      "object_position": null,
      "order": null,
      "overflow": null,
      "overflow_x": null,
      "overflow_y": null,
      "padding": null,
      "right": null,
      "top": null,
      "visibility": null,
      "width": null
     }
    },
    "aefedb2c7a284ec6b04a3f7ee18212a5": {
     "model_module": "@jupyter-widgets/base",
     "model_module_version": "1.2.0",
     "model_name": "LayoutModel",
     "state": {
      "_model_module": "@jupyter-widgets/base",
      "_model_module_version": "1.2.0",
      "_model_name": "LayoutModel",
      "_view_count": null,
      "_view_module": "@jupyter-widgets/base",
      "_view_module_version": "1.2.0",
      "_view_name": "LayoutView",
      "align_content": null,
      "align_items": null,
      "align_self": null,
      "border": null,
      "bottom": null,
      "display": null,
      "flex": null,
      "flex_flow": null,
      "grid_area": null,
      "grid_auto_columns": null,
      "grid_auto_flow": null,
      "grid_auto_rows": null,
      "grid_column": null,
      "grid_gap": null,
      "grid_row": null,
      "grid_template_areas": null,
      "grid_template_columns": null,
      "grid_template_rows": null,
      "height": null,
      "justify_content": null,
      "justify_items": null,
      "left": null,
      "margin": null,
      "max_height": null,
      "max_width": null,
      "min_height": null,
      "min_width": null,
      "object_fit": null,
      "object_position": null,
      "order": null,
      "overflow": null,
      "overflow_x": null,
      "overflow_y": null,
      "padding": null,
      "right": null,
      "top": null,
      "visibility": null,
      "width": null
     }
    },
    "afc031abd6094b40b26149234a1398c7": {
     "model_module": "@jupyter-widgets/controls",
     "model_module_version": "1.5.0",
     "model_name": "HTMLModel",
     "state": {
      "_dom_classes": [],
      "_model_module": "@jupyter-widgets/controls",
      "_model_module_version": "1.5.0",
      "_model_name": "HTMLModel",
      "_view_count": null,
      "_view_module": "@jupyter-widgets/controls",
      "_view_module_version": "1.5.0",
      "_view_name": "HTMLView",
      "description": "",
      "description_tooltip": null,
      "layout": "IPY_MODEL_86d8ecc4d2dc4bac89d07566d0ba24f5",
      "placeholder": "​",
      "style": "IPY_MODEL_d361f9e601e245cfbd2263f1ace0c3fd",
      "value": "Files Downloaded: 100%"
     }
    },
    "b02a042924074e2385f9d2cef97ce059": {
     "model_module": "@jupyter-widgets/controls",
     "model_module_version": "1.5.0",
     "model_name": "FloatProgressModel",
     "state": {
      "_dom_classes": [],
      "_model_module": "@jupyter-widgets/controls",
      "_model_module_version": "1.5.0",
      "_model_name": "FloatProgressModel",
      "_view_count": null,
      "_view_module": "@jupyter-widgets/controls",
      "_view_module_version": "1.5.0",
      "_view_name": "ProgressView",
      "bar_style": "success",
      "description": "",
      "description_tooltip": null,
      "layout": "IPY_MODEL_531f9a971bd74a30b94d01ea54ed7956",
      "max": 1,
      "min": 0,
      "orientation": "horizontal",
      "style": "IPY_MODEL_30f440c85b1f48da807371a3640e54e7",
      "value": 1
     }
    },
    "b837ed54df8947a1aa5d4ad19e66d722": {
     "model_module": "@jupyter-widgets/controls",
     "model_module_version": "1.5.0",
     "model_name": "ProgressStyleModel",
     "state": {
      "_model_module": "@jupyter-widgets/controls",
      "_model_module_version": "1.5.0",
      "_model_name": "ProgressStyleModel",
      "_view_count": null,
      "_view_module": "@jupyter-widgets/base",
      "_view_module_version": "1.2.0",
      "_view_name": "StyleView",
      "bar_color": null,
      "description_width": ""
     }
    },
    "bd62c2e2dd6141ae84a04963f1cdf9e6": {
     "model_module": "@jupyter-widgets/base",
     "model_module_version": "1.2.0",
     "model_name": "LayoutModel",
     "state": {
      "_model_module": "@jupyter-widgets/base",
      "_model_module_version": "1.2.0",
      "_model_name": "LayoutModel",
      "_view_count": null,
      "_view_module": "@jupyter-widgets/base",
      "_view_module_version": "1.2.0",
      "_view_name": "LayoutView",
      "align_content": null,
      "align_items": null,
      "align_self": null,
      "border": null,
      "bottom": null,
      "display": null,
      "flex": null,
      "flex_flow": null,
      "grid_area": null,
      "grid_auto_columns": null,
      "grid_auto_flow": null,
      "grid_auto_rows": null,
      "grid_column": null,
      "grid_gap": null,
      "grid_row": null,
      "grid_template_areas": null,
      "grid_template_columns": null,
      "grid_template_rows": null,
      "height": null,
      "justify_content": null,
      "justify_items": null,
      "left": null,
      "margin": null,
      "max_height": null,
      "max_width": null,
      "min_height": null,
      "min_width": null,
      "object_fit": null,
      "object_position": null,
      "order": null,
      "overflow": null,
      "overflow_x": null,
      "overflow_y": null,
      "padding": null,
      "right": null,
      "top": null,
      "visibility": null,
      "width": null
     }
    },
    "bef0ffcc6b974337aa1e295ecacda0b0": {
     "model_module": "@jupyter-widgets/controls",
     "model_module_version": "1.5.0",
     "model_name": "HTMLModel",
     "state": {
      "_dom_classes": [],
      "_model_module": "@jupyter-widgets/controls",
      "_model_module_version": "1.5.0",
      "_model_name": "HTMLModel",
      "_view_count": null,
      "_view_module": "@jupyter-widgets/controls",
      "_view_module_version": "1.5.0",
      "_view_name": "HTMLView",
      "description": "",
      "description_tooltip": null,
      "layout": "IPY_MODEL_e0c50762c74d4e1fba9714029ce05c0c",
      "placeholder": "​",
      "style": "IPY_MODEL_f79c7d830ecc4f9aa9830f458d403068",
      "value": "hmi.m_45s.2023.10.20_00_01_30_TAI.magnetogram.fits:  99%"
     }
    },
    "befbb24732874bf6b4fda7b97a74ec1d": {
     "model_module": "@jupyter-widgets/controls",
     "model_module_version": "1.5.0",
     "model_name": "HTMLModel",
     "state": {
      "_dom_classes": [],
      "_model_module": "@jupyter-widgets/controls",
      "_model_module_version": "1.5.0",
      "_model_name": "HTMLModel",
      "_view_count": null,
      "_view_module": "@jupyter-widgets/controls",
      "_view_module_version": "1.5.0",
      "_view_name": "HTMLView",
      "description": "",
      "description_tooltip": null,
      "layout": "IPY_MODEL_a939874588464d2f9328451886bf4ce7",
      "placeholder": "​",
      "style": "IPY_MODEL_724ff83a58c443af9757a6739f15fadb",
      "value": "hmi.v_45s.2023.10.20_00_01_30_TAI.Dopplergram.fits:  91%"
     }
    },
    "bf693512cf8a4566892f00606ed65fc1": {
     "model_module": "@jupyter-widgets/base",
     "model_module_version": "1.2.0",
     "model_name": "LayoutModel",
     "state": {
      "_model_module": "@jupyter-widgets/base",
      "_model_module_version": "1.2.0",
      "_model_name": "LayoutModel",
      "_view_count": null,
      "_view_module": "@jupyter-widgets/base",
      "_view_module_version": "1.2.0",
      "_view_name": "LayoutView",
      "align_content": null,
      "align_items": null,
      "align_self": null,
      "border": null,
      "bottom": null,
      "display": null,
      "flex": null,
      "flex_flow": null,
      "grid_area": null,
      "grid_auto_columns": null,
      "grid_auto_flow": null,
      "grid_auto_rows": null,
      "grid_column": null,
      "grid_gap": null,
      "grid_row": null,
      "grid_template_areas": null,
      "grid_template_columns": null,
      "grid_template_rows": null,
      "height": null,
      "justify_content": null,
      "justify_items": null,
      "left": null,
      "margin": null,
      "max_height": null,
      "max_width": null,
      "min_height": null,
      "min_width": null,
      "object_fit": null,
      "object_position": null,
      "order": null,
      "overflow": null,
      "overflow_x": null,
      "overflow_y": null,
      "padding": null,
      "right": null,
      "top": null,
      "visibility": "hidden",
      "width": null
     }
    },
    "c456c18a31ec44b0a4067e5343397b76": {
     "model_module": "@jupyter-widgets/controls",
     "model_module_version": "1.5.0",
     "model_name": "DescriptionStyleModel",
     "state": {
      "_model_module": "@jupyter-widgets/controls",
      "_model_module_version": "1.5.0",
      "_model_name": "DescriptionStyleModel",
      "_view_count": null,
      "_view_module": "@jupyter-widgets/base",
      "_view_module_version": "1.2.0",
      "_view_name": "StyleView",
      "description_width": ""
     }
    },
    "cceaf9d1accf45ac962f1f48bdc751ae": {
     "model_module": "@jupyter-widgets/controls",
     "model_module_version": "1.5.0",
     "model_name": "DescriptionStyleModel",
     "state": {
      "_model_module": "@jupyter-widgets/controls",
      "_model_module_version": "1.5.0",
      "_model_name": "DescriptionStyleModel",
      "_view_count": null,
      "_view_module": "@jupyter-widgets/base",
      "_view_module_version": "1.2.0",
      "_view_name": "StyleView",
      "description_width": ""
     }
    },
    "d361f9e601e245cfbd2263f1ace0c3fd": {
     "model_module": "@jupyter-widgets/controls",
     "model_module_version": "1.5.0",
     "model_name": "DescriptionStyleModel",
     "state": {
      "_model_module": "@jupyter-widgets/controls",
      "_model_module_version": "1.5.0",
      "_model_name": "DescriptionStyleModel",
      "_view_count": null,
      "_view_module": "@jupyter-widgets/base",
      "_view_module_version": "1.2.0",
      "_view_name": "StyleView",
      "description_width": ""
     }
    },
    "d4f569e0019a48fcade20fac63b41636": {
     "model_module": "@jupyter-widgets/base",
     "model_module_version": "1.2.0",
     "model_name": "LayoutModel",
     "state": {
      "_model_module": "@jupyter-widgets/base",
      "_model_module_version": "1.2.0",
      "_model_name": "LayoutModel",
      "_view_count": null,
      "_view_module": "@jupyter-widgets/base",
      "_view_module_version": "1.2.0",
      "_view_name": "LayoutView",
      "align_content": null,
      "align_items": null,
      "align_self": null,
      "border": null,
      "bottom": null,
      "display": null,
      "flex": null,
      "flex_flow": null,
      "grid_area": null,
      "grid_auto_columns": null,
      "grid_auto_flow": null,
      "grid_auto_rows": null,
      "grid_column": null,
      "grid_gap": null,
      "grid_row": null,
      "grid_template_areas": null,
      "grid_template_columns": null,
      "grid_template_rows": null,
      "height": null,
      "justify_content": null,
      "justify_items": null,
      "left": null,
      "margin": null,
      "max_height": null,
      "max_width": null,
      "min_height": null,
      "min_width": null,
      "object_fit": null,
      "object_position": null,
      "order": null,
      "overflow": null,
      "overflow_x": null,
      "overflow_y": null,
      "padding": null,
      "right": null,
      "top": null,
      "visibility": "hidden",
      "width": null
     }
    },
    "ddd651a4f0464992965d8dd1f31c75ca": {
     "model_module": "@jupyter-widgets/controls",
     "model_module_version": "1.5.0",
     "model_name": "ProgressStyleModel",
     "state": {
      "_model_module": "@jupyter-widgets/controls",
      "_model_module_version": "1.5.0",
      "_model_name": "ProgressStyleModel",
      "_view_count": null,
      "_view_module": "@jupyter-widgets/base",
      "_view_module_version": "1.2.0",
      "_view_name": "StyleView",
      "bar_color": null,
      "description_width": ""
     }
    },
    "e0c50762c74d4e1fba9714029ce05c0c": {
     "model_module": "@jupyter-widgets/base",
     "model_module_version": "1.2.0",
     "model_name": "LayoutModel",
     "state": {
      "_model_module": "@jupyter-widgets/base",
      "_model_module_version": "1.2.0",
      "_model_name": "LayoutModel",
      "_view_count": null,
      "_view_module": "@jupyter-widgets/base",
      "_view_module_version": "1.2.0",
      "_view_name": "LayoutView",
      "align_content": null,
      "align_items": null,
      "align_self": null,
      "border": null,
      "bottom": null,
      "display": null,
      "flex": null,
      "flex_flow": null,
      "grid_area": null,
      "grid_auto_columns": null,
      "grid_auto_flow": null,
      "grid_auto_rows": null,
      "grid_column": null,
      "grid_gap": null,
      "grid_row": null,
      "grid_template_areas": null,
      "grid_template_columns": null,
      "grid_template_rows": null,
      "height": null,
      "justify_content": null,
      "justify_items": null,
      "left": null,
      "margin": null,
      "max_height": null,
      "max_width": null,
      "min_height": null,
      "min_width": null,
      "object_fit": null,
      "object_position": null,
      "order": null,
      "overflow": null,
      "overflow_x": null,
      "overflow_y": null,
      "padding": null,
      "right": null,
      "top": null,
      "visibility": null,
      "width": null
     }
    },
    "e37e16c9a3be461ab3ed8f2e36b31acb": {
     "model_module": "@jupyter-widgets/base",
     "model_module_version": "1.2.0",
     "model_name": "LayoutModel",
     "state": {
      "_model_module": "@jupyter-widgets/base",
      "_model_module_version": "1.2.0",
      "_model_name": "LayoutModel",
      "_view_count": null,
      "_view_module": "@jupyter-widgets/base",
      "_view_module_version": "1.2.0",
      "_view_name": "LayoutView",
      "align_content": null,
      "align_items": null,
      "align_self": null,
      "border": null,
      "bottom": null,
      "display": null,
      "flex": null,
      "flex_flow": null,
      "grid_area": null,
      "grid_auto_columns": null,
      "grid_auto_flow": null,
      "grid_auto_rows": null,
      "grid_column": null,
      "grid_gap": null,
      "grid_row": null,
      "grid_template_areas": null,
      "grid_template_columns": null,
      "grid_template_rows": null,
      "height": null,
      "justify_content": null,
      "justify_items": null,
      "left": null,
      "margin": null,
      "max_height": null,
      "max_width": null,
      "min_height": null,
      "min_width": null,
      "object_fit": null,
      "object_position": null,
      "order": null,
      "overflow": null,
      "overflow_x": null,
      "overflow_y": null,
      "padding": null,
      "right": null,
      "top": null,
      "visibility": null,
      "width": null
     }
    },
    "ec394f4024c94236ab9644dbb9e40487": {
     "model_module": "@jupyter-widgets/controls",
     "model_module_version": "1.5.0",
     "model_name": "FloatProgressModel",
     "state": {
      "_dom_classes": [],
      "_model_module": "@jupyter-widgets/controls",
      "_model_module_version": "1.5.0",
      "_model_name": "FloatProgressModel",
      "_view_count": null,
      "_view_module": "@jupyter-widgets/controls",
      "_view_module_version": "1.5.0",
      "_view_name": "ProgressView",
      "bar_style": "",
      "description": "",
      "description_tooltip": null,
      "layout": "IPY_MODEL_90bb5ff1fcc54a53ac789af2f26e8483",
      "max": 16574400,
      "min": 0,
      "orientation": "horizontal",
      "style": "IPY_MODEL_39637567c41f4fa188ef0a7cd84d9912",
      "value": 16574400
     }
    },
    "efa0610ea0cd4601a5e6de3f663cac9f": {
     "model_module": "@jupyter-widgets/controls",
     "model_module_version": "1.5.0",
     "model_name": "HTMLModel",
     "state": {
      "_dom_classes": [],
      "_model_module": "@jupyter-widgets/controls",
      "_model_module_version": "1.5.0",
      "_model_name": "HTMLModel",
      "_view_count": null,
      "_view_module": "@jupyter-widgets/controls",
      "_view_module_version": "1.5.0",
      "_view_name": "HTMLView",
      "description": "",
      "description_tooltip": null,
      "layout": "IPY_MODEL_e37e16c9a3be461ab3ed8f2e36b31acb",
      "placeholder": "​",
      "style": "IPY_MODEL_6ea951676a694be9aac7daae219a9515",
      "value": "AIA20250309_032400_0171.fits:   8%"
     }
    },
    "f447b82381bc4b3094b17f5ce9f45c11": {
     "model_module": "@jupyter-widgets/controls",
     "model_module_version": "1.5.0",
     "model_name": "DescriptionStyleModel",
     "state": {
      "_model_module": "@jupyter-widgets/controls",
      "_model_module_version": "1.5.0",
      "_model_name": "DescriptionStyleModel",
      "_view_count": null,
      "_view_module": "@jupyter-widgets/base",
      "_view_module_version": "1.2.0",
      "_view_name": "StyleView",
      "description_width": ""
     }
    },
    "f4646fad849144bd9b300ff71a8d3ff9": {
     "model_module": "@jupyter-widgets/controls",
     "model_module_version": "1.5.0",
     "model_name": "DescriptionStyleModel",
     "state": {
      "_model_module": "@jupyter-widgets/controls",
      "_model_module_version": "1.5.0",
      "_model_name": "DescriptionStyleModel",
      "_view_count": null,
      "_view_module": "@jupyter-widgets/base",
      "_view_module_version": "1.2.0",
      "_view_name": "StyleView",
      "description_width": ""
     }
    },
    "f79c7d830ecc4f9aa9830f458d403068": {
     "model_module": "@jupyter-widgets/controls",
     "model_module_version": "1.5.0",
     "model_name": "DescriptionStyleModel",
     "state": {
      "_model_module": "@jupyter-widgets/controls",
      "_model_module_version": "1.5.0",
      "_model_name": "DescriptionStyleModel",
      "_view_count": null,
      "_view_module": "@jupyter-widgets/base",
      "_view_module_version": "1.2.0",
      "_view_name": "StyleView",
      "description_width": ""
     }
    },
    "fd36f2af175f4a028c298d70b2288354": {
     "model_module": "@jupyter-widgets/controls",
     "model_module_version": "1.5.0",
     "model_name": "ProgressStyleModel",
     "state": {
      "_model_module": "@jupyter-widgets/controls",
      "_model_module_version": "1.5.0",
      "_model_name": "ProgressStyleModel",
      "_view_count": null,
      "_view_module": "@jupyter-widgets/base",
      "_view_module_version": "1.2.0",
      "_view_name": "StyleView",
      "bar_color": null,
      "description_width": ""
     }
    },
    "ffe502d306d34e5baa8ea301140963e0": {
     "model_module": "@jupyter-widgets/controls",
     "model_module_version": "1.5.0",
     "model_name": "DescriptionStyleModel",
     "state": {
      "_model_module": "@jupyter-widgets/controls",
      "_model_module_version": "1.5.0",
      "_model_name": "DescriptionStyleModel",
      "_view_count": null,
      "_view_module": "@jupyter-widgets/base",
      "_view_module_version": "1.2.0",
      "_view_name": "StyleView",
      "description_width": ""
     }
    }
   }
  }
 },
 "nbformat": 4,
 "nbformat_minor": 0
}

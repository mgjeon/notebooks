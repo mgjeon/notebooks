{
 "cells": [
  {
   "cell_type": "markdown",
   "id": "f901334a-7581-485c-9eca-7a2ae8e6a86a",
   "metadata": {},
   "source": [
    "# Modeling channel degradation over time\n",
    "\n",
    "- https://aiapy.readthedocs.io/en/stable/generated/gallery/instrument_degradation.html"
   ]
  },
  {
   "cell_type": "markdown",
   "id": "0eade565-92cf-47bb-a4cd-07fa629ef9eb",
   "metadata": {},
   "source": [
    "This example demonstrates how to model the degradation\n",
    "of the AIA channels as a function of time over the entire\n",
    "lifetime of the instrument."
   ]
  },
  {
   "cell_type": "code",
   "execution_count": null,
   "id": "26521f13-08ec-4732-9630-fb7158374560",
   "metadata": {},
   "outputs": [],
   "source": [
    "from urllib.request import urlretrieve\n",
    "urlretrieve(\"https://hesperia.gsfc.nasa.gov/ssw/sdo/aia/response/aia_V10_20201119_190000_response_table.txt\", \"aia_V10_20201119_190000_response_table.txt\");"
   ]
  },
  {
   "cell_type": "code",
   "execution_count": null,
   "id": "bccd0988-50b2-445b-9627-2f6716899217",
   "metadata": {},
   "outputs": [],
   "source": [
    "import astropy.time\n",
    "import astropy.units as u\n",
    "import matplotlib.pyplot as plt\n",
    "import numpy as np\n",
    "from astropy.visualization import time_support\n",
    "\n",
    "from aiapy.calibrate import degradation\n",
    "from aiapy.calibrate.util import get_correction_table\n",
    "\n",
    "# This lets you pass `astropy.time.Time` objects directly to matplotlib\n",
    "time_support(format=\"jyear\");"
   ]
  },
  {
   "cell_type": "markdown",
   "id": "5c5323e0-eb53-4079-8f09-365edaaeefef",
   "metadata": {},
   "source": [
    "The sensitivity of the AIA channels degrade over time. Possible causes include\n",
    "the deposition of organic molecules from the telescope structure onto the\n",
    "optical elements and the decrease in detector sensitivity following (E)UV\n",
    "exposure. When looking at AIA images over the lifetime of the mission, it\n",
    "is important to understand how the degradation of the instrument impacts the\n",
    "measured intensity. For monitoring brightness changes over months and years,\n",
    "degradation correction is an important step in the data normalization process.\n",
    "For instance, the SDO Machine Learning Dataset\n",
    "([Galvez et al., 2019](https://ui.adsabs.harvard.edu/abs/2019ApJS..242....7G/abstract))\n",
    "includes this correction.\n",
    "\n",
    "The AIA team models the change in transmission as a function of time (see\n",
    "[Boerner et al., 2012](https://doi.org/10.1007/s11207-011-9804-8)) and\n",
    "the table of correction parameters is publicly available via the\n",
    "[Joint Science Operations Center (JSOC)](http://jsoc.stanford.edu/).\n",
    "\n",
    "First, fetch this correction table. It is not strictly necessary to do this explicitly,\n",
    "but will significantly speed up the calculation by only fetching the table\n",
    "once.\n",
    "\n"
   ]
  },
  {
   "cell_type": "code",
   "execution_count": null,
   "id": "491b3678-665f-4633-bd76-c9bc043ed0c4",
   "metadata": {},
   "outputs": [],
   "source": [
    "correction_table = get_correction_table(correction_table='aia_V10_20201119_190000_response_table.txt')"
   ]
  },
  {
   "cell_type": "markdown",
   "id": "97cbc037-5fda-4d01-8752-6aedc30ad2b8",
   "metadata": {},
   "source": [
    "We want to compute the degradation for each EUV channel."
   ]
  },
  {
   "cell_type": "code",
   "execution_count": null,
   "id": "7bb5ada4-55e3-44c9-afcf-54f5028a0485",
   "metadata": {},
   "outputs": [],
   "source": [
    "aia_channels = [94, 131, 171, 193, 211, 304, 335] * u.angstrom"
   ]
  },
  {
   "cell_type": "markdown",
   "id": "b87368c2-1a17-4cc9-b521-30279343c7f9",
   "metadata": {},
   "source": [
    "We can use `astropy.time.Time` to create an array of times\n",
    "between now and the start of the mission with a cadence of one week."
   ]
  },
  {
   "cell_type": "code",
   "execution_count": null,
   "id": "0087d19f-af0a-49b5-a00b-3d73585952d6",
   "metadata": {},
   "outputs": [
    {
     "data": {
      "text/plain": [
       "771"
      ]
     },
     "execution_count": null,
     "metadata": {},
     "output_type": "execute_result"
    }
   ],
   "source": [
    "start_time = astropy.time.Time(\"2010-03-25T00:00:00\", scale=\"utc\")\n",
    "now = astropy.time.Time.now()\n",
    "time_range = start_time + np.arange(0, (now - start_time).to(u.day).value, 7) * u.day\n",
    "len(time_range)"
   ]
  },
  {
   "cell_type": "code",
   "execution_count": null,
   "id": "dbb67226-f902-4207-abe8-d3a2361b93e3",
   "metadata": {},
   "outputs": [
    {
     "data": {
      "text/plain": [
       "<Time object: scale='utc' format='isot' value=2024-12-25T23:59:57.000>"
      ]
     },
     "execution_count": null,
     "metadata": {},
     "output_type": "execute_result"
    }
   ],
   "source": [
    "time_range[-1]"
   ]
  },
  {
   "cell_type": "markdown",
   "id": "6e125dd8-15c7-4489-9e9d-d26fb32b60b8",
   "metadata": {},
   "source": [
    "Finally, we can use the `aiapy.calibrate.degradation` function to\n",
    "compute the degradation for a particular channel and observation time.\n",
    "This is modeled as the ratio of the effective area measured at a particular\n",
    "calibration epoch over the uncorrected effective area with a polynomial\n",
    "interpolation to the exact time."
   ]
  },
  {
   "cell_type": "code",
   "execution_count": null,
   "id": "4eefc050-3f28-4b7d-b37a-2bf0d2863877",
   "metadata": {},
   "outputs": [],
   "source": [
    "degradations = {\n",
    "    channel: degradation(channel, time_range, correction_table=correction_table) for channel in aia_channels\n",
    "}"
   ]
  },
  {
   "cell_type": "code",
   "execution_count": null,
   "id": "56e6fb9b-e696-41fe-be48-f1adcac75038",
   "metadata": {},
   "outputs": [
    {
     "data": {
      "text/latex": [
       "$[1.000636,~1.005088,~1.00954,~\\dots,~0.90318035,~0.90318035,~0.90318035] \\; \\mathrm{}$"
      ],
      "text/plain": [
       "<Quantity [1.000636  , 1.005088  , 1.00954   , 1.013992  , 1.018444  ,\n",
       "           1.022896  , 1.027348  , 1.0318    , 1.036252  , 1.040704  ,\n",
       "           1.045156  , 1.049608  , 1.05406   , 1.058512  , 1.062964  ,\n",
       "           1.067416  , 1.071868  , 1.07632   , 1.080772  , 1.085224  ,\n",
       "           1.089676  , 1.094128  , 1.09858   , 1.103032  , 1.107484  ,\n",
       "           1.111936  , 1.116388  , 1.12084   , 1.125292  , 1.129744  ,\n",
       "           1.134196  , 1.138648  , 1.1431    , 1.147552  , 1.152004  ,\n",
       "           1.156456  , 1.160908  , 1.16536   , 1.169812  , 1.174264  ,\n",
       "           1.178716  , 1.183168  , 1.18762   , 1.192072  , 1.196524  ,\n",
       "           1.1738692 , 1.16288046, 1.15189172, 1.14090297, 1.12991423,\n",
       "           1.11892548, 1.10793674, 1.09694799, 1.08595925, 1.0749705 ,\n",
       "           1.06241699, 1.05069923, 1.03898147, 1.02726371, 1.01554594,\n",
       "           1.00382818, 0.96648612, 0.96975227, 0.97301843, 0.97628458,\n",
       "           0.97955074, 0.9828169 , 0.98608305, 0.98934921, 0.99261536,\n",
       "           0.99588152, 0.99914767, 1.00241383, 1.00567998, 1.00894614,\n",
       "           1.0122123 , 1.01547845, 1.01874461, 1.02201076, 1.02527692,\n",
       "           1.02854307, 1.02051465, 1.01948501, 1.01845536, 1.01742572,\n",
       "           1.01639608, 1.01536644, 1.01433679, 1.01330715, 1.01227751,\n",
       "           1.01124787, 1.01021822, 1.00918858, 1.00815894, 1.0071293 ,\n",
       "           1.00609965, 1.00507001, 1.00404037, 1.00301073, 1.00198108,\n",
       "           1.00095144, 0.9999218 , 0.99889216, 0.99786251, 0.99683287,\n",
       "           0.99580323, 0.99477359, 0.99372056, 0.99244029, 0.99116003,\n",
       "           0.98987976, 0.9885995 , 0.98731923, 0.98603897, 0.9847587 ,\n",
       "           0.98347843, 0.98219817, 0.9809179 , 0.97963764, 0.97835737,\n",
       "           0.97707711, 0.97579684, 0.97451658, 0.97323631, 0.97195605,\n",
       "           0.97067578, 0.96939551, 0.96811525, 0.96683498, 0.96555472,\n",
       "           0.96427445, 0.96299419, 0.96171392, 0.96043366, 0.95915339,\n",
       "           0.95787313, 0.95659286, 0.9553126 , 0.95403233, 0.95275206,\n",
       "           0.9514718 , 0.95019153, 0.94891127, 0.947631  , 0.94635074,\n",
       "           0.94507047, 0.94379021, 0.94250994, 0.94122968, 0.93994941,\n",
       "           0.93866914, 0.93738888, 0.93669541, 0.93618375, 0.9356721 ,\n",
       "           0.93516044, 0.93464879, 0.93413713, 0.93362548, 0.93311382,\n",
       "           0.93260217, 0.93209051, 0.93157886, 0.9310672 , 0.93055555,\n",
       "           0.93004389, 0.92953224, 0.92902058, 0.92850893, 0.92799727,\n",
       "           0.92748562, 0.92697396, 0.92646231, 0.92595065, 0.925439  ,\n",
       "           0.92492734, 0.92441568, 0.92390403, 0.92339237, 0.92288072,\n",
       "           0.92236906, 0.92185741, 0.92134575, 0.9208341 , 0.92032244,\n",
       "           0.91981079, 0.91929913, 0.91878748, 0.91827582, 0.91776417,\n",
       "           0.91725251, 0.91674086, 0.9162292 , 0.91571755, 0.91520589,\n",
       "           0.91469424, 0.91418258, 0.91367093, 0.91315927, 0.91264762,\n",
       "           0.91213596, 0.91162431, 0.91111265, 0.91060099, 0.91008934,\n",
       "           0.90957768, 0.90906603, 0.90855437, 0.90804272, 0.90753106,\n",
       "           0.90701941, 0.90650775, 0.9059961 , 0.90548444, 0.90497279,\n",
       "           0.90446113, 0.90394948, 0.90343782, 0.90318035, 0.90318035,\n",
       "           0.90318035, 0.90318035, 0.90318035, 0.90318035, 0.90318035,\n",
       "           0.90318035, 0.90318035, 0.90318035, 0.90318035, 0.90318035,\n",
       "           0.90318035, 0.90318035, 0.90318035, 0.90318035, 0.90318035,\n",
       "           0.90318035, 0.90318035, 0.90318035, 0.90318035, 0.90318035,\n",
       "           0.90318035, 0.90318035, 0.90318035, 0.90318035, 0.90318035,\n",
       "           0.90318035, 0.90318035, 0.90318035, 0.90318035, 0.90318035,\n",
       "           0.90318035, 0.90318035, 0.90318035, 0.90318035, 0.90318035,\n",
       "           0.90318035, 0.90318035, 0.90318035, 0.90318035, 0.90318035,\n",
       "           0.90318035, 0.90318035, 0.90318035, 0.90318035, 0.90318035,\n",
       "           0.90318035, 0.90318035, 0.90318035, 0.90318035, 0.90318035,\n",
       "           0.90318035, 0.90318035, 0.90318035, 0.90318035, 0.90318035,\n",
       "           0.90318035, 0.90318035, 0.90318035, 0.90318035, 0.90318035,\n",
       "           0.90318035, 0.90318035, 0.90318035, 0.90318035, 0.90318035,\n",
       "           0.90318035, 0.90318035, 0.90318035, 0.90318035, 0.90318035,\n",
       "           0.90318035, 0.90318035, 0.90318035, 0.90318035, 0.90318035,\n",
       "           0.90318035, 0.90318035, 0.90318035, 0.90318035, 0.90318035,\n",
       "           0.90318035, 0.90318035, 0.90318035, 0.90318035, 0.90318035,\n",
       "           0.90318035, 0.90318035, 0.90318035, 0.90318035, 0.90318035,\n",
       "           0.90318035, 0.90318035, 0.90318035, 0.90318035, 0.90318035,\n",
       "           0.90318035, 0.90318035, 0.90318035, 0.90318035, 0.90318035,\n",
       "           0.90318035, 0.90318035, 0.90318035, 0.90318035, 0.90318035,\n",
       "           0.90318035, 0.90318035, 0.90318035, 0.90318035, 0.90318035,\n",
       "           0.90318035, 0.90318035, 0.90318035, 0.90318035, 0.90318035,\n",
       "           0.90318035, 0.90318035, 0.90318035, 0.90318035, 0.90318035,\n",
       "           0.90318035, 0.90318035, 0.90318035, 0.90318035, 0.90318035,\n",
       "           0.90318035, 0.90318035, 0.90318035, 0.90318035, 0.90318035,\n",
       "           0.90318035, 0.90318035, 0.90318035, 0.90318035, 0.90318035,\n",
       "           0.90318035, 0.90318035, 0.90318035, 0.90318035, 0.90318035,\n",
       "           0.90318035, 0.90318035, 0.90318035, 0.90318035, 0.90318035,\n",
       "           0.90318035, 0.90318035, 0.90318035, 0.90318035, 0.90318035,\n",
       "           0.90318035, 0.90318035, 0.90318035, 0.90318035, 0.90318035,\n",
       "           0.90318035, 0.90318035, 0.90318035, 0.90318035, 0.90318035,\n",
       "           0.90318035, 0.90318035, 0.90318035, 0.90318035, 0.90318035,\n",
       "           0.90318035, 0.90318035, 0.90318035, 0.90318035, 0.90318035,\n",
       "           0.90318035, 0.90318035, 0.90318035, 0.90318035, 0.90318035,\n",
       "           0.90318035, 0.90318035, 0.90318035, 0.90318035, 0.90318035,\n",
       "           0.90318035, 0.90318035, 0.90318035, 0.90318035, 0.90318035,\n",
       "           0.90318035, 0.90318035, 0.90318035, 0.90318035, 0.90318035,\n",
       "           0.90318035, 0.90318035, 0.90318035, 0.90318035, 0.90318035,\n",
       "           0.90318035, 0.90318035, 0.90318035, 0.90318035, 0.90318035,\n",
       "           0.90318035, 0.90318035, 0.90318035, 0.90318035, 0.90318035,\n",
       "           0.90318035, 0.90318035, 0.90318035, 0.90318035, 0.90318035,\n",
       "           0.90318035, 0.90318035, 0.90318035, 0.90318035, 0.90318035,\n",
       "           0.90318035, 0.90318035, 0.90318035, 0.90318035, 0.90318035,\n",
       "           0.90318035, 0.90318035, 0.90318035, 0.90318035, 0.90318035,\n",
       "           0.90318035, 0.90318035, 0.90318035, 0.90318035, 0.90318035,\n",
       "           0.90318035, 0.90318035, 0.90318035, 0.90318035, 0.90318035,\n",
       "           0.90318035, 0.90318035, 0.90318035, 0.90318035, 0.90318035,\n",
       "           0.90318035, 0.90318035, 0.90318035, 0.90318035, 0.90318035,\n",
       "           0.90318035, 0.90318035, 0.90318035, 0.90318035, 0.90318035,\n",
       "           0.90318035, 0.90318035, 0.90318035, 0.90318035, 0.90318035,\n",
       "           0.90318035, 0.90318035, 0.90318035, 0.90318035, 0.90318035,\n",
       "           0.90318035, 0.90318035, 0.90318035, 0.90318035, 0.90318035,\n",
       "           0.90318035, 0.90318035, 0.90318035, 0.90318035, 0.90318035,\n",
       "           0.90318035, 0.90318035, 0.90318035, 0.90318035, 0.90318035,\n",
       "           0.90318035, 0.90318035, 0.90318035, 0.90318035, 0.90318035,\n",
       "           0.90318035, 0.90318035, 0.90318035, 0.90318035, 0.90318035,\n",
       "           0.90318035, 0.90318035, 0.90318035, 0.90318035, 0.90318035,\n",
       "           0.90318035, 0.90318035, 0.90318035, 0.90318035, 0.90318035,\n",
       "           0.90318035, 0.90318035, 0.90318035, 0.90318035, 0.90318035,\n",
       "           0.90318035, 0.90318035, 0.90318035, 0.90318035, 0.90318035,\n",
       "           0.90318035, 0.90318035, 0.90318035, 0.90318035, 0.90318035,\n",
       "           0.90318035, 0.90318035, 0.90318035, 0.90318035, 0.90318035,\n",
       "           0.90318035, 0.90318035, 0.90318035, 0.90318035, 0.90318035,\n",
       "           0.90318035, 0.90318035, 0.90318035, 0.90318035, 0.90318035,\n",
       "           0.90318035, 0.90318035, 0.90318035, 0.90318035, 0.90318035,\n",
       "           0.90318035, 0.90318035, 0.90318035, 0.90318035, 0.90318035,\n",
       "           0.90318035, 0.90318035, 0.90318035, 0.90318035, 0.90318035,\n",
       "           0.90318035, 0.90318035, 0.90318035, 0.90318035, 0.90318035,\n",
       "           0.90318035, 0.90318035, 0.90318035, 0.90318035, 0.90318035,\n",
       "           0.90318035, 0.90318035, 0.90318035, 0.90318035, 0.90318035,\n",
       "           0.90318035, 0.90318035, 0.90318035, 0.90318035, 0.90318035,\n",
       "           0.90318035, 0.90318035, 0.90318035, 0.90318035, 0.90318035,\n",
       "           0.90318035, 0.90318035, 0.90318035, 0.90318035, 0.90318035,\n",
       "           0.90318035, 0.90318035, 0.90318035, 0.90318035, 0.90318035,\n",
       "           0.90318035, 0.90318035, 0.90318035, 0.90318035, 0.90318035,\n",
       "           0.90318035, 0.90318035, 0.90318035, 0.90318035, 0.90318035,\n",
       "           0.90318035, 0.90318035, 0.90318035, 0.90318035, 0.90318035,\n",
       "           0.90318035, 0.90318035, 0.90318035, 0.90318035, 0.90318035,\n",
       "           0.90318035, 0.90318035, 0.90318035, 0.90318035, 0.90318035,\n",
       "           0.90318035, 0.90318035, 0.90318035, 0.90318035, 0.90318035,\n",
       "           0.90318035, 0.90318035, 0.90318035, 0.90318035, 0.90318035,\n",
       "           0.90318035, 0.90318035, 0.90318035, 0.90318035, 0.90318035,\n",
       "           0.90318035, 0.90318035, 0.90318035, 0.90318035, 0.90318035,\n",
       "           0.90318035, 0.90318035, 0.90318035, 0.90318035, 0.90318035,\n",
       "           0.90318035, 0.90318035, 0.90318035, 0.90318035, 0.90318035,\n",
       "           0.90318035, 0.90318035, 0.90318035, 0.90318035, 0.90318035,\n",
       "           0.90318035, 0.90318035, 0.90318035, 0.90318035, 0.90318035,\n",
       "           0.90318035, 0.90318035, 0.90318035, 0.90318035, 0.90318035,\n",
       "           0.90318035, 0.90318035, 0.90318035, 0.90318035, 0.90318035,\n",
       "           0.90318035, 0.90318035, 0.90318035, 0.90318035, 0.90318035,\n",
       "           0.90318035, 0.90318035, 0.90318035, 0.90318035, 0.90318035,\n",
       "           0.90318035, 0.90318035, 0.90318035, 0.90318035, 0.90318035,\n",
       "           0.90318035, 0.90318035, 0.90318035, 0.90318035, 0.90318035,\n",
       "           0.90318035, 0.90318035, 0.90318035, 0.90318035, 0.90318035,\n",
       "           0.90318035, 0.90318035, 0.90318035, 0.90318035, 0.90318035,\n",
       "           0.90318035, 0.90318035, 0.90318035, 0.90318035, 0.90318035,\n",
       "           0.90318035, 0.90318035, 0.90318035, 0.90318035, 0.90318035,\n",
       "           0.90318035, 0.90318035, 0.90318035, 0.90318035, 0.90318035,\n",
       "           0.90318035, 0.90318035, 0.90318035, 0.90318035, 0.90318035,\n",
       "           0.90318035, 0.90318035, 0.90318035, 0.90318035, 0.90318035,\n",
       "           0.90318035, 0.90318035, 0.90318035, 0.90318035, 0.90318035,\n",
       "           0.90318035, 0.90318035, 0.90318035, 0.90318035, 0.90318035,\n",
       "           0.90318035, 0.90318035, 0.90318035, 0.90318035, 0.90318035,\n",
       "           0.90318035, 0.90318035, 0.90318035, 0.90318035, 0.90318035,\n",
       "           0.90318035, 0.90318035, 0.90318035, 0.90318035, 0.90318035,\n",
       "           0.90318035, 0.90318035, 0.90318035, 0.90318035, 0.90318035,\n",
       "           0.90318035, 0.90318035, 0.90318035, 0.90318035, 0.90318035,\n",
       "           0.90318035, 0.90318035, 0.90318035, 0.90318035, 0.90318035,\n",
       "           0.90318035, 0.90318035, 0.90318035, 0.90318035, 0.90318035,\n",
       "           0.90318035]>"
      ]
     },
     "execution_count": null,
     "metadata": {},
     "output_type": "execute_result"
    }
   ],
   "source": [
    "degradations[94*u.angstrom]"
   ]
  },
  {
   "cell_type": "markdown",
   "id": "ad34a963-807e-40a8-8ddc-3eebe61564fc",
   "metadata": {},
   "source": [
    "Plotting the different degradation curves as a function of time, we can\n",
    "easily visualize how the different channels have degraded over time."
   ]
  },
  {
   "cell_type": "code",
   "execution_count": null,
   "id": "c665e1e6-ebc7-40ef-8f10-388663dd2682",
   "metadata": {},
   "outputs": [
    {
     "data": {
      "image/png": "[encoded data removed]",
      "text/plain": [
       "<Figure size 640x480 with 1 Axes>"
      ]
     },
     "metadata": {},
     "output_type": "display_data"
    }
   ],
   "source": [
    "fig = plt.figure()\n",
    "ax = fig.gca()\n",
    "\n",
    "for channel in aia_channels:\n",
    "    ax.plot(time_range, degradations[channel], label=f\"{channel:latex}\")\n",
    "\n",
    "ax.set_xlim(time_range[[0, -1]])\n",
    "ax.legend(frameon=False, ncol=4, bbox_to_anchor=(0.5, 1), loc=\"lower center\")\n",
    "ax.set_xlabel(\"Time\")\n",
    "ax.set_ylabel(\"Degradation\")\n",
    "\n",
    "plt.show()"
   ]
  },
  {
   "cell_type": "code",
   "execution_count": null,
   "id": "a4b1d0ba-3269-4cf0-96c8-9648c70816fe",
   "metadata": {},
   "outputs": [],
   "source": []
  }
 ],
 "metadata": {
  "kernelspec": {
   "display_name": "python3",
   "language": "python",
   "name": "python3"
  }
 },
 "nbformat": 4,
 "nbformat_minor": 5
}

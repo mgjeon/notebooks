{
 "cells": [
  {
   "cell_type": "markdown",
   "id": "b73fa81a-7504-4a14-9566-c8f3c69a9e0c",
   "metadata": {},
   "source": [
    "# Use the Remote Data Manager\n",
    "\n",
    "- https://docs.sunpy.org/en/stable/how_to/remote_data_manager.html|"
   ]
  },
  {
   "cell_type": "markdown",
   "id": "51020787-e2a1-4821-8477-db26e4b6a98e",
   "metadata": {},
   "source": [
    "Often, data prep or analysis functions require files to be downloaded from a remote server. The remote data manager handles the usage of remote data files including file verification using hashes. For example, say a function, test_function, requires the remote data file: [predicted-sunspot-radio-flux.txt](http://data.sunpy.org/sample-data/predicted-sunspot-radio-flux.txt), which has the SHA256 hash “4c85b04a5528aa97eb84a087450eda0421c71833820576330bba148564089b11”. To ensure that this exact version of the file is downloaded when test_function is called, use the require decorator."
   ]
  },
  {
   "cell_type": "code",
   "execution_count": null,
   "id": "b5403098-7ef9-404e-b4ee-73cef2e685dd",
   "metadata": {},
   "outputs": [],
   "source": [
    "from sunpy.data import manager\n",
    "\n",
    "@manager.require('test_file',\n",
    "                 ['http://data.sunpy.org/sample-data/predicted-sunspot-radio-flux.txt'],\n",
    "                 '4c85b04a5528aa97eb84a087450eda0421c71833820576330bba148564089b11')\n",
    "def test_function():\n",
    "    pass"
   ]
  },
  {
   "cell_type": "markdown",
   "id": "e26e0f8b-14f6-4a12-af3b-ddd3e727be7e",
   "metadata": {},
   "source": [
    "The first time the function is called, the file will be downloaded and then cached such that subsequent function calls will not trigger a download."
   ]
  },
  {
   "cell_type": "code",
   "execution_count": null,
   "id": "27bf8a61-b296-4e9a-b91e-4fa099a5b639",
   "metadata": {},
   "outputs": [
    {
     "data": {
      "application/vnd.jupyter.widget-view+json": {
       "model_id": "971c1e415a214068b3d6b63451c2d2bf",
       "version_major": 2,
       "version_minor": 0
      },
      "text/plain": [
       "Files Downloaded:   0%|          | 0/1 [00:00<?, ?file/s]"
      ]
     },
     "metadata": {},
     "output_type": "display_data"
    },
    {
     "data": {
      "application/vnd.jupyter.widget-view+json": {
       "model_id": "1ec6175a35a4449fae94f58e0576625d",
       "version_major": 2,
       "version_minor": 0
      },
      "text/plain": [
       "predicted-sunspot-radio-flux.txt:   0%|          | 0.00/4.23k [00:00<?, ?B/s]"
      ]
     },
     "metadata": {},
     "output_type": "display_data"
    }
   ],
   "source": [
    "test_function()  # The file will be downloaded "
   ]
  },
  {
   "cell_type": "code",
   "execution_count": null,
   "id": "783b8d1b-2470-44a6-8891-c3f31b4c116f",
   "metadata": {},
   "outputs": [],
   "source": [
    "test_function()  # No download  "
   ]
  },
  {
   "cell_type": "markdown",
   "id": "577be571-0c1e-45af-8b0f-04cc43c9e592",
   "metadata": {},
   "source": [
    "To access the downloaded file inside the function, use the get() method,"
   ]
  },
  {
   "cell_type": "code",
   "execution_count": null,
   "id": "401e1117-a4d4-48e8-b5e8-d58cd025dc65",
   "metadata": {},
   "outputs": [],
   "source": [
    "@manager.require('test_file',\n",
    "                 ['http://data.sunpy.org/sample-data/predicted-sunspot-radio-flux.txt'],\n",
    "                 '4c85b04a5528aa97eb84a087450eda0421c71833820576330bba148564089b11')\n",
    "def test_function():\n",
    "    return manager.get('test_file')"
   ]
  },
  {
   "cell_type": "code",
   "execution_count": null,
   "id": "c65d2fe0-76aa-400b-889b-99fb737e78a5",
   "metadata": {},
   "outputs": [
    {
     "data": {
      "text/plain": [
       "WindowsPath('C:/Users/usr/sunpy/data_manager/predicted-sunspot-radio-flux.txt')"
      ]
     },
     "execution_count": null,
     "metadata": {},
     "output_type": "execute_result"
    }
   ],
   "source": [
    "test_function()"
   ]
  },
  {
   "cell_type": "markdown",
   "id": "2d86967b-29c7-4805-83fa-58159ac0da7c",
   "metadata": {},
   "source": [
    "To call a function that uses the data manager, but skip the hash check, use the skip_hash_check context manager."
   ]
  },
  {
   "cell_type": "code",
   "execution_count": null,
   "id": "3b52daba-a304-4d40-89e8-fe9b4908c725",
   "metadata": {},
   "outputs": [
    {
     "data": {
      "application/vnd.jupyter.widget-view+json": {
       "model_id": "1d92dc2ca31c46d69f4b7626ac050b1e",
       "version_major": 2,
       "version_minor": 0
      },
      "text/plain": [
       "Files Downloaded:   0%|          | 0/1 [00:00<?, ?file/s]"
      ]
     },
     "metadata": {},
     "output_type": "display_data"
    },
    {
     "data": {
      "application/vnd.jupyter.widget-view+json": {
       "model_id": "92eabd254e9d403faa4257ded2260683",
       "version_major": 2,
       "version_minor": 0
      },
      "text/plain": [
       "predicted-sunspot-radio-flux.txt:   0%|          | 0.00/4.23k [00:00<?, ?B/s]"
      ]
     },
     "metadata": {},
     "output_type": "display_data"
    },
    {
     "name": "stdout",
     "output_type": "stream",
     "text": [
      "C:\\Users\\usr\\sunpy\\data_manager\\predicted-sunspot-radio-flux.txt\n"
     ]
    }
   ],
   "source": [
    "with manager.skip_hash_check():\n",
    "    print(test_function())"
   ]
  },
  {
   "cell_type": "markdown",
   "id": "e97effff-e16b-4788-9a2a-8c3adee01fab",
   "metadata": {},
   "source": [
    "To replace the required file with another version, use the override_file context manager."
   ]
  },
  {
   "cell_type": "code",
   "execution_count": null,
   "id": "08c972e5-8f1f-425d-adbc-64d8a6cdb352",
   "metadata": {},
   "outputs": [
    {
     "data": {
      "application/vnd.jupyter.widget-view+json": {
       "model_id": "5e4d3382939349bdac7138f08d0364dd",
       "version_major": 2,
       "version_minor": 0
      },
      "text/plain": [
       "Files Downloaded:   0%|          | 0/1 [00:00<?, ?file/s]"
      ]
     },
     "metadata": {},
     "output_type": "display_data"
    },
    {
     "name": "stdout",
     "output_type": "stream",
     "text": [
      "C:\\Users\\usr\\sunpy\\data_manager\\AIA20110319_105400_0171.fits\n"
     ]
    }
   ],
   "source": [
    "with manager.override_file('test_file', 'http://data.sunpy.org/sample-data/AIA20110319_105400_0171.fits'):\n",
    "    print(test_function())"
   ]
  },
  {
   "cell_type": "code",
   "execution_count": null,
   "id": "a2c01973-b047-4941-a47f-e7c2b59d24e8",
   "metadata": {},
   "outputs": [],
   "source": []
  }
 ],
 "metadata": {
  "kernelspec": {
   "display_name": "python3",
   "language": "python",
   "name": "python3"
  }
 },
 "nbformat": 4,
 "nbformat_minor": 5
}

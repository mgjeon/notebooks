{
 "cells": [
  {
   "cell_type": "markdown",
   "id": "17e4eb63-2c74-414e-b743-3d5c235a3079",
   "metadata": {},
   "source": [
    "# Coordinates with velocity information\n",
    "\n",
    "- https://docs.sunpy.org/en/stable/topic_guide/coordinates/velocities.html"
   ]
  },
  {
   "cell_type": "markdown",
   "id": "77145e07-4124-4fd2-8dce-4cae6b6fe9a0",
   "metadata": {},
   "source": [
    "Velocity information can be added to any coordinate. When the coordinate is transformed to a different coordinate frame, the velocity vector will be transformed as appropriate. Be aware that the transformation framework does not take any velocity information into account when transforming the position vector."
   ]
  },
  {
   "cell_type": "markdown",
   "id": "fc121441-d86d-4017-b862-579f0e8c1a55",
   "metadata": {},
   "source": [
    "## Creating a SkyCoord with velocity"
   ]
  },
  {
   "cell_type": "markdown",
   "id": "1746808e-6493-4ea4-a01c-d58ebbb30ab4",
   "metadata": {},
   "source": [
    "Velocity information can be added as keyword arguments to SkyCoord. For sunpy’s frames, the names of the velocities components are the names of the position components prepended by “d_”, e.g.,:"
   ]
  },
  {
   "cell_type": "code",
   "execution_count": null,
   "id": "b6cf9d26-383f-4755-a33a-65b6a9ae32fa",
   "metadata": {},
   "outputs": [],
   "source": [
    "import astropy.units as u\n",
    "from astropy.coordinates import SkyCoord\n",
    "\n",
    "import sunpy.coordinates"
   ]
  },
  {
   "cell_type": "code",
   "execution_count": null,
   "id": "62a8046e-1fbd-406a-b100-9d2e5e24b49e",
   "metadata": {},
   "outputs": [],
   "source": [
    "sc = SkyCoord(lon=10*u.deg, lat=20*u.deg, distance=1*u.AU,\n",
    "              d_lon=3*u.arcmin/u.week, d_lat=4*u.arcmin/u.d, d_distance=5*u.km/u.min,\n",
    "              frame='heliocentricinertial', obstime='2021-01-01')"
   ]
  },
  {
   "cell_type": "code",
   "execution_count": null,
   "id": "76c3ba93-5652-41ff-8c91-dc56fd6681eb",
   "metadata": {},
   "outputs": [
    {
     "data": {
      "text/plain": [
       "<SkyCoord (HeliocentricInertial: obstime=2021-01-01T00:00:00.000): (lon, lat, distance) in (deg, deg, AU)\n",
       "    (10., 20., 1.)\n",
       " (d_lon, d_lat, d_distance) in (arcsec / s, arcsec / s, km / s)\n",
       "    (0.00029762, 0.00277778, 0.08333333)>"
      ]
     },
     "execution_count": null,
     "metadata": {},
     "output_type": "execute_result"
    }
   ],
   "source": [
    "sc"
   ]
  },
  {
   "cell_type": "markdown",
   "id": "0766eebd-03af-403b-bc6d-213f09449335",
   "metadata": {},
   "source": [
    "## Querying velocity information"
   ]
  },
  {
   "cell_type": "markdown",
   "id": "e75ae039-3dfc-43ac-a6d7-65a9dc3e2f46",
   "metadata": {},
   "source": [
    "sunpy has functions to query the positions of planets or other objects (e.g., get_body_heliographic_stonyhurst()). For any of these functions, if include_velocity=True is specified, the returned coordinate will include velocity information, e.g.,:"
   ]
  },
  {
   "cell_type": "code",
   "execution_count": null,
   "id": "5381ddd2-e67d-44db-ab90-af92b525da6d",
   "metadata": {},
   "outputs": [],
   "source": [
    "from sunpy.coordinates import get_body_heliographic_stonyhurst"
   ]
  },
  {
   "cell_type": "code",
   "execution_count": null,
   "id": "51a19764-f10d-47f2-994b-a397c7175406",
   "metadata": {},
   "outputs": [
    {
     "data": {
      "text/plain": [
       "<HeliographicStonyhurst Coordinate (obstime=2021-01-01T00:00:00.000, rsun=695700.0 km): (lon, lat, radius) in (deg, deg, AU)\n",
       "    (-156.46460438, -1.38836399, 0.43234904)>"
      ]
     },
     "execution_count": null,
     "metadata": {},
     "output_type": "execute_result"
    }
   ],
   "source": [
    "get_body_heliographic_stonyhurst('mercury', '2021-01-01')"
   ]
  },
  {
   "cell_type": "code",
   "execution_count": null,
   "id": "70ad923a-a8b4-42ef-9f9c-bb16800aca88",
   "metadata": {},
   "outputs": [
    {
     "data": {
      "text/plain": [
       "<HeliographicStonyhurst Coordinate (obstime=2021-01-01T00:00:00.000, rsun=695700.0 km): (lon, lat, radius) in (deg, deg, AU)\n",
       "    (-156.46460438, -1.38836399, 0.43234904)\n",
       " (d_lon, d_lat, d_radius) in (arcsec / s, arcsec / s, km / s)\n",
       "    (0.09138133, 0.00720229, -7.25136169)>"
      ]
     },
     "execution_count": null,
     "metadata": {},
     "output_type": "execute_result"
    }
   ],
   "source": [
    "get_body_heliographic_stonyhurst('mercury', '2021-01-01', include_velocity=True)"
   ]
  },
  {
   "cell_type": "markdown",
   "id": "8e4eceb3-cf07-472a-80fe-a9ee223581b0",
   "metadata": {},
   "source": [
    "## Transforming velocities"
   ]
  },
  {
   "cell_type": "markdown",
   "id": "563ab604-3433-49ed-af93-ea29139fb3fe",
   "metadata": {},
   "source": [
    "The transformation of the velocity vector between two coordinate frames takes into account two effects:\n",
    "\n",
    "- The change in the direction of the velocity vector due to a change in the orientation of the axes between the two frames.\n",
    "\n",
    "- The “induced” velocity due to the time dependence of the frames themselves."
   ]
  },
  {
   "cell_type": "markdown",
   "id": "629c2f8c-8cf3-4c59-a2ab-95cac17b00a5",
   "metadata": {},
   "source": [
    "### Orientation change"
   ]
  },
  {
   "cell_type": "markdown",
   "id": "fc646286-bc2c-4566-b168-095a905a6e37",
   "metadata": {},
   "source": [
    "To illustrate the orientation change, let’s start with the SkyCoord created at the beginning, which was defined in the HeliocentricInertial frame. We transform to Astropy’s HCRS frame, which is a different inertial frame that is also centered at the Sun:"
   ]
  },
  {
   "cell_type": "code",
   "execution_count": null,
   "id": "ef4b126b-f2cd-4ae0-bd81-a02a5b93d6f1",
   "metadata": {},
   "outputs": [],
   "source": []
  }
 ],
 "metadata": {
  "kernelspec": {
   "display_name": "python3",
   "language": "python",
   "name": "python3"
  }
 },
 "nbformat": 4,
 "nbformat_minor": 5
}

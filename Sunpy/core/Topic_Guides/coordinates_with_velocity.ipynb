{
 "cells": [
  {
   "cell_type": "markdown",
   "id": "17e4eb63-2c74-414e-b743-3d5c235a3079",
   "metadata": {},
   "source": [
    "# Coordinates with velocity information\n",
    "\n",
    "- https://docs.sunpy.org/en/stable/topic_guide/coordinates/velocities.html"
   ]
  },
  {
   "cell_type": "markdown",
   "id": "77145e07-4124-4fd2-8dce-4cae6b6fe9a0",
   "metadata": {},
   "source": [
    "Velocity information can be added to any coordinate. When the coordinate is transformed to a different coordinate frame, the velocity vector will be transformed as appropriate. Be aware that the transformation framework does not take any velocity information into account when transforming the position vector."
   ]
  },
  {
   "cell_type": "markdown",
   "id": "fc121441-d86d-4017-b862-579f0e8c1a55",
   "metadata": {},
   "source": [
    "## Creating a SkyCoord with velocity"
   ]
  },
  {
   "cell_type": "markdown",
   "id": "1746808e-6493-4ea4-a01c-d58ebbb30ab4",
   "metadata": {},
   "source": [
    "Velocity information can be added as keyword arguments to SkyCoord. For sunpy’s frames, the names of the velocities components are the names of the position components prepended by “d_”, e.g.,:"
   ]
  },
  {
   "cell_type": "code",
   "execution_count": null,
   "id": "b6cf9d26-383f-4755-a33a-65b6a9ae32fa",
   "metadata": {},
   "outputs": [],
   "source": [
    "import astropy.units as u\n",
    "from astropy.coordinates import SkyCoord\n",
    "\n",
    "import sunpy.coordinates"
   ]
  },
  {
   "cell_type": "code",
   "execution_count": null,
   "id": "62a8046e-1fbd-406a-b100-9d2e5e24b49e",
   "metadata": {},
   "outputs": [],
   "source": [
    "sc = SkyCoord(lon=10*u.deg, lat=20*u.deg, distance=1*u.AU,\n",
    "              d_lon=3*u.arcmin/u.week, d_lat=4*u.arcmin/u.d, d_distance=5*u.km/u.min,\n",
    "              frame='heliocentricinertial', obstime='2021-01-01')"
   ]
  },
  {
   "cell_type": "code",
   "execution_count": null,
   "id": "76c3ba93-5652-41ff-8c91-dc56fd6681eb",
   "metadata": {},
   "outputs": [
    {
     "data": {
      "text/plain": [
       "<SkyCoord (HeliocentricInertial: obstime=2021-01-01T00:00:00.000): (lon, lat, distance) in (deg, deg, AU)\n",
       "    (10., 20., 1.)\n",
       " (d_lon, d_lat, d_distance) in (arcsec / s, arcsec / s, km / s)\n",
       "    (0.00029762, 0.00277778, 0.08333333)>"
      ]
     },
     "execution_count": null,
     "metadata": {},
     "output_type": "execute_result"
    }
   ],
   "source": [
    "sc"
   ]
  },
  {
   "cell_type": "markdown",
   "id": "0766eebd-03af-403b-bc6d-213f09449335",
   "metadata": {},
   "source": [
    "## Querying velocity information"
   ]
  },
  {
   "cell_type": "markdown",
   "id": "e75ae039-3dfc-43ac-a6d7-65a9dc3e2f46",
   "metadata": {},
   "source": [
    "sunpy has functions to query the positions of planets or other objects (e.g., get_body_heliographic_stonyhurst()). For any of these functions, if include_velocity=True is specified, the returned coordinate will include velocity information, e.g.,:"
   ]
  },
  {
   "cell_type": "code",
   "execution_count": null,
   "id": "5381ddd2-e67d-44db-ab90-af92b525da6d",
   "metadata": {},
   "outputs": [],
   "source": [
    "from sunpy.coordinates import get_body_heliographic_stonyhurst"
   ]
  },
  {
   "cell_type": "code",
   "execution_count": null,
   "id": "51a19764-f10d-47f2-994b-a397c7175406",
   "metadata": {},
   "outputs": [
    {
     "data": {
      "text/plain": [
       "<HeliographicStonyhurst Coordinate (obstime=2021-01-01T00:00:00.000, rsun=695700.0 km): (lon, lat, radius) in (deg, deg, AU)\n",
       "    (-156.46460438, -1.38836399, 0.43234904)>"
      ]
     },
     "execution_count": null,
     "metadata": {},
     "output_type": "execute_result"
    }
   ],
   "source": [
    "get_body_heliographic_stonyhurst('mercury', '2021-01-01')"
   ]
  },
  {
   "cell_type": "code",
   "execution_count": null,
   "id": "70ad923a-a8b4-42ef-9f9c-bb16800aca88",
   "metadata": {},
   "outputs": [
    {
     "data": {
      "text/plain": [
       "<HeliographicStonyhurst Coordinate (obstime=2021-01-01T00:00:00.000, rsun=695700.0 km): (lon, lat, radius) in (deg, deg, AU)\n",
       "    (-156.46460438, -1.38836399, 0.43234904)\n",
       " (d_lon, d_lat, d_radius) in (arcsec / s, arcsec / s, km / s)\n",
       "    (0.09138133, 0.00720229, -7.2513617)>"
      ]
     },
     "execution_count": null,
     "metadata": {},
     "output_type": "execute_result"
    }
   ],
   "source": [
    "get_body_heliographic_stonyhurst('mercury', '2021-01-01', include_velocity=True)"
   ]
  },
  {
   "cell_type": "markdown",
   "id": "8e4eceb3-cf07-472a-80fe-a9ee223581b0",
   "metadata": {},
   "source": [
    "## Transforming velocities"
   ]
  },
  {
   "cell_type": "markdown",
   "id": "563ab604-3433-49ed-af93-ea29139fb3fe",
   "metadata": {},
   "source": [
    "The transformation of the velocity vector between two coordinate frames takes into account two effects:\n",
    "\n",
    "- The change in the direction of the velocity vector due to a change in the orientation of the axes between the two frames.\n",
    "\n",
    "- The “induced” velocity due to the time dependence of the frames themselves."
   ]
  },
  {
   "cell_type": "markdown",
   "id": "629c2f8c-8cf3-4c59-a2ab-95cac17b00a5",
   "metadata": {},
   "source": [
    "### Orientation change"
   ]
  },
  {
   "cell_type": "markdown",
   "id": "fc646286-bc2c-4566-b168-095a905a6e37",
   "metadata": {},
   "source": [
    "To illustrate the orientation change, let’s start with the SkyCoord created at the beginning, which was defined in the HeliocentricInertial frame. We transform to Astropy’s HCRS frame, which is a different inertial frame that is also centered at the Sun:"
   ]
  },
  {
   "cell_type": "code",
   "execution_count": null,
   "id": "ef4b126b-f2cd-4ae0-bd81-a02a5b93d6f1",
   "metadata": {},
   "outputs": [
    {
     "data": {
      "text/plain": [
       "<SkyCoord (HCRS: obstime=2021-01-01T00:00:00.000): (ra, dec, distance) in (deg, deg, AU)\n",
       "    (80.95428245, 44.31500877, 1.)\n",
       " (pm_ra_cosdec, pm_dec, radial_velocity) in (mas / yr, mas / yr, km / s)\n",
       "    (-8828398.21269986, 87659732.05294803, 0.08333338)>"
      ]
     },
     "execution_count": null,
     "metadata": {},
     "output_type": "execute_result"
    }
   ],
   "source": [
    "sc_hcrs = sc.transform_to('hcrs')\n",
    "sc_hcrs"
   ]
  },
  {
   "cell_type": "markdown",
   "id": "ba3fb97e-39ce-4d72-82c4-a7746d6c1e81",
   "metadata": {},
   "source": [
    "Even though the velocity vectors are oriented very differently in their respective spherical coordinates, their amplitudes are essentially the same:"
   ]
  },
  {
   "cell_type": "code",
   "execution_count": null,
   "id": "d7786468-3e6f-4fc7-bb21-8fbc1f0de236",
   "metadata": {},
   "outputs": [
    {
     "data": {
      "text/plain": [
       "<CartesianDifferential (d_x, d_y, d_z) in km / s\n",
       "    (-0.63668399, 0.09370135, 1.92164544)>"
      ]
     },
     "execution_count": null,
     "metadata": {},
     "output_type": "execute_result"
    }
   ],
   "source": [
    "sc.velocity"
   ]
  },
  {
   "cell_type": "code",
   "execution_count": null,
   "id": "6c1d5cea-9182-4753-8355-01f125d92dd6",
   "metadata": {},
   "outputs": [
    {
     "data": {
      "text/plain": [
       "<CartesianDifferential (d_x, d_y, d_z) in km / s\n",
       "    (-0.01153031, -1.36294173, 1.49970818)>"
      ]
     },
     "execution_count": null,
     "metadata": {},
     "output_type": "execute_result"
    }
   ],
   "source": [
    "sc_hcrs.velocity"
   ]
  },
  {
   "cell_type": "code",
   "execution_count": null,
   "id": "88ca0f66-4611-4e0f-882f-ddda6dc71d29",
   "metadata": {},
   "outputs": [
    {
     "data": {
      "text/latex": [
       "$2.0265408 \\; \\mathrm{\\frac{km}{s}}$"
      ],
      "text/plain": [
       "<Quantity 2.02654081 km / s>"
      ]
     },
     "execution_count": null,
     "metadata": {},
     "output_type": "execute_result"
    }
   ],
   "source": [
    "sc.velocity.norm()"
   ]
  },
  {
   "cell_type": "code",
   "execution_count": null,
   "id": "81e2b4ec-8364-4fa1-a4b6-7de62333be77",
   "metadata": {},
   "outputs": [
    {
     "data": {
      "text/latex": [
       "$2.0265408 \\; \\mathrm{\\frac{km}{s}}$"
      ],
      "text/plain": [
       "<Quantity 2.02654083 km / s>"
      ]
     },
     "execution_count": null,
     "metadata": {},
     "output_type": "execute_result"
    }
   ],
   "source": [
    "sc_hcrs.velocity.norm()"
   ]
  },
  {
   "cell_type": "markdown",
   "id": "5cc01ae9-f154-49ae-b81e-9db63103a8fe",
   "metadata": {},
   "source": [
    "### Induced velocity"
   ]
  },
  {
   "cell_type": "markdown",
   "id": "769b61ca-2921-47ca-a05f-d6222c495871",
   "metadata": {},
   "source": [
    "To illustrate “induced” velocity, consider the HeliographicStonyhurst frame, which is defined such that the Earth is always at zero degrees longitude. That is, this frame rotates around the Sun over time to “follow” the Earth. Accordingly, the longitude component of Earth’s velocity vector will be negligible in this frame:"
   ]
  },
  {
   "cell_type": "code",
   "execution_count": null,
   "id": "5da5bc2a-0d82-4a63-ac9d-cbafd9a1b393",
   "metadata": {},
   "outputs": [],
   "source": [
    "from sunpy.coordinates import get_earth"
   ]
  },
  {
   "cell_type": "code",
   "execution_count": null,
   "id": "16e36416-2d48-4ee5-872f-e3db25df7bcc",
   "metadata": {},
   "outputs": [
    {
     "data": {
      "text/plain": [
       "<SkyCoord (HeliographicStonyhurst: obstime=2021-01-01T00:00:00.000, rsun=695700.0 km): (lon, lat, radius) in (deg, deg, AU)\n",
       "    (0., -3.02983361, 0.98326486)\n",
       " (d_lon, d_lat, d_radius) in (arcsec / s, arcsec / s, km / s)\n",
       "    (7.85963267e-09, -0.00487486, -0.01720929)>"
      ]
     },
     "execution_count": null,
     "metadata": {},
     "output_type": "execute_result"
    }
   ],
   "source": [
    "earth = get_earth('2021-01-01', include_velocity=True)\n",
    "earth"
   ]
  },
  {
   "cell_type": "markdown",
   "id": "4c60433c-4075-4158-874d-d66bf64a67f3",
   "metadata": {},
   "source": [
    "Transforming this coordinate to the HeliocentricInertial frame, which does not rotate over time, confirms that the Earth is moving in inertial space at the expected ~1 degree/day in heliographic longitude:"
   ]
  },
  {
   "cell_type": "code",
   "execution_count": null,
   "id": "5034b8ae-dbec-4a6d-84d2-a10e0cac9534",
   "metadata": {},
   "outputs": [
    {
     "data": {
      "text/plain": [
       "<SkyCoord (HeliocentricInertial: obstime=2021-01-01T00:00:00.000): (lon, lat, distance) in (deg, deg, AU)\n",
       "    (24.55623543, -3.02983361, 0.98326486)\n",
       " (d_lon, d_lat, d_distance) in (arcsec / s, arcsec / s, km / s)\n",
       "    (0.04223211, -0.00487486, -0.01720928)>"
      ]
     },
     "execution_count": null,
     "metadata": {},
     "output_type": "execute_result"
    }
   ],
   "source": [
    "earth.heliocentricinertial"
   ]
  },
  {
   "cell_type": "code",
   "execution_count": null,
   "id": "0f7e2055-99ae-4408-bce4-801752d5b08d",
   "metadata": {},
   "outputs": [
    {
     "data": {
      "text/latex": [
       "$1.0135705 \\; \\mathrm{\\frac{{}^{\\circ}}{d}}$"
      ],
      "text/plain": [
       "<Quantity 1.01357052 deg / d>"
      ]
     },
     "execution_count": null,
     "metadata": {},
     "output_type": "execute_result"
    }
   ],
   "source": [
    "earth.heliocentricinertial.d_lon.to('deg/d')"
   ]
  },
  {
   "cell_type": "markdown",
   "id": "213bf55a-156c-42bd-85e1-ec3afbb6cb56",
   "metadata": {},
   "source": [
    "## Transforming over time"
   ]
  },
  {
   "cell_type": "markdown",
   "id": "a997b87a-7e67-40a9-8a7a-b57ee62fcee2",
   "metadata": {},
   "source": [
    "As the transformation framework is currently implemented, transforming between frames with different values of obstime takes into account any time dependency for the definitions of the frames, but does not incorporate any notion of the coordinate itself moving in inertial space. This behavior does not change even if there is velocity information attached to the coordinate. For example, if we take the same coordinate created earlier for Earth, and transform it to one day later:"
   ]
  },
  {
   "cell_type": "code",
   "execution_count": null,
   "id": "adbfe841-4849-465f-8541-f2056b3bb072",
   "metadata": {},
   "outputs": [],
   "source": [
    "from sunpy.coordinates import HeliographicStonyhurst"
   ]
  },
  {
   "cell_type": "code",
   "execution_count": null,
   "id": "073a5b58-b98d-4be2-ac8b-d7cfed908f15",
   "metadata": {},
   "outputs": [
    {
     "data": {
      "text/plain": [
       "<SkyCoord (HeliographicStonyhurst: obstime=2021-01-02T00:00:00.000, rsun=695700.0 km): (lon, lat, radius) in (deg, deg, AU)\n",
       "    (-1.01416251, -3.02979409, 0.98326928)\n",
       " (d_lon, d_lat, d_radius) in (arcsec / s, arcsec / s, km / s)\n",
       "    (-1.19375269e-05, -0.00487485, -0.01743003)>"
      ]
     },
     "execution_count": null,
     "metadata": {},
     "output_type": "execute_result"
    }
   ],
   "source": [
    "earth.transform_to(HeliographicStonyhurst(obstime=earth.obstime + 1*u.day))"
   ]
  },
  {
   "cell_type": "markdown",
   "id": "749a73ef-1bea-44bc-9b2c-4f45d4691e90",
   "metadata": {},
   "source": [
    "Note that the location of the Earth in the new frame is ~ -1 degree in longitude, as opposed to zero degrees. That is, this coordinate represents the location of Earth on 2021 January 1 using axes that are defined using the location of Earth on 2021 January 2."
   ]
  },
  {
   "cell_type": "code",
   "execution_count": null,
   "id": "b41292fb-a086-47e0-945b-64146036e482",
   "metadata": {},
   "outputs": [],
   "source": []
  }
 ],
 "metadata": {
  "kernelspec": {
   "display_name": "python3",
   "language": "python",
   "name": "python3"
  }
 },
 "nbformat": 4,
 "nbformat_minor": 5
}

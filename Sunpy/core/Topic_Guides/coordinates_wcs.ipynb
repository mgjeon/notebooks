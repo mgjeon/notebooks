{
 "cells": [
  {
   "cell_type": "markdown",
   "id": "8bae932a-b144-40e2-b3ea-3cf96f75bea5",
   "metadata": {},
   "source": [
    "# Coordinates and WCS\n",
    "\n",
    "- https://docs.sunpy.org/en/stable/topic_guide/coordinates/wcs.html"
   ]
  },
  {
   "cell_type": "markdown",
   "id": "ff0b5216-51d1-4a29-8fb4-06b52a5a565d",
   "metadata": {},
   "source": [
    "The sunpy.coordinates sub-package provides a mapping between FITS-WCS CTYPE convention and the coordinate frames as defined in sunpy.coordinates. This is used via the astropy.wcs.utils.wcs_to_celestial_frame function, with which the sunpy frames are registered upon being imported. This list is used by for example, wcsaxes to convert from astropy.wcs.WCS objects to coordinate frames."
   ]
  },
  {
   "cell_type": "markdown",
   "id": "a56b08b4-1a85-42df-b350-cd19ce766b7f",
   "metadata": {},
   "source": [
    "The sunpy.map.GenericMap class creates astropy.wcs.WCS objects as amap.wcs, however, it adds some extra attributes to the WCS object to be able to fully specify the coordinate frame. It adds heliographic_observer and rsun."
   ]
  },
  {
   "cell_type": "markdown",
   "id": "b4f94e04-affe-4165-aceb-ab8b9a388977",
   "metadata": {},
   "source": [
    "If you want to obtain a un-realized coordinate frame corresponding to a GenericMap object you can do the following:"
   ]
  },
  {
   "cell_type": "code",
   "execution_count": null,
   "id": "41ffc4d5-24ae-4fee-9598-cc9637cbde12",
   "metadata": {},
   "outputs": [],
   "source": [
    "import sunpy.map\n",
    "from sunpy.data.sample import AIA_171_IMAGE "
   ]
  },
  {
   "cell_type": "code",
   "execution_count": null,
   "id": "f6a773a1-37a8-44ca-985d-a9142917f368",
   "metadata": {},
   "outputs": [
    {
     "name": "stderr",
     "output_type": "stream",
     "text": [
      "WARNING: VerifyWarning: Invalid 'BLANK' keyword in header.  The 'BLANK' keyword is only applicable to integer data, and will be ignored in this HDU. [astropy.io.fits.hdu.image]\n"
     ]
    }
   ],
   "source": [
    "amap = sunpy.map.Map(AIA_171_IMAGE)  "
   ]
  },
  {
   "cell_type": "code",
   "execution_count": null,
   "id": "0fd40112-9a9a-45b2-9101-21cfed848758",
   "metadata": {},
   "outputs": [
    {
     "data": {
      "text/plain": [
       "<Helioprojective Frame (obstime=2011-06-07T06:33:02.880, rsun=696000.0 km, observer=<HeliographicStonyhurst Coordinate (obstime=2011-06-07T06:33:02.880, rsun=696000.0 km): (lon, lat, radius) in (deg, deg, m)\n",
       "    (-0.00406429, 0.04787238, 1.51846026e+11)>)>"
      ]
     },
     "execution_count": null,
     "metadata": {},
     "output_type": "execute_result"
    }
   ],
   "source": [
    "amap.coordinate_frame"
   ]
  },
  {
   "cell_type": "markdown",
   "id": "98e9e4ca-f548-4f5e-94b7-fc6c481f670a",
   "metadata": {},
   "source": [
    "which is equivalent to:"
   ]
  },
  {
   "cell_type": "code",
   "execution_count": null,
   "id": "aaff353b-3a8c-4ee6-98a8-ccff33f938d1",
   "metadata": {},
   "outputs": [],
   "source": [
    "from astropy.wcs.utils import wcs_to_celestial_frame "
   ]
  },
  {
   "cell_type": "code",
   "execution_count": null,
   "id": "78530093-d71a-40fc-83a4-3cfdb00166bc",
   "metadata": {},
   "outputs": [
    {
     "data": {
      "text/plain": [
       "<Helioprojective Frame (obstime=2011-06-07T06:33:02.880, rsun=696000.0 km, observer=<HeliographicStonyhurst Coordinate (obstime=2011-06-07T06:33:02.880, rsun=696000.0 km): (lon, lat, radius) in (deg, deg, m)\n",
       "    (-0.00406429, 0.04787238, 1.51846026e+11)>)>"
      ]
     },
     "execution_count": null,
     "metadata": {},
     "output_type": "execute_result"
    }
   ],
   "source": [
    "wcs_to_celestial_frame(amap.wcs)"
   ]
  },
  {
   "cell_type": "code",
   "execution_count": null,
   "id": "9ed15982-3a32-4d3b-abe4-fd9a61cf1f67",
   "metadata": {},
   "outputs": [],
   "source": []
  }
 ],
 "metadata": {
  "kernelspec": {
   "display_name": "python3",
   "language": "python",
   "name": "python3"
  }
 },
 "nbformat": 4,
 "nbformat_minor": 5
}

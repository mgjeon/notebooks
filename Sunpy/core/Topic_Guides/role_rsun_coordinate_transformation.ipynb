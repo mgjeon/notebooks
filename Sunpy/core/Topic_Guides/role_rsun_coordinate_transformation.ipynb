{
 "cells": [
  {
   "cell_type": "markdown",
   "id": "44c58091-5595-454a-adf8-291fb078e3a2",
   "metadata": {},
   "source": [
    "# The role of rsun in coordinate transformations\n",
    "\n",
    "- https://docs.sunpy.org/en/stable/topic_guide/coordinates/rsun.html"
   ]
  },
  {
   "cell_type": "markdown",
   "id": "136b7cf8-92a9-46de-a51b-2748304b5f8d",
   "metadata": {},
   "source": [
    "In the case of HeliographicCarrington, one can specify observer='self' to indicate that the coordinate itself should be used as the observer for defining the coordinate frame.\n",
    "\n",
    "It is possible to convert from a Helioprojective frame with one observer location to another Helioprojective frame with a different observer location. The transformation requires the coordinate to be 3D, so if the initial coordinate is only 2D, the default assumption maps that 2D coordinate to the surface of the Sun, as defined by the rsun frame attribute. The conversion can be performed as follows:"
   ]
  },
  {
   "cell_type": "code",
   "execution_count": null,
   "id": "a44e2575-bd4d-4f22-aceb-d800cfa73547",
   "metadata": {},
   "outputs": [],
   "source": [
    "import astropy.units as u\n",
    "from astropy.coordinates import SkyCoord\n",
    "\n",
    "from sunpy.coordinates import frames\n",
    "import sunpy.coordinates"
   ]
  },
  {
   "cell_type": "code",
   "execution_count": null,
   "id": "e178020e-c872-4fb6-ada9-7859ddd3f03a",
   "metadata": {},
   "outputs": [
    {
     "data": {
      "text/plain": [
       "<SkyCoord (Helioprojective: obstime=2017-07-26T00:00:00.000, rsun=695700.0 km, observer=<HeliographicStonyhurst Coordinate for 'earth'>): (Tx, Ty) in arcsec\n",
       "    (0., 0.)>"
      ]
     },
     "execution_count": null,
     "metadata": {},
     "output_type": "execute_result"
    }
   ],
   "source": [
    "hpc1 = SkyCoord(0*u.arcsec, 0*u.arcsec, observer=\"earth\", obstime=\"2017-07-26\", frame=frames.Helioprojective)\n",
    "hpc1"
   ]
  },
  {
   "cell_type": "code",
   "execution_count": null,
   "id": "9e13c83a-5e3e-4111-a618-edee8d5ea7fa",
   "metadata": {},
   "outputs": [
    {
     "data": {
      "text/plain": [
       "<Helioprojective Frame (obstime=2017-07-26T00:00:00.000, rsun=695700.0 km, observer=<HeliographicStonyhurst Coordinate for 'venus'>)>"
      ]
     },
     "execution_count": null,
     "metadata": {},
     "output_type": "execute_result"
    }
   ],
   "source": [
    "hpc_out = sunpy.coordinates.Helioprojective(observer=\"venus\", obstime=\"2017-07-26\")\n",
    "hpc_out"
   ]
  },
  {
   "cell_type": "code",
   "execution_count": null,
   "id": "2d65fabf-e3fb-4d8d-ae5f-d30380c86b62",
   "metadata": {},
   "outputs": [
    {
     "data": {
      "text/plain": [
       "<SkyCoord (Helioprojective: obstime=2017-07-26T00:00:00.000, rsun=695700.0 km, observer=<HeliographicStonyhurst Coordinate for 'venus'>): (Tx, Ty, distance) in (arcsec, arcsec, AU)\n",
       "    (-1285.47497992, 106.20918654, 0.72405937)>"
      ]
     },
     "execution_count": null,
     "metadata": {},
     "output_type": "execute_result"
    }
   ],
   "source": [
    "hpc2 = hpc1.transform_to(hpc_out)\n",
    "hpc2"
   ]
  },
  {
   "cell_type": "code",
   "execution_count": null,
   "id": "4e29708c-202c-4cb7-98c2-6e6cf8bae99d",
   "metadata": {},
   "outputs": [],
   "source": [
    "class EVEClient(GenericClient):\n",
    "    baseurl = (r'http://lasp.colorado.edu/eve/data_access/evewebdata/quicklook/'\n",
    "                r'L0CS/SpWx/%Y/%Y%m%d_EVE_L0CS_DIODES_1m.txt')\n",
    "    pattern = '{}/SpWx/{:4d}/{year:4d}{month:2d}{day:2d}_EVE_L{Level:1d}{}'\n",
    "\n",
    "    @classmethod\n",
    "    def register_values(cls):\n",
    "        from sunpy.net import attrs\n",
    "        adict = {attrs.Instrument: [('EVE', 'Extreme ultraviolet Variability Experiment, which is part of the NASA Solar Dynamics Observatory mission.')],\n",
    "                attrs.Physobs: [('irradiance', 'the flux of radiant energy per unit area.')],\n",
    "                attrs.Source: [('SDO', 'The Solar Dynamics Observatory.')],\n",
    "                attrs.Provider: [('LASP', 'The Laboratory for Atmospheric and Space Physics.')],\n",
    "                attrs.Level: [('0', 'EVE: The specific EVE client can only return Level 0C data. Any other number will use the VSO Client.')]}\n",
    "        return adict"
   ]
  }
 ],
 "metadata": {
  "kernelspec": {
   "display_name": "python3",
   "language": "python",
   "name": "python3"
  }
 },
 "nbformat": 4,
 "nbformat_minor": 5
}

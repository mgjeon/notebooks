{
 "cells": [
  {
   "cell_type": "markdown",
   "id": "66189a17",
   "metadata": {},
   "source": [
    "# Differential rotation using coordinate frames\n",
    "\n",
    "- https://docs.sunpy.org/en/stable/topic_guide/coordinates/rotatedsunframe.html"
   ]
  },
  {
   "cell_type": "markdown",
   "id": "bb3f2350",
   "metadata": {},
   "source": [
    "Normally, coordinates refer to a point in inertial space (relative to the barycenter of the solar system). Transforming to a different observation time does not move the point itself, but if the coordinate frame origin and/or axis change with time, the coordinate representation is updated to account for this change. In solar physics an example of a frame that changes with time is the HeliographicStonyhurst (HGS) frame. Its origin moves with the center of the Sun, and its orientation rotates such that the longitude component of Earth is zero at any given time. A coordinate in a HGS frame of reference transformed to a HGS frame defined a day later will have a different longitude:"
   ]
  },
  {
   "cell_type": "code",
   "execution_count": null,
   "id": "7fdb9f41-1525-4b18-b8c5-9eb3907c60e5",
   "metadata": {},
   "outputs": [],
   "source": [
    "import astropy.units as u\n",
    "from astropy.coordinates import SkyCoord\n",
    "\n",
    "from sunpy.coordinates import HeliographicStonyhurst"
   ]
  },
  {
   "cell_type": "code",
   "execution_count": null,
   "id": "18ce02cd",
   "metadata": {},
   "outputs": [],
   "source": [
    "hgs_coord = SkyCoord(0*u.deg, 0*u.deg, radius=1*u.au, frame='heliographic_stonyhurst', obstime=\"2001-01-01\")\n",
    "new_frame = HeliographicStonyhurst(obstime=\"2001-01-02\")\n",
    "new_hgs_coord = hgs_coord.transform_to(new_frame)"
   ]
  },
  {
   "cell_type": "code",
   "execution_count": null,
   "id": "599c42e3",
   "metadata": {},
   "outputs": [
    {
     "data": {
      "text/latex": [
       "$0^\\circ00{}^\\prime00{}^{\\prime\\prime}$"
      ],
      "text/plain": [
       "<Longitude 0. deg>"
      ]
     },
     "execution_count": null,
     "metadata": {},
     "output_type": "execute_result"
    }
   ],
   "source": [
    "hgs_coord.lon"
   ]
  },
  {
   "cell_type": "code",
   "execution_count": null,
   "id": "9ea2f781",
   "metadata": {},
   "outputs": [
    {
     "data": {
      "text/latex": [
       "$-1^\\circ00{}^\\prime49.41210931{}^{\\prime\\prime}$"
      ],
      "text/plain": [
       "<Longitude -1.01372559 deg>"
      ]
     },
     "execution_count": null,
     "metadata": {},
     "output_type": "execute_result"
    }
   ],
   "source": [
    "new_hgs_coord.lon"
   ]
  },
  {
   "cell_type": "markdown",
   "id": "aa31a720",
   "metadata": {},
   "source": [
    "but when transformed to an inertial frame of reference we can see that these two coordinates refer to the same point in space:"
   ]
  },
  {
   "cell_type": "code",
   "execution_count": null,
   "id": "18437ec4",
   "metadata": {},
   "outputs": [
    {
     "data": {
      "text/plain": [
       "<SkyCoord (ICRS): (ra, dec, distance) in (deg, deg, AU)\n",
       "    (101.79107615, 26.05004621, 0.99601156)>"
      ]
     },
     "execution_count": null,
     "metadata": {},
     "output_type": "execute_result"
    }
   ],
   "source": [
    "hgs_coord.transform_to('icrs')"
   ]
  },
  {
   "cell_type": "code",
   "execution_count": null,
   "id": "df2e841b",
   "metadata": {},
   "outputs": [
    {
     "data": {
      "text/plain": [
       "<SkyCoord (ICRS): (ra, dec, distance) in (deg, deg, AU)\n",
       "    (101.79107615, 26.05004621, 0.99601156)>"
      ]
     },
     "execution_count": null,
     "metadata": {},
     "output_type": "execute_result"
    }
   ],
   "source": [
    "new_hgs_coord.transform_to('icrs')"
   ]
  },
  {
   "cell_type": "markdown",
   "id": "c4bbbb5d",
   "metadata": {},
   "source": [
    "To evolve a coordinate in time such that it accounts for the rotational motion of the Sun, one can use the RotatedSunFrame “metaframe” class as described below. This machinery will take into account the latitude-dependent rotation rate of the solar surface, also known as differential rotation. Multiple models for differential rotation are supported.\n",
    "\n",
    "RotatedSunFrame is a powerful metaframe, but can be tricky to use correctly. We recommend users to first check if the simpler propagate_with_solar_surface() context manager is sufficient for their needs.\n",
    "\n",
    "In addition, one may want to account for the translational motion of the Sun as well, and that can be achieved by also using the context manager transform_with_sun_center() for desired coordinate transformations."
   ]
  },
  {
   "cell_type": "markdown",
   "id": "9d3bf3f5",
   "metadata": {},
   "source": [
    "## Basics of the RotatedSunFrame class\n",
    "\n"
   ]
  },
  {
   "cell_type": "markdown",
   "id": "d4d0d2c5",
   "metadata": {},
   "source": [
    "The RotatedSunFrame class allows one to specify coordinates in a coordinate frame prior to an amount of solar (differential) rotation being applied. That is, the coordinate will point to a location in inertial space at some time, but will use a coordinate system at a different time to refer to that point, while accounting for the differential rotation between those two times.\n",
    "\n",
    "RotatedSunFrame is not itself a coordinate frame, but is instead a “metaframe”. A new frame class is created on the fly corresponding to each base coordinate frame class. This tutorial will refer to these new classes as RotatedSun* frames."
   ]
  },
  {
   "cell_type": "markdown",
   "id": "93df0b64",
   "metadata": {},
   "source": [
    "### Creating coordinates"
   ]
  },
  {
   "cell_type": "markdown",
   "id": "a7c5a024",
   "metadata": {},
   "source": [
    "RotatedSunFrame requires two inputs: the base coordinate frame and the duration of solar rotation. The base coordinate frame needs to be fully specified, which means a defined obstime and, if relevant, a defined observer. Note that the RotatedSun* frame that is created in this example is appropriately named RotatedSunHeliographicStonyhurst:"
   ]
  },
  {
   "cell_type": "code",
   "execution_count": null,
   "id": "466ccc91",
   "metadata": {},
   "outputs": [],
   "source": [
    "from sunpy.coordinates import RotatedSunFrame\n",
    "import sunpy.coordinates.frames as frames"
   ]
  },
  {
   "cell_type": "code",
   "execution_count": null,
   "id": "ea39d2e9",
   "metadata": {},
   "outputs": [
    {
     "data": {
      "text/plain": [
       "<RotatedSunHeliographicStonyhurst Frame (base=<HeliographicStonyhurst Frame (obstime=2001-01-01T00:00:00.000, rsun=695700.0 km)>, duration=1.0 d, rotation_model=howard)>"
      ]
     },
     "execution_count": null,
     "metadata": {},
     "output_type": "execute_result"
    }
   ],
   "source": [
    "base_frame = frames.HeliographicStonyhurst(obstime=\"2001-01-01\")\n",
    "rs_hgs = RotatedSunFrame(base=base_frame, duration=1*u.day)\n",
    "rs_hgs"
   ]
  },
  {
   "cell_type": "markdown",
   "id": "81222826",
   "metadata": {},
   "source": [
    "Once a RotatedSun* frame is created, it can be used in the same manner as other frames. Here, we create a SkyCoord using the RotatedSun* frame:"
   ]
  },
  {
   "cell_type": "code",
   "execution_count": null,
   "id": "0c621871",
   "metadata": {},
   "outputs": [
    {
     "data": {
      "text/plain": [
       "<SkyCoord (RotatedSunHeliographicStonyhurst: base=<HeliographicStonyhurst Frame (obstime=2001-01-01T00:00:00.000, rsun=695700.0 km)>, duration=1.0 d, rotation_model=howard): (lon, lat) in deg\n",
       "    (0., 0.)>"
      ]
     },
     "execution_count": null,
     "metadata": {},
     "output_type": "execute_result"
    }
   ],
   "source": [
    "rotated_coord = SkyCoord(0*u.deg, 0*u.deg, frame=rs_hgs)\n",
    "rotated_coord"
   ]
  },
  {
   "cell_type": "markdown",
   "id": "a072ce25",
   "metadata": {},
   "source": [
    "Transforming this into the original heliographic Stonyhurst frame, we can see that the longitude is equal to the original zero degrees, plus an extra offset to account for one day of differential rotation:"
   ]
  },
  {
   "cell_type": "code",
   "execution_count": null,
   "id": "89c19014",
   "metadata": {},
   "outputs": [
    {
     "data": {
      "text/plain": [
       "<SkyCoord (HeliographicStonyhurst: obstime=2001-01-01T00:00:00.000, rsun=695700.0 km): (lon, lat, radius) in (deg, deg, km)\n",
       "    (14.32632838, 0., 695700.)>"
      ]
     },
     "execution_count": null,
     "metadata": {},
     "output_type": "execute_result"
    }
   ],
   "source": [
    "rotated_coord.transform_to(base_frame)"
   ]
  },
  {
   "cell_type": "markdown",
   "id": "2539845d",
   "metadata": {},
   "source": [
    "Instead of explicitly specifying the duration of solar rotation, one can use the keyword argument rotated_time. The duration will be automatically calculated from the difference between rotated_time and the obstime value of the base coordinate frame. Here, we also include coordinate data in the supplied base coordinate frame:"
   ]
  },
  {
   "cell_type": "code",
   "execution_count": null,
   "id": "cc31ead6",
   "metadata": {},
   "outputs": [
    {
     "data": {
      "text/plain": [
       "<RotatedSunHeliographicCarrington Coordinate (base=<HeliographicCarrington Frame (obstime=2020-03-04T00:00:00.000, rsun=695700.0 km, observer=<HeliographicStonyhurst Coordinate for 'earth'>)>, duration=2.5 d, rotation_model=howard): (lon, lat) in deg\n",
       "    (10., 20.)>"
      ]
     },
     "execution_count": null,
     "metadata": {},
     "output_type": "execute_result"
    }
   ],
   "source": [
    "rs_hgc = RotatedSunFrame(base=frames.HeliographicCarrington(10*u.deg, 20*u.deg, observer=\"earth\",\n",
    "                                                            obstime=\"2020-03-04 00:00\"),\n",
    "                         rotated_time=\"2020-03-06 12:00\")\n",
    "rs_hgc"
   ]
  },
  {
   "cell_type": "markdown",
   "id": "1b5b8c18",
   "metadata": {},
   "source": [
    "A RotatedSun* frame containing coordinate data can be supplied to SkyCoord as normal:"
   ]
  },
  {
   "cell_type": "code",
   "execution_count": null,
   "id": "52ad6a9a",
   "metadata": {},
   "outputs": [
    {
     "data": {
      "text/plain": [
       "<SkyCoord (RotatedSunHeliographicCarrington: base=<HeliographicCarrington Frame (obstime=2020-03-04T00:00:00.000, rsun=695700.0 km, observer=<HeliographicStonyhurst Coordinate for 'earth'>)>, duration=2.5 d, rotation_model=howard): (lon, lat) in deg\n",
       "    (10., 20.)>"
      ]
     },
     "execution_count": null,
     "metadata": {},
     "output_type": "execute_result"
    }
   ],
   "source": [
    "SkyCoord(rs_hgc)"
   ]
  },
  {
   "cell_type": "markdown",
   "id": "0f0d79cf",
   "metadata": {},
   "source": [
    "The above examples used the default differential-rotation model, but any of the models available through sunpy.sun.models.differential_rotation() are selectable. For example, instead of the default (“howard”), one can specify “allen” using the keyword argument rotation_model. Note the slight difference in the “real” longitude compared to the output above:"
   ]
  },
  {
   "cell_type": "code",
   "execution_count": null,
   "id": "87e283ef",
   "metadata": {},
   "outputs": [
    {
     "data": {
      "text/plain": [
       "<HeliographicCarrington Coordinate (obstime=2020-03-04T00:00:00.000, rsun=695700.0 km, observer=<HeliographicStonyhurst Coordinate for 'earth'>): (lon, lat, radius) in (deg, deg, km)\n",
       "    (45.13354448, 20., 695700.)>"
      ]
     },
     "execution_count": null,
     "metadata": {},
     "output_type": "execute_result"
    }
   ],
   "source": [
    "rs_hgc.transform_to(rs_hgc.base)"
   ]
  },
  {
   "cell_type": "code",
   "execution_count": null,
   "id": "005a2a0b",
   "metadata": {},
   "outputs": [
    {
     "data": {
      "text/plain": [
       "<HeliographicCarrington Coordinate (obstime=2020-03-04T00:00:00.000, rsun=695700.0 km, observer=<HeliographicStonyhurst Coordinate for 'earth'>): (lon, lat, radius) in (deg, deg, km)\n",
       "    (45.22266666, 20., 695700.)>"
      ]
     },
     "execution_count": null,
     "metadata": {},
     "output_type": "execute_result"
    }
   ],
   "source": [
    "allen = RotatedSunFrame(base=frames.HeliographicCarrington(10*u.deg, 20*u.deg, observer=\"earth\",\n",
    "                                                           obstime=\"2020-03-04 00:00\"),\n",
    "                           rotated_time=\"2020-03-06 12:00\", rotation_model=\"allen\")\n",
    "allen.transform_to(allen.base)"
   ]
  },
  {
   "cell_type": "markdown",
   "id": "4f376293",
   "metadata": {},
   "source": [
    "### Transforming coordinate arrays\n"
   ]
  },
  {
   "cell_type": "markdown",
   "id": "7cc55bd2",
   "metadata": {},
   "source": [
    "For another transformation example, we define a meridian with a Carrington longitude of 100 degrees, plus 1 day of differential rotation. Again, the coordinates are already differentially rotated in inertial space; the RotatedSun* frame allows one to represent the coordinates in a frame prior to the differential rotation:"
   ]
  },
  {
   "cell_type": "code",
   "execution_count": null,
   "id": "4d67659a",
   "metadata": {},
   "outputs": [
    {
     "data": {
      "text/plain": [
       "<RotatedSunHeliographicCarrington Coordinate (base=<HeliographicCarrington Frame (obstime=2001-01-01T00:00:00.000, rsun=695700.0 km, observer=<HeliographicStonyhurst Coordinate for 'earth'>)>, duration=1.0 d, rotation_model=howard): (lon, lat) in deg\n",
       "    [(100., -75.), (100., -60.), (100., -45.), (100., -30.), (100., -15.),\n",
       "     (100.,   0.), (100.,  15.), (100.,  30.), (100.,  45.), (100.,  60.),\n",
       "     (100.,  75.)]>"
      ]
     },
     "execution_count": null,
     "metadata": {},
     "output_type": "execute_result"
    }
   ],
   "source": [
    "meridian = RotatedSunFrame([100]*11*u.deg, range(-75, 90, 15)*u.deg,\n",
    "                           base=frames.HeliographicCarrington(observer=\"earth\", obstime=\"2001-01-01\"),\n",
    "                           duration=1*u.day)\n",
    "meridian"
   ]
  },
  {
   "cell_type": "markdown",
   "id": "72ab48d0",
   "metadata": {},
   "source": [
    "An easy way to \"see\" the differential rotation is to transform the coordinates to the base coordinate frame. Note that the points closer to the equator (latitude of 0 degrees) have evolved farther in longitude than the points at high latitudes:"
   ]
  },
  {
   "cell_type": "code",
   "execution_count": null,
   "id": "5c06155d",
   "metadata": {},
   "outputs": [
    {
     "data": {
      "text/plain": [
       "<HeliographicCarrington Coordinate (obstime=2001-01-01T00:00:00.000, rsun=695700.0 km, observer=<HeliographicStonyhurst Coordinate for 'earth'>): (lon, lat, radius) in (deg, deg, km)\n",
       "    [(110.7550473 , -75., 695700.), (111.70697161, -60., 695700.),\n",
       "     (112.80904447, -45., 695700.), (113.68216339, -30., 695700.),\n",
       "     (114.17617983, -15., 695700.), (114.32632838,   0., 695700.),\n",
       "     (114.17617983,  15., 695700.), (113.68216339,  30., 695700.),\n",
       "     (112.80904447,  45., 695700.), (111.70697161,  60., 695700.),\n",
       "     (110.7550473 ,  75., 695700.)]>"
      ]
     },
     "execution_count": null,
     "metadata": {},
     "output_type": "execute_result"
    }
   ],
   "source": [
    "meridian.transform_to(meridian.base)"
   ]
  },
  {
   "cell_type": "markdown",
   "id": "793011b5",
   "metadata": {},
   "source": [
    "In the specific case of HeliographicCarrington, this frame rotates with the Sun, but in a non-differential manner. The Carrington longitude approximately follows the rotation of the Sun. One can transform to the coordinate frame of 1 day in the future to see the difference between Carrington rotation and differential rotation. Note that equator rotates slightly faster than the Carrington rotation rate (its longitude is now greater than 100 degrees), but most latitudes rotate slower than the Carrington rotation rate:"
   ]
  },
  {
   "cell_type": "code",
   "execution_count": null,
   "id": "6951cb1d",
   "metadata": {},
   "outputs": [
    {
     "data": {
      "text/plain": [
       "<HeliographicCarrington Coordinate (obstime=2001-01-02T00:00:00.000, rsun=695700.0 km, observer=<HeliographicStonyhurst Coordinate for 'earth'>): (lon, lat, radius) in (deg, deg, km)\n",
       "    [( 96.71777552, -7.51035280e+01, 695509.61226612),\n",
       "     ( 97.60193088, -6.00954217e+01, 695194.47689542),\n",
       "     ( 98.68350999, -4.50808511e+01, 694918.44538999),\n",
       "     ( 99.54760854, -3.00611014e+01, 694697.75301952),\n",
       "     (100.03737064, -1.50375281e+01, 694544.3138018 ),\n",
       "     (100.18622957, -1.15723588e-02, 694467.21969767),\n",
       "     (100.03737064,  1.50151761e+01, 694471.58239044),\n",
       "     ( 99.54760854,  3.00410725e+01, 694557.27090716),\n",
       "     ( 98.68350999,  4.50645144e+01, 694719.82847332),\n",
       "     ( 97.60193088,  6.00838908e+01, 694951.31065278),\n",
       "     ( 96.71777552,  7.50975847e+01, 695238.51302901)]>"
      ]
     },
     "execution_count": null,
     "metadata": {},
     "output_type": "execute_result"
    }
   ],
   "source": [
    "meridian.transform_to(frames.HeliographicCarrington(observer=\"earth\", obstime=\"2001-01-02\"))"
   ]
  },
  {
   "cell_type": "markdown",
   "id": "f449f396",
   "metadata": {},
   "source": [
    "Be aware that transformations with a change in obstime will also contend with a translation of the center of the Sun. Note that the radius component above is no longer precisely on the surface of the Sun. For precise transformations of solar features, one should also use the context manager transform_with_sun_center() to account for the translational motion of the Sun. Using the context manager, the radius component stays as the solar radius as desired:"
   ]
  },
  {
   "cell_type": "code",
   "execution_count": null,
   "id": "93a7b078",
   "metadata": {},
   "outputs": [
    {
     "name": "stdout",
     "output_type": "stream",
     "text": [
      "<HeliographicCarrington Coordinate (obstime=2001-01-02T00:00:00.000, rsun=695700.0 km, observer=<HeliographicStonyhurst Coordinate for 'earth'>): (lon, lat, radius) in (deg, deg, km)\n",
      "    [( 96.5706461 , -7.50000000e+01, 695700.),\n",
      "     ( 97.52257041, -6.00000000e+01, 695700.),\n",
      "     ( 98.62464327, -4.50000000e+01, 695700.),\n",
      "     ( 99.49776219, -3.00000000e+01, 695700.),\n",
      "     ( 99.99177863, -1.50000000e+01, 695700.),\n",
      "     (100.14192718, -1.19845239e-15, 695700.),\n",
      "     ( 99.99177863,  1.50000000e+01, 695700.),\n",
      "     ( 99.49776219,  3.00000000e+01, 695700.),\n",
      "     ( 98.62464327,  4.50000000e+01, 695700.),\n",
      "     ( 97.52257041,  6.00000000e+01, 695700.),\n",
      "     ( 96.5706461 ,  7.50000000e+01, 695700.)]>\n"
     ]
    }
   ],
   "source": [
    "from sunpy.coordinates import transform_with_sun_center\n",
    "\n",
    "with transform_with_sun_center():\n",
    "    print(meridian.transform_to(frames.HeliographicCarrington(observer=\"earth\", obstime=\"2001-01-02\")))"
   ]
  },
  {
   "cell_type": "markdown",
   "id": "f11df635",
   "metadata": {},
   "source": [
    "### Transforming multiple durations of rotation"
   ]
  },
  {
   "cell_type": "markdown",
   "id": "feb88876-9473-4ba4-8d1e-f50bec0fb717",
   "metadata": {},
   "source": [
    "Another common use case for differential rotation is to track a solar feature over a sequence of time steps. Let’s track an active region that starts at Helioprojective coordinates (-123 arcsec, 456 arcsec), as seen from Earth, and we will look both backwards and forwards in time. When duration is an array, the base coordinate will be automatically upgraded to an array if it is a scalar. We specify a range of durations from -5 days to +5 days, stepping at 1-day increments:"
   ]
  },
  {
   "cell_type": "code",
   "execution_count": null,
   "id": "532ae920-47d6-484a-8915-99559038685d",
   "metadata": {},
   "outputs": [
    {
     "data": {
      "text/plain": [
       "<RotatedSunHelioprojective Coordinate (base=<Helioprojective Frame (obstime=2001-01-01T00:00:00.000, rsun=695700.0 km, observer=<HeliographicStonyhurst Coordinate for 'earth'>)>, duration=[-5. -4. -3. -2. -1.  0.  1.  2.  3.  4.  5.] d, rotation_model=howard): (Tx, Ty) in arcsec\n",
       "    [(-123., 456.), (-123., 456.), (-123., 456.), (-123., 456.),\n",
       "     (-123., 456.), (-123., 456.), (-123., 456.), (-123., 456.),\n",
       "     (-123., 456.), (-123., 456.), (-123., 456.)]>"
      ]
     },
     "execution_count": null,
     "metadata": {},
     "output_type": "execute_result"
    }
   ],
   "source": [
    "durations = range(-5, 6, 1)*u.day\n",
    "ar_start = frames.Helioprojective(-123*u.arcsec, 456*u.arcsec,\n",
    "                                  obstime=\"2001-01-01\", observer=\"earth\")\n",
    "ar = RotatedSunFrame(base=ar_start, duration=durations)\n",
    "ar"
   ]
  },
  {
   "cell_type": "markdown",
   "id": "61bf3772-670e-4b06-a5e1-9308f6c08197",
   "metadata": {},
   "source": [
    "Let’s convert to the base coordinate frame to reveal the motion of the active region over time:"
   ]
  },
  {
   "cell_type": "code",
   "execution_count": null,
   "id": "b4e54f50-ab97-4233-a229-0b0979df7450",
   "metadata": {},
   "outputs": [
    {
     "data": {
      "text/plain": [
       "<Helioprojective Coordinate (obstime=2001-01-01T00:00:00.000, rsun=695700.0 km, observer=<HeliographicStonyhurst Coordinate for 'earth'>): (Tx, Ty, distance) in (arcsec, arcsec, AU)\n",
       "    [(-865.54956344, 418.10284813, 0.98251245),\n",
       "     (-794.6736101 , 429.25935934, 0.98154904),\n",
       "     (-676.99949185, 439.15848306, 0.98069504),\n",
       "     (-519.35479485, 447.21239117, 0.98000079),\n",
       "     (-330.98303969, 452.94056372, 0.97950733),\n",
       "     (-123.        , 456.        , 0.97924388),\n",
       "     (  92.27675962, 456.20707835, 0.97922605),\n",
       "     ( 302.0813494 , 453.54935963, 0.9794549 ),\n",
       "     ( 493.98430821, 448.18638939, 0.97991687),\n",
       "     ( 656.65386199, 440.43943386, 0.98058459),\n",
       "     ( 780.54121099, 430.77097352, 0.98141858)]>"
      ]
     },
     "execution_count": null,
     "metadata": {},
     "output_type": "execute_result"
    }
   ],
   "source": [
    "ar.transform_to(ar.base)"
   ]
  },
  {
   "cell_type": "markdown",
   "id": "18ff04a3-978e-4d7c-bc7a-e224374cafae",
   "metadata": {},
   "source": [
    "Be aware that these coordinates are represented in the Helioprojective coordinates as seen from Earth at the base time. Since the Earth moves in its orbit around the Sun, one may be more interested in representing these coordinates as they would been seen by an Earth observer at each time step. Since the destination frame of the transformation will now have arrays for obstime and observer, one actually has to construct the initial coordinate with an array for obstime (and observer) due to a limitation in Astropy. Note that the active region moves slightly slower across the disk of the Sun because the Earth orbits in the same direction as the Sun rotates, thus reducing the apparent rotation of the Sun:"
   ]
  },
  {
   "cell_type": "code",
   "execution_count": null,
   "id": "f0efd1b2-09b0-469a-961e-77883073222d",
   "metadata": {},
   "outputs": [
    {
     "data": {
      "text/plain": [
       "<Time object: scale='utc' format='iso' value=['2000-12-27 00:00:00.000' '2000-12-28 00:00:00.000'\n",
       " '2000-12-29 00:00:00.000' '2000-12-30 00:00:00.000'\n",
       " '2000-12-31 00:00:00.000' '2001-01-01 00:00:00.000'\n",
       " '2001-01-02 00:00:00.000' '2001-01-03 00:00:00.000'\n",
       " '2001-01-04 00:00:00.000' '2001-01-05 00:00:00.000'\n",
       " '2001-01-06 00:00:00.000']>"
      ]
     },
     "execution_count": null,
     "metadata": {},
     "output_type": "execute_result"
    }
   ],
   "source": [
    "ar_start_array = frames.Helioprojective([-123]*len(durations)*u.arcsec,\n",
    "                                        [456]*len(durations)*u.arcsec,\n",
    "                                        obstime=[\"2001-01-01\"]*len(durations), observer=\"earth\")\n",
    "ar_array = RotatedSunFrame(base=ar_start_array, duration=durations)\n",
    "ar_array.rotated_time"
   ]
  },
  {
   "cell_type": "code",
   "execution_count": null,
   "id": "740b1562-7e85-44b5-b423-f3bcff3d43d4",
   "metadata": {},
   "outputs": [
    {
     "data": {
      "text/plain": [
       "<Helioprojective Frame (obstime=['2000-12-27 00:00:00.000' '2000-12-28 00:00:00.000'\n",
       " '2000-12-29 00:00:00.000' '2000-12-30 00:00:00.000'\n",
       " '2000-12-31 00:00:00.000' '2001-01-01 00:00:00.000'\n",
       " '2001-01-02 00:00:00.000' '2001-01-03 00:00:00.000'\n",
       " '2001-01-04 00:00:00.000' '2001-01-05 00:00:00.000'\n",
       " '2001-01-06 00:00:00.000'], rsun=695700.0 km, observer=<HeliographicStonyhurst Coordinate for 'earth'>)>"
      ]
     },
     "execution_count": null,
     "metadata": {},
     "output_type": "execute_result"
    }
   ],
   "source": [
    "earth_hpc = frames.Helioprojective(obstime=ar_array.rotated_time, observer=\"earth\")\n",
    "earth_hpc"
   ]
  },
  {
   "cell_type": "code",
   "execution_count": null,
   "id": "c5b948b3-5b6b-41da-a8c7-223cbece1f2d",
   "metadata": {},
   "outputs": [
    {
     "data": {
      "text/plain": [
       "<Helioprojective Coordinate (obstime=['2000-12-27 00:00:00.000' '2000-12-28 00:00:00.000'\n",
       " '2000-12-29 00:00:00.000' '2000-12-30 00:00:00.000'\n",
       " '2000-12-31 00:00:00.000' '2001-01-01 00:00:00.000'\n",
       " '2001-01-02 00:00:00.000' '2001-01-03 00:00:00.000'\n",
       " '2001-01-04 00:00:00.000' '2001-01-05 00:00:00.000'\n",
       " '2001-01-06 00:00:00.000'], rsun=695700.0 km, observer=<HeliographicStonyhurst Coordinate for 'earth'>): (Tx, Ty, distance) in (arcsec, arcsec, AU)\n",
       "    [(-853.35711952, 420.4015171 , 0.98229419),\n",
       "     (-771.20925988, 429.29848111, 0.98139195),\n",
       "     (-650.31062045, 437.85931953, 0.98060104),\n",
       "     (-496.63437759, 445.5199143 , 0.97996004),\n",
       "     (-317.86354884, 451.73196441, 0.97950022),\n",
       "     (-123.        , 456.        , 0.97924388),\n",
       "     (  78.10371414, 457.91678153, 0.9792032 ),\n",
       "     ( 275.2631572 , 457.19447514, 0.97937958),\n",
       "     ( 458.50075883, 453.68922577, 0.97976366),\n",
       "     ( 618.57211117, 447.41720169, 0.98033575),\n",
       "     ( 747.44848403, 438.56081068, 0.9810669 )]>"
      ]
     },
     "execution_count": null,
     "metadata": {},
     "output_type": "execute_result"
    }
   ],
   "source": [
    "ar_array.transform_to(earth_hpc)"
   ]
  },
  {
   "cell_type": "markdown",
   "id": "bed70674-0a41-4e6e-ab22-7a0c51731926",
   "metadata": {},
   "source": [
    "### Transforming into RotatedSun frames"
   ]
  },
  {
   "cell_type": "markdown",
   "id": "fb0eb0b2-21a2-4d3b-abe5-313d598a3c54",
   "metadata": {},
   "source": [
    "So far, all of the examples show transformations with the RotatedSun* frame as the starting frame. The RotatedSun* frame can also be the destination frame, which can be more intuitive in some situations and even necessary in some others (due to API limitations). Let’s use a coordinate from earlier, which represents the coordinate in a “real” coordinate frame:"
   ]
  },
  {
   "cell_type": "code",
   "execution_count": null,
   "id": "6ab343b2-3325-475b-aef4-2770c0731b6e",
   "metadata": {},
   "outputs": [
    {
     "data": {
      "text/plain": [
       "<HeliographicCarrington Coordinate (obstime=2020-03-04T00:00:00.000, rsun=695700.0 km, observer=<HeliographicStonyhurst Coordinate for 'earth'>): (lon, lat, radius) in (deg, deg, km)\n",
       "    (45.13354448, 20., 695700.)>"
      ]
     },
     "execution_count": null,
     "metadata": {},
     "output_type": "execute_result"
    }
   ],
   "source": [
    "coord = rs_hgc.transform_to(rs_hgc.base)\n",
    "coord"
   ]
  },
  {
   "cell_type": "markdown",
   "id": "46b1c1a1-c104-4dc3-9891-cb1e5a3cc74e",
   "metadata": {},
   "source": [
    "If we create a RotatedSun* frame for a different base time, we can represent that same point using coordinates prior to differential rotation:"
   ]
  },
  {
   "cell_type": "code",
   "execution_count": null,
   "id": "80b52a09-0b62-4805-b744-62cffc20d0c6",
   "metadata": {},
   "outputs": [
    {
     "data": {
      "text/plain": [
       "<RotatedSunHeliographicCarrington Frame (base=<HeliographicCarrington Frame (obstime=2020-03-04T00:00:00.000, rsun=695700.0 km, observer=<HeliographicStonyhurst Coordinate for 'earth'>)>, duration=2.5 d, rotation_model=howard)>"
      ]
     },
     "execution_count": null,
     "metadata": {},
     "output_type": "execute_result"
    }
   ],
   "source": [
    "rs_frame = RotatedSunFrame(base=frames.HeliographicCarrington(observer=\"earth\",\n",
    "                                                              obstime=coord.obstime),\n",
    "                           rotated_time=\"2020-03-06 12:00\")\n",
    "rs_frame"
   ]
  },
  {
   "cell_type": "code",
   "execution_count": null,
   "id": "ba174d2b-181e-4ba5-ae78-6869d90516a3",
   "metadata": {},
   "outputs": [
    {
     "data": {
      "text/plain": [
       "<RotatedSunHeliographicCarrington Coordinate (base=<HeliographicCarrington Frame (obstime=2020-03-04T00:00:00.000, rsun=695700.0 km, observer=<HeliographicStonyhurst Coordinate for 'earth'>)>, duration=2.5 d, rotation_model=howard): (lon, lat, radius) in (deg, deg, km)\n",
       "    (10., 20., 695700.)>"
      ]
     },
     "execution_count": null,
     "metadata": {},
     "output_type": "execute_result"
    }
   ],
   "source": [
    "new_coord = coord.transform_to(rs_frame)\n",
    "new_coord"
   ]
  },
  {
   "cell_type": "markdown",
   "id": "16141ee7-0e56-4688-8d8c-862126a89481",
   "metadata": {},
   "source": [
    "There coordinates are stored in the RotatedSun* frame, but it can be useful to “pop off” this extra layer and retain only the coordinate representation in the base coordinate frame. There is a convenience method called as_base() to do exactly that. Be aware the resulting coordinate does not point to the same location in inertial space, despite the superficial similarity. Essentially, the component values have been copied from one coordinate frame to a different coordinate frame, and thus this is not merely a transformation between coordinate frames:"
   ]
  },
  {
   "cell_type": "code",
   "execution_count": null,
   "id": "9bdf17d2-a247-4b58-8218-3390dabaf0b0",
   "metadata": {},
   "outputs": [
    {
     "data": {
      "text/plain": [
       "<HeliographicCarrington Coordinate (obstime=2020-03-04T00:00:00.000, rsun=695700.0 km, observer=<HeliographicStonyhurst Coordinate for 'earth'>): (lon, lat, radius) in (deg, deg, km)\n",
       "    (10., 20., 695700.)>"
      ]
     },
     "execution_count": null,
     "metadata": {},
     "output_type": "execute_result"
    }
   ],
   "source": [
    "new_coord.as_base()"
   ]
  },
  {
   "cell_type": "code",
   "execution_count": null,
   "id": "16e62069-191a-4718-b59b-6435bed57e6f",
   "metadata": {},
   "outputs": [],
   "source": []
  }
 ],
 "metadata": {
  "kernelspec": {
   "display_name": "python3",
   "language": "python",
   "name": "python3"
  }
 },
 "nbformat": 4,
 "nbformat_minor": 5
}

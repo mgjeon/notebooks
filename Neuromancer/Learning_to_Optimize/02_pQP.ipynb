{
 "cells": [
  {
   "cell_type": "markdown",
   "id": "69758080-ef95-477b-a744-f2e18dda96e4",
   "metadata": {},
   "source": [
    "# Learning to optimize parametric Quadratic Programming (pQP) and  Quadratically Constrained QP (pQCQP) problems using Neuromancer.\n",
    "\n",
    "This is an interactive notebook based on the python script [Part_2_LearnToOptimize_pQP.py](./Part_2_LearnToOptimize_pQP.py).  \n",
    "\n",
    "Problem formulation pQP:\n",
    "$$\n",
    "    \\begin{align}\n",
    "    &\\text{minimize } &&   x^2 + y^2\\\\\n",
    "    &\\text{subject to} &&  -x - y + p1 \\le 0\\\\\n",
    "    &  &&    x + y - p1 - 5 \\le 0\\\\\n",
    "    &  &&    x - y + p2 - 5 \\le 0\\\\\n",
    "    &  &&   -x + y - p2  \\le 0\\\\\n",
    "    \\end{align}\n",
    "$$\n",
    "\n",
    "\n",
    "Problem formulation pQCQP:\n",
    "$$\n",
    "    \\begin{align}\n",
    "    &\\text{minimize } &&   x^2 + y^2\\\\\n",
    "    &\\text{subject to} &&  -x - y + p1 \\le 0\\\\\n",
    "    &  &&     x^2 + y^2 \\le p2^2\\\\\n",
    "    \\end{align}\n",
    "$$\n",
    "\n",
    "with parameters $p, a$ and decision variables $x, y$."
   ]
  },
  {
   "cell_type": "markdown",
   "id": "123b9d08-af60-46b8-8f9b-eb612dc8e2fd",
   "metadata": {},
   "source": [
    "### Import"
   ]
  },
  {
   "cell_type": "code",
   "execution_count": null,
   "id": "b63f0888-c916-4072-a522-f5028455a1e2",
   "metadata": {},
   "outputs": [],
   "source": [
    "import cvxpy as cp\n",
    "import numpy as np\n",
    "import time\n",
    "import torch\n",
    "import torch.nn as nn\n",
    "import neuromancer.slim as slim\n",
    "import matplotlib.pyplot as plt\n",
    "import matplotlib.patheffects as patheffects"
   ]
  },
  {
   "cell_type": "code",
   "execution_count": null,
   "id": "619af978-e2f9-4196-8675-a89064ffa1ce",
   "metadata": {},
   "outputs": [],
   "source": [
    "from neuromancer.trainer import Trainer\n",
    "from neuromancer.problem import Problem\n",
    "from neuromancer.constraint import variable\n",
    "from neuromancer.dataset import DictDataset\n",
    "from neuromancer.loss import PenaltyLoss\n",
    "from neuromancer.modules import blocks\n",
    "from neuromancer.system import Node"
   ]
  },
  {
   "cell_type": "markdown",
   "id": "5ef7e2cc-5e60-4131-8226-a9bb4bf3f7ff",
   "metadata": {},
   "source": [
    "# Dataset"
   ]
  }
 ],
 "metadata": {
  "kernelspec": {
   "display_name": "python3",
   "language": "python",
   "name": "python3"
  }
 },
 "nbformat": 4,
 "nbformat_minor": 5
}

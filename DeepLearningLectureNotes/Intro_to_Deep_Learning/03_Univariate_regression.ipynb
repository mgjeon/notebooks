{
 "cells": [
  {
   "cell_type": "markdown",
   "metadata": {},
   "source": [
    "# Example 1: univariate regression\n",
    "\n",
    "The goal is to predict a single scalar output $y \\in \\mathbb{R}$ from input $x$ using a model $f_\\phi(x)$ with parameters $\\phi$.\n",
    "\n",
    "We select the univariate normal, which is defined over $y \\in \\mathbb{R}$. This distribution has two parameters (mean $\\mu$ and variance $\\sigma^2$).\n",
    "\n",
    "$$\n",
    "p(y|\\mu, \\sigma^2) = \\frac{1}{\\sqrt{2\\pi\\sigma^2}}\\exp\\left[-\\frac{(y-\\mu)^2}{2\\sigma^2}\\right]\n",
    "$$\n",
    "\n",
    "We set the machine learning model to compute the mean.\n",
    "$$\n",
    "\\mu = f_\\phi(x)\n",
    "$$\n",
    "\n",
    "We choose a loss function based on the negative log-likelihood.\n",
    "$$\n",
    "\\begin{align}\n",
    "L(\\phi) & = -\\sum_{i=1}^{I}\\log p(y_i|f_\\phi(x_i), \\sigma^2) \\\\\n",
    "& = -\\sum_{i=1}^{I}\\log\\left[ \\frac{1}{\\sqrt{2\\pi\\sigma^2}}\\exp\\left[-\\frac{(y-f_\\phi(x))^2}{2\\sigma^2}\\right] \\right]\n",
    "\\end{align}\n",
    "$$\n",
    "\n",
    "When the train the model, we seek parameters $\\hat{\\phi}$ that minimize the loss.\n",
    "$$\n",
    "\\begin{align}\n",
    "\\hat{\\phi} & = \\underset{\\phi}{\\mathrm{argmin}}\\left[\n",
    "  -\\sum_{i=1}^{I}\\log\\left[ \\frac{1}{\\sqrt{2\\pi\\sigma^2}}\\exp\\left[-\\frac{(y-f_\\phi(x))^2}{2\\sigma^2}\\right] \\right]\n",
    "  \\right] \\\\\n",
    "& = \\underset{\\phi}{\\mathrm{argmin}}\\left[\n",
    "  -\\sum_{i=1}^{I}\n",
    "  \\left( \\log \\left[\\frac{1}{\\sqrt{2\\pi\\sigma^2}} \\right]\n",
    "  -\\frac{(y-f_\\phi(x))^2}{2\\sigma^2} \\right) \\right]\\\\\n",
    "& = \\underset{\\phi}{\\mathrm{argmin}}\\left[\n",
    "  -\\sum_{i=1}^{I}\n",
    "  \\left(\n",
    "  -\\frac{(y-f_\\phi(x))^2}{2\\sigma^2} \\right) \\right]\\\\\n",
    "& = \\underset{\\phi}{\\mathrm{argmin}}\\left[\n",
    "  \\sum_{i=1}^{I} (y-f_\\phi(x))^2 \\right]\\\\\n",
    "\\end{align}\n",
    "$$\n",
    "\n",
    "Therefore, we have a **least squares loss** function.\n",
    "\n",
    "$$\n",
    "L(\\phi) = \\sum_{i=1}^{I} (y_i-f_\\phi(x_i))^2\n",
    "$$\n",
    "\n",
    "When we perform inference, we usually want a single \"best\" point estimate $\\hat{y}$, so we take the maximum of the predicted distribution:\n",
    "\n",
    "$$\n",
    "\\hat{y} = \\underset{\\phi}{\\mathrm{argmax}} \\; p(y|f_\\hat{\\phi}(x), \\sigma^2)\n",
    "$$\n",
    "\n",
    "For the univariate normal, the maximum position is determined by the mean parameter $\\mu$. This is precisely what the model computed, so\n",
    "\n",
    "$$\n",
    "\\hat{y} = f_\\hat{\\phi}(x)\n",
    "$$"
   ]
  },
  {
   "cell_type": "markdown",
   "metadata": {},
   "source": [
    "## Imports"
   ]
  },
  {
   "cell_type": "code",
   "execution_count": null,
   "metadata": {},
   "outputs": [],
   "source": [
    "import numpy as np\n",
    "import matplotlib.pyplot as plt\n",
    "\n",
    "import torch\n",
    "import torch.nn as nn\n",
    "import torch.optim as optim\n",
    "from torch.utils.data import Dataset, DataLoader"
   ]
  },
  {
   "cell_type": "markdown",
   "metadata": {},
   "source": [
    "## Data"
   ]
  },
  {
   "cell_type": "code",
   "execution_count": null,
   "metadata": {},
   "outputs": [
    {
     "data": {
      "text/plain": [
       "torch.Size([100, 1])"
      ]
     },
     "execution_count": null,
     "metadata": {},
     "output_type": "execute_result"
    }
   ],
   "source": [
    "# Data\n",
    "# y = 2x + 5\n",
    "N = 100\n",
    "x = torch.linspace(-10, 10, N).view(-1, 1)  #(N, 1)\n",
    "x.shape"
   ]
  },
  {
   "cell_type": "code",
   "execution_count": null,
   "metadata": {},
   "outputs": [
    {
     "data": {
      "text/plain": [
       "torch.Size([100, 1])"
      ]
     },
     "execution_count": null,
     "metadata": {},
     "output_type": "execute_result"
    }
   ],
   "source": [
    "noise = torch.randn_like(x) * 2\n",
    "y = 2*x + 5 + noise\n",
    "y.shape"
   ]
  },
  {
   "cell_type": "code",
   "execution_count": null,
   "metadata": {},
   "outputs": [],
   "source": [
    "def y_true(x):\n",
    "  return 2*x + 5"
   ]
  },
  {
   "cell_type": "code",
   "execution_count": null,
   "metadata": {},
   "outputs": [
    {
     "data": {
      "image/png": "[encoded data removed]",
      "text/plain": [
       "<Figure size 640x480 with 1 Axes>"
      ]
     },
     "metadata": {},
     "output_type": "display_data"
    }
   ],
   "source": [
    "plt.figure()\n",
    "plt.plot(x, y, 'o', label='data', color='black')\n",
    "plt.plot(x, y_true(x), '-', label='y=2x + 5', color='red')\n",
    "plt.xlabel('x')\n",
    "plt.ylabel('y')\n",
    "plt.legend()\n",
    "plt.show()"
   ]
  },
  {
   "cell_type": "markdown",
   "metadata": {},
   "source": [
    "## Dataset, DataLoader"
   ]
  },
  {
   "cell_type": "code",
   "execution_count": null,
   "metadata": {},
   "outputs": [],
   "source": [
    "class RegressionDataset(Dataset):\n",
    "    def __init__(self, N=100):\n",
    "        x = torch.linspace(-10, 10, N).view(-1, 1)\n",
    "        noise = torch.randn_like(x) * 2\n",
    "        y = 2*x + 5 + noise\n",
    "        self.x = x\n",
    "        self.y = y\n",
    "\n",
    "    def __len__(self):\n",
    "        return len(self.x)\n",
    "\n",
    "    def __getitem__(self, idx):\n",
    "        return self.x[idx], self.y[idx]"
   ]
  },
  {
   "cell_type": "code",
   "execution_count": null,
   "metadata": {},
   "outputs": [
    {
     "data": {
      "text/plain": [
       "100"
      ]
     },
     "execution_count": null,
     "metadata": {},
     "output_type": "execute_result"
    }
   ],
   "source": [
    "dataset = RegressionDataset()\n",
    "len(dataset)"
   ]
  },
  {
   "cell_type": "code",
   "execution_count": null,
   "metadata": {},
   "outputs": [
    {
     "data": {
      "text/plain": [
       "(tensor([-10.]), tensor([-14.6443]))"
      ]
     },
     "execution_count": null,
     "metadata": {},
     "output_type": "execute_result"
    }
   ],
   "source": [
    "sample = dataset[0]\n",
    "sample"
   ]
  },
  {
   "cell_type": "code",
   "execution_count": null,
   "metadata": {},
   "outputs": [
    {
     "data": {
      "image/png": "[encoded data removed]",
      "text/plain": [
       "<Figure size 640x480 with 1 Axes>"
      ]
     },
     "metadata": {},
     "output_type": "display_data"
    }
   ],
   "source": [
    "plt.figure()\n",
    "plt.plot(dataset.x, dataset.y, 'o', label='data', color='black')\n",
    "plt.plot(dataset.x, y_true(dataset.x), '-', label='y=2x + 5', color='red')\n",
    "plt.xlabel('x')\n",
    "plt.ylabel('y')\n",
    "plt.legend()\n",
    "plt.show()"
   ]
  },
  {
   "cell_type": "code",
   "execution_count": null,
   "metadata": {},
   "outputs": [
    {
     "data": {
      "text/plain": [
       "[tensor([[-10.0000],\n",
       "         [ -9.7980]]),\n",
       " tensor([[-14.6443],\n",
       "         [-16.1568]])]"
      ]
     },
     "execution_count": null,
     "metadata": {},
     "output_type": "execute_result"
    }
   ],
   "source": [
    "dataloader = DataLoader(dataset, batch_size=2, shuffle=False)\n",
    "batch = next(iter(dataloader))\n",
    "batch"
   ]
  },
  {
   "cell_type": "code",
   "execution_count": null,
   "metadata": {},
   "outputs": [
    {
     "data": {
      "text/plain": [
       "list"
      ]
     },
     "execution_count": null,
     "metadata": {},
     "output_type": "execute_result"
    }
   ],
   "source": [
    "type(batch)"
   ]
  },
  {
   "cell_type": "code",
   "execution_count": null,
   "metadata": {},
   "outputs": [],
   "source": [
    "for s in dataloader:\n",
    "  s\n",
    "  break"
   ]
  },
  {
   "cell_type": "code",
   "execution_count": null,
   "metadata": {},
   "outputs": [
    {
     "data": {
      "text/plain": [
       "[tensor([[-10.0000],\n",
       "         [ -9.7980]]),\n",
       " tensor([[-14.6443],\n",
       "         [-16.1568]])]"
      ]
     },
     "execution_count": null,
     "metadata": {},
     "output_type": "execute_result"
    }
   ],
   "source": [
    "s"
   ]
  },
  {
   "cell_type": "code",
   "execution_count": null,
   "metadata": {},
   "outputs": [
    {
     "data": {
      "text/plain": [
       "(tensor([-10.]), tensor([-14.6443]))"
      ]
     },
     "execution_count": null,
     "metadata": {},
     "output_type": "execute_result"
    }
   ],
   "source": [
    "dataset[0]"
   ]
  },
  {
   "cell_type": "code",
   "execution_count": null,
   "metadata": {},
   "outputs": [
    {
     "data": {
      "text/plain": [
       "(tensor([-9.7980]), tensor([-16.1568]))"
      ]
     },
     "execution_count": null,
     "metadata": {},
     "output_type": "execute_result"
    }
   ],
   "source": [
    "dataset[1]"
   ]
  },
  {
   "cell_type": "markdown",
   "metadata": {},
   "source": [
    "## torch.nn"
   ]
  },
  {
   "cell_type": "code",
   "execution_count": null,
   "metadata": {},
   "outputs": [
    {
     "data": {
      "text/plain": [
       "Linear(in_features=1, out_features=3, bias=True)"
      ]
     },
     "execution_count": null,
     "metadata": {},
     "output_type": "execute_result"
    }
   ],
   "source": [
    "layer = nn.Linear(1, 3)\n",
    "layer"
   ]
  },
  {
   "cell_type": "code",
   "execution_count": null,
   "metadata": {},
   "outputs": [
    {
     "name": "stdout",
     "output_type": "stream",
     "text": [
      "tensor([[-10.0000],\n",
      "        [ -9.7980]])\n"
     ]
    },
    {
     "data": {
      "text/plain": [
       "torch.Size([2, 1])"
      ]
     },
     "execution_count": null,
     "metadata": {},
     "output_type": "execute_result"
    }
   ],
   "source": [
    "inputs = batch[0]\n",
    "print(inputs)\n",
    "inputs.shape  # (batch_size, 1)"
   ]
  },
  {
   "cell_type": "code",
   "execution_count": null,
   "metadata": {},
   "outputs": [
    {
     "name": "stdout",
     "output_type": "stream",
     "text": [
      "tensor([[-3.5345, -8.6907,  7.4134],\n",
      "        [-3.4572, -8.5273,  7.2691]], grad_fn=<AddmmBackward0>)\n"
     ]
    },
    {
     "data": {
      "text/plain": [
       "torch.Size([2, 3])"
      ]
     },
     "execution_count": null,
     "metadata": {},
     "output_type": "execute_result"
    }
   ],
   "source": [
    "outputs = layer(inputs)\n",
    "print(outputs)\n",
    "outputs.shape"
   ]
  },
  {
   "cell_type": "code",
   "execution_count": null,
   "metadata": {},
   "outputs": [
    {
     "name": "stdout",
     "output_type": "stream",
     "text": [
      "Parameter containing:\n",
      "tensor([[ 0.3825],\n",
      "        [ 0.8085],\n",
      "        [-0.7144]], requires_grad=True)\n",
      "\n",
      "Parameter containing:\n",
      "tensor([ 0.2904, -0.6056,  0.2699], requires_grad=True)\n",
      "\n"
     ]
    }
   ],
   "source": [
    "params = []\n",
    "for p in layer.parameters():\n",
    "  print(p, end='\\n\\n')\n",
    "  params.append(p.data)"
   ]
  },
  {
   "cell_type": "code",
   "execution_count": null,
   "metadata": {},
   "outputs": [
    {
     "data": {
      "text/plain": [
       "torch.Size([3, 1])"
      ]
     },
     "execution_count": null,
     "metadata": {},
     "output_type": "execute_result"
    }
   ],
   "source": [
    "A = params[0]  # weight\n",
    "A.shape"
   ]
  },
  {
   "cell_type": "code",
   "execution_count": null,
   "metadata": {},
   "outputs": [
    {
     "data": {
      "text/plain": [
       "torch.Size([3])"
      ]
     },
     "execution_count": null,
     "metadata": {},
     "output_type": "execute_result"
    }
   ],
   "source": [
    "b = params[1]  # bias\n",
    "b.shape"
   ]
  },
  {
   "cell_type": "markdown",
   "metadata": {},
   "source": [
    "### nn.Linear\n",
    "\n",
    "https://pytorch.org/docs/stable/generated/torch.nn.Linear.html\n",
    "\n",
    "$$\n",
    "y = x A^T + b\n",
    "$$\n",
    "\n",
    "- $x$: Input $(N, d_\\text{in})$\n",
    "- $A$: Weight matrix $(d_\\text{out}, d_\\text{in})$\n",
    "  - $A^T$: Transpose of $A$ $(d_\\text{in}, d_\\text{out})$\n",
    "- $b$: Bias $(d_\\text{out})$\n",
    "\n",
    "$$\n",
    "(N, d_\\text{in}) \\times (d_\\text{in}, d_\\text{out}) + (d_\\text{out}) \\rightarrow (N, d_\\text{out})\n",
    "$$"
   ]
  },
  {
   "cell_type": "code",
   "execution_count": null,
   "metadata": {},
   "outputs": [
    {
     "name": "stdout",
     "output_type": "stream",
     "text": [
      "tensor([[-3.8249, -8.0851,  7.1435],\n",
      "        [-3.7476, -7.9217,  6.9992]])\n"
     ]
    },
    {
     "data": {
      "text/plain": [
       "torch.Size([2, 3])"
      ]
     },
     "execution_count": null,
     "metadata": {},
     "output_type": "execute_result"
    }
   ],
   "source": [
    "# (N, d_out)\n",
    "intermediate = inputs @ A.T\n",
    "print(intermediate)\n",
    "intermediate.shape"
   ]
  },
  {
   "cell_type": "code",
   "execution_count": null,
   "metadata": {},
   "outputs": [
    {
     "name": "stdout",
     "output_type": "stream",
     "text": [
      "tensor([ 0.2904, -0.6056,  0.2699])\n",
      "torch.Size([3])\n"
     ]
    }
   ],
   "source": [
    "print(b)\n",
    "print(b.shape)"
   ]
  },
  {
   "cell_type": "code",
   "execution_count": null,
   "metadata": {},
   "outputs": [
    {
     "name": "stdout",
     "output_type": "stream",
     "text": [
      "tensor([-3.8249, -8.0851,  7.1435])\n"
     ]
    },
    {
     "data": {
      "text/plain": [
       "tensor([-3.5345, -8.6907,  7.4134])"
      ]
     },
     "execution_count": null,
     "metadata": {},
     "output_type": "execute_result"
    }
   ],
   "source": [
    "print(intermediate[0, :])\n",
    "intermediate[0, :] + b"
   ]
  },
  {
   "cell_type": "code",
   "execution_count": null,
   "metadata": {},
   "outputs": [
    {
     "name": "stdout",
     "output_type": "stream",
     "text": [
      "tensor([-3.7476, -7.9217,  6.9992])\n"
     ]
    },
    {
     "data": {
      "text/plain": [
       "tensor([-3.4572, -8.5273,  7.2691])"
      ]
     },
     "execution_count": null,
     "metadata": {},
     "output_type": "execute_result"
    }
   ],
   "source": [
    "print(intermediate[1, :])\n",
    "intermediate[1, :] + b"
   ]
  },
  {
   "cell_type": "markdown",
   "metadata": {},
   "source": [
    "### Broadcasting\n",
    "\n",
    "https://numpy.org/doc/stable/user/basics.broadcasting.html\n",
    "\n",
    "The term broadcasting describes how NumPy treats arrays with different shapes during arithmetic operations. Subject to certain constraints, the smaller array is “broadcast” across the larger array so that they have compatible shapes. Broadcasting provides a means of vectorizing array operations so that looping occurs in C instead of Python. It does this without making needless copies of data and usually leads to efficient algorithm implementations. There are, however, cases where broadcasting is a bad idea because it leads to inefficient use of memory that slows computation.\n",
    "\n",
    "#### General broadcasting rules\n",
    "When operating on two arrays, NumPy compares their shapes element-wise. It starts with the trailing (i.e. rightmost) dimension and works its way left. Two dimensions are compatible when\n",
    "\n",
    "- they are equal, or\n",
    "\n",
    "- one of them is 1.\n",
    "\n",
    "If these conditions are not met, a `ValueError: operands could not be broadcast together` exception is thrown, indicating that the arrays have incompatible shapes.\n",
    "\n",
    "Input arrays do not need to have the same number of dimensions. The resulting array will have the same number of dimensions as the input array with the greatest number of dimensions, where the size of each dimension is the largest size of the corresponding dimension among the input arrays. **Note that missing dimensions are assumed to have size one**."
   ]
  },
  {
   "cell_type": "code",
   "execution_count": null,
   "metadata": {},
   "outputs": [
    {
     "name": "stdout",
     "output_type": "stream",
     "text": [
      "tensor([ 0.2904, -0.6056,  0.2699])\n",
      "tensor([[-3.5345, -8.6907,  7.4134],\n",
      "        [-3.4572, -8.5273,  7.2691]])\n"
     ]
    },
    {
     "data": {
      "text/plain": [
       "torch.Size([2, 3])"
      ]
     },
     "execution_count": null,
     "metadata": {},
     "output_type": "execute_result"
    }
   ],
   "source": [
    "# broadcasting\n",
    "# (N, d_out) + (d_out) =>\n",
    "# (N, d_out) + (1, d_out) =>\n",
    "# (N, d_out) + (N, d_out) =>\n",
    "# (N, d_out)\n",
    "print(b)\n",
    "output_manual = inputs @ A.T + b\n",
    "print(output_manual)\n",
    "output_manual.shape"
   ]
  },
  {
   "cell_type": "code",
   "execution_count": null,
   "metadata": {},
   "outputs": [
    {
     "data": {
      "text/plain": [
       "tensor([[-3.5345, -8.6907,  7.4134],\n",
       "        [-3.4572, -8.5273,  7.2691]], grad_fn=<AddmmBackward0>)"
      ]
     },
     "execution_count": null,
     "metadata": {},
     "output_type": "execute_result"
    }
   ],
   "source": [
    "layer(inputs)"
   ]
  },
  {
   "cell_type": "markdown",
   "metadata": {},
   "source": [
    "## Model"
   ]
  },
  {
   "cell_type": "code",
   "execution_count": null,
   "metadata": {},
   "outputs": [],
   "source": [
    "# Define Model\n",
    "class RegressionModel(nn.Module):\n",
    "    def __init__(self):\n",
    "        super().__init__()\n",
    "\n",
    "        self.model = nn.Linear(1, 1)\n",
    "\n",
    "    def forward(self, x):\n",
    "        return self.model(x)"
   ]
  },
  {
   "cell_type": "code",
   "execution_count": null,
   "metadata": {},
   "outputs": [
    {
     "data": {
      "text/plain": [
       "tensor([[-10.0000],\n",
       "        [ -9.7980]])"
      ]
     },
     "execution_count": null,
     "metadata": {},
     "output_type": "execute_result"
    }
   ],
   "source": [
    "inputs"
   ]
  },
  {
   "cell_type": "code",
   "execution_count": null,
   "metadata": {},
   "outputs": [
    {
     "data": {
      "text/plain": [
       "tensor([[4.2022],\n",
       "        [4.1316]], grad_fn=<AddmmBackward0>)"
      ]
     },
     "execution_count": null,
     "metadata": {},
     "output_type": "execute_result"
    }
   ],
   "source": [
    "model = RegressionModel()\n",
    "model(inputs)"
   ]
  },
  {
   "cell_type": "code",
   "execution_count": null,
   "metadata": {},
   "outputs": [
    {
     "name": "stdout",
     "output_type": "stream",
     "text": [
      "Parameter containing:\n",
      "tensor([[-0.3494]], requires_grad=True)\n",
      "Parameter containing:\n",
      "tensor([0.7086], requires_grad=True)\n"
     ]
    }
   ],
   "source": [
    "params = []\n",
    "for p in model.parameters():\n",
    "  print(p)\n",
    "  params.append(p.data)"
   ]
  },
  {
   "cell_type": "code",
   "execution_count": null,
   "metadata": {},
   "outputs": [
    {
     "data": {
      "text/plain": [
       "tensor([[4.2022],\n",
       "        [4.1316]])"
      ]
     },
     "execution_count": null,
     "metadata": {},
     "output_type": "execute_result"
    }
   ],
   "source": [
    "# y = x A^T + b\n",
    "inputs @ params[0].T + params[1]"
   ]
  },
  {
   "cell_type": "markdown",
   "metadata": {},
   "source": [
    "- Mean squared error (MSE)\n",
    "\n",
    "$$\n",
    "\\text{MSE}(a,b) = \\frac{1}{N}\\sum_i^N(a_i - b_i)^2\n",
    "$$"
   ]
  },
  {
   "cell_type": "code",
   "execution_count": null,
   "metadata": {},
   "outputs": [
    {
     "data": {
      "text/plain": [
       "tensor(9.)"
      ]
     },
     "execution_count": null,
     "metadata": {},
     "output_type": "execute_result"
    }
   ],
   "source": [
    "mse = nn.MSELoss()\n",
    "a = torch.FloatTensor([1, 2])\n",
    "b = torch.FloatTensor([4, 5])\n",
    "mse(a, b)"
   ]
  },
  {
   "cell_type": "markdown",
   "metadata": {},
   "source": [
    "## Training"
   ]
  },
  {
   "cell_type": "code",
   "execution_count": null,
   "metadata": {},
   "outputs": [
    {
     "name": "stdout",
     "output_type": "stream",
     "text": [
      "Epoch [  0], Loss: 101.7161\n",
      "Epoch [ 10], Loss: 17.1326\n",
      "Epoch [ 20], Loss: 14.8129\n",
      "Epoch [ 30], Loss: 12.8773\n",
      "Epoch [ 40], Loss: 11.2902\n",
      "Epoch [ 50], Loss: 9.9914\n",
      "Epoch [ 60], Loss: 8.9286\n",
      "Epoch [ 70], Loss: 8.0590\n",
      "Epoch [ 80], Loss: 7.3474\n",
      "Epoch [ 90], Loss: 6.7653\n",
      "Epoch [100], Loss: 6.2889\n",
      "Epoch [110], Loss: 5.8992\n",
      "Epoch [120], Loss: 5.5803\n",
      "Epoch [130], Loss: 5.3194\n",
      "Epoch [140], Loss: 5.1060\n",
      "Epoch [150], Loss: 4.9314\n",
      "Epoch [160], Loss: 4.7886\n",
      "Epoch [170], Loss: 4.6717\n",
      "Epoch [180], Loss: 4.5762\n",
      "Epoch [190], Loss: 4.4980\n"
     ]
    }
   ],
   "source": [
    "# Initialize model, loss function(criterion), optimizer\n",
    "model = RegressionModel()\n",
    "criterion = nn.MSELoss()\n",
    "optimizer = optim.SGD(model.parameters(), lr=0.0001)\n",
    "\n",
    "# Training loop\n",
    "num_epochs = 200\n",
    "losses = []\n",
    "for epoch in range(num_epochs):\n",
    "    train_loss = 0.0\n",
    "    for batch in dataloader:\n",
    "        x, y = batch\n",
    "\n",
    "        # Foward propagation\n",
    "        predictions = model(x)\n",
    "        loss = criterion(predictions, y)\n",
    "\n",
    "        # Backpropagation and update weights & biases\n",
    "        optimizer.zero_grad()\n",
    "        loss.backward()\n",
    "        optimizer.step()\n",
    "\n",
    "        # Save loss\n",
    "        train_loss += loss.item()\n",
    "\n",
    "    train_loss /= len(dataloader)\n",
    "    losses.append(train_loss)\n",
    "\n",
    "    if epoch % 10 == 0:\n",
    "        print(f\"Epoch [{epoch:3d}], Loss: {train_loss:.4f}\")"
   ]
  },
  {
   "cell_type": "code",
   "execution_count": null,
   "metadata": {},
   "outputs": [
    {
     "data": {
      "image/png": "[encoded data removed]",
      "text/plain": [
       "<Figure size 640x480 with 1 Axes>"
      ]
     },
     "metadata": {},
     "output_type": "display_data"
    }
   ],
   "source": [
    "plt.figure()\n",
    "plt.plot(losses)\n",
    "plt.xlabel('epoch')\n",
    "plt.ylabel('loss')\n",
    "plt.show()"
   ]
  },
  {
   "cell_type": "code",
   "execution_count": null,
   "metadata": {},
   "outputs": [
    {
     "name": "stdout",
     "output_type": "stream",
     "text": [
      "tensor([[-1.6060e+01],\n",
      "        [-1.5648e+01],\n",
      "        [-1.5236e+01],\n",
      "        [-1.4824e+01],\n",
      "        [-1.4412e+01],\n",
      "        [-1.4000e+01],\n",
      "        [-1.3588e+01],\n",
      "        [-1.3176e+01],\n",
      "        [-1.2764e+01],\n",
      "        [-1.2352e+01],\n",
      "        [-1.1940e+01],\n",
      "        [-1.1528e+01],\n",
      "        [-1.1116e+01],\n",
      "        [-1.0704e+01],\n",
      "        [-1.0292e+01],\n",
      "        [-9.8801e+00],\n",
      "        [-9.4681e+00],\n",
      "        [-9.0561e+00],\n",
      "        [-8.6441e+00],\n",
      "        [-8.2320e+00],\n",
      "        [-7.8200e+00],\n",
      "        [-7.4080e+00],\n",
      "        [-6.9960e+00],\n",
      "        [-6.5840e+00],\n",
      "        [-6.1720e+00],\n",
      "        [-5.7600e+00],\n",
      "        [-5.3479e+00],\n",
      "        [-4.9359e+00],\n",
      "        [-4.5239e+00],\n",
      "        [-4.1119e+00],\n",
      "        [-3.6999e+00],\n",
      "        [-3.2879e+00],\n",
      "        [-2.8759e+00],\n",
      "        [-2.4638e+00],\n",
      "        [-2.0518e+00],\n",
      "        [-1.6398e+00],\n",
      "        [-1.2278e+00],\n",
      "        [-8.1579e-01],\n",
      "        [-4.0377e-01],\n",
      "        [ 8.2426e-03],\n",
      "        [ 4.2026e-01],\n",
      "        [ 8.3227e-01],\n",
      "        [ 1.2443e+00],\n",
      "        [ 1.6563e+00],\n",
      "        [ 2.0683e+00],\n",
      "        [ 2.4803e+00],\n",
      "        [ 2.8923e+00],\n",
      "        [ 3.3044e+00],\n",
      "        [ 3.7164e+00],\n",
      "        [ 4.1284e+00],\n",
      "        [ 4.5404e+00],\n",
      "        [ 4.9524e+00],\n",
      "        [ 5.3644e+00],\n",
      "        [ 5.7764e+00],\n",
      "        [ 6.1885e+00],\n",
      "        [ 6.6005e+00],\n",
      "        [ 7.0125e+00],\n",
      "        [ 7.4245e+00],\n",
      "        [ 7.8365e+00],\n",
      "        [ 8.2485e+00],\n",
      "        [ 8.6605e+00],\n",
      "        [ 9.0726e+00],\n",
      "        [ 9.4846e+00],\n",
      "        [ 9.8966e+00],\n",
      "        [ 1.0309e+01],\n",
      "        [ 1.0721e+01],\n",
      "        [ 1.1133e+01],\n",
      "        [ 1.1545e+01],\n",
      "        [ 1.1957e+01],\n",
      "        [ 1.2369e+01],\n",
      "        [ 1.2781e+01],\n",
      "        [ 1.3193e+01],\n",
      "        [ 1.3605e+01],\n",
      "        [ 1.4017e+01],\n",
      "        [ 1.4429e+01],\n",
      "        [ 1.4841e+01],\n",
      "        [ 1.5253e+01],\n",
      "        [ 1.5665e+01],\n",
      "        [ 1.6077e+01],\n",
      "        [ 1.6489e+01],\n",
      "        [ 1.6901e+01],\n",
      "        [ 1.7313e+01],\n",
      "        [ 1.7725e+01],\n",
      "        [ 1.8137e+01],\n",
      "        [ 1.8549e+01],\n",
      "        [ 1.8961e+01],\n",
      "        [ 1.9373e+01],\n",
      "        [ 1.9785e+01],\n",
      "        [ 2.0197e+01],\n",
      "        [ 2.0609e+01],\n",
      "        [ 2.1021e+01],\n",
      "        [ 2.1433e+01],\n",
      "        [ 2.1845e+01],\n",
      "        [ 2.2257e+01],\n",
      "        [ 2.2669e+01],\n",
      "        [ 2.3081e+01],\n",
      "        [ 2.3493e+01],\n",
      "        [ 2.3905e+01],\n",
      "        [ 2.4317e+01],\n",
      "        [ 2.4729e+01]], grad_fn=<AddmmBackward0>)\n"
     ]
    }
   ],
   "source": [
    "print(model(dataset.x))"
   ]
  },
  {
   "cell_type": "code",
   "execution_count": null,
   "metadata": {},
   "outputs": [
    {
     "name": "stdout",
     "output_type": "stream",
     "text": [
      "tensor([[-1.6060e+01],\n",
      "        [-1.5648e+01],\n",
      "        [-1.5236e+01],\n",
      "        [-1.4824e+01],\n",
      "        [-1.4412e+01],\n",
      "        [-1.4000e+01],\n",
      "        [-1.3588e+01],\n",
      "        [-1.3176e+01],\n",
      "        [-1.2764e+01],\n",
      "        [-1.2352e+01],\n",
      "        [-1.1940e+01],\n",
      "        [-1.1528e+01],\n",
      "        [-1.1116e+01],\n",
      "        [-1.0704e+01],\n",
      "        [-1.0292e+01],\n",
      "        [-9.8801e+00],\n",
      "        [-9.4681e+00],\n",
      "        [-9.0561e+00],\n",
      "        [-8.6441e+00],\n",
      "        [-8.2320e+00],\n",
      "        [-7.8200e+00],\n",
      "        [-7.4080e+00],\n",
      "        [-6.9960e+00],\n",
      "        [-6.5840e+00],\n",
      "        [-6.1720e+00],\n",
      "        [-5.7600e+00],\n",
      "        [-5.3479e+00],\n",
      "        [-4.9359e+00],\n",
      "        [-4.5239e+00],\n",
      "        [-4.1119e+00],\n",
      "        [-3.6999e+00],\n",
      "        [-3.2879e+00],\n",
      "        [-2.8759e+00],\n",
      "        [-2.4638e+00],\n",
      "        [-2.0518e+00],\n",
      "        [-1.6398e+00],\n",
      "        [-1.2278e+00],\n",
      "        [-8.1579e-01],\n",
      "        [-4.0377e-01],\n",
      "        [ 8.2426e-03],\n",
      "        [ 4.2026e-01],\n",
      "        [ 8.3227e-01],\n",
      "        [ 1.2443e+00],\n",
      "        [ 1.6563e+00],\n",
      "        [ 2.0683e+00],\n",
      "        [ 2.4803e+00],\n",
      "        [ 2.8923e+00],\n",
      "        [ 3.3044e+00],\n",
      "        [ 3.7164e+00],\n",
      "        [ 4.1284e+00],\n",
      "        [ 4.5404e+00],\n",
      "        [ 4.9524e+00],\n",
      "        [ 5.3644e+00],\n",
      "        [ 5.7764e+00],\n",
      "        [ 6.1885e+00],\n",
      "        [ 6.6005e+00],\n",
      "        [ 7.0125e+00],\n",
      "        [ 7.4245e+00],\n",
      "        [ 7.8365e+00],\n",
      "        [ 8.2485e+00],\n",
      "        [ 8.6605e+00],\n",
      "        [ 9.0726e+00],\n",
      "        [ 9.4846e+00],\n",
      "        [ 9.8966e+00],\n",
      "        [ 1.0309e+01],\n",
      "        [ 1.0721e+01],\n",
      "        [ 1.1133e+01],\n",
      "        [ 1.1545e+01],\n",
      "        [ 1.1957e+01],\n",
      "        [ 1.2369e+01],\n",
      "        [ 1.2781e+01],\n",
      "        [ 1.3193e+01],\n",
      "        [ 1.3605e+01],\n",
      "        [ 1.4017e+01],\n",
      "        [ 1.4429e+01],\n",
      "        [ 1.4841e+01],\n",
      "        [ 1.5253e+01],\n",
      "        [ 1.5665e+01],\n",
      "        [ 1.6077e+01],\n",
      "        [ 1.6489e+01],\n",
      "        [ 1.6901e+01],\n",
      "        [ 1.7313e+01],\n",
      "        [ 1.7725e+01],\n",
      "        [ 1.8137e+01],\n",
      "        [ 1.8549e+01],\n",
      "        [ 1.8961e+01],\n",
      "        [ 1.9373e+01],\n",
      "        [ 1.9785e+01],\n",
      "        [ 2.0197e+01],\n",
      "        [ 2.0609e+01],\n",
      "        [ 2.1021e+01],\n",
      "        [ 2.1433e+01],\n",
      "        [ 2.1845e+01],\n",
      "        [ 2.2257e+01],\n",
      "        [ 2.2669e+01],\n",
      "        [ 2.3081e+01],\n",
      "        [ 2.3493e+01],\n",
      "        [ 2.3905e+01],\n",
      "        [ 2.4317e+01],\n",
      "        [ 2.4729e+01]])\n"
     ]
    }
   ],
   "source": [
    "with torch.inference_mode():\n",
    "    print(model(dataset.x))"
   ]
  },
  {
   "cell_type": "code",
   "execution_count": null,
   "metadata": {},
   "outputs": [
    {
     "data": {
      "image/png": "[encoded data removed]",
      "text/plain": [
       "<Figure size 640x480 with 1 Axes>"
      ]
     },
     "metadata": {},
     "output_type": "display_data"
    }
   ],
   "source": [
    "# with torch.no_grad():\n",
    "with torch.inference_mode():\n",
    "    y_pred = model(dataset.x)\n",
    "\n",
    "plt.figure()\n",
    "plt.plot(dataset.x, dataset.y, 'o', label='data', color='black')\n",
    "plt.plot(dataset.x, y_true(dataset.x), '-', label='y=2x + 5', color='red')\n",
    "plt.plot(dataset.x, y_pred, '-', label='prediction', color='blue')\n",
    "plt.xlabel('x')\n",
    "plt.ylabel('y')\n",
    "plt.legend()\n",
    "plt.show()"
   ]
  },
  {
   "cell_type": "code",
   "execution_count": null,
   "metadata": {},
   "outputs": [
    {
     "name": "stdout",
     "output_type": "stream",
     "text": [
      "Parameter containing:\n",
      "tensor([[2.0395]], requires_grad=True)\n",
      "Parameter containing:\n",
      "tensor([4.3344], requires_grad=True)\n"
     ]
    }
   ],
   "source": [
    "params = []\n",
    "for p in model.parameters():\n",
    "  print(p)\n",
    "  params.append(p.data)"
   ]
  },
  {
   "cell_type": "code",
   "execution_count": null,
   "metadata": {},
   "outputs": [
    {
     "data": {
      "text/plain": [
       "True"
      ]
     },
     "execution_count": null,
     "metadata": {},
     "output_type": "execute_result"
    }
   ],
   "source": [
    "y_pred_manual = dataset.x @ params[0].T + params[1]\n",
    "torch.allclose(y_pred, y_pred_manual)"
   ]
  },
  {
   "cell_type": "code",
   "execution_count": null,
   "metadata": {},
   "outputs": [
    {
     "data": {
      "image/png": "[encoded data removed]",
      "text/plain": [
       "<Figure size 640x480 with 1 Axes>"
      ]
     },
     "metadata": {},
     "output_type": "display_data"
    }
   ],
   "source": [
    "if params[1].item() > 0:\n",
    "  label = f'y={params[0].item():.2f}x + {params[1].item():.2f}'\n",
    "else:\n",
    "  label = f'y={params[0].item():.2f}x - {abs(params[1].item()):.2f}'\n",
    "\n",
    "plt.figure()\n",
    "plt.plot(dataset.x, dataset.y, 'o', label='data', color='black')\n",
    "plt.plot(dataset.x, y_true(dataset.x), '-', label='y=2x + 5', color='red')\n",
    "plt.plot(dataset.x, y_pred, '-', label=label, color='blue')\n",
    "plt.xlabel('x')\n",
    "plt.ylabel('y')\n",
    "plt.legend()\n",
    "plt.show()"
   ]
  },
  {
   "cell_type": "markdown",
   "metadata": {},
   "source": [
    "## Summary"
   ]
  },
  {
   "cell_type": "code",
   "execution_count": null,
   "metadata": {},
   "outputs": [
    {
     "name": "stdout",
     "output_type": "stream",
     "text": [
      "Epoch [  0], Loss: 107.9759\n",
      "Epoch [ 10], Loss: 29.9670\n",
      "Epoch [ 20], Loss: 25.0065\n",
      "Epoch [ 30], Loss: 20.9828\n",
      "Epoch [ 40], Loss: 17.6925\n",
      "Epoch [ 50], Loss: 15.0126\n",
      "Epoch [ 60], Loss: 12.8089\n",
      "Epoch [ 70], Loss: 11.0059\n",
      "Epoch [ 80], Loss: 9.5311\n",
      "Epoch [ 90], Loss: 8.3223\n",
      "Epoch [100], Loss: 7.3317\n",
      "Epoch [110], Loss: 6.5270\n",
      "Epoch [120], Loss: 5.8648\n",
      "Epoch [130], Loss: 5.3208\n",
      "Epoch [140], Loss: 4.8767\n",
      "Epoch [150], Loss: 4.5159\n",
      "Epoch [160], Loss: 4.2218\n",
      "Epoch [170], Loss: 3.9780\n",
      "Epoch [180], Loss: 3.7783\n",
      "Epoch [190], Loss: 3.6155\n"
     ]
    },
    {
     "data": {
      "image/png": "[encoded data removed]",
      "text/plain": [
       "<Figure size 640x480 with 1 Axes>"
      ]
     },
     "metadata": {},
     "output_type": "display_data"
    },
    {
     "data": {
      "image/png": "[encoded data removed]",
      "text/plain": [
       "<Figure size 640x480 with 1 Axes>"
      ]
     },
     "metadata": {},
     "output_type": "display_data"
    }
   ],
   "source": [
    "import torch\n",
    "import torch.nn as nn\n",
    "import torch.optim as optim\n",
    "from torch.utils.data import Dataset, DataLoader\n",
    "\n",
    "# Define Dataset\n",
    "class RegressionDataset(Dataset):\n",
    "    def __init__(self, N=100):\n",
    "        x = torch.linspace(-10, 10, N).view(-1, 1)\n",
    "        noise = torch.randn_like(x) * 2\n",
    "        y = 2*x + 5 + noise\n",
    "        self.x = x\n",
    "        self.y = y\n",
    "\n",
    "    def __len__(self):\n",
    "        return len(self.x)\n",
    "\n",
    "    def __getitem__(self, idx):\n",
    "        return self.x[idx], self.y[idx]\n",
    "\n",
    "# Define Model\n",
    "class RegressionModel(nn.Module):\n",
    "    def __init__(self):\n",
    "        super().__init__()\n",
    "\n",
    "        self.model = nn.Linear(1, 1)\n",
    "\n",
    "    def forward(self, x):\n",
    "        return self.model(x)\n",
    "\n",
    "# Dataset, DataLoader\n",
    "dataset = RegressionDataset()\n",
    "dataloader = DataLoader(dataset, batch_size=2, shuffle=True)\n",
    "\n",
    "# Model, Optimizer, Criterion\n",
    "model = RegressionModel()\n",
    "optimizer = optim.SGD(model.parameters(), lr=0.0001)\n",
    "criterion = nn.MSELoss()\n",
    "\n",
    "# Training loop\n",
    "num_epochs = 200\n",
    "losses = []\n",
    "for epoch in range(num_epochs):\n",
    "    train_loss = 0.0\n",
    "    for batch in dataloader:\n",
    "        x, y = batch\n",
    "\n",
    "        # Foward propagation\n",
    "        predictions = model(x)\n",
    "        loss = criterion(predictions, y)\n",
    "\n",
    "        # Backpropagation and update weights & biases\n",
    "        optimizer.zero_grad()\n",
    "        loss.backward()\n",
    "        optimizer.step()\n",
    "\n",
    "        # Save loss\n",
    "        train_loss += loss.item()\n",
    "\n",
    "    train_loss /= len(dataloader)\n",
    "    losses.append(train_loss)\n",
    "\n",
    "    if epoch % 10 == 0:\n",
    "        print(f\"Epoch [{epoch:3d}], Loss: {train_loss:.4f}\")\n",
    "\n",
    "# Loss curve\n",
    "plt.figure()\n",
    "plt.plot(losses)\n",
    "plt.xlabel('epoch')\n",
    "plt.ylabel('loss')\n",
    "plt.show()\n",
    "\n",
    "# Inference\n",
    "def get_label(model):\n",
    "    params = []\n",
    "    for p in model.parameters():\n",
    "        params.append(p.data)\n",
    "    if params[1].item() > 0:\n",
    "      label = f'y={params[0].item():.2f}x + {params[1].item():.2f}'\n",
    "    else:\n",
    "      label = f'y={params[0].item():.2f}x - {abs(params[1].item()):.2f}'\n",
    "    return label\n",
    "\n",
    "with torch.inference_mode():\n",
    "    y_pred = model(dataset.x)\n",
    "\n",
    "label = get_label(model)\n",
    "\n",
    "plt.figure()\n",
    "plt.plot(dataset.x, dataset.y, 'o', label='data', color='black')\n",
    "plt.plot(dataset.x, y_true(dataset.x), '-', label='y=2x + 5', color='red')\n",
    "plt.plot(dataset.x, y_pred, '-', label=label, color='blue')\n",
    "plt.xlabel('x')\n",
    "plt.ylabel('y')\n",
    "plt.legend()\n",
    "plt.show()"
   ]
  },
  {
   "cell_type": "markdown",
   "metadata": {},
   "source": [
    "## PyTorch Lightning"
   ]
  },
  {
   "cell_type": "code",
   "execution_count": null,
   "metadata": {},
   "outputs": [
    {
     "name": "stdout",
     "output_type": "stream",
     "text": [
      "\u001b[2K     \u001b[90m━━━━━━━━━━━━━━━━━━━━━━━━━━━━━━━━━━━━━━━━\u001b[0m \u001b[32m40.4/40.4 kB\u001b[0m \u001b[31m2.1 MB/s\u001b[0m eta \u001b[36m0:00:00\u001b[0m\n",
      "\u001b[2K   \u001b[90m━━━━━━━━━━━━━━━━━━━━━━━━━━━━━━━━━━━━━━━━\u001b[0m \u001b[32m815.2/815.2 kB\u001b[0m \u001b[31m20.4 MB/s\u001b[0m eta \u001b[36m0:00:00\u001b[0m\n",
      "\u001b[2K   \u001b[90m━━━━━━━━━━━━━━━━━━━━━━━━━━━━━━━━━━━━━━━━\u001b[0m \u001b[32m927.3/927.3 kB\u001b[0m \u001b[31m42.1 MB/s\u001b[0m eta \u001b[36m0:00:00\u001b[0m\n",
      "\u001b[2K   \u001b[90m━━━━━━━━━━━━━━━━━━━━━━━━━━━━━━━━━━━━━━━━\u001b[0m \u001b[32m819.3/819.3 kB\u001b[0m \u001b[31m42.8 MB/s\u001b[0m eta \u001b[36m0:00:00\u001b[0m\n",
      "\u001b[?25h"
     ]
    }
   ],
   "source": [
    "!pip install -qq lightning"
   ]
  },
  {
   "cell_type": "code",
   "execution_count": null,
   "metadata": {},
   "outputs": [
    {
     "name": "stderr",
     "output_type": "stream",
     "text": [
      "INFO: GPU available: False, used: False\n",
      "INFO:lightning.pytorch.utilities.rank_zero:GPU available: False, used: False\n",
      "INFO: TPU available: False, using: 0 TPU cores\n",
      "INFO:lightning.pytorch.utilities.rank_zero:TPU available: False, using: 0 TPU cores\n",
      "INFO: HPU available: False, using: 0 HPUs\n",
      "INFO:lightning.pytorch.utilities.rank_zero:HPU available: False, using: 0 HPUs\n",
      "INFO: \n",
      "  | Name      | Type            | Params | Mode \n",
      "------------------------------------------------------\n",
      "0 | model     | RegressionModel | 2      | train\n",
      "1 | criterion | MSELoss         | 0      | train\n",
      "------------------------------------------------------\n",
      "2         Trainable params\n",
      "0         Non-trainable params\n",
      "2         Total params\n",
      "0.000     Total estimated model params size (MB)\n",
      "3         Modules in train mode\n",
      "0         Modules in eval mode\n",
      "INFO:lightning.pytorch.callbacks.model_summary:\n",
      "  | Name      | Type            | Params | Mode \n",
      "------------------------------------------------------\n",
      "0 | model     | RegressionModel | 2      | train\n",
      "1 | criterion | MSELoss         | 0      | train\n",
      "------------------------------------------------------\n",
      "2         Trainable params\n",
      "0         Non-trainable params\n",
      "2         Total params\n",
      "0.000     Total estimated model params size (MB)\n",
      "3         Modules in train mode\n",
      "0         Modules in eval mode\n"
     ]
    },
    {
     "data": {
      "application/vnd.jupyter.widget-view+json": {
       "model_id": "daa8ead31dc9458499809a0cf5ecf86d",
       "version_major": 2,
       "version_minor": 0
      },
      "text/plain": [
       "Training: |          | 0/? [00:00<?, ?it/s]"
      ]
     },
     "metadata": {},
     "output_type": "display_data"
    },
    {
     "name": "stderr",
     "output_type": "stream",
     "text": [
      "INFO: `Trainer.fit` stopped: `max_epochs=20` reached.\n",
      "INFO:lightning.pytorch.utilities.rank_zero:`Trainer.fit` stopped: `max_epochs=20` reached.\n"
     ]
    }
   ],
   "source": [
    "import torch\n",
    "import torch.nn as nn\n",
    "import torch.optim as optim\n",
    "from torch.utils.data import Dataset, DataLoader\n",
    "import lightning as L\n",
    "from lightning.pytorch.callbacks import ModelCheckpoint\n",
    "from lightning.pytorch.loggers import CSVLogger\n",
    "\n",
    "# Define Dataset\n",
    "class RegressionDataset(Dataset):\n",
    "    def __init__(self, N=100):\n",
    "        x = torch.linspace(-10, 10, N).view(-1, 1)\n",
    "        noise = torch.randn_like(x) * 2\n",
    "        y = 2*x + 5 + noise\n",
    "        self.x = x\n",
    "        self.y = y\n",
    "\n",
    "    def __len__(self):\n",
    "        return len(self.x)\n",
    "\n",
    "    def __getitem__(self, idx):\n",
    "        return self.x[idx], self.y[idx]\n",
    "\n",
    "# Define Model\n",
    "class RegressionModel(nn.Module):\n",
    "    def __init__(self):\n",
    "        super().__init__()\n",
    "\n",
    "        self.model = nn.Linear(1, 1)\n",
    "\n",
    "    def forward(self, x):\n",
    "        return self.model(x)\n",
    "\n",
    "# LightningDataModule\n",
    "class LiTRegressionDataModule(L.LightningDataModule):\n",
    "    def __init__(self, batch_size=2):\n",
    "        super().__init__()\n",
    "        self.batch_size = batch_size\n",
    "\n",
    "    def setup(self, stage):\n",
    "        self.dataset_train = RegressionDataset()\n",
    "\n",
    "    def train_dataloader(self):\n",
    "        return DataLoader(self.dataset_train, batch_size=self.batch_size, shuffle=True)\n",
    "\n",
    "# LightningModule\n",
    "class LiTRegressionModel(L.LightningModule):\n",
    "    def __init__(self, lr=0.0001):\n",
    "        super().__init__()\n",
    "        self.save_hyperparameters()\n",
    "\n",
    "        self.model = RegressionModel()\n",
    "        self.lr = lr\n",
    "\n",
    "        self.criterion = nn.MSELoss()\n",
    "\n",
    "    def forward(self, x):\n",
    "        return self.model(x)\n",
    "\n",
    "    def training_step(self, batch, batch_idx):\n",
    "        x, y = batch\n",
    "        predictions = self(x)\n",
    "        loss = self.criterion(predictions, y)\n",
    "        self.log(\"train/loss\", loss, prog_bar=True, on_epoch=True, on_step=False)\n",
    "        return loss\n",
    "\n",
    "    def configure_optimizers(self):\n",
    "        optimizer = optim.SGD(self.parameters(), lr=self.lr)\n",
    "        return optimizer\n",
    "\n",
    "# Data, Model\n",
    "dm = LiTRegressionDataModule()\n",
    "model_lit = LiTRegressionModel(lr=0.005)\n",
    "\n",
    "# Trainer\n",
    "callbacks = [\n",
    "    ModelCheckpoint(save_top_k=1, mode=\"min\", monitor=\"train/loss\"),\n",
    "]\n",
    "logger = CSVLogger(save_dir=\"logs/\", name=\"regression\")\n",
    "\n",
    "trainer = L.Trainer(\n",
    "    max_epochs=20,\n",
    "    callbacks = callbacks,\n",
    "    logger = logger\n",
    ")\n",
    "\n",
    "# Training\n",
    "trainer.fit(model_lit, dm)"
   ]
  },
  {
   "cell_type": "code",
   "execution_count": null,
   "metadata": {},
   "outputs": [
    {
     "data": {
      "text/plain": [
       "'logs/regression/version_0'"
      ]
     },
     "execution_count": null,
     "metadata": {},
     "output_type": "execute_result"
    }
   ],
   "source": [
    "trainer.logger.log_dir"
   ]
  },
  {
   "cell_type": "code",
   "execution_count": null,
   "metadata": {},
   "outputs": [],
   "source": [
    "import pandas as pd"
   ]
  },
  {
   "cell_type": "code",
   "execution_count": null,
   "metadata": {},
   "outputs": [
    {
     "data": {
      "text/html": [
       "\n",
       "  <div id=\"df-1c8297e2-ff9b-489d-8931-c755f87f5f64\" class=\"colab-df-container\">\n",
       "    <div>\n",
       "<style scoped>\n",
       "    .dataframe tbody tr th:only-of-type {\n",
       "        vertical-align: middle;\n",
       "    }\n",
       "\n",
       "    .dataframe tbody tr th {\n",
       "        vertical-align: top;\n",
       "    }\n",
       "\n",
       "    .dataframe thead th {\n",
       "        text-align: right;\n",
       "    }\n",
       "</style>\n",
       "<table border=\"1\" class=\"dataframe\">\n",
       "  <thead>\n",
       "    <tr style=\"text-align: right;\">\n",
       "      <th></th>\n",
       "      <th>epoch</th>\n",
       "      <th>step</th>\n",
       "      <th>train/loss</th>\n",
       "    </tr>\n",
       "  </thead>\n",
       "  <tbody>\n",
       "    <tr>\n",
       "      <th>0</th>\n",
       "      <td>0</td>\n",
       "      <td>49</td>\n",
       "      <td>25.412720</td>\n",
       "    </tr>\n",
       "    <tr>\n",
       "      <th>1</th>\n",
       "      <td>1</td>\n",
       "      <td>99</td>\n",
       "      <td>12.479750</td>\n",
       "    </tr>\n",
       "    <tr>\n",
       "      <th>2</th>\n",
       "      <td>2</td>\n",
       "      <td>149</td>\n",
       "      <td>7.366966</td>\n",
       "    </tr>\n",
       "    <tr>\n",
       "      <th>3</th>\n",
       "      <td>3</td>\n",
       "      <td>199</td>\n",
       "      <td>5.508699</td>\n",
       "    </tr>\n",
       "    <tr>\n",
       "      <th>4</th>\n",
       "      <td>4</td>\n",
       "      <td>249</td>\n",
       "      <td>4.844038</td>\n",
       "    </tr>\n",
       "  </tbody>\n",
       "</table>\n",
       "</div>\n",
       "    <div class=\"colab-df-buttons\">\n",
       "\n",
       "  <div class=\"colab-df-container\">\n",
       "    <button class=\"colab-df-convert\" onclick=\"convertToInteractive('df-1c8297e2-ff9b-489d-8931-c755f87f5f64')\"\n",
       "            title=\"Convert this dataframe to an interactive table.\"\n",
       "            style=\"display:none;\">\n",
       "\n",
       "  <svg xmlns=\"http://www.w3.org/2000/svg\" height=\"24px\" viewBox=\"0 -960 960 960\">\n",
       "    <path d=\"M120-120v-720h720v720H120Zm60-500h600v-160H180v160Zm220 220h160v-160H400v160Zm0 220h160v-160H400v160ZM180-400h160v-160H180v160Zm440 0h160v-160H620v160ZM180-180h160v-160H180v160Zm440 0h160v-160H620v160Z\"/>\n",
       "  </svg>\n",
       "    </button>\n",
       "\n",
       "  <style>\n",
       "    .colab-df-container {\n",
       "      display:flex;\n",
       "      gap: 12px;\n",
       "    }\n",
       "\n",
       "    .colab-df-convert {\n",
       "      background-color: #E8F0FE;\n",
       "      border: none;\n",
       "      border-radius: 50%;\n",
       "      cursor: pointer;\n",
       "      display: none;\n",
       "      fill: #1967D2;\n",
       "      height: 32px;\n",
       "      padding: 0 0 0 0;\n",
       "      width: 32px;\n",
       "    }\n",
       "\n",
       "    .colab-df-convert:hover {\n",
       "      background-color: #E2EBFA;\n",
       "      box-shadow: 0px 1px 2px rgba(60, 64, 67, 0.3), 0px 1px 3px 1px rgba(60, 64, 67, 0.15);\n",
       "      fill: #174EA6;\n",
       "    }\n",
       "\n",
       "    .colab-df-buttons div {\n",
       "      margin-bottom: 4px;\n",
       "    }\n",
       "\n",
       "    [theme=dark] .colab-df-convert {\n",
       "      background-color: #3B4455;\n",
       "      fill: #D2E3FC;\n",
       "    }\n",
       "\n",
       "    [theme=dark] .colab-df-convert:hover {\n",
       "      background-color: #434B5C;\n",
       "      box-shadow: 0px 1px 3px 1px rgba(0, 0, 0, 0.15);\n",
       "      filter: drop-shadow(0px 1px 2px rgba(0, 0, 0, 0.3));\n",
       "      fill: #FFFFFF;\n",
       "    }\n",
       "  </style>\n",
       "\n",
       "    <script>\n",
       "      const buttonEl =\n",
       "        document.querySelector('#df-1c8297e2-ff9b-489d-8931-c755f87f5f64 button.colab-df-convert');\n",
       "      buttonEl.style.display =\n",
       "        google.colab.kernel.accessAllowed ? 'block' : 'none';\n",
       "\n",
       "      async function convertToInteractive(key) {\n",
       "        const element = document.querySelector('#df-1c8297e2-ff9b-489d-8931-c755f87f5f64');\n",
       "        const dataTable =\n",
       "          await google.colab.kernel.invokeFunction('convertToInteractive',\n",
       "                                                    [key], {});\n",
       "        if (!dataTable) return;\n",
       "\n",
       "        const docLinkHtml = 'Like what you see? Visit the ' +\n",
       "          '<a target=\"_blank\" href=https://colab.research.google.com/notebooks/data_table.ipynb>data table notebook</a>'\n",
       "          + ' to learn more about interactive tables.';\n",
       "        element.innerHTML = '';\n",
       "        dataTable['output_type'] = 'display_data';\n",
       "        await google.colab.output.renderOutput(dataTable, element);\n",
       "        const docLink = document.createElement('div');\n",
       "        docLink.innerHTML = docLinkHtml;\n",
       "        element.appendChild(docLink);\n",
       "      }\n",
       "    </script>\n",
       "  </div>\n",
       "\n",
       "\n",
       "<div id=\"df-12e20959-39ec-4452-9c1b-f466ae92d5e0\">\n",
       "  <button class=\"colab-df-quickchart\" onclick=\"quickchart('df-12e20959-39ec-4452-9c1b-f466ae92d5e0')\"\n",
       "            title=\"Suggest charts\"\n",
       "            style=\"display:none;\">\n",
       "\n",
       "<svg xmlns=\"http://www.w3.org/2000/svg\" height=\"24px\"viewBox=\"0 0 24 24\"\n",
       "     width=\"24px\">\n",
       "    <g>\n",
       "        <path d=\"M19 3H5c-1.1 0-2 .9-2 2v14c0 1.1.9 2 2 2h14c1.1 0 2-.9 2-2V5c0-1.1-.9-2-2-2zM9 17H7v-7h2v7zm4 0h-2V7h2v10zm4 0h-2v-4h2v4z\"/>\n",
       "    </g>\n",
       "</svg>\n",
       "  </button>\n",
       "\n",
       "<style>\n",
       "  .colab-df-quickchart {\n",
       "      --bg-color: #E8F0FE;\n",
       "      --fill-color: #1967D2;\n",
       "      --hover-bg-color: #E2EBFA;\n",
       "      --hover-fill-color: #174EA6;\n",
       "      --disabled-fill-color: #AAA;\n",
       "      --disabled-bg-color: #DDD;\n",
       "  }\n",
       "\n",
       "  [theme=dark] .colab-df-quickchart {\n",
       "      --bg-color: #3B4455;\n",
       "      --fill-color: #D2E3FC;\n",
       "      --hover-bg-color: #434B5C;\n",
       "      --hover-fill-color: #FFFFFF;\n",
       "      --disabled-bg-color: #3B4455;\n",
       "      --disabled-fill-color: #666;\n",
       "  }\n",
       "\n",
       "  .colab-df-quickchart {\n",
       "    background-color: var(--bg-color);\n",
       "    border: none;\n",
       "    border-radius: 50%;\n",
       "    cursor: pointer;\n",
       "    display: none;\n",
       "    fill: var(--fill-color);\n",
       "    height: 32px;\n",
       "    padding: 0;\n",
       "    width: 32px;\n",
       "  }\n",
       "\n",
       "  .colab-df-quickchart:hover {\n",
       "    background-color: var(--hover-bg-color);\n",
       "    box-shadow: 0 1px 2px rgba(60, 64, 67, 0.3), 0 1px 3px 1px rgba(60, 64, 67, 0.15);\n",
       "    fill: var(--button-hover-fill-color);\n",
       "  }\n",
       "\n",
       "  .colab-df-quickchart-complete:disabled,\n",
       "  .colab-df-quickchart-complete:disabled:hover {\n",
       "    background-color: var(--disabled-bg-color);\n",
       "    fill: var(--disabled-fill-color);\n",
       "    box-shadow: none;\n",
       "  }\n",
       "\n",
       "  .colab-df-spinner {\n",
       "    border: 2px solid var(--fill-color);\n",
       "    border-color: transparent;\n",
       "    border-bottom-color: var(--fill-color);\n",
       "    animation:\n",
       "      spin 1s steps(1) infinite;\n",
       "  }\n",
       "\n",
       "  @keyframes spin {\n",
       "    0% {\n",
       "      border-color: transparent;\n",
       "      border-bottom-color: var(--fill-color);\n",
       "      border-left-color: var(--fill-color);\n",
       "    }\n",
       "    20% {\n",
       "      border-color: transparent;\n",
       "      border-left-color: var(--fill-color);\n",
       "      border-top-color: var(--fill-color);\n",
       "    }\n",
       "    30% {\n",
       "      border-color: transparent;\n",
       "      border-left-color: var(--fill-color);\n",
       "      border-top-color: var(--fill-color);\n",
       "      border-right-color: var(--fill-color);\n",
       "    }\n",
       "    40% {\n",
       "      border-color: transparent;\n",
       "      border-right-color: var(--fill-color);\n",
       "      border-top-color: var(--fill-color);\n",
       "    }\n",
       "    60% {\n",
       "      border-color: transparent;\n",
       "      border-right-color: var(--fill-color);\n",
       "    }\n",
       "    80% {\n",
       "      border-color: transparent;\n",
       "      border-right-color: var(--fill-color);\n",
       "      border-bottom-color: var(--fill-color);\n",
       "    }\n",
       "    90% {\n",
       "      border-color: transparent;\n",
       "      border-bottom-color: var(--fill-color);\n",
       "    }\n",
       "  }\n",
       "</style>\n",
       "\n",
       "  <script>\n",
       "    async function quickchart(key) {\n",
       "      const quickchartButtonEl =\n",
       "        document.querySelector('#' + key + ' button');\n",
       "      quickchartButtonEl.disabled = true;  // To prevent multiple clicks.\n",
       "      quickchartButtonEl.classList.add('colab-df-spinner');\n",
       "      try {\n",
       "        const charts = await google.colab.kernel.invokeFunction(\n",
       "            'suggestCharts', [key], {});\n",
       "      } catch (error) {\n",
       "        console.error('Error during call to suggestCharts:', error);\n",
       "      }\n",
       "      quickchartButtonEl.classList.remove('colab-df-spinner');\n",
       "      quickchartButtonEl.classList.add('colab-df-quickchart-complete');\n",
       "    }\n",
       "    (() => {\n",
       "      let quickchartButtonEl =\n",
       "        document.querySelector('#df-12e20959-39ec-4452-9c1b-f466ae92d5e0 button');\n",
       "      quickchartButtonEl.style.display =\n",
       "        google.colab.kernel.accessAllowed ? 'block' : 'none';\n",
       "    })();\n",
       "  </script>\n",
       "</div>\n",
       "\n",
       "    </div>\n",
       "  </div>\n"
      ],
      "text/plain": [
       "   epoch  step  train/loss\n",
       "0      0    49   25.412720\n",
       "1      1    99   12.479750\n",
       "2      2   149    7.366966\n",
       "3      3   199    5.508699\n",
       "4      4   249    4.844038"
      ]
     },
     "execution_count": null,
     "metadata": {},
     "output_type": "execute_result"
    }
   ],
   "source": [
    "metrics = pd.read_csv(f\"{trainer.logger.log_dir}/metrics.csv\")\n",
    "metrics.head()"
   ]
  },
  {
   "cell_type": "code",
   "execution_count": null,
   "metadata": {},
   "outputs": [
    {
     "data": {
      "image/png": "[encoded data removed]",
      "text/plain": [
       "<Figure size 640x480 with 1 Axes>"
      ]
     },
     "metadata": {},
     "output_type": "display_data"
    }
   ],
   "source": [
    "metrics[\"train/loss\"].plot(xlabel=\"Epoch\", ylabel=\"Loss\");"
   ]
  },
  {
   "cell_type": "code",
   "execution_count": null,
   "metadata": {},
   "outputs": [
    {
     "data": {
      "image/png": "[encoded data removed]",
      "text/plain": [
       "<Figure size 640x480 with 1 Axes>"
      ]
     },
     "metadata": {},
     "output_type": "display_data"
    }
   ],
   "source": [
    "with torch.inference_mode():\n",
    "    y_pred = model_lit(dm.dataset_train.x)\n",
    "\n",
    "label = get_label(model_lit)\n",
    "\n",
    "plt.figure()\n",
    "plt.plot(dataset.x, dataset.y, 'o', label='data', color='black')\n",
    "plt.plot(dataset.x, y_true(dataset.x), '-', label='y=2x + 5', color='red')\n",
    "plt.plot(dataset.x, y_pred, '-', label=label, color='blue')\n",
    "plt.xlabel('x')\n",
    "plt.ylabel('y')\n",
    "plt.legend()\n",
    "plt.show()"
   ]
  },
  {
   "cell_type": "code",
   "execution_count": null,
   "metadata": {},
   "outputs": [],
   "source": []
  }
 ],
 "metadata": {
  "kernelspec": {
   "display_name": "python3",
   "name": "python3"
  },
  "widgets": {
   "application/vnd.jupyter.widget-state+json": {
    "0941dbbe184a4df79ae2abce3db29726": {
     "model_module": "@jupyter-widgets/controls",
     "model_module_version": "1.5.0",
     "model_name": "HTMLModel",
     "state": {
      "_dom_classes": [],
      "_model_module": "@jupyter-widgets/controls",
      "_model_module_version": "1.5.0",
      "_model_name": "HTMLModel",
      "_view_count": null,
      "_view_module": "@jupyter-widgets/controls",
      "_view_module_version": "1.5.0",
      "_view_name": "HTMLView",
      "description": "",
      "description_tooltip": null,
      "layout": "IPY_MODEL_f603fd3b636445f9ae0a7ce0d1a41558",
      "placeholder": "​",
      "style": "IPY_MODEL_58d00b5fe0994f93b51802abf626c645",
      "value": "Epoch 19: 100%"
     }
    },
    "5254adab19fe4956a7f2c719ad8dbaab": {
     "model_module": "@jupyter-widgets/controls",
     "model_module_version": "1.5.0",
     "model_name": "FloatProgressModel",
     "state": {
      "_dom_classes": [],
      "_model_module": "@jupyter-widgets/controls",
      "_model_module_version": "1.5.0",
      "_model_name": "FloatProgressModel",
      "_view_count": null,
      "_view_module": "@jupyter-widgets/controls",
      "_view_module_version": "1.5.0",
      "_view_name": "ProgressView",
      "bar_style": "success",
      "description": "",
      "description_tooltip": null,
      "layout": "IPY_MODEL_5f0824dc19844432b58e26013b7067e2",
      "max": 50,
      "min": 0,
      "orientation": "horizontal",
      "style": "IPY_MODEL_d286e518e9164c4096e7aa6ed45c035c",
      "value": 50
     }
    },
    "58d00b5fe0994f93b51802abf626c645": {
     "model_module": "@jupyter-widgets/controls",
     "model_module_version": "1.5.0",
     "model_name": "DescriptionStyleModel",
     "state": {
      "_model_module": "@jupyter-widgets/controls",
      "_model_module_version": "1.5.0",
      "_model_name": "DescriptionStyleModel",
      "_view_count": null,
      "_view_module": "@jupyter-widgets/base",
      "_view_module_version": "1.2.0",
      "_view_name": "StyleView",
      "description_width": ""
     }
    },
    "5f0824dc19844432b58e26013b7067e2": {
     "model_module": "@jupyter-widgets/base",
     "model_module_version": "1.2.0",
     "model_name": "LayoutModel",
     "state": {
      "_model_module": "@jupyter-widgets/base",
      "_model_module_version": "1.2.0",
      "_model_name": "LayoutModel",
      "_view_count": null,
      "_view_module": "@jupyter-widgets/base",
      "_view_module_version": "1.2.0",
      "_view_name": "LayoutView",
      "align_content": null,
      "align_items": null,
      "align_self": null,
      "border": null,
      "bottom": null,
      "display": null,
      "flex": "2",
      "flex_flow": null,
      "grid_area": null,
      "grid_auto_columns": null,
      "grid_auto_flow": null,
      "grid_auto_rows": null,
      "grid_column": null,
      "grid_gap": null,
      "grid_row": null,
      "grid_template_areas": null,
      "grid_template_columns": null,
      "grid_template_rows": null,
      "height": null,
      "justify_content": null,
      "justify_items": null,
      "left": null,
      "margin": null,
      "max_height": null,
      "max_width": null,
      "min_height": null,
      "min_width": null,
      "object_fit": null,
      "object_position": null,
      "order": null,
      "overflow": null,
      "overflow_x": null,
      "overflow_y": null,
      "padding": null,
      "right": null,
      "top": null,
      "visibility": null,
      "width": null
     }
    },
    "7d35be77212849678f17adf36005baae": {
     "model_module": "@jupyter-widgets/controls",
     "model_module_version": "1.5.0",
     "model_name": "DescriptionStyleModel",
     "state": {
      "_model_module": "@jupyter-widgets/controls",
      "_model_module_version": "1.5.0",
      "_model_name": "DescriptionStyleModel",
      "_view_count": null,
      "_view_module": "@jupyter-widgets/base",
      "_view_module_version": "1.2.0",
      "_view_name": "StyleView",
      "description_width": ""
     }
    },
    "970bea54ec364b17a624c4dc2728215a": {
     "model_module": "@jupyter-widgets/controls",
     "model_module_version": "1.5.0",
     "model_name": "HTMLModel",
     "state": {
      "_dom_classes": [],
      "_model_module": "@jupyter-widgets/controls",
      "_model_module_version": "1.5.0",
      "_model_name": "HTMLModel",
      "_view_count": null,
      "_view_module": "@jupyter-widgets/controls",
      "_view_module_version": "1.5.0",
      "_view_name": "HTMLView",
      "description": "",
      "description_tooltip": null,
      "layout": "IPY_MODEL_9f713c6da3314793a935575b46e66c20",
      "placeholder": "​",
      "style": "IPY_MODEL_7d35be77212849678f17adf36005baae",
      "value": " 50/50 [00:00&lt;00:00, 118.05it/s, v_num=0, train/loss=4.460]"
     }
    },
    "9f713c6da3314793a935575b46e66c20": {
     "model_module": "@jupyter-widgets/base",
     "model_module_version": "1.2.0",
     "model_name": "LayoutModel",
     "state": {
      "_model_module": "@jupyter-widgets/base",
      "_model_module_version": "1.2.0",
      "_model_name": "LayoutModel",
      "_view_count": null,
      "_view_module": "@jupyter-widgets/base",
      "_view_module_version": "1.2.0",
      "_view_name": "LayoutView",
      "align_content": null,
      "align_items": null,
      "align_self": null,
      "border": null,
      "bottom": null,
      "display": null,
      "flex": null,
      "flex_flow": null,
      "grid_area": null,
      "grid_auto_columns": null,
      "grid_auto_flow": null,
      "grid_auto_rows": null,
      "grid_column": null,
      "grid_gap": null,
      "grid_row": null,
      "grid_template_areas": null,
      "grid_template_columns": null,
      "grid_template_rows": null,
      "height": null,
      "justify_content": null,
      "justify_items": null,
      "left": null,
      "margin": null,
      "max_height": null,
      "max_width": null,
      "min_height": null,
      "min_width": null,
      "object_fit": null,
      "object_position": null,
      "order": null,
      "overflow": null,
      "overflow_x": null,
      "overflow_y": null,
      "padding": null,
      "right": null,
      "top": null,
      "visibility": null,
      "width": null
     }
    },
    "c4565649e0fa47129189a8266c075801": {
     "model_module": "@jupyter-widgets/base",
     "model_module_version": "1.2.0",
     "model_name": "LayoutModel",
     "state": {
      "_model_module": "@jupyter-widgets/base",
      "_model_module_version": "1.2.0",
      "_model_name": "LayoutModel",
      "_view_count": null,
      "_view_module": "@jupyter-widgets/base",
      "_view_module_version": "1.2.0",
      "_view_name": "LayoutView",
      "align_content": null,
      "align_items": null,
      "align_self": null,
      "border": null,
      "bottom": null,
      "display": "inline-flex",
      "flex": null,
      "flex_flow": "row wrap",
      "grid_area": null,
      "grid_auto_columns": null,
      "grid_auto_flow": null,
      "grid_auto_rows": null,
      "grid_column": null,
      "grid_gap": null,
      "grid_row": null,
      "grid_template_areas": null,
      "grid_template_columns": null,
      "grid_template_rows": null,
      "height": null,
      "justify_content": null,
      "justify_items": null,
      "left": null,
      "margin": null,
      "max_height": null,
      "max_width": null,
      "min_height": null,
      "min_width": null,
      "object_fit": null,
      "object_position": null,
      "order": null,
      "overflow": null,
      "overflow_x": null,
      "overflow_y": null,
      "padding": null,
      "right": null,
      "top": null,
      "visibility": null,
      "width": "100%"
     }
    },
    "d286e518e9164c4096e7aa6ed45c035c": {
     "model_module": "@jupyter-widgets/controls",
     "model_module_version": "1.5.0",
     "model_name": "ProgressStyleModel",
     "state": {
      "_model_module": "@jupyter-widgets/controls",
      "_model_module_version": "1.5.0",
      "_model_name": "ProgressStyleModel",
      "_view_count": null,
      "_view_module": "@jupyter-widgets/base",
      "_view_module_version": "1.2.0",
      "_view_name": "StyleView",
      "bar_color": null,
      "description_width": ""
     }
    },
    "daa8ead31dc9458499809a0cf5ecf86d": {
     "model_module": "@jupyter-widgets/controls",
     "model_module_version": "1.5.0",
     "model_name": "HBoxModel",
     "state": {
      "_dom_classes": [],
      "_model_module": "@jupyter-widgets/controls",
      "_model_module_version": "1.5.0",
      "_model_name": "HBoxModel",
      "_view_count": null,
      "_view_module": "@jupyter-widgets/controls",
      "_view_module_version": "1.5.0",
      "_view_name": "HBoxView",
      "box_style": "",
      "children": [
       "IPY_MODEL_0941dbbe184a4df79ae2abce3db29726",
       "IPY_MODEL_5254adab19fe4956a7f2c719ad8dbaab",
       "IPY_MODEL_970bea54ec364b17a624c4dc2728215a"
      ],
      "layout": "IPY_MODEL_c4565649e0fa47129189a8266c075801"
     }
    },
    "f603fd3b636445f9ae0a7ce0d1a41558": {
     "model_module": "@jupyter-widgets/base",
     "model_module_version": "1.2.0",
     "model_name": "LayoutModel",
     "state": {
      "_model_module": "@jupyter-widgets/base",
      "_model_module_version": "1.2.0",
      "_model_name": "LayoutModel",
      "_view_count": null,
      "_view_module": "@jupyter-widgets/base",
      "_view_module_version": "1.2.0",
      "_view_name": "LayoutView",
      "align_content": null,
      "align_items": null,
      "align_self": null,
      "border": null,
      "bottom": null,
      "display": null,
      "flex": null,
      "flex_flow": null,
      "grid_area": null,
      "grid_auto_columns": null,
      "grid_auto_flow": null,
      "grid_auto_rows": null,
      "grid_column": null,
      "grid_gap": null,
      "grid_row": null,
      "grid_template_areas": null,
      "grid_template_columns": null,
      "grid_template_rows": null,
      "height": null,
      "justify_content": null,
      "justify_items": null,
      "left": null,
      "margin": null,
      "max_height": null,
      "max_width": null,
      "min_height": null,
      "min_width": null,
      "object_fit": null,
      "object_position": null,
      "order": null,
      "overflow": null,
      "overflow_x": null,
      "overflow_y": null,
      "padding": null,
      "right": null,
      "top": null,
      "visibility": null,
      "width": null
     }
    }
   }
  }
 },
 "nbformat": 4,
 "nbformat_minor": 0
}

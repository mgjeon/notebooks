{
 "cells": [
  {
   "cell_type": "markdown",
   "metadata": {},
   "source": [
    "# Univariate Regression"
   ]
  },
  {
   "cell_type": "markdown",
   "metadata": {},
   "source": [
    "The goal is to predict a single scalar output $y \\in \\mathbb{R}$ from input $x$ using a model $f_\\theta(x)$ with parameters $\\theta$.\n",
    "\n",
    "We select the univariate normal, which is defined over $y \\in \\mathbb{R}$. This distribution has two parameters (mean $\\mu$ and variance $\\sigma^2$).\n",
    "\n",
    "$$\n",
    "p(y|\\mu, \\sigma^2) = \\frac{1}{\\sqrt{2\\pi\\sigma^2}}\\exp\\left[-\\frac{(y-\\mu)^2}{2\\sigma^2}\\right]\n",
    "$$\n",
    "\n",
    "We set the machine learning model to compute the mean.\n",
    "$$\n",
    "\\mu = f_\\theta(x)\n",
    "$$"
   ]
  },
  {
   "cell_type": "markdown",
   "metadata": {},
   "source": [
    "We choose a loss function based on the negative log-likelihood.\n",
    "$$\n",
    "\\begin{align}\n",
    "L(\\theta) & = -\\sum_{i=1}^{N}\\log p(y_i|f_\\theta(x_i), \\sigma^2) \\\\\n",
    "& = -\\sum_{i=1}^{N}\\log\\left[ \\frac{1}{\\sqrt{2\\pi\\sigma^2}}\\exp\\left[-\\frac{(y-f_\\theta(x_i))^2}{2\\sigma^2}\\right] \\right]\n",
    "\\end{align}\n",
    "$$"
   ]
  },
  {
   "cell_type": "markdown",
   "metadata": {},
   "source": [
    "When the train the model, we seek parameters $\\hat{\\theta}$ that minimize the loss.\n",
    "$$\n",
    "\\begin{align}\n",
    "\\hat{\\theta} & = \\underset{\\theta}{\\mathrm{argmin}}\\left[\n",
    "  -\\sum_{i=1}^{N}\\log\\left[ \\frac{1}{\\sqrt{2\\pi\\sigma^2}}\\exp\\left[-\\frac{(y-f_\\theta(x_i))^2}{2\\sigma^2}\\right] \\right]\n",
    "  \\right] \\\\\n",
    "& = \\underset{\\theta}{\\mathrm{argmin}}\\left[\n",
    "  -\\sum_{i=1}^{N}\n",
    "  \\left( \\log \\left[\\frac{1}{\\sqrt{2\\pi\\sigma^2}} \\right]\n",
    "  -\\frac{(y-f_\\theta(x_i))^2}{2\\sigma^2} \\right) \\right]\\\\\n",
    "& = \\underset{\\theta}{\\mathrm{argmin}}\\left[\n",
    "  -\\sum_{i=1}^{N}\n",
    "  \\left(\n",
    "  -\\frac{(y-f_\\theta(x_i))^2}{2\\sigma^2} \\right) \\right]\\\\\n",
    "& = \\underset{\\theta}{\\mathrm{argmin}}\\left[\n",
    "  \\sum_{i=1}^{N} (y-f_\\theta(x_i))^2 \\right]\\\\\n",
    "\\end{align}\n",
    "$$"
   ]
  },
  {
   "cell_type": "markdown",
   "metadata": {},
   "source": [
    "Therefore, we have a **least squares loss** function.\n",
    "\n",
    "$$\n",
    "L(\\theta) = \\sum_{i=1}^{N} (y_i-f_\\theta(x_i))^2\n",
    "$$"
   ]
  },
  {
   "cell_type": "markdown",
   "metadata": {},
   "source": [
    "\n",
    "When we perform inference, we usually want a single \"best\" point estimate $\\hat{y}$, so we take the maximum of the predicted distribution:\n",
    "\n",
    "$$\n",
    "\\hat{y} = \\underset{\\theta}{\\mathrm{argmax}} \\; p(y|f_{\\hat{\\theta}}(x), \\sigma^2)\n",
    "$$\n",
    "\n",
    "For the univariate normal, the maximum position is determined by the mean parameter $\\mu$. This is precisely what the model computed, so\n",
    "\n",
    "$$\n",
    "\\hat{y} = f_{\\hat{\\theta}}(x)\n",
    "$$"
   ]
  },
  {
   "cell_type": "markdown",
   "metadata": {},
   "source": [
    "## Mean squared error (MSE)\n",
    "\n",
    "$$\n",
    "\\text{MSE}(a,b) = \\frac{1}{N}\\sum_i^N(a_i - b_i)^2\n",
    "$$"
   ]
  },
  {
   "cell_type": "code",
   "execution_count": null,
   "metadata": {},
   "outputs": [],
   "source": [
    "import torch\n",
    "from torch import nn"
   ]
  },
  {
   "cell_type": "code",
   "execution_count": null,
   "metadata": {},
   "outputs": [
    {
     "data": {
      "text/plain": [
       "tensor(17.)"
      ]
     },
     "execution_count": null,
     "metadata": {},
     "output_type": "execute_result"
    }
   ],
   "source": [
    "mse = nn.MSELoss()\n",
    "a = torch.tensor([1.0, 7.0])\n",
    "b = torch.tensor([4.0, 2.0])\n",
    "mse(a, b)"
   ]
  },
  {
   "cell_type": "markdown",
   "metadata": {},
   "source": [
    "## Imports"
   ]
  },
  {
   "cell_type": "code",
   "execution_count": null,
   "metadata": {},
   "outputs": [],
   "source": [
    "import numpy as np\n",
    "import matplotlib.pyplot as plt\n",
    "\n",
    "import torch\n",
    "import torch.nn as nn\n",
    "import torch.optim as optim\n",
    "from torch.utils.data import Dataset, DataLoader"
   ]
  },
  {
   "cell_type": "markdown",
   "metadata": {},
   "source": [
    "## Data"
   ]
  },
  {
   "cell_type": "code",
   "execution_count": null,
   "metadata": {},
   "outputs": [
    {
     "data": {
      "text/plain": [
       "torch.Size([100, 1])"
      ]
     },
     "execution_count": null,
     "metadata": {},
     "output_type": "execute_result"
    }
   ],
   "source": [
    "# Data\n",
    "# y = 2x + 5\n",
    "N = 100\n",
    "x = torch.linspace(-10, 10, N).view(-1, 1)  #(N, 1)\n",
    "x.shape"
   ]
  },
  {
   "cell_type": "code",
   "execution_count": null,
   "metadata": {},
   "outputs": [
    {
     "data": {
      "text/plain": [
       "torch.Size([100, 1])"
      ]
     },
     "execution_count": null,
     "metadata": {},
     "output_type": "execute_result"
    }
   ],
   "source": [
    "noise = torch.randn_like(x) * 2\n",
    "y = 2*x + 5 + noise\n",
    "y.shape"
   ]
  },
  {
   "cell_type": "code",
   "execution_count": null,
   "metadata": {},
   "outputs": [],
   "source": [
    "def y_true(x):\n",
    "  return 2*x + 5"
   ]
  },
  {
   "cell_type": "code",
   "execution_count": null,
   "metadata": {},
   "outputs": [
    {
     "data": {
      "image/png": "[encoded data removed]",
      "text/plain": [
       "<Figure size 640x480 with 1 Axes>"
      ]
     },
     "metadata": {},
     "output_type": "display_data"
    }
   ],
   "source": [
    "plt.figure()\n",
    "plt.plot(x, y, 'o', label='data', color='black')\n",
    "plt.plot(x, y_true(x), '-', label='y=2x + 5', color='red')\n",
    "plt.xlabel('x')\n",
    "plt.ylabel('y')\n",
    "plt.legend()\n",
    "plt.show()"
   ]
  },
  {
   "cell_type": "markdown",
   "metadata": {},
   "source": [
    "## Dataset, DataLoader"
   ]
  },
  {
   "cell_type": "code",
   "execution_count": null,
   "metadata": {},
   "outputs": [],
   "source": [
    "class RegressionDataset(Dataset):\n",
    "    def __init__(self, N=100):\n",
    "        x = torch.linspace(-10, 10, N).view(-1, 1)\n",
    "        noise = torch.randn_like(x) * 2\n",
    "        y = 2*x + 5 + noise\n",
    "        self.x = x\n",
    "        self.y = y\n",
    "\n",
    "    def __len__(self):\n",
    "        return len(self.x)\n",
    "\n",
    "    def __getitem__(self, idx):\n",
    "        return self.x[idx], self.y[idx]"
   ]
  },
  {
   "cell_type": "code",
   "execution_count": null,
   "metadata": {},
   "outputs": [
    {
     "data": {
      "text/plain": [
       "100"
      ]
     },
     "execution_count": null,
     "metadata": {},
     "output_type": "execute_result"
    }
   ],
   "source": [
    "dataset = RegressionDataset()\n",
    "len(dataset)"
   ]
  },
  {
   "cell_type": "code",
   "execution_count": null,
   "metadata": {},
   "outputs": [
    {
     "data": {
      "text/plain": [
       "(tensor([-10.]), tensor([-13.0750]))"
      ]
     },
     "execution_count": null,
     "metadata": {},
     "output_type": "execute_result"
    }
   ],
   "source": [
    "sample = dataset[0]\n",
    "sample"
   ]
  },
  {
   "cell_type": "code",
   "execution_count": null,
   "metadata": {},
   "outputs": [
    {
     "data": {
      "image/png": "[encoded data removed]",
      "text/plain": [
       "<Figure size 640x480 with 1 Axes>"
      ]
     },
     "metadata": {},
     "output_type": "display_data"
    }
   ],
   "source": [
    "plt.figure()\n",
    "plt.plot(dataset.x, dataset.y, 'o', label='data', color='black')\n",
    "plt.plot(dataset.x, y_true(dataset.x), '-', label='y=2x + 5', color='red')\n",
    "plt.xlabel('x')\n",
    "plt.ylabel('y')\n",
    "plt.legend()\n",
    "plt.show()"
   ]
  },
  {
   "cell_type": "code",
   "execution_count": null,
   "metadata": {},
   "outputs": [],
   "source": [
    "dataloader = DataLoader(dataset, batch_size=2, shuffle=False)"
   ]
  },
  {
   "cell_type": "code",
   "execution_count": null,
   "metadata": {},
   "outputs": [
    {
     "name": "stdout",
     "output_type": "stream",
     "text": [
      "<class 'list'>\n"
     ]
    },
    {
     "data": {
      "text/plain": [
       "[tensor([[-10.0000],\n",
       "         [ -9.7980]]),\n",
       " tensor([[-13.0750],\n",
       "         [-13.8976]])]"
      ]
     },
     "execution_count": null,
     "metadata": {},
     "output_type": "execute_result"
    }
   ],
   "source": [
    "for batch in dataloader:\n",
    "  batch\n",
    "  break\n",
    "print(type(batch))\n",
    "batch"
   ]
  },
  {
   "cell_type": "code",
   "execution_count": null,
   "metadata": {},
   "outputs": [
    {
     "data": {
      "text/plain": [
       "[tensor([[-10.0000],\n",
       "         [ -9.7980]]),\n",
       " tensor([[-13.0750],\n",
       "         [-13.8976]])]"
      ]
     },
     "execution_count": null,
     "metadata": {},
     "output_type": "execute_result"
    }
   ],
   "source": [
    "batch = next(iter(dataloader))\n",
    "batch"
   ]
  },
  {
   "cell_type": "code",
   "execution_count": null,
   "metadata": {},
   "outputs": [
    {
     "data": {
      "text/plain": [
       "(tensor([-10.]), tensor([-13.0750]))"
      ]
     },
     "execution_count": null,
     "metadata": {},
     "output_type": "execute_result"
    }
   ],
   "source": [
    "dataset[0]"
   ]
  },
  {
   "cell_type": "code",
   "execution_count": null,
   "metadata": {},
   "outputs": [
    {
     "data": {
      "text/plain": [
       "(tensor([-9.7980]), tensor([-13.8976]))"
      ]
     },
     "execution_count": null,
     "metadata": {},
     "output_type": "execute_result"
    }
   ],
   "source": [
    "dataset[1]"
   ]
  },
  {
   "cell_type": "markdown",
   "metadata": {},
   "source": [
    "## torch.nn"
   ]
  },
  {
   "cell_type": "code",
   "execution_count": null,
   "metadata": {},
   "outputs": [
    {
     "data": {
      "text/plain": [
       "Linear(in_features=1, out_features=3, bias=True)"
      ]
     },
     "execution_count": null,
     "metadata": {},
     "output_type": "execute_result"
    }
   ],
   "source": [
    "layer = nn.Linear(1, 3)\n",
    "layer"
   ]
  },
  {
   "cell_type": "code",
   "execution_count": null,
   "metadata": {},
   "outputs": [
    {
     "name": "stdout",
     "output_type": "stream",
     "text": [
      "tensor([[-10.0000],\n",
      "        [ -9.7980]])\n"
     ]
    },
    {
     "data": {
      "text/plain": [
       "torch.Size([2, 1])"
      ]
     },
     "execution_count": null,
     "metadata": {},
     "output_type": "execute_result"
    }
   ],
   "source": [
    "inputs = batch[0]\n",
    "print(inputs)\n",
    "inputs.shape  # (batch_size, 1)"
   ]
  },
  {
   "cell_type": "code",
   "execution_count": null,
   "metadata": {},
   "outputs": [
    {
     "name": "stdout",
     "output_type": "stream",
     "text": [
      "tensor([[-4.1909,  7.3992,  4.9885],\n",
      "        [-4.1003,  7.2563,  4.9029]], grad_fn=<AddmmBackward0>)\n"
     ]
    },
    {
     "data": {
      "text/plain": [
       "torch.Size([2, 3])"
      ]
     },
     "execution_count": null,
     "metadata": {},
     "output_type": "execute_result"
    }
   ],
   "source": [
    "outputs = layer(inputs)\n",
    "print(outputs)\n",
    "outputs.shape  # (batch_size, out_features)"
   ]
  },
  {
   "cell_type": "code",
   "execution_count": null,
   "metadata": {},
   "outputs": [
    {
     "name": "stdout",
     "output_type": "stream",
     "text": [
      "Parameter containing:\n",
      "tensor([[ 0.4485],\n",
      "        [-0.7069],\n",
      "        [-0.4238]], requires_grad=True)\n",
      "\n",
      "Parameter containing:\n",
      "tensor([0.2941, 0.3302, 0.7502], requires_grad=True)\n",
      "\n"
     ]
    }
   ],
   "source": [
    "params = []\n",
    "for p in layer.parameters():\n",
    "  print(p, end='\\n\\n')\n",
    "  params.append(p.data)"
   ]
  },
  {
   "cell_type": "code",
   "execution_count": null,
   "metadata": {},
   "outputs": [
    {
     "data": {
      "text/plain": [
       "torch.Size([3, 1])"
      ]
     },
     "execution_count": null,
     "metadata": {},
     "output_type": "execute_result"
    }
   ],
   "source": [
    "A = params[0]  # weight\n",
    "A.shape"
   ]
  },
  {
   "cell_type": "code",
   "execution_count": null,
   "metadata": {},
   "outputs": [
    {
     "data": {
      "text/plain": [
       "torch.Size([3])"
      ]
     },
     "execution_count": null,
     "metadata": {},
     "output_type": "execute_result"
    }
   ],
   "source": [
    "b = params[1]  # bias\n",
    "b.shape"
   ]
  },
  {
   "cell_type": "markdown",
   "metadata": {},
   "source": [
    "### nn.Linear\n",
    "\n",
    "https://pytorch.org/docs/stable/generated/torch.nn.Linear.html\n",
    "\n",
    "$$\n",
    "y = x A^T + b\n",
    "$$\n",
    "\n",
    "- $x$: Input $(N, d_\\text{in})$\n",
    "- $A$: Weight matrix $(d_\\text{out}, d_\\text{in})$\n",
    "  - $A^T$: Transpose of $A$ $(d_\\text{in}, d_\\text{out})$\n",
    "- $b$: Bias $(d_\\text{out})$\n",
    "\n",
    "$$\n",
    "(N, d_\\text{in}) \\times (d_\\text{in}, d_\\text{out}) + (d_\\text{out}) \\rightarrow (N, d_\\text{out})\n",
    "$$"
   ]
  },
  {
   "cell_type": "code",
   "execution_count": null,
   "metadata": {},
   "outputs": [
    {
     "name": "stdout",
     "output_type": "stream",
     "text": [
      "tensor([[-4.4850,  7.0690,  4.2383],\n",
      "        [-4.3944,  6.9262,  4.1526]])\n"
     ]
    },
    {
     "data": {
      "text/plain": [
       "torch.Size([2, 3])"
      ]
     },
     "execution_count": null,
     "metadata": {},
     "output_type": "execute_result"
    }
   ],
   "source": [
    "# (N, d_out)\n",
    "intermediate = inputs @ A.T\n",
    "print(intermediate)\n",
    "intermediate.shape"
   ]
  },
  {
   "cell_type": "code",
   "execution_count": null,
   "metadata": {},
   "outputs": [
    {
     "name": "stdout",
     "output_type": "stream",
     "text": [
      "tensor([0.2941, 0.3302, 0.7502])\n",
      "torch.Size([3])\n"
     ]
    }
   ],
   "source": [
    "print(b)\n",
    "print(b.shape)"
   ]
  },
  {
   "cell_type": "code",
   "execution_count": null,
   "metadata": {},
   "outputs": [
    {
     "name": "stdout",
     "output_type": "stream",
     "text": [
      "tensor([-4.4850,  7.0690,  4.2383])\n",
      "tensor([-4.1909,  7.3992,  4.9885])\n"
     ]
    }
   ],
   "source": [
    "print(intermediate[0, :])\n",
    "print(intermediate[0, :] + b)"
   ]
  },
  {
   "cell_type": "code",
   "execution_count": null,
   "metadata": {},
   "outputs": [
    {
     "name": "stdout",
     "output_type": "stream",
     "text": [
      "tensor([-4.3944,  6.9262,  4.1526])\n",
      "tensor([-4.1003,  7.2563,  4.9029])\n"
     ]
    }
   ],
   "source": [
    "print(intermediate[1, :])\n",
    "print(intermediate[1, :] + b)"
   ]
  },
  {
   "cell_type": "code",
   "execution_count": null,
   "metadata": {},
   "outputs": [
    {
     "name": "stdout",
     "output_type": "stream",
     "text": [
      "tensor([[-4.1909,  7.3992,  4.9885],\n",
      "        [-4.1003,  7.2563,  4.9029]], grad_fn=<AddmmBackward0>)\n"
     ]
    }
   ],
   "source": [
    "print(outputs)"
   ]
  },
  {
   "cell_type": "markdown",
   "metadata": {},
   "source": [
    "## Broadcasting\n",
    "\n",
    "https://numpy.org/doc/stable/user/basics.broadcasting.html\n",
    "\n",
    "The term broadcasting describes how NumPy treats arrays with different shapes during arithmetic operations. Subject to certain constraints, the smaller array is “broadcast” across the larger array so that they have compatible shapes. Broadcasting provides a means of vectorizing array operations so that looping occurs in C instead of Python. It does this without making needless copies of data and usually leads to efficient algorithm implementations. There are, however, cases where broadcasting is a bad idea because it leads to inefficient use of memory that slows computation.\n",
    "\n",
    "#### General broadcasting rules\n",
    "When operating on two arrays, NumPy compares their shapes element-wise. It starts with the trailing (i.e. rightmost) dimension and works its way left. Two dimensions are compatible when\n",
    "\n",
    "- they are equal, or\n",
    "\n",
    "- one of them is 1.\n",
    "\n",
    "If these conditions are not met, a `ValueError: operands could not be broadcast together` exception is thrown, indicating that the arrays have incompatible shapes.\n",
    "\n",
    "Input arrays do not need to have the same number of dimensions. The resulting array will have the same number of dimensions as the input array with the greatest number of dimensions, where the size of each dimension is the largest size of the corresponding dimension among the input arrays. **Note that missing dimensions are assumed to have size one**."
   ]
  },
  {
   "cell_type": "code",
   "execution_count": null,
   "metadata": {},
   "outputs": [
    {
     "name": "stdout",
     "output_type": "stream",
     "text": [
      "torch.Size([2, 3])\n",
      "torch.Size([3])\n",
      "torch.Size([2, 3])\n"
     ]
    }
   ],
   "source": [
    "# broadcasting\n",
    "# (N, d_out) + (d_out) =>\n",
    "# (N, d_out) + (1, d_out) =>\n",
    "# (N, d_out) + (N, d_out) =>\n",
    "# (N, d_out)\n",
    "intermediate = inputs @ A.T\n",
    "print(intermediate.shape)\n",
    "print(b.shape)\n",
    "output_manual = intermediate + b\n",
    "print(output_manual.shape)"
   ]
  },
  {
   "cell_type": "code",
   "execution_count": null,
   "metadata": {},
   "outputs": [
    {
     "name": "stdout",
     "output_type": "stream",
     "text": [
      "tensor([[-4.1909,  7.3992,  4.9885],\n",
      "        [-4.1003,  7.2563,  4.9029]])\n",
      "\n",
      "tensor([[-4.1909,  7.3992,  4.9885],\n",
      "        [-4.1003,  7.2563,  4.9029]], grad_fn=<AddmmBackward0>)\n"
     ]
    }
   ],
   "source": [
    "print(inputs @ A.T + b)\n",
    "print()\n",
    "print(layer(inputs))"
   ]
  },
  {
   "cell_type": "markdown",
   "metadata": {},
   "source": [
    "## Model"
   ]
  },
  {
   "cell_type": "code",
   "execution_count": null,
   "metadata": {},
   "outputs": [],
   "source": [
    "# Define Model\n",
    "class RegressionModel(nn.Module):\n",
    "    def __init__(self):\n",
    "        super().__init__()\n",
    "\n",
    "        self.model = nn.Linear(1, 1)\n",
    "\n",
    "    def forward(self, x):\n",
    "        return self.model(x)"
   ]
  },
  {
   "cell_type": "code",
   "execution_count": null,
   "metadata": {},
   "outputs": [
    {
     "data": {
      "text/plain": [
       "tensor([[-10.0000],\n",
       "        [ -9.7980]])"
      ]
     },
     "execution_count": null,
     "metadata": {},
     "output_type": "execute_result"
    }
   ],
   "source": [
    "inputs"
   ]
  },
  {
   "cell_type": "code",
   "execution_count": null,
   "metadata": {},
   "outputs": [
    {
     "data": {
      "text/plain": [
       "tensor([[3.2208],\n",
       "        [3.1557]], grad_fn=<AddmmBackward0>)"
      ]
     },
     "execution_count": null,
     "metadata": {},
     "output_type": "execute_result"
    }
   ],
   "source": [
    "model = RegressionModel()\n",
    "model(inputs)"
   ]
  },
  {
   "cell_type": "code",
   "execution_count": null,
   "metadata": {},
   "outputs": [
    {
     "name": "stdout",
     "output_type": "stream",
     "text": [
      "Parameter containing:\n",
      "tensor([[-0.3219]], requires_grad=True)\n",
      "Parameter containing:\n",
      "tensor([0.0016], requires_grad=True)\n"
     ]
    }
   ],
   "source": [
    "params = []\n",
    "for p in model.parameters():\n",
    "  print(p)\n",
    "  params.append(p.data)"
   ]
  },
  {
   "cell_type": "code",
   "execution_count": null,
   "metadata": {},
   "outputs": [
    {
     "data": {
      "text/plain": [
       "tensor([[3.2208],\n",
       "        [3.1557]])"
      ]
     },
     "execution_count": null,
     "metadata": {},
     "output_type": "execute_result"
    }
   ],
   "source": [
    "# y = x A^T + b\n",
    "inputs @ params[0].T + params[1]"
   ]
  },
  {
   "cell_type": "markdown",
   "metadata": {},
   "source": [
    "## Training"
   ]
  },
  {
   "cell_type": "code",
   "execution_count": null,
   "metadata": {},
   "outputs": [
    {
     "name": "stdout",
     "output_type": "stream",
     "text": [
      "Epoch [  0], Loss: 96.4977\n",
      "Epoch [ 10], Loss: 35.5821\n",
      "Epoch [ 20], Loss: 29.8249\n",
      "Epoch [ 30], Loss: 25.0332\n",
      "Epoch [ 40], Loss: 21.1078\n",
      "Epoch [ 50], Loss: 17.8953\n",
      "Epoch [ 60], Loss: 15.2661\n",
      "Epoch [ 70], Loss: 13.1145\n",
      "Epoch [ 80], Loss: 11.3536\n",
      "Epoch [ 90], Loss: 9.9126\n",
      "Epoch [100], Loss: 8.7332\n",
      "Epoch [110], Loss: 7.7680\n",
      "Epoch [120], Loss: 6.9781\n",
      "Epoch [130], Loss: 6.3317\n",
      "Epoch [140], Loss: 5.8027\n",
      "Epoch [150], Loss: 5.3697\n",
      "Epoch [160], Loss: 5.0154\n",
      "Epoch [170], Loss: 4.7254\n",
      "Epoch [180], Loss: 4.4881\n",
      "Epoch [190], Loss: 4.2939\n",
      "Epoch [199], Loss: 4.1494\n"
     ]
    }
   ],
   "source": [
    "# Initialize model, loss function(criterion), optimizer\n",
    "model = RegressionModel()\n",
    "criterion = nn.MSELoss()\n",
    "optimizer = optim.SGD(model.parameters(), lr=0.0001)\n",
    "\n",
    "# Training loop\n",
    "num_epochs = 200\n",
    "losses = []\n",
    "for epoch in range(num_epochs):\n",
    "    train_loss = 0.0\n",
    "    for batch in dataloader:\n",
    "        x, y = batch\n",
    "\n",
    "        # Foward propagation\n",
    "        predictions = model(x)\n",
    "        loss = criterion(predictions, y)\n",
    "\n",
    "        # Backpropagation and update weights & biases\n",
    "        optimizer.zero_grad()\n",
    "        loss.backward()\n",
    "        optimizer.step()\n",
    "\n",
    "        # Save loss\n",
    "        train_loss += loss.item()\n",
    "\n",
    "    train_loss /= len(dataloader)\n",
    "    losses.append(train_loss)\n",
    "\n",
    "    if epoch % 10 == 0 or epoch == num_epochs - 1:\n",
    "        print(f\"Epoch [{epoch:3d}], Loss: {train_loss:.4f}\")"
   ]
  },
  {
   "cell_type": "code",
   "execution_count": null,
   "metadata": {},
   "outputs": [
    {
     "data": {
      "image/png": "[encoded data removed]",
      "text/plain": [
       "<Figure size 640x480 with 1 Axes>"
      ]
     },
     "metadata": {},
     "output_type": "display_data"
    }
   ],
   "source": [
    "plt.figure()\n",
    "plt.plot(losses)\n",
    "plt.xlabel('epoch')\n",
    "plt.ylabel('loss')\n",
    "plt.show()"
   ]
  },
  {
   "cell_type": "markdown",
   "metadata": {},
   "source": [
    "## Inference"
   ]
  },
  {
   "cell_type": "code",
   "execution_count": null,
   "metadata": {},
   "outputs": [
    {
     "data": {
      "image/png": "[encoded data removed]",
      "text/plain": [
       "<Figure size 640x480 with 1 Axes>"
      ]
     },
     "metadata": {},
     "output_type": "display_data"
    }
   ],
   "source": [
    "# with torch.no_grad():\n",
    "with torch.inference_mode():\n",
    "    y_pred = model(dataset.x)\n",
    "\n",
    "plt.figure()\n",
    "plt.plot(dataset.x, dataset.y, 'o', label='data', color='black')\n",
    "plt.plot(dataset.x, y_true(dataset.x), '-', label='y=2x + 5', color='red')\n",
    "plt.plot(dataset.x, y_pred, '-', label='prediction', color='blue')\n",
    "plt.xlabel('x')\n",
    "plt.ylabel('y')\n",
    "plt.legend()\n",
    "plt.show()"
   ]
  },
  {
   "cell_type": "code",
   "execution_count": null,
   "metadata": {},
   "outputs": [
    {
     "name": "stdout",
     "output_type": "stream",
     "text": [
      "Parameter containing:\n",
      "tensor([[2.0050]], requires_grad=True)\n",
      "Parameter containing:\n",
      "tensor([4.4624], requires_grad=True)\n"
     ]
    }
   ],
   "source": [
    "params = []\n",
    "for p in model.parameters():\n",
    "  print(p)\n",
    "  params.append(p.data)"
   ]
  },
  {
   "cell_type": "code",
   "execution_count": null,
   "metadata": {},
   "outputs": [
    {
     "data": {
      "text/plain": [
       "[tensor([[2.0050]]), tensor([4.4624])]"
      ]
     },
     "execution_count": null,
     "metadata": {},
     "output_type": "execute_result"
    }
   ],
   "source": [
    "params"
   ]
  },
  {
   "cell_type": "code",
   "execution_count": null,
   "metadata": {},
   "outputs": [
    {
     "data": {
      "text/plain": [
       "True"
      ]
     },
     "execution_count": null,
     "metadata": {},
     "output_type": "execute_result"
    }
   ],
   "source": [
    "y_pred_manual = dataset.x @ params[0].T + params[1]\n",
    "torch.allclose(y_pred, y_pred_manual)"
   ]
  },
  {
   "cell_type": "code",
   "execution_count": null,
   "metadata": {},
   "outputs": [
    {
     "data": {
      "image/png": "[encoded data removed]",
      "text/plain": [
       "<Figure size 640x480 with 1 Axes>"
      ]
     },
     "metadata": {},
     "output_type": "display_data"
    }
   ],
   "source": [
    "if params[1].item() > 0:\n",
    "  label = f'y={params[0].item():.2f}x + {params[1].item():.2f}'\n",
    "else:\n",
    "  label = f'y={params[0].item():.2f}x - {abs(params[1].item()):.2f}'\n",
    "\n",
    "plt.figure()\n",
    "plt.plot(dataset.x, dataset.y, 'o', label='data', color='black')\n",
    "plt.plot(dataset.x, y_true(dataset.x), '-', label='y=2x + 5', color='red')\n",
    "plt.plot(dataset.x, y_pred, '-', label=label, color='blue')\n",
    "plt.xlabel('x')\n",
    "plt.ylabel('y')\n",
    "plt.legend()\n",
    "plt.show()"
   ]
  },
  {
   "cell_type": "markdown",
   "metadata": {},
   "source": [
    "## Summary"
   ]
  },
  {
   "cell_type": "code",
   "execution_count": null,
   "metadata": {},
   "outputs": [
    {
     "name": "stdout",
     "output_type": "stream",
     "text": [
      "Epoch [  0], Loss: 226.7938\n",
      "Epoch [ 10], Loss: 17.4576\n",
      "Epoch [ 20], Loss: 14.8827\n",
      "Epoch [ 30], Loss: 12.9621\n",
      "Epoch [ 40], Loss: 11.4019\n",
      "Epoch [ 50], Loss: 10.1217\n",
      "Epoch [ 60], Loss: 9.0717\n",
      "Epoch [ 70], Loss: 8.2147\n",
      "Epoch [ 80], Loss: 7.5153\n",
      "Epoch [ 90], Loss: 6.9372\n",
      "Epoch [100], Loss: 6.4649\n",
      "Epoch [110], Loss: 6.0789\n",
      "Epoch [120], Loss: 5.7586\n",
      "Epoch [130], Loss: 5.5053\n",
      "Epoch [140], Loss: 5.2885\n",
      "Epoch [150], Loss: 5.1188\n",
      "Epoch [160], Loss: 4.9750\n",
      "Epoch [170], Loss: 4.8622\n",
      "Epoch [180], Loss: 4.7685\n",
      "Epoch [190], Loss: 4.6921\n",
      "Epoch [199], Loss: 4.6345\n"
     ]
    },
    {
     "data": {
      "image/png": "[encoded data removed]",
      "text/plain": [
       "<Figure size 640x480 with 1 Axes>"
      ]
     },
     "metadata": {},
     "output_type": "display_data"
    },
    {
     "data": {
      "image/png": "[encoded data removed]",
      "text/plain": [
       "<Figure size 640x480 with 1 Axes>"
      ]
     },
     "metadata": {},
     "output_type": "display_data"
    }
   ],
   "source": [
    "import torch\n",
    "import torch.nn as nn\n",
    "import torch.optim as optim\n",
    "from torch.utils.data import Dataset, DataLoader\n",
    "\n",
    "# Define Dataset\n",
    "class RegressionDataset(Dataset):\n",
    "    def __init__(self, N=100):\n",
    "        x = torch.linspace(-10, 10, N).view(-1, 1)\n",
    "        noise = torch.randn_like(x) * 2\n",
    "        y = 2*x + 5 + noise\n",
    "        self.x = x\n",
    "        self.y = y\n",
    "\n",
    "    def __len__(self):\n",
    "        return len(self.x)\n",
    "\n",
    "    def __getitem__(self, idx):\n",
    "        return self.x[idx], self.y[idx]\n",
    "\n",
    "# Define Model\n",
    "class RegressionModel(nn.Module):\n",
    "    def __init__(self):\n",
    "        super().__init__()\n",
    "\n",
    "        self.model = nn.Linear(1, 1)\n",
    "\n",
    "    def forward(self, x):\n",
    "        return self.model(x)\n",
    "\n",
    "# Dataset, DataLoader\n",
    "dataset = RegressionDataset()\n",
    "dataloader = DataLoader(dataset, batch_size=2, shuffle=True)\n",
    "\n",
    "# Model, Optimizer, Criterion\n",
    "model = RegressionModel()\n",
    "optimizer = optim.SGD(model.parameters(), lr=0.0001)\n",
    "criterion = nn.MSELoss()\n",
    "\n",
    "# Training loop\n",
    "num_epochs = 200\n",
    "losses = []\n",
    "for epoch in range(num_epochs):\n",
    "    train_loss = 0.0\n",
    "    for batch in dataloader:\n",
    "        x, y = batch\n",
    "\n",
    "        # Foward propagation\n",
    "        predictions = model(x)\n",
    "        loss = criterion(predictions, y)\n",
    "\n",
    "        # Backpropagation and update weights & biases\n",
    "        optimizer.zero_grad()\n",
    "        loss.backward()\n",
    "        optimizer.step()\n",
    "\n",
    "        # Save loss\n",
    "        train_loss += loss.item()\n",
    "\n",
    "    train_loss /= len(dataloader)\n",
    "    losses.append(train_loss)\n",
    "\n",
    "    if epoch % 10 == 0 or epoch == num_epochs - 1:\n",
    "        print(f\"Epoch [{epoch:3d}], Loss: {train_loss:.4f}\")\n",
    "\n",
    "# Loss curve\n",
    "plt.figure()\n",
    "plt.plot(losses)\n",
    "plt.xlabel('epoch')\n",
    "plt.ylabel('loss')\n",
    "plt.show()\n",
    "\n",
    "# Inference\n",
    "def get_label(model):\n",
    "    params = []\n",
    "    for p in model.parameters():\n",
    "        params.append(p.data)\n",
    "    if params[1].item() > 0:\n",
    "      label = f'y={params[0].item():.2f}x + {params[1].item():.2f}'\n",
    "    else:\n",
    "      label = f'y={params[0].item():.2f}x - {abs(params[1].item()):.2f}'\n",
    "    return label\n",
    "\n",
    "with torch.inference_mode():\n",
    "    y_pred = model(dataset.x)\n",
    "\n",
    "label = get_label(model)\n",
    "\n",
    "plt.figure()\n",
    "plt.plot(dataset.x, dataset.y, 'o', label='data', color='black')\n",
    "plt.plot(dataset.x, y_true(dataset.x), '-', label='y=2x + 5', color='red')\n",
    "plt.plot(dataset.x, y_pred, '-', label=label, color='blue')\n",
    "plt.xlabel('x')\n",
    "plt.ylabel('y')\n",
    "plt.legend()\n",
    "plt.show()"
   ]
  },
  {
   "cell_type": "code",
   "execution_count": null,
   "metadata": {},
   "outputs": [],
   "source": []
  }
 ],
 "metadata": {
  "kernelspec": {
   "display_name": "python3",
   "language": "python",
   "name": "python3"
  }
 },
 "nbformat": 4,
 "nbformat_minor": 2
}

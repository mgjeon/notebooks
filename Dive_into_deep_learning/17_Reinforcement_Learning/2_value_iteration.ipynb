{
 "cells": [
  {
   "cell_type": "markdown",
   "id": "0f3e3491-3491-4cba-9d1b-2085f7fbfda6",
   "metadata": {},
   "source": [
    "# 17.2. Value Iteration\n",
    "\n",
    "- https://d2l.ai/chapter_reinforcement-learning/value-iter.html"
   ]
  },
  {
   "cell_type": "markdown",
   "id": "857d2cb0-b58c-430b-8602-5ad6be741b98",
   "metadata": {},
   "source": [
    "Discuss how to pick the best action for the robot at each state to maximize the return of the trajectory."
   ]
  },
  {
   "cell_type": "markdown",
   "id": "362ae20c-8142-4d3b-bf43-adc0ea7380ed",
   "metadata": {},
   "source": [
    "## 17.2.1. Stochastic Policy\n",
    "\n",
    "A stochastic policy denoted as $\\pi(a \\mid s)$ (policy for short) is a conditional distribution over the actions $a \\in \\mathcal{A}$ given the state $s \\in \\mathcal{S}$, $\\pi(a \\mid s) \\equiv P(a \\mid s)$."
   ]
  },
  {
   "cell_type": "markdown",
   "id": "ba9b3d23-925d-4113-aed0-cde038cfc902",
   "metadata": {},
   "source": [
    "As an example, if the robot has four actions $\\mathcal{A}=$ {go left, go down, go right, go up}. The policy at a state $s \\in \\mathcal{S}$ for such a set of actions $\\mathcal{A}$ is a categorical distribution where the probabilities of the four actions could be $[0.4, 0.2, 0.1, 0.3]$; at some other state $s' \\in \\mathcal{S}$ the probabilities $\\pi(a \\mid s')$ of the same four actions could be $[0.1, 0.1, 0.2, 0.6]$."
   ]
  },
  {
   "cell_type": "markdown",
   "id": "501b907a-e11d-49bd-ba47-e01684a943ce",
   "metadata": {},
   "source": [
    "Note that we should have $\\sum_a \\pi(a \\mid s) = 1$ for any state $s$."
   ]
  },
  {
   "cell_type": "markdown",
   "id": "654af7d4-1ddb-4629-98cf-15be8e431a5c",
   "metadata": {},
   "source": [
    "A deterministic policy is a special case of a stochastic policy in that the distribution $\\pi(a \\mid s)$ only gives non-zero probability to one particular action, e.g., $[1, 0, 0, 0]$ for our example with four actions."
   ]
  },
  {
   "cell_type": "markdown",
   "id": "8b7190ce-0bf0-484f-8fd2-d1705db985c8",
   "metadata": {},
   "source": [
    "To make the notation less cumbersome, we will often write $\\pi(s)$ as the conditional distribution instead of $\\pi(a \\mid s)$."
   ]
  },
  {
   "cell_type": "markdown",
   "id": "f5f349a2-79e5-48f0-9bd5-f335aa8bac1e",
   "metadata": {},
   "source": [
    "## 17.2.2. Value Function"
   ]
  },
  {
   "cell_type": "markdown",
   "id": "b383f9fd-7d8f-4e0d-91f6-ce301f427040",
   "metadata": {},
   "source": [
    "magine now that the robot starts at a state $s_0$ and at each time instant, it first samples an action from the policy $a_t \\sim \\pi(s_t)$ and takes this action to result in the next state $s_{t+1}$. The trajectory $\\tau = (s_0, a_0, r_0, s_1, a_1, r_1, \\ldots)$, can be different depending upon which particular action $a_t$ is sampled at intermediate instants."
   ]
  },
  {
   "cell_type": "markdown",
   "id": "d2fd7328-3733-43f1-9b18-e092d46a5065",
   "metadata": {},
   "source": [
    "We define the average *return* $R(\\tau) = \\sum_{t=0}^\\infty \\gamma^t r(s_t, a_t)$ of all such trajectories\n",
    "$$V^\\pi(s_0) = E_{a_t \\sim \\pi(s_t)} \\Big[ R(\\tau) \\Big] = E_{a_t \\sim \\pi(s_t)} \\Big[ \\sum_{t=0}^\\infty \\gamma^t r(s_t, a_t) \\Big],$$\n",
    "\n",
    "where $s_{t+1} \\sim P(s_{t+1} \\mid s_t, a_t)$ is the next state of the robot and $r(s_t, a_t)$ is the instantaneous reward obtained by taking action $a_t$ in state $s_t$ at time $t$."
   ]
  },
  {
   "cell_type": "markdown",
   "id": "cdd39eb6-4fda-4b9a-8e6d-704fe56736e6",
   "metadata": {},
   "source": [
    "This is called the \"value function\" for the policy $\\pi$. In simple words, the value of a state $s_0$ for a policy $\\pi$, denoted by $V^\\pi(s_0)$, is the expected $\\gamma$-discounted *return* obtained by the robot if it begins at state $s_0$ and takes actions from the policy $\\pi$ at each time instant."
   ]
  },
  {
   "cell_type": "markdown",
   "id": "3fb9a390-747d-40e6-8a15-74cd1d11a9b0",
   "metadata": {},
   "source": [
    "We next break down the trajectory into two stages (i) the first stage which corresponds to $s_0 \\to s_1$ upon taking the action $a_0$, and (ii) a second stage which is the trajectory $\\tau' = (s_1, a_1, r_1, \\ldots)$ thereafter. The key idea behind all algorithms in reinforcement learning is that the value of state $s_0$ can be written as the average reward obtained in the first stage and the value function averaged over all possible next states $s_1$.\n",
    "\n",
    "Mathematically, we write the two stages as\n",
    "\n",
    "$$V^\\pi(s_0) = r(s_0, a_0) + \\gamma\\ E_{a_0 \\sim \\pi(s_0)} \\Big[ E_{s_1 \\sim P(s_1 \\mid s_0, a_0)} \\Big[ V^\\pi(s_1) \\Big] \\Big].$$\n",
    "\n",
    "This decomposition is very powerful: it is the foundation of the principle of dynamic programming upon which all reinforcement learning algorithms are based. Notice that the second stage gets two expectations, one over the choices of the action $a_0$ taken in the first stage using the stochastic policy and another over the possible states $s_1$ obtained from the chosen action. We can write this equation using the transition probabilities in the Markov decision process (MDP) as\n",
    "\n",
    "$$V^\\pi(s) = \\sum_{a \\in \\mathcal{A}} \\pi(a \\mid s) \\Big[ r(s,  a) + \\gamma\\  \\sum_{s' \\in \\mathcal{S}} P(s' \\mid s, a) V^\\pi(s') \\Big];\\ \\textrm{for all } s \\in \\mathcal{S}.$$\n",
    "\n",
    "An important thing to notice here is that the above identity holds for all states $s \\in \\mathcal{S}$ because we can think of any trajectory that begins at that state and break down the trajectory into two stages."
   ]
  },
  {
   "cell_type": "markdown",
   "id": "f0e80bd5-af6e-4d54-a0ec-f0bf97726b8f",
   "metadata": {},
   "source": [
    "## 17.2.3. Action-Value Function"
   ]
  },
  {
   "cell_type": "markdown",
   "id": "13a3382f-bb64-4b2e-88e1-051197d5e5a1",
   "metadata": {},
   "source": [
    "In implementations, it is often useful to maintain a quantity called the \"action value\" function which is a closely related quantity to the value function. This is defined to be the average *return* of a trajectory that begins at $s_0$ but when the action of the first stage is fixed to be $a_0$\n",
    "\n",
    "$$Q^\\pi(s_0, a_0) = r(s_0, a_0) + E_{a_t \\sim \\pi(s_t)} \\Big[ \\sum_{t=1}^\\infty \\gamma^t r(s_t, a_t) \\Big],$$\n",
    "\n",
    "note that the summation inside the expectation is from $t=1,\\ldots, \\infty$ because the reward of the first stage is fixed in this case. We can again break down the trajectory into two parts and write\n",
    "\n",
    "$$Q^\\pi(s, a) = r(s, a) + \\gamma \\sum_{s' \\in \\mathcal{S}} P(s' \\mid s, a) \\sum_{a' \\in \\mathcal{A}} \\pi(a' \\mid s')\\ Q^\\pi(s', a');\\ \\textrm{ for all } s \\in \\mathcal{S}, a \\in \\mathcal{A}.$$"
   ]
  },
  {
   "cell_type": "markdown",
   "id": "460d4a1b-70b4-4e4f-a45e-c3e937c5e24c",
   "metadata": {},
   "source": [
    "## 17.2.4. Optimal Stochastic Policy"
   ]
  },
  {
   "cell_type": "markdown",
   "id": "eebab43b-e164-4e32-8722-96a46dcc6a6a",
   "metadata": {},
   "source": [
    "Both the value function and the action-value function depend upon the policy that the robot chooses. We will next think of the \"optimal policy\" that achieves the maximal average *return*\n",
    "$$\\pi^* = \\underset{\\pi}{\\mathrm{argmax}} V^\\pi(s_0).$$"
   ]
  },
  {
   "cell_type": "markdown",
   "id": "f8468ab0-eae2-4b94-95d4-d77bdca998d9",
   "metadata": {},
   "source": [
    "Of all possible stochastic policies that the robot could have taken, the optimal policy $\\pi^*$  achieves the largest average discounted *return* for trajectories starting from state $s_0$. Let us denote the value function and the action-value function of the optimal policy as $V^* \\equiv V^{\\pi^*}$ and $Q^* \\equiv Q^{\\pi^*}$.\n",
    "\n",
    "Let us observe that for a deterministic policy where there is only one action that is possible under the policy at any given state. This gives us\n",
    "\n",
    "$$\\pi^*(s) = \\underset{a \\in \\mathcal{A}}{\\mathrm{argmax}} \\Big[ r(s, a) + \\gamma \\sum_{s' \\in \\mathcal{S}} P(s' \\mid s, a)\\ V^*(s') \\Big].$$\n",
    "\n",
    "A good mnemonic to remember this is that the optimal action at state $s$ (for a deterministic policy) is the one that maximizes the sum of reward $r(s, a)$ from the first stage and the average *return* of the trajectories starting from the next sate $s'$, averaged over all possible next states $s'$ from the second stage."
   ]
  },
  {
   "cell_type": "markdown",
   "id": "bd0ff0c9-b152-499b-a8de-774a7926c9c4",
   "metadata": {},
   "source": [
    "## 17.2.5. Principle of Dynamic Programming"
   ]
  },
  {
   "cell_type": "markdown",
   "id": "0855b861-2060-4de8-9f98-a43e6b73f71f",
   "metadata": {},
   "source": [
    "How about an algorithm to compute the optimal value function $V^*$ or the action-value function $Q^*$, respectively?\n",
    "\n",
    "Observe that $$ V^*(s) = \\sum_{a \\in \\mathcal{A}} \\pi^*(a \\mid s) \\Big[ r(s,  a) + \\gamma\\  \\sum_{s' \\in \\mathcal{S}} P(s' \\mid s, a) V^*(s') \\Big];\\ \\textrm{for all } s \\in \\mathcal{S}.$$"
   ]
  },
  {
   "cell_type": "markdown",
   "id": "5770274d-40a2-44a7-8e79-59ea1159a790",
   "metadata": {},
   "source": [
    "For a deterministic optimal policy $\\pi^*$, since there is only one action that can be taken at state $s$, we can also write \n",
    "\n",
    "$$V^*(s) = \\mathrm{argmax}_{a \\in \\mathcal{A}} \\Big\\{ r(s,a) + \\gamma \\sum_{s' \\in \\mathcal{S}} P(s' \\mid s, a) V^*(s') \\Big\\}$$\n",
    "\n",
    "for all states $s \\in \\mathcal{S}$. This identity is called the \"principle of dynamic programming\". It was formulated by Richard Bellman in 1950s and we can remember it as \"the remainder of an optimal trajectory is also optimal\"."
   ]
  },
  {
   "cell_type": "markdown",
   "id": "f2684f44-d50d-4f4b-b755-ad56872d3ae1",
   "metadata": {},
   "source": [
    "## 17.2.6. Value Iteration"
   ]
  },
  {
   "cell_type": "markdown",
   "id": "e82cd255-3b92-49f0-850e-057106a5473f",
   "metadata": {},
   "source": [
    "We can turn the principle of dynamic programming into an algorithm for finding the optimal value function called value iteration.  The key idea behind value iteration is to think of this identity as a set of constraints that tie together $V^*(s)$ at different states $s \\in \\mathcal{S}$. We initialize the value function to some arbitrary values $V_0(s)$ for all states $s \\in \\mathcal{S}$. At the $k^{\\textrm{th}}$ iteration, the Value Iteration algorithm updates the value function as\n",
    "\n",
    "$$V_{k+1}(s) = \\max_{a \\in \\mathcal{A}} \\Big\\{ r(s,  a) + \\gamma\\  \\sum_{s' \\in \\mathcal{S}} P(s' \\mid s, a) V_k(s') \\Big\\};\\ \\textrm{for all } s \\in \\mathcal{S}.$$"
   ]
  },
  {
   "cell_type": "markdown",
   "id": "e7eac8af-ebc0-4dd1-ba36-e48e5ff04619",
   "metadata": {},
   "source": [
    "It turns out that as $k \\to \\infty$ the value function estimated by the Value Iteration algorithm converges to the optimal value function irrespective of the initialization $V_0$,\n",
    "$$V^*(s) = \\lim_{k \\to \\infty} V_k(s);\\ \\textrm{for all states } s \\in \\mathcal{S}.$$"
   ]
  },
  {
   "cell_type": "markdown",
   "id": "de3327fe-720b-4c87-abd2-ae30932a90c9",
   "metadata": {},
   "source": [
    "The same Value Iteration algorithm can be equivalently written using the action-value function as\n",
    "$$Q_{k+1}(s, a) = r(s, a) + \\gamma \\max_{a' \\in \\mathcal{A}} \\sum_{s' \\in \\mathcal{S}} P(s' \\mid s, a) Q_k (s', a');\\ \\textrm{ for all } s \\in \\mathcal{S}, a \\in \\mathcal{A}.$$"
   ]
  },
  {
   "cell_type": "markdown",
   "id": "d3b77513-804c-40ae-a05e-85c3de5c9700",
   "metadata": {},
   "source": [
    "In this case we initialize $Q_0(s, a)$ to some arbitrary values for all $s \\in \\mathcal{S}$ and $a \\in \\mathcal{A}$. Again we have $Q^*(s, a) = \\lim_{k \\to \\infty} Q_k(s, a)$ for all $s \\in \\mathcal{S}$ and $a \\in \\mathcal{A}$."
   ]
  },
  {
   "cell_type": "markdown",
   "id": "d22f8fdf-1fd9-47e3-a51e-b5cbdaefff76",
   "metadata": {},
   "source": [
    "## 17.2.7. Policy Evaluation"
   ]
  },
  {
   "cell_type": "markdown",
   "id": "3b9e8855-0da6-42fe-8b5d-5afe3b06b34b",
   "metadata": {},
   "source": [
    "Value Iteration enables us to compute the optimal value function, i.e., $V^{\\pi^*}$ of the optimal deterministic policy $\\pi^*$. We can also use similar iterative updates to compute the value function associated with any other, potentially stochastic, policy $\\pi$. We again initialize $V^\\pi_0(s)$ to some arbitrary values for all states $s \\in \\mathcal{S}$ and at the $k^{\\textrm{th}}$ iteration, perform the updates\n",
    "\n",
    "$$    V^\\pi_{k+1}(s) = \\sum_{a \\in \\mathcal{A}} \\pi(a \\mid s) \\Big[ r(s,  a) + \\gamma\\  \\sum_{s' \\in \\mathcal{S}} P(s' \\mid s, a) V^\\pi_k(s') \\Big];\\ \\textrm{for all } s \\in \\mathcal{S}.$$"
   ]
  },
  {
   "cell_type": "markdown",
   "id": "1f318b58-a25a-40d1-8284-994331297871",
   "metadata": {},
   "source": [
    "This algorithm is known as policy evaluation and is useful to compute the value function given the policy. Again, it turns out that as $k \\to \\infty$ these updates converge to the correct value function irrespective of the initialization $V_0$,\n",
    "\n",
    "$$V^\\pi(s) = \\lim_{k \\to \\infty} V^\\pi_k(s);\\ \\textrm{for all states } s \\in \\mathcal{S}.$$\n",
    "\n",
    "The algorithm for computing the action-value function $Q^\\pi(s, a)$ of a policy $\\pi$ is analogous."
   ]
  },
  {
   "cell_type": "markdown",
   "id": "6d93477c-746f-4148-8f3f-f3f8d5ed3986",
   "metadata": {},
   "source": [
    "## 17.2.8. Implementation of Value Iteration "
   ]
  },
  {
   "cell_type": "markdown",
   "id": "3ec53fc5-9339-4833-beb3-f144b3a8be8d",
   "metadata": {},
   "source": [
    "We next show how to implement Value Iteration for a navigation problem called FrozenLake from [Gymnasium](https://gymnasium.farama.org/).\n",
    "\n",
    "- https://gymnasium.farama.org/environments/toy_text/frozen_lake/"
   ]
  },
  {
   "cell_type": "code",
   "execution_count": null,
   "id": "33e37600-eaf9-4273-bd29-1360a0e1096e",
   "metadata": {},
   "outputs": [],
   "source": [
    "import random\n",
    "import numpy as np\n",
    "import torch"
   ]
  },
  {
   "cell_type": "code",
   "execution_count": null,
   "id": "05496203-e83c-4968-8b8b-f05f054caa16",
   "metadata": {},
   "outputs": [],
   "source": [
    "seed = 0  # Random number generator seed\n",
    "gamma = 0.95  # Discount factor\n",
    "num_iters = 10  # Number of iterations\n",
    "random.seed(seed)  # Set the random seed to ensure results can be reproduced\n",
    "np.random.seed(seed)"
   ]
  },
  {
   "cell_type": "code",
   "execution_count": null,
   "id": "e95c93c9-f3ca-452f-a418-5ab2b564ea91",
   "metadata": {},
   "outputs": [],
   "source": [
    "def frozen_lake(seed):\n",
    "    \"\"\"Defined in :numref:`sec_utils`\"\"\"\n",
    "    # See https://www.gymnasium.farama.org/environments/toy_text/frozen_lake/ to learn more about this env\n",
    "    import gymnasium as gym\n",
    "\n",
    "    env = gym.make('FrozenLake-v1', is_slippery=False)\n",
    "    env.reset(seed=seed)\n",
    "    env.action_space.seed(seed)\n",
    "    env_info = {}\n",
    "    env_info['desc'] = env.unwrapped.desc  # 2D array specifying what each grid item means\n",
    "    env_info['num_states'] = env.observation_space.n  # Number of observations/states or obs/state dim\n",
    "    env_info['num_actions'] = env.action_space.n  # Number of actions or action dim\n",
    "    # Define indices for (transition probability, nextstate, reward, done) tuple\n",
    "    env_info['trans_prob_idx'] = 0  # Index of transition probability entry\n",
    "    env_info['nextstate_idx'] = 1  # Index of next state entry\n",
    "    env_info['reward_idx'] = 2  # Index of reward entry\n",
    "    env_info['done_idx'] = 3  # Index of done entry\n",
    "    env_info['mdp'] = {}\n",
    "    env_info['env'] = env\n",
    "\n",
    "    for s, others in env.unwrapped.P.items():\n",
    "        # others(s) = {a0: [ (p(s'|s,a0), s', reward, done),...], a1:[...], ...}\n",
    "\n",
    "        for a, pxrds in others.items():\n",
    "            # (trainsition probability, next state, reward, termination flag)\n",
    "            # pxrds is [(p1,next1,r1,d1),(p2,next2,r2,d2),..].\n",
    "            # e.g. [(0.3, 0, 0, False), (0.3, 0, 0, False), (0.3, 4, 1, False)]\n",
    "            env_info['mdp'][(s, a)] = pxrds\n",
    "\n",
    "    return env_info"
   ]
  },
  {
   "cell_type": "code",
   "execution_count": null,
   "id": "70589cdc-eebc-4224-b524-e858a1621f4b",
   "metadata": {},
   "outputs": [],
   "source": [
    "env_info = frozen_lake(seed)"
   ]
  },
  {
   "cell_type": "markdown",
   "id": "be3c2b5b-3d55-4a74-98da-16aa414ae0c5",
   "metadata": {},
   "source": [
    "In the FrozenLake environment, the robot moves on a $4 \\times 4$ grid (these are the states) with actions that are \"up\" ($\\uparrow$), \"down\" ($\\rightarrow$), \"left\" ($\\leftarrow$), and \"right\" ($\\rightarrow$). The environment contains a number of holes (H) cells and frozen (F) cells as well as a goal cell (G), all of which are unknown to the robot. To keep the problem simple, we assume the robot has reliable actions, i.e. $P(s' \\mid s, a) = 1$ for all $s \\in \\mathcal{S}, a \\in \\mathcal{A}$. If the robot reaches the goal, the trial ends and the robot receives a reward of $1$ irrespective of the action; the reward at any other state is $0$ for all actions. The objective of the robot is to learn a policy that reaches the goal location (G) from a given start location (S) (this is $s_0$) to maximize the *return*.\n"
   ]
  },
  {
   "cell_type": "code",
   "execution_count": null,
   "id": "4454180e-734d-4037-b23e-5bf1b7028783",
   "metadata": {},
   "outputs": [
    {
     "data": {
      "text/plain": [
       "[(1.0, 8, 0.0, False)]"
      ]
     },
     "execution_count": null,
     "metadata": {},
     "output_type": "execute_result"
    }
   ],
   "source": [
    "# In state 4, when take action 1\n",
    "# transition probability=1.0\n",
    "# next state = 8\n",
    "# reward = 0\n",
    "# termination = False\n",
    "env_info['mdp'][(4, 1)]"
   ]
  },
  {
   "cell_type": "code",
   "execution_count": null,
   "id": "f7269ecf-ed7e-4a67-8152-a053b223a7e4",
   "metadata": {},
   "outputs": [
    {
     "data": {
      "text/plain": [
       "[(1.0, 15, 1.0, True)]"
      ]
     },
     "execution_count": null,
     "metadata": {},
     "output_type": "execute_result"
    }
   ],
   "source": [
    "# In state 14, when take action 2\n",
    "# transition probability=1.0\n",
    "# next state = 15 (goal)\n",
    "# reward = 1\n",
    "# termination = True\n",
    "env_info['mdp'][(14, 2)]"
   ]
  },
  {
   "cell_type": "markdown",
   "id": "9dad0f82-d5be-49db-b515-0abdf043ee85",
   "metadata": {},
   "source": [
    "The following function implements Value Iteration, where `env_info` contains MDP and environment related information and `gamma` is the discount factor:"
   ]
  },
  {
   "cell_type": "code",
   "execution_count": null,
   "id": "2861a4ff-fba6-4ffb-b24c-301747bb24d9",
   "metadata": {},
   "outputs": [],
   "source": [
    "def value_iteration(env_info, gamma, num_iters):\n",
    "    env_desc = env_info['desc']  # 2D array shows what each item means\n",
    "    prob_idx = env_info['trans_prob_idx']\n",
    "    nextstate_idx = env_info['nextstate_idx']\n",
    "    reward_idx = env_info['reward_idx']\n",
    "    num_states = env_info['num_states']\n",
    "    num_actions = env_info['num_actions']\n",
    "    mdp = env_info['mdp']\n",
    "\n",
    "    V  = np.zeros((num_iters + 1, num_states))\n",
    "    Q  = np.zeros((num_iters + 1, num_states, num_actions))\n",
    "    pi = np.zeros((num_iters + 1, num_states))\n",
    "\n",
    "    for k in range(1, num_iters + 1):\n",
    "        for s in range(num_states):\n",
    "            for a in range(num_actions):\n",
    "                # Calculate \\sum_{s'} p(s'\\mid s,a) [r + \\gamma v_k(s')]\n",
    "                for pxrds in mdp[(s,a)]:\n",
    "                    # mdp(s,a): [(p1,next1,r1,d1),(p2,next2,r2,d2),..]\n",
    "                    pr = pxrds[prob_idx]  # p(s'\\mid s,a)\n",
    "                    nextstate = pxrds[nextstate_idx]  # Next state\n",
    "                    reward = pxrds[reward_idx]  # Reward\n",
    "                    Q[k,s,a] += pr * (reward + gamma * V[k - 1, nextstate])\n",
    "            # Record max value and max action\n",
    "            V[k,s] = np.max(Q[k,s,:])\n",
    "            pi[k,s] = np.argmax(Q[k,s,:])\n",
    "    show_value_function_progress(env_desc, V[:-1], pi[:-1])\n",
    "\n",
    "    return V, Q, pi"
   ]
  },
  {
   "cell_type": "code",
   "execution_count": null,
   "id": "cc8e8ca6-e649-4fe1-877a-89814e35b56b",
   "metadata": {},
   "outputs": [],
   "source": [
    "import matplotlib.pyplot as plt\n",
    "\n",
    "def show_value_function_progress(env_desc, V, pi):\n",
    "    # This function visualizes how value and policy changes over time.\n",
    "    # V: [num_iters, num_states]\n",
    "    # pi: [num_iters, num_states]\n",
    "    # How to visualize value function is adapted (but changed) from: https://sites.google.com/view/deep-rl-bootcamp/labs\n",
    "\n",
    "    num_iters = V.shape[0]\n",
    "    fig = plt.figure(figsize=(15, 15))\n",
    "    axes = fig.subplots(4, 4)\n",
    "    axes = axes.flatten()\n",
    "\n",
    "    for ax in axes:\n",
    "        ax.set_xticks([])\n",
    "        ax.set_yticks([])\n",
    "        ax.axis('off')\n",
    "\n",
    "    for k in range(V.shape[0]):\n",
    "        ax = axes[k]\n",
    "        ax.imshow(V[k].reshape(4,4), cmap=\"bone\")\n",
    "        ax.set_xticks(np.arange(0, 5)-.5, minor=True)\n",
    "        ax.set_yticks(np.arange(0, 5)-.5, minor=True)\n",
    "        ax.grid(which=\"minor\", color=\"w\", linestyle='-', linewidth=3)\n",
    "        ax.tick_params(which=\"minor\", bottom=False, left=False)\n",
    "        ax.axis('on')\n",
    "\n",
    "        # LEFT action: 0, DOWN action: 1\n",
    "        # RIGHT action: 2, UP action: 3\n",
    "        action2dxdy = {0:(-.25, 0),1: (0, .25),\n",
    "                       2:(0.25, 0),3: (-.25, 0)}\n",
    "\n",
    "        for y in range(4):\n",
    "            for x in range(4):\n",
    "                action = pi[k].reshape(4,4)[y, x]\n",
    "                dx, dy = action2dxdy[action]\n",
    "\n",
    "                if env_desc[y,x].decode() == 'H':\n",
    "                    ax.text(x, y, str(env_desc[y,x].decode()),\n",
    "                       ha=\"center\", va=\"center\", color=\"y\",\n",
    "                         size=20, fontweight='bold')\n",
    "\n",
    "                elif env_desc[y,x].decode() == 'G':\n",
    "                    ax.text(x, y, str(env_desc[y,x].decode()),\n",
    "                       ha=\"center\", va=\"center\", color=\"w\",\n",
    "                         size=20, fontweight='bold')\n",
    "\n",
    "                else:\n",
    "                    ax.text(x, y, str(env_desc[y,x].decode()),\n",
    "                       ha=\"center\", va=\"center\", color=\"g\",\n",
    "                         size=15, fontweight='bold')\n",
    "\n",
    "                # No arrow for cells with G and H labels\n",
    "                if env_desc[y,x].decode() != 'G' and env_desc[y,x].decode() != 'H':\n",
    "                    ax.arrow(x, y, dx, dy, color='r', head_width=0.2, head_length=0.15)\n",
    "\n",
    "        ax.set_title(\"Step = \"  + str(k + 1), fontsize=20)\n",
    "\n",
    "    fig.tight_layout()\n",
    "    plt.show()"
   ]
  },
  {
   "cell_type": "code",
   "execution_count": null,
   "id": "4c7cb356-5d77-427d-a1ff-76fdfa81774e",
   "metadata": {},
   "outputs": [
    {
     "data": {
      "image/png": "[encoded data removed]",
      "text/plain": [
       "<Figure size 1500x1500 with 16 Axes>"
      ]
     },
     "metadata": {},
     "output_type": "display_data"
    }
   ],
   "source": [
    "V, Q, pi = value_iteration(env_info=env_info, gamma=gamma, num_iters=num_iters)"
   ]
  },
  {
   "cell_type": "markdown",
   "id": "9c1aa7c4-70cf-4083-ac9a-5a01ff0b3f63",
   "metadata": {},
   "source": [
    "The above pictures show the policy (the arrow indicates the action) and value function (the change in color shows how the value function changes over time from the initial value shown by dark color to the optimal value shown by light colors.). As we see, Value Iteration finds the optimal value function after 10 iterations and the goal state (G) can be reached starting from any state as long as it is not an H cell. Another interesting aspect of the implementation is that in addition to finding the optimal value function, we also automatically found the optimal policy $\\pi^*$ corresponding to this value function."
   ]
  },
  {
   "cell_type": "code",
   "execution_count": null,
   "id": "0d9444ab-0ce9-4be7-8d07-6e8b05ec09ae",
   "metadata": {},
   "outputs": [
    {
     "data": {
      "text/plain": [
       "(11, 16)"
      ]
     },
     "execution_count": null,
     "metadata": {},
     "output_type": "execute_result"
    }
   ],
   "source": [
    "V.shape"
   ]
  },
  {
   "cell_type": "code",
   "execution_count": null,
   "id": "0faaf887-449a-4646-b4a5-dd06219ceb47",
   "metadata": {},
   "outputs": [
    {
     "data": {
      "text/plain": [
       "(11, 16, 4)"
      ]
     },
     "execution_count": null,
     "metadata": {},
     "output_type": "execute_result"
    }
   ],
   "source": [
    "Q.shape"
   ]
  },
  {
   "cell_type": "code",
   "execution_count": null,
   "id": "93ba4fb8-5a79-484c-beed-4657d50965d4",
   "metadata": {},
   "outputs": [
    {
     "data": {
      "text/plain": [
       "(11, 16)"
      ]
     },
     "execution_count": null,
     "metadata": {},
     "output_type": "execute_result"
    }
   ],
   "source": [
    "pi.shape"
   ]
  },
  {
   "cell_type": "code",
   "execution_count": null,
   "id": "8e4b456b-9a18-4eb8-b5df-8a8bbb94e8fb",
   "metadata": {},
   "outputs": [
    {
     "name": "stdout",
     "output_type": "stream",
     "text": [
      "[0.77378094 0.81450625 0.857375   0.81450625 0.81450625 0.\n",
      " 0.9025     0.         0.857375   0.9025     0.95       0.\n",
      " 0.         0.95       1.         0.        ]\n",
      "[[0.73509189 0.77378094 0.77378094 0.73509189]\n",
      " [0.73509189 0.         0.81450625 0.77378094]\n",
      " [0.77378094 0.857375   0.77378094 0.81450625]\n",
      " [0.81450625 0.         0.77378094 0.77378094]\n",
      " [0.77378094 0.81450625 0.         0.73509189]\n",
      " [0.         0.         0.         0.        ]\n",
      " [0.         0.9025     0.         0.81450625]\n",
      " [0.         0.         0.         0.        ]\n",
      " [0.81450625 0.         0.857375   0.77378094]\n",
      " [0.81450625 0.9025     0.9025     0.        ]\n",
      " [0.857375   0.95       0.         0.857375  ]\n",
      " [0.         0.         0.         0.        ]\n",
      " [0.         0.         0.         0.        ]\n",
      " [0.         0.9025     0.95       0.857375  ]\n",
      " [0.9025     0.95       1.         0.9025    ]\n",
      " [0.         0.         0.         0.        ]]\n",
      "[1. 2. 1. 0. 1. 0. 1. 0. 2. 1. 1. 0. 0. 2. 2. 0.]\n"
     ]
    }
   ],
   "source": [
    "idx = -1\n",
    "print(V[idx])\n",
    "print(Q[idx])\n",
    "print(pi[idx])"
   ]
  },
  {
   "cell_type": "markdown",
   "id": "20d7a53a-6093-4447-838e-5a088f7be22b",
   "metadata": {},
   "source": [
    "**Action Space**\n",
    "- 0: Move left\n",
    "- 1: Move down\n",
    "- 2: Move right\n",
    "- 3: Move up\n",
    "\n",
    "**Observation Space**\n",
    "\n",
    "The observation is a value representing the player’s current position as current_row * ncols + current_col (where both the row and col start at 0).\n",
    "\n",
    "`state = current_row * ncols + current_col`"
   ]
  },
  {
   "cell_type": "markdown",
   "id": "352101ca-4748-4557-b91f-aa3bf6ced063",
   "metadata": {},
   "source": [
    "The value function `V[s]` represents the maximum expected cumulative reward for each state `s` when following the optimal policy.\n",
    "\n",
    "- `V[0]=0.77378094`: If the agent starts in state 0, it can achieve an expected cumulative reward of approximately \n",
    "- `V[5]=0.0`: If the agent starts in state 5, it cannot accumulate any rewards, likely because it’s a terminal or non-rewarding state.\n",
    "- `V[14]=1.0`: State 14 has the highest expected value, which indicates it is the most rewarding or goal state."
   ]
  },
  {
   "cell_type": "markdown",
   "id": "6c4cd5e1-107f-487f-9228-1d5c1b14dc4b",
   "metadata": {},
   "source": [
    "The state-action value Function `Q[s, a]` represents the expected cumulative reward of taking action `a` in state `s`, and then following the optimal policy afterward.\n",
    "\n",
    "- `Q[0, 0] = 0.73509189` means if the agent starts in state 0 and takes action 0, its expected cumulative reward is approximately 0.735.\n",
    "- `Q[14, 2] = 1.0` means if the agent starts in state 14 and takes action 2, its expected cumulative reward is 1.0, which is the optimal reward for that state.\n",
    "\n",
    "For each state `s`, the action `a` with the highest `Q[s, a]` determines the optimal policy."
   ]
  },
  {
   "cell_type": "markdown",
   "id": "620fbaf6-6819-47ea-ab4b-e0e928e9511f",
   "metadata": {},
   "source": [
    "The policy `pi[s]` specifies the optimal action to take in each state `s` to maximize cumulative rewards.\n",
    "\n",
    "- `pi[0] = 1`: In state 0, the optimal action is 1.\n",
    "- `pi[6] = 1`: In state 6, the optimal action is 1.\n",
    "- `pi[14] = 2`: In state 14, the optimal action is 2, which is consistent with the highest `Q[14, 2] = 1.0`.\n",
    "\n",
    "The policy ensures that the agent takes actions that lead to the highest possible reward in each state."
   ]
  },
  {
   "cell_type": "code",
   "execution_count": null,
   "id": "3a426773-7546-4ab8-9c1c-ed4cab2ac56c",
   "metadata": {},
   "outputs": [],
   "source": []
  }
 ],
 "metadata": {
  "kernelspec": {
   "display_name": "python3",
   "language": "python",
   "name": "python3"
  }
 },
 "nbformat": 4,
 "nbformat_minor": 5
}

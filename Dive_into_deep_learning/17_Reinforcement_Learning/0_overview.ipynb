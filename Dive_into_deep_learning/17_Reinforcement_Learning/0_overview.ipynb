{
 "cells": [
  {
   "cell_type": "markdown",
   "id": "434368f5-c10d-42d4-aebf-4f983ab1c7ec",
   "metadata": {},
   "source": [
    "# 17. Reinforcement Learning\n",
    "\n",
    "- https://d2l.ai/chapter_reinforcement-learning/index.html"
   ]
  },
  {
   "cell_type": "markdown",
   "id": "d5762a8b-fe9a-41c5-8b3b-a4b695c7cef8",
   "metadata": {},
   "source": [
    "Reinforcement Learning (RL) is a suite of techniques that allows us to build machine learning systems that take decisions sequentially. \n",
    "\n",
    "Reinforcement Learning methods allow us to take the appropriate action at each stage of a sequential decision making problem in order to maximize some utility eventually.\n",
    "\n",
    "The key distinction between reinforcement learning and standard deep learning is that in standard deep learning the prediction of a trained model on one test datum does not affect the predictions on a future test datum; in reinforcement learning decisions at future instants (in RL, decisions are also called actions) are affected by what decisions were made in the past."
   ]
  },
  {
   "cell_type": "markdown",
   "id": "c979c082-bc1a-421b-964c-a61d601316c3",
   "metadata": {},
   "source": [
    "![](https://d2l.ai/_images/RL_main.png)"
   ]
  },
  {
   "cell_type": "code",
   "execution_count": null,
   "id": "83403dcd-0793-46a4-bbda-cdafbd80750f",
   "metadata": {},
   "outputs": [],
   "source": []
  }
 ],
 "metadata": {
  "kernelspec": {
   "display_name": "python3",
   "language": "python",
   "name": "python3"
  }
 },
 "nbformat": 4,
 "nbformat_minor": 5
}

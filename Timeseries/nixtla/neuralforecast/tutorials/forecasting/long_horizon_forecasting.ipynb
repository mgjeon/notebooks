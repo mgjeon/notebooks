{
 "cells": [
  {
   "cell_type": "markdown",
   "metadata": {},
   "source": [
    "# Long-Horizon Forecasting with NHITS\n",
    "\n",
    "https://nixtlaverse.nixtla.io/neuralforecast/docs/tutorials/longhorizon_nhits.html"
   ]
  },
  {
   "cell_type": "code",
   "execution_count": null,
   "metadata": {},
   "outputs": [
    {
     "data": {
      "text/html": [
       "<div>\n",
       "<style scoped>\n",
       "    .dataframe tbody tr th:only-of-type {\n",
       "        vertical-align: middle;\n",
       "    }\n",
       "\n",
       "    .dataframe tbody tr th {\n",
       "        vertical-align: top;\n",
       "    }\n",
       "\n",
       "    .dataframe thead th {\n",
       "        text-align: right;\n",
       "    }\n",
       "</style>\n",
       "<table border=\"1\" class=\"dataframe\">\n",
       "  <thead>\n",
       "    <tr style=\"text-align: right;\">\n",
       "      <th></th>\n",
       "      <th>unique_id</th>\n",
       "      <th>ds</th>\n",
       "      <th>y</th>\n",
       "    </tr>\n",
       "  </thead>\n",
       "  <tbody>\n",
       "    <tr>\n",
       "      <th>0</th>\n",
       "      <td>HUFL</td>\n",
       "      <td>2016-07-01 00:00:00</td>\n",
       "      <td>-0.041413</td>\n",
       "    </tr>\n",
       "    <tr>\n",
       "      <th>1</th>\n",
       "      <td>HUFL</td>\n",
       "      <td>2016-07-01 00:15:00</td>\n",
       "      <td>-0.185467</td>\n",
       "    </tr>\n",
       "    <tr>\n",
       "      <th>2</th>\n",
       "      <td>HUFL</td>\n",
       "      <td>2016-07-01 00:30:00</td>\n",
       "      <td>-0.257495</td>\n",
       "    </tr>\n",
       "    <tr>\n",
       "      <th>3</th>\n",
       "      <td>HUFL</td>\n",
       "      <td>2016-07-01 00:45:00</td>\n",
       "      <td>-0.577510</td>\n",
       "    </tr>\n",
       "    <tr>\n",
       "      <th>4</th>\n",
       "      <td>HUFL</td>\n",
       "      <td>2016-07-01 01:00:00</td>\n",
       "      <td>-0.385501</td>\n",
       "    </tr>\n",
       "    <tr>\n",
       "      <th>...</th>\n",
       "      <td>...</td>\n",
       "      <td>...</td>\n",
       "      <td>...</td>\n",
       "    </tr>\n",
       "    <tr>\n",
       "      <th>403195</th>\n",
       "      <td>OT</td>\n",
       "      <td>2018-02-20 22:45:00</td>\n",
       "      <td>-1.581325</td>\n",
       "    </tr>\n",
       "    <tr>\n",
       "      <th>403196</th>\n",
       "      <td>OT</td>\n",
       "      <td>2018-02-20 23:00:00</td>\n",
       "      <td>-1.581325</td>\n",
       "    </tr>\n",
       "    <tr>\n",
       "      <th>403197</th>\n",
       "      <td>OT</td>\n",
       "      <td>2018-02-20 23:15:00</td>\n",
       "      <td>-1.581325</td>\n",
       "    </tr>\n",
       "    <tr>\n",
       "      <th>403198</th>\n",
       "      <td>OT</td>\n",
       "      <td>2018-02-20 23:30:00</td>\n",
       "      <td>-1.562328</td>\n",
       "    </tr>\n",
       "    <tr>\n",
       "      <th>403199</th>\n",
       "      <td>OT</td>\n",
       "      <td>2018-02-20 23:45:00</td>\n",
       "      <td>-1.562328</td>\n",
       "    </tr>\n",
       "  </tbody>\n",
       "</table>\n",
       "<p>403200 rows × 3 columns</p>\n",
       "</div>"
      ],
      "text/plain": [
       "       unique_id                  ds         y\n",
       "0           HUFL 2016-07-01 00:00:00 -0.041413\n",
       "1           HUFL 2016-07-01 00:15:00 -0.185467\n",
       "2           HUFL 2016-07-01 00:30:00 -0.257495\n",
       "3           HUFL 2016-07-01 00:45:00 -0.577510\n",
       "4           HUFL 2016-07-01 01:00:00 -0.385501\n",
       "...          ...                 ...       ...\n",
       "403195        OT 2018-02-20 22:45:00 -1.581325\n",
       "403196        OT 2018-02-20 23:00:00 -1.581325\n",
       "403197        OT 2018-02-20 23:15:00 -1.581325\n",
       "403198        OT 2018-02-20 23:30:00 -1.562328\n",
       "403199        OT 2018-02-20 23:45:00 -1.562328\n",
       "\n",
       "[403200 rows x 3 columns]"
      ]
     },
     "execution_count": null,
     "metadata": {},
     "output_type": "execute_result"
    }
   ],
   "source": [
    "import pandas as pd\n",
    "from datasetsforecast.long_horizon import LongHorizon\n",
    "\n",
    "# Change this to your own data to try the model\n",
    "Y_df, _, _ = LongHorizon.load(directory='./', group='ETTm2')\n",
    "Y_df['ds'] = pd.to_datetime(Y_df['ds'])\n",
    "Y_df"
   ]
  },
  {
   "cell_type": "code",
   "execution_count": null,
   "metadata": {},
   "outputs": [
    {
     "data": {
      "text/html": [
       "<div>\n",
       "<style scoped>\n",
       "    .dataframe tbody tr th:only-of-type {\n",
       "        vertical-align: middle;\n",
       "    }\n",
       "\n",
       "    .dataframe tbody tr th {\n",
       "        vertical-align: top;\n",
       "    }\n",
       "\n",
       "    .dataframe thead th {\n",
       "        text-align: right;\n",
       "    }\n",
       "</style>\n",
       "<table border=\"1\" class=\"dataframe\">\n",
       "  <thead>\n",
       "    <tr style=\"text-align: right;\">\n",
       "      <th></th>\n",
       "      <th>unique_id</th>\n",
       "      <th>ds</th>\n",
       "      <th>y</th>\n",
       "    </tr>\n",
       "  </thead>\n",
       "  <tbody>\n",
       "    <tr>\n",
       "      <th>0</th>\n",
       "      <td>HUFL</td>\n",
       "      <td>2016-07-01 00:00:00</td>\n",
       "      <td>-0.041413</td>\n",
       "    </tr>\n",
       "    <tr>\n",
       "      <th>1</th>\n",
       "      <td>HUFL</td>\n",
       "      <td>2016-07-01 00:15:00</td>\n",
       "      <td>-0.185467</td>\n",
       "    </tr>\n",
       "    <tr>\n",
       "      <th>57600</th>\n",
       "      <td>HULL</td>\n",
       "      <td>2016-07-01 00:00:00</td>\n",
       "      <td>0.040104</td>\n",
       "    </tr>\n",
       "    <tr>\n",
       "      <th>57601</th>\n",
       "      <td>HULL</td>\n",
       "      <td>2016-07-01 00:15:00</td>\n",
       "      <td>-0.214450</td>\n",
       "    </tr>\n",
       "    <tr>\n",
       "      <th>115200</th>\n",
       "      <td>LUFL</td>\n",
       "      <td>2016-07-01 00:00:00</td>\n",
       "      <td>0.695804</td>\n",
       "    </tr>\n",
       "    <tr>\n",
       "      <th>115201</th>\n",
       "      <td>LUFL</td>\n",
       "      <td>2016-07-01 00:15:00</td>\n",
       "      <td>0.434685</td>\n",
       "    </tr>\n",
       "    <tr>\n",
       "      <th>172800</th>\n",
       "      <td>LULL</td>\n",
       "      <td>2016-07-01 00:00:00</td>\n",
       "      <td>0.434430</td>\n",
       "    </tr>\n",
       "    <tr>\n",
       "      <th>172801</th>\n",
       "      <td>LULL</td>\n",
       "      <td>2016-07-01 00:15:00</td>\n",
       "      <td>0.428168</td>\n",
       "    </tr>\n",
       "    <tr>\n",
       "      <th>230400</th>\n",
       "      <td>MUFL</td>\n",
       "      <td>2016-07-01 00:00:00</td>\n",
       "      <td>-0.599211</td>\n",
       "    </tr>\n",
       "    <tr>\n",
       "      <th>230401</th>\n",
       "      <td>MUFL</td>\n",
       "      <td>2016-07-01 00:15:00</td>\n",
       "      <td>-0.658068</td>\n",
       "    </tr>\n",
       "    <tr>\n",
       "      <th>288000</th>\n",
       "      <td>MULL</td>\n",
       "      <td>2016-07-01 00:00:00</td>\n",
       "      <td>-0.393536</td>\n",
       "    </tr>\n",
       "    <tr>\n",
       "      <th>288001</th>\n",
       "      <td>MULL</td>\n",
       "      <td>2016-07-01 00:15:00</td>\n",
       "      <td>-0.659338</td>\n",
       "    </tr>\n",
       "    <tr>\n",
       "      <th>345600</th>\n",
       "      <td>OT</td>\n",
       "      <td>2016-07-01 00:00:00</td>\n",
       "      <td>1.018032</td>\n",
       "    </tr>\n",
       "    <tr>\n",
       "      <th>345601</th>\n",
       "      <td>OT</td>\n",
       "      <td>2016-07-01 00:15:00</td>\n",
       "      <td>0.980124</td>\n",
       "    </tr>\n",
       "  </tbody>\n",
       "</table>\n",
       "</div>"
      ],
      "text/plain": [
       "       unique_id                  ds         y\n",
       "0           HUFL 2016-07-01 00:00:00 -0.041413\n",
       "1           HUFL 2016-07-01 00:15:00 -0.185467\n",
       "57600       HULL 2016-07-01 00:00:00  0.040104\n",
       "57601       HULL 2016-07-01 00:15:00 -0.214450\n",
       "115200      LUFL 2016-07-01 00:00:00  0.695804\n",
       "115201      LUFL 2016-07-01 00:15:00  0.434685\n",
       "172800      LULL 2016-07-01 00:00:00  0.434430\n",
       "172801      LULL 2016-07-01 00:15:00  0.428168\n",
       "230400      MUFL 2016-07-01 00:00:00 -0.599211\n",
       "230401      MUFL 2016-07-01 00:15:00 -0.658068\n",
       "288000      MULL 2016-07-01 00:00:00 -0.393536\n",
       "288001      MULL 2016-07-01 00:15:00 -0.659338\n",
       "345600        OT 2016-07-01 00:00:00  1.018032\n",
       "345601        OT 2016-07-01 00:15:00  0.980124"
      ]
     },
     "execution_count": null,
     "metadata": {},
     "output_type": "execute_result"
    }
   ],
   "source": [
    "# For this excercise we are going to take 20% of the DataSet\n",
    "n_time = len(Y_df.ds.unique())\n",
    "val_size = int(.2 * n_time)\n",
    "test_size = int(.2 * n_time)\n",
    "\n",
    "Y_df.groupby('unique_id').head(2)"
   ]
  },
  {
   "cell_type": "code",
   "execution_count": null,
   "metadata": {},
   "outputs": [
    {
     "data": {
      "image/png": "[encoded data removed]",
      "text/plain": [
       "<Figure size 1000x500 with 1 Axes>"
      ]
     },
     "metadata": {},
     "output_type": "display_data"
    }
   ],
   "source": [
    "import matplotlib.pyplot as plt\n",
    "\n",
    "# We are going to plot the temperature of the transformer \n",
    "# and marking the validation and train splits\n",
    "u_id = 'HUFL'\n",
    "x_plot = pd.to_datetime(Y_df[Y_df.unique_id==u_id].ds)\n",
    "y_plot = Y_df[Y_df.unique_id==u_id].y.values\n",
    "\n",
    "x_val = x_plot[n_time - val_size - test_size]\n",
    "x_test = x_plot[n_time - test_size]\n",
    "\n",
    "fig = plt.figure(figsize=(10, 5))\n",
    "fig.tight_layout()\n",
    "\n",
    "plt.plot(x_plot, y_plot)\n",
    "plt.xlabel('Date', fontsize=17)\n",
    "plt.ylabel('HUFL [15 min temperature]', fontsize=17)\n",
    "\n",
    "plt.axvline(x_val, color='black', linestyle='-.')\n",
    "plt.axvline(x_test, color='black', linestyle='-.')\n",
    "plt.text(x_val, 5, '  Validation', fontsize=12)\n",
    "plt.text(x_test, 5, '  Test', fontsize=12)\n",
    "\n",
    "plt.grid()"
   ]
  },
  {
   "cell_type": "code",
   "execution_count": null,
   "metadata": {},
   "outputs": [],
   "source": [
    "from neuralforecast.auto import AutoNHITS\n",
    "from neuralforecast.core import NeuralForecast\n",
    "from neuralforecast.losses.pytorch import MQLoss"
   ]
  },
  {
   "cell_type": "code",
   "execution_count": null,
   "metadata": {},
   "outputs": [],
   "source": [
    "horizon = 96  # 24hrs = 96 * 15 min.\n",
    "\n",
    "models = [AutoNHITS(h=horizon, loss=MQLoss(),  backend='optuna', num_samples=5)]"
   ]
  },
  {
   "cell_type": "code",
   "execution_count": null,
   "metadata": {},
   "outputs": [
    {
     "name": "stderr",
     "output_type": "stream",
     "text": [
      "[I 2025-03-15 21:12:23,344] A new study created in memory with name: no-name-20e0f6f5-f5d1-48d3-a75a-19d8fad4636e\n",
      "/home/usr/miniconda3/envs/cal/lib/python3.12/site-packages/optuna/distributions.py:515: UserWarning: Choices for a categorical distribution should be a tuple of None, bool, int, float and str for persistent storage but contains [2, 2, 1] which is of type list.\n",
      "  warnings.warn(message)\n",
      "/home/usr/miniconda3/envs/cal/lib/python3.12/site-packages/optuna/distributions.py:515: UserWarning: Choices for a categorical distribution should be a tuple of None, bool, int, float and str for persistent storage but contains [1, 1, 1] which is of type list.\n",
      "  warnings.warn(message)\n",
      "/home/usr/miniconda3/envs/cal/lib/python3.12/site-packages/optuna/distributions.py:515: UserWarning: Choices for a categorical distribution should be a tuple of None, bool, int, float and str for persistent storage but contains [2, 2, 2] which is of type list.\n",
      "  warnings.warn(message)\n",
      "/home/usr/miniconda3/envs/cal/lib/python3.12/site-packages/optuna/distributions.py:515: UserWarning: Choices for a categorical distribution should be a tuple of None, bool, int, float and str for persistent storage but contains [4, 4, 4] which is of type list.\n",
      "  warnings.warn(message)\n",
      "/home/usr/miniconda3/envs/cal/lib/python3.12/site-packages/optuna/distributions.py:515: UserWarning: Choices for a categorical distribution should be a tuple of None, bool, int, float and str for persistent storage but contains [8, 4, 1] which is of type list.\n",
      "  warnings.warn(message)\n",
      "/home/usr/miniconda3/envs/cal/lib/python3.12/site-packages/optuna/distributions.py:515: UserWarning: Choices for a categorical distribution should be a tuple of None, bool, int, float and str for persistent storage but contains [16, 8, 1] which is of type list.\n",
      "  warnings.warn(message)\n",
      "/home/usr/miniconda3/envs/cal/lib/python3.12/site-packages/optuna/distributions.py:515: UserWarning: Choices for a categorical distribution should be a tuple of None, bool, int, float and str for persistent storage but contains [168, 24, 1] which is of type list.\n",
      "  warnings.warn(message)\n",
      "/home/usr/miniconda3/envs/cal/lib/python3.12/site-packages/optuna/distributions.py:515: UserWarning: Choices for a categorical distribution should be a tuple of None, bool, int, float and str for persistent storage but contains [24, 12, 1] which is of type list.\n",
      "  warnings.warn(message)\n",
      "/home/usr/miniconda3/envs/cal/lib/python3.12/site-packages/optuna/distributions.py:515: UserWarning: Choices for a categorical distribution should be a tuple of None, bool, int, float and str for persistent storage but contains [180, 60, 1] which is of type list.\n",
      "  warnings.warn(message)\n",
      "/home/usr/miniconda3/envs/cal/lib/python3.12/site-packages/optuna/distributions.py:515: UserWarning: Choices for a categorical distribution should be a tuple of None, bool, int, float and str for persistent storage but contains [60, 8, 1] which is of type list.\n",
      "  warnings.warn(message)\n",
      "/home/usr/miniconda3/envs/cal/lib/python3.12/site-packages/optuna/distributions.py:515: UserWarning: Choices for a categorical distribution should be a tuple of None, bool, int, float and str for persistent storage but contains [40, 20, 1] which is of type list.\n",
      "  warnings.warn(message)\n",
      "/home/usr/miniconda3/envs/cal/lib/python3.12/site-packages/neuralforecast/common/_base_auto.py:295: FutureWarning: suggest_loguniform has been deprecated in v3.0.0. This feature will be removed in v6.0.0. See https://github.com/optuna/optuna/releases/tag/v3.0.0. Use suggest_float(..., log=True) instead.\n",
      "  v = trial.suggest_loguniform(k, v.lower, v.upper)\n",
      "INFO:lightning_fabric.utilities.seed:Seed set to 3\n",
      "INFO: GPU available: True (cuda), used: True\n",
      "INFO:lightning.pytorch.utilities.rank_zero:GPU available: True (cuda), used: True\n",
      "INFO: TPU available: False, using: 0 TPU cores\n",
      "INFO:lightning.pytorch.utilities.rank_zero:TPU available: False, using: 0 TPU cores\n",
      "INFO: HPU available: False, using: 0 HPUs\n",
      "INFO:lightning.pytorch.utilities.rank_zero:HPU available: False, using: 0 HPUs\n",
      "INFO: You are using a CUDA device ('NVIDIA GeForce RTX 3060') that has Tensor Cores. To properly utilize them, you should set `torch.set_float32_matmul_precision('medium' | 'high')` which will trade-off precision for performance. For more details, read https://pytorch.org/docs/stable/generated/torch.set_float32_matmul_precision.html#torch.set_float32_matmul_precision\n",
      "INFO:lightning.pytorch.utilities.rank_zero:You are using a CUDA device ('NVIDIA GeForce RTX 3060') that has Tensor Cores. To properly utilize them, you should set `torch.set_float32_matmul_precision('medium' | 'high')` which will trade-off precision for performance. For more details, read https://pytorch.org/docs/stable/generated/torch.set_float32_matmul_precision.html#torch.set_float32_matmul_precision\n",
      "INFO:pytorch_lightning.accelerators.cuda:LOCAL_RANK: 0 - CUDA_VISIBLE_DEVICES: [0]\n",
      "INFO:pytorch_lightning.callbacks.model_summary:\n",
      "  | Name         | Type          | Params | Mode \n",
      "-------------------------------------------------------\n",
      "0 | loss         | MQLoss        | 5      | train\n",
      "1 | padder_train | ConstantPad1d | 0      | train\n",
      "2 | scaler       | TemporalNorm  | 0      | train\n",
      "3 | blocks       | ModuleList    | 3.8 M  | train\n",
      "-------------------------------------------------------\n",
      "3.8 M     Trainable params\n",
      "5         Non-trainable params\n",
      "3.8 M     Total params\n",
      "15.221    Total estimated model params size (MB)\n",
      "34        Modules in train mode\n",
      "0         Modules in eval mode\n"
     ]
    },
    {
     "data": {
      "application/vnd.jupyter.widget-view+json": {
       "model_id": "6cda7c210bae4827a11aa722146dd414",
       "version_major": 2,
       "version_minor": 0
      },
      "text/plain": [
       "Sanity Checking: |          | 0/? [00:00<?, ?it/s]"
      ]
     },
     "metadata": {},
     "output_type": "display_data"
    },
    {
     "data": {
      "application/vnd.jupyter.widget-view+json": {
       "model_id": "9ae845884f784bf1b80c5968d5efd8c1",
       "version_major": 2,
       "version_minor": 0
      },
      "text/plain": [
       "Training: |          | 0/? [00:00<?, ?it/s]"
      ]
     },
     "metadata": {},
     "output_type": "display_data"
    },
    {
     "data": {
      "application/vnd.jupyter.widget-view+json": {
       "model_id": "3350f8e59b254409aa47c69cbea47472",
       "version_major": 2,
       "version_minor": 0
      },
      "text/plain": [
       "Validation: |          | 0/? [00:00<?, ?it/s]"
      ]
     },
     "metadata": {},
     "output_type": "display_data"
    },
    {
     "data": {
      "application/vnd.jupyter.widget-view+json": {
       "model_id": "8213d6f6f3944c62bdc789942ef72543",
       "version_major": 2,
       "version_minor": 0
      },
      "text/plain": [
       "Validation: |          | 0/? [00:00<?, ?it/s]"
      ]
     },
     "metadata": {},
     "output_type": "display_data"
    },
    {
     "data": {
      "application/vnd.jupyter.widget-view+json": {
       "model_id": "55c5ee62014541d2a77ca1f4a863418a",
       "version_major": 2,
       "version_minor": 0
      },
      "text/plain": [
       "Validation: |          | 0/? [00:00<?, ?it/s]"
      ]
     },
     "metadata": {},
     "output_type": "display_data"
    },
    {
     "data": {
      "application/vnd.jupyter.widget-view+json": {
       "model_id": "ec3a7d7a4a244cf18e282757eb37807f",
       "version_major": 2,
       "version_minor": 0
      },
      "text/plain": [
       "Validation: |          | 0/? [00:00<?, ?it/s]"
      ]
     },
     "metadata": {},
     "output_type": "display_data"
    },
    {
     "data": {
      "application/vnd.jupyter.widget-view+json": {
       "model_id": "d62c48107a15407c844ac8dff2f3ac06",
       "version_major": 2,
       "version_minor": 0
      },
      "text/plain": [
       "Validation: |          | 0/? [00:00<?, ?it/s]"
      ]
     },
     "metadata": {},
     "output_type": "display_data"
    },
    {
     "data": {
      "application/vnd.jupyter.widget-view+json": {
       "model_id": "a503adf7a9d441f5b9b8e8e599fc2d3a",
       "version_major": 2,
       "version_minor": 0
      },
      "text/plain": [
       "Validation: |          | 0/? [00:00<?, ?it/s]"
      ]
     },
     "metadata": {},
     "output_type": "display_data"
    },
    {
     "name": "stderr",
     "output_type": "stream",
     "text": [
      "INFO: `Trainer.fit` stopped: `max_steps=600.0` reached.\n",
      "INFO:lightning.pytorch.utilities.rank_zero:`Trainer.fit` stopped: `max_steps=600.0` reached.\n",
      "[I 2025-03-15 21:12:47,882] Trial 0 finished with value: 85.08226013183594 and parameters: {'n_pool_kernel_size': [1, 1, 1], 'n_freq_downsample': [168, 24, 1], 'learning_rate': 0.03547108688030696, 'scaler_type': None, 'max_steps': 600.0, 'batch_size': 32, 'windows_batch_size': 512, 'random_seed': 3, 'input_size': 384, 'step_size': 1}. Best is trial 0 with value: 85.08226013183594.\n",
      "/home/usr/miniconda3/envs/cal/lib/python3.12/site-packages/optuna/distributions.py:515: UserWarning: Choices for a categorical distribution should be a tuple of None, bool, int, float and str for persistent storage but contains [2, 2, 1] which is of type list.\n",
      "  warnings.warn(message)\n",
      "/home/usr/miniconda3/envs/cal/lib/python3.12/site-packages/optuna/distributions.py:515: UserWarning: Choices for a categorical distribution should be a tuple of None, bool, int, float and str for persistent storage but contains [1, 1, 1] which is of type list.\n",
      "  warnings.warn(message)\n",
      "/home/usr/miniconda3/envs/cal/lib/python3.12/site-packages/optuna/distributions.py:515: UserWarning: Choices for a categorical distribution should be a tuple of None, bool, int, float and str for persistent storage but contains [2, 2, 2] which is of type list.\n",
      "  warnings.warn(message)\n",
      "/home/usr/miniconda3/envs/cal/lib/python3.12/site-packages/optuna/distributions.py:515: UserWarning: Choices for a categorical distribution should be a tuple of None, bool, int, float and str for persistent storage but contains [4, 4, 4] which is of type list.\n",
      "  warnings.warn(message)\n",
      "/home/usr/miniconda3/envs/cal/lib/python3.12/site-packages/optuna/distributions.py:515: UserWarning: Choices for a categorical distribution should be a tuple of None, bool, int, float and str for persistent storage but contains [8, 4, 1] which is of type list.\n",
      "  warnings.warn(message)\n",
      "/home/usr/miniconda3/envs/cal/lib/python3.12/site-packages/optuna/distributions.py:515: UserWarning: Choices for a categorical distribution should be a tuple of None, bool, int, float and str for persistent storage but contains [16, 8, 1] which is of type list.\n",
      "  warnings.warn(message)\n",
      "/home/usr/miniconda3/envs/cal/lib/python3.12/site-packages/optuna/distributions.py:515: UserWarning: Choices for a categorical distribution should be a tuple of None, bool, int, float and str for persistent storage but contains [168, 24, 1] which is of type list.\n",
      "  warnings.warn(message)\n",
      "/home/usr/miniconda3/envs/cal/lib/python3.12/site-packages/optuna/distributions.py:515: UserWarning: Choices for a categorical distribution should be a tuple of None, bool, int, float and str for persistent storage but contains [24, 12, 1] which is of type list.\n",
      "  warnings.warn(message)\n",
      "/home/usr/miniconda3/envs/cal/lib/python3.12/site-packages/optuna/distributions.py:515: UserWarning: Choices for a categorical distribution should be a tuple of None, bool, int, float and str for persistent storage but contains [180, 60, 1] which is of type list.\n",
      "  warnings.warn(message)\n",
      "/home/usr/miniconda3/envs/cal/lib/python3.12/site-packages/optuna/distributions.py:515: UserWarning: Choices for a categorical distribution should be a tuple of None, bool, int, float and str for persistent storage but contains [60, 8, 1] which is of type list.\n",
      "  warnings.warn(message)\n",
      "/home/usr/miniconda3/envs/cal/lib/python3.12/site-packages/optuna/distributions.py:515: UserWarning: Choices for a categorical distribution should be a tuple of None, bool, int, float and str for persistent storage but contains [40, 20, 1] which is of type list.\n",
      "  warnings.warn(message)\n",
      "/home/usr/miniconda3/envs/cal/lib/python3.12/site-packages/neuralforecast/common/_base_auto.py:295: FutureWarning: suggest_loguniform has been deprecated in v3.0.0. This feature will be removed in v6.0.0. See https://github.com/optuna/optuna/releases/tag/v3.0.0. Use suggest_float(..., log=True) instead.\n",
      "  v = trial.suggest_loguniform(k, v.lower, v.upper)\n",
      "INFO:lightning_fabric.utilities.seed:Seed set to 20\n",
      "INFO: GPU available: True (cuda), used: True\n",
      "INFO:lightning.pytorch.utilities.rank_zero:GPU available: True (cuda), used: True\n",
      "INFO: TPU available: False, using: 0 TPU cores\n",
      "INFO:lightning.pytorch.utilities.rank_zero:TPU available: False, using: 0 TPU cores\n",
      "INFO: HPU available: False, using: 0 HPUs\n",
      "INFO:lightning.pytorch.utilities.rank_zero:HPU available: False, using: 0 HPUs\n",
      "INFO:pytorch_lightning.accelerators.cuda:LOCAL_RANK: 0 - CUDA_VISIBLE_DEVICES: [0]\n",
      "INFO:pytorch_lightning.callbacks.model_summary:\n",
      "  | Name         | Type          | Params | Mode \n",
      "-------------------------------------------------------\n",
      "0 | loss         | MQLoss        | 5      | train\n",
      "1 | padder_train | ConstantPad1d | 0      | train\n",
      "2 | scaler       | TemporalNorm  | 0      | train\n",
      "3 | blocks       | ModuleList    | 3.3 M  | train\n",
      "-------------------------------------------------------\n",
      "3.3 M     Trainable params\n",
      "5         Non-trainable params\n",
      "3.3 M     Total params\n",
      "13.154    Total estimated model params size (MB)\n",
      "34        Modules in train mode\n",
      "0         Modules in eval mode\n"
     ]
    },
    {
     "data": {
      "application/vnd.jupyter.widget-view+json": {
       "model_id": "98ae92eec13a4ae78bd57b6650525268",
       "version_major": 2,
       "version_minor": 0
      },
      "text/plain": [
       "Sanity Checking: |          | 0/? [00:00<?, ?it/s]"
      ]
     },
     "metadata": {},
     "output_type": "display_data"
    },
    {
     "data": {
      "application/vnd.jupyter.widget-view+json": {
       "model_id": "6e25c66bd2b04f1caff5bdc3abd6dded",
       "version_major": 2,
       "version_minor": 0
      },
      "text/plain": [
       "Training: |          | 0/? [00:00<?, ?it/s]"
      ]
     },
     "metadata": {},
     "output_type": "display_data"
    },
    {
     "data": {
      "application/vnd.jupyter.widget-view+json": {
       "model_id": "a025f02d40ae47f5be17c59d2a909158",
       "version_major": 2,
       "version_minor": 0
      },
      "text/plain": [
       "Validation: |          | 0/? [00:00<?, ?it/s]"
      ]
     },
     "metadata": {},
     "output_type": "display_data"
    },
    {
     "data": {
      "application/vnd.jupyter.widget-view+json": {
       "model_id": "42cfa3b2b96c4e95984d4727525602b3",
       "version_major": 2,
       "version_minor": 0
      },
      "text/plain": [
       "Validation: |          | 0/? [00:00<?, ?it/s]"
      ]
     },
     "metadata": {},
     "output_type": "display_data"
    },
    {
     "data": {
      "application/vnd.jupyter.widget-view+json": {
       "model_id": "052ca5eb19f34424a2df95e1a0437607",
       "version_major": 2,
       "version_minor": 0
      },
      "text/plain": [
       "Validation: |          | 0/? [00:00<?, ?it/s]"
      ]
     },
     "metadata": {},
     "output_type": "display_data"
    },
    {
     "data": {
      "application/vnd.jupyter.widget-view+json": {
       "model_id": "0d7b0c3ac14c46bbbb8d5a14448e46cf",
       "version_major": 2,
       "version_minor": 0
      },
      "text/plain": [
       "Validation: |          | 0/? [00:00<?, ?it/s]"
      ]
     },
     "metadata": {},
     "output_type": "display_data"
    },
    {
     "data": {
      "application/vnd.jupyter.widget-view+json": {
       "model_id": "50b64aff4e924b5896a5b8d54b571bf9",
       "version_major": 2,
       "version_minor": 0
      },
      "text/plain": [
       "Validation: |          | 0/? [00:00<?, ?it/s]"
      ]
     },
     "metadata": {},
     "output_type": "display_data"
    },
    {
     "name": "stderr",
     "output_type": "stream",
     "text": [
      "INFO: `Trainer.fit` stopped: `max_steps=500.0` reached.\n",
      "INFO:lightning.pytorch.utilities.rank_zero:`Trainer.fit` stopped: `max_steps=500.0` reached.\n",
      "[I 2025-03-15 21:13:08,534] Trial 1 finished with value: 0.3070538341999054 and parameters: {'n_pool_kernel_size': [8, 4, 1], 'n_freq_downsample': [24, 12, 1], 'learning_rate': 0.002250848801042586, 'scaler_type': 'standard', 'max_steps': 500.0, 'batch_size': 256, 'windows_batch_size': 512, 'random_seed': 20, 'input_size': 288, 'step_size': 1}. Best is trial 1 with value: 0.3070538341999054.\n",
      "/home/usr/miniconda3/envs/cal/lib/python3.12/site-packages/optuna/distributions.py:515: UserWarning: Choices for a categorical distribution should be a tuple of None, bool, int, float and str for persistent storage but contains [2, 2, 1] which is of type list.\n",
      "  warnings.warn(message)\n",
      "/home/usr/miniconda3/envs/cal/lib/python3.12/site-packages/optuna/distributions.py:515: UserWarning: Choices for a categorical distribution should be a tuple of None, bool, int, float and str for persistent storage but contains [1, 1, 1] which is of type list.\n",
      "  warnings.warn(message)\n",
      "/home/usr/miniconda3/envs/cal/lib/python3.12/site-packages/optuna/distributions.py:515: UserWarning: Choices for a categorical distribution should be a tuple of None, bool, int, float and str for persistent storage but contains [2, 2, 2] which is of type list.\n",
      "  warnings.warn(message)\n",
      "/home/usr/miniconda3/envs/cal/lib/python3.12/site-packages/optuna/distributions.py:515: UserWarning: Choices for a categorical distribution should be a tuple of None, bool, int, float and str for persistent storage but contains [4, 4, 4] which is of type list.\n",
      "  warnings.warn(message)\n",
      "/home/usr/miniconda3/envs/cal/lib/python3.12/site-packages/optuna/distributions.py:515: UserWarning: Choices for a categorical distribution should be a tuple of None, bool, int, float and str for persistent storage but contains [8, 4, 1] which is of type list.\n",
      "  warnings.warn(message)\n",
      "/home/usr/miniconda3/envs/cal/lib/python3.12/site-packages/optuna/distributions.py:515: UserWarning: Choices for a categorical distribution should be a tuple of None, bool, int, float and str for persistent storage but contains [16, 8, 1] which is of type list.\n",
      "  warnings.warn(message)\n",
      "/home/usr/miniconda3/envs/cal/lib/python3.12/site-packages/optuna/distributions.py:515: UserWarning: Choices for a categorical distribution should be a tuple of None, bool, int, float and str for persistent storage but contains [168, 24, 1] which is of type list.\n",
      "  warnings.warn(message)\n",
      "/home/usr/miniconda3/envs/cal/lib/python3.12/site-packages/optuna/distributions.py:515: UserWarning: Choices for a categorical distribution should be a tuple of None, bool, int, float and str for persistent storage but contains [24, 12, 1] which is of type list.\n",
      "  warnings.warn(message)\n",
      "/home/usr/miniconda3/envs/cal/lib/python3.12/site-packages/optuna/distributions.py:515: UserWarning: Choices for a categorical distribution should be a tuple of None, bool, int, float and str for persistent storage but contains [180, 60, 1] which is of type list.\n",
      "  warnings.warn(message)\n",
      "/home/usr/miniconda3/envs/cal/lib/python3.12/site-packages/optuna/distributions.py:515: UserWarning: Choices for a categorical distribution should be a tuple of None, bool, int, float and str for persistent storage but contains [60, 8, 1] which is of type list.\n",
      "  warnings.warn(message)\n",
      "/home/usr/miniconda3/envs/cal/lib/python3.12/site-packages/optuna/distributions.py:515: UserWarning: Choices for a categorical distribution should be a tuple of None, bool, int, float and str for persistent storage but contains [40, 20, 1] which is of type list.\n",
      "  warnings.warn(message)\n",
      "/home/usr/miniconda3/envs/cal/lib/python3.12/site-packages/neuralforecast/common/_base_auto.py:295: FutureWarning: suggest_loguniform has been deprecated in v3.0.0. This feature will be removed in v6.0.0. See https://github.com/optuna/optuna/releases/tag/v3.0.0. Use suggest_float(..., log=True) instead.\n",
      "  v = trial.suggest_loguniform(k, v.lower, v.upper)\n",
      "INFO:lightning_fabric.utilities.seed:Seed set to 18\n",
      "INFO: GPU available: True (cuda), used: True\n",
      "INFO:lightning.pytorch.utilities.rank_zero:GPU available: True (cuda), used: True\n",
      "INFO: TPU available: False, using: 0 TPU cores\n",
      "INFO:lightning.pytorch.utilities.rank_zero:TPU available: False, using: 0 TPU cores\n",
      "INFO: HPU available: False, using: 0 HPUs\n",
      "INFO:lightning.pytorch.utilities.rank_zero:HPU available: False, using: 0 HPUs\n",
      "INFO:pytorch_lightning.accelerators.cuda:LOCAL_RANK: 0 - CUDA_VISIBLE_DEVICES: [0]\n",
      "INFO:pytorch_lightning.callbacks.model_summary:\n",
      "  | Name         | Type          | Params | Mode \n",
      "-------------------------------------------------------\n",
      "0 | loss         | MQLoss        | 5      | train\n",
      "1 | padder_train | ConstantPad1d | 0      | train\n",
      "2 | scaler       | TemporalNorm  | 0      | train\n",
      "3 | blocks       | ModuleList    | 3.4 M  | train\n",
      "-------------------------------------------------------\n",
      "3.4 M     Trainable params\n",
      "5         Non-trainable params\n",
      "3.4 M     Total params\n",
      "13.420    Total estimated model params size (MB)\n",
      "34        Modules in train mode\n",
      "0         Modules in eval mode\n"
     ]
    },
    {
     "data": {
      "application/vnd.jupyter.widget-view+json": {
       "model_id": "d6b8b2b8e9074da080d155c8d04d514e",
       "version_major": 2,
       "version_minor": 0
      },
      "text/plain": [
       "Sanity Checking: |          | 0/? [00:00<?, ?it/s]"
      ]
     },
     "metadata": {},
     "output_type": "display_data"
    },
    {
     "data": {
      "application/vnd.jupyter.widget-view+json": {
       "model_id": "0cb0e8ff58514315be5fdfb6b8076ef8",
       "version_major": 2,
       "version_minor": 0
      },
      "text/plain": [
       "Training: |          | 0/? [00:00<?, ?it/s]"
      ]
     },
     "metadata": {},
     "output_type": "display_data"
    },
    {
     "data": {
      "application/vnd.jupyter.widget-view+json": {
       "model_id": "b13afbcb216146b0bac244e36c9b928e",
       "version_major": 2,
       "version_minor": 0
      },
      "text/plain": [
       "Validation: |          | 0/? [00:00<?, ?it/s]"
      ]
     },
     "metadata": {},
     "output_type": "display_data"
    },
    {
     "data": {
      "application/vnd.jupyter.widget-view+json": {
       "model_id": "1bfaddcc0ae548278628529253effec5",
       "version_major": 2,
       "version_minor": 0
      },
      "text/plain": [
       "Validation: |          | 0/? [00:00<?, ?it/s]"
      ]
     },
     "metadata": {},
     "output_type": "display_data"
    },
    {
     "data": {
      "application/vnd.jupyter.widget-view+json": {
       "model_id": "0d29ae21cc784a91a72b74ce869abfc4",
       "version_major": 2,
       "version_minor": 0
      },
      "text/plain": [
       "Validation: |          | 0/? [00:00<?, ?it/s]"
      ]
     },
     "metadata": {},
     "output_type": "display_data"
    },
    {
     "data": {
      "application/vnd.jupyter.widget-view+json": {
       "model_id": "592b2f1e41a34de3ac36ccf3d409482e",
       "version_major": 2,
       "version_minor": 0
      },
      "text/plain": [
       "Validation: |          | 0/? [00:00<?, ?it/s]"
      ]
     },
     "metadata": {},
     "output_type": "display_data"
    },
    {
     "data": {
      "application/vnd.jupyter.widget-view+json": {
       "model_id": "8d339ac826ad4150b9b407f4925f2840",
       "version_major": 2,
       "version_minor": 0
      },
      "text/plain": [
       "Validation: |          | 0/? [00:00<?, ?it/s]"
      ]
     },
     "metadata": {},
     "output_type": "display_data"
    },
    {
     "data": {
      "application/vnd.jupyter.widget-view+json": {
       "model_id": "df1409b64d974104b283125f52631009",
       "version_major": 2,
       "version_minor": 0
      },
      "text/plain": [
       "Validation: |          | 0/? [00:00<?, ?it/s]"
      ]
     },
     "metadata": {},
     "output_type": "display_data"
    },
    {
     "data": {
      "application/vnd.jupyter.widget-view+json": {
       "model_id": "37367c1133854861ad46dc173cab11c4",
       "version_major": 2,
       "version_minor": 0
      },
      "text/plain": [
       "Validation: |          | 0/? [00:00<?, ?it/s]"
      ]
     },
     "metadata": {},
     "output_type": "display_data"
    },
    {
     "name": "stderr",
     "output_type": "stream",
     "text": [
      "INFO: `Trainer.fit` stopped: `max_steps=700.0` reached.\n",
      "INFO:lightning.pytorch.utilities.rank_zero:`Trainer.fit` stopped: `max_steps=700.0` reached.\n",
      "[I 2025-03-15 21:13:31,643] Trial 2 finished with value: 0.37739691138267517 and parameters: {'n_pool_kernel_size': [2, 2, 1], 'n_freq_downsample': [180, 60, 1], 'learning_rate': 0.006422624614166706, 'scaler_type': None, 'max_steps': 700.0, 'batch_size': 32, 'windows_batch_size': 256, 'random_seed': 18, 'input_size': 288, 'step_size': 1}. Best is trial 1 with value: 0.3070538341999054.\n",
      "/home/usr/miniconda3/envs/cal/lib/python3.12/site-packages/optuna/distributions.py:515: UserWarning: Choices for a categorical distribution should be a tuple of None, bool, int, float and str for persistent storage but contains [2, 2, 1] which is of type list.\n",
      "  warnings.warn(message)\n",
      "/home/usr/miniconda3/envs/cal/lib/python3.12/site-packages/optuna/distributions.py:515: UserWarning: Choices for a categorical distribution should be a tuple of None, bool, int, float and str for persistent storage but contains [1, 1, 1] which is of type list.\n",
      "  warnings.warn(message)\n",
      "/home/usr/miniconda3/envs/cal/lib/python3.12/site-packages/optuna/distributions.py:515: UserWarning: Choices for a categorical distribution should be a tuple of None, bool, int, float and str for persistent storage but contains [2, 2, 2] which is of type list.\n",
      "  warnings.warn(message)\n",
      "/home/usr/miniconda3/envs/cal/lib/python3.12/site-packages/optuna/distributions.py:515: UserWarning: Choices for a categorical distribution should be a tuple of None, bool, int, float and str for persistent storage but contains [4, 4, 4] which is of type list.\n",
      "  warnings.warn(message)\n",
      "/home/usr/miniconda3/envs/cal/lib/python3.12/site-packages/optuna/distributions.py:515: UserWarning: Choices for a categorical distribution should be a tuple of None, bool, int, float and str for persistent storage but contains [8, 4, 1] which is of type list.\n",
      "  warnings.warn(message)\n",
      "/home/usr/miniconda3/envs/cal/lib/python3.12/site-packages/optuna/distributions.py:515: UserWarning: Choices for a categorical distribution should be a tuple of None, bool, int, float and str for persistent storage but contains [16, 8, 1] which is of type list.\n",
      "  warnings.warn(message)\n",
      "/home/usr/miniconda3/envs/cal/lib/python3.12/site-packages/optuna/distributions.py:515: UserWarning: Choices for a categorical distribution should be a tuple of None, bool, int, float and str for persistent storage but contains [168, 24, 1] which is of type list.\n",
      "  warnings.warn(message)\n",
      "/home/usr/miniconda3/envs/cal/lib/python3.12/site-packages/optuna/distributions.py:515: UserWarning: Choices for a categorical distribution should be a tuple of None, bool, int, float and str for persistent storage but contains [24, 12, 1] which is of type list.\n",
      "  warnings.warn(message)\n",
      "/home/usr/miniconda3/envs/cal/lib/python3.12/site-packages/optuna/distributions.py:515: UserWarning: Choices for a categorical distribution should be a tuple of None, bool, int, float and str for persistent storage but contains [180, 60, 1] which is of type list.\n",
      "  warnings.warn(message)\n",
      "/home/usr/miniconda3/envs/cal/lib/python3.12/site-packages/optuna/distributions.py:515: UserWarning: Choices for a categorical distribution should be a tuple of None, bool, int, float and str for persistent storage but contains [60, 8, 1] which is of type list.\n",
      "  warnings.warn(message)\n",
      "/home/usr/miniconda3/envs/cal/lib/python3.12/site-packages/optuna/distributions.py:515: UserWarning: Choices for a categorical distribution should be a tuple of None, bool, int, float and str for persistent storage but contains [40, 20, 1] which is of type list.\n",
      "  warnings.warn(message)\n",
      "/home/usr/miniconda3/envs/cal/lib/python3.12/site-packages/neuralforecast/common/_base_auto.py:295: FutureWarning: suggest_loguniform has been deprecated in v3.0.0. This feature will be removed in v6.0.0. See https://github.com/optuna/optuna/releases/tag/v3.0.0. Use suggest_float(..., log=True) instead.\n",
      "  v = trial.suggest_loguniform(k, v.lower, v.upper)\n",
      "INFO:lightning_fabric.utilities.seed:Seed set to 18\n",
      "INFO: GPU available: True (cuda), used: True\n",
      "INFO:lightning.pytorch.utilities.rank_zero:GPU available: True (cuda), used: True\n",
      "INFO: TPU available: False, using: 0 TPU cores\n",
      "INFO:lightning.pytorch.utilities.rank_zero:TPU available: False, using: 0 TPU cores\n",
      "INFO: HPU available: False, using: 0 HPUs\n",
      "INFO:lightning.pytorch.utilities.rank_zero:HPU available: False, using: 0 HPUs\n",
      "INFO:pytorch_lightning.accelerators.cuda:LOCAL_RANK: 0 - CUDA_VISIBLE_DEVICES: [0]\n",
      "INFO:pytorch_lightning.callbacks.model_summary:\n",
      "  | Name         | Type          | Params | Mode \n",
      "-------------------------------------------------------\n",
      "0 | loss         | MQLoss        | 5      | train\n",
      "1 | padder_train | ConstantPad1d | 0      | train\n",
      "2 | scaler       | TemporalNorm  | 0      | train\n",
      "3 | blocks       | ModuleList    | 2.9 M  | train\n",
      "-------------------------------------------------------\n",
      "2.9 M     Trainable params\n",
      "5         Non-trainable params\n",
      "2.9 M     Total params\n",
      "11.466    Total estimated model params size (MB)\n",
      "34        Modules in train mode\n",
      "0         Modules in eval mode\n"
     ]
    },
    {
     "data": {
      "application/vnd.jupyter.widget-view+json": {
       "model_id": "f851b50cd823431b939b65f6b07f7d96",
       "version_major": 2,
       "version_minor": 0
      },
      "text/plain": [
       "Sanity Checking: |          | 0/? [00:00<?, ?it/s]"
      ]
     },
     "metadata": {},
     "output_type": "display_data"
    },
    {
     "data": {
      "application/vnd.jupyter.widget-view+json": {
       "model_id": "9ce3a5b6e8db4c679693a502d9036fa0",
       "version_major": 2,
       "version_minor": 0
      },
      "text/plain": [
       "Training: |          | 0/? [00:00<?, ?it/s]"
      ]
     },
     "metadata": {},
     "output_type": "display_data"
    },
    {
     "data": {
      "application/vnd.jupyter.widget-view+json": {
       "model_id": "51c322c0d8ea4481a8e31b8122f97aab",
       "version_major": 2,
       "version_minor": 0
      },
      "text/plain": [
       "Validation: |          | 0/? [00:00<?, ?it/s]"
      ]
     },
     "metadata": {},
     "output_type": "display_data"
    },
    {
     "data": {
      "application/vnd.jupyter.widget-view+json": {
       "model_id": "1f5f63bdb53a438da2d43a5db4d82423",
       "version_major": 2,
       "version_minor": 0
      },
      "text/plain": [
       "Validation: |          | 0/? [00:00<?, ?it/s]"
      ]
     },
     "metadata": {},
     "output_type": "display_data"
    },
    {
     "data": {
      "application/vnd.jupyter.widget-view+json": {
       "model_id": "1ff570f56ec24dd5a37eca3dbd954303",
       "version_major": 2,
       "version_minor": 0
      },
      "text/plain": [
       "Validation: |          | 0/? [00:00<?, ?it/s]"
      ]
     },
     "metadata": {},
     "output_type": "display_data"
    },
    {
     "data": {
      "application/vnd.jupyter.widget-view+json": {
       "model_id": "4d4668c73c0d4897bffa35a3ac120d2f",
       "version_major": 2,
       "version_minor": 0
      },
      "text/plain": [
       "Validation: |          | 0/? [00:00<?, ?it/s]"
      ]
     },
     "metadata": {},
     "output_type": "display_data"
    },
    {
     "data": {
      "application/vnd.jupyter.widget-view+json": {
       "model_id": "3f120a60fe9f478bae04efa7c5865281",
       "version_major": 2,
       "version_minor": 0
      },
      "text/plain": [
       "Validation: |          | 0/? [00:00<?, ?it/s]"
      ]
     },
     "metadata": {},
     "output_type": "display_data"
    },
    {
     "data": {
      "application/vnd.jupyter.widget-view+json": {
       "model_id": "c0140a2127454c7cb8932216722d722f",
       "version_major": 2,
       "version_minor": 0
      },
      "text/plain": [
       "Validation: |          | 0/? [00:00<?, ?it/s]"
      ]
     },
     "metadata": {},
     "output_type": "display_data"
    },
    {
     "data": {
      "application/vnd.jupyter.widget-view+json": {
       "model_id": "80fbdd255c2046cc8a726f6c07febab8",
       "version_major": 2,
       "version_minor": 0
      },
      "text/plain": [
       "Validation: |          | 0/? [00:00<?, ?it/s]"
      ]
     },
     "metadata": {},
     "output_type": "display_data"
    },
    {
     "data": {
      "application/vnd.jupyter.widget-view+json": {
       "model_id": "549dd1b68d6e49f280cafe400856a139",
       "version_major": 2,
       "version_minor": 0
      },
      "text/plain": [
       "Validation: |          | 0/? [00:00<?, ?it/s]"
      ]
     },
     "metadata": {},
     "output_type": "display_data"
    },
    {
     "data": {
      "application/vnd.jupyter.widget-view+json": {
       "model_id": "ecef7d0e951a43a8b102aeae3186b8eb",
       "version_major": 2,
       "version_minor": 0
      },
      "text/plain": [
       "Validation: |          | 0/? [00:00<?, ?it/s]"
      ]
     },
     "metadata": {},
     "output_type": "display_data"
    },
    {
     "data": {
      "application/vnd.jupyter.widget-view+json": {
       "model_id": "c4ddfe570aca44318ecbc703053461c7",
       "version_major": 2,
       "version_minor": 0
      },
      "text/plain": [
       "Validation: |          | 0/? [00:00<?, ?it/s]"
      ]
     },
     "metadata": {},
     "output_type": "display_data"
    },
    {
     "data": {
      "application/vnd.jupyter.widget-view+json": {
       "model_id": "d00c84f29bf54369b42713c2807cc87d",
       "version_major": 2,
       "version_minor": 0
      },
      "text/plain": [
       "Validation: |          | 0/? [00:00<?, ?it/s]"
      ]
     },
     "metadata": {},
     "output_type": "display_data"
    },
    {
     "data": {
      "application/vnd.jupyter.widget-view+json": {
       "model_id": "359045344a7940cf81462d334f5d2979",
       "version_major": 2,
       "version_minor": 0
      },
      "text/plain": [
       "Validation: |          | 0/? [00:00<?, ?it/s]"
      ]
     },
     "metadata": {},
     "output_type": "display_data"
    },
    {
     "data": {
      "application/vnd.jupyter.widget-view+json": {
       "model_id": "9a52a1e7212f4b629b1bfa08428e1b07",
       "version_major": 2,
       "version_minor": 0
      },
      "text/plain": [
       "Validation: |          | 0/? [00:00<?, ?it/s]"
      ]
     },
     "metadata": {},
     "output_type": "display_data"
    },
    {
     "data": {
      "application/vnd.jupyter.widget-view+json": {
       "model_id": "936978572b9842e7acebb458d070ded4",
       "version_major": 2,
       "version_minor": 0
      },
      "text/plain": [
       "Validation: |          | 0/? [00:00<?, ?it/s]"
      ]
     },
     "metadata": {},
     "output_type": "display_data"
    },
    {
     "data": {
      "application/vnd.jupyter.widget-view+json": {
       "model_id": "33235e8197c44633b5666554ae50ac71",
       "version_major": 2,
       "version_minor": 0
      },
      "text/plain": [
       "Validation: |          | 0/? [00:00<?, ?it/s]"
      ]
     },
     "metadata": {},
     "output_type": "display_data"
    },
    {
     "name": "stderr",
     "output_type": "stream",
     "text": [
      "INFO: `Trainer.fit` stopped: `max_steps=1500.0` reached.\n",
      "INFO:lightning.pytorch.utilities.rank_zero:`Trainer.fit` stopped: `max_steps=1500.0` reached.\n",
      "[I 2025-03-15 21:14:16,920] Trial 3 finished with value: 0.32108786702156067 and parameters: {'n_pool_kernel_size': [2, 2, 2], 'n_freq_downsample': [60, 8, 1], 'learning_rate': 0.005116017039970811, 'scaler_type': 'robust', 'max_steps': 1500.0, 'batch_size': 256, 'windows_batch_size': 256, 'random_seed': 18, 'input_size': 96, 'step_size': 1}. Best is trial 1 with value: 0.3070538341999054.\n",
      "/home/usr/miniconda3/envs/cal/lib/python3.12/site-packages/optuna/distributions.py:515: UserWarning: Choices for a categorical distribution should be a tuple of None, bool, int, float and str for persistent storage but contains [2, 2, 1] which is of type list.\n",
      "  warnings.warn(message)\n",
      "/home/usr/miniconda3/envs/cal/lib/python3.12/site-packages/optuna/distributions.py:515: UserWarning: Choices for a categorical distribution should be a tuple of None, bool, int, float and str for persistent storage but contains [1, 1, 1] which is of type list.\n",
      "  warnings.warn(message)\n",
      "/home/usr/miniconda3/envs/cal/lib/python3.12/site-packages/optuna/distributions.py:515: UserWarning: Choices for a categorical distribution should be a tuple of None, bool, int, float and str for persistent storage but contains [2, 2, 2] which is of type list.\n",
      "  warnings.warn(message)\n",
      "/home/usr/miniconda3/envs/cal/lib/python3.12/site-packages/optuna/distributions.py:515: UserWarning: Choices for a categorical distribution should be a tuple of None, bool, int, float and str for persistent storage but contains [4, 4, 4] which is of type list.\n",
      "  warnings.warn(message)\n",
      "/home/usr/miniconda3/envs/cal/lib/python3.12/site-packages/optuna/distributions.py:515: UserWarning: Choices for a categorical distribution should be a tuple of None, bool, int, float and str for persistent storage but contains [8, 4, 1] which is of type list.\n",
      "  warnings.warn(message)\n",
      "/home/usr/miniconda3/envs/cal/lib/python3.12/site-packages/optuna/distributions.py:515: UserWarning: Choices for a categorical distribution should be a tuple of None, bool, int, float and str for persistent storage but contains [16, 8, 1] which is of type list.\n",
      "  warnings.warn(message)\n",
      "/home/usr/miniconda3/envs/cal/lib/python3.12/site-packages/optuna/distributions.py:515: UserWarning: Choices for a categorical distribution should be a tuple of None, bool, int, float and str for persistent storage but contains [168, 24, 1] which is of type list.\n",
      "  warnings.warn(message)\n",
      "/home/usr/miniconda3/envs/cal/lib/python3.12/site-packages/optuna/distributions.py:515: UserWarning: Choices for a categorical distribution should be a tuple of None, bool, int, float and str for persistent storage but contains [24, 12, 1] which is of type list.\n",
      "  warnings.warn(message)\n",
      "/home/usr/miniconda3/envs/cal/lib/python3.12/site-packages/optuna/distributions.py:515: UserWarning: Choices for a categorical distribution should be a tuple of None, bool, int, float and str for persistent storage but contains [180, 60, 1] which is of type list.\n",
      "  warnings.warn(message)\n",
      "/home/usr/miniconda3/envs/cal/lib/python3.12/site-packages/optuna/distributions.py:515: UserWarning: Choices for a categorical distribution should be a tuple of None, bool, int, float and str for persistent storage but contains [60, 8, 1] which is of type list.\n",
      "  warnings.warn(message)\n",
      "/home/usr/miniconda3/envs/cal/lib/python3.12/site-packages/optuna/distributions.py:515: UserWarning: Choices for a categorical distribution should be a tuple of None, bool, int, float and str for persistent storage but contains [40, 20, 1] which is of type list.\n",
      "  warnings.warn(message)\n",
      "/home/usr/miniconda3/envs/cal/lib/python3.12/site-packages/neuralforecast/common/_base_auto.py:295: FutureWarning: suggest_loguniform has been deprecated in v3.0.0. This feature will be removed in v6.0.0. See https://github.com/optuna/optuna/releases/tag/v3.0.0. Use suggest_float(..., log=True) instead.\n",
      "  v = trial.suggest_loguniform(k, v.lower, v.upper)\n",
      "INFO:lightning_fabric.utilities.seed:Seed set to 6\n",
      "INFO: GPU available: True (cuda), used: True\n",
      "INFO:lightning.pytorch.utilities.rank_zero:GPU available: True (cuda), used: True\n",
      "INFO: TPU available: False, using: 0 TPU cores\n",
      "INFO:lightning.pytorch.utilities.rank_zero:TPU available: False, using: 0 TPU cores\n",
      "INFO: HPU available: False, using: 0 HPUs\n",
      "INFO:lightning.pytorch.utilities.rank_zero:HPU available: False, using: 0 HPUs\n",
      "INFO:pytorch_lightning.accelerators.cuda:LOCAL_RANK: 0 - CUDA_VISIBLE_DEVICES: [0]\n",
      "INFO:pytorch_lightning.callbacks.model_summary:\n",
      "  | Name         | Type          | Params | Mode \n",
      "-------------------------------------------------------\n",
      "0 | loss         | MQLoss        | 5      | train\n",
      "1 | padder_train | ConstantPad1d | 0      | train\n",
      "2 | scaler       | TemporalNorm  | 0      | train\n",
      "3 | blocks       | ModuleList    | 3.5 M  | train\n",
      "-------------------------------------------------------\n",
      "3.5 M     Trainable params\n",
      "5         Non-trainable params\n",
      "3.5 M     Total params\n",
      "13.913    Total estimated model params size (MB)\n",
      "34        Modules in train mode\n",
      "0         Modules in eval mode\n"
     ]
    },
    {
     "data": {
      "application/vnd.jupyter.widget-view+json": {
       "model_id": "3759f50ebe09489183cc7fc4445c7be8",
       "version_major": 2,
       "version_minor": 0
      },
      "text/plain": [
       "Sanity Checking: |          | 0/? [00:00<?, ?it/s]"
      ]
     },
     "metadata": {},
     "output_type": "display_data"
    },
    {
     "data": {
      "application/vnd.jupyter.widget-view+json": {
       "model_id": "bf62ff19fedc49ffa5a4b6b30f83f029",
       "version_major": 2,
       "version_minor": 0
      },
      "text/plain": [
       "Training: |          | 0/? [00:00<?, ?it/s]"
      ]
     },
     "metadata": {},
     "output_type": "display_data"
    },
    {
     "data": {
      "application/vnd.jupyter.widget-view+json": {
       "model_id": "9e34ea71da134aeabd1ac76da0e3351e",
       "version_major": 2,
       "version_minor": 0
      },
      "text/plain": [
       "Validation: |          | 0/? [00:00<?, ?it/s]"
      ]
     },
     "metadata": {},
     "output_type": "display_data"
    },
    {
     "data": {
      "application/vnd.jupyter.widget-view+json": {
       "model_id": "3a113f2459f943d29aa7e41aa9505074",
       "version_major": 2,
       "version_minor": 0
      },
      "text/plain": [
       "Validation: |          | 0/? [00:00<?, ?it/s]"
      ]
     },
     "metadata": {},
     "output_type": "display_data"
    },
    {
     "data": {
      "application/vnd.jupyter.widget-view+json": {
       "model_id": "0736878df618415e9e67c3bf18f4d6c4",
       "version_major": 2,
       "version_minor": 0
      },
      "text/plain": [
       "Validation: |          | 0/? [00:00<?, ?it/s]"
      ]
     },
     "metadata": {},
     "output_type": "display_data"
    },
    {
     "data": {
      "application/vnd.jupyter.widget-view+json": {
       "model_id": "73b677db367e448fbdcbd3ca35dbc4a8",
       "version_major": 2,
       "version_minor": 0
      },
      "text/plain": [
       "Validation: |          | 0/? [00:00<?, ?it/s]"
      ]
     },
     "metadata": {},
     "output_type": "display_data"
    },
    {
     "data": {
      "application/vnd.jupyter.widget-view+json": {
       "model_id": "748bdca6d4b942c9ac6dc996ce78d667",
       "version_major": 2,
       "version_minor": 0
      },
      "text/plain": [
       "Validation: |          | 0/? [00:00<?, ?it/s]"
      ]
     },
     "metadata": {},
     "output_type": "display_data"
    },
    {
     "data": {
      "application/vnd.jupyter.widget-view+json": {
       "model_id": "1167fe90f11e46269ea32d69faac36e3",
       "version_major": 2,
       "version_minor": 0
      },
      "text/plain": [
       "Validation: |          | 0/? [00:00<?, ?it/s]"
      ]
     },
     "metadata": {},
     "output_type": "display_data"
    },
    {
     "data": {
      "application/vnd.jupyter.widget-view+json": {
       "model_id": "6f1e509739e34e3db6954a38064afb14",
       "version_major": 2,
       "version_minor": 0
      },
      "text/plain": [
       "Validation: |          | 0/? [00:00<?, ?it/s]"
      ]
     },
     "metadata": {},
     "output_type": "display_data"
    },
    {
     "name": "stderr",
     "output_type": "stream",
     "text": [
      "INFO: `Trainer.fit` stopped: `max_steps=700.0` reached.\n",
      "INFO:lightning.pytorch.utilities.rank_zero:`Trainer.fit` stopped: `max_steps=700.0` reached.\n",
      "[I 2025-03-15 21:14:30,190] Trial 4 finished with value: 1.3316575288772583 and parameters: {'n_pool_kernel_size': [8, 4, 1], 'n_freq_downsample': [180, 60, 1], 'learning_rate': 0.03975103095670081, 'scaler_type': 'standard', 'max_steps': 700.0, 'batch_size': 32, 'windows_batch_size': 512, 'random_seed': 6, 'input_size': 384, 'step_size': 96}. Best is trial 1 with value: 0.3070538341999054.\n",
      "INFO:lightning_fabric.utilities.seed:Seed set to 20\n",
      "INFO: GPU available: True (cuda), used: True\n",
      "INFO:lightning.pytorch.utilities.rank_zero:GPU available: True (cuda), used: True\n",
      "INFO: TPU available: False, using: 0 TPU cores\n",
      "INFO:lightning.pytorch.utilities.rank_zero:TPU available: False, using: 0 TPU cores\n",
      "INFO: HPU available: False, using: 0 HPUs\n",
      "INFO:lightning.pytorch.utilities.rank_zero:HPU available: False, using: 0 HPUs\n",
      "INFO:pytorch_lightning.accelerators.cuda:LOCAL_RANK: 0 - CUDA_VISIBLE_DEVICES: [0]\n",
      "INFO:pytorch_lightning.callbacks.model_summary:\n",
      "  | Name         | Type          | Params | Mode \n",
      "-------------------------------------------------------\n",
      "0 | loss         | MQLoss        | 5      | train\n",
      "1 | padder_train | ConstantPad1d | 0      | train\n",
      "2 | scaler       | TemporalNorm  | 0      | train\n",
      "3 | blocks       | ModuleList    | 3.3 M  | train\n",
      "-------------------------------------------------------\n",
      "3.3 M     Trainable params\n",
      "5         Non-trainable params\n",
      "3.3 M     Total params\n",
      "13.154    Total estimated model params size (MB)\n",
      "34        Modules in train mode\n",
      "0         Modules in eval mode\n"
     ]
    },
    {
     "data": {
      "application/vnd.jupyter.widget-view+json": {
       "model_id": "5aca14d3123947d89b9dcb0188d92e23",
       "version_major": 2,
       "version_minor": 0
      },
      "text/plain": [
       "Sanity Checking: |          | 0/? [00:00<?, ?it/s]"
      ]
     },
     "metadata": {},
     "output_type": "display_data"
    },
    {
     "data": {
      "application/vnd.jupyter.widget-view+json": {
       "model_id": "844d18d21dc94e098f66c39f7e3e79c5",
       "version_major": 2,
       "version_minor": 0
      },
      "text/plain": [
       "Training: |          | 0/? [00:00<?, ?it/s]"
      ]
     },
     "metadata": {},
     "output_type": "display_data"
    },
    {
     "data": {
      "application/vnd.jupyter.widget-view+json": {
       "model_id": "60208fef582148c3acd6070e69375112",
       "version_major": 2,
       "version_minor": 0
      },
      "text/plain": [
       "Validation: |          | 0/? [00:00<?, ?it/s]"
      ]
     },
     "metadata": {},
     "output_type": "display_data"
    },
    {
     "data": {
      "application/vnd.jupyter.widget-view+json": {
       "model_id": "f61fd6d544bc49069d26cf31aa8f470d",
       "version_major": 2,
       "version_minor": 0
      },
      "text/plain": [
       "Validation: |          | 0/? [00:00<?, ?it/s]"
      ]
     },
     "metadata": {},
     "output_type": "display_data"
    },
    {
     "data": {
      "application/vnd.jupyter.widget-view+json": {
       "model_id": "1fbb87c69c56477594c83c86475a3af4",
       "version_major": 2,
       "version_minor": 0
      },
      "text/plain": [
       "Validation: |          | 0/? [00:00<?, ?it/s]"
      ]
     },
     "metadata": {},
     "output_type": "display_data"
    },
    {
     "data": {
      "application/vnd.jupyter.widget-view+json": {
       "model_id": "8f722aca081a4a7895b937643fcc9f4e",
       "version_major": 2,
       "version_minor": 0
      },
      "text/plain": [
       "Validation: |          | 0/? [00:00<?, ?it/s]"
      ]
     },
     "metadata": {},
     "output_type": "display_data"
    },
    {
     "data": {
      "application/vnd.jupyter.widget-view+json": {
       "model_id": "219799839edf4115a51a87c70d992b18",
       "version_major": 2,
       "version_minor": 0
      },
      "text/plain": [
       "Validation: |          | 0/? [00:00<?, ?it/s]"
      ]
     },
     "metadata": {},
     "output_type": "display_data"
    },
    {
     "name": "stderr",
     "output_type": "stream",
     "text": [
      "INFO: `Trainer.fit` stopped: `max_steps=500.0` reached.\n",
      "INFO:lightning.pytorch.utilities.rank_zero:`Trainer.fit` stopped: `max_steps=500.0` reached.\n",
      "INFO: GPU available: True (cuda), used: True\n",
      "INFO:lightning.pytorch.utilities.rank_zero:GPU available: True (cuda), used: True\n",
      "INFO: TPU available: False, using: 0 TPU cores\n",
      "INFO:lightning.pytorch.utilities.rank_zero:TPU available: False, using: 0 TPU cores\n",
      "INFO: HPU available: False, using: 0 HPUs\n",
      "INFO:lightning.pytorch.utilities.rank_zero:HPU available: False, using: 0 HPUs\n",
      "INFO:pytorch_lightning.accelerators.cuda:LOCAL_RANK: 0 - CUDA_VISIBLE_DEVICES: [0]\n"
     ]
    },
    {
     "data": {
      "application/vnd.jupyter.widget-view+json": {
       "model_id": "8f92cb3a0beb41b685c33565dbb785eb",
       "version_major": 2,
       "version_minor": 0
      },
      "text/plain": [
       "Predicting: |          | 0/? [00:00<?, ?it/s]"
      ]
     },
     "metadata": {},
     "output_type": "display_data"
    }
   ],
   "source": [
    "nf = NeuralForecast(models=models, freq='15min')\n",
    "\n",
    "Y_hat_df = nf.cross_validation(df=Y_df, val_size=val_size,\n",
    "                               test_size=test_size, n_windows=None)"
   ]
  },
  {
   "cell_type": "code",
   "execution_count": null,
   "metadata": {},
   "outputs": [
    {
     "name": "stdout",
     "output_type": "stream",
     "text": [
      "Best trial: 1\n",
      "Value (objective function): 0.3070538341999054\n",
      "Parameters: {'n_pool_kernel_size': [8, 4, 1], 'n_freq_downsample': [24, 12, 1], 'learning_rate': 0.002250848801042586, 'scaler_type': 'standard', 'max_steps': 500.0, 'batch_size': 256, 'windows_batch_size': 512, 'random_seed': 20, 'input_size': 288, 'step_size': 1}\n"
     ]
    }
   ],
   "source": [
    "best_trial = nf.models[0].results.best_trial\n",
    "print(f\"Best trial: {best_trial.number}\")\n",
    "print(f\"Value (objective function): {best_trial.value}\")\n",
    "print(f\"Parameters: {best_trial.params}\")"
   ]
  },
  {
   "cell_type": "code",
   "execution_count": null,
   "metadata": {},
   "outputs": [
    {
     "data": {
      "text/html": [
       "<div>\n",
       "<style scoped>\n",
       "    .dataframe tbody tr th:only-of-type {\n",
       "        vertical-align: middle;\n",
       "    }\n",
       "\n",
       "    .dataframe tbody tr th {\n",
       "        vertical-align: top;\n",
       "    }\n",
       "\n",
       "    .dataframe thead th {\n",
       "        text-align: right;\n",
       "    }\n",
       "</style>\n",
       "<table border=\"1\" class=\"dataframe\">\n",
       "  <thead>\n",
       "    <tr style=\"text-align: right;\">\n",
       "      <th></th>\n",
       "      <th>unique_id</th>\n",
       "      <th>ds</th>\n",
       "      <th>cutoff</th>\n",
       "      <th>AutoNHITS</th>\n",
       "      <th>AutoNHITS-lo-90</th>\n",
       "      <th>AutoNHITS-lo-80</th>\n",
       "      <th>AutoNHITS-hi-80</th>\n",
       "      <th>AutoNHITS-hi-90</th>\n",
       "      <th>y</th>\n",
       "    </tr>\n",
       "  </thead>\n",
       "  <tbody>\n",
       "    <tr>\n",
       "      <th>0</th>\n",
       "      <td>HUFL</td>\n",
       "      <td>2017-10-24 00:00:00</td>\n",
       "      <td>2017-10-23 23:45:00</td>\n",
       "      <td>-0.892039</td>\n",
       "      <td>-1.496915</td>\n",
       "      <td>-1.311454</td>\n",
       "      <td>-0.723876</td>\n",
       "      <td>-0.707849</td>\n",
       "      <td>-0.977673</td>\n",
       "    </tr>\n",
       "    <tr>\n",
       "      <th>1</th>\n",
       "      <td>HUFL</td>\n",
       "      <td>2017-10-24 00:15:00</td>\n",
       "      <td>2017-10-23 23:45:00</td>\n",
       "      <td>-0.919822</td>\n",
       "      <td>-1.596120</td>\n",
       "      <td>-1.390101</td>\n",
       "      <td>-0.747050</td>\n",
       "      <td>-0.727429</td>\n",
       "      <td>-0.865620</td>\n",
       "    </tr>\n",
       "    <tr>\n",
       "      <th>2</th>\n",
       "      <td>HUFL</td>\n",
       "      <td>2017-10-24 00:30:00</td>\n",
       "      <td>2017-10-23 23:45:00</td>\n",
       "      <td>-0.966974</td>\n",
       "      <td>-1.654759</td>\n",
       "      <td>-1.460952</td>\n",
       "      <td>-0.775025</td>\n",
       "      <td>-0.757620</td>\n",
       "      <td>-0.961624</td>\n",
       "    </tr>\n",
       "    <tr>\n",
       "      <th>3</th>\n",
       "      <td>HUFL</td>\n",
       "      <td>2017-10-24 00:45:00</td>\n",
       "      <td>2017-10-23 23:45:00</td>\n",
       "      <td>-1.002369</td>\n",
       "      <td>-1.713879</td>\n",
       "      <td>-1.519523</td>\n",
       "      <td>-0.817195</td>\n",
       "      <td>-0.797066</td>\n",
       "      <td>-1.049700</td>\n",
       "    </tr>\n",
       "    <tr>\n",
       "      <th>4</th>\n",
       "      <td>HUFL</td>\n",
       "      <td>2017-10-24 01:00:00</td>\n",
       "      <td>2017-10-23 23:45:00</td>\n",
       "      <td>-1.057971</td>\n",
       "      <td>-1.756422</td>\n",
       "      <td>-1.558585</td>\n",
       "      <td>-0.833810</td>\n",
       "      <td>-0.825810</td>\n",
       "      <td>-0.953600</td>\n",
       "    </tr>\n",
       "    <tr>\n",
       "      <th>...</th>\n",
       "      <td>...</td>\n",
       "      <td>...</td>\n",
       "      <td>...</td>\n",
       "      <td>...</td>\n",
       "      <td>...</td>\n",
       "      <td>...</td>\n",
       "      <td>...</td>\n",
       "      <td>...</td>\n",
       "      <td>...</td>\n",
       "    </tr>\n",
       "    <tr>\n",
       "      <th>7677595</th>\n",
       "      <td>OT</td>\n",
       "      <td>2018-02-20 22:45:00</td>\n",
       "      <td>2018-02-19 23:45:00</td>\n",
       "      <td>-1.178565</td>\n",
       "      <td>-1.484330</td>\n",
       "      <td>-1.395332</td>\n",
       "      <td>-0.893058</td>\n",
       "      <td>-0.835704</td>\n",
       "      <td>-1.581325</td>\n",
       "    </tr>\n",
       "    <tr>\n",
       "      <th>7677596</th>\n",
       "      <td>OT</td>\n",
       "      <td>2018-02-20 23:00:00</td>\n",
       "      <td>2018-02-19 23:45:00</td>\n",
       "      <td>-1.182840</td>\n",
       "      <td>-1.492266</td>\n",
       "      <td>-1.400619</td>\n",
       "      <td>-0.896110</td>\n",
       "      <td>-0.836810</td>\n",
       "      <td>-1.581325</td>\n",
       "    </tr>\n",
       "    <tr>\n",
       "      <th>7677597</th>\n",
       "      <td>OT</td>\n",
       "      <td>2018-02-20 23:15:00</td>\n",
       "      <td>2018-02-19 23:45:00</td>\n",
       "      <td>-1.188599</td>\n",
       "      <td>-1.493214</td>\n",
       "      <td>-1.398669</td>\n",
       "      <td>-0.902427</td>\n",
       "      <td>-0.841857</td>\n",
       "      <td>-1.581325</td>\n",
       "    </tr>\n",
       "    <tr>\n",
       "      <th>7677598</th>\n",
       "      <td>OT</td>\n",
       "      <td>2018-02-20 23:30:00</td>\n",
       "      <td>2018-02-19 23:45:00</td>\n",
       "      <td>-1.189552</td>\n",
       "      <td>-1.495806</td>\n",
       "      <td>-1.402574</td>\n",
       "      <td>-0.909007</td>\n",
       "      <td>-0.844272</td>\n",
       "      <td>-1.562328</td>\n",
       "    </tr>\n",
       "    <tr>\n",
       "      <th>7677599</th>\n",
       "      <td>OT</td>\n",
       "      <td>2018-02-20 23:45:00</td>\n",
       "      <td>2018-02-19 23:45:00</td>\n",
       "      <td>-1.189987</td>\n",
       "      <td>-1.498818</td>\n",
       "      <td>-1.406083</td>\n",
       "      <td>-0.908627</td>\n",
       "      <td>-0.846754</td>\n",
       "      <td>-1.562328</td>\n",
       "    </tr>\n",
       "  </tbody>\n",
       "</table>\n",
       "<p>7677600 rows × 9 columns</p>\n",
       "</div>"
      ],
      "text/plain": [
       "        unique_id                  ds              cutoff  AutoNHITS  \\\n",
       "0            HUFL 2017-10-24 00:00:00 2017-10-23 23:45:00  -0.892039   \n",
       "1            HUFL 2017-10-24 00:15:00 2017-10-23 23:45:00  -0.919822   \n",
       "2            HUFL 2017-10-24 00:30:00 2017-10-23 23:45:00  -0.966974   \n",
       "3            HUFL 2017-10-24 00:45:00 2017-10-23 23:45:00  -1.002369   \n",
       "4            HUFL 2017-10-24 01:00:00 2017-10-23 23:45:00  -1.057971   \n",
       "...           ...                 ...                 ...        ...   \n",
       "7677595        OT 2018-02-20 22:45:00 2018-02-19 23:45:00  -1.178565   \n",
       "7677596        OT 2018-02-20 23:00:00 2018-02-19 23:45:00  -1.182840   \n",
       "7677597        OT 2018-02-20 23:15:00 2018-02-19 23:45:00  -1.188599   \n",
       "7677598        OT 2018-02-20 23:30:00 2018-02-19 23:45:00  -1.189552   \n",
       "7677599        OT 2018-02-20 23:45:00 2018-02-19 23:45:00  -1.189987   \n",
       "\n",
       "         AutoNHITS-lo-90  AutoNHITS-lo-80  AutoNHITS-hi-80  AutoNHITS-hi-90  \\\n",
       "0              -1.496915        -1.311454        -0.723876        -0.707849   \n",
       "1              -1.596120        -1.390101        -0.747050        -0.727429   \n",
       "2              -1.654759        -1.460952        -0.775025        -0.757620   \n",
       "3              -1.713879        -1.519523        -0.817195        -0.797066   \n",
       "4              -1.756422        -1.558585        -0.833810        -0.825810   \n",
       "...                  ...              ...              ...              ...   \n",
       "7677595        -1.484330        -1.395332        -0.893058        -0.835704   \n",
       "7677596        -1.492266        -1.400619        -0.896110        -0.836810   \n",
       "7677597        -1.493214        -1.398669        -0.902427        -0.841857   \n",
       "7677598        -1.495806        -1.402574        -0.909007        -0.844272   \n",
       "7677599        -1.498818        -1.406083        -0.908627        -0.846754   \n",
       "\n",
       "                y  \n",
       "0       -0.977673  \n",
       "1       -0.865620  \n",
       "2       -0.961624  \n",
       "3       -1.049700  \n",
       "4       -0.953600  \n",
       "...           ...  \n",
       "7677595 -1.581325  \n",
       "7677596 -1.581325  \n",
       "7677597 -1.581325  \n",
       "7677598 -1.562328  \n",
       "7677599 -1.562328  \n",
       "\n",
       "[7677600 rows x 9 columns]"
      ]
     },
     "execution_count": null,
     "metadata": {},
     "output_type": "execute_result"
    }
   ],
   "source": [
    "Y_hat_df.columns = Y_hat_df.columns.str.replace('-median', '')\n",
    "Y_hat_df"
   ]
  },
  {
   "cell_type": "code",
   "execution_count": null,
   "metadata": {},
   "outputs": [
    {
     "name": "stdout",
     "output_type": "stream",
     "text": [
      "Parsed results\n",
      "2. y_true.shape (n_series, n_windows, n_time_out):\t (7, 11425, 96)\n",
      "2. y_hat.shape  (n_series, n_windows, n_time_out):\t (7, 11425, 96)\n"
     ]
    }
   ],
   "source": [
    "y_true = Y_hat_df.y.values\n",
    "y_hat = Y_hat_df['AutoNHITS'].values\n",
    "\n",
    "n_series = len(Y_df.unique_id.unique())\n",
    "\n",
    "y_true = y_true.reshape(n_series, -1, horizon)\n",
    "y_hat = y_hat.reshape(n_series, -1, horizon)\n",
    "\n",
    "print('Parsed results')\n",
    "print('2. y_true.shape (n_series, n_windows, n_time_out):\\t', y_true.shape)\n",
    "print('2. y_hat.shape  (n_series, n_windows, n_time_out):\\t', y_hat.shape)"
   ]
  },
  {
   "cell_type": "code",
   "execution_count": null,
   "metadata": {},
   "outputs": [
    {
     "data": {
      "image/png": "[encoded data removed]",
      "text/plain": [
       "<Figure size 1000x1100 with 3 Axes>"
      ]
     },
     "metadata": {},
     "output_type": "display_data"
    }
   ],
   "source": [
    "fig, axs = plt.subplots(nrows=3, ncols=1, figsize=(10, 11))\n",
    "fig.tight_layout()\n",
    "\n",
    "series = ['HUFL','HULL','LUFL','LULL','MUFL','MULL','OT']\n",
    "series_idx = 3\n",
    "\n",
    "for idx, w_idx in enumerate([200, 300, 400]):\n",
    "  axs[idx].plot(y_true[series_idx, w_idx,:],label='True')\n",
    "  axs[idx].plot(y_hat[series_idx, w_idx,:],label='Forecast')\n",
    "  axs[idx].grid()\n",
    "  axs[idx].set_ylabel(series[series_idx]+f' window {w_idx}', \n",
    "                      fontsize=17)\n",
    "  if idx==2:\n",
    "    axs[idx].set_xlabel('Forecast Horizon', fontsize=17)\n",
    "plt.legend()\n",
    "plt.show()\n",
    "plt.close()"
   ]
  },
  {
   "cell_type": "code",
   "execution_count": null,
   "metadata": {},
   "outputs": [
    {
     "name": "stdout",
     "output_type": "stream",
     "text": [
      "MAE:  0.2509128204102632\n",
      "MSE:  0.17162087611033974\n"
     ]
    }
   ],
   "source": [
    "from neuralforecast.losses.numpy import mae, mse\n",
    "\n",
    "print('MAE: ', mae(y_hat, y_true))\n",
    "print('MSE: ', mse(y_hat, y_true))"
   ]
  },
  {
   "cell_type": "code",
   "execution_count": null,
   "metadata": {},
   "outputs": [],
   "source": []
  }
 ],
 "metadata": {
  "kernelspec": {
   "display_name": "python3",
   "language": "python",
   "name": "python3"
  }
 },
 "nbformat": 4,
 "nbformat_minor": 2
}

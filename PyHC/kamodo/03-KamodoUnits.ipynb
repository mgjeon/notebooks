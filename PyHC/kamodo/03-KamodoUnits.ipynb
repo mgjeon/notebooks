{
 "cells": [
  {
   "cell_type": "markdown",
   "id": "027fd399-caad-4135-94c6-1c342b9176f8",
   "metadata": {},
   "source": [
    "## Kamodo Units\n",
    "\n",
    "In Kamodo, **units are strictly associated with a function's metadata**. Units are not attached to a type (as in astropy, pint, etc). \n",
    "\n",
    "- https://github.com/heliophysicsPy/summer-school-24/blob/main/kamodo-tutorial/03-KamodoUnits.ipynb"
   ]
  },
  {
   "cell_type": "markdown",
   "id": "b4adb64c-7500-40b8-8bb8-95768e4c47c3",
   "metadata": {},
   "source": [
    "### Unit Registration\n",
    "\n",
    "Kamodo identifies units at registration time via bracket notation."
   ]
  },
  {
   "cell_type": "code",
   "execution_count": null,
   "id": "d705648f-385b-4324-a425-85f51583529b",
   "metadata": {},
   "outputs": [],
   "source": [
    "from kamodo import Kamodo"
   ]
  },
  {
   "cell_type": "code",
   "execution_count": null,
   "id": "e4c10b4f-54b5-446c-9ddd-17ae46a25336",
   "metadata": {},
   "outputs": [
    {
     "data": {
      "text/latex": [
       "\\begin{equation}f(x[cm])[\\frac{kg}{m^{3}}] = x^{2} - x - 1\\end{equation}"
      ],
      "text/plain": [
       "{f(x): <function _lambdifygenerated>, f: <function _lambdifygenerated>}"
      ]
     },
     "execution_count": null,
     "metadata": {},
     "output_type": "execute_result"
    }
   ],
   "source": [
    "k = Kamodo('f(x[cm])[kg/m^3]=x^2-x-1')\n",
    "k"
   ]
  },
  {
   "cell_type": "markdown",
   "id": "986ad4b7-7550-4888-bdbf-d0c3559e17ef",
   "metadata": {},
   "source": [
    "Another way to read the above:\n",
    "\n",
    "> **When $x$ is given in $cm$, I promise to return results $kg/m^3$**\n",
    ">\n",
    "> --  sincerely, $f(x)$"
   ]
  },
  {
   "cell_type": "markdown",
   "id": "2137bb29-e013-473c-84b6-0fb89f9789c4",
   "metadata": {},
   "source": [
    "We can easily identify the units of `f` on the left-hand-side of the registered function. We can also access this information through `f`'s `meta` attribute."
   ]
  },
  {
   "cell_type": "code",
   "execution_count": null,
   "id": "87910983-d0f0-4be7-8008-dc2894aa77f6",
   "metadata": {},
   "outputs": [
    {
     "data": {
      "text/plain": [
       "{'units': 'kg/m**3', 'arg_units': {'x': 'cm'}}"
      ]
     },
     "execution_count": null,
     "metadata": {},
     "output_type": "execute_result"
    }
   ],
   "source": [
    "k.f.meta"
   ]
  },
  {
   "cell_type": "markdown",
   "id": "2a40b911-f44b-4197-8933-740706a600fc",
   "metadata": {},
   "source": [
    "This information also appears in the `detail` method of the kamodo object:"
   ]
  },
  {
   "cell_type": "code",
   "execution_count": null,
   "id": "9f8ee7e5-0658-4705-80ab-be7a08bd6d22",
   "metadata": {},
   "outputs": [
    {
     "data": {
      "text/html": [
       "<div>\n",
       "<style scoped>\n",
       "    .dataframe tbody tr th:only-of-type {\n",
       "        vertical-align: middle;\n",
       "    }\n",
       "\n",
       "    .dataframe tbody tr th {\n",
       "        vertical-align: top;\n",
       "    }\n",
       "\n",
       "    .dataframe thead th {\n",
       "        text-align: right;\n",
       "    }\n",
       "</style>\n",
       "<table border=\"1\" class=\"dataframe\">\n",
       "  <thead>\n",
       "    <tr style=\"text-align: right;\">\n",
       "      <th></th>\n",
       "      <th>arg_units</th>\n",
       "      <th>lhs</th>\n",
       "      <th>rhs</th>\n",
       "      <th>symbol</th>\n",
       "      <th>units</th>\n",
       "    </tr>\n",
       "  </thead>\n",
       "  <tbody>\n",
       "    <tr>\n",
       "      <th>f</th>\n",
       "      <td>{'x': 'cm'}</td>\n",
       "      <td>f(x)</td>\n",
       "      <td>x**2 - x - 1</td>\n",
       "      <td>f(x)</td>\n",
       "      <td>kg/m**3</td>\n",
       "    </tr>\n",
       "  </tbody>\n",
       "</table>\n",
       "</div>"
      ],
      "text/plain": [
       "     arg_units   lhs           rhs symbol    units\n",
       "f  {'x': 'cm'}  f(x)  x**2 - x - 1   f(x)  kg/m**3"
      ]
     },
     "execution_count": null,
     "metadata": {},
     "output_type": "execute_result"
    }
   ],
   "source": [
    "k.detail()"
   ]
  },
  {
   "cell_type": "markdown",
   "id": "e09c8b0e-5b8b-4572-bd64-46c7a8c1251e",
   "metadata": {},
   "source": [
    "## Evaluation\n",
    "\n",
    "Since units are just metadata, evaluation is unaffected:"
   ]
  },
  {
   "cell_type": "code",
   "execution_count": null,
   "id": "dcd9b13b-c1ac-4413-a1f1-a4a45efb19b6",
   "metadata": {},
   "outputs": [],
   "source": [
    "assert k.f(3) == 3**2-3-1"
   ]
  },
  {
   "cell_type": "markdown",
   "id": "1bbc59a3-71d6-4a3a-a174-cf2b252bc2b6",
   "metadata": {},
   "source": [
    "The only difference is that we now know the output must be in `kg/m^3` as described by the function's metadata."
   ]
  },
  {
   "cell_type": "markdown",
   "id": "2cb43fbb-d8c3-4c21-9be1-1f3f66f7d833",
   "metadata": {},
   "source": [
    "## Unit conversion\n",
    "\n",
    "Unit conversions are handled through composition.\n",
    "During composition, Kamodo identifies any pre-registered functions and inserts appropriate unit conversion factors into user-defined expressions. "
   ]
  },
  {
   "cell_type": "code",
   "execution_count": null,
   "id": "7c030dae-c25f-4349-a817-a088dbf644a4",
   "metadata": {},
   "outputs": [
    {
     "data": {
      "text/latex": [
       "\\begin{equation}f(x[cm])[\\frac{kg}{m^{3}}] = x^{2} - x - 1\\end{equation} \\begin{equation}g(x[m])[\\frac{g}{cm^{3}}] = \\frac{f{\\left(100 x \\right)}}{1000}\\end{equation}"
      ],
      "text/plain": [
       "{f(x): <function _lambdifygenerated>, f: <function _lambdifygenerated>, g(x): <function _lambdifygenerated>, g: <function _lambdifygenerated>}"
      ]
     },
     "execution_count": null,
     "metadata": {},
     "output_type": "execute_result"
    }
   ],
   "source": [
    "k['g(x[m])[g/cm^3]'] = 'f' # user wants to convert f into their preferred unit system\n",
    "k"
   ]
  },
  {
   "cell_type": "markdown",
   "id": "16a907de-da1e-4f29-bcfa-c2ecdbfb4554",
   "metadata": {},
   "source": [
    "Another way to read the expression for g:\n",
    "\n",
    "> If you give me $x$ in `m`, I promise to return `g/cm^3`. To do this, I will need to multiply $x$ by `100` before calling $f$ (since $f$ requires `cm`). Finally, I'll divide the result by $1000$ to get from $kg/m^3$ to $g/cm^3$.\n",
    ">\n",
    "> --sincerely, g(x)"
   ]
  },
  {
   "cell_type": "markdown",
   "id": "6c61daac-6e16-4276-87ee-56b650b165e3",
   "metadata": {},
   "source": [
    "Since the conversion factors are clearly visible in the generated expressions, unit conversion is explicit. This makes it easy to compare our results with back-of-the-envelope calculations."
   ]
  },
  {
   "cell_type": "markdown",
   "id": "feedd761-0ef4-4010-8f95-9e2b8a784fdc",
   "metadata": {},
   "source": [
    "The above may seem trival, but such automated conversion becomes crucial as expressions involve more scientific resources."
   ]
  },
  {
   "cell_type": "code",
   "execution_count": null,
   "id": "3491b5ea-2151-4d18-a78e-db3a7dd945f6",
   "metadata": {},
   "outputs": [
    {
     "data": {
      "text/latex": [
       "\\begin{equation}f(x[cm])[\\frac{kg}{m^{3}}] = x^{2} - x - 1\\end{equation} \\begin{equation}g(x[m])[\\frac{g}{cm^{3}}] = \\frac{f{\\left(100 x \\right)}}{1000}\\end{equation} \\begin{equation}h(x[km])[\\frac{kg}{cm^{3}}] = \\frac{\\sqrt{f^{2}{\\left(1000 x \\right)} + g^{2}{\\left(1000 x \\right)}}}{1000}\\end{equation}"
      ],
      "text/plain": [
       "{f(x): <function _lambdifygenerated>, f: <function _lambdifygenerated>, g(x): <function _lambdifygenerated>, g: <function _lambdifygenerated>, h(x): <function _lambdifygenerated>, h: <function _lambdifygenerated>}"
      ]
     },
     "execution_count": null,
     "metadata": {},
     "output_type": "execute_result"
    }
   ],
   "source": [
    "k['h(x[km])[kg/cm^3]'] = 'sqrt(f^2 + g^2)'\n",
    "k"
   ]
  },
  {
   "cell_type": "markdown",
   "id": "7e1b7240-4729-4bd0-b8b5-ab778aea8288",
   "metadata": {},
   "source": [
    "Kamodo raises a `NameError` if a particular target unit is incompatible with a given expression."
   ]
  },
  {
   "cell_type": "code",
   "execution_count": null,
   "id": "2649bae8-11a6-4833-857f-17b286761fae",
   "metadata": {},
   "outputs": [
    {
     "name": "stdout",
     "output_type": "stream",
     "text": [
      "cannot convert from centimeter to kilogram\n"
     ]
    }
   ],
   "source": [
    "try:\n",
    "    k['f_2(x[kg])[g/m^3]'] = 'f'\n",
    "except NameError as m:\n",
    "    print(m)"
   ]
  },
  {
   "cell_type": "markdown",
   "id": "ce6ce134-c4c0-4d52-a9d4-84adb64314a7",
   "metadata": {},
   "source": [
    "In this case, Kamodo prevents the user from registering $f_2(x)$ with $x$ in $[kg]$ because $f(x)$ requires $x$ to be in $[cm]$."
   ]
  },
  {
   "cell_type": "markdown",
   "id": "c8c622f9-99ac-4eb3-bfe8-b765dad4b7d6",
   "metadata": {},
   "source": [
    "**How this works**"
   ]
  },
  {
   "cell_type": "markdown",
   "id": "17db278e-435e-4b11-8ce4-d793a7bf0b1f",
   "metadata": {},
   "source": [
    "To manage all this book keeping, Kamodo objects contain a unit registry, which is a directed acyclic graph mapping function symbols to [sympy units](https://docs.sympy.org/latest/modules/physics/units/index.html)."
   ]
  },
  {
   "cell_type": "code",
   "execution_count": null,
   "id": "6844f766-178a-472b-9208-3813cb5eb80e",
   "metadata": {},
   "outputs": [
    {
     "data": {
      "text/plain": [
       "OrderedDict([(f(x), f(centimeter)),\n",
       "             (f(centimeter), kilogram/meter**3),\n",
       "             (g(x), g(meter)),\n",
       "             (g(meter), gram/centimeter**3),\n",
       "             (h(x), h(kilometer)),\n",
       "             (h(kilometer), kilogram/centimeter**3),\n",
       "             (f_2(x), f_2(kilogram)),\n",
       "             (f_2(kilogram), gram/meter**3)])"
      ]
     },
     "execution_count": null,
     "metadata": {},
     "output_type": "execute_result"
    }
   ],
   "source": [
    "k.unit_registry"
   ]
  },
  {
   "cell_type": "markdown",
   "id": "a0a8e7a1-a4c1-42f8-af32-ba2bfa566dbf",
   "metadata": {},
   "source": [
    "When kamodo encounters an expression containing known symbols, those symbols are paired with their corresponding unit, and the final expression is converted into the target units."
   ]
  },
  {
   "cell_type": "markdown",
   "id": "e8f0c9cc-5e96-4a1b-b87c-e12e27a1257c",
   "metadata": {},
   "source": [
    "## Example: gravitational acceleration"
   ]
  },
  {
   "cell_type": "code",
   "execution_count": null,
   "id": "cfa54b59-41d0-447e-8697-c941598b1c12",
   "metadata": {},
   "outputs": [
    {
     "data": {
      "text/latex": [
       "$g(M[kg],r[m])[\\frac{m}{s^{2}}] = \\frac{6.67 \\cdot 10^{-11} M}{r^{2}}$"
      ],
      "text/plain": [
       "<function numexpr._lambdifygenerated(M, r)>"
      ]
     },
     "execution_count": null,
     "metadata": {},
     "output_type": "execute_result"
    }
   ],
   "source": [
    "k = Kamodo('g(M[kg],r[m])[m/s^2]=6.67E-11*M/r^2')\n",
    "k.g"
   ]
  },
  {
   "cell_type": "code",
   "execution_count": null,
   "id": "24358277-3f84-40c6-a1ab-1824c1693e76",
   "metadata": {},
   "outputs": [
    {
     "data": {
      "text/plain": [
       "array(9.81364679)"
      ]
     },
     "execution_count": null,
     "metadata": {},
     "output_type": "execute_result"
    }
   ],
   "source": [
    "k.g(5.972e24, 6371000.) # M_E[kg]=5.972e24, R_E[m]=6371000."
   ]
  },
  {
   "cell_type": "code",
   "execution_count": null,
   "id": "bede906a-c9b5-41ae-aaf9-d93bf440edf7",
   "metadata": {},
   "outputs": [],
   "source": [
    "k['g_2(M[g], r[cm])[cm/s^2]'] = 'g'"
   ]
  },
  {
   "cell_type": "code",
   "execution_count": null,
   "id": "235fb8cb-00ab-4f13-a99e-3544cf33653c",
   "metadata": {},
   "outputs": [
    {
     "data": {
      "text/latex": [
       "\\begin{equation}g(M[kg],r[m])[\\frac{m}{s^{2}}] = \\frac{6.67 \\cdot 10^{-11} M}{r^{2}}\\end{equation} \\begin{equation}\\operatorname{g_{2}}(M[g],r[cm])[\\frac{cm}{s^{2}}] = 100 g{\\left(\\frac{M}{1000},\\frac{r}{100} \\right)}\\end{equation}"
      ],
      "text/plain": [
       "{g(M, r): <function _lambdifygenerated>, g: <function _lambdifygenerated>, g_2(M, r): <function _lambdifygenerated>, g_2: <function _lambdifygenerated>}"
      ]
     },
     "execution_count": null,
     "metadata": {},
     "output_type": "execute_result"
    }
   ],
   "source": [
    "k"
   ]
  },
  {
   "cell_type": "code",
   "execution_count": null,
   "id": "6200dca9-2af7-4e4e-8ae4-c1e955e3f7bf",
   "metadata": {},
   "outputs": [],
   "source": []
  }
 ],
 "metadata": {
  "kernelspec": {
   "display_name": "python3",
   "language": "python",
   "name": "python3"
  }
 },
 "nbformat": 4,
 "nbformat_minor": 5
}

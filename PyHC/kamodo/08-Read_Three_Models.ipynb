{
 "cells": [
  {
   "cell_type": "markdown",
   "id": "9ba3a220",
   "metadata": {},
   "source": [
    "# Demo notebook for Three Model Readers\n",
    "\n",
    "For each model reader, the user is shown how to find the desired variables across model results, how to determine what the correct file input is for the model's reader, and how to run the reader. Note the syntax for each is identical. Any differences in inputs are easily accessible to the user through the methods shown.\n",
    "\n",
    "- https://github.com/heliophysicsPy/summer-school-24/blob/main/kamodo-tutorial/08-Read%203%20Models.ipynb"
   ]
  },
  {
   "cell_type": "markdown",
   "id": "7210bce2",
   "metadata": {},
   "source": [
    "The Coupled Thermosphere Ionosphere Plasmasphere Electrodynamics Model (CTIPe) model consists of four distinct components:\n",
    "\n",
    "-A global thermosphere model; -A high-latitude ionosphere model; -A mid and low-latitude ionosphere/plasmasphere model; -An electrodynamical calculation of the global dynamo electric field.\n",
    "\n",
    "- https://ccmc.gsfc.nasa.gov/models/CTIPe~4.1/\n",
    "\n",
    "\n",
    "- https://ccmc.gsfc.nasa.gov/results/viewrun.php?runnumber=Fernando_Pinheiro_012521_IT_1\n",
    "- https://ccmc.gsfc.nasa.gov/RoR_WWW/output_files/KAMODO_DEMO/CTIPe/Fernando_Pinheiro_012521_IT_1_subset\n",
    "\n",
    "---\n",
    "The NCAR Whole Atmosphere Community Climate Model with thermosphere and ionosphere extension (WACCM-X) is a self-consistent general circulation model. \n",
    "\n",
    "- https://ccmc.gsfc.nasa.gov/models/WACCMX~2.2/\n",
    "\n",
    "- https://ccmc.gsfc.nasa.gov/results/viewrun.php?runnumber=Mapoet_Niphy_041023_IT_2\n",
    "- https://ccmc.gsfc.nasa.gov/RoR_WWW/output_files/KAMODO_DEMO/WACCM-X/Mapoet_Niphy_041023_IT_2\n",
    "\n",
    "---\n",
    "GITM is a 3-dimensional spherical code that models the Earth's thermosphere and ionosphere system using a stretched grid in latitude and altitude. \n",
    "\n",
    "- https://ccmc.gsfc.nasa.gov/models/GITM~21.11/\n",
    "\n",
    "- https://ccmc.gsfc.nasa.gov/results/viewrun.php?runnumber=Olga_Verkhoglyadova_013118_IT_3\n",
    "- https://ccmc.gsfc.nasa.gov/RoR_WWW/output_files/KAMODO_DEMO/GITM/Olga_Verkhoglyadova_013118_IT_3_subset"
   ]
  },
  {
   "cell_type": "code",
   "execution_count": null,
   "id": "63d31512",
   "metadata": {},
   "outputs": [],
   "source": [
    "import requests\n",
    "from bs4 import BeautifulSoup\n",
    "import os\n",
    "from tqdm.notebook import tqdm  # notebook 환경에 맞는 tqdm\n",
    "\n",
    "def download_files_from_directory(base_url, output_dir):\n",
    "    \"\"\"\n",
    "    Downloads all files from a directory URL and displays progress.\n",
    "    Skips already downloaded files.\n",
    "\n",
    "    Args:\n",
    "        base_url (str): The URL of the directory containing the files.\n",
    "        output_dir (str): The local directory to save the files.\n",
    "    \"\"\"\n",
    "    # Create the output directory if it doesn't exist\n",
    "    os.makedirs(output_dir, exist_ok=True)\n",
    "\n",
    "    try:\n",
    "        print(f\"Fetching file list from {base_url}...\")\n",
    "        response = requests.get(base_url)\n",
    "        response.raise_for_status()\n",
    "\n",
    "        # Parse the HTML to extract file links\n",
    "        soup = BeautifulSoup(response.text, \"html.parser\")\n",
    "        links = soup.find_all(\"a\")\n",
    "        file_links = [base_url + link.get(\"href\") for link in links if link.get(\"href\") and not link.get(\"href\").startswith(\"?\")]\n",
    "        print(f\"Found {len(file_links)} files.\")\n",
    "\n",
    "        # Download each file with a progress bar\n",
    "        for file_url in tqdm(file_links, desc=\"Downloading files\", unit=\"file\"):\n",
    "            try:\n",
    "                filename = file_url.split(\"/\")[-1]\n",
    "                filepath = os.path.join(output_dir, filename)\n",
    "\n",
    "                # Skip already downloaded files\n",
    "                if os.path.exists(filepath):\n",
    "                    print(f\"Skipping {filename} (already downloaded).\")\n",
    "                    continue\n",
    "\n",
    "                # Download the file\n",
    "                file_response = requests.get(file_url, stream=True)\n",
    "                file_response.raise_for_status()\n",
    "\n",
    "                # Save the file with progress\n",
    "                total_size = int(file_response.headers.get('content-length', 0))\n",
    "                with open(filepath, \"wb\") as f, tqdm(\n",
    "                    desc=filename,\n",
    "                    total=total_size,\n",
    "                    unit=\"B\",\n",
    "                    unit_scale=True,\n",
    "                    unit_divisor=1024,\n",
    "                    leave=False,  # 진행 바 완료 후 화면에 남기지 않음\n",
    "                    bar_format=\"{l_bar}{bar} | {n_fmt}/{total_fmt} [{rate_fmt}{postfix}]\"\n",
    "                ) as progress_bar:\n",
    "                    for chunk in file_response.iter_content(chunk_size=8192):\n",
    "                        f.write(chunk)\n",
    "                        progress_bar.update(len(chunk))\n",
    "            except Exception as file_error:\n",
    "                print(f\"Failed to download {file_url}: {file_error}\")\n",
    "    except Exception as e:\n",
    "        print(f\"Failed to fetch directory listing: {e}\")\n"
   ]
  },
  {
   "cell_type": "code",
   "execution_count": null,
   "id": "9f2da23d",
   "metadata": {},
   "outputs": [
    {
     "name": "stdout",
     "output_type": "stream",
     "text": [
      "Fetching file list from https://ccmc.gsfc.nasa.gov/RoR_WWW/output_files/KAMODO_DEMO/CTIPe/Fernando_Pinheiro_012521_IT_1_subset/...\n",
      "Found 14 files.\n"
     ]
    },
    {
     "data": {
      "application/vnd.jupyter.widget-view+json": {
       "model_id": "97354ae63821490db420ee934999708e",
       "version_major": 2,
       "version_minor": 0
      },
      "text/plain": [
       "Downloading files:   0%|          | 0/14 [00:00<?, ?file/s]"
      ]
     },
     "metadata": {},
     "output_type": "display_data"
    },
    {
     "name": "stdout",
     "output_type": "stream",
     "text": [
      "Skipping . (already downloaded).\n",
      "Skipping 2016-01-15-plot-density.nc (already downloaded).\n",
      "Skipping 2016-01-15-plot-height.nc (already downloaded).\n",
      "Skipping 2016-01-15-plot-neutral.nc (already downloaded).\n",
      "Skipping 2016-01-15-plot-plasma.nc (already downloaded).\n",
      "Skipping 2016-01-15-startup.nc (already downloaded).\n",
      "Skipping 2016-01-16-plot-density.nc (already downloaded).\n",
      "Skipping 2016-01-16-plot-height.nc (already downloaded).\n",
      "Skipping 2016-01-16-plot-neutral.nc (already downloaded).\n",
      "Skipping 2016-01-16-plot-plasma.nc (already downloaded).\n",
      "Skipping 2016-01-16-startup.nc (already downloaded).\n",
      "Skipping CTIPe_km.nc (already downloaded).\n",
      "Skipping CTIPe_list.txt (already downloaded).\n",
      "Skipping CTIPe_times.txt (already downloaded).\n"
     ]
    }
   ],
   "source": [
    "download_files_from_directory(\n",
    "    base_url=\"https://ccmc.gsfc.nasa.gov/RoR_WWW/output_files/KAMODO_DEMO/CTIPe/Fernando_Pinheiro_012521_IT_1_subset/\",\n",
    "    output_dir=\"KAMODO_DEMO/CTIPe/Fernando_Pinheiro_012521_IT_1_subset/\"\n",
    ")"
   ]
  },
  {
   "cell_type": "code",
   "execution_count": null,
   "id": "9698684a",
   "metadata": {},
   "outputs": [
    {
     "name": "stdout",
     "output_type": "stream",
     "text": [
      "Fetching file list from https://ccmc.gsfc.nasa.gov/RoR_WWW/output_files/KAMODO_DEMO/WACCM-X/Mapoet_Niphy_041023_IT_2/...\n",
      "Found 11 files.\n"
     ]
    },
    {
     "data": {
      "application/vnd.jupyter.widget-view+json": {
       "model_id": "4df29d4d927c4513873c35996f31e562",
       "version_major": 2,
       "version_minor": 0
      },
      "text/plain": [
       "Downloading files:   0%|          | 0/11 [00:00<?, ?file/s]"
      ]
     },
     "metadata": {},
     "output_type": "display_data"
    },
    {
     "name": "stdout",
     "output_type": "stream",
     "text": [
      "Skipping . (already downloaded).\n",
      "Skipping Mapoet_Niphy_041023_IT_2.cam.h0.2016-01-15-00600.nc (already downloaded).\n",
      "Skipping Mapoet_Niphy_041023_IT_2.cam.h0.2016-01-16-00600.nc (already downloaded).\n",
      "Skipping Mapoet_Niphy_041023_IT_2.cam.h1.2016-01-15-00600.nc (already downloaded).\n",
      "Skipping Mapoet_Niphy_041023_IT_2.cam.h1.2016-01-16-00600.nc (already downloaded).\n",
      "Skipping Mapoet_Niphy_041023_IT_2.cam.h2.2016-01-15-00600.nc (already downloaded).\n",
      "Skipping Mapoet_Niphy_041023_IT_2.cam.h2.2016-01-16-00600.nc (already downloaded).\n",
      "Skipping WACCM-X.h (already downloaded).\n",
      "Skipping WACCM-X_list (already downloaded).\n",
      "Skipping WACCMX_list.txt (already downloaded).\n",
      "Skipping WACCMX_times.txt (already downloaded).\n"
     ]
    }
   ],
   "source": [
    "download_files_from_directory(\n",
    "    base_url=\"https://ccmc.gsfc.nasa.gov/RoR_WWW/output_files/KAMODO_DEMO/WACCM-X/Mapoet_Niphy_041023_IT_2/\",\n",
    "    output_dir=\"KAMODO_DEMO/WACCM-X/Mapoet_Niphy_041023_IT_2/\"\n",
    ")"
   ]
  },
  {
   "cell_type": "code",
   "execution_count": null,
   "id": "a8c48e59",
   "metadata": {},
   "outputs": [
    {
     "name": "stdout",
     "output_type": "stream",
     "text": [
      "Fetching file list from https://ccmc.gsfc.nasa.gov/RoR_WWW/output_files/KAMODO_DEMO/GITM/Olga_Verkhoglyadova_013118_IT_3_subset/...\n",
      "Found 291 files.\n"
     ]
    },
    {
     "data": {
      "application/vnd.jupyter.widget-view+json": {
       "model_id": "b589b84b82c64007b2b9cb299fb8f3ea",
       "version_major": 2,
       "version_minor": 0
      },
      "text/plain": [
       "Downloading files:   0%|          | 0/291 [00:00<?, ?file/s]"
      ]
     },
     "metadata": {},
     "output_type": "display_data"
    },
    {
     "name": "stdout",
     "output_type": "stream",
     "text": [
      "Skipping . (already downloaded).\n",
      "Skipping 3DLST_t160115_000003.nc (already downloaded).\n",
      "Skipping 3DLST_t160115_001002.nc (already downloaded).\n",
      "Skipping 3DLST_t160115_002001.nc (already downloaded).\n",
      "Skipping 3DLST_t160115_003001.nc (already downloaded).\n",
      "Skipping 3DLST_t160115_004000.nc (already downloaded).\n",
      "Skipping 3DLST_t160115_005000.nc (already downloaded).\n",
      "Skipping 3DLST_t160115_010001.nc (already downloaded).\n",
      "Skipping 3DLST_t160115_011003.nc (already downloaded).\n",
      "Skipping 3DLST_t160115_012001.nc (already downloaded).\n",
      "Skipping 3DLST_t160115_013001.nc (already downloaded).\n",
      "Skipping 3DLST_t160115_014002.nc (already downloaded).\n",
      "Skipping 3DLST_t160115_015003.nc (already downloaded).\n",
      "Skipping 3DLST_t160115_020001.nc (already downloaded).\n",
      "Skipping 3DLST_t160115_021000.nc (already downloaded).\n",
      "Skipping 3DLST_t160115_022000.nc (already downloaded).\n",
      "Skipping 3DLST_t160115_023002.nc (already downloaded).\n",
      "Skipping 3DLST_t160115_024001.nc (already downloaded).\n",
      "Skipping 3DLST_t160115_025001.nc (already downloaded).\n",
      "Skipping 3DLST_t160115_030002.nc (already downloaded).\n",
      "Skipping 3DLST_t160115_031000.nc (already downloaded).\n",
      "Skipping 3DLST_t160115_032001.nc (already downloaded).\n",
      "Skipping 3DLST_t160115_033003.nc (already downloaded).\n",
      "Skipping 3DLST_t160115_034001.nc (already downloaded).\n",
      "Skipping 3DLST_t160115_035002.nc (already downloaded).\n",
      "Skipping 3DLST_t160115_040002.nc (already downloaded).\n",
      "Skipping 3DLST_t160115_041002.nc (already downloaded).\n",
      "Skipping 3DLST_t160115_042000.nc (already downloaded).\n",
      "Skipping 3DLST_t160115_043001.nc (already downloaded).\n",
      "Skipping 3DLST_t160115_044000.nc (already downloaded).\n",
      "Skipping 3DLST_t160115_045002.nc (already downloaded).\n",
      "Skipping 3DLST_t160115_050002.nc (already downloaded).\n",
      "Skipping 3DLST_t160115_051001.nc (already downloaded).\n",
      "Skipping 3DLST_t160115_052003.nc (already downloaded).\n",
      "Skipping 3DLST_t160115_053000.nc (already downloaded).\n",
      "Skipping 3DLST_t160115_054003.nc (already downloaded).\n",
      "Skipping 3DLST_t160115_055002.nc (already downloaded).\n",
      "Skipping 3DLST_t160115_060000.nc (already downloaded).\n",
      "Skipping 3DLST_t160115_061001.nc (already downloaded).\n",
      "Skipping 3DLST_t160115_062002.nc (already downloaded).\n",
      "Skipping 3DLST_t160115_063002.nc (already downloaded).\n",
      "Skipping 3DLST_t160115_064001.nc (already downloaded).\n",
      "Skipping 3DLST_t160115_065003.nc (already downloaded).\n",
      "Skipping 3DLST_t160115_070001.nc (already downloaded).\n",
      "Skipping 3DLST_t160115_071002.nc (already downloaded).\n",
      "Skipping 3DLST_t160115_072002.nc (already downloaded).\n",
      "Skipping 3DLST_t160115_073000.nc (already downloaded).\n",
      "Skipping 3DLST_t160115_074001.nc (already downloaded).\n",
      "Skipping 3DLST_t160115_075001.nc (already downloaded).\n",
      "Skipping 3DLST_t160115_080000.nc (already downloaded).\n",
      "Skipping 3DLST_t160115_081003.nc (already downloaded).\n",
      "Skipping 3DLST_t160115_082001.nc (already downloaded).\n",
      "Skipping 3DLST_t160115_083003.nc (already downloaded).\n",
      "Skipping 3DLST_t160115_084001.nc (already downloaded).\n",
      "Skipping 3DLST_t160115_085003.nc (already downloaded).\n",
      "Skipping 3DLST_t160115_090001.nc (already downloaded).\n",
      "Skipping 3DLST_t160115_091002.nc (already downloaded).\n",
      "Skipping 3DLST_t160115_092000.nc (already downloaded).\n",
      "Skipping 3DLST_t160115_093002.nc (already downloaded).\n",
      "Skipping 3DLST_t160115_094003.nc (already downloaded).\n",
      "Skipping 3DLST_t160115_095000.nc (already downloaded).\n",
      "Skipping 3DLST_t160115_100000.nc (already downloaded).\n",
      "Skipping 3DLST_t160115_101001.nc (already downloaded).\n",
      "Skipping 3DLST_t160115_102000.nc (already downloaded).\n",
      "Skipping 3DLST_t160115_103000.nc (already downloaded).\n",
      "Skipping 3DLST_t160115_104003.nc (already downloaded).\n",
      "Skipping 3DLST_t160115_105002.nc (already downloaded).\n",
      "Skipping 3DLST_t160115_110001.nc (already downloaded).\n",
      "Skipping 3DLST_t160115_111000.nc (already downloaded).\n",
      "Skipping 3DLST_t160115_112000.nc (already downloaded).\n",
      "Skipping 3DLST_t160115_113000.nc (already downloaded).\n",
      "Skipping 3DLST_t160115_114000.nc (already downloaded).\n",
      "Skipping 3DLST_t160115_115002.nc (already downloaded).\n",
      "Skipping 3DLST_t160115_120002.nc (already downloaded).\n",
      "Skipping 3DLST_t160115_121000.nc (already downloaded).\n",
      "Skipping 3DLST_t160115_122000.nc (already downloaded).\n",
      "Skipping 3DLST_t160115_123001.nc (already downloaded).\n",
      "Skipping 3DLST_t160115_124002.nc (already downloaded).\n",
      "Skipping 3DLST_t160115_125001.nc (already downloaded).\n",
      "Skipping 3DLST_t160115_130001.nc (already downloaded).\n",
      "Skipping 3DLST_t160115_131002.nc (already downloaded).\n",
      "Skipping 3DLST_t160115_132000.nc (already downloaded).\n",
      "Skipping 3DLST_t160115_133002.nc (already downloaded).\n",
      "Skipping 3DLST_t160115_134001.nc (already downloaded).\n",
      "Skipping 3DLST_t160115_135000.nc (already downloaded).\n",
      "Skipping 3DLST_t160115_140000.nc (already downloaded).\n",
      "Skipping 3DLST_t160115_141001.nc (already downloaded).\n",
      "Skipping 3DLST_t160115_142002.nc (already downloaded).\n",
      "Skipping 3DLST_t160115_143000.nc (already downloaded).\n",
      "Skipping 3DLST_t160115_144003.nc (already downloaded).\n",
      "Skipping 3DLST_t160115_145002.nc (already downloaded).\n",
      "Skipping 3DLST_t160115_150003.nc (already downloaded).\n",
      "Skipping 3DLST_t160115_151001.nc (already downloaded).\n",
      "Skipping 3DLST_t160115_152000.nc (already downloaded).\n",
      "Skipping 3DLST_t160115_153003.nc (already downloaded).\n",
      "Skipping 3DLST_t160115_154000.nc (already downloaded).\n",
      "Skipping 3DLST_t160115_155003.nc (already downloaded).\n",
      "Skipping 3DLST_t160115_160003.nc (already downloaded).\n",
      "Skipping 3DLST_t160115_161000.nc (already downloaded).\n",
      "Skipping 3DLST_t160115_162003.nc (already downloaded).\n",
      "Skipping 3DLST_t160115_163003.nc (already downloaded).\n",
      "Skipping 3DLST_t160115_164001.nc (already downloaded).\n",
      "Skipping 3DLST_t160115_165003.nc (already downloaded).\n",
      "Skipping 3DLST_t160115_170001.nc (already downloaded).\n",
      "Skipping 3DLST_t160115_171001.nc (already downloaded).\n",
      "Skipping 3DLST_t160115_172001.nc (already downloaded).\n",
      "Skipping 3DLST_t160115_173000.nc (already downloaded).\n",
      "Skipping 3DLST_t160115_174003.nc (already downloaded).\n",
      "Skipping 3DLST_t160115_175001.nc (already downloaded).\n",
      "Skipping 3DLST_t160115_180003.nc (already downloaded).\n",
      "Skipping 3DLST_t160115_181001.nc (already downloaded).\n",
      "Skipping 3DLST_t160115_182002.nc (already downloaded).\n",
      "Skipping 3DLST_t160115_183003.nc (already downloaded).\n",
      "Skipping 3DLST_t160115_184000.nc (already downloaded).\n",
      "Skipping 3DLST_t160115_185000.nc (already downloaded).\n",
      "Skipping 3DLST_t160115_190000.nc (already downloaded).\n",
      "Skipping 3DLST_t160115_191000.nc (already downloaded).\n",
      "Skipping 3DLST_t160115_192000.nc (already downloaded).\n",
      "Skipping 3DLST_t160115_193002.nc (already downloaded).\n",
      "Skipping 3DLST_t160115_194000.nc (already downloaded).\n",
      "Skipping 3DLST_t160115_195003.nc (already downloaded).\n",
      "Skipping 3DLST_t160115_200002.nc (already downloaded).\n",
      "Skipping 3DLST_t160115_201002.nc (already downloaded).\n",
      "Skipping 3DLST_t160115_202003.nc (already downloaded).\n",
      "Skipping 3DLST_t160115_203002.nc (already downloaded).\n",
      "Skipping 3DLST_t160115_204003.nc (already downloaded).\n",
      "Skipping 3DLST_t160115_205003.nc (already downloaded).\n",
      "Skipping 3DLST_t160115_210002.nc (already downloaded).\n",
      "Skipping 3DLST_t160115_211002.nc (already downloaded).\n",
      "Skipping 3DLST_t160115_212003.nc (already downloaded).\n",
      "Skipping 3DLST_t160115_213001.nc (already downloaded).\n",
      "Skipping 3DLST_t160115_214001.nc (already downloaded).\n",
      "Skipping 3DLST_t160115_215001.nc (already downloaded).\n",
      "Skipping 3DLST_t160115_220002.nc (already downloaded).\n",
      "Skipping 3DLST_t160115_221002.nc (already downloaded).\n",
      "Skipping 3DLST_t160115_222001.nc (already downloaded).\n",
      "Skipping 3DLST_t160115_223003.nc (already downloaded).\n",
      "Skipping 3DLST_t160115_224003.nc (already downloaded).\n",
      "Skipping 3DLST_t160115_225002.nc (already downloaded).\n",
      "Skipping 3DLST_t160115_230000.nc (already downloaded).\n",
      "Skipping 3DLST_t160115_231002.nc (already downloaded).\n",
      "Skipping 3DLST_t160115_232003.nc (already downloaded).\n",
      "Skipping 3DLST_t160115_233003.nc (already downloaded).\n",
      "Skipping 3DLST_t160115_234003.nc (already downloaded).\n",
      "Skipping 3DLST_t160115_235002.nc (already downloaded).\n",
      "Skipping 3DLST_t160116_000002.nc (already downloaded).\n",
      "Skipping 3DLST_t160116_001000.nc (already downloaded).\n",
      "Skipping 3DLST_t160116_002003.nc (already downloaded).\n",
      "Skipping 3DLST_t160116_003001.nc (already downloaded).\n",
      "Skipping 3DLST_t160116_004000.nc (already downloaded).\n",
      "Skipping 3DLST_t160116_005002.nc (already downloaded).\n",
      "Skipping 3DLST_t160116_010000.nc (already downloaded).\n",
      "Skipping 3DLST_t160116_011003.nc (already downloaded).\n",
      "Skipping 3DLST_t160116_012002.nc (already downloaded).\n",
      "Skipping 3DLST_t160116_013002.nc (already downloaded).\n",
      "Skipping 3DLST_t160116_014002.nc (already downloaded).\n",
      "Skipping 3DLST_t160116_015002.nc (already downloaded).\n",
      "Skipping 3DLST_t160116_020003.nc (already downloaded).\n",
      "Skipping 3DLST_t160116_021001.nc (already downloaded).\n",
      "Skipping 3DLST_t160116_022000.nc (already downloaded).\n",
      "Skipping 3DLST_t160116_023000.nc (already downloaded).\n",
      "Skipping 3DLST_t160116_024001.nc (already downloaded).\n",
      "Skipping 3DLST_t160116_025000.nc (already downloaded).\n",
      "Skipping 3DLST_t160116_030000.nc (already downloaded).\n",
      "Skipping 3DLST_t160116_031001.nc (already downloaded).\n",
      "Skipping 3DLST_t160116_032003.nc (already downloaded).\n",
      "Skipping 3DLST_t160116_033001.nc (already downloaded).\n",
      "Skipping 3DLST_t160116_034003.nc (already downloaded).\n",
      "Skipping 3DLST_t160116_035001.nc (already downloaded).\n",
      "Skipping 3DLST_t160116_040002.nc (already downloaded).\n",
      "Skipping 3DLST_t160116_041003.nc (already downloaded).\n",
      "Skipping 3DLST_t160116_042002.nc (already downloaded).\n",
      "Skipping 3DLST_t160116_043001.nc (already downloaded).\n",
      "Skipping 3DLST_t160116_044002.nc (already downloaded).\n",
      "Skipping 3DLST_t160116_045002.nc (already downloaded).\n",
      "Skipping 3DLST_t160116_050001.nc (already downloaded).\n",
      "Skipping 3DLST_t160116_051002.nc (already downloaded).\n",
      "Skipping 3DLST_t160116_052003.nc (already downloaded).\n",
      "Skipping 3DLST_t160116_053002.nc (already downloaded).\n",
      "Skipping 3DLST_t160116_054001.nc (already downloaded).\n",
      "Skipping 3DLST_t160116_055002.nc (already downloaded).\n",
      "Skipping 3DLST_t160116_060000.nc (already downloaded).\n",
      "Skipping 3DLST_t160116_061000.nc (already downloaded).\n",
      "Skipping 3DLST_t160116_062000.nc (already downloaded).\n",
      "Skipping 3DLST_t160116_063003.nc (already downloaded).\n",
      "Skipping 3DLST_t160116_064001.nc (already downloaded).\n",
      "Skipping 3DLST_t160116_065002.nc (already downloaded).\n",
      "Skipping 3DLST_t160116_070002.nc (already downloaded).\n",
      "Skipping 3DLST_t160116_071000.nc (already downloaded).\n",
      "Skipping 3DLST_t160116_072001.nc (already downloaded).\n",
      "Skipping 3DLST_t160116_073001.nc (already downloaded).\n",
      "Skipping 3DLST_t160116_074002.nc (already downloaded).\n",
      "Skipping 3DLST_t160116_075003.nc (already downloaded).\n",
      "Skipping 3DLST_t160116_080003.nc (already downloaded).\n",
      "Skipping 3DLST_t160116_081002.nc (already downloaded).\n",
      "Skipping 3DLST_t160116_082001.nc (already downloaded).\n",
      "Skipping 3DLST_t160116_083000.nc (already downloaded).\n",
      "Skipping 3DLST_t160116_084003.nc (already downloaded).\n",
      "Skipping 3DLST_t160116_085002.nc (already downloaded).\n",
      "Skipping 3DLST_t160116_090001.nc (already downloaded).\n",
      "Skipping 3DLST_t160116_091000.nc (already downloaded).\n",
      "Skipping 3DLST_t160116_092003.nc (already downloaded).\n",
      "Skipping 3DLST_t160116_093002.nc (already downloaded).\n",
      "Skipping 3DLST_t160116_094001.nc (already downloaded).\n",
      "Skipping 3DLST_t160116_095000.nc (already downloaded).\n",
      "Skipping 3DLST_t160116_100002.nc (already downloaded).\n",
      "Skipping 3DLST_t160116_101001.nc (already downloaded).\n",
      "Skipping 3DLST_t160116_102003.nc (already downloaded).\n",
      "Skipping 3DLST_t160116_103001.nc (already downloaded).\n",
      "Skipping 3DLST_t160116_104000.nc (already downloaded).\n",
      "Skipping 3DLST_t160116_105001.nc (already downloaded).\n",
      "Skipping 3DLST_t160116_110000.nc (already downloaded).\n",
      "Skipping 3DLST_t160116_111002.nc (already downloaded).\n",
      "Skipping 3DLST_t160116_112001.nc (already downloaded).\n",
      "Skipping 3DLST_t160116_113000.nc (already downloaded).\n",
      "Skipping 3DLST_t160116_114000.nc (already downloaded).\n",
      "Skipping 3DLST_t160116_115000.nc (already downloaded).\n",
      "Skipping 3DLST_t160116_120003.nc (already downloaded).\n",
      "Skipping 3DLST_t160116_121003.nc (already downloaded).\n",
      "Skipping 3DLST_t160116_122001.nc (already downloaded).\n",
      "Skipping 3DLST_t160116_123000.nc (already downloaded).\n",
      "Skipping 3DLST_t160116_124003.nc (already downloaded).\n",
      "Skipping 3DLST_t160116_125000.nc (already downloaded).\n",
      "Skipping 3DLST_t160116_130001.nc (already downloaded).\n",
      "Skipping 3DLST_t160116_131003.nc (already downloaded).\n",
      "Skipping 3DLST_t160116_132001.nc (already downloaded).\n",
      "Skipping 3DLST_t160116_133001.nc (already downloaded).\n",
      "Skipping 3DLST_t160116_134000.nc (already downloaded).\n",
      "Skipping 3DLST_t160116_135000.nc (already downloaded).\n",
      "Skipping 3DLST_t160116_140001.nc (already downloaded).\n",
      "Skipping 3DLST_t160116_141002.nc (already downloaded).\n",
      "Skipping 3DLST_t160116_142000.nc (already downloaded).\n",
      "Skipping 3DLST_t160116_143002.nc (already downloaded).\n",
      "Skipping 3DLST_t160116_144000.nc (already downloaded).\n",
      "Skipping 3DLST_t160116_145000.nc (already downloaded).\n",
      "Skipping 3DLST_t160116_150000.nc (already downloaded).\n",
      "Skipping 3DLST_t160116_151001.nc (already downloaded).\n",
      "Skipping 3DLST_t160116_152000.nc (already downloaded).\n",
      "Skipping 3DLST_t160116_153003.nc (already downloaded).\n",
      "Skipping 3DLST_t160116_154000.nc (already downloaded).\n",
      "Skipping 3DLST_t160116_155001.nc (already downloaded).\n",
      "Skipping 3DLST_t160116_160000.nc (already downloaded).\n",
      "Skipping 3DLST_t160116_161001.nc (already downloaded).\n",
      "Skipping 3DLST_t160116_162002.nc (already downloaded).\n",
      "Skipping 3DLST_t160116_163001.nc (already downloaded).\n",
      "Skipping 3DLST_t160116_164001.nc (already downloaded).\n",
      "Skipping 3DLST_t160116_165000.nc (already downloaded).\n",
      "Skipping 3DLST_t160116_170003.nc (already downloaded).\n",
      "Skipping 3DLST_t160116_171001.nc (already downloaded).\n",
      "Skipping 3DLST_t160116_172002.nc (already downloaded).\n",
      "Skipping 3DLST_t160116_173002.nc (already downloaded).\n",
      "Skipping 3DLST_t160116_174003.nc (already downloaded).\n",
      "Skipping 3DLST_t160116_175003.nc (already downloaded).\n",
      "Skipping 3DLST_t160116_180002.nc (already downloaded).\n",
      "Skipping 3DLST_t160116_181002.nc (already downloaded).\n",
      "Skipping 3DLST_t160116_182001.nc (already downloaded).\n",
      "Skipping 3DLST_t160116_183000.nc (already downloaded).\n",
      "Skipping 3DLST_t160116_184002.nc (already downloaded).\n",
      "Skipping 3DLST_t160116_185000.nc (already downloaded).\n",
      "Skipping 3DLST_t160116_190002.nc (already downloaded).\n",
      "Skipping 3DLST_t160116_191003.nc (already downloaded).\n",
      "Skipping 3DLST_t160116_192001.nc (already downloaded).\n",
      "Skipping 3DLST_t160116_193002.nc (already downloaded).\n",
      "Skipping 3DLST_t160116_194002.nc (already downloaded).\n",
      "Skipping 3DLST_t160116_195000.nc (already downloaded).\n",
      "Skipping 3DLST_t160116_200003.nc (already downloaded).\n",
      "Skipping 3DLST_t160116_201003.nc (already downloaded).\n",
      "Skipping 3DLST_t160116_202003.nc (already downloaded).\n",
      "Skipping 3DLST_t160116_203001.nc (already downloaded).\n",
      "Skipping 3DLST_t160116_204001.nc (already downloaded).\n",
      "Skipping 3DLST_t160116_205000.nc (already downloaded).\n",
      "Skipping 3DLST_t160116_210002.nc (already downloaded).\n",
      "Skipping 3DLST_t160116_211000.nc (already downloaded).\n",
      "Skipping 3DLST_t160116_212000.nc (already downloaded).\n",
      "Skipping 3DLST_t160116_213000.nc (already downloaded).\n",
      "Skipping 3DLST_t160116_214000.nc (already downloaded).\n",
      "Skipping 3DLST_t160116_215002.nc (already downloaded).\n",
      "Skipping 3DLST_t160116_220002.nc (already downloaded).\n",
      "Skipping 3DLST_t160116_221002.nc (already downloaded).\n",
      "Skipping 3DLST_t160116_222002.nc (already downloaded).\n",
      "Skipping 3DLST_t160116_223001.nc (already downloaded).\n",
      "Skipping 3DLST_t160116_224002.nc (already downloaded).\n",
      "Skipping 3DLST_t160116_225000.nc (already downloaded).\n",
      "Skipping 3DLST_t160116_230002.nc (already downloaded).\n",
      "Skipping 3DLST_t160116_231000.nc (already downloaded).\n",
      "Skipping 3DLST_t160116_232001.nc (already downloaded).\n",
      "Skipping 3DLST_t160116_233002.nc (already downloaded).\n",
      "Skipping 3DLST_t160116_234003.nc (already downloaded).\n",
      "Skipping 3DLST_t160116_235003.nc (already downloaded).\n",
      "Skipping GITM_list.txt (already downloaded).\n",
      "Skipping GITM_times.txt (already downloaded).\n"
     ]
    }
   ],
   "source": [
    "download_files_from_directory(\n",
    "    base_url=\"https://ccmc.gsfc.nasa.gov/RoR_WWW/output_files/KAMODO_DEMO/GITM/Olga_Verkhoglyadova_013118_IT_3_subset/\",\n",
    "    output_dir=\"KAMODO_DEMO/GITM/Olga_Verkhoglyadova_013118_IT_3_subset/\"\n",
    ")"
   ]
  },
  {
   "cell_type": "code",
   "execution_count": null,
   "id": "3ba0cbe4",
   "metadata": {},
   "outputs": [],
   "source": [
    "from kamodo import Kamodo, get_defaults\n",
    "import kamodo_ccmc.flythrough.model_wrapper as MW\n",
    "from kamodo_ccmc.tools.plotfunctions import figMods\n",
    "from datetime import timedelta\n",
    "\n",
    "ctipe_file_dir = './KAMODO_DEMO/CTIPe/Fernando_Pinheiro_012521_IT_1_subset/'\n",
    "gitm_file_dir = './KAMODO_DEMO/GITM/Olga_Verkhoglyadova_013118_IT_3_subset/'\n",
    "waccmx_file_dir = './KAMODO_DEMO/WACCM-X/Mapoet_Niphy_041023_IT_2/'"
   ]
  },
  {
   "cell_type": "code",
   "execution_count": null,
   "id": "78c84e59",
   "metadata": {},
   "outputs": [
    {
     "name": "stdout",
     "output_type": "stream",
     "text": [
      "\n",
      "ADELPHI:\n",
      "No temperature variables found.\n",
      "\n",
      "AMGeO:\n",
      "No temperature variables found.\n",
      "\n",
      "CTIPe:\n",
      "T_ilev1: ['temperature', 'GDZ-sph', ['time', 'lon', 'lat', 'ilev1'], 'K']\n",
      "T: ['temperature', 'GDZ-sph', ['time', 'lon', 'lat', 'height'], 'K']\n",
      "T_e: ['electron temperature', 'GDZ-sph', ['time', 'lon', 'lat', 'height'], 'K']\n",
      "T_i: ['ion temperature', 'GDZ-sph', ['time', 'lon', 'lat', 'height'], 'K']\n",
      "T_n_ilev: ['neutral temperature', 'GDZ-sph', ['time', 'lon', 'lat', 'ilev'], 'K']\n",
      "T_n: ['neutral temperature', 'GDZ-sph', ['time', 'lon', 'lat', 'height'], 'K']\n",
      "\n",
      "DTM:\n",
      "T_exo: ['Exospheric temperature', 'GDZ-sph', ['time', 'lon', 'lat'], 'K']\n",
      "T: ['temperature', 'GDZ-sph', ['time', 'lon', 'lat', 'height'], 'K']\n",
      "\n",
      "GAMERA_GM:\n",
      "No temperature variables found.\n",
      "\n",
      "GITM:\n",
      "T_n: ['neutral temperature', 'GDZ-sph', ['time', 'lon', 'lat', 'height'], 'K']\n",
      "T_e: ['electron temperature', 'GDZ-sph', ['time', 'lon', 'lat', 'height'], 'K']\n",
      "T_i: ['ion temperature', 'GDZ-sph', ['time', 'lon', 'lat', 'height'], 'K']\n",
      "\n",
      "IRI:\n",
      "T_e: ['electron temperature', 'GDZ-sph', ['time', 'lon', 'lat', 'height'], 'K']\n",
      "T_i: ['ion temperature', 'GDZ-sph', ['time', 'lon', 'lat', 'height'], 'K']\n",
      "T_n: ['neutral temperature', 'GDZ-sph', ['time', 'lon', 'lat', 'height'], 'K']\n",
      "\n",
      "Ovation-Prime:\n",
      "No temperature variables found.\n",
      "\n",
      "OpenGGCM_GM:\n",
      "No temperature variables found.\n",
      "\n",
      "SuperDARN_uni:\n",
      "No temperature variables found.\n",
      "\n",
      "SuperDARN_equ:\n",
      "No temperature variables found.\n",
      "\n",
      "SWMF_IE:\n",
      "No temperature variables found.\n",
      "\n",
      "SWMF_GM:\n",
      "No temperature variables found.\n",
      "\n",
      "TIEGCM:\n",
      "T_n_ilev: ['neutral temperature', 'GDZ-sph', ['time', 'lon', 'lat', 'ilev'], 'K']\n",
      "T_n: ['neutral temperature', 'GDZ-sph', ['time', 'lon', 'lat', 'height'], 'K']\n",
      "T_e_ilev: ['electron temperature', 'GDZ-sph', ['time', 'lon', 'lat', 'ilev'], 'K']\n",
      "T_e: ['electron temperature', 'GDZ-sph', ['time', 'lon', 'lat', 'height'], 'K']\n",
      "T_i_ilev: ['ion temperature', 'GDZ-sph', ['time', 'lon', 'lat', 'ilev'], 'K']\n",
      "T_i: ['ion temperature', 'GDZ-sph', ['time', 'lon', 'lat', 'height'], 'K']\n",
      "\n",
      "WACCMX:\n",
      "T_ilev: ['Temperature', 'GDZ-sph', ['time', 'lon', 'lat', 'ilev'], 'K']\n",
      "T: ['Temperature', 'GDZ-sph', ['time', 'lon', 'lat', 'height'], 'K']\n",
      "T_e_ilev: ['Electron Temperature', 'GDZ-sph', ['time', 'lon', 'lat', 'ilev'], 'K']\n",
      "T_e: ['Electron Temperature', 'GDZ-sph', ['time', 'lon', 'lat', 'height'], 'K']\n",
      "T_i_ilev: ['Ion Temperature', 'GDZ-sph', ['time', 'lon', 'lat', 'ilev'], 'K']\n",
      "T_i: ['Ion Temperature', 'GDZ-sph', ['time', 'lon', 'lat', 'height'], 'K']\n",
      "T_08_COS_ilev: ['Temperature  8hr. cos coeff.', 'GDZ-sph', ['time', 'lon', 'lat', 'ilev'], 'K']\n",
      "T_08_COS: ['Temperature  8hr. cos coeff.', 'GDZ-sph', ['time', 'lon', 'lat', 'height'], 'K']\n",
      "T_08_SIN_ilev: ['Temperature  8hr. sin coeff.', 'GDZ-sph', ['time', 'lon', 'lat', 'ilev'], 'K']\n",
      "T_08_SIN: ['Temperature  8hr. sin coeff.', 'GDZ-sph', ['time', 'lon', 'lat', 'height'], 'K']\n",
      "T_12_COS_ilev: ['Temperature 12hr. cos coeff.', 'GDZ-sph', ['time', 'lon', 'lat', 'ilev'], 'K']\n",
      "T_12_COS: ['Temperature 12hr. cos coeff.', 'GDZ-sph', ['time', 'lon', 'lat', 'height'], 'K']\n",
      "T_12_SIN_ilev: ['Temperature 12hr. sin coeff.', 'GDZ-sph', ['time', 'lon', 'lat', 'ilev'], 'K']\n",
      "T_12_SIN: ['Temperature 12hr. sin coeff.', 'GDZ-sph', ['time', 'lon', 'lat', 'height'], 'K']\n",
      "T_24_COS_ilev: ['Temperature 24hr. cos coeff.', 'GDZ-sph', ['time', 'lon', 'lat', 'ilev'], 'K']\n",
      "T_24_COS: ['Temperature 24hr. cos coeff.', 'GDZ-sph', ['time', 'lon', 'lat', 'height'], 'K']\n",
      "T_24_SIN_ilev: ['Temperature 24hr. sin coeff.', 'GDZ-sph', ['time', 'lon', 'lat', 'ilev'], 'K']\n",
      "T_24_SIN: ['Temperature 24hr. sin coeff.', 'GDZ-sph', ['time', 'lon', 'lat', 'height'], 'K']\n",
      "\n",
      "WAMIPE:\n",
      "T_n_ilev: ['neutral temperature', 'GDZ-sph', ['time', 'lon', 'lat', 'ilev'], 'K']\n",
      "T_n: ['neutral temperature', 'GDZ-sph', ['time', 'lon', 'lat', 'height'], 'K']\n",
      "T_i: ['Ion temperature', 'GDZ-sph', ['time', 'lon', 'lat', 'height'], 'K']\n",
      "T_e: ['Electron temperature', 'GDZ-sph', ['time', 'lon', 'lat', 'height'], 'K']\n",
      "\n",
      "Weimer:\n",
      "No temperature variables found.\n",
      "\n",
      "VERB-3D:\n",
      "No temperature variables found.\n"
     ]
    }
   ],
   "source": [
    "# Find what model has the variables...\n",
    "MW.Variable_Search('temperature')"
   ]
  },
  {
   "cell_type": "code",
   "execution_count": null,
   "id": "bb37bba9",
   "metadata": {},
   "outputs": [
    {
     "name": "stdout",
     "output_type": "stream",
     "text": [
      "T_ilev1: ['temperature', 'GDZ-sph', ['time', 'lon', 'lat', 'ilev1'], 'K']\n",
      "T: ['temperature', 'GDZ-sph', ['time', 'lon', 'lat', 'height'], 'K']\n",
      "T_e: ['electron temperature', 'GDZ-sph', ['time', 'lon', 'lat', 'height'], 'K']\n",
      "T_i: ['ion temperature', 'GDZ-sph', ['time', 'lon', 'lat', 'height'], 'K']\n",
      "T_n_ilev: ['neutral temperature', 'GDZ-sph', ['time', 'lon', 'lat', 'ilev'], 'K']\n",
      "T_n: ['neutral temperature', 'GDZ-sph', ['time', 'lon', 'lat', 'height'], 'K']\n"
     ]
    }
   ],
   "source": [
    "# Find out if the chosen CTIPe dataset has the desired variables.\n",
    "MW.Variable_Search('temperature', model='CTIPe', file_dir=ctipe_file_dir)"
   ]
  },
  {
   "cell_type": "code",
   "execution_count": null,
   "id": "2b4a18c5",
   "metadata": {},
   "outputs": [
    {
     "data": {
      "text/latex": [
       "\\begin{equation}\\operatorname{H_{ilev1}}{\\left(\\vec{r}_{GDZsph4D} \\right)}[m] = \\lambda{\\left(\\vec{r}_{GDZsph4D} \\right)}\\end{equation} \\begin{equation}\\operatorname{H_{ilev1 ijk}}(time[hr],lon[deg],lat[deg],ilev_{1}[1])[m] = \\lambda{\\left(time,lon,lat,ilev_{1} \\right)}\\end{equation} \\begin{equation}\\operatorname{H_{ilev1km ijk}}{\\left(ilev_{1},lat,lon,time \\right)}[km] = \\frac{\\operatorname{H_{ilev1 ijk}}{\\left(time,lon,lat,ilev_{1} \\right)}}{1000}\\end{equation} \\begin{equation}\\operatorname{Plev_{1}}{\\left(\\vec{r}_{GDZsphkm4D} \\right)}[1] = \\lambda{\\left(\\vec{r}_{GDZsphkm4D} \\right)}\\end{equation} \\begin{equation}\\operatorname{Plev_{1 ijk}}(time[hr],lon[deg],lat[deg],height[km])[1] = \\lambda{\\left(time,lon,lat,height \\right)}\\end{equation} \\begin{equation}\\operatorname{H_{ilev}}{\\left(\\vec{r}_{GDZsph4D} \\right)}[m] = \\lambda{\\left(\\vec{r}_{GDZsph4D} \\right)}\\end{equation} \\begin{equation}\\operatorname{H_{ilev ijk}}(time[hr],lon[deg],lat[deg],ilev[1])[m] = \\lambda{\\left(time,lon,lat,ilev \\right)}\\end{equation} \\begin{equation}\\operatorname{H_{ilevkm ijk}}{\\left(ilev,lat,lon,time \\right)}[km] = \\frac{\\operatorname{H_{ilev ijk}}{\\left(time,lon,lat,ilev \\right)}}{1000}\\end{equation} \\begin{equation}\\operatorname{Plev}{\\left(\\vec{r}_{GDZsphkm4D} \\right)}[1] = \\lambda{\\left(\\vec{r}_{GDZsphkm4D} \\right)}\\end{equation} \\begin{equation}\\operatorname{Plev_{ijk}}(time[hr],lon[deg],lat[deg],height[km])[1] = \\lambda{\\left(time,lon,lat,height \\right)}\\end{equation} \\begin{equation}\\operatorname{T_{i}}{\\left(\\vec{r}_{GDZsph4D} \\right)}[K] = \\lambda{\\left(\\vec{r}_{GDZsph4D} \\right)}\\end{equation} \\begin{equation}\\operatorname{T_{i ijk}}(time[hr],lon[deg],lat[deg],height[km])[K] = \\lambda{\\left(time,lon,lat,height \\right)}\\end{equation} \\begin{equation}\\operatorname{T_{n ilev}}{\\left(\\vec{r}_{GDZsph4D} \\right)}[K] = \\lambda{\\left(\\vec{r}_{GDZsph4D} \\right)}\\end{equation} \\begin{equation}\\operatorname{T_{n ilev ijk}}(time[hr],lon[deg],lat[deg],ilev[1])[K] = \\lambda{\\left(time,lon,lat,ilev \\right)}\\end{equation} \\begin{equation}\\operatorname{T_{n}}{\\left(\\vec{r}_{GDZsphkm4D} \\right)}[K] = \\operatorname{T_{n ilev}}{\\left(\\operatorname{Plev}{\\left(\\vec{r}_{GDZsphkm4D} \\right)} \\right)}\\end{equation} \\begin{equation}\\operatorname{T_{n ijk}}(time[hr],lon[deg],lat[deg],height[km])[K] = \\lambda{\\left(time,lon,lat,height \\right)}\\end{equation}"
      ],
      "text/plain": [
       "{H_ilev1(rvec_GDZsph4D): <function multitime_interp.<locals>.interp>, H_ilev1: <function multitime_interp.<locals>.interp>, H_ilev1_ijk(time, lon, lat, ilev1): <function gridify.<locals>.decorator_gridify.<locals>.wrapped>, H_ilev1_ijk: <function gridify.<locals>.decorator_gridify.<locals>.wrapped>, H_ilev1km_ijk(ilev1, lat, lon, time): <function _lambdifygenerated>, H_ilev1km_ijk: <function _lambdifygenerated>, Plev1(rvec_GDZsphkm4D): <function PLevelInterp.<locals>.plevconvert>, Plev1: <function PLevelInterp.<locals>.plevconvert>, Plev1_ijk(time, lon, lat, height): <function gridify.<locals>.decorator_gridify.<locals>.wrapped>, Plev1_ijk: <function gridify.<locals>.decorator_gridify.<locals>.wrapped>, H_ilev(rvec_GDZsph4D): <function multitime_interp.<locals>.interp>, H_ilev: <function multitime_interp.<locals>.interp>, H_ilev_ijk(time, lon, lat, ilev): <function gridify.<locals>.decorator_gridify.<locals>.wrapped>, H_ilev_ijk: <function gridify.<locals>.decorator_gridify.<locals>.wrapped>, H_ilevkm_ijk(ilev, lat, lon, time): <function _lambdifygenerated>, H_ilevkm_ijk: <function _lambdifygenerated>, Plev(rvec_GDZsphkm4D): <function PLevelInterp.<locals>.plevconvert>, Plev: <function PLevelInterp.<locals>.plevconvert>, Plev_ijk(time, lon, lat, height): <function gridify.<locals>.decorator_gridify.<locals>.wrapped>, Plev_ijk: <function gridify.<locals>.decorator_gridify.<locals>.wrapped>, T_i(rvec_GDZsph4D): <function multitime_interp.<locals>.interp>, T_i: <function multitime_interp.<locals>.interp>, T_i_ijk(time, lon, lat, height): <function gridify.<locals>.decorator_gridify.<locals>.wrapped>, T_i_ijk: <function gridify.<locals>.decorator_gridify.<locals>.wrapped>, T_n_ilev(rvec_GDZsph4D): <function multitime_interp.<locals>.interp>, T_n_ilev: <function multitime_interp.<locals>.interp>, T_n_ilev_ijk(time, lon, lat, ilev): <function gridify.<locals>.decorator_gridify.<locals>.wrapped>, T_n_ilev_ijk: <function gridify.<locals>.decorator_gridify.<locals>.wrapped>, T_n(rvec_GDZsphkm4D): <function _lambdifygenerated>, T_n: <function _lambdifygenerated>, T_n_ijk(time, lon, lat, height): <function gridify.<locals>.decorator_gridify.<locals>.wrapped>, T_n_ijk: <function gridify.<locals>.decorator_gridify.<locals>.wrapped>}"
      ]
     },
     "execution_count": null,
     "metadata": {},
     "output_type": "execute_result"
    }
   ],
   "source": [
    "# Retrieve model reader and access the model data for the CTIPe model.\n",
    "# Note one variable chosen depends on pressure level, but the user\n",
    "# does not need to know that to be able to retrieve and interact with it.\n",
    "reader = MW.Model_Reader('CTIPe')\n",
    "kamodo_object_ctipe = reader(ctipe_file_dir, variables_requested=['T_n', 'T_i'])\n",
    "kamodo_object_ctipe"
   ]
  },
  {
   "cell_type": "code",
   "execution_count": null,
   "id": "6714234b",
   "metadata": {},
   "outputs": [
    {
     "name": "stdout",
     "output_type": "stream",
     "text": [
      "T_n: ['neutral temperature', 'GDZ-sph', ['time', 'lon', 'lat', 'height'], 'K']\n"
     ]
    }
   ],
   "source": [
    "# Find related variables in the chosen GITM data\n",
    "MW.Variable_Search('temperature', model='GITM', file_dir=gitm_file_dir)"
   ]
  },
  {
   "cell_type": "code",
   "execution_count": null,
   "id": "05cdeb82",
   "metadata": {},
   "outputs": [
    {
     "data": {
      "text/latex": [
       "\\begin{equation}\\operatorname{T_{n}}{\\left(\\vec{r}_{GDZsph4D} \\right)}[K] = \\lambda{\\left(\\vec{r}_{GDZsph4D} \\right)}\\end{equation} \\begin{equation}\\operatorname{T_{n ijk}}(time[hr],lon[deg],lat[deg],height[km])[K] = \\lambda{\\left(time,lon,lat,height \\right)}\\end{equation}"
      ],
      "text/plain": [
       "{T_n(rvec_GDZsph4D): <function time_interp.<locals>.interp>, T_n: <function time_interp.<locals>.interp>, T_n_ijk(time, lon, lat, height): <function gridify.<locals>.decorator_gridify.<locals>.wrapped>, T_n_ijk: <function gridify.<locals>.decorator_gridify.<locals>.wrapped>}"
      ]
     },
     "execution_count": null,
     "metadata": {},
     "output_type": "execute_result"
    }
   ],
   "source": [
    "# Retrieve model reader and access model data for the GITM model.\n",
    "# Note the identical syntax!\n",
    "reader = MW.Model_Reader('GITM')\n",
    "kamodo_object_gitm = reader(gitm_file_dir, variables_requested=['T_n'])\n",
    "kamodo_object_gitm"
   ]
  },
  {
   "cell_type": "code",
   "execution_count": null,
   "id": "4710c25a",
   "metadata": {},
   "outputs": [
    {
     "name": "stdout",
     "output_type": "stream",
     "text": [
      "T_ilev: ['Temperature', 'GDZ-sph', ['time', 'lon', 'lat', 'ilev'], 'K']\n",
      "T_e_ilev: ['Electron Temperature', 'GDZ-sph', ['time', 'lon', 'lat', 'ilev'], 'K']\n",
      "T_i_ilev: ['Ion Temperature', 'GDZ-sph', ['time', 'lon', 'lat', 'ilev'], 'K']\n",
      "T: ['Temperature', 'GDZ-sph', ['time', 'lon', 'lat', 'height'], 'K']\n",
      "T_e: ['Electron Temperature', 'GDZ-sph', ['time', 'lon', 'lat', 'height'], 'K']\n",
      "T_i: ['Ion Temperature', 'GDZ-sph', ['time', 'lon', 'lat', 'height'], 'K']\n"
     ]
    }
   ],
   "source": [
    "# Find related variables in the chosen WACCMX data\n",
    "# This step also performs any file conversions or pre-processing needed.\n",
    "MW.Variable_Search('temperature', model='WACCMX', file_dir=waccmx_file_dir)"
   ]
  },
  {
   "cell_type": "code",
   "execution_count": null,
   "id": "b570f8f3",
   "metadata": {},
   "outputs": [
    {
     "data": {
      "text/latex": [
       "\\begin{equation}\\operatorname{H_{geopot ilev}}{\\left(\\vec{r}_{GDZsph4D} \\right)}[m] = \\lambda{\\left(\\vec{r}_{GDZsph4D} \\right)}\\end{equation} \\begin{equation}\\operatorname{H_{geopot ilev ijk}}(time[hr],lon[deg],lat[deg],ilev[hPa])[m] = \\lambda{\\left(time,lon,lat,ilev \\right)}\\end{equation} \\begin{equation}\\operatorname{H_{ilev ijk}}{\\left(ilev,lat,lon,time \\right)}[km] = \\frac{\\operatorname{H_{geopot ilev ijk}}{\\left(time,lon,lat,ilev \\right)}}{1000}\\end{equation} \\begin{equation}\\operatorname{Plev}{\\left(\\vec{r}_{GDZsphkm4D} \\right)}[hPa] = \\lambda{\\left(\\vec{r}_{GDZsphkm4D} \\right)}\\end{equation} \\begin{equation}\\operatorname{Plev_{ijk}}(time[hr],lon[deg],lat[deg],height[km])[hPa] = \\lambda{\\left(time,lon,lat,height \\right)}\\end{equation} \\begin{equation}\\operatorname{T_{ilev}}{\\left(\\vec{r}_{GDZsph4D} \\right)}[K] = \\lambda{\\left(\\vec{r}_{GDZsph4D} \\right)}\\end{equation} \\begin{equation}\\operatorname{T_{ilev ijk}}(time[hr],lon[deg],lat[deg],ilev[hPa])[K] = \\lambda{\\left(time,lon,lat,ilev \\right)}\\end{equation} \\begin{equation}T{\\left(\\vec{r}_{GDZsphkm4D} \\right)}[K] = \\operatorname{T_{ilev}}{\\left(\\operatorname{Plev}{\\left(\\vec{r}_{GDZsphkm4D} \\right)} \\right)}\\end{equation} \\begin{equation}\\operatorname{T_{ijk}}(time[hr],lon[deg],lat[deg],height[km])[K] = \\lambda{\\left(time,lon,lat,height \\right)}\\end{equation}"
      ],
      "text/plain": [
       "{H_geopot_ilev(rvec_GDZsph4D): <function multitime_biginterp.<locals>.interp>, H_geopot_ilev: <function multitime_biginterp.<locals>.interp>, H_geopot_ilev_ijk(time, lon, lat, ilev): <function gridify.<locals>.decorator_gridify.<locals>.wrapped>, H_geopot_ilev_ijk: <function gridify.<locals>.decorator_gridify.<locals>.wrapped>, H_ilev_ijk(ilev, lat, lon, time): <function _lambdifygenerated>, H_ilev_ijk: <function _lambdifygenerated>, Plev(rvec_GDZsphkm4D): <function PLevelInterp.<locals>.plevconvert>, Plev: <function PLevelInterp.<locals>.plevconvert>, Plev_ijk(time, lon, lat, height): <function gridify.<locals>.decorator_gridify.<locals>.wrapped>, Plev_ijk: <function gridify.<locals>.decorator_gridify.<locals>.wrapped>, T_ilev(rvec_GDZsph4D): <function multitime_biginterp.<locals>.interp>, T_ilev: <function multitime_biginterp.<locals>.interp>, T_ilev_ijk(time, lon, lat, ilev): <function gridify.<locals>.decorator_gridify.<locals>.wrapped>, T_ilev_ijk: <function gridify.<locals>.decorator_gridify.<locals>.wrapped>, T(rvec_GDZsphkm4D): <function _lambdifygenerated>, T: <function _lambdifygenerated>, T_ijk(time, lon, lat, height): <function gridify.<locals>.decorator_gridify.<locals>.wrapped>, T_ijk: <function gridify.<locals>.decorator_gridify.<locals>.wrapped>}"
      ]
     },
     "execution_count": null,
     "metadata": {},
     "output_type": "execute_result"
    }
   ],
   "source": [
    "# Retrieve model reader and access model data for the WACCMX model.\n",
    "# Note the identical syntax!\n",
    "reader = MW.Model_Reader('WACCMX')\n",
    "kamodo_object_waccmx = reader(waccmx_file_dir, variables_requested=['T'])\n",
    "kamodo_object_waccmx"
   ]
  },
  {
   "cell_type": "code",
   "execution_count": null,
   "id": "8fc49c46",
   "metadata": {},
   "outputs": [
    {
     "data": {
      "text/latex": [
       "\\begin{equation}\\operatorname{CTIPeT_{n}}(time[hr],lon[deg],lat[deg],height[km])[K] = \\lambda{\\left(time,lon,lat,height \\right)}\\end{equation} \\begin{equation}\\operatorname{GITMT_{n}}(time[hr],lon[deg],lat[deg],height[km])[K] = \\lambda{\\left(time,lon,lat,height \\right)}\\end{equation} \\begin{equation}\\operatorname{WACCMXT}(time[hr],lon[deg],lat[deg],height[km])[K] = \\lambda{\\left(time,lon,lat,height \\right)}\\end{equation}"
      ],
      "text/plain": [
       "{CTIPeT_n(time, lon, lat, height): <function gridify.<locals>.decorator_gridify.<locals>.wrapped>, CTIPeT_n: <function gridify.<locals>.decorator_gridify.<locals>.wrapped>, GITMT_n(time, lon, lat, height): <function gridify.<locals>.decorator_gridify.<locals>.wrapped>, GITMT_n: <function gridify.<locals>.decorator_gridify.<locals>.wrapped>, WACCMXT(time, lon, lat, height): <function gridify.<locals>.decorator_gridify.<locals>.wrapped>, WACCMXT: <function gridify.<locals>.decorator_gridify.<locals>.wrapped>}"
      ]
     },
     "execution_count": null,
     "metadata": {},
     "output_type": "execute_result"
    }
   ],
   "source": [
    "# Collect functions into a single Kamodo object.\n",
    "# Note the names of the coordinates each variable depends on.\n",
    "kamodo_object = Kamodo()\n",
    "kamodo_object['CTIPeT_n[K]'] = kamodo_object_ctipe['T_n_ijk']\n",
    "kamodo_object['GITMT_n[K]'] = kamodo_object_gitm['T_n_ijk']\n",
    "kamodo_object['WACCMXT[K]'] = kamodo_object_waccmx['T_ijk']\n",
    "kamodo_object"
   ]
  },
  {
   "cell_type": "code",
   "execution_count": null,
   "id": "8baa835b",
   "metadata": {},
   "outputs": [
    {
     "name": "stdout",
     "output_type": "stream",
     "text": [
      "\n",
      " CTIPeT_n\n",
      "time 192 0.25 48.0\n",
      "lon 21 -180.0 180.0\n",
      "lat 91 -90.0 90.0\n",
      "height 17 75.85179 379.91647\n",
      "\n",
      " GITMT_n\n",
      "time 288 0.00083333335 47.834167\n",
      "lon 74 -180.0 180.0\n",
      "lat 38 -90.0 90.0\n",
      "height 54 96.881645 592.8388\n",
      "\n",
      " WACCMXT\n",
      "time 288 0.16666667 48.0\n",
      "lon 289 -180.0 180.0\n",
      "lat 192 -90.0 90.0\n",
      "height 132 0.034333445 619.411\n"
     ]
    }
   ],
   "source": [
    "# Find out the coordinate ranges for the variables retrieved.\n",
    "for var in ['CTIPeT_n', 'GITMT_n', 'WACCMXT']:\n",
    "    print('\\n', var)\n",
    "    defaults_ijk = get_defaults(kamodo_object[var])\n",
    "    for key in defaults_ijk:\n",
    "        print(key, len(defaults_ijk[key]), defaults_ijk[key].min(), defaults_ijk[key].max())"
   ]
  },
  {
   "cell_type": "code",
   "execution_count": null,
   "id": "61536399",
   "metadata": {},
   "outputs": [
    {
     "name": "stdout",
     "output_type": "stream",
     "text": [
      "CTIPe 2016-01-15 00:00:00+00:00\n",
      "GITM 2016-01-15 00:00:00+00:00\n",
      "WACCMX 2016-01-15 00:00:00+00:00\n"
     ]
    }
   ],
   "source": [
    "# Print out the datetime object for midnight of the first day of the data.\n",
    "# Note that the data start on the same day.\n",
    "print('CTIPe', kamodo_object_ctipe.filedate)\n",
    "print('GITM', kamodo_object_gitm.filedate)\n",
    "print('WACCMX', kamodo_object_waccmx.filedate)"
   ]
  },
  {
   "cell_type": "code",
   "execution_count": null,
   "id": "ab19aed2",
   "metadata": {},
   "outputs": [
    {
     "name": "stdout",
     "output_type": "stream",
     "text": [
      "Inverting the pressure level grid. Please wait...done.\n"
     ]
    },
    {
     "data": {
      "application/vnd.plotly.v1+json": {
       "config": {
        "plotlyServerURL": "https://plot.ly"
       },
       "data": [
        {
         "colorbar": {
          "title": {
           "side": "bottom",
           "text": "CTIPeT_n[K]"
          }
         },
         "meta": "2d-grid",
         "type": "contour",
         "x": [
          -180,
          -162,
          -144,
          -126,
          -108,
          -90,
          -72,
          -54,
          -36,
          -18,
          0,
          18,
          36,
          54,
          72,
          90,
          108,
          126,
          144,
          162,
          180
         ],
         "y": [
          -90,
          -88,
          -86,
          -84,
          -82,
          -80,
          -78,
          -76,
          -74,
          -72,
          -70,
          -68,
          -66,
          -64,
          -62,
          -60,
          -58,
          -56,
          -54,
          -52,
          -50,
          -48,
          -46,
          -44,
          -42,
          -40,
          -38,
          -36,
          -34,
          -32,
          -30,
          -28,
          -26,
          -24,
          -22,
          -20,
          -18,
          -16,
          -14,
          -12,
          -10,
          -8,
          -6,
          -4,
          -2,
          0,
          2,
          4,
          6,
          8,
          10,
          12,
          14,
          16,
          18,
          20,
          22,
          24,
          26,
          28,
          30,
          32,
          34,
          36,
          38,
          40,
          42,
          44,
          46,
          48,
          50,
          52,
          54,
          56,
          58,
          60,
          62,
          64,
          66,
          68,
          70,
          72,
          74,
          76,
          78,
          80,
          82,
          84,
          86,
          88,
          90
         ],
         "z": [
          [
           970.4986136221692,
           970.4995792707073,
           970.5001038205303,
           970.5002429057107,
           970.4999806307992,
           970.4992891787597,
           970.498220209802,
           970.4968651227589,
           970.4953709505355,
           970.4939363862466,
           970.4927561491445,
           970.491945481236,
           970.4915242518326,
           970.4914090098262,
           970.491528225695,
           970.4918739517148,
           970.4925733514789,
           970.493781405617,
           970.4954399768794,
           970.4971830317426,
           970.4986136221692
          ],
          [
           966.4959355381553,
           966.5814019901322,
           966.3951190075605,
           963.5870462767341,
           962.1403704828422,
           963.9543417387808,
           966.4633853732187,
           968.4996372535744,
           971.5602577451311,
           974.8022978486716,
           976.5483033329588,
           978.4717801460396,
           980.2697041608652,
           978.3372408474254,
           971.7798462783894,
           965.883546216054,
           965.7714689821722,
           968.885586381937,
           969.0678008793972,
           967.4877093541888,
           966.4959355381553
          ],
          [
           968.3175520130262,
           965.3368494297897,
           962.9130767917518,
           959.2442633492012,
           956.8866238523277,
           958.413443244372,
           961.286873164982,
           964.4190744187748,
           969.3578876080164,
           973.0197379250701,
           974.9882028050895,
           979.2275609968709,
           982.3981490766786,
           979.2703634194052,
           970.7486513129699,
           962.8718006626359,
           960.9728163223936,
           964.5299330060122,
           968.4636485825541,
           969.9860661283337,
           968.3175520130262
          ],
          [
           969.0036588765797,
           959.4084683735258,
           953.9846597876333,
           951.3444266446954,
           950.437026476144,
           952.1880412363105,
           955.2826985808355,
           959.8171886606685,
           964.8252062758452,
           965.3756724746945,
           965.4064977385216,
           970.8756270850647,
           975.0516909631233,
           972.5901526128546,
           966.062219531639,
           958.4503160445804,
           954.038483450091,
           957.2518223414512,
           967.2128540599964,
           973.976152969427,
           969.0036588765797
          ],
          [
           958.36260359683,
           946.164943374306,
           939.5094904533396,
           940.501963549801,
           945.1898411392664,
           948.1416241669181,
           950.6335366319513,
           954.6246241713668,
           957.362404460757,
           956.6410580589658,
           956.2281061860524,
           959.7777160122253,
           963.4028835354343,
           962.4251983015073,
           957.3973652817654,
           950.8971511029843,
           946.7518167437668,
           948.9410116079179,
           958.3029863921977,
           965.0012493581237,
           958.36260359683
          ],
          [
           937.7506502986903,
           927.2868625685126,
           922.6450413234062,
           930.1248017901655,
           939.409558916394,
           941.996045487962,
           942.1760755699788,
           942.7058902353684,
           943.8664128152766,
           946.8790917034039,
           949.0349939482367,
           949.4225416890015,
           951.089689797649,
           951.0834608509617,
           946.048580586192,
           941.5584180057751,
           940.470768375309,
           940.99928007395,
           943.1480369632902,
           943.5862620134418,
           937.7506502986903
          ],
          [
           915.6250525756931,
           906.3178793714756,
           907.5892956064721,
           921.3550440403203,
           930.943543029831,
           930.7050432493638,
           927.4762699218318,
           925.9320764491799,
           928.8925747050589,
           936.3599905941923,
           941.0349860996953,
           940.1709996394218,
           941.356381191596,
           942.7302858375658,
           937.1610848478889,
           934.1069775024876,
           935.7930828328176,
           933.6141616549866,
           928.8758257074624,
           923.4917347811593,
           915.6250525756931
          ],
          [
           895.1595850855747,
           890.0303109534188,
           899.8782170512262,
           914.8260202717626,
           921.2722308146856,
           917.6972842083362,
           911.5486142264103,
           911.3421497160427,
           917.5847201092656,
           926.4446633157631,
           931.8202300267185,
           932.5428083184667,
           935.7868493188936,
           939.5812650547812,
           934.8213654597712,
           930.6857568850119,
           932.168420472166,
           928.3312528974756,
           918.3132106184207,
           906.8097485264498,
           895.1595850855747
          ],
          [
           877.0959715098755,
           881.2268849024888,
           900.367014961178,
           911.0157417904911,
           910.534331699557,
           904.9460144598543,
           899.6672704769921,
           901.9586878174789,
           909.5336441813146,
           917.373376890285,
           922.9324954553781,
           926.6254425485131,
           931.3266939279965,
           936.1800571998734,
           934.4848038061356,
           929.0758675823894,
           928.2074782174642,
           925.3316563511323,
           912.224389954705,
           892.510780255755,
           877.0959715098755
          ],
          [
           870.4627762195207,
           883.8616112358714,
           904.9422779876961,
           908.28666801035,
           900.3819335289438,
           893.1043929963662,
           891.0668790869079,
           895.2099597779888,
           902.2052939963828,
           909.0485789523495,
           915.6215562211073,
           921.7797431692702,
           928.2346612973467,
           934.2207946378564,
           933.2441516204759,
           927.9261204087213,
           926.0212574054204,
           921.8717519143365,
           907.4695541307713,
           884.352842365394,
           870.4627762195207
          ],
          [
           884.8441528920107,
           901.0663620532014,
           910.5988418763693,
           903.1129767961305,
           890.695697982799,
           883.2070451116649,
           883.2195641634594,
           887.5032936215437,
           893.4655821038464,
           900.3570093238284,
           908.2646263934064,
           916.8639300845155,
           926.7461732317345,
           934.6979577053335,
           933.9794130392912,
           928.9453541764058,
           924.6651004874649,
           917.8061412225214,
           905.1430149108519,
           888.1439445728482,
           884.8441528920107
          ],
          [
           911.9598963112352,
           919.6377637936118,
           911.1071637536213,
           893.2768283148938,
           879.7845016985564,
           874.5192753796114,
           875.7507801378481,
           880.0164342984145,
           885.3505559683915,
           891.9545902766388,
           900.2008629156185,
           910.2656095855,
           921.8366858743585,
           931.7718501823992,
           935.6973352819805,
           932.2897436925577,
           924.7820277321396,
           917.1925572140549,
           909.6826993927982,
           905.2551627368408,
           911.9598963112352
          ],
          [
           928.8509541531612,
           922.8135848584111,
           901.7080249128264,
           881.3362007453612,
           870.1023394439621,
           866.7289981193476,
           869.2278394256355,
           874.9541431610573,
           880.7110377477917,
           886.1710403536553,
           893.0491979229653,
           901.8676020726891,
           913.7754096202491,
           927.5906384165115,
           937.0010848651257,
           936.9745241670087,
           928.7969492149587,
           919.7001822443735,
           916.3010935822851,
           921.4849350680995,
           928.8509541531612
          ],
          [
           922.845493582281,
           907.8218701888643,
           884.7346496212419,
           868.1909894806508,
           860.8882484111487,
           860.1284979341925,
           865.2743745150564,
           872.6983494665748,
           879.1977958030745,
           883.89967350301,
           888.2755023216099,
           895.1007300107959,
           906.9986127109559,
           922.5759529556148,
           935.2434994000994,
           939.5383338781467,
           932.6285326094978,
           921.7439735235364,
           918.6171330853938,
           923.1468118831958,
           922.845493582281
          ],
          [
           902.316765940313,
           882.7831021172958,
           863.3473897819946,
           852.3367224901998,
           850.1393047557245,
           855.4487886416634,
           865.1514427809201,
           873.866576434503,
           880.2828624187048,
           884.0349615457312,
           886.306160162822,
           891.6549427443969,
           902.3008139783046,
           916.548988419128,
           930.841707112053,
           938.6478716877655,
           933.8771062105949,
           922.5222121086292,
           915.66168948823,
           912.4268930385715,
           902.316765940313
          ],
          [
           879.130634736267,
           856.958717073685,
           840.7282270423647,
           834.8097841422529,
           838.7347247292834,
           850.5521046182405,
           864.9873167415268,
           876.9885473152897,
           883.9597860032729,
           886.3249516214112,
           887.3391982563795,
           891.0276681722372,
           899.6693433058708,
           912.6700894032085,
           927.3735431476928,
           935.4391889483476,
           930.4688857798479,
           918.8496876096393,
           908.1848191938113,
           896.9304550688635,
           879.130634736267
          ],
          [
           858.5064676359134,
           833.7642759948454,
           817.8596504949722,
           815.1529870006781,
           824.854739515014,
           842.6152381012728,
           862.6291613999958,
           879.8697656806567,
           889.1140290985948,
           891.7294864994649,
           891.9333608670037,
           892.9312156141436,
           898.618247429928,
           909.6810241840449,
           923.2239209758621,
           928.9744402439164,
           921.66880871481,
           910.0141711282195,
           898.0025610198062,
           881.6474117787617,
           858.5064676359134
          ],
          [
           840.3372161789102,
           811.8468416420274,
           793.5377716160284,
           792.8567672713812,
           808.3482249887203,
           833.8560738646278,
           861.1856279364754,
           882.9621593186022,
           894.5586879888187,
           898.2434853067346,
           897.3490833423928,
           895.3279808570403,
           898.2715867989584,
           906.8432291087564,
           917.475685599703,
           920.4057988481327,
           911.0821050163809,
           898.8010845519898,
           885.3952252048283,
           866.3935077039121,
           840.3372161789102
          ],
          [
           821.0328390138073,
           788.7416940619953,
           768.3091220446178,
           771.1857104201152,
           794.0100062254907,
           827.3347301358482,
           861.198507427762,
           886.8843281386257,
           899.7128162940522,
           902.2801319594194,
           899.3517541417468,
           895.6308944374282,
           897.1446768870185,
           903.8829994624332,
           911.2629511477217,
           912.4513975010302,
           902.4463239989909,
           886.0481723876514,
           868.6149487060236,
           848.6804712398045,
           821.0328390138073
          ],
          [
           798.3105317101845,
           763.8829027122139,
           744.2995472350581,
           752.396778831188,
           784.1077251689977,
           825.0970463842713,
           863.4147346141392,
           890.3966845401237,
           902.1600698163576,
           903.1683308230298,
           898.6371908043834,
           893.3893154012851,
           893.6744891571195,
           899.6466573193113,
           905.6219177806248,
           906.1204164268697,
           895.2480126651639,
           872.8662013461867,
           850.2490324509519,
           828.7739613958719,
           798.3105317101845
          ],
          [
           773.5726016701632,
           739.8908763984076,
           724.2537235538944,
           738.5635510021094,
           778.4364824596983,
           825.4234302233465,
           865.4297290435451,
           890.2675815208245,
           899.4976850193372,
           900.0199848128423,
           895.1543918968088,
           888.8013174568275,
           888.1207817240117,
           893.7680223615514,
           900.1370477957984,
           899.9236343277436,
           885.958570471551,
           859.1980675117176,
           832.6327909682227,
           807.1950313862919,
           773.5726016701632
          ],
          [
           749.8433686750498,
           720.1722802552976,
           710.0329876670536,
           730.9977416992188,
           776.0160034876562,
           824.0766849802772,
           861.8112729824434,
           883.9123381489237,
           891.8606780569439,
           891.8250321001237,
           887.5303522172104,
           882.4730418029555,
           881.8570095798543,
           886.7407914157675,
           892.9576216616367,
           892.1342208241324,
           875.5521213353693,
           844.967341167998,
           813.1494357948388,
           783.0891112798838,
           749.8433686750498
          ],
          [
           730.3637172497214,
           707.0766983523586,
           703.0042258869653,
           728.5777290122252,
           775.0859901530773,
           820.8691823584496,
           854.2783573763686,
           874.0043048045495,
           881.9679307888973,
           882.22796821648,
           879.2229466535273,
           876.2596732489228,
           876.0201475490481,
           879.5449150090055,
           884.1676572672402,
           882.2685504653568,
           864.3431304977867,
           830.6272129980058,
           793.3602257963726,
           760.2354109432692,
           730.3637172497214
          ],
          [
           717.6287631807963,
           701.2648805865676,
           703.3460909290886,
           730.8738898624712,
           775.3422345848172,
           817.253047491178,
           847.0771332633981,
           865.4761542602342,
           874.0745286616138,
           875.5619594883902,
           873.7631647926852,
           871.7076224359203,
           871.2375468169129,
           873.0376797820484,
           875.213756252745,
           871.2231410787281,
           851.7579535518364,
           816.444919969575,
           777.1694009199003,
           743.7328484626032,
           717.6287631807963
          ],
          [
           711.1712412260413,
           700.8502746915093,
           707.6146402243098,
           734.7731756206334,
           775.1206468780697,
           813.1427431112113,
           841.1751851234249,
           859.6552978268728,
           869.3904154109064,
           872.1503071841018,
           871.1044889452057,
           869.0791040353265,
           867.782685413962,
           867.6975932693435,
           867.2096774110169,
           860.6938904370536,
           839.4751933641185,
           803.4522312057969,
           764.9131620840948,
           733.4820336918661,
           711.1712412260413
          ],
          [
           709.0621384277505,
           702.8321076883456,
           711.4926594135383,
           736.3182132096148,
           772.5876563801039,
           808.3353981171957,
           836.1622812042112,
           855.3202482255123,
           866.1689781950922,
           870.136492363695,
           869.7742334763996,
           867.6309320211342,
           865.419974734315,
           863.5742129397524,
           860.6068694888943,
           851.4848202297202,
           828.5929715021655,
           792.8330797847758,
           756.4190610330583,
           727.8926480961723,
           709.0621384277505
          ],
          [
           709.3952483568685,
           704.9814682602479,
           713.1829275911955,
           735.0207681390818,
           768.1540440938215,
           802.820046310435,
           830.9889741261211,
           850.7316584140341,
           862.3439947836655,
           867.3463253275249,
           867.9074464323062,
           866.0705864918677,
           863.3649179064197,
           860.2275654268976,
           855.1830399261739,
           843.7032684780283,
           819.6388267934344,
           785.0983004623989,
           751.4697337828926,
           725.7197539465504,
           709.3952483568685
          ],
          [
           710.8568012625756,
           706.720914489951,
           713.4195144669218,
           732.3206296691026,
           762.787125233937,
           796.3475699315443,
           824.3951539150269,
           844.1934320642102,
           856.186376947709,
           862.1480681714236,
           864.0332638396881,
           863.1890911075842,
           860.6498576879289,
           856.8608392601359,
           850.3471269463229,
           837.0199483138307,
           812.3070454465015,
           779.4475084448471,
           748.8021869606121,
           725.5977430873681,
           710.8568012625756
          ],
          [
           713.0681440292723,
           709.0040718261064,
           714.2812677385202,
           730.2130839226456,
           757.2959378654783,
           788.5733771659297,
           815.5731829002228,
           834.9614998484528,
           847.1886970267486,
           854.2277864439012,
           857.804078368395,
           858.5138843361931,
           856.767068354271,
           852.9431052381079,
           845.6103808711956,
           831.020297910897,
           805.9065051219027,
           774.6216970324199,
           746.8794834394457,
           726.3312588187927,
           713.0681440292723
          ],
          [
           716.1721217022789,
           713.029750796441,
           717.1920843286102,
           729.4259296131821,
           751.5140430334184,
           778.9358703609628,
           804.1773844714455,
           823.2065930680096,
           835.992859056283,
           844.4341194652154,
           849.9605191940179,
           852.5773049525537,
           852.1127246487047,
           848.7250442058898,
           841.0362590952282,
           825.5156419030651,
           799.9402505924988,
           769.8887960323526,
           744.7949673553894,
           727.1600017022708,
           716.1721217022789
          ],
          [
           720.3740984975199,
           718.8558379701881,
           721.5576876637097,
           728.8378650437028,
           744.3917371947292,
           767.0212339406639,
           790.4127158100681,
           809.6326688791046,
           823.7596388166336,
           834.2045726984481,
           841.9564832601445,
           846.6681461560111,
           847.790238959273,
           845.0777338218616,
           837.1189483199773,
           820.5772122061348,
           794.2717824462767,
           765.1646961181746,
           742.5668825182943,
           728.1650058729147,
           720.3740984975199
          ],
          [
           725.059287918881,
           724.7562971015138,
           725.0297455731593,
           726.2766856332025,
           734.8283760596966,
           752.9153801435775,
           775.0073123661575,
           795.1688681392847,
           811.5210615640399,
           824.7124950266494,
           835.1008055198354,
           842.060942054249,
           844.8273996263681,
           842.6947964660972,
           834.1563946989671,
           816.1186603318152,
           788.7041808347443,
           760.4191779412167,
           740.4165830826346,
           729.5263717788824,
           725.059287918881
          ],
          [
           728.5859724266003,
           728.2092042296706,
           724.9906806416319,
           720.0736819510848,
           722.5059916167866,
           737.2508259783568,
           758.8756578233674,
           780.5517933000867,
           799.7154501617197,
           816.221265654422,
           829.7550693120113,
           839.2637324264169,
           843.5898259127358,
           841.6258623510432,
           831.8627006600341,
           811.6288598280938,
           782.6904784026996,
           755.1955415043251,
           737.9319689454303,
           730.4694010144261,
           728.5859724266003
          ],
          [
           729.0401768871361,
           727.4300372611735,
           720.3595305847795,
           710.19410839382,
           708.2249799937481,
           721.1429121174478,
           743.0393197614301,
           766.4295162416647,
           788.5151434886182,
           808.4791975130859,
           825.4867359700064,
           837.8961443446626,
           843.7343443045729,
           841.4485931511427,
           829.7004771924918,
           806.564591020526,
           775.6423092644537,
           748.7338295737383,
           734.0621644366049,
           729.4586751199865,
           729.0401768871361
          ],
          [
           725.596190514219,
           722.4098743480006,
           712.012136568453,
           698.1165359185435,
           693.5929152998277,
           706.016128590521,
           728.7483191469116,
           753.8100595915901,
           778.4771701309868,
           801.5139984855687,
           821.8068827185637,
           837.1508095192137,
           844.477250233545,
           841.6244208649266,
           827.4559584362465,
           800.9249841968652,
           767.4846499137329,
           740.5823418484011,
           727.8689520633819,
           725.3296442212887,
           725.596190514219
          ],
          [
           718.8387041840103,
           714.3526238648024,
           701.6733048121205,
           685.7182116248565,
           680.2964139818142,
           693.2629650059589,
           717.2624257596786,
           743.9096948152371,
           770.5273143507306,
           795.7630269318142,
           818.5226133575168,
           836.2702091127583,
           844.9817234806203,
           841.7616386743816,
           825.3937228933978,
           795.4049101186765,
           759.0046106088712,
           731.3125689656661,
           719.5675548377075,
           718.2572726085291,
           718.8387041840103
          ],
          [
           710.1037242924458,
           704.6363049650557,
           690.7661407481183,
           674.3327904561197,
           669.5002870618168,
           683.8638923310821,
           709.4089630359557,
           737.4720495975085,
           765.264160264531,
           791.5422162868933,
           815.4929376288768,
           834.6298235314878,
           844.5193049806599,
           841.5630034856761,
           823.9436063411351,
           791.1252193404973,
           751.7308749076336,
           722.5533161961642,
           710.6967459886695,
           709.6522165651055,
           710.1037242924458
          ],
          [
           700.8513362638699,
           694.4468703979678,
           680.2993594458818,
           664.7930872159595,
           661.7423511510545,
           678.1152701942162,
           705.2547472584495,
           734.3268631739165,
           762.4159666808064,
           788.5257589591232,
           812.2444005871429,
           831.5923053502257,
           842.4330059689073,
           840.6029853396898,
           823.1855210917823,
           788.9214280974264,
           747.1813171850124,
           716.2053808874348,
           703.2712241471713,
           701.3350480732382,
           700.8513362638699
          ],
          [
           692.6478279001765,
           685.1916133306123,
           671.523888403957,
           657.9829426624908,
           657.3199470422074,
           675.6261471977658,
           703.9502439711792,
           733.3991181656081,
           760.8852140568371,
           785.6772667240828,
           807.9100438787668,
           826.5248420674855,
           838.1705835743494,
           838.2532821445495,
           822.5170627080488,
           788.5986221589203,
           745.9348387711682,
           713.5488005234047,
           698.9240228389692,
           694.9912910001034,
           692.6478279001765
          ],
          [
           687.1634234893338,
           678.783840029997,
           666.2138540227878,
           655.0111090807518,
           656.3545498037929,
           675.6352000279294,
           704.2147527650319,
           733.1857695436604,
           759.1784915902217,
           781.7018124468094,
           801.6663753456066,
           819.0817842228736,
           831.4483743494266,
           833.8796116022882,
           820.8529456130922,
           788.9024215212852,
           747.1346279586292,
           714.4770989516824,
           698.2381460313701,
           691.8084324909512,
           687.1634234893338
          ],
          [
           685.5550958907611,
           676.9012587605512,
           665.7711840181632,
           656.4046378321231,
           658.4586837230834,
           677.2545375646753,
           704.8929768533181,
           732.3857761716049,
           756.0898492892202,
           775.8503009317104,
           793.4140129678484,
           809.600243878102,
           822.5351928782089,
           827.2370494194997,
           817.2312576049187,
           788.2051213453256,
           748.8041028529128,
           717.2703248358815,
           700.330761922901,
           691.9695961938256,
           685.5550958907611
          ],
          [
           687.7133668243747,
           679.6813034209347,
           669.8518354653057,
           661.1318865907605,
           662.2990108499699,
           679.229729182291,
           704.8993114491179,
           730.2383349992979,
           751.393796831589,
           768.6037485735022,
           784.1782211943569,
           799.2844234825982,
           812.4261869587284,
           818.7693456865488,
           811.3344983581732,
           785.3099032857554,
           748.9431515894057,
           719.6289396576406,
           703.3670796049408,
           694.5357152403702,
           687.7133668243747
          ],
          [
           692.2236755596219,
           685.2627536324999,
           676.0217373278338,
           666.6030233258086,
           665.6942924903843,
           679.9726718888079,
           703.330316589075,
           726.6879747007637,
           745.9732758613368,
           761.5366163273869,
           775.8033497555989,
           789.913313094711,
           802.6347767509268,
           809.5245193647561,
           803.6022701997014,
           779.9655249258514,
           746.6218288880323,
           720.1622747146145,
           705.8297160678262,
           698.1046353475149,
           692.2236755596219
          ],
          [
           697.1191787170113,
           690.7650446872356,
           681.0356718342744,
           669.9420342657626,
           666.5063062952297,
           678.2037572903354,
           699.8284747548812,
           722.3317248032564,
           741.1716433375715,
           756.3410179501839,
           770.0191400900671,
           783.150400170684,
           794.7189810951589,
           800.8401049301058,
           795.070196107752,
           772.9193619669741,
           742.2944717063784,
           718.9823649031481,
           707.3518787026312,
           701.6265358321527,
           697.1191787170113
          ],
          [
           700.6908026990276,
           693.8272698562135,
           682.648258690644,
           669.5174876155467,
           663.7616552785009,
           673.6648179495911,
           694.8570534949374,
           718.0381622931244,
           737.9004498206308,
           753.8377121530948,
           767.5693267354973,
           779.841715491387,
           789.7804616671026,
           794.0703671666768,
           787.2126941827851,
           765.6350158991888,
           737.3065747077878,
           717.1121588473686,
           708.3165167708314,
           704.4870433288656,
           700.6908026990276
          ],
          [
           701.7163711394276,
           693.448773144324,
           680.5069546487321,
           665.6117545613655,
           658.2007522035237,
           667.4002623317465,
           689.4589577108028,
           714.407661523901,
           736.1415011437921,
           753.5977261140657,
           767.9609989403345,
           779.7663560643886,
           788.210609377222,
           790.4041852084932,
           781.7882781993933,
           759.9358770679446,
           733.1015504817535,
           715.3121129375816,
           708.6626855062271,
           705.869599773558,
           701.7163711394276
          ],
          [
           699.4141398869418,
           689.8740407087516,
           675.8013726561576,
           659.9306216899957,
           651.6894786537129,
           660.9734566632459,
           684.507583631526,
           711.4359310805592,
           735.1044841842479,
           754.3416376145617,
           769.8960229086987,
           782.0046875665412,
           789.8631381198254,
           790.7033863435004,
           780.402660154579,
           757.427041809256,
           730.5257375736201,
           713.3416903055714,
           707.2733026264289,
           704.4445832517271,
           699.4141398869418
          ],
          [
           693.7343181699532,
           684.0957907047558,
           670.1428194096824,
           654.2248263662121,
           645.7956265069481,
           655.4205350766416,
           680.2341299194804,
           708.7184965068749,
           733.8993082171729,
           754.8299876864814,
           772.0935586776858,
           785.554841572296,
           794.2596096934751,
           795.1136238163456,
           783.6302545508802,
           758.5693543551499,
           729.3957011398834,
           710.2458342741178,
           702.80562800764,
           699.2022446484775,
           693.7343181699532
          ],
          [
           685.6273564023423,
           677.1699129392399,
           664.3500358996179,
           649.0183011800325,
           640.7907123313846,
           650.7418554668658,
           676.4080881489247,
           705.9350410595019,
           732.1667937722391,
           754.5286197727266,
           773.7817773984856,
           789.5044946626379,
           800.3306298181758,
           802.391220333408,
           790.1393671050176,
           762.0770202871701,
           728.6698957779964,
           705.4224119781568,
           695.210391222617,
           690.6513246427434,
           685.6273564023423
          ],
          [
           676.5641684576647,
           669.6416725864215,
           658.1431434389256,
           643.6838942423584,
           636.0166487121286,
           646.4031978182702,
           672.7338835531783,
           703.0549255741679,
           730.1090295571175,
           753.602995267798,
           774.6929816151854,
           792.9048843421871,
           806.250690080964,
           809.8823194933972,
           796.9655955343842,
           765.5570103876623,
           727.3125521783855,
           699.4250035195591,
           686.1711052447912,
           680.7473776785862,
           676.5641684576647
          ],
          [
           667.9470955529716,
           661.9461794223524,
           651.3181375902261,
           637.8482332414753,
           631.0922340983625,
           642.0598422270539,
           669.0182592809113,
           700.108732481324,
           728.0101226047757,
           752.5020499576126,
           775.0335498319612,
           795.1800809362146,
           810.3856091899104,
           815.0469393250385,
           801.3799016872258,
           767.1514983125701,
           725.0451970878833,
           693.5609061427621,
           677.930540524518,
           671.6842814741843,
           667.9470955529716
          ],
          [
           661.0257026265496,
           655.1420369035981,
           644.8491961719931,
           632.3038866699493,
           626.4114822723627,
           637.693148499253,
           665.0429676047535,
           696.8863083995625,
           725.8473367040007,
           751.5462792241892,
           775.323683072387,
           796.6515283773349,
           812.6001912767024,
           817.2687187344997,
           802.6416535140715,
           766.549900685859,
           722.232079301779,
           688.7741956133293,
           671.7958130066907,
           664.8798220874354,
           661.0257026265496
          ],
          [
           656.5030345259107,
           650.31374383505,
           639.9974692489234,
           627.9396048329675,
           622.2303081672385,
           633.0994710436269,
           660.4060681356501,
           692.943121736224,
           723.2801475376248,
           750.6776123750176,
           775.9075357760526,
           798.1283729860997,
           814.0797243656109,
           817.8122927537511,
           801.7858722986829,
           764.4440319963139,
           719.2498789857199,
           685.1050627843703,
           667.6707303139315,
           660.5511650761283,
           656.5030345259107
          ],
          [
           654.023701736428,
           647.4007611089338,
           636.5810281386163,
           624.1244229762606,
           617.63903227289,
           627.5042086849478,
           654.5451793409734,
           687.8506900655306,
           719.8340378600658,
           749.3590802841796,
           776.4346018956145,
           799.7861238675156,
           815.6635388254958,
           818.0200716281248,
           800.0998875697644,
           761.522833958089,
           716.1445163405072,
           682.0950566734787,
           664.8113379588124,
           658.0372507382015,
           654.023701736428
          ],
          [
           652.618929508897,
           645.1225339640199,
           632.9572226086785,
           619.0204420909716,
           611.0726887500041,
           619.9555870844474,
           647.0748399111767,
           681.4244610687385,
           715.1116617671074,
           746.7444635552392,
           775.8083772025924,
           800.5749939419317,
           816.662601035667,
           817.8423781774884,
           798.0000742546615,
           758.1599437903969,
           712.9606278551433,
           679.5779508699881,
           662.8765659564291,
           656.6583946781717,
           652.618929508897
          ],
          [
           651.5072409498389,
           642.1873881080583,
           627.6678819769664,
           611.4935303219725,
           601.9227326287568,
           610.2509329917904,
           638.072600020007,
           673.8238788304541,
           709.0301369731404,
           742.2414682693288,
           772.8601752329582,
           798.8736578454275,
           815.3766736009113,
           815.9871892358942,
           794.941662639151,
           754.480082596514,
           710.0877735222699,
           678.0092180800463,
           662.215807488432,
           656.3007834645088,
           651.5072409498389
          ],
          [
           650.3620445556531,
           638.1777818150944,
           620.7172809459987,
           602.2681085796761,
           591.3511645907909,
           599.4427567455346,
           628.2542498756222,
           665.5335651430839,
           701.9501867348649,
           735.9857903241309,
           767.2359122784219,
           793.7471302588015,
           810.5037044862013,
           811.169344621005,
           790.1541823820152,
           750.4422067402406,
           707.9915971539601,
           678.0197297885046,
           663.3399023886457,
           657.069740200058,
           650.3620445556531
          ],
          [
           649.0431218878017,
           633.5688725173993,
           613.4553038709626,
           593.3699011648764,
           581.5639818483634,
           589.366941851056,
           618.786818620473,
           657.2659908533142,
           694.522690256696,
           728.7227095134454,
           759.6503061487771,
           785.6398389511694,
           802.1132180947949,
           803.1865364838759,
           783.3812443614953,
           745.9443932047329,
           706.79518809226,
           679.7467665771386,
           666.1314645269479,
           658.6476219654103,
           649.0431218878017
          ],
          [
           647.551151904158,
           629.3360656241862,
           607.5455318467103,
           586.720530967555,
           574.4394676000494,
           581.661248149227,
           610.8746331615428,
           649.7881334899444,
           687.3911790616314,
           721.3315131681904,
           751.349533820537,
           776.0379824064547,
           791.6147666758396,
           793.0406464242847,
           775.0292850904091,
           740.8903829907292,
           706.083932763893,
           682.4390208689854,
           669.5672157962566,
           660.2271731495808,
           647.551151904158
          ],
          [
           646.0866020285929,
           626.2966930919514,
           603.8788111619867,
           583.0723493400433,
           570.6760717258024,
           577.0989513838151,
           605.3088137776847,
           643.7015486456876,
           681.0269734692383,
           714.4387395165427,
           743.3713321316583,
           766.558365745828,
           780.9356075627138,
           782.3616852416623,
           766.0094324543688,
           735.3464306538588,
           705.0672641636984,
           684.7005326918276,
           672.2248801708503,
           661.0597635469494,
           646.0866020285929
          ],
          [
           644.7069952903896,
           624.4072529859657,
           602.0971656221548,
           581.8838187738429,
           569.8083773309186,
           575.4902435025854,
           602.200224900261,
           639.2691423329595,
           675.7087947490725,
           708.3495722279857,
           736.2721206426061,
           758.2710548665273,
           771.5992367517522,
           772.7042830586452,
           757.3979446108792,
           729.5344058923472,
           703.0142343745229,
           685.2686547420484,
           673.0753664523126,
           660.7775919209336,
           644.7069952903896
          ],
          [
           642.7722789365747,
           622.601165195349,
           600.9813728235002,
           581.9587358286888,
           570.7396558946214,
           575.9615634240228,
           601.0322316028482,
           636.3500836346851,
           671.504709419806,
           703.2264023388575,
           730.3475123726539,
           751.6246077114854,
           764.3272274656977,
           765.0407997574375,
           750.0534111463027,
           723.8220231661652,
           699.7401591390098,
           683.6679606031252,
           671.74441516244,
           659.0808733330605,
           642.7722789365747
          ],
          [
           638.881438330854,
           619.3662600298295,
           599.3070650066869,
           582.2683495345368,
           572.4436943797475,
           577.5253531203642,
           601.0616806635752,
           634.5542530696075,
           668.319579468193,
           699.1812031518899,
           725.7603478925712,
           746.6434857264485,
           759.121581548115,
           759.5917726641761,
           744.4627142823924,
           718.8198970226408,
           695.7813150645137,
           680.2939524657263,
           668.2609165352085,
           655.2598349387575,
           638.881438330854
          ],
          [
           631.9398996564039,
           613.9197094348292,
           596.6508908825909,
           582.4476687257669,
           574.4199793353783,
           579.6074834982533,
           601.815955984529,
           633.6059462186748,
           666.0371999713901,
           696.1692104600286,
           722.4067216541868,
           743.0768192820061,
           755.5340022580873,
           755.9492978859605,
           740.6416280424739,
           715.0182722300619,
           691.9830706111331,
           675.9554472139592,
           662.7669642305478,
           648.5513268448288,
           631.9398996564039
          ],
          [
           622.7296710581402,
           607.2024947575717,
           593.718857257642,
           582.8134960029419,
           576.6811671453676,
           582.1096065319198,
           603.2316894265259,
           633.477285630953,
           664.5621596550492,
           693.9060431348589,
           719.8500237681332,
           740.445479871171,
           752.9732822397941,
           753.4541954888784,
           738.1838477626911,
           712.5504384616963,
           688.9840771893869,
           671.3951314153851,
           655.7514053967011,
           639.4199248471972,
           622.7296710581402
          ],
          [
           613.9240034431172,
           601.4280525119149,
           591.8026052562492,
           583.942240151374,
           579.4649846882298,
           585.1431344952881,
           605.4040727802086,
           634.2825270596945,
           663.8743624584358,
           692.0346737563983,
           717.4418776935588,
           738.02908460364,
           750.780213646475,
           751.4776590842635,
           736.5351449314613,
           711.1636245606218,
           686.9103869348319,
           667.1571143593816,
           648.465617314946,
           630.0692984469392,
           613.9240034431172
          ],
          [
           608.0887385152625,
           598.3782327838245,
           591.7301066962325,
           586.0979835115304,
           582.8585877375385,
           588.6591718752061,
           608.1233940642121,
           635.8005976984492,
           663.8134001534488,
           690.2788839013763,
           714.6499912753418,
           735.1057120977566,
           748.2421916419152,
           749.3951518552301,
           735.0447548088179,
           710.1589418259309,
           685.3020429608075,
           663.4666348439941,
           642.3382088084795,
           622.9711741106275,
           608.0887385152625
          ],
          [
           605.982599089125,
           598.34023148143,
           593.3993853926257,
           589.0924507563502,
           586.8093028722703,
           592.588471733681,
           610.9939137527721,
           637.3215367720638,
           663.7625492241528,
           688.4225495226101,
           711.403128976059,
           731.3616834305802,
           744.7961499958951,
           746.5127950967493,
           732.8266227798904,
           708.4545834508039,
           683.1613989174047,
           659.9225787201675,
           637.8275048744686,
           619.0484832851482,
           605.982599089125
          ],
          [
           606.744155801867,
           600.6841743311895,
           596.6359669431242,
           593.1824870542762,
           591.926191281591,
           597.7545778237695,
           614.7907178332761,
           639.6393515796528,
           664.4455671273066,
           686.7989806738734,
           707.9052663618036,
           726.923736252352,
           740.1825647770042,
           742.1421904516087,
           728.7932380274135,
           704.706953773819,
           679.1801607808281,
           655.6185844061537,
           634.3209228515625,
           617.5654085919199,
           606.744155801867
          ],
          [
           608.887288991927,
           604.0764232573672,
           600.8222806018231,
           598.5299862018533,
           598.4471735926633,
           604.2214838875842,
           619.9079384398187,
           643.4109700839849,
           666.1869587878327,
           685.5997871386103,
           704.486014656015,
           722.0940935791613,
           734.4316392403985,
           735.7629481879909,
           721.9373475409343,
           697.7368635675728,
           672.4103251913821,
           649.8888310733532,
           631.0130417702883,
           617.2867401435916,
           608.887288991927
          ],
          [
           611.3993375957106,
           607.8315331322224,
           605.1735295022336,
           604.2409347025063,
           605.600509938721,
           611.1717575966159,
           625.3586455117769,
           646.9095596421743,
           667.3361738717964,
           684.6633970122067,
           701.6573533149485,
           717.2431844424063,
           727.750606823664,
           727.1885724237754,
           711.8429246874812,
           687.3348448632667,
           663.0429966100113,
           642.9628843735929,
           627.645243639901,
           617.3183507796797,
           611.3993375957106
          ],
          [
           613.8121720373008,
           611.8303527806042,
           610.1237175911338,
           610.4897987313407,
           613.5925229605745,
           619.4091758563319,
           631.5799897341941,
           650.1842182436304,
           668.7173139535636,
           684.9469208233169,
           699.9682721838624,
           712.8886509105665,
           720.5736900109272,
           716.8956915164117,
           699.2922339146717,
           674.8104961889538,
           652.6216440038025,
           636.0063555467027,
           624.6585613771214,
           617.5252934680879,
           613.8121720373008
          ],
          [
           616.1148416509909,
           615.3967052264221,
           615.6333305718472,
           617.9317867811983,
           622.7241670792163,
           628.9692061070439,
           638.9680014243032,
           654.6351923033069,
           671.9283630832015,
           687.2177215623256,
           699.8880069723058,
           709.6004573899593,
           713.6687233526317,
           706.2258347534231,
           686.3366067262516,
           662.6382713951224,
           643.4806956852184,
           630.6956413395346,
           622.9651848797918,
           618.4293106523758,
           616.1148416509909
          ],
          [
           619.0781335536944,
           619.2897683009921,
           620.9872103175878,
           625.6534165345272,
           632.394582643879,
           638.4452261225903,
           646.949672541253,
           660.9041928210955,
           676.8602372826833,
           690.9903412834734,
           701.3789968580905,
           707.6441065755429,
           707.8703651267949,
           696.9293442571452,
           675.5174911450134,
           653.4752302447938,
           637.8605838799801,
           628.5942510215924,
           623.4424251369098,
           620.4324602116039,
           619.0781335536944
          ],
          [
           622.8289401654501,
           623.7212729173033,
           625.6922445305975,
           632.167967149459,
           641.2685857311277,
           647.19797810329,
           654.3866969852089,
           667.4488699478247,
           682.8037936825768,
           695.836515935134,
           703.9185020278231,
           706.9057510475653,
           703.6590564267223,
           690.2858760487889,
           668.7018368627022,
           649.1273325693951,
           637.0243553354971,
           630.3412974673595,
           626.3118581755587,
           623.5981545669578,
           622.8289401654501
          ],
          [
           626.7613837639148,
           627.4564165196181,
           629.0465755284389,
           635.1718744444846,
           644.7825711876956,
           653.3809752871814,
           662.941173904689,
           676.2524107650654,
           691.3041088117611,
           702.0236285809343,
           706.9552332306893,
           707.2017353573076,
           701.1734110866175,
           686.6588050876343,
           666.3324540006688,
           649.7697051843573,
           640.5472237585913,
           635.1113369722409,
           630.8217764594715,
           627.6691768524851,
           626.7613837639148
          ],
          [
           629.8848607007935,
           629.7537098502239,
           630.9151865298602,
           635.9756873132683,
           643.9820365731407,
           654.0881733533638,
           669.5281481529743,
           686.1563068181586,
           700.2193033463492,
           709.5469462040048,
           711.321026124603,
           708.0475629638199,
           700.2725550665489,
           685.714095401464,
           667.59081237519,
           653.939129396135,
           646.3832869250564,
           640.8915067232255,
           635.5728539893487,
           631.5649068794273,
           629.8848607007935
          ],
          [
           631.2263162534624,
           630.8765159548093,
           633.1413645537685,
           638.8222806093228,
           645.9150893223231,
           653.9913232136366,
           670.2767474501386,
           688.9686075904834,
           703.9211497343962,
           716.5481123623815,
           717.1326192852706,
           709.176664123739,
           700.0972387697501,
           686.475760067757,
           670.8539350948488,
           659.296777768129,
           651.9877716520808,
           645.5655545273845,
           639.1534464020887,
           634.0616981747839,
           631.2263162534624
          ],
          [
           632.2326221048122,
           632.2727141756848,
           636.542843687185,
           643.102583061984,
           651.098437228669,
           661.5912262329516,
           674.928482538739,
           688.79376346114,
           704.2497711136728,
           718.9179951881353,
           721.0416262116325,
           711.4110531808582,
           699.9165196921316,
           687.3667942726072,
           674.1839266362849,
           663.743735130362,
           655.6960935468549,
           648.0368120366995,
           640.8193783219181,
           635.4829124533024,
           632.2326221048122
          ],
          [
           634.0744184623943,
           634.6692423704324,
           639.36002777137,
           647.7146846867352,
           659.314067553965,
           672.2762420812105,
           683.4014364781613,
           694.4170287019094,
           706.3157613044284,
           716.9038329667238,
           721.8034981771566,
           714.0017505249778,
           699.9486861896904,
           687.5568261735368,
           676.3350188613382,
           666.4254892968469,
           657.4747186007723,
           649.0258676846793,
           641.5262788370305,
           636.4910379974834,
           634.0744184623943
          ],
          [
           636.168980224432,
           638.5493624882189,
           643.9359856460879,
           654.3965530919825,
           668.9107672984536,
           678.8311902496475,
           687.5958793625288,
           701.7447217981343,
           712.0243845474029,
           718.2380914490823,
           723.668395156556,
           717.8403824880147,
           702.1873896667644,
           688.0488166021262,
           677.5053053619852,
           668.1101585406578,
           659.0640339208436,
           650.6479020771299,
           643.2193478110162,
           637.8419278562262,
           636.168980224432
          ],
          [
           639.9310685430682,
           644.7130015163665,
           652.8162424606809,
           664.1429875712947,
           676.6248796436532,
           683.1439144240261,
           689.9986668240864,
           703.6827241842428,
           715.4214882304527,
           721.7688385163772,
           725.9410987457165,
           722.4961106590381,
           707.2903447603459,
           690.4620538362942,
           678.994675111601,
           670.2114729180482,
           661.8113865060294,
           653.6041499300883,
           646.3278839290415,
           640.9430194853702,
           639.9310685430682
          ],
          [
           646.3272666667085,
           653.7739913141359,
           664.5183052536738,
           675.6656616470922,
           684.470788958009,
           688.1560247741292,
           693.2246589687963,
           703.796334547834,
           714.7653481586699,
           721.7475220385386,
           723.8941967378275,
           722.171545676044,
           713.1486459069274,
           698.3034194868642,
           684.9356311374771,
           674.8748654678734,
           666.3468141479302,
           657.9010774804622,
           650.3922527318924,
           645.6328707463339,
           646.3272666667085
          ],
          [
           654.8671239093976,
           665.2995073044445,
           677.983342725105,
           688.2110870089732,
           694.2891874650203,
           694.0314692102556,
           694.4275812371973,
           703.3084028735982,
           715.2995013965076,
           721.9212853306042,
           720.0799268946193,
           717.5039414505251,
           716.0096657453463,
           707.2845574518249,
           694.0938908273724,
           682.7608520317699,
           673.2145480957375,
           663.9487325149646,
           655.7410149564855,
           651.7301644034408,
           654.8671239093976
          ],
          [
           664.8343880765246,
           676.3223292696122,
           690.0818746855293,
           700.4770343226307,
           703.685377298193,
           698.0906799058617,
           693.493266080561,
           701.2849611646631,
           715.758654939607,
           721.9266129348832,
           717.3311079917022,
           712.5780517951666,
           711.7875964647635,
           707.5748661791464,
           697.86875381921,
           688.3196794812861,
           678.8785542811534,
           669.1672491053289,
           661.8435938687487,
           659.8195709261112,
           664.8343880765246
          ],
          [
           675.2355021522749,
           685.1571609590038,
           697.5322909102837,
           707.1285597787792,
           708.0814497675938,
           699.5034690090483,
           693.1259022569334,
           698.5689289782314,
           710.3823304768848,
           717.1306494553206,
           715.607761520924,
           709.3204393631868,
           704.4511237470481,
           701.6819736032833,
           695.0130330430031,
           687.683933524443,
           680.7908175729104,
           673.802318724317,
           670.324779919227,
           670.5620496279935,
           675.2355021522749
          ],
          [
           684.8342939433463,
           692.2144643263925,
           701.6604159571536,
           708.0934557695169,
           706.6473863328549,
           697.8564633679032,
           691.9162671663511,
           694.84783369386,
           701.539230614155,
           707.8005177256738,
           710.5449773893876,
           706.3620725864788,
           699.6051678512512,
           695.248507861249,
           690.6812883961614,
           686.410797339882,
           683.5808153161685,
           681.5811178851563,
           681.2547938178443,
           681.8374670366138,
           684.8342939433463
          ],
          [
           690.2246338074978,
           694.9671772569864,
           701.6527550295302,
           704.7215360356935,
           700.8120752856312,
           693.5833912887468,
           690.1665425111532,
           692.1640255063518,
           695.3138815560859,
           697.344396147862,
           699.5974572312518,
           699.7261781080151,
           695.5962935131183,
           691.6799880756824,
           690.1615095652012,
           689.1421481590188,
           689.0373036393964,
           689.4439257970967,
           688.8950160296984,
           688.7003354994388,
           690.2246338074978
          ],
          [
           691.3719528658476,
           693.3299381808691,
           696.6344803735,
           697.5401141392399,
           694.3741871929476,
           690.6372355971623,
           689.9102827747406,
           689.7090123095202,
           690.1022609697537,
           690.8080308662438,
           692.3338701446748,
           693.6091770858745,
           692.1738484791944,
           691.9513026068423,
           693.0752053066301,
           693.0511889327217,
           693.0734256108041,
           693.2292440059107,
           692.3519853728052,
           691.5464757328217,
           691.3719528658476
          ],
          [
           691.9977271503822,
           692.2895937077045,
           693.006099664891,
           693.2952821776703,
           692.2647166555454,
           690.9079981173154,
           691.1505700412713,
           689.5884529811217,
           688.5666992629259,
           690.2526269528757,
           692.0903738699599,
           692.3523760871401,
           691.4750840585154,
           692.5467398145402,
           694.1649447073562,
           694.4224783371137,
           694.0975330395217,
           694.0490033727522,
           693.8112742082103,
           692.9237532760955,
           691.9977271503822
          ],
          [
           693.2266425082697,
           693.226736855443,
           693.22669226381,
           693.2264430192164,
           693.2259764507539,
           693.2253493498183,
           693.2246687401071,
           693.2240425820379,
           693.2235586421987,
           693.2232676228739,
           693.2232019088328,
           693.2233615000755,
           693.2237135395814,
           693.224182925589,
           693.2246969032676,
           693.2251967993658,
           693.2256356752831,
           693.2259900617189,
           693.2262580821202,
           693.2264711823768,
           693.2266425082697
          ]
         ]
        }
       ],
       "layout": {
        "autosize": false,
        "height": 400,
        "margin": {
         "b": 32,
         "pad": 0,
         "r": 30,
         "t": 40
        },
        "template": {
         "data": {
          "bar": [
           {
            "error_x": {
             "color": "#2a3f5f"
            },
            "error_y": {
             "color": "#2a3f5f"
            },
            "marker": {
             "line": {
              "color": "#E5ECF6",
              "width": 0.5
             },
             "pattern": {
              "fillmode": "overlay",
              "size": 10,
              "solidity": 0.2
             }
            },
            "type": "bar"
           }
          ],
          "barpolar": [
           {
            "marker": {
             "line": {
              "color": "#E5ECF6",
              "width": 0.5
             },
             "pattern": {
              "fillmode": "overlay",
              "size": 10,
              "solidity": 0.2
             }
            },
            "type": "barpolar"
           }
          ],
          "carpet": [
           {
            "aaxis": {
             "endlinecolor": "#2a3f5f",
             "gridcolor": "white",
             "linecolor": "white",
             "minorgridcolor": "white",
             "startlinecolor": "#2a3f5f"
            },
            "baxis": {
             "endlinecolor": "#2a3f5f",
             "gridcolor": "white",
             "linecolor": "white",
             "minorgridcolor": "white",
             "startlinecolor": "#2a3f5f"
            },
            "type": "carpet"
           }
          ],
          "choropleth": [
           {
            "colorbar": {
             "outlinewidth": 0,
             "ticks": ""
            },
            "type": "choropleth"
           }
          ],
          "contour": [
           {
            "colorbar": {
             "outlinewidth": 0,
             "ticks": ""
            },
            "colorscale": [
             [
              0,
              "#0d0887"
             ],
             [
              0.1111111111111111,
              "#46039f"
             ],
             [
              0.2222222222222222,
              "#7201a8"
             ],
             [
              0.3333333333333333,
              "#9c179e"
             ],
             [
              0.4444444444444444,
              "#bd3786"
             ],
             [
              0.5555555555555556,
              "#d8576b"
             ],
             [
              0.6666666666666666,
              "#ed7953"
             ],
             [
              0.7777777777777778,
              "#fb9f3a"
             ],
             [
              0.8888888888888888,
              "#fdca26"
             ],
             [
              1,
              "#f0f921"
             ]
            ],
            "type": "contour"
           }
          ],
          "contourcarpet": [
           {
            "colorbar": {
             "outlinewidth": 0,
             "ticks": ""
            },
            "type": "contourcarpet"
           }
          ],
          "heatmap": [
           {
            "colorbar": {
             "outlinewidth": 0,
             "ticks": ""
            },
            "colorscale": [
             [
              0,
              "#0d0887"
             ],
             [
              0.1111111111111111,
              "#46039f"
             ],
             [
              0.2222222222222222,
              "#7201a8"
             ],
             [
              0.3333333333333333,
              "#9c179e"
             ],
             [
              0.4444444444444444,
              "#bd3786"
             ],
             [
              0.5555555555555556,
              "#d8576b"
             ],
             [
              0.6666666666666666,
              "#ed7953"
             ],
             [
              0.7777777777777778,
              "#fb9f3a"
             ],
             [
              0.8888888888888888,
              "#fdca26"
             ],
             [
              1,
              "#f0f921"
             ]
            ],
            "type": "heatmap"
           }
          ],
          "heatmapgl": [
           {
            "colorbar": {
             "outlinewidth": 0,
             "ticks": ""
            },
            "colorscale": [
             [
              0,
              "#0d0887"
             ],
             [
              0.1111111111111111,
              "#46039f"
             ],
             [
              0.2222222222222222,
              "#7201a8"
             ],
             [
              0.3333333333333333,
              "#9c179e"
             ],
             [
              0.4444444444444444,
              "#bd3786"
             ],
             [
              0.5555555555555556,
              "#d8576b"
             ],
             [
              0.6666666666666666,
              "#ed7953"
             ],
             [
              0.7777777777777778,
              "#fb9f3a"
             ],
             [
              0.8888888888888888,
              "#fdca26"
             ],
             [
              1,
              "#f0f921"
             ]
            ],
            "type": "heatmapgl"
           }
          ],
          "histogram": [
           {
            "marker": {
             "pattern": {
              "fillmode": "overlay",
              "size": 10,
              "solidity": 0.2
             }
            },
            "type": "histogram"
           }
          ],
          "histogram2d": [
           {
            "colorbar": {
             "outlinewidth": 0,
             "ticks": ""
            },
            "colorscale": [
             [
              0,
              "#0d0887"
             ],
             [
              0.1111111111111111,
              "#46039f"
             ],
             [
              0.2222222222222222,
              "#7201a8"
             ],
             [
              0.3333333333333333,
              "#9c179e"
             ],
             [
              0.4444444444444444,
              "#bd3786"
             ],
             [
              0.5555555555555556,
              "#d8576b"
             ],
             [
              0.6666666666666666,
              "#ed7953"
             ],
             [
              0.7777777777777778,
              "#fb9f3a"
             ],
             [
              0.8888888888888888,
              "#fdca26"
             ],
             [
              1,
              "#f0f921"
             ]
            ],
            "type": "histogram2d"
           }
          ],
          "histogram2dcontour": [
           {
            "colorbar": {
             "outlinewidth": 0,
             "ticks": ""
            },
            "colorscale": [
             [
              0,
              "#0d0887"
             ],
             [
              0.1111111111111111,
              "#46039f"
             ],
             [
              0.2222222222222222,
              "#7201a8"
             ],
             [
              0.3333333333333333,
              "#9c179e"
             ],
             [
              0.4444444444444444,
              "#bd3786"
             ],
             [
              0.5555555555555556,
              "#d8576b"
             ],
             [
              0.6666666666666666,
              "#ed7953"
             ],
             [
              0.7777777777777778,
              "#fb9f3a"
             ],
             [
              0.8888888888888888,
              "#fdca26"
             ],
             [
              1,
              "#f0f921"
             ]
            ],
            "type": "histogram2dcontour"
           }
          ],
          "mesh3d": [
           {
            "colorbar": {
             "outlinewidth": 0,
             "ticks": ""
            },
            "type": "mesh3d"
           }
          ],
          "parcoords": [
           {
            "line": {
             "colorbar": {
              "outlinewidth": 0,
              "ticks": ""
             }
            },
            "type": "parcoords"
           }
          ],
          "pie": [
           {
            "automargin": true,
            "type": "pie"
           }
          ],
          "scatter": [
           {
            "fillpattern": {
             "fillmode": "overlay",
             "size": 10,
             "solidity": 0.2
            },
            "type": "scatter"
           }
          ],
          "scatter3d": [
           {
            "line": {
             "colorbar": {
              "outlinewidth": 0,
              "ticks": ""
             }
            },
            "marker": {
             "colorbar": {
              "outlinewidth": 0,
              "ticks": ""
             }
            },
            "type": "scatter3d"
           }
          ],
          "scattercarpet": [
           {
            "marker": {
             "colorbar": {
              "outlinewidth": 0,
              "ticks": ""
             }
            },
            "type": "scattercarpet"
           }
          ],
          "scattergeo": [
           {
            "marker": {
             "colorbar": {
              "outlinewidth": 0,
              "ticks": ""
             }
            },
            "type": "scattergeo"
           }
          ],
          "scattergl": [
           {
            "marker": {
             "colorbar": {
              "outlinewidth": 0,
              "ticks": ""
             }
            },
            "type": "scattergl"
           }
          ],
          "scattermapbox": [
           {
            "marker": {
             "colorbar": {
              "outlinewidth": 0,
              "ticks": ""
             }
            },
            "type": "scattermapbox"
           }
          ],
          "scatterpolar": [
           {
            "marker": {
             "colorbar": {
              "outlinewidth": 0,
              "ticks": ""
             }
            },
            "type": "scatterpolar"
           }
          ],
          "scatterpolargl": [
           {
            "marker": {
             "colorbar": {
              "outlinewidth": 0,
              "ticks": ""
             }
            },
            "type": "scatterpolargl"
           }
          ],
          "scatterternary": [
           {
            "marker": {
             "colorbar": {
              "outlinewidth": 0,
              "ticks": ""
             }
            },
            "type": "scatterternary"
           }
          ],
          "surface": [
           {
            "colorbar": {
             "outlinewidth": 0,
             "ticks": ""
            },
            "colorscale": [
             [
              0,
              "#0d0887"
             ],
             [
              0.1111111111111111,
              "#46039f"
             ],
             [
              0.2222222222222222,
              "#7201a8"
             ],
             [
              0.3333333333333333,
              "#9c179e"
             ],
             [
              0.4444444444444444,
              "#bd3786"
             ],
             [
              0.5555555555555556,
              "#d8576b"
             ],
             [
              0.6666666666666666,
              "#ed7953"
             ],
             [
              0.7777777777777778,
              "#fb9f3a"
             ],
             [
              0.8888888888888888,
              "#fdca26"
             ],
             [
              1,
              "#f0f921"
             ]
            ],
            "type": "surface"
           }
          ],
          "table": [
           {
            "cells": {
             "fill": {
              "color": "#EBF0F8"
             },
             "line": {
              "color": "white"
             }
            },
            "header": {
             "fill": {
              "color": "#C8D4E3"
             },
             "line": {
              "color": "white"
             }
            },
            "type": "table"
           }
          ]
         },
         "layout": {
          "annotationdefaults": {
           "arrowcolor": "#2a3f5f",
           "arrowhead": 0,
           "arrowwidth": 1
          },
          "autotypenumbers": "strict",
          "coloraxis": {
           "colorbar": {
            "outlinewidth": 0,
            "ticks": ""
           }
          },
          "colorscale": {
           "diverging": [
            [
             0,
             "#8e0152"
            ],
            [
             0.1,
             "#c51b7d"
            ],
            [
             0.2,
             "#de77ae"
            ],
            [
             0.3,
             "#f1b6da"
            ],
            [
             0.4,
             "#fde0ef"
            ],
            [
             0.5,
             "#f7f7f7"
            ],
            [
             0.6,
             "#e6f5d0"
            ],
            [
             0.7,
             "#b8e186"
            ],
            [
             0.8,
             "#7fbc41"
            ],
            [
             0.9,
             "#4d9221"
            ],
            [
             1,
             "#276419"
            ]
           ],
           "sequential": [
            [
             0,
             "#0d0887"
            ],
            [
             0.1111111111111111,
             "#46039f"
            ],
            [
             0.2222222222222222,
             "#7201a8"
            ],
            [
             0.3333333333333333,
             "#9c179e"
            ],
            [
             0.4444444444444444,
             "#bd3786"
            ],
            [
             0.5555555555555556,
             "#d8576b"
            ],
            [
             0.6666666666666666,
             "#ed7953"
            ],
            [
             0.7777777777777778,
             "#fb9f3a"
            ],
            [
             0.8888888888888888,
             "#fdca26"
            ],
            [
             1,
             "#f0f921"
            ]
           ],
           "sequentialminus": [
            [
             0,
             "#0d0887"
            ],
            [
             0.1111111111111111,
             "#46039f"
            ],
            [
             0.2222222222222222,
             "#7201a8"
            ],
            [
             0.3333333333333333,
             "#9c179e"
            ],
            [
             0.4444444444444444,
             "#bd3786"
            ],
            [
             0.5555555555555556,
             "#d8576b"
            ],
            [
             0.6666666666666666,
             "#ed7953"
            ],
            [
             0.7777777777777778,
             "#fb9f3a"
            ],
            [
             0.8888888888888888,
             "#fdca26"
            ],
            [
             1,
             "#f0f921"
            ]
           ]
          },
          "colorway": [
           "#636efa",
           "#EF553B",
           "#00cc96",
           "#ab63fa",
           "#FFA15A",
           "#19d3f3",
           "#FF6692",
           "#B6E880",
           "#FF97FF",
           "#FECB52"
          ],
          "font": {
           "color": "#2a3f5f"
          },
          "geo": {
           "bgcolor": "white",
           "lakecolor": "white",
           "landcolor": "#E5ECF6",
           "showlakes": true,
           "showland": true,
           "subunitcolor": "white"
          },
          "hoverlabel": {
           "align": "left"
          },
          "hovermode": "closest",
          "mapbox": {
           "style": "light"
          },
          "paper_bgcolor": "white",
          "plot_bgcolor": "#E5ECF6",
          "polar": {
           "angularaxis": {
            "gridcolor": "white",
            "linecolor": "white",
            "ticks": ""
           },
           "bgcolor": "#E5ECF6",
           "radialaxis": {
            "gridcolor": "white",
            "linecolor": "white",
            "ticks": ""
           }
          },
          "scene": {
           "xaxis": {
            "backgroundcolor": "#E5ECF6",
            "gridcolor": "white",
            "gridwidth": 2,
            "linecolor": "white",
            "showbackground": true,
            "ticks": "",
            "zerolinecolor": "white"
           },
           "yaxis": {
            "backgroundcolor": "#E5ECF6",
            "gridcolor": "white",
            "gridwidth": 2,
            "linecolor": "white",
            "showbackground": true,
            "ticks": "",
            "zerolinecolor": "white"
           },
           "zaxis": {
            "backgroundcolor": "#E5ECF6",
            "gridcolor": "white",
            "gridwidth": 2,
            "linecolor": "white",
            "showbackground": true,
            "ticks": "",
            "zerolinecolor": "white"
           }
          },
          "shapedefaults": {
           "line": {
            "color": "#2a3f5f"
           }
          },
          "ternary": {
           "aaxis": {
            "gridcolor": "white",
            "linecolor": "white",
            "ticks": ""
           },
           "baxis": {
            "gridcolor": "white",
            "linecolor": "white",
            "ticks": ""
           },
           "bgcolor": "#E5ECF6",
           "caxis": {
            "gridcolor": "white",
            "linecolor": "white",
            "ticks": ""
           }
          },
          "title": {
           "x": 0.05
          },
          "xaxis": {
           "automargin": true,
           "gridcolor": "white",
           "linecolor": "white",
           "ticks": "",
           "title": {
            "standoff": 15
           },
           "zerolinecolor": "white",
           "zerolinewidth": 2
          },
          "yaxis": {
           "automargin": true,
           "gridcolor": "white",
           "linecolor": "white",
           "ticks": "",
           "title": {
            "standoff": 15
           },
           "zerolinecolor": "white",
           "zerolinewidth": 2
          }
         }
        },
        "title": {
         "text": "$\\operatorname{CTIPeT_{n}}(lon[deg],lat[deg])[K] = \\operatorname{CTIPeT_{n}}(time[hr],lon[deg],lat[deg],height[km])[K] = \\lambda{\\left(time,lon,lat,height \\right)}, time = 12.0,height = 300.0$"
        },
        "width": 700,
        "xaxis": {
         "title": {
          "text": "$ lon  [deg]$"
         }
        },
        "yaxis": {
         "title": {
          "text": "$ lat  [deg]$"
         }
        }
       }
      }
     },
     "metadata": {},
     "output_type": "display_data"
    }
   ],
   "source": [
    "# Plot each. Note that the user can automatically slice a pressure level variable by height!\n",
    "# Areas of the grid where the height is greater than the pressure level will be blank.\n",
    "# Change the time and height values as desired.\n",
    "# This is an example of a default Kamodo plot.\n",
    "kamodo_object.plot('CTIPeT_n', plot_partial={'CTIPeT_n': {'time': 12., 'height': 300.}})"
   ]
  },
  {
   "cell_type": "code",
   "execution_count": null,
   "id": "91c9e905",
   "metadata": {},
   "outputs": [
    {
     "name": "stdout",
     "output_type": "stream",
     "text": [
      "Inverting the pressure level grid. Please wait...done.\n"
     ]
    },
    {
     "data": {
      "application/vnd.plotly.v1+json": {
       "config": {
        "plotlyServerURL": "https://plot.ly"
       },
       "data": [
        {
         "colorbar": {
          "title": {
           "side": "bottom",
           "text": "CTIPeT_n[K]"
          }
         },
         "colorscale": [
          [
           0,
           "#440154"
          ],
          [
           0.1111111111111111,
           "#482878"
          ],
          [
           0.2222222222222222,
           "#3e4989"
          ],
          [
           0.3333333333333333,
           "#31688e"
          ],
          [
           0.4444444444444444,
           "#26828e"
          ],
          [
           0.5555555555555556,
           "#1f9e89"
          ],
          [
           0.6666666666666666,
           "#35b779"
          ],
          [
           0.7777777777777778,
           "#6ece58"
          ],
          [
           0.8888888888888888,
           "#b5de2b"
          ],
          [
           1,
           "#fde725"
          ]
         ],
         "contours": {
          "coloring": "fill",
          "showlines": false
         },
         "hovertemplate": "lon [deg]: %{x:.3f} <br>lat [deg]: %{y:.3f} <br>CTIPeT_n[K]: %{z:.4g} <br><extra></extra>",
         "meta": "2d-grid",
         "ncontours": 200,
         "type": "contour",
         "x": [
          -180,
          -162,
          -144,
          -126,
          -108,
          -90,
          -72,
          -54,
          -36,
          -18,
          0,
          18,
          36,
          54,
          72,
          90,
          108,
          126,
          144,
          162,
          180
         ],
         "y": [
          -90,
          -88,
          -86,
          -84,
          -82,
          -80,
          -78,
          -76,
          -74,
          -72,
          -70,
          -68,
          -66,
          -64,
          -62,
          -60,
          -58,
          -56,
          -54,
          -52,
          -50,
          -48,
          -46,
          -44,
          -42,
          -40,
          -38,
          -36,
          -34,
          -32,
          -30,
          -28,
          -26,
          -24,
          -22,
          -20,
          -18,
          -16,
          -14,
          -12,
          -10,
          -8,
          -6,
          -4,
          -2,
          0,
          2,
          4,
          6,
          8,
          10,
          12,
          14,
          16,
          18,
          20,
          22,
          24,
          26,
          28,
          30,
          32,
          34,
          36,
          38,
          40,
          42,
          44,
          46,
          48,
          50,
          52,
          54,
          56,
          58,
          60,
          62,
          64,
          66,
          68,
          70,
          72,
          74,
          76,
          78,
          80,
          82,
          84,
          86,
          88,
          90
         ],
         "z": [
          [
           970.4986136221692,
           970.4995792707073,
           970.5001038205303,
           970.5002429057107,
           970.4999806307992,
           970.4992891787597,
           970.498220209802,
           970.4968651227589,
           970.4953709505355,
           970.4939363862466,
           970.4927561491445,
           970.491945481236,
           970.4915242518326,
           970.4914090098262,
           970.491528225695,
           970.4918739517148,
           970.4925733514789,
           970.493781405617,
           970.4954399768794,
           970.4971830317426,
           970.4986136221692
          ],
          [
           966.4959355381553,
           966.5814019901322,
           966.3951190075605,
           963.5870462767341,
           962.1403704828422,
           963.9543417387808,
           966.4633853732187,
           968.4996372535744,
           971.5602577451311,
           974.8022978486716,
           976.5483033329588,
           978.4717801460396,
           980.2697041608652,
           978.3372408474254,
           971.7798462783894,
           965.883546216054,
           965.7714689821722,
           968.885586381937,
           969.0678008793972,
           967.4877093541888,
           966.4959355381553
          ],
          [
           968.3175520130262,
           965.3368494297897,
           962.9130767917518,
           959.2442633492012,
           956.8866238523277,
           958.413443244372,
           961.286873164982,
           964.4190744187748,
           969.3578876080164,
           973.0197379250701,
           974.9882028050895,
           979.2275609968709,
           982.3981490766786,
           979.2703634194052,
           970.7486513129699,
           962.8718006626359,
           960.9728163223936,
           964.5299330060122,
           968.4636485825541,
           969.9860661283337,
           968.3175520130262
          ],
          [
           969.0036588765797,
           959.4084683735258,
           953.9846597876333,
           951.3444266446954,
           950.437026476144,
           952.1880412363105,
           955.2826985808355,
           959.8171886606685,
           964.8252062758452,
           965.3756724746945,
           965.4064977385216,
           970.8756270850647,
           975.0516909631233,
           972.5901526128546,
           966.062219531639,
           958.4503160445804,
           954.038483450091,
           957.2518223414512,
           967.2128540599964,
           973.976152969427,
           969.0036588765797
          ],
          [
           958.36260359683,
           946.164943374306,
           939.5094904533396,
           940.501963549801,
           945.1898411392664,
           948.1416241669181,
           950.6335366319513,
           954.6246241713668,
           957.362404460757,
           956.6410580589658,
           956.2281061860524,
           959.7777160122253,
           963.4028835354343,
           962.4251983015073,
           957.3973652817654,
           950.8971511029843,
           946.7518167437668,
           948.9410116079179,
           958.3029863921977,
           965.0012493581237,
           958.36260359683
          ],
          [
           937.7506502986903,
           927.2868625685126,
           922.6450413234062,
           930.1248017901655,
           939.409558916394,
           941.996045487962,
           942.1760755699788,
           942.7058902353684,
           943.8664128152766,
           946.8790917034039,
           949.0349939482367,
           949.4225416890015,
           951.089689797649,
           951.0834608509617,
           946.048580586192,
           941.5584180057751,
           940.470768375309,
           940.99928007395,
           943.1480369632902,
           943.5862620134418,
           937.7506502986903
          ],
          [
           915.6250525756931,
           906.3178793714756,
           907.5892956064721,
           921.3550440403203,
           930.943543029831,
           930.7050432493638,
           927.4762699218318,
           925.9320764491799,
           928.8925747050589,
           936.3599905941923,
           941.0349860996953,
           940.1709996394218,
           941.356381191596,
           942.7302858375658,
           937.1610848478889,
           934.1069775024876,
           935.7930828328176,
           933.6141616549866,
           928.8758257074624,
           923.4917347811593,
           915.6250525756931
          ],
          [
           895.1595850855747,
           890.0303109534188,
           899.8782170512262,
           914.8260202717626,
           921.2722308146856,
           917.6972842083362,
           911.5486142264103,
           911.3421497160427,
           917.5847201092656,
           926.4446633157631,
           931.8202300267185,
           932.5428083184667,
           935.7868493188936,
           939.5812650547812,
           934.8213654597712,
           930.6857568850119,
           932.168420472166,
           928.3312528974756,
           918.3132106184207,
           906.8097485264498,
           895.1595850855747
          ],
          [
           877.0959715098755,
           881.2268849024888,
           900.367014961178,
           911.0157417904911,
           910.534331699557,
           904.9460144598543,
           899.6672704769921,
           901.9586878174789,
           909.5336441813146,
           917.373376890285,
           922.9324954553781,
           926.6254425485131,
           931.3266939279965,
           936.1800571998734,
           934.4848038061356,
           929.0758675823894,
           928.2074782174642,
           925.3316563511323,
           912.224389954705,
           892.510780255755,
           877.0959715098755
          ],
          [
           870.4627762195207,
           883.8616112358714,
           904.9422779876961,
           908.28666801035,
           900.3819335289438,
           893.1043929963662,
           891.0668790869079,
           895.2099597779888,
           902.2052939963828,
           909.0485789523495,
           915.6215562211073,
           921.7797431692702,
           928.2346612973467,
           934.2207946378564,
           933.2441516204759,
           927.9261204087213,
           926.0212574054204,
           921.8717519143365,
           907.4695541307713,
           884.352842365394,
           870.4627762195207
          ],
          [
           884.8441528920107,
           901.0663620532014,
           910.5988418763693,
           903.1129767961305,
           890.695697982799,
           883.2070451116649,
           883.2195641634594,
           887.5032936215437,
           893.4655821038464,
           900.3570093238284,
           908.2646263934064,
           916.8639300845155,
           926.7461732317345,
           934.6979577053335,
           933.9794130392912,
           928.9453541764058,
           924.6651004874649,
           917.8061412225214,
           905.1430149108519,
           888.1439445728482,
           884.8441528920107
          ],
          [
           911.9598963112352,
           919.6377637936118,
           911.1071637536213,
           893.2768283148938,
           879.7845016985564,
           874.5192753796114,
           875.7507801378481,
           880.0164342984145,
           885.3505559683915,
           891.9545902766388,
           900.2008629156185,
           910.2656095855,
           921.8366858743585,
           931.7718501823992,
           935.6973352819805,
           932.2897436925577,
           924.7820277321396,
           917.1925572140549,
           909.6826993927982,
           905.2551627368408,
           911.9598963112352
          ],
          [
           928.8509541531612,
           922.8135848584111,
           901.7080249128264,
           881.3362007453612,
           870.1023394439621,
           866.7289981193476,
           869.2278394256355,
           874.9541431610573,
           880.7110377477917,
           886.1710403536553,
           893.0491979229653,
           901.8676020726891,
           913.7754096202491,
           927.5906384165115,
           937.0010848651257,
           936.9745241670087,
           928.7969492149587,
           919.7001822443735,
           916.3010935822851,
           921.4849350680995,
           928.8509541531612
          ],
          [
           922.845493582281,
           907.8218701888643,
           884.7346496212419,
           868.1909894806508,
           860.8882484111487,
           860.1284979341925,
           865.2743745150564,
           872.6983494665748,
           879.1977958030745,
           883.89967350301,
           888.2755023216099,
           895.1007300107959,
           906.9986127109559,
           922.5759529556148,
           935.2434994000994,
           939.5383338781467,
           932.6285326094978,
           921.7439735235364,
           918.6171330853938,
           923.1468118831958,
           922.845493582281
          ],
          [
           902.316765940313,
           882.7831021172958,
           863.3473897819946,
           852.3367224901998,
           850.1393047557245,
           855.4487886416634,
           865.1514427809201,
           873.866576434503,
           880.2828624187048,
           884.0349615457312,
           886.306160162822,
           891.6549427443969,
           902.3008139783046,
           916.548988419128,
           930.841707112053,
           938.6478716877655,
           933.8771062105949,
           922.5222121086292,
           915.66168948823,
           912.4268930385715,
           902.316765940313
          ],
          [
           879.130634736267,
           856.958717073685,
           840.7282270423647,
           834.8097841422529,
           838.7347247292834,
           850.5521046182405,
           864.9873167415268,
           876.9885473152897,
           883.9597860032729,
           886.3249516214112,
           887.3391982563795,
           891.0276681722372,
           899.6693433058708,
           912.6700894032085,
           927.3735431476928,
           935.4391889483476,
           930.4688857798479,
           918.8496876096393,
           908.1848191938113,
           896.9304550688635,
           879.130634736267
          ],
          [
           858.5064676359134,
           833.7642759948454,
           817.8596504949722,
           815.1529870006781,
           824.854739515014,
           842.6152381012728,
           862.6291613999958,
           879.8697656806567,
           889.1140290985948,
           891.7294864994649,
           891.9333608670037,
           892.9312156141436,
           898.618247429928,
           909.6810241840449,
           923.2239209758621,
           928.9744402439164,
           921.66880871481,
           910.0141711282195,
           898.0025610198062,
           881.6474117787617,
           858.5064676359134
          ],
          [
           840.3372161789102,
           811.8468416420274,
           793.5377716160284,
           792.8567672713812,
           808.3482249887203,
           833.8560738646278,
           861.1856279364754,
           882.9621593186022,
           894.5586879888187,
           898.2434853067346,
           897.3490833423928,
           895.3279808570403,
           898.2715867989584,
           906.8432291087564,
           917.475685599703,
           920.4057988481327,
           911.0821050163809,
           898.8010845519898,
           885.3952252048283,
           866.3935077039121,
           840.3372161789102
          ],
          [
           821.0328390138073,
           788.7416940619953,
           768.3091220446178,
           771.1857104201152,
           794.0100062254907,
           827.3347301358482,
           861.198507427762,
           886.8843281386257,
           899.7128162940522,
           902.2801319594194,
           899.3517541417468,
           895.6308944374282,
           897.1446768870185,
           903.8829994624332,
           911.2629511477217,
           912.4513975010302,
           902.4463239989909,
           886.0481723876514,
           868.6149487060236,
           848.6804712398045,
           821.0328390138073
          ],
          [
           798.3105317101845,
           763.8829027122139,
           744.2995472350581,
           752.396778831188,
           784.1077251689977,
           825.0970463842713,
           863.4147346141392,
           890.3966845401237,
           902.1600698163576,
           903.1683308230298,
           898.6371908043834,
           893.3893154012851,
           893.6744891571195,
           899.6466573193113,
           905.6219177806248,
           906.1204164268697,
           895.2480126651639,
           872.8662013461867,
           850.2490324509519,
           828.7739613958719,
           798.3105317101845
          ],
          [
           773.5726016701632,
           739.8908763984076,
           724.2537235538944,
           738.5635510021094,
           778.4364824596983,
           825.4234302233465,
           865.4297290435451,
           890.2675815208245,
           899.4976850193372,
           900.0199848128423,
           895.1543918968088,
           888.8013174568275,
           888.1207817240117,
           893.7680223615514,
           900.1370477957984,
           899.9236343277436,
           885.958570471551,
           859.1980675117176,
           832.6327909682227,
           807.1950313862919,
           773.5726016701632
          ],
          [
           749.8433686750498,
           720.1722802552976,
           710.0329876670536,
           730.9977416992188,
           776.0160034876562,
           824.0766849802772,
           861.8112729824434,
           883.9123381489237,
           891.8606780569439,
           891.8250321001237,
           887.5303522172104,
           882.4730418029555,
           881.8570095798543,
           886.7407914157675,
           892.9576216616367,
           892.1342208241324,
           875.5521213353693,
           844.967341167998,
           813.1494357948388,
           783.0891112798838,
           749.8433686750498
          ],
          [
           730.3637172497214,
           707.0766983523586,
           703.0042258869653,
           728.5777290122252,
           775.0859901530773,
           820.8691823584496,
           854.2783573763686,
           874.0043048045495,
           881.9679307888973,
           882.22796821648,
           879.2229466535273,
           876.2596732489228,
           876.0201475490481,
           879.5449150090055,
           884.1676572672402,
           882.2685504653568,
           864.3431304977867,
           830.6272129980058,
           793.3602257963726,
           760.2354109432692,
           730.3637172497214
          ],
          [
           717.6287631807963,
           701.2648805865676,
           703.3460909290886,
           730.8738898624712,
           775.3422345848172,
           817.253047491178,
           847.0771332633981,
           865.4761542602342,
           874.0745286616138,
           875.5619594883902,
           873.7631647926852,
           871.7076224359203,
           871.2375468169129,
           873.0376797820484,
           875.213756252745,
           871.2231410787281,
           851.7579535518364,
           816.444919969575,
           777.1694009199003,
           743.7328484626032,
           717.6287631807963
          ],
          [
           711.1712412260413,
           700.8502746915093,
           707.6146402243098,
           734.7731756206334,
           775.1206468780697,
           813.1427431112113,
           841.1751851234249,
           859.6552978268728,
           869.3904154109064,
           872.1503071841018,
           871.1044889452057,
           869.0791040353265,
           867.782685413962,
           867.6975932693435,
           867.2096774110169,
           860.6938904370536,
           839.4751933641185,
           803.4522312057969,
           764.9131620840948,
           733.4820336918661,
           711.1712412260413
          ],
          [
           709.0621384277505,
           702.8321076883456,
           711.4926594135383,
           736.3182132096148,
           772.5876563801039,
           808.3353981171957,
           836.1622812042112,
           855.3202482255123,
           866.1689781950922,
           870.136492363695,
           869.7742334763996,
           867.6309320211342,
           865.419974734315,
           863.5742129397524,
           860.6068694888943,
           851.4848202297202,
           828.5929715021655,
           792.8330797847758,
           756.4190610330583,
           727.8926480961723,
           709.0621384277505
          ],
          [
           709.3952483568685,
           704.9814682602479,
           713.1829275911955,
           735.0207681390818,
           768.1540440938215,
           802.820046310435,
           830.9889741261211,
           850.7316584140341,
           862.3439947836655,
           867.3463253275249,
           867.9074464323062,
           866.0705864918677,
           863.3649179064197,
           860.2275654268976,
           855.1830399261739,
           843.7032684780283,
           819.6388267934344,
           785.0983004623989,
           751.4697337828926,
           725.7197539465504,
           709.3952483568685
          ],
          [
           710.8568012625756,
           706.720914489951,
           713.4195144669218,
           732.3206296691026,
           762.787125233937,
           796.3475699315443,
           824.3951539150269,
           844.1934320642102,
           856.186376947709,
           862.1480681714236,
           864.0332638396881,
           863.1890911075842,
           860.6498576879289,
           856.8608392601359,
           850.3471269463229,
           837.0199483138307,
           812.3070454465015,
           779.4475084448471,
           748.8021869606121,
           725.5977430873681,
           710.8568012625756
          ],
          [
           713.0681440292723,
           709.0040718261064,
           714.2812677385202,
           730.2130839226456,
           757.2959378654783,
           788.5733771659297,
           815.5731829002228,
           834.9614998484528,
           847.1886970267486,
           854.2277864439012,
           857.804078368395,
           858.5138843361931,
           856.767068354271,
           852.9431052381079,
           845.6103808711956,
           831.020297910897,
           805.9065051219027,
           774.6216970324199,
           746.8794834394457,
           726.3312588187927,
           713.0681440292723
          ],
          [
           716.1721217022789,
           713.029750796441,
           717.1920843286102,
           729.4259296131821,
           751.5140430334184,
           778.9358703609628,
           804.1773844714455,
           823.2065930680096,
           835.992859056283,
           844.4341194652154,
           849.9605191940179,
           852.5773049525537,
           852.1127246487047,
           848.7250442058898,
           841.0362590952282,
           825.5156419030651,
           799.9402505924988,
           769.8887960323526,
           744.7949673553894,
           727.1600017022708,
           716.1721217022789
          ],
          [
           720.3740984975199,
           718.8558379701881,
           721.5576876637097,
           728.8378650437028,
           744.3917371947292,
           767.0212339406639,
           790.4127158100681,
           809.6326688791046,
           823.7596388166336,
           834.2045726984481,
           841.9564832601445,
           846.6681461560111,
           847.790238959273,
           845.0777338218616,
           837.1189483199773,
           820.5772122061348,
           794.2717824462767,
           765.1646961181746,
           742.5668825182943,
           728.1650058729147,
           720.3740984975199
          ],
          [
           725.059287918881,
           724.7562971015138,
           725.0297455731593,
           726.2766856332025,
           734.8283760596966,
           752.9153801435775,
           775.0073123661575,
           795.1688681392847,
           811.5210615640399,
           824.7124950266494,
           835.1008055198354,
           842.060942054249,
           844.8273996263681,
           842.6947964660972,
           834.1563946989671,
           816.1186603318152,
           788.7041808347443,
           760.4191779412167,
           740.4165830826346,
           729.5263717788824,
           725.059287918881
          ],
          [
           728.5859724266003,
           728.2092042296706,
           724.9906806416319,
           720.0736819510848,
           722.5059916167866,
           737.2508259783568,
           758.8756578233674,
           780.5517933000867,
           799.7154501617197,
           816.221265654422,
           829.7550693120113,
           839.2637324264169,
           843.5898259127358,
           841.6258623510432,
           831.8627006600341,
           811.6288598280938,
           782.6904784026996,
           755.1955415043251,
           737.9319689454303,
           730.4694010144261,
           728.5859724266003
          ],
          [
           729.0401768871361,
           727.4300372611735,
           720.3595305847795,
           710.19410839382,
           708.2249799937481,
           721.1429121174478,
           743.0393197614301,
           766.4295162416647,
           788.5151434886182,
           808.4791975130859,
           825.4867359700064,
           837.8961443446626,
           843.7343443045729,
           841.4485931511427,
           829.7004771924918,
           806.564591020526,
           775.6423092644537,
           748.7338295737383,
           734.0621644366049,
           729.4586751199865,
           729.0401768871361
          ],
          [
           725.596190514219,
           722.4098743480006,
           712.012136568453,
           698.1165359185435,
           693.5929152998277,
           706.016128590521,
           728.7483191469116,
           753.8100595915901,
           778.4771701309868,
           801.5139984855687,
           821.8068827185637,
           837.1508095192137,
           844.477250233545,
           841.6244208649266,
           827.4559584362465,
           800.9249841968652,
           767.4846499137329,
           740.5823418484011,
           727.8689520633819,
           725.3296442212887,
           725.596190514219
          ],
          [
           718.8387041840103,
           714.3526238648024,
           701.6733048121205,
           685.7182116248565,
           680.2964139818142,
           693.2629650059589,
           717.2624257596786,
           743.9096948152371,
           770.5273143507306,
           795.7630269318142,
           818.5226133575168,
           836.2702091127583,
           844.9817234806203,
           841.7616386743816,
           825.3937228933978,
           795.4049101186765,
           759.0046106088712,
           731.3125689656661,
           719.5675548377075,
           718.2572726085291,
           718.8387041840103
          ],
          [
           710.1037242924458,
           704.6363049650557,
           690.7661407481183,
           674.3327904561197,
           669.5002870618168,
           683.8638923310821,
           709.4089630359557,
           737.4720495975085,
           765.264160264531,
           791.5422162868933,
           815.4929376288768,
           834.6298235314878,
           844.5193049806599,
           841.5630034856761,
           823.9436063411351,
           791.1252193404973,
           751.7308749076336,
           722.5533161961642,
           710.6967459886695,
           709.6522165651055,
           710.1037242924458
          ],
          [
           700.8513362638699,
           694.4468703979678,
           680.2993594458818,
           664.7930872159595,
           661.7423511510545,
           678.1152701942162,
           705.2547472584495,
           734.3268631739165,
           762.4159666808064,
           788.5257589591232,
           812.2444005871429,
           831.5923053502257,
           842.4330059689073,
           840.6029853396898,
           823.1855210917823,
           788.9214280974264,
           747.1813171850124,
           716.2053808874348,
           703.2712241471713,
           701.3350480732382,
           700.8513362638699
          ],
          [
           692.6478279001765,
           685.1916133306123,
           671.523888403957,
           657.9829426624908,
           657.3199470422074,
           675.6261471977658,
           703.9502439711792,
           733.3991181656081,
           760.8852140568371,
           785.6772667240828,
           807.9100438787668,
           826.5248420674855,
           838.1705835743494,
           838.2532821445495,
           822.5170627080488,
           788.5986221589203,
           745.9348387711682,
           713.5488005234047,
           698.9240228389692,
           694.9912910001034,
           692.6478279001765
          ],
          [
           687.1634234893338,
           678.783840029997,
           666.2138540227878,
           655.0111090807518,
           656.3545498037929,
           675.6352000279294,
           704.2147527650319,
           733.1857695436604,
           759.1784915902217,
           781.7018124468094,
           801.6663753456066,
           819.0817842228736,
           831.4483743494266,
           833.8796116022882,
           820.8529456130922,
           788.9024215212852,
           747.1346279586292,
           714.4770989516824,
           698.2381460313701,
           691.8084324909512,
           687.1634234893338
          ],
          [
           685.5550958907611,
           676.9012587605512,
           665.7711840181632,
           656.4046378321231,
           658.4586837230834,
           677.2545375646753,
           704.8929768533181,
           732.3857761716049,
           756.0898492892202,
           775.8503009317104,
           793.4140129678484,
           809.600243878102,
           822.5351928782089,
           827.2370494194997,
           817.2312576049187,
           788.2051213453256,
           748.8041028529128,
           717.2703248358815,
           700.330761922901,
           691.9695961938256,
           685.5550958907611
          ],
          [
           687.7133668243747,
           679.6813034209347,
           669.8518354653057,
           661.1318865907605,
           662.2990108499699,
           679.229729182291,
           704.8993114491179,
           730.2383349992979,
           751.393796831589,
           768.6037485735022,
           784.1782211943569,
           799.2844234825982,
           812.4261869587284,
           818.7693456865488,
           811.3344983581732,
           785.3099032857554,
           748.9431515894057,
           719.6289396576406,
           703.3670796049408,
           694.5357152403702,
           687.7133668243747
          ],
          [
           692.2236755596219,
           685.2627536324999,
           676.0217373278338,
           666.6030233258086,
           665.6942924903843,
           679.9726718888079,
           703.330316589075,
           726.6879747007637,
           745.9732758613368,
           761.5366163273869,
           775.8033497555989,
           789.913313094711,
           802.6347767509268,
           809.5245193647561,
           803.6022701997014,
           779.9655249258514,
           746.6218288880323,
           720.1622747146145,
           705.8297160678262,
           698.1046353475149,
           692.2236755596219
          ],
          [
           697.1191787170113,
           690.7650446872356,
           681.0356718342744,
           669.9420342657626,
           666.5063062952297,
           678.2037572903354,
           699.8284747548812,
           722.3317248032564,
           741.1716433375715,
           756.3410179501839,
           770.0191400900671,
           783.150400170684,
           794.7189810951589,
           800.8401049301058,
           795.070196107752,
           772.9193619669741,
           742.2944717063784,
           718.9823649031481,
           707.3518787026312,
           701.6265358321527,
           697.1191787170113
          ],
          [
           700.6908026990276,
           693.8272698562135,
           682.648258690644,
           669.5174876155467,
           663.7616552785009,
           673.6648179495911,
           694.8570534949374,
           718.0381622931244,
           737.9004498206308,
           753.8377121530948,
           767.5693267354973,
           779.841715491387,
           789.7804616671026,
           794.0703671666768,
           787.2126941827851,
           765.6350158991888,
           737.3065747077878,
           717.1121588473686,
           708.3165167708314,
           704.4870433288656,
           700.6908026990276
          ],
          [
           701.7163711394276,
           693.448773144324,
           680.5069546487321,
           665.6117545613655,
           658.2007522035237,
           667.4002623317465,
           689.4589577108028,
           714.407661523901,
           736.1415011437921,
           753.5977261140657,
           767.9609989403345,
           779.7663560643886,
           788.210609377222,
           790.4041852084932,
           781.7882781993933,
           759.9358770679446,
           733.1015504817535,
           715.3121129375816,
           708.6626855062271,
           705.869599773558,
           701.7163711394276
          ],
          [
           699.4141398869418,
           689.8740407087516,
           675.8013726561576,
           659.9306216899957,
           651.6894786537129,
           660.9734566632459,
           684.507583631526,
           711.4359310805592,
           735.1044841842479,
           754.3416376145617,
           769.8960229086987,
           782.0046875665412,
           789.8631381198254,
           790.7033863435004,
           780.402660154579,
           757.427041809256,
           730.5257375736201,
           713.3416903055714,
           707.2733026264289,
           704.4445832517271,
           699.4141398869418
          ],
          [
           693.7343181699532,
           684.0957907047558,
           670.1428194096824,
           654.2248263662121,
           645.7956265069481,
           655.4205350766416,
           680.2341299194804,
           708.7184965068749,
           733.8993082171729,
           754.8299876864814,
           772.0935586776858,
           785.554841572296,
           794.2596096934751,
           795.1136238163456,
           783.6302545508802,
           758.5693543551499,
           729.3957011398834,
           710.2458342741178,
           702.80562800764,
           699.2022446484775,
           693.7343181699532
          ],
          [
           685.6273564023423,
           677.1699129392399,
           664.3500358996179,
           649.0183011800325,
           640.7907123313846,
           650.7418554668658,
           676.4080881489247,
           705.9350410595019,
           732.1667937722391,
           754.5286197727266,
           773.7817773984856,
           789.5044946626379,
           800.3306298181758,
           802.391220333408,
           790.1393671050176,
           762.0770202871701,
           728.6698957779964,
           705.4224119781568,
           695.210391222617,
           690.6513246427434,
           685.6273564023423
          ],
          [
           676.5641684576647,
           669.6416725864215,
           658.1431434389256,
           643.6838942423584,
           636.0166487121286,
           646.4031978182702,
           672.7338835531783,
           703.0549255741679,
           730.1090295571175,
           753.602995267798,
           774.6929816151854,
           792.9048843421871,
           806.250690080964,
           809.8823194933972,
           796.9655955343842,
           765.5570103876623,
           727.3125521783855,
           699.4250035195591,
           686.1711052447912,
           680.7473776785862,
           676.5641684576647
          ],
          [
           667.9470955529716,
           661.9461794223524,
           651.3181375902261,
           637.8482332414753,
           631.0922340983625,
           642.0598422270539,
           669.0182592809113,
           700.108732481324,
           728.0101226047757,
           752.5020499576126,
           775.0335498319612,
           795.1800809362146,
           810.3856091899104,
           815.0469393250385,
           801.3799016872258,
           767.1514983125701,
           725.0451970878833,
           693.5609061427621,
           677.930540524518,
           671.6842814741843,
           667.9470955529716
          ],
          [
           661.0257026265496,
           655.1420369035981,
           644.8491961719931,
           632.3038866699493,
           626.4114822723627,
           637.693148499253,
           665.0429676047535,
           696.8863083995625,
           725.8473367040007,
           751.5462792241892,
           775.323683072387,
           796.6515283773349,
           812.6001912767024,
           817.2687187344997,
           802.6416535140715,
           766.549900685859,
           722.232079301779,
           688.7741956133293,
           671.7958130066907,
           664.8798220874354,
           661.0257026265496
          ],
          [
           656.5030345259107,
           650.31374383505,
           639.9974692489234,
           627.9396048329675,
           622.2303081672385,
           633.0994710436269,
           660.4060681356501,
           692.943121736224,
           723.2801475376248,
           750.6776123750176,
           775.9075357760526,
           798.1283729860997,
           814.0797243656109,
           817.8122927537511,
           801.7858722986829,
           764.4440319963139,
           719.2498789857199,
           685.1050627843703,
           667.6707303139315,
           660.5511650761283,
           656.5030345259107
          ],
          [
           654.023701736428,
           647.4007611089338,
           636.5810281386163,
           624.1244229762606,
           617.63903227289,
           627.5042086849478,
           654.5451793409734,
           687.8506900655306,
           719.8340378600658,
           749.3590802841796,
           776.4346018956145,
           799.7861238675156,
           815.6635388254958,
           818.0200716281248,
           800.0998875697644,
           761.522833958089,
           716.1445163405072,
           682.0950566734787,
           664.8113379588124,
           658.0372507382015,
           654.023701736428
          ],
          [
           652.618929508897,
           645.1225339640199,
           632.9572226086785,
           619.0204420909716,
           611.0726887500041,
           619.9555870844474,
           647.0748399111767,
           681.4244610687385,
           715.1116617671074,
           746.7444635552392,
           775.8083772025924,
           800.5749939419317,
           816.662601035667,
           817.8423781774884,
           798.0000742546615,
           758.1599437903969,
           712.9606278551433,
           679.5779508699881,
           662.8765659564291,
           656.6583946781717,
           652.618929508897
          ],
          [
           651.5072409498389,
           642.1873881080583,
           627.6678819769664,
           611.4935303219725,
           601.9227326287568,
           610.2509329917904,
           638.072600020007,
           673.8238788304541,
           709.0301369731404,
           742.2414682693288,
           772.8601752329582,
           798.8736578454275,
           815.3766736009113,
           815.9871892358942,
           794.941662639151,
           754.480082596514,
           710.0877735222699,
           678.0092180800463,
           662.215807488432,
           656.3007834645088,
           651.5072409498389
          ],
          [
           650.3620445556531,
           638.1777818150944,
           620.7172809459987,
           602.2681085796761,
           591.3511645907909,
           599.4427567455346,
           628.2542498756222,
           665.5335651430839,
           701.9501867348649,
           735.9857903241309,
           767.2359122784219,
           793.7471302588015,
           810.5037044862013,
           811.169344621005,
           790.1541823820152,
           750.4422067402406,
           707.9915971539601,
           678.0197297885046,
           663.3399023886457,
           657.069740200058,
           650.3620445556531
          ],
          [
           649.0431218878017,
           633.5688725173993,
           613.4553038709626,
           593.3699011648764,
           581.5639818483634,
           589.366941851056,
           618.786818620473,
           657.2659908533142,
           694.522690256696,
           728.7227095134454,
           759.6503061487771,
           785.6398389511694,
           802.1132180947949,
           803.1865364838759,
           783.3812443614953,
           745.9443932047329,
           706.79518809226,
           679.7467665771386,
           666.1314645269479,
           658.6476219654103,
           649.0431218878017
          ],
          [
           647.551151904158,
           629.3360656241862,
           607.5455318467103,
           586.720530967555,
           574.4394676000494,
           581.661248149227,
           610.8746331615428,
           649.7881334899444,
           687.3911790616314,
           721.3315131681904,
           751.349533820537,
           776.0379824064547,
           791.6147666758396,
           793.0406464242847,
           775.0292850904091,
           740.8903829907292,
           706.083932763893,
           682.4390208689854,
           669.5672157962566,
           660.2271731495808,
           647.551151904158
          ],
          [
           646.0866020285929,
           626.2966930919514,
           603.8788111619867,
           583.0723493400433,
           570.6760717258024,
           577.0989513838151,
           605.3088137776847,
           643.7015486456876,
           681.0269734692383,
           714.4387395165427,
           743.3713321316583,
           766.558365745828,
           780.9356075627138,
           782.3616852416623,
           766.0094324543688,
           735.3464306538588,
           705.0672641636984,
           684.7005326918276,
           672.2248801708503,
           661.0597635469494,
           646.0866020285929
          ],
          [
           644.7069952903896,
           624.4072529859657,
           602.0971656221548,
           581.8838187738429,
           569.8083773309186,
           575.4902435025854,
           602.200224900261,
           639.2691423329595,
           675.7087947490725,
           708.3495722279857,
           736.2721206426061,
           758.2710548665273,
           771.5992367517522,
           772.7042830586452,
           757.3979446108792,
           729.5344058923472,
           703.0142343745229,
           685.2686547420484,
           673.0753664523126,
           660.7775919209336,
           644.7069952903896
          ],
          [
           642.7722789365747,
           622.601165195349,
           600.9813728235002,
           581.9587358286888,
           570.7396558946214,
           575.9615634240228,
           601.0322316028482,
           636.3500836346851,
           671.504709419806,
           703.2264023388575,
           730.3475123726539,
           751.6246077114854,
           764.3272274656977,
           765.0407997574375,
           750.0534111463027,
           723.8220231661652,
           699.7401591390098,
           683.6679606031252,
           671.74441516244,
           659.0808733330605,
           642.7722789365747
          ],
          [
           638.881438330854,
           619.3662600298295,
           599.3070650066869,
           582.2683495345368,
           572.4436943797475,
           577.5253531203642,
           601.0616806635752,
           634.5542530696075,
           668.319579468193,
           699.1812031518899,
           725.7603478925712,
           746.6434857264485,
           759.121581548115,
           759.5917726641761,
           744.4627142823924,
           718.8198970226408,
           695.7813150645137,
           680.2939524657263,
           668.2609165352085,
           655.2598349387575,
           638.881438330854
          ],
          [
           631.9398996564039,
           613.9197094348292,
           596.6508908825909,
           582.4476687257669,
           574.4199793353783,
           579.6074834982533,
           601.815955984529,
           633.6059462186748,
           666.0371999713901,
           696.1692104600286,
           722.4067216541868,
           743.0768192820061,
           755.5340022580873,
           755.9492978859605,
           740.6416280424739,
           715.0182722300619,
           691.9830706111331,
           675.9554472139592,
           662.7669642305478,
           648.5513268448288,
           631.9398996564039
          ],
          [
           622.7296710581402,
           607.2024947575717,
           593.718857257642,
           582.8134960029419,
           576.6811671453676,
           582.1096065319198,
           603.2316894265259,
           633.477285630953,
           664.5621596550492,
           693.9060431348589,
           719.8500237681332,
           740.445479871171,
           752.9732822397941,
           753.4541954888784,
           738.1838477626911,
           712.5504384616963,
           688.9840771893869,
           671.3951314153851,
           655.7514053967011,
           639.4199248471972,
           622.7296710581402
          ],
          [
           613.9240034431172,
           601.4280525119149,
           591.8026052562492,
           583.942240151374,
           579.4649846882298,
           585.1431344952881,
           605.4040727802086,
           634.2825270596945,
           663.8743624584358,
           692.0346737563983,
           717.4418776935588,
           738.02908460364,
           750.780213646475,
           751.4776590842635,
           736.5351449314613,
           711.1636245606218,
           686.9103869348319,
           667.1571143593816,
           648.465617314946,
           630.0692984469392,
           613.9240034431172
          ],
          [
           608.0887385152625,
           598.3782327838245,
           591.7301066962325,
           586.0979835115304,
           582.8585877375385,
           588.6591718752061,
           608.1233940642121,
           635.8005976984492,
           663.8134001534488,
           690.2788839013763,
           714.6499912753418,
           735.1057120977566,
           748.2421916419152,
           749.3951518552301,
           735.0447548088179,
           710.1589418259309,
           685.3020429608075,
           663.4666348439941,
           642.3382088084795,
           622.9711741106275,
           608.0887385152625
          ],
          [
           605.982599089125,
           598.34023148143,
           593.3993853926257,
           589.0924507563502,
           586.8093028722703,
           592.588471733681,
           610.9939137527721,
           637.3215367720638,
           663.7625492241528,
           688.4225495226101,
           711.403128976059,
           731.3616834305802,
           744.7961499958951,
           746.5127950967493,
           732.8266227798904,
           708.4545834508039,
           683.1613989174047,
           659.9225787201675,
           637.8275048744686,
           619.0484832851482,
           605.982599089125
          ],
          [
           606.744155801867,
           600.6841743311895,
           596.6359669431242,
           593.1824870542762,
           591.926191281591,
           597.7545778237695,
           614.7907178332761,
           639.6393515796528,
           664.4455671273066,
           686.7989806738734,
           707.9052663618036,
           726.923736252352,
           740.1825647770042,
           742.1421904516087,
           728.7932380274135,
           704.706953773819,
           679.1801607808281,
           655.6185844061537,
           634.3209228515625,
           617.5654085919199,
           606.744155801867
          ],
          [
           608.887288991927,
           604.0764232573672,
           600.8222806018231,
           598.5299862018533,
           598.4471735926633,
           604.2214838875842,
           619.9079384398187,
           643.4109700839849,
           666.1869587878327,
           685.5997871386103,
           704.486014656015,
           722.0940935791613,
           734.4316392403985,
           735.7629481879909,
           721.9373475409343,
           697.7368635675728,
           672.4103251913821,
           649.8888310733532,
           631.0130417702883,
           617.2867401435916,
           608.887288991927
          ],
          [
           611.3993375957106,
           607.8315331322224,
           605.1735295022336,
           604.2409347025063,
           605.600509938721,
           611.1717575966159,
           625.3586455117769,
           646.9095596421743,
           667.3361738717964,
           684.6633970122067,
           701.6573533149485,
           717.2431844424063,
           727.750606823664,
           727.1885724237754,
           711.8429246874812,
           687.3348448632667,
           663.0429966100113,
           642.9628843735929,
           627.645243639901,
           617.3183507796797,
           611.3993375957106
          ],
          [
           613.8121720373008,
           611.8303527806042,
           610.1237175911338,
           610.4897987313407,
           613.5925229605745,
           619.4091758563319,
           631.5799897341941,
           650.1842182436304,
           668.7173139535636,
           684.9469208233169,
           699.9682721838624,
           712.8886509105665,
           720.5736900109272,
           716.8956915164117,
           699.2922339146717,
           674.8104961889538,
           652.6216440038025,
           636.0063555467027,
           624.6585613771214,
           617.5252934680879,
           613.8121720373008
          ],
          [
           616.1148416509909,
           615.3967052264221,
           615.6333305718472,
           617.9317867811983,
           622.7241670792163,
           628.9692061070439,
           638.9680014243032,
           654.6351923033069,
           671.9283630832015,
           687.2177215623256,
           699.8880069723058,
           709.6004573899593,
           713.6687233526317,
           706.2258347534231,
           686.3366067262516,
           662.6382713951224,
           643.4806956852184,
           630.6956413395346,
           622.9651848797918,
           618.4293106523758,
           616.1148416509909
          ],
          [
           619.0781335536944,
           619.2897683009921,
           620.9872103175878,
           625.6534165345272,
           632.394582643879,
           638.4452261225903,
           646.949672541253,
           660.9041928210955,
           676.8602372826833,
           690.9903412834734,
           701.3789968580905,
           707.6441065755429,
           707.8703651267949,
           696.9293442571452,
           675.5174911450134,
           653.4752302447938,
           637.8605838799801,
           628.5942510215924,
           623.4424251369098,
           620.4324602116039,
           619.0781335536944
          ],
          [
           622.8289401654501,
           623.7212729173033,
           625.6922445305975,
           632.167967149459,
           641.2685857311277,
           647.19797810329,
           654.3866969852089,
           667.4488699478247,
           682.8037936825768,
           695.836515935134,
           703.9185020278231,
           706.9057510475653,
           703.6590564267223,
           690.2858760487889,
           668.7018368627022,
           649.1273325693951,
           637.0243553354971,
           630.3412974673595,
           626.3118581755587,
           623.5981545669578,
           622.8289401654501
          ],
          [
           626.7613837639148,
           627.4564165196181,
           629.0465755284389,
           635.1718744444846,
           644.7825711876956,
           653.3809752871814,
           662.941173904689,
           676.2524107650654,
           691.3041088117611,
           702.0236285809343,
           706.9552332306893,
           707.2017353573076,
           701.1734110866175,
           686.6588050876343,
           666.3324540006688,
           649.7697051843573,
           640.5472237585913,
           635.1113369722409,
           630.8217764594715,
           627.6691768524851,
           626.7613837639148
          ],
          [
           629.8848607007935,
           629.7537098502239,
           630.9151865298602,
           635.9756873132683,
           643.9820365731407,
           654.0881733533638,
           669.5281481529743,
           686.1563068181586,
           700.2193033463492,
           709.5469462040048,
           711.321026124603,
           708.0475629638199,
           700.2725550665489,
           685.714095401464,
           667.59081237519,
           653.939129396135,
           646.3832869250564,
           640.8915067232255,
           635.5728539893487,
           631.5649068794273,
           629.8848607007935
          ],
          [
           631.2263162534624,
           630.8765159548093,
           633.1413645537685,
           638.8222806093228,
           645.9150893223231,
           653.9913232136366,
           670.2767474501386,
           688.9686075904834,
           703.9211497343962,
           716.5481123623815,
           717.1326192852706,
           709.176664123739,
           700.0972387697501,
           686.475760067757,
           670.8539350948488,
           659.296777768129,
           651.9877716520808,
           645.5655545273845,
           639.1534464020887,
           634.0616981747839,
           631.2263162534624
          ],
          [
           632.2326221048122,
           632.2727141756848,
           636.542843687185,
           643.102583061984,
           651.098437228669,
           661.5912262329516,
           674.928482538739,
           688.79376346114,
           704.2497711136728,
           718.9179951881353,
           721.0416262116325,
           711.4110531808582,
           699.9165196921316,
           687.3667942726072,
           674.1839266362849,
           663.743735130362,
           655.6960935468549,
           648.0368120366995,
           640.8193783219181,
           635.4829124533024,
           632.2326221048122
          ],
          [
           634.0744184623943,
           634.6692423704324,
           639.36002777137,
           647.7146846867352,
           659.314067553965,
           672.2762420812105,
           683.4014364781613,
           694.4170287019094,
           706.3157613044284,
           716.9038329667238,
           721.8034981771566,
           714.0017505249778,
           699.9486861896904,
           687.5568261735368,
           676.3350188613382,
           666.4254892968469,
           657.4747186007723,
           649.0258676846793,
           641.5262788370305,
           636.4910379974834,
           634.0744184623943
          ],
          [
           636.168980224432,
           638.5493624882189,
           643.9359856460879,
           654.3965530919825,
           668.9107672984536,
           678.8311902496475,
           687.5958793625288,
           701.7447217981343,
           712.0243845474029,
           718.2380914490823,
           723.668395156556,
           717.8403824880147,
           702.1873896667644,
           688.0488166021262,
           677.5053053619852,
           668.1101585406578,
           659.0640339208436,
           650.6479020771299,
           643.2193478110162,
           637.8419278562262,
           636.168980224432
          ],
          [
           639.9310685430682,
           644.7130015163665,
           652.8162424606809,
           664.1429875712947,
           676.6248796436532,
           683.1439144240261,
           689.9986668240864,
           703.6827241842428,
           715.4214882304527,
           721.7688385163772,
           725.9410987457165,
           722.4961106590381,
           707.2903447603459,
           690.4620538362942,
           678.994675111601,
           670.2114729180482,
           661.8113865060294,
           653.6041499300883,
           646.3278839290415,
           640.9430194853702,
           639.9310685430682
          ],
          [
           646.3272666667085,
           653.7739913141359,
           664.5183052536738,
           675.6656616470922,
           684.470788958009,
           688.1560247741292,
           693.2246589687963,
           703.796334547834,
           714.7653481586699,
           721.7475220385386,
           723.8941967378275,
           722.171545676044,
           713.1486459069274,
           698.3034194868642,
           684.9356311374771,
           674.8748654678734,
           666.3468141479302,
           657.9010774804622,
           650.3922527318924,
           645.6328707463339,
           646.3272666667085
          ],
          [
           654.8671239093976,
           665.2995073044445,
           677.983342725105,
           688.2110870089732,
           694.2891874650203,
           694.0314692102556,
           694.4275812371973,
           703.3084028735982,
           715.2995013965076,
           721.9212853306042,
           720.0799268946193,
           717.5039414505251,
           716.0096657453463,
           707.2845574518249,
           694.0938908273724,
           682.7608520317699,
           673.2145480957375,
           663.9487325149646,
           655.7410149564855,
           651.7301644034408,
           654.8671239093976
          ],
          [
           664.8343880765246,
           676.3223292696122,
           690.0818746855293,
           700.4770343226307,
           703.685377298193,
           698.0906799058617,
           693.493266080561,
           701.2849611646631,
           715.758654939607,
           721.9266129348832,
           717.3311079917022,
           712.5780517951666,
           711.7875964647635,
           707.5748661791464,
           697.86875381921,
           688.3196794812861,
           678.8785542811534,
           669.1672491053289,
           661.8435938687487,
           659.8195709261112,
           664.8343880765246
          ],
          [
           675.2355021522749,
           685.1571609590038,
           697.5322909102837,
           707.1285597787792,
           708.0814497675938,
           699.5034690090483,
           693.1259022569334,
           698.5689289782314,
           710.3823304768848,
           717.1306494553206,
           715.607761520924,
           709.3204393631868,
           704.4511237470481,
           701.6819736032833,
           695.0130330430031,
           687.683933524443,
           680.7908175729104,
           673.802318724317,
           670.324779919227,
           670.5620496279935,
           675.2355021522749
          ],
          [
           684.8342939433463,
           692.2144643263925,
           701.6604159571536,
           708.0934557695169,
           706.6473863328549,
           697.8564633679032,
           691.9162671663511,
           694.84783369386,
           701.539230614155,
           707.8005177256738,
           710.5449773893876,
           706.3620725864788,
           699.6051678512512,
           695.248507861249,
           690.6812883961614,
           686.410797339882,
           683.5808153161685,
           681.5811178851563,
           681.2547938178443,
           681.8374670366138,
           684.8342939433463
          ],
          [
           690.2246338074978,
           694.9671772569864,
           701.6527550295302,
           704.7215360356935,
           700.8120752856312,
           693.5833912887468,
           690.1665425111532,
           692.1640255063518,
           695.3138815560859,
           697.344396147862,
           699.5974572312518,
           699.7261781080151,
           695.5962935131183,
           691.6799880756824,
           690.1615095652012,
           689.1421481590188,
           689.0373036393964,
           689.4439257970967,
           688.8950160296984,
           688.7003354994388,
           690.2246338074978
          ],
          [
           691.3719528658476,
           693.3299381808691,
           696.6344803735,
           697.5401141392399,
           694.3741871929476,
           690.6372355971623,
           689.9102827747406,
           689.7090123095202,
           690.1022609697537,
           690.8080308662438,
           692.3338701446748,
           693.6091770858745,
           692.1738484791944,
           691.9513026068423,
           693.0752053066301,
           693.0511889327217,
           693.0734256108041,
           693.2292440059107,
           692.3519853728052,
           691.5464757328217,
           691.3719528658476
          ],
          [
           691.9977271503822,
           692.2895937077045,
           693.006099664891,
           693.2952821776703,
           692.2647166555454,
           690.9079981173154,
           691.1505700412713,
           689.5884529811217,
           688.5666992629259,
           690.2526269528757,
           692.0903738699599,
           692.3523760871401,
           691.4750840585154,
           692.5467398145402,
           694.1649447073562,
           694.4224783371137,
           694.0975330395217,
           694.0490033727522,
           693.8112742082103,
           692.9237532760955,
           691.9977271503822
          ],
          [
           693.2266425082697,
           693.226736855443,
           693.22669226381,
           693.2264430192164,
           693.2259764507539,
           693.2253493498183,
           693.2246687401071,
           693.2240425820379,
           693.2235586421987,
           693.2232676228739,
           693.2232019088328,
           693.2233615000755,
           693.2237135395814,
           693.224182925589,
           693.2246969032676,
           693.2251967993658,
           693.2256356752831,
           693.2259900617189,
           693.2262580821202,
           693.2264711823768,
           693.2266425082697
          ]
         ]
        }
       ],
       "layout": {
        "autosize": false,
        "height": 400,
        "margin": {
         "b": 32,
         "pad": 0,
         "r": 30,
         "t": 40
        },
        "template": {
         "data": {
          "bar": [
           {
            "error_x": {
             "color": "#2a3f5f"
            },
            "error_y": {
             "color": "#2a3f5f"
            },
            "marker": {
             "line": {
              "color": "#E5ECF6",
              "width": 0.5
             },
             "pattern": {
              "fillmode": "overlay",
              "size": 10,
              "solidity": 0.2
             }
            },
            "type": "bar"
           }
          ],
          "barpolar": [
           {
            "marker": {
             "line": {
              "color": "#E5ECF6",
              "width": 0.5
             },
             "pattern": {
              "fillmode": "overlay",
              "size": 10,
              "solidity": 0.2
             }
            },
            "type": "barpolar"
           }
          ],
          "carpet": [
           {
            "aaxis": {
             "endlinecolor": "#2a3f5f",
             "gridcolor": "white",
             "linecolor": "white",
             "minorgridcolor": "white",
             "startlinecolor": "#2a3f5f"
            },
            "baxis": {
             "endlinecolor": "#2a3f5f",
             "gridcolor": "white",
             "linecolor": "white",
             "minorgridcolor": "white",
             "startlinecolor": "#2a3f5f"
            },
            "type": "carpet"
           }
          ],
          "choropleth": [
           {
            "colorbar": {
             "outlinewidth": 0,
             "ticks": ""
            },
            "type": "choropleth"
           }
          ],
          "contour": [
           {
            "colorbar": {
             "outlinewidth": 0,
             "ticks": ""
            },
            "colorscale": [
             [
              0,
              "#0d0887"
             ],
             [
              0.1111111111111111,
              "#46039f"
             ],
             [
              0.2222222222222222,
              "#7201a8"
             ],
             [
              0.3333333333333333,
              "#9c179e"
             ],
             [
              0.4444444444444444,
              "#bd3786"
             ],
             [
              0.5555555555555556,
              "#d8576b"
             ],
             [
              0.6666666666666666,
              "#ed7953"
             ],
             [
              0.7777777777777778,
              "#fb9f3a"
             ],
             [
              0.8888888888888888,
              "#fdca26"
             ],
             [
              1,
              "#f0f921"
             ]
            ],
            "type": "contour"
           }
          ],
          "contourcarpet": [
           {
            "colorbar": {
             "outlinewidth": 0,
             "ticks": ""
            },
            "type": "contourcarpet"
           }
          ],
          "heatmap": [
           {
            "colorbar": {
             "outlinewidth": 0,
             "ticks": ""
            },
            "colorscale": [
             [
              0,
              "#0d0887"
             ],
             [
              0.1111111111111111,
              "#46039f"
             ],
             [
              0.2222222222222222,
              "#7201a8"
             ],
             [
              0.3333333333333333,
              "#9c179e"
             ],
             [
              0.4444444444444444,
              "#bd3786"
             ],
             [
              0.5555555555555556,
              "#d8576b"
             ],
             [
              0.6666666666666666,
              "#ed7953"
             ],
             [
              0.7777777777777778,
              "#fb9f3a"
             ],
             [
              0.8888888888888888,
              "#fdca26"
             ],
             [
              1,
              "#f0f921"
             ]
            ],
            "type": "heatmap"
           }
          ],
          "heatmapgl": [
           {
            "colorbar": {
             "outlinewidth": 0,
             "ticks": ""
            },
            "colorscale": [
             [
              0,
              "#0d0887"
             ],
             [
              0.1111111111111111,
              "#46039f"
             ],
             [
              0.2222222222222222,
              "#7201a8"
             ],
             [
              0.3333333333333333,
              "#9c179e"
             ],
             [
              0.4444444444444444,
              "#bd3786"
             ],
             [
              0.5555555555555556,
              "#d8576b"
             ],
             [
              0.6666666666666666,
              "#ed7953"
             ],
             [
              0.7777777777777778,
              "#fb9f3a"
             ],
             [
              0.8888888888888888,
              "#fdca26"
             ],
             [
              1,
              "#f0f921"
             ]
            ],
            "type": "heatmapgl"
           }
          ],
          "histogram": [
           {
            "marker": {
             "pattern": {
              "fillmode": "overlay",
              "size": 10,
              "solidity": 0.2
             }
            },
            "type": "histogram"
           }
          ],
          "histogram2d": [
           {
            "colorbar": {
             "outlinewidth": 0,
             "ticks": ""
            },
            "colorscale": [
             [
              0,
              "#0d0887"
             ],
             [
              0.1111111111111111,
              "#46039f"
             ],
             [
              0.2222222222222222,
              "#7201a8"
             ],
             [
              0.3333333333333333,
              "#9c179e"
             ],
             [
              0.4444444444444444,
              "#bd3786"
             ],
             [
              0.5555555555555556,
              "#d8576b"
             ],
             [
              0.6666666666666666,
              "#ed7953"
             ],
             [
              0.7777777777777778,
              "#fb9f3a"
             ],
             [
              0.8888888888888888,
              "#fdca26"
             ],
             [
              1,
              "#f0f921"
             ]
            ],
            "type": "histogram2d"
           }
          ],
          "histogram2dcontour": [
           {
            "colorbar": {
             "outlinewidth": 0,
             "ticks": ""
            },
            "colorscale": [
             [
              0,
              "#0d0887"
             ],
             [
              0.1111111111111111,
              "#46039f"
             ],
             [
              0.2222222222222222,
              "#7201a8"
             ],
             [
              0.3333333333333333,
              "#9c179e"
             ],
             [
              0.4444444444444444,
              "#bd3786"
             ],
             [
              0.5555555555555556,
              "#d8576b"
             ],
             [
              0.6666666666666666,
              "#ed7953"
             ],
             [
              0.7777777777777778,
              "#fb9f3a"
             ],
             [
              0.8888888888888888,
              "#fdca26"
             ],
             [
              1,
              "#f0f921"
             ]
            ],
            "type": "histogram2dcontour"
           }
          ],
          "mesh3d": [
           {
            "colorbar": {
             "outlinewidth": 0,
             "ticks": ""
            },
            "type": "mesh3d"
           }
          ],
          "parcoords": [
           {
            "line": {
             "colorbar": {
              "outlinewidth": 0,
              "ticks": ""
             }
            },
            "type": "parcoords"
           }
          ],
          "pie": [
           {
            "automargin": true,
            "type": "pie"
           }
          ],
          "scatter": [
           {
            "fillpattern": {
             "fillmode": "overlay",
             "size": 10,
             "solidity": 0.2
            },
            "type": "scatter"
           }
          ],
          "scatter3d": [
           {
            "line": {
             "colorbar": {
              "outlinewidth": 0,
              "ticks": ""
             }
            },
            "marker": {
             "colorbar": {
              "outlinewidth": 0,
              "ticks": ""
             }
            },
            "type": "scatter3d"
           }
          ],
          "scattercarpet": [
           {
            "marker": {
             "colorbar": {
              "outlinewidth": 0,
              "ticks": ""
             }
            },
            "type": "scattercarpet"
           }
          ],
          "scattergeo": [
           {
            "marker": {
             "colorbar": {
              "outlinewidth": 0,
              "ticks": ""
             }
            },
            "type": "scattergeo"
           }
          ],
          "scattergl": [
           {
            "marker": {
             "colorbar": {
              "outlinewidth": 0,
              "ticks": ""
             }
            },
            "type": "scattergl"
           }
          ],
          "scattermapbox": [
           {
            "marker": {
             "colorbar": {
              "outlinewidth": 0,
              "ticks": ""
             }
            },
            "type": "scattermapbox"
           }
          ],
          "scatterpolar": [
           {
            "marker": {
             "colorbar": {
              "outlinewidth": 0,
              "ticks": ""
             }
            },
            "type": "scatterpolar"
           }
          ],
          "scatterpolargl": [
           {
            "marker": {
             "colorbar": {
              "outlinewidth": 0,
              "ticks": ""
             }
            },
            "type": "scatterpolargl"
           }
          ],
          "scatterternary": [
           {
            "marker": {
             "colorbar": {
              "outlinewidth": 0,
              "ticks": ""
             }
            },
            "type": "scatterternary"
           }
          ],
          "surface": [
           {
            "colorbar": {
             "outlinewidth": 0,
             "ticks": ""
            },
            "colorscale": [
             [
              0,
              "#0d0887"
             ],
             [
              0.1111111111111111,
              "#46039f"
             ],
             [
              0.2222222222222222,
              "#7201a8"
             ],
             [
              0.3333333333333333,
              "#9c179e"
             ],
             [
              0.4444444444444444,
              "#bd3786"
             ],
             [
              0.5555555555555556,
              "#d8576b"
             ],
             [
              0.6666666666666666,
              "#ed7953"
             ],
             [
              0.7777777777777778,
              "#fb9f3a"
             ],
             [
              0.8888888888888888,
              "#fdca26"
             ],
             [
              1,
              "#f0f921"
             ]
            ],
            "type": "surface"
           }
          ],
          "table": [
           {
            "cells": {
             "fill": {
              "color": "#EBF0F8"
             },
             "line": {
              "color": "white"
             }
            },
            "header": {
             "fill": {
              "color": "#C8D4E3"
             },
             "line": {
              "color": "white"
             }
            },
            "type": "table"
           }
          ]
         },
         "layout": {
          "annotationdefaults": {
           "arrowcolor": "#2a3f5f",
           "arrowhead": 0,
           "arrowwidth": 1
          },
          "autotypenumbers": "strict",
          "coloraxis": {
           "colorbar": {
            "outlinewidth": 0,
            "ticks": ""
           }
          },
          "colorscale": {
           "diverging": [
            [
             0,
             "#8e0152"
            ],
            [
             0.1,
             "#c51b7d"
            ],
            [
             0.2,
             "#de77ae"
            ],
            [
             0.3,
             "#f1b6da"
            ],
            [
             0.4,
             "#fde0ef"
            ],
            [
             0.5,
             "#f7f7f7"
            ],
            [
             0.6,
             "#e6f5d0"
            ],
            [
             0.7,
             "#b8e186"
            ],
            [
             0.8,
             "#7fbc41"
            ],
            [
             0.9,
             "#4d9221"
            ],
            [
             1,
             "#276419"
            ]
           ],
           "sequential": [
            [
             0,
             "#0d0887"
            ],
            [
             0.1111111111111111,
             "#46039f"
            ],
            [
             0.2222222222222222,
             "#7201a8"
            ],
            [
             0.3333333333333333,
             "#9c179e"
            ],
            [
             0.4444444444444444,
             "#bd3786"
            ],
            [
             0.5555555555555556,
             "#d8576b"
            ],
            [
             0.6666666666666666,
             "#ed7953"
            ],
            [
             0.7777777777777778,
             "#fb9f3a"
            ],
            [
             0.8888888888888888,
             "#fdca26"
            ],
            [
             1,
             "#f0f921"
            ]
           ],
           "sequentialminus": [
            [
             0,
             "#0d0887"
            ],
            [
             0.1111111111111111,
             "#46039f"
            ],
            [
             0.2222222222222222,
             "#7201a8"
            ],
            [
             0.3333333333333333,
             "#9c179e"
            ],
            [
             0.4444444444444444,
             "#bd3786"
            ],
            [
             0.5555555555555556,
             "#d8576b"
            ],
            [
             0.6666666666666666,
             "#ed7953"
            ],
            [
             0.7777777777777778,
             "#fb9f3a"
            ],
            [
             0.8888888888888888,
             "#fdca26"
            ],
            [
             1,
             "#f0f921"
            ]
           ]
          },
          "colorway": [
           "#636efa",
           "#EF553B",
           "#00cc96",
           "#ab63fa",
           "#FFA15A",
           "#19d3f3",
           "#FF6692",
           "#B6E880",
           "#FF97FF",
           "#FECB52"
          ],
          "font": {
           "color": "#2a3f5f"
          },
          "geo": {
           "bgcolor": "white",
           "lakecolor": "white",
           "landcolor": "#E5ECF6",
           "showlakes": true,
           "showland": true,
           "subunitcolor": "white"
          },
          "hoverlabel": {
           "align": "left"
          },
          "hovermode": "closest",
          "mapbox": {
           "style": "light"
          },
          "paper_bgcolor": "white",
          "plot_bgcolor": "#E5ECF6",
          "polar": {
           "angularaxis": {
            "gridcolor": "white",
            "linecolor": "white",
            "ticks": ""
           },
           "bgcolor": "#E5ECF6",
           "radialaxis": {
            "gridcolor": "white",
            "linecolor": "white",
            "ticks": ""
           }
          },
          "scene": {
           "xaxis": {
            "backgroundcolor": "#E5ECF6",
            "gridcolor": "white",
            "gridwidth": 2,
            "linecolor": "white",
            "showbackground": true,
            "ticks": "",
            "zerolinecolor": "white"
           },
           "yaxis": {
            "backgroundcolor": "#E5ECF6",
            "gridcolor": "white",
            "gridwidth": 2,
            "linecolor": "white",
            "showbackground": true,
            "ticks": "",
            "zerolinecolor": "white"
           },
           "zaxis": {
            "backgroundcolor": "#E5ECF6",
            "gridcolor": "white",
            "gridwidth": 2,
            "linecolor": "white",
            "showbackground": true,
            "ticks": "",
            "zerolinecolor": "white"
           }
          },
          "shapedefaults": {
           "line": {
            "color": "#2a3f5f"
           }
          },
          "ternary": {
           "aaxis": {
            "gridcolor": "white",
            "linecolor": "white",
            "ticks": ""
           },
           "baxis": {
            "gridcolor": "white",
            "linecolor": "white",
            "ticks": ""
           },
           "bgcolor": "#E5ECF6",
           "caxis": {
            "gridcolor": "white",
            "linecolor": "white",
            "ticks": ""
           }
          },
          "title": {
           "x": 0.05
          },
          "xaxis": {
           "automargin": true,
           "gridcolor": "white",
           "linecolor": "white",
           "ticks": "",
           "title": {
            "standoff": 15
           },
           "zerolinecolor": "white",
           "zerolinewidth": 2
          },
          "yaxis": {
           "automargin": true,
           "gridcolor": "white",
           "linecolor": "white",
           "ticks": "",
           "title": {
            "standoff": 15
           },
           "zerolinecolor": "white",
           "zerolinewidth": 2
          }
         }
        },
        "title": {
         "text": "CTIPe at 350km, 2016/01/15 12:00"
        },
        "width": 700,
        "xaxis": {
         "title": {
          "text": "$ lon  [deg]$"
         }
        },
        "yaxis": {
         "title": {
          "text": "$ lat  [deg]$"
         }
        }
       }
      }
     },
     "metadata": {},
     "output_type": "display_data"
    }
   ],
   "source": [
    "#The same plot but modified for a nicer look.\n",
    "plothrs = 12.\n",
    "timestr = (kamodo_object_ctipe.filedate + timedelta(hours=plothrs)).strftime(\"%Y/%m/%d %H:%M\")\n",
    "\n",
    "fig = kamodo_object.plot('CTIPeT_n', plot_partial={'CTIPeT_n': {'time': plothrs, 'height': 300.}})\n",
    "figMods(fig, ncont=200, colorscale='Viridis', enhanceHover=True, newTitle='CTIPe at 350km, '+timestr)"
   ]
  },
  {
   "cell_type": "code",
   "execution_count": null,
   "id": "28c920f4",
   "metadata": {},
   "outputs": [
    {
     "name": "stdout",
     "output_type": "stream",
     "text": [
      "Inverting the pressure level grid. Please wait...done.\n"
     ]
    },
    {
     "data": {
      "application/vnd.plotly.v1+json": {
       "config": {
        "plotlyServerURL": "https://plot.ly"
       },
       "data": [
        {
         "colorbar": {
          "title": {
           "side": "bottom",
           "text": "CTIPeT_n[K]"
          }
         },
         "colorscale": [
          [
           0,
           "#440154"
          ],
          [
           0.1111111111111111,
           "#482878"
          ],
          [
           0.2222222222222222,
           "#3e4989"
          ],
          [
           0.3333333333333333,
           "#31688e"
          ],
          [
           0.4444444444444444,
           "#26828e"
          ],
          [
           0.5555555555555556,
           "#1f9e89"
          ],
          [
           0.6666666666666666,
           "#35b779"
          ],
          [
           0.7777777777777778,
           "#6ece58"
          ],
          [
           0.8888888888888888,
           "#b5de2b"
          ],
          [
           1,
           "#fde725"
          ]
         ],
         "contours": {
          "coloring": "fill",
          "showlines": false
         },
         "hovertemplate": "time [hr]: %{x:.3f} <br>height [km]: %{y:.3f} <br>CTIPeT_n[K]: %{z:.4g} <br><extra></extra>",
         "meta": "2d-grid",
         "ncontours": 200,
         "type": "contour",
         "x": [
          0.25,
          0.5,
          0.75,
          1,
          1.25,
          1.5,
          1.75,
          2,
          2.25,
          2.5,
          2.75,
          3,
          3.25,
          3.5,
          3.75,
          4,
          4.25,
          4.5,
          4.75,
          5,
          5.25,
          5.5,
          5.75,
          6,
          6.25,
          6.5,
          6.75,
          7,
          7.25,
          7.5,
          7.75,
          8,
          8.25,
          8.5,
          8.75,
          9,
          9.25,
          9.5,
          9.75,
          10,
          10.25,
          10.5,
          10.75,
          11,
          11.25,
          11.5,
          11.75,
          12,
          12.25,
          12.5,
          12.75,
          13,
          13.25,
          13.5,
          13.75,
          14,
          14.25,
          14.5,
          14.75,
          15,
          15.25,
          15.5,
          15.75,
          16,
          16.25,
          16.5,
          16.75,
          17,
          17.25,
          17.5,
          17.75,
          18,
          18.25,
          18.5,
          18.75,
          19,
          19.25,
          19.5,
          19.75,
          20,
          20.25,
          20.5,
          20.75,
          21,
          21.25,
          21.5,
          21.75,
          22,
          22.25,
          22.5,
          22.75,
          23,
          23.25,
          23.5,
          23.75,
          24,
          24.25,
          24.5,
          24.75,
          25,
          25.25,
          25.5,
          25.75,
          26,
          26.25,
          26.5,
          26.75,
          27,
          27.25,
          27.5,
          27.75,
          28,
          28.25,
          28.5,
          28.75,
          29,
          29.25,
          29.5,
          29.75,
          30,
          30.25,
          30.5,
          30.75,
          31,
          31.25,
          31.5,
          31.75,
          32,
          32.25,
          32.5,
          32.75,
          33,
          33.25,
          33.5,
          33.75,
          34,
          34.25,
          34.5,
          34.75,
          35,
          35.25,
          35.5,
          35.75,
          36,
          36.25,
          36.5,
          36.75,
          37,
          37.25,
          37.5,
          37.75,
          38,
          38.25,
          38.5,
          38.75,
          39,
          39.25,
          39.5,
          39.75,
          40,
          40.25,
          40.5,
          40.75,
          41,
          41.25,
          41.5,
          41.75,
          42,
          42.25,
          42.5,
          42.75,
          43,
          43.25,
          43.5,
          43.75,
          44,
          44.25,
          44.5,
          44.75,
          45,
          45.25,
          45.5,
          45.75,
          46,
          46.25,
          46.5,
          46.75,
          47,
          47.25,
          47.5,
          47.75,
          48
         ],
         "y": [
          75.85179138183594,
          77.30857849121094,
          83.2883529663086,
          88.91029357910156,
          94.2821044921875,
          100.77397155761719,
          108.84637451171875,
          119.43809509277344,
          133.57952880859375,
          152.34222412109375,
          176.07247924804688,
          204.13424682617188,
          235.91864013671875,
          270.779541015625,
          307.7956237792969,
          346.23834228515625,
          379.9164733886719
         ],
         "z": [
          [
           null,
           null,
           null,
           null,
           null,
           null,
           null,
           null,
           null,
           null,
           null,
           null,
           null,
           null,
           null,
           null,
           null,
           null,
           null,
           null,
           null,
           null,
           null,
           null,
           null,
           null,
           null,
           null,
           null,
           null,
           null,
           null,
           null,
           null,
           null,
           null,
           null,
           null,
           null,
           null,
           null,
           null,
           null,
           null,
           null,
           null,
           null,
           null,
           null,
           null,
           null,
           null,
           null,
           null,
           null,
           null,
           null,
           null,
           null,
           null,
           null,
           null,
           null,
           null,
           null,
           null,
           null,
           null,
           null,
           null,
           null,
           null,
           null,
           null,
           null,
           null,
           null,
           null,
           null,
           null,
           null,
           null,
           null,
           null,
           null,
           null,
           null,
           null,
           null,
           null,
           null,
           null,
           null,
           null,
           null,
           null,
           null,
           null,
           null,
           null,
           null,
           null,
           null,
           null,
           null,
           null,
           null,
           null,
           null,
           null,
           null,
           null,
           null,
           null,
           null,
           null,
           null,
           null,
           null,
           null,
           null,
           null,
           null,
           null,
           null,
           null,
           null,
           null,
           null,
           null,
           null,
           null,
           null,
           null,
           null,
           null,
           null,
           null,
           null,
           null,
           null,
           null,
           null,
           null,
           null,
           null,
           null,
           null,
           null,
           null,
           null,
           null,
           null,
           null,
           null,
           null,
           null,
           null,
           null,
           null,
           null,
           null,
           null,
           null,
           null,
           null,
           null,
           null,
           null,
           null,
           null,
           null,
           null,
           null,
           null,
           null,
           null,
           null,
           null,
           null,
           null,
           null,
           null,
           null,
           null,
           null,
           null,
           null,
           null,
           null,
           null,
           null
          ],
          [
           204.8725060785244,
           204.8725060785244,
           204.8725060785244,
           204.8725060785244,
           206.25675057312026,
           206.25675057312026,
           206.25675057312026,
           206.25675057312026,
           206.93564389301167,
           206.93564389301167,
           206.93564389301167,
           206.93564389301167,
           206.42231709067477,
           206.42231709067477,
           206.42231709067477,
           206.42231709067477,
           204.6296663686303,
           204.6296663686303,
           204.6296663686303,
           204.6296663686303,
           203.48369710803888,
           203.48369710803888,
           203.48369710803888,
           203.48369710803888,
           203.32965144997723,
           203.32965144997723,
           203.32965144997723,
           203.32965144997723,
           203.2090817400132,
           203.2090817400132,
           203.2090817400132,
           203.2090817400132,
           204.06274537831501,
           204.06274537831501,
           204.06274537831501,
           204.06274537831501,
           207.47036992675794,
           207.47036992675794,
           207.47036992675794,
           207.47036992675794,
           210.12974829773867,
           210.12974829773867,
           210.12974829773867,
           210.12974829773867,
           210.87951051986042,
           210.87951051986042,
           210.87951051986042,
           210.87951051986042,
           209.45503269350831,
           209.45503269350831,
           209.45503269350831,
           209.45503269350831,
           207.842902702307,
           207.842902702307,
           207.842902702307,
           207.842902702307,
           207.07335861882774,
           207.07335861882774,
           207.07335861882774,
           207.07335861882774,
           206.06823915675415,
           206.06823915675415,
           206.06823915675415,
           206.06823915675415,
           204.360125231245,
           204.360125231245,
           204.360125231245,
           204.360125231245,
           202.8182854455634,
           202.8182854455634,
           202.8182854455634,
           202.8182854455634,
           202.8668162736262,
           202.8668162736262,
           202.8668162736262,
           202.8668162736262,
           203.57677280138967,
           203.57677280138967,
           203.57677280138967,
           203.57677280138967,
           203.4494223360091,
           203.4494223360091,
           203.4494223360091,
           203.4494223360091,
           202.86750274829612,
           202.86750274829612,
           202.86750274829612,
           202.86750274829612,
           203.14302027577685,
           203.14302027577685,
           203.14302027577685,
           203.14302027577685,
           203.5755779483632,
           203.5755779483632,
           203.5755779483632,
           203.5755779483632,
           204.8725060785244,
           204.8725060785244,
           204.8725060785244,
           204.8725060785244,
           206.25675057312026,
           206.25675057312026,
           206.25675057312026,
           206.25675057312026,
           206.93564389301167,
           206.93564389301167,
           206.93564389301167,
           206.93564389301167,
           206.42231709067477,
           206.42231709067477,
           206.42231709067477,
           206.42231709067477,
           204.6296663686303,
           204.6296663686303,
           204.6296663686303,
           204.6296663686303,
           203.48369710803888,
           203.48369710803888,
           203.48369710803888,
           203.48369710803888,
           203.32965144997723,
           203.32965144997723,
           203.32965144997723,
           203.32965144997723,
           203.2090817400132,
           203.2090817400132,
           203.2090817400132,
           203.2090817400132,
           204.06274537831501,
           204.06274537831501,
           204.06274537831501,
           204.06274537831501,
           207.47036992675794,
           207.47036992675794,
           207.47036992675794,
           207.47036992675794,
           210.12974829773867,
           210.12974829773867,
           210.12974829773867,
           210.12974829773867,
           210.87951051986042,
           210.87951051986042,
           210.87951051986042,
           210.87951051986042,
           209.45503269350831,
           209.45503269350831,
           209.45503269350831,
           209.45503269350831,
           207.842902702307,
           207.842902702307,
           207.842902702307,
           207.842902702307,
           207.07335861882774,
           207.07335861882774,
           207.07335861882774,
           207.07335861882774,
           206.06823915675415,
           206.06823915675415,
           206.06823915675415,
           206.06823915675415,
           204.360125231245,
           204.360125231245,
           204.360125231245,
           204.360125231245,
           202.8182854455634,
           202.8182854455634,
           202.8182854455634,
           202.8182854455634,
           202.8668162736262,
           202.8668162736262,
           202.8668162736262,
           202.8668162736262,
           203.57677280138967,
           203.57677280138967,
           203.57677280138967,
           203.57677280138967,
           203.4494223360091,
           203.4494223360091,
           203.4494223360091,
           203.4494223360091,
           202.86750274829612,
           202.86750274829612,
           202.86750274829612,
           202.86750274829612,
           203.14302027577685,
           203.14302027577685,
           203.14302027577685,
           203.14302027577685,
           203.5755779483632,
           203.5755779483632,
           203.5755779483632,
           203.5755779483632
          ],
          [
           207.41456360274358,
           207.41456360274358,
           207.41456360274358,
           207.41456360274358,
           208.6716643613663,
           208.6716643613663,
           208.6716643613663,
           208.6716643613663,
           208.56745688275305,
           208.56745688275305,
           208.56745688275305,
           208.56745688275305,
           206.9506860648434,
           206.9506860648434,
           206.9506860648434,
           206.9506860648434,
           202.86628782040827,
           202.86628782040827,
           202.86628782040827,
           202.86628782040827,
           198.52989137636433,
           198.52989137636433,
           198.52989137636433,
           198.52989137636433,
           195.88386543210578,
           195.88386543210578,
           195.88386543210578,
           195.88386543210578,
           195.43431755086755,
           195.43431755086755,
           195.43431755086755,
           195.43431755086755,
           198.09455993435856,
           198.09455993435856,
           198.09455993435856,
           198.09455993435856,
           205.43864779761662,
           205.43864779761662,
           205.43864779761662,
           205.43864779761662,
           209.20655503582435,
           209.20655503582435,
           209.20655503582435,
           209.20655503582435,
           207.7146821275216,
           207.7146821275216,
           207.7146821275216,
           207.7146821275216,
           203.97300416425435,
           203.97300416425435,
           203.97300416425435,
           203.97300416425435,
           200.18388185723677,
           200.18388185723677,
           200.18388185723677,
           200.18388185723677,
           198.1355887232824,
           198.1355887232824,
           198.1355887232824,
           198.1355887232824,
           196.64010145174,
           196.64010145174,
           196.64010145174,
           196.64010145174,
           195.0126912278732,
           195.0126912278732,
           195.0126912278732,
           195.0126912278732,
           194.22905926859474,
           194.22905926859474,
           194.22905926859474,
           194.22905926859474,
           197.15985110050752,
           197.15985110050752,
           197.15985110050752,
           197.15985110050752,
           200.83300369003376,
           200.83300369003376,
           200.83300369003376,
           200.83300369003376,
           201.9766223641171,
           201.9766223641171,
           201.9766223641171,
           201.9766223641171,
           201.34210897133366,
           201.34210897133366,
           201.34210897133366,
           201.34210897133366,
           202.850506153379,
           202.850506153379,
           202.850506153379,
           202.850506153379,
           204.2321297000918,
           204.2321297000918,
           204.2321297000918,
           204.2321297000918,
           207.41456360274358,
           207.41456360274358,
           207.41456360274358,
           207.41456360274358,
           208.6716643613663,
           208.6716643613663,
           208.6716643613663,
           208.6716643613663,
           208.56745688275305,
           208.56745688275305,
           208.56745688275305,
           208.56745688275305,
           206.9506860648434,
           206.9506860648434,
           206.9506860648434,
           206.9506860648434,
           202.86628782040827,
           202.86628782040827,
           202.86628782040827,
           202.86628782040827,
           198.52989137636433,
           198.52989137636433,
           198.52989137636433,
           198.52989137636433,
           195.88386543210578,
           195.88386543210578,
           195.88386543210578,
           195.88386543210578,
           195.43431755086755,
           195.43431755086755,
           195.43431755086755,
           195.43431755086755,
           198.09455993435856,
           198.09455993435856,
           198.09455993435856,
           198.09455993435856,
           205.43864779761662,
           205.43864779761662,
           205.43864779761662,
           205.43864779761662,
           209.20655503582435,
           209.20655503582435,
           209.20655503582435,
           209.20655503582435,
           207.7146821275216,
           207.7146821275216,
           207.7146821275216,
           207.7146821275216,
           203.97300416425435,
           203.97300416425435,
           203.97300416425435,
           203.97300416425435,
           200.18388185723677,
           200.18388185723677,
           200.18388185723677,
           200.18388185723677,
           198.1355887232824,
           198.1355887232824,
           198.1355887232824,
           198.1355887232824,
           196.64010145174,
           196.64010145174,
           196.64010145174,
           196.64010145174,
           195.0126912278732,
           195.0126912278732,
           195.0126912278732,
           195.0126912278732,
           194.22905926859474,
           194.22905926859474,
           194.22905926859474,
           194.22905926859474,
           197.15985110050752,
           197.15985110050752,
           197.15985110050752,
           197.15985110050752,
           200.83300369003376,
           200.83300369003376,
           200.83300369003376,
           200.83300369003376,
           201.9766223641171,
           201.9766223641171,
           201.9766223641171,
           201.9766223641171,
           201.34210897133366,
           201.34210897133366,
           201.34210897133366,
           201.34210897133366,
           202.850506153379,
           202.850506153379,
           202.850506153379,
           202.850506153379,
           204.2321297000918,
           204.2321297000918,
           204.2321297000918,
           204.2321297000918
          ],
          [
           195.58215107258957,
           195.58215107258957,
           195.58215107258957,
           195.58215107258957,
           195.78658145082096,
           195.78658145082096,
           195.78658145082096,
           195.78658145082096,
           195.23731796925526,
           195.23731796925526,
           195.23731796925526,
           195.23731796925526,
           191.21059461429425,
           191.21059461429425,
           191.21059461429425,
           191.21059461429425,
           184.91933531502724,
           184.91933531502724,
           184.91933531502724,
           184.91933531502724,
           180.1606246149216,
           180.1606246149216,
           180.1606246149216,
           180.1606246149216,
           179.09610513984356,
           179.09610513984356,
           179.09610513984356,
           179.09610513984356,
           183.96824748000898,
           183.96824748000898,
           183.96824748000898,
           183.96824748000898,
           192.0061752230372,
           192.0061752230372,
           192.0061752230372,
           192.0061752230372,
           203.10740165955423,
           203.10740165955423,
           203.10740165955423,
           203.10740165955423,
           206.8025681879073,
           206.8025681879073,
           206.8025681879073,
           206.8025681879073,
           201.52794683212846,
           201.52794683212846,
           201.52794683212846,
           201.52794683212846,
           193.98038790314115,
           193.98038790314115,
           193.98038790314115,
           193.98038790314115,
           188.66449641667512,
           188.66449641667512,
           188.66449641667512,
           188.66449641667512,
           185.5711591192484,
           185.5711591192484,
           185.5711591192484,
           185.5711591192484,
           183.28670585908492,
           183.28670585908492,
           183.28670585908492,
           183.28670585908492,
           182.43943831028182,
           182.43943831028182,
           182.43943831028182,
           182.43943831028182,
           184.9623855008428,
           184.9623855008428,
           184.9623855008428,
           184.9623855008428,
           190.26285032837563,
           190.26285032837563,
           190.26285032837563,
           190.26285032837563,
           193.90740828860277,
           193.90740828860277,
           193.90740828860277,
           193.90740828860277,
           196.07745227453802,
           196.07745227453802,
           196.07745227453802,
           196.07745227453802,
           196.97212456421929,
           196.97212456421929,
           196.97212456421929,
           196.97212456421929,
           197.04271696335152,
           197.04271696335152,
           197.04271696335152,
           197.04271696335152,
           195.19756192872848,
           195.19756192872848,
           195.19756192872848,
           195.19756192872848,
           195.58215107258957,
           195.58215107258957,
           195.58215107258957,
           195.58215107258957,
           195.78658145082096,
           195.78658145082096,
           195.78658145082096,
           195.78658145082096,
           195.23731796925526,
           195.23731796925526,
           195.23731796925526,
           195.23731796925526,
           191.21059461429425,
           191.21059461429425,
           191.21059461429425,
           191.21059461429425,
           184.91933531502724,
           184.91933531502724,
           184.91933531502724,
           184.91933531502724,
           180.1606246149216,
           180.1606246149216,
           180.1606246149216,
           180.1606246149216,
           179.09610513984356,
           179.09610513984356,
           179.09610513984356,
           179.09610513984356,
           183.96824748000898,
           183.96824748000898,
           183.96824748000898,
           183.96824748000898,
           192.0061752230372,
           192.0061752230372,
           192.0061752230372,
           192.0061752230372,
           203.10740165955423,
           203.10740165955423,
           203.10740165955423,
           203.10740165955423,
           206.8025681879073,
           206.8025681879073,
           206.8025681879073,
           206.8025681879073,
           201.52794683212846,
           201.52794683212846,
           201.52794683212846,
           201.52794683212846,
           193.98038790314115,
           193.98038790314115,
           193.98038790314115,
           193.98038790314115,
           188.66449641667512,
           188.66449641667512,
           188.66449641667512,
           188.66449641667512,
           185.5711591192484,
           185.5711591192484,
           185.5711591192484,
           185.5711591192484,
           183.28670585908492,
           183.28670585908492,
           183.28670585908492,
           183.28670585908492,
           182.43943831028182,
           182.43943831028182,
           182.43943831028182,
           182.43943831028182,
           184.9623855008428,
           184.9623855008428,
           184.9623855008428,
           184.9623855008428,
           190.26285032837563,
           190.26285032837563,
           190.26285032837563,
           190.26285032837563,
           193.90740828860277,
           193.90740828860277,
           193.90740828860277,
           193.90740828860277,
           196.07745227453802,
           196.07745227453802,
           196.07745227453802,
           196.07745227453802,
           196.97212456421929,
           196.97212456421929,
           196.97212456421929,
           196.97212456421929,
           197.04271696335152,
           197.04271696335152,
           197.04271696335152,
           197.04271696335152,
           195.19756192872848,
           195.19756192872848,
           195.19756192872848,
           195.19756192872848
          ],
          [
           186.03488781332987,
           186.00268675447458,
           185.9685768125557,
           185.9366737026781,
           185.258493559181,
           185.21248494961648,
           185.16466979663343,
           185.12086198557276,
           182.1159074733498,
           182.08488007350235,
           182.05143917068915,
           182.02135392570776,
           178.5249888968472,
           178.58652436737128,
           178.67100970520383,
           178.772114424579,
           179.51981772860384,
           179.9093510196854,
           180.33780390477048,
           180.7824802896958,
           184.91585409495448,
           185.62602077609154,
           186.36672866120887,
           187.07858919232632,
           190.70712985656917,
           191.23684590935918,
           191.69304934317515,
           192.0857495854961,
           197.52049553217782,
           197.5350188900731,
           197.5296643195824,
           197.5161022871792,
           201.56893015026054,
           201.44665880448133,
           201.29841976316933,
           201.12693833698103,
           197.6140246095177,
           197.6140246095177,
           197.6140246095177,
           197.6140246095177,
           190.90396412841216,
           190.90396412841216,
           190.90396412841216,
           190.90396412841216,
           181.47787803162805,
           181.47787803162805,
           181.47787803162805,
           181.47787803162805,
           179.2944829189207,
           179.21254411349514,
           179.15030353704907,
           179.10525741624988,
           180.35958785124396,
           180.420177550227,
           180.55594648589366,
           180.75060180635126,
           180.8447471486095,
           181.30628743241797,
           181.88147394422273,
           182.53746230587612,
           183.4308652176472,
           184.24254770984996,
           185.0870353945427,
           185.92407827407783,
           188.93052879289058,
           189.62122527478363,
           190.17562404889742,
           190.571450627428,
           195.97555455672995,
           195.90280093104664,
           195.72233330483738,
           195.4797632117977,
           199.4536266737854,
           199.24563534640006,
           199.0306126773682,
           198.81870192744276,
           195.1846618354383,
           195.12837067248506,
           195.07133619316,
           195.01361200445285,
           190.63580046100483,
           190.59902718788058,
           190.56632187907107,
           190.5364435587424,
           189.34622643197287,
           189.3103339021414,
           189.28698436329023,
           189.27103642688726,
           188.17881059307115,
           188.1609546857253,
           188.14511670302582,
           188.13149293797687,
           186.61537019844621,
           186.63075687274142,
           186.6469953360932,
           186.65531374473414,
           186.02830346100743,
           185.99942226057453,
           185.96650977989518,
           185.93408911938346,
           185.25561808767213,
           185.20784602018028,
           185.15795141877948,
           185.1126471294673,
           182.10638122119093,
           182.07569495974428,
           182.04397400061578,
           182.01570517816316,
           178.51601502093433,
           178.5792897629679,
           178.66638371321636,
           178.7713590109491,
           179.52333705568947,
           179.91271689413918,
           180.33685186643203,
           180.7761133182184,
           184.89829216667945,
           185.5961025619693,
           186.3231855070241,
           187.02517561568652,
           190.64367891705257,
           191.17572170044062,
           191.63621373297173,
           192.0331536160227,
           197.47973994787452,
           197.49879957373588,
           197.49643220960058,
           197.48497171214478,
           201.55150434559414,
           201.42861693050017,
           201.27788069214733,
           201.10221738198578,
           197.6140246095177,
           197.6140246095177,
           197.6140246095177,
           197.6140246095177,
           190.90396412841216,
           190.90396412841216,
           190.90396412841216,
           190.90396412841216,
           181.47787803162805,
           181.47787803162805,
           181.47787803162805,
           181.47787803162805,
           179.2723160238254,
           179.19117039895056,
           179.1303359769911,
           179.08707358947112,
           180.32882784836622,
           180.39407260414342,
           180.5356399983384,
           180.7355821459507,
           180.8310502102639,
           181.29638312979424,
           181.87421093618738,
           182.53090996829485,
           183.42181658084715,
           184.22914645468927,
           185.06743962903477,
           185.89744325315007,
           188.89675047994922,
           189.58318168901002,
           190.13546240596025,
           190.52993709098317,
           195.93986491380082,
           195.8658062007214,
           195.68364599110782,
           195.43812537561973,
           199.43003798642724,
           199.21982672457096,
           199.00281591142533,
           198.7896760124428,
           195.17422371788098,
           195.1184286641298,
           195.06217268021229,
           195.00528619122318,
           190.62996736980008,
           190.59387812838298,
           190.56196796772284,
           190.5328891546705,
           189.341059397485,
           189.3060372305818,
           189.2832732510798,
           189.2676299382069,
           188.17489833348253,
           188.1577104130689,
           188.14373940194514,
           188.1326272866609,
           186.62049174850176,
           186.63914434580335,
           186.65837594061165,
           186.66898759835016
          ],
          [
           233.11096449767206,
           232.54473660855734,
           231.94898510810916,
           231.39581954559222,
           229.8563818689318,
           228.83333122463222,
           227.80405806071855,
           226.90196568982356,
           227.00587666545158,
           226.48473846706634,
           225.9318722531357,
           225.4720118458862,
           229.35282328441988,
           230.19193532072399,
           231.21664558762333,
           232.3464841046114,
           238.8647281561163,
           240.94885073016533,
           243.2069643579267,
           245.52828109090996,
           250.9943906381763,
           253.53394200777217,
           256.2437893811226,
           258.88063495825105,
           261.65513810225866,
           263.2529757309239,
           264.631361371927,
           265.8317557276196,
           263.9104570705275,
           263.7167886034405,
           263.47618543995634,
           263.2423174167237,
           259.35946994383903,
           258.192091504558,
           256.78061835023743,
           255.15600066137617,
           247.9755287367134,
           245.17065106855586,
           241.94745580601756,
           238.603317979265,
           235.0479034295119,
           232.22741618606292,
           229.20288737815162,
           226.0318916307204,
           226.18359404993691,
           224.08291750326515,
           222.24775001277987,
           220.6138654783414,
           224.40517942459073,
           224.0227389972016,
           223.8853854454675,
           223.93319826895078,
           228.8381434752772,
           229.78297034003913,
           231.0237800896576,
           232.4501638528856,
           236.87322465032167,
           238.96217339050926,
           241.42765687939593,
           244.16452641248344,
           248.15829485817355,
           251.18133210658027,
           254.4709135627825,
           257.9260097161891,
           260.9304693224842,
           263.96705141230086,
           266.45603696678205,
           268.19497762226763,
           267.58517019351376,
           266.6960069735953,
           265.0342290606423,
           262.98008025089973,
           259.73124034446107,
           256.52291031656864,
           253.27890674127568,
           250.16341637121843,
           246.99359715351142,
           244.90808543413726,
           242.70444144804463,
           240.44628764008127,
           238.54796728200014,
           236.7944679409644,
           235.27336686932,
           233.91614874187258,
           233.44228051583136,
           232.65742470330605,
           232.2032379148265,
           231.93444255755918,
           232.16069048309106,
           231.92737504692843,
           231.73046109101185,
           231.5738837316103,
           232.9143681306223,
           233.25208200246374,
           233.54993444774234,
           233.6892554814115,
           232.95769806489423,
           232.45006980050306,
           231.87275957997664,
           231.3061997678077,
           229.74630445056178,
           228.67593833082367,
           227.59131574879143,
           226.64884125320287,
           226.71870340646822,
           226.20241543732095,
           225.68685938973172,
           225.26527428977195,
           229.1224903625331,
           229.9770338587884,
           231.02963157844258,
           232.20544434425892,
           238.6992697789953,
           240.78648132964236,
           243.02042652690145,
           245.31259120282772,
           250.69850995415837,
           253.18533777816367,
           255.8340737132613,
           258.429539400415,
           261.18530209402377,
           262.8099608344395,
           264.2242486093975,
           265.4587648235427,
           263.6060681387422,
           263.44663729499865,
           263.2292832773738,
           263.01171685337977,
           259.17619459451055,
           258.00296509531006,
           256.5667547576653,
           254.900846772835,
           247.73837168422045,
           244.9096718106669,
           241.66758088894645,
           238.30614609590475,
           234.74396802158773,
           231.9135354767107,
           228.8855475042174,
           225.7158353950042,
           225.83870827014067,
           223.73928052935247,
           221.90677977256752,
           220.27962324747105,
           224.0387681980731,
           223.67218774295736,
           223.55973525420913,
           223.63726972536483,
           228.54902898410583,
           229.53426761225853,
           230.82349028511535,
           232.29315598774315,
           236.74040335668562,
           238.85486474734208,
           241.33748085545943,
           244.07768476727017,
           248.05212543019462,
           251.0413844031163,
           254.28139966852,
           257.6774299387682,
           260.6273100491385,
           263.62135791076963,
           266.08401433258973,
           267.8046603507946,
           267.2227143201459,
           266.3195029122268,
           264.64213299229317,
           262.5632474774138,
           259.3569914382419,
           256.11478415218096,
           252.84194575783084,
           249.7104061063956,
           246.6068789662873,
           244.53974742420468,
           242.34162179710697,
           240.11853060350367,
           238.24934647504438,
           236.53158729334604,
           235.05117739298464,
           233.73419811593615,
           233.28450406495517,
           232.52365500721734,
           232.0850717528932,
           231.8233968605505,
           232.04575904671236,
           231.8252427317504,
           231.66910824195736,
           231.5680248780762,
           232.95417308268955,
           233.34362267888264,
           233.68926440869734,
           233.86517076255302
          ],
          [
           294.881192676264,
           294.00017508415635,
           293.1420199696925,
           292.40687996827035,
           291.17231345302,
           290.4386050904719,
           290.0831989194952,
           290.2336784762749,
           291.40703877493104,
           292.36514302817767,
           293.37199959955706,
           294.6123210451031,
           298.5963222210053,
           300.7191872463813,
           302.64613839450067,
           304.1799621144442,
           307.9095776081008,
           308.9465514071052,
           309.7175608077447,
           310.09715872936454,
           311.3395765667399,
           311.056287763261,
           310.53282717952544,
           309.5689523975019,
           308.3305192630064,
           306.38448951590414,
           304.4148166452787,
           302.5484795136646,
           298.73401968241177,
           296.57393714019673,
           294.8299114476705,
           293.46971136892626,
           289.04745871662806,
           287.61804863608404,
           285.9676973591369,
           284.1312491081428,
           279.11022244647893,
           276.6277016249179,
           274.2405306410669,
           272.45091236943773,
           271.46986663198913,
           271.36933818387007,
           271.660380774701,
           272.4857982500582,
           278.60979227758173,
           281.4025148763134,
           284.57689732866316,
           287.90563140765727,
           295.6259073389574,
           298.91729011668286,
           302.274997435293,
           305.60677820647885,
           310.698471349115,
           313.5675371079447,
           316.23412826042096,
           318.48882059144756,
           320.5915595378998,
           321.7280150371029,
           322.14426402169727,
           321.509137340828,
           319.6377466289367,
           316.537278194982,
           312.4610312425233,
           307.6424079570507,
           302.0803501702422,
           296.4287205041226,
           290.7673134190493,
           285.44736893626595,
           279.4186992440215,
           274.7366774261119,
           270.875366335036,
           268.58144066819114,
           265.4336843867392,
           263.743784694546,
           262.72466200866245,
           262.3824703030446,
           262.77532013365436,
           263.7008172777086,
           264.4794200509577,
           265.2588055860686,
           267.2146576682483,
           268.9166656648652,
           270.72890625739745,
           272.5605791160574,
           276.0379314437562,
           278.08239289323,
           280.2151053880037,
           282.2846823968804,
           284.836551438574,
           286.5904535012377,
           288.258959228277,
           289.86381543029574,
           292.50918670240713,
           293.89380728283635,
           294.70307226930413,
           294.8983186626756,
           294.15750162996073,
           293.3635448484552,
           292.4988688026653,
           291.68936755205283,
           290.36935762123505,
           289.48663683590297,
           288.9579337110345,
           288.9754040455815,
           290.04128968350733,
           290.9788959271561,
           292.0441021797099,
           293.3316442738061,
           297.246968612804,
           299.35208655048046,
           301.3026417332158,
           302.9207333756197,
           306.6411252678737,
           307.6908460256636,
           308.4271696121505,
           308.780950544707,
           309.95467686757655,
           309.623784423903,
           309.04521477955967,
           308.0792574904296,
           306.9011388779873,
           305.0890364478734,
           303.2608793577539,
           301.5212796432694,
           297.86779994347523,
           295.8156534487254,
           294.146940605386,
           292.8383169783915,
           288.47905991381333,
           287.0449238384132,
           285.35130957667855,
           283.4392478996815,
           278.3944068597774,
           275.8697275077072,
           273.44997252444546,
           271.6237721577809,
           270.61221510972126,
           270.486955812668,
           270.7663845630828,
           271.68425492876594,
           277.7698619143404,
           280.55222298589354,
           283.7150047550982,
           287.0404862568727,
           294.8081815312257,
           298.12215225383227,
           301.5134591160192,
           304.88045465090363,
           310.04748189166037,
           312.955709763029,
           315.6817126848044,
           317.9880770159071,
           320.12117142157734,
           321.2705786788465,
           321.68996027600775,
           321.0331899156455,
           319.08345657185276,
           315.8809295506302,
           311.67263414654263,
           306.7102310071601,
           301.02066180622995,
           295.2783617093467,
           289.5663358781635,
           284.22185797472724,
           278.16354647528334,
           273.45050141080503,
           269.6371101533816,
           267.4333322661989,
           264.1515253460652,
           262.4246900943149,
           261.3737435321354,
           261.2667639020802,
           261.47430794165723,
           262.4719218923564,
           263.34059624816734,
           264.4274705543162,
           266.4332912190936,
           268.1844188559917,
           270.05652889724996,
           271.9493079772881,
           275.4644409941642,
           277.5363474168872,
           279.678021759949,
           281.7294407475459,
           284.231988503537,
           285.9651708887174,
           287.68637395822304,
           289.38767619273574,
           292.12216807213184,
           293.60472033575826,
           294.5119241956897,
           294.78334186714517
          ],
          [
           344.86373363689813,
           343.34427096577207,
           342.8334836528509,
           343.050425314464,
           342.95144043209467,
           344.2662698363984,
           346.1324142249095,
           348.2836148208927,
           350.93400746003044,
           352.59763451509434,
           353.8592368141108,
           355.10399619416535,
           358.7416630535666,
           359.3698861757527,
           359.16921348162475,
           357.99967310469896,
           358.6618600498056,
           356.29661916739,
           353.8555227786713,
           351.2957970372161,
           351.0159385234145,
           348.8638780598261,
           346.8688866077238,
           344.8845046565906,
           344.26486287918135,
           343.14701164981284,
           342.61274858890215,
           342.5846810558401,
           340.1669451750173,
           341.05275199943515,
           342.1857814399267,
           343.3837279923912,
           339.6663825820266,
           340.41285220399266,
           341.1028468943148,
           342.36841106219515,
           339.1369568407412,
           341.66923222568244,
           345.863560559247,
           351.5590953339357,
           356.85305572942957,
           362.7015088518421,
           367.79996494253567,
           371.96626584098937,
           376.51981391891803,
           378.0297528910788,
           378.15555039765,
           376.77219100768053,
           375.20845330147364,
           371.5805696837999,
           367.380382430763,
           362.7868111037988,
           359.13968470791224,
           354.41937759494783,
           349.63488973265044,
           344.83469603801274,
           341.39117425019697,
           337.1037250236808,
           332.88951695798204,
           328.7810112998891,
           326.0160041183858,
           323.1220864989505,
           321.0578042234524,
           319.8508841824225,
           319.8607022163075,
           320.718146126575,
           322.1783116661454,
           324.2329082917666,
           322.6903969424355,
           326.8800405796181,
           331.9815051324567,
           337.80922056415824,
           336.6389711299107,
           344.0244324146921,
           351.8458107636777,
           359.89650195912355,
           365.6661027530144,
           372.6898436246529,
           378.1907404149025,
           382.1764727089876,
           385.03562421003005,
           386.6941681508746,
           387.22741549545043,
           386.56836691811486,
           385.0941140111627,
           382.57587473715694,
           379.29849438891557,
           375.3463558918085,
           371.16036579831626,
           366.7016225185938,
           362.39973141761004,
           358.4578198347389,
           355.60960888536835,
           352.3632664510087,
           349.06769172287096,
           346.05999956768704,
           343.36038570680137,
           341.88987468714004,
           341.28207363117673,
           341.3380546581693,
           341.1023692715421,
           342.17626174340757,
           343.7380697924284,
           345.64632490305223,
           348.0905437941438,
           349.662387757454,
           350.9571314081962,
           352.164967478795,
           355.5850829669857,
           356.05379253731905,
           355.83163616660846,
           354.8301139477937,
           355.6066884897848,
           353.38368656604706,
           351.0367870722114,
           348.6220190315917,
           348.4703538424018,
           346.3849706450853,
           344.39219711829924,
           342.4659940969765,
           341.9981027766142,
           341.11237524429583,
           340.7928326768423,
           340.92859834193604,
           338.6865270574462,
           339.68894783357297,
           340.8637442757892,
           342.0519791815605,
           338.1565989561991,
           338.8094210549822,
           339.32103842917354,
           340.52232114780503,
           337.029726423756,
           339.4717102810846,
           343.6297176738227,
           349.3132208157077,
           354.6707326537332,
           360.64319317974974,
           365.9400254372878,
           370.2446544317448,
           374.69725471719414,
           376.51613498592087,
           376.9762976378189,
           375.96319390871986,
           374.7420530620177,
           371.42514169987663,
           367.4735919083373,
           363.02096484819435,
           359.25842640612126,
           354.4654259598206,
           349.56031120714687,
           344.5574436043114,
           340.734944643512,
           336.1692831766772,
           331.70638198370926,
           327.377457853156,
           324.3628460071914,
           321.3098291094371,
           319.12893968973117,
           317.85603322315046,
           317.85815638650564,
           318.80599562055875,
           320.44134673743196,
           322.711024482471,
           321.4098041782368,
           325.77295181034555,
           331.0519946525449,
           337.01124887413977,
           335.8848305011012,
           343.1915945424825,
           350.85935222804983,
           358.71485816338395,
           364.3210927098552,
           371.24906055103867,
           376.6895032320409,
           380.5758167966061,
           383.23999736577287,
           384.8018108447847,
           385.3359093197689,
           384.7475292479772,
           383.3475608397797,
           380.9306742924619,
           377.748135439599,
           373.8188550287565,
           369.5516818786539,
           365.0782264211559,
           360.9248708268508,
           357.1836558410125,
           354.429143228052,
           351.3043277625626,
           348.11767099994063,
           345.16786632183226
          ],
          [
           443.32918178659344,
           451.6349294948486,
           460.35817107359946,
           468.2525049971166,
           474.3312604827827,
           478.79972382684343,
           481.27589984220054,
           481.2268752616087,
           478.7841709728032,
           473.8154383353569,
           467.0297347665556,
           460.2014188486891,
           454.7585182941533,
           449.39271012640836,
           443.62891843398916,
           437.8070578380214,
           434.7960576045246,
           431.7137945192837,
           430.19246966546643,
           429.7253821419458,
           432.2136061421899,
           433.4657526936426,
           435.3886817519515,
           437.636934327036,
           441.1634229550443,
           444.6205322850142,
           448.7647623857511,
           453.115177060985,
           455.7817384769936,
           458.9896394558471,
           461.4214216315078,
           462.67460949140616,
           458.85812380325075,
           458.2013984143498,
           456.90525421557606,
           455.04768212942895,
           447.35765322918616,
           446.30538575430967,
           445.37409436364027,
           443.87521897398483,
           440.56811103254233,
           436.8394611163318,
           432.21933194371775,
           427.3240137394847,
           424.1371584640667,
           419.60179760885455,
           415.16578388704545,
           411.01408325672094,
           412.1235611848472,
           410.21911108080445,
           409.3167346698656,
           409.3447821950873,
           415.34212255722383,
           417.5337335530639,
           420.26514361821864,
           423.6112050407038,
           430.630291698591,
           435.25261628981053,
           440.101614125146,
           445.1173019382413,
           451.69937289311963,
           457.82539478796366,
           464.75457694040585,
           472.5622071852629,
           481.4150207249346,
           490.56892022833597,
           499.14451523217684,
           506.60948116897237,
           511.63471062101456,
           514.3393588036347,
           513.8212271649446,
           510.00452213724606,
           502.5623970096536,
           491.79473224485014,
           479.114480335817,
           465.4380852686483,
           450.4267988724114,
           438.70748351344264,
           428.9592698448394,
           421.5829844490976,
           416.98659191361605,
           414.64008419969844,
           413.44386330855775,
           412.3888925910582,
           411.27650990103007,
           410.0152330425255,
           408.37510389313815,
           406.89226066093954,
           407.11905112678954,
           407.8508100014794,
           409.74231592435035,
           412.6228508850785,
           417.90743640726276,
           422.090634490304,
           426.76887981813877,
           432.50584320290045,
           439.43327124472734,
           447.85608589497156,
           456.31462688465103,
           463.80883184354093,
           469.58066036646335,
           473.4429667789359,
           475.04039199475307,
           474.30097069028517,
           471.29012296398906,
           466.0794062159526,
           459.44990408848264,
           452.61444432511786,
           446.86602107291145,
           441.30140807821533,
           435.7558327024875,
           430.7134871748692,
           428.62645849779733,
           426.3216910878528,
           425.43652853703264,
           425.67733346021316,
           428.8417962528142,
           430.27864132909986,
           432.01668405560446,
           434.0593509724195,
           437.5678252366231,
           441.1107804474218,
           445.2590821232525,
           449.486840693381,
           452.1090026496048,
           455.24757057448846,
           457.4592058678147,
           458.4259615063939,
           455.6952006980073,
           454.7444818501969,
           452.2049287700114,
           449.49952470738054,
           443.22078226508694,
           442.3590633712713,
           441.8007373332432,
           440.6457197384156,
           437.890450569668,
           434.6618816356464,
           430.5181366528193,
           425.97885784101993,
           423.29736864377037,
           418.8962091133411,
           414.42241070301293,
           410.1347209479967,
           410.84644561634315,
           408.53711865126996,
           407.18352572896396,
           406.7062041813966,
           411.98797411445145,
           413.6422436206926,
           415.9354310613864,
           418.8190144241439,
           425.3129064388165,
           429.5185333111434,
           434.0703634020086,
           438.89817394139357,
           445.35011047237015,
           451.40242136745303,
           458.2154691516314,
           465.8362786076428,
           474.4671181494885,
           483.55124514455616,
           492.24565508727306,
           500.0186581673455,
           505.35413744184245,
           508.749199077127,
           509.12895802556284,
           506.1494489837931,
           499.13833321555074,
           488.90266892622947,
           476.7255082347403,
           463.5350253093551,
           449.55714849692595,
           437.77316568382355,
           427.7486723487357,
           419.87906307059944,
           414.641472259367,
           411.67088054672354,
           410.0251911067516,
           408.69820656915874,
           408.6094698788332,
           407.33043917801257,
           405.70633023926706,
           404.09106926747165,
           403.8899754068408,
           404.10434524638856,
           405.64241792536666,
           408.23928724031083,
           413.22537930581444,
           417.1870846389689,
           421.86949829090344,
           427.73998008126733
          ],
          [
           542.703340476013,
           530.5466709966092,
           519.4587859487168,
           508.8629229216749,
           499.14311244299415,
           492.2469830167121,
           487.4646941625555,
           483.56465479685414,
           481.063203701896,
           479.35324624469996,
           479.1705546030048,
           481.7725957564844,
           488.9426062487753,
           494.53693142142697,
           499.247123641801,
           503.3398624706372,
           509.5659753543603,
           514.8039383405526,
           520.4599421046738,
           525.1310108700762,
           528.5359819577966,
           530.869023954164,
           532.6632678680434,
           532.988537499678,
           531.7238166722383,
           529.4673530528482,
           526.6616424978529,
           522.9488787979399,
           517.2228536532822,
           511.35482431371895,
           506.0859249572727,
           501.53628358188905,
           496.14767180397996,
           493.86590534380167,
           494.1498772735592,
           497.3598982865147,
           498.2056338754239,
           502.8592073549045,
           508.26847366294993,
           512.3716601700522,
           513.9219440692366,
           515.0267284744089,
           516.7342794459369,
           520.5091441488356,
           529.320605842759,
           536.7550440489888,
           545.3331611364313,
           555.6233844430915,
           571.7058122490602,
           585.7462961631361,
           600.0802558073293,
           613.8695237056329,
           628.8578259471996,
           640.56815454497,
           649.4645769525007,
           655.3975630401343,
           659.3802547338869,
           660.4399909572112,
           658.622988658914,
           654.0619296264019,
           647.5773332966102,
           639.6876706555005,
           629.5947377958663,
           617.3170767465427,
           603.2092412065957,
           586.9174306957057,
           569.5868009855116,
           552.8829537190547,
           537.1707025043115,
           524.1286284577554,
           513.9450787349286,
           506.7925390819488,
           502.1791454801223,
           499.8784952450594,
           502.4115536938123,
           506.4662859733939,
           508.61387945329955,
           513.1856596425511,
           518.5840416722713,
           525.6300519690685,
           534.5716400631321,
           543.8122976816734,
           552.7012947964802,
           561.3017384910372,
           569.4900318570702,
           576.0996249843802,
           581.0282715716431,
           584.9014650646459,
           588.2959785222257,
           590.3706922108048,
           589.7251052503736,
           586.247518812817,
           580.357883186217,
           571.979094476264,
           561.3092170719667,
           550.5487394602022,
           540.5724651896027,
           530.8217446617424,
           520.3627348687127,
           509.567267725821,
           499.45920258824094,
           491.3443603934063,
           484.9257471971079,
           479.7986836034809,
           476.28375709662254,
           474.0311407173319,
           473.78841062713354,
           475.9052543497554,
           481.9603432298748,
           486.456327060305,
           490.68959176888626,
           495.35523253851767,
           502.6841042117126,
           508.803877816743,
           515.2079315740192,
           520.9589446455033,
           525.4529535875818,
           527.7729914956599,
           528.7822906944768,
           528.4068209151349,
           526.8613107031177,
           524.5055242305187,
           521.2977350747146,
           516.912445476115,
           510.7668471427982,
           504.554377969122,
           498.8973033853594,
           494.1054429342751,
           488.13522659536267,
           486.3330779158191,
           486.99748034206465,
           490.5424424215164,
           491.2839053901183,
           497.9894919603584,
           504.8154390284569,
           509.8213084930852,
           511.91930096340957,
           513.3547644857312,
           515.1222396383508,
           518.5445901254624,
           526.5997286570296,
           533.0605506668848,
           540.6639878909183,
           550.1160707236603,
           565.3541028234922,
           578.1269071196733,
           591.1699633800256,
           603.6208510941624,
           617.2329712207119,
           627.8264834510902,
           636.2063728682824,
           641.9181649617058,
           645.9206686427764,
           647.4181759036112,
           646.5085160152776,
           643.1653171255724,
           637.8042922853393,
           631.2606145134879,
           623.1965320998669,
           613.4521883593803,
           601.5376715307995,
           587.0025639095501,
           570.4439725257726,
           554.1344158875404,
           538.465775369074,
           525.6218895351145,
           515.7859889371417,
           509.76367841484125,
           503.99907649034526,
           502.64688414923984,
           504.446949369993,
           507.27505502895553,
           508.20624027433826,
           511.2654368309646,
           514.914883213432,
           519.9266840037758,
           526.6166156857449,
           533.7252378647862,
           540.9856851322303,
           548.6338845356383,
           556.8300448316933,
           564.2784037959198,
           570.7226488134588,
           575.7885062078727,
           579.2916517393735,
           581.1739826842384,
           581.0943703323783,
           578.335414456879,
           572.806186707898,
           564.862926879251,
           554.9836223528062,
           545.0682646766256
          ],
          [
           570.6203554831837,
           572.1177448829466,
           573.9595984206078,
           575.1291232662909,
           576.9293552131033,
           582.385524960684,
           589.5841794232538,
           595.4147859433377,
           600.7400627710554,
           604.6824740822439,
           607.0555398615355,
           610.4527191738108,
           613.8602831767995,
           612.7147530734418,
           604.546357028315,
           592.3341906263717,
           580.2189312873512,
           570.3678233878638,
           562.0562230490273,
           554.3597758362584,
           547.9309944633626,
           543.8697887040197,
           542.5623623144711,
           542.6571590634277,
           543.5888078177841,
           545.0273238056162,
           547.7182036616521,
           551.4118600484497,
           554.3797476737749,
           559.413875224742,
           566.1950125290514,
           574.0902796557715,
           581.4688581604364,
           592.297806959433,
           604.1570297381995,
           616.695805930539,
           625.7770852346968,
           634.7652868503882,
           643.3033263227259,
           650.9005041037793,
           658.6931051456129,
           667.8968895899959,
           678.558152447931,
           690.7994562294914,
           704.054735347952,
           715.2161389651558,
           722.7149985989524,
           728.2583721289396,
           735.5924087576258,
           736.9070275580771,
           735.3867870979201,
           731.5865655434663,
           728.3593342773311,
           721.9815120534714,
           713.9792392729717,
           705.0630187000095,
           696.4298622191254,
           686.9420672827114,
           677.1302758421862,
           667.5472767588526,
           658.9328489291441,
           651.4161010657092,
           644.8428903642024,
           639.379736638461,
           634.512773386565,
           629.8238925862926,
           626.4593400849707,
           625.4758725539531,
           624.9813701245469,
           626.4821076599804,
           629.4847148277746,
           634.0578062270956,
           639.157130136388,
           648.5747242752055,
           659.1469886129429,
           668.586346899909,
           676.8489947399091,
           683.6929521406763,
           686.9119000423254,
           684.8546810858046,
           676.4444358642978,
           661.0333205464217,
           640.5062167778968,
           619.4049400656653,
           601.1372072998784,
           586.6644180702275,
           576.3119701440173,
           570.3406218681965,
           568.3000318576279,
           567.4779662783743,
           566.3618451774745,
           565.1652520070645,
           565.0006430614129,
           564.7471672027605,
           564.7330159392736,
           565.8668548392083,
           568.3899876789828,
           571.6222379544614,
           573.4709133533449,
           574.1187404723601,
           575.5958761908506,
           578.7502240757228,
           581.8392244451117,
           583.8691261917946,
           585.6480245189288,
           587.541022552001,
           589.7251332636455,
           592.2470700938433,
           594.0158469320708,
           592.147572019904,
           585.7271675950104,
           578.2108453101043,
           571.5666422084815,
           565.8406688291102,
           560.1913016108385,
           554.4782894894515,
           548.7239976531381,
           543.2497173934332,
           539.3894150345078,
           537.2780462889767,
           536.8795284474656,
           537.5573952897761,
           539.4362412961893,
           542.368679569877,
           545.3288004003135,
           550.7925928590332,
           557.8198701476032,
           565.9573405223831,
           573.687837497399,
           584.983026757448,
           597.1815637217103,
           609.9384818396275,
           619.8784522328557,
           630.7372644159244,
           640.6303947613665,
           648.3151689229757,
           655.6812993498979,
           664.4362704158833,
           674.5491327467989,
           685.7002699379398,
           697.3017378720061,
           707.9651125519758,
           717.0261539156802,
           725.0097339811679,
           731.8195327527667,
           734.0067628779577,
           732.1724679518022,
           727.8454914825971,
           723.7549371207833,
           716.398966660433,
           707.7401743036182,
           698.1803091053775,
           688.9739800812004,
           679.2207526101026,
           669.4634132821386,
           660.1403272844501,
           651.9282832026342,
           645.1025355272802,
           639.2616204829118,
           634.4466497463302,
           630.2736103703768,
           626.4847355918902,
           623.9426291855394,
           623.327634978987,
           622.4687129832923,
           623.6150273367505,
           626.5448341231628,
           630.5193621146037,
           633.8940105011054,
           640.3972802747963,
           647.5200247419594,
           653.3385231759758,
           658.6643695789946,
           663.7185692902146,
           666.5406679538008,
           666.0662463783527,
           661.5802509872872,
           651.8500411708727,
           637.1024092184001,
           620.3517935408503,
           604.5191843617738,
           590.7867175977262,
           579.7900363833955,
           571.8580960995102,
           566.7507933494303,
           563.2308585087297,
           561.0430047679096,
           559.8533647266534,
           560.2371442181851,
           561.3231118779909,
           563.4491112402196,
           566.8846469834668
          ],
          [
           632.094277733126,
           628.9983532534391,
           626.2275545317599,
           622.3443997516025,
           619.8499480685091,
           622.0282644375786,
           624.1182369900752,
           621.7154526722261,
           618.1388681574826,
           613.4669168776298,
           607.7969558675004,
           604.375417938259,
           602.1375470035298,
           596.8914579680815,
           588.0254678425603,
           579.2312584932063,
           573.8851518674383,
           571.7106823913748,
           571.3373270463578,
           571.4657019282783,
           572.9924681291924,
           578.0816481115344,
           586.8032316735513,
           594.9677232733864,
           599.8608746251376,
           603.4546584904263,
           609.1132262527511,
           617.1266289112864,
           624.3481800896441,
           631.7683965786481,
           639.9390652889209,
           648.4164223880796,
           657.5854736443206,
           667.1865461340743,
           675.5256833291967,
           682.3798659383378,
           684.270223959238,
           687.4641418626684,
           691.70115868948,
           695.8648531150841,
           700.8509071900656,
           706.6994376551984,
           712.5904193347096,
           719.0845827074489,
           726.2614060409958,
           732.2719297219546,
           736.2703106857123,
           739.1698350902152,
           742.0127855242731,
           744.4889529794685,
           744.7597410266017,
           743.4363662907956,
           742.1861439664103,
           740.1845330863935,
           736.2618673592538,
           731.9593094882458,
           728.5012376186689,
           724.4682566448514,
           720.4716218004094,
           717.4372154905209,
           715.6277829028966,
           713.7348674589309,
           711.5519941127943,
           709.6522130359497,
           707.6818485061299,
           705.7994148194666,
           705.265715945779,
           706.0705852839236,
           706.0523787300783,
           706.80176251658,
           708.1252430559477,
           709.5899490748258,
           709.9511438069682,
           707.9091491555326,
           701.3260063982283,
           690.3594818792404,
           679.2655102280112,
           670.9008639414889,
           664.366957834878,
           659.0000473149382,
           653.8016278968258,
           647.2036982772925,
           640.5603776774425,
           636.7481530165787,
           635.9015160783698,
           635.6387655705655,
           635.0933657848009,
           635.5413427476243,
           637.116824711362,
           637.0350322374038,
           634.6524033733367,
           632.5553405293784,
           632.7930977271326,
           633.2578863867344,
           632.2357475676251,
           630.9302023623505,
           630.3569220472544,
           629.4377207308978,
           625.7572274253633,
           620.7420083051353,
           617.4964571361431,
           615.3626962655969,
           611.5283043534822,
           605.6033873146919,
           599.7592000180659,
           594.9558921138831,
           591.027789098365,
           587.8715368984699,
           584.6687980211204,
           579.1697649025283,
           572.2046484163084,
           567.8639917394997,
           567.0666052094188,
           567.5460054721121,
           568.3271122465339,
           569.3999866094889,
           570.5847647974252,
           572.7563923394489,
           577.5320795657495,
           583.1840560062673,
           587.776025738407,
           591.8393089330032,
           597.2307063700125,
           604.6957140721877,
           612.6989963549426,
           621.4982830479877,
           630.3407397773124,
           639.3023638358254,
           649.1687826903919,
           659.4967295671335,
           668.1990651857407,
           675.4000462115598,
           680.7429853229372,
           685.6198606498732,
           690.7814571009236,
           694.4896683791654,
           698.5920555638006,
           703.6320761679801,
           708.6744457948045,
           713.8136654061694,
           719.2136066254222,
           723.7513629661798,
           727.1648746718254,
           730.2930528338252,
           733.2183926381157,
           735.181889195684,
           735.2029900699885,
           733.671341745949,
           731.781643510379,
           729.6750238571221,
           726.419048092898,
           722.5792801116381,
           719.4723405732383,
           716.2090096422792,
           713.043518750756,
           710.6932508997877,
           709.5492655564876,
           708.2751336263991,
           706.3765636920687,
           704.433464152999,
           702.5371169229966,
           701.1781558224244,
           701.2255750437434,
           701.364884606297,
           699.7394417975522,
           698.2777732661646,
           697.8235270888893,
           696.232205474357,
           692.3919846893298,
           687.2259090390709,
           679.8575240176696,
           670.2680633546584,
           661.9964189580862,
           656.3596196487168,
           652.0934255099866,
           648.9291268787256,
           646.0755509005509,
           641.8487740717796,
           636.860822354376,
           633.8604729961793,
           633.1420878470881,
           632.7325155855871,
           631.8324694293674,
           630.5526932462419,
           628.4485737191218,
           625.5423178863516,
           623.6804319208056,
           623.7176008202688,
           626.1708287720053,
           629.341294738503,
           631.535008149252,
           632.6353861702141
          ],
          [
           645.015968693724,
           639.0575106033208,
           633.7883957752364,
           627.7866888181416,
           624.3996592079664,
           626.2882934049247,
           627.0909136639664,
           623.4179688025501,
           619.7541738201382,
           615.1861232390339,
           609.6083276950102,
           606.5293583627129,
           604.6137623913498,
           599.9275469939307,
           592.6421599693108,
           586.5662374321564,
           584.2848538385069,
           584.8563522992148,
           586.8554031865791,
           589.187743960859,
           593.0689969581014,
           601.4206428682612,
           612.6372628590756,
           620.8425421804843,
           624.3303093351421,
           627.6642055600123,
           634.8491195171014,
           644.3013415049622,
           651.4894452395909,
           657.5042153049695,
           664.0059468714636,
           670.9412245403969,
           678.8487989621884,
           685.6918829731106,
           690.7001773208468,
           694.6480699646726,
           696.7642643455247,
           699.5241329945329,
           704.0519955409998,
           708.3673539999868,
           713.5268667255943,
           718.666789194544,
           723.3344285686992,
           728.745125170828,
           734.6589132041195,
           739.4500170659187,
           742.0452921019787,
           743.9937956437566,
           746.6654649503873,
           749.5573693682913,
           750.6233385899208,
           751.176639750721,
           752.9675733385438,
           754.2326010912027,
           753.7694173830431,
           753.5216050489455,
           754.0144730920637,
           753.4797311380335,
           752.8424551395012,
           752.7453970671945,
           752.6685764824035,
           751.4800030802879,
           749.4086844749378,
           747.1775424501358,
           743.8802650330078,
           739.6782974241924,
           736.115633024172,
           732.9148680103581,
           728.5459118230774,
           724.3181633990407,
           720.907290155621,
           717.579550319668,
           713.5653094516365,
           708.13426084243,
           699.6054571816642,
           688.8851209299871,
           680.4596297867272,
           675.7105704620099,
           672.5836069419047,
           669.5603074732802,
           665.599310054721,
           659.9981188576796,
           655.2596264475901,
           654.5144220482725,
           655.9731039119818,
           656.4573513585628,
           655.8337463472386,
           656.1400992811318,
           657.3845597324851,
           656.8859770438936,
           654.6537568691157,
           653.5049675689047,
           654.2766679291872,
           653.7615944680329,
           650.2337418857799,
           645.9118794162798,
           642.4610829539366,
           638.7595794956208,
           632.5272949389374,
           625.7746496233368,
           621.5634416042171,
           618.5253835797807,
           613.59498998333,
           606.8931750166039,
           601.0025627070488,
           596.5173776526697,
           592.7156563211922,
           589.3122389395944,
           585.8127600285566,
           580.6192454547843,
           575.3835734118924,
           574.0451134255204,
           576.2876231500104,
           579.2226391667258,
           582.1734316367019,
           585.4059509147962,
           588.6213266029775,
           593.5335686326641,
           600.7726821521121,
           607.1780834051851,
           611.1016835868057,
           615.1201958767598,
           621.7875687211983,
           630.7141229587425,
           639.256655630644,
           647.0610373109913,
           654.3372779743132,
           661.8776483054075,
           670.7153136642357,
           678.6198545004866,
           684.0537529361627,
           687.9040870562593,
           690.9270397978245,
           695.7093678602616,
           701.0455535114389,
           704.5268181278574,
           708.6018543461128,
           712.9482976390984,
           716.8647379128255,
           720.9824208422826,
           725.2488565556451,
           728.905698960705,
           731.4433873144794,
           734.1092554784153,
           737.001657250793,
           739.4765432217594,
           740.5342048214941,
           740.947139898904,
           741.9546306150376,
           743.064543780283,
           743.2413286046028,
           743.1387525636819,
           743.6446309365119,
           743.6460434087837,
           743.5771329027561,
           743.8721823101798,
           744.2156829058179,
           743.4318818787797,
           741.542342027034,
           739.3141649162988,
           736.345245037957,
           732.9888164764113,
           729.9788156197055,
           726.0502001884372,
           719.6715016779295,
           713.1689034103964,
           707.5936340248476,
           701.4046563009271,
           694.4740574968722,
           687.9856182277472,
           680.5096816492351,
           672.0818685789201,
           666.5248475183054,
           664.4562662397311,
           663.3028818623658,
           661.9644510694669,
           659.4681917477867,
           655.1414372158555,
           651.249801279049,
           650.5630042798268,
           651.5132394973651,
           651.5204583718696,
           650.4135203574605,
           648.7986968235585,
           646.3202984382211,
           643.67189921098,
           643.0264424080402,
           644.5785022608362,
           647.6333641378109,
           649.6726439592655,
           649.028025429532,
           646.5526155303859
          ],
          [
           646.5303420289727,
           640.3011205071537,
           634.7784135942376,
           628.7519216190753,
           625.50592327581,
           627.284648718596,
           627.9690326754909,
           624.707164651959,
           621.611941896921,
           617.5561238160494,
           612.4425452663628,
           609.6900034795249,
           608.1720589593789,
           604.2141727260091,
           597.6929315401942,
           592.1399285870712,
           589.9840489724759,
           590.5554283780232,
           592.6097755215368,
           595.168551741853,
           599.661412548001,
           608.5247372052307,
           619.7142565486612,
           627.5473445153577,
           630.8396571679136,
           634.5855028198525,
           642.2098901807224,
           651.6851752782412,
           658.6472132099142,
           664.1296368793271,
           670.1181543435492,
           676.6431299758344,
           684.154178898303,
           690.5363336386629,
           694.9605464348663,
           698.4259918454018,
           700.6821379950695,
           703.7075219341448,
           708.4706372588446,
           712.9612671334442,
           718.1860494476875,
           723.1253851108959,
           727.6088857288213,
           733.0100404307867,
           738.9090799923335,
           743.6719669666793,
           746.3252958108893,
           748.5906399560588,
           751.8457034561604,
           755.4718644320005,
           757.2834337216068,
           758.8691910931377,
           761.8203308157093,
           764.2151071529719,
           764.7517293872934,
           765.5568701790615,
           766.8352481790141,
           767.0144090189028,
           767.0729726556011,
           767.4235404417527,
           767.20457236264,
           765.5601921014135,
           763.1189419758676,
           760.5539912069394,
           756.5979627157226,
           751.0826548841014,
           745.7615960288683,
           740.9821840383456,
           735.4112199764296,
           729.8421740719352,
           724.8318261336392,
           720.0068733906501,
           715.2203045614784,
           709.5798169779562,
           701.653240575562,
           692.4125461439343,
           685.8523054995394,
           682.8671080333204,
           680.9337412569979,
           678.3364406048281,
           674.1320534019594,
           667.9636826215086,
           662.603883959583,
           661.0779634606587,
           661.4775657131629,
           660.9544765846696,
           659.5783763362784,
           659.2935523805118,
           660.0394113756271,
           659.4071764239145,
           657.452916154863,
           656.5817695245813,
           657.1956644200443,
           656.2485942590208,
           652.2336971124549,
           647.3889656877296,
           643.4622923685365,
           639.445706570555,
           633.2132688906993,
           626.6127204871129,
           622.4611363757288,
           619.4202837441337,
           614.6123395612713,
           608.216605745631,
           602.683836089477,
           598.5008912209466,
           594.8888404404585,
           591.6079323729371,
           588.3335617032806,
           583.6829405832269,
           579.0619464568688,
           578.2207704626376,
           580.752047297125,
           583.9201052028216,
           587.11454107848,
           590.6454883843484,
           594.4927097062754,
           599.9860197929693,
           607.3282958345667,
           613.4780645897346,
           617.1959616668145,
           621.539724421704,
           628.6014959888802,
           637.6433489153283,
           646.0871008439176,
           653.4534969472309,
           660.3193049315694,
           667.5178745026086,
           675.9718694465932,
           683.1648438864335,
           687.7979055316929,
           691.0709114377323,
           694.2568235918927,
           699.2086215432582,
           704.6397574271034,
           708.1818978889701,
           712.2360834230257,
           716.3734029393331,
           720.1295042970337,
           724.2396705078602,
           728.5335548038938,
           732.2394150322754,
           734.9737897561567,
           738.0663091496368,
           741.5391079630767,
           744.7321598676183,
           746.6057177378746,
           748.0120704294615,
           750.0313691141453,
           752.18258554146,
           753.2931563527718,
           754.0502720539988,
           755.1643162649475,
           755.7647856694318,
           756.2831091059774,
           756.9424212169679,
           757.1086118957226,
           755.8751297241245,
           753.6652421342699,
           751.1812439844298,
           747.694127200296,
           743.1428008680923,
           738.3585498765065,
           732.774303642107,
           725.1901690235941,
           717.5115056331018,
           710.646651660706,
           703.4204239660271,
           696.4020103725413,
           690.3879540345351,
           683.7746611651296,
           676.5213896315279,
           672.2975989659428,
           671.4245279510213,
           671.0907553919818,
           670.0275408480884,
           667.3178692474139,
           662.5654721832245,
           658.2108330436574,
           656.8764510200357,
           656.8371233334378,
           655.8207522207367,
           653.8966881823874,
           651.7145737935864,
           648.9558125074096,
           646.373640627377,
           645.9445898355951,
           647.6155311818204,
           650.4134400483077,
           651.8926028972172,
           650.5971987765838,
           647.5165592404726
          ],
          [
           646.9236287857453,
           640.6643528513525,
           635.1355070243707,
           629.1414850633964,
           625.7788861896346,
           627.3670186359388,
           628.1574150790167,
           625.1071460829247,
           622.0737425766962,
           618.150340923944,
           613.0944790429518,
           610.2931659911615,
           608.8482989226983,
           605.1448593289194,
           598.7985983613894,
           593.2351005023048,
           590.9316260077078,
           591.418429392255,
           593.461106416843,
           596.1187720692748,
           600.7523603898983,
           609.5609027817273,
           620.7013010335912,
           628.6344156784587,
           632.1589804849971,
           636.0077575971962,
           643.5515996292277,
           652.9805208116728,
           660.0280683957312,
           665.447065261749,
           671.3614775254349,
           677.8373182812363,
           685.3570232609422,
           691.8144859540506,
           696.2445920110138,
           699.7154590318842,
           702.2014108749838,
           705.3060878285473,
           710.1049822919771,
           714.6889015809452,
           719.9134633427225,
           724.8714875892331,
           729.4129547823902,
           734.9159424706252,
           740.8990269972818,
           745.8472316233244,
           748.7545066848376,
           751.2760510866282,
           754.7404902338767,
           758.6385265034742,
           760.7200854551093,
           762.5224210470166,
           765.6245920506744,
           768.233282037432,
           768.9192941122935,
           769.7755472649218,
           771.0829138842504,
           771.3881046695794,
           771.5354913248566,
           771.8927631860704,
           771.5281910649793,
           769.6437584070484,
           767.0575578842626,
           764.4416169603071,
           760.4147299261576,
           754.5864210573548,
           748.513384699753,
           743.2778707925834,
           737.5667233902559,
           731.8208718707876,
           726.4937181201037,
           721.1951132515323,
           716.3055698214008,
           710.7570873897104,
           703.1325982641329,
           694.0912676530257,
           687.5302633347598,
           684.541071293604,
           682.6534332248619,
           680.0886632805109,
           675.9068700071089,
           669.7024694344876,
           664.08706419341,
           662.1668471665517,
           662.2698605017833,
           661.6143184181032,
           660.142225293775,
           659.7012799424954,
           660.3353590342513,
           659.7711423587499,
           657.8995843669111,
           656.9631801905285,
           657.4289172978446,
           656.4826319072138,
           652.5126259393484,
           647.6232660475819,
           643.6348951062573,
           639.6565660536805,
           633.5649207339789,
           626.9788917857608,
           622.7341123663931,
           619.6651885361139,
           614.95760615393,
           608.6448091937184,
           603.1103769088538,
           598.9134563510114,
           595.2938205706118,
           592.0304593254672,
           588.8189302887331,
           584.302425693108,
           579.7192103497438,
           578.8407450607667,
           581.3332879640238,
           584.5325520078613,
           587.77048949224,
           591.4063588122806,
           595.4433625715064,
           600.9716984572375,
           608.2890737853231,
           614.459551658611,
           618.3036072222577,
           622.7421993955963,
           629.7816211819315,
           638.7795414740372,
           647.245569132484,
           654.5826122961379,
           661.4462230488232,
           668.6059410737179,
           676.9978580517923,
           684.2093529693124,
           688.866781922206,
           692.1783244729354,
           695.504014997925,
           700.47322158502,
           706.0099275837078,
           709.6871201597512,
           713.7051943369308,
           717.8408287946168,
           721.6491849447555,
           725.8502786434341,
           730.2095119139258,
           734.0660360242838,
           737.0147644772384,
           740.3462212868247,
           744.0363443331013,
           747.4940260681451,
           749.640445832137,
           751.2733487492388,
           753.4243180080271,
           755.7498269203222,
           756.9995228886924,
           757.800978339646,
           758.9060396913953,
           759.5845460983535,
           760.1644633859478,
           760.8247577938691,
           760.8577177387701,
           759.4042784302792,
           757.0655222021271,
           754.5389711406062,
           750.9833877452334,
           746.1419681539948,
           740.6589749748437,
           734.7173344764383,
           727.0921228945581,
           719.2982318344721,
           712.2019865670383,
           704.6579374002696,
           697.6361980074266,
           691.6495060281203,
           685.2077379106753,
           678.0631014316917,
           673.7579476056567,
           672.8449081065246,
           672.5489045975669,
           671.5140427369865,
           668.8349327557073,
           664.0753818520855,
           659.5413503608332,
           657.9060051327814,
           657.6173553333757,
           656.458228715084,
           654.4366917272949,
           652.1897921456307,
           649.4210752797364,
           646.8215948881617,
           646.3086897443552,
           647.8735068800702,
           650.5283423615786,
           651.9654131096988,
           650.6763469519682,
           647.6122731109301
          ],
          [
           null,
           null,
           null,
           null,
           null,
           null,
           null,
           null,
           null,
           null,
           null,
           null,
           null,
           null,
           null,
           null,
           null,
           null,
           null,
           null,
           null,
           null,
           null,
           null,
           null,
           null,
           null,
           null,
           null,
           null,
           null,
           null,
           null,
           null,
           696.3076187276469,
           699.8090155499021,
           702.3624260045931,
           705.4891555638071,
           710.3140557781115,
           714.9342551269034,
           720.1829230402177,
           725.1741695924194,
           729.7528108731781,
           735.2980379119479,
           741.3142470361461,
           746.3433169086663,
           749.3458273935566,
           751.935231366089,
           755.4259525281574,
           759.3863296823785,
           761.5422576092144,
           763.3653208270987,
           766.4675225977604,
           769.1314428147233,
           769.8411506051501,
           770.6580390164099,
           771.9500064192075,
           772.2804745808178,
           772.4143664977573,
           772.7419435621625,
           772.3267716967558,
           770.3693721709003,
           767.7290881778281,
           765.0884202527848,
           761.0349629955344,
           755.1210548380831,
           748.8725758324144,
           743.5420098095283,
           737.791413995045,
           731.988283402886,
           726.6067262792873,
           721.2600937328159,
           716.3683897230824,
           710.8038408648827,
           null,
           null,
           null,
           null,
           null,
           null,
           null,
           null,
           null,
           null,
           null,
           null,
           null,
           null,
           null,
           null,
           null,
           null,
           null,
           null,
           null,
           null,
           null,
           null,
           null,
           null,
           null,
           null,
           null,
           null,
           null,
           null,
           null,
           null,
           null,
           null,
           null,
           null,
           null,
           null,
           null,
           null,
           null,
           null,
           null,
           null,
           null,
           null,
           null,
           null,
           null,
           null,
           null,
           null,
           null,
           null,
           null,
           null,
           695.5708978324512,
           700.5709988827689,
           706.1507540022159,
           709.8679021649766,
           713.9045763663682,
           718.0648422474203,
           721.9043471330192,
           726.1419228881678,
           730.5236042898805,
           734.4359137489346,
           737.4474003111288,
           740.8366585938936,
           744.5647977549654,
           748.0809714449038,
           750.2873345288413,
           751.9523900727677,
           754.1033673650722,
           756.4561523881337,
           757.7234533966748,
           758.5029182958177,
           759.5809216257531,
           760.2635499918586,
           760.8316617329301,
           761.4697428208167,
           761.4599690303962,
           759.9457207585285,
           757.5600698303949,
           755.0053274858524,
           751.4147585344338,
           746.5001248911875,
           740.8899787767223,
           734.8777593263399,
           727.207569117744,
           719.3452285777335,
           null,
           null,
           null,
           null,
           null,
           null,
           null,
           null,
           null,
           null,
           null,
           null,
           null,
           null,
           null,
           null,
           null,
           null,
           null,
           null,
           null,
           null,
           null,
           null,
           null,
           null
          ],
          [
           null,
           null,
           null,
           null,
           null,
           null,
           null,
           null,
           null,
           null,
           null,
           null,
           null,
           null,
           null,
           null,
           null,
           null,
           null,
           null,
           null,
           null,
           null,
           null,
           null,
           null,
           null,
           null,
           null,
           null,
           null,
           null,
           null,
           null,
           null,
           null,
           null,
           null,
           null,
           null,
           null,
           null,
           null,
           null,
           null,
           null,
           null,
           null,
           null,
           null,
           null,
           null,
           null,
           null,
           null,
           null,
           null,
           null,
           null,
           null,
           null,
           null,
           null,
           null,
           null,
           null,
           null,
           null,
           null,
           null,
           null,
           null,
           null,
           null,
           null,
           null,
           null,
           null,
           null,
           null,
           null,
           null,
           null,
           null,
           null,
           null,
           null,
           null,
           null,
           null,
           null,
           null,
           null,
           null,
           null,
           null,
           null,
           null,
           null,
           null,
           null,
           null,
           null,
           null,
           null,
           null,
           null,
           null,
           null,
           null,
           null,
           null,
           null,
           null,
           null,
           null,
           null,
           null,
           null,
           null,
           null,
           null,
           null,
           null,
           null,
           null,
           null,
           null,
           null,
           null,
           null,
           null,
           null,
           null,
           null,
           null,
           null,
           null,
           null,
           null,
           null,
           null,
           null,
           null,
           null,
           null,
           null,
           null,
           null,
           null,
           null,
           null,
           null,
           null,
           null,
           null,
           null,
           null,
           null,
           null,
           null,
           null,
           null,
           null,
           null,
           null,
           null,
           null,
           null,
           null,
           null,
           null,
           null,
           null,
           null,
           null,
           null,
           null,
           null,
           null,
           null,
           null,
           null,
           null,
           null,
           null,
           null,
           null,
           null,
           null,
           null,
           null
          ]
         ]
        }
       ],
       "layout": {
        "autosize": false,
        "height": 400,
        "margin": {
         "b": 32,
         "pad": 0,
         "r": 30,
         "t": 40
        },
        "template": {
         "data": {
          "bar": [
           {
            "error_x": {
             "color": "#2a3f5f"
            },
            "error_y": {
             "color": "#2a3f5f"
            },
            "marker": {
             "line": {
              "color": "#E5ECF6",
              "width": 0.5
             },
             "pattern": {
              "fillmode": "overlay",
              "size": 10,
              "solidity": 0.2
             }
            },
            "type": "bar"
           }
          ],
          "barpolar": [
           {
            "marker": {
             "line": {
              "color": "#E5ECF6",
              "width": 0.5
             },
             "pattern": {
              "fillmode": "overlay",
              "size": 10,
              "solidity": 0.2
             }
            },
            "type": "barpolar"
           }
          ],
          "carpet": [
           {
            "aaxis": {
             "endlinecolor": "#2a3f5f",
             "gridcolor": "white",
             "linecolor": "white",
             "minorgridcolor": "white",
             "startlinecolor": "#2a3f5f"
            },
            "baxis": {
             "endlinecolor": "#2a3f5f",
             "gridcolor": "white",
             "linecolor": "white",
             "minorgridcolor": "white",
             "startlinecolor": "#2a3f5f"
            },
            "type": "carpet"
           }
          ],
          "choropleth": [
           {
            "colorbar": {
             "outlinewidth": 0,
             "ticks": ""
            },
            "type": "choropleth"
           }
          ],
          "contour": [
           {
            "colorbar": {
             "outlinewidth": 0,
             "ticks": ""
            },
            "colorscale": [
             [
              0,
              "#0d0887"
             ],
             [
              0.1111111111111111,
              "#46039f"
             ],
             [
              0.2222222222222222,
              "#7201a8"
             ],
             [
              0.3333333333333333,
              "#9c179e"
             ],
             [
              0.4444444444444444,
              "#bd3786"
             ],
             [
              0.5555555555555556,
              "#d8576b"
             ],
             [
              0.6666666666666666,
              "#ed7953"
             ],
             [
              0.7777777777777778,
              "#fb9f3a"
             ],
             [
              0.8888888888888888,
              "#fdca26"
             ],
             [
              1,
              "#f0f921"
             ]
            ],
            "type": "contour"
           }
          ],
          "contourcarpet": [
           {
            "colorbar": {
             "outlinewidth": 0,
             "ticks": ""
            },
            "type": "contourcarpet"
           }
          ],
          "heatmap": [
           {
            "colorbar": {
             "outlinewidth": 0,
             "ticks": ""
            },
            "colorscale": [
             [
              0,
              "#0d0887"
             ],
             [
              0.1111111111111111,
              "#46039f"
             ],
             [
              0.2222222222222222,
              "#7201a8"
             ],
             [
              0.3333333333333333,
              "#9c179e"
             ],
             [
              0.4444444444444444,
              "#bd3786"
             ],
             [
              0.5555555555555556,
              "#d8576b"
             ],
             [
              0.6666666666666666,
              "#ed7953"
             ],
             [
              0.7777777777777778,
              "#fb9f3a"
             ],
             [
              0.8888888888888888,
              "#fdca26"
             ],
             [
              1,
              "#f0f921"
             ]
            ],
            "type": "heatmap"
           }
          ],
          "heatmapgl": [
           {
            "colorbar": {
             "outlinewidth": 0,
             "ticks": ""
            },
            "colorscale": [
             [
              0,
              "#0d0887"
             ],
             [
              0.1111111111111111,
              "#46039f"
             ],
             [
              0.2222222222222222,
              "#7201a8"
             ],
             [
              0.3333333333333333,
              "#9c179e"
             ],
             [
              0.4444444444444444,
              "#bd3786"
             ],
             [
              0.5555555555555556,
              "#d8576b"
             ],
             [
              0.6666666666666666,
              "#ed7953"
             ],
             [
              0.7777777777777778,
              "#fb9f3a"
             ],
             [
              0.8888888888888888,
              "#fdca26"
             ],
             [
              1,
              "#f0f921"
             ]
            ],
            "type": "heatmapgl"
           }
          ],
          "histogram": [
           {
            "marker": {
             "pattern": {
              "fillmode": "overlay",
              "size": 10,
              "solidity": 0.2
             }
            },
            "type": "histogram"
           }
          ],
          "histogram2d": [
           {
            "colorbar": {
             "outlinewidth": 0,
             "ticks": ""
            },
            "colorscale": [
             [
              0,
              "#0d0887"
             ],
             [
              0.1111111111111111,
              "#46039f"
             ],
             [
              0.2222222222222222,
              "#7201a8"
             ],
             [
              0.3333333333333333,
              "#9c179e"
             ],
             [
              0.4444444444444444,
              "#bd3786"
             ],
             [
              0.5555555555555556,
              "#d8576b"
             ],
             [
              0.6666666666666666,
              "#ed7953"
             ],
             [
              0.7777777777777778,
              "#fb9f3a"
             ],
             [
              0.8888888888888888,
              "#fdca26"
             ],
             [
              1,
              "#f0f921"
             ]
            ],
            "type": "histogram2d"
           }
          ],
          "histogram2dcontour": [
           {
            "colorbar": {
             "outlinewidth": 0,
             "ticks": ""
            },
            "colorscale": [
             [
              0,
              "#0d0887"
             ],
             [
              0.1111111111111111,
              "#46039f"
             ],
             [
              0.2222222222222222,
              "#7201a8"
             ],
             [
              0.3333333333333333,
              "#9c179e"
             ],
             [
              0.4444444444444444,
              "#bd3786"
             ],
             [
              0.5555555555555556,
              "#d8576b"
             ],
             [
              0.6666666666666666,
              "#ed7953"
             ],
             [
              0.7777777777777778,
              "#fb9f3a"
             ],
             [
              0.8888888888888888,
              "#fdca26"
             ],
             [
              1,
              "#f0f921"
             ]
            ],
            "type": "histogram2dcontour"
           }
          ],
          "mesh3d": [
           {
            "colorbar": {
             "outlinewidth": 0,
             "ticks": ""
            },
            "type": "mesh3d"
           }
          ],
          "parcoords": [
           {
            "line": {
             "colorbar": {
              "outlinewidth": 0,
              "ticks": ""
             }
            },
            "type": "parcoords"
           }
          ],
          "pie": [
           {
            "automargin": true,
            "type": "pie"
           }
          ],
          "scatter": [
           {
            "fillpattern": {
             "fillmode": "overlay",
             "size": 10,
             "solidity": 0.2
            },
            "type": "scatter"
           }
          ],
          "scatter3d": [
           {
            "line": {
             "colorbar": {
              "outlinewidth": 0,
              "ticks": ""
             }
            },
            "marker": {
             "colorbar": {
              "outlinewidth": 0,
              "ticks": ""
             }
            },
            "type": "scatter3d"
           }
          ],
          "scattercarpet": [
           {
            "marker": {
             "colorbar": {
              "outlinewidth": 0,
              "ticks": ""
             }
            },
            "type": "scattercarpet"
           }
          ],
          "scattergeo": [
           {
            "marker": {
             "colorbar": {
              "outlinewidth": 0,
              "ticks": ""
             }
            },
            "type": "scattergeo"
           }
          ],
          "scattergl": [
           {
            "marker": {
             "colorbar": {
              "outlinewidth": 0,
              "ticks": ""
             }
            },
            "type": "scattergl"
           }
          ],
          "scattermapbox": [
           {
            "marker": {
             "colorbar": {
              "outlinewidth": 0,
              "ticks": ""
             }
            },
            "type": "scattermapbox"
           }
          ],
          "scatterpolar": [
           {
            "marker": {
             "colorbar": {
              "outlinewidth": 0,
              "ticks": ""
             }
            },
            "type": "scatterpolar"
           }
          ],
          "scatterpolargl": [
           {
            "marker": {
             "colorbar": {
              "outlinewidth": 0,
              "ticks": ""
             }
            },
            "type": "scatterpolargl"
           }
          ],
          "scatterternary": [
           {
            "marker": {
             "colorbar": {
              "outlinewidth": 0,
              "ticks": ""
             }
            },
            "type": "scatterternary"
           }
          ],
          "surface": [
           {
            "colorbar": {
             "outlinewidth": 0,
             "ticks": ""
            },
            "colorscale": [
             [
              0,
              "#0d0887"
             ],
             [
              0.1111111111111111,
              "#46039f"
             ],
             [
              0.2222222222222222,
              "#7201a8"
             ],
             [
              0.3333333333333333,
              "#9c179e"
             ],
             [
              0.4444444444444444,
              "#bd3786"
             ],
             [
              0.5555555555555556,
              "#d8576b"
             ],
             [
              0.6666666666666666,
              "#ed7953"
             ],
             [
              0.7777777777777778,
              "#fb9f3a"
             ],
             [
              0.8888888888888888,
              "#fdca26"
             ],
             [
              1,
              "#f0f921"
             ]
            ],
            "type": "surface"
           }
          ],
          "table": [
           {
            "cells": {
             "fill": {
              "color": "#EBF0F8"
             },
             "line": {
              "color": "white"
             }
            },
            "header": {
             "fill": {
              "color": "#C8D4E3"
             },
             "line": {
              "color": "white"
             }
            },
            "type": "table"
           }
          ]
         },
         "layout": {
          "annotationdefaults": {
           "arrowcolor": "#2a3f5f",
           "arrowhead": 0,
           "arrowwidth": 1
          },
          "autotypenumbers": "strict",
          "coloraxis": {
           "colorbar": {
            "outlinewidth": 0,
            "ticks": ""
           }
          },
          "colorscale": {
           "diverging": [
            [
             0,
             "#8e0152"
            ],
            [
             0.1,
             "#c51b7d"
            ],
            [
             0.2,
             "#de77ae"
            ],
            [
             0.3,
             "#f1b6da"
            ],
            [
             0.4,
             "#fde0ef"
            ],
            [
             0.5,
             "#f7f7f7"
            ],
            [
             0.6,
             "#e6f5d0"
            ],
            [
             0.7,
             "#b8e186"
            ],
            [
             0.8,
             "#7fbc41"
            ],
            [
             0.9,
             "#4d9221"
            ],
            [
             1,
             "#276419"
            ]
           ],
           "sequential": [
            [
             0,
             "#0d0887"
            ],
            [
             0.1111111111111111,
             "#46039f"
            ],
            [
             0.2222222222222222,
             "#7201a8"
            ],
            [
             0.3333333333333333,
             "#9c179e"
            ],
            [
             0.4444444444444444,
             "#bd3786"
            ],
            [
             0.5555555555555556,
             "#d8576b"
            ],
            [
             0.6666666666666666,
             "#ed7953"
            ],
            [
             0.7777777777777778,
             "#fb9f3a"
            ],
            [
             0.8888888888888888,
             "#fdca26"
            ],
            [
             1,
             "#f0f921"
            ]
           ],
           "sequentialminus": [
            [
             0,
             "#0d0887"
            ],
            [
             0.1111111111111111,
             "#46039f"
            ],
            [
             0.2222222222222222,
             "#7201a8"
            ],
            [
             0.3333333333333333,
             "#9c179e"
            ],
            [
             0.4444444444444444,
             "#bd3786"
            ],
            [
             0.5555555555555556,
             "#d8576b"
            ],
            [
             0.6666666666666666,
             "#ed7953"
            ],
            [
             0.7777777777777778,
             "#fb9f3a"
            ],
            [
             0.8888888888888888,
             "#fdca26"
            ],
            [
             1,
             "#f0f921"
            ]
           ]
          },
          "colorway": [
           "#636efa",
           "#EF553B",
           "#00cc96",
           "#ab63fa",
           "#FFA15A",
           "#19d3f3",
           "#FF6692",
           "#B6E880",
           "#FF97FF",
           "#FECB52"
          ],
          "font": {
           "color": "#2a3f5f"
          },
          "geo": {
           "bgcolor": "white",
           "lakecolor": "white",
           "landcolor": "#E5ECF6",
           "showlakes": true,
           "showland": true,
           "subunitcolor": "white"
          },
          "hoverlabel": {
           "align": "left"
          },
          "hovermode": "closest",
          "mapbox": {
           "style": "light"
          },
          "paper_bgcolor": "white",
          "plot_bgcolor": "#E5ECF6",
          "polar": {
           "angularaxis": {
            "gridcolor": "white",
            "linecolor": "white",
            "ticks": ""
           },
           "bgcolor": "#E5ECF6",
           "radialaxis": {
            "gridcolor": "white",
            "linecolor": "white",
            "ticks": ""
           }
          },
          "scene": {
           "xaxis": {
            "backgroundcolor": "#E5ECF6",
            "gridcolor": "white",
            "gridwidth": 2,
            "linecolor": "white",
            "showbackground": true,
            "ticks": "",
            "zerolinecolor": "white"
           },
           "yaxis": {
            "backgroundcolor": "#E5ECF6",
            "gridcolor": "white",
            "gridwidth": 2,
            "linecolor": "white",
            "showbackground": true,
            "ticks": "",
            "zerolinecolor": "white"
           },
           "zaxis": {
            "backgroundcolor": "#E5ECF6",
            "gridcolor": "white",
            "gridwidth": 2,
            "linecolor": "white",
            "showbackground": true,
            "ticks": "",
            "zerolinecolor": "white"
           }
          },
          "shapedefaults": {
           "line": {
            "color": "#2a3f5f"
           }
          },
          "ternary": {
           "aaxis": {
            "gridcolor": "white",
            "linecolor": "white",
            "ticks": ""
           },
           "baxis": {
            "gridcolor": "white",
            "linecolor": "white",
            "ticks": ""
           },
           "bgcolor": "#E5ECF6",
           "caxis": {
            "gridcolor": "white",
            "linecolor": "white",
            "ticks": ""
           }
          },
          "title": {
           "x": 0.05
          },
          "xaxis": {
           "automargin": true,
           "gridcolor": "white",
           "linecolor": "white",
           "ticks": "",
           "title": {
            "standoff": 15
           },
           "zerolinecolor": "white",
           "zerolinewidth": 2
          },
          "yaxis": {
           "automargin": true,
           "gridcolor": "white",
           "linecolor": "white",
           "ticks": "",
           "title": {
            "standoff": 15
           },
           "zerolinecolor": "white",
           "zerolinewidth": 2
          }
         }
        },
        "title": {
         "text": "$\\operatorname{CTIPeT_{n}}(time[hr],height[km])[K] = \\operatorname{CTIPeT_{n}}(time[hr],lon[deg],lat[deg],height[km])[K] = \\lambda{\\left(time,lon,lat,height \\right)}, lon = 12.0,lat = 30.0$"
        },
        "width": 700,
        "xaxis": {
         "title": {
          "text": "$ time  [hr]$"
         }
        },
        "yaxis": {
         "title": {
          "text": "$ height  [km]$"
         }
        }
       }
      }
     },
     "metadata": {},
     "output_type": "display_data"
    }
   ],
   "source": [
    "# Can slice through any pair of dimensions, as long as the names match the coordinates.\n",
    "# Note that the maximum and minimum heights of the T_n variable change with time.\n",
    "# This is because the variable depends on pressure level, which varies.\n",
    "fig = kamodo_object.plot('CTIPeT_n', plot_partial={'CTIPeT_n': {'lon': 12., 'lat': 30.}})\n",
    "figMods(fig, ncont=200, colorscale='Viridis', enhanceHover=True)"
   ]
  },
  {
   "cell_type": "code",
   "execution_count": null,
   "id": "6844c781",
   "metadata": {},
   "outputs": [
    {
     "name": "stdout",
     "output_type": "stream",
     "text": [
      "Time slice index 71 added from file.\n",
      "Time slice index 72 added from file.\n"
     ]
    },
    {
     "data": {
      "application/vnd.plotly.v1+json": {
       "config": {
        "plotlyServerURL": "https://plot.ly"
       },
       "data": [
        {
         "colorbar": {
          "title": {
           "side": "bottom",
           "text": "GITMT_n[K]"
          }
         },
         "colorscale": [
          [
           0,
           "#440154"
          ],
          [
           0.1111111111111111,
           "#482878"
          ],
          [
           0.2222222222222222,
           "#3e4989"
          ],
          [
           0.3333333333333333,
           "#31688e"
          ],
          [
           0.4444444444444444,
           "#26828e"
          ],
          [
           0.5555555555555556,
           "#1f9e89"
          ],
          [
           0.6666666666666666,
           "#35b779"
          ],
          [
           0.7777777777777778,
           "#6ece58"
          ],
          [
           0.8888888888888888,
           "#b5de2b"
          ],
          [
           1,
           "#fde725"
          ]
         ],
         "contours": {
          "coloring": "fill",
          "showlines": false
         },
         "hovertemplate": "lon [deg]: %{x:.3f} <br>lat [deg]: %{y:.3f} <br>GITMT_n[K]: %{z:.4g} <br><extra></extra>",
         "meta": "2d-grid",
         "ncontours": 200,
         "type": "contour",
         "x": [
          -180,
          -177.5,
          -172.5,
          -167.5,
          -162.5,
          -157.5,
          -152.5,
          -147.5,
          -142.5,
          -137.5,
          -132.5,
          -127.5,
          -122.5,
          -117.5,
          -112.5,
          -107.5,
          -102.5,
          -97.5,
          -92.5,
          -87.5,
          -82.5,
          -77.5,
          -72.5,
          -67.5,
          -62.5,
          -57.5,
          -52.5,
          -47.5,
          -42.5,
          -37.5,
          -32.5,
          -27.5,
          -22.5,
          -17.5,
          -12.5,
          -7.5,
          -2.5,
          2.5,
          7.5,
          12.5,
          17.5,
          22.5,
          27.5,
          32.5,
          37.5,
          42.5,
          47.5,
          52.5,
          57.5,
          62.5,
          67.5,
          72.5,
          77.5,
          82.5,
          87.5,
          92.5,
          97.5,
          102.5,
          107.5,
          112.5,
          117.5,
          122.5,
          127.5,
          132.5,
          137.5,
          142.5,
          147.5,
          152.5,
          157.5,
          162.5,
          167.5,
          172.5,
          177.5,
          180
         ],
         "y": [
          -90,
          -87.5,
          -82.5,
          -77.5,
          -72.5,
          -67.5,
          -62.5,
          -57.5,
          -52.5,
          -47.5,
          -42.5,
          -37.5,
          -32.5,
          -27.5,
          -22.5,
          -17.5,
          -12.5,
          -7.5,
          -2.5,
          2.5,
          7.5,
          12.5,
          17.5,
          22.5,
          27.5,
          32.5,
          37.5,
          42.5,
          47.5,
          52.5,
          57.5,
          62.5,
          67.5,
          72.5,
          77.5,
          82.5,
          87.5,
          90
         ],
         "z": [
          [
           1391.6635463860891,
           1391.9722006574884,
           1392.7846307414893,
           1393.307822760352,
           1393.6967748759998,
           1394.2591844052447,
           1394.7075130350272,
           1395.2197959681375,
           1395.9052921146883,
           1396.5666349644262,
           1397.3100753516565,
           1399.0897101183682,
           1401.0703982211471,
           1402.9730030092164,
           1404.585360471533,
           1405.8859289933655,
           1407.0955443785633,
           1408.3454955740194,
           1409.2133682412584,
           1409.7485547252422,
           1409.9113779103757,
           1409.9130135697922,
           1409.766718076469,
           1409.2190468286844,
           1408.0347474827042,
           1406.486801589173,
           1404.6274454974064,
           1402.545311226362,
           1400.2917015666471,
           1398.0393010786252,
           1395.9011905169214,
           1393.9811724230995,
           1392.456455486585,
           1391.6133767273063,
           1391.4134240098765,
           1391.5430816245362,
           1391.665245520469,
           1392.327840562903,
           1393.1916777534775,
           1393.7461261878123,
           1394.134617222251,
           1394.6539145066292,
           1395.0557740729835,
           1395.5402098550187,
           1396.2050127553523,
           1396.851299075631,
           1397.5694393313129,
           1399.3233974593766,
           1401.3040628522333,
           1403.2102314391998,
           1404.8221233463266,
           1406.118460021141,
           1407.3023989125213,
           1408.5207693385028,
           1409.3970483038895,
           1409.986548338499,
           1410.0615326883108,
           1410.0933645457712,
           1409.9396293543807,
           1409.3422852566803,
           1408.068423478125,
           1406.416318776165,
           1404.48682879385,
           1402.3524393547475,
           1400.0546938455118,
           1397.7709495278325,
           1395.6020926803449,
           1393.653916300692,
           1392.122020880924,
           1391.2745302780502,
           1391.0824223401041,
           1391.2407675620398,
           1391.3548785276325,
           1391.6635463860891
          ],
          [
           1393.6094313976607,
           1393.6792549285371,
           1394.1915371510893,
           1393.879246395941,
           1392.763475539989,
           1391.1391689042755,
           1389.6870812246054,
           1388.5332607519872,
           1387.71490937426,
           1386.5975013983705,
           1385.1032439087592,
           1384.7883620204157,
           1385.3095676067196,
           1386.3526425699242,
           1387.2935219235032,
           1387.5990193512412,
           1387.2172999329698,
           1387.0720124024715,
           1386.8815167823136,
           1386.7234758382747,
           1386.6694474859185,
           1386.3553577678008,
           1386.102248263653,
           1385.837041404462,
           1385.55159177205,
           1385.5533227444587,
           1385.5158620918437,
           1385.4522477338262,
           1385.3368898124534,
           1385.1153226748058,
           1384.7416891844,
           1384.412514698964,
           1384.34648910241,
           1384.8705250982844,
           1385.9544617340205,
           1387.5889334415624,
           1388.7256295560028,
           1389.855255860922,
           1391.0115048499088,
           1392.379849544408,
           1394.2354793975621,
           1396.8942648490631,
           1399.1743822200435,
           1401.3584721453558,
           1403.5851902081938,
           1406.077827517623,
           1409.09151141897,
           1412.9640454484224,
           1416.4191587321163,
           1419.2087569367666,
           1421.5298836779446,
           1423.8715971246982,
           1426.686403680179,
           1429.3082489654055,
           1431.2334166189075,
           1432.6008794401414,
           1432.859274819426,
           1433.177696284075,
           1433.115415779236,
           1432.1895619251977,
           1429.9531244681828,
           1426.6930581911272,
           1422.9191547052205,
           1418.7550693247968,
           1414.3148940550793,
           1410.0040158067181,
           1406.072212003359,
           1402.5378726984052,
           1399.5495426413038,
           1397.3070628837775,
           1395.804058180052,
           1394.4506066636675,
           1393.5396214993193,
           1393.6094313976607
          ],
          [
           1364.9583584988673,
           1368.7366580530331,
           1374.1443571576392,
           1377.4233616528024,
           1377.9013398930726,
           1374.7316484405412,
           1370.5647412093256,
           1366.4123506072167,
           1361.449419764945,
           1356.654934890485,
           1351.269793208723,
           1346.8252718704603,
           1342.3386290228018,
           1339.0559585785052,
           1335.9078052155166,
           1333.6182168976657,
           1331.4345927655133,
           1329.2426938976093,
           1327.8333090955489,
           1327.0737487123215,
           1326.6782937858372,
           1326.3475370930971,
           1326.9899729280753,
           1328.246384672462,
           1329.9553903994129,
           1332.0810011843735,
           1334.400880252033,
           1336.8995733574757,
           1339.4606066888618,
           1342.3602524682835,
           1345.12059893521,
           1348.1185609604515,
           1351.467515204634,
           1355.2509137102609,
           1359.4189973885905,
           1363.101103720868,
           1366.5353809315382,
           1370.2479243822493,
           1373.4998354528661,
           1377.3807096597618,
           1381.0353022827098,
           1385.9632356802522,
           1390.717813780922,
           1397.6019081246302,
           1403.7749228061894,
           1411.664783867785,
           1418.285170809785,
           1425.603898360259,
           1430.8172118190575,
           1435.2702716402982,
           1437.0868424531934,
           1435.9856117913798,
           1432.3790511093762,
           1427.8004040859353,
           1420.6971967236618,
           1412.579856916064,
           1399.8047047710047,
           1391.3610522746212,
           1386.7112472327988,
           1384.4300867801128,
           1380.617483846608,
           1375.2812876667988,
           1368.9198871541819,
           1361.9800327980115,
           1356.0126394157448,
           1351.331326647725,
           1347.8928833458385,
           1345.7040867463588,
           1345.5280490197395,
           1347.1535361693552,
           1351.3669142380927,
           1352.303642243019,
           1361.1801802460516,
           1364.9583584988673
          ],
          [
           1332.8896010096216,
           1338.600213980581,
           1346.088628113942,
           1351.214428835473,
           1352.6568784538786,
           1349.633332298247,
           1343.4700253138137,
           1335.2091972685812,
           1326.9149947622923,
           1319.7416392188966,
           1311.445451988381,
           1303.3805260082577,
           1295.8846914934409,
           1288.5615581782488,
           1282.152888747482,
           1277.5811442193926,
           1274.1109568423942,
           1271.77962705733,
           1270.5130419826337,
           1270.2742844185702,
           1271.3666084265594,
           1273.4429668275084,
           1276.2963588068878,
           1279.6694857493294,
           1283.4653657451747,
           1287.6852864442642,
           1292.1201249222543,
           1296.8937744126586,
           1301.9311611112098,
           1307.3260620081662,
           1313.0498942589475,
           1318.8693744739178,
           1324.7463968302563,
           1330.6236421776887,
           1336.3615353156306,
           1341.9713866895504,
           1347.048618869062,
           1351.8750025878712,
           1356.1778927753414,
           1360.501372485723,
           1364.557691698548,
           1368.8950079946944,
           1373.6665342363835,
           1378.259728222268,
           1384.8461007120377,
           1393.2247675591418,
           1402.3150177155053,
           1409.1829664093016,
           1418.6048609203863,
           1426.6866103481268,
           1431.1327182867885,
           1429.9962604798704,
           1422.5653691965667,
           1405.5960086937616,
           1394.3636560072239,
           1384.9934661440193,
           1374.4705177823428,
           1363.8543601394938,
           1355.0607395969823,
           1348.1473838570898,
           1341.2110033884387,
           1331.6861363841222,
           1319.3099916115832,
           1306.256683364129,
           1298.1236664173512,
           1296.6195750898037,
           1299.3493556862286,
           1303.6801240973002,
           1307.5802920566668,
           1310.572522956678,
           1314.2885819781727,
           1319.901287375575,
           1327.179001987462,
           1332.8896010096216
          ],
          [
           1307.1074033995608,
           1311.6032949281512,
           1318.254339992056,
           1320.953806762415,
           1320.5831831676855,
           1315.5307567900668,
           1305.6616742023548,
           1293.052122780124,
           1280.1219509019395,
           1267.5349058483985,
           1256.0170663115737,
           1245.5916672634953,
           1236.8308717231166,
           1229.6666662491916,
           1224.4469673358703,
           1221.0424052167427,
           1218.5366803689756,
           1217.6344675999594,
           1218.183254036654,
           1220.1599708266613,
           1223.3078607274515,
           1227.6740409275733,
           1232.7026468983404,
           1238.1653803990257,
           1244.0788925489103,
           1250.4105495575852,
           1257.019972335912,
           1264.0154035018459,
           1271.3292732280318,
           1278.9529803249523,
           1286.8398410294867,
           1294.876075110859,
           1302.9449430024194,
           1310.9897420882992,
           1319.00608279753,
           1326.5575120283427,
           1333.978202886969,
           1340.4583762603886,
           1346.3831737737444,
           1351.7088312850751,
           1356.142003451619,
           1359.9174439615513,
           1363.1501162926004,
           1366.1451234057774,
           1369.274856102388,
           1373.385746592625,
           1378.846886332972,
           1386.4277301090492,
           1396.750965710097,
           1407.7510552929846,
           1417.628572183796,
           1421.964908273785,
           1416.9255965953766,
           1402.0533579161392,
           1376.6688008706162,
           1358.2418977004509,
           1344.0457931063656,
           1332.1391970350492,
           1322.254110113079,
           1313.778658543194,
           1304.3515733153536,
           1292.0499064785706,
           1277.0803331328664,
           1263.03212820354,
           1254.9033819131541,
           1254.0163599306773,
           1258.359672940117,
           1263.6274937856206,
           1269.7187087673135,
           1276.3816830462763,
           1283.490221703856,
           1291.3027835846472,
           1302.6114042021552,
           1307.1074033995608
          ],
          [
           1276.018715746884,
           1280.7536833381291,
           1287.590142858207,
           1289.5643581174475,
           1286.213730269317,
           1277.1741741132535,
           1261.0441988230864,
           1242.7682434256121,
           1225.1926332955672,
           1209.5455818165867,
           1197.1545159963578,
           1187.52401439239,
           1180.035119495854,
           1174.3601755779905,
           1170.6663527910368,
           1168.6003359571057,
           1168.1823092740954,
           1169.3399428508837,
           1172.2255353743612,
           1176.6669731299648,
           1182.4463821982965,
           1188.950371872917,
           1196.3126398586637,
           1204.1689194701698,
           1212.3623741855404,
           1220.9460148385128,
           1229.6304960895259,
           1238.3564245062562,
           1247.1616591408156,
           1256.1875112737016,
           1265.4217502610934,
           1274.8161342955473,
           1284.3704248795018,
           1293.9134105866308,
           1303.327285902331,
           1312.4477464203603,
           1321.1546654209592,
           1329.3064493270529,
           1336.7706995170167,
           1343.3622222986237,
           1348.9573355777286,
           1353.5160764400903,
           1357.3841571430955,
           1360.0879115267335,
           1362.0087523426907,
           1363.541497552343,
           1365.129926159554,
           1367.2691141685648,
           1370.108998215544,
           1374.6165946575504,
           1380.9901314169701,
           1385.7243228457867,
           1387.252624350536,
           1379.5471119496804,
           1364.4005646838139,
           1338.3190207963842,
           1318.4981648065789,
           1301.674147942212,
           1287.276601150337,
           1274.1214721961735,
           1260.61032095846,
           1246.3211953426908,
           1234.0155954729237,
           1224.170879453314,
           1220.5872603490839,
           1221.5924502204646,
           1225.4711912560974,
           1230.6296353639862,
           1236.1507309875508,
           1242.2973124423668,
           1251.7225546389689,
           1260.3400831161466,
           1271.2837477938963,
           1276.018715746884
          ],
          [
           1242.6629437887486,
           1246.9197186952176,
           1252.2515691963488,
           1251.3795729300427,
           1243.3620306935595,
           1227.9961197060206,
           1206.1134671549232,
           1183.8042625080077,
           1164.783634913229,
           1149.6337539586157,
           1138.2868298419194,
           1129.9676572561202,
           1123.9556657756957,
           1120.3892890026516,
           1118.7692386447611,
           1118.8224803244384,
           1120.7127118032408,
           1124.3872312872372,
           1129.7095975352283,
           1136.588449256434,
           1144.7834518123655,
           1153.9843651719018,
           1163.956372234379,
           1174.3466623306992,
           1185.0104158896556,
           1195.844837410137,
           1206.5141256780469,
           1216.9725550102028,
           1227.3508873168128,
           1237.6746220985422,
           1247.9112402337205,
           1258.1156502625972,
           1268.3236999564247,
           1278.5423255520197,
           1288.7129784596532,
           1298.7743188772693,
           1308.5973635038026,
           1318.0583552355088,
           1326.9778427643578,
           1335.0929537494449,
           1342.20857359158,
           1348.2008252229064,
           1352.8644494169987,
           1356.0988237223448,
           1357.9580271681164,
           1358.5745892823923,
           1358.1103756696937,
           1356.7329499946825,
           1354.5876353072708,
           1351.2136621744555,
           1347.7099246869586,
           1344.8824108972121,
           1341.700514393851,
           1338.4909837902774,
           1328.1545811879105,
           1315.0721886291306,
           1301.7639060921013,
           1286.9241876671397,
           1270.718947818232,
           1246.9621241837785,
           1232.559537559389,
           1218.7277923310342,
           1206.4639788728466,
           1198.0977745640062,
           1196.3206954579734,
           1200.4054799767557,
           1203.8049042160985,
           1207.3708395640892,
           1211.4726445575686,
           1216.407500395533,
           1222.548605830807,
           1229.9102873513825,
           1238.4060747550438,
           1242.6629437887486
          ],
          [
           1214.7795745760473,
           1218.2517968162504,
           1221.6489980821618,
           1217.4489929041838,
           1202.5872212850875,
           1178.0380582066414,
           1149.9908713496238,
           1124.2906573883233,
           1103.6838053411996,
           1088.5977645649566,
           1078.1269909153727,
           1071.1867204024607,
           1067.3608064944578,
           1066.186179979108,
           1067.6237214579185,
           1071.0333035562621,
           1076.1288975251393,
           1082.8300929251805,
           1091.1882789937242,
           1101.099662977512,
           1112.3666565813733,
           1124.4157881989065,
           1137.0480546718336,
           1149.8277640114234,
           1162.4174117266405,
           1174.8120139438809,
           1187.0603918743825,
           1199.2159803365284,
           1210.8866085442423,
           1221.8643272423838,
           1232.4875871096458,
           1242.9018022187665,
           1253.1905340504911,
           1263.4517807365028,
           1273.7142310977542,
           1284.028299870506,
           1294.3880120536965,
           1304.6960763637705,
           1314.7276538027093,
           1324.1905104486,
           1332.7713024566042,
           1340.2244136461543,
           1346.176191282891,
           1350.4684944692713,
           1353.0237153611536,
           1353.2054880190349,
           1351.2060625578656,
           1347.7535230526619,
           1342.6884551210867,
           1336.0390731008881,
           1328.26485160758,
           1319.3121414897666,
           1309.6879638752596,
           1300.4242136269097,
           1288.71878032698,
           1280.2465372362817,
           1269.171509243802,
           1258.5403936072767,
           1245.5722208978277,
           1232.0620131313583,
           1218.9005485121475,
           1206.4443683754812,
           1196.2731618176879,
           1189.800229181742,
           1185.8717225547284,
           1185.077928248376,
           1184.833566259053,
           1185.674724652174,
           1187.190678382925,
           1190.2452428005363,
           1195.6419889342187,
           1203.1395707609277,
           1211.3073658774238,
           1214.7795745760473
          ],
          [
           1196.0662147274695,
           1198.184653994429,
           1194.5697228869087,
           1181.4985418293402,
           1157.866724050005,
           1126.6679413597092,
           1094.5038182507074,
           1065.8872373971117,
           1043.0695343313082,
           1026.8946103152093,
           1016.7822417919253,
           1011.7586927054632,
           1011.2790538239339,
           1014.4833495036684,
           1019.8208750667137,
           1027.2080855266195,
           1036.1930201911046,
           1046.7237976123215,
           1058.9123566844253,
           1072.045635437707,
           1086.1598576478661,
           1100.9518940792398,
           1115.795885987179,
           1130.5121545835634,
           1144.9050813353228,
           1158.9882949149303,
           1172.5551227628757,
           1185.3832667130694,
           1197.3336200904794,
           1208.7747993574924,
           1219.6756965891886,
           1230.0175346700457,
           1240.0671313770326,
           1250.033847675141,
           1260.041733981868,
           1270.1892380501458,
           1280.555573895415,
           1291.107540464782,
           1301.6122966300045,
           1311.7538939030082,
           1321.2264126155167,
           1329.6732715168084,
           1336.6637232339688,
           1341.9902489528163,
           1345.2453958031824,
           1345.8910982801028,
           1343.7677320365049,
           1338.877992598864,
           1331.4792900811035,
           1321.9927460656643,
           1310.7473943924933,
           1297.6157310983285,
           1283.3486263013501,
           1268.9399874230578,
           1256.4904233938244,
           1246.332137045219,
           1233.2369116356426,
           1220.5189017982357,
           1210.7312791138095,
           1201.3323930923661,
           1190.1267315447228,
           1179.1285166597615,
           1169.92550688681,
           1163.6332533910725,
           1160.2581266941395,
           1159.3164575778057,
           1160.0486894761782,
           1161.4807371958848,
           1163.373249618191,
           1168.150660776494,
           1175.6854076101713,
           1185.2544135068279,
           1193.9477758677301,
           1196.0662147274695
          ],
          [
           1167.7267831303166,
           1166.5068229059016,
           1155.7507017593941,
           1134.3686692203978,
           1104.1874099203249,
           1070.6989603673908,
           1038.367367438319,
           1010.1608987305788,
           987.540190829284,
           971.116463032946,
           961.0502699327043,
           956.8537461930225,
           958.937189481636,
           965.7096959660355,
           975.6460321108082,
           987.7958693645751,
           1001.7260109644235,
           1017.1468653320973,
           1033.7214940819579,
           1051.0218627930237,
           1068.6563313582847,
           1085.207900163155,
           1101.4985678832454,
           1117.252243424252,
           1132.623396657453,
           1147.4569794097781,
           1161.2892761819387,
           1174.3418678315695,
           1186.5270515355564,
           1197.9367876140818,
           1208.8097289159225,
           1219.2211913015162,
           1229.086616751253,
           1238.7206947851191,
           1248.378522072272,
           1258.1813887605454,
           1268.245310161255,
           1278.576499300756,
           1288.960109223556,
           1299.1536694693966,
           1308.8712213598126,
           1317.785785115525,
           1325.4681114205614,
           1331.54439071925,
           1335.4854558273214,
           1336.6611438463265,
           1334.5672800957518,
           1329.2268620967768,
           1320.7355748872837,
           1308.9004960864884,
           1294.2281838020897,
           1277.6832789562466,
           1259.8786273488154,
           1241.8736593366068,
           1225.471257850953,
           1211.6888570121807,
           1201.1151315230336,
           1190.127745268007,
           1181.2761180263794,
           1171.3873633865944,
           1159.4809221181854,
           1147.2182108680947,
           1136.1110521622757,
           1128.5720712860245,
           1125.0916268053334,
           1128.0124849018043,
           1131.3582009933657,
           1136.2823820970025,
           1142.0296759274108,
           1149.6400273860445,
           1157.8816580019648,
           1165.3298980218578,
           1168.946743354731,
           1167.7267831303166
          ],
          [
           1125.4238791213036,
           1120.8048915957563,
           1103.1865899662885,
           1077.6272407932818,
           1047.0666970002308,
           1015.2795615049826,
           985.768619264273,
           960.302562986429,
           939.6107915482914,
           923.7138706050157,
           914.216021360731,
           910.599377551967,
           913.7352060752022,
           923.6693464806435,
           937.6217480969326,
           954.0237430361007,
           972.6632025635429,
           993.13104232378,
           1014.3883264346975,
           1035.6328912337833,
           1056.1582596045441,
           1075.6589459414342,
           1092.9766098205398,
           1108.7478306871214,
           1123.822065143402,
           1138.3689114290278,
           1152.0943632122135,
           1164.855544050946,
           1176.9128141132367,
           1188.4627365188628,
           1199.2656013082371,
           1209.6213174212128,
           1219.7449601339767,
           1229.3184277765233,
           1238.5735907995509,
           1248.0350203542948,
           1257.7441263806738,
           1267.6494067353876,
           1277.6103721483441,
           1287.5206555609125,
           1297.1189299826342,
           1306.1166994080857,
           1314.1177583413025,
           1320.553076652309,
           1324.9669236959253,
           1326.6645118909817,
           1324.8401135556687,
           1319.058750746246,
           1309.2307088549298,
           1295.402320832889,
           1278.253924530572,
           1258.4768665221475,
           1237.4649150146847,
           1217.10354310169,
           1198.4616471219801,
           1182.4508650662956,
           1169.8227333255304,
           1160.207164409051,
           1149.8130617121449,
           1141.3351198676698,
           1131.761508837628,
           1119.688085326279,
           1107.9319495141744,
           1100.5563776487154,
           1097.3902503448855,
           1097.7373103817215,
           1100.6805355754955,
           1106.958672541167,
           1115.181002626624,
           1123.2403296083842,
           1129.0889578681977,
           1132.8818935463362,
           1130.0429747228866,
           1125.4238791213036
          ],
          [
           1076.8192406843648,
           1069.4690036795732,
           1048.3809995149636,
           1022.5200946035854,
           994.7468321408779,
           967.322062684551,
           941.7311615455541,
           919.151469793263,
           900.2797367990355,
           885.8636663285803,
           876.7475197648558,
           874.009323673818,
           878.3861605323153,
           890.1515958881974,
           907.0322268639922,
           926.9218713197175,
           948.8396529817961,
           972.5630279331174,
           997.4307684896584,
           1022.1039282884019,
           1045.370720451911,
           1066.6028550456333,
           1085.6038278371327,
           1101.4706479474976,
           1115.8814077091452,
           1129.7638355829972,
           1143.726608105426,
           1156.4119645066794,
           1168.1404560233193,
           1179.4527671727906,
           1190.3688917599738,
           1200.9473034777513,
           1210.9032913479816,
           1220.549225059438,
           1229.9364353991643,
           1239.2609184094838,
           1248.6657963849086,
           1258.142023022514,
           1267.6965534544595,
           1277.3263700914713,
           1286.8383256599345,
           1295.8472833788887,
           1303.9473268753516,
           1310.4706698136358,
           1315.1799989096578,
           1317.313919118693,
           1315.6605713938116,
           1309.6429785752227,
           1299.0651872643455,
           1283.6866373953783,
           1264.0082358616944,
           1241.5466324754684,
           1218.3677760781372,
           1195.7898751052608,
           1174.8081379916707,
           1156.5914068655206,
           1142.3896047736987,
           1132.8347221071767,
           1123.2203010220587,
           1113.8362312003035,
           1103.1757540038784,
           1091.7830090525058,
           1083.0134154040943,
           1077.960749501105,
           1075.6071181749,
           1074.7869259735007,
           1075.8490213077448,
           1080.00355762804,
           1085.639874317564,
           1090.6864622714986,
           1093.1220183094913,
           1092.3179433246978,
           1084.1694641475765,
           1076.8192406843648
          ],
          [
           1032.4912422152465,
           1023.665581746441,
           1002.2663294723334,
           978.5632271948119,
           954.1955934427483,
           930.392321152026,
           907.9657666572298,
           887.642837902566,
           870.2762559575849,
           857.2340068124871,
           848.7872742543349,
           847.0409068137847,
           852.587909324395,
           865.601133085932,
           884.4253303059254,
           906.7081016731154,
           929.8104705148342,
           954.3641242820656,
           981.055185146227,
           1008.3813046560008,
           1034.3742501056072,
           1057.8285692982818,
           1078.169454728849,
           1095.4018300377297,
           1110.175621865986,
           1123.0376674046174,
           1133.9397862868843,
           1146.4393883312878,
           1159.457366584529,
           1171.078964482814,
           1182.0887692532183,
           1192.665658511381,
           1202.764019218043,
           1212.4005364299758,
           1221.770200065606,
           1231.0335360331765,
           1240.2558447465537,
           1249.5704810724453,
           1259.0498368678857,
           1268.6868980377565,
           1278.2656638463618,
           1287.3370297380736,
           1295.5344934692266,
           1302.251681463175,
           1307.1540456396663,
           1309.628750174588,
           1308.4393197799163,
           1302.5949652874865,
           1291.6753605241154,
           1275.4675012882672,
           1254.347372123859,
           1230.0887310684132,
           1204.9067726727749,
           1180.2792312502104,
           1157.2435802689522,
           1136.851645861179,
           1119.8937169007174,
           1107.3106922401698,
           1096.7270237749551,
           1086.341335053245,
           1076.1382983060612,
           1068.9417251845223,
           1064.1255123266235,
           1060.912564903846,
           1059.3334552251256,
           1058.9309295312962,
           1059.614884426543,
           1061.304500379551,
           1063.0283015163639,
           1063.4289781930638,
           1060.4882379187484,
           1053.9710545402288,
           1041.3169094548418,
           1032.4912422152465
          ],
          [
           1000.6097027654666,
           991.0202234493818,
           969.8783305446537,
           947.6569254056216,
           925.2603594385239,
           903.5031389707635,
           882.9625023937253,
           864.3663744624639,
           848.5043682535575,
           836.8738127949424,
           829.5939006163532,
           829.1080337042949,
           835.9086710219717,
           850.0825135911598,
           868.9204661746005,
           891.0867427642135,
           915.0635309182619,
           940.2079652417817,
           966.9596365132779,
           994.5229527217956,
           1021.1829567242313,
           1045.880824843179,
           1067.4235494367822,
           1085.7732960599683,
           1101.1689312337487,
           1114.3860470999423,
           1127.4154710560922,
           1140.2028241431367,
           1149.822213912769,
           1161.6371420451692,
           1173.518698857166,
           1184.8477602931214,
           1195.192033672975,
           1204.8064835507819,
           1214.1067665268283,
           1223.3584916275586,
           1232.4934701374277,
           1241.83107838775,
           1251.4788522783615,
           1261.2837583606167,
           1271.1313946968758,
           1280.5584532822152,
           1289.1238038696138,
           1296.2761340155464,
           1301.6076250671995,
           1304.5618660064351,
           1304.180566016021,
           1299.0525759118627,
           1288.4069536735944,
           1272.2225719632065,
           1250.8134079790862,
           1225.6020128026748,
           1198.9144156334225,
           1172.5316427727857,
           1147.5207770220318,
           1124.3434425683156,
           1103.5888762815507,
           1086.1949266748761,
           1071.8331693509203,
           1058.7537151862373,
           1050.349640540733,
           1049.0050635605887,
           1050.2348058506925,
           1050.854246257798,
           1051.0956762735116,
           1051.6074914391554,
           1052.4859256007128,
           1052.460223101578,
           1050.5350091705645,
           1045.916984622329,
           1037.461781979536,
           1026.084974165264,
           1010.199175468894,
           1000.6097027654666
          ],
          [
           978.6936812959063,
           968.1810353749835,
           946.5240640399072,
           924.9904800786077,
           903.8182303979933,
           883.4828171685081,
           864.4384177089232,
           847.4541411193046,
           833.4981740071992,
           823.7502246693277,
           818.0034985077045,
           818.7012316221361,
           826.5542406443399,
           841.4826240169178,
           860.4587587458362,
           881.8520448212436,
           905.3017490584282,
           930.11512133702,
           956.1093316161622,
           982.5812565031235,
           1008.3768871380698,
           1032.8957598878221,
           1054.6825555082662,
           1073.6324842101285,
           1089.7292997505372,
           1103.6207591514008,
           1116.5836185482717,
           1127.8710763932,
           1139.7877522034432,
           1152.8495608271428,
           1164.1975927817637,
           1176.2057644238525,
           1187.5838329955775,
           1197.6831682462616,
           1207.1235061123027,
           1216.3923236483759,
           1225.6844069560389,
           1235.1788776659512,
           1245.0227312866316,
           1255.096506461681,
           1265.3744683975474,
           1275.514994988055,
           1284.9093077581288,
           1292.9261382953912,
           1299.1121524467276,
           1302.8242013948184,
           1303.54816891068,
           1299.7476621553997,
           1290.0935635883975,
           1274.63163249521,
           1253.6572137959454,
           1228.2880953122246,
           1200.8632103868724,
           1173.2817268599993,
           1146.1876449155275,
           1119.376765938831,
           1093.5369975805165,
           1070.0110015472335,
           1050.177773801518,
           1033.9805542198603,
           1028.082279768394,
           1032.91043500393,
           1040.6998749417983,
           1045.118559528623,
           1047.1908675313423,
           1049.0384916123708,
           1050.0904720709716,
           1049.0883012872982,
           1044.692050365268,
           1036.196277771752,
           1023.519969954123,
           1008.0756736613813,
           989.2063202196908,
           978.6936812959063
          ],
          [
           966.5625890989123,
           956.0473992971965,
           934.0625387502896,
           911.8329216703036,
           890.3571920177662,
           870.2936599750424,
           852.1960408664727,
           836.6079252323436,
           824.3052787191871,
           816.0898590784096,
           811.6597636264046,
           813.1201015030198,
           821.5995733913975,
           836.7368977053524,
           855.407731965323,
           875.8991283716115,
           898.5972118166102,
           923.0055856475972,
           948.0701735072953,
           973.1305918832813,
           998.1551154457013,
           1021.5625903986582,
           1042.47657876278,
           1060.4686493202562,
           1075.7517173965225,
           1089.333472777985,
           1101.8136855386936,
           1114.1296864702597,
           1126.9947455282727,
           1139.4184813306715,
           1151.6868797167526,
           1165.110948466133,
           1177.6228359688278,
           1189.4389013469274,
           1199.9867064678251,
           1210.177640398267,
           1220.1089453917514,
           1230.166091382031,
           1240.3799459990028,
           1250.8937412993587,
           1261.8352737258213,
           1272.8500308197156,
           1283.504679466647,
           1293.0538818310788,
           1300.7051009971008,
           1305.4299458209293,
           1307.1769671619968,
           1304.8711737779256,
           1296.7439966161555,
           1282.5670816883821,
           1262.6970006548593,
           1237.7333849553686,
           1209.5553649317585,
           1180.4058098357048,
           1151.1122138650712,
           1121.0256785405372,
           1089.7231746198354,
           1057.722890131794,
           1029.4418882288467,
           1009.8331129479332,
           1008.4143511520051,
           1021.9978931141085,
           1036.423079088565,
           1042.8028684230164,
           1044.3221515495738,
           1045.9914874523279,
           1046.8496253000053,
           1044.7079438619583,
           1038.678986919102,
           1027.9099147995387,
           1013.1523082197247,
           996.3113349935632,
           977.0777790587608,
           966.5625890989123
          ],
          [
           955.1223264426216,
           944.416209969367,
           922.4169437139373,
           900.6814727273828,
           880.1010963147911,
           861.2087201122906,
           844.5658805756997,
           830.564710100457,
           819.464929047064,
           811.8267776518569,
           807.8755433034495,
           809.419716440438,
           817.6416120247477,
           832.3010708768575,
           850.6171180504851,
           870.8826757572185,
           892.7491951491769,
           916.8332547257976,
           941.3871223190499,
           965.5374443116335,
           990.053561704596,
           1011.4921984448584,
           1031.0617789539644,
           1047.7244003785977,
           1061.6879812212203,
           1073.788478586882,
           1085.0655782548156,
           1096.7624768179944,
           1109.922077930542,
           1123.7811509267076,
           1138.3670877143618,
           1152.9389110200655,
           1166.555484674469,
           1179.6938503093404,
           1191.841691300589,
           1204.2311735283288,
           1215.8127489551139,
           1226.9981753177042,
           1238.052322649548,
           1249.3912639761643,
           1261.3075230980426,
           1273.660288891428,
           1285.996774270102,
           1297.0284587269168,
           1305.4539463671108,
           1310.9937574319197,
           1313.5671494460332,
           1312.3587813665104,
           1305.3942704491164,
           1292.1271684951446,
           1272.8825486774285,
           1247.793866970282,
           1218.39097567499,
           1186.4509432039674,
           1152.9379119468854,
           1117.0278351491588,
           1077.3418855187817,
           1036.2541988469588,
           1003.1607600891347,
           983.5424844573124,
           989.0321855842274,
           1013.8048445741514,
           1033.9456368222461,
           1040.611306956345,
           1041.0415585305423,
           1041.1202786129,
           1040.8760051268223,
           1037.8859320586068,
           1030.8149630012574,
           1019.4840568154091,
           1004.3730613802691,
           986.0445262577718,
           965.8284969766326,
           955.1223264426216
          ],
          [
           946.9895497750545,
           936.6649306342875,
           915.5878774687644,
           894.8709825025406,
           875.1807391544264,
           857.1117172056727,
           841.121132766303,
           827.5861269265894,
           816.7703143515639,
           809.1484366897203,
           804.5616288372269,
           805.2718803051104,
           812.4384046289985,
           826.3868769922483,
           844.9192418280526,
           865.8327010363685,
           887.6878197249747,
           911.0470432833514,
           934.9788078421055,
           957.8223386848205,
           981.6880856068592,
           1001.6197906610952,
           1019.899179141367,
           1035.5722670878677,
           1048.4959321393094,
           1059.20413277321,
           1068.9125693041672,
           1079.2895116018483,
           1091.2177264874053,
           1105.5488672924578,
           1121.3786085076222,
           1137.708072302161,
           1153.5381804049205,
           1168.687726979675,
           1183.2856865604217,
           1197.852331686056,
           1211.4342010087457,
           1224.4017627162193,
           1236.9520902733348,
           1249.6298319883065,
           1262.5653039479805,
           1275.8251143278885,
           1288.6542558370284,
           1299.359537580537,
           1307.1319579542258,
           1312.2305473964,
           1314.5290127569253,
           1313.1722124604512,
           1306.1708388846896,
           1292.7735021818391,
           1273.0572354660098,
           1246.7954961224905,
           1215.112461806356,
           1179.4453818728293,
           1140.2658907510079,
           1097.0447551618229,
           1049.9431312500328,
           1003.759921531335,
           971.8591334926264,
           956.7329609251865,
           969.2174662409328,
           1003.8207009436704,
           1028.8935680256502,
           1035.772706568173,
           1035.1487269058266,
           1033.52195019286,
           1031.445357959664,
           1027.4205791018583,
           1020.1423795296898,
           1009.2271613233361,
           994.5392379448168,
           976.885038975858,
           957.3141687576887,
           946.9895497750545
          ],
          [
           941.3135187159579,
           931.4181264149634,
           911.4479963131542,
           891.9896417047216,
           873.4073402283565,
           856.1732815377494,
           840.5256333953763,
           826.7293245564748,
           815.1841179691805,
           806.5659572802754,
           800.6562966816605,
           799.9349417516934,
           805.3655819410061,
           818.4901126457277,
           838.2054855884502,
           860.965036559403,
           883.9275393645213,
           906.3562058512241,
           928.5345487552494,
           949.3042810103962,
           971.2243528750643,
           990.0707735005561,
           1007.6994145550175,
           1023.2328662958289,
           1036.4600469114462,
           1047.314136206423,
           1056.3830673459436,
           1064.9631481422016,
           1075.1944018185761,
           1088.2273641358777,
           1103.4824453369247,
           1119.9444734656668,
           1136.8208697754496,
           1153.538319387646,
           1169.8562598594426,
           1185.972166977419,
           1202.0749353152812,
           1217.7504160318472,
           1232.7362084776325,
           1247.0845783890086,
           1260.8516115435148,
           1273.6501396312628,
           1284.4471115023957,
           1292.6350131769223,
           1298.7549585706738,
           1302.8190857579334,
           1304.4464483939312,
           1302.3287248564043,
           1294.6202113411373,
           1280.6014653693462,
           1259.971249591166,
           1232.235405202033,
           1198.0367820744882,
           1158.5080990103047,
           1114.056487429422,
           1065.258586257518,
           1015.1685656021837,
           971.1198010819163,
           943.8816401219165,
           934.7937378419971,
           951.2593108299031,
           991.4197634108795,
           1020.2395730736654,
           1028.23892564284,
           1027.0903925507298,
           1024.736846837005,
           1021.5114308540943,
           1016.6176756553197,
           1009.211147958348,
           999.1561961694259,
           985.9470037932894,
           969.7376372305858,
           951.2088571825445,
           941.3135187159579
          ],
          [
           936.9657049826914,
           927.6889557131736,
           908.8462158547745,
           890.4933001932111,
           873.0630524839622,
           856.6152700876678,
           841.100208178429,
           826.7414514943325,
           813.9718025393374,
           803.4735088306074,
           796.0887883406338,
           793.0426889922038,
           796.5568956813865,
           809.3277745602849,
           831.4245896700256,
           856.882390545648,
           881.2108643887918,
           902.5425685512117,
           921.9867545247027,
           939.7249444943291,
           957.6378817907049,
           975.1307731119296,
           992.3871221872927,
           1008.4402928899941,
           1022.9420907092274,
           1035.7533116352486,
           1046.3970221545496,
           1055.5529579847869,
           1064.8021345454604,
           1075.5812063625312,
           1088.637603836189,
           1103.3670464484287,
           1119.0533161399962,
           1135.3874103886112,
           1152.008576889877,
           1169.1591958832946,
           1186.9542169620393,
           1204.9613581774156,
           1222.2080915929794,
           1238.094319090353,
           1252.2484604024385,
           1263.9402906021405,
           1272.3676245704835,
           1278.2457932252237,
           1283.3344172733305,
           1287.3198313776804,
           1289.1334398307793,
           1286.8392322351995,
           1278.665847327757,
           1264.2783101004793,
           1243.1936798013037,
           1214.5578472079642,
           1178.845156216428,
           1136.9435589164389,
           1090.1536506970344,
           1040.412748068851,
           992.1708710881237,
           952.2619449637529,
           929.3395997669696,
           921.4340827344571,
           936.815536710451,
           976.5406707889891,
           1007.3105923401431,
           1016.8542185451693,
           1016.9087971586586,
           1015.231130053415,
           1012.061154781214,
           1007.0754774460804,
           1000.0904128655093,
           990.5936600371718,
           978.3698881255821,
           963.4390270188878,
           946.242508290227,
           936.9657049826914
          ],
          [
           933.4154836652515,
           925.0065467387403,
           907.8092519125096,
           890.5863263720652,
           873.6083926380882,
           857.1448459291412,
           841.2232778209814,
           826.1574722392755,
           812.0992727259197,
           800.0495698524793,
           791.1787920643861,
           786.0690225798969,
           787.7368907724683,
           800.1529357255705,
           824.8239850566479,
           853.1274400064527,
           878.2405271034153,
           898.0754832287885,
           914.2805685275187,
           928.7258461965222,
           942.6390050987413,
           958.1678039469386,
           974.7782712841803,
           990.9335593728529,
           1006.5203460801971,
           1021.3917822477994,
           1034.6781429646157,
           1046.7606784621416,
           1057.7595480130112,
           1068.4564556955834,
           1079.9677433340116,
           1092.3849511731976,
           1105.8203628503152,
           1120.466074316125,
           1136.167870420589,
           1153.0381337648669,
           1171.2738383644644,
           1190.2922084176735,
           1208.8623121679523,
           1225.923121596272,
           1240.3185932750487,
           1251.3621350785393,
           1259.0710164160025,
           1264.9148893888216,
           1270.6337220282453,
           1275.7523826722525,
           1278.6401993954046,
           1276.9491809855372,
           1269.0860209759835,
           1254.9863658022348,
           1234.053769222519,
           1205.4398434881643,
           1169.3321701227703,
           1126.5654770403253,
           1078.9791898322442,
           1029.2954151223514,
           982.9372442316842,
           946.8741448820739,
           924.8043094316844,
           915.0498831185961,
           925.816137032752,
           959.2048982437216,
           990.1345078646557,
           1002.7124052409941,
           1005.125745884796,
           1005.0853459820343,
           1003.3160878233473,
           999.1464560770413,
           992.6751686969618,
           983.234466228421,
           971.5177556314277,
           957.5677403916183,
           941.8243665310066,
           933.4154836652515
          ],
          [
           929.3942783395761,
           921.4395374632353,
           905.0156107688605,
           888.3587074573401,
           871.7362855941091,
           855.3046853063535,
           839.2554706978564,
           823.8716285456485,
           809.6663574262093,
           796.9308135036476,
           786.8389263268767,
           780.9158535797753,
           780.991889325427,
           792.6598681139064,
           817.9160054991441,
           847.2564093114587,
           871.7551496922462,
           889.4667636234492,
           902.9114174092462,
           914.9341410447847,
           926.4952211727091,
           939.6764027726998,
           954.6953120032824,
           971.4074080230575,
           987.0740547994557,
           1003.4128161629229,
           1019.167257549461,
           1034.0157511210646,
           1048.4243467778763,
           1061.8181704652466,
           1074.5918891375998,
           1087.021556725142,
           1099.6981466404814,
           1113.2096790255043,
           1127.9721928787037,
           1144.0783217371634,
           1161.8939284784135,
           1180.8389043827506,
           1199.5802712203308,
           1216.899803047703,
           1231.6637956372845,
           1243.4455038045458,
           1252.4422395293782,
           1259.7263258885941,
           1266.6842351128596,
           1272.4730356562447,
           1275.7724478045684,
           1274.4437779155608,
           1267.0938620153681,
           1253.8786292709708,
           1234.066960067127,
           1206.9302173048904,
           1172.3406430646191,
           1130.5635282635783,
           1082.4021015780959,
           1031.7858611778652,
           985.765386301473,
           949.6875580508331,
           925.4639412583606,
           913.3521447815485,
           918.9074454378579,
           942.6161207653076,
           970.8965397800498,
           986.7983807758712,
           992.4460475434819,
           994.5209706047705,
           994.2649305380587,
           991.2677339960063,
           985.7922615020937,
           977.1554217977671,
           965.8141663141637,
           952.3070696776705,
           937.3490664831447,
           929.3942783395761
          ],
          [
           924.4151587278961,
           916.851359785127,
           901.1677687726863,
           885.2012884846616,
           869.0349096208965,
           852.7693488010086,
           836.8381468504336,
           821.6055770922756,
           807.4407580449293,
           794.8225224004764,
           784.735398805367,
           778.4541430409777,
           778.0573323925922,
           787.460950408664,
           808.8463369898662,
           834.9528939036455,
           857.0228550921166,
           872.6382573695857,
           884.1962951383247,
           894.8110654568335,
           906.03120138376,
           918.8100052724471,
           934.3163802456054,
           950.6923927709374,
           966.9299799654372,
           982.8329055061631,
           999.5702398455559,
           1016.7301829124917,
           1033.2413658169326,
           1049.3827255832866,
           1065.4288726716372,
           1080.7879137222928,
           1095.5821003299911,
           1110.2525673764023,
           1125.3172995880172,
           1141.204801568462,
           1158.2938174486019,
           1176.1599523478928,
           1193.6626753801975,
           1210.023229335972,
           1224.6975756992076,
           1237.4607328970535,
           1248.1672684776402,
           1257.0341220939806,
           1264.5025436533056,
           1269.6622128835018,
           1271.8497947833507,
           1269.6665740395483,
           1262.1393258509743,
           1249.6397009710686,
           1231.4821863474551,
           1206.9027763850343,
           1175.606235339791,
           1137.2240691635802,
           1091.9037368551185,
           1043.0330011896663,
           998.1157404830481,
           961.4712010172196,
           934.4319347298264,
           917.44332923957,
           915.0459406668225,
           928.4272992428989,
           952.9045260594614,
           969.9941500374805,
           978.1833629706831,
           982.0828099240157,
           982.962084797133,
           980.7907835888471,
           976.400702858906,
           968.7073272019815,
           958.3764810827766,
           945.9667846032123,
           931.9790115050729,
           924.4151587278961
          ],
          [
           917.5493925610682,
           910.3613946561534,
           895.2512621203981,
           879.788145799245,
           864.0821352845243,
           848.3312889807409,
           833.064067552301,
           818.536024306083,
           805.0157107054313,
           793.03259018085,
           783.7434211126726,
           777.4214228236599,
           776.4734059622166,
           782.1167420823327,
           796.4120990608375,
           815.7131097239726,
           833.8333994927002,
           848.0844921968052,
           859.1967190951134,
           869.5352931834336,
           881.7882391379202,
           897.8711062037588,
           914.3223123196248,
           932.345410637218,
           949.7359252004516,
           966.0892736817424,
           983.0074729485416,
           998.3771441929882,
           1014.2869074325151,
           1031.7215605611802,
           1050.0524832281797,
           1068.2046761319036,
           1085.5622384603112,
           1102.5863618905694,
           1119.1313928280626,
           1135.5492748542176,
           1151.9605027784282,
           1168.26929708,
           1184.0084252536585,
           1198.8428586097189,
           1212.6889008219305,
           1225.467954567129,
           1236.7209914313512,
           1245.7294796431217,
           1252.0301797181335,
           1255.369829947395,
           1255.065992700238,
           1250.5069881995419,
           1241.8901952007427,
           1229.2315797870076,
           1212.078898688847,
           1189.8348791830635,
           1162.1490694948866,
           1128.4292744191746,
           1088.8631348427625,
           1046.7780154687696,
           1007.0645437592444,
           971.6317270382722,
           943.1372166529753,
           921.9836046787815,
           913.4566865401205,
           919.1136131066837,
           936.9628796457616,
           953.1081249372965,
           963.0487959781228,
           968.1746023835029,
           969.7653115239589,
           968.2661943172241,
           964.7681068523862,
           958.1972334224614,
           949.1148050542292,
           937.8229506112394,
           924.7373294535653,
           917.5493925610682
          ],
          [
           907.5848078430613,
           900.8918167561103,
           886.7235609441398,
           871.9607648347179,
           856.7969587525404,
           841.8791943691414,
           827.6656423438092,
           814.1651028092999,
           801.4838999718893,
           790.2107888956963,
           781.2044995059239,
           775.0332957880621,
           772.8981888459911,
           774.5316016653771,
           781.8043274538082,
           794.2462666493504,
           808.9437919226361,
           822.6642093785352,
           834.0541755652957,
           844.7122731410554,
           858.1749586611338,
           875.2322876514421,
           895.600539307049,
           914.9418796853342,
           933.9225112697949,
           952.1724939874199,
           969.5200087987467,
           985.8699735213711,
           1000.2186634180807,
           1015.9693911769907,
           1032.5254041358085,
           1049.7425537432086,
           1068.1638702945666,
           1086.7171128109812,
           1104.1668615508504,
           1120.577563369203,
           1136.1462751423485,
           1150.9969677348934,
           1165.0798403672775,
           1178.4243698028392,
           1191.0899303731912,
           1202.928593613013,
           1213.3426991231656,
           1221.4212365496953,
           1226.0340116879709,
           1227.1763974526393,
           1224.3257973552866,
           1217.4313816760473,
           1207.333707287496,
           1193.942499015944,
           1177.0060370380004,
           1156.391418880184,
           1131.8368940063135,
           1102.5502133613854,
           1068.536105549008,
           1033.6095200207544,
           1000.4738892807861,
           969.9886553146422,
           943.5573358932867,
           922.5441461915532,
           911.3819436992587,
           911.3088453433362,
           921.581944826449,
           935.958318044955,
           946.5463701367079,
           952.3477388957494,
           954.4450933309853,
           953.5550172103625,
           950.526238944187,
           944.8967042335809,
           936.6494709806755,
           926.3296524527583,
           914.2778597615586,
           907.5848078430613
          ],
          [
           892.6909249664867,
           886.7905575367197,
           874.2261311181671,
           860.776057525612,
           846.79831482715,
           832.9910012769939,
           819.844977950497,
           807.3785907878457,
           795.6291831233389,
           785.2415245519956,
           776.0406474252636,
           770.3736157516905,
           767.7635015656714,
           768.2928434351667,
           773.0444197627054,
           781.690613607533,
           792.671069400033,
           804.9957232320784,
           816.3933283540947,
           826.4983563817269,
           838.7122496487216,
           855.7466735364824,
           876.1743801791873,
           897.6393082374882,
           917.9722737005113,
           936.8804769878396,
           955.2400849449924,
           972.5413839328123,
           989.1241934721919,
           1004.8870341938004,
           1019.4433858318955,
           1033.9912798854234,
           1049.5405713751259,
           1065.462951420216,
           1081.2810725773113,
           1096.5651517534725,
           1111.0251513518167,
           1124.6236730408814,
           1137.4167622353812,
           1149.5063879959869,
           1160.838361235638,
           1171.094016315322,
           1179.7496169418805,
           1186.0822003199005,
           1189.4837898727628,
           1189.3523246518919,
           1185.2629574500022,
           1177.5993166612554,
           1166.8463861327268,
           1153.1771837526535,
           1136.7324213261038,
           1117.419089702365,
           1094.7778409045104,
           1068.4265187189396,
           1039.847047781657,
           1011.5079030806139,
           984.0754703028864,
           958.5079130383309,
           935.8507797490238,
           917.238626275205,
           905.8057066942863,
           902.146694721659,
           906.5770938173081,
           917.567677247516,
           926.8929424920224,
           932.6171984509768,
           934.9266218744336,
           934.461327221314,
           931.6718789577628,
           926.5434109837937,
           919.079663583905,
           909.4805618297656,
           898.5913396634816,
           892.6909249664867
          ],
          [
           873.3581391136652,
           868.4485218151098,
           857.9418204997481,
           846.5648456930791,
           834.4419396020454,
           821.9759604173776,
           809.8360913999608,
           798.4569089340476,
           787.995020876603,
           778.4919320567933,
           771.6872072800655,
           767.3385354944094,
           765.1469432931048,
           765.3053399918257,
           769.1459748605879,
           776.8984369985438,
           787.0611733796983,
           798.5043227017192,
           809.1235346501395,
           818.2064611745395,
           828.0381871019523,
           842.2410002960091,
           860.6031679258436,
           880.6397186537315,
           900.6590826274595,
           920.7708237860737,
           939.129874699593,
           957.1609387622439,
           974.5888555242814,
           990.2427695088943,
           1004.9065711282109,
           1018.9737052981179,
           1032.4860774908998,
           1045.8474404185608,
           1059.065404544,
           1071.981240304008,
           1084.417817405335,
           1096.277355618623,
           1107.488046898778,
           1118.0010017772474,
           1127.6327416512993,
           1136.0963077757817,
           1142.8784817197584,
           1147.4149363424228,
           1149.6276344490402,
           1148.8742265175513,
           1144.7274853150584,
           1137.3630100042215,
           1127.1199418786443,
           1114.0591945788506,
           1098.3804323285226,
           1079.797658587783,
           1057.7882100176942,
           1033.1544659872434,
           1008.3668837066189,
           984.7842952512641,
           962.581444809099,
           942.0851797499059,
           923.676398226516,
           907.8126969532866,
           897.3825682879686,
           892.0811442603859,
           892.3815444357554,
           898.036020214505,
           904.2663910700388,
           908.2553232691332,
           910.0274733001334,
           909.6826837760067,
           907.105930968279,
           902.4024082385394,
           895.7075104189995,
           887.5352211119234,
           878.2677565930917,
           873.3581391136652
          ],
          [
           853.5757710688647,
           849.6329380132486,
           841.1341880304558,
           832.0159291319403,
           822.0404244621794,
           811.3997965941427,
           800.9632157316812,
           791.5099259120793,
           783.0715873693649,
           776.0709747281651,
           771.2768252714515,
           768.8815773691277,
           768.3710804764355,
           769.847944540075,
           774.1952977578791,
           782.1238109542307,
           792.3923260306584,
           802.9580761625901,
           812.4853088227694,
           820.265259322127,
           827.3473305061299,
           836.6609592554472,
           850.7046063669883,
           868.2282767303823,
           886.115757976554,
           904.1171372396152,
           922.5730873003615,
           940.5751567500793,
           957.0990442902155,
           972.4073725185588,
           986.9206555651987,
           1000.3627857112756,
           1013.0398102902041,
           1025.2540352357419,
           1036.9231024676628,
           1047.9833610532382,
           1058.427784759413,
           1068.3341076946713,
           1077.6444493689085,
           1086.3500652785838,
           1094.2743822782668,
           1101.1312640385354,
           1106.5174135059451,
           1109.8630588904985,
           1111.0541342782274,
           1109.7430544903016,
           1105.5723720616427,
           1098.6851358390193,
           1089.1326413421027,
           1076.974691910854,
           1062.2188504345606,
           1044.4636499283508,
           1024.0881296949613,
           1002.711044470438,
           982.2220884813545,
           963.0213732541338,
           944.9848572172954,
           927.9905244762288,
           912.7119008965786,
           899.2274535765359,
           889.3059452235461,
           882.9582023945865,
           879.9070890284232,
           879.8819431545077,
           881.1682927561272,
           882.0840989547632,
           882.5219096071031,
           881.8462429325509,
           879.4992026406994,
           875.835759613659,
           870.9652057748112,
           864.7155481557846,
           857.51865813976,
           853.5757710688647
          ],
          [
           838.6283224595154,
           835.6623395499685,
           829.1864162870942,
           822.3844886676172,
           815.5568915621633,
           808.0802054775017,
           800.21063276428,
           792.68278850838,
           786.5114542264051,
           782.1942646719907,
           779.8922317675803,
           779.6495555177808,
           781.1414008472962,
           784.3209941647991,
           789.4956004221932,
           797.1518838079498,
           806.5841374833486,
           816.4212936751051,
           825.7375456498689,
           832.8852237843249,
           837.4862047383177,
           841.7758558088506,
           849.5055935206327,
           862.519607911012,
           876.8197366340918,
           893.0923084458772,
           908.4588937945965,
           923.3882457719092,
           938.668633053202,
           953.5269240504026,
           966.9938623428806,
           979.5094982971024,
           991.2907887292378,
           1002.3969296977407,
           1012.8096886139037,
           1022.5124268827182,
           1031.5013166640738,
           1039.8765079682655,
           1047.6622507757518,
           1054.860599115353,
           1061.3682287920456,
           1066.954087793013,
           1071.1651602640202,
           1073.6824081667787,
           1074.1923587974202,
           1072.4449239270327,
           1068.4518738409902,
           1062.1323312120398,
           1053.3805083551215,
           1042.029960133314,
           1028.0635134490242,
           1011.7932680313561,
           994.1708428395747,
           976.6860105225044,
           960.1237935837225,
           944.4347813186433,
           929.5194190735722,
           915.6048793042036,
           902.6878136451417,
           891.0106838048658,
           881.5212156883746,
           873.847851556249,
           867.8527509248761,
           863.5276990147989,
           860.873137376129,
           859.2777062387901,
           857.9428430784316,
           856.702156497852,
           855.2430082532584,
           853.2311800736259,
           850.5018291973199,
           846.6355764250801,
           841.5943595879514,
           838.6283224595154
          ],
          [
           833.6806969204864,
           831.646773343903,
           827.3914982615149,
           823.2388056132357,
           819.2668717524451,
           815.054086760563,
           810.8485278476657,
           806.4215779602947,
           802.0975509974434,
           798.9897332374214,
           797.5395880138016,
           798.1162531967816,
           800.5523467955679,
           803.4203158957727,
           808.5120725339549,
           814.9857569698116,
           823.2747343869312,
           832.9677235213271,
           843.0166144683104,
           852.2189583626663,
           858.7358519138272,
           862.0668968826836,
           863.799543417515,
           867.472884787369,
           876.8920981314154,
           888.3719801385009,
           900.7919245559774,
           913.8363648286509,
           926.065732386442,
           937.4461707057969,
           948.9319176383374,
           960.3116170051121,
           970.7008133207133,
           980.104301806278,
           989.0564742330004,
           997.5601438648509,
           1005.4722116579663,
           1012.733891736009,
           1019.3026860578151,
           1025.1916179161312,
           1030.4610987514952,
           1034.8538853333982,
           1037.966981272018,
           1039.6262116523783,
           1039.5801790872101,
           1037.664976405099,
           1033.8525721027033,
           1027.8878859364354,
           1019.6587420792064,
           1009.0205213448488,
           996.569972589852,
           982.760799807045,
           968.520209723737,
           954.7882654223638,
           941.6515958206774,
           928.979353987247,
           916.6095787260108,
           904.6631624859929,
           892.9425488921869,
           882.1625902439041,
           872.631862367633,
           864.1762675932943,
           856.7576125586598,
           850.9665497454795,
           847.6174870999071,
           845.3768921843922,
           843.8336242530635,
           843.0278850696521,
           842.9132771827383,
           842.9395762243832,
           841.9250665986086,
           839.3414957326246,
           835.7146205198082,
           833.6806969204864
          ],
          [
           839.856825501701,
           838.830931110381,
           836.723030342337,
           835.3151010850504,
           832.9803564370925,
           831.1111896762231,
           829.1863804179446,
           826.8563562749816,
           823.76960376187,
           820.5483459311497,
           818.4796828121655,
           817.9612999732497,
           819.3634534136235,
           821.9396704828806,
           825.46275822197,
           830.93796765263,
           838.091125214015,
           847.4867139031222,
           858.1553059115885,
           870.689242703395,
           882.8645371918217,
           892.5623280145167,
           896.9830158254117,
           897.5595848743776,
           896.3788600706265,
           898.0725733442706,
           905.5524223802271,
           912.7731101789017,
           920.8444118807661,
           929.5873064585837,
           938.6412986865167,
           946.8092496821673,
           954.6847760597786,
           962.5634019825081,
           970.2010248898109,
           977.3281436673673,
           983.8067741474915,
           989.6489163110776,
           994.785737091028,
           999.1912224680002,
           1002.9411178814731,
           1005.8202877960191,
           1007.7030140777177,
           1008.320850838741,
           1007.4748554765085,
           1005.1707559345496,
           1001.1744155934709,
           995.3484977242587,
           987.9031431049599,
           978.8913110687806,
           968.5352147613819,
           957.5349269919407,
           946.6434845223473,
           936.0273603469499,
           925.5665404984663,
           914.9592450138749,
           904.390465783538,
           893.7983191874763,
           883.5213858890696,
           873.8306369424339,
           865.1674980545058,
           857.9104981509771,
           852.6105473465644,
           848.5783450693256,
           845.9350451316694,
           844.6565670547726,
           843.4896648328388,
           842.5534213374489,
           842.5376501450569,
           843.225030643825,
           843.8343093812219,
           843.0616015604012,
           840.8827199157597,
           839.856825501701
          ],
          [
           856.4522995839219,
           856.3526005215775,
           856.4595617330147,
           854.8064283492629,
           853.5077551975438,
           852.1333731546331,
           849.9556869369288,
           847.113155273942,
           843.8091361162699,
           840.5940903201162,
           837.6399884060411,
           836.1809006737495,
           836.3818581059024,
           838.4852008259367,
           842.386940198996,
           848.4703914784632,
           856.424327499897,
           866.4599984829954,
           879.3726093455119,
           895.3116169283696,
           909.3735011689512,
           923.3818263764231,
           933.3990624982057,
           936.7244418125327,
           936.4625219469799,
           934.4459112068143,
           932.1369732192396,
           929.9207448806383,
           931.7567950510011,
           935.5132280497007,
           940.0640742124807,
           944.1989398328998,
           949.0267546277577,
           954.1509216542262,
           959.253589957149,
           964.2389654280619,
           968.7797391496761,
           972.8891337616122,
           976.4766496496692,
           979.2242615261343,
           980.9849375120594,
           981.8845119614435,
           981.7105668789759,
           980.3723201259561,
           978.0820602589546,
           974.9424472822142,
           970.9154458993673,
           965.808567665736,
           959.5240505357158,
           952.1181421211841,
           944.4259337989794,
           936.7921735539525,
           929.4181531886646,
           921.8701849006924,
           913.7933311227678,
           904.734285060735,
           895.2055913317583,
           886.0640347198065,
           877.7213837580779,
           870.6076184585916,
           864.8255588196395,
           860.2761334056569,
           856.8117909192553,
           855.2397505361449,
           855.1895018222714,
           855.8077135825986,
           855.7462474859013,
           854.9637638859253,
           854.4642428420302,
           854.5711105158255,
           854.8957630986812,
           855.6901085179423,
           856.551998669005,
           856.4522995839219
          ],
          [
           875.5890282173372,
           875.212575821908,
           874.9442860079266,
           874.2825497039214,
           872.4439357671945,
           870.1069418982422,
           866.9556133452513,
           863.1321443912326,
           858.9921181401731,
           855.325114226183,
           852.7196136351956,
           851.1869772239368,
           850.6723089703335,
           851.7987361502255,
           854.7989225320043,
           859.7818897142207,
           868.2263399639007,
           880.8831856486323,
           898.0452532461076,
           917.6682247623078,
           938.4997536474439,
           958.5771881952013,
           971.5020320291146,
           980.9280427344071,
           982.0961946589633,
           982.9979412724362,
           979.2975879294147,
           975.6693011795047,
           971.2443910650622,
           965.7465537143498,
           961.3285130646208,
           959.3136666337416,
           959.116216323327,
           960.6677200886746,
           963.1152852092463,
           965.018565154947,
           966.3787848001707,
           967.0193856217081,
           967.5240058484131,
           967.4589739484168,
           966.7366851071494,
           965.3316213167222,
           963.5088087775769,
           961.154539454784,
           958.4203220492312,
           955.0145437218596,
           950.7955748472639,
           945.858740053654,
           940.5332285957273,
           935.0391037557415,
           929.7279822762857,
           924.3804087056217,
           919.0864683774388,
           913.1551791249343,
           908.1633382317991,
           902.7940429479588,
           896.5288024184097,
           890.2333850768804,
           884.2294342048252,
           879.405077809739,
           875.4451951359364,
           873.4419573368684,
           873.0270192665625,
           873.3772306014348,
           874.1142118393504,
           875.0707618579348,
           876.4559734368943,
           877.2138525762014,
           876.608850396393,
           875.6179151426353,
           874.8799870529583,
           875.0405170713509,
           875.9654872254237,
           875.5890282173372
          ],
          [
           890.8442952518395,
           890.105485382165,
           888.6524673606048,
           886.7154426944355,
           884.7065387676347,
           882.2042392352975,
           878.6706401570744,
           874.0192414820866,
           869.5682523928973,
           865.555379292618,
           862.3533037353753,
           861.1563208947885,
           861.0720170657787,
           862.0093876239997,
           864.3121272954855,
           868.636686039688,
           875.904742674058,
           886.364760622707,
           899.5331203219155,
           915.2161381311558,
           933.0285594096815,
           952.1292400234311,
           973.2055849989936,
           1000.5333793688924,
           1016.6558483402049,
           1028.3351356178755,
           1032.0519661876265,
           1032.6368538655768,
           1027.3944991605936,
           1018.4599261545183,
           1012.7591459483817,
           1005.4562471908322,
           1002.0048161848493,
           995.8145311300866,
           989.8367056366917,
           985.8589609645977,
           982.0368895087171,
           977.1118017365785,
           973.3240207346665,
           969.2010049302136,
           965.8999541750109,
           961.4573614690016,
           957.8622687208756,
           954.1175717344477,
           950.470067505128,
           946.6339716072912,
           942.6888882160113,
           938.885977081778,
           935.5695559862538,
           932.7819470929608,
           931.7015669541017,
           927.343895039377,
           924.2519761019562,
           923.365875679196,
           920.513701820749,
           916.9393464633129,
           912.5487568628781,
           908.1918421091647,
           904.5371302407912,
           901.7941512284032,
           899.8591548315027,
           898.7439436243385,
           898.4640791754384,
           898.2262967485983,
           897.7442345304905,
           897.2271698362787,
           896.8995307159702,
           896.6271172819793,
           895.3816091853056,
           894.2448263701162,
           893.4074285392182,
           892.9616225651102,
           891.5831121186528,
           890.8442952518395
          ],
          [
           901.1481483037539,
           900.454463453665,
           898.6642406530427,
           896.367488877646,
           892.5082592006708,
           889.5489595759025,
           886.8406722070201,
           884.6310122016338,
           883.3381569324613,
           882.964502616042,
           883.1233530806487,
           883.9654623858424,
           885.4541822859093,
           887.6968956200944,
           890.9080244293579,
           895.739736766209,
           902.4413671969711,
           911.0276361437552,
           921.6108497055552,
           933.8306477941355,
           946.4173617847174,
           959.4799903454814,
           971.6546077165549,
           981.816803691893,
           990.1756642986911,
           997.2414802715724,
           1004.7420804473757,
           1012.4608162828976,
           1018.9679559961785,
           1027.4709317657635,
           1035.427380051771,
           1034.1793032805247,
           1030.8324503689246,
           1025.001161633569,
           1018.3609731700069,
           1010.8650007809033,
           1002.9825068810186,
           995.9812477596427,
           989.3346371248855,
           984.9392443579936,
           981.3125425156906,
           977.4118125482166,
           972.4878955282621,
           968.4867986747233,
           964.449572854932,
           960.3944983671005,
           956.3004260832629,
           951.9552095052788,
           948.8130828885261,
           946.189791263277,
           943.7882633895572,
           941.184421139759,
           938.6659602004546,
           936.6075826048955,
           934.703952032477,
           932.7690355002695,
           930.5955987522714,
           927.7219098176515,
           925.1810004508467,
           922.724823708061,
           920.6663854310492,
           918.857628631548,
           917.3698392598177,
           915.6920403390827,
           913.866414391137,
           911.8736670931306,
           909.9111532562654,
           907.9019589532865,
           906.8787930941662,
           906.1683770857912,
           905.2863795023188,
           903.4913774843995,
           901.8418871918607,
           901.1481483037539
          ],
          [
           907.328254932454,
           906.8393495673608,
           905.863273460508,
           904.7917568919987,
           903.5547785201667,
           902.4473869036506,
           901.8720377414337,
           902.0674598092554,
           903.0561609307127,
           904.5343357975697,
           906.3689888123507,
           908.5947211728779,
           911.3941769948713,
           914.398600924499,
           918.3030657730377,
           923.032520919118,
           928.3604166360907,
           934.1362951537188,
           940.2253585044848,
           946.5014313824515,
           952.6322073114064,
           958.5586272875445,
           965.2854277431798,
           970.0372397975859,
           974.9285263040728,
           979.3086598340553,
           982.9911119834518,
           985.9081166642115,
           987.9583609324188,
           989.0539976797061,
           989.4507353454942,
           989.2383439888836,
           988.333846972694,
           986.391510783122,
           984.585988076392,
           982.689482939524,
           980.6447130761287,
           978.6252546447744,
           976.0238545200464,
           973.1751648709112,
           970.0289893503472,
           966.6628013471059,
           963.2673684582442,
           959.7444621069059,
           956.2041458545598,
           952.6136393192049,
           949.2844652185889,
           946.4359586030221,
           944.0656531438186,
           942.1206883996931,
           940.3432568106548,
           938.6645494588656,
           936.9848594516651,
           935.2440455338889,
           933.3988490512993,
           931.3217210834143,
           929.0055760505361,
           926.5004796654154,
           923.8619013899107,
           921.5217814589593,
           919.5328439149662,
           917.9668213308557,
           916.615914609568,
           915.4811233150323,
           914.7187097456903,
           914.1682810773317,
           913.6309703863166,
           912.93976230318,
           912.0528761550994,
           911.1276799145805,
           910.0533186278186,
           908.894928182716,
           907.8171604784183,
           907.328254932454
          ],
          [
           925.1521251090508,
           925.0118485194188,
           924.7998200573173,
           924.6972429308765,
           924.649148587417,
           924.6681091020229,
           924.8513735816159,
           925.3630646084359,
           926.2620856537354,
           927.5462395107426,
           929.055862314077,
           930.6363117470412,
           932.2297145585253,
           933.9606662944293,
           935.6075700525806,
           937.3637529187399,
           939.0998681046923,
           940.7414455898796,
           942.1959080681753,
           943.4912287733106,
           944.6535408481814,
           945.7792369810375,
           947.3522074461338,
           948.3023350860867,
           949.3797027944755,
           950.2284611216414,
           950.7464239062609,
           950.9618182007314,
           950.8259530319701,
           950.445463429288,
           949.9256357738318,
           949.3173381345911,
           948.6953951215536,
           948.083229867855,
           947.5379516114941,
           947.1115433717746,
           946.8769372026502,
           946.6012188391439,
           946.2801840304737,
           945.8594495468137,
           945.3752494029474,
           944.7678782622065,
           943.9369868042864,
           942.8842513410458,
           941.749054526036,
           940.5839832549653,
           939.4370279694041,
           938.3537323934737,
           937.4051561195994,
           936.6173698217468,
           936.1277469159068,
           935.7425725851799,
           935.3861981656108,
           935.0362987323895,
           934.6815911523926,
           934.3719824263925,
           934.0970892164311,
           933.8214452217882,
           933.3942890431221,
           932.8779325478073,
           931.947746518571,
           931.1932115279515,
           930.3962840947735,
           929.6304679869894,
           928.9712796312862,
           928.3413397491453,
           927.7260153714276,
           927.2035953541539,
           926.8169206771727,
           926.4885848792353,
           926.095188758318,
           925.6788927550256,
           925.2924084922114,
           925.1521251090508
          ],
          [
           935.8664921015909,
           935.7370344368626,
           935.4822119760937,
           935.2266159781185,
           934.9634025149747,
           934.6659496405783,
           934.3431931994846,
           934.0744811385573,
           933.9522432627286,
           934.007233526618,
           934.1857977136618,
           934.4349164868775,
           934.760209733159,
           935.2369585187763,
           935.8182392393412,
           936.5061149238956,
           937.1980234736653,
           937.8443818613209,
           938.3918516126014,
           938.8821384441598,
           939.3257639760928,
           939.7508420715266,
           940.325447220086,
           940.5546585794472,
           940.6424450927866,
           940.6916332083697,
           940.5471511082395,
           940.2609971146121,
           939.8564294053164,
           939.3502636159801,
           938.7850538672782,
           938.224819198566,
           937.7272237421691,
           937.254546515866,
           936.7828022993764,
           936.3581773815816,
           936.042042120499,
           935.7562739237735,
           935.4821407253164,
           935.2150131428726,
           934.944472568801,
           934.6498178773544,
           934.3266975603595,
           934.0553479634718,
           933.9403597533668,
           933.9995712945665,
           934.1822353612858,
           934.429179489642,
           934.7493265067986,
           935.2203817839948,
           935.8077097072581,
           936.497670633417,
           937.1959125749406,
           937.8464383865999,
           938.3919599005875,
           938.874246479804,
           939.3108852163969,
           939.7301344622447,
           940.2969314721156,
           940.5274067848918,
           940.597803488063,
           940.6343193597662,
           940.4849323651753,
           940.2067105879696,
           939.8115774645524,
           939.3123259517641,
           938.7471455354432,
           938.1857628030533,
           937.6739678606446,
           937.194437228791,
           936.7183549039113,
           936.2944026970898,
           935.99589575104,
           935.8664921015909
          ]
         ]
        }
       ],
       "layout": {
        "autosize": false,
        "height": 400,
        "margin": {
         "b": 32,
         "pad": 0,
         "r": 30,
         "t": 40
        },
        "template": {
         "data": {
          "bar": [
           {
            "error_x": {
             "color": "#2a3f5f"
            },
            "error_y": {
             "color": "#2a3f5f"
            },
            "marker": {
             "line": {
              "color": "#E5ECF6",
              "width": 0.5
             },
             "pattern": {
              "fillmode": "overlay",
              "size": 10,
              "solidity": 0.2
             }
            },
            "type": "bar"
           }
          ],
          "barpolar": [
           {
            "marker": {
             "line": {
              "color": "#E5ECF6",
              "width": 0.5
             },
             "pattern": {
              "fillmode": "overlay",
              "size": 10,
              "solidity": 0.2
             }
            },
            "type": "barpolar"
           }
          ],
          "carpet": [
           {
            "aaxis": {
             "endlinecolor": "#2a3f5f",
             "gridcolor": "white",
             "linecolor": "white",
             "minorgridcolor": "white",
             "startlinecolor": "#2a3f5f"
            },
            "baxis": {
             "endlinecolor": "#2a3f5f",
             "gridcolor": "white",
             "linecolor": "white",
             "minorgridcolor": "white",
             "startlinecolor": "#2a3f5f"
            },
            "type": "carpet"
           }
          ],
          "choropleth": [
           {
            "colorbar": {
             "outlinewidth": 0,
             "ticks": ""
            },
            "type": "choropleth"
           }
          ],
          "contour": [
           {
            "colorbar": {
             "outlinewidth": 0,
             "ticks": ""
            },
            "colorscale": [
             [
              0,
              "#0d0887"
             ],
             [
              0.1111111111111111,
              "#46039f"
             ],
             [
              0.2222222222222222,
              "#7201a8"
             ],
             [
              0.3333333333333333,
              "#9c179e"
             ],
             [
              0.4444444444444444,
              "#bd3786"
             ],
             [
              0.5555555555555556,
              "#d8576b"
             ],
             [
              0.6666666666666666,
              "#ed7953"
             ],
             [
              0.7777777777777778,
              "#fb9f3a"
             ],
             [
              0.8888888888888888,
              "#fdca26"
             ],
             [
              1,
              "#f0f921"
             ]
            ],
            "type": "contour"
           }
          ],
          "contourcarpet": [
           {
            "colorbar": {
             "outlinewidth": 0,
             "ticks": ""
            },
            "type": "contourcarpet"
           }
          ],
          "heatmap": [
           {
            "colorbar": {
             "outlinewidth": 0,
             "ticks": ""
            },
            "colorscale": [
             [
              0,
              "#0d0887"
             ],
             [
              0.1111111111111111,
              "#46039f"
             ],
             [
              0.2222222222222222,
              "#7201a8"
             ],
             [
              0.3333333333333333,
              "#9c179e"
             ],
             [
              0.4444444444444444,
              "#bd3786"
             ],
             [
              0.5555555555555556,
              "#d8576b"
             ],
             [
              0.6666666666666666,
              "#ed7953"
             ],
             [
              0.7777777777777778,
              "#fb9f3a"
             ],
             [
              0.8888888888888888,
              "#fdca26"
             ],
             [
              1,
              "#f0f921"
             ]
            ],
            "type": "heatmap"
           }
          ],
          "heatmapgl": [
           {
            "colorbar": {
             "outlinewidth": 0,
             "ticks": ""
            },
            "colorscale": [
             [
              0,
              "#0d0887"
             ],
             [
              0.1111111111111111,
              "#46039f"
             ],
             [
              0.2222222222222222,
              "#7201a8"
             ],
             [
              0.3333333333333333,
              "#9c179e"
             ],
             [
              0.4444444444444444,
              "#bd3786"
             ],
             [
              0.5555555555555556,
              "#d8576b"
             ],
             [
              0.6666666666666666,
              "#ed7953"
             ],
             [
              0.7777777777777778,
              "#fb9f3a"
             ],
             [
              0.8888888888888888,
              "#fdca26"
             ],
             [
              1,
              "#f0f921"
             ]
            ],
            "type": "heatmapgl"
           }
          ],
          "histogram": [
           {
            "marker": {
             "pattern": {
              "fillmode": "overlay",
              "size": 10,
              "solidity": 0.2
             }
            },
            "type": "histogram"
           }
          ],
          "histogram2d": [
           {
            "colorbar": {
             "outlinewidth": 0,
             "ticks": ""
            },
            "colorscale": [
             [
              0,
              "#0d0887"
             ],
             [
              0.1111111111111111,
              "#46039f"
             ],
             [
              0.2222222222222222,
              "#7201a8"
             ],
             [
              0.3333333333333333,
              "#9c179e"
             ],
             [
              0.4444444444444444,
              "#bd3786"
             ],
             [
              0.5555555555555556,
              "#d8576b"
             ],
             [
              0.6666666666666666,
              "#ed7953"
             ],
             [
              0.7777777777777778,
              "#fb9f3a"
             ],
             [
              0.8888888888888888,
              "#fdca26"
             ],
             [
              1,
              "#f0f921"
             ]
            ],
            "type": "histogram2d"
           }
          ],
          "histogram2dcontour": [
           {
            "colorbar": {
             "outlinewidth": 0,
             "ticks": ""
            },
            "colorscale": [
             [
              0,
              "#0d0887"
             ],
             [
              0.1111111111111111,
              "#46039f"
             ],
             [
              0.2222222222222222,
              "#7201a8"
             ],
             [
              0.3333333333333333,
              "#9c179e"
             ],
             [
              0.4444444444444444,
              "#bd3786"
             ],
             [
              0.5555555555555556,
              "#d8576b"
             ],
             [
              0.6666666666666666,
              "#ed7953"
             ],
             [
              0.7777777777777778,
              "#fb9f3a"
             ],
             [
              0.8888888888888888,
              "#fdca26"
             ],
             [
              1,
              "#f0f921"
             ]
            ],
            "type": "histogram2dcontour"
           }
          ],
          "mesh3d": [
           {
            "colorbar": {
             "outlinewidth": 0,
             "ticks": ""
            },
            "type": "mesh3d"
           }
          ],
          "parcoords": [
           {
            "line": {
             "colorbar": {
              "outlinewidth": 0,
              "ticks": ""
             }
            },
            "type": "parcoords"
           }
          ],
          "pie": [
           {
            "automargin": true,
            "type": "pie"
           }
          ],
          "scatter": [
           {
            "fillpattern": {
             "fillmode": "overlay",
             "size": 10,
             "solidity": 0.2
            },
            "type": "scatter"
           }
          ],
          "scatter3d": [
           {
            "line": {
             "colorbar": {
              "outlinewidth": 0,
              "ticks": ""
             }
            },
            "marker": {
             "colorbar": {
              "outlinewidth": 0,
              "ticks": ""
             }
            },
            "type": "scatter3d"
           }
          ],
          "scattercarpet": [
           {
            "marker": {
             "colorbar": {
              "outlinewidth": 0,
              "ticks": ""
             }
            },
            "type": "scattercarpet"
           }
          ],
          "scattergeo": [
           {
            "marker": {
             "colorbar": {
              "outlinewidth": 0,
              "ticks": ""
             }
            },
            "type": "scattergeo"
           }
          ],
          "scattergl": [
           {
            "marker": {
             "colorbar": {
              "outlinewidth": 0,
              "ticks": ""
             }
            },
            "type": "scattergl"
           }
          ],
          "scattermapbox": [
           {
            "marker": {
             "colorbar": {
              "outlinewidth": 0,
              "ticks": ""
             }
            },
            "type": "scattermapbox"
           }
          ],
          "scatterpolar": [
           {
            "marker": {
             "colorbar": {
              "outlinewidth": 0,
              "ticks": ""
             }
            },
            "type": "scatterpolar"
           }
          ],
          "scatterpolargl": [
           {
            "marker": {
             "colorbar": {
              "outlinewidth": 0,
              "ticks": ""
             }
            },
            "type": "scatterpolargl"
           }
          ],
          "scatterternary": [
           {
            "marker": {
             "colorbar": {
              "outlinewidth": 0,
              "ticks": ""
             }
            },
            "type": "scatterternary"
           }
          ],
          "surface": [
           {
            "colorbar": {
             "outlinewidth": 0,
             "ticks": ""
            },
            "colorscale": [
             [
              0,
              "#0d0887"
             ],
             [
              0.1111111111111111,
              "#46039f"
             ],
             [
              0.2222222222222222,
              "#7201a8"
             ],
             [
              0.3333333333333333,
              "#9c179e"
             ],
             [
              0.4444444444444444,
              "#bd3786"
             ],
             [
              0.5555555555555556,
              "#d8576b"
             ],
             [
              0.6666666666666666,
              "#ed7953"
             ],
             [
              0.7777777777777778,
              "#fb9f3a"
             ],
             [
              0.8888888888888888,
              "#fdca26"
             ],
             [
              1,
              "#f0f921"
             ]
            ],
            "type": "surface"
           }
          ],
          "table": [
           {
            "cells": {
             "fill": {
              "color": "#EBF0F8"
             },
             "line": {
              "color": "white"
             }
            },
            "header": {
             "fill": {
              "color": "#C8D4E3"
             },
             "line": {
              "color": "white"
             }
            },
            "type": "table"
           }
          ]
         },
         "layout": {
          "annotationdefaults": {
           "arrowcolor": "#2a3f5f",
           "arrowhead": 0,
           "arrowwidth": 1
          },
          "autotypenumbers": "strict",
          "coloraxis": {
           "colorbar": {
            "outlinewidth": 0,
            "ticks": ""
           }
          },
          "colorscale": {
           "diverging": [
            [
             0,
             "#8e0152"
            ],
            [
             0.1,
             "#c51b7d"
            ],
            [
             0.2,
             "#de77ae"
            ],
            [
             0.3,
             "#f1b6da"
            ],
            [
             0.4,
             "#fde0ef"
            ],
            [
             0.5,
             "#f7f7f7"
            ],
            [
             0.6,
             "#e6f5d0"
            ],
            [
             0.7,
             "#b8e186"
            ],
            [
             0.8,
             "#7fbc41"
            ],
            [
             0.9,
             "#4d9221"
            ],
            [
             1,
             "#276419"
            ]
           ],
           "sequential": [
            [
             0,
             "#0d0887"
            ],
            [
             0.1111111111111111,
             "#46039f"
            ],
            [
             0.2222222222222222,
             "#7201a8"
            ],
            [
             0.3333333333333333,
             "#9c179e"
            ],
            [
             0.4444444444444444,
             "#bd3786"
            ],
            [
             0.5555555555555556,
             "#d8576b"
            ],
            [
             0.6666666666666666,
             "#ed7953"
            ],
            [
             0.7777777777777778,
             "#fb9f3a"
            ],
            [
             0.8888888888888888,
             "#fdca26"
            ],
            [
             1,
             "#f0f921"
            ]
           ],
           "sequentialminus": [
            [
             0,
             "#0d0887"
            ],
            [
             0.1111111111111111,
             "#46039f"
            ],
            [
             0.2222222222222222,
             "#7201a8"
            ],
            [
             0.3333333333333333,
             "#9c179e"
            ],
            [
             0.4444444444444444,
             "#bd3786"
            ],
            [
             0.5555555555555556,
             "#d8576b"
            ],
            [
             0.6666666666666666,
             "#ed7953"
            ],
            [
             0.7777777777777778,
             "#fb9f3a"
            ],
            [
             0.8888888888888888,
             "#fdca26"
            ],
            [
             1,
             "#f0f921"
            ]
           ]
          },
          "colorway": [
           "#636efa",
           "#EF553B",
           "#00cc96",
           "#ab63fa",
           "#FFA15A",
           "#19d3f3",
           "#FF6692",
           "#B6E880",
           "#FF97FF",
           "#FECB52"
          ],
          "font": {
           "color": "#2a3f5f"
          },
          "geo": {
           "bgcolor": "white",
           "lakecolor": "white",
           "landcolor": "#E5ECF6",
           "showlakes": true,
           "showland": true,
           "subunitcolor": "white"
          },
          "hoverlabel": {
           "align": "left"
          },
          "hovermode": "closest",
          "mapbox": {
           "style": "light"
          },
          "paper_bgcolor": "white",
          "plot_bgcolor": "#E5ECF6",
          "polar": {
           "angularaxis": {
            "gridcolor": "white",
            "linecolor": "white",
            "ticks": ""
           },
           "bgcolor": "#E5ECF6",
           "radialaxis": {
            "gridcolor": "white",
            "linecolor": "white",
            "ticks": ""
           }
          },
          "scene": {
           "xaxis": {
            "backgroundcolor": "#E5ECF6",
            "gridcolor": "white",
            "gridwidth": 2,
            "linecolor": "white",
            "showbackground": true,
            "ticks": "",
            "zerolinecolor": "white"
           },
           "yaxis": {
            "backgroundcolor": "#E5ECF6",
            "gridcolor": "white",
            "gridwidth": 2,
            "linecolor": "white",
            "showbackground": true,
            "ticks": "",
            "zerolinecolor": "white"
           },
           "zaxis": {
            "backgroundcolor": "#E5ECF6",
            "gridcolor": "white",
            "gridwidth": 2,
            "linecolor": "white",
            "showbackground": true,
            "ticks": "",
            "zerolinecolor": "white"
           }
          },
          "shapedefaults": {
           "line": {
            "color": "#2a3f5f"
           }
          },
          "ternary": {
           "aaxis": {
            "gridcolor": "white",
            "linecolor": "white",
            "ticks": ""
           },
           "baxis": {
            "gridcolor": "white",
            "linecolor": "white",
            "ticks": ""
           },
           "bgcolor": "#E5ECF6",
           "caxis": {
            "gridcolor": "white",
            "linecolor": "white",
            "ticks": ""
           }
          },
          "title": {
           "x": 0.05
          },
          "xaxis": {
           "automargin": true,
           "gridcolor": "white",
           "linecolor": "white",
           "ticks": "",
           "title": {
            "standoff": 15
           },
           "zerolinecolor": "white",
           "zerolinewidth": 2
          },
          "yaxis": {
           "automargin": true,
           "gridcolor": "white",
           "linecolor": "white",
           "ticks": "",
           "title": {
            "standoff": 15
           },
           "zerolinecolor": "white",
           "zerolinewidth": 2
          }
         }
        },
        "title": {
         "text": "$\\operatorname{GITMT_{n}}(lon[deg],lat[deg])[K] = \\operatorname{GITMT_{n}}(time[hr],lon[deg],lat[deg],height[km])[K] = \\lambda{\\left(time,lon,lat,height \\right)}, time = 12.0,height = 300.0$"
        },
        "width": 700,
        "xaxis": {
         "title": {
          "text": "$ lon  [deg]$"
         }
        },
        "yaxis": {
         "title": {
          "text": "$ lat  [deg]$"
         }
        }
       }
      }
     },
     "metadata": {},
     "output_type": "display_data"
    }
   ],
   "source": [
    "# Now look at GITM output\n",
    "fig = kamodo_object.plot('GITMT_n', plot_partial={'GITMT_n': {'time': 12., 'height': 300.}})\n",
    "figMods(fig, ncont=200, colorscale='Viridis', enhanceHover=True)"
   ]
  },
  {
   "cell_type": "code",
   "execution_count": null,
   "id": "2f28fdbf",
   "metadata": {},
   "outputs": [
    {
     "name": "stdout",
     "output_type": "stream",
     "text": [
      "Inverting the pressure level grid. Please wait...done.\n",
      "Inverting the pressure level grid. Please wait...Time slice index 70 (file time 70) added from file 1.\n",
      "Time slice index 71 (file time 71) added from file 1.\n",
      "Time slice index 72 (file time 72) added from file 1.\n",
      "done.\n",
      "Time slice index 70 (file time 70) added from file 1.\n",
      "Time slice index 71 (file time 71) added from file 1.\n",
      "Time slice index 72 (file time 72) added from file 1.\n"
     ]
    },
    {
     "data": {
      "application/vnd.plotly.v1+json": {
       "config": {
        "plotlyServerURL": "https://plot.ly"
       },
       "data": [
        {
         "meta": "line",
         "name": "CTIPeT_n[K]",
         "type": "scatter",
         "x": [
          -180,
          -162,
          -144,
          -126,
          -108,
          -90,
          -72,
          -54,
          -36,
          -18,
          0,
          18,
          36,
          54,
          72,
          90,
          108,
          126,
          144,
          162,
          180
         ],
         "y": [
          648.2971299097971,
          631.4524754471353,
          610.5004303563657,
          590.0452294053964,
          578.0017389123873,
          585.5141085034676,
          614.8307352104287,
          653.5268820459962,
          690.956850566666,
          725.0267888363605,
          755.4990794687798,
          780.8372661409101,
          796.8617224856911,
          798.1107475560267,
          779.2034162278674,
          743.4174898174672,
          706.4398585440572,
          681.0925810482845,
          667.849332695372,
          659.4373837541829,
          648.2971299097971
         ]
        },
        {
         "meta": "line",
         "name": "GITMT_n[K]",
         "type": "scatter",
         "x": [
          -180,
          -177.5,
          -172.5,
          -167.5,
          -162.5,
          -157.5,
          -152.5,
          -147.5,
          -142.5,
          -137.5,
          -132.5,
          -127.5,
          -122.5,
          -117.5,
          -112.5,
          -107.5,
          -102.5,
          -97.5,
          -92.5,
          -87.5,
          -82.5,
          -77.5,
          -72.5,
          -67.5,
          -62.5,
          -57.5,
          -52.5,
          -47.5,
          -42.5,
          -37.5,
          -32.5,
          -27.5,
          -22.5,
          -17.5,
          -12.5,
          -7.5,
          -2.5,
          2.5,
          7.5,
          12.5,
          17.5,
          22.5,
          27.5,
          32.5,
          37.5,
          42.5,
          47.5,
          52.5,
          57.5,
          62.5,
          67.5,
          72.5,
          77.5,
          82.5,
          87.5,
          92.5,
          97.5,
          102.5,
          107.5,
          112.5,
          117.5,
          122.5,
          127.5,
          132.5,
          137.5,
          142.5,
          147.5,
          152.5,
          157.5,
          162.5,
          167.5,
          172.5,
          177.5,
          180
         ],
         "y": [
          912.5671002020647,
          905.6266057061317,
          890.9874115322689,
          875.8744553169814,
          860.4395470185323,
          845.1052416749411,
          830.364854948055,
          816.3505635576914,
          803.2498053386603,
          791.6216895382732,
          782.4739603092983,
          776.2273593058609,
          774.6857974041038,
          778.3241718738549,
          789.1082132573229,
          804.9796881866615,
          821.3885957076682,
          835.3743507876703,
          846.6254473302047,
          857.1237831622445,
          869.981598899527,
          886.5516969276005,
          904.9614258133369,
          923.6436451612763,
          941.8292182351232,
          959.130883834581,
          976.2637408736441,
          992.1235588571795,
          1007.2527854252979,
          1023.8454758690855,
          1041.288943681994,
          1058.9736149375562,
          1076.8630543774389,
          1094.6517373507754,
          1111.6491271894567,
          1128.0634191117103,
          1144.0533889603885,
          1159.6331324074467,
          1174.544132810468,
          1188.633614206279,
          1201.8894155975606,
          1214.198274090071,
          1225.0318452772585,
          1233.5753580964088,
          1239.0320957030522,
          1241.2731137000171,
          1239.6958950277624,
          1233.9691849377946,
          1224.6119512441194,
          1211.5870394014757,
          1194.5424678634236,
          1173.1131490316238,
          1146.9929817506,
          1115.48974389028,
          1078.6996201958852,
          1040.1937677447622,
          1003.7692165200152,
          970.8101911764571,
          943.3472762731309,
          922.2638754351674,
          912.4193151196896,
          915.2112292250099,
          929.2724122361053,
          944.5332214911257,
          954.7975830574154,
          960.2611706396262,
          962.105202427472,
          960.9106057637932,
          957.6471728982866,
          951.5469688280211,
          942.8821380174522,
          932.0763015319989,
          919.5075946075619,
          912.5671002020647
         ]
        },
        {
         "meta": "line",
         "name": "WACCMXT[K]",
         "type": "scatter",
         "x": [
          -180,
          -178.75,
          -177.5,
          -176.25,
          -175,
          -173.75,
          -172.5,
          -171.25,
          -170,
          -168.75,
          -167.5,
          -166.25,
          -165,
          -163.75,
          -162.5,
          -161.25,
          -160,
          -158.75,
          -157.5,
          -156.25,
          -155,
          -153.75,
          -152.5,
          -151.25,
          -150,
          -148.75,
          -147.5,
          -146.25,
          -145,
          -143.75,
          -142.5,
          -141.25,
          -140,
          -138.75,
          -137.5,
          -136.25,
          -135,
          -133.75,
          -132.5,
          -131.25,
          -130,
          -128.75,
          -127.5,
          -126.25,
          -125,
          -123.75,
          -122.5,
          -121.25,
          -120,
          -118.75,
          -117.5,
          -116.25,
          -115,
          -113.75,
          -112.5,
          -111.25,
          -110,
          -108.75,
          -107.5,
          -106.25,
          -105,
          -103.75,
          -102.5,
          -101.25,
          -100,
          -98.75,
          -97.5,
          -96.25,
          -95,
          -93.75,
          -92.5,
          -91.25,
          -90,
          -88.75,
          -87.5,
          -86.25,
          -85,
          -83.75,
          -82.5,
          -81.25,
          -80,
          -78.75,
          -77.5,
          -76.25,
          -75,
          -73.75,
          -72.5,
          -71.25,
          -70,
          -68.75,
          -67.5,
          -66.25,
          -65,
          -63.75,
          -62.5,
          -61.25,
          -60,
          -58.75,
          -57.5,
          -56.25,
          -55,
          -53.75,
          -52.5,
          -51.25,
          -50,
          -48.75,
          -47.5,
          -46.25,
          -45,
          -43.75,
          -42.5,
          -41.25,
          -40,
          -38.75,
          -37.5,
          -36.25,
          -35,
          -33.75,
          -32.5,
          -31.25,
          -30,
          -28.75,
          -27.5,
          -26.25,
          -25,
          -23.75,
          -22.5,
          -21.25,
          -20,
          -18.75,
          -17.5,
          -16.25,
          -15,
          -13.75,
          -12.5,
          -11.25,
          -10,
          -8.75,
          -7.5,
          -6.25,
          -5,
          -3.75,
          -2.5,
          -1.25,
          0,
          1.25,
          2.5,
          3.75,
          5,
          6.25,
          7.5,
          8.75,
          10,
          11.25,
          12.5,
          13.75,
          15,
          16.25,
          17.5,
          18.75,
          20,
          21.25,
          22.5,
          23.75,
          25,
          26.25,
          27.5,
          28.75,
          30,
          31.25,
          32.5,
          33.75,
          35,
          36.25,
          37.5,
          38.75,
          40,
          41.25,
          42.5,
          43.75,
          45,
          46.25,
          47.5,
          48.75,
          50,
          51.25,
          52.5,
          53.75,
          55,
          56.25,
          57.5,
          58.75,
          60,
          61.25,
          62.5,
          63.75,
          65,
          66.25,
          67.5,
          68.75,
          70,
          71.25,
          72.5,
          73.75,
          75,
          76.25,
          77.5,
          78.75,
          80,
          81.25,
          82.5,
          83.75,
          85,
          86.25,
          87.5,
          88.75,
          90,
          91.25,
          92.5,
          93.75,
          95,
          96.25,
          97.5,
          98.75,
          100,
          101.25,
          102.5,
          103.75,
          105,
          106.25,
          107.5,
          108.75,
          110,
          111.25,
          112.5,
          113.75,
          115,
          116.25,
          117.5,
          118.75,
          120,
          121.25,
          122.5,
          123.75,
          125,
          126.25,
          127.5,
          128.75,
          130,
          131.25,
          132.5,
          133.75,
          135,
          136.25,
          137.5,
          138.75,
          140,
          141.25,
          142.5,
          143.75,
          145,
          146.25,
          147.5,
          148.75,
          150,
          151.25,
          152.5,
          153.75,
          155,
          156.25,
          157.5,
          158.75,
          160,
          161.25,
          162.5,
          163.75,
          165,
          166.25,
          167.5,
          168.75,
          170,
          171.25,
          172.5,
          173.75,
          175,
          176.25,
          177.5,
          178.75,
          180
         ],
         "y": [
          739.309133779822,
          738.0306807121852,
          737.6858228888983,
          738.1682256697655,
          739.3816653069468,
          741.0317348031563,
          742.7426707936046,
          744.3177819791485,
          745.4970407690823,
          746.2389167323313,
          746.5266224453937,
          746.5270683097422,
          746.402063212295,
          746.1678832896564,
          745.7055116205719,
          744.7598159687117,
          743.6522933334994,
          742.680824060759,
          742.8966975257362,
          743.9347747174753,
          745.5819233131265,
          746.6812603839561,
          747.1292667449729,
          746.6847655931987,
          746.0987975092039,
          745.541889837114,
          745.2760176370317,
          745.613118861731,
          746.5010746909496,
          748.1142487168794,
          750.2861650194731,
          752.7432927989664,
          754.926591952042,
          756.6432973679332,
          757.8674677258206,
          758.6071524215445,
          759.1187583660895,
          759.5698254266154,
          760.3336843616155,
          761.6907551363321,
          763.4303541057677,
          764.8417473037813,
          765.4715500060323,
          765.3810596399861,
          765.3089253704117,
          765.3507155965606,
          765.1700232746327,
          764.5904100910512,
          763.9482219283353,
          763.4609614584219,
          762.9941891862048,
          762.148239709241,
          760.9293976556312,
          759.6993726191224,
          758.7639872239887,
          758.2683432763325,
          758.1993431577216,
          758.1007676714443,
          757.616591478396,
          756.6086706726568,
          755.1734020651122,
          753.6917902145917,
          752.3926825878151,
          751.1258622318544,
          749.8444137909117,
          748.6959256239188,
          748.1567135504215,
          747.884817611614,
          747.387933763367,
          746.2115732968957,
          744.5900982562995,
          742.9849443358959,
          741.8582648798873,
          741.2491798074891,
          740.8068594847664,
          740.2231851190273,
          739.3073905079185,
          738.0558273040549,
          736.5256180702502,
          734.837931763029,
          733.2721802014096,
          732.192317851618,
          731.7982505624731,
          732.2212671157343,
          733.5011694780803,
          735.3773990651725,
          737.8204556207379,
          740.4200896078567,
          743.0298553015125,
          745.6314047662913,
          748.2134756969277,
          750.3860321765586,
          751.9855954674789,
          752.866892800358,
          753.6952838161367,
          754.7545426512936,
          756.3351216807205,
          758.6242807693565,
          761.909712181393,
          766.5601199342101,
          772.5738013294459,
          779.4581107960764,
          786.1851203262831,
          792.0855538141145,
          796.6165417417833,
          799.9741303888493,
          802.5965795992934,
          804.9564168532661,
          807.4692426114592,
          810.2825036865833,
          813.3980378000231,
          816.8201153996889,
          820.3803799261043,
          824.0968495868086,
          827.9376705688862,
          831.7812200444107,
          835.6358317803191,
          839.380076002891,
          842.9813739992384,
          846.3432077368802,
          849.460382851395,
          852.1719103267563,
          854.4164935261941,
          855.9865639945982,
          857.0038550315369,
          857.2327793351325,
          856.978637904776,
          855.6123316603231,
          853.9809829677511,
          852.5830234243233,
          851.9425839998386,
          852.0352248784044,
          852.83767158811,
          854.5417014270009,
          856.8207796017726,
          859.6652466875723,
          862.7913936666099,
          865.8705654198254,
          868.8780218512703,
          872.1773460202529,
          875.5816287251153,
          878.5616644231613,
          880.7661438955173,
          882.3168066571341,
          883.8355945656974,
          885.5874508843538,
          887.3710734836098,
          888.8066078046796,
          889.6593828944993,
          890.155151667383,
          890.6074844708721,
          891.4943709734796,
          892.811109718489,
          894.5331457177967,
          896.3554773709135,
          897.9673297964863,
          899.489399169215,
          900.7642776798341,
          902.1562727627174,
          903.6577802577575,
          905.523284492555,
          907.9345173305531,
          911.0391045736956,
          914.678842110304,
          918.3902183571328,
          921.6762413993081,
          924.239544891576,
          926.1952657173248,
          927.8198206656301,
          929.4508569946008,
          931.15023512573,
          932.8125151331484,
          934.2575986627481,
          935.309078079259,
          935.931952770866,
          936.0851788581253,
          935.9523614112616,
          935.7040586477149,
          935.597179917568,
          935.686613225628,
          936.0685429400387,
          936.5944900339448,
          937.2154491159248,
          937.8025907595825,
          938.1461656033201,
          938.16161145661,
          937.870508769107,
          937.1752126040739,
          936.1846567699156,
          934.8668927463655,
          933.304566466576,
          931.5754668686852,
          929.697886941608,
          927.6159143044692,
          925.3022890850195,
          922.8401777966003,
          920.2560190397755,
          917.6827015650696,
          915.3192747424939,
          913.2954172690518,
          911.7177377659859,
          910.6068589625415,
          909.8184653321703,
          909.1500281252014,
          908.2598984732971,
          906.9077092203097,
          904.8529158080203,
          902.0331476689995,
          898.5006589551325,
          894.4523407890143,
          890.122522270589,
          885.6825432508659,
          881.384878063382,
          877.4724228120484,
          874.0850509162614,
          871.3487649021922,
          869.2442038916088,
          867.9161386913303,
          867.4217074516068,
          867.8311301004808,
          869.0265597165926,
          870.5595918115811,
          872.0051122447752,
          872.9920754377486,
          873.3716541693703,
          873.0429887130111,
          872.0284617733658,
          870.1697840722137,
          867.2857371251952,
          863.5582197613118,
          859.0044573361414,
          853.7189749819805,
          847.9616530225732,
          841.9765867060662,
          836.0521773539414,
          830.4232086619104,
          825.222287378801,
          820.3760242256286,
          815.8569683459261,
          811.3972536644751,
          807.1805299739536,
          803.065822772861,
          799.0653785948576,
          795.1699937696367,
          791.2817105592736,
          787.1157892577104,
          782.7250142179041,
          777.9603766345863,
          773.0203407213025,
          768.23541603258,
          763.8238469631785,
          760.1088764332758,
          757.3270955352932,
          755.7707823216591,
          755.3710759726009,
          755.7139717362304,
          756.3271726897657,
          756.6577376486673,
          756.8322861426077,
          757.1939003410461,
          757.9283919727495,
          759.031910973232,
          760.3989013469666,
          761.6722577403084,
          762.5520185991445,
          762.9270944244851,
          763.0684481064399,
          763.4346684050919,
          764.4387233832942,
          766.2236231906103,
          768.6097190783869,
          771.0571567126848,
          773.1044601459888,
          774.4504350753365,
          774.971458233442,
          774.4895457668288,
          773.0641596042186,
          770.8497706841036,
          768.2066399008293,
          765.3055004058559,
          762.4214723449442,
          759.451161668719,
          756.4337102294998,
          753.3425209243146,
          750.1597555610941,
          746.9905486094117,
          743.9951329553431,
          741.3648324922038,
          739.309133779822
         ]
        }
       ],
       "layout": {
        "autosize": false,
        "height": 400,
        "margin": {
         "b": 32,
         "pad": 0,
         "r": 30,
         "t": 40
        },
        "template": {
         "data": {
          "bar": [
           {
            "error_x": {
             "color": "#2a3f5f"
            },
            "error_y": {
             "color": "#2a3f5f"
            },
            "marker": {
             "line": {
              "color": "#E5ECF6",
              "width": 0.5
             },
             "pattern": {
              "fillmode": "overlay",
              "size": 10,
              "solidity": 0.2
             }
            },
            "type": "bar"
           }
          ],
          "barpolar": [
           {
            "marker": {
             "line": {
              "color": "#E5ECF6",
              "width": 0.5
             },
             "pattern": {
              "fillmode": "overlay",
              "size": 10,
              "solidity": 0.2
             }
            },
            "type": "barpolar"
           }
          ],
          "carpet": [
           {
            "aaxis": {
             "endlinecolor": "#2a3f5f",
             "gridcolor": "white",
             "linecolor": "white",
             "minorgridcolor": "white",
             "startlinecolor": "#2a3f5f"
            },
            "baxis": {
             "endlinecolor": "#2a3f5f",
             "gridcolor": "white",
             "linecolor": "white",
             "minorgridcolor": "white",
             "startlinecolor": "#2a3f5f"
            },
            "type": "carpet"
           }
          ],
          "choropleth": [
           {
            "colorbar": {
             "outlinewidth": 0,
             "ticks": ""
            },
            "type": "choropleth"
           }
          ],
          "contour": [
           {
            "colorbar": {
             "outlinewidth": 0,
             "ticks": ""
            },
            "colorscale": [
             [
              0,
              "#0d0887"
             ],
             [
              0.1111111111111111,
              "#46039f"
             ],
             [
              0.2222222222222222,
              "#7201a8"
             ],
             [
              0.3333333333333333,
              "#9c179e"
             ],
             [
              0.4444444444444444,
              "#bd3786"
             ],
             [
              0.5555555555555556,
              "#d8576b"
             ],
             [
              0.6666666666666666,
              "#ed7953"
             ],
             [
              0.7777777777777778,
              "#fb9f3a"
             ],
             [
              0.8888888888888888,
              "#fdca26"
             ],
             [
              1,
              "#f0f921"
             ]
            ],
            "type": "contour"
           }
          ],
          "contourcarpet": [
           {
            "colorbar": {
             "outlinewidth": 0,
             "ticks": ""
            },
            "type": "contourcarpet"
           }
          ],
          "heatmap": [
           {
            "colorbar": {
             "outlinewidth": 0,
             "ticks": ""
            },
            "colorscale": [
             [
              0,
              "#0d0887"
             ],
             [
              0.1111111111111111,
              "#46039f"
             ],
             [
              0.2222222222222222,
              "#7201a8"
             ],
             [
              0.3333333333333333,
              "#9c179e"
             ],
             [
              0.4444444444444444,
              "#bd3786"
             ],
             [
              0.5555555555555556,
              "#d8576b"
             ],
             [
              0.6666666666666666,
              "#ed7953"
             ],
             [
              0.7777777777777778,
              "#fb9f3a"
             ],
             [
              0.8888888888888888,
              "#fdca26"
             ],
             [
              1,
              "#f0f921"
             ]
            ],
            "type": "heatmap"
           }
          ],
          "heatmapgl": [
           {
            "colorbar": {
             "outlinewidth": 0,
             "ticks": ""
            },
            "colorscale": [
             [
              0,
              "#0d0887"
             ],
             [
              0.1111111111111111,
              "#46039f"
             ],
             [
              0.2222222222222222,
              "#7201a8"
             ],
             [
              0.3333333333333333,
              "#9c179e"
             ],
             [
              0.4444444444444444,
              "#bd3786"
             ],
             [
              0.5555555555555556,
              "#d8576b"
             ],
             [
              0.6666666666666666,
              "#ed7953"
             ],
             [
              0.7777777777777778,
              "#fb9f3a"
             ],
             [
              0.8888888888888888,
              "#fdca26"
             ],
             [
              1,
              "#f0f921"
             ]
            ],
            "type": "heatmapgl"
           }
          ],
          "histogram": [
           {
            "marker": {
             "pattern": {
              "fillmode": "overlay",
              "size": 10,
              "solidity": 0.2
             }
            },
            "type": "histogram"
           }
          ],
          "histogram2d": [
           {
            "colorbar": {
             "outlinewidth": 0,
             "ticks": ""
            },
            "colorscale": [
             [
              0,
              "#0d0887"
             ],
             [
              0.1111111111111111,
              "#46039f"
             ],
             [
              0.2222222222222222,
              "#7201a8"
             ],
             [
              0.3333333333333333,
              "#9c179e"
             ],
             [
              0.4444444444444444,
              "#bd3786"
             ],
             [
              0.5555555555555556,
              "#d8576b"
             ],
             [
              0.6666666666666666,
              "#ed7953"
             ],
             [
              0.7777777777777778,
              "#fb9f3a"
             ],
             [
              0.8888888888888888,
              "#fdca26"
             ],
             [
              1,
              "#f0f921"
             ]
            ],
            "type": "histogram2d"
           }
          ],
          "histogram2dcontour": [
           {
            "colorbar": {
             "outlinewidth": 0,
             "ticks": ""
            },
            "colorscale": [
             [
              0,
              "#0d0887"
             ],
             [
              0.1111111111111111,
              "#46039f"
             ],
             [
              0.2222222222222222,
              "#7201a8"
             ],
             [
              0.3333333333333333,
              "#9c179e"
             ],
             [
              0.4444444444444444,
              "#bd3786"
             ],
             [
              0.5555555555555556,
              "#d8576b"
             ],
             [
              0.6666666666666666,
              "#ed7953"
             ],
             [
              0.7777777777777778,
              "#fb9f3a"
             ],
             [
              0.8888888888888888,
              "#fdca26"
             ],
             [
              1,
              "#f0f921"
             ]
            ],
            "type": "histogram2dcontour"
           }
          ],
          "mesh3d": [
           {
            "colorbar": {
             "outlinewidth": 0,
             "ticks": ""
            },
            "type": "mesh3d"
           }
          ],
          "parcoords": [
           {
            "line": {
             "colorbar": {
              "outlinewidth": 0,
              "ticks": ""
             }
            },
            "type": "parcoords"
           }
          ],
          "pie": [
           {
            "automargin": true,
            "type": "pie"
           }
          ],
          "scatter": [
           {
            "fillpattern": {
             "fillmode": "overlay",
             "size": 10,
             "solidity": 0.2
            },
            "type": "scatter"
           }
          ],
          "scatter3d": [
           {
            "line": {
             "colorbar": {
              "outlinewidth": 0,
              "ticks": ""
             }
            },
            "marker": {
             "colorbar": {
              "outlinewidth": 0,
              "ticks": ""
             }
            },
            "type": "scatter3d"
           }
          ],
          "scattercarpet": [
           {
            "marker": {
             "colorbar": {
              "outlinewidth": 0,
              "ticks": ""
             }
            },
            "type": "scattercarpet"
           }
          ],
          "scattergeo": [
           {
            "marker": {
             "colorbar": {
              "outlinewidth": 0,
              "ticks": ""
             }
            },
            "type": "scattergeo"
           }
          ],
          "scattergl": [
           {
            "marker": {
             "colorbar": {
              "outlinewidth": 0,
              "ticks": ""
             }
            },
            "type": "scattergl"
           }
          ],
          "scattermapbox": [
           {
            "marker": {
             "colorbar": {
              "outlinewidth": 0,
              "ticks": ""
             }
            },
            "type": "scattermapbox"
           }
          ],
          "scatterpolar": [
           {
            "marker": {
             "colorbar": {
              "outlinewidth": 0,
              "ticks": ""
             }
            },
            "type": "scatterpolar"
           }
          ],
          "scatterpolargl": [
           {
            "marker": {
             "colorbar": {
              "outlinewidth": 0,
              "ticks": ""
             }
            },
            "type": "scatterpolargl"
           }
          ],
          "scatterternary": [
           {
            "marker": {
             "colorbar": {
              "outlinewidth": 0,
              "ticks": ""
             }
            },
            "type": "scatterternary"
           }
          ],
          "surface": [
           {
            "colorbar": {
             "outlinewidth": 0,
             "ticks": ""
            },
            "colorscale": [
             [
              0,
              "#0d0887"
             ],
             [
              0.1111111111111111,
              "#46039f"
             ],
             [
              0.2222222222222222,
              "#7201a8"
             ],
             [
              0.3333333333333333,
              "#9c179e"
             ],
             [
              0.4444444444444444,
              "#bd3786"
             ],
             [
              0.5555555555555556,
              "#d8576b"
             ],
             [
              0.6666666666666666,
              "#ed7953"
             ],
             [
              0.7777777777777778,
              "#fb9f3a"
             ],
             [
              0.8888888888888888,
              "#fdca26"
             ],
             [
              1,
              "#f0f921"
             ]
            ],
            "type": "surface"
           }
          ],
          "table": [
           {
            "cells": {
             "fill": {
              "color": "#EBF0F8"
             },
             "line": {
              "color": "white"
             }
            },
            "header": {
             "fill": {
              "color": "#C8D4E3"
             },
             "line": {
              "color": "white"
             }
            },
            "type": "table"
           }
          ]
         },
         "layout": {
          "annotationdefaults": {
           "arrowcolor": "#2a3f5f",
           "arrowhead": 0,
           "arrowwidth": 1
          },
          "autotypenumbers": "strict",
          "coloraxis": {
           "colorbar": {
            "outlinewidth": 0,
            "ticks": ""
           }
          },
          "colorscale": {
           "diverging": [
            [
             0,
             "#8e0152"
            ],
            [
             0.1,
             "#c51b7d"
            ],
            [
             0.2,
             "#de77ae"
            ],
            [
             0.3,
             "#f1b6da"
            ],
            [
             0.4,
             "#fde0ef"
            ],
            [
             0.5,
             "#f7f7f7"
            ],
            [
             0.6,
             "#e6f5d0"
            ],
            [
             0.7,
             "#b8e186"
            ],
            [
             0.8,
             "#7fbc41"
            ],
            [
             0.9,
             "#4d9221"
            ],
            [
             1,
             "#276419"
            ]
           ],
           "sequential": [
            [
             0,
             "#0d0887"
            ],
            [
             0.1111111111111111,
             "#46039f"
            ],
            [
             0.2222222222222222,
             "#7201a8"
            ],
            [
             0.3333333333333333,
             "#9c179e"
            ],
            [
             0.4444444444444444,
             "#bd3786"
            ],
            [
             0.5555555555555556,
             "#d8576b"
            ],
            [
             0.6666666666666666,
             "#ed7953"
            ],
            [
             0.7777777777777778,
             "#fb9f3a"
            ],
            [
             0.8888888888888888,
             "#fdca26"
            ],
            [
             1,
             "#f0f921"
            ]
           ],
           "sequentialminus": [
            [
             0,
             "#0d0887"
            ],
            [
             0.1111111111111111,
             "#46039f"
            ],
            [
             0.2222222222222222,
             "#7201a8"
            ],
            [
             0.3333333333333333,
             "#9c179e"
            ],
            [
             0.4444444444444444,
             "#bd3786"
            ],
            [
             0.5555555555555556,
             "#d8576b"
            ],
            [
             0.6666666666666666,
             "#ed7953"
            ],
            [
             0.7777777777777778,
             "#fb9f3a"
            ],
            [
             0.8888888888888888,
             "#fdca26"
            ],
            [
             1,
             "#f0f921"
            ]
           ]
          },
          "colorway": [
           "#636efa",
           "#EF553B",
           "#00cc96",
           "#ab63fa",
           "#FFA15A",
           "#19d3f3",
           "#FF6692",
           "#B6E880",
           "#FF97FF",
           "#FECB52"
          ],
          "font": {
           "color": "#2a3f5f"
          },
          "geo": {
           "bgcolor": "white",
           "lakecolor": "white",
           "landcolor": "#E5ECF6",
           "showlakes": true,
           "showland": true,
           "subunitcolor": "white"
          },
          "hoverlabel": {
           "align": "left"
          },
          "hovermode": "closest",
          "mapbox": {
           "style": "light"
          },
          "paper_bgcolor": "white",
          "plot_bgcolor": "#E5ECF6",
          "polar": {
           "angularaxis": {
            "gridcolor": "white",
            "linecolor": "white",
            "ticks": ""
           },
           "bgcolor": "#E5ECF6",
           "radialaxis": {
            "gridcolor": "white",
            "linecolor": "white",
            "ticks": ""
           }
          },
          "scene": {
           "xaxis": {
            "backgroundcolor": "#E5ECF6",
            "gridcolor": "white",
            "gridwidth": 2,
            "linecolor": "white",
            "showbackground": true,
            "ticks": "",
            "zerolinecolor": "white"
           },
           "yaxis": {
            "backgroundcolor": "#E5ECF6",
            "gridcolor": "white",
            "gridwidth": 2,
            "linecolor": "white",
            "showbackground": true,
            "ticks": "",
            "zerolinecolor": "white"
           },
           "zaxis": {
            "backgroundcolor": "#E5ECF6",
            "gridcolor": "white",
            "gridwidth": 2,
            "linecolor": "white",
            "showbackground": true,
            "ticks": "",
            "zerolinecolor": "white"
           }
          },
          "shapedefaults": {
           "line": {
            "color": "#2a3f5f"
           }
          },
          "ternary": {
           "aaxis": {
            "gridcolor": "white",
            "linecolor": "white",
            "ticks": ""
           },
           "baxis": {
            "gridcolor": "white",
            "linecolor": "white",
            "ticks": ""
           },
           "bgcolor": "#E5ECF6",
           "caxis": {
            "gridcolor": "white",
            "linecolor": "white",
            "ticks": ""
           }
          },
          "title": {
           "x": 0.05
          },
          "xaxis": {
           "automargin": true,
           "gridcolor": "white",
           "linecolor": "white",
           "ticks": "",
           "title": {
            "standoff": 15
           },
           "zerolinecolor": "white",
           "zerolinewidth": 2
          },
          "yaxis": {
           "automargin": true,
           "gridcolor": "white",
           "linecolor": "white",
           "ticks": "",
           "title": {
            "standoff": 15
           },
           "zerolinecolor": "white",
           "zerolinewidth": 2
          }
         }
        },
        "title": {
         "text": "$\\operatorname{WACCMXT}(lon[deg])[K] = \\operatorname{WACCMXT}(time[hr],lon[deg],lat[deg],height[km])[K] = \\lambda{\\left(time,lon,lat,height \\right)}, time = 12.0,lat = 25.0,height = 300.0$"
        },
        "width": 700,
        "xaxis": {
         "title": {
          "text": "$lon [d]$"
         }
        },
        "yaxis": {
         "title": {
          "text": "$WACCMXT [K]$"
         }
        }
       }
      }
     },
     "metadata": {},
     "output_type": "display_data"
    }
   ],
   "source": [
    "# Directly compare corresponding slices.\n",
    "# Note the time resolutions are different, but Kamodo automatically interpolates\n",
    "# to the finer resolution. Also note that the function composition analysis does NOT compensate for\n",
    "# differences in the data start days. The user must ensure these are the same by retrieving\n",
    "# any missing data or removing extra data. The datasets can end on different days/times and start \n",
    "# at different times BUT must start on the same day for this specific analysis.\n",
    "\n",
    "kamodo_object.plot('CTIPeT_n', 'GITMT_n', 'WACCMXT',\n",
    "                   plot_partial={'CTIPeT_n': {'time': 12., 'lat': 25., 'height': 300.},\n",
    "                                'GITMT_n': {'time': 12., 'lat': 25., 'height': 300.},\n",
    "                                'WACCMXT': {'time': 12., 'lat': 25., 'height': 300.}})"
   ]
  },
  {
   "cell_type": "code",
   "execution_count": null,
   "id": "045e2263",
   "metadata": {},
   "outputs": [
    {
     "name": "stdout",
     "output_type": "stream",
     "text": [
      "Inverting the pressure level grid. Please wait...done.\n"
     ]
    },
    {
     "data": {
      "text/plain": [
       "array([739.09641259])"
      ]
     },
     "execution_count": null,
     "metadata": {},
     "output_type": "execute_result"
    }
   ],
   "source": [
    "# Demostrate syntax to access the regular interpolator.\n",
    "# Best for single point calculations.\n",
    "kamodo_object_ctipe.T_n([12., -20, 20, 350])"
   ]
  },
  {
   "cell_type": "code",
   "execution_count": null,
   "id": "caca63c7",
   "metadata": {},
   "outputs": [
    {
     "name": "stdout",
     "output_type": "stream",
     "text": [
      "Inverting the pressure level grid. Please wait...done.\n"
     ]
    },
    {
     "data": {
      "text/plain": [
       "array(739.09641259)"
      ]
     },
     "execution_count": null,
     "metadata": {},
     "output_type": "execute_result"
    }
   ],
   "source": [
    "# Demostrate syntax to access the gridded interpolator.\n",
    "# Best for slice calculations.\n",
    "kamodo_object_ctipe.T_n_ijk(time=12, lon=-20, lat=20, height=350)"
   ]
  },
  {
   "cell_type": "code",
   "execution_count": null,
   "id": "56040cd5",
   "metadata": {},
   "outputs": [
    {
     "name": "stdout",
     "output_type": "stream",
     "text": [
      "Inverting the pressure level grid. Please wait...done.\n"
     ]
    },
    {
     "data": {
      "text/plain": [
       "array(14.80866063)"
      ]
     },
     "execution_count": null,
     "metadata": {},
     "output_type": "execute_result"
    }
   ],
   "source": [
    "# At what pressure level does a given height correspond to in the CTIPe data?\n",
    "# The answer depends on the time, longitude, and latitude.\n",
    "kamodo_object_ctipe.Plev_ijk(time=12, lon=-20, lat=20, height=350)"
   ]
  },
  {
   "cell_type": "code",
   "execution_count": null,
   "id": "5c76cfcc",
   "metadata": {},
   "outputs": [
    {
     "name": "stdout",
     "output_type": "stream",
     "text": [
      "Inverting the pressure level grid. Please wait...done.\n"
     ]
    },
    {
     "data": {
      "application/vnd.plotly.v1+json": {
       "config": {
        "plotlyServerURL": "https://plot.ly"
       },
       "data": [
        {
         "meta": "line",
         "name": "Plev_ijk[m/m]",
         "type": "scatter",
         "x": [
          -180,
          -162,
          -144,
          -126,
          -108,
          -90,
          -72,
          -54,
          -36,
          -18,
          0,
          18,
          36,
          54,
          72,
          90,
          108,
          126,
          144,
          162,
          180
         ],
         "y": [
          14.06133845708439,
          14.09873240449782,
          14.174546269742418,
          14.260875327518411,
          14.300428246260463,
          14.253110190138134,
          14.082826852289804,
          13.882832044413474,
          13.689354049367672,
          13.517790450649715,
          13.395505517207253,
          13.309161881789631,
          13.272202796944544,
          13.28493709471489,
          13.3923039334147,
          13.589838394815754,
          13.798897901853692,
          13.935696658309308,
          14.011400576246016,
          14.039981505032456,
          14.06133845708439
         ]
        }
       ],
       "layout": {
        "autosize": false,
        "height": 400,
        "margin": {
         "b": 32,
         "pad": 0,
         "r": 30,
         "t": 40
        },
        "template": {
         "data": {
          "bar": [
           {
            "error_x": {
             "color": "#2a3f5f"
            },
            "error_y": {
             "color": "#2a3f5f"
            },
            "marker": {
             "line": {
              "color": "#E5ECF6",
              "width": 0.5
             },
             "pattern": {
              "fillmode": "overlay",
              "size": 10,
              "solidity": 0.2
             }
            },
            "type": "bar"
           }
          ],
          "barpolar": [
           {
            "marker": {
             "line": {
              "color": "#E5ECF6",
              "width": 0.5
             },
             "pattern": {
              "fillmode": "overlay",
              "size": 10,
              "solidity": 0.2
             }
            },
            "type": "barpolar"
           }
          ],
          "carpet": [
           {
            "aaxis": {
             "endlinecolor": "#2a3f5f",
             "gridcolor": "white",
             "linecolor": "white",
             "minorgridcolor": "white",
             "startlinecolor": "#2a3f5f"
            },
            "baxis": {
             "endlinecolor": "#2a3f5f",
             "gridcolor": "white",
             "linecolor": "white",
             "minorgridcolor": "white",
             "startlinecolor": "#2a3f5f"
            },
            "type": "carpet"
           }
          ],
          "choropleth": [
           {
            "colorbar": {
             "outlinewidth": 0,
             "ticks": ""
            },
            "type": "choropleth"
           }
          ],
          "contour": [
           {
            "colorbar": {
             "outlinewidth": 0,
             "ticks": ""
            },
            "colorscale": [
             [
              0,
              "#0d0887"
             ],
             [
              0.1111111111111111,
              "#46039f"
             ],
             [
              0.2222222222222222,
              "#7201a8"
             ],
             [
              0.3333333333333333,
              "#9c179e"
             ],
             [
              0.4444444444444444,
              "#bd3786"
             ],
             [
              0.5555555555555556,
              "#d8576b"
             ],
             [
              0.6666666666666666,
              "#ed7953"
             ],
             [
              0.7777777777777778,
              "#fb9f3a"
             ],
             [
              0.8888888888888888,
              "#fdca26"
             ],
             [
              1,
              "#f0f921"
             ]
            ],
            "type": "contour"
           }
          ],
          "contourcarpet": [
           {
            "colorbar": {
             "outlinewidth": 0,
             "ticks": ""
            },
            "type": "contourcarpet"
           }
          ],
          "heatmap": [
           {
            "colorbar": {
             "outlinewidth": 0,
             "ticks": ""
            },
            "colorscale": [
             [
              0,
              "#0d0887"
             ],
             [
              0.1111111111111111,
              "#46039f"
             ],
             [
              0.2222222222222222,
              "#7201a8"
             ],
             [
              0.3333333333333333,
              "#9c179e"
             ],
             [
              0.4444444444444444,
              "#bd3786"
             ],
             [
              0.5555555555555556,
              "#d8576b"
             ],
             [
              0.6666666666666666,
              "#ed7953"
             ],
             [
              0.7777777777777778,
              "#fb9f3a"
             ],
             [
              0.8888888888888888,
              "#fdca26"
             ],
             [
              1,
              "#f0f921"
             ]
            ],
            "type": "heatmap"
           }
          ],
          "heatmapgl": [
           {
            "colorbar": {
             "outlinewidth": 0,
             "ticks": ""
            },
            "colorscale": [
             [
              0,
              "#0d0887"
             ],
             [
              0.1111111111111111,
              "#46039f"
             ],
             [
              0.2222222222222222,
              "#7201a8"
             ],
             [
              0.3333333333333333,
              "#9c179e"
             ],
             [
              0.4444444444444444,
              "#bd3786"
             ],
             [
              0.5555555555555556,
              "#d8576b"
             ],
             [
              0.6666666666666666,
              "#ed7953"
             ],
             [
              0.7777777777777778,
              "#fb9f3a"
             ],
             [
              0.8888888888888888,
              "#fdca26"
             ],
             [
              1,
              "#f0f921"
             ]
            ],
            "type": "heatmapgl"
           }
          ],
          "histogram": [
           {
            "marker": {
             "pattern": {
              "fillmode": "overlay",
              "size": 10,
              "solidity": 0.2
             }
            },
            "type": "histogram"
           }
          ],
          "histogram2d": [
           {
            "colorbar": {
             "outlinewidth": 0,
             "ticks": ""
            },
            "colorscale": [
             [
              0,
              "#0d0887"
             ],
             [
              0.1111111111111111,
              "#46039f"
             ],
             [
              0.2222222222222222,
              "#7201a8"
             ],
             [
              0.3333333333333333,
              "#9c179e"
             ],
             [
              0.4444444444444444,
              "#bd3786"
             ],
             [
              0.5555555555555556,
              "#d8576b"
             ],
             [
              0.6666666666666666,
              "#ed7953"
             ],
             [
              0.7777777777777778,
              "#fb9f3a"
             ],
             [
              0.8888888888888888,
              "#fdca26"
             ],
             [
              1,
              "#f0f921"
             ]
            ],
            "type": "histogram2d"
           }
          ],
          "histogram2dcontour": [
           {
            "colorbar": {
             "outlinewidth": 0,
             "ticks": ""
            },
            "colorscale": [
             [
              0,
              "#0d0887"
             ],
             [
              0.1111111111111111,
              "#46039f"
             ],
             [
              0.2222222222222222,
              "#7201a8"
             ],
             [
              0.3333333333333333,
              "#9c179e"
             ],
             [
              0.4444444444444444,
              "#bd3786"
             ],
             [
              0.5555555555555556,
              "#d8576b"
             ],
             [
              0.6666666666666666,
              "#ed7953"
             ],
             [
              0.7777777777777778,
              "#fb9f3a"
             ],
             [
              0.8888888888888888,
              "#fdca26"
             ],
             [
              1,
              "#f0f921"
             ]
            ],
            "type": "histogram2dcontour"
           }
          ],
          "mesh3d": [
           {
            "colorbar": {
             "outlinewidth": 0,
             "ticks": ""
            },
            "type": "mesh3d"
           }
          ],
          "parcoords": [
           {
            "line": {
             "colorbar": {
              "outlinewidth": 0,
              "ticks": ""
             }
            },
            "type": "parcoords"
           }
          ],
          "pie": [
           {
            "automargin": true,
            "type": "pie"
           }
          ],
          "scatter": [
           {
            "fillpattern": {
             "fillmode": "overlay",
             "size": 10,
             "solidity": 0.2
            },
            "type": "scatter"
           }
          ],
          "scatter3d": [
           {
            "line": {
             "colorbar": {
              "outlinewidth": 0,
              "ticks": ""
             }
            },
            "marker": {
             "colorbar": {
              "outlinewidth": 0,
              "ticks": ""
             }
            },
            "type": "scatter3d"
           }
          ],
          "scattercarpet": [
           {
            "marker": {
             "colorbar": {
              "outlinewidth": 0,
              "ticks": ""
             }
            },
            "type": "scattercarpet"
           }
          ],
          "scattergeo": [
           {
            "marker": {
             "colorbar": {
              "outlinewidth": 0,
              "ticks": ""
             }
            },
            "type": "scattergeo"
           }
          ],
          "scattergl": [
           {
            "marker": {
             "colorbar": {
              "outlinewidth": 0,
              "ticks": ""
             }
            },
            "type": "scattergl"
           }
          ],
          "scattermapbox": [
           {
            "marker": {
             "colorbar": {
              "outlinewidth": 0,
              "ticks": ""
             }
            },
            "type": "scattermapbox"
           }
          ],
          "scatterpolar": [
           {
            "marker": {
             "colorbar": {
              "outlinewidth": 0,
              "ticks": ""
             }
            },
            "type": "scatterpolar"
           }
          ],
          "scatterpolargl": [
           {
            "marker": {
             "colorbar": {
              "outlinewidth": 0,
              "ticks": ""
             }
            },
            "type": "scatterpolargl"
           }
          ],
          "scatterternary": [
           {
            "marker": {
             "colorbar": {
              "outlinewidth": 0,
              "ticks": ""
             }
            },
            "type": "scatterternary"
           }
          ],
          "surface": [
           {
            "colorbar": {
             "outlinewidth": 0,
             "ticks": ""
            },
            "colorscale": [
             [
              0,
              "#0d0887"
             ],
             [
              0.1111111111111111,
              "#46039f"
             ],
             [
              0.2222222222222222,
              "#7201a8"
             ],
             [
              0.3333333333333333,
              "#9c179e"
             ],
             [
              0.4444444444444444,
              "#bd3786"
             ],
             [
              0.5555555555555556,
              "#d8576b"
             ],
             [
              0.6666666666666666,
              "#ed7953"
             ],
             [
              0.7777777777777778,
              "#fb9f3a"
             ],
             [
              0.8888888888888888,
              "#fdca26"
             ],
             [
              1,
              "#f0f921"
             ]
            ],
            "type": "surface"
           }
          ],
          "table": [
           {
            "cells": {
             "fill": {
              "color": "#EBF0F8"
             },
             "line": {
              "color": "white"
             }
            },
            "header": {
             "fill": {
              "color": "#C8D4E3"
             },
             "line": {
              "color": "white"
             }
            },
            "type": "table"
           }
          ]
         },
         "layout": {
          "annotationdefaults": {
           "arrowcolor": "#2a3f5f",
           "arrowhead": 0,
           "arrowwidth": 1
          },
          "autotypenumbers": "strict",
          "coloraxis": {
           "colorbar": {
            "outlinewidth": 0,
            "ticks": ""
           }
          },
          "colorscale": {
           "diverging": [
            [
             0,
             "#8e0152"
            ],
            [
             0.1,
             "#c51b7d"
            ],
            [
             0.2,
             "#de77ae"
            ],
            [
             0.3,
             "#f1b6da"
            ],
            [
             0.4,
             "#fde0ef"
            ],
            [
             0.5,
             "#f7f7f7"
            ],
            [
             0.6,
             "#e6f5d0"
            ],
            [
             0.7,
             "#b8e186"
            ],
            [
             0.8,
             "#7fbc41"
            ],
            [
             0.9,
             "#4d9221"
            ],
            [
             1,
             "#276419"
            ]
           ],
           "sequential": [
            [
             0,
             "#0d0887"
            ],
            [
             0.1111111111111111,
             "#46039f"
            ],
            [
             0.2222222222222222,
             "#7201a8"
            ],
            [
             0.3333333333333333,
             "#9c179e"
            ],
            [
             0.4444444444444444,
             "#bd3786"
            ],
            [
             0.5555555555555556,
             "#d8576b"
            ],
            [
             0.6666666666666666,
             "#ed7953"
            ],
            [
             0.7777777777777778,
             "#fb9f3a"
            ],
            [
             0.8888888888888888,
             "#fdca26"
            ],
            [
             1,
             "#f0f921"
            ]
           ],
           "sequentialminus": [
            [
             0,
             "#0d0887"
            ],
            [
             0.1111111111111111,
             "#46039f"
            ],
            [
             0.2222222222222222,
             "#7201a8"
            ],
            [
             0.3333333333333333,
             "#9c179e"
            ],
            [
             0.4444444444444444,
             "#bd3786"
            ],
            [
             0.5555555555555556,
             "#d8576b"
            ],
            [
             0.6666666666666666,
             "#ed7953"
            ],
            [
             0.7777777777777778,
             "#fb9f3a"
            ],
            [
             0.8888888888888888,
             "#fdca26"
            ],
            [
             1,
             "#f0f921"
            ]
           ]
          },
          "colorway": [
           "#636efa",
           "#EF553B",
           "#00cc96",
           "#ab63fa",
           "#FFA15A",
           "#19d3f3",
           "#FF6692",
           "#B6E880",
           "#FF97FF",
           "#FECB52"
          ],
          "font": {
           "color": "#2a3f5f"
          },
          "geo": {
           "bgcolor": "white",
           "lakecolor": "white",
           "landcolor": "#E5ECF6",
           "showlakes": true,
           "showland": true,
           "subunitcolor": "white"
          },
          "hoverlabel": {
           "align": "left"
          },
          "hovermode": "closest",
          "mapbox": {
           "style": "light"
          },
          "paper_bgcolor": "white",
          "plot_bgcolor": "#E5ECF6",
          "polar": {
           "angularaxis": {
            "gridcolor": "white",
            "linecolor": "white",
            "ticks": ""
           },
           "bgcolor": "#E5ECF6",
           "radialaxis": {
            "gridcolor": "white",
            "linecolor": "white",
            "ticks": ""
           }
          },
          "scene": {
           "xaxis": {
            "backgroundcolor": "#E5ECF6",
            "gridcolor": "white",
            "gridwidth": 2,
            "linecolor": "white",
            "showbackground": true,
            "ticks": "",
            "zerolinecolor": "white"
           },
           "yaxis": {
            "backgroundcolor": "#E5ECF6",
            "gridcolor": "white",
            "gridwidth": 2,
            "linecolor": "white",
            "showbackground": true,
            "ticks": "",
            "zerolinecolor": "white"
           },
           "zaxis": {
            "backgroundcolor": "#E5ECF6",
            "gridcolor": "white",
            "gridwidth": 2,
            "linecolor": "white",
            "showbackground": true,
            "ticks": "",
            "zerolinecolor": "white"
           }
          },
          "shapedefaults": {
           "line": {
            "color": "#2a3f5f"
           }
          },
          "ternary": {
           "aaxis": {
            "gridcolor": "white",
            "linecolor": "white",
            "ticks": ""
           },
           "baxis": {
            "gridcolor": "white",
            "linecolor": "white",
            "ticks": ""
           },
           "bgcolor": "#E5ECF6",
           "caxis": {
            "gridcolor": "white",
            "linecolor": "white",
            "ticks": ""
           }
          },
          "title": {
           "x": 0.05
          },
          "xaxis": {
           "automargin": true,
           "gridcolor": "white",
           "linecolor": "white",
           "ticks": "",
           "title": {
            "standoff": 15
           },
           "zerolinecolor": "white",
           "zerolinewidth": 2
          },
          "yaxis": {
           "automargin": true,
           "gridcolor": "white",
           "linecolor": "white",
           "ticks": "",
           "title": {
            "standoff": 15
           },
           "zerolinecolor": "white",
           "zerolinewidth": 2
          }
         }
        },
        "title": {
         "text": "$\\operatorname{Plev_{ijk}}(lon[deg])[1] = \\operatorname{Plev_{ijk}}(time[hr],lon[deg],lat[deg],height[km])[1] = \\lambda{\\left(time,lon,lat,height \\right)}, time = 12.0,lat = 20.0,height = 300.0$"
        },
        "width": 700,
        "xaxis": {
         "title": {
          "text": "$lon [d]$"
         }
        },
        "yaxis": {
         "title": {
          "text": "$Plev_ijk [m/m]$"
         }
        }
       }
      }
     },
     "metadata": {},
     "output_type": "display_data"
    }
   ],
   "source": [
    "# How does the corresponding pressure level vary at a given latitude and time?\n",
    "kamodo_object_ctipe.plot('Plev_ijk', plot_partial={'Plev_ijk': {'time': 12., 'lat': 20.,\n",
    "                                                                'height': 300.}})"
   ]
  },
  {
   "cell_type": "code",
   "execution_count": null,
   "id": "8364424b",
   "metadata": {},
   "outputs": [],
   "source": []
  }
 ],
 "metadata": {
  "kernelspec": {
   "display_name": "python3",
   "language": "python",
   "name": "python3"
  }
 },
 "nbformat": 4,
 "nbformat_minor": 5
}

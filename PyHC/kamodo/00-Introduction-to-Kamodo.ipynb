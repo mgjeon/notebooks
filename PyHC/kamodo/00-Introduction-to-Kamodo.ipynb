{
 "cells": [
  {
   "cell_type": "markdown",
   "id": "3df97259",
   "metadata": {},
   "source": [
    "\n"
   ]
  },
  {
   "cell_type": "markdown",
   "id": "1f4ef0a2-dd96-40d8-9a73-3f5b1945dff1",
   "metadata": {},
   "source": [
    "# Introduction to Kamodo\n",
    "\n",
    "- https://github.com/heliophysicsPy/summer-school-24/blob/main/kamodo-tutorial/00-Introduction-to-Kamodo.ipynb\n",
    "\n",
    "```\n",
    "conda create -n Kamodo_env python=3.10\n",
    "conda install -n Kamodo_env -c conda-forge netCDF4 cdflib astropy ipython jupyter h5py sgp4\n",
    "\n",
    "conda activate Kamodo_env\n",
    "\n",
    "python -m pip install --upgrade spacepy\n",
    "python -m pip install hapiclient\n",
    "\n",
    "git clone https://github.com/nasa/Kamodo.git\n",
    "python -m pip install ./Kamodo\n",
    "```\n",
    "\n",
    "When Javascript error occurs in Jupyter Lab, try to Jupyter Notebook 6 instead.\n",
    "\n",
    "https://github.com/plotly/plotly.py/issues/4336"
   ]
  },
  {
   "cell_type": "markdown",
   "id": "bc353e06-cbf9-4dd9-aba2-399a6dcbe55e",
   "metadata": {},
   "source": [
    "### Kamodo\n",
    "\n",
    "Kamodo is an official NASA open-source project written in python that is built upon the functionalization of datasets. It is a CCMC developed and maintained software tool for access, interpolation, and visualization of space weather models and data. Kamodo allows model developers to represent simulation results as mathematical functions which may be manipulated directly by end users. Kamodo handles unit conversion transparently and supports interactive science discovery through jupyter notebooks with minimal coding. All Kamodo tools are accessible through python, and all source code is publicly available on the Kamodo NASA GitHub repositories.\n",
    "\n",
    "Kamodo does not generate model outputs. Users need to acquire the desired model outputs before they can be functionalized by Kamodo.\n",
    "\n",
    "#### Kamodo GitHub and Documentation\n",
    "* https://github.com/nasa/Kamodo/\n",
    "* https://nasa.github.io/Kamodo/\n",
    "\n",
    "#### Kamodo-core GitHub and Documentation\n",
    "* https://github.com/nasa/Kamodo-core/\n",
    "* https://nasa.github.io/Kamodo-core/"
   ]
  },
  {
   "cell_type": "markdown",
   "id": "bafd5d41",
   "metadata": {},
   "source": [
    "![what is kamodo](https://raw.githubusercontent.com/heliophysicsPy/summer-school-24/d560ad3f3993a48d4eb44b348d11478c6ccfcf21/kamodo-tutorial/WhatIsKamodo.jpeg)"
   ]
  },
  {
   "cell_type": "markdown",
   "id": "0ff41975",
   "metadata": {},
   "source": [
    "### What is a scientific resource?\n",
    "\n",
    "Mirriam-Webster Definition of resource:\n",
    "\n",
    "    1. a source of information or expertise\n",
    "\n",
    "\n",
    "Scientific resources are \n",
    "\n",
    "* Observables on a well-defined domain of scientific interest\n",
    "* Can be purely functional (coordinate systems, expressions)\n",
    "* Often associated with units of measure (e.g. kg/m^3)\n",
    "* Intended for downstream users\n",
    "\n",
    "Scientific resources **are not** the tools themselves:\n",
    "\n",
    "* Specific file formats (ie. hdf, cdf, netcdf)\n",
    "* Specific APIs\n",
    "* Other libraries (ie. numpy, matplotlib, plotly)"
   ]
  },
  {
   "cell_type": "markdown",
   "id": "b100a838",
   "metadata": {},
   "source": [
    "### What are functions?\n",
    "\n",
    "> In mathematics, a function from a set X to a set Y assigns to each element of X to exactly one element of Y. The set X is called the domain of the function and the set Y is called the codomain of the function. - Wikipedia\n",
    "\n",
    "* A function is uniquely represented by the set of all pairs (x, f (x)) (a.k.a. the [graph](https://en.wikipedia.org/wiki/Graph_of_a_function) of a function)\n",
    "* Colloquially, **functions take inputs and return outputs**\n",
    "\n",
    "Functions represent *mappings*, they **are not** the tools themselves:\n",
    "* Expressions: `f(x,y,z) = x**2+y**2+z**2`\n",
    "* Code blocks: `lambda x,y,z: x**2 + y**2 + z**2`\n",
    "* Variables: `rho` (the codomain) is not the same as `rho(x)` (the function)"
   ]
  },
  {
   "cell_type": "markdown",
   "id": "46c2e4ef",
   "metadata": {},
   "source": [
    "### Why are functions so important?\n",
    "\n",
    "Functions represent the physical state of the systems we are investigating\n",
    "* Fields (Electromagnetic, fluid, etc)\n",
    "* Derived variables (e.g. $ P_{ram} = \\rho v^2 $)\n",
    "* Coordinate transformations\n",
    "* Images (pixel coordinates)\n",
    "* **solutions** to differential equations\n",
    "\n",
    "Functions may readily be used downstream:\n",
    "* Evaluation\n",
    "* Composition\n",
    "* Graphing\n",
    "* Pipelining"
   ]
  },
  {
   "cell_type": "markdown",
   "id": "e380780a",
   "metadata": {},
   "source": [
    "### What is an API?\n",
    "\n",
    "> An application programming interface (API) is a connection between computers or between computer programs... One purpose of an API is to **hide the internal details of how a system works, exposing only those parts a programmer will find useful** and keeping them consistent even if the internal details later change. - Wikipedia\n",
    "\n",
    "\n",
    "APIs help us communicate with data living in:\n",
    "\n",
    "* databases (REST, SQL)\n",
    "* file formats (hdf, netcdf)\n",
    "* libraries\n",
    "\n",
    "### What is *functional* API?\n",
    "\n",
    "A *functional API* focuses on provides access to information in the form of functions, rather than the underlying data or objects themselves.\n",
    "\n",
    "* low barrier to entry\n",
    "* (mostly) self-describing\n",
    "* (almost) no side effects\n",
    "* ammenable to functional programing techniques\n",
    "* compatible with AI/ML\n"
   ]
  },
  {
   "cell_type": "code",
   "execution_count": null,
   "id": "e45e0348",
   "metadata": {},
   "outputs": [],
   "source": []
  }
 ],
 "metadata": {
  "jupytext": {
   "cell_metadata_filter": "-all",
   "notebook_metadata_filter": "-all"
  },
  "kernelspec": {
   "display_name": "python3",
   "language": "python",
   "name": "python3"
  }
 },
 "nbformat": 4,
 "nbformat_minor": 5
}

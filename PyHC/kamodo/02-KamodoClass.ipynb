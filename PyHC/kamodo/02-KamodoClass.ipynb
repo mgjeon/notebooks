{
 "cells": [
  {
   "cell_type": "markdown",
   "id": "d19ffb32-0ed9-4fd6-8bf0-90f7bd621242",
   "metadata": {},
   "source": [
    "## Kamodo class\n",
    "\n",
    "The `Kamodo` class is a container used to register, manipulate, evaluate, and plot functions representing scientific resources.\n",
    "\n",
    "- https://github.com/heliophysicsPy/summer-school-24/blob/main/kamodo-tutorial/02-KamodoClass.ipynb"
   ]
  },
  {
   "cell_type": "markdown",
   "id": "28223e7f-0347-4a3f-bf30-0c9d480696b1",
   "metadata": {},
   "source": [
    "### Function registration"
   ]
  },
  {
   "cell_type": "markdown",
   "id": "7b944b2e-3b70-4e2c-8d42-73b76dc7b5e7",
   "metadata": {},
   "source": [
    "Previously, we saw how sympy may be used to convert raw latex or python expressions into numerical functions. The Kamodo class handles this automatically at function registration time. "
   ]
  },
  {
   "cell_type": "code",
   "execution_count": null,
   "id": "4485f9dd-0b50-4e6c-a236-679ccad7dcba",
   "metadata": {},
   "outputs": [],
   "source": [
    "from kamodo import Kamodo"
   ]
  },
  {
   "cell_type": "code",
   "execution_count": null,
   "id": "a45127df-11b6-43c9-9c58-c9c9ce24d8d1",
   "metadata": {},
   "outputs": [
    {
     "data": {
      "text/latex": [
       "\\begin{equation}f{\\left(x \\right)} = x^{2} - x - 1\\end{equation}"
      ],
      "text/plain": [
       "{f(x): <function _lambdifygenerated>, f: <function _lambdifygenerated>}"
      ]
     },
     "execution_count": null,
     "metadata": {},
     "output_type": "execute_result"
    }
   ],
   "source": [
    "k = Kamodo(f='x^2-x-1')\n",
    "k"
   ]
  },
  {
   "cell_type": "markdown",
   "id": "24d74609-9dcc-43f5-86b2-4e8968bd35f3",
   "metadata": {},
   "source": [
    "To access the above function, we can use \"dot\" notation:"
   ]
  },
  {
   "cell_type": "code",
   "execution_count": null,
   "id": "442c464d-9d85-40e6-8363-97b1ab4c091e",
   "metadata": {},
   "outputs": [],
   "source": [
    "assert k.f(3) == 3**2 - 3 - 1"
   ]
  },
  {
   "cell_type": "markdown",
   "id": "c792ebbc-78fe-48c0-8bc5-9ca6ce063eb9",
   "metadata": {},
   "source": [
    "Again, such functions are compatible with numerical datatypes."
   ]
  },
  {
   "cell_type": "code",
   "execution_count": null,
   "id": "e916b7df-25d0-466e-b3e5-0104af218f87",
   "metadata": {},
   "outputs": [],
   "source": [
    "import numpy as np"
   ]
  },
  {
   "cell_type": "code",
   "execution_count": null,
   "id": "2abf5a84-9394-493d-b3a8-69dfa91d683a",
   "metadata": {},
   "outputs": [
    {
     "data": {
      "text/plain": [
       "(30000,)"
      ]
     },
     "execution_count": null,
     "metadata": {},
     "output_type": "execute_result"
    }
   ],
   "source": [
    "k.f(np.linspace(-5,5,30000)).shape"
   ]
  },
  {
   "cell_type": "markdown",
   "id": "b3e493da-5475-4c23-9476-69446f9b45d2",
   "metadata": {},
   "source": [
    "We can also register functions with dictionary syntax. Each new function is appended to the list."
   ]
  },
  {
   "cell_type": "code",
   "execution_count": null,
   "id": "1df323c7-ae6b-4488-903d-ae31f3e76a3a",
   "metadata": {},
   "outputs": [
    {
     "data": {
      "text/latex": [
       "\\begin{equation}f{\\left(x \\right)} = x^{2} - x - 1\\end{equation} \\begin{equation}g{\\left(x,y \\right)} = x + y\\end{equation}"
      ],
      "text/plain": [
       "{f(x): <function _lambdifygenerated>, f: <function _lambdifygenerated>, g(x, y): <function _lambdifygenerated>, g: <function _lambdifygenerated>}"
      ]
     },
     "execution_count": null,
     "metadata": {},
     "output_type": "execute_result"
    }
   ],
   "source": [
    "k['g'] = 'x+y'\n",
    "k"
   ]
  },
  {
   "cell_type": "code",
   "execution_count": null,
   "id": "729aaca3-0f8a-498b-9183-7ebafb3ab973",
   "metadata": {},
   "outputs": [
    {
     "data": {
      "text/latex": [
       "\\begin{equation}f{\\left(x \\right)} = x^{2} - x - 1\\end{equation} \\begin{equation}g{\\left(x,y \\right)} = x + y\\end{equation} \\begin{equation}h{\\left(x,y \\right)} = x y\\end{equation}"
      ],
      "text/plain": [
       "{f(x): <function _lambdifygenerated>, f: <function _lambdifygenerated>, g(x, y): <function _lambdifygenerated>, g: <function _lambdifygenerated>, h(x, y): <function _lambdifygenerated>, h: <function _lambdifygenerated>}"
      ]
     },
     "execution_count": null,
     "metadata": {},
     "output_type": "execute_result"
    }
   ],
   "source": [
    "k['h'] = 'x*y'\n",
    "k"
   ]
  },
  {
   "cell_type": "markdown",
   "id": "7af999de-b2de-4ecf-97e7-52995736821d",
   "metadata": {},
   "source": [
    "### Evaluation\n",
    "\n",
    "For the most part, Kamodo is agnostic with respect to data types. Type validation is left up to function implementation. (However unicode as a dtype will mostly fail.)"
   ]
  },
  {
   "cell_type": "code",
   "execution_count": null,
   "id": "be830026-ce1c-4268-acd0-9e55663ae5d7",
   "metadata": {},
   "outputs": [
    {
     "data": {
      "text/latex": [
       "$f{\\left(x \\right)} = x^{2} - x - 1$"
      ],
      "text/plain": [
       "<function numexpr._lambdifygenerated(x)>"
      ]
     },
     "execution_count": null,
     "metadata": {},
     "output_type": "execute_result"
    }
   ],
   "source": [
    "k.f"
   ]
  },
  {
   "cell_type": "code",
   "execution_count": null,
   "id": "d04aff69-3613-4555-934e-f340dcb21473",
   "metadata": {},
   "outputs": [
    {
     "ename": "ValueError",
     "evalue": "NumExpr 2 does not support Unicode as a dtype.",
     "output_type": "error",
     "traceback": [
      "\u001b[0;31m---------------------------------------------------------------------------\u001b[0m",
      "\u001b[0;31mValueError\u001b[0m                                Traceback (most recent call last)",
      "Cell \u001b[0;32mIn[11], line 2\u001b[0m\n\u001b[1;32m      1\u001b[0m \u001b[38;5;28;01mtry\u001b[39;00m:\n\u001b[0;32m----> 2\u001b[0m     \u001b[43mk\u001b[49m\u001b[38;5;241;43m.\u001b[39;49m\u001b[43mf\u001b[49m\u001b[43m(\u001b[49m\u001b[38;5;124;43m'\u001b[39;49m\u001b[38;5;124;43mhey\u001b[39;49m\u001b[38;5;124;43m'\u001b[39;49m\u001b[43m)\u001b[49m\n\u001b[1;32m      3\u001b[0m \u001b[38;5;28;01mexcept\u001b[39;00m \u001b[38;5;167;01mTypeError\u001b[39;00m \u001b[38;5;28;01mas\u001b[39;00m m:\n\u001b[1;32m      4\u001b[0m     \u001b[38;5;28mprint\u001b[39m(m)\n",
      "File \u001b[0;32m~/miniconda3/envs/Kamodo_env/lib/python3.10/site-packages/forge/_revision.py:328\u001b[0m, in \u001b[0;36mRevision.__call__.<locals>.inner\u001b[0;34m(*args, **kwargs)\u001b[0m\n\u001b[1;32m    324\u001b[0m \u001b[38;5;129m@functools\u001b[39m\u001b[38;5;241m.\u001b[39mwraps(\u001b[38;5;28mcallable\u001b[39m)  \u001b[38;5;66;03m# type: ignore\u001b[39;00m\n\u001b[1;32m    325\u001b[0m \u001b[38;5;28;01mdef\u001b[39;00m \u001b[38;5;21minner\u001b[39m(\u001b[38;5;241m*\u001b[39margs, \u001b[38;5;241m*\u001b[39m\u001b[38;5;241m*\u001b[39mkwargs):\n\u001b[1;32m    326\u001b[0m     \u001b[38;5;66;03m# pylint: disable=E1102, not-callable\u001b[39;00m\n\u001b[1;32m    327\u001b[0m     mapped \u001b[38;5;241m=\u001b[39m inner\u001b[38;5;241m.\u001b[39m__mapper__(\u001b[38;5;241m*\u001b[39margs, \u001b[38;5;241m*\u001b[39m\u001b[38;5;241m*\u001b[39mkwargs)\n\u001b[0;32m--> 328\u001b[0m     \u001b[38;5;28;01mreturn\u001b[39;00m \u001b[38;5;28;43mcallable\u001b[39;49m\u001b[43m(\u001b[49m\u001b[38;5;241;43m*\u001b[39;49m\u001b[43mmapped\u001b[49m\u001b[38;5;241;43m.\u001b[39;49m\u001b[43margs\u001b[49m\u001b[43m,\u001b[49m\u001b[43m \u001b[49m\u001b[38;5;241;43m*\u001b[39;49m\u001b[38;5;241;43m*\u001b[39;49m\u001b[43mmapped\u001b[49m\u001b[38;5;241;43m.\u001b[39;49m\u001b[43mkwargs\u001b[49m\u001b[43m)\u001b[49m\n",
      "File \u001b[0;32m<lambdifygenerated-2>:2\u001b[0m, in \u001b[0;36m_lambdifygenerated\u001b[0;34m(x)\u001b[0m\n\u001b[1;32m      1\u001b[0m \u001b[38;5;28;01mdef\u001b[39;00m \u001b[38;5;21m_lambdifygenerated\u001b[39m(x):\n\u001b[0;32m----> 2\u001b[0m     \u001b[38;5;28;01mreturn\u001b[39;00m (\u001b[43mevaluate\u001b[49m\u001b[43m(\u001b[49m\u001b[38;5;124;43m'\u001b[39;49m\u001b[38;5;124;43mx**2 - x - 1\u001b[39;49m\u001b[38;5;124;43m'\u001b[39;49m\u001b[43m,\u001b[49m\u001b[43m \u001b[49m\u001b[43mtruediv\u001b[49m\u001b[38;5;241;43m=\u001b[39;49m\u001b[38;5;28;43;01mTrue\u001b[39;49;00m\u001b[43m)\u001b[49m)\n",
      "File \u001b[0;32m~/miniconda3/envs/Kamodo_env/lib/python3.10/site-packages/numexpr/necompiler.py:975\u001b[0m, in \u001b[0;36mevaluate\u001b[0;34m(ex, local_dict, global_dict, out, order, casting, sanitize, _frame_depth, **kwargs)\u001b[0m\n\u001b[1;32m    973\u001b[0m     \u001b[38;5;28;01mreturn\u001b[39;00m re_evaluate(local_dict\u001b[38;5;241m=\u001b[39mlocal_dict, global_dict\u001b[38;5;241m=\u001b[39mglobal_dict, _frame_depth\u001b[38;5;241m=\u001b[39m_frame_depth)\n\u001b[1;32m    974\u001b[0m \u001b[38;5;28;01melse\u001b[39;00m:\n\u001b[0;32m--> 975\u001b[0m     \u001b[38;5;28;01mraise\u001b[39;00m e\n",
      "File \u001b[0;32m~/miniconda3/envs/Kamodo_env/lib/python3.10/site-packages/numexpr/necompiler.py:877\u001b[0m, in \u001b[0;36mvalidate\u001b[0;34m(ex, local_dict, global_dict, out, order, casting, _frame_depth, sanitize, **kwargs)\u001b[0m\n\u001b[1;32m    874\u001b[0m arguments \u001b[38;5;241m=\u001b[39m getArguments(names, local_dict, global_dict, _frame_depth\u001b[38;5;241m=\u001b[39m_frame_depth)\n\u001b[1;32m    876\u001b[0m \u001b[38;5;66;03m# Create a signature\u001b[39;00m\n\u001b[0;32m--> 877\u001b[0m signature \u001b[38;5;241m=\u001b[39m [(name, getType(arg)) \u001b[38;5;28;01mfor\u001b[39;00m (name, arg) \u001b[38;5;129;01min\u001b[39;00m\n\u001b[1;32m    878\u001b[0m             \u001b[38;5;28mzip\u001b[39m(names, arguments)]\n\u001b[1;32m    880\u001b[0m \u001b[38;5;66;03m# Look up numexpr if possible.\u001b[39;00m\n\u001b[1;32m    881\u001b[0m numexpr_key \u001b[38;5;241m=\u001b[39m expr_key \u001b[38;5;241m+\u001b[39m (\u001b[38;5;28mtuple\u001b[39m(signature),)\n",
      "File \u001b[0;32m~/miniconda3/envs/Kamodo_env/lib/python3.10/site-packages/numexpr/necompiler.py:877\u001b[0m, in \u001b[0;36m<listcomp>\u001b[0;34m(.0)\u001b[0m\n\u001b[1;32m    874\u001b[0m arguments \u001b[38;5;241m=\u001b[39m getArguments(names, local_dict, global_dict, _frame_depth\u001b[38;5;241m=\u001b[39m_frame_depth)\n\u001b[1;32m    876\u001b[0m \u001b[38;5;66;03m# Create a signature\u001b[39;00m\n\u001b[0;32m--> 877\u001b[0m signature \u001b[38;5;241m=\u001b[39m [(name, \u001b[43mgetType\u001b[49m\u001b[43m(\u001b[49m\u001b[43marg\u001b[49m\u001b[43m)\u001b[49m) \u001b[38;5;28;01mfor\u001b[39;00m (name, arg) \u001b[38;5;129;01min\u001b[39;00m\n\u001b[1;32m    878\u001b[0m             \u001b[38;5;28mzip\u001b[39m(names, arguments)]\n\u001b[1;32m    880\u001b[0m \u001b[38;5;66;03m# Look up numexpr if possible.\u001b[39;00m\n\u001b[1;32m    881\u001b[0m numexpr_key \u001b[38;5;241m=\u001b[39m expr_key \u001b[38;5;241m+\u001b[39m (\u001b[38;5;28mtuple\u001b[39m(signature),)\n",
      "File \u001b[0;32m~/miniconda3/envs/Kamodo_env/lib/python3.10/site-packages/numexpr/necompiler.py:718\u001b[0m, in \u001b[0;36mgetType\u001b[0;34m(a)\u001b[0m\n\u001b[1;32m    716\u001b[0m     \u001b[38;5;28;01mreturn\u001b[39;00m \u001b[38;5;28mbytes\u001b[39m\n\u001b[1;32m    717\u001b[0m \u001b[38;5;28;01mif\u001b[39;00m kind \u001b[38;5;241m==\u001b[39m \u001b[38;5;124m'\u001b[39m\u001b[38;5;124mU\u001b[39m\u001b[38;5;124m'\u001b[39m:\n\u001b[0;32m--> 718\u001b[0m     \u001b[38;5;28;01mraise\u001b[39;00m \u001b[38;5;167;01mValueError\u001b[39;00m(\u001b[38;5;124m'\u001b[39m\u001b[38;5;124mNumExpr 2 does not support Unicode as a dtype.\u001b[39m\u001b[38;5;124m'\u001b[39m)\n\u001b[1;32m    719\u001b[0m \u001b[38;5;28;01mraise\u001b[39;00m \u001b[38;5;167;01mValueError\u001b[39;00m(\u001b[38;5;124m\"\u001b[39m\u001b[38;5;124munknown type \u001b[39m\u001b[38;5;132;01m%s\u001b[39;00m\u001b[38;5;124m\"\u001b[39m \u001b[38;5;241m%\u001b[39m a\u001b[38;5;241m.\u001b[39mdtype\u001b[38;5;241m.\u001b[39mname)\n",
      "\u001b[0;31mValueError\u001b[0m: NumExpr 2 does not support Unicode as a dtype."
     ]
    }
   ],
   "source": [
    "try:\n",
    "    k.f('hey')\n",
    "except TypeError as m:\n",
    "    print(m)"
   ]
  },
  {
   "cell_type": "markdown",
   "id": "9e4e6d17-2cd7-4c8a-9733-544c758bb0ab",
   "metadata": {},
   "source": [
    "In the above example, strings types throw an exception because `f` uses the `pow` function, which does not support strings."
   ]
  },
  {
   "cell_type": "markdown",
   "id": "f51dd206-6ea8-4f4a-8096-0cbfede88a9f",
   "metadata": {},
   "source": [
    "You should **try to use numeric data types**, especially when units come into play (next lesson)"
   ]
  },
  {
   "cell_type": "markdown",
   "id": "64e886f8-1740-4bf6-8761-8443333cc543",
   "metadata": {},
   "source": [
    "### Composition"
   ]
  },
  {
   "cell_type": "markdown",
   "id": "9ed312fb-a848-45f2-ab0c-ee63009f64f2",
   "metadata": {},
   "source": [
    "The `Kamodo` class will compose functions when previously defined function symbols are detected."
   ]
  },
  {
   "cell_type": "code",
   "execution_count": null,
   "id": "a9932553-767b-4679-849e-025e24b9d47c",
   "metadata": {},
   "outputs": [
    {
     "data": {
      "text/latex": [
       "\\begin{equation}f{\\left(x \\right)} = x^{2} - x - 1\\end{equation}"
      ],
      "text/plain": [
       "{f(x): <function _lambdifygenerated>, f: <function _lambdifygenerated>}"
      ]
     },
     "execution_count": null,
     "metadata": {},
     "output_type": "execute_result"
    }
   ],
   "source": [
    "k = Kamodo(f='x^2-x-1')\n",
    "k"
   ]
  },
  {
   "cell_type": "code",
   "execution_count": null,
   "id": "182a1988-8fd1-4b82-8524-679dd323770e",
   "metadata": {},
   "outputs": [
    {
     "data": {
      "text/latex": [
       "\\begin{equation}f{\\left(x \\right)} = x^{2} - x - 1\\end{equation} \\begin{equation}g{\\left(y \\right)} = y^{2}\\end{equation}"
      ],
      "text/plain": [
       "{f(x): <function _lambdifygenerated>, f: <function _lambdifygenerated>, g(y): <function _lambdifygenerated>, g: <function _lambdifygenerated>}"
      ]
     },
     "execution_count": null,
     "metadata": {},
     "output_type": "execute_result"
    }
   ],
   "source": [
    "k['g'] = 'y^2'\n",
    "k"
   ]
  },
  {
   "cell_type": "code",
   "execution_count": null,
   "id": "fdbc5b30-7bff-4572-aeee-31f8fd03af78",
   "metadata": {},
   "outputs": [
    {
     "data": {
      "text/latex": [
       "\\begin{equation}f{\\left(x \\right)} = x^{2} - x - 1\\end{equation} \\begin{equation}g{\\left(y \\right)} = y^{2}\\end{equation} \\begin{equation}h{\\left(x \\right)} = g{\\left(f{\\left(x \\right)} \\right)}\\end{equation}"
      ],
      "text/plain": [
       "{f(x): <function _lambdifygenerated>, f: <function _lambdifygenerated>, g(y): <function _lambdifygenerated>, g: <function _lambdifygenerated>, h(x): <function _lambdifygenerated>, h: <function _lambdifygenerated>}"
      ]
     },
     "execution_count": null,
     "metadata": {},
     "output_type": "execute_result"
    }
   ],
   "source": [
    "k['h'] = 'g(f)' # compose g on f\n",
    "k"
   ]
  },
  {
   "cell_type": "code",
   "execution_count": null,
   "id": "bc41508f-feee-4d7a-8b77-9a315f331906",
   "metadata": {},
   "outputs": [],
   "source": [
    "assert k.h(3) == (3**2-3-1)**2"
   ]
  },
  {
   "cell_type": "markdown",
   "id": "7b7e8d89-1988-4a76-9018-2d074b3a40b0",
   "metadata": {},
   "source": [
    "Two important things to note:\n",
    "\n",
    "1. Kamodo detected a registered function `f` appearing in the right-hand-side of `h`\n",
    "2. Kamodo determined that `h` must be a function of `x` through the composition `g(f(x))`."
   ]
  },
  {
   "cell_type": "code",
   "execution_count": null,
   "id": "f50ab383-337f-4c5b-b595-eb50969d02d8",
   "metadata": {},
   "outputs": [],
   "source": []
  }
 ],
 "metadata": {
  "kernelspec": {
   "display_name": "python3",
   "language": "python",
   "name": "python3"
  }
 },
 "nbformat": 4,
 "nbformat_minor": 5
}

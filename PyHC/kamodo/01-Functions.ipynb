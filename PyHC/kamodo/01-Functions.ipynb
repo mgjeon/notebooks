{
 "cells": [
  {
   "cell_type": "markdown",
   "id": "2cf6a43f-1d22-45e6-b617-380b7eceb080",
   "metadata": {},
   "source": [
    "## Functions\n",
    "\n",
    "Functions may be represented by many implementations/expressions (think right-hand-side)\n",
    "\n",
    "- https://github.com/heliophysicsPy/summer-school-24/blob/main/kamodo-tutorial/01-Functions.ipynb"
   ]
  },
  {
   "cell_type": "markdown",
   "id": "59b32766-4891-4a26-af84-fc16f81da56d",
   "metadata": {},
   "source": [
    "### Closed form expressions (formulas)\n",
    "\n",
    "Let's start with a simple latex expression we wish to functionalize.\n",
    "\n",
    "$$ f(x) = x^2-x-1 $$"
   ]
  },
  {
   "cell_type": "markdown",
   "id": "ed219349-8599-40db-bcb7-126f96616f99",
   "metadata": {},
   "source": [
    "Kamodo offers some simple tools to turn the above right-hand-side expression into python functions that can operate on numerical data. This is accomplished with Kamodo's underlying utilization of [sympy](https://www.sympy.org/en/index.html)."
   ]
  },
  {
   "cell_type": "code",
   "execution_count": null,
   "id": "5bcfe758-2a94-43e3-b73a-1669cf97808c",
   "metadata": {},
   "outputs": [],
   "source": [
    "from kamodo import lambdify, parse_expr"
   ]
  },
  {
   "cell_type": "markdown",
   "id": "dafa48f1-99f1-42a4-82eb-d60230906be5",
   "metadata": {},
   "source": [
    "First parse the string into a sympy expression"
   ]
  },
  {
   "cell_type": "code",
   "execution_count": null,
   "id": "6d96b3d6-8a6b-4e78-992b-4483b1e52e39",
   "metadata": {},
   "outputs": [
    {
     "data": {
      "text/latex": [
       "$\\displaystyle x^{2} - x - 1$"
      ],
      "text/plain": [
       "x**2 - x - 1"
      ]
     },
     "execution_count": null,
     "metadata": {},
     "output_type": "execute_result"
    }
   ],
   "source": [
    "expr = parse_expr('x^2-x-1') # convert latex into sympy expression\n",
    "expr # will render as latex in jupyter"
   ]
  },
  {
   "cell_type": "markdown",
   "id": "0f8464e7-7301-4346-9431-e5a2342ee424",
   "metadata": {},
   "source": [
    "Alternatively, we could have parsed a python expression:"
   ]
  },
  {
   "cell_type": "code",
   "execution_count": null,
   "id": "ef04093e-3411-44a6-8ec2-9d0388d47ee3",
   "metadata": {},
   "outputs": [
    {
     "data": {
      "text/latex": [
       "$\\displaystyle x^{2} - x - 1$"
      ],
      "text/plain": [
       "x**2 - x - 1"
      ]
     },
     "execution_count": null,
     "metadata": {},
     "output_type": "execute_result"
    }
   ],
   "source": [
    "expr = parse_expr('x**2-x-1')\n",
    "expr"
   ]
  },
  {
   "cell_type": "markdown",
   "id": "3783dc95-20fc-48b6-98f8-1fea2fa58b42",
   "metadata": {},
   "source": [
    "Expressions are the primary tool used by Kamodo to inspect and manpulation user-defined expressions. Here are some useful things one can do with expressions."
   ]
  },
  {
   "cell_type": "markdown",
   "id": "54af4981-99e9-406d-87bf-f494ccc2f240",
   "metadata": {},
   "source": [
    "**substitution**"
   ]
  },
  {
   "cell_type": "code",
   "execution_count": null,
   "id": "16c0979c-816b-49bc-82ed-eb9a3801dc47",
   "metadata": {},
   "outputs": [
    {
     "data": {
      "text/latex": [
       "$\\displaystyle y^{2} - y - 1$"
      ],
      "text/plain": [
       "y**2 - y - 1"
      ]
     },
     "execution_count": null,
     "metadata": {},
     "output_type": "execute_result"
    }
   ],
   "source": [
    "expr.subs(dict(x='y'))"
   ]
  },
  {
   "cell_type": "code",
   "execution_count": null,
   "id": "e538bbf7-8dae-42a8-be0d-b4dcb8d71f88",
   "metadata": {},
   "outputs": [
    {
     "data": {
      "text/latex": [
       "$\\displaystyle - y + \\left(y - 1\\right)^{2}$"
      ],
      "text/plain": [
       "-y + (y - 1)**2"
      ]
     },
     "execution_count": null,
     "metadata": {},
     "output_type": "execute_result"
    }
   ],
   "source": [
    "expr.subs(dict(x='y-1'))"
   ]
  },
  {
   "cell_type": "markdown",
   "id": "bb5ea429-1b47-4c9c-a191-e045f99f1253",
   "metadata": {},
   "source": [
    "**symbol extraction**"
   ]
  },
  {
   "cell_type": "code",
   "execution_count": null,
   "id": "69e22452-b0f7-4a91-8f90-16310e056962",
   "metadata": {},
   "outputs": [
    {
     "data": {
      "text/plain": [
       "{x}"
      ]
     },
     "execution_count": null,
     "metadata": {},
     "output_type": "execute_result"
    }
   ],
   "source": [
    "expr.free_symbols"
   ]
  },
  {
   "cell_type": "markdown",
   "id": "f8b7c267-202c-4eaf-a9f0-e86ce24af588",
   "metadata": {},
   "source": [
    "**solutions**"
   ]
  },
  {
   "cell_type": "code",
   "execution_count": null,
   "id": "db8b0f81-5a30-4fc8-88c2-a46b97b4ac7e",
   "metadata": {},
   "outputs": [
    {
     "data": {
      "text/latex": [
       "$\\displaystyle x^{2} - x - 1$"
      ],
      "text/plain": [
       "x**2 - x - 1"
      ]
     },
     "execution_count": null,
     "metadata": {},
     "output_type": "execute_result"
    }
   ],
   "source": [
    "expr # solve for f(x) = 0"
   ]
  },
  {
   "cell_type": "code",
   "execution_count": null,
   "id": "5c06f24d-6713-45f5-bfdd-dcca74c4665a",
   "metadata": {},
   "outputs": [
    {
     "data": {
      "text/latex": [
       "$\\displaystyle \\frac{1}{2} - \\frac{\\sqrt{5}}{2}$"
      ],
      "text/plain": [
       "1/2 - sqrt(5)/2"
      ]
     },
     "execution_count": null,
     "metadata": {},
     "output_type": "execute_result"
    }
   ],
   "source": [
    "from sympy import solve, symbols\n",
    "\n",
    "zeros =  solve(expr, symbols('x')) \n",
    "zeros[0]"
   ]
  },
  {
   "cell_type": "code",
   "execution_count": null,
   "id": "67351b70-a1f2-40ba-acda-a5dcd3593bb0",
   "metadata": {},
   "outputs": [
    {
     "data": {
      "text/latex": [
       "$\\displaystyle \\frac{1}{2} + \\frac{\\sqrt{5}}{2}$"
      ],
      "text/plain": [
       "1/2 + sqrt(5)/2"
      ]
     },
     "execution_count": null,
     "metadata": {},
     "output_type": "execute_result"
    }
   ],
   "source": [
    "zeros[1]"
   ]
  },
  {
   "cell_type": "markdown",
   "id": "97d15d90-2b13-4944-884f-a1e111a46b17",
   "metadata": {},
   "source": [
    "**numerical evaluation**"
   ]
  },
  {
   "cell_type": "code",
   "execution_count": null,
   "id": "ff729b38-dcc9-492b-ae43-8cf982ac16e6",
   "metadata": {},
   "outputs": [
    {
     "data": {
      "text/latex": [
       "$\\displaystyle -0.618033988749895$"
      ],
      "text/plain": [
       "-0.618033988749895"
      ]
     },
     "execution_count": null,
     "metadata": {},
     "output_type": "execute_result"
    }
   ],
   "source": [
    "zeros[0].evalf()"
   ]
  },
  {
   "cell_type": "code",
   "execution_count": null,
   "id": "e8db3672-f630-4769-a341-3ee2b597501d",
   "metadata": {},
   "outputs": [
    {
     "data": {
      "text/latex": [
       "$\\displaystyle 1.61803398874989$"
      ],
      "text/plain": [
       "1.61803398874989"
      ]
     },
     "execution_count": null,
     "metadata": {},
     "output_type": "execute_result"
    }
   ],
   "source": [
    "zeros[1].evalf()"
   ]
  },
  {
   "cell_type": "markdown",
   "id": "a77a9b8c-4167-4b59-b791-94e10e8d62cb",
   "metadata": {},
   "source": [
    "**type repr**"
   ]
  },
  {
   "cell_type": "code",
   "execution_count": null,
   "id": "20ed8b76-a37f-49f8-b55b-c508dd6e263b",
   "metadata": {},
   "outputs": [
    {
     "data": {
      "text/plain": [
       "\"Add(Pow(Symbol('x'), Integer(2)), Mul(Integer(-1), Symbol('x')), Integer(-1))\""
      ]
     },
     "execution_count": null,
     "metadata": {},
     "output_type": "execute_result"
    }
   ],
   "source": [
    "from sympy import srepr\n",
    "\n",
    "srepr(expr) # Expressions are composed of algebraic types"
   ]
  },
  {
   "cell_type": "code",
   "execution_count": null,
   "id": "e9762a5a-3fea-4e04-bd8e-a6747eb5fb5c",
   "metadata": {},
   "outputs": [
    {
     "data": {
      "text/latex": [
       "$\\displaystyle x^{2} - x - 1$"
      ],
      "text/plain": [
       "x**2 - x - 1"
      ]
     },
     "execution_count": null,
     "metadata": {},
     "output_type": "execute_result"
    }
   ],
   "source": [
    "expr"
   ]
  },
  {
   "cell_type": "markdown",
   "id": "aa04e0bb-5f52-41a8-a5b8-e77fc942643b",
   "metadata": {},
   "source": [
    "Sympy has [many other tools](https://docs.sympy.org/latest/tutorial/basic_operations.html) for manipulating such expressions. They are worth taking a look at, especially if you wish to [contribute to Kamodo](https://github.com/EnsembleGovServices/kamodo-core/blob/master/CONTRIBUTING.md)!\n",
    "\n",
    "For our purposes, we are mainly interested in converting such preparing such expressions for numerical evaluation."
   ]
  },
  {
   "cell_type": "markdown",
   "id": "6a7e8aad-7fc2-4f79-bdba-255b69836062",
   "metadata": {},
   "source": [
    "### Lambdified expressions"
   ]
  },
  {
   "cell_type": "markdown",
   "id": "71265d5e-db2f-46e9-abf8-b4af61142ba8",
   "metadata": {},
   "source": [
    "With variables identified, we can convert this expression into a python function that operates on numerical types"
   ]
  },
  {
   "cell_type": "code",
   "execution_count": null,
   "id": "14fcdd5b-035b-482e-98c9-f3fc932f2723",
   "metadata": {},
   "outputs": [
    {
     "data": {
      "text/plain": [
       "<function _lambdifygenerated(x)>"
      ]
     },
     "execution_count": null,
     "metadata": {},
     "output_type": "execute_result"
    }
   ],
   "source": [
    "f = lambdify(expr.free_symbols, expr)\n",
    "f"
   ]
  },
  {
   "cell_type": "code",
   "execution_count": null,
   "id": "9547888e-a259-4124-bce4-4c72f813accd",
   "metadata": {},
   "outputs": [
    {
     "name": "stdout",
     "output_type": "stream",
     "text": [
      "Help on function _lambdifygenerated:\n",
      "\n",
      "_lambdifygenerated(x)\n",
      "    Created with lambdify. Signature:\n",
      "    \n",
      "    func(x)\n",
      "    \n",
      "    Expression:\n",
      "    \n",
      "    x**2 - x - 1\n",
      "    \n",
      "    Source code:\n",
      "    \n",
      "    def _lambdifygenerated(x):\n",
      "        return (x**2 - x - 1)\n",
      "    \n",
      "    \n",
      "    Imported modules:\n",
      "\n"
     ]
    }
   ],
   "source": [
    "help(f)"
   ]
  },
  {
   "cell_type": "markdown",
   "id": "3d5bfd0a-7f8d-4a7d-b4ce-201e1214a814",
   "metadata": {},
   "source": [
    "Let's test this for accuracy"
   ]
  },
  {
   "cell_type": "code",
   "execution_count": null,
   "id": "bc31c2f1-92af-42c4-a0d6-8f219d9d1758",
   "metadata": {},
   "outputs": [
    {
     "data": {
      "text/plain": [
       "5"
      ]
     },
     "execution_count": null,
     "metadata": {},
     "output_type": "execute_result"
    }
   ],
   "source": [
    "f(3)"
   ]
  },
  {
   "cell_type": "code",
   "execution_count": null,
   "id": "82f2963b-c227-43db-b9f5-53bef6ebd2ce",
   "metadata": {},
   "outputs": [],
   "source": [
    "assert f(3) == (3**2)-3-1"
   ]
  },
  {
   "cell_type": "markdown",
   "id": "194b183e-d722-4a2d-81ac-9b8420b21864",
   "metadata": {},
   "source": [
    "The generated function is optimized to work on arrays"
   ]
  },
  {
   "cell_type": "code",
   "execution_count": null,
   "id": "6e89b5ed-3589-45bc-ad45-1dac65ae79d8",
   "metadata": {},
   "outputs": [
    {
     "name": "stdout",
     "output_type": "stream",
     "text": [
      "Time to complete:  0.003608291008276865 seconds\n"
     ]
    }
   ],
   "source": [
    "import numpy as np\n",
    "from time import perf_counter\n",
    "\n",
    "t0 = perf_counter()\n",
    "f(np.linspace(-5,5,1000000)).shape # do a timing test here\n",
    "t1 = perf_counter()\n",
    "print(\"Time to complete: \",t1-t0,\"seconds\")"
   ]
  },
  {
   "cell_type": "markdown",
   "id": "2046a75c-f2d9-4d29-8463-3aeea221bbba",
   "metadata": {},
   "source": [
    "!!! note\n",
    "    Installing the [numexpr](https://github.com/pydata/numexpr) library makes this even faster!"
   ]
  },
  {
   "cell_type": "code",
   "execution_count": null,
   "id": "5175de1d-c2dc-4c93-810a-394634201244",
   "metadata": {},
   "outputs": [],
   "source": []
  }
 ],
 "metadata": {
  "kernelspec": {
   "display_name": "python3",
   "language": "python",
   "name": "python3"
  }
 },
 "nbformat": 4,
 "nbformat_minor": 5
}

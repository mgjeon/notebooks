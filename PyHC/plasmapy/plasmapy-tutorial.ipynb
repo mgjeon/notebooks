{
 "cells": [
  {
   "cell_type": "markdown",
   "id": "6cdfe335-edca-49e2-aeb0-9a393a249f8d",
   "metadata": {},
   "source": [
    "# PlasmaPy Tutorial\n",
    "\n",
    "- https://github.com/heliophysicsPy/summer-school-24/tree/main/plasmapy-tutorial"
   ]
  },
  {
   "cell_type": "markdown",
   "id": "3186bf29-8f22-4d53-b087-c2347c210928",
   "metadata": {},
   "source": [
    "[`astropy.units`]: https://docs.astropy.org/en/stable/units/index.html\n",
    "[`plasmapy.particles`]: https://docs.plasmapy.org/en/stable/particles/index.html\n",
    "[`plasmapy.formulary`]: https://docs.plasmapy.org/en/stable/formulary/index.html\n",
    "[`plasmapy.dispersion`]: https://docs.plasmapy.org/en/stable/dispersion/index.html\n",
    "\n",
    "PlasmaPy is an open source Python package for plasma research and education. After a quick review of [`astropy.units`] 📏, we'll go through some interactive examples of using [`plasmapy.particles`] ⚛️ and [`plasmapy.formulary`] 🧮."
   ]
  },
  {
   "cell_type": "markdown",
   "id": "60b9ac6d-6755-4607-b338-99989fba17cb",
   "metadata": {},
   "source": [
    "## Astropy units (quick refresher)"
   ]
  },
  {
   "cell_type": "markdown",
   "id": "ea5d0b9b-a89d-4f89-8a97-7e40203e3776",
   "metadata": {},
   "source": [
    "[`astropy.units`]: https://docs.astropy.org/en/stable/units/index.html\n",
    "\n",
    "PlasmaPy makes frequent use of [`astropy.units`].  We typically import this subpackage as `u`."
   ]
  },
  {
   "cell_type": "code",
   "execution_count": null,
   "id": "27925ebd-6d16-468d-9e73-3fec83d82f69",
   "metadata": {},
   "outputs": [],
   "source": [
    "import astropy.units as u"
   ]
  },
  {
   "cell_type": "markdown",
   "id": "7043fcaa-cfd3-4a59-96ba-edec032406c1",
   "metadata": {},
   "source": [
    "We can create a physical quantity by multiplying or dividing a number or array with a unit."
   ]
  },
  {
   "cell_type": "code",
   "execution_count": null,
   "id": "182161ad-70a8-4c98-8f4f-672ca1c0b7cf",
   "metadata": {},
   "outputs": [
    {
     "data": {
      "text/latex": [
       "$60 \\; \\mathrm{km}$"
      ],
      "text/plain": [
       "<Quantity 60. km>"
      ]
     },
     "execution_count": null,
     "metadata": {},
     "output_type": "execute_result"
    }
   ],
   "source": [
    "60 * u.km"
   ]
  },
  {
   "cell_type": "markdown",
   "id": "1684bbac-d287-4183-8417-a7b4016ba045",
   "metadata": {},
   "source": [
    "[`Quantity`]: https://docs.astropy.org/en/stable/api/astropy.units.Quantity.html#astropy.units.Quantity\n",
    "\n",
    "This operation creates a [`Quantity`] object: a number, sequence, or array that has been assigned a physical unit.  We can create [`Quantity`] objects with compound units."
   ]
  },
  {
   "cell_type": "code",
   "execution_count": null,
   "id": "15c483f2-4bd6-46f0-afeb-e76b87b86f11",
   "metadata": {},
   "outputs": [
    {
     "data": {
      "text/latex": [
       "$88 \\; \\mathrm{\\frac{mi}{h}}$"
      ],
      "text/plain": [
       "<Quantity 88. mi / h>"
      ]
     },
     "execution_count": null,
     "metadata": {},
     "output_type": "execute_result"
    }
   ],
   "source": [
    "88 * u.imperial.mile / u.hour"
   ]
  },
  {
   "cell_type": "markdown",
   "id": "ea1fe8bd-a8d0-4431-b6bb-1f5ce0862d6e",
   "metadata": {},
   "source": [
    "## Particles"
   ]
  },
  {
   "cell_type": "markdown",
   "id": "b1ddf4c4-4fd6-45d3-8c6e-092a4fcc5cb7",
   "metadata": {},
   "source": [
    "[`plasmapy.particles`]: https://docs.plasmapy.org/en/stable/particles/index.html\n",
    "\n",
    "The [`plasmapy.particles`] subpackage contains functions to access basic particle data and classes to represent particles."
   ]
  },
  {
   "cell_type": "code",
   "execution_count": null,
   "id": "ad1d0d52-be8c-49aa-a958-f9eea5f131b5",
   "metadata": {},
   "outputs": [],
   "source": [
    "from plasmapy.particles import *"
   ]
  },
  {
   "cell_type": "markdown",
   "id": "b21fcb62-d5bf-4849-a924-78723ba43824",
   "metadata": {},
   "source": [
    "### Particle properties"
   ]
  },
  {
   "cell_type": "markdown",
   "id": "112d9e29-2d24-4a06-8a1a-d14b055c053b",
   "metadata": {},
   "source": [
    "[representation of a particle]: https://docs.plasmapy.org/en/stable/api/plasmapy.particles.ParticleLike.html#particlelike\n",
    "\n",
    "There are several functions that provide information about different particles that might be present in a plasma. The input of these functions is a [representation of a particle], such as a string for the atomic symbol or the element name."
   ]
  },
  {
   "cell_type": "code",
   "execution_count": null,
   "id": "80761e30-3553-41cc-9744-fd76908e2b3c",
   "metadata": {},
   "outputs": [
    {
     "data": {
      "text/plain": [
       "26"
      ]
     },
     "execution_count": null,
     "metadata": {},
     "output_type": "execute_result"
    }
   ],
   "source": [
    "atomic_number(\"Fe\")"
   ]
  },
  {
   "cell_type": "markdown",
   "id": "07a21a53-5c22-46e6-bf38-836cb6be3022",
   "metadata": {},
   "source": [
    "[atomic number]: https://en.wikipedia.org/wiki/Atomic_number\n",
    "\n",
    "We can provide a number that represents the [atomic number]."
   ]
  },
  {
   "cell_type": "code",
   "execution_count": null,
   "id": "fe5351a5-4ab4-456e-a2b3-ea22a0a14248",
   "metadata": {},
   "outputs": [
    {
     "data": {
      "text/plain": [
       "'iron'"
      ]
     },
     "execution_count": null,
     "metadata": {},
     "output_type": "execute_result"
    }
   ],
   "source": [
    "element_name(26)"
   ]
  },
  {
   "cell_type": "markdown",
   "id": "cb701c52-fb18-466e-8817-2ee2ca805c05",
   "metadata": {},
   "source": [
    "We can provide standard symbols or the names of particles."
   ]
  },
  {
   "cell_type": "code",
   "execution_count": null,
   "id": "757969d2-d7a4-428c-a8ee-a054b4a3bfce",
   "metadata": {},
   "outputs": [
    {
     "data": {
      "text/plain": [
       "True"
      ]
     },
     "execution_count": null,
     "metadata": {},
     "output_type": "execute_result"
    }
   ],
   "source": [
    "is_stable(\"e-\")"
   ]
  },
  {
   "cell_type": "code",
   "execution_count": null,
   "id": "14df819d-9e70-494e-8ce2-ec8b41d96aaa",
   "metadata": {},
   "outputs": [
    {
     "data": {
      "text/plain": [
       "1"
      ]
     },
     "execution_count": null,
     "metadata": {},
     "output_type": "execute_result"
    }
   ],
   "source": [
    "charge_number(\"proton\")"
   ]
  },
  {
   "cell_type": "markdown",
   "id": "9f9a84f8-5656-4d1c-994f-167b499aadb3",
   "metadata": {},
   "source": [
    "[mass number]: https://en.wikipedia.org/wiki/Mass_number\n",
    "[`Quantity`]: https://docs.astropy.org/en/stable/units/quantity.html#quantity\n",
    "[`astropy.units`]: https://docs.astropy.org/en/stable/units/index.html\n",
    "[`half_life`]: https://docs.plasmapy.org/en/stable/api/plasmapy.particles.atomic.half_life.html#half-life\n",
    "\n",
    "We can represent isotopes with the atomic symbol followed by a hyphen and the [mass number]. Let's use [`half_life`] to return the half-life of a radioactive particle in seconds as a [`Quantity`]."
   ]
  },
  {
   "cell_type": "code",
   "execution_count": null,
   "id": "74977eed-da03-4e53-b6b0-8b5db880b49d",
   "metadata": {},
   "outputs": [
    {
     "data": {
      "text/latex": [
       "$1.8082505 \\times 10^{11} \\; \\mathrm{s}$"
      ],
      "text/plain": [
       "<Quantity 1.80825048e+11 s>"
      ]
     },
     "execution_count": null,
     "metadata": {},
     "output_type": "execute_result"
    }
   ],
   "source": [
    "half_life(\"C-14\")"
   ]
  },
  {
   "cell_type": "markdown",
   "id": "c78cf340-092e-4101-89a6-5c5efc22667f",
   "metadata": {},
   "source": [
    "We typically represent an ion in a string by putting together the atomic symbol or isotope symbol, a space, the charge number, and the sign of the charge."
   ]
  },
  {
   "cell_type": "code",
   "execution_count": null,
   "id": "d77d8ad2-379d-4aba-9d37-8f80c31ab3a4",
   "metadata": {},
   "outputs": [
    {
     "data": {
      "text/plain": [
       "13"
      ]
     },
     "execution_count": null,
     "metadata": {},
     "output_type": "execute_result"
    }
   ],
   "source": [
    "charge_number(\"Fe-56 13+\")"
   ]
  },
  {
   "cell_type": "markdown",
   "id": "4b1465de-1470-4c42-95ba-a5963779cae1",
   "metadata": {},
   "source": [
    "[particle-like]: https://docs.plasmapy.org/en/latest/glossary.html#term-particle-like\n",
    "[`plasmapy.particles`]: https://docs.plasmapy.org/en/stable/particles/index.html\n",
    "\n",
    "Functions in [`plasmapy.particles`] are quite flexible in terms of string inputs representing particles. An input is [particle-like] if it can be used to represent a physical particle.  "
   ]
  },
  {
   "cell_type": "code",
   "execution_count": null,
   "id": "bb63cd6c-12d4-4961-b503-5751d4667a05",
   "metadata": {},
   "outputs": [
    {
     "data": {
      "text/latex": [
       "$9.2870305 \\times 10^{-26} \\; \\mathrm{kg}$"
      ],
      "text/plain": [
       "<Quantity 9.28703048e-26 kg>"
      ]
     },
     "execution_count": null,
     "metadata": {},
     "output_type": "execute_result"
    }
   ],
   "source": [
    "particle_mass(\"iron-56 +13\")"
   ]
  },
  {
   "cell_type": "code",
   "execution_count": null,
   "id": "e9c63717-061b-4538-9c80-8fbcdc653edc",
   "metadata": {},
   "outputs": [
    {
     "data": {
      "text/latex": [
       "$9.2870305 \\times 10^{-26} \\; \\mathrm{kg}$"
      ],
      "text/plain": [
       "<Quantity 9.28703048e-26 kg>"
      ]
     },
     "execution_count": null,
     "metadata": {},
     "output_type": "execute_result"
    }
   ],
   "source": [
    "particle_mass(\"iron-56+++++++++++++\")"
   ]
  },
  {
   "cell_type": "markdown",
   "id": "a41f5845-13e0-4661-a76c-87f1e3013aae",
   "metadata": {},
   "source": [
    "Most of these functions take additional arguments, with `Z` representing the charge number of an ion and `mass_numb` representing the mass number of an isotope. These arguments are often [keyword-only](https://docs.plasmapy.org/en/latest/glossary.html#term-keyword-only) to avoid ambiguity."
   ]
  },
  {
   "cell_type": "code",
   "execution_count": null,
   "id": "f569cb35-c63e-4a90-b964-3bd39498e48b",
   "metadata": {},
   "outputs": [
    {
     "data": {
      "text/latex": [
       "$9.2870305 \\times 10^{-26} \\; \\mathrm{kg}$"
      ],
      "text/plain": [
       "<Quantity 9.28703048e-26 kg>"
      ]
     },
     "execution_count": null,
     "metadata": {},
     "output_type": "execute_result"
    }
   ],
   "source": [
    "particle_mass(\"Fe\", Z=13, mass_numb=56)"
   ]
  },
  {
   "cell_type": "markdown",
   "id": "cba2ebca-f684-4061-a347-162dd5bb635d",
   "metadata": {},
   "source": [
    "### Particle objects"
   ]
  },
  {
   "cell_type": "markdown",
   "id": "3156f483-c206-489e-afda-3a649ba4f069",
   "metadata": {},
   "source": [
    "[`Particle`]: https://docs.plasmapy.org/en/stable/api/plasmapy.particles.particle_class.Particle.html#plasmapy.particles.particle_class.Particle\n",
    "\n",
    "Up until now, we have been using functions that accept representations of particles and then return particle properties. With the [`Particle`] class, we can create objects that represent physical particles."
   ]
  },
  {
   "cell_type": "code",
   "execution_count": null,
   "id": "e487cac6-9e0f-4f51-8bd5-00925ea7ea8e",
   "metadata": {},
   "outputs": [],
   "source": [
    "proton = Particle(\"p+\")\n",
    "electron = Particle(\"electron\")\n",
    "iron56_nuclide = Particle(\"Fe\", Z=26, mass_numb=56)"
   ]
  },
  {
   "cell_type": "markdown",
   "id": "ce1ca37a-74e2-405c-9194-6d7313680677",
   "metadata": {},
   "source": [
    "[`Particle`]: https://docs.plasmapy.org/en/stable/api/plasmapy.particles.particle_class.Particle.html#plasmapy.particles.particle_class.Particle\n",
    "\n",
    "Particle properties can be accessed via attributes of the [`Particle`] class."
   ]
  },
  {
   "cell_type": "code",
   "execution_count": null,
   "id": "6aa458e2-e142-453e-9600-1aee12244a2b",
   "metadata": {},
   "outputs": [
    {
     "data": {
      "text/latex": [
       "$1.6726219 \\times 10^{-27} \\; \\mathrm{kg}$"
      ],
      "text/plain": [
       "<Quantity 1.67262192e-27 kg>"
      ]
     },
     "execution_count": null,
     "metadata": {},
     "output_type": "execute_result"
    }
   ],
   "source": [
    "proton.mass"
   ]
  },
  {
   "cell_type": "code",
   "execution_count": null,
   "id": "0d7b7b34-df10-4751-8af8-a82d2b8b06e3",
   "metadata": {},
   "outputs": [
    {
     "data": {
      "text/latex": [
       "$-1.6021766 \\times 10^{-19} \\; \\mathrm{C}$"
      ],
      "text/plain": [
       "<Quantity -1.60217663e-19 C>"
      ]
     },
     "execution_count": null,
     "metadata": {},
     "output_type": "execute_result"
    }
   ],
   "source": [
    "electron.charge"
   ]
  },
  {
   "cell_type": "code",
   "execution_count": null,
   "id": "d854ad5c-73df-4223-a519-5cf53aa32384",
   "metadata": {},
   "outputs": [
    {
     "data": {
      "text/plain": [
       "-1"
      ]
     },
     "execution_count": null,
     "metadata": {},
     "output_type": "execute_result"
    }
   ],
   "source": [
    "electron.charge_number"
   ]
  },
  {
   "cell_type": "code",
   "execution_count": null,
   "id": "7d23eb8b-1b41-4044-b5bb-4c0fa643ec3c",
   "metadata": {},
   "outputs": [
    {
     "data": {
      "text/latex": [
       "$7.8868678 \\times 10^{-11} \\; \\mathrm{J}$"
      ],
      "text/plain": [
       "<Quantity 7.88686781e-11 J>"
      ]
     },
     "execution_count": null,
     "metadata": {},
     "output_type": "execute_result"
    }
   ],
   "source": [
    "iron56_nuclide.nuclear_binding_energy"
   ]
  },
  {
   "cell_type": "markdown",
   "id": "a664fac0-61a0-4a3b-b763-fc8141aea44a",
   "metadata": {},
   "source": [
    "#### Antiparticles\n",
    "\n",
    "[`antiparticle`]: https://docs.plasmapy.org/en/stable/api/plasmapy.particles.particle_class.Particle.html#plasmapy.particles.particle_class.Particle.antiparticle\n",
    "[`Particle`]: https://docs.plasmapy.org/en/stable/api/plasmapy.particles.particle_class.Particle.html#plasmapy.particles.particle_class.Particle\n",
    "\n",
    "We can get antiparticles of fundamental particles by using the [`antiparticle`] attribute of a [`Particle`]."
   ]
  },
  {
   "cell_type": "code",
   "execution_count": null,
   "id": "82210c1e-ba47-4fae-aa85-f80d5b6f6b5c",
   "metadata": {},
   "outputs": [
    {
     "data": {
      "text/plain": [
       "Particle(\"e+\")"
      ]
     },
     "execution_count": null,
     "metadata": {},
     "output_type": "execute_result"
    }
   ],
   "source": [
    "electron.antiparticle"
   ]
  },
  {
   "cell_type": "markdown",
   "id": "15cfabd5-9926-4a1d-841f-c4af6ee3afa3",
   "metadata": {},
   "source": [
    "[`Particle`]: https://docs.plasmapy.org/en/stable/api/plasmapy.particles.particle_class.Particle.html#plasmapy.particles.particle_class.Particle\n",
    "\n",
    "\n",
    "We can also use the tilde (`~`) operator on a [`Particle`] to get its antiparticle."
   ]
  },
  {
   "cell_type": "code",
   "execution_count": null,
   "id": "6f05ca4f-948c-4799-a487-08d6395e7368",
   "metadata": {},
   "outputs": [
    {
     "data": {
      "text/plain": [
       "Particle(\"p-\")"
      ]
     },
     "execution_count": null,
     "metadata": {},
     "output_type": "execute_result"
    }
   ],
   "source": [
    "~proton"
   ]
  },
  {
   "cell_type": "markdown",
   "id": "9a3db929-ebf1-4246-8795-b87680a52150",
   "metadata": {},
   "source": [
    "#### Ionization and recombination\n",
    "\n",
    "[`Particle`]: https://docs.plasmapy.org/en/stable/api/plasmapy.particles.particle_class.Particle.html#plasmapy.particles.particle_class.Particle\n",
    "[`recombine()`]: https://docs.plasmapy.org/en/stable/api/plasmapy.particles.particle_class.Particle.html#plasmapy.particles.particle_class.Particle.recombine\n",
    "[`ionize()`]: https://docs.plasmapy.org/en/stable/api/plasmapy.particles.particle_class.Particle.html#plasmapy.particles.particle_class.Particle.ionize\n",
    "\n",
    "The [`recombine()`] and [`ionize()`] methods of a [`Particle`] representing an ion or neutral atom will return a different [`Particle`] with fewer or more electrons."
   ]
  },
  {
   "cell_type": "code",
   "execution_count": null,
   "id": "f8258f91-a981-44b0-8498-1cafbce4a46e",
   "metadata": {},
   "outputs": [
    {
     "data": {
      "text/plain": [
       "Particle(\"D 1+\")"
      ]
     },
     "execution_count": null,
     "metadata": {},
     "output_type": "execute_result"
    }
   ],
   "source": [
    "deuterium = Particle(\"D 0+\")\n",
    "deuterium.ionize()"
   ]
  },
  {
   "cell_type": "markdown",
   "id": "72be4505-d02b-4ce9-84c6-f2dcf56af2b1",
   "metadata": {},
   "source": [
    "When provided with a number, these methods tell how many bound electrons to add or remove."
   ]
  },
  {
   "cell_type": "code",
   "execution_count": null,
   "id": "e342e076-d667-467a-9f9e-72497b8e4362",
   "metadata": {},
   "outputs": [
    {
     "data": {
      "text/plain": [
       "Particle(\"He-4 0+\")"
      ]
     },
     "execution_count": null,
     "metadata": {},
     "output_type": "execute_result"
    }
   ],
   "source": [
    "alpha = Particle(\"alpha\")\n",
    "alpha.recombine(2)"
   ]
  },
  {
   "cell_type": "markdown",
   "id": "0fb5d0ca-a5d9-46e3-b101-edb0fd6668bb",
   "metadata": {},
   "source": [
    "[`CustomParticle`]: https://docs.plasmapy.org/en/stable/api/plasmapy.particles.particle_class.CustomParticle.html\n",
    "\n",
    "Sometimes we want to use a particle with custom properties.  For example, we might want to represent an average ion in a multi-species plasma or a dust particle.  For that we can use [`CustomParticle`]."
   ]
  },
  {
   "cell_type": "code",
   "execution_count": null,
   "id": "4a368e52-6893-45ac-a999-036246ad8c28",
   "metadata": {},
   "outputs": [],
   "source": [
    "cp = CustomParticle(9e-26 * u.kg, 2.18e-18 * u.C, symbol=\"Fe 13.6+\")"
   ]
  },
  {
   "cell_type": "markdown",
   "id": "20d59a2a-7858-474b-a5f7-487e150eb8da",
   "metadata": {},
   "source": [
    "[`CustomParticle`]: https://docs.plasmapy.org/en/stable/api/plasmapy.particles.particle_class.CustomParticle.html\n",
    "[`Particle`]: https://docs.plasmapy.org/en/stable/api/plasmapy.particles.particle_class.Particle.html\n",
    "\n",
    "Many of the attributes of [`CustomParticle`] are the same as in [`Particle`]."
   ]
  },
  {
   "cell_type": "code",
   "execution_count": null,
   "id": "1433f398-9c48-4c56-909a-70028c2a179e",
   "metadata": {},
   "outputs": [
    {
     "data": {
      "text/latex": [
       "$9 \\times 10^{-26} \\; \\mathrm{kg}$"
      ],
      "text/plain": [
       "<Quantity 9.e-26 kg>"
      ]
     },
     "execution_count": null,
     "metadata": {},
     "output_type": "execute_result"
    }
   ],
   "source": [
    "cp.mass"
   ]
  },
  {
   "cell_type": "code",
   "execution_count": null,
   "id": "d104f483-213a-47c0-9e2d-12d415866c7f",
   "metadata": {},
   "outputs": [
    {
     "data": {
      "text/latex": [
       "$2.18 \\times 10^{-18} \\; \\mathrm{C}$"
      ],
      "text/plain": [
       "<Quantity 2.18e-18 C>"
      ]
     },
     "execution_count": null,
     "metadata": {},
     "output_type": "execute_result"
    }
   ],
   "source": [
    "cp.charge"
   ]
  },
  {
   "cell_type": "code",
   "execution_count": null,
   "id": "82e774e8-2320-4ede-bf81-5572735f0b72",
   "metadata": {},
   "outputs": [
    {
     "data": {
      "text/plain": [
       "'Fe 13.6+'"
      ]
     },
     "execution_count": null,
     "metadata": {},
     "output_type": "execute_result"
    }
   ],
   "source": [
    "cp.symbol"
   ]
  },
  {
   "cell_type": "markdown",
   "id": "096ed99a-a5b9-4ae6-aa7b-b07e6e41fb7b",
   "metadata": {},
   "source": [
    "[`numpy.nan`]: https://numpy.org/doc/stable/reference/constants.html#numpy.nan\n",
    "\n",
    "If we do not include one of the physical quantities, it gets set to [`numpy.nan`] (not a number) in the appropriate units."
   ]
  },
  {
   "cell_type": "code",
   "execution_count": null,
   "id": "0ed3bd03-d2f1-479d-aa3c-872e89791c89",
   "metadata": {},
   "outputs": [
    {
     "data": {
      "text/latex": [
       "${\\rm NaN} \\; \\mathrm{C}$"
      ],
      "text/plain": [
       "<Quantity nan C>"
      ]
     },
     "execution_count": null,
     "metadata": {},
     "output_type": "execute_result"
    }
   ],
   "source": [
    "CustomParticle(9.27e-26 * u.kg).charge"
   ]
  },
  {
   "cell_type": "markdown",
   "id": "04ec45a6-e97e-4340-bac6-3c20dbdda7ec",
   "metadata": {},
   "source": [
    "[`CustomParticle`]: https://docs.plasmapy.org/en/stable/api/plasmapy.particles.particle_class.CustomParticle.html\n",
    "[`plasmapy.formulary`]: https://docs.plasmapy.org/en/stable/formulary/index.html\n",
    "\n",
    "[`CustomParticle`] objects can provided to most of the commonly used functions in [`plasmapy.formulary`], and we're planning to improve interoperability in future releases of PlasmaPy."
   ]
  },
  {
   "cell_type": "markdown",
   "id": "b970c4ea-242e-403e-b25f-dd4e916b0240",
   "metadata": {},
   "source": [
    "### Particle lists"
   ]
  },
  {
   "cell_type": "markdown",
   "id": "41ceede6-66f2-4e8e-81aa-6bbcb4fc4ce7",
   "metadata": {},
   "source": [
    "[`ParticleList`]: https://docs.plasmapy.org/en/stable/api/plasmapy.particles.particle_collections.ParticleList.html\n",
    "[`CustomParticle`]: https://docs.plasmapy.org/en/stable/api/plasmapy.particles.particle_class.CustomParticle.html\n",
    "[`Particle`]: https://docs.plasmapy.org/en/stable/api/plasmapy.particles.particle_class.Particle.html\n",
    "\n",
    "The [`ParticleList`] class is a container for [`Particle`] and [`CustomParticle`] objects."
   ]
  },
  {
   "cell_type": "code",
   "execution_count": null,
   "id": "6f39045a-515d-4f39-ba1c-e42e68fbd8d6",
   "metadata": {},
   "outputs": [],
   "source": [
    "iron_ions = ParticleList([\"Fe 12+\", \"Fe 13+\", \"Fe 14+\"])"
   ]
  },
  {
   "cell_type": "markdown",
   "id": "70982a1d-5ee8-46e6-ba39-0443d0704175",
   "metadata": {},
   "source": [
    "[`ParticleList`]: https://docs.plasmapy.org/en/stable/api/plasmapy.particles.particle_collections.ParticleList.html\n",
    "\n",
    "By using a [`ParticleList`], we can access the properties of multiple particles at once."
   ]
  },
  {
   "cell_type": "code",
   "execution_count": null,
   "id": "80eee7e6-942d-4967-984b-fcb3f1d0f8ef",
   "metadata": {},
   "outputs": [
    {
     "data": {
      "text/latex": [
       "$[9.2721873 \\times 10^{-26},~9.2720962 \\times 10^{-26},~9.2720051 \\times 10^{-26}] \\; \\mathrm{kg}$"
      ],
      "text/plain": [
       "<Quantity [9.27218729e-26, 9.27209620e-26, 9.27200510e-26] kg>"
      ]
     },
     "execution_count": null,
     "metadata": {},
     "output_type": "execute_result"
    }
   ],
   "source": [
    "iron_ions.mass"
   ]
  },
  {
   "cell_type": "code",
   "execution_count": null,
   "id": "1b28fb23-77bd-452a-a482-0f67e5069029",
   "metadata": {},
   "outputs": [
    {
     "data": {
      "text/latex": [
       "$[1.922612 \\times 10^{-18},~2.0828296 \\times 10^{-18},~2.2430473 \\times 10^{-18}] \\; \\mathrm{C}$"
      ],
      "text/plain": [
       "<Quantity [1.92261196e-18, 2.08282962e-18, 2.24304729e-18] C>"
      ]
     },
     "execution_count": null,
     "metadata": {},
     "output_type": "execute_result"
    }
   ],
   "source": [
    "iron_ions.charge"
   ]
  },
  {
   "cell_type": "code",
   "execution_count": null,
   "id": "492c7139-7a6e-404c-acf9-20082245b7a2",
   "metadata": {},
   "outputs": [
    {
     "data": {
      "text/plain": [
       "['Fe 12+', 'Fe 13+', 'Fe 14+']"
      ]
     },
     "execution_count": null,
     "metadata": {},
     "output_type": "execute_result"
    }
   ],
   "source": [
    "iron_ions.symbols"
   ]
  },
  {
   "cell_type": "markdown",
   "id": "073f795f-b48d-461b-ac26-ecc2cf527c74",
   "metadata": {},
   "source": [
    "[`ParticleList`]: https://docs.plasmapy.org/en/stable/api/plasmapy.particles.particle_collections.ParticleList.html\n",
    "[`CustomParticle`]: https://docs.plasmapy.org/en/stable/api/plasmapy.particles.particle_class.CustomParticle.html\n",
    "[`Particle`]: https://docs.plasmapy.org/en/stable/api/plasmapy.particles.particle_class.Particle.html\n",
    "\n",
    "We can also create a [`ParticleList`] by adding [`Particle`] and/or [`CustomParticle`] objects together."
   ]
  },
  {
   "cell_type": "code",
   "execution_count": null,
   "id": "5a8b55b1-4a11-4e26-931d-8207f4a35b80",
   "metadata": {},
   "outputs": [
    {
     "data": {
      "text/plain": [
       "ParticleList(['p+', 'e-'])"
      ]
     },
     "execution_count": null,
     "metadata": {},
     "output_type": "execute_result"
    }
   ],
   "source": [
    "proton + electron"
   ]
  },
  {
   "cell_type": "markdown",
   "id": "bc2394f1-063a-411a-8475-a9b82dbe07f9",
   "metadata": {},
   "source": [
    "We can also get an average particle."
   ]
  },
  {
   "cell_type": "code",
   "execution_count": null,
   "id": "8fd1543e-01cf-4764-861c-b1d0c8f68d91",
   "metadata": {},
   "outputs": [
    {
     "data": {
      "text/plain": [
       "CustomParticle(mass=9.272096197546505e-26 kg, charge=2.0828296241999997e-18 C)"
      ]
     },
     "execution_count": null,
     "metadata": {},
     "output_type": "execute_result"
    }
   ],
   "source": [
    "iron_ions.average_particle()"
   ]
  },
  {
   "cell_type": "markdown",
   "id": "0fbf44ab-5fae-4332-9efe-42aa41fcf7a3",
   "metadata": {},
   "source": [
    "[`ParticleList`]: https://docs.plasmapy.org/en/stable/api/plasmapy.particles.particle_collections.ParticleList.html\n",
    "[`plasmapy.formulary`]: https://docs.plasmapy.org/en/stable/formulary/index.html\n",
    "\n",
    "[`ParticleList`] objects can also be provided to the most commonly used functions in [`plasmapy.formulary`], with more complete interoperability expected in the future."
   ]
  },
  {
   "cell_type": "markdown",
   "id": "08f36ef4-c3d0-400c-8988-91e74e1670ef",
   "metadata": {},
   "source": [
    "### Nuclear reactions"
   ]
  },
  {
   "cell_type": "markdown",
   "id": "8b961528-0424-45b8-8b95-2860cc88c324",
   "metadata": {},
   "source": [
    "[`plasmapy.particles`]: https://docs.plasmapy.org/en/stable/particles/index.html\n",
    "\n",
    "We can use [`plasmapy.particles`] to calculate the energy of a nuclear reaction using the `>` operator.  "
   ]
  },
  {
   "cell_type": "code",
   "execution_count": null,
   "id": "28c035da-6ebb-43d6-ab67-a08b7b0d89ee",
   "metadata": {},
   "outputs": [],
   "source": [
    "deuteron = Particle(\"D+\")\n",
    "triton = Particle(\"T+\")\n",
    "alpha = Particle(\"α\")\n",
    "neutron = Particle(\"n\")"
   ]
  },
  {
   "cell_type": "code",
   "execution_count": null,
   "id": "b7755702-11af-4ff9-a04a-977cc6326edd",
   "metadata": {},
   "outputs": [],
   "source": [
    "energy = deuteron + triton > alpha + neutron"
   ]
  },
  {
   "cell_type": "code",
   "execution_count": null,
   "id": "f18d0705-7562-4de2-8ae9-43e6c777ff25",
   "metadata": {},
   "outputs": [
    {
     "data": {
      "text/latex": [
       "$17.589253 \\; \\mathrm{MeV}$"
      ],
      "text/plain": [
       "<Quantity 17.58925276 MeV>"
      ]
     },
     "execution_count": null,
     "metadata": {},
     "output_type": "execute_result"
    }
   ],
   "source": [
    "energy.to(\"MeV\")"
   ]
  },
  {
   "cell_type": "markdown",
   "id": "2a0a5b61-65fb-4b30-b3b3-7e50967913a7",
   "metadata": {},
   "source": [
    "If the nuclear reaction is invalid, then an exception is raised that states the reason why."
   ]
  },
  {
   "cell_type": "code",
   "execution_count": null,
   "id": "cf755f73-d6e5-416b-868a-341ad6035b27",
   "metadata": {},
   "outputs": [
    {
     "ename": "ParticleError",
     "evalue": "The baryon number is not conserved for reactants = [Particle(\"D 1+\"), Particle(\"T 1+\")] and products = [Particle(\"He-4 2+\"), Particle(\"n\"), Particle(\"n\"), Particle(\"n\")].",
     "output_type": "error",
     "traceback": [
      "\u001b[1;31m---------------------------------------------------------------------------\u001b[0m",
      "\u001b[1;31mParticleError\u001b[0m                             Traceback (most recent call last)",
      "Cell \u001b[1;32mIn[38], line 1\u001b[0m\n\u001b[1;32m----> 1\u001b[0m \u001b[43mdeuteron\u001b[49m\u001b[43m \u001b[49m\u001b[38;5;241;43m+\u001b[39;49m\u001b[43m \u001b[49m\u001b[43mtriton\u001b[49m\u001b[43m \u001b[49m\u001b[38;5;241;43m>\u001b[39;49m\u001b[43m \u001b[49m\u001b[43malpha\u001b[49m\u001b[43m \u001b[49m\u001b[38;5;241;43m+\u001b[39;49m\u001b[43m \u001b[49m\u001b[38;5;241;43m3\u001b[39;49m\u001b[43m \u001b[49m\u001b[38;5;241;43m*\u001b[39;49m\u001b[43m \u001b[49m\u001b[43mneutron\u001b[49m\n",
      "File \u001b[1;32m~\\miniconda3\\envs\\cal\\Lib\\site-packages\\plasmapy\\particles\\particle_collections.py:229\u001b[0m, in \u001b[0;36mParticleList.__gt__\u001b[1;34m(self, other)\u001b[0m\n\u001b[0;32m    226\u001b[0m \u001b[38;5;28;01mfrom\u001b[39;00m \u001b[38;5;21;01mplasmapy\u001b[39;00m\u001b[38;5;21;01m.\u001b[39;00m\u001b[38;5;21;01mparticles\u001b[39;00m\u001b[38;5;21;01m.\u001b[39;00m\u001b[38;5;21;01mnuclear\u001b[39;00m \u001b[38;5;28;01mimport\u001b[39;00m nuclear_reaction_energy\n\u001b[0;32m    228\u001b[0m other_as_particle_list \u001b[38;5;241m=\u001b[39m \u001b[38;5;28mself\u001b[39m\u001b[38;5;241m.\u001b[39m_cast_other_as_particle_list(other)\n\u001b[1;32m--> 229\u001b[0m \u001b[38;5;28;01mreturn\u001b[39;00m \u001b[43mnuclear_reaction_energy\u001b[49m\u001b[43m(\u001b[49m\n\u001b[0;32m    230\u001b[0m \u001b[43m    \u001b[49m\u001b[43mreactants\u001b[49m\u001b[38;5;241;43m=\u001b[39;49m\u001b[38;5;28;43mself\u001b[39;49m\u001b[38;5;241;43m.\u001b[39;49m\u001b[43msymbols\u001b[49m\u001b[43m,\u001b[49m\u001b[43m \u001b[49m\u001b[43mproducts\u001b[49m\u001b[38;5;241;43m=\u001b[39;49m\u001b[43mother_as_particle_list\u001b[49m\u001b[38;5;241;43m.\u001b[39;49m\u001b[43msymbols\u001b[49m\n\u001b[0;32m    231\u001b[0m \u001b[43m\u001b[49m\u001b[43m)\u001b[49m\n",
      "File \u001b[1;32m~\\miniconda3\\envs\\cal\\Lib\\site-packages\\plasmapy\\particles\\nuclear.py:309\u001b[0m, in \u001b[0;36mnuclear_reaction_energy\u001b[1;34m(*args, **kwargs)\u001b[0m\n\u001b[0;32m    306\u001b[0m         \u001b[38;5;28;01mraise\u001b[39;00m ParticleError(errmsg) \u001b[38;5;28;01mfrom\u001b[39;00m \u001b[38;5;21;01me\u001b[39;00m\n\u001b[0;32m    308\u001b[0m \u001b[38;5;28;01mif\u001b[39;00m total_baryon_number(reactants) \u001b[38;5;241m!=\u001b[39m total_baryon_number(products):\n\u001b[1;32m--> 309\u001b[0m     \u001b[38;5;28;01mraise\u001b[39;00m ParticleError(\n\u001b[0;32m    310\u001b[0m         \u001b[38;5;124mf\u001b[39m\u001b[38;5;124m\"\u001b[39m\u001b[38;5;124mThe baryon number is not conserved for \u001b[39m\u001b[38;5;132;01m{\u001b[39;00mreactants\u001b[38;5;250m \u001b[39m\u001b[38;5;132;01m= }\u001b[39;00m\u001b[38;5;124m and \u001b[39m\u001b[38;5;132;01m{\u001b[39;00mproducts\u001b[38;5;250m \u001b[39m\u001b[38;5;132;01m= }\u001b[39;00m\u001b[38;5;124m.\u001b[39m\u001b[38;5;124m\"\u001b[39m\n\u001b[0;32m    311\u001b[0m     )\n\u001b[0;32m    313\u001b[0m \u001b[38;5;28;01mif\u001b[39;00m total_charge(reactants) \u001b[38;5;241m!=\u001b[39m total_charge(products):\n\u001b[0;32m    314\u001b[0m     \u001b[38;5;28;01mraise\u001b[39;00m ParticleError(\n\u001b[0;32m    315\u001b[0m         \u001b[38;5;124mf\u001b[39m\u001b[38;5;124m\"\u001b[39m\u001b[38;5;124mTotal charge is not conserved for \u001b[39m\u001b[38;5;132;01m{\u001b[39;00mreactants\u001b[38;5;250m \u001b[39m\u001b[38;5;132;01m= }\u001b[39;00m\u001b[38;5;124m and \u001b[39m\u001b[38;5;132;01m{\u001b[39;00mproducts\u001b[38;5;250m \u001b[39m\u001b[38;5;132;01m= }\u001b[39;00m\u001b[38;5;124m.\u001b[39m\u001b[38;5;124m\"\u001b[39m\n\u001b[0;32m    316\u001b[0m     )\n",
      "\u001b[1;31mParticleError\u001b[0m: The baryon number is not conserved for reactants = [Particle(\"D 1+\"), Particle(\"T 1+\")] and products = [Particle(\"He-4 2+\"), Particle(\"n\"), Particle(\"n\"), Particle(\"n\")]."
     ]
    }
   ],
   "source": [
    "deuteron + triton > alpha + 3 * neutron"
   ]
  },
  {
   "cell_type": "markdown",
   "id": "9a93d8f0-882b-49eb-b012-ca7c4cac77f1",
   "metadata": {},
   "source": [
    "## PlasmaPy formulary\n",
    "\n",
    "[`plasmapy.formulary`]: https://docs.plasmapy.org/en/stable/formulary/index.html\n",
    "\n",
    "The [`plasmapy.formulary`] subpackage contains a broad variety of formulas needed by plasma scientists across disciplines, in particular to calculate plasma parameters."
   ]
  },
  {
   "cell_type": "code",
   "execution_count": null,
   "id": "7e24d7f1-e65f-479f-823d-9f34db4f7326",
   "metadata": {},
   "outputs": [],
   "source": [
    "from plasmapy.formulary import *"
   ]
  },
  {
   "cell_type": "markdown",
   "id": "07a3b50a-070f-48db-9023-161c3d4814dc",
   "metadata": {},
   "source": [
    "### Plasma beta in the solar corona"
   ]
  },
  {
   "cell_type": "markdown",
   "id": "c43db6fe-ec1a-4131-ac76-5dc2f55f7823",
   "metadata": {},
   "source": [
    "[Plasma beta]: https://en.wikipedia.org/wiki/Beta_(plasma_physics)\n",
    "\n",
    "[Plasma beta] ($β$) is one of the most fundamental plasma parameters. $β$ is the ratio of the plasma (gas) pressure to the magnetic pressure. How a plasma behaves depends strongly on $β$. When $β ≫ 1$, the magnetic field is not strong enough to exert much of a force on the plasma, so its motions start to resemble a gas. When $β ≪ 1$, magnetic tension and pressure are the dominant macroscopic forces. \n",
    "\n",
    "Let's use [`plasmapy.formulary`](https://docs.plasmapy.org/en/stable/formulary/index.html) to calculate plasma β in different regions of the solar atmosphere and see what we can learn."
   ]
  },
  {
   "cell_type": "markdown",
   "id": "37b05d81-0862-4bfb-a9b0-27dca37fdb02",
   "metadata": {},
   "source": [
    "#### Solar corona"
   ]
  },
  {
   "cell_type": "markdown",
   "id": "57814cda-43cf-4c95-b6ec-2ce6a9d57a7b",
   "metadata": {},
   "source": [
    "Let's start by defining some plasma parameters for an active region in the solar corona."
   ]
  },
  {
   "cell_type": "code",
   "execution_count": null,
   "id": "ad051ed7-f91f-42bb-b5f5-b427e8fe261b",
   "metadata": {},
   "outputs": [],
   "source": [
    "B_corona = 50 * u.G\n",
    "n_corona = 1e9 * u.cm ** -3\n",
    "T_corona = 1 * u.MK"
   ]
  },
  {
   "cell_type": "markdown",
   "id": "6224f1b1-b3a3-4ea4-b5b0-a2d0e7bb0b7a",
   "metadata": {},
   "source": [
    "When we use these parameters in [`beta`](https://docs.plasmapy.org/en/stable/api/plasmapy.formulary.dimensionless.beta.html#plasmapy.formulary.dimensionless.beta), we find that $β$ is quite small so that the corona is magnetically dominated."
   ]
  },
  {
   "cell_type": "code",
   "execution_count": null,
   "id": "b42330e4-b8b5-4fcc-8a61-1bdc070fcf8a",
   "metadata": {},
   "outputs": [
    {
     "data": {
      "text/latex": [
       "$0.0013879798 \\; \\mathrm{}$"
      ],
      "text/plain": [
       "<Quantity 0.00138798>"
      ]
     },
     "execution_count": null,
     "metadata": {},
     "output_type": "execute_result"
    }
   ],
   "source": [
    "beta(T=T_corona, n=n_corona, B=B_corona)"
   ]
  },
  {
   "cell_type": "markdown",
   "id": "dc06992f-30b1-4e87-bdad-84f6d948372e",
   "metadata": {},
   "source": [
    "#### Solar photosphere"
   ]
  },
  {
   "cell_type": "markdown",
   "id": "87c1f65e-b2bd-4b33-8f26-5c7d6849b9c1",
   "metadata": {},
   "source": [
    "Let's specify some characteristic plasma parameters for the solar photosphere, away from any sunspots."
   ]
  },
  {
   "cell_type": "code",
   "execution_count": null,
   "id": "6a8c69cb-b84e-4395-8d65-422dfc992d87",
   "metadata": {},
   "outputs": [],
   "source": [
    "B_photosphere = 400 * u.G\n",
    "n_photosphere = 1e17 * u.cm ** -3\n",
    "T_photosphere = 5800 * u.K"
   ]
  },
  {
   "cell_type": "markdown",
   "id": "18587343-9e4f-41ec-a4d0-dae429bd6143",
   "metadata": {},
   "source": [
    "When we calculate for the photosphere, we find that it is an order of magnitude larger than 1, so plasma pressure forces are more important than magnetic tension and pressure."
   ]
  },
  {
   "cell_type": "code",
   "execution_count": null,
   "id": "4c5d78ed-2cfb-4621-b81c-379d0cbadd9a",
   "metadata": {},
   "outputs": [
    {
     "data": {
      "text/latex": [
       "$12.578567 \\; \\mathrm{}$"
      ],
      "text/plain": [
       "<Quantity 12.5785666>"
      ]
     },
     "execution_count": null,
     "metadata": {},
     "output_type": "execute_result"
    }
   ],
   "source": [
    "beta(T_photosphere, n_photosphere, B_photosphere)"
   ]
  },
  {
   "cell_type": "markdown",
   "id": "9fd50f92-56f1-4590-a040-215937ce91e1",
   "metadata": {},
   "source": [
    "### Plasma parameters in Earth's magnetosphere"
   ]
  },
  {
   "cell_type": "markdown",
   "id": "aaca7812-b5ef-454e-8d93-9adc3840cf11",
   "metadata": {},
   "source": [
    "[magnetic reconnection]: https://en.wikipedia.org/wiki/Magnetic_reconnection\n",
    "[`plasmapy.formulary`]: https://docs.plasmapy.org/en/stable/formulary/index.html\n",
    "\n",
    "The [*Magnetospheric Multiscale Mission*](https://www.nasa.gov/mission_pages/mms/overview/index.html) (*MMS*) is a constellation of four identical spacecraft. The goal of *MMS* is to investigate the small-scale physics of [magnetic reconnection] in Earth's magnetosphere. In order to do this, the spacecraft need to orbit in a tight configuration.  But how tight does the tetrahedron have to be?  Let's use [`plasmapy.formulary`] to find out."
   ]
  },
  {
   "cell_type": "markdown",
   "id": "cf8adf39-37ed-4298-83c3-93cc6e390c52",
   "metadata": {},
   "source": [
    "#### Physics background"
   ]
  },
  {
   "cell_type": "markdown",
   "id": "1a8e4b65-713d-4a16-bdff-ea261148f0f3",
   "metadata": {},
   "source": [
    "[Magnetic reconnection]: https://en.wikipedia.org/wiki/Magnetic_reconnection\n",
    "\n",
    "[Magnetic reconnection] is the fundamental plasma process that converts stored magnetic energy into kinetic energy, thermal energy, and particle acceleration. Reconnection powers solar flares and is a key component of geomagnetic storms in Earth's magnetosphere. Reconnection can also degrade confinement in fusion devices such as tokamaks.\n",
    "\n",
    "The **inertial length** is the characteristic length scale for a particle to get accelerated or decelerated by electromagnetic forces in a plasma.\n",
    "\n",
    "When the reconnection layer thickness is shorter than the **ion inertial length**, $d_i ≡ c/ω_{pi}$, collisionless effects and the Hall effect enable reconnection to be fast (Zweibel & Yamada 2009). The inner electron diffusion region has a thickness of about the **electron inertial length**, $d_e ≡ c/ω_{pi}$. (Here, $ω_{pi}$ and $ω_{pe}$ are the ion and electron plasma frequencies.)\n",
    "\n",
    "**Our goal: calculate $d_i$ and $d_e$ to get an idea of how far the MMS spacecraft should be separated from each other to investigate reconnection.**"
   ]
  },
  {
   "cell_type": "markdown",
   "id": "df3464c2-a662-4e10-8d3a-728a13da2d59",
   "metadata": {},
   "source": [
    "### Length scales"
   ]
  },
  {
   "cell_type": "markdown",
   "id": "24d55877-ad77-4a55-94ad-912cf4868deb",
   "metadata": {},
   "source": [
    "Let's choose some characteristic plasma parameters for the magnetosphere."
   ]
  },
  {
   "cell_type": "code",
   "execution_count": null,
   "id": "71911621-1b72-4e8c-942f-0bcf3949e8c4",
   "metadata": {},
   "outputs": [],
   "source": [
    "n = 1 * u.cm ** -3\n",
    "B = 5 * u.nT\n",
    "T = 10 ** 4.5 * u.K"
   ]
  },
  {
   "cell_type": "markdown",
   "id": "2184e7a5-b657-448b-b853-d0456f321717",
   "metadata": {},
   "source": [
    "Let's calculate the ion inertial length, $d_i$. On length scales shorter than $d_i$, the Hall effect becomes important as the ions and electrons decouple from each other."
   ]
  },
  {
   "cell_type": "code",
   "execution_count": null,
   "id": "f710892c-d4c6-4ac9-b854-52bdf130e632",
   "metadata": {},
   "outputs": [
    {
     "data": {
      "text/latex": [
       "$227.71077 \\; \\mathrm{km}$"
      ],
      "text/plain": [
       "<Quantity 227.71076725 km>"
      ]
     },
     "execution_count": null,
     "metadata": {},
     "output_type": "execute_result"
    }
   ],
   "source": [
    "inertial_length(n=n, particle=\"p+\").to(\"km\")"
   ]
  },
  {
   "cell_type": "markdown",
   "id": "fcc22ebf-3ec9-47b9-9ef4-79d6eb1b0a78",
   "metadata": {},
   "source": [
    "The ion diffusion regions should therefore be a few hundred kilometers thick. Let's calculate the electron inertial length next."
   ]
  },
  {
   "cell_type": "code",
   "execution_count": null,
   "id": "91753e82-abda-480f-879a-9dee7678d2bd",
   "metadata": {},
   "outputs": [
    {
     "data": {
      "text/latex": [
       "$5.3140933 \\; \\mathrm{km}$"
      ],
      "text/plain": [
       "<Quantity 5.31409326 km>"
      ]
     },
     "execution_count": null,
     "metadata": {},
     "output_type": "execute_result"
    }
   ],
   "source": [
    "inertial_length(n=n, particle=\"e-\").to(\"km\")"
   ]
  },
  {
   "cell_type": "markdown",
   "id": "9c58091b-e964-44b1-92bb-847032060ac5",
   "metadata": {},
   "source": [
    "The electron diffusion region should therefore have a characteristic length scale of a few kilometers, which is significantly smaller than the ion diffusion region."
   ]
  },
  {
   "cell_type": "markdown",
   "id": "777d9cc2-9868-4f69-a006-3d5f83d9c11c",
   "metadata": {},
   "source": [
    "We can also calculate the gyroradii for different particles "
   ]
  },
  {
   "cell_type": "code",
   "execution_count": null,
   "id": "9adadb77-ebf6-4fa7-ad83-682b55d4e5cf",
   "metadata": {},
   "outputs": [
    {
     "data": {
      "text/latex": [
       "$[1.1133278,~47.706234] \\; \\mathrm{km}$"
      ],
      "text/plain": [
       "<Quantity [ 1.1133278 , 47.70623408] km>"
      ]
     },
     "execution_count": null,
     "metadata": {},
     "output_type": "execute_result"
    }
   ],
   "source": [
    "gyroradius(B=B, particle=[\"e-\", \"p+\"], T=T).to(\"km\")"
   ]
  },
  {
   "cell_type": "markdown",
   "id": "c70ee34c-677e-4236-aecb-14030bc390be",
   "metadata": {},
   "source": [
    "The four *MMS* spacecraft have separations of ten to hundreds of kilometers, and thus are well-positioned to investigate Hall physics during reconnection in the magnetosphere."
   ]
  },
  {
   "cell_type": "markdown",
   "id": "d210787c-9b23-4af2-8bba-bc18205561f7",
   "metadata": {},
   "source": [
    "#### Frequencies"
   ]
  },
  {
   "cell_type": "markdown",
   "id": "800ab5f7-9480-4a80-97cd-c1c64ad0a894",
   "metadata": {},
   "source": [
    "We can also calculate some of the fundamental frequencies associated with magnetospheric plasma. "
   ]
  },
  {
   "cell_type": "code",
   "execution_count": null,
   "id": "c569b4c7-a62d-43df-81ed-52e860541b9d",
   "metadata": {},
   "outputs": [
    {
     "data": {
      "text/latex": [
       "$[1316.5493,~56414.602] \\; \\mathrm{\\frac{rad}{s}}$"
      ],
      "text/plain": [
       "<Quantity [ 1316.54932976, 56414.60231181] rad / s>"
      ]
     },
     "execution_count": null,
     "metadata": {},
     "output_type": "execute_result"
    }
   ],
   "source": [
    "plasma_frequency(n=n, particle=[\"p+\", \"e-\"])"
   ]
  },
  {
   "cell_type": "code",
   "execution_count": null,
   "id": "39a3ddba-de0c-4718-bf8f-c2fe4e62e172",
   "metadata": {},
   "outputs": [
    {
     "data": {
      "text/latex": [
       "$[0.47894166,~879.41001] \\; \\mathrm{\\frac{rad}{s}}$"
      ],
      "text/plain": [
       "<Quantity [4.78941658e-01, 8.79410005e+02] rad / s>"
      ]
     },
     "execution_count": null,
     "metadata": {},
     "output_type": "execute_result"
    }
   ],
   "source": [
    "gyrofrequency(B=B, particle=[\"p+\", \"e-\"])"
   ]
  },
  {
   "cell_type": "code",
   "execution_count": null,
   "id": "4191b179-17aa-4f8e-b96e-408c64cc6c4d",
   "metadata": {},
   "outputs": [
    {
     "data": {
      "text/latex": [
       "$20.520326 \\; \\mathrm{\\frac{rad}{s}}$"
      ],
      "text/plain": [
       "<Quantity 20.52032563 rad / s>"
      ]
     },
     "execution_count": null,
     "metadata": {},
     "output_type": "execute_result"
    }
   ],
   "source": [
    "lower_hybrid_frequency(B=B, n_i=n, ion=\"p+\")"
   ]
  },
  {
   "cell_type": "markdown",
   "id": "0f788267-1d7b-402c-b202-07432393101a",
   "metadata": {},
   "source": [
    "[`lower_hybrid_frequency`]: https://docs.plasmapy.org/en/stable/api/plasmapy.formulary.frequencies.lower_hybrid_frequency.html#lower-hybrid-frequency\n",
    "[`plasmapy.formulary`]: https://docs.plasmapy.org/en/stable/formulary/index.html\n",
    "\n",
    "\n",
    "Most of the functions in [`plasmapy.formulary`] have descriptions of the plasma parameters that include the formula and physical interpretation.  If we ever forget what the [`lower_hybrid_frequency`] represents, we can check out its documentation page!  "
   ]
  },
  {
   "cell_type": "markdown",
   "id": "8a14ec67-d581-42cd-aff4-d92441346b23",
   "metadata": {},
   "source": [
    "### Ionization state data structures (if time)"
   ]
  },
  {
   "cell_type": "markdown",
   "id": "e30e15c6-310b-426f-9eaf-42a25698d6c5",
   "metadata": {},
   "source": [
    "The ionization state distribution for an element refers to the fractions of that element at each ionic level. For example, the charge state of helium might be 10% He I, 70% He II, and 20% He III. Let's store this information in an IonizationState object, and specify the number density of the element too."
   ]
  },
  {
   "cell_type": "code",
   "execution_count": null,
   "id": "9591c891-9a7c-443c-bcc6-07fc1a45f3c5",
   "metadata": {},
   "outputs": [],
   "source": [
    "He_states = IonizationState(\"He-4\", [0.1, 0.7, 0.2], n_elem = 1e7 * u.cm ** -3)"
   ]
  },
  {
   "cell_type": "markdown",
   "id": "837d7bc5-5c4e-410e-8391-f79bea7e5c38",
   "metadata": {},
   "source": [
    "We can use the `summarize()` method to get information about the ionization state."
   ]
  },
  {
   "cell_type": "code",
   "execution_count": null,
   "id": "37a7f221-326c-4643-af41-e741f7745311",
   "metadata": {},
   "outputs": [
    {
     "name": "stdout",
     "output_type": "stream",
     "text": [
      "IonizationState instance for He-4 with Z_mean = 1.10\n",
      "----------------------------------------------------------------\n",
      "He-4  0+: 0.100    n_i = 1.00e+12 m**-3\n",
      "He-4  1+: 0.700    n_i = 7.00e+12 m**-3\n",
      "He-4  2+: 0.200    n_i = 2.00e+12 m**-3\n",
      "----------------------------------------------------------------\n",
      "n_elem = 1.00e+13 m**-3\n",
      "n_e = 1.10e+13 m**-3\n",
      "----------------------------------------------------------------\n"
     ]
    }
   ],
   "source": [
    "He_states.summarize()"
   ]
  },
  {
   "cell_type": "markdown",
   "id": "8a820637-b7ab-4535-b874-329c091a0de8",
   "metadata": {},
   "source": [
    "The ionization state distribution is stored in the `ionic_fractions` attribute."
   ]
  },
  {
   "cell_type": "code",
   "execution_count": null,
   "id": "ec97c82a-d09b-4fe1-8241-2345105ef3e1",
   "metadata": {},
   "outputs": [
    {
     "data": {
      "text/plain": [
       "array([0.1, 0.7, 0.2])"
      ]
     },
     "execution_count": null,
     "metadata": {},
     "output_type": "execute_result"
    }
   ],
   "source": [
    "He_states.ionic_fractions"
   ]
  },
  {
   "cell_type": "markdown",
   "id": "a8756e60-00a4-40aa-bc6a-18a81f2d6338",
   "metadata": {},
   "source": [
    "Because we provided the number density of the element as a whole, we can get back the number density of each ionic level."
   ]
  },
  {
   "cell_type": "code",
   "execution_count": null,
   "id": "1b2dc275-cd3a-47b3-a6d6-dd5619c2e4c5",
   "metadata": {},
   "outputs": [
    {
     "data": {
      "text/latex": [
       "$[1 \\times 10^{12},~7 \\times 10^{12},~2 \\times 10^{12}] \\; \\mathrm{\\frac{1}{m^{3}}}$"
      ],
      "text/plain": [
       "<Quantity [1.e+12, 7.e+12, 2.e+12] 1 / m3>"
      ]
     },
     "execution_count": null,
     "metadata": {},
     "output_type": "execute_result"
    }
   ],
   "source": [
    "He_states.number_densities"
   ]
  },
  {
   "cell_type": "markdown",
   "id": "11ab4681-6b4f-445b-9e6f-fd71e7287d15",
   "metadata": {},
   "source": [
    "We can also get the electron density under the assumption of quasineutrality."
   ]
  },
  {
   "cell_type": "code",
   "execution_count": null,
   "id": "1facf91a-0f72-406b-95d7-270697669153",
   "metadata": {},
   "outputs": [
    {
     "data": {
      "text/latex": [
       "$1.1 \\times 10^{13} \\; \\mathrm{\\frac{1}{m^{3}}}$"
      ],
      "text/plain": [
       "<Quantity 1.1e+13 1 / m3>"
      ]
     },
     "execution_count": null,
     "metadata": {},
     "output_type": "execute_result"
    }
   ],
   "source": [
    "He_states.n_e"
   ]
  },
  {
   "cell_type": "markdown",
   "id": "11ddb287-473a-4922-8c87-6ab5ef6ddd2e",
   "metadata": {},
   "source": [
    "We can get information about the average charge state via `Z_mean`, `Z_most_abundant`, and `Z_rms`."
   ]
  },
  {
   "cell_type": "code",
   "execution_count": null,
   "id": "7e9f63e4-163b-4c74-9653-096bf98edbcd",
   "metadata": {},
   "outputs": [
    {
     "data": {
      "text/plain": [
       "1.1"
      ]
     },
     "execution_count": null,
     "metadata": {},
     "output_type": "execute_result"
    }
   ],
   "source": [
    "He_states.Z_mean"
   ]
  },
  {
   "cell_type": "code",
   "execution_count": null,
   "id": "356c38fa-bfa9-4d64-81e5-48e5666baab2",
   "metadata": {},
   "outputs": [
    {
     "data": {
      "text/plain": [
       "[1]"
      ]
     },
     "execution_count": null,
     "metadata": {},
     "output_type": "execute_result"
    }
   ],
   "source": [
    "He_states.Z_most_abundant"
   ]
  },
  {
   "cell_type": "code",
   "execution_count": null,
   "id": "ce47d01a-4cfd-41ac-a83f-4f460d0db1cc",
   "metadata": {},
   "outputs": [
    {
     "data": {
      "text/plain": [
       "1.224744871391589"
      ]
     },
     "execution_count": null,
     "metadata": {},
     "output_type": "execute_result"
    }
   ],
   "source": [
    "He_states.Z_rms"
   ]
  },
  {
   "cell_type": "markdown",
   "id": "206434db-7604-46fa-9953-8eca07abd76a",
   "metadata": {},
   "source": [
    "Or we can calculate the properties of the average ionic level."
   ]
  },
  {
   "cell_type": "code",
   "execution_count": null,
   "id": "0c6c3731-ac48-44bd-bd28-02ef7cffcf59",
   "metadata": {},
   "outputs": [
    {
     "data": {
      "text/plain": [
       "CustomParticle(mass=6.645477039375987e-27 kg, charge=1.7623942974e-19 C)"
      ]
     },
     "execution_count": null,
     "metadata": {},
     "output_type": "execute_result"
    }
   ],
   "source": [
    "He_states.average_ion()"
   ]
  },
  {
   "cell_type": "markdown",
   "id": "ce9954b2-3381-4481-95ed-86850b1d3f74",
   "metadata": {},
   "source": [
    "## Final thoughts"
   ]
  },
  {
   "cell_type": "markdown",
   "id": "27eb330c-15c0-4ed3-b2e2-ad80a21d1ba6",
   "metadata": {},
   "source": [
    "[PlasmaPy's online documentation]: https://docs.plasmapy.org\n",
    "[contributor guide]: https://docs.plasmapy.org/en/latest/contributing\n",
    "[getting ready to contribute]: https://docs.plasmapy.org/en/latest/contributing/getting_ready.html\n",
    "[code contribution workflow]: https://docs.plasmapy.org/en/latest/contributing/workflow.html\n",
    "[good first issues]: https://github.com/PlasmaPy/PlasmaPy/issues?q=is%3Aissue+is%3Aopen+label%3A%22good+first+issue%22\n",
    "[raise an issue]: https://github.com/PlasmaPy/PlasmaPy/issues/new/choose \n",
    "\n",
    "Thank you for coming to this tutorial!  If you'd like to learn more about PlasmaPy's current capabilities, please check out [PlasmaPy's online documentation].\n",
    "\n",
    "PlasmaPy is a community-developed project, and we invite you to contribute!  Please check out our [contributor guide] to learn more, including the pages on [getting ready to contribute] and the [code contribution workflow]."
   ]
  },
  {
   "cell_type": "code",
   "execution_count": null,
   "id": "988084be-5d15-4e95-b085-5849fb714466",
   "metadata": {},
   "outputs": [],
   "source": []
  }
 ],
 "metadata": {
  "kernelspec": {
   "display_name": "python3",
   "language": "python",
   "name": "python3"
  }
 },
 "nbformat": 4,
 "nbformat_minor": 5
}

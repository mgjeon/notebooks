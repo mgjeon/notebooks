{
 "cells": [
  {
   "cell_type": "markdown",
   "id": "ea091bba-572f-4d84-896e-d80aebcc5897",
   "metadata": {},
   "source": [
    "# Accessing CDF and FITS from S3\n",
    "\n",
    "Here we walk through how to access CDF files and FITS files that are in AWS S3 storage.\n",
    "\n",
    "- https://github.com/heliocloud-data/science-tutorials/blob/main/S3-Access-Demo.ipynb"
   ]
  },
  {
   "cell_type": "markdown",
   "id": "2cdbfc58-295d-4816-83cf-61aad3bc2fcf",
   "metadata": {},
   "source": [
    "Here is an example of a 'raw' read, where we access any binary file and extract information. In this example, we open a CDF file as bytes then extract the checksum 'magic number' first field from it (which should read as 'cdf30001')."
   ]
  },
  {
   "cell_type": "code",
   "execution_count": null,
   "id": "24d65e48-55da-4fb7-9cb5-54262ea41498",
   "metadata": {},
   "outputs": [
    {
     "name": "stdout",
     "output_type": "stream",
     "text": [
      "Should print 'cdf30001' if read was correct: cdf30001\n"
     ]
    }
   ],
   "source": [
    "import boto3\n",
    "from botocore import UNSIGNED\n",
    "from botocore.client import Config\n",
    "s3c = boto3.client('s3', config=Config(signature_version=UNSIGNED))\n",
    "# https://stackoverflow.com/questions/34865927/can-i-use-boto3-anonymously\n",
    "\n",
    "import io\n",
    "\n",
    "mybucket = 'gov-nasa-hdrl-data1'\n",
    "mykey = 'demo-data/mms_fgm.cdf'\n",
    "obj = s3c.get_object(Bucket=mybucket, Key=mykey, Range='bytes=0-8')\n",
    "rawdata = obj['Body'].read()\n",
    "bdata = io.BytesIO(rawdata)\n",
    "\n",
    "magic_number = bdata.read(4).hex()\n",
    "print(\"Should print 'cdf30001' if read was correct:\", magic_number)"
   ]
  },
  {
   "cell_type": "markdown",
   "id": "eff281fc-ef43-467a-bbb0-17b253abd94a",
   "metadata": {},
   "source": [
    "## The Core Examples\n",
    "\n",
    "Here is the code to read each file, in brief. We'll then go into each in more depth."
   ]
  },
  {
   "cell_type": "code",
   "execution_count": null,
   "id": "8a0dbfeb-527c-4516-9ff4-4a6b1ca4a30f",
   "metadata": {},
   "outputs": [
    {
     "name": "stdout",
     "output_type": "stream",
     "text": [
      "CDFInfo(CDF='s3://gov-nasa-hdrl-data1/demo-data/mms_fgm.cdf', Version='3.6.0', Encoding=6, Majority='Column_major', rVariables=[], zVariables=['Epoch', 'mms1_fgm_b_gse_brst_l2', 'mms1_fgm_b_gsm_brst_l2', 'mms1_fgm_b_dmpa_brst_l2', 'mms1_fgm_b_bcs_brst_l2', 'mms1_fgm_flag_brst_l2', 'Epoch_state', 'mms1_fgm_r_gse_brst_l2', 'mms1_fgm_r_gsm_brst_l2', 'label_b_gse', 'label_b_gsm', 'label_b_dmpa', 'label_b_bcs', 'label_r_gse', 'label_r_gsm', 'represent_vec_tot', 'mms1_fgm_hirange_brst_l2', 'mms1_fgm_bdeltahalf_brst_l2', 'mms1_fgm_stemp_brst_l2', 'mms1_fgm_etemp_brst_l2', 'mms1_fgm_mode_brst_l2', 'mms1_fgm_rdeltahalf_brst_l2'], Attributes=[{'Project': 'Global'}, {'Source_name': 'Global'}, {'Discipline': 'Global'}, {'Data_type': 'Global'}, {'Descriptor': 'Global'}, {'File_naming_convention': 'Global'}, {'Data_version': 'Global'}, {'PI_name': 'Global'}, {'PI_affiliation': 'Global'}, {'TEXT': 'Global'}, {'Instrument_type': 'Global'}, {'Mission_group': 'Global'}, {'Logical_source': 'Global'}, {'Logical_file_id': 'Global'}, {'Logical_source_description': 'Global'}, {'Time_resolution': 'Global'}, {'Rules_of_use': 'Global'}, {'Generated_by': 'Global'}, {'Generation_date': 'Global'}, {'Acknowledgement': 'Global'}, {'MODS': 'Global'}, {'ADID_ref': 'Global'}, {'LINK_TEXT': 'Global'}, {'LINK_TITLE': 'Global'}, {'HTTP_LINK': 'Global'}, {'Parents': 'Global'}, {'CATDESC': 'Variable'}, {'DEPEND_0': 'Variable'}, {'DEPEND_1': 'Variable'}, {'DEPEND_2': 'Variable'}, {'DEPEND_3': 'Variable'}, {'DICT_KEY': 'Variable'}, {'DISPLAY_TYPE': 'Variable'}, {'FIELDNAM': 'Variable'}, {'FILLVAL': 'Variable'}, {'FORMAT': 'Variable'}, {'LABLAXIS': 'Variable'}, {'LABL_PTR_1': 'Variable'}, {'LABL_PTR_2': 'Variable'}, {'LABL_PTR_3': 'Variable'}, {'UNITS': 'Variable'}, {'UNIT_PTR': 'Variable'}, {'VALIDMIN': 'Variable'}, {'VALIDMAX': 'Variable'}, {'VAR_TYPE': 'Variable'}, {'SCALETYP': 'Variable'}, {'SCAL_PTR': 'Variable'}, {'VAR_NOTES': 'Variable'}, {'MONOTON': 'Variable'}, {'LEAP_SECONDS_INCLUDED': 'Variable'}, {'RESOLUTION': 'Variable'}, {'Bin_location': 'Variable'}, {'TIME_BASE': 'Variable'}, {'TIME_SCALE': 'Variable'}, {'REFERENCE_POSITION': 'Variable'}, {'ABSOLUTE_ERROR': 'Variable'}, {'RELATIVE_ERROR': 'Variable'}, {'FORM_PTR': 'Variable'}, {'COORDINATE_SYSTEM': 'Variable'}, {'SI_CONVERSION': 'Variable'}, {'TENSOR_ORDER': 'Variable'}, {'REPRESENTATION_1': 'Variable'}, {'DELTA_PLUS_VAR': 'Variable'}, {'DELTA_MINUS_VAR': 'Variable'}], Copyright='\\nCommon Data Format (CDF)\\n(C) Copyright 1990-2015 NASA/GSFC\\nSpace Physics Data Facility\\nNASA/Goddard Space Flight Center\\nGreenbelt, Maryland 20771 USA\\n(Internet -- GSFC-CDF-SUPPORT@LISTS.NASA.GOV)\\n', Checksum=True, Num_rdim=0, rDim_sizes=[], Compressed=False, LeapSecondUpdate=None)\n"
     ]
    }
   ],
   "source": [
    "# CDF reading from S3 cloud\n",
    "import cdflib\n",
    "s3name=\"s3://gov-nasa-hdrl-data1/demo-data/mms_fgm.cdf\"\n",
    "with cdflib.CDF(s3name) as cdfin1:\n",
    "    print(cdfin1.cdf_info())"
   ]
  },
  {
   "cell_type": "code",
   "execution_count": null,
   "id": "b8173f4f-9ebf-47b9-b6ab-aeb5c2484fc6",
   "metadata": {},
   "outputs": [
    {
     "name": "stdout",
     "output_type": "stream",
     "text": [
      "CDFInfo(CDF='https://gov-nasa-hdrl-data1.s3.amazonaws.com/demo-data/mms_fgm.cdf', Version='3.6.0', Encoding=6, Majority='Column_major', rVariables=[], zVariables=['Epoch', 'mms1_fgm_b_gse_brst_l2', 'mms1_fgm_b_gsm_brst_l2', 'mms1_fgm_b_dmpa_brst_l2', 'mms1_fgm_b_bcs_brst_l2', 'mms1_fgm_flag_brst_l2', 'Epoch_state', 'mms1_fgm_r_gse_brst_l2', 'mms1_fgm_r_gsm_brst_l2', 'label_b_gse', 'label_b_gsm', 'label_b_dmpa', 'label_b_bcs', 'label_r_gse', 'label_r_gsm', 'represent_vec_tot', 'mms1_fgm_hirange_brst_l2', 'mms1_fgm_bdeltahalf_brst_l2', 'mms1_fgm_stemp_brst_l2', 'mms1_fgm_etemp_brst_l2', 'mms1_fgm_mode_brst_l2', 'mms1_fgm_rdeltahalf_brst_l2'], Attributes=[{'Project': 'Global'}, {'Source_name': 'Global'}, {'Discipline': 'Global'}, {'Data_type': 'Global'}, {'Descriptor': 'Global'}, {'File_naming_convention': 'Global'}, {'Data_version': 'Global'}, {'PI_name': 'Global'}, {'PI_affiliation': 'Global'}, {'TEXT': 'Global'}, {'Instrument_type': 'Global'}, {'Mission_group': 'Global'}, {'Logical_source': 'Global'}, {'Logical_file_id': 'Global'}, {'Logical_source_description': 'Global'}, {'Time_resolution': 'Global'}, {'Rules_of_use': 'Global'}, {'Generated_by': 'Global'}, {'Generation_date': 'Global'}, {'Acknowledgement': 'Global'}, {'MODS': 'Global'}, {'ADID_ref': 'Global'}, {'LINK_TEXT': 'Global'}, {'LINK_TITLE': 'Global'}, {'HTTP_LINK': 'Global'}, {'Parents': 'Global'}, {'CATDESC': 'Variable'}, {'DEPEND_0': 'Variable'}, {'DEPEND_1': 'Variable'}, {'DEPEND_2': 'Variable'}, {'DEPEND_3': 'Variable'}, {'DICT_KEY': 'Variable'}, {'DISPLAY_TYPE': 'Variable'}, {'FIELDNAM': 'Variable'}, {'FILLVAL': 'Variable'}, {'FORMAT': 'Variable'}, {'LABLAXIS': 'Variable'}, {'LABL_PTR_1': 'Variable'}, {'LABL_PTR_2': 'Variable'}, {'LABL_PTR_3': 'Variable'}, {'UNITS': 'Variable'}, {'UNIT_PTR': 'Variable'}, {'VALIDMIN': 'Variable'}, {'VALIDMAX': 'Variable'}, {'VAR_TYPE': 'Variable'}, {'SCALETYP': 'Variable'}, {'SCAL_PTR': 'Variable'}, {'VAR_NOTES': 'Variable'}, {'MONOTON': 'Variable'}, {'LEAP_SECONDS_INCLUDED': 'Variable'}, {'RESOLUTION': 'Variable'}, {'Bin_location': 'Variable'}, {'TIME_BASE': 'Variable'}, {'TIME_SCALE': 'Variable'}, {'REFERENCE_POSITION': 'Variable'}, {'ABSOLUTE_ERROR': 'Variable'}, {'RELATIVE_ERROR': 'Variable'}, {'FORM_PTR': 'Variable'}, {'COORDINATE_SYSTEM': 'Variable'}, {'SI_CONVERSION': 'Variable'}, {'TENSOR_ORDER': 'Variable'}, {'REPRESENTATION_1': 'Variable'}, {'DELTA_PLUS_VAR': 'Variable'}, {'DELTA_MINUS_VAR': 'Variable'}], Copyright='\\nCommon Data Format (CDF)\\n(C) Copyright 1990-2015 NASA/GSFC\\nSpace Physics Data Facility\\nNASA/Goddard Space Flight Center\\nGreenbelt, Maryland 20771 USA\\n(Internet -- GSFC-CDF-SUPPORT@LISTS.NASA.GOV)\\n', Checksum=True, Num_rdim=0, rDim_sizes=[], Compressed=False, LeapSecondUpdate=None)\n"
     ]
    }
   ],
   "source": [
    "# CDF reading in a URL\n",
    "import cdflib\n",
    "s3name=\"https://gov-nasa-hdrl-data1.s3.amazonaws.com/demo-data/mms_fgm.cdf\"\n",
    "with cdflib.CDF(s3name) as cdfin1:\n",
    "    print(cdfin1.cdf_info())"
   ]
  },
  {
   "cell_type": "code",
   "execution_count": null,
   "id": "7109cacd-7013-40a9-ad04-84a512264235",
   "metadata": {},
   "outputs": [
    {
     "name": "stdout",
     "output_type": "stream",
     "text": [
      "astropy was not compiled with S3 support, using 's3fs'\n",
      "SIMPLE  =                    T / file does conform to FITS standard             BITPIX  =                   16 / number of bits per data pixel                  NAXIS   =                    0 / number of data axes                            EXTEND  =                    T / FITS dataset may contain extensions            COMMENT   FITS (Flexible Image Transport System) format is defined in 'AstronomyCOMMENT   and Astrophysics', volume 376, page 359; bibcode: 2001A&A...376..359H END                                                                                                                                                                                                                                                                                                                                                                                                                                                                                                                                                                                                                                                                                                                                                                                                                                                                                                                                                                                                                                                                                                                                                                                                                                                                                                                                                                                                                                                                                                                                                                                                                                                                                                                                                                                                                                                                                                                                                                                                                                                                                                                                                                                                                                                                                                                                                                                                                                                                                             \n"
     ]
    }
   ],
   "source": [
    "# FITS, using s3fs, reading from S3 cloud\n",
    "import astropy.io.fits\n",
    "# note some versions of AstroPy can be compiled to open S3 files directly, with no intermediary\n",
    "s3name=\"s3://gov-nasa-hdrl-data1/demo-data/sdo_aia.fits\"\n",
    "try:\n",
    "    data = astropy.io.fits.open(s3name)\n",
    "    print(\"astropy was compiled with S3 support!\")\n",
    "except:\n",
    "    print(\"astropy was not compiled with S3 support, using 's3fs'\")\n",
    "    import s3fs\n",
    "    fs=s3fs.S3FileSystem(anon=True)\n",
    "    fgrab = fs.open(s3name)\n",
    "    data = astropy.io.fits.open(fgrab)\n",
    "\n",
    "print(data[0].header[0:10])"
   ]
  }
 ],
 "metadata": {
  "kernelspec": {
   "display_name": "python3",
   "language": "python",
   "name": "python3"
  }
 },
 "nbformat": 4,
 "nbformat_minor": 5
}

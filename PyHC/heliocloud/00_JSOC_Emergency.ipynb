{
 "cells": [
  {
   "cell_type": "markdown",
   "id": "6dca05e4-dace-4040-a8ca-1a4ada1e592a",
   "metadata": {},
   "source": [
    "# JSOC Emergency\n",
    "\n",
    "Status:\n",
    "All resources from the Stanford JSOC website and data system are unavailable until repairs and recovery are completed\n",
    "IRIS Level 2 data through November 22, 2024 remain available at iris.lmsal.com/search/\n",
    "The Virtual Solar Observatory is the best location to find historical AIA and HMI science data through November 26, 2024, though not all dates and products are available\n",
    "SDO EVE data products are not impacted by this outage"
   ]
  },
  {
   "cell_type": "markdown",
   "id": "487db0aa-5ae1-4d4a-b5dd-74c760bd7f43",
   "metadata": {},
   "source": [
    "Useful Python script for downloading SDO data from HelioCloud (courtesy APL):\n",
    "\n",
    "- https://solarweb1.stanford.edu/assets/scripts/AIA_CloudCatalog_final.py"
   ]
  },
  {
   "cell_type": "markdown",
   "id": "31790405-1319-4fef-adf9-a7321b799db5",
   "metadata": {},
   "source": [
    "```\n",
    "Author Johns Hopkins University Applied Physics Laboratory LLC, 2024\n",
    "License: MIT License\n",
    "\n",
    "How to use CloudCatalog for accessing AIA data from HelioCloud\n",
    "see also https://pypi.org/project/cloudcatalog/\n",
    "use 'pip install cloudcatalog' and 'pip install s3fs' to use\n",
    "```"
   ]
  },
  {
   "cell_type": "code",
   "execution_count": null,
   "id": "2950892b-ff78-44a6-b3df-c8da7654ecf6",
   "metadata": {},
   "outputs": [],
   "source": [
    "import os\n",
    "import cloudcatalog\n",
    "import astropy.io.fits\n",
    "import s3fs"
   ]
  },
  {
   "cell_type": "code",
   "execution_count": null,
   "id": "c15b64c8-3237-4d34-80b1-7758ba3c4539",
   "metadata": {},
   "outputs": [
    {
     "name": "stdout",
     "output_type": "stream",
     "text": [
      "Searching for any 'aia', there are 9 datasets\n"
     ]
    }
   ],
   "source": [
    "# Sample searches of the entire heliophysics cloud catalog\n",
    "search = cloudcatalog.EntireCatalogSearch()\n",
    "\n",
    "# Return all the AIA datasets\n",
    "aia_datasets = search.search_by_id('aia')\n",
    "print(f\"Searching for any 'aia', there are {len(aia_datasets)} datasets\")"
   ]
  },
  {
   "cell_type": "code",
   "execution_count": null,
   "id": "9716f214-f527-4684-b030-8e02d3fc862b",
   "metadata": {},
   "outputs": [
    {
     "data": {
      "text/plain": [
       "['aia_0094',\n",
       " 'aia_0131',\n",
       " 'aia_0171',\n",
       " 'aia_0193',\n",
       " 'aia_0211',\n",
       " 'aia_0304',\n",
       " 'aia_0335',\n",
       " 'aia_1600',\n",
       " 'aia_1700']"
      ]
     },
     "execution_count": null,
     "metadata": {},
     "output_type": "execute_result"
    }
   ],
   "source": [
    "[e['id'] for e in aia_datasets]"
   ]
  },
  {
   "cell_type": "code",
   "execution_count": null,
   "id": "94b7ec2e-3d86-406c-8e88-6b98898d5df4",
   "metadata": {},
   "outputs": [
    {
     "name": "stdout",
     "output_type": "stream",
     "text": [
      "\n",
      "Searching for any datasets with '193', '211' or '304' in them, just the dataIDs ['aia_0193', 'aia_0211', 'aia_0304', 'euvml_304', 'euvml_soho_304', 'euvml_stereoa_304', 'euvml_stereob_304', 'THG_L2_MAG_DED']\n",
      "\n",
      "Search for just '211', all metadata: [{'id': 'aia_0211', 'index': 's3://gov-nasa-hdrl-data1/sdo/aia/registries/', 'title': 'AIA 0211 FITS data', 'start': '2015-06-01T00:00:00Z', 'stop': '2021-12-31T23:59:59Z', 'modification': '2023-05-04:00:00:00Z', 'indextype': 'csv', 'filetype': 'fits'}]\n"
     ]
    }
   ],
   "source": [
    "# Return by keywords, in this case AIA channels\n",
    "ids = [e['id'] for e in search.search_by_keywords(['193', '211', '304'])]\n",
    "\n",
    "print(\"\\nSearching for any datasets with '193', '211' or '304' in them, just the dataIDs\",ids)\n",
    "print(\"\\nSearch for just '211', all metadata:\",search.search_by_id('211'))"
   ]
  },
  {
   "cell_type": "code",
   "execution_count": null,
   "id": "c1652556-0504-442f-a333-f962d298b009",
   "metadata": {},
   "outputs": [
    {
     "name": "stdout",
     "output_type": "stream",
     "text": [
      "351 files found\n"
     ]
    }
   ],
   "source": [
    "# Search for AIA 193 files in a time range\n",
    "# Set up the particular ID and the start and stop times\n",
    "myid, start, stop = 'aia_0193', '2020-02-01T00:00:00Z', '2020-02-02T00:00:00Z'\n",
    "\n",
    "# Point the search to the NASA HDRL Heliocloud instance\n",
    "fr = cloudcatalog.CloudCatalog(\"s3://gov-nasa-hdrl-data1/\")\n",
    "\n",
    "# Perform the search\n",
    "mycat = fr.request_cloud_catalog(myid, start_date=start, stop_date=stop)\n",
    "print(f\"{len(mycat)} files found\")"
   ]
  },
  {
   "cell_type": "code",
   "execution_count": null,
   "id": "62f84740-d3c5-47b5-a14d-771bbe77e5cf",
   "metadata": {},
   "outputs": [
    {
     "name": "stdout",
     "output_type": "stream",
     "text": [
      "\n",
      "Looking at the filelist query result\n",
      "For dataID aia_0193 over times 2020-02-01T00:00:00Z-2020-02-02T00:00:00Z, the first 3 files found are:\n",
      "['s3://gov-nasa-hdrl-data1/sdo/aia/20200201/0193/sdo_aia_h2_20200201T000000_0193_v1.fits', 's3://gov-nasa-hdrl-data1/sdo/aia/20200201/0193/sdo_aia_h2_20200201T000400_0193_v1.fits', 's3://gov-nasa-hdrl-data1/sdo/aia/20200201/0193/sdo_aia_h2_20200201T000800_0193_v1.fits']\n",
      "\n"
     ]
    }
   ],
   "source": [
    "# Get the filepaths for the first three files\n",
    "print(\"\\nLooking at the filelist query result\")\n",
    "filelist = mycat['datakey'].to_list()\n",
    "print(f\"For dataID {myid} over times {start}-{stop}, the first 3 files found are:\\n{filelist[0:3]}\\n\")"
   ]
  },
  {
   "cell_type": "code",
   "execution_count": null,
   "id": "9f79214f-ef7f-4537-bed2-14591d36fa98",
   "metadata": {},
   "outputs": [
    {
     "name": "stdout",
     "output_type": "stream",
     "text": [
      "2020-02-01 00:00:00 , mean value= 191.15523592\n",
      "2020-02-01 00:04:00 , mean value= 191.21884312\n",
      "2020-02-01 00:08:00 , mean value= 191.32419744\n"
     ]
    }
   ],
   "source": [
    "# Run a simple calc on first 3 files\n",
    "# For packages that not yet cloud-aware, need to connect to S3 on AWS\n",
    "fs = s3fs.S3FileSystem(anon=True)\n",
    "for i in range(3):\n",
    "    myitem = mycat.iloc[i]\n",
    "    datastart = myitem['start']\n",
    "    filename = myitem['datakey']\n",
    "    hdul = astropy.io.fits.open(fs.open(filename))\n",
    "    fs.download(filename, os.path.expanduser('~'))\n",
    "    print(datastart,\", mean value=\",hdul[1].data.mean())"
   ]
  },
  {
   "cell_type": "code",
   "execution_count": null,
   "id": "f5003755-20ff-4052-a5ff-bd8836908f84",
   "metadata": {},
   "outputs": [],
   "source": []
  }
 ],
 "metadata": {
  "kernelspec": {
   "display_name": "python3",
   "language": "python",
   "name": "python3"
  }
 },
 "nbformat": 4,
 "nbformat_minor": 5
}

{
 "cells": [
  {
   "cell_type": "markdown",
   "metadata": {},
   "source": [
    "# Heliophysics Data Application Programmer’s Interface (HAPI)\n",
    "\n",
    "- https://hapi-server.org/\n",
    "- https://github.com/heliophysicsPy/summer-school-24/tree/main/hapi-tutorial"
   ]
  },
  {
   "cell_type": "markdown",
   "metadata": {},
   "source": [
    "## Introduction\n",
    "\n",
    "This class will cover the use of the [hapiclient](https://github.com/hapi-server/client-python) Python package, which allows you obtain time series data from 9 different data servers with a few lines of code."
   ]
  },
  {
   "cell_type": "markdown",
   "metadata": {},
   "source": [
    "## Overview of the HAPI Standard\n",
    "\n",
    "The Heliophysics Application Programmer’s Interface (HAPI) data access specification is an API and data streaming format specification for time series data [Weigel et al., 2021].\n",
    "\n",
    "A HAPI server serves time series data as a single continuous data stream from any mission or data provider that has implemented a HAPI server.\n",
    "\n",
    "- CDPP(Centre de Données de Physique des\n",
    "Plasmas)/AMDA(Automated Multi-Dataset Analysis Tool)\n",
    "- CCMC(Community Coordinated Modeling Center)/ISWA(Integrated Space Weather Analysis)\n",
    "- INTERMAGNET(International Real-time Magnetic Observatory Network)\n",
    "- SPDF(Space Physics Data Facility)/CDAWeb(Coordinated Data Analysis Web)\n",
    "- SPDF(Space Physics Data Facility)/SSCWeb(Satellite Situation Center Web)\n",
    "- UIowa(The University of Iowa)/Das2\n",
    "- JHU/APL(\n",
    "Johns Hopkins University Applied Physics Laboratory)\n",
    "- FTECS(Fundamental Technologies, LLC)/RBSPICE(Radiation Belt Storm Probes\n",
    "Ion Composition Experiment)\n",
    "- LASP(Laboratory for Atmospheric and Space Physics)/LISIRD(LASP Interactive Solar Irradiance Datacenter)\n",
    "- VirES(Virtual research service)/SWARM\n",
    "\n",
    "All HAPI server holdings are accessible and browseable at http://hapi-server.org/servers/, which also contains links to the actual HAPI servers.\n",
    "\n",
    "To get data from a HAPI server, create a URL of the form\n",
    "\n",
    "```\n",
    "http://SERVER/hapi/data?\n",
    "dataset=DATASET&parameters=PARAMETERS&start=START&stop=STOP\n",
    "```\n",
    "with the capitalized words replaced with relevant values. When this URL is entered, data is returned as a stream (CSV by default, but a fast binary stream is an option).\n",
    "\n",
    "`hapiclient` passes this URL to a HAPI server and returns a NumPy data structure (`ndarray`) with the data. The user does not need to write code to read CSV (or binary) and the associated metadata."
   ]
  },
  {
   "cell_type": "markdown",
   "metadata": {},
   "source": [
    "## Overview of HAPI Python Software\n",
    "\n",
    "`hapiclient` is required for all activities.\n",
    "\n",
    "`hapiplot` is a software package that was developed for testing and quick-look plots of data returned by hapiclient."
   ]
  },
  {
   "cell_type": "markdown",
   "metadata": {},
   "source": [
    "## A Note About Finding Data\n",
    "\n",
    "The HAPI project and HAPI standard addresses the \"**access**\" problem. That is, it makes accessing and reading data using software easy.\n",
    "\n",
    "However, the HAPI project does not address the \"**discovery**\" problem. That is, it does not address making discovering what data are available given a search term easy.\n",
    "\n",
    "- The page https://hapi-server.org/servers contains a complete list of all HAPI servers and their datasets and parameters. It does not have a global search (or discovery) interface, however. This interface may be useful if you have a general idea of what you are looking for (e.g., Solar Irradiance data from LASP/LISIRD).\n",
    "\n",
    "- The [Heliophysics Data Portal (HDP)](https://heliophysicsdata.gsfc.nasa.gov/) can be used for more general searches and discovery. For example, a search for 'dst' data and 'hapi' (as keywords entered in the \"Text Restriction\" box) for the time range of Nov-Dec 2021 yields 33 entries: 8 for Cluster, 24 for MMS, and 1 for OMNI.\n",
    "\n",
    "Currently, not all data available from HAPI servers are available for search at the Heliophysics Data Portal (HDP). There is an ongoing effort to make all HAPI data searchable and discoverable from this interface."
   ]
  },
  {
   "cell_type": "code",
   "execution_count": null,
   "metadata": {},
   "outputs": [],
   "source": []
  }
 ],
 "metadata": {
  "kernelspec": {
   "display_name": "python3",
   "name": "python3"
  }
 },
 "nbformat": 4,
 "nbformat_minor": 0
}

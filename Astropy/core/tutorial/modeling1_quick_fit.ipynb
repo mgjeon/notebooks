{
 "cells": [
  {
   "cell_type": "markdown",
   "id": "d3688bd6-3dd4-44ec-b6f6-c83ac6a47019",
   "metadata": {},
   "source": [
    "# Modeling 1: Make a quick fit using astropy.modeling\n",
    "\n",
    "- https://learn.astropy.org/tutorials/Models-Quick-Fit.html"
   ]
  },
  {
   "cell_type": "markdown",
   "id": "19f2aa90-cab2-4e00-846b-dac7b54ea03d",
   "metadata": {},
   "source": [
    "Learning Goals\n",
    "- Use astroquery to download data from Vizier\n",
    "- Use basic models in astropy.modeling\n",
    "- Learn common functions to fit\n",
    "- Generate a quick fit to data\n",
    "- Plot the model with the data\n",
    "- Compare different models and fitters"
   ]
  },
  {
   "cell_type": "markdown",
   "id": "0d519f13-567a-4711-ba35-979ce47bcaf9",
   "metadata": {},
   "source": [
    "## Summary\n",
    "In this tutorial, we will become familiar with the models available in [astropy.modeling](http://docs.astropy.org/en/stable/modeling/) and learn how to make a quick fit to our data."
   ]
  },
  {
   "cell_type": "markdown",
   "id": "8ba50753-fb1a-46dd-9f55-03f923ff835c",
   "metadata": {},
   "source": [
    "## Imports"
   ]
  },
  {
   "cell_type": "code",
   "execution_count": null,
   "id": "bdbd8db5-c06d-48e7-ba0d-50a850dcf2a9",
   "metadata": {},
   "outputs": [],
   "source": [
    "import numpy as np\n",
    "import matplotlib.pyplot as plt\n",
    "from astropy.modeling import models, fitting\n",
    "from astroquery.vizier import Vizier\n",
    "import scipy.optimize\n",
    "# Make plots display in notebooks\n",
    "%matplotlib inline "
   ]
  },
  {
   "cell_type": "markdown",
   "id": "ebf0e02d-5132-4b2a-99f0-fc89ed18cffa",
   "metadata": {},
   "source": [
    "## 1) Fit a Linear model: Three steps to fit data using astropy.modeling"
   ]
  },
  {
   "cell_type": "markdown",
   "id": "192c89c1-cb7a-4dc6-8811-757d49fe1472",
   "metadata": {},
   "source": [
    "We are going to start with a linear fit to real data. The data comes from the paper [Bhardwaj et al. 2017](https://ui.adsabs.harvard.edu/?#abs/2017A%26A...605A.100B). This is a catalog of Type II Cepheids, which is a type of variable stars that pulsate with a period between 1 and 50 days. In this part of the tutorial, we are going to measure the Cepheids Period-Luminosity relation using astropy.modeling. This relation states that if a star has a longer period, the luminosity we measure is higher."
   ]
  },
  {
   "cell_type": "markdown",
   "id": "e63b28a8-3964-4f2c-b191-c8f254f9adb3",
   "metadata": {},
   "source": [
    "To get it, we are going to import it from [Vizier](http://vizier.u-strasbg.fr/viz-bin/VizieR) using [astroquery](http://astroquery.readthedocs.io/en/latest/vizier/vizier.html)."
   ]
  },
  {
   "cell_type": "code",
   "execution_count": null,
   "id": "66c2d1f8-ce7c-4437-8813-c3d0272ac910",
   "metadata": {},
   "outputs": [],
   "source": [
    "catalog = Vizier.get_catalogs('J/A+A/605/A100')"
   ]
  },
  {
   "cell_type": "code",
   "execution_count": null,
   "id": "d6d8b201-6596-44d6-98a1-3cdf95ed1d70",
   "metadata": {},
   "outputs": [
    {
     "data": {
      "text/plain": [
       "TableList with 1 tables:\n",
       "\t'0:J/A+A/605/A100/table1' with 16 column(s) and 50 row(s) "
      ]
     },
     "execution_count": null,
     "metadata": {},
     "output_type": "execute_result"
    }
   ],
   "source": [
    "catalog"
   ]
  },
  {
   "cell_type": "markdown",
   "id": "0b04e3de-0f45-404e-bc3e-7db91a13e193",
   "metadata": {},
   "source": [
    "This catalog has a lot of information, but for this tutorial we are going to work only with periods and magnitudes. Let's grab them using the keywords `'Period'` and `__Ksmag__`. Note that `e__Ksmag_` refers to the error bars in the magnitude measurements."
   ]
  },
  {
   "cell_type": "code",
   "execution_count": null,
   "id": "fb346a12-200c-46f8-976e-98865f4f2b02",
   "metadata": {},
   "outputs": [],
   "source": [
    "period = np.array(catalog[0]['Period']) \n",
    "log_period = np.log10(period)\n",
    "k_mag = np.array(catalog[0]['__Ksmag_'])\n",
    "k_mag_err = np.array(catalog[0]['e__Ksmag_'])"
   ]
  },
  {
   "cell_type": "markdown",
   "id": "ecaad456-0c65-43de-9f8c-044caf23f946",
   "metadata": {},
   "source": [
    "Let's take a look at the magnitude measurements as a function of period:"
   ]
  },
  {
   "cell_type": "code",
   "execution_count": null,
   "id": "427bea26-4faa-4e79-b1bc-04cbaa656965",
   "metadata": {},
   "outputs": [
    {
     "data": {
      "image/png": "[encoded data removed]",
      "text/plain": [
       "<Figure size 640x480 with 1 Axes>"
      ]
     },
     "metadata": {},
     "output_type": "display_data"
    }
   ],
   "source": [
    "plt.errorbar(log_period, k_mag, k_mag_err, fmt='k.')\n",
    "plt.xlabel(r'$\\log_{10}$(Period [days])')\n",
    "plt.ylabel('Ks')\n",
    "plt.show()"
   ]
  },
  {
   "cell_type": "markdown",
   "id": "dacfc7dd-c42e-4df8-b9d9-b26ad3c68c16",
   "metadata": {},
   "source": [
    "One could say that there is a linear relationship between log period and magnitudes. To probe it, we want to make a fit to the data. This is where astropy.modeling is useful. We are going to understand how in three simple lines we can make any fit we want. We are going to start with the linear fit, but first, let's understand what a model and a fitter are."
   ]
  },
  {
   "cell_type": "markdown",
   "id": "0bcf563d-e425-4a38-b05c-8d65cecb828f",
   "metadata": {},
   "source": [
    "### Models in Astropy"
   ]
  },
  {
   "cell_type": "markdown",
   "id": "3802986e-7ff5-4aca-8d45-a2cc47c87332",
   "metadata": {},
   "source": [
    "[Models](http://docs.astropy.org/en/stable/modeling/#using-models) in Astropy are known parametrized functions. With this format they are easy to define and to use, given that we do not need to write the function expression every time we want to use a model, just the name. They can be linear or non-linear in the variables. Some examples of models are:"
   ]
  },
  {
   "cell_type": "markdown",
   "id": "cbf10072-d454-4ea8-b048-3ff45b6df75b",
   "metadata": {},
   "source": [
    "- Gaussian1D\n",
    "- Trapezoid1D\n",
    "- Polynomial1D\n",
    "- Sine1D\n",
    "- Linear1D\n",
    "- The [list](http://docs.astropy.org/en/stable/modeling/#module-astropy.modeling.functional_models) continues."
   ]
  },
  {
   "cell_type": "markdown",
   "id": "41e7f6e4-fca2-489b-b350-9406ad5a5393",
   "metadata": {},
   "source": [
    "### Fitters in Astropy"
   ]
  },
  {
   "cell_type": "markdown",
   "id": "c7b2b140-2ea9-4f40-a5c1-63aaf91011e2",
   "metadata": {},
   "source": [
    "Fitters in Astropy are the classes resposable for making the fit. They can be linear or non-linear in the parameters (no the variable, like models). Some examples are:"
   ]
  },
  {
   "cell_type": "markdown",
   "id": "1145da04-e425-4488-adef-5f78de3e2961",
   "metadata": {},
   "source": [
    "- LevMarLSQFitter() Levenberg-Marquardt algorithm and least squares statistic.\n",
    "- LinearLSQFitter() A class performing a linear least square fitting.\n",
    "- SLSQPLSQFitter() SLSQP optimization algorithm and least squares statistic.\n",
    "- SimplexLSQFitter() Simplex algorithm and least squares statistic.\n",
    "- More detailles [here](http://docs.astropy.org/en/stable/modeling/#id21)"
   ]
  },
  {
   "cell_type": "markdown",
   "id": "00c92f74-b0ba-4b7b-9539-4ce4277e70cf",
   "metadata": {},
   "source": [
    "Now we continue with our fitting."
   ]
  },
  {
   "cell_type": "markdown",
   "id": "f44c12d2-d7ec-4ba5-a5f0-792d4e641235",
   "metadata": {},
   "source": [
    "#### Step 1: Model"
   ]
  },
  {
   "cell_type": "markdown",
   "id": "7c015a56-f8c2-4eeb-8a92-47e2fe9f0ec1",
   "metadata": {},
   "source": [
    "First we need to choose which model we are going to use to fit to our data. As we said before, our data looks like a linear relation, so we are going to use a linear model."
   ]
  },
  {
   "cell_type": "code",
   "execution_count": null,
   "id": "723084bf-dbd4-4f9c-8d16-3d62b1b44075",
   "metadata": {},
   "outputs": [],
   "source": [
    "model = models.Linear1D()"
   ]
  },
  {
   "cell_type": "markdown",
   "id": "cc0f1707-85b5-4891-9fad-e12f154b0cf7",
   "metadata": {},
   "source": [
    "#### Step 2: Fitter"
   ]
  },
  {
   "cell_type": "markdown",
   "id": "92d1da02-130a-43bd-a795-c80b40b0006b",
   "metadata": {},
   "source": [
    "Second we are going to choose the fitter we want to use. This choice is basically which method we want to use to fit the model to the data. In this case we are going to use the [Linear Least Square Fitting](https://www.mathworks.com/help/curvefit/least-squares-fitting.html)."
   ]
  },
  {
   "cell_type": "code",
   "execution_count": null,
   "id": "6edbb7cb-2627-4b8d-bf90-73f8db3ae602",
   "metadata": {},
   "outputs": [],
   "source": [
    "fitter = fitting.LinearLSQFitter() "
   ]
  },
  {
   "cell_type": "markdown",
   "id": "0d0b8561-814a-47df-bc2b-d6da623c40f7",
   "metadata": {},
   "source": [
    "#### Step 3: Fit Data"
   ]
  },
  {
   "cell_type": "markdown",
   "id": "737cd722-c6d6-431b-b7a1-874d5f9a5006",
   "metadata": {},
   "source": [
    "Finally, we give to our fitter (method to fit the data) the model and the data to perform the fit. Note that we are including weights: This means that values with higher error will have smaller weight (less importance) in the fit, and the contrary for data with smaller errors. This way of fitting is called *Weighted Linear Least Squares* and you can find more information about it [here](https://www.mathworks.com/help/curvefit/least-squares-fitting.html) or [here](https://en.wikipedia.org/wiki/Least_squares#Weighted_least_squares). Note that the fitting routine takes weights as 1/error and squares them for you, as indicated [in the description of the function](https://docs.astropy.org/en/stable/api/astropy.modeling.fitting.LinearLSQFitter.html)."
   ]
  },
  {
   "cell_type": "code",
   "execution_count": null,
   "id": "cc9b2a88-a273-46a6-828c-9856c2f29235",
   "metadata": {},
   "outputs": [
    {
     "name": "stdout",
     "output_type": "stream",
     "text": [
      "Model: Linear1D\n",
      "Inputs: ('x',)\n",
      "Outputs: ('y',)\n",
      "Model set size: 1\n",
      "Parameters:\n",
      "           slope            intercept     \n",
      "    ------------------- ------------------\n",
      "    -1.8388029852166523 13.517530403506656\n"
     ]
    }
   ],
   "source": [
    "best_fit = fitter(model, log_period, k_mag, weights=1.0/k_mag_err)\n",
    "print(best_fit)"
   ]
  },
  {
   "cell_type": "markdown",
   "id": "774c1ccf-4c0e-4e66-aa61-f5943ca5ebfa",
   "metadata": {},
   "source": [
    "And that's it!"
   ]
  },
  {
   "cell_type": "markdown",
   "id": "17762ee7-22ff-4bff-a3fe-c05f83fee9ea",
   "metadata": {},
   "source": [
    "We can evaluate the fit at our particular x axis by doing best_fit(x)."
   ]
  },
  {
   "cell_type": "code",
   "execution_count": null,
   "id": "b22429a4-9016-472f-9f56-7b497ab6ad78",
   "metadata": {},
   "outputs": [
    {
     "data": {
      "image/png": "[encoded data removed]",
      "text/plain": [
       "<Figure size 640x480 with 1 Axes>"
      ]
     },
     "metadata": {},
     "output_type": "display_data"
    }
   ],
   "source": [
    "plt.errorbar(log_period,k_mag,k_mag_err,fmt='k.')\n",
    "plt.plot(log_period, best_fit(log_period), color='g', linewidth=3)  \n",
    "plt.xlabel(r'$\\log_{10}$(Period [days])')\n",
    "plt.ylabel('Ks')\n",
    "plt.show()"
   ]
  },
  {
   "cell_type": "markdown",
   "id": "40598b09-0bc2-452d-8df0-6b7cc337f5af",
   "metadata": {},
   "source": [
    "**Conclusion**: Remember, you can fit data with three lines of code:\n",
    "\n",
    "1. Choose a model.\n",
    "1. Choose a fitter.\n",
    "1. Pass to the fitter the model and the data to perform fit."
   ]
  },
  {
   "cell_type": "markdown",
   "id": "950f98d7-0dc0-4491-a99c-ff6787aeb0d5",
   "metadata": {},
   "source": [
    "## 2) Fit a Polynomial model: Choose fitter wisely"
   ]
  },
  {
   "cell_type": "markdown",
   "id": "9306d8cc-db5b-47c3-ae26-049205784eef",
   "metadata": {},
   "source": [
    "For our second example, let's fit a polynomial of degree more than 1. In this case, we are going to create fake data to make the fit. Note that we're adding gaussian noise to the data with the function np.random.normal(0,2) which gives a random number from a gaussian distribution with mean 0 and standard deviation 2."
   ]
  },
  {
   "cell_type": "code",
   "execution_count": null,
   "id": "a07ef44b-0943-40bb-95a2-0ad08aa93a96",
   "metadata": {},
   "outputs": [],
   "source": [
    "N = 100\n",
    "x1 = np.linspace(0, 4, N)  # Makes an array from 0 to 4 of N elements\n",
    "y1 = x1**3 - 6*x1**2 + 12*x1 - 9 \n",
    "# Now we add some noise to the data\n",
    "y1 += np.random.normal(0, 2, size=len(y1)) #One way to add random gaussian noise\n",
    "sigma = 1.5\n",
    "y1_err = np.ones(N)*sigma "
   ]
  },
  {
   "cell_type": "markdown",
   "id": "3ea4d8db-e193-45da-bf37-91a38703741a",
   "metadata": {},
   "source": [
    "Let's plot it to see how it looks:"
   ]
  },
  {
   "cell_type": "code",
   "execution_count": null,
   "id": "babd7847-9926-435b-adce-acf7a016b084",
   "metadata": {},
   "outputs": [
    {
     "data": {
      "image/png": "[encoded data removed]",
      "text/plain": [
       "<Figure size 640x480 with 1 Axes>"
      ]
     },
     "metadata": {},
     "output_type": "display_data"
    }
   ],
   "source": [
    "plt.errorbar(x1, y1, yerr=y1_err,fmt='k.')\n",
    "plt.xlabel('$x_1$')  \n",
    "plt.ylabel('$y_1$')\n",
    "plt.show()"
   ]
  },
  {
   "cell_type": "markdown",
   "id": "1706ca15-4303-4aed-8a73-9aff88e64082",
   "metadata": {},
   "source": [
    "To fit this data let's remember the three steps: model, fitter and perform fit."
   ]
  },
  {
   "cell_type": "code",
   "execution_count": null,
   "id": "bf0d86f1-ee00-4b6b-a66a-8887696b7abd",
   "metadata": {},
   "outputs": [],
   "source": [
    "model_poly = models.Polynomial1D(degree=3)\n",
    "fitter_poly = fitting.LinearLSQFitter() \n",
    "best_fit_poly = fitter_poly(model_poly, x1, y1, weights = 1.0/y1_err)"
   ]
  },
  {
   "cell_type": "code",
   "execution_count": null,
   "id": "01080d46-a9db-4982-afb6-e8f7e38681c3",
   "metadata": {},
   "outputs": [
    {
     "name": "stdout",
     "output_type": "stream",
     "text": [
      "Model: Polynomial1D\n",
      "Inputs: ('x',)\n",
      "Outputs: ('y',)\n",
      "Model set size: 1\n",
      "Degree: 3\n",
      "Parameters:\n",
      "            c0                 c1                c2                 c3        \n",
      "    ------------------ ----------------- ------------------ ------------------\n",
      "    -8.743368681990052 11.76837380718059 -6.121982887512795 1.0490823373233873\n"
     ]
    }
   ],
   "source": [
    "print(best_fit_poly)"
   ]
  },
  {
   "cell_type": "markdown",
   "id": "08e8dde5-32f0-4828-a4de-a0bbee8c9b59",
   "metadata": {},
   "source": [
    "What would happend if we use a different fitter (method)? Let's use the same model but with SimplexLSQFitter as fitter."
   ]
  },
  {
   "cell_type": "code",
   "execution_count": null,
   "id": "7f29cb54-6e29-4389-9179-57c262705c11",
   "metadata": {},
   "outputs": [
    {
     "name": "stderr",
     "output_type": "stream",
     "text": [
      "WARNING: Model is linear in parameters; consider using linear fitting methods. [astropy.modeling.fitting]\n",
      "WARNING: The fit may be unsuccessful; Maximum number of iterations reached. [astropy.modeling.optimizers]\n"
     ]
    }
   ],
   "source": [
    "fitter_poly_2 = fitting.SimplexLSQFitter()\n",
    "best_fit_poly_2 = fitter_poly_2(model_poly, x1, y1, weights = 1.0/y1_err)"
   ]
  },
  {
   "cell_type": "code",
   "execution_count": null,
   "id": "08df3dc3-722d-483f-af40-2338a2b57a82",
   "metadata": {},
   "outputs": [
    {
     "name": "stdout",
     "output_type": "stream",
     "text": [
      "Model: Polynomial1D\n",
      "Inputs: ('x',)\n",
      "Outputs: ('y',)\n",
      "Model set size: 1\n",
      "Degree: 3\n",
      "Parameters:\n",
      "             c0                   c1                   c2                 c3        \n",
      "    ------------------- --------------------- ------------------- ------------------\n",
      "    -0.4034817063481736 -0.047841901591253684 -1.3029831279992647 0.4494626105702417\n"
     ]
    }
   ],
   "source": [
    "print(best_fit_poly_2)"
   ]
  },
  {
   "cell_type": "markdown",
   "id": "a22714a1-ddd5-41b6-a10e-ce6d4eb88c55",
   "metadata": {},
   "source": [
    "Note that we got a warning after using SimplexLSQFitter to fit the data. The first line says:\n",
    "```\n",
    "WARNING: Model is linear in parameters; consider using linear fitting methods. [astropy.modeling.fitting]\n",
    "```\n",
    "\n",
    "If we look at the model we chose: $y = c_0 + c_1 \\times x + c_2 \\times x^2 + c_3 \\times x^3$, it is linear in the parameters $c_i$. The warning means that SimplexLSQFitter works better with models that are not linear in the parameters, and that we should use a linear fitter like LinearLSQFitter. The second line says:\n",
    "```\n",
    "WARNING: The fit may be unsuccessful; Maximum number of iterations reached. [astropy.modeling.optimizers]\n",
    "```\n",
    "\n",
    "So it's not surprising that the results are different, because this means that the fitter is not working properly. Let's discuss a method of choosing between fits and remember to pay attention when you choose the fitter."
   ]
  },
  {
   "cell_type": "markdown",
   "id": "d29a2785-671f-4176-a15c-783743b600b8",
   "metadata": {},
   "source": [
    "### Compare results"
   ]
  },
  {
   "cell_type": "markdown",
   "id": "b54da7f1-e6e9-4412-80eb-549644d0f27f",
   "metadata": {},
   "source": [
    "One way to check which model parameters are a better fit is calculating the [Reduced Chi Square Value](https://en.wikipedia.org/wiki/Reduced_chi-squared_statistic). Let's define a function to do that because we're going to use it several times."
   ]
  },
  {
   "cell_type": "code",
   "execution_count": null,
   "id": "98313bff-7048-446e-9e1b-f6091328c3ee",
   "metadata": {},
   "outputs": [],
   "source": [
    "def calc_reduced_chi_square(fit, x, y, yerr, N, n_free):\n",
    "    '''\n",
    "    fit (array) values for the fit\n",
    "    x,y,yerr (arrays) data\n",
    "    N total number of points\n",
    "    n_free number of parameters we are fitting\n",
    "    '''\n",
    "    return 1.0/(N-n_free)*sum(((fit - y)/yerr)**2)"
   ]
  },
  {
   "cell_type": "code",
   "execution_count": null,
   "id": "cd54562b-2a80-465c-a760-93a3d76062b2",
   "metadata": {},
   "outputs": [
    {
     "name": "stdout",
     "output_type": "stream",
     "text": [
      "Reduced Chi Squared with LinearLSQFitter: 1.524068567289388\n"
     ]
    }
   ],
   "source": [
    "reduced_chi_squared = calc_reduced_chi_square(best_fit_poly(x1), x1, y1, y1_err, N, 4)\n",
    "print('Reduced Chi Squared with LinearLSQFitter: {}'.format(reduced_chi_squared))"
   ]
  },
  {
   "cell_type": "code",
   "execution_count": null,
   "id": "678bb742-6333-477f-9826-5163b066e488",
   "metadata": {},
   "outputs": [
    {
     "name": "stdout",
     "output_type": "stream",
     "text": [
      "Reduced Chi Squared with SimplexLSQFitter: 4.049251347082743\n"
     ]
    }
   ],
   "source": [
    "reduced_chi_squared = calc_reduced_chi_square(best_fit_poly_2(x1), x1, y1, y1_err, N, 4)\n",
    "print('Reduced Chi Squared with SimplexLSQFitter: {}'.format(reduced_chi_squared))"
   ]
  },
  {
   "cell_type": "markdown",
   "id": "ae69ca03-836a-47f9-a8a5-9f740d88e5ff",
   "metadata": {},
   "source": [
    "As we can see, the Reduced Chi Square for the first fit is closer to one, which means this fit is better. Note that this is what we expected after the discussion of the warnings."
   ]
  },
  {
   "cell_type": "markdown",
   "id": "6b314187-e40b-495e-a496-1bf8b0b7363e",
   "metadata": {},
   "source": [
    "We can also compare the two fits visually:"
   ]
  },
  {
   "cell_type": "code",
   "execution_count": null,
   "id": "af12efe5-b177-46bc-9dc2-d88a253a9268",
   "metadata": {},
   "outputs": [
    {
     "data": {
      "image/png": "[encoded data removed]",
      "text/plain": [
       "<Figure size 640x480 with 1 Axes>"
      ]
     },
     "metadata": {},
     "output_type": "display_data"
    }
   ],
   "source": [
    "plt.errorbar(x1, y1, yerr=y1_err,fmt='k.')\n",
    "plt.plot(x1, best_fit_poly(x1), color='r', linewidth=3, label='LinearLSQFitter()')  \n",
    "plt.plot(x1, best_fit_poly_2(x1), color='g', linewidth=3, label='SimplexLSQFitter()')\n",
    "plt.xlabel(r'$\\log_{10}$(Period [days])')\n",
    "plt.ylabel('Ks')\n",
    "plt.legend()\n",
    "plt.show()"
   ]
  },
  {
   "cell_type": "markdown",
   "id": "18a2b585-645a-4f88-99a1-13af6dabd9c7",
   "metadata": {},
   "source": [
    "Results are as espected, the fit performed with the linear fitter is better than the second, non linear one."
   ]
  },
  {
   "cell_type": "markdown",
   "id": "7322d385-7d24-40d0-a573-b72fe01a24be",
   "metadata": {},
   "source": [
    "**Conclusion**: Pay attention when you choose the fitter."
   ]
  },
  {
   "cell_type": "markdown",
   "id": "0a505d20-2375-499f-900e-87d3f070adfd",
   "metadata": {},
   "source": [
    "## 3) Fit a Gaussian: Let's compare to scipy"
   ]
  },
  {
   "cell_type": "markdown",
   "id": "48a9e684-ac58-4f9a-8e8e-1a3c1bc62610",
   "metadata": {},
   "source": [
    "Scipy has the function [scipy.optimize.curve_fit](https://docs.scipy.org/doc/scipy-1.0.0/reference/generated/scipy.optimize.curve_fit.html) to fit in a similar way that we are doing. Let's compare the two methods with fake data in the shape of a Gaussian."
   ]
  },
  {
   "cell_type": "code",
   "execution_count": null,
   "id": "539b3470-3a65-4994-9545-2b020288d4f7",
   "metadata": {},
   "outputs": [],
   "source": [
    "mu, sigma, amplitude = 0.0, 10.0, 10.0\n",
    "N2 = 100\n",
    "x2 = np.linspace(-30, 30, N)\n",
    "y2 = amplitude * np.exp(-(x2-mu)**2 / (2*sigma**2))\n",
    "y2 = np.array([y_point + np.random.normal(0, 1) for y_point in y2])   #Another way to add random gaussian noise\n",
    "sigma = 1\n",
    "y2_err = np.ones(N)*sigma"
   ]
  },
  {
   "cell_type": "code",
   "execution_count": null,
   "id": "07947648-880b-4c2f-8d5a-88a4170fe0a1",
   "metadata": {},
   "outputs": [
    {
     "data": {
      "image/png": "[encoded data removed]",
      "text/plain": [
       "<Figure size 640x480 with 1 Axes>"
      ]
     },
     "metadata": {},
     "output_type": "display_data"
    }
   ],
   "source": [
    "plt.errorbar(x2, y2, yerr=y2_err, fmt='k.')\n",
    "plt.xlabel('$x_2$')\n",
    "plt.ylabel('$y_2$')\n",
    "plt.show()"
   ]
  },
  {
   "cell_type": "markdown",
   "id": "de2e9edf-a35f-4c03-b310-f65e502ca981",
   "metadata": {},
   "source": [
    "Let's do our three steps to make the fit we want. For this fit we're going to use a non-linear fitter, LevMarLSQFitter, because the model we need (Gaussian1D) is non-linear in the parameters."
   ]
  },
  {
   "cell_type": "code",
   "execution_count": null,
   "id": "2e37409f-9163-496a-ad7d-e590dc752cc7",
   "metadata": {},
   "outputs": [],
   "source": [
    "model_gauss = models.Gaussian1D()\n",
    "fitter_gauss = fitting.LevMarLSQFitter()\n",
    "best_fit_gauss = fitter_gauss(model_gauss, x2, y2, weights=1/y2_err)"
   ]
  },
  {
   "cell_type": "code",
   "execution_count": null,
   "id": "c86b1a41-4a98-4728-b50c-e8903d775e2d",
   "metadata": {},
   "outputs": [
    {
     "name": "stdout",
     "output_type": "stream",
     "text": [
      "Model: Gaussian1D\n",
      "Inputs: ('x',)\n",
      "Outputs: ('y',)\n",
      "Model set size: 1\n",
      "Parameters:\n",
      "        amplitude              mean              stddev     \n",
      "    ------------------ ------------------- -----------------\n",
      "    10.337206361388123 0.18808651513947255 9.922106277380372\n"
     ]
    }
   ],
   "source": [
    "print(best_fit_gauss)"
   ]
  },
  {
   "cell_type": "markdown",
   "id": "927a169a-5bb5-4249-818d-64077e082128",
   "metadata": {},
   "source": [
    "We can get the [covariance matrix](http://mathworld.wolfram.com/CovarianceMatrix.html) from LevMarLSQFitter, which provides an error for our fit parameters by doing `fitter.fit_info['param_cov']`. The elements in the diagonal of this matrix are the square of the errors. We can check the order of the parameters using:"
   ]
  },
  {
   "cell_type": "code",
   "execution_count": null,
   "id": "5de20927-06a3-4c78-b27d-858cc6d0ba11",
   "metadata": {},
   "outputs": [
    {
     "data": {
      "text/plain": [
       "('amplitude', 'mean', 'stddev')"
      ]
     },
     "execution_count": null,
     "metadata": {},
     "output_type": "execute_result"
    }
   ],
   "source": [
    "model_gauss.param_names"
   ]
  },
  {
   "cell_type": "code",
   "execution_count": null,
   "id": "95e46bbe-75d0-49f7-b355-03cb2752ae95",
   "metadata": {},
   "outputs": [
    {
     "name": "stdout",
     "output_type": "stream",
     "text": [
      "[0.05173467 0.06352036 0.06369287]\n"
     ]
    }
   ],
   "source": [
    "cov_diag = np.diag(fitter_gauss.fit_info['param_cov'])\n",
    "print(cov_diag)"
   ]
  },
  {
   "cell_type": "markdown",
   "id": "06b5de0f-433a-46dd-9077-6cf1bdd9024e",
   "metadata": {},
   "source": [
    "Then:"
   ]
  },
  {
   "cell_type": "code",
   "execution_count": null,
   "id": "44b6a537-948c-46b2-954c-8346d0ffd44c",
   "metadata": {},
   "outputs": [
    {
     "name": "stdout",
     "output_type": "stream",
     "text": [
      "Amplitude: 10.337206361388123 +\\- 0.22745256392662278\n",
      "Mean: 0.18808651513947255 +\\- 0.25203245656113715\n",
      "Standard Deviation: 9.922106277380372 +\\- 0.2523744652907493\n"
     ]
    }
   ],
   "source": [
    "print('Amplitude: {} +\\- {}'.format(best_fit_gauss.amplitude.value, np.sqrt(cov_diag[0])))\n",
    "print('Mean: {} +\\- {}'.format(best_fit_gauss.mean.value, np.sqrt(cov_diag[1])))\n",
    "print('Standard Deviation: {} +\\- {}'.format(best_fit_gauss.stddev.value, np.sqrt(cov_diag[2])))"
   ]
  },
  {
   "cell_type": "markdown",
   "id": "cb28c83e-e1a7-495a-b23a-43059d734158",
   "metadata": {},
   "source": [
    "We can apply the same method with scipy.optimize.curve_fit, and compare the results using again the Reduced Chi Square Value."
   ]
  },
  {
   "cell_type": "code",
   "execution_count": null,
   "id": "86d6962e-9caf-4544-8a84-75969f33a680",
   "metadata": {},
   "outputs": [],
   "source": [
    "def f(x,a,b,c):\n",
    "    return a * np.exp(-(x-b)**2/(2.0*c**2))"
   ]
  },
  {
   "cell_type": "code",
   "execution_count": null,
   "id": "e3da6210-8036-454a-b75f-b3e84d92ad84",
   "metadata": {},
   "outputs": [],
   "source": [
    "p_opt, p_cov = scipy.optimize.curve_fit(f,x2, y2, sigma=y1_err)\n",
    "a,b,c = p_opt\n",
    "best_fit_gauss_2 = f(x2,a,b,c)"
   ]
  },
  {
   "cell_type": "code",
   "execution_count": null,
   "id": "59684c31-0408-4e98-b8b5-c6983bb7bf3d",
   "metadata": {},
   "outputs": [
    {
     "name": "stdout",
     "output_type": "stream",
     "text": [
      "[10.33720537  0.18808547  9.92210818]\n"
     ]
    }
   ],
   "source": [
    "print(p_opt)"
   ]
  },
  {
   "cell_type": "code",
   "execution_count": null,
   "id": "208e5ae1-50c4-49da-aa45-c84aaa1ce2bf",
   "metadata": {},
   "outputs": [
    {
     "name": "stdout",
     "output_type": "stream",
     "text": [
      "Amplitude: 10.337205372222536 +\\- 0.22612516742255181\n",
      "Mean: 0.18808547032026227 +\\- 0.2505609644936265\n",
      "Standard Deviation: 9.922108177722457 +\\- 0.2509009031996842\n"
     ]
    }
   ],
   "source": [
    "print('Amplitude: {} +\\- {}'.format(p_opt[0], np.sqrt(p_cov[0,0])))\n",
    "print('Mean: {} +\\- {}'.format(p_opt[1], np.sqrt(p_cov[1,1])))\n",
    "print('Standard Deviation: {} +\\- {}'.format(p_opt[2], np.sqrt(p_cov[2,2])))"
   ]
  },
  {
   "cell_type": "markdown",
   "id": "7f7deb13-6e6d-46bc-a7f8-67d20cc2d7c9",
   "metadata": {},
   "source": [
    "### Compare results"
   ]
  },
  {
   "cell_type": "code",
   "execution_count": null,
   "id": "0fc544a6-16e6-43fc-a313-11dc95a6ab1e",
   "metadata": {},
   "outputs": [
    {
     "name": "stdout",
     "output_type": "stream",
     "text": [
      "Reduced Chi Squared using astropy.modeling: 0.9883603573294014\n"
     ]
    }
   ],
   "source": [
    "reduced_chi_squared = calc_reduced_chi_square(best_fit_gauss(x2), x2, y2, y2_err, N2, 3)\n",
    "print('Reduced Chi Squared using astropy.modeling: {}'.format(reduced_chi_squared))"
   ]
  },
  {
   "cell_type": "code",
   "execution_count": null,
   "id": "2ba9f4a1-2978-4dca-ad14-ac760f46352b",
   "metadata": {},
   "outputs": [
    {
     "name": "stdout",
     "output_type": "stream",
     "text": [
      "Reduced Chi Squared using scipy: 0.9883603573264075\n"
     ]
    }
   ],
   "source": [
    "reduced_chi_squared = calc_reduced_chi_square(best_fit_gauss_2, x2, y2, y2_err, N2, 3)\n",
    "print('Reduced Chi Squared using scipy: {}'.format(reduced_chi_squared))"
   ]
  },
  {
   "cell_type": "markdown",
   "id": "2a544c39-d02a-4b51-8849-98066fdd5706",
   "metadata": {},
   "source": [
    "As we can see there is a very small difference in the Reduced Chi Squared. This actually needed to happen, because the fitter in astropy.modeling uses scipy to fit. The advantage of using astropy.modeling is you only need to change the name of the fitter and the model to perform a completely different fit, while scipy require us to remember the expression of the function we wanted to use."
   ]
  },
  {
   "cell_type": "code",
   "execution_count": null,
   "id": "37be6ef6-c38b-4b5f-879c-b391af44d607",
   "metadata": {},
   "outputs": [
    {
     "data": {
      "image/png": "[encoded data removed]",
      "text/plain": [
       "<Figure size 640x480 with 1 Axes>"
      ]
     },
     "metadata": {},
     "output_type": "display_data"
    }
   ],
   "source": [
    "plt.errorbar(x2, y2, yerr=y2_err, fmt='k.')\n",
    "plt.plot(x2, best_fit_gauss(x2), 'g-', linewidth=6, label='astropy.modeling')\n",
    "plt.plot(x2, best_fit_gauss_2, 'r-', linewidth=2, label='scipy')\n",
    "plt.xlabel('$x_2$')\n",
    "plt.ylabel('$y_2$')\n",
    "plt.legend()\n",
    "plt.show()"
   ]
  },
  {
   "cell_type": "markdown",
   "id": "a300ee0b-6268-4573-a81f-4fcd782f4912",
   "metadata": {},
   "source": [
    "**Conclusion**: Choose the method most convenient for every case you need to fit. We recomend astropy.modeling because is easier to write the name of the function you want to fit than to remember the expression every time we want to use it. Also, astropy.modeling becomes useful with more complicated models like two gaussians plus a black body, but that is another tutorial."
   ]
  },
  {
   "cell_type": "markdown",
   "id": "2e9e7155-5413-4df6-bcb0-2768e19325ee",
   "metadata": {},
   "source": [
    "## Summary:\n",
    "Let's review the conclusion we got in this tutorial:\n",
    "\n",
    "1. You can fit data with three lines of code:\n",
    "    - model\n",
    "    - fitter\n",
    "    - perform fit to data\n",
    "1. Pay attention when you choose the fitter.\n",
    "1. Choose the method most convenient for every case you need to fit. We recomend astropy.modeling to make quick fits of known functions."
   ]
  },
  {
   "cell_type": "code",
   "execution_count": null,
   "id": "551a2820-867b-459a-87f3-4b08aab02173",
   "metadata": {},
   "outputs": [],
   "source": []
  }
 ],
 "metadata": {
  "kernelspec": {
   "display_name": "python3",
   "language": "python",
   "name": "python3"
  }
 },
 "nbformat": 4,
 "nbformat_minor": 5
}
